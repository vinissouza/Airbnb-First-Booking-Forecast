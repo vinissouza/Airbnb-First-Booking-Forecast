{
 "cells": [
  {
   "cell_type": "markdown",
   "id": "e9da1de2",
   "metadata": {
    "ExecuteTime": {
     "end_time": "2022-02-28T20:43:44.606104Z",
     "start_time": "2022-02-28T20:43:44.598146Z"
    }
   },
   "source": [
    "# 0.0. Imports"
   ]
  },
  {
   "cell_type": "code",
   "execution_count": 62,
   "id": "4a97ff0c",
   "metadata": {
    "ExecuteTime": {
     "end_time": "2022-04-14T13:51:37.125854Z",
     "start_time": "2022-04-14T13:51:37.110855Z"
    }
   },
   "outputs": [],
   "source": [
    "import numpy   as np\n",
    "import pandas  as pd\n",
    "import random\n",
    "import seaborn as sns \n",
    "import warnings\n",
    "\n",
    "from matplotlib import pyplot as plt\n",
    "\n",
    "from scipy      import stats           as ss\n",
    "from sklearn    import model_selection as ms\n",
    "from sklearn    import preprocessing   as pp\n",
    "from sklearn    import metrics         as m\n",
    "from scikitplot import metrics         as mt\n",
    "\n",
    "from sklearn.ensemble import RandomForestClassifier\n",
    "\n",
    "from imblearn import under_sampling as us\n",
    "from imblearn import over_sampling  as osamp\n",
    "from imblearn import combine        as comb\n",
    "\n",
    "from category_encoders import TargetEncoder\n",
    "\n",
    "# from pandas_profiling import ProfileReport\n",
    "\n",
    "from keras import models as ml\n",
    "from keras import layers as l\n",
    "\n",
    "from boruta import BorutaPy\n",
    "\n",
    "warnings.filterwarnings('ignore')"
   ]
  },
  {
   "cell_type": "markdown",
   "id": "58b2f295",
   "metadata": {},
   "source": [
    "## 0.1. Auxiliar Functions"
   ]
  },
  {
   "cell_type": "code",
   "execution_count": 63,
   "id": "c27e09c1",
   "metadata": {
    "ExecuteTime": {
     "end_time": "2022-04-14T13:51:41.298857Z",
     "start_time": "2022-04-14T13:51:41.237854Z"
    }
   },
   "outputs": [],
   "source": [
    "def cross_validation(num_fold, x_train, y_train, model, response_encoder, balance_model=False, verbose=False):\n",
    "    # generate k-fold\n",
    "    num_folds = 5\n",
    "    kfold = ms.StratifiedKFold( n_splits=num_folds, shuffle=True, random_state=32 )\n",
    "\n",
    "    # create empty metrics list\n",
    "    acc_list = []\n",
    "    balanced_acc_list = []\n",
    "    kappa_list = []\n",
    "\n",
    "    # sequence of loop for verbose\n",
    "    i = 1\n",
    "    \n",
    "    # interation to measure performance\n",
    "    for train_index, val_index in kfold.split( x_train, response_encoder.inverse_transform(y_train) ):\n",
    "        if verbose:\n",
    "            print(f'Fold Number:{i}/{num_folds}')\n",
    "\n",
    "        # split data into training and test set\n",
    "        x_train_cv = x_train.iloc[train_index]\n",
    "        y_train_cv = y_train.iloc[train_index]\n",
    "\n",
    "        x_validation_cv = x_train.iloc[val_index]\n",
    "        y_validation_cv = y_train.iloc[val_index]\n",
    "        \n",
    "        # balance of dataset\n",
    "        if balance_model != False:\n",
    "            # resample the dataset\n",
    "            x_train_cv, y_train_cv = balance_model.fit_resample(x_train_cv, response_encoder.inverse_transform(y_train_cv))\n",
    "            \n",
    "            # convert back to encoding representation\n",
    "            y_train_cv = pd.DataFrame(response_encoder.transform(y_train_cv.reshape(-1,1)).toarray(), \n",
    "                                      columns=response_encoder.categories_[0], \n",
    "                                      index=x_train_cv.index)\n",
    "\n",
    "        # train model\n",
    "        model.fit(x_train_cv, y_train_cv, epochs=100, batch_size=32, verbose=0)\n",
    "\n",
    "        # prediction\n",
    "        pred_cv = model.predict(x_validation_cv)\n",
    "\n",
    "        # invert prediction\n",
    "        yhat_cv = response_encoder.inverse_transform(pred_cv)\n",
    "\n",
    "        # invert validation response\n",
    "        y_test_cv = response_encoder.inverse_transform(y_validation_cv)\n",
    "\n",
    "        # performance metrics\n",
    "        # Accuracy\n",
    "        acc_model = m.accuracy_score( y_test_cv, yhat_cv )\n",
    "        acc_list.append(acc_model)\n",
    "        \n",
    "        # Balanced Accuracy\n",
    "        balanced_acc_model = m.balanced_accuracy_score(y_test_cv, yhat_cv)\n",
    "        balanced_acc_list.append(balanced_acc_model)\n",
    "\n",
    "        # Kappa Metrics\n",
    "        kappa_model = m.cohen_kappa_score(y_test_cv, yhat_cv)\n",
    "        kappa_list.append(kappa_model)\n",
    "\n",
    "        i += 1\n",
    "\n",
    "    return acc_list, balanced_acc_list, kappa_list\n",
    "\n",
    "\n",
    "def cramer_v(x, y):\n",
    "    \n",
    "    cm = pd.crosstab(x, y).values\n",
    "    n = cm.sum()\n",
    "    r, k = cm.shape\n",
    "    \n",
    "    rcorr = r - ((r-1)**2)/(n-1)\n",
    "    \n",
    "    kcorr = k - ((k-1)**2)/(n-1)\n",
    "    \n",
    "    chi2 = ss.chi2_contingency(cm)[0]\n",
    "    chi2corr = max(0, chi2 - (k-1)*(r-1)/(n-1))\n",
    "    \n",
    "    return np.sqrt((chi2corr/n)/(min(kcorr-1, rcorr-1)))\n",
    "\n",
    "def cramer_v(x, y):\n",
    "    \n",
    "    cm = pd.crosstab(x, y).values\n",
    "    n = cm.sum()\n",
    "    r, k = cm.shape\n",
    "    \n",
    "    rcorr = r - ((r-1)**2)/(n-1)\n",
    "    \n",
    "    kcorr = k - ((k-1)**2)/(n-1)\n",
    "    \n",
    "    chi2 = ss.chi2_contingency(cm)[0]\n",
    "    chi2corr = max(0, chi2 - (k-1)*(r-1)/(n-1))\n",
    "    \n",
    "    return np.sqrt((chi2corr/n)/(min(kcorr-1, rcorr-1)))"
   ]
  },
  {
   "cell_type": "markdown",
   "id": "04bd4aba",
   "metadata": {},
   "source": [
    "## 0.2. Load Data"
   ]
  },
  {
   "cell_type": "code",
   "execution_count": 64,
   "id": "05c73b56",
   "metadata": {
    "ExecuteTime": {
     "end_time": "2022-04-14T13:52:11.941980Z",
     "start_time": "2022-04-14T13:51:44.238855Z"
    }
   },
   "outputs": [],
   "source": [
    "# load training set of user\n",
    "data_users = pd.read_csv('../Datasets/train_users_2.csv', low_memory=False)\n",
    "\n",
    "# load web sessions log for users\n",
    "data_sessions = pd.read_csv('../Datasets/sessions.csv', low_memory=False)"
   ]
  },
  {
   "cell_type": "markdown",
   "id": "1179dcfc",
   "metadata": {},
   "source": [
    "# 1.0. Data Description"
   ]
  },
  {
   "cell_type": "code",
   "execution_count": 65,
   "id": "a59196b7",
   "metadata": {
    "ExecuteTime": {
     "end_time": "2022-04-14T13:52:19.140645Z",
     "start_time": "2022-04-14T13:52:14.901985Z"
    }
   },
   "outputs": [],
   "source": [
    "df01_users = data_users.copy()\n",
    "\n",
    "df01_sessions = data_sessions.copy()"
   ]
  },
  {
   "cell_type": "markdown",
   "id": "1ccddadb",
   "metadata": {},
   "source": [
    "## 1.1. Data Types"
   ]
  },
  {
   "cell_type": "code",
   "execution_count": 66,
   "id": "fe162f91",
   "metadata": {
    "ExecuteTime": {
     "end_time": "2022-04-14T13:52:32.649977Z",
     "start_time": "2022-04-14T13:52:32.609977Z"
    },
    "cell_style": "split"
   },
   "outputs": [
    {
     "data": {
      "text/plain": [
       "id                          object\n",
       "date_account_created        object\n",
       "timestamp_first_active       int64\n",
       "date_first_booking          object\n",
       "gender                      object\n",
       "age                        float64\n",
       "signup_method               object\n",
       "signup_flow                  int64\n",
       "language                    object\n",
       "affiliate_channel           object\n",
       "affiliate_provider          object\n",
       "first_affiliate_tracked     object\n",
       "signup_app                  object\n",
       "first_device_type           object\n",
       "first_browser               object\n",
       "country_destination         object\n",
       "dtype: object"
      ]
     },
     "execution_count": 66,
     "metadata": {},
     "output_type": "execute_result"
    }
   ],
   "source": [
    "df01_users.dtypes"
   ]
  },
  {
   "cell_type": "code",
   "execution_count": 67,
   "id": "859ee10e",
   "metadata": {
    "ExecuteTime": {
     "end_time": "2022-04-14T13:52:32.681979Z",
     "start_time": "2022-04-14T13:52:32.656990Z"
    },
    "cell_style": "split"
   },
   "outputs": [
    {
     "data": {
      "text/plain": [
       "user_id           object\n",
       "action            object\n",
       "action_type       object\n",
       "action_detail     object\n",
       "device_type       object\n",
       "secs_elapsed     float64\n",
       "dtype: object"
      ]
     },
     "execution_count": 67,
     "metadata": {},
     "output_type": "execute_result"
    }
   ],
   "source": [
    "df01_sessions.dtypes"
   ]
  },
  {
   "cell_type": "markdown",
   "id": "297d0bec",
   "metadata": {
    "cell_style": "center"
   },
   "source": [
    "## 1.2. Data Dimensions"
   ]
  },
  {
   "cell_type": "markdown",
   "id": "c617277e",
   "metadata": {},
   "source": [
    "### 1.2.1. Data Users Dimensions "
   ]
  },
  {
   "cell_type": "code",
   "execution_count": 68,
   "id": "6889bc8e",
   "metadata": {
    "ExecuteTime": {
     "end_time": "2022-04-14T13:52:39.168459Z",
     "start_time": "2022-04-14T13:52:39.144450Z"
    }
   },
   "outputs": [
    {
     "name": "stdout",
     "output_type": "stream",
     "text": [
      "Number of rows of users dataset: 213451\n",
      "Number of columnss of users dataset: 16\n"
     ]
    }
   ],
   "source": [
    "print( f'Number of rows of users dataset: {df01_users.shape[0]}')\n",
    "print( f'Number of columnss of users dataset: {df01_users.shape[1]}')"
   ]
  },
  {
   "cell_type": "markdown",
   "id": "152339da",
   "metadata": {},
   "source": [
    "### 1.2.2. Data Sessions Dimensions\n",
    "\n",
    "This dataset will not be used in this first cycle due to the granularity being action and we want to be user_id for now."
   ]
  },
  {
   "cell_type": "code",
   "execution_count": 69,
   "id": "c1459d2d",
   "metadata": {
    "ExecuteTime": {
     "end_time": "2022-04-14T13:52:42.136790Z",
     "start_time": "2022-04-14T13:52:42.109785Z"
    }
   },
   "outputs": [
    {
     "name": "stdout",
     "output_type": "stream",
     "text": [
      "Number of rows of sessions dataset: 10567737\n",
      "Number of columnss of session dataset: 6\n"
     ]
    }
   ],
   "source": [
    "print( f'Number of rows of sessions dataset: {df01_sessions.shape[0]}')\n",
    "print( f'Number of columnss of session dataset: {df01_sessions.shape[1]}')"
   ]
  },
  {
   "cell_type": "markdown",
   "id": "5ed2d4e7",
   "metadata": {},
   "source": [
    "## 1.3. Check NA"
   ]
  },
  {
   "cell_type": "markdown",
   "id": "3b2018f1",
   "metadata": {},
   "source": [
    "### 1.3.1. Check NA - Data Users"
   ]
  },
  {
   "cell_type": "code",
   "execution_count": 70,
   "id": "49097f87",
   "metadata": {
    "ExecuteTime": {
     "end_time": "2022-04-14T13:52:45.205139Z",
     "start_time": "2022-04-14T13:52:45.048784Z"
    },
    "cell_style": "split"
   },
   "outputs": [
    {
     "data": {
      "text/plain": [
       "id                              0\n",
       "date_account_created            0\n",
       "timestamp_first_active          0\n",
       "date_first_booking         124543\n",
       "gender                          0\n",
       "age                         87990\n",
       "signup_method                   0\n",
       "signup_flow                     0\n",
       "language                        0\n",
       "affiliate_channel               0\n",
       "affiliate_provider              0\n",
       "first_affiliate_tracked      6065\n",
       "signup_app                      0\n",
       "first_device_type               0\n",
       "first_browser                   0\n",
       "country_destination             0\n",
       "dtype: int64"
      ]
     },
     "execution_count": 70,
     "metadata": {},
     "output_type": "execute_result"
    }
   ],
   "source": [
    "df01_users.isna().sum()"
   ]
  },
  {
   "cell_type": "code",
   "execution_count": 71,
   "id": "c559b15b",
   "metadata": {
    "ExecuteTime": {
     "end_time": "2022-04-14T13:52:45.364146Z",
     "start_time": "2022-04-14T13:52:45.209146Z"
    },
    "cell_style": "split"
   },
   "outputs": [
    {
     "data": {
      "text/plain": [
       "id                         0.000000\n",
       "date_account_created       0.000000\n",
       "timestamp_first_active     0.000000\n",
       "date_first_booking         0.583473\n",
       "gender                     0.000000\n",
       "age                        0.412226\n",
       "signup_method              0.000000\n",
       "signup_flow                0.000000\n",
       "language                   0.000000\n",
       "affiliate_channel          0.000000\n",
       "affiliate_provider         0.000000\n",
       "first_affiliate_tracked    0.028414\n",
       "signup_app                 0.000000\n",
       "first_device_type          0.000000\n",
       "first_browser              0.000000\n",
       "country_destination        0.000000\n",
       "dtype: float64"
      ]
     },
     "execution_count": 71,
     "metadata": {},
     "output_type": "execute_result"
    }
   ],
   "source": [
    "df01_users.isna().sum()/df01_users.shape[0]"
   ]
  },
  {
   "cell_type": "markdown",
   "id": "2176ca0f",
   "metadata": {},
   "source": [
    "### 1.3.2. Check NA - Data Sessions"
   ]
  },
  {
   "cell_type": "code",
   "execution_count": 72,
   "id": "09c5347b",
   "metadata": {
    "ExecuteTime": {
     "end_time": "2022-04-14T13:52:54.172995Z",
     "start_time": "2022-04-14T13:52:50.829995Z"
    },
    "cell_style": "split"
   },
   "outputs": [
    {
     "data": {
      "text/plain": [
       "user_id            34496\n",
       "action             79626\n",
       "action_type      1126204\n",
       "action_detail    1126204\n",
       "device_type            0\n",
       "secs_elapsed      136031\n",
       "dtype: int64"
      ]
     },
     "execution_count": 72,
     "metadata": {},
     "output_type": "execute_result"
    }
   ],
   "source": [
    "df01_sessions.isna().sum()"
   ]
  },
  {
   "cell_type": "code",
   "execution_count": 73,
   "id": "55751da3",
   "metadata": {
    "ExecuteTime": {
     "end_time": "2022-04-14T13:52:59.095996Z",
     "start_time": "2022-04-14T13:52:56.566011Z"
    },
    "cell_style": "split"
   },
   "outputs": [
    {
     "data": {
      "text/plain": [
       "user_id          0.003264\n",
       "action           0.007535\n",
       "action_type      0.106570\n",
       "action_detail    0.106570\n",
       "device_type      0.000000\n",
       "secs_elapsed     0.012872\n",
       "dtype: float64"
      ]
     },
     "execution_count": 73,
     "metadata": {},
     "output_type": "execute_result"
    }
   ],
   "source": [
    "df01_sessions.isna().sum()/df01_sessions.shape[0]"
   ]
  },
  {
   "cell_type": "markdown",
   "id": "bd581316",
   "metadata": {},
   "source": [
    "## 1.4. Fillout NA"
   ]
  },
  {
   "cell_type": "markdown",
   "id": "02d2f026",
   "metadata": {},
   "source": [
    "### 1.4.1. Fillout NA - Data Users\n",
    "\n",
    "- **date_first_booking:** the maximum date of the dataset is chosen due to future features considered the space between dates.\n",
    "\n",
    "- **age:** variable age has a normal distribution, so replacing it with with a mean value will not bias the dataset.\n",
    "\n",
    "- **first_affiliate_tracked:** due to the high probability of bias the dataset with categorical data substitution and the low amount of NA datas in this variable, the NA lines will be dropped."
   ]
  },
  {
   "cell_type": "code",
   "execution_count": 74,
   "id": "17027a20",
   "metadata": {
    "ExecuteTime": {
     "end_time": "2022-04-14T13:53:03.387023Z",
     "start_time": "2022-04-14T13:53:03.200994Z"
    }
   },
   "outputs": [],
   "source": [
    "# date_first_booking\n",
    "max_date_first_booking = pd.to_datetime(df01_users['date_first_booking']).max().strftime('%Y-%m-%d')\n",
    "df01_users['date_first_booking'] = df01_users['date_first_booking'].fillna(max_date_first_booking)\n",
    "\n",
    "# age\n",
    "avg_age = int(df01_users['age'].mean())\n",
    "df01_users['age'] = df01_users['age'].fillna(avg_age)\n",
    "\n",
    "# first_affiliate_tracked\n",
    "df01_users = df01_users[~df01_users['first_affiliate_tracked'].isna()]"
   ]
  },
  {
   "cell_type": "code",
   "execution_count": 75,
   "id": "1e6bc1db",
   "metadata": {
    "ExecuteTime": {
     "end_time": "2022-04-14T13:53:06.653988Z",
     "start_time": "2022-04-14T13:53:06.497997Z"
    }
   },
   "outputs": [
    {
     "data": {
      "text/plain": [
       "id                         0.0\n",
       "date_account_created       0.0\n",
       "timestamp_first_active     0.0\n",
       "date_first_booking         0.0\n",
       "gender                     0.0\n",
       "age                        0.0\n",
       "signup_method              0.0\n",
       "signup_flow                0.0\n",
       "language                   0.0\n",
       "affiliate_channel          0.0\n",
       "affiliate_provider         0.0\n",
       "first_affiliate_tracked    0.0\n",
       "signup_app                 0.0\n",
       "first_device_type          0.0\n",
       "first_browser              0.0\n",
       "country_destination        0.0\n",
       "dtype: float64"
      ]
     },
     "execution_count": 75,
     "metadata": {},
     "output_type": "execute_result"
    }
   ],
   "source": [
    "df01_users.isna().sum()/df01_users.shape[0]"
   ]
  },
  {
   "cell_type": "markdown",
   "id": "8375bdfd",
   "metadata": {},
   "source": [
    "### 1.4.2. Fillout NA - Data Sessions\n",
    "\n",
    "Due to a massise amount of data, all NA lines will be dropped."
   ]
  },
  {
   "cell_type": "code",
   "execution_count": 76,
   "id": "97e5f525",
   "metadata": {
    "ExecuteTime": {
     "end_time": "2022-04-14T13:53:17.006980Z",
     "start_time": "2022-04-14T13:53:10.246119Z"
    }
   },
   "outputs": [],
   "source": [
    "# user_id  - 0.003264\n",
    "df01_sessions = df01_sessions[~df01_sessions['user_id'].isna()]\n",
    "\n",
    "# action - 0.007535\n",
    "df01_sessions = df01_sessions[~df01_sessions['action'].isna()]\n",
    "\n",
    "# action_type - 0.106570\n",
    "df01_sessions = df01_sessions[~df01_sessions['action_type'].isna()]\n",
    "\n",
    "# action_detail - 0.106570\n",
    "df01_sessions = df01_sessions[~df01_sessions['action_detail'].isna()]\n",
    "\n",
    "# secs_elapsed - 0.012872\n",
    "df01_sessions = df01_sessions[~df01_sessions['secs_elapsed'].isna()]"
   ]
  },
  {
   "cell_type": "code",
   "execution_count": 77,
   "id": "1b4ae28d",
   "metadata": {
    "ExecuteTime": {
     "end_time": "2022-04-14T13:53:21.850982Z",
     "start_time": "2022-04-14T13:53:19.649982Z"
    }
   },
   "outputs": [
    {
     "data": {
      "text/plain": [
       "user_id          0.0\n",
       "action           0.0\n",
       "action_type      0.0\n",
       "action_detail    0.0\n",
       "device_type      0.0\n",
       "secs_elapsed     0.0\n",
       "dtype: float64"
      ]
     },
     "execution_count": 77,
     "metadata": {},
     "output_type": "execute_result"
    }
   ],
   "source": [
    "df01_sessions.isna().sum()/df01_sessions.shape[0]"
   ]
  },
  {
   "cell_type": "markdown",
   "id": "7076ae4e",
   "metadata": {},
   "source": [
    "## 1.5. Change Data Type"
   ]
  },
  {
   "cell_type": "code",
   "execution_count": 78,
   "id": "793c65b7",
   "metadata": {
    "ExecuteTime": {
     "end_time": "2022-04-14T13:53:24.515672Z",
     "start_time": "2022-04-14T13:53:24.413685Z"
    }
   },
   "outputs": [
    {
     "data": {
      "text/html": [
       "<div>\n",
       "<style scoped>\n",
       "    .dataframe tbody tr th:only-of-type {\n",
       "        vertical-align: middle;\n",
       "    }\n",
       "\n",
       "    .dataframe tbody tr th {\n",
       "        vertical-align: top;\n",
       "    }\n",
       "\n",
       "    .dataframe thead th {\n",
       "        text-align: right;\n",
       "    }\n",
       "</style>\n",
       "<table border=\"1\" class=\"dataframe\">\n",
       "  <thead>\n",
       "    <tr style=\"text-align: right;\">\n",
       "      <th></th>\n",
       "      <th>id</th>\n",
       "      <th>date_account_created</th>\n",
       "      <th>timestamp_first_active</th>\n",
       "      <th>date_first_booking</th>\n",
       "      <th>gender</th>\n",
       "      <th>age</th>\n",
       "      <th>signup_method</th>\n",
       "      <th>signup_flow</th>\n",
       "      <th>language</th>\n",
       "      <th>affiliate_channel</th>\n",
       "      <th>affiliate_provider</th>\n",
       "      <th>first_affiliate_tracked</th>\n",
       "      <th>signup_app</th>\n",
       "      <th>first_device_type</th>\n",
       "      <th>first_browser</th>\n",
       "      <th>country_destination</th>\n",
       "    </tr>\n",
       "  </thead>\n",
       "  <tbody>\n",
       "    <tr>\n",
       "      <th>56760</th>\n",
       "      <td>s4i69r983i</td>\n",
       "      <td>2013-01-20</td>\n",
       "      <td>20130120130923</td>\n",
       "      <td>2015-06-29</td>\n",
       "      <td>-unknown-</td>\n",
       "      <td>49.0</td>\n",
       "      <td>basic</td>\n",
       "      <td>0</td>\n",
       "      <td>en</td>\n",
       "      <td>direct</td>\n",
       "      <td>direct</td>\n",
       "      <td>untracked</td>\n",
       "      <td>Web</td>\n",
       "      <td>Windows Desktop</td>\n",
       "      <td>Firefox</td>\n",
       "      <td>NDF</td>\n",
       "    </tr>\n",
       "  </tbody>\n",
       "</table>\n",
       "</div>"
      ],
      "text/plain": [
       "               id date_account_created  timestamp_first_active  \\\n",
       "56760  s4i69r983i           2013-01-20          20130120130923   \n",
       "\n",
       "      date_first_booking     gender   age signup_method  signup_flow language  \\\n",
       "56760         2015-06-29  -unknown-  49.0         basic            0       en   \n",
       "\n",
       "      affiliate_channel affiliate_provider first_affiliate_tracked signup_app  \\\n",
       "56760            direct             direct               untracked        Web   \n",
       "\n",
       "      first_device_type first_browser country_destination  \n",
       "56760   Windows Desktop       Firefox                 NDF  "
      ]
     },
     "execution_count": 78,
     "metadata": {},
     "output_type": "execute_result"
    }
   ],
   "source": [
    "df01_users.sample(1)"
   ]
  },
  {
   "cell_type": "code",
   "execution_count": 79,
   "id": "d76d383f",
   "metadata": {
    "ExecuteTime": {
     "end_time": "2022-04-14T13:53:26.180563Z",
     "start_time": "2022-04-14T13:53:24.522678Z"
    }
   },
   "outputs": [],
   "source": [
    "# change date type\n",
    "df01_users['date_account_created'] = pd.to_datetime(df01_users['date_account_created'])\n",
    "df01_users['date_first_booking'] = pd.to_datetime(df01_users['date_first_booking'])\n",
    "\n",
    "# change datetime type\n",
    "df01_users['timestamp_first_active'] = pd.to_datetime(df01_users['timestamp_first_active'], format='%Y%m%d%H%M%S')\n",
    "\n",
    "# change age to int\n",
    "df01_users['age'] = df01_users['age'].astype(np.int64)"
   ]
  },
  {
   "cell_type": "code",
   "execution_count": 80,
   "id": "505514d3",
   "metadata": {
    "ExecuteTime": {
     "end_time": "2022-04-14T13:53:26.275564Z",
     "start_time": "2022-04-14T13:53:26.188568Z"
    }
   },
   "outputs": [
    {
     "data": {
      "text/html": [
       "<div>\n",
       "<style scoped>\n",
       "    .dataframe tbody tr th:only-of-type {\n",
       "        vertical-align: middle;\n",
       "    }\n",
       "\n",
       "    .dataframe tbody tr th {\n",
       "        vertical-align: top;\n",
       "    }\n",
       "\n",
       "    .dataframe thead th {\n",
       "        text-align: right;\n",
       "    }\n",
       "</style>\n",
       "<table border=\"1\" class=\"dataframe\">\n",
       "  <thead>\n",
       "    <tr style=\"text-align: right;\">\n",
       "      <th></th>\n",
       "      <th>id</th>\n",
       "      <th>date_account_created</th>\n",
       "      <th>timestamp_first_active</th>\n",
       "      <th>date_first_booking</th>\n",
       "      <th>gender</th>\n",
       "      <th>age</th>\n",
       "      <th>signup_method</th>\n",
       "      <th>signup_flow</th>\n",
       "      <th>language</th>\n",
       "      <th>affiliate_channel</th>\n",
       "      <th>affiliate_provider</th>\n",
       "      <th>first_affiliate_tracked</th>\n",
       "      <th>signup_app</th>\n",
       "      <th>first_device_type</th>\n",
       "      <th>first_browser</th>\n",
       "      <th>country_destination</th>\n",
       "    </tr>\n",
       "  </thead>\n",
       "  <tbody>\n",
       "    <tr>\n",
       "      <th>193188</th>\n",
       "      <td>c3ajepxkxk</td>\n",
       "      <td>2014-05-22</td>\n",
       "      <td>2014-05-22 02:22:41</td>\n",
       "      <td>2015-06-29</td>\n",
       "      <td>FEMALE</td>\n",
       "      <td>29</td>\n",
       "      <td>facebook</td>\n",
       "      <td>25</td>\n",
       "      <td>en</td>\n",
       "      <td>direct</td>\n",
       "      <td>direct</td>\n",
       "      <td>untracked</td>\n",
       "      <td>iOS</td>\n",
       "      <td>iPhone</td>\n",
       "      <td>-unknown-</td>\n",
       "      <td>NDF</td>\n",
       "    </tr>\n",
       "  </tbody>\n",
       "</table>\n",
       "</div>"
      ],
      "text/plain": [
       "                id date_account_created timestamp_first_active  \\\n",
       "193188  c3ajepxkxk           2014-05-22    2014-05-22 02:22:41   \n",
       "\n",
       "       date_first_booking  gender  age signup_method  signup_flow language  \\\n",
       "193188         2015-06-29  FEMALE   29      facebook           25       en   \n",
       "\n",
       "       affiliate_channel affiliate_provider first_affiliate_tracked  \\\n",
       "193188            direct             direct               untracked   \n",
       "\n",
       "       signup_app first_device_type first_browser country_destination  \n",
       "193188        iOS            iPhone     -unknown-                 NDF  "
      ]
     },
     "execution_count": 80,
     "metadata": {},
     "output_type": "execute_result"
    }
   ],
   "source": [
    "df01_users.sample(1)"
   ]
  },
  {
   "cell_type": "code",
   "execution_count": 81,
   "id": "e7b73c50",
   "metadata": {
    "ExecuteTime": {
     "end_time": "2022-04-14T13:53:26.307577Z",
     "start_time": "2022-04-14T13:53:26.279572Z"
    }
   },
   "outputs": [
    {
     "data": {
      "text/plain": [
       "id                                 object\n",
       "date_account_created       datetime64[ns]\n",
       "timestamp_first_active     datetime64[ns]\n",
       "date_first_booking         datetime64[ns]\n",
       "gender                             object\n",
       "age                                 int64\n",
       "signup_method                      object\n",
       "signup_flow                         int64\n",
       "language                           object\n",
       "affiliate_channel                  object\n",
       "affiliate_provider                 object\n",
       "first_affiliate_tracked            object\n",
       "signup_app                         object\n",
       "first_device_type                  object\n",
       "first_browser                      object\n",
       "country_destination                object\n",
       "dtype: object"
      ]
     },
     "execution_count": 81,
     "metadata": {},
     "output_type": "execute_result"
    }
   ],
   "source": [
    "df01_users.dtypes"
   ]
  },
  {
   "cell_type": "markdown",
   "id": "b4774540",
   "metadata": {},
   "source": [
    "## 1.6. Check Balanced Data\n",
    "\n",
    "Data with an unbalance of 57% for the NDF class and 30% for the US class."
   ]
  },
  {
   "cell_type": "code",
   "execution_count": 82,
   "id": "8f5cdc46",
   "metadata": {
    "ExecuteTime": {
     "end_time": "2022-04-14T13:53:38.767126Z",
     "start_time": "2022-04-14T13:53:38.707117Z"
    }
   },
   "outputs": [
    {
     "data": {
      "text/plain": [
       "NDF      0.579673\n",
       "US       0.294461\n",
       "other    0.048128\n",
       "FR       0.023623\n",
       "IT       0.013458\n",
       "GB       0.011066\n",
       "ES       0.010671\n",
       "CA       0.006707\n",
       "DE       0.005020\n",
       "NL       0.003621\n",
       "AU       0.002541\n",
       "PT       0.001032\n",
       "Name: country_destination, dtype: float64"
      ]
     },
     "execution_count": 82,
     "metadata": {},
     "output_type": "execute_result"
    }
   ],
   "source": [
    "df01_users['country_destination'].value_counts(normalize=True)"
   ]
  },
  {
   "cell_type": "markdown",
   "id": "9e2a67ae",
   "metadata": {},
   "source": [
    "## 1.7. Descriptive Analysis"
   ]
  },
  {
   "cell_type": "code",
   "execution_count": 83,
   "id": "8f66c9c6",
   "metadata": {
    "ExecuteTime": {
     "end_time": "2022-04-14T13:53:43.979121Z",
     "start_time": "2022-04-14T13:53:42.013120Z"
    }
   },
   "outputs": [],
   "source": [
    "# split data users in types dataframes\n",
    "num_attributes_users = df01_users.select_dtypes(include=['int64', 'float64'])\n",
    "cat_attributes_users = df01_users.select_dtypes(exclude=['int64', 'float64', 'datetime64[ns]'])\n",
    "time_attributes_users = df01_users.select_dtypes(include=['datetime64[ns]'])\n",
    "\n",
    "# split data sessions in types dataframes\n",
    "num_attributes_sessions = df01_sessions.select_dtypes(include=['int64', 'float64'])\n",
    "cat_attributes_sessions = df01_sessions.select_dtypes(exclude=['int64', 'float64', 'datetime64[ns]'])\n",
    "time_attributes_sessions = df01_sessions.select_dtypes(include=['datetime64[ns]'])"
   ]
  },
  {
   "cell_type": "markdown",
   "id": "4eb6a6b6",
   "metadata": {},
   "source": [
    "### 1.7.1. Numerical - Data Users"
   ]
  },
  {
   "cell_type": "code",
   "execution_count": 84,
   "id": "ba4046ec",
   "metadata": {
    "ExecuteTime": {
     "end_time": "2022-04-14T13:53:48.602650Z",
     "start_time": "2022-04-14T13:53:48.404651Z"
    }
   },
   "outputs": [
    {
     "data": {
      "text/html": [
       "<div>\n",
       "<style scoped>\n",
       "    .dataframe tbody tr th:only-of-type {\n",
       "        vertical-align: middle;\n",
       "    }\n",
       "\n",
       "    .dataframe tbody tr th {\n",
       "        vertical-align: top;\n",
       "    }\n",
       "\n",
       "    .dataframe thead th {\n",
       "        text-align: right;\n",
       "    }\n",
       "</style>\n",
       "<table border=\"1\" class=\"dataframe\">\n",
       "  <thead>\n",
       "    <tr style=\"text-align: right;\">\n",
       "      <th></th>\n",
       "      <th>attributes</th>\n",
       "      <th>max</th>\n",
       "      <th>min</th>\n",
       "      <th>range</th>\n",
       "      <th>mean</th>\n",
       "      <th>median</th>\n",
       "      <th>std</th>\n",
       "      <th>skew</th>\n",
       "      <th>kurtosis</th>\n",
       "    </tr>\n",
       "  </thead>\n",
       "  <tbody>\n",
       "    <tr>\n",
       "      <th>0</th>\n",
       "      <td>age</td>\n",
       "      <td>2014</td>\n",
       "      <td>1</td>\n",
       "      <td>2013</td>\n",
       "      <td>49.183142</td>\n",
       "      <td>49.0</td>\n",
       "      <td>118.421689</td>\n",
       "      <td>16.333820</td>\n",
       "      <td>267.655434</td>\n",
       "    </tr>\n",
       "    <tr>\n",
       "      <th>1</th>\n",
       "      <td>signup_flow</td>\n",
       "      <td>25</td>\n",
       "      <td>0</td>\n",
       "      <td>25</td>\n",
       "      <td>3.151490</td>\n",
       "      <td>0.0</td>\n",
       "      <td>7.543915</td>\n",
       "      <td>2.287158</td>\n",
       "      <td>3.567794</td>\n",
       "    </tr>\n",
       "  </tbody>\n",
       "</table>\n",
       "</div>"
      ],
      "text/plain": [
       "    attributes   max  min  range       mean  median         std       skew  \\\n",
       "0          age  2014    1   2013  49.183142    49.0  118.421689  16.333820   \n",
       "1  signup_flow    25    0     25   3.151490     0.0    7.543915   2.287158   \n",
       "\n",
       "     kurtosis  \n",
       "0  267.655434  \n",
       "1    3.567794  "
      ]
     },
     "execution_count": 84,
     "metadata": {},
     "output_type": "execute_result"
    }
   ],
   "source": [
    "# tendency central - mean and median\n",
    "mean_users = pd.DataFrame(num_attributes_users.apply(lambda x: np.mean(x)))\n",
    "median_users = pd.DataFrame(num_attributes_users.apply(lambda x: np.median(x)))\n",
    "\n",
    "# dispersions - max, min, range, std, skew and kurtosis\n",
    "max_users = pd.DataFrame(num_attributes_users.apply(lambda x: x.max()))\n",
    "min_users = pd.DataFrame(num_attributes_users.apply(lambda x: x.min()))\n",
    "range_users = pd.DataFrame(num_attributes_users.apply(lambda x: x.max() - x.min()))\n",
    "std_users = pd.DataFrame(num_attributes_users.apply(lambda x: np.std(x)))\n",
    "skew_users = pd.DataFrame(num_attributes_users.apply(lambda x: x.skew()))\n",
    "kurtosis_users = pd.DataFrame(num_attributes_users.apply(lambda x: x.kurtosis()))\n",
    "\n",
    "# join tendency central and dispersion dataframe\n",
    "num_stats_users = pd.concat([max_users, min_users, range_users, mean_users, \n",
    "                             median_users, std_users, skew_users, kurtosis_users], axis=1).reset_index()\n",
    "num_stats_users.columns = ['attributes', 'max', 'min', 'range', 'mean', 'median', 'std', 'skew', 'kurtosis']\n",
    "\n",
    "num_stats_users"
   ]
  },
  {
   "cell_type": "markdown",
   "id": "956e8434",
   "metadata": {},
   "source": [
    "### 1.7.2. Numerical - Data Sessions"
   ]
  },
  {
   "cell_type": "code",
   "execution_count": 85,
   "id": "3c46dd63",
   "metadata": {
    "ExecuteTime": {
     "end_time": "2022-04-14T13:53:53.833189Z",
     "start_time": "2022-04-14T13:53:52.438190Z"
    }
   },
   "outputs": [
    {
     "data": {
      "text/html": [
       "<div>\n",
       "<style scoped>\n",
       "    .dataframe tbody tr th:only-of-type {\n",
       "        vertical-align: middle;\n",
       "    }\n",
       "\n",
       "    .dataframe tbody tr th {\n",
       "        vertical-align: top;\n",
       "    }\n",
       "\n",
       "    .dataframe thead th {\n",
       "        text-align: right;\n",
       "    }\n",
       "</style>\n",
       "<table border=\"1\" class=\"dataframe\">\n",
       "  <thead>\n",
       "    <tr style=\"text-align: right;\">\n",
       "      <th></th>\n",
       "      <th>attributes</th>\n",
       "      <th>max</th>\n",
       "      <th>min</th>\n",
       "      <th>range</th>\n",
       "      <th>mean</th>\n",
       "      <th>median</th>\n",
       "      <th>std</th>\n",
       "      <th>skew</th>\n",
       "      <th>kurtosis</th>\n",
       "    </tr>\n",
       "  </thead>\n",
       "  <tbody>\n",
       "    <tr>\n",
       "      <th>0</th>\n",
       "      <td>secs_elapsed</td>\n",
       "      <td>1799977.0</td>\n",
       "      <td>0.0</td>\n",
       "      <td>1799977.0</td>\n",
       "      <td>19961.8251</td>\n",
       "      <td>1369.0</td>\n",
       "      <td>88849.388449</td>\n",
       "      <td>11.137761</td>\n",
       "      <td>154.84312</td>\n",
       "    </tr>\n",
       "  </tbody>\n",
       "</table>\n",
       "</div>"
      ],
      "text/plain": [
       "     attributes        max  min      range        mean  median           std  \\\n",
       "0  secs_elapsed  1799977.0  0.0  1799977.0  19961.8251  1369.0  88849.388449   \n",
       "\n",
       "        skew   kurtosis  \n",
       "0  11.137761  154.84312  "
      ]
     },
     "execution_count": 85,
     "metadata": {},
     "output_type": "execute_result"
    }
   ],
   "source": [
    "# tendency central - mean and median\n",
    "mean_sessions = pd.DataFrame(num_attributes_sessions.apply(lambda x: np.mean(x)))\n",
    "median_sessions = pd.DataFrame(num_attributes_sessions.apply(lambda x: np.median(x)))\n",
    "\n",
    "# dispersions - max, min, range, std, skew and kurtosis\n",
    "max_sessions = pd.DataFrame(num_attributes_sessions.apply(lambda x: x.max()))\n",
    "min_sessions = pd.DataFrame(num_attributes_sessions.apply(lambda x: x.min()))\n",
    "range_sessions = pd.DataFrame(num_attributes_sessions.apply(lambda x: x.max() - x.min()))\n",
    "std_sessions = pd.DataFrame(num_attributes_sessions.apply(lambda x: np.std(x)))\n",
    "skew_sessions = pd.DataFrame(num_attributes_sessions.apply(lambda x: x.skew()))\n",
    "kurtosis_sessions = pd.DataFrame(num_attributes_sessions.apply(lambda x: x.kurtosis()))\n",
    "\n",
    "# join tendency central and dispersion dataframe\n",
    "num_stats_sessions = pd.concat([max_sessions, min_sessions, range_sessions, mean_sessions, \n",
    "                             median_sessions, std_sessions, skew_sessions, kurtosis_sessions], axis=1).reset_index()\n",
    "num_stats_sessions.columns = ['attributes', 'max', 'min', 'range', 'mean', 'median', 'std', 'skew', 'kurtosis']\n",
    "\n",
    "num_stats_sessions"
   ]
  },
  {
   "cell_type": "markdown",
   "id": "ce2d77df",
   "metadata": {},
   "source": [
    "### 1.7.3. Categorical - Data Users"
   ]
  },
  {
   "cell_type": "code",
   "execution_count": 86,
   "id": "a475bb0a",
   "metadata": {
    "ExecuteTime": {
     "end_time": "2022-04-14T13:53:58.621172Z",
     "start_time": "2022-04-14T13:53:58.116171Z"
    }
   },
   "outputs": [
    {
     "data": {
      "text/html": [
       "<div>\n",
       "<style scoped>\n",
       "    .dataframe tbody tr th:only-of-type {\n",
       "        vertical-align: middle;\n",
       "    }\n",
       "\n",
       "    .dataframe tbody tr th {\n",
       "        vertical-align: top;\n",
       "    }\n",
       "\n",
       "    .dataframe thead th {\n",
       "        text-align: right;\n",
       "    }\n",
       "</style>\n",
       "<table border=\"1\" class=\"dataframe\">\n",
       "  <thead>\n",
       "    <tr style=\"text-align: right;\">\n",
       "      <th></th>\n",
       "      <th>gender</th>\n",
       "      <th>signup_method</th>\n",
       "      <th>language</th>\n",
       "      <th>affiliate_channel</th>\n",
       "      <th>affiliate_provider</th>\n",
       "      <th>first_affiliate_tracked</th>\n",
       "      <th>signup_app</th>\n",
       "      <th>first_device_type</th>\n",
       "      <th>first_browser</th>\n",
       "      <th>country_destination</th>\n",
       "    </tr>\n",
       "  </thead>\n",
       "  <tbody>\n",
       "    <tr>\n",
       "      <th>count</th>\n",
       "      <td>207386</td>\n",
       "      <td>207386</td>\n",
       "      <td>207386</td>\n",
       "      <td>207386</td>\n",
       "      <td>207386</td>\n",
       "      <td>207386</td>\n",
       "      <td>207386</td>\n",
       "      <td>207386</td>\n",
       "      <td>207386</td>\n",
       "      <td>207386</td>\n",
       "    </tr>\n",
       "    <tr>\n",
       "      <th>unique</th>\n",
       "      <td>4</td>\n",
       "      <td>3</td>\n",
       "      <td>25</td>\n",
       "      <td>8</td>\n",
       "      <td>18</td>\n",
       "      <td>7</td>\n",
       "      <td>4</td>\n",
       "      <td>9</td>\n",
       "      <td>52</td>\n",
       "      <td>12</td>\n",
       "    </tr>\n",
       "    <tr>\n",
       "      <th>top</th>\n",
       "      <td>-unknown-</td>\n",
       "      <td>basic</td>\n",
       "      <td>en</td>\n",
       "      <td>direct</td>\n",
       "      <td>direct</td>\n",
       "      <td>untracked</td>\n",
       "      <td>Web</td>\n",
       "      <td>Mac Desktop</td>\n",
       "      <td>Chrome</td>\n",
       "      <td>NDF</td>\n",
       "    </tr>\n",
       "    <tr>\n",
       "      <th>freq</th>\n",
       "      <td>91783</td>\n",
       "      <td>148297</td>\n",
       "      <td>200415</td>\n",
       "      <td>134179</td>\n",
       "      <td>133935</td>\n",
       "      <td>109232</td>\n",
       "      <td>178334</td>\n",
       "      <td>89600</td>\n",
       "      <td>63845</td>\n",
       "      <td>120216</td>\n",
       "    </tr>\n",
       "  </tbody>\n",
       "</table>\n",
       "</div>"
      ],
      "text/plain": [
       "           gender signup_method language affiliate_channel affiliate_provider  \\\n",
       "count      207386        207386   207386            207386             207386   \n",
       "unique          4             3       25                 8                 18   \n",
       "top     -unknown-         basic       en            direct             direct   \n",
       "freq        91783        148297   200415            134179             133935   \n",
       "\n",
       "       first_affiliate_tracked signup_app first_device_type first_browser  \\\n",
       "count                   207386     207386            207386        207386   \n",
       "unique                       7          4                 9            52   \n",
       "top                  untracked        Web       Mac Desktop        Chrome   \n",
       "freq                    109232     178334             89600         63845   \n",
       "\n",
       "       country_destination  \n",
       "count               207386  \n",
       "unique                  12  \n",
       "top                    NDF  \n",
       "freq                120216  "
      ]
     },
     "execution_count": 86,
     "metadata": {},
     "output_type": "execute_result"
    }
   ],
   "source": [
    "cat_attributes_users.drop('id', axis=1).describe()"
   ]
  },
  {
   "cell_type": "markdown",
   "id": "89a04077",
   "metadata": {},
   "source": [
    "#### 1.7.3.1. Correlation Matrix"
   ]
  },
  {
   "cell_type": "code",
   "execution_count": 87,
   "id": "7d49a42d",
   "metadata": {
    "ExecuteTime": {
     "end_time": "2022-04-14T13:54:43.112704Z",
     "start_time": "2022-04-14T13:54:13.948404Z"
    }
   },
   "outputs": [
    {
     "data": {
      "image/png": "[encoded data removed]",
      "text/plain": [
       "<Figure size 432x288 with 2 Axes>"
      ]
     },
     "metadata": {
      "needs_background": "light"
     },
     "output_type": "display_data"
    }
   ],
   "source": [
    "cat_attributes_users_columns = cat_attributes_users.drop('id', axis=1).columns.tolist()\n",
    "\n",
    "corr_dict = {}\n",
    "\n",
    "for main_column in cat_attributes_users_columns:\n",
    "    corr_list = []\n",
    "    \n",
    "    for secondary_column in cat_attributes_users_columns:\n",
    "        # cramer v\n",
    "        cat_corr = cramer_v( cat_attributes_users[main_column], cat_attributes_users[secondary_column] )\n",
    "        \n",
    "        # add to list\n",
    "        corr_list.append(cat_corr)\n",
    "    \n",
    "    # add to dict each attribute correlation \n",
    "    corr_dict[main_column] = corr_list\n",
    "\n",
    "df_corr_users = pd.DataFrame(corr_dict)\n",
    "df_corr_users = df_corr_users.set_index(df_corr_users.columns)\n",
    "sns.heatmap(df_corr_users, annot=True);"
   ]
  },
  {
   "cell_type": "markdown",
   "id": "ef0bfe3a",
   "metadata": {
    "ExecuteTime": {
     "end_time": "2022-03-02T14:41:15.919764Z",
     "start_time": "2022-03-02T14:41:15.909769Z"
    }
   },
   "source": [
    "### 1.7.4. Categorical - Data Sessions"
   ]
  },
  {
   "cell_type": "code",
   "execution_count": 88,
   "id": "cb30c4f7",
   "metadata": {
    "ExecuteTime": {
     "end_time": "2022-04-14T13:54:54.965777Z",
     "start_time": "2022-04-14T13:54:46.926230Z"
    },
    "scrolled": false
   },
   "outputs": [
    {
     "data": {
      "text/html": [
       "<div>\n",
       "<style scoped>\n",
       "    .dataframe tbody tr th:only-of-type {\n",
       "        vertical-align: middle;\n",
       "    }\n",
       "\n",
       "    .dataframe tbody tr th {\n",
       "        vertical-align: top;\n",
       "    }\n",
       "\n",
       "    .dataframe thead th {\n",
       "        text-align: right;\n",
       "    }\n",
       "</style>\n",
       "<table border=\"1\" class=\"dataframe\">\n",
       "  <thead>\n",
       "    <tr style=\"text-align: right;\">\n",
       "      <th></th>\n",
       "      <th>action</th>\n",
       "      <th>action_type</th>\n",
       "      <th>action_detail</th>\n",
       "      <th>device_type</th>\n",
       "    </tr>\n",
       "  </thead>\n",
       "  <tbody>\n",
       "    <tr>\n",
       "      <th>count</th>\n",
       "      <td>9213930</td>\n",
       "      <td>9213930</td>\n",
       "      <td>9213930</td>\n",
       "      <td>9213930</td>\n",
       "    </tr>\n",
       "    <tr>\n",
       "      <th>unique</th>\n",
       "      <td>347</td>\n",
       "      <td>10</td>\n",
       "      <td>155</td>\n",
       "      <td>14</td>\n",
       "    </tr>\n",
       "    <tr>\n",
       "      <th>top</th>\n",
       "      <td>show</td>\n",
       "      <td>view</td>\n",
       "      <td>view_search_results</td>\n",
       "      <td>Mac Desktop</td>\n",
       "    </tr>\n",
       "    <tr>\n",
       "      <th>freq</th>\n",
       "      <td>2178382</td>\n",
       "      <td>3545621</td>\n",
       "      <td>1770931</td>\n",
       "      <td>3019523</td>\n",
       "    </tr>\n",
       "  </tbody>\n",
       "</table>\n",
       "</div>"
      ],
      "text/plain": [
       "         action action_type        action_detail  device_type\n",
       "count   9213930     9213930              9213930      9213930\n",
       "unique      347          10                  155           14\n",
       "top        show        view  view_search_results  Mac Desktop\n",
       "freq    2178382     3545621              1770931      3019523"
      ]
     },
     "execution_count": 88,
     "metadata": {},
     "output_type": "execute_result"
    }
   ],
   "source": [
    "cat_attributes_sessions.drop('user_id', axis=1).describe()"
   ]
  },
  {
   "cell_type": "markdown",
   "id": "13f4914d",
   "metadata": {},
   "source": [
    "#### 1.7.4.1. Correlation Matrix"
   ]
  },
  {
   "cell_type": "code",
   "execution_count": 89,
   "id": "3e1e88ee",
   "metadata": {
    "ExecuteTime": {
     "end_time": "2022-04-14T13:56:11.106799Z",
     "start_time": "2022-04-14T13:54:58.618797Z"
    }
   },
   "outputs": [
    {
     "data": {
      "image/png": "[encoded data removed]",
      "text/plain": [
       "<Figure size 432x288 with 2 Axes>"
      ]
     },
     "metadata": {
      "needs_background": "light"
     },
     "output_type": "display_data"
    }
   ],
   "source": [
    "cat_attributes_sessions_columns = cat_attributes_sessions.drop('user_id', axis=1).columns.tolist()\n",
    "\n",
    "corr_dict = {}\n",
    "\n",
    "for main_column in cat_attributes_sessions_columns:\n",
    "    corr_list = []\n",
    "    \n",
    "    for secondary_column in cat_attributes_sessions_columns:\n",
    "        # cramer v\n",
    "        cat_corr = cramer_v( cat_attributes_sessions[main_column], cat_attributes_sessions[secondary_column] )\n",
    "        \n",
    "        # add to list\n",
    "        corr_list.append(cat_corr)\n",
    "    \n",
    "    # add to dict each attribute correlation \n",
    "    corr_dict[main_column] = corr_list\n",
    "\n",
    "df_corr_sessions = pd.DataFrame(corr_dict)\n",
    "df_corr_sessions = df_corr_sessions.set_index(df_corr_sessions.columns)\n",
    "sns.heatmap(df_corr_sessions, annot=True);"
   ]
  },
  {
   "cell_type": "markdown",
   "id": "bbe57720",
   "metadata": {},
   "source": [
    "# 2.0. Feature Engineering"
   ]
  },
  {
   "cell_type": "code",
   "execution_count": 90,
   "id": "f64c4deb",
   "metadata": {
    "ExecuteTime": {
     "end_time": "2022-04-14T13:56:13.785792Z",
     "start_time": "2022-04-14T13:56:13.679802Z"
    }
   },
   "outputs": [],
   "source": [
    "df02_users = df01_users.copy()"
   ]
  },
  {
   "cell_type": "markdown",
   "id": "4cc87547",
   "metadata": {},
   "source": [
    "## 2.1. Create Gap Between Dates Features"
   ]
  },
  {
   "cell_type": "code",
   "execution_count": 91,
   "id": "bde69aeb",
   "metadata": {
    "ExecuteTime": {
     "end_time": "2022-04-14T13:56:28.666398Z",
     "start_time": "2022-04-14T13:56:16.073796Z"
    }
   },
   "outputs": [],
   "source": [
    "# date of first active\n",
    "df02_users['date_first_active'] = pd.to_datetime(df02_users['timestamp_first_active'].dt.strftime(\"%Y-%m-%d\"))\n",
    "\n",
    "# difference in days between date_account_created and date_first_active\n",
    "df02_users['diff_account_created_first_active'] = (df02_users['date_account_created'] - df02_users['date_first_active']).apply(lambda x: x.days)\n",
    "\n",
    "# difference in days between date_account_created and date_first_booking\n",
    "df02_users['diff_first_booking_account_created'] = (df02_users['date_first_booking'] - df02_users['date_account_created']).apply(lambda x: x.days)\n",
    "\n",
    "# difference in days between date_first_active and date_first_booking\n",
    "df02_users['diff_first_active_first_booking'] = (df02_users['date_first_booking'] - df02_users['date_first_active']).apply(lambda x: x.days)"
   ]
  },
  {
   "cell_type": "markdown",
   "id": "e5f02587",
   "metadata": {
    "ExecuteTime": {
     "end_time": "2022-03-02T15:58:55.212964Z",
     "start_time": "2022-03-02T15:58:55.204965Z"
    }
   },
   "source": [
    "## 2.2. Create Date Features"
   ]
  },
  {
   "cell_type": "markdown",
   "id": "add9d20f",
   "metadata": {},
   "source": [
    "### 2.2.1. Account Created"
   ]
  },
  {
   "cell_type": "code",
   "execution_count": 92,
   "id": "7ada9a20",
   "metadata": {
    "ExecuteTime": {
     "end_time": "2022-04-14T13:56:31.999662Z",
     "start_time": "2022-04-14T13:56:31.814680Z"
    }
   },
   "outputs": [],
   "source": [
    "# year\n",
    "df02_users['year_account_created'] = df02_users['date_account_created'].dt.year\n",
    "\n",
    "# month\n",
    "df02_users['month_account_created'] = df02_users['date_account_created'].dt.month\n",
    "\n",
    "# day\n",
    "df02_users['day_account_created'] = df02_users['date_account_created'].dt.day\n",
    "\n",
    "# day of week\n",
    "df02_users['dayofweek_account_created'] = df02_users['date_account_created'].dt.dayofweek\n",
    "\n",
    "# week of year\n",
    "df02_users['weekofyear_account_created'] = df02_users['date_account_created'].dt.weekofyear"
   ]
  },
  {
   "cell_type": "markdown",
   "id": "db245cbb",
   "metadata": {},
   "source": [
    "### 2.2.2. First Active"
   ]
  },
  {
   "cell_type": "code",
   "execution_count": 93,
   "id": "55143c04",
   "metadata": {
    "ExecuteTime": {
     "end_time": "2022-04-14T13:56:32.158684Z",
     "start_time": "2022-04-14T13:56:32.003664Z"
    }
   },
   "outputs": [],
   "source": [
    "# year\n",
    "df02_users['year_first_active'] = df02_users['date_first_active'].dt.year\n",
    "\n",
    "# month\n",
    "df02_users['month_first_active'] = df02_users['date_first_active'].dt.month\n",
    "\n",
    "# day\n",
    "df02_users['day_first_active'] = df02_users['date_first_active'].dt.day\n",
    "\n",
    "# day of week\n",
    "df02_users['dayofweek_first_active'] = df02_users['date_first_active'].dt.dayofweek\n",
    "\n",
    "# week of year\n",
    "df02_users['weekofyear_first_active'] = df02_users['date_first_active'].dt.weekofyear"
   ]
  },
  {
   "cell_type": "markdown",
   "id": "603026d2",
   "metadata": {},
   "source": [
    "### 2.2.3. First Booking"
   ]
  },
  {
   "cell_type": "code",
   "execution_count": 94,
   "id": "91800913",
   "metadata": {
    "ExecuteTime": {
     "end_time": "2022-04-14T13:56:38.608268Z",
     "start_time": "2022-04-14T13:56:38.386271Z"
    }
   },
   "outputs": [],
   "source": [
    "# year\n",
    "df02_users['year_first_booking'] = df02_users['date_first_booking'].dt.year\n",
    "\n",
    "# month\n",
    "df02_users['month_first_booking'] = df02_users['date_first_booking'].dt.month\n",
    "\n",
    "# day\n",
    "df02_users['day_first_booking'] = df02_users['date_first_booking'].dt.day\n",
    "\n",
    "# day of week\n",
    "df02_users['dayofweek_first_booking'] = df02_users['date_first_booking'].dt.dayofweek\n",
    "\n",
    "# week of year\n",
    "df02_users['weekofyear_first_booking'] = df02_users['date_first_booking'].dt.weekofyear"
   ]
  },
  {
   "cell_type": "markdown",
   "id": "b0f5b037",
   "metadata": {},
   "source": [
    "# 3.0. Data Filtering"
   ]
  },
  {
   "cell_type": "code",
   "execution_count": 95,
   "id": "26b87f66",
   "metadata": {
    "ExecuteTime": {
     "end_time": "2022-04-14T13:56:41.725261Z",
     "start_time": "2022-04-14T13:56:41.635265Z"
    }
   },
   "outputs": [],
   "source": [
    "df03_users = df02_users.copy()"
   ]
  },
  {
   "cell_type": "markdown",
   "id": "80d07e8f",
   "metadata": {},
   "source": [
    "## 3.1. Filtering Rows"
   ]
  },
  {
   "cell_type": "code",
   "execution_count": 96,
   "id": "6221dc16",
   "metadata": {
    "ExecuteTime": {
     "end_time": "2022-04-14T13:56:45.214315Z",
     "start_time": "2022-04-14T13:56:45.065271Z"
    }
   },
   "outputs": [],
   "source": [
    "# age - greater than 15 and lower than 100 - There are few people over 100 years old ( Could be error from system or manual imput - Cleaning noise)\n",
    "df03_users = df03_users[(df03_users['age'] > 15) & (df03_users['age'] < 100)]\n",
    "\n",
    "# secs_elapsed - there is no possible 0 secs elapesed on website\n",
    "#df03_sessions = df03_sessions[df03_sessions['secs_elapsed'] > 0]"
   ]
  },
  {
   "cell_type": "markdown",
   "id": "d9303a1b",
   "metadata": {},
   "source": [
    "## 3.2. Columns Selection"
   ]
  },
  {
   "cell_type": "code",
   "execution_count": 97,
   "id": "1072be5b",
   "metadata": {
    "ExecuteTime": {
     "end_time": "2022-04-14T13:56:48.307276Z",
     "start_time": "2022-04-14T13:56:48.133273Z"
    },
    "code_folding": []
   },
   "outputs": [],
   "source": [
    "# columns id not carry any information\n",
    "df03_users = df03_users.drop(['id'], axis=1)\n",
    "\n",
    "# columns used to feature enginnering\n",
    "cols_date =['timestamp_first_active',\n",
    "            'date_first_active',\n",
    "            'date_account_created',\n",
    "            'date_first_booking']\n",
    "\n",
    "df03_users = df03_users.drop(columns=cols_date)"
   ]
  },
  {
   "cell_type": "markdown",
   "id": "20d1ff53",
   "metadata": {},
   "source": [
    "# 4.0. Data Exploratory Analysis"
   ]
  },
  {
   "cell_type": "code",
   "execution_count": 98,
   "id": "c5e9da71",
   "metadata": {
    "ExecuteTime": {
     "end_time": "2022-04-14T13:56:52.092485Z",
     "start_time": "2022-04-14T13:56:52.017469Z"
    }
   },
   "outputs": [],
   "source": [
    "df04_users = df03_users.copy()"
   ]
  },
  {
   "cell_type": "markdown",
   "id": "08aaa120",
   "metadata": {
    "heading_collapsed": true
   },
   "source": [
    "## 4.1. Univariate Analysis"
   ]
  },
  {
   "cell_type": "code",
   "execution_count": 39,
   "id": "5b859078",
   "metadata": {
    "ExecuteTime": {
     "end_time": "2022-03-12T16:24:20.957339Z",
     "start_time": "2022-03-12T16:24:20.932337Z"
    },
    "hidden": true
   },
   "outputs": [],
   "source": [
    "# profile = ProfileReport(df04_users)\n",
    "\n",
    "# profile.to_file(output_file='airbnb_booking_statistics.html')"
   ]
  },
  {
   "cell_type": "markdown",
   "id": "07beed36",
   "metadata": {
    "heading_collapsed": true
   },
   "source": [
    "## 4.2. Bivariate Analysis"
   ]
  },
  {
   "cell_type": "markdown",
   "id": "381f4323",
   "metadata": {
    "hidden": true
   },
   "source": [
    "### H1. Across all destinations, it takes users an average of 15 days to make their first Airbnb booking since their first activation.\n",
    "**False:** Users take up to 3 days on median to register on the site all destinations."
   ]
  },
  {
   "cell_type": "code",
   "execution_count": 40,
   "id": "91288f22",
   "metadata": {
    "ExecuteTime": {
     "end_time": "2022-03-12T16:24:23.762467Z",
     "start_time": "2022-03-12T16:24:20.971338Z"
    },
    "hidden": true,
    "hide_input": true
   },
   "outputs": [
    {
     "data": {
      "image/png": "[encoded data removed]",
      "text/plain": [
       "<Figure size 1440x432 with 2 Axes>"
      ]
     },
     "metadata": {
      "needs_background": "light"
     },
     "output_type": "display_data"
    }
   ],
   "source": [
    "plt.subplots(figsize=(20,6))\n",
    "\n",
    "# select data with destination\n",
    "aux = df04_users[df04_users['country_destination'] != 'NDF']\n",
    "\n",
    "# average number of days from the first active day on website to the first booking for each destination\n",
    "plt.subplot(1, 2, 1)\n",
    "aux1 = aux[['diff_first_active_first_booking', 'country_destination']].groupby('country_destination').mean().reset_index()\n",
    "sns.barplot(x='country_destination', \n",
    "            y='diff_first_active_first_booking', \n",
    "            data=aux1.sort_values('diff_first_active_first_booking'))\n",
    "plt.axhline(aux['diff_first_active_first_booking'].mean(), linestyle='--');\n",
    "plt.title('Average Days until Booking');\n",
    "\n",
    "# median number of days from the first active day on website to the first booking for each destination\n",
    "plt.subplot(1, 2, 2)\n",
    "aux2 = aux[['diff_first_active_first_booking', 'country_destination']].groupby('country_destination').median().reset_index()\n",
    "sns.barplot(x='country_destination', \n",
    "            y='diff_first_active_first_booking',\n",
    "            data=aux2.sort_values('diff_first_active_first_booking'))\n",
    "plt.axhline(aux['diff_first_active_first_booking'].median(), linestyle='--');\n",
    "plt.title('Median Days until Booking');"
   ]
  },
  {
   "cell_type": "markdown",
   "id": "39bc0f13",
   "metadata": {
    "hidden": true
   },
   "source": [
    "### H2. In all destinations, it takes users an average of 3 days to register on the site.\n",
    "**True:** Users register the same day they first visit, on average."
   ]
  },
  {
   "cell_type": "code",
   "execution_count": 41,
   "id": "cbe836d7",
   "metadata": {
    "ExecuteTime": {
     "end_time": "2022-03-12T16:24:24.097455Z",
     "start_time": "2022-03-12T16:24:23.765457Z"
    },
    "hidden": true,
    "hide_input": true
   },
   "outputs": [
    {
     "data": {
      "image/png": "[encoded data removed]",
      "text/plain": [
       "<Figure size 1440x432 with 1 Axes>"
      ]
     },
     "metadata": {
      "needs_background": "light"
     },
     "output_type": "display_data"
    }
   ],
   "source": [
    "plt.subplots(figsize=(20,6))\n",
    "\n",
    "# average number of days from the first active day on website to the first booking for each destination\n",
    "plt.subplot(1, 2, 1)\n",
    "aux1 = df04_users[['diff_account_created_first_active', 'country_destination']].groupby('country_destination').mean().reset_index()\n",
    "\n",
    "sns.barplot(x='country_destination', \n",
    "            y='diff_account_created_first_active',\n",
    "            data=aux1.sort_values('diff_account_created_first_active'))\n",
    "plt.axhline(df04_users['diff_account_created_first_active'].mean(), linestyle='--');"
   ]
  },
  {
   "cell_type": "markdown",
   "id": "35242e84",
   "metadata": {
    "hidden": true
   },
   "source": [
    "### H3. The annual volume of bookings made during the summer increased by 20% or more for destinations within the USA.\n",
    "**True:**  Bookings made during the summer for the USA grow by 80% a year on average."
   ]
  },
  {
   "cell_type": "code",
   "execution_count": 42,
   "id": "32087ca0",
   "metadata": {
    "ExecuteTime": {
     "end_time": "2022-03-12T16:24:25.111433Z",
     "start_time": "2022-03-12T16:24:24.100454Z"
    },
    "hidden": true,
    "hide_input": true
   },
   "outputs": [
    {
     "data": {
      "image/png": "[encoded data removed]",
      "text/plain": [
       "<Figure size 1440x432 with 2 Axes>"
      ]
     },
     "metadata": {
      "needs_background": "light"
     },
     "output_type": "display_data"
    }
   ],
   "source": [
    "plt.figure(figsize=(20,6))\n",
    "\n",
    "# number of booking for year, month of firsrt booking and destination by number of rows\n",
    "aux1 = df04_users[['year_first_booking', 'month_first_booking', 'country_destination']].groupby(\n",
    "    ['year_first_booking', 'month_first_booking', 'country_destination']\n",
    ").size().reset_index().rename(columns={0: 'booking_count'})\n",
    "\n",
    "# seasons for northern hemisphere\n",
    "season_map = {1: 'Winter', 2: 'Winter', 3: 'Spring', 4: 'Spring', 5: 'Spring', 6: 'Summer',\n",
    "              7: 'Summer', 8: 'Summer', 9: 'Autumn', 10: 'Autumn', 11: 'Autumn', 12: 'Winter'}\n",
    "\n",
    "# seasons for each month of first booking\n",
    "aux1['season'] = aux1['month_first_booking'].map(season_map)\n",
    "\n",
    "# select data targeting the USA and the summer season \n",
    "aux2 = aux1[(aux1['country_destination'] == 'US') & (aux1['season'] == 'Summer') & (aux1['year_first_booking'] != 2015)]\n",
    "\n",
    "# number of bookings for first booking year\n",
    "aux3 = aux2[['year_first_booking', 'booking_count']].groupby('year_first_booking').sum().reset_index()\n",
    "\n",
    "plt.subplot(1, 2, 1)\n",
    "sns.lineplot(x='year_first_booking', y='booking_count', data=aux3)\n",
    "plt.title('Booking for US during the Summer');\n",
    "\n",
    "# porcentage of growth to each first booking year\n",
    "aux3['yearly_growth'] = aux3['booking_count'].pct_change().fillna(0)\n",
    "\n",
    "# yearly growth of first booking for US during the summer\n",
    "plt.subplot(1, 2, 2)\n",
    "ax = sns.barplot(x='year_first_booking', y='yearly_growth', data=aux3);\n",
    "ax.bar_label(ax.containers[0]);\n",
    "plt.title('Yearly Growth of Booking for US during the Summer ');\n",
    "\n"
   ]
  },
  {
   "cell_type": "markdown",
   "id": "45f7c976",
   "metadata": {
    "hidden": true
   },
   "source": [
    "### H4. Female users make 10% more reservations for countries outside the USA.\n",
    "**False:** Female users make more than 15% more reservations than male users."
   ]
  },
  {
   "cell_type": "code",
   "execution_count": 43,
   "id": "7a34313a",
   "metadata": {
    "ExecuteTime": {
     "end_time": "2022-03-12T16:24:25.460423Z",
     "start_time": "2022-03-12T16:24:25.121427Z"
    },
    "hidden": true,
    "hide_input": true
   },
   "outputs": [
    {
     "data": {
      "image/png": "[encoded data removed]",
      "text/plain": [
       "<Figure size 864x432 with 1 Axes>"
      ]
     },
     "metadata": {
      "needs_background": "light"
     },
     "output_type": "display_data"
    }
   ],
   "source": [
    "plt.figure(figsize=(12, 6))\n",
    "\n",
    "# number of booking for gender and destination\n",
    "aux1 = df04_users[['gender', 'country_destination']].groupby(\n",
    "    ['gender', 'country_destination']\n",
    ").size().reset_index().rename(columns={0: 'booking_count'})\n",
    "\n",
    "# select data for US and droped unknow rows\n",
    "aux2 = aux1[(aux1['country_destination'] == 'US') & (aux1['gender'] != '-unknown-')]\n",
    "\n",
    "# percentage of bookings for each gender\n",
    "aux2['pct_booking'] = round(100*(aux2['booking_count']/aux2['booking_count'].sum()), 2)\n",
    "\n",
    "# percentage of bookings for each gender for US destination\n",
    "ax = sns.barplot(x='pct_booking', y='gender', data=aux2);\n",
    "ax.bar_label(ax.containers[0]);\n",
    "plt.title('Percentage of Booking by Gender for US');"
   ]
  },
  {
   "cell_type": "markdown",
   "id": "a420e8eb",
   "metadata": {
    "hidden": true
   },
   "source": [
    "### H5. The Google Marketing channel accounts for more than 40% of bookings to countries outside the USA.\n",
    "**True:** Considering only paid channel, Marketing Google represents 76% of bookings."
   ]
  },
  {
   "cell_type": "code",
   "execution_count": 44,
   "id": "11545499",
   "metadata": {
    "ExecuteTime": {
     "end_time": "2022-03-12T16:24:26.018427Z",
     "start_time": "2022-03-12T16:24:25.464427Z"
    },
    "hidden": true,
    "hide_input": true
   },
   "outputs": [
    {
     "data": {
      "image/png": "[encoded data removed]",
      "text/plain": [
       "<Figure size 1440x432 with 2 Axes>"
      ]
     },
     "metadata": {
      "needs_background": "light"
     },
     "output_type": "display_data"
    }
   ],
   "source": [
    "plt.figure(figsize=(20, 6))\n",
    "\n",
    "# select data with destination and without US\n",
    "aux = df04_users[(df04_users['country_destination'] != 'US') & (df04_users['country_destination'] != 'NDF')]\n",
    "\n",
    "# number of booking por each affiliate\n",
    "aux1 = aux[['affiliate_provider']].groupby('affiliate_provider').size().reset_index().rename(columns={0: 'booking_count'})\n",
    "\n",
    "# porcentage of booking for each affiliate\n",
    "aux1['pct_booking'] = round(100*aux1['booking_count']/aux1['booking_count'].sum(), 2)\n",
    "\n",
    "# group values smaller than 10\n",
    "aux2 = aux1['pct_booking'].groupby(\n",
    "    np.where(aux1['pct_booking'] >=10, aux1['affiliate_provider'], 'others')\n",
    ").sum().reset_index().rename(columns={'index': 'affiliate_provider'})\n",
    "\n",
    "# percentage of booking for each channel\n",
    "plt.subplot(1, 2, 1)\n",
    "ax = sns.barplot(x='affiliate_provider', y='pct_booking', data=aux2)\n",
    "ax.bar_label(ax.containers[0]);\n",
    "plt.title('Porcentage of Booking for each Channel');\n",
    "\n",
    "#not include organic channels\n",
    "aux3 = aux[aux['affiliate_provider'] != 'direct']\n",
    "\n",
    "# number of booking por each affiliate\n",
    "aux4 = aux3[['affiliate_provider']].groupby('affiliate_provider').size().reset_index().rename(columns={0: 'booking_count'})\n",
    "\n",
    "# porcentage of booking for each affiliate\n",
    "aux4['pct_booking'] = round(100*aux4['booking_count']/aux4['booking_count'].sum(), 2)\n",
    "\n",
    "# group values smaller than 10\n",
    "aux5 = aux4['pct_booking'].groupby(\n",
    "    np.where(aux4['pct_booking'] > 1, aux4['affiliate_provider'], 'others')\n",
    ").sum().reset_index().rename(columns={'index': 'affiliate_provider'}).sort_values('pct_booking', ascending=False)\n",
    "\n",
    "# percentage of booking for each channel\n",
    "plt.subplot(1, 2, 2)\n",
    "ax = sns.barplot(x='affiliate_provider', y='pct_booking', data=aux5)\n",
    "ax.bar_label(ax.containers[0]);\n",
    "plt.title('Porcentage of Booking for each Channel, except Direct');"
   ]
  },
  {
   "cell_type": "markdown",
   "id": "2168020e",
   "metadata": {
    "hidden": true
   },
   "source": [
    "### H6. The USA destination represents more than 20% in all channels.\n",
    "**True:** USA represents 69% of bookings on average in all channels."
   ]
  },
  {
   "cell_type": "code",
   "execution_count": 45,
   "id": "b9ac1168",
   "metadata": {
    "ExecuteTime": {
     "end_time": "2022-03-12T16:24:26.481426Z",
     "start_time": "2022-03-12T16:24:26.024425Z"
    },
    "hidden": true,
    "hide_input": true
   },
   "outputs": [
    {
     "data": {
      "image/png": "[encoded data removed]",
      "text/plain": [
       "<Figure size 864x432 with 1 Axes>"
      ]
     },
     "metadata": {
      "needs_background": "light"
     },
     "output_type": "display_data"
    }
   ],
   "source": [
    "plt.figure(figsize=(12, 6))\n",
    "\n",
    "# select data with distination\n",
    "aux = df04_users[df04_users['country_destination'] != 'NDF']\n",
    "\n",
    "# number of booking for each destination and affiliate channel\n",
    "aux1 = aux[['country_destination', 'affiliate_channel']].groupby(\n",
    "    ['country_destination', 'affiliate_channel']\n",
    ").size().reset_index().rename(columns={0: 'booking_count'})\n",
    "\n",
    "# create column for porcentage of booking for each channel\n",
    "aux1['pct_booking_channel'] = np.nan\n",
    "\n",
    "# porcentage individual for each affiliate channel\n",
    "for channel in aux1['affiliate_channel'].unique().tolist():\n",
    "    ref_channel = aux1['affiliate_channel'] == channel\n",
    "    aux1.loc[ref_channel, 'pct_booking_channel'] = np.round(\n",
    "        100 * aux1.loc[ref_channel, 'booking_count'] / aux1.loc[ref_channel, 'booking_count'].sum(), 2\n",
    ")\n",
    "\n",
    "# select destination for US\n",
    "aux2 = aux1[aux1['country_destination'] == 'US']\n",
    "\n",
    "# percentage of bookings for channels for US destination \n",
    "ax = sns.barplot(x='affiliate_channel', y='pct_booking_channel', data=aux2)\n",
    "ax.bar_label(ax.containers[0]);\n",
    "plt.axhline(aux2['pct_booking_channel'].mean(), linestyle='--')\n",
    "plt.title('Porcentage of Booking to USA for each Channel');"
   ]
  },
  {
   "cell_type": "markdown",
   "id": "766ed40d",
   "metadata": {
    "hidden": true
   },
   "source": [
    "### H7. The average age of people is 35 in all destinations.\n",
    "**False:** Average age for all destinations is 40 years old."
   ]
  },
  {
   "cell_type": "code",
   "execution_count": 46,
   "id": "6d4f31b0",
   "metadata": {
    "ExecuteTime": {
     "end_time": "2022-03-12T16:24:26.972637Z",
     "start_time": "2022-03-12T16:24:26.488430Z"
    },
    "hidden": true,
    "hide_input": true
   },
   "outputs": [
    {
     "data": {
      "image/png": "[encoded data removed]",
      "text/plain": [
       "<Figure size 864x432 with 1 Axes>"
      ]
     },
     "metadata": {
      "needs_background": "light"
     },
     "output_type": "display_data"
    }
   ],
   "source": [
    "plt.figure(figsize=(12, 6))\n",
    "\n",
    "# grouped country destination\n",
    "aux1 = df04_users[['age', 'country_destination']].groupby('country_destination').mean().astype(int).reset_index()\n",
    "\n",
    "# average age for each destination\n",
    "ax = sns.barplot(x='country_destination', y='age', data=aux1);\n",
    "ax.bar_label(ax.containers[0]);\n",
    "plt.axhline(aux1['age'].mean());\n",
    "plt.title('Average Age for each Destination');"
   ]
  },
  {
   "cell_type": "markdown",
   "id": "9ef2f8d7",
   "metadata": {
    "hidden": true
   },
   "source": [
    "### H8. The percentage of users who use the English language site to book accommodations at any destination is over 90%.\n",
    "**True:** English is dominant among users, accounting for 97%.  "
   ]
  },
  {
   "cell_type": "code",
   "execution_count": 47,
   "id": "86c47a9d",
   "metadata": {
    "ExecuteTime": {
     "end_time": "2022-03-12T16:24:29.928443Z",
     "start_time": "2022-03-12T16:24:26.980640Z"
    },
    "hidden": true,
    "hide_input": true
   },
   "outputs": [
    {
     "data": {
      "image/png": "[encoded data removed]",
      "text/plain": [
       "<Figure size 1440x432 with 2 Axes>"
      ]
     },
     "metadata": {
      "needs_background": "light"
     },
     "output_type": "display_data"
    }
   ],
   "source": [
    "plt.figure(figsize=(20,6))\n",
    "\n",
    "# number of booking for each language\n",
    "aux1 = df04_users[['language']].groupby('language').size().reset_index().rename(columns={0: 'booking_count'})\n",
    "\n",
    "# porcentage of bookings for each language\n",
    "aux1['pct_booking'] = 100*aux1['booking_count']/aux1['booking_count'].sum()\n",
    "\n",
    "# grouped values smaller than 1%\n",
    "aux2 =aux1[['pct_booking']].groupby(\n",
    "    np.where(aux1['pct_booking'] >= 1, aux1['language'], 'others')\n",
    ").sum().reset_index().rename(columns={'index': 'language'}).sort_values('pct_booking', ascending=False)\n",
    "\n",
    "# porcentage of booking for language\n",
    "plt.subplot(1, 2, 1)\n",
    "ax = sns.barplot(x='language', y='pct_booking', data=aux2)\n",
    "ax.bar_label(ax.containers[0]);\n",
    "plt.title('Porcentage of Language Users');\n",
    "\n",
    "# select data with destination and without english language\n",
    "aux = df04_users[(df04_users['language'] == 'en') & (df04_users['country_destination'] != 'NDF')]\n",
    "\n",
    "# number of language users for each destination\n",
    "aux3 = aux[['country_destination', 'language']].groupby('country_destination').count().reset_index().sort_values('language')\n",
    "\n",
    "# porcentage of language users for destination\n",
    "aux3['pct_language'] = 100 * aux3['language'] / aux3['language'].sum()\n",
    "\n",
    "# porcentage of language users without english for each destination\n",
    "plt.subplot(1, 2, 2)\n",
    "sns.barplot(x='country_destination', y='pct_language', data=aux3);\n",
    "plt.title('Porcentage of Language Users for each Destination');"
   ]
  },
  {
   "cell_type": "markdown",
   "id": "219e8c33",
   "metadata": {
    "hidden": true
   },
   "source": [
    "### H9. Is the number of Airbnb bookings decreasing over the years.\n",
    "**False:** The number of Airbnb bookings is growing, but the growth rate has been slowing down over the years."
   ]
  },
  {
   "cell_type": "code",
   "execution_count": 48,
   "id": "6ffbb6fa",
   "metadata": {
    "ExecuteTime": {
     "end_time": "2022-03-12T16:24:31.151448Z",
     "start_time": "2022-03-12T16:24:29.936448Z"
    },
    "hidden": true,
    "hide_input": true
   },
   "outputs": [
    {
     "data": {
      "image/png": "[encoded data removed]",
      "text/plain": [
       "<Figure size 1440x432 with 2 Axes>"
      ]
     },
     "metadata": {
      "needs_background": "light"
     },
     "output_type": "display_data"
    }
   ],
   "source": [
    "plt.figure(figsize=(20,6))\n",
    "\n",
    "# select data with complete years and with booking\n",
    "aux = df04_users[(df04_users['country_destination'] != 'NDF') & \n",
    "                  (df04_users['year_first_booking'] < df04_users['year_first_booking'].max())]\n",
    "\n",
    "# number of booking for each year\n",
    "aux1 = aux[['year_first_booking']].groupby('year_first_booking').size().reset_index().rename(columns={0: 'booking_count'})\n",
    "\n",
    "# growth of booking over the years\n",
    "aux1[['booking_growth']] = aux1[['booking_count']].pct_change().fillna(0)\n",
    "\n",
    "# number of booking over years\n",
    "plt.subplot(1, 2, 1)\n",
    "ax = sns.barplot(x='year_first_booking', y='booking_count', data=aux1 );\n",
    "ax.bar_label(ax.containers[0]);\n",
    "plt.title('Booking over the Years');\n",
    "\n",
    "# growth of booking over the year\n",
    "plt.subplot(1, 2, 2)\n",
    "ax = sns.barplot(x='year_first_booking', y='booking_growth', data=aux1);\n",
    "ax.bar_label(ax.containers[0]);\n",
    "plt.title('Growth of Booking over the Years');"
   ]
  },
  {
   "cell_type": "markdown",
   "id": "21102193",
   "metadata": {
    "hidden": true
   },
   "source": [
    "### H10. Airbnb's booking growth for USA is higher than for other destinations over the years.\n",
    "**True:** The number of bookings for USA is the highest among all destinations over the years."
   ]
  },
  {
   "cell_type": "code",
   "execution_count": 49,
   "id": "2aa25407",
   "metadata": {
    "ExecuteTime": {
     "end_time": "2022-03-12T16:24:32.897536Z",
     "start_time": "2022-03-12T16:24:31.158472Z"
    },
    "hidden": true,
    "hide_input": true
   },
   "outputs": [
    {
     "data": {
      "image/png": "[encoded data removed]",
      "text/plain": [
       "<Figure size 1440x432 with 1 Axes>"
      ]
     },
     "metadata": {
      "needs_background": "light"
     },
     "output_type": "display_data"
    },
    {
     "data": {
      "image/png": "[encoded data removed]",
      "text/plain": [
       "<Figure size 1440x432 with 1 Axes>"
      ]
     },
     "metadata": {
      "needs_background": "light"
     },
     "output_type": "display_data"
    }
   ],
   "source": [
    "# complete years and with booking\n",
    "aux = df04_users[(df04_users['country_destination'] != 'NDF') & \n",
    "                  (df04_users['year_first_booking'] < df04_users['year_first_booking'].max())]\n",
    "\n",
    "# number of booking through the year and for each destination\n",
    "aux1 = aux[['year_first_booking', 'country_destination']].groupby(\n",
    "    ['year_first_booking', 'country_destination']\n",
    ").size().reset_index().rename(columns={0: 'booking_count'})\n",
    "\n",
    "# select data for marjority destinations\n",
    "aux2 = aux1[(aux1['country_destination'] == 'US') | (aux1['country_destination'] == 'other') ]\n",
    "\n",
    "aux2.pivot_table(values='booking_count', \n",
    "                 index='year_first_booking', \n",
    "                 columns='country_destination',\n",
    "                 aggfunc='sum', \n",
    "                 fill_value=0).plot(figsize=(20,6), title='Evolution of Bookings Over the Years (US and Others)');\n",
    "\n",
    "aux3 = aux1[(aux1['country_destination'] != 'US') & (aux1['country_destination'] != 'other') ]\n",
    "\n",
    "aux3.pivot_table(values='booking_count', \n",
    "                 index='year_first_booking', \n",
    "                 columns='country_destination',\n",
    "                 aggfunc='sum', \n",
    "                 fill_value=0).plot(figsize=(20,6), title='Evolution of Bookings Over the Years');"
   ]
  },
  {
   "cell_type": "markdown",
   "id": "95ba753d",
   "metadata": {},
   "source": [
    "## 4.3. Multivariate Analysis"
   ]
  },
  {
   "cell_type": "markdown",
   "id": "4edaea33",
   "metadata": {},
   "source": [
    "### 4.3.1. High Correlation Attributes"
   ]
  },
  {
   "cell_type": "markdown",
   "id": "5af60a65",
   "metadata": {
    "ExecuteTime": {
     "end_time": "2022-03-10T23:06:57.033435Z",
     "start_time": "2022-03-10T23:06:57.018438Z"
    }
   },
   "source": [
    "**Numerical Variables**\n",
    "\n",
    "diff_first_booking_account_created x diff_first_active_first_booking\n",
    "    \n",
    "    remove: diff_first_active_first_booking\n",
    "    \n",
    "year_account_created x year_first_active\n",
    "\n",
    "    remove: year_first_active\n",
    "        \n",
    "month_account_created x weekofyear_account_created\n",
    "\n",
    "    remove: weekofyear_account_created\n",
    "    \n",
    "month_account_created x month_first_active\n",
    "\n",
    "    remove: month_first_active\n",
    "\n",
    "month_account_created x weekofyear_first_active\n",
    "\n",
    "    remove: weekofyear_first_active\n",
    "    \n",
    "day_account_created x day_first_active\n",
    "\n",
    "    remove: day_first_active\n",
    "    \n",
    "dayofweek_account_created x dayofweek_first_active\n",
    "\n",
    "    remove: dayofweek_first_active\n",
    "    \n",
    "weekofyear_account_created x month_first_active\n",
    "    \n",
    "    remove: month_first_active\n",
    "\n",
    "weekofyear_account_created x weekofyear_first_active\n",
    "\n",
    "    remove: weekofyear_first_active\n",
    "    \n",
    "month_first_active x weekofyear_first_active\n",
    "\n",
    "    remove: weekofyear_first_active\n",
    "    \n",
    "month_first_booking x weekofyear_first_booking\n",
    "\n",
    "    remove: weekofyear_first_booking"
   ]
  },
  {
   "cell_type": "markdown",
   "id": "444b2eec",
   "metadata": {
    "ExecuteTime": {
     "end_time": "2022-03-10T23:06:40.953013Z",
     "start_time": "2022-03-10T23:06:40.945011Z"
    }
   },
   "source": [
    "**Categorical Variables**\n",
    "\n",
    "affiliate_channel x affiliate_provider\n",
    "\n",
    "    remove: affiliate_provider\n",
    "\n",
    "signup_app x first_device_type\n",
    "\n",
    "    remove: first_device_type\n",
    "\n",
    "first_device_type x first_browser\n",
    "\n",
    "    remove: first_browser"
   ]
  },
  {
   "cell_type": "markdown",
   "id": "13e25982",
   "metadata": {},
   "source": [
    "### 4.3.2. Manual Attributes Selection"
   ]
  },
  {
   "cell_type": "code",
   "execution_count": 99,
   "id": "db072579",
   "metadata": {
    "ExecuteTime": {
     "end_time": "2022-04-14T13:56:55.486206Z",
     "start_time": "2022-04-14T13:56:55.405200Z"
    }
   },
   "outputs": [],
   "source": [
    "# high correlation columns\n",
    "cols_correlation = ['diff_first_active_first_booking',\n",
    "                    'year_first_active',\n",
    "                    'weekofyear_account_created',\n",
    "                    'month_first_active',\n",
    "                    'day_first_active',\n",
    "                    'dayofweek_first_active',\n",
    "                    'weekofyear_first_active',\n",
    "                    'weekofyear_first_booking',\n",
    "                    'affiliate_provider',\n",
    "                    'first_device_type',\n",
    "                    'first_browser']\n",
    "\n",
    "# columns with a unique value (>95%)\n",
    "cols_unique_values = ['language']\n",
    "\n",
    "# columns to be manual droped\n",
    "cols_manual_select = cols_correlation + cols_unique_values"
   ]
  },
  {
   "cell_type": "markdown",
   "id": "868b4156",
   "metadata": {},
   "source": [
    "# 5.0. Data Preparation"
   ]
  },
  {
   "cell_type": "code",
   "execution_count": 100,
   "id": "5fcd8687",
   "metadata": {
    "ExecuteTime": {
     "end_time": "2022-04-14T13:57:19.261887Z",
     "start_time": "2022-04-14T13:57:19.190892Z"
    }
   },
   "outputs": [],
   "source": [
    "df05_users = df04_users.copy()"
   ]
  },
  {
   "cell_type": "markdown",
   "id": "04c973ad",
   "metadata": {},
   "source": [
    "## 5.1. Encoding"
   ]
  },
  {
   "cell_type": "code",
   "execution_count": 101,
   "id": "de4d23a4",
   "metadata": {
    "ExecuteTime": {
     "end_time": "2022-04-14T13:57:23.155117Z",
     "start_time": "2022-04-14T13:57:23.082124Z"
    }
   },
   "outputs": [
    {
     "data": {
      "text/plain": [
       "gender                     object\n",
       "signup_method              object\n",
       "language                   object\n",
       "affiliate_channel          object\n",
       "affiliate_provider         object\n",
       "first_affiliate_tracked    object\n",
       "signup_app                 object\n",
       "first_device_type          object\n",
       "first_browser              object\n",
       "country_destination        object\n",
       "dtype: object"
      ]
     },
     "execution_count": 101,
     "metadata": {},
     "output_type": "execute_result"
    }
   ],
   "source": [
    "df05_users.select_dtypes(exclude=['int64', 'float64']).dtypes"
   ]
  },
  {
   "cell_type": "code",
   "execution_count": 102,
   "id": "3b3a65f5",
   "metadata": {
    "ExecuteTime": {
     "end_time": "2022-04-14T13:57:23.221122Z",
     "start_time": "2022-04-14T13:57:23.158118Z"
    }
   },
   "outputs": [],
   "source": [
    "te = TargetEncoder()\n",
    "\n",
    "c = {'NDF': 0, 'US': 1, 'other': 2, 'CA': 3, 'FR': 4, 'ES': 5, 'GB': 6, 'IT': 7, 'PT': 8, 'NL': 9, 'DE':10, 'AU': 11}"
   ]
  },
  {
   "cell_type": "code",
   "execution_count": 103,
   "id": "4d2c6abd",
   "metadata": {
    "ExecuteTime": {
     "end_time": "2022-04-14T13:57:32.525426Z",
     "start_time": "2022-04-14T13:57:30.347227Z"
    }
   },
   "outputs": [],
   "source": [
    "# gender - One Hot Encoder\n",
    "df05_users = pd.get_dummies(df05_users, prefix=['gender'], columns=['gender'])\n",
    "\n",
    "# signup_method - One Hot Enconder\n",
    "df05_users = pd.get_dummies(df05_users, prefix=['signup_method'], columns=['signup_method'])\n",
    "\n",
    "# signup_app - One Hot Encoder\n",
    "df05_users = pd.get_dummies(df05_users, prefix=['signup_app'], columns=['signup_app'])\n",
    "\n",
    "# affiliate_channel - Target Encoder\n",
    "df05_users['affiliate_channel'] = te.fit_transform(df05_users[['affiliate_channel']].values, \n",
    "                                                   df05_users['country_destination'].map(c))\n",
    "\n",
    "# first_affiliate_tracked - Target Encoder\n",
    "df05_users['first_affiliate_tracked'] = te.fit_transform(df05_users[['first_affiliate_tracked']].values, \n",
    "                                                         df05_users['country_destination'].map(c))"
   ]
  },
  {
   "cell_type": "code",
   "execution_count": 104,
   "id": "74af9ee8",
   "metadata": {
    "ExecuteTime": {
     "end_time": "2022-04-14T13:57:37.449405Z",
     "start_time": "2022-04-14T13:57:35.539423Z"
    }
   },
   "outputs": [],
   "source": [
    "# language - Target Encoder\n",
    "df05_users['language'] = te.fit_transform(df05_users[['language']].values, \n",
    "                                          df05_users['country_destination'].map(c))\n",
    "\n",
    "# affiliate_provider - Target Encoder\n",
    "df05_users['affiliate_provider'] = te.fit_transform(df05_users[['affiliate_provider']].values, \n",
    "                                                    df05_users['country_destination'].map(c))\n",
    "\n",
    "# first_device_type - Target Encoder\n",
    "df05_users['first_device_type'] = te.fit_transform(df05_users[['first_device_type']].values, \n",
    "                                                   df05_users['country_destination'].map(c))\n",
    "\n",
    "# first_browser - Target Encoder\n",
    "df05_users['first_browser'] = te.fit_transform(df05_users[['first_browser']].values, \n",
    "                                               df05_users['country_destination'].map(c))"
   ]
  },
  {
   "cell_type": "markdown",
   "id": "213337d6",
   "metadata": {},
   "source": [
    "## 5.2. Rescaling"
   ]
  },
  {
   "cell_type": "code",
   "execution_count": 105,
   "id": "510dde52",
   "metadata": {
    "ExecuteTime": {
     "end_time": "2022-04-14T13:57:40.382424Z",
     "start_time": "2022-04-14T13:57:40.260402Z"
    }
   },
   "outputs": [
    {
     "data": {
      "text/plain": [
       "age                                     int64\n",
       "signup_flow                             int64\n",
       "language                              float64\n",
       "affiliate_channel                     float64\n",
       "affiliate_provider                    float64\n",
       "first_affiliate_tracked               float64\n",
       "first_device_type                     float64\n",
       "first_browser                         float64\n",
       "diff_account_created_first_active       int64\n",
       "diff_first_booking_account_created      int64\n",
       "diff_first_active_first_booking         int64\n",
       "year_account_created                    int64\n",
       "month_account_created                   int64\n",
       "day_account_created                     int64\n",
       "dayofweek_account_created               int64\n",
       "weekofyear_account_created              int64\n",
       "year_first_active                       int64\n",
       "month_first_active                      int64\n",
       "day_first_active                        int64\n",
       "dayofweek_first_active                  int64\n",
       "weekofyear_first_active                 int64\n",
       "year_first_booking                      int64\n",
       "month_first_booking                     int64\n",
       "day_first_booking                       int64\n",
       "dayofweek_first_booking                 int64\n",
       "weekofyear_first_booking                int64\n",
       "dtype: object"
      ]
     },
     "execution_count": 105,
     "metadata": {},
     "output_type": "execute_result"
    }
   ],
   "source": [
    "df05_users.select_dtypes(include=['int64', 'float64']).dtypes"
   ]
  },
  {
   "cell_type": "code",
   "execution_count": 106,
   "id": "9bc7b72e",
   "metadata": {
    "ExecuteTime": {
     "end_time": "2022-04-14T13:58:27.648259Z",
     "start_time": "2022-04-14T13:58:27.639218Z"
    }
   },
   "outputs": [],
   "source": [
    "ss = pp.StandardScaler()\n",
    "\n",
    "rs = pp.RobustScaler()\n",
    "\n",
    "mms = pp.MinMaxScaler()"
   ]
  },
  {
   "cell_type": "markdown",
   "id": "fe66d51f",
   "metadata": {},
   "source": [
    "### 5.3.1. Imbalanced Data"
   ]
  },
  {
   "cell_type": "code",
   "execution_count": 107,
   "id": "3b40432a",
   "metadata": {
    "ExecuteTime": {
     "end_time": "2022-04-14T13:58:33.292487Z",
     "start_time": "2022-04-14T13:58:33.010488Z"
    }
   },
   "outputs": [],
   "source": [
    "# age - Standardization\n",
    "df05_users['age'] = ss.fit_transform(df05_users[['age']].values)\n",
    "\n",
    "# signup_flow - Robust Scaler\n",
    "df05_users['signup_flow'] = rs.fit_transform(df05_users[['signup_flow']].values)\n",
    "\n",
    "# diff_account_created_first_active - Robust Scaler\n",
    "df05_users['diff_account_created_first_active'] = rs.fit_transform(df05_users[['diff_account_created_first_active']].values)\n",
    "\n",
    "# diff_first_booking_account_created -Robust Scaler\n",
    "df05_users['diff_first_booking_account_created'] = rs.fit_transform(df05_users[['diff_first_booking_account_created']].values)\n",
    "\n",
    "# year_account_created - Min-Max-Scaler\n",
    "df05_users['year_account_created'] = mms.fit_transform(df05_users[['year_account_created']].values)\n",
    "\n",
    "# year_first_booking\n",
    "df05_users['year_first_booking'] = mms.fit_transform(df05_users[['year_first_booking']].values)"
   ]
  },
  {
   "cell_type": "code",
   "execution_count": 108,
   "id": "b968b378",
   "metadata": {
    "ExecuteTime": {
     "end_time": "2022-04-14T13:58:36.832756Z",
     "start_time": "2022-04-14T13:58:36.644759Z"
    }
   },
   "outputs": [],
   "source": [
    "# diff_first_active_first_booking - Robust Scaler\n",
    "df05_users['diff_first_active_first_booking'] = rs.fit_transform(df05_users[['diff_first_active_first_booking']].values)\n",
    "\n",
    "# year_first_active - Min-Max-Scaler\n",
    "df05_users['year_first_active'] = mms.fit_transform(df05_users[['year_first_active']].values)"
   ]
  },
  {
   "cell_type": "markdown",
   "id": "f2b386f7",
   "metadata": {},
   "source": [
    "## 5.3. Transformation"
   ]
  },
  {
   "cell_type": "code",
   "execution_count": 109,
   "id": "373566c8",
   "metadata": {
    "ExecuteTime": {
     "end_time": "2022-04-14T13:58:39.465832Z",
     "start_time": "2022-04-14T13:58:39.356831Z"
    }
   },
   "outputs": [
    {
     "data": {
      "text/plain": [
       "age                                   float64\n",
       "signup_flow                           float64\n",
       "language                              float64\n",
       "affiliate_channel                     float64\n",
       "affiliate_provider                    float64\n",
       "first_affiliate_tracked               float64\n",
       "first_device_type                     float64\n",
       "first_browser                         float64\n",
       "diff_account_created_first_active     float64\n",
       "diff_first_booking_account_created    float64\n",
       "diff_first_active_first_booking       float64\n",
       "year_account_created                  float64\n",
       "month_account_created                   int64\n",
       "day_account_created                     int64\n",
       "dayofweek_account_created               int64\n",
       "weekofyear_account_created              int64\n",
       "year_first_active                     float64\n",
       "month_first_active                      int64\n",
       "day_first_active                        int64\n",
       "dayofweek_first_active                  int64\n",
       "weekofyear_first_active                 int64\n",
       "year_first_booking                    float64\n",
       "month_first_booking                     int64\n",
       "day_first_booking                       int64\n",
       "dayofweek_first_booking                 int64\n",
       "weekofyear_first_booking                int64\n",
       "dtype: object"
      ]
     },
     "execution_count": 109,
     "metadata": {},
     "output_type": "execute_result"
    }
   ],
   "source": [
    "df05_users.select_dtypes(include=['int64', 'float64']).dtypes"
   ]
  },
  {
   "cell_type": "markdown",
   "id": "8145af8c",
   "metadata": {},
   "source": [
    "### 5.4.1. Imbalanced Data"
   ]
  },
  {
   "cell_type": "code",
   "execution_count": 110,
   "id": "017adcfc",
   "metadata": {
    "ExecuteTime": {
     "end_time": "2022-04-14T13:58:46.263325Z",
     "start_time": "2022-04-14T13:58:42.132734Z"
    }
   },
   "outputs": [],
   "source": [
    "# month_account_created\n",
    "df05_users['month_account_created_sin'] = df05_users['month_account_created'].apply(lambda x: np.sin(x*(2*np.pi/52)))\n",
    "df05_users['month_account_created_cos'] = df05_users['month_account_created'].apply(lambda x: np.cos(x*(2*np.pi/52)))\n",
    "\n",
    "# day_account_created\n",
    "df05_users['day_account_created_sin'] = df05_users['day_account_created'].apply(lambda x: np.sin(x*(2*np.pi/31)))\n",
    "df05_users['day_account_created_cos'] = df05_users['day_account_created'].apply(lambda x: np.cos(x*(2*np.pi/31)))\n",
    "\n",
    "# dayofweek_account_created\n",
    "df05_users['dayofweek_account_created_sin'] = df05_users['dayofweek_account_created'].apply(lambda x: np.sin(x*(2*np.pi/7)))\n",
    "df05_users['dayofweek_account_created_cos'] = df05_users['dayofweek_account_created'].apply(lambda x: np.cos(x*(2*np.pi/7)))\n",
    "\n",
    "# month_first_booking\n",
    "df05_users['month_first_booking_sin'] = df05_users['month_first_booking'].apply(lambda x: np.sin(x*(2*np.pi/12)))\n",
    "df05_users['month_first_booking_cos'] = df05_users['month_first_booking'].apply(lambda x: np.cos(x*(2*np.pi/12)))\n",
    "\n",
    "# day_first_booking\n",
    "df05_users['day_first_booking_sin'] = df05_users['day_first_booking'].apply(lambda x: np.sin(x*(2*np.pi/31)))\n",
    "df05_users['day_first_booking_cos'] = df05_users['day_first_booking'].apply(lambda x: np.cos(x*(2*np.pi/31)))\n",
    "\n",
    "# dayofweek_first_booking\n",
    "df05_users['dayofweek_first_booking_sin'] = df05_users['dayofweek_first_booking'].apply(lambda x: np.sin(x*(2*np.pi/7)))\n",
    "df05_users['dayofweek_first_booking_cos'] = df05_users['dayofweek_first_booking'].apply(lambda x: np.cos(x*(2*np.pi/7)))"
   ]
  },
  {
   "cell_type": "code",
   "execution_count": 111,
   "id": "9ef822ae",
   "metadata": {
    "ExecuteTime": {
     "end_time": "2022-04-14T13:59:07.691890Z",
     "start_time": "2022-04-14T13:58:49.506933Z"
    }
   },
   "outputs": [],
   "source": [
    "# weekofyear_account_created\n",
    "df05_users['weekofyear_account_created_sin'] = df05_users['weekofyear_account_created'].apply(lambda x: np.sin(x*(2*np.pi/52))) \n",
    "df05_users['weekofyear_account_created_sin'] = df05_users['weekofyear_account_created'].apply(lambda x: np.cos(x*(2*np.pi/52))) \n",
    "\n",
    "# month_first_active\n",
    "df05_users['month_first_active_sin'] = df05_users['month_first_active'].apply(lambda x: np.sin(x*(2*np.pi/12)))\n",
    "df05_users['month_first_active_cos'] = df05_users['month_first_active'].apply(lambda x: np.cos(x*(2*np.pi/12)))\n",
    "\n",
    "# day_first_active\n",
    "df05_users['day_first_active_sin'] = df05_users['day_first_active'].apply(lambda x: np.sin(x*(2*np.pi/31)))\n",
    "df05_users['day_first_active_cos'] = df05_users['day_first_active'].apply(lambda x: np.cos(x*(2*np.pi/31)))\n",
    "\n",
    "# dayofweek_first_active\n",
    "df05_users['dayofweek_first_active_sin'] = df05_users['dayofweek_first_active'].apply(lambda x: np.sin(x*(2*np.pi/7)))\n",
    "df05_users['dayofweek_first_active_cos'] = df05_users['dayofweek_first_active'].apply(lambda x: np.cos(x*(2*np.pi/7)))\n",
    "\n",
    "# weekofyear_first_active\n",
    "df05_users['weekofyear_first_active_sin'] = df05_users['weekofyear_first_active'].apply(lambda x: np.sin(x*(2*np.pi/52)))\n",
    "df05_users['weekofyear_first_active_cos'] = df05_users['weekofyear_first_active'].apply(lambda x: np.cos(x*(2*np.pi/52)))\n",
    "\n",
    "# weekofyear_first_booking\n",
    "df05_users['weekofyear_first_booking_sin'] = df05_users['weekofyear_first_booking'].apply(lambda x: np.sin(x*(2*np.pi/52)))\n",
    "df05_users['weekofyear_first_booking_cos'] = df05_users['weekofyear_first_booking'].apply(lambda x: np.cos(x*(2*np.pi/52)))"
   ]
  },
  {
   "cell_type": "code",
   "execution_count": 112,
   "id": "3e637bcf",
   "metadata": {
    "ExecuteTime": {
     "end_time": "2022-04-14T13:59:13.254631Z",
     "start_time": "2022-04-14T13:59:13.067627Z"
    }
   },
   "outputs": [],
   "source": [
    "cols_transform = ['month_account_created', 'day_account_created', 'dayofweek_account_created', \n",
    "                  'month_first_booking', 'day_first_booking', 'dayofweek_first_booking', 'weekofyear_account_created', \n",
    "                  'month_first_active', 'day_first_active', 'dayofweek_first_active', 'weekofyear_first_active', \n",
    "                  'weekofyear_first_booking']\n",
    "\n",
    "df05_users = df05_users.drop(columns=cols_transform)"
   ]
  },
  {
   "cell_type": "markdown",
   "id": "31c3435c",
   "metadata": {},
   "source": [
    "## 5.4. Response Variable"
   ]
  },
  {
   "cell_type": "code",
   "execution_count": 113,
   "id": "5b95d5a5",
   "metadata": {
    "ExecuteTime": {
     "end_time": "2022-04-14T13:59:17.078803Z",
     "start_time": "2022-04-14T13:59:16.819684Z"
    }
   },
   "outputs": [],
   "source": [
    "# create OneHotEncoder instance\n",
    "ohe = pp.OneHotEncoder()\n",
    "\n",
    "# ohe hot encoding response feature\n",
    "df_ohe = pd.DataFrame(ohe.fit_transform(df05_users['country_destination'].values.reshape(-1,1)).toarray(),\n",
    "                      columns=ohe.categories_[0],\n",
    "                      index=df05_users.index)\n",
    "\n",
    "# joining encoded response feature to dataset\n",
    "df05_users = pd.concat([df05_users.drop(columns=['country_destination']), df_ohe], axis=1)"
   ]
  },
  {
   "cell_type": "markdown",
   "id": "56417dc6",
   "metadata": {},
   "source": [
    "# 6.0. Feature Selection"
   ]
  },
  {
   "cell_type": "code",
   "execution_count": 114,
   "id": "924a6eec",
   "metadata": {
    "ExecuteTime": {
     "end_time": "2022-04-14T13:59:23.235608Z",
     "start_time": "2022-04-14T13:59:23.184607Z"
    }
   },
   "outputs": [],
   "source": [
    "df06_users = df05_users.copy()"
   ]
  },
  {
   "cell_type": "markdown",
   "id": "eddfceb2",
   "metadata": {},
   "source": [
    "## 6.1. Split Dataframe into Training and Test Dataset"
   ]
  },
  {
   "cell_type": "code",
   "execution_count": 115,
   "id": "c4bc27ff",
   "metadata": {
    "ExecuteTime": {
     "end_time": "2022-04-14T13:59:27.144976Z",
     "start_time": "2022-04-14T13:59:26.989310Z"
    }
   },
   "outputs": [],
   "source": [
    "# training dataset\n",
    "X = df06_users.drop( columns=ohe.categories_[0] )\n",
    "\n",
    "#  training response dataset\n",
    "y = df06_users[ohe.categories_[0]]"
   ]
  },
  {
   "cell_type": "code",
   "execution_count": 116,
   "id": "2526e910",
   "metadata": {
    "ExecuteTime": {
     "end_time": "2022-04-14T13:59:30.353224Z",
     "start_time": "2022-04-14T13:59:30.134245Z"
    }
   },
   "outputs": [],
   "source": [
    "# Split dataset into training and test (validation)\n",
    "X_train, X_test, y_train, y_test = ms.train_test_split(X, y, test_size=0.2, random_state=32)"
   ]
  },
  {
   "cell_type": "markdown",
   "id": "87205362",
   "metadata": {},
   "source": [
    "## 6.2. Balanced Dataset"
   ]
  },
  {
   "cell_type": "markdown",
   "id": "6bd5fed7",
   "metadata": {},
   "source": [
    "### 6.2.1. Random Underssampling"
   ]
  },
  {
   "cell_type": "code",
   "execution_count": 117,
   "id": "cd6c5340",
   "metadata": {
    "ExecuteTime": {
     "end_time": "2022-04-14T13:59:35.084332Z",
     "start_time": "2022-04-14T13:59:34.266603Z"
    }
   },
   "outputs": [],
   "source": [
    "# define sampler - random under-sampling\n",
    "undersampling = us.RandomUnderSampler(sampling_strategy='not minority', random_state=32)\n",
    "\n",
    "# resample the dataset\n",
    "X_train_under, y_train_under = undersampling.fit_resample(X_train, ohe.inverse_transform(y_train))"
   ]
  },
  {
   "cell_type": "code",
   "execution_count": 118,
   "id": "b604d452",
   "metadata": {
    "ExecuteTime": {
     "end_time": "2022-04-14T13:59:38.780894Z",
     "start_time": "2022-04-14T13:59:38.667942Z"
    },
    "cell_style": "split"
   },
   "outputs": [
    {
     "data": {
      "text/plain": [
       "NDF      95544\n",
       "US       47937\n",
       "other     7851\n",
       "FR        3877\n",
       "IT        2203\n",
       "GB        1790\n",
       "ES        1750\n",
       "CA        1086\n",
       "DE         797\n",
       "NL         583\n",
       "AU         421\n",
       "PT         176\n",
       "dtype: int64"
      ]
     },
     "execution_count": 118,
     "metadata": {},
     "output_type": "execute_result"
    }
   ],
   "source": [
    "pd.DataFrame(ohe.inverse_transform(y_train)).value_counts()"
   ]
  },
  {
   "cell_type": "code",
   "execution_count": 119,
   "id": "a22e8238",
   "metadata": {
    "ExecuteTime": {
     "end_time": "2022-04-14T13:59:38.812894Z",
     "start_time": "2022-04-14T13:59:38.786914Z"
    },
    "cell_style": "split"
   },
   "outputs": [
    {
     "data": {
      "text/plain": [
       "AU       176\n",
       "CA       176\n",
       "DE       176\n",
       "ES       176\n",
       "FR       176\n",
       "GB       176\n",
       "IT       176\n",
       "NDF      176\n",
       "NL       176\n",
       "PT       176\n",
       "US       176\n",
       "other    176\n",
       "dtype: int64"
      ]
     },
     "execution_count": 119,
     "metadata": {},
     "output_type": "execute_result"
    }
   ],
   "source": [
    "pd.DataFrame(y_train_under).value_counts()"
   ]
  },
  {
   "cell_type": "code",
   "execution_count": 120,
   "id": "3f10a1d1",
   "metadata": {
    "ExecuteTime": {
     "end_time": "2022-04-14T13:59:45.176225Z",
     "start_time": "2022-04-14T13:59:45.148224Z"
    }
   },
   "outputs": [],
   "source": [
    "# convert back to encoding representation\n",
    "y_train_under = pd.DataFrame(ohe.transform(y_train_under.reshape(-1,1)).toarray(), \n",
    "                             columns=ohe.categories_[0], \n",
    "                             index=X_train_under.index)"
   ]
  },
  {
   "cell_type": "markdown",
   "id": "a360f655",
   "metadata": {},
   "source": [
    "### 6.2.2. Random Oversampling"
   ]
  },
  {
   "cell_type": "code",
   "execution_count": 121,
   "id": "c4faf550",
   "metadata": {
    "ExecuteTime": {
     "end_time": "2022-04-14T13:59:52.223042Z",
     "start_time": "2022-04-14T13:59:48.777679Z"
    }
   },
   "outputs": [],
   "source": [
    "# define sampler - random over-sampling\n",
    "oversampling = osamp.RandomOverSampler(sampling_strategy='not majority', random_state=32)\n",
    "\n",
    "# resample the dataset\n",
    "X_train_over, y_train_over = oversampling.fit_resample(X_train, ohe.inverse_transform(y_train))"
   ]
  },
  {
   "cell_type": "code",
   "execution_count": 122,
   "id": "2f2c976c",
   "metadata": {
    "ExecuteTime": {
     "end_time": "2022-04-14T13:59:56.510905Z",
     "start_time": "2022-04-14T13:59:56.434907Z"
    },
    "cell_style": "split"
   },
   "outputs": [
    {
     "data": {
      "text/plain": [
       "NDF      95544\n",
       "US       47937\n",
       "other     7851\n",
       "FR        3877\n",
       "IT        2203\n",
       "GB        1790\n",
       "ES        1750\n",
       "CA        1086\n",
       "DE         797\n",
       "NL         583\n",
       "AU         421\n",
       "PT         176\n",
       "dtype: int64"
      ]
     },
     "execution_count": 122,
     "metadata": {},
     "output_type": "execute_result"
    }
   ],
   "source": [
    "pd.DataFrame(ohe.inverse_transform(y_train)).value_counts()"
   ]
  },
  {
   "cell_type": "code",
   "execution_count": 123,
   "id": "77ac54a0",
   "metadata": {
    "ExecuteTime": {
     "end_time": "2022-04-14T14:00:00.396170Z",
     "start_time": "2022-04-14T14:00:00.274169Z"
    },
    "cell_style": "split"
   },
   "outputs": [
    {
     "data": {
      "text/plain": [
       "AU       95544\n",
       "CA       95544\n",
       "DE       95544\n",
       "ES       95544\n",
       "FR       95544\n",
       "GB       95544\n",
       "IT       95544\n",
       "NDF      95544\n",
       "NL       95544\n",
       "PT       95544\n",
       "US       95544\n",
       "other    95544\n",
       "dtype: int64"
      ]
     },
     "execution_count": 123,
     "metadata": {},
     "output_type": "execute_result"
    }
   ],
   "source": [
    "pd.DataFrame(y_train_over).value_counts()"
   ]
  },
  {
   "cell_type": "code",
   "execution_count": 124,
   "id": "36f57344",
   "metadata": {
    "ExecuteTime": {
     "end_time": "2022-04-14T14:00:00.925168Z",
     "start_time": "2022-04-14T14:00:00.403174Z"
    }
   },
   "outputs": [],
   "source": [
    "# convert back to encoding representation\n",
    "y_train_over = pd.DataFrame(ohe.transform(y_train_over.reshape(-1,1)).toarray(), \n",
    "                            columns=ohe.categories_[0], \n",
    "                            index=X_train_over.index)"
   ]
  },
  {
   "cell_type": "markdown",
   "id": "d9474b2e",
   "metadata": {},
   "source": [
    "### 6.2.3. SMOTE + TOMEKLINK"
   ]
  },
  {
   "cell_type": "code",
   "execution_count": 171,
   "id": "cadbb07e",
   "metadata": {
    "ExecuteTime": {
     "end_time": "2022-04-15T07:14:23.966632Z",
     "start_time": "2022-04-15T03:13:54.436375Z"
    }
   },
   "outputs": [],
   "source": [
    "# define sampler - over-sampling using SMOTE and cleaning using Tomek links\n",
    "combine = comb.SMOTETomek(sampling_strategy='auto', random_state=32, n_jobs=-1)\n",
    "\n",
    "# resample the dataset\n",
    "X_train_comb, y_train_comb = combine.fit_resample(X_train, ohe.inverse_transform(y_train))"
   ]
  },
  {
   "cell_type": "code",
   "execution_count": 172,
   "id": "77f755a2",
   "metadata": {
    "ExecuteTime": {
     "end_time": "2022-04-15T07:16:56.106188Z",
     "start_time": "2022-04-15T07:16:55.572414Z"
    },
    "cell_style": "split"
   },
   "outputs": [
    {
     "data": {
      "text/plain": [
       "NDF      95544\n",
       "US       47937\n",
       "other     7851\n",
       "FR        3877\n",
       "IT        2203\n",
       "GB        1790\n",
       "ES        1750\n",
       "CA        1086\n",
       "DE         797\n",
       "NL         583\n",
       "AU         421\n",
       "PT         176\n",
       "dtype: int64"
      ]
     },
     "execution_count": 172,
     "metadata": {},
     "output_type": "execute_result"
    }
   ],
   "source": [
    "pd.DataFrame(ohe.inverse_transform(y_train)).value_counts()"
   ]
  },
  {
   "cell_type": "code",
   "execution_count": 173,
   "id": "c1e9d54b",
   "metadata": {
    "ExecuteTime": {
     "end_time": "2022-04-15T07:17:00.690566Z",
     "start_time": "2022-04-15T07:17:00.582763Z"
    },
    "cell_style": "split"
   },
   "outputs": [
    {
     "data": {
      "text/plain": [
       "AU       95543\n",
       "NL       95541\n",
       "NDF      95535\n",
       "DE       95532\n",
       "PT       95532\n",
       "CA       95529\n",
       "ES       95496\n",
       "GB       95477\n",
       "IT       95477\n",
       "FR       95409\n",
       "other    95203\n",
       "US       95166\n",
       "dtype: int64"
      ]
     },
     "execution_count": 173,
     "metadata": {},
     "output_type": "execute_result"
    }
   ],
   "source": [
    "pd.DataFrame(y_train_comb).value_counts()"
   ]
  },
  {
   "cell_type": "code",
   "execution_count": 174,
   "id": "9a005524",
   "metadata": {
    "ExecuteTime": {
     "end_time": "2022-04-15T07:17:05.661161Z",
     "start_time": "2022-04-15T07:17:05.265510Z"
    }
   },
   "outputs": [],
   "source": [
    "# convert back to encoding representation\n",
    "y_train_comb = pd.DataFrame(ohe.transform(y_train_comb.reshape(-1,1)).toarray(), \n",
    "                            columns=ohe.categories_[0], \n",
    "                            index=X_train_comb.index)"
   ]
  },
  {
   "cell_type": "markdown",
   "id": "2e130f38",
   "metadata": {},
   "source": [
    "## 6.3. Manual Selection - Exploratory Data Analysis"
   ]
  },
  {
   "cell_type": "code",
   "execution_count": 125,
   "id": "9f3034da",
   "metadata": {
    "ExecuteTime": {
     "end_time": "2022-04-14T14:00:09.406333Z",
     "start_time": "2022-04-14T14:00:09.379335Z"
    },
    "code_folding": []
   },
   "outputs": [],
   "source": [
    "# transform columns name in new format after transformation\n",
    "cols_manual_select_transform = cols_manual_select.copy()\n",
    "\n",
    "# list of attributes transform im section 5.3.\n",
    "cols_transform = ['weekofyear_account_created_sin', 'weekofyear_account_created_sin',\n",
    "                  'month_first_active_sin', 'month_first_active_cos',\n",
    "                  'day_first_active_sin', 'day_first_active_cos',\n",
    "                  'dayofweek_first_active_sin', 'dayofweek_first_active_cos', \n",
    "                  'weekofyear_first_active_sin', 'weekofyear_first_active_cos',\n",
    "                  'weekofyear_first_booking_sin', 'weekofyear_first_booking_cos']\n",
    "\n",
    "# add atributes transform\n",
    "for attributes in cols_transform:\n",
    "    cols_manual_select_transform.append(attributes)\n",
    "\n",
    "# attributes select to be discard in EDA\n",
    "cols_discard = ['weekofyear_first_active', 'day_first_active', 'dayofweek_first_active', \n",
    "                'weekofyear_first_booking', 'weekofyear_account_created', 'month_first_active']\n",
    "\n",
    "# remove atributes select in EDA\n",
    "for attributes in cols_discard:\n",
    "    cols_manual_select_transform.remove(attributes)"
   ]
  },
  {
   "cell_type": "code",
   "execution_count": 127,
   "id": "a759e77d",
   "metadata": {
    "ExecuteTime": {
     "end_time": "2022-04-14T14:00:49.374779Z",
     "start_time": "2022-04-14T14:00:49.166768Z"
    }
   },
   "outputs": [],
   "source": [
    "# imbalanced dataset\n",
    "X_train_manual_select = X_train.drop(columns=cols_manual_select_transform)\n",
    "X_test_manual_select = X_test.drop(columns=cols_manual_select_transform)\n",
    "\n",
    "# random undersampling\n",
    "X_train_under_manual_select = X_train_under.drop(columns=cols_manual_select_transform)\n",
    "\n",
    "# random oversampling\n",
    "X_train_over_manual_select = X_train_over.drop(columns=cols_manual_select_transform)\n",
    "\n",
    "# # SMOTE + Tomek Links\n",
    "# X_train_comb_manual_select = X_train_comb.drop(columns=cols_manual_select_transform)"
   ]
  },
  {
   "cell_type": "markdown",
   "id": "0f8ec83b",
   "metadata": {},
   "source": [
    "## 6.4. Boruta as Feature Selector"
   ]
  },
  {
   "cell_type": "markdown",
   "id": "24054cc6",
   "metadata": {},
   "source": [
    "### 6.4.1. Boruta as Feature Selector - Imbalanced Dataset"
   ]
  },
  {
   "cell_type": "code",
   "execution_count": 128,
   "id": "9f387ec9",
   "metadata": {
    "ExecuteTime": {
     "end_time": "2022-04-14T14:07:01.509861Z",
     "start_time": "2022-04-14T14:00:54.922736Z"
    },
    "scrolled": true
   },
   "outputs": [
    {
     "name": "stdout",
     "output_type": "stream",
     "text": [
      "Iteration: \t1 / 100\n",
      "Confirmed: \t0\n",
      "Tentative: \t48\n",
      "Rejected: \t0\n",
      "Iteration: \t2 / 100\n",
      "Confirmed: \t0\n",
      "Tentative: \t48\n",
      "Rejected: \t0\n",
      "Iteration: \t3 / 100\n",
      "Confirmed: \t0\n",
      "Tentative: \t48\n",
      "Rejected: \t0\n",
      "Iteration: \t4 / 100\n",
      "Confirmed: \t0\n",
      "Tentative: \t48\n",
      "Rejected: \t0\n",
      "Iteration: \t5 / 100\n",
      "Confirmed: \t0\n",
      "Tentative: \t48\n",
      "Rejected: \t0\n",
      "Iteration: \t6 / 100\n",
      "Confirmed: \t0\n",
      "Tentative: \t48\n",
      "Rejected: \t0\n",
      "Iteration: \t7 / 100\n",
      "Confirmed: \t0\n",
      "Tentative: \t48\n",
      "Rejected: \t0\n",
      "Iteration: \t8 / 100\n",
      "Confirmed: \t12\n",
      "Tentative: \t0\n",
      "Rejected: \t36\n",
      "\n",
      "\n",
      "BorutaPy finished running.\n",
      "\n",
      "Iteration: \t9 / 100\n",
      "Confirmed: \t12\n",
      "Tentative: \t0\n",
      "Rejected: \t36\n"
     ]
    }
   ],
   "source": [
    "# prepare dataset for Boruta\n",
    "X_train_n = X_train.values\n",
    "y_train_n = ohe.inverse_transform(y_train)\n",
    "\n",
    "# define Random Forest Regressor\n",
    "rf = RandomForestClassifier(n_jobs=-1)\n",
    "\n",
    "# define Boruta\n",
    "boruta_imb = BorutaPy(rf, n_estimators='auto', verbose=2, random_state=42).fit(X_train_n, y_train_n)"
   ]
  },
  {
   "cell_type": "code",
   "execution_count": 129,
   "id": "948ef213",
   "metadata": {
    "ExecuteTime": {
     "end_time": "2022-04-14T14:07:42.762910Z",
     "start_time": "2022-04-14T14:07:42.631911Z"
    }
   },
   "outputs": [
    {
     "data": {
      "text/plain": [
       "['age',\n",
       " 'diff_first_booking_account_created',\n",
       " 'diff_first_active_first_booking',\n",
       " 'year_first_booking',\n",
       " 'month_first_booking_sin',\n",
       " 'month_first_booking_cos',\n",
       " 'day_first_booking_sin',\n",
       " 'day_first_booking_cos',\n",
       " 'dayofweek_first_booking_sin',\n",
       " 'dayofweek_first_booking_cos',\n",
       " 'weekofyear_first_booking_sin',\n",
       " 'weekofyear_first_booking_cos']"
      ]
     },
     "execution_count": 129,
     "metadata": {},
     "output_type": "execute_result"
    }
   ],
   "source": [
    "# best features from imbalanced dataset\n",
    "cols_selected = boruta_imb.support_.tolist()\n",
    "cols_selected_boruta = X_train.iloc[:, cols_selected].columns.to_list()\n",
    "\n",
    "# check weak features\n",
    "cols_weak = boruta_imb.support_weak_.tolist()\n",
    "cols_selected_weak = X_train.iloc[:, cols_weak].columns.to_list()\n",
    "\n",
    "# not selected features\n",
    "cols_not_selected_boruta = list(np.setdiff1d(X_train.columns, cols_selected_boruta))\n",
    "\n",
    "# display best features\n",
    "cols_selected_boruta"
   ]
  },
  {
   "cell_type": "markdown",
   "id": "34396e37",
   "metadata": {},
   "source": [
    "### 6.4.2. Boruta as Feature Selector - Random Undersampling"
   ]
  },
  {
   "cell_type": "code",
   "execution_count": 130,
   "id": "240a752e",
   "metadata": {
    "ExecuteTime": {
     "end_time": "2022-04-14T14:08:21.136073Z",
     "start_time": "2022-04-14T14:07:58.988441Z"
    }
   },
   "outputs": [
    {
     "name": "stdout",
     "output_type": "stream",
     "text": [
      "Iteration: \t1 / 100\n",
      "Confirmed: \t0\n",
      "Tentative: \t48\n",
      "Rejected: \t0\n",
      "Iteration: \t2 / 100\n",
      "Confirmed: \t0\n",
      "Tentative: \t48\n",
      "Rejected: \t0\n",
      "Iteration: \t3 / 100\n",
      "Confirmed: \t0\n",
      "Tentative: \t48\n",
      "Rejected: \t0\n",
      "Iteration: \t4 / 100\n",
      "Confirmed: \t0\n",
      "Tentative: \t48\n",
      "Rejected: \t0\n",
      "Iteration: \t5 / 100\n",
      "Confirmed: \t0\n",
      "Tentative: \t48\n",
      "Rejected: \t0\n",
      "Iteration: \t6 / 100\n",
      "Confirmed: \t0\n",
      "Tentative: \t48\n",
      "Rejected: \t0\n",
      "Iteration: \t7 / 100\n",
      "Confirmed: \t0\n",
      "Tentative: \t48\n",
      "Rejected: \t0\n",
      "Iteration: \t8 / 100\n",
      "Confirmed: \t5\n",
      "Tentative: \t3\n",
      "Rejected: \t40\n",
      "Iteration: \t9 / 100\n",
      "Confirmed: \t5\n",
      "Tentative: \t3\n",
      "Rejected: \t40\n",
      "Iteration: \t10 / 100\n",
      "Confirmed: \t5\n",
      "Tentative: \t3\n",
      "Rejected: \t40\n",
      "Iteration: \t11 / 100\n",
      "Confirmed: \t5\n",
      "Tentative: \t3\n",
      "Rejected: \t40\n",
      "Iteration: \t12 / 100\n",
      "Confirmed: \t5\n",
      "Tentative: \t3\n",
      "Rejected: \t40\n",
      "Iteration: \t13 / 100\n",
      "Confirmed: \t5\n",
      "Tentative: \t3\n",
      "Rejected: \t40\n",
      "Iteration: \t14 / 100\n",
      "Confirmed: \t5\n",
      "Tentative: \t3\n",
      "Rejected: \t40\n",
      "Iteration: \t15 / 100\n",
      "Confirmed: \t5\n",
      "Tentative: \t3\n",
      "Rejected: \t40\n",
      "Iteration: \t16 / 100\n",
      "Confirmed: \t5\n",
      "Tentative: \t2\n",
      "Rejected: \t41\n",
      "Iteration: \t17 / 100\n",
      "Confirmed: \t5\n",
      "Tentative: \t2\n",
      "Rejected: \t41\n",
      "Iteration: \t18 / 100\n",
      "Confirmed: \t5\n",
      "Tentative: \t2\n",
      "Rejected: \t41\n",
      "Iteration: \t19 / 100\n",
      "Confirmed: \t5\n",
      "Tentative: \t2\n",
      "Rejected: \t41\n",
      "Iteration: \t20 / 100\n",
      "Confirmed: \t5\n",
      "Tentative: \t2\n",
      "Rejected: \t41\n",
      "Iteration: \t21 / 100\n",
      "Confirmed: \t5\n",
      "Tentative: \t2\n",
      "Rejected: \t41\n",
      "Iteration: \t22 / 100\n",
      "Confirmed: \t5\n",
      "Tentative: \t1\n",
      "Rejected: \t42\n",
      "Iteration: \t23 / 100\n",
      "Confirmed: \t5\n",
      "Tentative: \t1\n",
      "Rejected: \t42\n",
      "Iteration: \t24 / 100\n",
      "Confirmed: \t5\n",
      "Tentative: \t1\n",
      "Rejected: \t42\n",
      "Iteration: \t25 / 100\n",
      "Confirmed: \t5\n",
      "Tentative: \t1\n",
      "Rejected: \t42\n",
      "Iteration: \t26 / 100\n",
      "Confirmed: \t5\n",
      "Tentative: \t1\n",
      "Rejected: \t42\n",
      "Iteration: \t27 / 100\n",
      "Confirmed: \t5\n",
      "Tentative: \t1\n",
      "Rejected: \t42\n",
      "Iteration: \t28 / 100\n",
      "Confirmed: \t5\n",
      "Tentative: \t1\n",
      "Rejected: \t42\n",
      "Iteration: \t29 / 100\n",
      "Confirmed: \t5\n",
      "Tentative: \t1\n",
      "Rejected: \t42\n",
      "Iteration: \t30 / 100\n",
      "Confirmed: \t5\n",
      "Tentative: \t1\n",
      "Rejected: \t42\n",
      "Iteration: \t31 / 100\n",
      "Confirmed: \t5\n",
      "Tentative: \t1\n",
      "Rejected: \t42\n",
      "Iteration: \t32 / 100\n",
      "Confirmed: \t5\n",
      "Tentative: \t0\n",
      "Rejected: \t43\n",
      "\n",
      "\n",
      "BorutaPy finished running.\n",
      "\n",
      "Iteration: \t33 / 100\n",
      "Confirmed: \t5\n",
      "Tentative: \t0\n",
      "Rejected: \t43\n"
     ]
    }
   ],
   "source": [
    "# prepare dataset for Boruta\n",
    "X_train_n = X_train_under.values\n",
    "y_train_n = ohe.inverse_transform(y_train_under)\n",
    "\n",
    "# define Random Forest Regressor\n",
    "rf = RandomForestClassifier(n_jobs=-1)\n",
    "\n",
    "# define Boruta\n",
    "boruta_under = BorutaPy(rf, n_estimators='auto', verbose=2, random_state=42).fit(X_train_n, y_train_n)"
   ]
  },
  {
   "cell_type": "code",
   "execution_count": 131,
   "id": "b4ad45dc",
   "metadata": {
    "ExecuteTime": {
     "end_time": "2022-04-14T14:08:21.167056Z",
     "start_time": "2022-04-14T14:08:21.139055Z"
    }
   },
   "outputs": [
    {
     "data": {
      "text/plain": [
       "['diff_first_booking_account_created',\n",
       " 'diff_first_active_first_booking',\n",
       " 'year_first_booking',\n",
       " 'day_first_booking_cos',\n",
       " 'weekofyear_first_booking_cos']"
      ]
     },
     "execution_count": 131,
     "metadata": {},
     "output_type": "execute_result"
    }
   ],
   "source": [
    "# best features from imbalanced dataset\n",
    "cols_selected = boruta_under.support_.tolist()\n",
    "cols_selected_boruta_under = X_train.iloc[:, cols_selected].columns.to_list()\n",
    "\n",
    "# check weak features\n",
    "cols_weak = boruta_under.support_weak_.tolist()\n",
    "cols_selected_weak_under = X_train.iloc[:, cols_weak].columns.to_list()\n",
    "\n",
    "# not selected features\n",
    "cols_not_selected_boruta_under = list(np.setdiff1d(X_train.columns, cols_selected_boruta))\n",
    "\n",
    "# display best features\n",
    "cols_selected_boruta_under"
   ]
  },
  {
   "cell_type": "markdown",
   "id": "5afb00d9",
   "metadata": {},
   "source": [
    "### 6.4.3. Boruta as Feature Selector - Random Oversampling"
   ]
  },
  {
   "cell_type": "code",
   "execution_count": 132,
   "id": "5da5eb22",
   "metadata": {
    "ExecuteTime": {
     "end_time": "2022-04-14T18:30:23.391387Z",
     "start_time": "2022-04-14T14:09:08.484172Z"
    },
    "scrolled": true
   },
   "outputs": [
    {
     "name": "stdout",
     "output_type": "stream",
     "text": [
      "Iteration: \t1 / 100\n",
      "Confirmed: \t0\n",
      "Tentative: \t48\n",
      "Rejected: \t0\n",
      "Iteration: \t2 / 100\n",
      "Confirmed: \t0\n",
      "Tentative: \t48\n",
      "Rejected: \t0\n",
      "Iteration: \t3 / 100\n",
      "Confirmed: \t0\n",
      "Tentative: \t48\n",
      "Rejected: \t0\n",
      "Iteration: \t4 / 100\n",
      "Confirmed: \t0\n",
      "Tentative: \t48\n",
      "Rejected: \t0\n",
      "Iteration: \t5 / 100\n",
      "Confirmed: \t0\n",
      "Tentative: \t48\n",
      "Rejected: \t0\n",
      "Iteration: \t6 / 100\n",
      "Confirmed: \t0\n",
      "Tentative: \t48\n",
      "Rejected: \t0\n",
      "Iteration: \t7 / 100\n",
      "Confirmed: \t0\n",
      "Tentative: \t48\n",
      "Rejected: \t0\n",
      "Iteration: \t8 / 100\n",
      "Confirmed: \t43\n",
      "Tentative: \t1\n",
      "Rejected: \t4\n",
      "Iteration: \t9 / 100\n",
      "Confirmed: \t43\n",
      "Tentative: \t1\n",
      "Rejected: \t4\n",
      "Iteration: \t10 / 100\n",
      "Confirmed: \t43\n",
      "Tentative: \t1\n",
      "Rejected: \t4\n",
      "Iteration: \t11 / 100\n",
      "Confirmed: \t43\n",
      "Tentative: \t1\n",
      "Rejected: \t4\n",
      "Iteration: \t12 / 100\n",
      "Confirmed: \t43\n",
      "Tentative: \t1\n",
      "Rejected: \t4\n",
      "Iteration: \t13 / 100\n",
      "Confirmed: \t43\n",
      "Tentative: \t1\n",
      "Rejected: \t4\n",
      "Iteration: \t14 / 100\n",
      "Confirmed: \t43\n",
      "Tentative: \t1\n",
      "Rejected: \t4\n",
      "Iteration: \t15 / 100\n",
      "Confirmed: \t43\n",
      "Tentative: \t1\n",
      "Rejected: \t4\n",
      "Iteration: \t16 / 100\n",
      "Confirmed: \t43\n",
      "Tentative: \t1\n",
      "Rejected: \t4\n",
      "Iteration: \t17 / 100\n",
      "Confirmed: \t43\n",
      "Tentative: \t1\n",
      "Rejected: \t4\n",
      "Iteration: \t18 / 100\n",
      "Confirmed: \t43\n",
      "Tentative: \t1\n",
      "Rejected: \t4\n",
      "Iteration: \t19 / 100\n",
      "Confirmed: \t43\n",
      "Tentative: \t1\n",
      "Rejected: \t4\n",
      "Iteration: \t20 / 100\n",
      "Confirmed: \t43\n",
      "Tentative: \t1\n",
      "Rejected: \t4\n",
      "Iteration: \t21 / 100\n",
      "Confirmed: \t43\n",
      "Tentative: \t1\n",
      "Rejected: \t4\n",
      "Iteration: \t22 / 100\n",
      "Confirmed: \t43\n",
      "Tentative: \t1\n",
      "Rejected: \t4\n",
      "Iteration: \t23 / 100\n",
      "Confirmed: \t43\n",
      "Tentative: \t1\n",
      "Rejected: \t4\n",
      "Iteration: \t24 / 100\n",
      "Confirmed: \t43\n",
      "Tentative: \t1\n",
      "Rejected: \t4\n",
      "Iteration: \t25 / 100\n",
      "Confirmed: \t43\n",
      "Tentative: \t1\n",
      "Rejected: \t4\n",
      "Iteration: \t26 / 100\n",
      "Confirmed: \t43\n",
      "Tentative: \t1\n",
      "Rejected: \t4\n",
      "Iteration: \t27 / 100\n",
      "Confirmed: \t43\n",
      "Tentative: \t1\n",
      "Rejected: \t4\n",
      "Iteration: \t28 / 100\n",
      "Confirmed: \t43\n",
      "Tentative: \t1\n",
      "Rejected: \t4\n",
      "Iteration: \t29 / 100\n",
      "Confirmed: \t43\n",
      "Tentative: \t1\n",
      "Rejected: \t4\n",
      "Iteration: \t30 / 100\n",
      "Confirmed: \t43\n",
      "Tentative: \t1\n",
      "Rejected: \t4\n",
      "Iteration: \t31 / 100\n",
      "Confirmed: \t43\n",
      "Tentative: \t1\n",
      "Rejected: \t4\n",
      "Iteration: \t32 / 100\n",
      "Confirmed: \t44\n",
      "Tentative: \t0\n",
      "Rejected: \t4\n",
      "\n",
      "\n",
      "BorutaPy finished running.\n",
      "\n",
      "Iteration: \t33 / 100\n",
      "Confirmed: \t44\n",
      "Tentative: \t0\n",
      "Rejected: \t4\n"
     ]
    }
   ],
   "source": [
    "# prepare dataset for Boruta\n",
    "X_train_n = X_train_over.values\n",
    "y_train_n = ohe.inverse_transform(y_train_over)\n",
    "\n",
    "# define Random Forest Regressor\n",
    "rf = RandomForestClassifier(n_jobs=-1)\n",
    "\n",
    "# define Boruta\n",
    "boruta_over = BorutaPy(rf, n_estimators='auto', verbose=2, random_state=42).fit(X_train_n, y_train_n)"
   ]
  },
  {
   "cell_type": "code",
   "execution_count": 133,
   "id": "d625f598",
   "metadata": {
    "ExecuteTime": {
     "end_time": "2022-04-14T18:30:31.759386Z",
     "start_time": "2022-04-14T18:30:31.549616Z"
    }
   },
   "outputs": [
    {
     "data": {
      "text/plain": [
       "['age',\n",
       " 'signup_flow',\n",
       " 'language',\n",
       " 'affiliate_channel',\n",
       " 'affiliate_provider',\n",
       " 'first_affiliate_tracked',\n",
       " 'first_device_type',\n",
       " 'first_browser',\n",
       " 'diff_first_booking_account_created',\n",
       " 'diff_first_active_first_booking',\n",
       " 'year_account_created',\n",
       " 'year_first_active',\n",
       " 'year_first_booking',\n",
       " 'gender_-unknown-',\n",
       " 'gender_FEMALE',\n",
       " 'gender_MALE',\n",
       " 'signup_method_basic',\n",
       " 'signup_method_facebook',\n",
       " 'signup_app_Moweb',\n",
       " 'signup_app_Web',\n",
       " 'signup_app_iOS',\n",
       " 'month_account_created_sin',\n",
       " 'month_account_created_cos',\n",
       " 'day_account_created_sin',\n",
       " 'day_account_created_cos',\n",
       " 'dayofweek_account_created_sin',\n",
       " 'dayofweek_account_created_cos',\n",
       " 'month_first_booking_sin',\n",
       " 'month_first_booking_cos',\n",
       " 'day_first_booking_sin',\n",
       " 'day_first_booking_cos',\n",
       " 'dayofweek_first_booking_sin',\n",
       " 'dayofweek_first_booking_cos',\n",
       " 'weekofyear_account_created_sin',\n",
       " 'month_first_active_sin',\n",
       " 'month_first_active_cos',\n",
       " 'day_first_active_sin',\n",
       " 'day_first_active_cos',\n",
       " 'dayofweek_first_active_sin',\n",
       " 'dayofweek_first_active_cos',\n",
       " 'weekofyear_first_active_sin',\n",
       " 'weekofyear_first_active_cos',\n",
       " 'weekofyear_first_booking_sin',\n",
       " 'weekofyear_first_booking_cos']"
      ]
     },
     "execution_count": 133,
     "metadata": {},
     "output_type": "execute_result"
    }
   ],
   "source": [
    "# best features from imbalanced dataset\n",
    "cols_selected = boruta_over.support_.tolist()\n",
    "cols_selected_boruta_over = X_train.iloc[:, cols_selected].columns.to_list()\n",
    "\n",
    "# check weak features\n",
    "cols_weak = boruta_over.support_weak_.tolist()\n",
    "cols_selected_weak_over = X_train.iloc[:, cols_weak].columns.to_list()\n",
    "\n",
    "# not selected features\n",
    "cols_not_selected_boruta_over = list(np.setdiff1d(X_train.columns, cols_selected_boruta))\n",
    "\n",
    "# display best features\n",
    "cols_selected_boruta_over"
   ]
  },
  {
   "cell_type": "markdown",
   "id": "f9abfa8b",
   "metadata": {},
   "source": [
    "### 6.4.4. Boruta as Feature Selector - SMOTE + TOMEKLINK"
   ]
  },
  {
   "cell_type": "code",
   "execution_count": 175,
   "id": "d2e0444e",
   "metadata": {
    "ExecuteTime": {
     "end_time": "2022-04-15T08:42:27.965511Z",
     "start_time": "2022-04-15T07:17:10.933175Z"
    }
   },
   "outputs": [
    {
     "name": "stdout",
     "output_type": "stream",
     "text": [
      "Iteration: \t1 / 100\n",
      "Confirmed: \t0\n",
      "Tentative: \t48\n",
      "Rejected: \t0\n",
      "Iteration: \t2 / 100\n",
      "Confirmed: \t0\n",
      "Tentative: \t48\n",
      "Rejected: \t0\n",
      "Iteration: \t3 / 100\n",
      "Confirmed: \t0\n",
      "Tentative: \t48\n",
      "Rejected: \t0\n",
      "Iteration: \t4 / 100\n",
      "Confirmed: \t0\n",
      "Tentative: \t48\n",
      "Rejected: \t0\n",
      "Iteration: \t5 / 100\n",
      "Confirmed: \t0\n",
      "Tentative: \t48\n",
      "Rejected: \t0\n",
      "Iteration: \t6 / 100\n",
      "Confirmed: \t0\n",
      "Tentative: \t48\n",
      "Rejected: \t0\n",
      "Iteration: \t7 / 100\n",
      "Confirmed: \t0\n",
      "Tentative: \t48\n",
      "Rejected: \t0\n",
      "Iteration: \t8 / 100\n",
      "Confirmed: \t42\n",
      "Tentative: \t0\n",
      "Rejected: \t6\n",
      "\n",
      "\n",
      "BorutaPy finished running.\n",
      "\n",
      "Iteration: \t9 / 100\n",
      "Confirmed: \t42\n",
      "Tentative: \t0\n",
      "Rejected: \t6\n"
     ]
    }
   ],
   "source": [
    "# prepare dataset for Boruta\n",
    "X_train_n = X_train_comb.values\n",
    "y_train_n = ohe.inverse_transform(y_train_comb)\n",
    "\n",
    "# define Random Forest Regressor\n",
    "rf = RandomForestClassifier(n_jobs=-1)\n",
    "\n",
    "# define Boruta\n",
    "boruta_comb = BorutaPy(rf, n_estimators='auto', verbose=2, random_state=42).fit(X_train_n, y_train_n)"
   ]
  },
  {
   "cell_type": "code",
   "execution_count": 176,
   "id": "420632bc",
   "metadata": {
    "ExecuteTime": {
     "end_time": "2022-04-15T08:45:45.332440Z",
     "start_time": "2022-04-15T08:45:44.911137Z"
    }
   },
   "outputs": [
    {
     "data": {
      "text/plain": [
       "['age',\n",
       " 'signup_flow',\n",
       " 'language',\n",
       " 'affiliate_channel',\n",
       " 'affiliate_provider',\n",
       " 'first_affiliate_tracked',\n",
       " 'first_device_type',\n",
       " 'first_browser',\n",
       " 'diff_first_booking_account_created',\n",
       " 'diff_first_active_first_booking',\n",
       " 'year_account_created',\n",
       " 'year_first_active',\n",
       " 'year_first_booking',\n",
       " 'gender_-unknown-',\n",
       " 'gender_FEMALE',\n",
       " 'gender_MALE',\n",
       " 'signup_method_basic',\n",
       " 'signup_method_facebook',\n",
       " 'signup_app_Web',\n",
       " 'month_account_created_sin',\n",
       " 'month_account_created_cos',\n",
       " 'day_account_created_sin',\n",
       " 'day_account_created_cos',\n",
       " 'dayofweek_account_created_sin',\n",
       " 'dayofweek_account_created_cos',\n",
       " 'month_first_booking_sin',\n",
       " 'month_first_booking_cos',\n",
       " 'day_first_booking_sin',\n",
       " 'day_first_booking_cos',\n",
       " 'dayofweek_first_booking_sin',\n",
       " 'dayofweek_first_booking_cos',\n",
       " 'weekofyear_account_created_sin',\n",
       " 'month_first_active_sin',\n",
       " 'month_first_active_cos',\n",
       " 'day_first_active_sin',\n",
       " 'day_first_active_cos',\n",
       " 'dayofweek_first_active_sin',\n",
       " 'dayofweek_first_active_cos',\n",
       " 'weekofyear_first_active_sin',\n",
       " 'weekofyear_first_active_cos',\n",
       " 'weekofyear_first_booking_sin',\n",
       " 'weekofyear_first_booking_cos']"
      ]
     },
     "execution_count": 176,
     "metadata": {},
     "output_type": "execute_result"
    }
   ],
   "source": [
    "# best features from imbalanced dataset\n",
    "cols_selected = boruta_comb.support_.tolist()\n",
    "cols_selected_boruta_comb = X_train.iloc[:, cols_selected].columns.to_list()\n",
    "\n",
    "# check weak features\n",
    "cols_weak = boruta_comb.support_weak_.tolist()\n",
    "cols_selected_weak_comb = X_train.iloc[:, cols_weak].columns.to_list()\n",
    "\n",
    "# not selected features\n",
    "cols_not_selected_boruta_comb = list(np.setdiff1d(X_train.columns, cols_selected_boruta))\n",
    "\n",
    "# display best features\n",
    "cols_selected_boruta_comb"
   ]
  },
  {
   "cell_type": "markdown",
   "id": "f231a4a7",
   "metadata": {},
   "source": [
    "### 6.4.5. Attributes Selection as Boruta"
   ]
  },
  {
   "cell_type": "code",
   "execution_count": 177,
   "id": "a35a5f15",
   "metadata": {
    "ExecuteTime": {
     "end_time": "2022-04-15T08:45:56.077786Z",
     "start_time": "2022-04-15T08:45:50.081646Z"
    }
   },
   "outputs": [],
   "source": [
    "# imbalanced dataset\n",
    "X_train_boruta = X_train[cols_selected_boruta].copy()\n",
    "X_test_boruta = X_test[cols_selected_boruta].copy()\n",
    "\n",
    "# random undersampling\n",
    "X_train_under_boruta = X_train_under[cols_selected_boruta_under].copy()\n",
    "X_test_under_boruta = X_test[cols_selected_boruta_under].copy()\n",
    "\n",
    "# random oversampling\n",
    "X_train_over_boruta = X_train_over[cols_selected_boruta_over].copy()\n",
    "X_test_over_boruta = X_test[cols_selected_boruta_over].copy()\n",
    "\n",
    "# SMOTE + Tomek Links\n",
    "X_train_comb_boruta = X_train_comb[cols_selected_boruta_comb].copy()\n",
    "X_test_comb_boruta = X_test[cols_selected_boruta_comb].copy()"
   ]
  },
  {
   "cell_type": "markdown",
   "id": "c9ee0881",
   "metadata": {},
   "source": [
    "# 7.0. Machine Learing Model"
   ]
  },
  {
   "cell_type": "code",
   "execution_count": 195,
   "id": "b9dfd8fe",
   "metadata": {
    "ExecuteTime": {
     "end_time": "2022-04-15T13:53:54.725448Z",
     "start_time": "2022-04-15T13:53:54.715433Z"
    }
   },
   "outputs": [],
   "source": [
    "# imbalanced dataset\n",
    "x_train = X_train_boruta\n",
    "x_test = X_test_boruta\n",
    "\n",
    "# random undersampling\n",
    "x_train_under = X_train_under_boruta\n",
    "x_test_under = X_test_under_boruta\n",
    "\n",
    "# random oversampling\n",
    "x_train_over = X_train_over_boruta\n",
    "x_test_over = X_test_over_boruta\n",
    "\n",
    "# # SMOTE + TOMEK Links\n",
    "x_train_comb = X_train_comb_boruta\n",
    "x_test_comb = X_test_comb_boruta"
   ]
  },
  {
   "cell_type": "markdown",
   "id": "b3107f01",
   "metadata": {},
   "source": [
    "## 7.1. Baseline Model - Random"
   ]
  },
  {
   "cell_type": "code",
   "execution_count": 136,
   "id": "c5ee811a",
   "metadata": {
    "ExecuteTime": {
     "end_time": "2022-04-14T18:30:44.826367Z",
     "start_time": "2022-04-14T18:30:44.617102Z"
    }
   },
   "outputs": [],
   "source": [
    "# list of country destination\n",
    "country_list = ohe.categories_[0].tolist()\n",
    "\n",
    "# number of rows\n",
    "k_num = y_test.shape[0]\n",
    "\n",
    "# proportion of country destinations for imbalanced result\n",
    "df_ohe = pd.DataFrame(ohe.inverse_transform(df06_users[ohe.categories_[0]]))\n",
    "country_weights = df_ohe.value_counts(normalize=True).sort_index().tolist()\n",
    "\n",
    "# prediction\n",
    "yhat_random = random.choices(population=country_list,\n",
    "                             weights=country_weights,\n",
    "                             k=k_num)\n",
    "\n",
    "# invert validation response\n",
    "y_test_random = ohe.inverse_transform(y_test)"
   ]
  },
  {
   "cell_type": "markdown",
   "id": "1645a305",
   "metadata": {},
   "source": [
    "### 7.1.1. Baseline Model - Performance"
   ]
  },
  {
   "cell_type": "code",
   "execution_count": 137,
   "id": "d032e4c1",
   "metadata": {
    "ExecuteTime": {
     "end_time": "2022-04-14T18:30:51.558611Z",
     "start_time": "2022-04-14T18:30:48.946042Z"
    }
   },
   "outputs": [
    {
     "name": "stdout",
     "output_type": "stream",
     "text": [
      "Accuracy 0.4243732318798166\n",
      "Balanced Accuracy: 0.0837675533923765\n",
      "Kappa Score: 0.00016230282640805616\n",
      "              precision    recall  f1-score   support\n",
      "\n",
      "          AU       0.00      0.00      0.00        98\n",
      "          CA       0.01      0.01      0.01       283\n",
      "          DE       0.01      0.00      0.00       227\n",
      "          ES       0.01      0.01      0.01       433\n",
      "          FR       0.02      0.02      0.02       963\n",
      "          GB       0.01      0.01      0.01       469\n",
      "          IT       0.02      0.02      0.02       539\n",
      "         NDF       0.58      0.58      0.58     23643\n",
      "          NL       0.01      0.01      0.01       156\n",
      "          PT       0.00      0.00      0.00        36\n",
      "          US       0.30      0.30      0.30     12192\n",
      "       other       0.05      0.05      0.05      1965\n",
      "\n",
      "    accuracy                           0.42     41004\n",
      "   macro avg       0.08      0.08      0.08     41004\n",
      "weighted avg       0.42      0.42      0.42     41004\n",
      "\n"
     ]
    },
    {
     "data": {
      "image/png": "[encoded data removed]",
      "text/plain": [
       "<Figure size 864x864 with 2 Axes>"
      ]
     },
     "metadata": {
      "needs_background": "light"
     },
     "output_type": "display_data"
    }
   ],
   "source": [
    "# Accuracy\n",
    "acc_random = m.accuracy_score( y_test_random, yhat_random )\n",
    "print(f'Accuracy {acc_random}')\n",
    "\n",
    "# Balanced Accuracy\n",
    "balanced_acc_random = m.balanced_accuracy_score(y_test_random, yhat_random)\n",
    "print(f'Balanced Accuracy: {balanced_acc_random}')\n",
    "\n",
    "# Kappa Metrics\n",
    "kappa_random = m.cohen_kappa_score(y_test_random, yhat_random)\n",
    "print(f'Kappa Score: {kappa_random}')\n",
    "\n",
    "# Classification report\n",
    "print(m.classification_report(y_test_random, yhat_random))\n",
    "\n",
    "# Confusion Matrix\n",
    "mt.plot_confusion_matrix(y_test_random, yhat_random, normalize=False, figsize=(12,12));\n",
    "\n",
    "# Performance\n",
    "baseline_performance = {'model': 'Baseline Model', \n",
    "                        'acc': acc_random, \n",
    "                        'balanced_acc': balanced_acc_random, \n",
    "                        'kappa_store': kappa_random}"
   ]
  },
  {
   "cell_type": "markdown",
   "id": "74175f4b",
   "metadata": {},
   "source": [
    "## 7.2. Neural Network - MLP"
   ]
  },
  {
   "cell_type": "markdown",
   "id": "ff93f528",
   "metadata": {},
   "source": [
    "### 7.2.1. Neural Network - Imbalanced Data"
   ]
  },
  {
   "cell_type": "code",
   "execution_count": 138,
   "id": "ffbcef93",
   "metadata": {
    "ExecuteTime": {
     "end_time": "2022-04-14T18:42:34.287197Z",
     "start_time": "2022-04-14T18:30:55.886570Z"
    },
    "scrolled": true
   },
   "outputs": [
    {
     "name": "stdout",
     "output_type": "stream",
     "text": [
      "Epoch 1/100\n",
      "5126/5126 [==============================] - 5s 888us/step - loss: 0.5043 - accuracy: 0.8722\n",
      "Epoch 2/100\n",
      "5126/5126 [==============================] - 4s 801us/step - loss: 0.4857 - accuracy: 0.8746\n",
      "Epoch 3/100\n",
      "5126/5126 [==============================] - 4s 877us/step - loss: 0.4845 - accuracy: 0.8747\n",
      "Epoch 4/100\n",
      "5126/5126 [==============================] - 4s 799us/step - loss: 0.4837 - accuracy: 0.8747\n",
      "Epoch 5/100\n",
      "5126/5126 [==============================] - 4s 800us/step - loss: 0.4835 - accuracy: 0.8747\n",
      "Epoch 6/100\n",
      "5126/5126 [==============================] - 4s 813us/step - loss: 0.4830 - accuracy: 0.8747\n",
      "Epoch 7/100\n",
      "5126/5126 [==============================] - 4s 872us/step - loss: 0.4828 - accuracy: 0.8748\n",
      "Epoch 8/100\n",
      "5126/5126 [==============================] - 4s 794us/step - loss: 0.4823 - accuracy: 0.8748\n",
      "Epoch 9/100\n",
      "5126/5126 [==============================] - 4s 800us/step - loss: 0.4823 - accuracy: 0.8748\n",
      "Epoch 10/100\n",
      "5126/5126 [==============================] - 4s 849us/step - loss: 0.4819 - accuracy: 0.8748\n",
      "Epoch 11/100\n",
      "5126/5126 [==============================] - 4s 818us/step - loss: 0.4818 - accuracy: 0.8748\n",
      "Epoch 12/100\n",
      "5126/5126 [==============================] - 4s 794us/step - loss: 0.4815 - accuracy: 0.8748\n",
      "Epoch 13/100\n",
      "5126/5126 [==============================] - 5s 909us/step - loss: 0.4813 - accuracy: 0.8748\n",
      "Epoch 14/100\n",
      "5126/5126 [==============================] - 4s 865us/step - loss: 0.4811 - accuracy: 0.8748\n",
      "Epoch 15/100\n",
      "5126/5126 [==============================] - 4s 838us/step - loss: 0.4807 - accuracy: 0.8748\n",
      "Epoch 16/100\n",
      "5126/5126 [==============================] - 4s 785us/step - loss: 0.4807 - accuracy: 0.8748\n",
      "Epoch 17/100\n",
      "5126/5126 [==============================] - 4s 812us/step - loss: 0.4805 - accuracy: 0.8748\n",
      "Epoch 18/100\n",
      "5126/5126 [==============================] - 5s 881us/step - loss: 0.4803 - accuracy: 0.8748\n",
      "Epoch 19/100\n",
      "5126/5126 [==============================] - 4s 796us/step - loss: 0.4800 - accuracy: 0.8748\n",
      "Epoch 20/100\n",
      "5126/5126 [==============================] - 11s 2ms/step - loss: 0.4800 - accuracy: 0.8748\n",
      "Epoch 21/100\n",
      "5126/5126 [==============================] - 9s 2ms/step - loss: 0.4799 - accuracy: 0.8748\n",
      "Epoch 22/100\n",
      "5126/5126 [==============================] - 6s 1ms/step - loss: 0.4796 - accuracy: 0.8748\n",
      "Epoch 23/100\n",
      "5126/5126 [==============================] - 6s 1ms/step - loss: 0.4795 - accuracy: 0.8748\n",
      "Epoch 24/100\n",
      "5126/5126 [==============================] - 6s 1ms/step - loss: 0.4794 - accuracy: 0.8748\n",
      "Epoch 25/100\n",
      "5126/5126 [==============================] - 5s 938us/step - loss: 0.4792 - accuracy: 0.8748\n",
      "Epoch 26/100\n",
      "5126/5126 [==============================] - 5s 881us/step - loss: 0.4791 - accuracy: 0.8748\n",
      "Epoch 27/100\n",
      "5126/5126 [==============================] - 4s 820us/step - loss: 0.4791 - accuracy: 0.8748\n",
      "Epoch 28/100\n",
      "5126/5126 [==============================] - 4s 792us/step - loss: 0.4791 - accuracy: 0.8748\n",
      "Epoch 29/100\n",
      "5126/5126 [==============================] - 4s 868us/step - loss: 0.4787 - accuracy: 0.8748\n",
      "Epoch 30/100\n",
      "5126/5126 [==============================] - 4s 788us/step - loss: 0.4787 - accuracy: 0.8748\n",
      "Epoch 31/100\n",
      "5126/5126 [==============================] - 4s 790us/step - loss: 0.4786 - accuracy: 0.8748\n",
      "Epoch 32/100\n",
      "5126/5126 [==============================] - 4s 793us/step - loss: 0.4784 - accuracy: 0.8748\n",
      "Epoch 33/100\n",
      "5126/5126 [==============================] - 4s 858us/step - loss: 0.4784 - accuracy: 0.8748\n",
      "Epoch 34/100\n",
      "5126/5126 [==============================] - 4s 791us/step - loss: 0.4782 - accuracy: 0.8748\n",
      "Epoch 35/100\n",
      "5126/5126 [==============================] - 4s 790us/step - loss: 0.4782 - accuracy: 0.8748\n",
      "Epoch 36/100\n",
      "5126/5126 [==============================] - 4s 789us/step - loss: 0.4782 - accuracy: 0.8748\n",
      "Epoch 37/100\n",
      "5126/5126 [==============================] - 4s 864us/step - loss: 0.4781 - accuracy: 0.8748\n",
      "Epoch 38/100\n",
      "5126/5126 [==============================] - 4s 798us/step - loss: 0.4780 - accuracy: 0.8748\n",
      "Epoch 39/100\n",
      "5126/5126 [==============================] - 4s 793us/step - loss: 0.4780 - accuracy: 0.8748\n",
      "Epoch 40/100\n",
      "5126/5126 [==============================] - 4s 835us/step - loss: 0.4780 - accuracy: 0.8748\n",
      "Epoch 41/100\n",
      "5126/5126 [==============================] - 4s 862us/step - loss: 0.4777 - accuracy: 0.8748\n",
      "Epoch 42/100\n",
      "5126/5126 [==============================] - 4s 804us/step - loss: 0.4777 - accuracy: 0.8748\n",
      "Epoch 43/100\n",
      "5126/5126 [==============================] - 4s 789us/step - loss: 0.4776 - accuracy: 0.8748\n",
      "Epoch 44/100\n",
      "5126/5126 [==============================] - 4s 825us/step - loss: 0.4776 - accuracy: 0.8748\n",
      "Epoch 45/100\n",
      "5126/5126 [==============================] - 4s 830us/step - loss: 0.4775 - accuracy: 0.8748\n",
      "Epoch 46/100\n",
      "5126/5126 [==============================] - 4s 787us/step - loss: 0.4774 - accuracy: 0.8748\n",
      "Epoch 47/100\n",
      "5126/5126 [==============================] - 4s 794us/step - loss: 0.4773 - accuracy: 0.8748\n",
      "Epoch 48/100\n",
      "5126/5126 [==============================] - 4s 857us/step - loss: 0.4773 - accuracy: 0.8748\n",
      "Epoch 49/100\n",
      "5126/5126 [==============================] - 4s 818us/step - loss: 0.4772 - accuracy: 0.8748\n",
      "Epoch 50/100\n",
      "5126/5126 [==============================] - 4s 806us/step - loss: 0.4770 - accuracy: 0.8748\n",
      "Epoch 51/100\n",
      "5126/5126 [==============================] - 4s 792us/step - loss: 0.4772 - accuracy: 0.8748\n",
      "Epoch 52/100\n",
      "5126/5126 [==============================] - 4s 863us/step - loss: 0.4770 - accuracy: 0.8748\n",
      "Epoch 53/100\n",
      "5126/5126 [==============================] - 4s 793us/step - loss: 0.4768 - accuracy: 0.8748\n",
      "Epoch 54/100\n",
      "5126/5126 [==============================] - 12s 2ms/step - loss: 0.4771 - accuracy: 0.8748\n",
      "Epoch 55/100\n",
      "5126/5126 [==============================] - 9s 2ms/step - loss: 0.4767 - accuracy: 0.8748\n",
      "Epoch 56/100\n",
      "5126/5126 [==============================] - 8s 2ms/step - loss: 0.4768 - accuracy: 0.8748\n",
      "Epoch 57/100\n",
      "5126/5126 [==============================] - 11s 2ms/step - loss: 0.4767 - accuracy: 0.8748\n",
      "Epoch 58/100\n",
      "5126/5126 [==============================] - 7s 1ms/step - loss: 0.4765 - accuracy: 0.8748\n",
      "Epoch 59/100\n",
      "5126/5126 [==============================] - 6s 1ms/step - loss: 0.4765 - accuracy: 0.8748: 0s - loss: 0.4774 - ac\n",
      "Epoch 60/100\n",
      "5126/5126 [==============================] - 7s 1ms/step - loss: 0.4765 - accuracy: 0.8748\n",
      "Epoch 61/100\n",
      "5126/5126 [==============================] - 6s 1ms/step - loss: 0.4764 - accuracy: 0.8748\n",
      "Epoch 62/100\n",
      "5126/5126 [==============================] - 7s 1ms/step - loss: 0.4763 - accuracy: 0.8748\n",
      "Epoch 63/100\n",
      "5126/5126 [==============================] - 11s 2ms/step - loss: 0.4763 - accuracy: 0.8748 0s - loss: 0.4761 - \n",
      "Epoch 64/100\n",
      "5126/5126 [==============================] - 33s 6ms/step - loss: 0.4765 - accuracy: 0.8748 3s - loss: 0 - ETA: 3s - loss: 0.4740 - accu - ETA: 3s - loss: 0.4739 - accuracy:  - ETA: 3s - loss: 0.4739 - accura - ETA: 3s - ETA - ETA - ETA: 5s - loss: 0.4741 - accuracy: 0.87 - ETA: 5s - l - ETA: 5s - loss: 0.473 - ETA: \n",
      "Epoch 65/100\n",
      "5126/5126 [==============================] - 15s 3ms/step - loss: 0.4763 - accuracy: 0.8748\n",
      "Epoch 66/100\n",
      "5126/5126 [==============================] - 12s 2ms/step - loss: 0.4763 - accuracy: 0.8748\n",
      "Epoch 67/100\n",
      "5126/5126 [==============================] - 9s 2ms/step - loss: 0.4763 - accuracy: 0.8748: 1s - loss: 0.4761  - ETA: 0s - l\n",
      "Epoch 68/100\n",
      "5126/5126 [==============================] - 9s 2ms/step - loss: 0.4762 - accuracy: 0.8748\n",
      "Epoch 69/100\n",
      "5126/5126 [==============================] - 8s 1ms/step - loss: 0.4762 - accuracy: 0.8748\n",
      "Epoch 70/100\n",
      "5126/5126 [==============================] - 8s 2ms/step - loss: 0.4760 - accuracy: 0.8748\n",
      "Epoch 71/100\n",
      "5126/5126 [==============================] - 7s 1ms/step - loss: 0.4761 - accuracy: 0.8748\n",
      "Epoch 72/100\n",
      "5126/5126 [==============================] - 8s 2ms/step - loss: 0.4760 - accuracy: 0.8748\n",
      "Epoch 73/100\n"
     ]
    },
    {
     "name": "stdout",
     "output_type": "stream",
     "text": [
      "5126/5126 [==============================] - 28s 5ms/step - loss: 0.4760 - accuracy: 0.8748 6s - loss: - ETA: 8s - loss: 0.4727 - ac - ETA: 9s - loss: 0.4732 - ac - ETA: 11s - loss:  - ETA: 14s - loss: 0.4728 - accuracy:  - ETA: 15s - loss: 0.4726 - accuracy: 0.8 - ETA: 15s - loss: 0.4726 - accur - - ETA: 22s - loss: 0.4753 - accura - ETA: 22s - l - ETA: 24s - loss: 0.4762 - accuracy: 0 - ETA: 25s - loss: 0.4752 - accu - ETA: 26s - loss: 0.4755 - accuracy: 0.8 - ETA: 26s - loss: 0.4753 - accuracy: 0. - ETA: 26s - loss: 0.4753 - accurac - ETA: 27s - loss: 0.4756 - accurac\n",
      "Epoch 74/100\n",
      "5126/5126 [==============================] - 11s 2ms/step - loss: 0.4759 - accuracy: 0.8749\n",
      "Epoch 75/100\n",
      "5126/5126 [==============================] - 7s 1ms/step - loss: 0.4759 - accuracy: 0.8749\n",
      "Epoch 76/100\n",
      "5126/5126 [==============================] - 6s 1ms/step - loss: 0.4759 - accuracy: 0.8748\n",
      "Epoch 77/100\n",
      "5126/5126 [==============================] - 5s 1ms/step - loss: 0.4759 - accuracy: 0.8748\n",
      "Epoch 78/100\n",
      "5126/5126 [==============================] - 6s 1ms/step - loss: 0.4758 - accuracy: 0.8748\n",
      "Epoch 79/100\n",
      "5126/5126 [==============================] - 5s 1ms/step - loss: 0.4758 - accuracy: 0.8748\n",
      "Epoch 80/100\n",
      "5126/5126 [==============================] - 5s 1ms/step - loss: 0.4758 - accuracy: 0.8748\n",
      "Epoch 81/100\n",
      "5126/5126 [==============================] - 6s 1ms/step - loss: 0.4758 - accuracy: 0.8748\n",
      "Epoch 82/100\n",
      "5126/5126 [==============================] - 5s 1ms/step - loss: 0.4759 - accuracy: 0.8748\n",
      "Epoch 83/100\n",
      "5126/5126 [==============================] - 5s 1ms/step - loss: 0.4757 - accuracy: 0.8748\n",
      "Epoch 84/100\n",
      "5126/5126 [==============================] - 6s 1ms/step - loss: 0.4756 - accuracy: 0.8748\n",
      "Epoch 85/100\n",
      "5126/5126 [==============================] - 5s 1ms/step - loss: 0.4756 - accuracy: 0.8748\n",
      "Epoch 86/100\n",
      "5126/5126 [==============================] - 5s 1ms/step - loss: 0.4757 - accuracy: 0.8748\n",
      "Epoch 87/100\n",
      "5126/5126 [==============================] - 6s 1ms/step - loss: 0.4755 - accuracy: 0.8748\n",
      "Epoch 88/100\n",
      "5126/5126 [==============================] - 7s 1ms/step - loss: 0.4756 - accuracy: 0.8748: 0s - loss: 0.4\n",
      "Epoch 89/100\n",
      "5126/5126 [==============================] - 28s 6ms/step - loss: 0.4756 - accuracy: 0.8748 9s - loss: 0.4687 - accu - ETA: 11s - loss: 0.4680 - accur - ETA: 12s - loss: 0.4683 - accuracy: 0. - ETA: 13s - loss: 0.4680 - accuracy: 0.87 - ETA: 13s - loss: 0.4680 - accuracy: 0.87 - ETA: 13s - loss: 0.4684 - accura - ETA: 14s - loss: 0.4685 - accurac - ETA: 15s - loss: 0.4690 - accur - ETA: 16s - loss: 0.4711 - accur - ETA: 17s - loss: 0.4712 - accuracy - ETA: 18s - loss: 0.4717 - accuracy:  - ETA: 18s - loss: 0.4719 - a - ETA: 19s - loss: 0.4714 - accuracy: 0. - E\n",
      "Epoch 90/100\n",
      "5126/5126 [==============================] - 12s 2ms/step - loss: 0.4756 - accuracy: 0.8748\n",
      "Epoch 91/100\n",
      "5126/5126 [==============================] - 8s 2ms/step - loss: 0.4755 - accuracy: 0.8748\n",
      "Epoch 92/100\n",
      "5126/5126 [==============================] - 7s 1ms/step - loss: 0.4756 - accuracy: 0.8748\n",
      "Epoch 93/100\n",
      "5126/5126 [==============================] - 7s 1ms/step - loss: 0.4755 - accuracy: 0.8748\n",
      "Epoch 94/100\n",
      "5126/5126 [==============================] - 7s 1ms/step - loss: 0.4754 - accuracy: 0.8748\n",
      "Epoch 95/100\n",
      "5126/5126 [==============================] - 7s 1ms/step - loss: 0.4752 - accuracy: 0.8748\n",
      "Epoch 96/100\n",
      "5126/5126 [==============================] - 8s 1ms/step - loss: 0.4755 - accuracy: 0.8748\n",
      "Epoch 97/100\n",
      "5126/5126 [==============================] - 35s 7ms/step - loss: 0.4753 - accuracy: 0.8748\n",
      "Epoch 98/100\n",
      "5126/5126 [==============================] - 10s 2ms/step - loss: 0.4754 - accuracy: 0.8748\n",
      "Epoch 99/100\n",
      "5126/5126 [==============================] - 9s 2ms/step - loss: 0.4754 - accuracy: 0.8748\n",
      "Epoch 100/100\n",
      "5126/5126 [==============================] - 8s 1ms/step - loss: 0.4754 - accuracy: 0.8748\n"
     ]
    },
    {
     "data": {
      "text/plain": [
       "<tensorflow.python.keras.callbacks.History at 0x2ca113b5df0>"
      ]
     },
     "execution_count": 138,
     "metadata": {},
     "output_type": "execute_result"
    }
   ],
   "source": [
    "# model definition\n",
    "model_nn = ml.Sequential()\n",
    "model_nn.add( l.Dense(128, input_dim=x_train.shape[1], activation='relu') )\n",
    "model_nn.add( l.Dense(12, activation='softmax') )\n",
    "\n",
    "# model compile\n",
    "model_nn.compile(loss='categorical_crossentropy', optimizer='adam', metrics=['accuracy'])\n",
    "\n",
    "# train model\n",
    "model_nn.fit(x_train, y_train, epochs=100)"
   ]
  },
  {
   "cell_type": "markdown",
   "id": "ef2f813d",
   "metadata": {},
   "source": [
    "#### 7.2.1.1 Imbalanced Data - Performance"
   ]
  },
  {
   "cell_type": "code",
   "execution_count": 139,
   "id": "ff13f804",
   "metadata": {
    "ExecuteTime": {
     "end_time": "2022-04-14T18:42:41.710437Z",
     "start_time": "2022-04-14T18:42:40.668257Z"
    }
   },
   "outputs": [],
   "source": [
    "# prediction\n",
    "pred_nn = model_nn.predict(x_test)\n",
    "\n",
    "# invert prediction\n",
    "yhat_nn = ohe.inverse_transform(pred_nn)\n",
    "\n",
    "# invert validation response\n",
    "y_test_nn = ohe.inverse_transform(y_test)"
   ]
  },
  {
   "cell_type": "code",
   "execution_count": 140,
   "id": "21ae1bb8",
   "metadata": {
    "ExecuteTime": {
     "end_time": "2022-04-14T18:42:47.563574Z",
     "start_time": "2022-04-14T18:42:47.509580Z"
    },
    "cell_style": "split"
   },
   "outputs": [
    {
     "data": {
      "text/plain": [
       "NDF      0.576602\n",
       "US       0.297337\n",
       "other    0.047922\n",
       "FR       0.023486\n",
       "IT       0.013145\n",
       "GB       0.011438\n",
       "ES       0.010560\n",
       "CA       0.006902\n",
       "DE       0.005536\n",
       "NL       0.003805\n",
       "AU       0.002390\n",
       "PT       0.000878\n",
       "dtype: float64"
      ]
     },
     "execution_count": 140,
     "metadata": {},
     "output_type": "execute_result"
    }
   ],
   "source": [
    "# check the balance of validation\n",
    "pd.DataFrame(y_test_nn).value_counts(normalize=True)"
   ]
  },
  {
   "cell_type": "code",
   "execution_count": 141,
   "id": "62ccb1e9",
   "metadata": {
    "ExecuteTime": {
     "end_time": "2022-04-14T18:42:54.083909Z",
     "start_time": "2022-04-14T18:42:54.039891Z"
    },
    "cell_style": "split"
   },
   "outputs": [
    {
     "data": {
      "text/plain": [
       "NDF      0.576627\n",
       "US       0.423227\n",
       "AU       0.000024\n",
       "FR       0.000024\n",
       "GB       0.000024\n",
       "NL       0.000024\n",
       "PT       0.000024\n",
       "other    0.000024\n",
       "dtype: float64"
      ]
     },
     "execution_count": 141,
     "metadata": {},
     "output_type": "execute_result"
    }
   ],
   "source": [
    "# check the balance of result\n",
    "pd.DataFrame(yhat_nn).value_counts(normalize=True)"
   ]
  },
  {
   "cell_type": "code",
   "execution_count": 142,
   "id": "29f2d40c",
   "metadata": {
    "ExecuteTime": {
     "end_time": "2022-04-14T18:43:02.537710Z",
     "start_time": "2022-04-14T18:42:59.358568Z"
    }
   },
   "outputs": [
    {
     "name": "stdout",
     "output_type": "stream",
     "text": [
      "Accuracy: 0.8738171885669691\n",
      "Balanced Accuracy: 0.1666324912510936\n",
      "Kappa Score: 0.7670496565538623\n",
      "              precision    recall  f1-score   support\n",
      "\n",
      "          AU       0.00      0.00      0.00        98\n",
      "          CA       0.00      0.00      0.00       283\n",
      "          DE       0.00      0.00      0.00       227\n",
      "          ES       0.00      0.00      0.00       433\n",
      "          FR       0.00      0.00      0.00       963\n",
      "          GB       0.00      0.00      0.00       469\n",
      "          IT       0.00      0.00      0.00       539\n",
      "         NDF       1.00      1.00      1.00     23643\n",
      "          NL       0.00      0.00      0.00       156\n",
      "          PT       0.00      0.00      0.00        36\n",
      "          US       0.70      1.00      0.82     12192\n",
      "       other       0.00      0.00      0.00      1965\n",
      "\n",
      "    accuracy                           0.87     41004\n",
      "   macro avg       0.14      0.17      0.15     41004\n",
      "weighted avg       0.79      0.87      0.82     41004\n",
      "\n"
     ]
    },
    {
     "data": {
      "image/png": "[encoded data removed]",
      "text/plain": [
       "<Figure size 864x864 with 2 Axes>"
      ]
     },
     "metadata": {
      "needs_background": "light"
     },
     "output_type": "display_data"
    }
   ],
   "source": [
    "# Accuracy\n",
    "acc_nn = m.accuracy_score( y_test_nn, yhat_nn )\n",
    "print(f'Accuracy: {acc_nn}')\n",
    "\n",
    "# Balanced Accuracy\n",
    "balanced_acc_nn = m.balanced_accuracy_score(y_test_nn, yhat_nn)\n",
    "print(f'Balanced Accuracy: {balanced_acc_nn}')\n",
    "\n",
    "# Kappa Metrics\n",
    "kappa_nn = m.cohen_kappa_score(y_test_nn, yhat_nn)\n",
    "print(f'Kappa Score: {kappa_nn}')\n",
    "\n",
    "# Classification report\n",
    "print(m.classification_report(y_test_nn, yhat_nn))\n",
    "\n",
    "# Confusion Matrix\n",
    "mt.plot_confusion_matrix( y_test_nn, yhat_nn, normalize=False, figsize=(12,12));\n",
    "\n",
    "# Performance\n",
    "imb_performance = {'model': 'NN Model - Imbalanced Data',\n",
    "                   'acc': np.round(acc_nn, 6), \n",
    "                   'balanced_acc': np.round(balanced_acc_nn, 6), \n",
    "                   'kappa_score': np.round(kappa_nn, 6)}"
   ]
  },
  {
   "cell_type": "markdown",
   "id": "9ad0b0a8",
   "metadata": {},
   "source": [
    "#### 7.2.1.2. Imbalanced Data - Cross-Validation"
   ]
  },
  {
   "cell_type": "code",
   "execution_count": 144,
   "id": "752267fb",
   "metadata": {
    "ExecuteTime": {
     "end_time": "2022-04-14T19:24:30.355550Z",
     "start_time": "2022-04-14T18:44:49.933923Z"
    }
   },
   "outputs": [
    {
     "name": "stdout",
     "output_type": "stream",
     "text": [
      "Fold Number:1/5\n",
      "Fold Number:2/5\n",
      "Fold Number:3/5\n",
      "Fold Number:4/5\n",
      "Fold Number:5/5\n"
     ]
    }
   ],
   "source": [
    "# cross validation performance\n",
    "acc_nn, balanced_acc_nn, kappa_nn = cross_validation(num_fold = 5, \n",
    "                                                     x_train = x_train, \n",
    "                                                     y_train = y_train, \n",
    "                                                     model = model_nn, \n",
    "                                                     response_encoder = ohe, \n",
    "                                                     balance_model = False, \n",
    "                                                     verbose = True)"
   ]
  },
  {
   "cell_type": "code",
   "execution_count": 145,
   "id": "1e7d6ff9",
   "metadata": {
    "ExecuteTime": {
     "end_time": "2022-04-14T19:24:36.196270Z",
     "start_time": "2022-04-14T19:24:36.161268Z"
    }
   },
   "outputs": [],
   "source": [
    "# Performance\n",
    "imb_performance_cv = {'model': 'NN Model - Imbalanced Data - CV',\n",
    "                      'acc': f'{np.round(np.mean(acc_nn), 2)} +/- {np.round(np.std(acc_nn), 4)}',\n",
    "                      'balanced_acc': f'{np.round(np.mean(balanced_acc_nn), 2)} +/- {np.round(np.std(balanced_acc_nn), 4)}',\n",
    "                      'kappa_score': f'{np.round(np.mean(kappa_nn), 2)} +/- {np.round(np.std(kappa_nn), 4)}'}"
   ]
  },
  {
   "cell_type": "code",
   "execution_count": 146,
   "id": "595d5e15",
   "metadata": {
    "ExecuteTime": {
     "end_time": "2022-04-14T19:24:55.229272Z",
     "start_time": "2022-04-14T19:24:55.205266Z"
    }
   },
   "outputs": [
    {
     "name": "stdout",
     "output_type": "stream",
     "text": [
      "Avg Accuracy: 0.87 +/- 0.00014\n",
      "Avg Balanced Accuracy: 0.17 +/- 0.0004\n",
      "Avg Kappa Score: 0.77 +/- 0.0003\n"
     ]
    }
   ],
   "source": [
    "print(f'Avg Accuracy: {np.round(np.mean(acc_nn), 2)} +/- {np.round(np.std(acc_nn),5)}')\n",
    "print(f'Avg Balanced Accuracy: {np.round(np.mean(balanced_acc_nn), 2)} +/- {np.round(np.std(balanced_acc_nn),5)}')\n",
    "print(f'Avg Kappa Score: {np.round(np.mean(kappa_nn), 2)} +/- {np.round(np.std(kappa_nn), 4)}')"
   ]
  },
  {
   "cell_type": "markdown",
   "id": "30a8d813",
   "metadata": {},
   "source": [
    "### 7.2.2. Neural Network - Random Undersampling"
   ]
  },
  {
   "cell_type": "code",
   "execution_count": 147,
   "id": "fa3d36ec",
   "metadata": {
    "ExecuteTime": {
     "end_time": "2022-04-14T19:25:13.163390Z",
     "start_time": "2022-04-14T19:25:00.826389Z"
    },
    "scrolled": true
   },
   "outputs": [
    {
     "name": "stdout",
     "output_type": "stream",
     "text": [
      "Epoch 1/100\n",
      "66/66 [==============================] - 0s 2ms/step - loss: 2.4402 - accuracy: 0.1397\n",
      "Epoch 2/100\n",
      "66/66 [==============================] - 0s 3ms/step - loss: 2.3099 - accuracy: 0.1813\n",
      "Epoch 3/100\n",
      "66/66 [==============================] - 0s 2ms/step - loss: 2.2447 - accuracy: 0.1795\n",
      "Epoch 4/100\n",
      "66/66 [==============================] - 0s 2ms/step - loss: 2.2204 - accuracy: 0.1880\n",
      "Epoch 5/100\n",
      "66/66 [==============================] - 0s 2ms/step - loss: 2.2088 - accuracy: 0.1866\n",
      "Epoch 6/100\n",
      "66/66 [==============================] - 0s 2ms/step - loss: 2.2032 - accuracy: 0.1861\n",
      "Epoch 7/100\n",
      "66/66 [==============================] - 0s 2ms/step - loss: 2.1991 - accuracy: 0.1903\n",
      "Epoch 8/100\n",
      "66/66 [==============================] - 0s 2ms/step - loss: 2.1966 - accuracy: 0.1837\n",
      "Epoch 9/100\n",
      "66/66 [==============================] - 0s 2ms/step - loss: 2.1944 - accuracy: 0.1894: 0s - loss: 2.1985 - accuracy: 0.\n",
      "Epoch 10/100\n",
      "66/66 [==============================] - 0s 2ms/step - loss: 2.1917 - accuracy: 0.1979\n",
      "Epoch 11/100\n",
      "66/66 [==============================] - 0s 2ms/step - loss: 2.1904 - accuracy: 0.1908\n",
      "Epoch 12/100\n",
      "66/66 [==============================] - 0s 2ms/step - loss: 2.1881 - accuracy: 0.1913\n",
      "Epoch 13/100\n",
      "66/66 [==============================] - 0s 2ms/step - loss: 2.1872 - accuracy: 0.2022\n",
      "Epoch 14/100\n",
      "66/66 [==============================] - 0s 2ms/step - loss: 2.1858 - accuracy: 0.1922\n",
      "Epoch 15/100\n",
      "66/66 [==============================] - 0s 2ms/step - loss: 2.1846 - accuracy: 0.1951\n",
      "Epoch 16/100\n",
      "66/66 [==============================] - 0s 2ms/step - loss: 2.1836 - accuracy: 0.1913: 0s - loss: 2.1744 - accuracy: 0.19\n",
      "Epoch 17/100\n",
      "66/66 [==============================] - 0s 1ms/step - loss: 2.1832 - accuracy: 0.1946\n",
      "Epoch 18/100\n",
      "66/66 [==============================] - 0s 1ms/step - loss: 2.1824 - accuracy: 0.1984\n",
      "Epoch 19/100\n",
      "66/66 [==============================] - 0s 1ms/step - loss: 2.1804 - accuracy: 0.1960\n",
      "Epoch 20/100\n",
      "66/66 [==============================] - 0s 2ms/step - loss: 2.1803 - accuracy: 0.1894\n",
      "Epoch 21/100\n",
      "66/66 [==============================] - 0s 2ms/step - loss: 2.1799 - accuracy: 0.1989\n",
      "Epoch 22/100\n",
      "66/66 [==============================] - 0s 2ms/step - loss: 2.1790 - accuracy: 0.1918\n",
      "Epoch 23/100\n",
      "66/66 [==============================] - 0s 2ms/step - loss: 2.1775 - accuracy: 0.1960\n",
      "Epoch 24/100\n",
      "66/66 [==============================] - 0s 2ms/step - loss: 2.1776 - accuracy: 0.2036\n",
      "Epoch 25/100\n",
      "66/66 [==============================] - 0s 2ms/step - loss: 2.1776 - accuracy: 0.1970\n",
      "Epoch 26/100\n",
      "66/66 [==============================] - 0s 1ms/step - loss: 2.1767 - accuracy: 0.2045\n",
      "Epoch 27/100\n",
      "66/66 [==============================] - 0s 1ms/step - loss: 2.1753 - accuracy: 0.2045\n",
      "Epoch 28/100\n",
      "66/66 [==============================] - 0s 1ms/step - loss: 2.1766 - accuracy: 0.1955\n",
      "Epoch 29/100\n",
      "66/66 [==============================] - 0s 1ms/step - loss: 2.1757 - accuracy: 0.1989\n",
      "Epoch 30/100\n",
      "66/66 [==============================] - 0s 1ms/step - loss: 2.1748 - accuracy: 0.2041\n",
      "Epoch 31/100\n",
      "66/66 [==============================] - 0s 1ms/step - loss: 2.1736 - accuracy: 0.2083\n",
      "Epoch 32/100\n",
      "66/66 [==============================] - 0s 1ms/step - loss: 2.1729 - accuracy: 0.2017\n",
      "Epoch 33/100\n",
      "66/66 [==============================] - 0s 1ms/step - loss: 2.1735 - accuracy: 0.2126\n",
      "Epoch 34/100\n",
      "66/66 [==============================] - 0s 1ms/step - loss: 2.1734 - accuracy: 0.2031\n",
      "Epoch 35/100\n",
      "66/66 [==============================] - 0s 2ms/step - loss: 2.1707 - accuracy: 0.2012: 0s - loss: 2.1591 - accuracy: 0.\n",
      "Epoch 36/100\n",
      "66/66 [==============================] - 0s 1ms/step - loss: 2.1710 - accuracy: 0.2036\n",
      "Epoch 37/100\n",
      "66/66 [==============================] - 0s 1ms/step - loss: 2.1716 - accuracy: 0.2083\n",
      "Epoch 38/100\n",
      "66/66 [==============================] - 0s 1ms/step - loss: 2.1716 - accuracy: 0.2107\n",
      "Epoch 39/100\n",
      "66/66 [==============================] - 0s 1ms/step - loss: 2.1709 - accuracy: 0.2045\n",
      "Epoch 40/100\n",
      "66/66 [==============================] - 0s 1ms/step - loss: 2.1710 - accuracy: 0.2008\n",
      "Epoch 41/100\n",
      "66/66 [==============================] - 0s 1ms/step - loss: 2.1678 - accuracy: 0.2079\n",
      "Epoch 42/100\n",
      "66/66 [==============================] - 0s 1ms/step - loss: 2.1692 - accuracy: 0.2022\n",
      "Epoch 43/100\n",
      "66/66 [==============================] - 0s 1ms/step - loss: 2.1687 - accuracy: 0.2041\n",
      "Epoch 44/100\n",
      "66/66 [==============================] - 0s 1ms/step - loss: 2.1675 - accuracy: 0.2093\n",
      "Epoch 45/100\n",
      "66/66 [==============================] - 0s 1ms/step - loss: 2.1667 - accuracy: 0.2150\n",
      "Epoch 46/100\n",
      "66/66 [==============================] - 0s 1ms/step - loss: 2.1675 - accuracy: 0.2093\n",
      "Epoch 47/100\n",
      "66/66 [==============================] - 0s 1ms/step - loss: 2.1664 - accuracy: 0.2083\n",
      "Epoch 48/100\n",
      "66/66 [==============================] - 0s 1ms/step - loss: 2.1662 - accuracy: 0.2107\n",
      "Epoch 49/100\n",
      "66/66 [==============================] - 0s 1ms/step - loss: 2.1661 - accuracy: 0.2093\n",
      "Epoch 50/100\n",
      "66/66 [==============================] - 0s 1ms/step - loss: 2.1650 - accuracy: 0.2116\n",
      "Epoch 51/100\n",
      "66/66 [==============================] - 0s 1ms/step - loss: 2.1654 - accuracy: 0.2140\n",
      "Epoch 52/100\n",
      "66/66 [==============================] - 0s 1ms/step - loss: 2.1658 - accuracy: 0.2050\n",
      "Epoch 53/100\n",
      "66/66 [==============================] - 0s 1ms/step - loss: 2.1638 - accuracy: 0.2064\n",
      "Epoch 54/100\n",
      "66/66 [==============================] - 0s 1ms/step - loss: 2.1638 - accuracy: 0.2150\n",
      "Epoch 55/100\n",
      "66/66 [==============================] - 0s 1ms/step - loss: 2.1631 - accuracy: 0.2112\n",
      "Epoch 56/100\n",
      "66/66 [==============================] - 0s 1ms/step - loss: 2.1629 - accuracy: 0.2140\n",
      "Epoch 57/100\n",
      "66/66 [==============================] - 0s 1ms/step - loss: 2.1637 - accuracy: 0.2112\n",
      "Epoch 58/100\n",
      "66/66 [==============================] - 0s 1ms/step - loss: 2.1619 - accuracy: 0.2216\n",
      "Epoch 59/100\n",
      "66/66 [==============================] - 0s 1ms/step - loss: 2.1627 - accuracy: 0.2107\n",
      "Epoch 60/100\n",
      "66/66 [==============================] - 0s 1ms/step - loss: 2.1623 - accuracy: 0.2140\n",
      "Epoch 61/100\n",
      "66/66 [==============================] - 0s 1ms/step - loss: 2.1617 - accuracy: 0.2055\n",
      "Epoch 62/100\n",
      "66/66 [==============================] - 0s 1ms/step - loss: 2.1623 - accuracy: 0.2088\n",
      "Epoch 63/100\n",
      "66/66 [==============================] - 0s 1ms/step - loss: 2.1597 - accuracy: 0.2131\n",
      "Epoch 64/100\n",
      "66/66 [==============================] - 0s 1ms/step - loss: 2.1593 - accuracy: 0.2164\n",
      "Epoch 65/100\n",
      "66/66 [==============================] - 0s 1ms/step - loss: 2.1599 - accuracy: 0.2116\n",
      "Epoch 66/100\n",
      "66/66 [==============================] - 0s 1ms/step - loss: 2.1596 - accuracy: 0.2116\n",
      "Epoch 67/100\n",
      "66/66 [==============================] - 0s 2ms/step - loss: 2.1583 - accuracy: 0.2173\n",
      "Epoch 68/100\n",
      "66/66 [==============================] - 0s 3ms/step - loss: 2.1590 - accuracy: 0.2183\n",
      "Epoch 69/100\n",
      "66/66 [==============================] - 0s 2ms/step - loss: 2.1581 - accuracy: 0.2230\n",
      "Epoch 70/100\n",
      "66/66 [==============================] - 0s 2ms/step - loss: 2.1592 - accuracy: 0.2135\n",
      "Epoch 71/100\n",
      "66/66 [==============================] - 0s 3ms/step - loss: 2.1581 - accuracy: 0.2173\n",
      "Epoch 72/100\n",
      "66/66 [==============================] - 0s 3ms/step - loss: 2.1572 - accuracy: 0.2188\n",
      "Epoch 73/100\n",
      "66/66 [==============================] - 0s 2ms/step - loss: 2.1574 - accuracy: 0.2150\n",
      "Epoch 74/100\n",
      "66/66 [==============================] - 0s 2ms/step - loss: 2.1585 - accuracy: 0.2202\n",
      "Epoch 75/100\n",
      "66/66 [==============================] - 0s 2ms/step - loss: 2.1567 - accuracy: 0.2116\n",
      "Epoch 76/100\n",
      "66/66 [==============================] - 0s 2ms/step - loss: 2.1572 - accuracy: 0.2150\n",
      "Epoch 77/100\n",
      "66/66 [==============================] - 0s 2ms/step - loss: 2.1581 - accuracy: 0.2211\n",
      "Epoch 78/100\n",
      "66/66 [==============================] - 0s 2ms/step - loss: 2.1568 - accuracy: 0.2197\n",
      "Epoch 79/100\n",
      "66/66 [==============================] - 0s 2ms/step - loss: 2.1566 - accuracy: 0.2164\n",
      "Epoch 80/100\n",
      "66/66 [==============================] - 0s 2ms/step - loss: 2.1554 - accuracy: 0.2140\n",
      "Epoch 81/100\n",
      "66/66 [==============================] - 0s 2ms/step - loss: 2.1559 - accuracy: 0.2159\n"
     ]
    },
    {
     "name": "stdout",
     "output_type": "stream",
     "text": [
      "Epoch 82/100\n",
      "66/66 [==============================] - 0s 2ms/step - loss: 2.1552 - accuracy: 0.2192\n",
      "Epoch 83/100\n",
      "66/66 [==============================] - 0s 2ms/step - loss: 2.1547 - accuracy: 0.2173\n",
      "Epoch 84/100\n",
      "66/66 [==============================] - 0s 2ms/step - loss: 2.1538 - accuracy: 0.2169\n",
      "Epoch 85/100\n",
      "66/66 [==============================] - 0s 1ms/step - loss: 2.1536 - accuracy: 0.2259\n",
      "Epoch 86/100\n",
      "66/66 [==============================] - 0s 1ms/step - loss: 2.1538 - accuracy: 0.2159\n",
      "Epoch 87/100\n",
      "66/66 [==============================] - 0s 1ms/step - loss: 2.1537 - accuracy: 0.2197\n",
      "Epoch 88/100\n",
      "66/66 [==============================] - 0s 1ms/step - loss: 2.1539 - accuracy: 0.2164\n",
      "Epoch 89/100\n",
      "66/66 [==============================] - 0s 1ms/step - loss: 2.1535 - accuracy: 0.2173\n",
      "Epoch 90/100\n",
      "66/66 [==============================] - 0s 1ms/step - loss: 2.1528 - accuracy: 0.2131\n",
      "Epoch 91/100\n",
      "66/66 [==============================] - 0s 1ms/step - loss: 2.1528 - accuracy: 0.2126\n",
      "Epoch 92/100\n",
      "66/66 [==============================] - 0s 1ms/step - loss: 2.1527 - accuracy: 0.2192\n",
      "Epoch 93/100\n",
      "66/66 [==============================] - 0s 1ms/step - loss: 2.1516 - accuracy: 0.2192\n",
      "Epoch 94/100\n",
      "66/66 [==============================] - 0s 1ms/step - loss: 2.1515 - accuracy: 0.2240\n",
      "Epoch 95/100\n",
      "66/66 [==============================] - 0s 1ms/step - loss: 2.1504 - accuracy: 0.2292\n",
      "Epoch 96/100\n",
      "66/66 [==============================] - 0s 1ms/step - loss: 2.1509 - accuracy: 0.2164\n",
      "Epoch 97/100\n",
      "66/66 [==============================] - 0s 1ms/step - loss: 2.1502 - accuracy: 0.2211\n",
      "Epoch 98/100\n",
      "66/66 [==============================] - 0s 1ms/step - loss: 2.1508 - accuracy: 0.2273\n",
      "Epoch 99/100\n",
      "66/66 [==============================] - 0s 1ms/step - loss: 2.1516 - accuracy: 0.2235\n",
      "Epoch 100/100\n",
      "66/66 [==============================] - 0s 1ms/step - loss: 2.1504 - accuracy: 0.2240\n"
     ]
    },
    {
     "data": {
      "text/plain": [
       "<tensorflow.python.keras.callbacks.History at 0x2ca1c624070>"
      ]
     },
     "execution_count": 147,
     "metadata": {},
     "output_type": "execute_result"
    }
   ],
   "source": [
    "# model definition\n",
    "model_under = ml.Sequential()\n",
    "model_under.add( l.Dense(128, input_dim=x_train_under.shape[1], activation='relu') )\n",
    "model_under.add( l.Dense(12, activation='softmax') )\n",
    "\n",
    "# model compile\n",
    "model_under.compile(loss='categorical_crossentropy', optimizer='adam', metrics=['accuracy'])\n",
    "\n",
    "# train model\n",
    "model_under.fit(x_train_under, y_train_under, epochs=100)"
   ]
  },
  {
   "cell_type": "markdown",
   "id": "afa3706d",
   "metadata": {},
   "source": [
    "#### 7.2.2.1. Random Undersampling - Performance"
   ]
  },
  {
   "cell_type": "code",
   "execution_count": 153,
   "id": "921b5fa4",
   "metadata": {
    "ExecuteTime": {
     "end_time": "2022-04-14T19:31:40.799727Z",
     "start_time": "2022-04-14T19:31:40.017730Z"
    }
   },
   "outputs": [],
   "source": [
    "# prediction\n",
    "pred_under_nn = model_under.predict(x_test_under)\n",
    "\n",
    "# invert prediction\n",
    "yhat_under_nn = ohe.inverse_transform(pred_under_nn)\n",
    "\n",
    "# invert validation response\n",
    "y_test_under_nn = ohe.inverse_transform(y_test)"
   ]
  },
  {
   "cell_type": "code",
   "execution_count": 154,
   "id": "a2a231bd",
   "metadata": {
    "ExecuteTime": {
     "end_time": "2022-04-14T19:31:45.599740Z",
     "start_time": "2022-04-14T19:31:45.556736Z"
    },
    "cell_style": "split"
   },
   "outputs": [
    {
     "data": {
      "text/plain": [
       "NDF      0.576602\n",
       "US       0.297337\n",
       "other    0.047922\n",
       "FR       0.023486\n",
       "IT       0.013145\n",
       "GB       0.011438\n",
       "ES       0.010560\n",
       "CA       0.006902\n",
       "DE       0.005536\n",
       "NL       0.003805\n",
       "AU       0.002390\n",
       "PT       0.000878\n",
       "dtype: float64"
      ]
     },
     "execution_count": 154,
     "metadata": {},
     "output_type": "execute_result"
    }
   ],
   "source": [
    "# check the balance of validation\n",
    "pd.DataFrame(y_test_under_nn).value_counts(normalize=True)"
   ]
  },
  {
   "cell_type": "code",
   "execution_count": 155,
   "id": "d71eeada",
   "metadata": {
    "ExecuteTime": {
     "end_time": "2022-04-14T19:31:50.117182Z",
     "start_time": "2022-04-14T19:31:50.088134Z"
    },
    "cell_style": "split"
   },
   "outputs": [
    {
     "data": {
      "text/plain": [
       "NDF      0.577188\n",
       "CA       0.067189\n",
       "AU       0.066750\n",
       "NL       0.058482\n",
       "IT       0.058165\n",
       "FR       0.049654\n",
       "US       0.037630\n",
       "ES       0.033826\n",
       "GB       0.016950\n",
       "DE       0.016413\n",
       "other    0.012023\n",
       "PT       0.005731\n",
       "dtype: float64"
      ]
     },
     "execution_count": 155,
     "metadata": {},
     "output_type": "execute_result"
    }
   ],
   "source": [
    "# check the balance of validation\n",
    "pd.DataFrame(yhat_under_nn).value_counts(normalize=True)"
   ]
  },
  {
   "cell_type": "code",
   "execution_count": 157,
   "id": "f247d237",
   "metadata": {
    "ExecuteTime": {
     "end_time": "2022-04-14T19:32:06.366287Z",
     "start_time": "2022-04-14T19:32:03.256131Z"
    }
   },
   "outputs": [
    {
     "name": "stdout",
     "output_type": "stream",
     "text": [
      "Accuracy: 0.6129402009560043\n",
      "Balanced Accuracy: 0.17518680734916225\n",
      "Kappa Score: 0.4063534394489584\n",
      "              precision    recall  f1-score   support\n",
      "\n",
      "          AU       0.01      0.28      0.02        98\n",
      "          CA       0.02      0.17      0.03       283\n",
      "          DE       0.01      0.04      0.02       227\n",
      "          ES       0.02      0.06      0.03       433\n",
      "          FR       0.06      0.12      0.08       963\n",
      "          GB       0.03      0.04      0.03       469\n",
      "          IT       0.03      0.15      0.05       539\n",
      "         NDF       1.00      1.00      1.00     23643\n",
      "          NL       0.01      0.10      0.01       156\n",
      "          PT       0.00      0.03      0.01        36\n",
      "          US       0.71      0.09      0.16     12192\n",
      "       other       0.12      0.03      0.05      1965\n",
      "\n",
      "    accuracy                           0.61     41004\n",
      "   macro avg       0.17      0.18      0.12     41004\n",
      "weighted avg       0.79      0.61      0.63     41004\n",
      "\n"
     ]
    },
    {
     "data": {
      "image/png": "[encoded data removed]",
      "text/plain": [
       "<Figure size 864x864 with 2 Axes>"
      ]
     },
     "metadata": {
      "needs_background": "light"
     },
     "output_type": "display_data"
    }
   ],
   "source": [
    "# Accuracy\n",
    "acc_under_nn = m.accuracy_score( y_test_under_nn, yhat_under_nn )\n",
    "print(f'Accuracy: {acc_under_nn}')\n",
    "\n",
    "# Balanced Accuracy\n",
    "balanced_acc_under_nn = m.balanced_accuracy_score(y_test_under_nn, yhat_under_nn)\n",
    "print(f'Balanced Accuracy: {balanced_acc_under_nn}')\n",
    "\n",
    "# Kappa Metrics\n",
    "kappa_under_nn = m.cohen_kappa_score(y_test_under_nn, yhat_under_nn)\n",
    "print(f'Kappa Score: {kappa_under_nn}')\n",
    "\n",
    "# Classification report\n",
    "print(m.classification_report(y_test_under_nn, yhat_under_nn))\n",
    "\n",
    "# Confusion Matrix\n",
    "mt.plot_confusion_matrix( y_test_under_nn, yhat_under_nn, normalize=False, figsize=(12,12));\n",
    "\n",
    "# Performance\n",
    "under_performance = {'model': 'NN Model - Random Undersampling',\n",
    "                     'acc': np.round(acc_under_nn, 6),\n",
    "                     'balanced_acc': np.round(balanced_acc_under_nn, 6),\n",
    "                     'kappa_score': np.round(kappa_under_nn, 6)}"
   ]
  },
  {
   "cell_type": "markdown",
   "id": "365aee53",
   "metadata": {},
   "source": [
    "#### 7.2.2.2. Random Undersampling - Cross-Validation"
   ]
  },
  {
   "cell_type": "code",
   "execution_count": 158,
   "id": "2b2f4c91",
   "metadata": {
    "ExecuteTime": {
     "end_time": "2022-04-14T19:32:49.392688Z",
     "start_time": "2022-04-14T19:32:11.711291Z"
    }
   },
   "outputs": [
    {
     "name": "stdout",
     "output_type": "stream",
     "text": [
      "Fold Number:1/5\n",
      "Fold Number:2/5\n",
      "Fold Number:3/5\n",
      "Fold Number:4/5\n",
      "Fold Number:5/5\n"
     ]
    }
   ],
   "source": [
    "# cross validation performance\n",
    "acc_under, balanced_acc_under, kappa_under = cross_validation(num_fold = 5, \n",
    "                                                              x_train = X_train[cols_selected_boruta_under], \n",
    "                                                              y_train = y_train, \n",
    "                                                              model = model_under, \n",
    "                                                              response_encoder = ohe, \n",
    "                                                              balance_model = undersampling, \n",
    "                                                              verbose = True)"
   ]
  },
  {
   "cell_type": "code",
   "execution_count": 159,
   "id": "f7e160b1",
   "metadata": {
    "ExecuteTime": {
     "end_time": "2022-04-14T19:32:54.222648Z",
     "start_time": "2022-04-14T19:32:54.209667Z"
    }
   },
   "outputs": [],
   "source": [
    "# Performance\n",
    "under_performance_cv = {'model': 'NN Model - Random Undersampling - CV',\n",
    "                        'acc': f'{np.round(np.mean(acc_under), 2)} +/- {np.round(np.std(acc_under), 4)}',\n",
    "                        'balanced_acc': f'{np.round(np.mean(balanced_acc_under), 2)} +/- {np.round(np.std(balanced_acc_under), 4)}',\n",
    "                        'kappa_score': f'{np.round(np.mean(kappa_under), 2)} +/- {np.round(np.std(kappa_under), 4)}'}"
   ]
  },
  {
   "cell_type": "code",
   "execution_count": 160,
   "id": "99fd6d06",
   "metadata": {
    "ExecuteTime": {
     "end_time": "2022-04-14T19:32:58.447758Z",
     "start_time": "2022-04-14T19:32:58.433756Z"
    }
   },
   "outputs": [
    {
     "name": "stdout",
     "output_type": "stream",
     "text": [
      "Avg Accuracy: 0.62 +/- 0.0057\n",
      "Avg Balanced Accuracy: 0.18 +/- 0.00736\n",
      "Avg Kappa Score: 0.41 +/- 0.0068\n"
     ]
    }
   ],
   "source": [
    "print(f'Avg Accuracy: {np.round(np.mean(acc_under), 2)} +/- {np.round(np.std(acc_under),5)}')\n",
    "print(f'Avg Balanced Accuracy: {np.round(np.mean(balanced_acc_under), 2)} +/- {np.round(np.std(balanced_acc_under),5)}')\n",
    "print(f'Avg Kappa Score: {np.round(np.mean(kappa_under), 2)} +/- {np.round(np.std(kappa_under), 4)}')"
   ]
  },
  {
   "cell_type": "markdown",
   "id": "af2fe3cf",
   "metadata": {},
   "source": [
    "### 7.2.3. Neural Network - Random Oversampling"
   ]
  },
  {
   "cell_type": "code",
   "execution_count": 161,
   "id": "a2a0b26e",
   "metadata": {
    "ExecuteTime": {
     "end_time": "2022-04-14T21:07:02.187509Z",
     "start_time": "2022-04-14T19:33:15.309417Z"
    },
    "scrolled": true
   },
   "outputs": [
    {
     "name": "stdout",
     "output_type": "stream",
     "text": [
      "Epoch 1/100\n",
      "35829/35829 [==============================] - 47s 1ms/step - loss: 1.9122 - accuracy: 0.3275\n",
      "Epoch 2/100\n",
      "35829/35829 [==============================] - 65s 2ms/step - loss: 1.7351 - accuracy: 0.3905\n",
      "Epoch 3/100\n",
      "35829/35829 [==============================] - 38s 1ms/step - loss: 1.6754 - accuracy: 0.4094\n",
      "Epoch 4/100\n",
      "35829/35829 [==============================] - 38s 1ms/step - loss: 1.6421 - accuracy: 0.4187\n",
      "Epoch 5/100\n",
      "35829/35829 [==============================] - 65s 2ms/step - loss: 1.6193 - accuracy: 0.4260\n",
      "Epoch 6/100\n",
      "35829/35829 [==============================] - 63s 2ms/step - loss: 1.6025 - accuracy: 0.4309\n",
      "Epoch 7/100\n",
      "35829/35829 [==============================] - 42s 1ms/step - loss: 1.5892 - accuracy: 0.4347\n",
      "Epoch 8/100\n",
      "35829/35829 [==============================] - 38s 1ms/step - loss: 1.5780 - accuracy: 0.4377\n",
      "Epoch 9/100\n",
      "35829/35829 [==============================] - 42s 1ms/step - loss: 1.5682 - accuracy: 0.4409 0s - los\n",
      "Epoch 10/100\n",
      "35829/35829 [==============================] - 60s 2ms/step - loss: 1.5595 - accuracy: 0.4441\n",
      "Epoch 11/100\n",
      "35829/35829 [==============================] - 66s 2ms/step - loss: 1.5531 - accuracy: 0.4463\n",
      "Epoch 12/100\n",
      "35829/35829 [==============================] - 42s 1ms/step - loss: 1.5477 - accuracy: 0.4473\n",
      "Epoch 13/100\n",
      "35829/35829 [==============================] - 40s 1ms/step - loss: 1.5429 - accuracy: 0.4486\n",
      "Epoch 14/100\n",
      "35829/35829 [==============================] - 63s 2ms/step - loss: 1.5380 - accuracy: 0.4498\n",
      "Epoch 15/100\n",
      "35829/35829 [==============================] - 65s 2ms/step - loss: 1.5346 - accuracy: 0.4506 0s - loss: 1.5346 - ac\n",
      "Epoch 16/100\n",
      "35829/35829 [==============================] - 85s 2ms/step - loss: 1.5318 - accuracy: 0.4515  - ETA: 1s - loss: 1.5322 -  - ETA: 1s - loss: 1.5322 -  - ETA: 1s - loss: 1.5322  - ETA: 1s - - ETA:  - ETA: 1s - loss: 1.5320 - accuracy - ETA: 1s - loss: 1.5321 - accuracy: 0. - ETA: 1s - loss: 1.532 - ETA: 1s - loss: 1.5320 - accuracy: 0.45 - ETA: 1s - loss: 1.5321 - accuracy: 0. - ETA: 1s - loss: 1.5321 - accuracy: 0.45 - ETA:  - ETA - ETA: 1s - loss: 1.5320 - accura - ETA: 1s - loss: 1.5320 - accuracy:  - ETA: 1s - loss: 1.5 - ETA: 0s - loss: 1.5320 - accuracy: 0.45 - ETA: 0s - loss: 1.5320 - accu - ETA: 0s - l - ETA: 0s - loss: 1 - ETA: 0s - loss: 1.5320 - ac\n",
      "Epoch 17/100\n",
      "35829/35829 [==============================] - 110s 3ms/step - loss: 1.5284 - accuracy: 0.4528\n",
      "Epoch 18/100\n",
      "35829/35829 [==============================] - 38s 1ms/step - loss: 1.5253 - accuracy: 0.4536\n",
      "Epoch 19/100\n",
      "35829/35829 [==============================] - 33s 910us/step - loss: 1.5222 - accuracy: 0.4542\n",
      "Epoch 20/100\n",
      "35829/35829 [==============================] - 60s 2ms/step - loss: 1.5194 - accuracy: 0.4554 0s -\n",
      "Epoch 21/100\n",
      "35829/35829 [==============================] - 83s 2ms/step - loss: 1.5170 - accuracy: 0.4561A: 15s - loss: 1.5168 - accuracy:  - ETA: 15s - loss: 1.5168 - accuracy: 0. - ETA: 15s - loss: 1.5168 - ac - ETA: 15s - loss: 1.5168 - accuracy: 0.45 - ETA: 15s - l - ETA: 16s - loss: 1.5168 - accuracy: 0 - ETA: 16s - loss: 1.5168 - accura - ETA: 16s - loss: 1.5168 - a - ETA: 16\n",
      "Epoch 22/100\n",
      "35829/35829 [==============================] - 48s 1ms/step - loss: 1.5146 - accuracy: 0.4571\n",
      "Epoch 23/100\n",
      "35829/35829 [==============================] - 32s 901us/step - loss: 1.5127 - accuracy: 0.4579\n",
      "Epoch 24/100\n",
      "35829/35829 [==============================] - 50s 1ms/step - loss: 1.5104 - accuracy: 0.4587\n",
      "Epoch 25/100\n",
      "35829/35829 [==============================] - 33s 921us/step - loss: 1.5083 - accuracy: 0.4589\n",
      "Epoch 26/100\n",
      "35829/35829 [==============================] - 54s 2ms/step - loss: 1.5067 - accuracy: 0.4602\n",
      "Epoch 27/100\n",
      "35829/35829 [==============================] - 35s 976us/step - loss: 1.5049 - accuracy: 0.4600\n",
      "Epoch 28/100\n",
      "35829/35829 [==============================] - 32s 897us/step - loss: 1.5029 - accuracy: 0.4607\n",
      "Epoch 29/100\n",
      "35829/35829 [==============================] - 32s 898us/step - loss: 1.5022 - accuracy: 0.4612\n",
      "Epoch 30/100\n",
      "35829/35829 [==============================] - 52s 1ms/step - loss: 1.5000 - accuracy: 0.4613\n",
      "Epoch 31/100\n",
      "35829/35829 [==============================] - 53s 1ms/step - loss: 1.4993 - accuracy: 0.4617\n",
      "Epoch 32/100\n",
      "35829/35829 [==============================] - 77s 2ms/step - loss: 1.4978 - accuracy: 0.4621\n",
      "Epoch 33/100\n",
      "35829/35829 [==============================] - 77s 2ms/step - loss: 1.4969 - accuracy: 0.4624A: 14s - loss: 1.4974 - accuracy - ETA: 14s - loss: 1.4975 - accuracy: 0 - ETA: 14s - loss: 1.4974 - accur - ETA: 14s - loss: 1.4974 - acc - ETA: 15s - loss: 1.4974 - accuracy: 0.462 - ETA: 15s - loss: 1.4974 - accura - ETA: 16s - loss: 1.4972 - accuracy: - ETA: 16s - los - ETA: 17s - loss: 1.4971 - accuracy:  - ETA: 17s - loss: 1.4971 - accu - ETA: 17s - loss: 1.4971 - accur - ETA: 0s - loss: 1.4968 - \n",
      "Epoch 34/100\n",
      "35829/35829 [==============================] - 77s 2ms/step - loss: 1.4958 - accuracy: 0.4631 1s - loss: 1.4958 - accu - ETA: 1s - loss: 1.4 - ETA: 1s - loss: 1.4958 - accu - ETA: 1s - loss: 1.4958 - accuracy - ETA:  - ETA: 1s - loss: - ETA: 1s - - ETA: 1s - loss: 1 - ETA: 1s - loss: 1.495 - ETA: 1s - loss: 1.4958  - ETA: 1s - loss: 1.4958 -  - ETA: 1s - loss: 1.4958 - accura - ETA: 1s - loss: 1.4958 -  - ETA: 1s - loss: 1.4958 - accuracy:  - ETA: 1s - loss: 1.4958 -  - ETA: 1s - loss: 1.4958 - accuracy: 0.46 - ETA: 1s - loss: 1.4958 - accuracy: 0.46 - ETA: 1s - loss: 1.4958 - accura - ETA: 1s - loss: 1.4958 - accuracy - ETA: 0s - loss: 1.4957 - accuracy: 0.46 - ETA: 0s - loss: 1.4957 - accuracy:  - ETA: 0s - loss: 1.4 - ETA: 0s - l\n",
      "Epoch 35/100\n",
      "35829/35829 [==============================] - 60s 2ms/step - loss: 1.4943 - accuracy: 0.4631\n",
      "Epoch 36/100\n",
      "35829/35829 [==============================] - 77s 2ms/step - loss: 1.4932 - accuracy: 0.4637 2s - loss: 1.4930 - accuracy: 0.46 - E\n",
      "Epoch 37/100\n",
      "35829/35829 [==============================] - 79s 2ms/step - loss: 1.4914 - accuracy: 0.4641A: 20s - los - ETA: 19s - loss: 1.4914 - a - ETA: 19s - loss: 1.4914 - accura - ETA: 19s - lo - ETA: 20s - loss: 1.4912 - ac - ETA: 21s - loss: 1.4912 - accuracy: 0.46 - ETA: 21s - loss: 1.4912 - accuracy: - ETA: 21s - loss: 1.4912 - accuracy: - ETA: 21s - loss: 1.4912 - accuracy: 0.464 - ETA: 21s - loss: 1.4912 - accuracy: 0.464 - ETA: \n",
      "Epoch 38/100\n",
      "35829/35829 [==============================] - 35s 977us/step - loss: 1.4905 - accuracy: 0.4644\n",
      "Epoch 39/100\n",
      "35829/35829 [==============================] - 36s 1ms/step - loss: 1.4897 - accuracy: 0.4649\n",
      "Epoch 40/100\n",
      "35829/35829 [==============================] - 77s 2ms/step - loss: 1.4891 - accuracy: 0.4653\n",
      "Epoch 41/100\n",
      "35829/35829 [==============================] - 44s 1ms/step - loss: 1.4875 - accuracy: 0.4658\n",
      "Epoch 42/100\n",
      "35829/35829 [==============================] - 68s 2ms/step - loss: 1.4865 - accuracy: 0.4657\n",
      "Epoch 43/100\n",
      "35829/35829 [==============================] - 42s 1ms/step - loss: 1.4864 - accuracy: 0.4661\n",
      "Epoch 44/100\n",
      "35829/35829 [==============================] - 66s 2ms/step - loss: 1.4851 - accuracy: 0.4664\n",
      "Epoch 45/100\n",
      "35829/35829 [==============================] - 41s 1ms/step - loss: 1.4843 - accuracy: 0.4665\n",
      "Epoch 46/100\n",
      "35829/35829 [==============================] - 65s 2ms/step - loss: 1.4834 - accuracy: 0.4668\n",
      "Epoch 47/100\n",
      "35829/35829 [==============================] - 64s 2ms/step - loss: 1.4828 - accuracy: 0.4673A: 11s - loss: 1.4830 - ETA: 11s - loss: 1.4830 - accuracy: - ETA: 11s - loss: 1.4830 - accuracy:  - ETA: 11s - loss: 1.4830 - - ETA: 12s - loss: 1.4828 - accuracy:  - ETA: 12s - loss: 1.4828 - ac - ETA: 12s - loss: 1.4828 - accuracy: 0 - ETA: 12s - loss: 1.4828 - accuracy - ETA: 12s - loss: 1.4828 - accu - ETA: 12s - loss: 1.4\n",
      "Epoch 48/100\n",
      "35829/35829 [==============================] - 45s 1ms/step - loss: 1.4815 - accuracy: 0.4671\n",
      "Epoch 49/100\n"
     ]
    },
    {
     "name": "stdout",
     "output_type": "stream",
     "text": [
      "35829/35829 [==============================] - 62s 2ms/step - loss: 1.4807 - accuracy: 0.4678A: \n",
      "Epoch 50/100\n",
      "35829/35829 [==============================] - 40s 1ms/step - loss: 1.4795 - accuracy: 0.4683\n",
      "Epoch 51/100\n",
      "35829/35829 [==============================] - 39s 1ms/step - loss: 1.4795 - accuracy: 0.4680\n",
      "Epoch 52/100\n",
      "35829/35829 [==============================] - 67s 2ms/step - loss: 1.4784 - accuracy: 0.4683\n",
      "Epoch 53/100\n",
      "35829/35829 [==============================] - 90s 3ms/step - loss: 1.4778 - accuracy: 0.4689\n",
      "Epoch 54/100\n",
      "35829/35829 [==============================] - 92s 3ms/step - loss: 1.4767 - accuracy: 0.4692 0s - loss: 1.4766 - accuracy: 0.\n",
      "Epoch 55/100\n",
      "35829/35829 [==============================] - 40s 1ms/step - loss: 1.4761 - accuracy: 0.4694\n",
      "Epoch 56/100\n",
      "35829/35829 [==============================] - 63s 2ms/step - loss: 1.4753 - accuracy: 0.4688\n",
      "Epoch 57/100\n",
      "35829/35829 [==============================] - 42s 1ms/step - loss: 1.4749 - accuracy: 0.4694\n",
      "Epoch 58/100\n",
      "35829/35829 [==============================] - 68s 2ms/step - loss: 1.4734 - accuracy: 0.4696 1s - l\n",
      "Epoch 59/100\n",
      "35829/35829 [==============================] - 59s 2ms/step - loss: 1.4728 - accuracy: 0.4698 3s - loss: 1.4731 - accuracy:  - ETA: 3s - loss: 1.473 - ETA: 3s - loss: 1.4732 - accuracy: 0.46 - ETA: 3s - loss: 1.4732 - accuracy:  - ETA: 3s - loss: 1.4732 - accura - ETA: 3s - loss: 1.4732  - ETA: 3s - loss: 1.4733 - accuracy: 0. - ETA: 3s - l - ETA: 3s - loss: 1.4733 - accura -\n",
      "Epoch 60/100\n",
      "35829/35829 [==============================] - 51s 1ms/step - loss: 1.4723 - accuracy: 0.4702 0s - loss: 1.4723 - accuracy\n",
      "Epoch 61/100\n",
      "35829/35829 [==============================] - 66s 2ms/step - loss: 1.4715 - accuracy: 0.4709\n",
      "Epoch 62/100\n",
      "35829/35829 [==============================] - 42s 1ms/step - loss: 1.4712 - accuracy: 0.4704\n",
      "Epoch 63/100\n",
      "35829/35829 [==============================] - 63s 2ms/step - loss: 1.4702 - accuracy: 0.4706\n",
      "Epoch 64/100\n",
      "35829/35829 [==============================] - 43s 1ms/step - loss: 1.4700 - accuracy: 0.4708\n",
      "Epoch 65/100\n",
      "35829/35829 [==============================] - 66s 2ms/step - loss: 1.4690 - accuracy: 0.4711 0s - loss:\n",
      "Epoch 66/100\n",
      "35829/35829 [==============================] - 42s 1ms/step - loss: 1.4679 - accuracy: 0.4712\n",
      "Epoch 67/100\n",
      "35829/35829 [==============================] - 57s 2ms/step - loss: 1.4678 - accuracy: 0.4713\n",
      "Epoch 68/100\n",
      "35829/35829 [==============================] - 45s 1ms/step - loss: 1.4674 - accuracy: 0.4715\n",
      "Epoch 69/100\n",
      "35829/35829 [==============================] - 67s 2ms/step - loss: 1.4668 - accuracy: 0.4717A: 16s - loss: 1.4670 - accur - ETA: 16s - l - ETA: 17s - loss: 1.4669 - acc - ETA: 17s - loss: 1.4668 - accuracy: 0.47 - ETA: 17s - loss - ETA: 18s - loss: 1.4667 - accuracy: 0.4 - ETA: 18s - loss: 1.4667 - accuracy: 0.471 - ETA: 18s - loss: 1.4667 - accuracy: 0.47 - ETA: 18s - loss: 1.4667 - accuracy:  - ETA: 18s - loss: 1.4667 - accuracy: 0 - ETA: 18s - loss: 1.4668 - accura - ETA: 18s - loss: 1.4667 - accuracy: - ETA: 18s - loss: 1.4667 - accuracy: 0.47 - ETA: 18s - loss: 1.4667 - accuracy: 0.4 - ETA: 18s - loss: 1.4667 - a - ETA: 19s - loss: 1.4668 - accuracy: 0 - ETA: 19s - loss: 1.4668 - accuracy: 0.4 - ETA: 19s - loss: 1.4667 - accuracy: 0.471 - ETA: 19s - loss: 1.4667 - ac - ETA: 19s - loss: 1. - ETA: 20s - loss: 1.4667 - accurac - ETA: 20s - loss: 1.4667 - accuracy: 0.471 - ETA: 20s - loss: 1.4667 - acc\n",
      "Epoch 70/100\n",
      "35829/35829 [==============================] - 42s 1ms/step - loss: 1.4664 - accuracy: 0.4716\n",
      "Epoch 71/100\n",
      "35829/35829 [==============================] - 78s 2ms/step - loss: 1.4658 - accuracy: 0.4713\n",
      "Epoch 72/100\n",
      "35829/35829 [==============================] - 42s 1ms/step - loss: 1.4653 - accuracy: 0.4720\n",
      "Epoch 73/100\n",
      "35829/35829 [==============================] - 64s 2ms/step - loss: 1.4644 - accuracy: 0.4719\n",
      "Epoch 74/100\n",
      "35829/35829 [==============================] - 58s 2ms/step - loss: 1.4642 - accuracy: 0.4722- ETA: 1s - loss: 1.4641  - ETA: 1s - ETA: 1s - loss: 1.4640 - accuracy: 0. - ETA: 1s - loss: 1.4640 - ac - ETA: 1s - loss: 1.4640 - accuracy: 0.47 - ETA: 1s - loss: - ETA: 1s - loss: 1.4641 - accuracy: 0. - ETA: 1s - loss: 1 - E - ETA: 1s - los\n",
      "Epoch 75/100\n",
      "35829/35829 [==============================] - 48s 1ms/step - loss: 1.4635 - accuracy: 0.4726 0s\n",
      "Epoch 76/100\n",
      "35829/35829 [==============================] - 42s 1ms/step - loss: 1.4634 - accuracy: 0.4727\n",
      "Epoch 77/100\n",
      "35829/35829 [==============================] - 88s 2ms/step - loss: 1.4628 - accuracy: 0.4725 0s - loss: 1.4630 \n",
      "Epoch 78/100\n",
      "35829/35829 [==============================] - 92s 3ms/step - loss: 1.4629 - accuracy: 0.4727\n",
      "Epoch 79/100\n",
      "35829/35829 [==============================] - 70s 2ms/step - loss: 1.4624 - accuracy: 0.4725\n",
      "Epoch 80/100\n",
      "35829/35829 [==============================] - 43s 1ms/step - loss: 1.4614 - accuracy: 0.4729\n",
      "Epoch 81/100\n",
      "35829/35829 [==============================] - 83s 2ms/step - loss: 1.4608 - accuracy: 0.4730\n",
      "Epoch 82/100\n",
      "35829/35829 [==============================] - 128s 4ms/step - loss: 1.4609 - accuracy: 0.4729: 38s - - ETA: 25s - loss: 1.4 - ETA: 1s - - ETA: 0s - loss: 1.4610 - accuracy\n",
      "Epoch 83/100\n",
      "35829/35829 [==============================] - 61s 2ms/step - loss: 1.4599 - accuracy: 0.4730\n",
      "Epoch 84/100\n",
      "35829/35829 [==============================] - 68s 2ms/step - loss: 1.4601 - accuracy: 0.4733 0s - loss: 1.4601 - accuracy: 0.\n",
      "Epoch 85/100\n",
      "35829/35829 [==============================] - 78s 2ms/step - loss: 1.4594 - accuracy: 0.4736A: 34s - loss: 1.4565 - accuracy:  - ETA: 34s - loss: 1.4565 - accuracy: - ETA: 35s - loss: 1.4565 - accuracy:  - ETA: 35s - loss: 1.4565 - accuracy: 0.47\n",
      "Epoch 86/100\n",
      "35829/35829 [==============================] - 64s 2ms/step - loss: 1.4595 - accuracy: 0.4732 2s - loss: 1.4598 - accura - ETA: 2s - loss: 1.4598 - accuracy: 0. - ETA: 2s - loss: 1.4598 - accuracy - ETA: 2s - - ETA: 2s - loss: 1.4598 - accuracy: 0.47 - ETA: 2s - loss: 1.4598 - accura - ETA: 2s - ETA: 2s - loss: 1.4598  - ETA: 2s - loss: 1.4598 - accuracy: 0. - ETA: 2s - loss: 1.4598 - accuracy: 0.47 - ETA: 2s - l - ETA: 2s - l\n",
      "Epoch 87/100\n",
      "35829/35829 [==============================] - 54s 2ms/step - loss: 1.4594 - accuracy: 0.4734\n",
      "Epoch 88/100\n",
      "35829/35829 [==============================] - 68s 2ms/step - loss: 1.4587 - accuracy: 0.4734\n",
      "Epoch 89/100\n",
      "35829/35829 [==============================] - 44s 1ms/step - loss: 1.4580 - accuracy: 0.4733\n",
      "Epoch 90/100\n",
      "35829/35829 [==============================] - 67s 2ms/step - loss: 1.4581 - accuracy: 0.4737 0s - loss: 1.4581 - accuracy\n",
      "Epoch 91/100\n",
      "35829/35829 [==============================] - 35s 970us/step - loss: 1.4569 - accuracy: 0.4739\n",
      "Epoch 92/100\n",
      "35829/35829 [==============================] - 35s 966us/step - loss: 1.4568 - accuracy: 0.4741\n",
      "Epoch 93/100\n",
      "35829/35829 [==============================] - 53s 1ms/step - loss: 1.4560 - accuracy: 0.4744\n",
      "Epoch 94/100\n",
      "35829/35829 [==============================] - 37s 1ms/step - loss: 1.4558 - accuracy: 0.4745\n",
      "Epoch 95/100\n",
      "35829/35829 [==============================] - 56s 2ms/step - loss: 1.4552 - accuracy: 0.4742\n",
      "Epoch 96/100\n",
      "35829/35829 [==============================] - 36s 1ms/step - loss: 1.4550 - accuracy: 0.4742\n",
      "Epoch 97/100\n",
      "35829/35829 [==============================] - 34s 956us/step - loss: 1.4552 - accuracy: 0.4737\n",
      "Epoch 98/100\n",
      "35829/35829 [==============================] - 35s 965us/step - loss: 1.4547 - accuracy: 0.4742\n",
      "Epoch 99/100\n",
      "35829/35829 [==============================] - 35s 968us/step - loss: 1.4545 - accuracy: 0.4742\n",
      "Epoch 100/100\n",
      "35829/35829 [==============================] - 53s 1ms/step - loss: 1.4535 - accuracy: 0.4743\n"
     ]
    },
    {
     "data": {
      "text/plain": [
       "<tensorflow.python.keras.callbacks.History at 0x2ca2083abb0>"
      ]
     },
     "execution_count": 161,
     "metadata": {},
     "output_type": "execute_result"
    }
   ],
   "source": [
    "# model definition\n",
    "model_over = ml.Sequential()\n",
    "model_over.add( l.Dense(128, input_dim=x_train_over.shape[1], activation='relu') )\n",
    "model_over.add( l.Dense(12, activation='softmax') )\n",
    "\n",
    "# model compile\n",
    "model_over.compile(loss='categorical_crossentropy', optimizer='adam', metrics=['accuracy'])\n",
    "\n",
    "# train model\n",
    "model_over.fit(x_train_over, y_train_over, epochs=100)"
   ]
  },
  {
   "cell_type": "markdown",
   "id": "d19c6429",
   "metadata": {},
   "source": [
    "#### 7.2.3.1. Random Oversampling - Performance"
   ]
  },
  {
   "cell_type": "code",
   "execution_count": 162,
   "id": "7c775ae4",
   "metadata": {
    "ExecuteTime": {
     "end_time": "2022-04-14T21:07:08.864969Z",
     "start_time": "2022-04-14T21:07:07.716617Z"
    }
   },
   "outputs": [],
   "source": [
    "# prediction\n",
    "pred_over_nn = model_over.predict(x_test_over)\n",
    "\n",
    "# invert prediction\n",
    "yhat_over_nn = ohe.inverse_transform(pred_over_nn)\n",
    "\n",
    "# invert validation response\n",
    "y_test_over_nn = ohe.inverse_transform(y_test)"
   ]
  },
  {
   "cell_type": "code",
   "execution_count": 163,
   "id": "ecc59636",
   "metadata": {
    "ExecuteTime": {
     "end_time": "2022-04-14T21:07:13.733995Z",
     "start_time": "2022-04-14T21:07:13.662804Z"
    },
    "cell_style": "split"
   },
   "outputs": [
    {
     "data": {
      "text/plain": [
       "NDF      0.576602\n",
       "US       0.297337\n",
       "other    0.047922\n",
       "FR       0.023486\n",
       "IT       0.013145\n",
       "GB       0.011438\n",
       "ES       0.010560\n",
       "CA       0.006902\n",
       "DE       0.005536\n",
       "NL       0.003805\n",
       "AU       0.002390\n",
       "PT       0.000878\n",
       "dtype: float64"
      ]
     },
     "execution_count": 163,
     "metadata": {},
     "output_type": "execute_result"
    }
   ],
   "source": [
    "# check the balance of validation\n",
    "pd.DataFrame(y_test_over_nn).value_counts(normalize=True)"
   ]
  },
  {
   "cell_type": "code",
   "execution_count": 164,
   "id": "b4e89b98",
   "metadata": {
    "ExecuteTime": {
     "end_time": "2022-04-14T21:07:18.252600Z",
     "start_time": "2022-04-14T21:07:18.232597Z"
    },
    "cell_style": "split"
   },
   "outputs": [
    {
     "data": {
      "text/plain": [
       "NDF      0.576651\n",
       "CA       0.069676\n",
       "DE       0.066701\n",
       "IT       0.057458\n",
       "ES       0.052141\n",
       "GB       0.041508\n",
       "NL       0.040874\n",
       "US       0.031777\n",
       "other    0.023729\n",
       "AU       0.019632\n",
       "FR       0.012096\n",
       "PT       0.007755\n",
       "dtype: float64"
      ]
     },
     "execution_count": 164,
     "metadata": {},
     "output_type": "execute_result"
    }
   ],
   "source": [
    "# check the balance of results\n",
    "pd.DataFrame(yhat_over_nn).value_counts(normalize=True)"
   ]
  },
  {
   "cell_type": "code",
   "execution_count": 166,
   "id": "20060d9f",
   "metadata": {
    "ExecuteTime": {
     "end_time": "2022-04-14T21:07:33.651235Z",
     "start_time": "2022-04-14T21:07:30.641184Z"
    }
   },
   "outputs": [
    {
     "name": "stdout",
     "output_type": "stream",
     "text": [
      "Accuracy: 0.6117939713198712\n",
      "Balanced Accuracy: 0.1755146251168729\n",
      "Kappa Score: 0.40622377019328215\n",
      "              precision    recall  f1-score   support\n",
      "\n",
      "          AU       0.01      0.06      0.01        98\n",
      "          CA       0.02      0.16      0.03       283\n",
      "          DE       0.01      0.14      0.02       227\n",
      "          ES       0.02      0.12      0.04       433\n",
      "          FR       0.08      0.04      0.05       963\n",
      "          GB       0.03      0.11      0.05       469\n",
      "          IT       0.04      0.17      0.06       539\n",
      "         NDF       1.00      1.00      1.00     23643\n",
      "          NL       0.01      0.13      0.02       156\n",
      "          PT       0.00      0.03      0.01        36\n",
      "          US       0.76      0.08      0.15     12192\n",
      "       other       0.12      0.06      0.08      1965\n",
      "\n",
      "    accuracy                           0.61     41004\n",
      "   macro avg       0.18      0.18      0.13     41004\n",
      "weighted avg       0.81      0.61      0.63     41004\n",
      "\n"
     ]
    },
    {
     "data": {
      "image/png": "[encoded data removed]",
      "text/plain": [
       "<Figure size 864x864 with 2 Axes>"
      ]
     },
     "metadata": {
      "needs_background": "light"
     },
     "output_type": "display_data"
    }
   ],
   "source": [
    "# Accuracy\n",
    "acc_over_nn = m.accuracy_score( y_test_over_nn, yhat_over_nn )\n",
    "print(f'Accuracy: {acc_over_nn}')\n",
    "\n",
    "# Balanced Accuracy\n",
    "balanced_acc_over_nn = m.balanced_accuracy_score(y_test_over_nn, yhat_over_nn)\n",
    "print(f'Balanced Accuracy: {balanced_acc_over_nn}')\n",
    "\n",
    "# Kappa Metrics\n",
    "kappa_over_nn = m.cohen_kappa_score(y_test_over_nn, yhat_over_nn)\n",
    "print(f'Kappa Score: {kappa_over_nn}')\n",
    "\n",
    "# Classification report\n",
    "print(m.classification_report(y_test_over_nn, yhat_over_nn))\n",
    "\n",
    "# Confusion Matrix\n",
    "mt.plot_confusion_matrix( y_test_over_nn, yhat_over_nn, normalize=False, figsize=(12,12));\n",
    "\n",
    "# Performance\n",
    "over_performance = {'model': 'NN Model - Random Oversampling', \n",
    "                    'acc': np.round(acc_over_nn, 6), \n",
    "                    'balanced_acc': np.round(balanced_acc_over_nn, 6), \n",
    "                    'kappa_score': np.round(kappa_over_nn, 6)}"
   ]
  },
  {
   "cell_type": "markdown",
   "id": "0e6d2008",
   "metadata": {},
   "source": [
    "#### 7.2.3.2. Random Oversampling - Cross-Validation"
   ]
  },
  {
   "cell_type": "code",
   "execution_count": 167,
   "id": "ebe9cebe",
   "metadata": {
    "ExecuteTime": {
     "end_time": "2022-04-15T02:09:16.207925Z",
     "start_time": "2022-04-14T21:07:38.042603Z"
    }
   },
   "outputs": [
    {
     "name": "stdout",
     "output_type": "stream",
     "text": [
      "Fold Number:1/5\n",
      "Fold Number:2/5\n",
      "Fold Number:3/5\n",
      "Fold Number:4/5\n",
      "Fold Number:5/5\n"
     ]
    }
   ],
   "source": [
    "# cross validation performance\n",
    "acc_over, balanced_acc_over, kappa_over = cross_validation(num_fold = 5, \n",
    "                                                           x_train = X_train[cols_selected_boruta_over], \n",
    "                                                           y_train = y_train, \n",
    "                                                           model = model_over, \n",
    "                                                           response_encoder = ohe, \n",
    "                                                           balance_model = oversampling, \n",
    "                                                           verbose = True)"
   ]
  },
  {
   "cell_type": "code",
   "execution_count": 168,
   "id": "b9f08692",
   "metadata": {
    "ExecuteTime": {
     "end_time": "2022-04-15T02:13:06.546603Z",
     "start_time": "2022-04-15T02:13:06.515223Z"
    }
   },
   "outputs": [],
   "source": [
    "# Performance\n",
    "over_performance_cv = {'model': 'NN Model - Random Oversampling - CV',\n",
    "                        'acc': f'{np.round(np.mean(acc_over), 2)} +/- {np.round(np.std(acc_over), 4)}',\n",
    "                        'balanced_acc': f'{np.round(np.mean(balanced_acc_over), 2)} +/- {np.round(np.std(balanced_acc_over), 4)}',\n",
    "                        'kappa_score': f'{np.round(np.mean(kappa_over), 2)} +/- {np.round(np.std(kappa_over), 4)}'}"
   ]
  },
  {
   "cell_type": "code",
   "execution_count": 169,
   "id": "0b0ec5cf",
   "metadata": {
    "ExecuteTime": {
     "end_time": "2022-04-15T02:13:10.643029Z",
     "start_time": "2022-04-15T02:13:10.627320Z"
    }
   },
   "outputs": [
    {
     "name": "stdout",
     "output_type": "stream",
     "text": [
      "Avg Accuracy: 0.64 +/- 0.02843\n",
      "Avg Balanced Accuracy: 0.22 +/- 0.00568\n",
      "Avg Kappa Score: 0.44 +/- 0.0351\n"
     ]
    }
   ],
   "source": [
    "print(f'Avg Accuracy: {np.round(np.mean(acc_over), 2)} +/- {np.round(np.std(acc_over),5)}')\n",
    "print(f'Avg Balanced Accuracy: {np.round(np.mean(balanced_acc_over), 2)} +/- {np.round(np.std(balanced_acc_over),5)}')\n",
    "print(f'Avg Kappa Score: {np.round(np.mean(kappa_over), 2)} +/- {np.round(np.std(kappa_over), 4)}')"
   ]
  },
  {
   "cell_type": "markdown",
   "id": "3b3b7390",
   "metadata": {},
   "source": [
    "### 7.2.4. Neural Network - SMOTE + TOMEKLINK"
   ]
  },
  {
   "cell_type": "code",
   "execution_count": 179,
   "id": "51494560",
   "metadata": {
    "ExecuteTime": {
     "end_time": "2022-04-15T09:36:27.305417Z",
     "start_time": "2022-04-15T08:46:08.349323Z"
    },
    "scrolled": true
   },
   "outputs": [
    {
     "name": "stdout",
     "output_type": "stream",
     "text": [
      "Epoch 1/100\n",
      "35795/35795 [==============================] - 29s 822us/step - loss: 1.8318 - accuracy: 0.3574\n",
      "Epoch 2/100\n",
      "35795/35795 [==============================] - 29s 818us/step - loss: 1.6479 - accuracy: 0.4222\n",
      "Epoch 3/100\n",
      "35795/35795 [==============================] - 29s 805us/step - loss: 1.5955 - accuracy: 0.4398\n",
      "Epoch 4/100\n",
      "35795/35795 [==============================] - 29s 820us/step - loss: 1.5680 - accuracy: 0.4488\n",
      "Epoch 5/100\n",
      "35795/35795 [==============================] - 29s 824us/step - loss: 1.5517 - accuracy: 0.4537\n",
      "Epoch 6/100\n",
      "35795/35795 [==============================] - 29s 824us/step - loss: 1.5396 - accuracy: 0.4578\n",
      "Epoch 7/100\n",
      "35795/35795 [==============================] - 31s 871us/step - loss: 1.5298 - accuracy: 0.4606\n",
      "Epoch 8/100\n",
      "35795/35795 [==============================] - 31s 854us/step - loss: 1.5214 - accuracy: 0.4633\n",
      "Epoch 9/100\n",
      "35795/35795 [==============================] - 29s 820us/step - loss: 1.5149 - accuracy: 0.4654\n",
      "Epoch 10/100\n",
      "35795/35795 [==============================] - 29s 816us/step - loss: 1.5097 - accuracy: 0.4672\n",
      "Epoch 11/100\n",
      "35795/35795 [==============================] - 29s 818us/step - loss: 1.5052 - accuracy: 0.4686\n",
      "Epoch 12/100\n",
      "35795/35795 [==============================] - 30s 824us/step - loss: 1.5013 - accuracy: 0.4698\n",
      "Epoch 13/100\n",
      "35795/35795 [==============================] - 29s 800us/step - loss: 1.4979 - accuracy: 0.4708\n",
      "Epoch 14/100\n",
      "35795/35795 [==============================] - 31s 868us/step - loss: 1.4949 - accuracy: 0.4719\n",
      "Epoch 15/100\n",
      "35795/35795 [==============================] - 29s 800us/step - loss: 1.4918 - accuracy: 0.4731\n",
      "Epoch 16/100\n",
      "35795/35795 [==============================] - 29s 809us/step - loss: 1.4881 - accuracy: 0.4744\n",
      "Epoch 17/100\n",
      "35795/35795 [==============================] - 29s 803us/step - loss: 1.4855 - accuracy: 0.4753\n",
      "Epoch 18/100\n",
      "35795/35795 [==============================] - 43s 1ms/step - loss: 1.4831 - accuracy: 0.4759\n",
      "Epoch 19/100\n",
      "35795/35795 [==============================] - 29s 807us/step - loss: 1.4806 - accuracy: 0.4768\n",
      "Epoch 20/100\n",
      "35795/35795 [==============================] - 31s 872us/step - loss: 1.4789 - accuracy: 0.4774\n",
      "Epoch 21/100\n",
      "35795/35795 [==============================] - 30s 830us/step - loss: 1.4771 - accuracy: 0.4784\n",
      "Epoch 22/100\n",
      "35795/35795 [==============================] - ETA: 0s - loss: 1.4754 - accuracy: 0.47 - 50s 1ms/step - loss: 1.4753 - accuracy: 0.4787\n",
      "Epoch 23/100\n",
      "35795/35795 [==============================] - 32s 893us/step - loss: 1.4736 - accuracy: 0.4793\n",
      "Epoch 24/100\n",
      "35795/35795 [==============================] - 31s 874us/step - loss: 1.4716 - accuracy: 0.4803\n",
      "Epoch 25/100\n",
      "35795/35795 [==============================] - 30s 825us/step - loss: 1.4702 - accuracy: 0.4804\n",
      "Epoch 26/100\n",
      "35795/35795 [==============================] - 29s 814us/step - loss: 1.4690 - accuracy: 0.4814\n",
      "Epoch 27/100\n",
      "35795/35795 [==============================] - 29s 822us/step - loss: 1.4670 - accuracy: 0.4814\n",
      "Epoch 28/100\n",
      "35795/35795 [==============================] - 29s 811us/step - loss: 1.4660 - accuracy: 0.4819\n",
      "Epoch 29/100\n",
      "35795/35795 [==============================] - 30s 827us/step - loss: 1.4643 - accuracy: 0.4824\n",
      "Epoch 30/100\n",
      "35795/35795 [==============================] - 29s 821us/step - loss: 1.4636 - accuracy: 0.4824\n",
      "Epoch 31/100\n",
      "35795/35795 [==============================] - 30s 841us/step - loss: 1.4626 - accuracy: 0.4836\n",
      "Epoch 32/100\n",
      "35795/35795 [==============================] - 30s 832us/step - loss: 1.4615 - accuracy: 0.4837\n",
      "Epoch 33/100\n",
      "35795/35795 [==============================] - 31s 855us/step - loss: 1.4606 - accuracy: 0.4839\n",
      "Epoch 34/100\n",
      "35795/35795 [==============================] - 29s 812us/step - loss: 1.4594 - accuracy: 0.4842\n",
      "Epoch 35/100\n",
      "35795/35795 [==============================] - 29s 819us/step - loss: 1.4578 - accuracy: 0.4849\n",
      "Epoch 36/100\n",
      "35795/35795 [==============================] - 29s 811us/step - loss: 1.4570 - accuracy: 0.4854\n",
      "Epoch 37/100\n",
      "35795/35795 [==============================] - 31s 872us/step - loss: 1.4559 - accuracy: 0.4854\n",
      "Epoch 38/100\n",
      "35795/35795 [==============================] - 29s 813us/step - loss: 1.4550 - accuracy: 0.4857\n",
      "Epoch 39/100\n",
      "35795/35795 [==============================] - 35s 967us/step - loss: 1.4543 - accuracy: 0.4860\n",
      "Epoch 40/100\n",
      "35795/35795 [==============================] - 29s 821us/step - loss: 1.4536 - accuracy: 0.4863\n",
      "Epoch 41/100\n",
      "35795/35795 [==============================] - 30s 830us/step - loss: 1.4528 - accuracy: 0.4865\n",
      "Epoch 42/100\n",
      "35795/35795 [==============================] - 29s 813us/step - loss: 1.4517 - accuracy: 0.4865\n",
      "Epoch 43/100\n",
      "35795/35795 [==============================] - 29s 820us/step - loss: 1.4506 - accuracy: 0.4876\n",
      "Epoch 44/100\n",
      "35795/35795 [==============================] - 29s 813us/step - loss: 1.4501 - accuracy: 0.4874\n",
      "Epoch 45/100\n",
      "35795/35795 [==============================] - 30s 827us/step - loss: 1.4490 - accuracy: 0.4879\n",
      "Epoch 46/100\n",
      "35795/35795 [==============================] - 29s 814us/step - loss: 1.4490 - accuracy: 0.4878\n",
      "Epoch 47/100\n",
      "35795/35795 [==============================] - 29s 822us/step - loss: 1.4479 - accuracy: 0.4887\n",
      "Epoch 48/100\n",
      "35795/35795 [==============================] - 29s 811us/step - loss: 1.4471 - accuracy: 0.4884\n",
      "Epoch 49/100\n",
      "35795/35795 [==============================] - 29s 812us/step - loss: 1.4470 - accuracy: 0.4885\n",
      "Epoch 50/100\n",
      "35795/35795 [==============================] - 29s 822us/step - loss: 1.4462 - accuracy: 0.4884\n",
      "Epoch 51/100\n",
      "35795/35795 [==============================] - 30s 830us/step - loss: 1.4456 - accuracy: 0.4884\n",
      "Epoch 52/100\n",
      "35795/35795 [==============================] - 29s 821us/step - loss: 1.4451 - accuracy: 0.4887\n",
      "Epoch 53/100\n",
      "35795/35795 [==============================] - 30s 846us/step - loss: 1.4444 - accuracy: 0.4891\n",
      "Epoch 54/100\n",
      "35795/35795 [==============================] - 29s 823us/step - loss: 1.4440 - accuracy: 0.4893\n",
      "Epoch 55/100\n",
      "35795/35795 [==============================] - 29s 811us/step - loss: 1.4439 - accuracy: 0.4893\n",
      "Epoch 56/100\n",
      "35795/35795 [==============================] - 32s 893us/step - loss: 1.4435 - accuracy: 0.4891\n",
      "Epoch 57/100\n",
      "35795/35795 [==============================] - 29s 816us/step - loss: 1.4426 - accuracy: 0.4899\n",
      "Epoch 58/100\n",
      "35795/35795 [==============================] - 30s 830us/step - loss: 1.4422 - accuracy: 0.4899\n",
      "Epoch 59/100\n",
      "35795/35795 [==============================] - 29s 818us/step - loss: 1.4416 - accuracy: 0.4902\n",
      "Epoch 60/100\n",
      "35795/35795 [==============================] - 30s 832us/step - loss: 1.4416 - accuracy: 0.4902\n",
      "Epoch 61/100\n",
      "35795/35795 [==============================] - 30s 838us/step - loss: 1.4410 - accuracy: 0.4900\n",
      "Epoch 62/100\n",
      "35795/35795 [==============================] - 30s 827us/step - loss: 1.4405 - accuracy: 0.4900\n",
      "Epoch 63/100\n",
      "35795/35795 [==============================] - 29s 818us/step - loss: 1.4399 - accuracy: 0.4902\n",
      "Epoch 64/100\n",
      "35795/35795 [==============================] - 30s 825us/step - loss: 1.4391 - accuracy: 0.4906\n",
      "Epoch 65/100\n",
      "35795/35795 [==============================] - 29s 815us/step - loss: 1.4388 - accuracy: 0.4905\n",
      "Epoch 66/100\n",
      "35795/35795 [==============================] - 30s 828us/step - loss: 1.4384 - accuracy: 0.4911\n",
      "Epoch 67/100\n",
      "35795/35795 [==============================] - 30s 844us/step - loss: 1.4379 - accuracy: 0.4909\n",
      "Epoch 68/100\n",
      "35795/35795 [==============================] - 30s 844us/step - loss: 1.4376 - accuracy: 0.4915\n",
      "Epoch 69/100\n",
      "35795/35795 [==============================] - 29s 820us/step - loss: 1.4371 - accuracy: 0.4912\n",
      "Epoch 70/100\n",
      "35795/35795 [==============================] - 29s 824us/step - loss: 1.4364 - accuracy: 0.4914\n",
      "Epoch 71/100\n",
      "35795/35795 [==============================] - 30s 833us/step - loss: 1.4365 - accuracy: 0.4914\n",
      "Epoch 72/100\n",
      "35795/35795 [==============================] - 29s 823us/step - loss: 1.4358 - accuracy: 0.4919\n",
      "Epoch 73/100\n",
      "35795/35795 [==============================] - 30s 849us/step - loss: 1.4355 - accuracy: 0.4916\n",
      "Epoch 74/100\n",
      "35795/35795 [==============================] - 29s 824us/step - loss: 1.4345 - accuracy: 0.4922\n",
      "Epoch 75/100\n"
     ]
    },
    {
     "name": "stdout",
     "output_type": "stream",
     "text": [
      "35795/35795 [==============================] - 29s 818us/step - loss: 1.4345 - accuracy: 0.4922\n",
      "Epoch 76/100\n",
      "35795/35795 [==============================] - 30s 825us/step - loss: 1.4339 - accuracy: 0.4924\n",
      "Epoch 77/100\n",
      "35795/35795 [==============================] - 30s 835us/step - loss: 1.4335 - accuracy: 0.4926\n",
      "Epoch 78/100\n",
      "35795/35795 [==============================] - 44s 1ms/step - loss: 1.4330 - accuracy: 0.4927\n",
      "Epoch 79/100\n",
      "35795/35795 [==============================] - 30s 834us/step - loss: 1.4329 - accuracy: 0.4928\n",
      "Epoch 80/100\n",
      "35795/35795 [==============================] - 29s 816us/step - loss: 1.4318 - accuracy: 0.4927\n",
      "Epoch 81/100\n",
      "35795/35795 [==============================] - 30s 852us/step - loss: 1.4314 - accuracy: 0.4936\n",
      "Epoch 82/100\n",
      "35795/35795 [==============================] - 29s 819us/step - loss: 1.4312 - accuracy: 0.4930\n",
      "Epoch 83/100\n",
      "35795/35795 [==============================] - 30s 826us/step - loss: 1.4308 - accuracy: 0.4933\n",
      "Epoch 84/100\n",
      "35795/35795 [==============================] - 29s 816us/step - loss: 1.4304 - accuracy: 0.4935\n",
      "Epoch 85/100\n",
      "35795/35795 [==============================] - 30s 824us/step - loss: 1.4300 - accuracy: 0.4937\n",
      "Epoch 86/100\n",
      "35795/35795 [==============================] - 29s 815us/step - loss: 1.4295 - accuracy: 0.4936\n",
      "Epoch 87/100\n",
      "35795/35795 [==============================] - 29s 824us/step - loss: 1.4287 - accuracy: 0.4941\n",
      "Epoch 88/100\n",
      "35795/35795 [==============================] - 29s 820us/step - loss: 1.4288 - accuracy: 0.4941\n",
      "Epoch 89/100\n",
      "35795/35795 [==============================] - 29s 818us/step - loss: 1.4287 - accuracy: 0.4942\n",
      "Epoch 90/100\n",
      "35795/35795 [==============================] - 30s 830us/step - loss: 1.4280 - accuracy: 0.4938\n",
      "Epoch 91/100\n",
      "35795/35795 [==============================] - 30s 830us/step - loss: 1.4278 - accuracy: 0.4941\n",
      "Epoch 92/100\n",
      "35795/35795 [==============================] - 29s 824us/step - loss: 1.4273 - accuracy: 0.4945\n",
      "Epoch 93/100\n",
      "35795/35795 [==============================] - 30s 848us/step - loss: 1.4270 - accuracy: 0.4947\n",
      "Epoch 94/100\n",
      "35795/35795 [==============================] - 30s 825us/step - loss: 1.4262 - accuracy: 0.4948\n",
      "Epoch 95/100\n",
      "35795/35795 [==============================] - 29s 816us/step - loss: 1.4266 - accuracy: 0.4946\n",
      "Epoch 96/100\n",
      "35795/35795 [==============================] - 29s 824us/step - loss: 1.4257 - accuracy: 0.4949\n",
      "Epoch 97/100\n",
      "35795/35795 [==============================] - 29s 816us/step - loss: 1.4252 - accuracy: 0.4956\n",
      "Epoch 98/100\n",
      "35795/35795 [==============================] - 31s 874us/step - loss: 1.4251 - accuracy: 0.4948\n",
      "Epoch 99/100\n",
      "35795/35795 [==============================] - 29s 817us/step - loss: 1.4245 - accuracy: 0.4956\n",
      "Epoch 100/100\n",
      "35795/35795 [==============================] - 30s 825us/step - loss: 1.4243 - accuracy: 0.4956\n"
     ]
    },
    {
     "data": {
      "text/plain": [
       "<tensorflow.python.keras.callbacks.History at 0x2ca20a31cd0>"
      ]
     },
     "execution_count": 179,
     "metadata": {},
     "output_type": "execute_result"
    }
   ],
   "source": [
    "# model definition\n",
    "model_comb = ml.Sequential()\n",
    "model_comb.add( l.Dense(128, input_dim=x_train_comb.shape[1], activation='relu') )\n",
    "model_comb.add( l.Dense(12, activation='softmax') )\n",
    "\n",
    "# model compile\n",
    "model_comb.compile(loss='categorical_crossentropy', optimizer='adam', metrics=['accuracy'])\n",
    "\n",
    "# train model\n",
    "model_comb.fit(x_train_comb, y_train_comb, epochs=100)"
   ]
  },
  {
   "cell_type": "markdown",
   "id": "7e2efdd6",
   "metadata": {
    "ExecuteTime": {
     "end_time": "2022-03-09T02:32:36.774772Z",
     "start_time": "2022-03-09T02:32:36.732790Z"
    }
   },
   "source": [
    "#### 7.2.4.1. SMOTE + TOMEKLINK - Performance"
   ]
  },
  {
   "cell_type": "code",
   "execution_count": 196,
   "id": "ae999ad1",
   "metadata": {
    "ExecuteTime": {
     "end_time": "2022-04-15T13:54:29.801939Z",
     "start_time": "2022-04-15T13:54:19.682763Z"
    }
   },
   "outputs": [],
   "source": [
    "# prediction\n",
    "pred_comb_nn = model_comb.predict(x_test_comb)\n",
    "\n",
    "# invert prediction\n",
    "yhat_comb_nn = ohe.inverse_transform(pred_comb_nn)\n",
    "\n",
    "# invert validation response\n",
    "y_test_comb_nn = ohe.inverse_transform(y_test)"
   ]
  },
  {
   "cell_type": "code",
   "execution_count": 197,
   "id": "1d78485e",
   "metadata": {
    "ExecuteTime": {
     "end_time": "2022-04-15T13:54:35.248810Z",
     "start_time": "2022-04-15T13:54:35.222813Z"
    },
    "cell_style": "split"
   },
   "outputs": [
    {
     "data": {
      "text/plain": [
       "NDF      0.576602\n",
       "US       0.297337\n",
       "other    0.047922\n",
       "FR       0.023486\n",
       "IT       0.013145\n",
       "GB       0.011438\n",
       "ES       0.010560\n",
       "CA       0.006902\n",
       "DE       0.005536\n",
       "NL       0.003805\n",
       "AU       0.002390\n",
       "PT       0.000878\n",
       "dtype: float64"
      ]
     },
     "execution_count": 197,
     "metadata": {},
     "output_type": "execute_result"
    }
   ],
   "source": [
    "# check the balance of validation\n",
    "pd.DataFrame(y_test_comb_nn).value_counts(normalize=True)"
   ]
  },
  {
   "cell_type": "code",
   "execution_count": 198,
   "id": "c9059ad9",
   "metadata": {
    "ExecuteTime": {
     "end_time": "2022-04-15T13:54:40.947263Z",
     "start_time": "2022-04-15T13:54:40.918262Z"
    },
    "cell_style": "split"
   },
   "outputs": [
    {
     "data": {
      "text/plain": [
       "NDF      0.576602\n",
       "US       0.262682\n",
       "CA       0.025046\n",
       "ES       0.024290\n",
       "IT       0.023924\n",
       "NL       0.018267\n",
       "other    0.018145\n",
       "GB       0.013974\n",
       "DE       0.013560\n",
       "FR       0.011340\n",
       "AU       0.010170\n",
       "PT       0.002000\n",
       "dtype: float64"
      ]
     },
     "execution_count": 198,
     "metadata": {},
     "output_type": "execute_result"
    }
   ],
   "source": [
    "# check the balance of result\n",
    "pd.DataFrame(yhat_comb_nn).value_counts(normalize=True)"
   ]
  },
  {
   "cell_type": "code",
   "execution_count": 201,
   "id": "37392137",
   "metadata": {
    "ExecuteTime": {
     "end_time": "2022-04-15T13:55:10.620351Z",
     "start_time": "2022-04-15T13:55:04.231387Z"
    }
   },
   "outputs": [
    {
     "name": "stdout",
     "output_type": "stream",
     "text": [
      "Accuracy: 0.7712418300653595\n",
      "Balanced Accuracy: 0.17697057300472915\n",
      "Kappa Score: 0.610435202240417\n",
      "              precision    recall  f1-score   support\n",
      "\n",
      "          AU       0.00      0.01      0.00        98\n",
      "          CA       0.03      0.09      0.04       283\n",
      "          DE       0.02      0.04      0.02       227\n",
      "          ES       0.04      0.09      0.05       433\n",
      "          FR       0.08      0.04      0.05       963\n",
      "          GB       0.04      0.05      0.05       469\n",
      "          IT       0.03      0.06      0.04       539\n",
      "         NDF       1.00      1.00      1.00     23643\n",
      "          NL       0.01      0.06      0.02       156\n",
      "          PT       0.00      0.00      0.00        36\n",
      "          US       0.72      0.63      0.67     12192\n",
      "       other       0.14      0.05      0.07      1965\n",
      "\n",
      "    accuracy                           0.77     41004\n",
      "   macro avg       0.17      0.18      0.17     41004\n",
      "weighted avg       0.80      0.77      0.78     41004\n",
      "\n"
     ]
    },
    {
     "data": {
      "image/png": "[encoded data removed]",
      "text/plain": [
       "<Figure size 864x864 with 2 Axes>"
      ]
     },
     "metadata": {
      "needs_background": "light"
     },
     "output_type": "display_data"
    }
   ],
   "source": [
    "# Accuracy\n",
    "acc_comb_nn = m.accuracy_score( y_test_comb_nn, yhat_comb_nn )\n",
    "print(f'Accuracy: {acc_comb_nn}')\n",
    "\n",
    "# Balanced Accuracy\n",
    "balanced_acc_comb_nn = m.balanced_accuracy_score(y_test_comb_nn, yhat_comb_nn)\n",
    "print(f'Balanced Accuracy: {balanced_acc_comb_nn}')\n",
    "\n",
    "# Kappa Metrics\n",
    "kappa_comb_nn = m.cohen_kappa_score(y_test_comb_nn, yhat_comb_nn)\n",
    "print(f'Kappa Score: {kappa_comb_nn}')\n",
    "\n",
    "# Classification report\n",
    "print(m.classification_report(y_test_comb_nn, yhat_comb_nn))\n",
    "\n",
    "# Confusion Matrix\n",
    "mt.plot_confusion_matrix( y_test_comb_nn, yhat_comb_nn, normalize=False, figsize=(12,12));\n",
    "\n",
    "# Performance\n",
    "comb_performance = {'model': 'NN Model - SMOTE + TOMEKLINK', \n",
    "                    'acc': np.round(acc_comb_nn, 6), \n",
    "                    'balanced_acc': np.round(balanced_acc_comb_nn, 6), \n",
    "                    'kappa_score': np.round(kappa_comb_nn, 6)}"
   ]
  },
  {
   "cell_type": "markdown",
   "id": "e0c2cca9",
   "metadata": {},
   "source": [
    "#### 7.2.4.2. SMOTE + TOMEKLINK - Cross-Validation"
   ]
  },
  {
   "cell_type": "code",
   "execution_count": 202,
   "id": "b3f2691e",
   "metadata": {
    "ExecuteTime": {
     "end_time": "2022-04-16T01:39:47.563758Z",
     "start_time": "2022-04-15T13:55:46.246956Z"
    }
   },
   "outputs": [
    {
     "name": "stdout",
     "output_type": "stream",
     "text": [
      "Fold Number:1/5\n",
      "Fold Number:2/5\n",
      "Fold Number:3/5\n",
      "Fold Number:4/5\n",
      "Fold Number:5/5\n"
     ]
    }
   ],
   "source": [
    "# cross validation performance\n",
    "acc_comb, balanced_acc_comb, kappa_comb = cross_validation(num_fold = 5, \n",
    "                                                           x_train = X_train[cols_selected_boruta_comb], \n",
    "                                                           y_train = y_train, \n",
    "                                                           model = model_comb, \n",
    "                                                           response_encoder = ohe, \n",
    "                                                           balance_model = combine, \n",
    "                                                           verbose = True)"
   ]
  },
  {
   "cell_type": "code",
   "execution_count": 203,
   "id": "ba61bca3",
   "metadata": {
    "ExecuteTime": {
     "end_time": "2022-04-16T01:49:38.165821Z",
     "start_time": "2022-04-16T01:49:38.115381Z"
    }
   },
   "outputs": [],
   "source": [
    "# Performance\n",
    "comb_performance_cv = {'model': 'NN Model - SMOTE + TOMEKLINK - CV',\n",
    "                       'acc': f'{np.round(np.mean(acc_comb), 2)} +/- {np.round(np.std(acc_comb), 4)}',\n",
    "                       'balanced_acc': f'{np.round(np.mean(balanced_acc_comb), 2)} +/- {np.round(np.std(balanced_acc_comb), 4)}',\n",
    "                       'kappa_score': f'{np.round(np.mean(kappa_comb), 2)} +/- {np.round(np.std(kappa_comb), 4)}'}"
   ]
  },
  {
   "cell_type": "code",
   "execution_count": 204,
   "id": "9cd40bbf",
   "metadata": {
    "ExecuteTime": {
     "end_time": "2022-04-16T01:49:43.369115Z",
     "start_time": "2022-04-16T01:49:43.357111Z"
    }
   },
   "outputs": [
    {
     "name": "stdout",
     "output_type": "stream",
     "text": [
      "Avg Accuracy: 0.77 +/- 0.00993\n",
      "Avg Balanced Accuracy: 0.19 +/- 0.00192\n",
      "Avg Kappa Score: 0.6 +/- 0.0139\n"
     ]
    }
   ],
   "source": [
    "print(f'Avg Accuracy: {np.round(np.mean(acc_comb), 2)} +/- {np.round(np.std(acc_comb),5)}')\n",
    "print(f'Avg Balanced Accuracy: {np.round(np.mean(balanced_acc_comb), 2)} +/- {np.round(np.std(balanced_acc_comb),5)}')\n",
    "print(f'Avg Kappa Score: {np.round(np.mean(kappa_comb), 2)} +/- {np.round(np.std(kappa_comb), 4)}')"
   ]
  },
  {
   "cell_type": "markdown",
   "id": "dec46b91",
   "metadata": {},
   "source": [
    "# 8.0. Hyper Parameter Tuning\n",
    "\n",
    "Hyper Parameter Tuning will not be considered until the most optimal machine learning model is selected, at this first cycle was considered only one model to complete the cycle and go through for all the major phases to validate the feasibility of the project."
   ]
  },
  {
   "cell_type": "code",
   "execution_count": null,
   "id": "2033ffaa",
   "metadata": {},
   "outputs": [],
   "source": []
  },
  {
   "cell_type": "markdown",
   "id": "caddd600",
   "metadata": {},
   "source": [
    "# 9.0. Error Translation and Interpretation"
   ]
  },
  {
   "cell_type": "markdown",
   "id": "cc98a2dd",
   "metadata": {},
   "source": [
    "## 9.2. Neural Network Performance"
   ]
  },
  {
   "cell_type": "code",
   "execution_count": null,
   "id": "d2005058",
   "metadata": {},
   "outputs": [],
   "source": []
  },
  {
   "cell_type": "markdown",
   "id": "2d632718",
   "metadata": {},
   "source": [
    "# 10.0. Deploy Model\n",
    "\n",
    "No models will be deployed yet."
   ]
  },
  {
   "cell_type": "code",
   "execution_count": null,
   "id": "a610263d",
   "metadata": {},
   "outputs": [],
   "source": []
  },
  {
   "cell_type": "markdown",
   "id": "f1f2c1d6",
   "metadata": {},
   "source": [
    "# 11.0. Conclusion"
   ]
  },
  {
   "cell_type": "markdown",
   "id": "a0239d3c",
   "metadata": {},
   "source": [
    "Boruta was used as a feature selector for the 4 different datasets, resulting in different columns being selected. The original dataset had 12 main columns, while the dataset with undersampling selected 5 features, and the datasets with oversampling had 42 and 44 features.\n",
    "\n",
    "The performance showed no differences, concluding that the most relevant columns were selected for each model.\n",
    "\n",
    "One improvement noticed was in the processing speed, saving time for training the model."
   ]
  },
  {
   "cell_type": "markdown",
   "id": "fd380d77",
   "metadata": {},
   "source": [
    "## 11.1. Current Cycle Performance"
   ]
  },
  {
   "cell_type": "code",
   "execution_count": 206,
   "id": "a801e6ba",
   "metadata": {
    "ExecuteTime": {
     "end_time": "2022-04-16T02:30:29.572979Z",
     "start_time": "2022-04-16T02:30:29.359104Z"
    }
   },
   "outputs": [
    {
     "data": {
      "text/html": [
       "<div>\n",
       "<style scoped>\n",
       "    .dataframe tbody tr th:only-of-type {\n",
       "        vertical-align: middle;\n",
       "    }\n",
       "\n",
       "    .dataframe tbody tr th {\n",
       "        vertical-align: top;\n",
       "    }\n",
       "\n",
       "    .dataframe thead th {\n",
       "        text-align: right;\n",
       "    }\n",
       "</style>\n",
       "<table border=\"1\" class=\"dataframe\">\n",
       "  <thead>\n",
       "    <tr style=\"text-align: right;\">\n",
       "      <th></th>\n",
       "      <th>cycle</th>\n",
       "      <th>process</th>\n",
       "      <th>model</th>\n",
       "      <th>acc</th>\n",
       "      <th>balanced_acc</th>\n",
       "      <th>kappa_score</th>\n",
       "    </tr>\n",
       "  </thead>\n",
       "  <tbody>\n",
       "    <tr>\n",
       "      <th>0</th>\n",
       "      <td>8th_cycle</td>\n",
       "      <td>feature_selection</td>\n",
       "      <td>Baseline Model</td>\n",
       "      <td>0.424373</td>\n",
       "      <td>0.083768</td>\n",
       "      <td>NaN</td>\n",
       "    </tr>\n",
       "    <tr>\n",
       "      <th>1</th>\n",
       "      <td>8th_cycle</td>\n",
       "      <td>feature_selection</td>\n",
       "      <td>NN Model - Imbalanced Data</td>\n",
       "      <td>0.873817</td>\n",
       "      <td>0.166632</td>\n",
       "      <td>0.76705</td>\n",
       "    </tr>\n",
       "    <tr>\n",
       "      <th>2</th>\n",
       "      <td>8th_cycle</td>\n",
       "      <td>feature_selection</td>\n",
       "      <td>NN Model - Imbalanced Data - CV</td>\n",
       "      <td>0.87 +/- 0.0001</td>\n",
       "      <td>0.17 +/- 0.0004</td>\n",
       "      <td>0.77 +/- 0.0003</td>\n",
       "    </tr>\n",
       "    <tr>\n",
       "      <th>3</th>\n",
       "      <td>8th_cycle</td>\n",
       "      <td>feature_selection</td>\n",
       "      <td>NN Model - Random Undersampling</td>\n",
       "      <td>0.61294</td>\n",
       "      <td>0.175187</td>\n",
       "      <td>0.406353</td>\n",
       "    </tr>\n",
       "    <tr>\n",
       "      <th>4</th>\n",
       "      <td>8th_cycle</td>\n",
       "      <td>feature_selection</td>\n",
       "      <td>NN Model - Random Undersampling - CV</td>\n",
       "      <td>0.62 +/- 0.0057</td>\n",
       "      <td>0.18 +/- 0.0074</td>\n",
       "      <td>0.41 +/- 0.0068</td>\n",
       "    </tr>\n",
       "    <tr>\n",
       "      <th>5</th>\n",
       "      <td>8th_cycle</td>\n",
       "      <td>feature_selection</td>\n",
       "      <td>NN Model - Random Oversampling</td>\n",
       "      <td>0.611794</td>\n",
       "      <td>0.175515</td>\n",
       "      <td>0.406224</td>\n",
       "    </tr>\n",
       "    <tr>\n",
       "      <th>6</th>\n",
       "      <td>8th_cycle</td>\n",
       "      <td>feature_selection</td>\n",
       "      <td>NN Model - Random Oversampling - CV</td>\n",
       "      <td>0.64 +/- 0.0284</td>\n",
       "      <td>0.22 +/- 0.0057</td>\n",
       "      <td>0.44 +/- 0.0351</td>\n",
       "    </tr>\n",
       "    <tr>\n",
       "      <th>7</th>\n",
       "      <td>8th_cycle</td>\n",
       "      <td>feature_selection</td>\n",
       "      <td>NN Model - SMOTE + TOMEKLINK</td>\n",
       "      <td>0.771242</td>\n",
       "      <td>0.176971</td>\n",
       "      <td>0.610435</td>\n",
       "    </tr>\n",
       "    <tr>\n",
       "      <th>8</th>\n",
       "      <td>8th_cycle</td>\n",
       "      <td>feature_selection</td>\n",
       "      <td>NN Model - SMOTE + TOMEKLINK - CV</td>\n",
       "      <td>0.77 +/- 0.0099</td>\n",
       "      <td>0.19 +/- 0.0019</td>\n",
       "      <td>0.6 +/- 0.0139</td>\n",
       "    </tr>\n",
       "  </tbody>\n",
       "</table>\n",
       "</div>"
      ],
      "text/plain": [
       "       cycle            process                                 model  \\\n",
       "0  8th_cycle  feature_selection                        Baseline Model   \n",
       "1  8th_cycle  feature_selection            NN Model - Imbalanced Data   \n",
       "2  8th_cycle  feature_selection       NN Model - Imbalanced Data - CV   \n",
       "3  8th_cycle  feature_selection       NN Model - Random Undersampling   \n",
       "4  8th_cycle  feature_selection  NN Model - Random Undersampling - CV   \n",
       "5  8th_cycle  feature_selection        NN Model - Random Oversampling   \n",
       "6  8th_cycle  feature_selection   NN Model - Random Oversampling - CV   \n",
       "7  8th_cycle  feature_selection          NN Model - SMOTE + TOMEKLINK   \n",
       "8  8th_cycle  feature_selection     NN Model - SMOTE + TOMEKLINK - CV   \n",
       "\n",
       "               acc     balanced_acc      kappa_score  \n",
       "0         0.424373         0.083768              NaN  \n",
       "1         0.873817         0.166632          0.76705  \n",
       "2  0.87 +/- 0.0001  0.17 +/- 0.0004  0.77 +/- 0.0003  \n",
       "3          0.61294         0.175187         0.406353  \n",
       "4  0.62 +/- 0.0057  0.18 +/- 0.0074  0.41 +/- 0.0068  \n",
       "5         0.611794         0.175515         0.406224  \n",
       "6  0.64 +/- 0.0284  0.22 +/- 0.0057  0.44 +/- 0.0351  \n",
       "7         0.771242         0.176971         0.610435  \n",
       "8  0.77 +/- 0.0099  0.19 +/- 0.0019   0.6 +/- 0.0139  "
      ]
     },
     "execution_count": 206,
     "metadata": {},
     "output_type": "execute_result"
    }
   ],
   "source": [
    "# performance dataframe\n",
    "df_performance = pd.DataFrame([baseline_performance, imb_performance, imb_performance_cv, \n",
    "                               under_performance, under_performance_cv, \n",
    "                               over_performance, over_performance_cv, \n",
    "                               comb_performance, comb_performance_cv])\n",
    "\n",
    "df_performance['cycle'] = '8th_cycle'\n",
    "df_performance['process'] = 'feature_selection'\n",
    "df_performance = df_performance[['cycle', 'process', 'model', 'acc', 'balanced_acc', 'kappa_score']]\n",
    "\n",
    "# save 8th cycle to comparison\n",
    "df_performance.to_csv('../Datasets/8th_cycle_performance', index=False)\n",
    "\n",
    "# display performance dataframe\n",
    "df_performance"
   ]
  },
  {
   "cell_type": "markdown",
   "id": "a77ac3d6",
   "metadata": {},
   "source": [
    "## 11.2. Cycle Comparison"
   ]
  },
  {
   "cell_type": "code",
   "execution_count": 208,
   "id": "e2b819d5",
   "metadata": {
    "ExecuteTime": {
     "end_time": "2022-04-16T02:42:56.181685Z",
     "start_time": "2022-04-16T02:42:55.966648Z"
    }
   },
   "outputs": [
    {
     "data": {
      "text/html": [
       "<div>\n",
       "<style scoped>\n",
       "    .dataframe tbody tr th:only-of-type {\n",
       "        vertical-align: middle;\n",
       "    }\n",
       "\n",
       "    .dataframe tbody tr th {\n",
       "        vertical-align: top;\n",
       "    }\n",
       "\n",
       "    .dataframe thead th {\n",
       "        text-align: right;\n",
       "    }\n",
       "</style>\n",
       "<table border=\"1\" class=\"dataframe\">\n",
       "  <thead>\n",
       "    <tr style=\"text-align: right;\">\n",
       "      <th></th>\n",
       "      <th>cycle</th>\n",
       "      <th>process</th>\n",
       "      <th>model</th>\n",
       "      <th>acc</th>\n",
       "      <th>balanced_acc</th>\n",
       "      <th>kappa_score</th>\n",
       "    </tr>\n",
       "  </thead>\n",
       "  <tbody>\n",
       "    <tr>\n",
       "      <th>0</th>\n",
       "      <td>1st_cycle</td>\n",
       "      <td>validation_pipeline</td>\n",
       "      <td>Neural Network Model</td>\n",
       "      <td>0.70407</td>\n",
       "      <td>NaN</td>\n",
       "      <td>NaN</td>\n",
       "    </tr>\n",
       "    <tr>\n",
       "      <th>2</th>\n",
       "      <td>2nd_cycle</td>\n",
       "      <td>baseline_model</td>\n",
       "      <td>Neural Network Model</td>\n",
       "      <td>0.70275</td>\n",
       "      <td>0.091927</td>\n",
       "      <td>0.002145</td>\n",
       "    </tr>\n",
       "    <tr>\n",
       "      <th>3</th>\n",
       "      <td>3rd_cycle</td>\n",
       "      <td>replace_na</td>\n",
       "      <td>Neural Network Model - CV</td>\n",
       "      <td>0.63 +/- 0.0013</td>\n",
       "      <td>0.11 +/- 0.0009</td>\n",
       "      <td>0.24 +/- 0.0063</td>\n",
       "    </tr>\n",
       "    <tr>\n",
       "      <th>4</th>\n",
       "      <td>4th_cycle</td>\n",
       "      <td>feature_engineering</td>\n",
       "      <td>Neural Network Model - CV</td>\n",
       "      <td>0.87 +/- 0.0</td>\n",
       "      <td>0.17 +/- 0.0</td>\n",
       "      <td>0.77 +/- 0.0001</td>\n",
       "    </tr>\n",
       "    <tr>\n",
       "      <th>5</th>\n",
       "      <td>5th_cycle</td>\n",
       "      <td>balanced_dataset</td>\n",
       "      <td>NN Model - Imbalanced Data - CV</td>\n",
       "      <td>0.87 +/- 0.0001</td>\n",
       "      <td>0.17 +/- 0.0</td>\n",
       "      <td>0.77 +/- 0.0002</td>\n",
       "    </tr>\n",
       "    <tr>\n",
       "      <th>6</th>\n",
       "      <td>7th_cycle</td>\n",
       "      <td>data_preparation</td>\n",
       "      <td>NN Model - SMOTE + TOMEKLINK - CV</td>\n",
       "      <td>0.75 +/- 0.0339</td>\n",
       "      <td>0.19 +/- 0.0047</td>\n",
       "      <td>0.58 +/- 0.0476</td>\n",
       "    </tr>\n",
       "    <tr>\n",
       "      <th>7</th>\n",
       "      <td>8th_cycle</td>\n",
       "      <td>feature_selection</td>\n",
       "      <td>NN Model - SMOTE + TOMEKLINK - CV</td>\n",
       "      <td>0.77 +/- 0.0099</td>\n",
       "      <td>0.19 +/- 0.0019</td>\n",
       "      <td>0.6 +/- 0.0139</td>\n",
       "    </tr>\n",
       "  </tbody>\n",
       "</table>\n",
       "</div>"
      ],
      "text/plain": [
       "       cycle              process                              model  \\\n",
       "0  1st_cycle  validation_pipeline               Neural Network Model   \n",
       "2  2nd_cycle       baseline_model               Neural Network Model   \n",
       "3  3rd_cycle           replace_na          Neural Network Model - CV   \n",
       "4  4th_cycle  feature_engineering          Neural Network Model - CV   \n",
       "5  5th_cycle     balanced_dataset    NN Model - Imbalanced Data - CV   \n",
       "6  7th_cycle     data_preparation  NN Model - SMOTE + TOMEKLINK - CV   \n",
       "7  8th_cycle    feature_selection  NN Model - SMOTE + TOMEKLINK - CV   \n",
       "\n",
       "               acc     balanced_acc      kappa_score  \n",
       "0          0.70407              NaN              NaN  \n",
       "2          0.70275         0.091927         0.002145  \n",
       "3  0.63 +/- 0.0013  0.11 +/- 0.0009  0.24 +/- 0.0063  \n",
       "4     0.87 +/- 0.0     0.17 +/- 0.0  0.77 +/- 0.0001  \n",
       "5  0.87 +/- 0.0001     0.17 +/- 0.0  0.77 +/- 0.0002  \n",
       "6  0.75 +/- 0.0339  0.19 +/- 0.0047  0.58 +/- 0.0476  \n",
       "7  0.77 +/- 0.0099  0.19 +/- 0.0019   0.6 +/- 0.0139  "
      ]
     },
     "execution_count": 208,
     "metadata": {},
     "output_type": "execute_result"
    }
   ],
   "source": [
    "# first cycle performance load\n",
    "performance_1st_cycle = pd.read_csv('../Datasets/1st_cycle_performance')\n",
    "\n",
    "# second cycle performance load\n",
    "performance_2nd_cycle = pd.read_csv('../Datasets/2nd_cycle_performance')\n",
    "\n",
    "# third cycle performance laod\n",
    "performance_3rd_cycle = pd.read_csv('../Datasets/3rd_cycle_performance')\n",
    "\n",
    "# fourth cycle performance load\n",
    "performance_4th_cycle = pd.read_csv('../Datasets/4th_cycle_performance')\n",
    "\n",
    "# fifth cycle performance load\n",
    "performance_5th_cycle = pd.read_csv('../Datasets/5th_cycle_performance')\n",
    "\n",
    "# sixth cycle performance load\n",
    "performance_6th_cycle = pd.read_csv('../Datasets/6th_cycle_performance')\n",
    "\n",
    "# seventh cycle performance load\n",
    "performance_7th_cycle = pd.read_csv('../Datasets/7th_cycle_performance')\n",
    "\n",
    "# join cycles dataframes\n",
    "performance = pd.concat([performance_1st_cycle, \n",
    "                         performance_2nd_cycle, \n",
    "                         performance_3rd_cycle[performance_3rd_cycle['model'] == 'Neural Network Model - CV'], \n",
    "                         performance_4th_cycle[performance_4th_cycle['model'] == 'Neural Network Model - CV'], \n",
    "                         performance_5th_cycle[performance_5th_cycle['model'] == 'NN Model - Imbalanced Data - CV'], \n",
    "                         performance_6th_cycle[performance_6th_cycle['model'] == 'NN Model - Imbalanced Data - Cv'], \n",
    "                         performance_7th_cycle[performance_7th_cycle['model'] == 'NN Model - SMOTE + TOMEKLINK - CV'], \n",
    "                         df_performance[df_performance['model'] == 'NN Model - SMOTE + TOMEKLINK - CV']])\\\n",
    "                         .reset_index(drop=True)\n",
    "\n",
    "# filter baseline model\n",
    "performance = performance[(performance['model'] != 'Baseline Model')]\n",
    "\n",
    "# display performance\n",
    "performance"
   ]
  },
  {
   "cell_type": "code",
   "execution_count": 210,
   "id": "fc50f5a9",
   "metadata": {
    "ExecuteTime": {
     "end_time": "2022-04-16T02:43:44.543509Z",
     "start_time": "2022-04-16T02:43:43.583718Z"
    }
   },
   "outputs": [
    {
     "data": {
      "image/png": "[encoded data removed]",
      "text/plain": [
       "<Figure size 1080x432 with 1 Axes>"
      ]
     },
     "metadata": {
      "needs_background": "light"
     },
     "output_type": "display_data"
    }
   ],
   "source": [
    "plt.figure(figsize=(15,6))\n",
    "\n",
    "# formated metrics\n",
    "performance['acc'] = performance['acc'].apply(lambda x: str(x)[0:4]).astype(float)\n",
    "\n",
    "performance['balanced_acc'] = performance['balanced_acc'].apply(lambda x: str(x)[0:4]).astype(float)\n",
    "\n",
    "performance['kappa_score'] = performance['kappa_score'].apply(lambda x: str(x)[0:4]).astype(float)\n",
    "\n",
    "\n",
    "# Evolution of Performance over Cycles\n",
    "sns.lineplot(x='cycle', y='acc', data=performance)\n",
    "\n",
    "sns.lineplot(x='cycle', y='balanced_acc', data=performance)\n",
    "\n",
    "sns.lineplot(x='cycle', y='kappa_score', data=performance)\n",
    "\n",
    "# set legend and titles\n",
    "plt.legend(labels=['Accuracy','Balanced Accuracy', 'Kappa Score'])\n",
    "plt.title('Evolution of Performance over Cycle')\n",
    "plt.ylabel('Percentage')\n",
    "plt.xlabel('Cycles')\n",
    "plt.grid();"
   ]
  },
  {
   "cell_type": "code",
   "execution_count": 213,
   "id": "fede1e5d",
   "metadata": {
    "ExecuteTime": {
     "end_time": "2022-04-16T02:44:33.367537Z",
     "start_time": "2022-04-16T02:44:33.289536Z"
    }
   },
   "outputs": [
    {
     "data": {
      "text/html": [
       "<div>\n",
       "<style scoped>\n",
       "    .dataframe tbody tr th:only-of-type {\n",
       "        vertical-align: middle;\n",
       "    }\n",
       "\n",
       "    .dataframe tbody tr th {\n",
       "        vertical-align: top;\n",
       "    }\n",
       "\n",
       "    .dataframe thead th {\n",
       "        text-align: right;\n",
       "    }\n",
       "</style>\n",
       "<table border=\"1\" class=\"dataframe\">\n",
       "  <thead>\n",
       "    <tr style=\"text-align: right;\">\n",
       "      <th></th>\n",
       "      <th>cycle</th>\n",
       "      <th>process</th>\n",
       "      <th>model</th>\n",
       "      <th>acc</th>\n",
       "      <th>pct_acc</th>\n",
       "      <th>balanced_acc</th>\n",
       "      <th>pct_bal_acc</th>\n",
       "      <th>kappa_score</th>\n",
       "      <th>pct_kappa_score</th>\n",
       "    </tr>\n",
       "  </thead>\n",
       "  <tbody>\n",
       "    <tr>\n",
       "      <th>0</th>\n",
       "      <td>1st_cycle</td>\n",
       "      <td>validation_pipeline</td>\n",
       "      <td>Neural Network Model</td>\n",
       "      <td>0.70</td>\n",
       "      <td>NaN</td>\n",
       "      <td>NaN</td>\n",
       "      <td>NaN</td>\n",
       "      <td>NaN</td>\n",
       "      <td>NaN</td>\n",
       "    </tr>\n",
       "    <tr>\n",
       "      <th>2</th>\n",
       "      <td>2nd_cycle</td>\n",
       "      <td>baseline_model</td>\n",
       "      <td>Neural Network Model</td>\n",
       "      <td>0.70</td>\n",
       "      <td>0.00</td>\n",
       "      <td>0.09</td>\n",
       "      <td>NaN</td>\n",
       "      <td>0.00</td>\n",
       "      <td>NaN</td>\n",
       "    </tr>\n",
       "    <tr>\n",
       "      <th>3</th>\n",
       "      <td>3rd_cycle</td>\n",
       "      <td>replace_na</td>\n",
       "      <td>Neural Network Model - CV</td>\n",
       "      <td>0.63</td>\n",
       "      <td>-0.10</td>\n",
       "      <td>0.11</td>\n",
       "      <td>0.22</td>\n",
       "      <td>0.24</td>\n",
       "      <td>inf</td>\n",
       "    </tr>\n",
       "    <tr>\n",
       "      <th>4</th>\n",
       "      <td>4th_cycle</td>\n",
       "      <td>feature_engineering</td>\n",
       "      <td>Neural Network Model - CV</td>\n",
       "      <td>0.87</td>\n",
       "      <td>0.38</td>\n",
       "      <td>0.17</td>\n",
       "      <td>0.55</td>\n",
       "      <td>0.77</td>\n",
       "      <td>2.21</td>\n",
       "    </tr>\n",
       "    <tr>\n",
       "      <th>5</th>\n",
       "      <td>5th_cycle</td>\n",
       "      <td>balanced_dataset</td>\n",
       "      <td>NN Model - Imbalanced Data - CV</td>\n",
       "      <td>0.87</td>\n",
       "      <td>0.00</td>\n",
       "      <td>0.17</td>\n",
       "      <td>0.00</td>\n",
       "      <td>0.77</td>\n",
       "      <td>0.00</td>\n",
       "    </tr>\n",
       "    <tr>\n",
       "      <th>6</th>\n",
       "      <td>7th_cycle</td>\n",
       "      <td>data_preparation</td>\n",
       "      <td>NN Model - SMOTE + TOMEKLINK - CV</td>\n",
       "      <td>0.75</td>\n",
       "      <td>-0.14</td>\n",
       "      <td>0.19</td>\n",
       "      <td>0.12</td>\n",
       "      <td>0.58</td>\n",
       "      <td>-0.25</td>\n",
       "    </tr>\n",
       "    <tr>\n",
       "      <th>7</th>\n",
       "      <td>8th_cycle</td>\n",
       "      <td>feature_selection</td>\n",
       "      <td>NN Model - SMOTE + TOMEKLINK - CV</td>\n",
       "      <td>0.77</td>\n",
       "      <td>0.03</td>\n",
       "      <td>0.19</td>\n",
       "      <td>0.00</td>\n",
       "      <td>0.60</td>\n",
       "      <td>0.03</td>\n",
       "    </tr>\n",
       "  </tbody>\n",
       "</table>\n",
       "</div>"
      ],
      "text/plain": [
       "       cycle              process                              model   acc  \\\n",
       "0  1st_cycle  validation_pipeline               Neural Network Model  0.70   \n",
       "2  2nd_cycle       baseline_model               Neural Network Model  0.70   \n",
       "3  3rd_cycle           replace_na          Neural Network Model - CV  0.63   \n",
       "4  4th_cycle  feature_engineering          Neural Network Model - CV  0.87   \n",
       "5  5th_cycle     balanced_dataset    NN Model - Imbalanced Data - CV  0.87   \n",
       "6  7th_cycle     data_preparation  NN Model - SMOTE + TOMEKLINK - CV  0.75   \n",
       "7  8th_cycle    feature_selection  NN Model - SMOTE + TOMEKLINK - CV  0.77   \n",
       "\n",
       "   pct_acc  balanced_acc  pct_bal_acc  kappa_score  pct_kappa_score  \n",
       "0      NaN           NaN          NaN          NaN              NaN  \n",
       "2     0.00          0.09          NaN         0.00              NaN  \n",
       "3    -0.10          0.11         0.22         0.24              inf  \n",
       "4     0.38          0.17         0.55         0.77             2.21  \n",
       "5     0.00          0.17         0.00         0.77             0.00  \n",
       "6    -0.14          0.19         0.12         0.58            -0.25  \n",
       "7     0.03          0.19         0.00         0.60             0.03  "
      ]
     },
     "execution_count": 213,
     "metadata": {},
     "output_type": "execute_result"
    }
   ],
   "source": [
    "performance['pct_acc'] = np.round(performance['acc'].pct_change(), 2)\n",
    "\n",
    "performance['pct_bal_acc'] = np.round(performance['balanced_acc'].pct_change(), 2)\n",
    "\n",
    "performance['pct_kappa_score'] = np.round(performance['kappa_score'].pct_change(), 2)\n",
    "\n",
    "performance[['cycle', 'process', 'model', 'acc', 'pct_acc', \n",
    "                   'balanced_acc', 'pct_bal_acc', 'kappa_score', 'pct_kappa_score']]"
   ]
  }
 ],
 "metadata": {
  "kernelspec": {
   "display_name": "Python 3 (ipykernel)",
   "language": "python",
   "name": "python3"
  },
  "language_info": {
   "codemirror_mode": {
    "name": "ipython",
    "version": 3
   },
   "file_extension": ".py",
   "mimetype": "text/x-python",
   "name": "python",
   "nbconvert_exporter": "python",
   "pygments_lexer": "ipython3",
   "version": "3.8.12"
  },
  "varInspector": {
   "cols": {
    "lenName": 16,
    "lenType": 16,
    "lenVar": 40
   },
   "kernels_config": {
    "python": {
     "delete_cmd_postfix": "",
     "delete_cmd_prefix": "del ",
     "library": "var_list.py",
     "varRefreshCmd": "print(var_dic_list())"
    },
    "r": {
     "delete_cmd_postfix": ") ",
     "delete_cmd_prefix": "rm(",
     "library": "var_list.r",
     "varRefreshCmd": "cat(var_dic_list()) "
    }
   },
   "types_to_exclude": [
    "module",
    "function",
    "builtin_function_or_method",
    "instance",
    "_Feature"
   ],
   "window_display": false
  }
 },
 "nbformat": 4,
 "nbformat_minor": 5
}
