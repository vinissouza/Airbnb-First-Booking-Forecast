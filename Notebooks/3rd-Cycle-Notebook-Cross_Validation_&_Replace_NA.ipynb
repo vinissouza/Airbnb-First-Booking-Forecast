{
 "cells": [
  {
   "cell_type": "markdown",
   "id": "e9da1de2",
   "metadata": {
    "ExecuteTime": {
     "end_time": "2022-02-28T20:43:44.606104Z",
     "start_time": "2022-02-28T20:43:44.598146Z"
    }
   },
   "source": [
    "# 0.0. Imports"
   ]
  },
  {
   "cell_type": "code",
   "execution_count": 1,
   "id": "4a97ff0c",
   "metadata": {
    "ExecuteTime": {
     "end_time": "2022-03-08T23:15:45.799375Z",
     "start_time": "2022-03-08T23:15:35.824263Z"
    }
   },
   "outputs": [],
   "source": [
    "import random\n",
    "import pandas as pd\n",
    "import numpy  as np\n",
    "import warnings\n",
    "\n",
    "from sklearn    import model_selection as ms\n",
    "from sklearn    import preprocessing   as pp\n",
    "from sklearn    import metrics         as m\n",
    "from scikitplot import metrics         as mt\n",
    "\n",
    "from keras import models as ml\n",
    "from keras import layers as l\n",
    "\n",
    "warnings.filterwarnings('ignore')"
   ]
  },
  {
   "cell_type": "markdown",
   "id": "58b2f295",
   "metadata": {},
   "source": [
    "## 0.1. Auxiliar Functions"
   ]
  },
  {
   "cell_type": "code",
   "execution_count": null,
   "id": "c27e09c1",
   "metadata": {},
   "outputs": [],
   "source": []
  },
  {
   "cell_type": "markdown",
   "id": "04bd4aba",
   "metadata": {},
   "source": [
    "## 0.2. Load Data"
   ]
  },
  {
   "cell_type": "code",
   "execution_count": 2,
   "id": "05c73b56",
   "metadata": {
    "ExecuteTime": {
     "end_time": "2022-03-08T23:16:07.264374Z",
     "start_time": "2022-03-08T23:15:45.799375Z"
    }
   },
   "outputs": [],
   "source": [
    "# load training set of user\n",
    "data_users = pd.read_csv('../Datasets/train_users_2.csv', low_memory=False)\n",
    "\n",
    "# load web sessions log for users\n",
    "data_sessions = pd.read_csv('../Datasets/sessions.csv', low_memory=False)"
   ]
  },
  {
   "cell_type": "markdown",
   "id": "1179dcfc",
   "metadata": {},
   "source": [
    "# 1.0. Data Description"
   ]
  },
  {
   "cell_type": "code",
   "execution_count": 3,
   "id": "a59196b7",
   "metadata": {
    "ExecuteTime": {
     "end_time": "2022-03-08T23:16:07.549498Z",
     "start_time": "2022-03-08T23:16:07.264374Z"
    }
   },
   "outputs": [],
   "source": [
    "df01_users = data_users.copy()\n",
    "\n",
    "df01_sessions = data_sessions.copy()"
   ]
  },
  {
   "cell_type": "markdown",
   "id": "1ccddadb",
   "metadata": {},
   "source": [
    "## 1.1. Data Types"
   ]
  },
  {
   "cell_type": "code",
   "execution_count": 4,
   "id": "fe162f91",
   "metadata": {
    "ExecuteTime": {
     "end_time": "2022-03-08T23:16:07.610826Z",
     "start_time": "2022-03-08T23:16:07.549498Z"
    },
    "cell_style": "split"
   },
   "outputs": [
    {
     "data": {
      "text/plain": [
       "id                          object\n",
       "date_account_created        object\n",
       "timestamp_first_active       int64\n",
       "date_first_booking          object\n",
       "gender                      object\n",
       "age                        float64\n",
       "signup_method               object\n",
       "signup_flow                  int64\n",
       "language                    object\n",
       "affiliate_channel           object\n",
       "affiliate_provider          object\n",
       "first_affiliate_tracked     object\n",
       "signup_app                  object\n",
       "first_device_type           object\n",
       "first_browser               object\n",
       "country_destination         object\n",
       "dtype: object"
      ]
     },
     "execution_count": 4,
     "metadata": {},
     "output_type": "execute_result"
    }
   ],
   "source": [
    "df01_users.dtypes"
   ]
  },
  {
   "cell_type": "code",
   "execution_count": 5,
   "id": "859ee10e",
   "metadata": {
    "ExecuteTime": {
     "end_time": "2022-03-08T23:16:07.630779Z",
     "start_time": "2022-03-08T23:16:07.614565Z"
    },
    "cell_style": "split"
   },
   "outputs": [
    {
     "data": {
      "text/plain": [
       "user_id           object\n",
       "action            object\n",
       "action_type       object\n",
       "action_detail     object\n",
       "device_type       object\n",
       "secs_elapsed     float64\n",
       "dtype: object"
      ]
     },
     "execution_count": 5,
     "metadata": {},
     "output_type": "execute_result"
    }
   ],
   "source": [
    "df01_sessions.dtypes"
   ]
  },
  {
   "cell_type": "markdown",
   "id": "297d0bec",
   "metadata": {
    "cell_style": "center"
   },
   "source": [
    "## 1.2. Data Dimensions"
   ]
  },
  {
   "cell_type": "markdown",
   "id": "c617277e",
   "metadata": {},
   "source": [
    "### 1.2.1. Data Users Dimensions "
   ]
  },
  {
   "cell_type": "code",
   "execution_count": 6,
   "id": "6889bc8e",
   "metadata": {
    "ExecuteTime": {
     "end_time": "2022-03-08T23:16:07.646408Z",
     "start_time": "2022-03-08T23:16:07.630779Z"
    }
   },
   "outputs": [
    {
     "name": "stdout",
     "output_type": "stream",
     "text": [
      "Number of rows of users dataset: 213451\n",
      "Number of columnss of users dataset: 16\n"
     ]
    }
   ],
   "source": [
    "print( f'Number of rows of users dataset: {df01_users.shape[0]}')\n",
    "print( f'Number of columnss of users dataset: {df01_users.shape[1]}')"
   ]
  },
  {
   "cell_type": "markdown",
   "id": "152339da",
   "metadata": {},
   "source": [
    "### 1.2.2. Data Sessions Dimensions\n",
    "\n",
    "This dataset will not be used in this first cycle due to the granularity being action and we want to be user_id for now."
   ]
  },
  {
   "cell_type": "code",
   "execution_count": 7,
   "id": "c1459d2d",
   "metadata": {
    "ExecuteTime": {
     "end_time": "2022-03-08T23:16:07.662038Z",
     "start_time": "2022-03-08T23:16:07.646408Z"
    }
   },
   "outputs": [
    {
     "name": "stdout",
     "output_type": "stream",
     "text": [
      "Number of rows of sessions dataset: 10567737\n",
      "Number of columnss of session dataset: 6\n"
     ]
    }
   ],
   "source": [
    "print( f'Number of rows of sessions dataset: {df01_sessions.shape[0]}')\n",
    "print( f'Number of columnss of session dataset: {df01_sessions.shape[1]}')"
   ]
  },
  {
   "cell_type": "markdown",
   "id": "5ed2d4e7",
   "metadata": {},
   "source": [
    "## 1.3. Check NA"
   ]
  },
  {
   "cell_type": "markdown",
   "id": "3b2018f1",
   "metadata": {},
   "source": [
    "### 1.3.1. Check NA - Data Users"
   ]
  },
  {
   "cell_type": "code",
   "execution_count": 8,
   "id": "49097f87",
   "metadata": {
    "ExecuteTime": {
     "end_time": "2022-03-08T23:16:07.784816Z",
     "start_time": "2022-03-08T23:16:07.665904Z"
    },
    "cell_style": "split"
   },
   "outputs": [
    {
     "data": {
      "text/plain": [
       "id                              0\n",
       "date_account_created            0\n",
       "timestamp_first_active          0\n",
       "date_first_booking         124543\n",
       "gender                          0\n",
       "age                         87990\n",
       "signup_method                   0\n",
       "signup_flow                     0\n",
       "language                        0\n",
       "affiliate_channel               0\n",
       "affiliate_provider              0\n",
       "first_affiliate_tracked      6065\n",
       "signup_app                      0\n",
       "first_device_type               0\n",
       "first_browser                   0\n",
       "country_destination             0\n",
       "dtype: int64"
      ]
     },
     "execution_count": 8,
     "metadata": {},
     "output_type": "execute_result"
    }
   ],
   "source": [
    "df01_users.isna().sum()"
   ]
  },
  {
   "cell_type": "code",
   "execution_count": 9,
   "id": "c559b15b",
   "metadata": {
    "ExecuteTime": {
     "end_time": "2022-03-08T23:16:07.912560Z",
     "start_time": "2022-03-08T23:16:07.788245Z"
    },
    "cell_style": "split"
   },
   "outputs": [
    {
     "data": {
      "text/plain": [
       "id                         0.000000\n",
       "date_account_created       0.000000\n",
       "timestamp_first_active     0.000000\n",
       "date_first_booking         0.583473\n",
       "gender                     0.000000\n",
       "age                        0.412226\n",
       "signup_method              0.000000\n",
       "signup_flow                0.000000\n",
       "language                   0.000000\n",
       "affiliate_channel          0.000000\n",
       "affiliate_provider         0.000000\n",
       "first_affiliate_tracked    0.028414\n",
       "signup_app                 0.000000\n",
       "first_device_type          0.000000\n",
       "first_browser              0.000000\n",
       "country_destination        0.000000\n",
       "dtype: float64"
      ]
     },
     "execution_count": 9,
     "metadata": {},
     "output_type": "execute_result"
    }
   ],
   "source": [
    "df01_users.isna().sum()/df01_users.shape[0]"
   ]
  },
  {
   "cell_type": "markdown",
   "id": "2176ca0f",
   "metadata": {},
   "source": [
    "### 1.3.2. Check NA - Data Sessions"
   ]
  },
  {
   "cell_type": "code",
   "execution_count": 10,
   "id": "09c5347b",
   "metadata": {
    "ExecuteTime": {
     "end_time": "2022-03-08T23:16:09.884632Z",
     "start_time": "2022-03-08T23:16:07.912560Z"
    },
    "cell_style": "split"
   },
   "outputs": [
    {
     "data": {
      "text/plain": [
       "user_id            34496\n",
       "action             79626\n",
       "action_type      1126204\n",
       "action_detail    1126204\n",
       "device_type            0\n",
       "secs_elapsed      136031\n",
       "dtype: int64"
      ]
     },
     "execution_count": 10,
     "metadata": {},
     "output_type": "execute_result"
    }
   ],
   "source": [
    "df01_sessions.isna().sum()"
   ]
  },
  {
   "cell_type": "code",
   "execution_count": 11,
   "id": "55751da3",
   "metadata": {
    "ExecuteTime": {
     "end_time": "2022-03-08T23:16:11.773384Z",
     "start_time": "2022-03-08T23:16:09.884632Z"
    },
    "cell_style": "split"
   },
   "outputs": [
    {
     "data": {
      "text/plain": [
       "user_id          0.003264\n",
       "action           0.007535\n",
       "action_type      0.106570\n",
       "action_detail    0.106570\n",
       "device_type      0.000000\n",
       "secs_elapsed     0.012872\n",
       "dtype: float64"
      ]
     },
     "execution_count": 11,
     "metadata": {},
     "output_type": "execute_result"
    }
   ],
   "source": [
    "df01_sessions.isna().sum()/df01_sessions.shape[0]"
   ]
  },
  {
   "cell_type": "markdown",
   "id": "bd581316",
   "metadata": {},
   "source": [
    "## 1.4. Fillout NA"
   ]
  },
  {
   "cell_type": "markdown",
   "id": "02d2f026",
   "metadata": {},
   "source": [
    "### 1.4.1. Fillout NA - Data Users\n",
    "\n",
    "- **date_first_booking:** the maximum date of the dataset is chosen due to future features considered the space between dates.\n",
    "\n",
    "- **age:** variable age has a normal distribution, so replacing it with with a mean value will not bias the dataset.\n",
    "\n",
    "- **first_affiliate_tracked:** due to the high probability of bias the dataset with categorical data substitution and the low amount of NA datas in this variable, the NA lines will be dropped."
   ]
  },
  {
   "cell_type": "code",
   "execution_count": 12,
   "id": "17027a20",
   "metadata": {
    "ExecuteTime": {
     "end_time": "2022-03-08T23:16:11.911570Z",
     "start_time": "2022-03-08T23:16:11.773384Z"
    }
   },
   "outputs": [],
   "source": [
    "# date_first_booking\n",
    "max_date_first_booking = pd.to_datetime(df01_users['date_first_booking']).max().strftime('%Y-%m-%d')\n",
    "df01_users['date_first_booking'] = df01_users['date_first_booking'].fillna(max_date_first_booking)\n",
    "\n",
    "# age\n",
    "avg_age = int(df01_users['age'].mean())\n",
    "df01_users['age'] = df01_users['age'].fillna(avg_age)\n",
    "\n",
    "# first_affiliate_tracked\n",
    "df01_users = df01_users[~df01_users['first_affiliate_tracked'].isna()]"
   ]
  },
  {
   "cell_type": "code",
   "execution_count": 13,
   "id": "1e6bc1db",
   "metadata": {
    "ExecuteTime": {
     "end_time": "2022-03-08T23:16:12.020939Z",
     "start_time": "2022-03-08T23:16:11.911570Z"
    }
   },
   "outputs": [
    {
     "data": {
      "text/plain": [
       "id                         0.0\n",
       "date_account_created       0.0\n",
       "timestamp_first_active     0.0\n",
       "date_first_booking         0.0\n",
       "gender                     0.0\n",
       "age                        0.0\n",
       "signup_method              0.0\n",
       "signup_flow                0.0\n",
       "language                   0.0\n",
       "affiliate_channel          0.0\n",
       "affiliate_provider         0.0\n",
       "first_affiliate_tracked    0.0\n",
       "signup_app                 0.0\n",
       "first_device_type          0.0\n",
       "first_browser              0.0\n",
       "country_destination        0.0\n",
       "dtype: float64"
      ]
     },
     "execution_count": 13,
     "metadata": {},
     "output_type": "execute_result"
    }
   ],
   "source": [
    "df01_users.isna().sum()/df01_users.shape[0]"
   ]
  },
  {
   "cell_type": "markdown",
   "id": "8375bdfd",
   "metadata": {},
   "source": [
    "### 1.4.2. Fillout NA - Data Sessions\n",
    "\n",
    "Due to a massise amount of data, all NA lines will be dropped."
   ]
  },
  {
   "cell_type": "code",
   "execution_count": 14,
   "id": "97e5f525",
   "metadata": {
    "ExecuteTime": {
     "end_time": "2022-03-08T23:16:16.999909Z",
     "start_time": "2022-03-08T23:16:12.023893Z"
    }
   },
   "outputs": [],
   "source": [
    "# user_id  - 0.003264\n",
    "df01_sessions = df01_sessions[~df01_sessions['user_id'].isna()]\n",
    "\n",
    "# action - 0.007535\n",
    "df01_sessions = df01_sessions[~df01_sessions['action'].isna()]\n",
    "\n",
    "# action_type - 0.106570\n",
    "df01_sessions = df01_sessions[~df01_sessions['action_type'].isna()]\n",
    "\n",
    "# action_detail - 0.106570\n",
    "df01_sessions = df01_sessions[~df01_sessions['action_detail'].isna()]\n",
    "\n",
    "# secs_elapsed - 0.012872\n",
    "df01_sessions = df01_sessions[~df01_sessions['secs_elapsed'].isna()]"
   ]
  },
  {
   "cell_type": "code",
   "execution_count": 15,
   "id": "1b4ae28d",
   "metadata": {
    "ExecuteTime": {
     "end_time": "2022-03-08T23:16:18.574084Z",
     "start_time": "2022-03-08T23:16:16.999909Z"
    }
   },
   "outputs": [
    {
     "data": {
      "text/plain": [
       "user_id          0.0\n",
       "action           0.0\n",
       "action_type      0.0\n",
       "action_detail    0.0\n",
       "device_type      0.0\n",
       "secs_elapsed     0.0\n",
       "dtype: float64"
      ]
     },
     "execution_count": 15,
     "metadata": {},
     "output_type": "execute_result"
    }
   ],
   "source": [
    "df01_sessions.isna().sum()/df01_sessions.shape[0]"
   ]
  },
  {
   "cell_type": "markdown",
   "id": "7076ae4e",
   "metadata": {},
   "source": [
    "## 1.5. Change Data Type"
   ]
  },
  {
   "cell_type": "code",
   "execution_count": 16,
   "id": "793c65b7",
   "metadata": {
    "ExecuteTime": {
     "end_time": "2022-03-08T23:16:18.636585Z",
     "start_time": "2022-03-08T23:16:18.574084Z"
    }
   },
   "outputs": [
    {
     "data": {
      "text/html": [
       "<div>\n",
       "<style scoped>\n",
       "    .dataframe tbody tr th:only-of-type {\n",
       "        vertical-align: middle;\n",
       "    }\n",
       "\n",
       "    .dataframe tbody tr th {\n",
       "        vertical-align: top;\n",
       "    }\n",
       "\n",
       "    .dataframe thead th {\n",
       "        text-align: right;\n",
       "    }\n",
       "</style>\n",
       "<table border=\"1\" class=\"dataframe\">\n",
       "  <thead>\n",
       "    <tr style=\"text-align: right;\">\n",
       "      <th></th>\n",
       "      <th>id</th>\n",
       "      <th>date_account_created</th>\n",
       "      <th>timestamp_first_active</th>\n",
       "      <th>date_first_booking</th>\n",
       "      <th>gender</th>\n",
       "      <th>age</th>\n",
       "      <th>signup_method</th>\n",
       "      <th>signup_flow</th>\n",
       "      <th>language</th>\n",
       "      <th>affiliate_channel</th>\n",
       "      <th>affiliate_provider</th>\n",
       "      <th>first_affiliate_tracked</th>\n",
       "      <th>signup_app</th>\n",
       "      <th>first_device_type</th>\n",
       "      <th>first_browser</th>\n",
       "      <th>country_destination</th>\n",
       "    </tr>\n",
       "  </thead>\n",
       "  <tbody>\n",
       "    <tr>\n",
       "      <th>56030</th>\n",
       "      <td>rqpl0igy6r</td>\n",
       "      <td>2013-01-15</td>\n",
       "      <td>20130115072434</td>\n",
       "      <td>2015-06-29</td>\n",
       "      <td>MALE</td>\n",
       "      <td>36.0</td>\n",
       "      <td>facebook</td>\n",
       "      <td>0</td>\n",
       "      <td>en</td>\n",
       "      <td>sem-non-brand</td>\n",
       "      <td>vast</td>\n",
       "      <td>omg</td>\n",
       "      <td>Web</td>\n",
       "      <td>Mac Desktop</td>\n",
       "      <td>Safari</td>\n",
       "      <td>NDF</td>\n",
       "    </tr>\n",
       "  </tbody>\n",
       "</table>\n",
       "</div>"
      ],
      "text/plain": [
       "               id date_account_created  timestamp_first_active  \\\n",
       "56030  rqpl0igy6r           2013-01-15          20130115072434   \n",
       "\n",
       "      date_first_booking gender   age signup_method  signup_flow language  \\\n",
       "56030         2015-06-29   MALE  36.0      facebook            0       en   \n",
       "\n",
       "      affiliate_channel affiliate_provider first_affiliate_tracked signup_app  \\\n",
       "56030     sem-non-brand               vast                     omg        Web   \n",
       "\n",
       "      first_device_type first_browser country_destination  \n",
       "56030       Mac Desktop        Safari                 NDF  "
      ]
     },
     "execution_count": 16,
     "metadata": {},
     "output_type": "execute_result"
    }
   ],
   "source": [
    "df01_users.sample(1)"
   ]
  },
  {
   "cell_type": "code",
   "execution_count": 17,
   "id": "d76d383f",
   "metadata": {
    "ExecuteTime": {
     "end_time": "2022-03-08T23:16:19.562051Z",
     "start_time": "2022-03-08T23:16:18.640591Z"
    }
   },
   "outputs": [],
   "source": [
    "# change date type\n",
    "df01_users['date_account_created'] = pd.to_datetime(df01_users['date_account_created'])\n",
    "df01_users['date_first_booking'] = pd.to_datetime(df01_users['date_first_booking'])\n",
    "\n",
    "# change datetime type\n",
    "df01_users['timestamp_first_active'] = pd.to_datetime(df01_users['timestamp_first_active'], format='%Y%m%d%H%M%S')\n",
    "\n",
    "# change age to int\n",
    "df01_users['age'] = df01_users['age'].astype(np.int64)"
   ]
  },
  {
   "cell_type": "code",
   "execution_count": 18,
   "id": "505514d3",
   "metadata": {
    "ExecuteTime": {
     "end_time": "2022-03-08T23:16:19.607158Z",
     "start_time": "2022-03-08T23:16:19.562051Z"
    }
   },
   "outputs": [
    {
     "data": {
      "text/html": [
       "<div>\n",
       "<style scoped>\n",
       "    .dataframe tbody tr th:only-of-type {\n",
       "        vertical-align: middle;\n",
       "    }\n",
       "\n",
       "    .dataframe tbody tr th {\n",
       "        vertical-align: top;\n",
       "    }\n",
       "\n",
       "    .dataframe thead th {\n",
       "        text-align: right;\n",
       "    }\n",
       "</style>\n",
       "<table border=\"1\" class=\"dataframe\">\n",
       "  <thead>\n",
       "    <tr style=\"text-align: right;\">\n",
       "      <th></th>\n",
       "      <th>id</th>\n",
       "      <th>date_account_created</th>\n",
       "      <th>timestamp_first_active</th>\n",
       "      <th>date_first_booking</th>\n",
       "      <th>gender</th>\n",
       "      <th>age</th>\n",
       "      <th>signup_method</th>\n",
       "      <th>signup_flow</th>\n",
       "      <th>language</th>\n",
       "      <th>affiliate_channel</th>\n",
       "      <th>affiliate_provider</th>\n",
       "      <th>first_affiliate_tracked</th>\n",
       "      <th>signup_app</th>\n",
       "      <th>first_device_type</th>\n",
       "      <th>first_browser</th>\n",
       "      <th>country_destination</th>\n",
       "    </tr>\n",
       "  </thead>\n",
       "  <tbody>\n",
       "    <tr>\n",
       "      <th>55286</th>\n",
       "      <td>ulwc13focn</td>\n",
       "      <td>2013-01-09</td>\n",
       "      <td>2013-01-09 21:48:13</td>\n",
       "      <td>2015-06-29</td>\n",
       "      <td>MALE</td>\n",
       "      <td>31</td>\n",
       "      <td>facebook</td>\n",
       "      <td>0</td>\n",
       "      <td>en</td>\n",
       "      <td>direct</td>\n",
       "      <td>direct</td>\n",
       "      <td>untracked</td>\n",
       "      <td>Web</td>\n",
       "      <td>Windows Desktop</td>\n",
       "      <td>IE</td>\n",
       "      <td>NDF</td>\n",
       "    </tr>\n",
       "  </tbody>\n",
       "</table>\n",
       "</div>"
      ],
      "text/plain": [
       "               id date_account_created timestamp_first_active  \\\n",
       "55286  ulwc13focn           2013-01-09    2013-01-09 21:48:13   \n",
       "\n",
       "      date_first_booking gender  age signup_method  signup_flow language  \\\n",
       "55286         2015-06-29   MALE   31      facebook            0       en   \n",
       "\n",
       "      affiliate_channel affiliate_provider first_affiliate_tracked signup_app  \\\n",
       "55286            direct             direct               untracked        Web   \n",
       "\n",
       "      first_device_type first_browser country_destination  \n",
       "55286   Windows Desktop            IE                 NDF  "
      ]
     },
     "execution_count": 18,
     "metadata": {},
     "output_type": "execute_result"
    }
   ],
   "source": [
    "df01_users.sample(1)"
   ]
  },
  {
   "cell_type": "code",
   "execution_count": 19,
   "id": "e7b73c50",
   "metadata": {
    "ExecuteTime": {
     "end_time": "2022-03-08T23:16:19.622868Z",
     "start_time": "2022-03-08T23:16:19.607158Z"
    }
   },
   "outputs": [
    {
     "data": {
      "text/plain": [
       "id                                 object\n",
       "date_account_created       datetime64[ns]\n",
       "timestamp_first_active     datetime64[ns]\n",
       "date_first_booking         datetime64[ns]\n",
       "gender                             object\n",
       "age                                 int64\n",
       "signup_method                      object\n",
       "signup_flow                         int64\n",
       "language                           object\n",
       "affiliate_channel                  object\n",
       "affiliate_provider                 object\n",
       "first_affiliate_tracked            object\n",
       "signup_app                         object\n",
       "first_device_type                  object\n",
       "first_browser                      object\n",
       "country_destination                object\n",
       "dtype: object"
      ]
     },
     "execution_count": 19,
     "metadata": {},
     "output_type": "execute_result"
    }
   ],
   "source": [
    "df01_users.dtypes"
   ]
  },
  {
   "cell_type": "markdown",
   "id": "b4774540",
   "metadata": {},
   "source": [
    "## 1.6. Check Balanced Data\n",
    "\n",
    "Data with an unbalance of 70% for the US class."
   ]
  },
  {
   "cell_type": "code",
   "execution_count": 20,
   "id": "8f5cdc46",
   "metadata": {
    "ExecuteTime": {
     "end_time": "2022-03-08T23:16:19.657596Z",
     "start_time": "2022-03-08T23:16:19.626160Z"
    }
   },
   "outputs": [
    {
     "data": {
      "text/plain": [
       "NDF      0.579673\n",
       "US       0.294461\n",
       "other    0.048128\n",
       "FR       0.023623\n",
       "IT       0.013458\n",
       "GB       0.011066\n",
       "ES       0.010671\n",
       "CA       0.006707\n",
       "DE       0.005020\n",
       "NL       0.003621\n",
       "AU       0.002541\n",
       "PT       0.001032\n",
       "Name: country_destination, dtype: float64"
      ]
     },
     "execution_count": 20,
     "metadata": {},
     "output_type": "execute_result"
    }
   ],
   "source": [
    "df01_users['country_destination'].value_counts(normalize=True)"
   ]
  },
  {
   "cell_type": "markdown",
   "id": "bbe57720",
   "metadata": {},
   "source": [
    "# 2.0. Feature Engineering\n",
    "\n",
    "To increase time, no feature engineering will be done for this first cycle."
   ]
  },
  {
   "cell_type": "code",
   "execution_count": 21,
   "id": "f64c4deb",
   "metadata": {
    "ExecuteTime": {
     "end_time": "2022-03-08T23:16:19.689937Z",
     "start_time": "2022-03-08T23:16:19.658659Z"
    }
   },
   "outputs": [],
   "source": [
    "df02_users = df01_users.copy()"
   ]
  },
  {
   "cell_type": "markdown",
   "id": "b0f5b037",
   "metadata": {},
   "source": [
    "# 3.0. Data Filtering\n",
    "\n",
    "To increase time, the Data Filtering stage will be skipped in this first cycle."
   ]
  },
  {
   "cell_type": "code",
   "execution_count": 22,
   "id": "26b87f66",
   "metadata": {
    "ExecuteTime": {
     "end_time": "2022-03-08T23:16:19.721195Z",
     "start_time": "2022-03-08T23:16:19.689937Z"
    }
   },
   "outputs": [],
   "source": [
    "df03_users = df02_users.copy()"
   ]
  },
  {
   "cell_type": "markdown",
   "id": "80d07e8f",
   "metadata": {
    "heading_collapsed": true
   },
   "source": [
    "## 3.1. Filtering Rows"
   ]
  },
  {
   "cell_type": "markdown",
   "id": "d9303a1b",
   "metadata": {
    "heading_collapsed": true
   },
   "source": [
    "## 3.2. Columns Selection"
   ]
  },
  {
   "cell_type": "markdown",
   "id": "20d1ff53",
   "metadata": {},
   "source": [
    "# 4.0. Data Exploratory Analysis\n",
    "\n",
    "To increase time, the EDA stage will be skipped in this first cycle."
   ]
  },
  {
   "cell_type": "code",
   "execution_count": 23,
   "id": "c5e9da71",
   "metadata": {
    "ExecuteTime": {
     "end_time": "2022-03-08T23:16:19.752437Z",
     "start_time": "2022-03-08T23:16:19.721195Z"
    }
   },
   "outputs": [],
   "source": [
    "df04_users = df03_users.copy()"
   ]
  },
  {
   "cell_type": "markdown",
   "id": "868b4156",
   "metadata": {},
   "source": [
    "# 5.0. Data Preparation"
   ]
  },
  {
   "cell_type": "code",
   "execution_count": 24,
   "id": "5fcd8687",
   "metadata": {
    "ExecuteTime": {
     "end_time": "2022-03-08T23:16:19.783918Z",
     "start_time": "2022-03-08T23:16:19.752437Z"
    }
   },
   "outputs": [],
   "source": [
    "df05_users = df04_users.copy()"
   ]
  },
  {
   "cell_type": "code",
   "execution_count": 25,
   "id": "53e5ef72",
   "metadata": {
    "ExecuteTime": {
     "end_time": "2022-03-08T23:16:20.127667Z",
     "start_time": "2022-03-08T23:16:19.783918Z"
    }
   },
   "outputs": [],
   "source": [
    "# dummy variable\n",
    "df05_users_dummy = pd.get_dummies(df05_users.drop(['id', 'country_destination'], axis=1))\n",
    "\n",
    "# join id and country destination\n",
    "df05_users = pd.concat( [df05_users[['id', 'country_destination']], df05_users_dummy], axis=1 )"
   ]
  },
  {
   "cell_type": "markdown",
   "id": "56417dc6",
   "metadata": {},
   "source": [
    "# 6.0. Feature Selection\n",
    "\n",
    "Original date will be discarded in this first cycle because data must first be derived from them, like years and months."
   ]
  },
  {
   "cell_type": "code",
   "execution_count": 26,
   "id": "924a6eec",
   "metadata": {
    "ExecuteTime": {
     "end_time": "2022-03-08T23:16:20.158937Z",
     "start_time": "2022-03-08T23:16:20.127667Z"
    }
   },
   "outputs": [],
   "source": [
    "df06_users = df05_users.copy()"
   ]
  },
  {
   "cell_type": "code",
   "execution_count": 27,
   "id": "3aa224e1",
   "metadata": {
    "ExecuteTime": {
     "end_time": "2022-03-08T23:16:20.212887Z",
     "start_time": "2022-03-08T23:16:20.158937Z"
    }
   },
   "outputs": [],
   "source": [
    "cols_drop = ['date_account_created', 'timestamp_first_active', 'date_first_booking'] # original dates\n",
    "df06_users = df06_users.drop(cols_drop, axis=1)"
   ]
  },
  {
   "cell_type": "code",
   "execution_count": 28,
   "id": "c4bc27ff",
   "metadata": {
    "ExecuteTime": {
     "end_time": "2022-03-08T23:16:20.266091Z",
     "start_time": "2022-03-08T23:16:20.219215Z"
    }
   },
   "outputs": [],
   "source": [
    "# training dataset\n",
    "X = df06_users.drop( 'country_destination', axis=1 )\n",
    "\n",
    "#  training response dataset\n",
    "y = df06_users['country_destination']"
   ]
  },
  {
   "cell_type": "code",
   "execution_count": 29,
   "id": "2526e910",
   "metadata": {
    "ExecuteTime": {
     "end_time": "2022-03-08T23:16:20.391715Z",
     "start_time": "2022-03-08T23:16:20.266091Z"
    }
   },
   "outputs": [],
   "source": [
    "# Split dataset into training and test (validation)\n",
    "X_train, X_test, y_train, y_test = ms.train_test_split(X, y, test_size=0.2, random_state=32)"
   ]
  },
  {
   "cell_type": "markdown",
   "id": "c9ee0881",
   "metadata": {},
   "source": [
    "# 7.0. Machine Learing Model"
   ]
  },
  {
   "cell_type": "code",
   "execution_count": 30,
   "id": "b9dfd8fe",
   "metadata": {
    "ExecuteTime": {
     "end_time": "2022-03-08T23:16:20.445558Z",
     "start_time": "2022-03-08T23:16:20.391715Z"
    }
   },
   "outputs": [],
   "source": [
    "x_train = X_train.drop('id', axis=1)\n",
    "x_test = X_test.drop('id', axis=1)"
   ]
  },
  {
   "cell_type": "markdown",
   "id": "b3107f01",
   "metadata": {},
   "source": [
    "## 7.1. Baseline Model - Random"
   ]
  },
  {
   "cell_type": "code",
   "execution_count": 31,
   "id": "c5ee811a",
   "metadata": {
    "ExecuteTime": {
     "end_time": "2022-03-08T23:16:20.508084Z",
     "start_time": "2022-03-08T23:16:20.445558Z"
    }
   },
   "outputs": [],
   "source": [
    "country_list = df06_users['country_destination'].drop_duplicates().sort_values().tolist()\n",
    "\n",
    "k_num = y_test.shape[0]\n",
    "\n",
    "country_weights = df06_users['country_destination'].value_counts(normalize=True).sort_index().tolist()\n",
    "\n",
    "yhat_random = random.choices(population=country_list,\n",
    "                             weights=country_weights,\n",
    "                             k=k_num)"
   ]
  },
  {
   "cell_type": "markdown",
   "id": "74175f4b",
   "metadata": {},
   "source": [
    "## 7.2. Neural Network - MLP"
   ]
  },
  {
   "cell_type": "code",
   "execution_count": 32,
   "id": "c837ddfc",
   "metadata": {
    "ExecuteTime": {
     "end_time": "2022-03-08T23:16:20.564424Z",
     "start_time": "2022-03-08T23:16:20.508084Z"
    }
   },
   "outputs": [],
   "source": [
    "ohe = pp.OneHotEncoder()\n",
    "\n",
    "y_train_nn = ohe.fit_transform(y_train.values.reshape(-1, 1)).toarray()"
   ]
  },
  {
   "cell_type": "code",
   "execution_count": 33,
   "id": "fa3d36ec",
   "metadata": {
    "ExecuteTime": {
     "end_time": "2022-03-08T23:24:36.705431Z",
     "start_time": "2022-03-08T23:16:20.564424Z"
    },
    "scrolled": true
   },
   "outputs": [
    {
     "name": "stdout",
     "output_type": "stream",
     "text": [
      "Epoch 1/100\n",
      "5185/5185 [==============================] - 5s 939us/step - loss: 1.2169 - accuracy: 0.5924\n",
      "Epoch 2/100\n",
      "5185/5185 [==============================] - 5s 889us/step - loss: 1.1433 - accuracy: 0.6117\n",
      "Epoch 3/100\n",
      "5185/5185 [==============================] - 5s 987us/step - loss: 1.1130 - accuracy: 0.6179\n",
      "Epoch 4/100\n",
      "5185/5185 [==============================] - 5s 926us/step - loss: 1.0921 - accuracy: 0.6205\n",
      "Epoch 5/100\n",
      "5185/5185 [==============================] - 5s 910us/step - loss: 1.0877 - accuracy: 0.6210\n",
      "Epoch 6/100\n",
      "5185/5185 [==============================] - 5s 903us/step - loss: 1.0861 - accuracy: 0.6210\n",
      "Epoch 7/100\n",
      "5185/5185 [==============================] - 5s 997us/step - loss: 1.0855 - accuracy: 0.6217\n",
      "Epoch 8/100\n",
      "5185/5185 [==============================] - 5s 922us/step - loss: 1.0842 - accuracy: 0.6222\n",
      "Epoch 9/100\n",
      "5185/5185 [==============================] - 5s 910us/step - loss: 1.0836 - accuracy: 0.6225\n",
      "Epoch 10/100\n",
      "5185/5185 [==============================] - 5s 988us/step - loss: 1.0830 - accuracy: 0.6225\n",
      "Epoch 11/100\n",
      "5185/5185 [==============================] - 5s 891us/step - loss: 1.0818 - accuracy: 0.6227\n",
      "Epoch 12/100\n",
      "5185/5185 [==============================] - 5s 905us/step - loss: 1.0813 - accuracy: 0.6226\n",
      "Epoch 13/100\n",
      "5185/5185 [==============================] - 5s 982us/step - loss: 1.0810 - accuracy: 0.6219\n",
      "Epoch 14/100\n",
      "5185/5185 [==============================] - 5s 899us/step - loss: 1.0807 - accuracy: 0.6227\n",
      "Epoch 15/100\n",
      "5185/5185 [==============================] - 5s 891us/step - loss: 1.0797 - accuracy: 0.6237\n",
      "Epoch 16/100\n",
      "5185/5185 [==============================] - 5s 911us/step - loss: 1.0793 - accuracy: 0.6232\n",
      "Epoch 17/100\n",
      "5185/5185 [==============================] - 5s 981us/step - loss: 1.0784 - accuracy: 0.6236\n",
      "Epoch 18/100\n",
      "5185/5185 [==============================] - 5s 949us/step - loss: 1.0779 - accuracy: 0.6240\n",
      "Epoch 19/100\n",
      "5185/5185 [==============================] - 5s 907us/step - loss: 1.0780 - accuracy: 0.6242\n",
      "Epoch 20/100\n",
      "5185/5185 [==============================] - 5s 1ms/step - loss: 1.0772 - accuracy: 0.6246\n",
      "Epoch 21/100\n",
      "5185/5185 [==============================] - 5s 903us/step - loss: 1.0768 - accuracy: 0.6247\n",
      "Epoch 22/100\n",
      "5185/5185 [==============================] - 5s 894us/step - loss: 1.0766 - accuracy: 0.6245\n",
      "Epoch 23/100\n",
      "5185/5185 [==============================] - 5s 979us/step - loss: 1.0764 - accuracy: 0.6244\n",
      "Epoch 24/100\n",
      "5185/5185 [==============================] - 5s 912us/step - loss: 1.0759 - accuracy: 0.6240\n",
      "Epoch 25/100\n",
      "5185/5185 [==============================] - 5s 907us/step - loss: 1.0755 - accuracy: 0.6242\n",
      "Epoch 26/100\n",
      "5185/5185 [==============================] - 5s 925us/step - loss: 1.0752 - accuracy: 0.6245\n",
      "Epoch 27/100\n",
      "5185/5185 [==============================] - 5s 949us/step - loss: 1.0747 - accuracy: 0.6246\n",
      "Epoch 28/100\n",
      "5185/5185 [==============================] - 5s 908us/step - loss: 1.0745 - accuracy: 0.6251\n",
      "Epoch 29/100\n",
      "5185/5185 [==============================] - 5s 902us/step - loss: 1.0741 - accuracy: 0.6253\n",
      "Epoch 30/100\n",
      "5185/5185 [==============================] - 5s 977us/step - loss: 1.0739 - accuracy: 0.6247\n",
      "Epoch 31/100\n",
      "5185/5185 [==============================] - 5s 894us/step - loss: 1.0735 - accuracy: 0.6253\n",
      "Epoch 32/100\n",
      "5185/5185 [==============================] - 5s 897us/step - loss: 1.0735 - accuracy: 0.6257\n",
      "Epoch 33/100\n",
      "5185/5185 [==============================] - 5s 977us/step - loss: 1.0731 - accuracy: 0.6252\n",
      "Epoch 34/100\n",
      "5185/5185 [==============================] - 5s 900us/step - loss: 1.0729 - accuracy: 0.6255\n",
      "Epoch 35/100\n",
      "5185/5185 [==============================] - 5s 896us/step - loss: 1.0727 - accuracy: 0.6256\n",
      "Epoch 36/100\n",
      "5185/5185 [==============================] - 5s 993us/step - loss: 1.0727 - accuracy: 0.6254\n",
      "Epoch 37/100\n",
      "5185/5185 [==============================] - 5s 959us/step - loss: 1.0725 - accuracy: 0.6262\n",
      "Epoch 38/100\n",
      "5185/5185 [==============================] - 5s 894us/step - loss: 1.0728 - accuracy: 0.6252\n",
      "Epoch 39/100\n",
      "5185/5185 [==============================] - 5s 905us/step - loss: 1.0721 - accuracy: 0.6255\n",
      "Epoch 40/100\n",
      "5185/5185 [==============================] - 6s 1ms/step - loss: 1.0722 - accuracy: 0.6258\n",
      "Epoch 41/100\n",
      "5185/5185 [==============================] - 5s 985us/step - loss: 1.0717 - accuracy: 0.6261\n",
      "Epoch 42/100\n",
      "5185/5185 [==============================] - 6s 1ms/step - loss: 1.0718 - accuracy: 0.6260\n",
      "Epoch 43/100\n",
      "5185/5185 [==============================] - 6s 1ms/step - loss: 1.0715 - accuracy: 0.6261\n",
      "Epoch 44/100\n",
      "5185/5185 [==============================] - 5s 997us/step - loss: 1.0716 - accuracy: 0.6254\n",
      "Epoch 45/100\n",
      "5185/5185 [==============================] - 5s 898us/step - loss: 1.0714 - accuracy: 0.6264\n",
      "Epoch 46/100\n",
      "5185/5185 [==============================] - 5s 983us/step - loss: 1.0711 - accuracy: 0.6267\n",
      "Epoch 47/100\n",
      "5185/5185 [==============================] - 5s 901us/step - loss: 1.0712 - accuracy: 0.6265\n",
      "Epoch 48/100\n",
      "5185/5185 [==============================] - 5s 896us/step - loss: 1.0709 - accuracy: 0.6261\n",
      "Epoch 49/100\n",
      "5185/5185 [==============================] - 5s 996us/step - loss: 1.0708 - accuracy: 0.6259\n",
      "Epoch 50/100\n",
      "5185/5185 [==============================] - 5s 904us/step - loss: 1.0706 - accuracy: 0.6261\n",
      "Epoch 51/100\n",
      "5185/5185 [==============================] - 5s 907us/step - loss: 1.0709 - accuracy: 0.6263\n",
      "Epoch 52/100\n",
      "5185/5185 [==============================] - 5s 965us/step - loss: 1.0705 - accuracy: 0.6264\n",
      "Epoch 53/100\n",
      "5185/5185 [==============================] - 6s 1ms/step - loss: 1.0704 - accuracy: 0.6266\n",
      "Epoch 54/100\n",
      "5185/5185 [==============================] - 5s 946us/step - loss: 1.0703 - accuracy: 0.6265\n",
      "Epoch 55/100\n",
      "5185/5185 [==============================] - 5s 959us/step - loss: 1.0700 - accuracy: 0.6266\n",
      "Epoch 56/100\n",
      "5185/5185 [==============================] - 5s 947us/step - loss: 1.0703 - accuracy: 0.6263\n",
      "Epoch 57/100\n",
      "5185/5185 [==============================] - 5s 902us/step - loss: 1.0702 - accuracy: 0.6266\n",
      "Epoch 58/100\n",
      "5185/5185 [==============================] - 5s 897us/step - loss: 1.0699 - accuracy: 0.6264\n",
      "Epoch 59/100\n",
      "5185/5185 [==============================] - 5s 977us/step - loss: 1.0701 - accuracy: 0.6259\n",
      "Epoch 60/100\n",
      "5185/5185 [==============================] - 5s 930us/step - loss: 1.0695 - accuracy: 0.6265\n",
      "Epoch 61/100\n",
      "5185/5185 [==============================] - 5s 1ms/step - loss: 1.0697 - accuracy: 0.6270\n",
      "Epoch 62/100\n",
      "5185/5185 [==============================] - 5s 1ms/step - loss: 1.0692 - accuracy: 0.6270\n",
      "Epoch 63/100\n",
      "5185/5185 [==============================] - 5s 895us/step - loss: 1.0696 - accuracy: 0.6262\n",
      "Epoch 64/100\n",
      "5185/5185 [==============================] - 5s 912us/step - loss: 1.0694 - accuracy: 0.6266\n",
      "Epoch 65/100\n",
      "5185/5185 [==============================] - 5s 979us/step - loss: 1.0695 - accuracy: 0.6271\n",
      "Epoch 66/100\n",
      "5185/5185 [==============================] - 5s 896us/step - loss: 1.0693 - accuracy: 0.6263\n",
      "Epoch 67/100\n",
      "5185/5185 [==============================] - 5s 900us/step - loss: 1.0693 - accuracy: 0.6266\n",
      "Epoch 68/100\n",
      "5185/5185 [==============================] - 5s 924us/step - loss: 1.0693 - accuracy: 0.6266\n",
      "Epoch 69/100\n",
      "5185/5185 [==============================] - 5s 964us/step - loss: 1.0685 - accuracy: 0.6271\n",
      "Epoch 70/100\n",
      "5185/5185 [==============================] - 5s 904us/step - loss: 1.0685 - accuracy: 0.6266\n",
      "Epoch 71/100\n",
      "5185/5185 [==============================] - 5s 914us/step - loss: 1.0689 - accuracy: 0.6270\n",
      "Epoch 72/100\n",
      "5185/5185 [==============================] - 5s 977us/step - loss: 1.0687 - accuracy: 0.6272\n",
      "Epoch 73/100\n",
      "5185/5185 [==============================] - 5s 918us/step - loss: 1.0688 - accuracy: 0.6272\n",
      "Epoch 74/100\n",
      "5185/5185 [==============================] - 5s 898us/step - loss: 1.0681 - accuracy: 0.6265\n",
      "Epoch 75/100\n",
      "5185/5185 [==============================] - 5s 979us/step - loss: 1.0686 - accuracy: 0.6271\n",
      "Epoch 76/100\n",
      "5185/5185 [==============================] - 5s 898us/step - loss: 1.0686 - accuracy: 0.6266\n",
      "Epoch 77/100\n",
      "5185/5185 [==============================] - 5s 919us/step - loss: 1.0686 - accuracy: 0.6270\n",
      "Epoch 78/100\n",
      "5185/5185 [==============================] - 5s 922us/step - loss: 1.0683 - accuracy: 0.6271\n",
      "Epoch 79/100\n",
      "5185/5185 [==============================] - 5s 955us/step - loss: 1.0681 - accuracy: 0.6273\n",
      "Epoch 80/100\n",
      "5185/5185 [==============================] - 5s 913us/step - loss: 1.0683 - accuracy: 0.6269\n",
      "Epoch 81/100\n",
      "5185/5185 [==============================] - 5s 904us/step - loss: 1.0680 - accuracy: 0.6272\n",
      "Epoch 82/100\n",
      "5185/5185 [==============================] - 6s 1ms/step - loss: 1.0685 - accuracy: 0.6272\n",
      "Epoch 83/100\n",
      "5185/5185 [==============================] - 5s 896us/step - loss: 1.0681 - accuracy: 0.6271\n",
      "Epoch 84/100\n",
      "5185/5185 [==============================] - 5s 900us/step - loss: 1.0678 - accuracy: 0.6264\n",
      "Epoch 85/100\n",
      "5185/5185 [==============================] - 5s 1ms/step - loss: 1.0681 - accuracy: 0.6267\n",
      "Epoch 86/100\n",
      "5185/5185 [==============================] - 5s 911us/step - loss: 1.0680 - accuracy: 0.6269\n",
      "Epoch 87/100\n",
      "5185/5185 [==============================] - 5s 896us/step - loss: 1.0680 - accuracy: 0.6270\n",
      "Epoch 88/100\n",
      "5185/5185 [==============================] - 5s 978us/step - loss: 1.0678 - accuracy: 0.6270\n",
      "Epoch 89/100\n",
      "5185/5185 [==============================] - 5s 912us/step - loss: 1.0683 - accuracy: 0.6275\n",
      "Epoch 90/100\n",
      "5185/5185 [==============================] - 5s 899us/step - loss: 1.0678 - accuracy: 0.6269\n",
      "Epoch 91/100\n",
      "5185/5185 [==============================] - 5s 905us/step - loss: 1.0678 - accuracy: 0.6272\n",
      "Epoch 92/100\n",
      "5185/5185 [==============================] - 5s 995us/step - loss: 1.0676 - accuracy: 0.6278\n",
      "Epoch 93/100\n",
      "5185/5185 [==============================] - 5s 904us/step - loss: 1.0676 - accuracy: 0.6278\n",
      "Epoch 94/100\n",
      "5185/5185 [==============================] - 5s 903us/step - loss: 1.0677 - accuracy: 0.6275\n",
      "Epoch 95/100\n",
      "5185/5185 [==============================] - 5s 981us/step - loss: 1.0674 - accuracy: 0.6270\n",
      "Epoch 96/100\n",
      "5185/5185 [==============================] - 5s 896us/step - loss: 1.0677 - accuracy: 0.6275\n",
      "Epoch 97/100\n",
      "5185/5185 [==============================] - 5s 915us/step - loss: 1.0679 - accuracy: 0.6271\n",
      "Epoch 98/100\n",
      "5185/5185 [==============================] - 5s 999us/step - loss: 1.0673 - accuracy: 0.6269\n",
      "Epoch 99/100\n",
      "5185/5185 [==============================] - 5s 900us/step - loss: 1.0673 - accuracy: 0.6272\n",
      "Epoch 100/100\n",
      "5185/5185 [==============================] - 5s 906us/step - loss: 1.0675 - accuracy: 0.6274\n"
     ]
    },
    {
     "data": {
      "text/plain": [
       "<tensorflow.python.keras.callbacks.History at 0x238a42f3a30>"
      ]
     },
     "execution_count": 33,
     "metadata": {},
     "output_type": "execute_result"
    }
   ],
   "source": [
    "# model definition\n",
    "model = ml.Sequential()\n",
    "model.add( l.Dense(128, input_dim=x_train.shape[1], activation='relu') )\n",
    "model.add( l.Dense(12, activation='softmax') )\n",
    "\n",
    "# model compile\n",
    "model.compile(loss='categorical_crossentropy', optimizer='adam', metrics=['accuracy'])\n",
    "\n",
    "# train model\n",
    "model.fit(x_train, y_train_nn, epochs=100)"
   ]
  },
  {
   "cell_type": "markdown",
   "id": "dec46b91",
   "metadata": {},
   "source": [
    "# 8.0. Hyper Parameter Tuning\n",
    "\n",
    "Hyper Parameter Tuning will not be considered until the most optimal machine learning model is selected, at this first cycle was considered only one model to complete the cycle and go through for all the major phases to validate the feasibility of the project."
   ]
  },
  {
   "cell_type": "code",
   "execution_count": null,
   "id": "2033ffaa",
   "metadata": {},
   "outputs": [],
   "source": []
  },
  {
   "cell_type": "markdown",
   "id": "caddd600",
   "metadata": {},
   "source": [
    "# 9.0. Error Translation and Interpretation"
   ]
  },
  {
   "cell_type": "markdown",
   "id": "a7e6a2a6",
   "metadata": {
    "ExecuteTime": {
     "end_time": "2022-03-08T23:09:48.297944Z",
     "start_time": "2022-03-08T23:09:48.290973Z"
    }
   },
   "source": [
    "## 9.1. Baseline Model Performance"
   ]
  },
  {
   "cell_type": "code",
   "execution_count": 34,
   "id": "1a6823cc",
   "metadata": {
    "ExecuteTime": {
     "end_time": "2022-03-08T23:24:38.669486Z",
     "start_time": "2022-03-08T23:24:36.705431Z"
    }
   },
   "outputs": [
    {
     "name": "stdout",
     "output_type": "stream",
     "text": [
      "Accuracy 0.42738319108925216\n",
      "Balanced Accuracy: 0.08446305026970559\n",
      "Kappa Score: 0.0040021654782341765\n",
      "              precision    recall  f1-score   support\n",
      "\n",
      "          AU       0.00      0.00      0.00       111\n",
      "          CA       0.01      0.01      0.01       281\n",
      "          DE       0.00      0.00      0.00       215\n",
      "          ES       0.01      0.01      0.01       428\n",
      "          FR       0.03      0.03      0.03      1021\n",
      "          GB       0.01      0.01      0.01       426\n",
      "          IT       0.02      0.02      0.02       570\n",
      "         NDF       0.58      0.58      0.58     23996\n",
      "          NL       0.00      0.00      0.00       146\n",
      "          PT       0.00      0.00      0.00        48\n",
      "          US       0.30      0.30      0.30     12280\n",
      "       other       0.05      0.05      0.05      1956\n",
      "\n",
      "    accuracy                           0.43     41478\n",
      "   macro avg       0.08      0.08      0.08     41478\n",
      "weighted avg       0.43      0.43      0.43     41478\n",
      "\n"
     ]
    },
    {
     "data": {
      "image/png": "[encoded data removed]",
      "text/plain": [
       "<Figure size 864x864 with 2 Axes>"
      ]
     },
     "metadata": {
      "needs_background": "light"
     },
     "output_type": "display_data"
    }
   ],
   "source": [
    "# Accuracy\n",
    "acc_random = m.accuracy_score( y_test, yhat_random )\n",
    "print(f'Accuracy {acc_random}')\n",
    "\n",
    "# Balanced Accuracy\n",
    "balanced_acc_random = m.balanced_accuracy_score(y_test, yhat_random)\n",
    "print(f'Balanced Accuracy: {balanced_acc_random}')\n",
    "\n",
    "# Kappa Metrics\n",
    "kappa_random = m.cohen_kappa_score(y_test, yhat_random)\n",
    "print(f'Kappa Score: {kappa_random}')\n",
    "\n",
    "# Classification report\n",
    "print(m.classification_report(y_test, yhat_random))\n",
    "\n",
    "# Confusion Matrix\n",
    "mt.plot_confusion_matrix(y_test, yhat_random, normalize=False, figsize=(12,12));"
   ]
  },
  {
   "cell_type": "markdown",
   "id": "fef11fea",
   "metadata": {},
   "source": [
    "## 9.2. Neural Network Performance"
   ]
  },
  {
   "cell_type": "code",
   "execution_count": 35,
   "id": "01508688",
   "metadata": {
    "ExecuteTime": {
     "end_time": "2022-03-08T23:24:39.556983Z",
     "start_time": "2022-03-08T23:24:38.669486Z"
    }
   },
   "outputs": [],
   "source": [
    "# prediction\n",
    "pred_nn = model.predict(x_test)\n",
    "\n",
    "# invert prediction\n",
    "yhat_nn = ohe.inverse_transform(pred_nn)\n",
    "\n",
    "# test dataset prepare with real results\n",
    "y_test_nn = y_test.to_numpy()\n",
    "yhat_nn = yhat_nn.reshape(1, -1)[0]"
   ]
  },
  {
   "cell_type": "code",
   "execution_count": 36,
   "id": "2c5d756d",
   "metadata": {
    "ExecuteTime": {
     "end_time": "2022-03-08T23:24:39.579835Z",
     "start_time": "2022-03-08T23:24:39.556983Z"
    }
   },
   "outputs": [
    {
     "data": {
      "text/plain": [
       "NDF      0.771469\n",
       "US       0.228145\n",
       "other    0.000121\n",
       "ES       0.000096\n",
       "IT       0.000048\n",
       "NL       0.000048\n",
       "CA       0.000024\n",
       "FR       0.000024\n",
       "PT       0.000024\n",
       "dtype: float64"
      ]
     },
     "execution_count": 36,
     "metadata": {},
     "output_type": "execute_result"
    }
   ],
   "source": [
    "# check balanced results\n",
    "pd.DataFrame(yhat_nn).value_counts(normalize=True)"
   ]
  },
  {
   "cell_type": "code",
   "execution_count": 37,
   "id": "eaa6d23a",
   "metadata": {
    "ExecuteTime": {
     "end_time": "2022-03-08T23:24:42.321354Z",
     "start_time": "2022-03-08T23:24:39.579835Z"
    }
   },
   "outputs": [
    {
     "name": "stdout",
     "output_type": "stream",
     "text": [
      "Accuracy: 0.6276580355851294\n",
      "Balanced Accuracy: 0.10643071234818542\n",
      "Kappa Score: 0.2340752042353189\n",
      "              precision    recall  f1-score   support\n",
      "\n",
      "          AU       0.00      0.00      0.00       111\n",
      "          CA       0.00      0.00      0.00       281\n",
      "          DE       0.00      0.00      0.00       215\n",
      "          ES       0.00      0.00      0.00       428\n",
      "          FR       0.00      0.00      0.00      1021\n",
      "          GB       0.00      0.00      0.00       426\n",
      "          IT       0.00      0.00      0.00       570\n",
      "         NDF       0.66      0.88      0.76     23996\n",
      "          NL       0.00      0.00      0.00       146\n",
      "          PT       0.00      0.00      0.00        48\n",
      "          US       0.51      0.39      0.44     12280\n",
      "       other       0.00      0.00      0.00      1956\n",
      "\n",
      "    accuracy                           0.63     41478\n",
      "   macro avg       0.10      0.11      0.10     41478\n",
      "weighted avg       0.53      0.63      0.57     41478\n",
      "\n"
     ]
    },
    {
     "data": {
      "image/png": "[encoded data removed]",
      "text/plain": [
       "<Figure size 864x864 with 2 Axes>"
      ]
     },
     "metadata": {
      "needs_background": "light"
     },
     "output_type": "display_data"
    }
   ],
   "source": [
    "# Accuracy\n",
    "acc_nn = m.accuracy_score( y_test_nn, yhat_nn )\n",
    "print(f'Accuracy: {acc_nn}')\n",
    "\n",
    "# Balanced Accuracy\n",
    "balanced_acc_nn = m.balanced_accuracy_score(y_test_nn, yhat_nn)\n",
    "print(f'Balanced Accuracy: {balanced_acc_nn}')\n",
    "\n",
    "# Kappa Metrics\n",
    "kappa_nn = m.cohen_kappa_score(y_test_nn, yhat_nn)\n",
    "print(f'Kappa Score: {kappa_nn}')\n",
    "\n",
    "# Classification report\n",
    "print(m.classification_report(y_test_nn, yhat_nn))\n",
    "\n",
    "# Confusion Matrix\n",
    "mt.plot_confusion_matrix( y_test_nn, yhat_nn, normalize=False, figsize=(12,12));"
   ]
  },
  {
   "cell_type": "markdown",
   "id": "cac2f5f0",
   "metadata": {},
   "source": [
    "### 9.2.1. Neural Network Performance - Cross-Validation"
   ]
  },
  {
   "cell_type": "code",
   "execution_count": 38,
   "id": "d1621f5c",
   "metadata": {
    "ExecuteTime": {
     "end_time": "2022-03-08T23:50:06.196459Z",
     "start_time": "2022-03-08T23:24:42.321354Z"
    }
   },
   "outputs": [
    {
     "name": "stdout",
     "output_type": "stream",
     "text": [
      "Fold Number:1/5\n",
      "Fold Number:2/5\n",
      "Fold Number:3/5\n",
      "Fold Number:4/5\n",
      "Fold Number:5/5\n"
     ]
    }
   ],
   "source": [
    "# generate k-fold\n",
    "num_folds = 5\n",
    "kfold = ms.StratifiedKFold( n_splits=num_folds, shuffle=True, random_state=32 )\n",
    "\n",
    "balanced_acc_list = []\n",
    "\n",
    "kappa_list = []\n",
    "\n",
    "i = 1\n",
    "\n",
    "for train_index, val_index in kfold.split( x_train, y_train ):\n",
    "    print(f'Fold Number:{i}/{num_folds}')\n",
    "    \n",
    "    # split data into training and test set\n",
    "    x_train_cv = x_train.iloc[train_index]\n",
    "    y_train_cv = y_train.iloc[train_index]\n",
    "    \n",
    "    x_validation_cv = x_train.iloc[val_index]\n",
    "    y_validation_cv = y_train.iloc[val_index]\n",
    "    \n",
    "    # encoding response variable\n",
    "    ohe = pp.OneHotEncoder()\n",
    "\n",
    "    y_train_cv_nn = ohe.fit_transform(y_train_cv.values.reshape(-1, 1)).toarray()\n",
    "\n",
    "    # model definition\n",
    "    model = ml.Sequential()\n",
    "    model.add( l.Dense(128, input_dim=x_train_cv.shape[1], activation='relu') )\n",
    "    model.add( l.Dense(12, activation='softmax') )\n",
    "\n",
    "    # model compile\n",
    "    model.compile(loss='categorical_crossentropy', optimizer='adam', metrics=['accuracy'])\n",
    "\n",
    "    # train model\n",
    "    model.fit(x_train_cv, y_train_cv_nn, epochs=100, batch_size=32, verbose=0)\n",
    "\n",
    "    # prediction\n",
    "    pred_cv_nn = model.predict(x_validation_cv)\n",
    "\n",
    "    # invert prediction\n",
    "    yhat_cv_nn = ohe.inverse_transform(pred_cv_nn)\n",
    "\n",
    "    # test dataset prepare with real results\n",
    "    y_test_cv_nn = y_validation_cv.to_numpy()\n",
    "    yhat_cv_nn = yhat_cv_nn.reshape(1, -1)[0]\n",
    "    \n",
    "    # performance metrics \n",
    "    # Balanced Accuracy\n",
    "    balanced_acc_nn = m.balanced_accuracy_score(y_test_cv_nn, yhat_cv_nn)\n",
    "    balanced_acc_list.append(balanced_acc_nn)\n",
    "\n",
    "    # Kappa Metrics\n",
    "    kappa_nn = m.cohen_kappa_score(y_test_cv_nn, yhat_cv_nn)\n",
    "    kappa_list.append(kappa_nn)\n",
    "    \n",
    "    i += 1"
   ]
  },
  {
   "cell_type": "code",
   "execution_count": 39,
   "id": "ee53cb00",
   "metadata": {
    "ExecuteTime": {
     "end_time": "2022-03-08T23:50:06.226554Z",
     "start_time": "2022-03-08T23:50:06.196459Z"
    }
   },
   "outputs": [
    {
     "name": "stdout",
     "output_type": "stream",
     "text": [
      "Avg Balanced Accuracy: 0.11 +/- 0.0012\n",
      "Avg Kappa Score: 0.22 +/- 0.0108\n"
     ]
    }
   ],
   "source": [
    "print(f'Avg Balanced Accuracy: {np.round(np.mean(balanced_acc_list), 2)} +/- {np.round(np.std(balanced_acc_list),4)}')\n",
    "print(f'Avg Kappa Score: {np.round(np.mean(kappa_list), 2)} +/- {np.round(np.std(kappa_list), 4)}')"
   ]
  },
  {
   "cell_type": "markdown",
   "id": "f444f3d3",
   "metadata": {},
   "source": [
    "**Result**\n",
    "\n",
    "Through the replacement of the null values (NA), excluded in the first cycle, it was possible to return to the dataset more than 50% of the data along with an integer class (NDF), which coincidentally is the marjority class, increasing the complexity of the project.\n",
    "\n",
    "Cross-validation allowed us to evaluate the model with greater reliability by using different fractions of the data for validate and test the performance, measuring its efficiency for different periods of time."
   ]
  },
  {
   "cell_type": "markdown",
   "id": "2d632718",
   "metadata": {},
   "source": [
    "# 10.0. Deploy Model\n",
    "\n",
    "No models will be deployed yet."
   ]
  },
  {
   "cell_type": "code",
   "execution_count": null,
   "id": "a610263d",
   "metadata": {},
   "outputs": [],
   "source": []
  }
 ],
 "metadata": {
  "kernelspec": {
   "display_name": "Python 3 (ipykernel)",
   "language": "python",
   "name": "python3"
  },
  "language_info": {
   "codemirror_mode": {
    "name": "ipython",
    "version": 3
   },
   "file_extension": ".py",
   "mimetype": "text/x-python",
   "name": "python",
   "nbconvert_exporter": "python",
   "pygments_lexer": "ipython3",
   "version": "3.8.12"
  },
  "varInspector": {
   "cols": {
    "lenName": 16,
    "lenType": 16,
    "lenVar": 40
   },
   "kernels_config": {
    "python": {
     "delete_cmd_postfix": "",
     "delete_cmd_prefix": "del ",
     "library": "var_list.py",
     "varRefreshCmd": "print(var_dic_list())"
    },
    "r": {
     "delete_cmd_postfix": ") ",
     "delete_cmd_prefix": "rm(",
     "library": "var_list.r",
     "varRefreshCmd": "cat(var_dic_list()) "
    }
   },
   "types_to_exclude": [
    "module",
    "function",
    "builtin_function_or_method",
    "instance",
    "_Feature"
   ],
   "window_display": false
  }
 },
 "nbformat": 4,
 "nbformat_minor": 5
}
