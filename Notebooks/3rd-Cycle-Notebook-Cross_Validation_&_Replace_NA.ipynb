{
 "cells": [
  {
   "cell_type": "markdown",
   "id": "e9da1de2",
   "metadata": {
    "ExecuteTime": {
     "end_time": "2022-02-28T20:43:44.606104Z",
     "start_time": "2022-02-28T20:43:44.598146Z"
    }
   },
   "source": [
    "# 0.0. Imports"
   ]
  },
  {
   "cell_type": "code",
   "execution_count": 1,
   "id": "4a97ff0c",
   "metadata": {
    "ExecuteTime": {
     "end_time": "2022-03-30T13:00:22.722655Z",
     "start_time": "2022-03-30T13:00:00.943376Z"
    }
   },
   "outputs": [],
   "source": [
    "import random\n",
    "import pandas as pd\n",
    "import numpy  as np\n",
    "import warnings\n",
    "\n",
    "import seaborn as sns\n",
    "import matplotlib.pyplot as plt\n",
    "\n",
    "from sklearn    import model_selection as ms\n",
    "from sklearn    import preprocessing   as pp\n",
    "from sklearn    import metrics         as m\n",
    "from scikitplot import metrics         as mt\n",
    "\n",
    "from keras import models as ml\n",
    "from keras import layers as l\n",
    "\n",
    "warnings.filterwarnings('ignore')"
   ]
  },
  {
   "cell_type": "markdown",
   "id": "58b2f295",
   "metadata": {},
   "source": [
    "## 0.1. Auxiliar Functions"
   ]
  },
  {
   "cell_type": "code",
   "execution_count": 2,
   "id": "c27e09c1",
   "metadata": {
    "ExecuteTime": {
     "end_time": "2022-03-30T13:00:22.754650Z",
     "start_time": "2022-03-30T13:00:22.727655Z"
    }
   },
   "outputs": [],
   "source": [
    "def cross_validation(num_fold, x_train, y_train, model, verbose=False):\n",
    "    # generate k-fold\n",
    "    num_folds = 5\n",
    "    kfold = ms.StratifiedKFold( n_splits=num_folds, shuffle=True, random_state=32 )\n",
    "\n",
    "    # create empty metrics list\n",
    "    acc_list = []\n",
    "    balanced_acc_list = []\n",
    "    kappa_list = []\n",
    "\n",
    "    # sequence of loop for verbose\n",
    "    i = 1\n",
    "    \n",
    "    # interation to measure performance\n",
    "    for train_index, val_index in kfold.split( x_train, ohe.inverse_transform(y_train) ):\n",
    "        if verbose:\n",
    "            print(f'Fold Number:{i}/{num_folds}')\n",
    "\n",
    "        # split data into training and test set\n",
    "        x_train_cv = x_train.iloc[train_index]\n",
    "        y_train_cv = y_train.iloc[train_index]\n",
    "\n",
    "        x_validation_cv = x_train.iloc[val_index]\n",
    "        y_validation_cv = y_train.iloc[val_index]\n",
    "\n",
    "        # train model\n",
    "        model.fit(x_train_cv, y_train_cv, epochs=100, batch_size=32, verbose=0)\n",
    "\n",
    "        # prediction\n",
    "        pred_cv = model.predict(x_validation_cv)\n",
    "\n",
    "        # invert prediction\n",
    "        yhat_cv = ohe.inverse_transform(pred_cv)\n",
    "\n",
    "        # invert validation response\n",
    "        y_test_cv = ohe.inverse_transform(y_validation_cv)\n",
    "\n",
    "        # performance metrics\n",
    "        # Accuracy\n",
    "        acc_nn = m.accuracy_score( y_test_cv, yhat_cv )\n",
    "        acc_list.append(acc_nn)\n",
    "        \n",
    "        # Balanced Accuracy\n",
    "        balanced_acc_nn = m.balanced_accuracy_score(y_test_cv, yhat_cv)\n",
    "        balanced_acc_list.append(balanced_acc_nn)\n",
    "\n",
    "        # Kappa Metrics\n",
    "        kappa_nn = m.cohen_kappa_score(y_test_cv, yhat_cv)\n",
    "        kappa_list.append(kappa_nn)\n",
    "\n",
    "        i += 1\n",
    "\n",
    "    return acc_list, balanced_acc_list, kappa_list"
   ]
  },
  {
   "cell_type": "markdown",
   "id": "04bd4aba",
   "metadata": {},
   "source": [
    "## 0.2. Load Data"
   ]
  },
  {
   "cell_type": "code",
   "execution_count": 3,
   "id": "05c73b56",
   "metadata": {
    "ExecuteTime": {
     "end_time": "2022-03-30T13:00:45.202219Z",
     "start_time": "2022-03-30T13:00:22.761653Z"
    }
   },
   "outputs": [],
   "source": [
    "# load training set of user\n",
    "data_users = pd.read_csv('../Datasets/train_users_2.csv', low_memory=False)\n",
    "\n",
    "# load web sessions log for users\n",
    "data_sessions = pd.read_csv('../Datasets/sessions.csv', low_memory=False)"
   ]
  },
  {
   "cell_type": "markdown",
   "id": "1179dcfc",
   "metadata": {},
   "source": [
    "# 1.0. Data Description"
   ]
  },
  {
   "cell_type": "code",
   "execution_count": 4,
   "id": "a59196b7",
   "metadata": {
    "ExecuteTime": {
     "end_time": "2022-03-30T13:00:45.717652Z",
     "start_time": "2022-03-30T13:00:45.273529Z"
    }
   },
   "outputs": [],
   "source": [
    "df01_users = data_users.copy()\n",
    "\n",
    "df01_sessions = data_sessions.copy()"
   ]
  },
  {
   "cell_type": "markdown",
   "id": "1ccddadb",
   "metadata": {},
   "source": [
    "## 1.1. Data Types"
   ]
  },
  {
   "cell_type": "code",
   "execution_count": 5,
   "id": "fe162f91",
   "metadata": {
    "ExecuteTime": {
     "end_time": "2022-03-30T13:00:45.956591Z",
     "start_time": "2022-03-30T13:00:45.719639Z"
    },
    "cell_style": "split"
   },
   "outputs": [
    {
     "data": {
      "text/plain": [
       "id                          object\n",
       "date_account_created        object\n",
       "timestamp_first_active       int64\n",
       "date_first_booking          object\n",
       "gender                      object\n",
       "age                        float64\n",
       "signup_method               object\n",
       "signup_flow                  int64\n",
       "language                    object\n",
       "affiliate_channel           object\n",
       "affiliate_provider          object\n",
       "first_affiliate_tracked     object\n",
       "signup_app                  object\n",
       "first_device_type           object\n",
       "first_browser               object\n",
       "country_destination         object\n",
       "dtype: object"
      ]
     },
     "execution_count": 5,
     "metadata": {},
     "output_type": "execute_result"
    }
   ],
   "source": [
    "df01_users.dtypes"
   ]
  },
  {
   "cell_type": "code",
   "execution_count": 6,
   "id": "859ee10e",
   "metadata": {
    "ExecuteTime": {
     "end_time": "2022-03-30T13:00:45.972598Z",
     "start_time": "2022-03-30T13:00:45.960599Z"
    },
    "cell_style": "split"
   },
   "outputs": [
    {
     "data": {
      "text/plain": [
       "user_id           object\n",
       "action            object\n",
       "action_type       object\n",
       "action_detail     object\n",
       "device_type       object\n",
       "secs_elapsed     float64\n",
       "dtype: object"
      ]
     },
     "execution_count": 6,
     "metadata": {},
     "output_type": "execute_result"
    }
   ],
   "source": [
    "df01_sessions.dtypes"
   ]
  },
  {
   "cell_type": "markdown",
   "id": "297d0bec",
   "metadata": {
    "cell_style": "center"
   },
   "source": [
    "## 1.2. Data Dimensions"
   ]
  },
  {
   "cell_type": "markdown",
   "id": "c617277e",
   "metadata": {},
   "source": [
    "### 1.2.1. Data Users Dimensions "
   ]
  },
  {
   "cell_type": "code",
   "execution_count": 7,
   "id": "6889bc8e",
   "metadata": {
    "ExecuteTime": {
     "end_time": "2022-03-30T13:00:46.161306Z",
     "start_time": "2022-03-30T13:00:45.976598Z"
    }
   },
   "outputs": [
    {
     "name": "stdout",
     "output_type": "stream",
     "text": [
      "Number of rows of users dataset: 213451\n",
      "Number of columnss of users dataset: 16\n"
     ]
    }
   ],
   "source": [
    "print( f'Number of rows of users dataset: {df01_users.shape[0]}')\n",
    "print( f'Number of columnss of users dataset: {df01_users.shape[1]}')"
   ]
  },
  {
   "cell_type": "markdown",
   "id": "152339da",
   "metadata": {},
   "source": [
    "### 1.2.2. Data Sessions Dimensions\n",
    "\n",
    "This dataset will not be used in this first cycle due to the granularity being action and we want to be user_id for now."
   ]
  },
  {
   "cell_type": "code",
   "execution_count": 8,
   "id": "c1459d2d",
   "metadata": {
    "ExecuteTime": {
     "end_time": "2022-03-30T13:00:46.193363Z",
     "start_time": "2022-03-30T13:00:46.164307Z"
    }
   },
   "outputs": [
    {
     "name": "stdout",
     "output_type": "stream",
     "text": [
      "Number of rows of sessions dataset: 10567737\n",
      "Number of columnss of session dataset: 6\n"
     ]
    }
   ],
   "source": [
    "print( f'Number of rows of sessions dataset: {df01_sessions.shape[0]}')\n",
    "print( f'Number of columnss of session dataset: {df01_sessions.shape[1]}')"
   ]
  },
  {
   "cell_type": "markdown",
   "id": "5ed2d4e7",
   "metadata": {},
   "source": [
    "## 1.3. Check NA"
   ]
  },
  {
   "cell_type": "markdown",
   "id": "3b2018f1",
   "metadata": {},
   "source": [
    "### 1.3.1. Check NA - Data Users"
   ]
  },
  {
   "cell_type": "code",
   "execution_count": 9,
   "id": "49097f87",
   "metadata": {
    "ExecuteTime": {
     "end_time": "2022-03-30T13:00:46.400379Z",
     "start_time": "2022-03-30T13:00:46.198309Z"
    },
    "cell_style": "split"
   },
   "outputs": [
    {
     "data": {
      "text/plain": [
       "id                              0\n",
       "date_account_created            0\n",
       "timestamp_first_active          0\n",
       "date_first_booking         124543\n",
       "gender                          0\n",
       "age                         87990\n",
       "signup_method                   0\n",
       "signup_flow                     0\n",
       "language                        0\n",
       "affiliate_channel               0\n",
       "affiliate_provider              0\n",
       "first_affiliate_tracked      6065\n",
       "signup_app                      0\n",
       "first_device_type               0\n",
       "first_browser                   0\n",
       "country_destination             0\n",
       "dtype: int64"
      ]
     },
     "execution_count": 9,
     "metadata": {},
     "output_type": "execute_result"
    }
   ],
   "source": [
    "df01_users.isna().sum()"
   ]
  },
  {
   "cell_type": "code",
   "execution_count": 10,
   "id": "c559b15b",
   "metadata": {
    "ExecuteTime": {
     "end_time": "2022-03-30T13:00:46.619653Z",
     "start_time": "2022-03-30T13:00:46.408404Z"
    },
    "cell_style": "split"
   },
   "outputs": [
    {
     "data": {
      "text/plain": [
       "id                         0.000000\n",
       "date_account_created       0.000000\n",
       "timestamp_first_active     0.000000\n",
       "date_first_booking         0.583473\n",
       "gender                     0.000000\n",
       "age                        0.412226\n",
       "signup_method              0.000000\n",
       "signup_flow                0.000000\n",
       "language                   0.000000\n",
       "affiliate_channel          0.000000\n",
       "affiliate_provider         0.000000\n",
       "first_affiliate_tracked    0.028414\n",
       "signup_app                 0.000000\n",
       "first_device_type          0.000000\n",
       "first_browser              0.000000\n",
       "country_destination        0.000000\n",
       "dtype: float64"
      ]
     },
     "execution_count": 10,
     "metadata": {},
     "output_type": "execute_result"
    }
   ],
   "source": [
    "df01_users.isna().sum()/df01_users.shape[0]"
   ]
  },
  {
   "cell_type": "markdown",
   "id": "2176ca0f",
   "metadata": {},
   "source": [
    "### 1.3.2. Check NA - Data Sessions"
   ]
  },
  {
   "cell_type": "code",
   "execution_count": 11,
   "id": "09c5347b",
   "metadata": {
    "ExecuteTime": {
     "end_time": "2022-03-30T13:00:48.467837Z",
     "start_time": "2022-03-30T13:00:46.623425Z"
    },
    "cell_style": "split"
   },
   "outputs": [
    {
     "data": {
      "text/plain": [
       "user_id            34496\n",
       "action             79626\n",
       "action_type      1126204\n",
       "action_detail    1126204\n",
       "device_type            0\n",
       "secs_elapsed      136031\n",
       "dtype: int64"
      ]
     },
     "execution_count": 11,
     "metadata": {},
     "output_type": "execute_result"
    }
   ],
   "source": [
    "df01_sessions.isna().sum()"
   ]
  },
  {
   "cell_type": "code",
   "execution_count": 12,
   "id": "55751da3",
   "metadata": {
    "ExecuteTime": {
     "end_time": "2022-03-30T13:00:50.356393Z",
     "start_time": "2022-03-30T13:00:48.470803Z"
    },
    "cell_style": "split"
   },
   "outputs": [
    {
     "data": {
      "text/plain": [
       "user_id          0.003264\n",
       "action           0.007535\n",
       "action_type      0.106570\n",
       "action_detail    0.106570\n",
       "device_type      0.000000\n",
       "secs_elapsed     0.012872\n",
       "dtype: float64"
      ]
     },
     "execution_count": 12,
     "metadata": {},
     "output_type": "execute_result"
    }
   ],
   "source": [
    "df01_sessions.isna().sum()/df01_sessions.shape[0]"
   ]
  },
  {
   "cell_type": "markdown",
   "id": "bd581316",
   "metadata": {},
   "source": [
    "## 1.4. Fillout NA"
   ]
  },
  {
   "cell_type": "markdown",
   "id": "02d2f026",
   "metadata": {},
   "source": [
    "### 1.4.1. Fillout NA - Data Users\n",
    "\n",
    "- **date_first_booking:** the maximum date of the dataset is chosen due to future features considered the space between dates.\n",
    "\n",
    "- **age:** variable age has a normal distribution, so replacing it with with a mean value will not bias the dataset.\n",
    "\n",
    "- **first_affiliate_tracked:** due to the high probability of bias the dataset with categorical data substitution and the low amount of NA datas in this variable, the NA lines will be dropped."
   ]
  },
  {
   "cell_type": "code",
   "execution_count": 13,
   "id": "17027a20",
   "metadata": {
    "ExecuteTime": {
     "end_time": "2022-03-30T13:00:50.606985Z",
     "start_time": "2022-03-30T13:00:50.359350Z"
    }
   },
   "outputs": [],
   "source": [
    "# date_first_booking\n",
    "max_date_first_booking = pd.to_datetime(df01_users['date_first_booking']).max().strftime('%Y-%m-%d')\n",
    "df01_users['date_first_booking'] = df01_users['date_first_booking'].fillna(max_date_first_booking)\n",
    "\n",
    "# age\n",
    "avg_age = int(df01_users['age'].mean())\n",
    "df01_users['age'] = df01_users['age'].fillna(avg_age)\n",
    "\n",
    "# first_affiliate_tracked\n",
    "df01_users = df01_users[~df01_users['first_affiliate_tracked'].isna()]"
   ]
  },
  {
   "cell_type": "code",
   "execution_count": 14,
   "id": "1e6bc1db",
   "metadata": {
    "ExecuteTime": {
     "end_time": "2022-03-30T13:00:50.765733Z",
     "start_time": "2022-03-30T13:00:50.610735Z"
    }
   },
   "outputs": [
    {
     "data": {
      "text/plain": [
       "id                         0.0\n",
       "date_account_created       0.0\n",
       "timestamp_first_active     0.0\n",
       "date_first_booking         0.0\n",
       "gender                     0.0\n",
       "age                        0.0\n",
       "signup_method              0.0\n",
       "signup_flow                0.0\n",
       "language                   0.0\n",
       "affiliate_channel          0.0\n",
       "affiliate_provider         0.0\n",
       "first_affiliate_tracked    0.0\n",
       "signup_app                 0.0\n",
       "first_device_type          0.0\n",
       "first_browser              0.0\n",
       "country_destination        0.0\n",
       "dtype: float64"
      ]
     },
     "execution_count": 14,
     "metadata": {},
     "output_type": "execute_result"
    }
   ],
   "source": [
    "df01_users.isna().sum()/df01_users.shape[0]"
   ]
  },
  {
   "cell_type": "markdown",
   "id": "8375bdfd",
   "metadata": {},
   "source": [
    "### 1.4.2. Fillout NA - Data Sessions\n",
    "\n",
    "Due to a massise amount of data, all NA lines will be dropped."
   ]
  },
  {
   "cell_type": "code",
   "execution_count": 15,
   "id": "97e5f525",
   "metadata": {
    "ExecuteTime": {
     "end_time": "2022-03-30T13:00:56.245617Z",
     "start_time": "2022-03-30T13:00:50.770733Z"
    }
   },
   "outputs": [],
   "source": [
    "# user_id  - 0.003264\n",
    "df01_sessions = df01_sessions[~df01_sessions['user_id'].isna()]\n",
    "\n",
    "# action - 0.007535\n",
    "df01_sessions = df01_sessions[~df01_sessions['action'].isna()]\n",
    "\n",
    "# action_type - 0.106570\n",
    "df01_sessions = df01_sessions[~df01_sessions['action_type'].isna()]\n",
    "\n",
    "# action_detail - 0.106570\n",
    "df01_sessions = df01_sessions[~df01_sessions['action_detail'].isna()]\n",
    "\n",
    "# secs_elapsed - 0.012872\n",
    "df01_sessions = df01_sessions[~df01_sessions['secs_elapsed'].isna()]"
   ]
  },
  {
   "cell_type": "code",
   "execution_count": 16,
   "id": "1b4ae28d",
   "metadata": {
    "ExecuteTime": {
     "end_time": "2022-03-30T13:00:57.946376Z",
     "start_time": "2022-03-30T13:00:56.248362Z"
    }
   },
   "outputs": [
    {
     "data": {
      "text/plain": [
       "user_id          0.0\n",
       "action           0.0\n",
       "action_type      0.0\n",
       "action_detail    0.0\n",
       "device_type      0.0\n",
       "secs_elapsed     0.0\n",
       "dtype: float64"
      ]
     },
     "execution_count": 16,
     "metadata": {},
     "output_type": "execute_result"
    }
   ],
   "source": [
    "df01_sessions.isna().sum()/df01_sessions.shape[0]"
   ]
  },
  {
   "cell_type": "markdown",
   "id": "7076ae4e",
   "metadata": {},
   "source": [
    "## 1.5. Change Data Type"
   ]
  },
  {
   "cell_type": "code",
   "execution_count": 17,
   "id": "793c65b7",
   "metadata": {
    "ExecuteTime": {
     "end_time": "2022-03-30T13:00:58.055990Z",
     "start_time": "2022-03-30T13:00:57.950363Z"
    }
   },
   "outputs": [
    {
     "data": {
      "text/html": [
       "<div>\n",
       "<style scoped>\n",
       "    .dataframe tbody tr th:only-of-type {\n",
       "        vertical-align: middle;\n",
       "    }\n",
       "\n",
       "    .dataframe tbody tr th {\n",
       "        vertical-align: top;\n",
       "    }\n",
       "\n",
       "    .dataframe thead th {\n",
       "        text-align: right;\n",
       "    }\n",
       "</style>\n",
       "<table border=\"1\" class=\"dataframe\">\n",
       "  <thead>\n",
       "    <tr style=\"text-align: right;\">\n",
       "      <th></th>\n",
       "      <th>id</th>\n",
       "      <th>date_account_created</th>\n",
       "      <th>timestamp_first_active</th>\n",
       "      <th>date_first_booking</th>\n",
       "      <th>gender</th>\n",
       "      <th>age</th>\n",
       "      <th>signup_method</th>\n",
       "      <th>signup_flow</th>\n",
       "      <th>language</th>\n",
       "      <th>affiliate_channel</th>\n",
       "      <th>affiliate_provider</th>\n",
       "      <th>first_affiliate_tracked</th>\n",
       "      <th>signup_app</th>\n",
       "      <th>first_device_type</th>\n",
       "      <th>first_browser</th>\n",
       "      <th>country_destination</th>\n",
       "    </tr>\n",
       "  </thead>\n",
       "  <tbody>\n",
       "    <tr>\n",
       "      <th>130363</th>\n",
       "      <td>8mzkyyk318</td>\n",
       "      <td>2013-12-06</td>\n",
       "      <td>20131206191940</td>\n",
       "      <td>2015-06-29</td>\n",
       "      <td>-unknown-</td>\n",
       "      <td>49.0</td>\n",
       "      <td>basic</td>\n",
       "      <td>0</td>\n",
       "      <td>en</td>\n",
       "      <td>sem-brand</td>\n",
       "      <td>google</td>\n",
       "      <td>untracked</td>\n",
       "      <td>Web</td>\n",
       "      <td>Mac Desktop</td>\n",
       "      <td>Chrome</td>\n",
       "      <td>NDF</td>\n",
       "    </tr>\n",
       "  </tbody>\n",
       "</table>\n",
       "</div>"
      ],
      "text/plain": [
       "                id date_account_created  timestamp_first_active  \\\n",
       "130363  8mzkyyk318           2013-12-06          20131206191940   \n",
       "\n",
       "       date_first_booking     gender   age signup_method  signup_flow  \\\n",
       "130363         2015-06-29  -unknown-  49.0         basic            0   \n",
       "\n",
       "       language affiliate_channel affiliate_provider first_affiliate_tracked  \\\n",
       "130363       en         sem-brand             google               untracked   \n",
       "\n",
       "       signup_app first_device_type first_browser country_destination  \n",
       "130363        Web       Mac Desktop        Chrome                 NDF  "
      ]
     },
     "execution_count": 17,
     "metadata": {},
     "output_type": "execute_result"
    }
   ],
   "source": [
    "df01_users.sample(1)"
   ]
  },
  {
   "cell_type": "code",
   "execution_count": 18,
   "id": "d76d383f",
   "metadata": {
    "ExecuteTime": {
     "end_time": "2022-03-30T13:00:59.147993Z",
     "start_time": "2022-03-30T13:00:58.059989Z"
    }
   },
   "outputs": [],
   "source": [
    "# change date type\n",
    "df01_users['date_account_created'] = pd.to_datetime(df01_users['date_account_created'])\n",
    "df01_users['date_first_booking'] = pd.to_datetime(df01_users['date_first_booking'])\n",
    "\n",
    "# change datetime type\n",
    "df01_users['timestamp_first_active'] = pd.to_datetime(df01_users['timestamp_first_active'], format='%Y%m%d%H%M%S')\n",
    "\n",
    "# change age to int\n",
    "df01_users['age'] = df01_users['age'].astype(np.int64)"
   ]
  },
  {
   "cell_type": "code",
   "execution_count": 19,
   "id": "505514d3",
   "metadata": {
    "ExecuteTime": {
     "end_time": "2022-03-30T13:00:59.211986Z",
     "start_time": "2022-03-30T13:00:59.150986Z"
    }
   },
   "outputs": [
    {
     "data": {
      "text/html": [
       "<div>\n",
       "<style scoped>\n",
       "    .dataframe tbody tr th:only-of-type {\n",
       "        vertical-align: middle;\n",
       "    }\n",
       "\n",
       "    .dataframe tbody tr th {\n",
       "        vertical-align: top;\n",
       "    }\n",
       "\n",
       "    .dataframe thead th {\n",
       "        text-align: right;\n",
       "    }\n",
       "</style>\n",
       "<table border=\"1\" class=\"dataframe\">\n",
       "  <thead>\n",
       "    <tr style=\"text-align: right;\">\n",
       "      <th></th>\n",
       "      <th>id</th>\n",
       "      <th>date_account_created</th>\n",
       "      <th>timestamp_first_active</th>\n",
       "      <th>date_first_booking</th>\n",
       "      <th>gender</th>\n",
       "      <th>age</th>\n",
       "      <th>signup_method</th>\n",
       "      <th>signup_flow</th>\n",
       "      <th>language</th>\n",
       "      <th>affiliate_channel</th>\n",
       "      <th>affiliate_provider</th>\n",
       "      <th>first_affiliate_tracked</th>\n",
       "      <th>signup_app</th>\n",
       "      <th>first_device_type</th>\n",
       "      <th>first_browser</th>\n",
       "      <th>country_destination</th>\n",
       "    </tr>\n",
       "  </thead>\n",
       "  <tbody>\n",
       "    <tr>\n",
       "      <th>141714</th>\n",
       "      <td>hpyr44skxb</td>\n",
       "      <td>2014-01-14</td>\n",
       "      <td>2014-01-14 17:58:48</td>\n",
       "      <td>2015-06-29</td>\n",
       "      <td>MALE</td>\n",
       "      <td>33</td>\n",
       "      <td>basic</td>\n",
       "      <td>0</td>\n",
       "      <td>en</td>\n",
       "      <td>direct</td>\n",
       "      <td>direct</td>\n",
       "      <td>linked</td>\n",
       "      <td>Web</td>\n",
       "      <td>Windows Desktop</td>\n",
       "      <td>Chrome</td>\n",
       "      <td>NDF</td>\n",
       "    </tr>\n",
       "  </tbody>\n",
       "</table>\n",
       "</div>"
      ],
      "text/plain": [
       "                id date_account_created timestamp_first_active  \\\n",
       "141714  hpyr44skxb           2014-01-14    2014-01-14 17:58:48   \n",
       "\n",
       "       date_first_booking gender  age signup_method  signup_flow language  \\\n",
       "141714         2015-06-29   MALE   33         basic            0       en   \n",
       "\n",
       "       affiliate_channel affiliate_provider first_affiliate_tracked  \\\n",
       "141714            direct             direct                  linked   \n",
       "\n",
       "       signup_app first_device_type first_browser country_destination  \n",
       "141714        Web   Windows Desktop        Chrome                 NDF  "
      ]
     },
     "execution_count": 19,
     "metadata": {},
     "output_type": "execute_result"
    }
   ],
   "source": [
    "df01_users.sample(1)"
   ]
  },
  {
   "cell_type": "code",
   "execution_count": 20,
   "id": "e7b73c50",
   "metadata": {
    "ExecuteTime": {
     "end_time": "2022-03-30T13:00:59.244002Z",
     "start_time": "2022-03-30T13:00:59.215987Z"
    }
   },
   "outputs": [
    {
     "data": {
      "text/plain": [
       "id                                 object\n",
       "date_account_created       datetime64[ns]\n",
       "timestamp_first_active     datetime64[ns]\n",
       "date_first_booking         datetime64[ns]\n",
       "gender                             object\n",
       "age                                 int64\n",
       "signup_method                      object\n",
       "signup_flow                         int64\n",
       "language                           object\n",
       "affiliate_channel                  object\n",
       "affiliate_provider                 object\n",
       "first_affiliate_tracked            object\n",
       "signup_app                         object\n",
       "first_device_type                  object\n",
       "first_browser                      object\n",
       "country_destination                object\n",
       "dtype: object"
      ]
     },
     "execution_count": 20,
     "metadata": {},
     "output_type": "execute_result"
    }
   ],
   "source": [
    "df01_users.dtypes"
   ]
  },
  {
   "cell_type": "markdown",
   "id": "b4774540",
   "metadata": {},
   "source": [
    "## 1.6. Check Balanced Data\n",
    "\n",
    "Data with an unbalance of 70% for the US class."
   ]
  },
  {
   "cell_type": "code",
   "execution_count": 21,
   "id": "8f5cdc46",
   "metadata": {
    "ExecuteTime": {
     "end_time": "2022-03-30T13:00:59.291986Z",
     "start_time": "2022-03-30T13:00:59.249988Z"
    }
   },
   "outputs": [
    {
     "data": {
      "text/plain": [
       "NDF      0.579673\n",
       "US       0.294461\n",
       "other    0.048128\n",
       "FR       0.023623\n",
       "IT       0.013458\n",
       "GB       0.011066\n",
       "ES       0.010671\n",
       "CA       0.006707\n",
       "DE       0.005020\n",
       "NL       0.003621\n",
       "AU       0.002541\n",
       "PT       0.001032\n",
       "Name: country_destination, dtype: float64"
      ]
     },
     "execution_count": 21,
     "metadata": {},
     "output_type": "execute_result"
    }
   ],
   "source": [
    "df01_users['country_destination'].value_counts(normalize=True)"
   ]
  },
  {
   "cell_type": "markdown",
   "id": "bbe57720",
   "metadata": {},
   "source": [
    "# 2.0. Feature Engineering\n",
    "\n",
    "To increase time, no feature engineering will be done for this first cycle."
   ]
  },
  {
   "cell_type": "code",
   "execution_count": 22,
   "id": "f64c4deb",
   "metadata": {
    "ExecuteTime": {
     "end_time": "2022-03-30T13:00:59.337993Z",
     "start_time": "2022-03-30T13:00:59.296986Z"
    }
   },
   "outputs": [],
   "source": [
    "df02_users = df01_users.copy()"
   ]
  },
  {
   "cell_type": "markdown",
   "id": "b0f5b037",
   "metadata": {},
   "source": [
    "# 3.0. Data Filtering\n",
    "\n",
    "To increase time, the Data Filtering stage will be skipped in this first cycle."
   ]
  },
  {
   "cell_type": "code",
   "execution_count": 23,
   "id": "26b87f66",
   "metadata": {
    "ExecuteTime": {
     "end_time": "2022-03-30T13:00:59.368991Z",
     "start_time": "2022-03-30T13:00:59.339985Z"
    }
   },
   "outputs": [],
   "source": [
    "df03_users = df02_users.copy()"
   ]
  },
  {
   "cell_type": "markdown",
   "id": "80d07e8f",
   "metadata": {
    "heading_collapsed": true
   },
   "source": [
    "## 3.1. Filtering Rows"
   ]
  },
  {
   "cell_type": "markdown",
   "id": "d9303a1b",
   "metadata": {},
   "source": [
    "## 3.2. Columns Selection"
   ]
  },
  {
   "cell_type": "code",
   "execution_count": 24,
   "id": "f6802598",
   "metadata": {
    "ExecuteTime": {
     "end_time": "2022-03-30T13:00:59.416993Z",
     "start_time": "2022-03-30T13:00:59.372988Z"
    }
   },
   "outputs": [],
   "source": [
    "df03_users = df03_users.drop(['id'], axis=1)"
   ]
  },
  {
   "cell_type": "markdown",
   "id": "20d1ff53",
   "metadata": {},
   "source": [
    "# 4.0. Data Exploratory Analysis\n",
    "\n",
    "To increase time, the EDA stage will be skipped in this first cycle."
   ]
  },
  {
   "cell_type": "code",
   "execution_count": 25,
   "id": "c5e9da71",
   "metadata": {
    "ExecuteTime": {
     "end_time": "2022-03-30T13:00:59.449007Z",
     "start_time": "2022-03-30T13:00:59.419987Z"
    }
   },
   "outputs": [],
   "source": [
    "df04_users = df03_users.copy()"
   ]
  },
  {
   "cell_type": "markdown",
   "id": "868b4156",
   "metadata": {},
   "source": [
    "# 5.0. Data Preparation"
   ]
  },
  {
   "cell_type": "code",
   "execution_count": 26,
   "id": "5fcd8687",
   "metadata": {
    "ExecuteTime": {
     "end_time": "2022-03-30T13:00:59.481008Z",
     "start_time": "2022-03-30T13:00:59.451986Z"
    }
   },
   "outputs": [],
   "source": [
    "df05_users = df04_users.copy()"
   ]
  },
  {
   "cell_type": "markdown",
   "id": "12f7cf60",
   "metadata": {},
   "source": [
    "## 5.1. Encoding"
   ]
  },
  {
   "cell_type": "code",
   "execution_count": 27,
   "id": "53e5ef72",
   "metadata": {
    "ExecuteTime": {
     "end_time": "2022-03-30T13:00:59.847026Z",
     "start_time": "2022-03-30T13:00:59.482986Z"
    }
   },
   "outputs": [],
   "source": [
    "# dummy variable\n",
    "df05_users_dummy = pd.get_dummies(df05_users.drop(['country_destination'], axis=1))\n",
    "\n",
    "# join id and country destination\n",
    "df05_users = pd.concat( [df05_users['country_destination'], df05_users_dummy], axis=1 )"
   ]
  },
  {
   "cell_type": "markdown",
   "id": "025df8c6",
   "metadata": {},
   "source": [
    "## 5.2. Response Variable"
   ]
  },
  {
   "cell_type": "code",
   "execution_count": 28,
   "id": "29cb4133",
   "metadata": {
    "ExecuteTime": {
     "end_time": "2022-03-30T13:01:00.069108Z",
     "start_time": "2022-03-30T13:00:59.856986Z"
    }
   },
   "outputs": [],
   "source": [
    "# create OneHotEncoder instance\n",
    "ohe = pp.OneHotEncoder()\n",
    "\n",
    "# ohe hot encoding response feature\n",
    "df_ohe = pd.DataFrame(ohe.fit_transform(df05_users['country_destination'].values.reshape(-1,1)).toarray(),\n",
    "                      columns=ohe.categories_[0],\n",
    "                      index=df05_users.index)\n",
    "\n",
    "# joining encoded response feature to dataset\n",
    "df05_users = pd.concat([df05_users.drop(columns=['country_destination']), df_ohe], axis=1)"
   ]
  },
  {
   "cell_type": "markdown",
   "id": "56417dc6",
   "metadata": {},
   "source": [
    "# 6.0. Feature Selection\n",
    "\n",
    "Original date will be discarded in this first cycle because data must first be derived from them, like years and months."
   ]
  },
  {
   "cell_type": "code",
   "execution_count": 29,
   "id": "924a6eec",
   "metadata": {
    "ExecuteTime": {
     "end_time": "2022-03-30T13:01:00.101041Z",
     "start_time": "2022-03-30T13:01:00.072029Z"
    }
   },
   "outputs": [],
   "source": [
    "df06_users = df05_users.copy()"
   ]
  },
  {
   "cell_type": "code",
   "execution_count": 30,
   "id": "3aa224e1",
   "metadata": {
    "ExecuteTime": {
     "end_time": "2022-03-30T13:01:00.181046Z",
     "start_time": "2022-03-30T13:01:00.103034Z"
    }
   },
   "outputs": [],
   "source": [
    "# droping original dates\n",
    "cols_drop = ['date_account_created', 'timestamp_first_active', 'date_first_booking']\n",
    "df06_users = df06_users.drop(cols_drop, axis=1)"
   ]
  },
  {
   "cell_type": "markdown",
   "id": "9cdf74c0",
   "metadata": {},
   "source": [
    "## 6.1. Split Dataframe into Training and Test Dataset"
   ]
  },
  {
   "cell_type": "code",
   "execution_count": 31,
   "id": "c4bc27ff",
   "metadata": {
    "ExecuteTime": {
     "end_time": "2022-03-30T13:01:00.245021Z",
     "start_time": "2022-03-30T13:01:00.183019Z"
    }
   },
   "outputs": [],
   "source": [
    "# training dataset\n",
    "X = df06_users.drop(columns=ohe.categories_[0])\n",
    "\n",
    "# separate response dataset\n",
    "y = df06_users[ohe.categories_[0]]"
   ]
  },
  {
   "cell_type": "code",
   "execution_count": 32,
   "id": "2526e910",
   "metadata": {
    "ExecuteTime": {
     "end_time": "2022-03-30T13:01:00.404107Z",
     "start_time": "2022-03-30T13:01:00.249021Z"
    }
   },
   "outputs": [],
   "source": [
    "# Split dataset into training and test (validation)\n",
    "X_train, X_test, y_train, y_test = ms.train_test_split(X, y, test_size=0.2, random_state=32)"
   ]
  },
  {
   "cell_type": "markdown",
   "id": "c9ee0881",
   "metadata": {},
   "source": [
    "# 7.0. Machine Learing Model"
   ]
  },
  {
   "cell_type": "code",
   "execution_count": 33,
   "id": "b9dfd8fe",
   "metadata": {
    "ExecuteTime": {
     "end_time": "2022-03-30T13:01:00.420029Z",
     "start_time": "2022-03-30T13:01:00.407019Z"
    }
   },
   "outputs": [],
   "source": [
    "x_train = X_train\n",
    "x_test = X_test"
   ]
  },
  {
   "cell_type": "markdown",
   "id": "b3107f01",
   "metadata": {},
   "source": [
    "## 7.1. Baseline Model - Random"
   ]
  },
  {
   "cell_type": "code",
   "execution_count": 34,
   "id": "c5ee811a",
   "metadata": {
    "ExecuteTime": {
     "end_time": "2022-03-30T13:01:00.564314Z",
     "start_time": "2022-03-30T13:01:00.428022Z"
    }
   },
   "outputs": [],
   "source": [
    "# list of country destination\n",
    "country_list = ohe.categories_[0].tolist()\n",
    "\n",
    "# number of rows\n",
    "k_num = y_test.shape[0]\n",
    "\n",
    "# proportion of country destinations for imbalanced result\n",
    "df_ohe = pd.DataFrame(ohe.inverse_transform(df06_users[ohe.categories_[0]]))\n",
    "country_weights = df_ohe.value_counts(normalize=True).sort_index().tolist()\n",
    "\n",
    "# prediction\n",
    "yhat_random = random.choices(population=country_list,\n",
    "                             weights=country_weights,\n",
    "                             k=k_num)\n",
    "\n",
    "# invert validation response\n",
    "y_test_random = ohe.inverse_transform(y_test)"
   ]
  },
  {
   "cell_type": "markdown",
   "id": "a7e6a2a6",
   "metadata": {
    "ExecuteTime": {
     "end_time": "2022-03-08T23:09:48.297944Z",
     "start_time": "2022-03-08T23:09:48.290973Z"
    }
   },
   "source": [
    "### 7.1.1. Baseline Model - Performance"
   ]
  },
  {
   "cell_type": "code",
   "execution_count": 35,
   "id": "1a6823cc",
   "metadata": {
    "ExecuteTime": {
     "end_time": "2022-03-30T13:01:04.280872Z",
     "start_time": "2022-03-30T13:01:00.568048Z"
    }
   },
   "outputs": [
    {
     "name": "stdout",
     "output_type": "stream",
     "text": [
      "Accuracy 0.4254303486185448\n",
      "Balanced Accuracy: 0.08224520777838834\n",
      "Kappa Score: 0.0008103433195443266\n",
      "              precision    recall  f1-score   support\n",
      "\n",
      "          AU       0.00      0.00      0.00       111\n",
      "          CA       0.00      0.00      0.00       281\n",
      "          DE       0.00      0.00      0.00       215\n",
      "          ES       0.01      0.01      0.01       428\n",
      "          FR       0.02      0.02      0.02      1021\n",
      "          GB       0.02      0.02      0.02       426\n",
      "          IT       0.01      0.01      0.01       570\n",
      "         NDF       0.58      0.58      0.58     23996\n",
      "          NL       0.00      0.00      0.00       146\n",
      "          PT       0.00      0.00      0.00        48\n",
      "          US       0.29      0.29      0.29     12280\n",
      "       other       0.04      0.05      0.05      1956\n",
      "\n",
      "    accuracy                           0.43     41478\n",
      "   macro avg       0.08      0.08      0.08     41478\n",
      "weighted avg       0.43      0.43      0.43     41478\n",
      "\n"
     ]
    },
    {
     "data": {
      "image/png": "[encoded data removed]",
      "text/plain": [
       "<Figure size 864x864 with 2 Axes>"
      ]
     },
     "metadata": {
      "needs_background": "light"
     },
     "output_type": "display_data"
    }
   ],
   "source": [
    "# Accuracy\n",
    "acc_random = m.accuracy_score( y_test_random, yhat_random )\n",
    "print(f'Accuracy {acc_random}')\n",
    "\n",
    "# Balanced Accuracy\n",
    "balanced_acc_random = m.balanced_accuracy_score(y_test_random, yhat_random)\n",
    "print(f'Balanced Accuracy: {balanced_acc_random}')\n",
    "\n",
    "# Kappa Metrics\n",
    "kappa_random = m.cohen_kappa_score(y_test_random, yhat_random)\n",
    "print(f'Kappa Score: {kappa_random}')\n",
    "\n",
    "# Classification report\n",
    "print(m.classification_report(y_test_random, yhat_random))\n",
    "\n",
    "# Confusion Matrix\n",
    "mt.plot_confusion_matrix(y_test_random, yhat_random, normalize=False, figsize=(12,12));\n",
    "\n",
    "# Performance\n",
    "baseline_performance = {'model': 'Baseline Model', \n",
    "                        'acc': acc_random, \n",
    "                        'balanced_acc': balanced_acc_random, \n",
    "                        'kappa_score': kappa_random}"
   ]
  },
  {
   "cell_type": "markdown",
   "id": "74175f4b",
   "metadata": {},
   "source": [
    "## 7.2. Neural Network - MLP"
   ]
  },
  {
   "cell_type": "code",
   "execution_count": 36,
   "id": "fa3d36ec",
   "metadata": {
    "ExecuteTime": {
     "end_time": "2022-03-30T13:12:24.045824Z",
     "start_time": "2022-03-30T13:01:04.284832Z"
    },
    "scrolled": true
   },
   "outputs": [
    {
     "name": "stdout",
     "output_type": "stream",
     "text": [
      "Epoch 1/100\n",
      "5185/5185 [==============================] - 7s 1ms/step - loss: 1.2586 - accuracy: 0.5868\n",
      "Epoch 2/100\n",
      "5185/5185 [==============================] - 6s 1ms/step - loss: 1.1594 - accuracy: 0.6031\n",
      "Epoch 3/100\n",
      "5185/5185 [==============================] - 6s 1ms/step - loss: 1.1271 - accuracy: 0.6125\n",
      "Epoch 4/100\n",
      "5185/5185 [==============================] - 5s 1ms/step - loss: 1.1063 - accuracy: 0.6152\n",
      "Epoch 5/100\n",
      "5185/5185 [==============================] - 7s 1ms/step - loss: 1.0960 - accuracy: 0.6191\n",
      "Epoch 6/100\n",
      "5185/5185 [==============================] - 5s 1ms/step - loss: 1.0896 - accuracy: 0.6197\n",
      "Epoch 7/100\n",
      "5185/5185 [==============================] - 6s 1ms/step - loss: 1.0871 - accuracy: 0.6201\n",
      "Epoch 8/100\n",
      "5185/5185 [==============================] - 6s 1ms/step - loss: 1.0854 - accuracy: 0.6204\n",
      "Epoch 9/100\n",
      "5185/5185 [==============================] - 6s 1ms/step - loss: 1.0849 - accuracy: 0.6217\n",
      "Epoch 10/100\n",
      "5185/5185 [==============================] - 8s 2ms/step - loss: 1.0842 - accuracy: 0.6210\n",
      "Epoch 11/100\n",
      "5185/5185 [==============================] - 9s 2ms/step - loss: 1.0836 - accuracy: 0.6206\n",
      "Epoch 12/100\n",
      "5185/5185 [==============================] - 9s 2ms/step - loss: 1.0828 - accuracy: 0.6219\n",
      "Epoch 13/100\n",
      "5185/5185 [==============================] - 14s 3ms/step - loss: 1.0816 - accuracy: 0.6227A: 25s - loss: 1.0752 - accu - ETA: 2 - ETA: 13s - lo - ETA: 11s - loss: 1.0790 - accuracy: 0.6 - ETA: 11s - loss:  - ETA: 9s - loss: 1.0817  - ETA: 8s - loss: 1.0808 -  - E - ETA: 6s - los - ETA: 5s - loss: 1.0822 -  - ETA: 5s - loss: 1.0824 - accuracy: 0. - ETA: 5s - loss: 1.0825 - ac - ETA - ETA: 0s - loss: 1.0822 - accuracy: \n",
      "Epoch 14/100\n",
      "5185/5185 [==============================] - 7s 1ms/step - loss: 1.0815 - accuracy: 0.6219\n",
      "Epoch 15/100\n",
      "5185/5185 [==============================] - 6s 1ms/step - loss: 1.0805 - accuracy: 0.6227\n",
      "Epoch 16/100\n",
      "5185/5185 [==============================] - 6s 1ms/step - loss: 1.0809 - accuracy: 0.6219\n",
      "Epoch 17/100\n",
      "5185/5185 [==============================] - 7s 1ms/step - loss: 1.0791 - accuracy: 0.6231\n",
      "Epoch 18/100\n",
      "5185/5185 [==============================] - 6s 1ms/step - loss: 1.0793 - accuracy: 0.6232\n",
      "Epoch 19/100\n",
      "5185/5185 [==============================] - 5s 1ms/step - loss: 1.0789 - accuracy: 0.6228\n",
      "Epoch 20/100\n",
      "5185/5185 [==============================] - 5s 961us/step - loss: 1.0780 - accuracy: 0.6231\n",
      "Epoch 21/100\n",
      "5185/5185 [==============================] - 5s 963us/step - loss: 1.0789 - accuracy: 0.6229\n",
      "Epoch 22/100\n",
      "5185/5185 [==============================] - 6s 1ms/step - loss: 1.0784 - accuracy: 0.6235\n",
      "Epoch 23/100\n",
      "5185/5185 [==============================] - 5s 957us/step - loss: 1.0778 - accuracy: 0.6232\n",
      "Epoch 24/100\n",
      "5185/5185 [==============================] - 5s 962us/step - loss: 1.0772 - accuracy: 0.6232\n",
      "Epoch 25/100\n",
      "5185/5185 [==============================] - 5s 1ms/step - loss: 1.0775 - accuracy: 0.6239\n",
      "Epoch 26/100\n",
      "5185/5185 [==============================] - 5s 977us/step - loss: 1.0770 - accuracy: 0.6232\n",
      "Epoch 27/100\n",
      "5185/5185 [==============================] - 5s 961us/step - loss: 1.0770 - accuracy: 0.6230\n",
      "Epoch 28/100\n",
      "5185/5185 [==============================] - 5s 1ms/step - loss: 1.0764 - accuracy: 0.6240\n",
      "Epoch 29/100\n",
      "5185/5185 [==============================] - 5s 987us/step - loss: 1.0764 - accuracy: 0.6239\n",
      "Epoch 30/100\n",
      "5185/5185 [==============================] - 5s 957us/step - loss: 1.0759 - accuracy: 0.6239\n",
      "Epoch 31/100\n",
      "5185/5185 [==============================] - 5s 974us/step - loss: 1.0753 - accuracy: 0.6244\n",
      "Epoch 32/100\n",
      "5185/5185 [==============================] - 5s 1ms/step - loss: 1.0753 - accuracy: 0.6238\n",
      "Epoch 33/100\n",
      "5185/5185 [==============================] - 5s 954us/step - loss: 1.0750 - accuracy: 0.6232\n",
      "Epoch 34/100\n",
      "5185/5185 [==============================] - 5s 959us/step - loss: 1.0752 - accuracy: 0.6235\n",
      "Epoch 35/100\n",
      "5185/5185 [==============================] - 7s 1ms/step - loss: 1.0754 - accuracy: 0.6237\n",
      "Epoch 36/100\n",
      "5185/5185 [==============================] - 7s 1ms/step - loss: 1.0747 - accuracy: 0.6242\n",
      "Epoch 37/100\n",
      "5185/5185 [==============================] - 7s 1ms/step - loss: 1.0742 - accuracy: 0.6245\n",
      "Epoch 38/100\n",
      "5185/5185 [==============================] - 9s 2ms/step - loss: 1.0741 - accuracy: 0.6243: 0s - loss: 1\n",
      "Epoch 39/100\n",
      "5185/5185 [==============================] - 12s 2ms/step - loss: 1.0742 - accuracy: 0.6241\n",
      "Epoch 40/100\n",
      "5185/5185 [==============================] - 9s 2ms/step - loss: 1.0738 - accuracy: 0.6238\n",
      "Epoch 41/100\n",
      "5185/5185 [==============================] - 6s 1ms/step - loss: 1.0738 - accuracy: 0.6241\n",
      "Epoch 42/100\n",
      "5185/5185 [==============================] - 5s 1ms/step - loss: 1.0738 - accuracy: 0.6238: 0s - loss: 1.0733 - accura\n",
      "Epoch 43/100\n",
      "5185/5185 [==============================] - 6s 1ms/step - loss: 1.0734 - accuracy: 0.6238\n",
      "Epoch 44/100\n",
      "5185/5185 [==============================] - 5s 1ms/step - loss: 1.0730 - accuracy: 0.6245: 0s - los\n",
      "Epoch 45/100\n",
      "5185/5185 [==============================] - 5s 1ms/step - loss: 1.0729 - accuracy: 0.6237\n",
      "Epoch 46/100\n",
      "5185/5185 [==============================] - 6s 1ms/step - loss: 1.0729 - accuracy: 0.6245\n",
      "Epoch 47/100\n",
      "5185/5185 [==============================] - 6s 1ms/step - loss: 1.0723 - accuracy: 0.6244\n",
      "Epoch 48/100\n",
      "5185/5185 [==============================] - 5s 1ms/step - loss: 1.0728 - accuracy: 0.6244\n",
      "Epoch 49/100\n",
      "5185/5185 [==============================] - 6s 1ms/step - loss: 1.0730 - accuracy: 0.6246\n",
      "Epoch 50/100\n",
      "5185/5185 [==============================] - 5s 1ms/step - loss: 1.0721 - accuracy: 0.6244\n",
      "Epoch 51/100\n",
      "5185/5185 [==============================] - 6s 1ms/step - loss: 1.0720 - accuracy: 0.6248\n",
      "Epoch 52/100\n",
      "5185/5185 [==============================] - 6s 1ms/step - loss: 1.0721 - accuracy: 0.6241\n",
      "Epoch 53/100\n",
      "5185/5185 [==============================] - 6s 1ms/step - loss: 1.0720 - accuracy: 0.6251\n",
      "Epoch 54/100\n",
      "5185/5185 [==============================] - 8s 1ms/step - loss: 1.0718 - accuracy: 0.6250\n",
      "Epoch 55/100\n",
      "5185/5185 [==============================] - 8s 2ms/step - loss: 1.0720 - accuracy: 0.6246\n",
      "Epoch 56/100\n",
      "5185/5185 [==============================] - 12s 2ms/step - loss: 1.0719 - accuracy: 0.6246\n",
      "Epoch 57/100\n",
      "5185/5185 [==============================] - 11s 2ms/step - loss: 1.0713 - accuracy: 0.6250\n",
      "Epoch 58/100\n",
      "5185/5185 [==============================] - 7s 1ms/step - loss: 1.0712 - accuracy: 0.6247\n",
      "Epoch 59/100\n",
      "5185/5185 [==============================] - 7s 1ms/step - loss: 1.0714 - accuracy: 0.6247\n",
      "Epoch 60/100\n",
      "5185/5185 [==============================] - 6s 1ms/step - loss: 1.0713 - accuracy: 0.6253\n",
      "Epoch 61/100\n",
      "5185/5185 [==============================] - 7s 1ms/step - loss: 1.0711 - accuracy: 0.6250\n",
      "Epoch 62/100\n",
      "5185/5185 [==============================] - 8s 2ms/step - loss: 1.0714 - accuracy: 0.6247\n",
      "Epoch 63/100\n",
      "5185/5185 [==============================] - 7s 1ms/step - loss: 1.0712 - accuracy: 0.6246: 0s - l\n",
      "Epoch 64/100\n",
      "5185/5185 [==============================] - 9s 2ms/step - loss: 1.0712 - accuracy: 0.6243\n",
      "Epoch 65/100\n",
      "5185/5185 [==============================] - 7s 1ms/step - loss: 1.0712 - accuracy: 0.6244\n",
      "Epoch 66/100\n",
      "5185/5185 [==============================] - 7s 1ms/step - loss: 1.0707 - accuracy: 0.6250\n",
      "Epoch 67/100\n",
      "5185/5185 [==============================] - 7s 1ms/step - loss: 1.0708 - accuracy: 0.6250\n",
      "Epoch 68/100\n",
      "5185/5185 [==============================] - 7s 1ms/step - loss: 1.0708 - accuracy: 0.6254\n",
      "Epoch 69/100\n",
      "5185/5185 [==============================] - 5s 1ms/step - loss: 1.0705 - accuracy: 0.6252\n",
      "Epoch 70/100\n",
      "5185/5185 [==============================] - 5s 1ms/step - loss: 1.0710 - accuracy: 0.6246: 0s - los\n",
      "Epoch 71/100\n",
      "5185/5185 [==============================] - 6s 1ms/step - loss: 1.0705 - accuracy: 0.6249\n",
      "Epoch 72/100\n",
      "5185/5185 [==============================] - 5s 1ms/step - loss: 1.0705 - accuracy: 0.6248\n",
      "Epoch 73/100\n",
      "5185/5185 [==============================] - 5s 1ms/step - loss: 1.0706 - accuracy: 0.6251\n",
      "Epoch 74/100\n",
      "5185/5185 [==============================] - 6s 1ms/step - loss: 1.0698 - accuracy: 0.6255\n",
      "Epoch 75/100\n"
     ]
    },
    {
     "name": "stdout",
     "output_type": "stream",
     "text": [
      "5185/5185 [==============================] - 5s 1ms/step - loss: 1.0704 - accuracy: 0.6258\n",
      "Epoch 76/100\n",
      "5185/5185 [==============================] - 6s 1ms/step - loss: 1.0704 - accuracy: 0.6255\n",
      "Epoch 77/100\n",
      "5185/5185 [==============================] - 6s 1ms/step - loss: 1.0702 - accuracy: 0.6255\n",
      "Epoch 78/100\n",
      "5185/5185 [==============================] - 5s 1ms/step - loss: 1.0706 - accuracy: 0.6258\n",
      "Epoch 79/100\n",
      "5185/5185 [==============================] - 6s 1ms/step - loss: 1.0694 - accuracy: 0.6255\n",
      "Epoch 80/100\n",
      "5185/5185 [==============================] - 6s 1ms/step - loss: 1.0696 - accuracy: 0.6255\n",
      "Epoch 81/100\n",
      "5185/5185 [==============================] - 5s 1ms/step - loss: 1.0698 - accuracy: 0.6253\n",
      "Epoch 82/100\n",
      "5185/5185 [==============================] - 6s 1ms/step - loss: 1.0699 - accuracy: 0.6258\n",
      "Epoch 83/100\n",
      "5185/5185 [==============================] - 5s 1ms/step - loss: 1.0700 - accuracy: 0.6258\n",
      "Epoch 84/100\n",
      "5185/5185 [==============================] - 5s 1ms/step - loss: 1.0696 - accuracy: 0.6253\n",
      "Epoch 85/100\n",
      "5185/5185 [==============================] - 7s 1ms/step - loss: 1.0696 - accuracy: 0.6255\n",
      "Epoch 86/100\n",
      "5185/5185 [==============================] - 10s 2ms/step - loss: 1.0694 - accuracy: 0.6260- ETA:  - ETA: 2s - loss: 1.0713 - accura - ETA: 2s - loss: 1.0712 - accuracy - ETA: 2s - loss: - -\n",
      "Epoch 87/100\n",
      "5185/5185 [==============================] - 8s 1ms/step - loss: 1.0695 - accuracy: 0.6257\n",
      "Epoch 88/100\n",
      "5185/5185 [==============================] - 5s 1ms/step - loss: 1.0695 - accuracy: 0.6254\n",
      "Epoch 89/100\n",
      "5185/5185 [==============================] - 9s 2ms/step - loss: 1.0693 - accuracy: 0.6259\n",
      "Epoch 90/100\n",
      "5185/5185 [==============================] - 9s 2ms/step - loss: 1.0695 - accuracy: 0.6253\n",
      "Epoch 91/100\n",
      "5185/5185 [==============================] - 8s 2ms/step - loss: 1.0694 - accuracy: 0.6257\n",
      "Epoch 92/100\n",
      "5185/5185 [==============================] - 7s 1ms/step - loss: 1.0692 - accuracy: 0.6256\n",
      "Epoch 93/100\n",
      "5185/5185 [==============================] - 11s 2ms/step - loss: 1.0692 - accuracy: 0.6255\n",
      "Epoch 94/100\n",
      "5185/5185 [==============================] - 13s 3ms/step - loss: 1.0694 - accuracy: 0.6258\n",
      "Epoch 95/100\n",
      "5185/5185 [==============================] - 16s 3ms/step - loss: 1.0693 - accuracy: 0.6262 1s -\n",
      "Epoch 96/100\n",
      "5185/5185 [==============================] - 7s 1ms/step - loss: 1.0691 - accuracy: 0.6257\n",
      "Epoch 97/100\n",
      "5185/5185 [==============================] - 7s 1ms/step - loss: 1.0693 - accuracy: 0.6252\n",
      "Epoch 98/100\n",
      "5185/5185 [==============================] - 6s 1ms/step - loss: 1.0692 - accuracy: 0.6255\n",
      "Epoch 99/100\n",
      "5185/5185 [==============================] - 6s 1ms/step - loss: 1.0693 - accuracy: 0.6256: 0s - loss:\n",
      "Epoch 100/100\n",
      "5185/5185 [==============================] - 7s 1ms/step - loss: 1.0692 - accuracy: 0.6259\n"
     ]
    },
    {
     "data": {
      "text/plain": [
       "<tensorflow.python.keras.callbacks.History at 0x1fecb40dc10>"
      ]
     },
     "execution_count": 36,
     "metadata": {},
     "output_type": "execute_result"
    }
   ],
   "source": [
    "# model definition\n",
    "model_nn = ml.Sequential()\n",
    "model_nn.add( l.Dense(128, input_dim=x_train.shape[1], activation='relu') )\n",
    "model_nn.add( l.Dense(12, activation='softmax') )\n",
    "\n",
    "# model compile\n",
    "model_nn.compile(loss='categorical_crossentropy', optimizer='adam', metrics=['accuracy'])\n",
    "\n",
    "# train model\n",
    "model_nn.fit(x_train, y_train, epochs=100)"
   ]
  },
  {
   "cell_type": "markdown",
   "id": "fef11fea",
   "metadata": {},
   "source": [
    "### 7.2.1 Neural Network - Performance"
   ]
  },
  {
   "cell_type": "code",
   "execution_count": 37,
   "id": "01508688",
   "metadata": {
    "ExecuteTime": {
     "end_time": "2022-03-30T13:12:25.276280Z",
     "start_time": "2022-03-30T13:12:24.049825Z"
    }
   },
   "outputs": [],
   "source": [
    "# prediction\n",
    "pred_nn = model_nn.predict(x_test)\n",
    "\n",
    "# invert prediction\n",
    "yhat_nn = ohe.inverse_transform(pred_nn)\n",
    "\n",
    "# invert validation response\n",
    "y_test_nn = ohe.inverse_transform(y_test)"
   ]
  },
  {
   "cell_type": "code",
   "execution_count": 38,
   "id": "94f726dd",
   "metadata": {
    "ExecuteTime": {
     "end_time": "2022-03-30T13:12:25.322860Z",
     "start_time": "2022-03-30T13:12:25.280276Z"
    },
    "cell_style": "split"
   },
   "outputs": [
    {
     "data": {
      "text/plain": [
       "NDF      0.578524\n",
       "US       0.296061\n",
       "other    0.047158\n",
       "FR       0.024615\n",
       "IT       0.013742\n",
       "ES       0.010319\n",
       "GB       0.010271\n",
       "CA       0.006775\n",
       "DE       0.005183\n",
       "NL       0.003520\n",
       "AU       0.002676\n",
       "PT       0.001157\n",
       "dtype: float64"
      ]
     },
     "execution_count": 38,
     "metadata": {},
     "output_type": "execute_result"
    }
   ],
   "source": [
    "# check the balance of validation\n",
    "pd.DataFrame(y_test_nn).value_counts(normalize=True)"
   ]
  },
  {
   "cell_type": "code",
   "execution_count": 39,
   "id": "2c5d756d",
   "metadata": {
    "ExecuteTime": {
     "end_time": "2022-03-30T13:12:25.353858Z",
     "start_time": "2022-03-30T13:12:25.329582Z"
    },
    "cell_style": "split",
    "scrolled": false
   },
   "outputs": [
    {
     "data": {
      "text/plain": [
       "NDF      0.752423\n",
       "US       0.247143\n",
       "other    0.000241\n",
       "IT       0.000072\n",
       "CA       0.000048\n",
       "DE       0.000024\n",
       "ES       0.000024\n",
       "FR       0.000024\n",
       "dtype: float64"
      ]
     },
     "execution_count": 39,
     "metadata": {},
     "output_type": "execute_result"
    }
   ],
   "source": [
    "# check the balance of result\n",
    "pd.DataFrame(yhat_nn).value_counts(normalize=True)"
   ]
  },
  {
   "cell_type": "code",
   "execution_count": 40,
   "id": "eaa6d23a",
   "metadata": {
    "ExecuteTime": {
     "end_time": "2022-03-30T13:12:28.193880Z",
     "start_time": "2022-03-30T13:12:25.356583Z"
    }
   },
   "outputs": [
    {
     "name": "stdout",
     "output_type": "stream",
     "text": [
      "Accuracy: 0.6275133805872993\n",
      "Balanced Accuracy: 0.10754633779897083\n",
      "Kappa Score: 0.24217806699068445\n",
      "              precision    recall  f1-score   support\n",
      "\n",
      "          AU       0.00      0.00      0.00       111\n",
      "          CA       0.00      0.00      0.00       281\n",
      "          DE       0.00      0.00      0.00       215\n",
      "          ES       0.00      0.00      0.00       428\n",
      "          FR       0.00      0.00      0.00      1021\n",
      "          GB       0.00      0.00      0.00       426\n",
      "          IT       0.00      0.00      0.00       570\n",
      "         NDF       0.67      0.87      0.76     23996\n",
      "          NL       0.00      0.00      0.00       146\n",
      "          PT       0.00      0.00      0.00        48\n",
      "          US       0.51      0.42      0.46     12280\n",
      "       other       0.00      0.00      0.00      1956\n",
      "\n",
      "    accuracy                           0.63     41478\n",
      "   macro avg       0.10      0.11      0.10     41478\n",
      "weighted avg       0.54      0.63      0.57     41478\n",
      "\n"
     ]
    },
    {
     "data": {
      "image/png": "[encoded data removed]",
      "text/plain": [
       "<Figure size 864x864 with 2 Axes>"
      ]
     },
     "metadata": {
      "needs_background": "light"
     },
     "output_type": "display_data"
    }
   ],
   "source": [
    "# Accuracy\n",
    "acc_nn = m.accuracy_score( y_test_nn, yhat_nn )\n",
    "print(f'Accuracy: {acc_nn}')\n",
    "\n",
    "# Balanced Accuracy\n",
    "balanced_acc_nn = m.balanced_accuracy_score(y_test_nn, yhat_nn)\n",
    "print(f'Balanced Accuracy: {balanced_acc_nn}')\n",
    "\n",
    "# Kappa Metrics\n",
    "kappa_nn = m.cohen_kappa_score(y_test_nn, yhat_nn)\n",
    "print(f'Kappa Score: {kappa_nn}')\n",
    "\n",
    "# Classification report\n",
    "print(m.classification_report(y_test_nn, yhat_nn))\n",
    "\n",
    "# Confusion Matrix\n",
    "mt.plot_confusion_matrix( y_test_nn, yhat_nn, normalize=False, figsize=(12,12));\n",
    "\n",
    "# Performance\n",
    "nn_performance = {'model': 'Neural Network Model', \n",
    "                  'acc': acc_nn, \n",
    "                  'balanced_acc': balanced_acc_nn, \n",
    "                  'kappa_score': kappa_nn}"
   ]
  },
  {
   "cell_type": "markdown",
   "id": "cac2f5f0",
   "metadata": {},
   "source": [
    "### 7.2.2. Neural Network - Performance - Cross-Validation"
   ]
  },
  {
   "cell_type": "code",
   "execution_count": 41,
   "id": "d1621f5c",
   "metadata": {
    "ExecuteTime": {
     "end_time": "2022-03-30T13:48:03.130604Z",
     "start_time": "2022-03-30T13:12:28.197843Z"
    }
   },
   "outputs": [
    {
     "name": "stdout",
     "output_type": "stream",
     "text": [
      "Fold Number:1/5\n",
      "Fold Number:2/5\n",
      "Fold Number:3/5\n",
      "Fold Number:4/5\n",
      "Fold Number:5/5\n"
     ]
    }
   ],
   "source": [
    "# cross validation peformance\n",
    "acc_nn, balanced_acc_nn, kappa_nn = cross_validation(num_fold=5, \n",
    "                                                     x_train=x_train, \n",
    "                                                     y_train=y_train, \n",
    "                                                     model=model_nn,\n",
    "                                                     verbose=True)"
   ]
  },
  {
   "cell_type": "code",
   "execution_count": 42,
   "id": "65446c98",
   "metadata": {
    "ExecuteTime": {
     "end_time": "2022-03-30T13:48:03.242617Z",
     "start_time": "2022-03-30T13:48:03.234611Z"
    }
   },
   "outputs": [],
   "source": [
    "# Performance\n",
    "nn_performance_cv = {'model': 'Neural Network Model - CV', \n",
    "                     'acc': f'{np.round(np.mean(acc_nn), 2)} +/- {np.round(np.std(acc_nn),4)}', \n",
    "                     'balanced_acc': f'{np.round(np.mean(balanced_acc_nn), 2)} +/- {np.round(np.std(balanced_acc_nn),4)}', \n",
    "                     'kappa_score': f'{np.round(np.mean(kappa_nn), 2)} +/- {np.round(np.std(kappa_nn), 4)}'}"
   ]
  },
  {
   "cell_type": "code",
   "execution_count": 43,
   "id": "ee53cb00",
   "metadata": {
    "ExecuteTime": {
     "end_time": "2022-03-30T13:48:03.274618Z",
     "start_time": "2022-03-30T13:48:03.247614Z"
    }
   },
   "outputs": [
    {
     "name": "stdout",
     "output_type": "stream",
     "text": [
      "Avg Accuracy: 0.62 +/- 0.0009\n",
      "Avg Balanced Accuracy: 0.11 +/- 0.001\n",
      "Avg Kappa Score: 0.22 +/- 0.0071\n"
     ]
    }
   ],
   "source": [
    "print(f'Avg Accuracy: {np.round(np.mean(acc_nn), 2)} +/- {np.round(np.std(acc_nn),4)}')\n",
    "print(f'Avg Balanced Accuracy: {np.round(np.mean(balanced_acc_nn), 2)} +/- {np.round(np.std(balanced_acc_nn),4)}')\n",
    "print(f'Avg Kappa Score: {np.round(np.mean(kappa_nn), 2)} +/- {np.round(np.std(kappa_nn), 4)}')"
   ]
  },
  {
   "cell_type": "markdown",
   "id": "dec46b91",
   "metadata": {},
   "source": [
    "# 8.0. Hyper Parameter Tuning\n",
    "\n",
    "Hyper Parameter Tuning will not be considered until the most optimal machine learning model is selected, at this first cycle was considered only one model to complete the cycle and go through for all the major phases to validate the feasibility of the project."
   ]
  },
  {
   "cell_type": "code",
   "execution_count": null,
   "id": "2033ffaa",
   "metadata": {},
   "outputs": [],
   "source": []
  },
  {
   "cell_type": "markdown",
   "id": "caddd600",
   "metadata": {},
   "source": [
    "# 9.0. Error Translation and Interpretation"
   ]
  },
  {
   "cell_type": "code",
   "execution_count": null,
   "id": "95a4392c",
   "metadata": {},
   "outputs": [],
   "source": []
  },
  {
   "cell_type": "markdown",
   "id": "2d632718",
   "metadata": {},
   "source": [
    "# 10.0. Deploy Model\n",
    "\n",
    "No models will be deployed yet."
   ]
  },
  {
   "cell_type": "code",
   "execution_count": null,
   "id": "a610263d",
   "metadata": {},
   "outputs": [],
   "source": []
  },
  {
   "cell_type": "markdown",
   "id": "ba76fd18",
   "metadata": {},
   "source": [
    "# 11.0. Conclusion"
   ]
  },
  {
   "cell_type": "markdown",
   "id": "f444f3d3",
   "metadata": {},
   "source": [
    "Through the replacement of the null values (NA), excluded in the first cycle, it was possible to return to the dataset more than 50% of the data along with an integer class (NDF), which coincidentally is the marjority class, increasing the complexity of the project.\n",
    "\n",
    "Cross-validation allowed us to evaluate the model with greater reliability by using different fractions of the data for validate and test the performance, measuring its efficiency for different periods of time."
   ]
  },
  {
   "cell_type": "markdown",
   "id": "f323536d",
   "metadata": {},
   "source": [
    "## 11.1. Current Cycle Performance"
   ]
  },
  {
   "cell_type": "code",
   "execution_count": 44,
   "id": "75ce51b4",
   "metadata": {
    "ExecuteTime": {
     "end_time": "2022-03-30T13:48:03.354612Z",
     "start_time": "2022-03-30T13:48:03.279610Z"
    },
    "hide_input": true,
    "scrolled": true
   },
   "outputs": [
    {
     "data": {
      "text/html": [
       "<div>\n",
       "<style scoped>\n",
       "    .dataframe tbody tr th:only-of-type {\n",
       "        vertical-align: middle;\n",
       "    }\n",
       "\n",
       "    .dataframe tbody tr th {\n",
       "        vertical-align: top;\n",
       "    }\n",
       "\n",
       "    .dataframe thead th {\n",
       "        text-align: right;\n",
       "    }\n",
       "</style>\n",
       "<table border=\"1\" class=\"dataframe\">\n",
       "  <thead>\n",
       "    <tr style=\"text-align: right;\">\n",
       "      <th></th>\n",
       "      <th>cycle</th>\n",
       "      <th>process</th>\n",
       "      <th>model</th>\n",
       "      <th>acc</th>\n",
       "      <th>balanced_acc</th>\n",
       "      <th>kappa_score</th>\n",
       "    </tr>\n",
       "  </thead>\n",
       "  <tbody>\n",
       "    <tr>\n",
       "      <th>0</th>\n",
       "      <td>3rd_cycle</td>\n",
       "      <td>replace_na</td>\n",
       "      <td>Baseline Model</td>\n",
       "      <td>0.42543</td>\n",
       "      <td>0.082245</td>\n",
       "      <td>0.00081</td>\n",
       "    </tr>\n",
       "    <tr>\n",
       "      <th>1</th>\n",
       "      <td>3rd_cycle</td>\n",
       "      <td>replace_na</td>\n",
       "      <td>Neural Network Model</td>\n",
       "      <td>0.627513</td>\n",
       "      <td>0.107546</td>\n",
       "      <td>0.242178</td>\n",
       "    </tr>\n",
       "    <tr>\n",
       "      <th>2</th>\n",
       "      <td>3rd_cycle</td>\n",
       "      <td>replace_na</td>\n",
       "      <td>Neural Network Model - CV</td>\n",
       "      <td>0.62 +/- 0.0009</td>\n",
       "      <td>0.11 +/- 0.001</td>\n",
       "      <td>0.22 +/- 0.0071</td>\n",
       "    </tr>\n",
       "  </tbody>\n",
       "</table>\n",
       "</div>"
      ],
      "text/plain": [
       "       cycle     process                      model              acc  \\\n",
       "0  3rd_cycle  replace_na             Baseline Model          0.42543   \n",
       "1  3rd_cycle  replace_na       Neural Network Model         0.627513   \n",
       "2  3rd_cycle  replace_na  Neural Network Model - CV  0.62 +/- 0.0009   \n",
       "\n",
       "     balanced_acc      kappa_score  \n",
       "0        0.082245          0.00081  \n",
       "1        0.107546         0.242178  \n",
       "2  0.11 +/- 0.001  0.22 +/- 0.0071  "
      ]
     },
     "execution_count": 44,
     "metadata": {},
     "output_type": "execute_result"
    }
   ],
   "source": [
    "# performance dataframe\n",
    "df_performance = pd.DataFrame([baseline_performance, nn_performance, nn_performance_cv])\n",
    "df_performance['cycle'] = '3rd_cycle'\n",
    "df_performance['process'] = 'replace_na'\n",
    "df_performance = df_performance[['cycle', 'process', 'model', 'acc', 'balanced_acc', 'kappa_score']]\n",
    "\n",
    "# save 3rd cycle to comparison\n",
    "df_performance.to_csv('../Datasets/3rd_cycle_performance', index=False)\n",
    "\n",
    "# display performance dataframe\n",
    "df_performance"
   ]
  },
  {
   "cell_type": "markdown",
   "id": "cbccb12c",
   "metadata": {
    "hide_input": true
   },
   "source": [
    "## 11.2. Cycle Comparison"
   ]
  },
  {
   "cell_type": "code",
   "execution_count": 49,
   "id": "34c26b83",
   "metadata": {
    "ExecuteTime": {
     "end_time": "2022-03-30T13:52:07.140107Z",
     "start_time": "2022-03-30T13:52:07.095107Z"
    },
    "hide_input": true,
    "scrolled": false
   },
   "outputs": [
    {
     "data": {
      "text/html": [
       "<div>\n",
       "<style scoped>\n",
       "    .dataframe tbody tr th:only-of-type {\n",
       "        vertical-align: middle;\n",
       "    }\n",
       "\n",
       "    .dataframe tbody tr th {\n",
       "        vertical-align: top;\n",
       "    }\n",
       "\n",
       "    .dataframe thead th {\n",
       "        text-align: right;\n",
       "    }\n",
       "</style>\n",
       "<table border=\"1\" class=\"dataframe\">\n",
       "  <thead>\n",
       "    <tr style=\"text-align: right;\">\n",
       "      <th></th>\n",
       "      <th>cycle</th>\n",
       "      <th>process</th>\n",
       "      <th>model</th>\n",
       "      <th>acc</th>\n",
       "      <th>balanced_acc</th>\n",
       "      <th>kappa_score</th>\n",
       "    </tr>\n",
       "  </thead>\n",
       "  <tbody>\n",
       "    <tr>\n",
       "      <th>0</th>\n",
       "      <td>1st_cycle</td>\n",
       "      <td>validation_pipeline</td>\n",
       "      <td>Neural Network Model</td>\n",
       "      <td>0.703484</td>\n",
       "      <td>0.000000</td>\n",
       "      <td>0.000000</td>\n",
       "    </tr>\n",
       "    <tr>\n",
       "      <th>2</th>\n",
       "      <td>2nd_cycle</td>\n",
       "      <td>baseline_model</td>\n",
       "      <td>Neural Network Model</td>\n",
       "      <td>0.702970</td>\n",
       "      <td>0.091973</td>\n",
       "      <td>0.002400</td>\n",
       "    </tr>\n",
       "    <tr>\n",
       "      <th>4</th>\n",
       "      <td>3rd_cycle</td>\n",
       "      <td>replace_na</td>\n",
       "      <td>Neural Network Model</td>\n",
       "      <td>0.627513</td>\n",
       "      <td>0.107546</td>\n",
       "      <td>0.242178</td>\n",
       "    </tr>\n",
       "  </tbody>\n",
       "</table>\n",
       "</div>"
      ],
      "text/plain": [
       "       cycle              process                 model       acc  \\\n",
       "0  1st_cycle  validation_pipeline  Neural Network Model  0.703484   \n",
       "2  2nd_cycle       baseline_model  Neural Network Model  0.702970   \n",
       "4  3rd_cycle           replace_na  Neural Network Model  0.627513   \n",
       "\n",
       "   balanced_acc  kappa_score  \n",
       "0      0.000000     0.000000  \n",
       "2      0.091973     0.002400  \n",
       "4      0.107546     0.242178  "
      ]
     },
     "execution_count": 49,
     "metadata": {},
     "output_type": "execute_result"
    }
   ],
   "source": [
    "# first cycle performance load\n",
    "performance_1st_cycle = pd.read_csv('../Datasets/1st_cycle_performance')\n",
    "\n",
    "# second cycle performance load\n",
    "performance_2nd_cycle = pd.read_csv('../Datasets/2nd_cycle_performance')\n",
    "\n",
    "# join cycles dataframes\n",
    "performance = pd.concat([performance_1st_cycle, \n",
    "                         performance_2nd_cycle, \n",
    "                         df_performance]).reset_index(drop=True)\n",
    "\n",
    "# filter baseline model\n",
    "performance = performance[(performance['model'] != 'Baseline Model') & \n",
    "                          (performance['model'] != 'Neural Network Model - CV')].fillna(0)\n",
    "\n",
    "# display performance\n",
    "performance"
   ]
  },
  {
   "cell_type": "code",
   "execution_count": 50,
   "id": "27563f8d",
   "metadata": {
    "ExecuteTime": {
     "end_time": "2022-03-30T13:52:10.591815Z",
     "start_time": "2022-03-30T13:52:10.262414Z"
    },
    "hide_input": true,
    "scrolled": false
   },
   "outputs": [
    {
     "data": {
      "image/png": "[encoded data removed]",
      "text/plain": [
       "<Figure size 1080x432 with 1 Axes>"
      ]
     },
     "metadata": {
      "needs_background": "light"
     },
     "output_type": "display_data"
    }
   ],
   "source": [
    "plt.figure(figsize=(15,6))\n",
    "\n",
    "# formated metrics\n",
    "performance['acc'] = performance['acc'].apply(lambda x: str(x)[0:4]).astype(float)\n",
    "\n",
    "performance['balanced_acc'] = performance['balanced_acc'].apply(lambda x: str(x)[0:4]).astype(float)\n",
    "\n",
    "performance['kappa_score'] = performance['kappa_score'].apply(lambda x: str(x)[0:4]).astype(float)\n",
    "\n",
    "# Evolution of Performance over Cycles\n",
    "sns.lineplot(x='cycle', y='acc', data=performance)\n",
    "\n",
    "sns.lineplot(x='cycle', y='balanced_acc', data=performance)\n",
    "\n",
    "sns.lineplot(x='cycle', y='kappa_score', data=performance)\n",
    "\n",
    "# set legend and titles\n",
    "plt.legend(labels=['Accuracy','Balanced Accuracy', 'Kappa Score'])\n",
    "plt.title('Evolution of Performance over Cycle')\n",
    "plt.ylabel('Percentage')\n",
    "plt.xlabel('Cycles');"
   ]
  }
 ],
 "metadata": {
  "kernelspec": {
   "display_name": "Python 3 (ipykernel)",
   "language": "python",
   "name": "python3"
  },
  "language_info": {
   "codemirror_mode": {
    "name": "ipython",
    "version": 3
   },
   "file_extension": ".py",
   "mimetype": "text/x-python",
   "name": "python",
   "nbconvert_exporter": "python",
   "pygments_lexer": "ipython3",
   "version": "3.8.12"
  },
  "varInspector": {
   "cols": {
    "lenName": 16,
    "lenType": 16,
    "lenVar": 40
   },
   "kernels_config": {
    "python": {
     "delete_cmd_postfix": "",
     "delete_cmd_prefix": "del ",
     "library": "var_list.py",
     "varRefreshCmd": "print(var_dic_list())"
    },
    "r": {
     "delete_cmd_postfix": ") ",
     "delete_cmd_prefix": "rm(",
     "library": "var_list.r",
     "varRefreshCmd": "cat(var_dic_list()) "
    }
   },
   "types_to_exclude": [
    "module",
    "function",
    "builtin_function_or_method",
    "instance",
    "_Feature"
   ],
   "window_display": false
  }
 },
 "nbformat": 4,
 "nbformat_minor": 5
}
