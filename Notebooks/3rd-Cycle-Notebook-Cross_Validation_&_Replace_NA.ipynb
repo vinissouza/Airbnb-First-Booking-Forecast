{
 "cells": [
  {
   "cell_type": "markdown",
   "id": "e9da1de2",
   "metadata": {
    "ExecuteTime": {
     "end_time": "2022-02-28T20:43:44.606104Z",
     "start_time": "2022-02-28T20:43:44.598146Z"
    }
   },
   "source": [
    "# 0.0. Imports"
   ]
  },
  {
   "cell_type": "code",
   "execution_count": 1,
   "id": "4a97ff0c",
   "metadata": {
    "ExecuteTime": {
     "end_time": "2022-03-02T12:32:13.384549Z",
     "start_time": "2022-03-02T12:31:45.312783Z"
    }
   },
   "outputs": [],
   "source": [
    "import random\n",
    "import pandas as pd\n",
    "import numpy  as np\n",
    "import warnings\n",
    "\n",
    "from sklearn    import model_selection as ms\n",
    "from sklearn    import preprocessing   as pp\n",
    "from sklearn    import metrics         as m\n",
    "from scikitplot import metrics         as mt\n",
    "\n",
    "from keras import models as ml\n",
    "from keras import layers as l\n",
    "\n",
    "warnings.filterwarnings('ignore')"
   ]
  },
  {
   "cell_type": "markdown",
   "id": "58b2f295",
   "metadata": {},
   "source": [
    "## 0.1. Auxiliar Functions"
   ]
  },
  {
   "cell_type": "code",
   "execution_count": null,
   "id": "c27e09c1",
   "metadata": {},
   "outputs": [],
   "source": []
  },
  {
   "cell_type": "markdown",
   "id": "04bd4aba",
   "metadata": {},
   "source": [
    "## 0.2. Load Data"
   ]
  },
  {
   "cell_type": "code",
   "execution_count": 2,
   "id": "05c73b56",
   "metadata": {
    "ExecuteTime": {
     "end_time": "2022-03-02T12:32:43.219708Z",
     "start_time": "2022-03-02T12:32:13.390562Z"
    }
   },
   "outputs": [],
   "source": [
    "# load training set of user\n",
    "data_users = pd.read_csv('../Datasets/train_users_2.csv', low_memory=False)\n",
    "\n",
    "# load web sessions log for users\n",
    "data_sessions = pd.read_csv('../Datasets/sessions.csv', low_memory=False)"
   ]
  },
  {
   "cell_type": "markdown",
   "id": "1179dcfc",
   "metadata": {},
   "source": [
    "# 1.0. Data Description"
   ]
  },
  {
   "cell_type": "code",
   "execution_count": 3,
   "id": "a59196b7",
   "metadata": {
    "ExecuteTime": {
     "end_time": "2022-03-02T12:32:43.812707Z",
     "start_time": "2022-03-02T12:32:43.282693Z"
    }
   },
   "outputs": [],
   "source": [
    "df01_users = data_users.copy()\n",
    "\n",
    "df01_sessions = data_sessions.copy()"
   ]
  },
  {
   "cell_type": "markdown",
   "id": "1ccddadb",
   "metadata": {},
   "source": [
    "## 1.1. Data Types"
   ]
  },
  {
   "cell_type": "code",
   "execution_count": 4,
   "id": "fe162f91",
   "metadata": {
    "ExecuteTime": {
     "end_time": "2022-03-02T12:32:44.110760Z",
     "start_time": "2022-03-02T12:32:43.823699Z"
    },
    "cell_style": "split"
   },
   "outputs": [
    {
     "data": {
      "text/plain": [
       "id                          object\n",
       "date_account_created        object\n",
       "timestamp_first_active       int64\n",
       "date_first_booking          object\n",
       "gender                      object\n",
       "age                        float64\n",
       "signup_method               object\n",
       "signup_flow                  int64\n",
       "language                    object\n",
       "affiliate_channel           object\n",
       "affiliate_provider          object\n",
       "first_affiliate_tracked     object\n",
       "signup_app                  object\n",
       "first_device_type           object\n",
       "first_browser               object\n",
       "country_destination         object\n",
       "dtype: object"
      ]
     },
     "execution_count": 4,
     "metadata": {},
     "output_type": "execute_result"
    }
   ],
   "source": [
    "df01_users.dtypes"
   ]
  },
  {
   "cell_type": "code",
   "execution_count": 5,
   "id": "859ee10e",
   "metadata": {
    "ExecuteTime": {
     "end_time": "2022-03-02T12:32:44.297587Z",
     "start_time": "2022-03-02T12:32:44.114722Z"
    },
    "cell_style": "split"
   },
   "outputs": [
    {
     "data": {
      "text/plain": [
       "user_id           object\n",
       "action            object\n",
       "action_type       object\n",
       "action_detail     object\n",
       "device_type       object\n",
       "secs_elapsed     float64\n",
       "dtype: object"
      ]
     },
     "execution_count": 5,
     "metadata": {},
     "output_type": "execute_result"
    }
   ],
   "source": [
    "df01_sessions.dtypes"
   ]
  },
  {
   "cell_type": "markdown",
   "id": "297d0bec",
   "metadata": {
    "cell_style": "center"
   },
   "source": [
    "## 1.2. Data Dimensions"
   ]
  },
  {
   "cell_type": "markdown",
   "id": "c617277e",
   "metadata": {},
   "source": [
    "### 1.2.1. Data Users Dimensions "
   ]
  },
  {
   "cell_type": "code",
   "execution_count": 6,
   "id": "6889bc8e",
   "metadata": {
    "ExecuteTime": {
     "end_time": "2022-03-02T12:32:44.343604Z",
     "start_time": "2022-03-02T12:32:44.305505Z"
    }
   },
   "outputs": [
    {
     "name": "stdout",
     "output_type": "stream",
     "text": [
      "Number of rows of users dataset: 213451\n",
      "Number of columnss of users dataset: 16\n"
     ]
    }
   ],
   "source": [
    "print( f'Number of rows of users dataset: {df01_users.shape[0]}')\n",
    "print( f'Number of columnss of users dataset: {df01_users.shape[1]}')"
   ]
  },
  {
   "cell_type": "markdown",
   "id": "152339da",
   "metadata": {},
   "source": [
    "### 1.2.2. Data Sessions Dimensions\n",
    "\n",
    "This dataset will not be used in this first cycle due to the granularity being action and we want to be user_id for now."
   ]
  },
  {
   "cell_type": "code",
   "execution_count": 7,
   "id": "c1459d2d",
   "metadata": {
    "ExecuteTime": {
     "end_time": "2022-03-02T12:32:44.359505Z",
     "start_time": "2022-03-02T12:32:44.350508Z"
    }
   },
   "outputs": [
    {
     "name": "stdout",
     "output_type": "stream",
     "text": [
      "Number of rows of sessions dataset: 10567737\n",
      "Number of columnss of session dataset: 6\n"
     ]
    }
   ],
   "source": [
    "print( f'Number of rows of sessions dataset: {df01_sessions.shape[0]}')\n",
    "print( f'Number of columnss of session dataset: {df01_sessions.shape[1]}')"
   ]
  },
  {
   "cell_type": "markdown",
   "id": "5ed2d4e7",
   "metadata": {},
   "source": [
    "## 1.3. Check NA"
   ]
  },
  {
   "cell_type": "markdown",
   "id": "3b2018f1",
   "metadata": {},
   "source": [
    "### 1.3.1. Check NA - Data Users"
   ]
  },
  {
   "cell_type": "code",
   "execution_count": 8,
   "id": "49097f87",
   "metadata": {
    "ExecuteTime": {
     "end_time": "2022-03-02T12:32:44.932506Z",
     "start_time": "2022-03-02T12:32:44.365506Z"
    },
    "cell_style": "split"
   },
   "outputs": [
    {
     "data": {
      "text/plain": [
       "id                              0\n",
       "date_account_created            0\n",
       "timestamp_first_active          0\n",
       "date_first_booking         124543\n",
       "gender                          0\n",
       "age                         87990\n",
       "signup_method                   0\n",
       "signup_flow                     0\n",
       "language                        0\n",
       "affiliate_channel               0\n",
       "affiliate_provider              0\n",
       "first_affiliate_tracked      6065\n",
       "signup_app                      0\n",
       "first_device_type               0\n",
       "first_browser                   0\n",
       "country_destination             0\n",
       "dtype: int64"
      ]
     },
     "execution_count": 8,
     "metadata": {},
     "output_type": "execute_result"
    }
   ],
   "source": [
    "df01_users.isna().sum()"
   ]
  },
  {
   "cell_type": "code",
   "execution_count": 9,
   "id": "c559b15b",
   "metadata": {
    "ExecuteTime": {
     "end_time": "2022-03-02T12:32:45.469720Z",
     "start_time": "2022-03-02T12:32:44.936506Z"
    },
    "cell_style": "split"
   },
   "outputs": [
    {
     "data": {
      "text/plain": [
       "id                         0.000000\n",
       "date_account_created       0.000000\n",
       "timestamp_first_active     0.000000\n",
       "date_first_booking         0.583473\n",
       "gender                     0.000000\n",
       "age                        0.412226\n",
       "signup_method              0.000000\n",
       "signup_flow                0.000000\n",
       "language                   0.000000\n",
       "affiliate_channel          0.000000\n",
       "affiliate_provider         0.000000\n",
       "first_affiliate_tracked    0.028414\n",
       "signup_app                 0.000000\n",
       "first_device_type          0.000000\n",
       "first_browser              0.000000\n",
       "country_destination        0.000000\n",
       "dtype: float64"
      ]
     },
     "execution_count": 9,
     "metadata": {},
     "output_type": "execute_result"
    }
   ],
   "source": [
    "df01_users.isna().sum()/df01_users.shape[0]"
   ]
  },
  {
   "cell_type": "markdown",
   "id": "2176ca0f",
   "metadata": {},
   "source": [
    "### 1.3.2. Check NA - Data Sessions"
   ]
  },
  {
   "cell_type": "code",
   "execution_count": 10,
   "id": "09c5347b",
   "metadata": {
    "ExecuteTime": {
     "end_time": "2022-03-02T12:32:55.132192Z",
     "start_time": "2022-03-02T12:32:45.478716Z"
    },
    "cell_style": "split"
   },
   "outputs": [
    {
     "data": {
      "text/plain": [
       "user_id            34496\n",
       "action             79626\n",
       "action_type      1126204\n",
       "action_detail    1126204\n",
       "device_type            0\n",
       "secs_elapsed      136031\n",
       "dtype: int64"
      ]
     },
     "execution_count": 10,
     "metadata": {},
     "output_type": "execute_result"
    }
   ],
   "source": [
    "df01_sessions.isna().sum()"
   ]
  },
  {
   "cell_type": "code",
   "execution_count": 11,
   "id": "55751da3",
   "metadata": {
    "ExecuteTime": {
     "end_time": "2022-03-02T12:33:04.192968Z",
     "start_time": "2022-03-02T12:32:55.141193Z"
    },
    "cell_style": "split"
   },
   "outputs": [
    {
     "data": {
      "text/plain": [
       "user_id          0.003264\n",
       "action           0.007535\n",
       "action_type      0.106570\n",
       "action_detail    0.106570\n",
       "device_type      0.000000\n",
       "secs_elapsed     0.012872\n",
       "dtype: float64"
      ]
     },
     "execution_count": 11,
     "metadata": {},
     "output_type": "execute_result"
    }
   ],
   "source": [
    "df01_sessions.isna().sum()/df01_sessions.shape[0]"
   ]
  },
  {
   "cell_type": "markdown",
   "id": "bd581316",
   "metadata": {},
   "source": [
    "## 1.4. Fillout NA"
   ]
  },
  {
   "cell_type": "markdown",
   "id": "02d2f026",
   "metadata": {},
   "source": [
    "### 1.4.1. Fillout NA - Data Users\n",
    "\n",
    "- **date_first_booking:** the maximum date of the dataset is chosen due to future features considered the space between dates.\n",
    "\n",
    "- **age:** variable age has a normal distribution, so replacing it with with a mean value will not bias the dataset.\n",
    "\n",
    "- **first_affiliate_tracked:** due to the high probability of bias the dataset with categorical data substitution and the low amount of NA datas in this variable, the NA lines will be dropped."
   ]
  },
  {
   "cell_type": "code",
   "execution_count": 12,
   "id": "17027a20",
   "metadata": {
    "ExecuteTime": {
     "end_time": "2022-03-02T12:33:04.821701Z",
     "start_time": "2022-03-02T12:33:04.196969Z"
    }
   },
   "outputs": [],
   "source": [
    "# date_first_booking\n",
    "max_date_first_booking = pd.to_datetime(df01_users['date_first_booking']).max().strftime('%Y-%m-%d')\n",
    "df01_users['date_first_booking'] = df01_users['date_first_booking'].fillna(max_date_first_booking)\n",
    "\n",
    "# age\n",
    "avg_age = int(df01_users['age'].mean())\n",
    "df01_users['age'] = df01_users['age'].fillna(avg_age)\n",
    "\n",
    "# first_affiliate_tracked\n",
    "df01_users = df01_users[~df01_users['first_affiliate_tracked'].isna()]"
   ]
  },
  {
   "cell_type": "code",
   "execution_count": 13,
   "id": "1e6bc1db",
   "metadata": {
    "ExecuteTime": {
     "end_time": "2022-03-02T12:33:05.488702Z",
     "start_time": "2022-03-02T12:33:04.825702Z"
    }
   },
   "outputs": [
    {
     "data": {
      "text/plain": [
       "id                         0.0\n",
       "date_account_created       0.0\n",
       "timestamp_first_active     0.0\n",
       "date_first_booking         0.0\n",
       "gender                     0.0\n",
       "age                        0.0\n",
       "signup_method              0.0\n",
       "signup_flow                0.0\n",
       "language                   0.0\n",
       "affiliate_channel          0.0\n",
       "affiliate_provider         0.0\n",
       "first_affiliate_tracked    0.0\n",
       "signup_app                 0.0\n",
       "first_device_type          0.0\n",
       "first_browser              0.0\n",
       "country_destination        0.0\n",
       "dtype: float64"
      ]
     },
     "execution_count": 13,
     "metadata": {},
     "output_type": "execute_result"
    }
   ],
   "source": [
    "df01_users.isna().sum()/df01_users.shape[0]"
   ]
  },
  {
   "cell_type": "markdown",
   "id": "8375bdfd",
   "metadata": {},
   "source": [
    "### 1.4.2. Fillout NA - Data Sessions\n",
    "\n",
    "Due to a massise amount of data, all NA lines will be dropped."
   ]
  },
  {
   "cell_type": "code",
   "execution_count": 14,
   "id": "97e5f525",
   "metadata": {
    "ExecuteTime": {
     "end_time": "2022-03-02T12:33:11.759137Z",
     "start_time": "2022-03-02T12:33:05.502705Z"
    }
   },
   "outputs": [],
   "source": [
    "# user_id  - 0.003264\n",
    "df01_sessions = df01_sessions[~df01_sessions['user_id'].isna()]\n",
    "\n",
    "# action - 0.007535\n",
    "df01_sessions = df01_sessions[~df01_sessions['action'].isna()]\n",
    "\n",
    "# action_type - 0.106570\n",
    "df01_sessions = df01_sessions[~df01_sessions['action_type'].isna()]\n",
    "\n",
    "# action_detail - 0.106570\n",
    "df01_sessions = df01_sessions[~df01_sessions['action_detail'].isna()]\n",
    "\n",
    "# secs_elapsed - 0.012872\n",
    "df01_sessions = df01_sessions[~df01_sessions['secs_elapsed'].isna()]"
   ]
  },
  {
   "cell_type": "code",
   "execution_count": 15,
   "id": "1b4ae28d",
   "metadata": {
    "ExecuteTime": {
     "end_time": "2022-03-02T12:33:22.840060Z",
     "start_time": "2022-03-02T12:33:11.762235Z"
    }
   },
   "outputs": [
    {
     "data": {
      "text/plain": [
       "user_id          0.0\n",
       "action           0.0\n",
       "action_type      0.0\n",
       "action_detail    0.0\n",
       "device_type      0.0\n",
       "secs_elapsed     0.0\n",
       "dtype: float64"
      ]
     },
     "execution_count": 15,
     "metadata": {},
     "output_type": "execute_result"
    }
   ],
   "source": [
    "df01_sessions.isna().sum()/df01_sessions.shape[0]"
   ]
  },
  {
   "cell_type": "markdown",
   "id": "7076ae4e",
   "metadata": {},
   "source": [
    "## 1.5. Change Data Type"
   ]
  },
  {
   "cell_type": "code",
   "execution_count": 16,
   "id": "793c65b7",
   "metadata": {
    "ExecuteTime": {
     "end_time": "2022-03-02T12:33:22.984063Z",
     "start_time": "2022-03-02T12:33:22.849070Z"
    }
   },
   "outputs": [
    {
     "data": {
      "text/html": [
       "<div>\n",
       "<style scoped>\n",
       "    .dataframe tbody tr th:only-of-type {\n",
       "        vertical-align: middle;\n",
       "    }\n",
       "\n",
       "    .dataframe tbody tr th {\n",
       "        vertical-align: top;\n",
       "    }\n",
       "\n",
       "    .dataframe thead th {\n",
       "        text-align: right;\n",
       "    }\n",
       "</style>\n",
       "<table border=\"1\" class=\"dataframe\">\n",
       "  <thead>\n",
       "    <tr style=\"text-align: right;\">\n",
       "      <th></th>\n",
       "      <th>id</th>\n",
       "      <th>date_account_created</th>\n",
       "      <th>timestamp_first_active</th>\n",
       "      <th>date_first_booking</th>\n",
       "      <th>gender</th>\n",
       "      <th>age</th>\n",
       "      <th>signup_method</th>\n",
       "      <th>signup_flow</th>\n",
       "      <th>language</th>\n",
       "      <th>affiliate_channel</th>\n",
       "      <th>affiliate_provider</th>\n",
       "      <th>first_affiliate_tracked</th>\n",
       "      <th>signup_app</th>\n",
       "      <th>first_device_type</th>\n",
       "      <th>first_browser</th>\n",
       "      <th>country_destination</th>\n",
       "    </tr>\n",
       "  </thead>\n",
       "  <tbody>\n",
       "    <tr>\n",
       "      <th>2610</th>\n",
       "      <td>yypgkwae49</td>\n",
       "      <td>2010-12-09</td>\n",
       "      <td>20101209212205</td>\n",
       "      <td>2015-06-29</td>\n",
       "      <td>-unknown-</td>\n",
       "      <td>49.0</td>\n",
       "      <td>basic</td>\n",
       "      <td>0</td>\n",
       "      <td>en</td>\n",
       "      <td>direct</td>\n",
       "      <td>direct</td>\n",
       "      <td>omg</td>\n",
       "      <td>Web</td>\n",
       "      <td>iPad</td>\n",
       "      <td>Mobile Safari</td>\n",
       "      <td>NDF</td>\n",
       "    </tr>\n",
       "  </tbody>\n",
       "</table>\n",
       "</div>"
      ],
      "text/plain": [
       "              id date_account_created  timestamp_first_active  \\\n",
       "2610  yypgkwae49           2010-12-09          20101209212205   \n",
       "\n",
       "     date_first_booking     gender   age signup_method  signup_flow language  \\\n",
       "2610         2015-06-29  -unknown-  49.0         basic            0       en   \n",
       "\n",
       "     affiliate_channel affiliate_provider first_affiliate_tracked signup_app  \\\n",
       "2610            direct             direct                     omg        Web   \n",
       "\n",
       "     first_device_type  first_browser country_destination  \n",
       "2610              iPad  Mobile Safari                 NDF  "
      ]
     },
     "execution_count": 16,
     "metadata": {},
     "output_type": "execute_result"
    }
   ],
   "source": [
    "df01_users.sample(1)"
   ]
  },
  {
   "cell_type": "code",
   "execution_count": 17,
   "id": "d76d383f",
   "metadata": {
    "ExecuteTime": {
     "end_time": "2022-03-02T12:33:24.548071Z",
     "start_time": "2022-03-02T12:33:22.990068Z"
    }
   },
   "outputs": [],
   "source": [
    "# change date type\n",
    "df01_users['date_account_created'] = pd.to_datetime(df01_users['date_account_created'])\n",
    "df01_users['date_first_booking'] = pd.to_datetime(df01_users['date_first_booking'])\n",
    "\n",
    "# change datetime type\n",
    "df01_users['timestamp_first_active'] = pd.to_datetime(df01_users['timestamp_first_active'], format='%Y%m%d%H%M%S')\n",
    "\n",
    "# change age to int\n",
    "df01_users['age'] = df01_users['age'].astype(np.int64)"
   ]
  },
  {
   "cell_type": "code",
   "execution_count": 18,
   "id": "505514d3",
   "metadata": {
    "ExecuteTime": {
     "end_time": "2022-03-02T12:33:24.627066Z",
     "start_time": "2022-03-02T12:33:24.553063Z"
    }
   },
   "outputs": [
    {
     "data": {
      "text/html": [
       "<div>\n",
       "<style scoped>\n",
       "    .dataframe tbody tr th:only-of-type {\n",
       "        vertical-align: middle;\n",
       "    }\n",
       "\n",
       "    .dataframe tbody tr th {\n",
       "        vertical-align: top;\n",
       "    }\n",
       "\n",
       "    .dataframe thead th {\n",
       "        text-align: right;\n",
       "    }\n",
       "</style>\n",
       "<table border=\"1\" class=\"dataframe\">\n",
       "  <thead>\n",
       "    <tr style=\"text-align: right;\">\n",
       "      <th></th>\n",
       "      <th>id</th>\n",
       "      <th>date_account_created</th>\n",
       "      <th>timestamp_first_active</th>\n",
       "      <th>date_first_booking</th>\n",
       "      <th>gender</th>\n",
       "      <th>age</th>\n",
       "      <th>signup_method</th>\n",
       "      <th>signup_flow</th>\n",
       "      <th>language</th>\n",
       "      <th>affiliate_channel</th>\n",
       "      <th>affiliate_provider</th>\n",
       "      <th>first_affiliate_tracked</th>\n",
       "      <th>signup_app</th>\n",
       "      <th>first_device_type</th>\n",
       "      <th>first_browser</th>\n",
       "      <th>country_destination</th>\n",
       "    </tr>\n",
       "  </thead>\n",
       "  <tbody>\n",
       "    <tr>\n",
       "      <th>8282</th>\n",
       "      <td>nafi00oxky</td>\n",
       "      <td>2011-08-26</td>\n",
       "      <td>2011-08-26 04:47:05</td>\n",
       "      <td>2012-03-18</td>\n",
       "      <td>FEMALE</td>\n",
       "      <td>35</td>\n",
       "      <td>basic</td>\n",
       "      <td>0</td>\n",
       "      <td>en</td>\n",
       "      <td>direct</td>\n",
       "      <td>direct</td>\n",
       "      <td>omg</td>\n",
       "      <td>Web</td>\n",
       "      <td>Mac Desktop</td>\n",
       "      <td>Safari</td>\n",
       "      <td>US</td>\n",
       "    </tr>\n",
       "  </tbody>\n",
       "</table>\n",
       "</div>"
      ],
      "text/plain": [
       "              id date_account_created timestamp_first_active  \\\n",
       "8282  nafi00oxky           2011-08-26    2011-08-26 04:47:05   \n",
       "\n",
       "     date_first_booking  gender  age signup_method  signup_flow language  \\\n",
       "8282         2012-03-18  FEMALE   35         basic            0       en   \n",
       "\n",
       "     affiliate_channel affiliate_provider first_affiliate_tracked signup_app  \\\n",
       "8282            direct             direct                     omg        Web   \n",
       "\n",
       "     first_device_type first_browser country_destination  \n",
       "8282       Mac Desktop        Safari                  US  "
      ]
     },
     "execution_count": 18,
     "metadata": {},
     "output_type": "execute_result"
    }
   ],
   "source": [
    "df01_users.sample(1)"
   ]
  },
  {
   "cell_type": "code",
   "execution_count": 19,
   "id": "e7b73c50",
   "metadata": {
    "ExecuteTime": {
     "end_time": "2022-03-02T12:33:24.659061Z",
     "start_time": "2022-03-02T12:33:24.634127Z"
    }
   },
   "outputs": [
    {
     "data": {
      "text/plain": [
       "id                                 object\n",
       "date_account_created       datetime64[ns]\n",
       "timestamp_first_active     datetime64[ns]\n",
       "date_first_booking         datetime64[ns]\n",
       "gender                             object\n",
       "age                                 int64\n",
       "signup_method                      object\n",
       "signup_flow                         int64\n",
       "language                           object\n",
       "affiliate_channel                  object\n",
       "affiliate_provider                 object\n",
       "first_affiliate_tracked            object\n",
       "signup_app                         object\n",
       "first_device_type                  object\n",
       "first_browser                      object\n",
       "country_destination                object\n",
       "dtype: object"
      ]
     },
     "execution_count": 19,
     "metadata": {},
     "output_type": "execute_result"
    }
   ],
   "source": [
    "df01_users.dtypes"
   ]
  },
  {
   "cell_type": "markdown",
   "id": "b4774540",
   "metadata": {},
   "source": [
    "## 1.6. Check Balanced Data\n",
    "\n",
    "Data with an unbalance of 70% for the US class."
   ]
  },
  {
   "cell_type": "code",
   "execution_count": 20,
   "id": "8f5cdc46",
   "metadata": {
    "ExecuteTime": {
     "end_time": "2022-03-02T12:33:24.707072Z",
     "start_time": "2022-03-02T12:33:24.662069Z"
    }
   },
   "outputs": [
    {
     "data": {
      "text/plain": [
       "NDF      0.579673\n",
       "US       0.294461\n",
       "other    0.048128\n",
       "FR       0.023623\n",
       "IT       0.013458\n",
       "GB       0.011066\n",
       "ES       0.010671\n",
       "CA       0.006707\n",
       "DE       0.005020\n",
       "NL       0.003621\n",
       "AU       0.002541\n",
       "PT       0.001032\n",
       "Name: country_destination, dtype: float64"
      ]
     },
     "execution_count": 20,
     "metadata": {},
     "output_type": "execute_result"
    }
   ],
   "source": [
    "df01_users['country_destination'].value_counts(normalize=True)"
   ]
  },
  {
   "cell_type": "code",
   "execution_count": null,
   "id": "795f19da",
   "metadata": {},
   "outputs": [],
   "source": [
    "## 1.7. Descriptive Analysis"
   ]
  },
  {
   "cell_type": "code",
   "execution_count": null,
   "id": "61bc8d05",
   "metadata": {},
   "outputs": [],
   "source": [
    "## 1.8. General"
   ]
  },
  {
   "cell_type": "code",
   "execution_count": null,
   "id": "1d86068b",
   "metadata": {},
   "outputs": [],
   "source": [
    "### 1.8.1. Numerical - Users"
   ]
  },
  {
   "cell_type": "code",
   "execution_count": null,
   "id": "4d992133",
   "metadata": {},
   "outputs": [],
   "source": [
    "### 1.8.2. Numerical - Sessions"
   ]
  },
  {
   "cell_type": "markdown",
   "id": "bbe57720",
   "metadata": {},
   "source": [
    "# 2.0. Feature Engineering\n",
    "\n",
    "To increase time, no feature engineering will be done for this first cycle."
   ]
  },
  {
   "cell_type": "code",
   "execution_count": 21,
   "id": "f64c4deb",
   "metadata": {
    "ExecuteTime": {
     "end_time": "2022-03-02T12:33:24.754079Z",
     "start_time": "2022-03-02T12:33:24.712063Z"
    }
   },
   "outputs": [],
   "source": [
    "df02_users = df01_users.copy()"
   ]
  },
  {
   "cell_type": "markdown",
   "id": "b0f5b037",
   "metadata": {},
   "source": [
    "# 3.0. Data Filtering\n",
    "\n",
    "To increase time, the Data Filtering stage will be skipped in this first cycle."
   ]
  },
  {
   "cell_type": "code",
   "execution_count": 22,
   "id": "26b87f66",
   "metadata": {
    "ExecuteTime": {
     "end_time": "2022-03-02T12:33:24.804070Z",
     "start_time": "2022-03-02T12:33:24.757066Z"
    }
   },
   "outputs": [],
   "source": [
    "df03_users = df02_users.copy()"
   ]
  },
  {
   "cell_type": "markdown",
   "id": "80d07e8f",
   "metadata": {
    "heading_collapsed": true
   },
   "source": [
    "## 3.1. Filtering Rows"
   ]
  },
  {
   "cell_type": "markdown",
   "id": "d9303a1b",
   "metadata": {
    "heading_collapsed": true
   },
   "source": [
    "## 3.2. Columns Selection"
   ]
  },
  {
   "cell_type": "markdown",
   "id": "20d1ff53",
   "metadata": {},
   "source": [
    "# 4.0. Data Exploratory Analysis\n",
    "\n",
    "To increase time, the EDA stage will be skipped in this first cycle."
   ]
  },
  {
   "cell_type": "code",
   "execution_count": 23,
   "id": "c5e9da71",
   "metadata": {
    "ExecuteTime": {
     "end_time": "2022-03-02T12:33:24.849065Z",
     "start_time": "2022-03-02T12:33:24.811068Z"
    }
   },
   "outputs": [],
   "source": [
    "df04_users = df03_users.copy()"
   ]
  },
  {
   "cell_type": "markdown",
   "id": "868b4156",
   "metadata": {},
   "source": [
    "# 5.0. Data Preparation"
   ]
  },
  {
   "cell_type": "code",
   "execution_count": 24,
   "id": "5fcd8687",
   "metadata": {
    "ExecuteTime": {
     "end_time": "2022-03-02T12:33:24.896066Z",
     "start_time": "2022-03-02T12:33:24.859066Z"
    }
   },
   "outputs": [],
   "source": [
    "df05_users = df04_users.copy()"
   ]
  },
  {
   "cell_type": "code",
   "execution_count": 25,
   "id": "53e5ef72",
   "metadata": {
    "ExecuteTime": {
     "end_time": "2022-03-02T12:33:25.581082Z",
     "start_time": "2022-03-02T12:33:24.905065Z"
    }
   },
   "outputs": [],
   "source": [
    "# dummy variable\n",
    "df05_users_dummy = pd.get_dummies(df05_users.drop(['id', 'country_destination'], axis=1))\n",
    "\n",
    "# join id and country destination\n",
    "df05_users = pd.concat( [df05_users[['id', 'country_destination']], df05_users_dummy], axis=1 )"
   ]
  },
  {
   "cell_type": "markdown",
   "id": "56417dc6",
   "metadata": {},
   "source": [
    "# 6.0. Feature Selection\n",
    "\n",
    "Original date will be discarded in this first cycle because data must first be derived from them, like years and months."
   ]
  },
  {
   "cell_type": "code",
   "execution_count": 26,
   "id": "924a6eec",
   "metadata": {
    "ExecuteTime": {
     "end_time": "2022-03-02T12:33:25.675060Z",
     "start_time": "2022-03-02T12:33:25.592069Z"
    }
   },
   "outputs": [],
   "source": [
    "df06_users = df05_users.copy()"
   ]
  },
  {
   "cell_type": "code",
   "execution_count": 27,
   "id": "3aa224e1",
   "metadata": {
    "ExecuteTime": {
     "end_time": "2022-03-02T12:33:25.771064Z",
     "start_time": "2022-03-02T12:33:25.678064Z"
    }
   },
   "outputs": [],
   "source": [
    "cols_drop = ['date_account_created', 'timestamp_first_active', 'date_first_booking'] # original dates\n",
    "df06_users = df06_users.drop(cols_drop, axis=1)"
   ]
  },
  {
   "cell_type": "code",
   "execution_count": 28,
   "id": "c4bc27ff",
   "metadata": {
    "ExecuteTime": {
     "end_time": "2022-03-02T12:33:25.867062Z",
     "start_time": "2022-03-02T12:33:25.789069Z"
    }
   },
   "outputs": [],
   "source": [
    "# training dataset\n",
    "X = df06_users.drop( 'country_destination', axis=1 )\n",
    "\n",
    "#  training response dataset\n",
    "y = df06_users['country_destination']"
   ]
  },
  {
   "cell_type": "code",
   "execution_count": 29,
   "id": "2526e910",
   "metadata": {
    "ExecuteTime": {
     "end_time": "2022-03-02T12:33:26.279062Z",
     "start_time": "2022-03-02T12:33:25.874079Z"
    }
   },
   "outputs": [],
   "source": [
    "# Split dataset into training and test (validation)\n",
    "X_train, X_test, y_train, y_test = ms.train_test_split(X, y, test_size=0.2, random_state=32)"
   ]
  },
  {
   "cell_type": "markdown",
   "id": "c9ee0881",
   "metadata": {},
   "source": [
    "# 7.0. Machine Learing Model"
   ]
  },
  {
   "cell_type": "code",
   "execution_count": 30,
   "id": "b9dfd8fe",
   "metadata": {
    "ExecuteTime": {
     "end_time": "2022-03-02T12:33:26.358060Z",
     "start_time": "2022-03-02T12:33:26.283065Z"
    }
   },
   "outputs": [],
   "source": [
    "x_train = X_train.drop('id', axis=1)\n",
    "x_test = X_test.drop('id', axis=1)"
   ]
  },
  {
   "cell_type": "markdown",
   "id": "b3107f01",
   "metadata": {},
   "source": [
    "## 7.1. Baseline Model - Random"
   ]
  },
  {
   "cell_type": "code",
   "execution_count": 31,
   "id": "c5ee811a",
   "metadata": {
    "ExecuteTime": {
     "end_time": "2022-03-02T12:33:26.438081Z",
     "start_time": "2022-03-02T12:33:26.361063Z"
    }
   },
   "outputs": [
    {
     "data": {
      "text/plain": [
       "41478"
      ]
     },
     "execution_count": 31,
     "metadata": {},
     "output_type": "execute_result"
    }
   ],
   "source": [
    "country_list = df06_users['country_destination'].drop_duplicates().sort_values().tolist()\n",
    "\n",
    "k_num = y_test.shape[0]\n",
    "\n",
    "country_weights = df06_users['country_destination'].value_counts(normalize=True).sort_index().tolist()\n",
    "\n",
    "yhat_random = random.choices(population=country_list,\n",
    "                             weights=country_weights,\n",
    "                             k=k_num)\n",
    "\n",
    "len(yhat_random)"
   ]
  },
  {
   "cell_type": "markdown",
   "id": "c6243d2f",
   "metadata": {},
   "source": [
    "### 7.1.2. Baseline Model Performance"
   ]
  },
  {
   "cell_type": "code",
   "execution_count": 32,
   "id": "50728288",
   "metadata": {
    "ExecuteTime": {
     "end_time": "2022-03-02T12:33:30.467969Z",
     "start_time": "2022-03-02T12:33:26.448070Z"
    },
    "scrolled": false
   },
   "outputs": [
    {
     "name": "stdout",
     "output_type": "stream",
     "text": [
      "Accuracy 0.4234775061478374\n",
      "Balanced Accuracy: 0.08343485047818232\n",
      "Kappa Score: -0.003283258602393868\n",
      "              precision    recall  f1-score   support\n",
      "\n",
      "          AU       0.03      0.03      0.03       111\n",
      "          CA       0.00      0.00      0.00       281\n",
      "          DE       0.00      0.00      0.00       215\n",
      "          ES       0.01      0.01      0.01       428\n",
      "          FR       0.02      0.02      0.02      1021\n",
      "          GB       0.01      0.01      0.01       426\n",
      "          IT       0.01      0.01      0.01       570\n",
      "         NDF       0.58      0.57      0.58     23996\n",
      "          NL       0.00      0.00      0.00       146\n",
      "          PT       0.00      0.00      0.00        48\n",
      "          US       0.29      0.30      0.30     12280\n",
      "       other       0.05      0.05      0.05      1956\n",
      "\n",
      "    accuracy                           0.42     41478\n",
      "   macro avg       0.08      0.08      0.08     41478\n",
      "weighted avg       0.42      0.42      0.42     41478\n",
      "\n"
     ]
    },
    {
     "data": {
      "image/png": "[encoded data removed]",
      "text/plain": [
       "<Figure size 864x864 with 2 Axes>"
      ]
     },
     "metadata": {
      "needs_background": "light"
     },
     "output_type": "display_data"
    }
   ],
   "source": [
    "# Accuracy\n",
    "acc_random = m.accuracy_score( y_test, yhat_random )\n",
    "print(f'Accuracy {acc_random}')\n",
    "\n",
    "# Balanced Accuracy\n",
    "balanced_acc_random = m.balanced_accuracy_score(y_test, yhat_random)\n",
    "print(f'Balanced Accuracy: {balanced_acc_random}')\n",
    "\n",
    "# Kappa Metrics\n",
    "kappa_random = m.cohen_kappa_score(y_test, yhat_random)\n",
    "print(f'Kappa Score: {kappa_random}')\n",
    "\n",
    "# Classification report\n",
    "print(m.classification_report(y_test, yhat_random))\n",
    "\n",
    "# Confusion Matrix\n",
    "mt.plot_confusion_matrix(y_test, yhat_random, normalize=False, figsize=(12,12));"
   ]
  },
  {
   "cell_type": "markdown",
   "id": "74175f4b",
   "metadata": {},
   "source": [
    "## 7.2. Neural Network - MLP"
   ]
  },
  {
   "cell_type": "code",
   "execution_count": 33,
   "id": "c837ddfc",
   "metadata": {
    "ExecuteTime": {
     "end_time": "2022-03-02T12:33:30.610970Z",
     "start_time": "2022-03-02T12:33:30.476962Z"
    }
   },
   "outputs": [],
   "source": [
    "ohe = pp.OneHotEncoder()\n",
    "\n",
    "y_train_nn = ohe.fit_transform(y_train.values.reshape(-1, 1)).toarray()"
   ]
  },
  {
   "cell_type": "code",
   "execution_count": 34,
   "id": "fa3d36ec",
   "metadata": {
    "ExecuteTime": {
     "end_time": "2022-03-02T12:52:49.099410Z",
     "start_time": "2022-03-02T12:33:30.622964Z"
    },
    "scrolled": true
   },
   "outputs": [
    {
     "name": "stdout",
     "output_type": "stream",
     "text": [
      "Epoch 1/100\n",
      "5185/5185 [==============================] - 13s 3ms/step - loss: 1.2361 - accuracy: 0.5863 0s - los - ETA: 0s - loss: 1.236\n",
      "Epoch 2/100\n",
      "5185/5185 [==============================] - 12s 2ms/step - loss: 1.1603 - accuracy: 0.6035 1s - los - ETA\n",
      "Epoch 3/100\n",
      "5185/5185 [==============================] - ETA: 0s - loss: 1.1281 - accuracy: 0.6129 ETA: 0s - los - 15s 3ms/step - loss: 1.1280 - accuracy: 0.6129\n",
      "Epoch 4/100\n",
      "5185/5185 [==============================] - 12s 2ms/step - loss: 1.1020 - accuracy: 0.6175\n",
      "Epoch 5/100\n",
      "5185/5185 [==============================] - 11s 2ms/step - loss: 1.0913 - accuracy: 0.6189- ETA: 0s - loss: 1\n",
      "Epoch 6/100\n",
      "5185/5185 [==============================] - 11s 2ms/step - loss: 1.0886 - accuracy: 0.6202\n",
      "Epoch 7/100\n",
      "5185/5185 [==============================] - 13s 3ms/step - loss: 1.0872 - accuracy: 0.6208\n",
      "Epoch 8/100\n",
      "5185/5185 [==============================] - 11s 2ms/step - loss: 1.0857 - accuracy: 0.6210\n",
      "Epoch 9/100\n",
      "5185/5185 [==============================] - 10s 2ms/step - loss: 1.0844 - accuracy: 0.6220\n",
      "Epoch 10/100\n",
      "5185/5185 [==============================] - 16s 3ms/step - loss: 1.0834 - accuracy: 0.6221\n",
      "Epoch 11/100\n",
      "5185/5185 [==============================] - 17s 3ms/step - loss: 1.0832 - accuracy: 0.6220 6s - loss: 1.0842 - accura - ETA: 5s - l\n",
      "Epoch 12/100\n",
      "5185/5185 [==============================] - 19s 4ms/step - loss: 1.0833 - accuracy: 0.6219 0s - loss: 1.0835 - accuracy: 0. - ETA: 0s - loss: 1.0836 - accuracy\n",
      "Epoch 13/100\n",
      "5185/5185 [==============================] - 16s 3ms/step - loss: 1.0823 - accuracy: 0.6227\n",
      "Epoch 14/100\n",
      "5185/5185 [==============================] - 18s 4ms/step - loss: 1.0816 - accuracy: 0.6224\n",
      "Epoch 15/100\n",
      "5185/5185 [==============================] - 10s 2ms/step - loss: 1.0813 - accuracy: 0.6227\n",
      "Epoch 16/100\n",
      "5185/5185 [==============================] - 11s 2ms/step - loss: 1.0807 - accuracy: 0.6236 0s - loss: 1.0807 - accuracy\n",
      "Epoch 17/100\n",
      "5185/5185 [==============================] - 11s 2ms/step - loss: 1.0805 - accuracy: 0.6236\n",
      "Epoch 18/100\n",
      "5185/5185 [==============================] - 8s 2ms/step - loss: 1.0800 - accuracy: 0.6228\n",
      "Epoch 19/100\n",
      "5185/5185 [==============================] - 17s 3ms/step - loss: 1.0796 - accuracy: 0.6229A: 10s - loss: 1.0618 - accuracy - ETA: 12s - loss: 1.0655 - - ETA: 0s - loss: 1.0791 - accu\n",
      "Epoch 20/100\n",
      "5185/5185 [==============================] - 20s 4ms/step - loss: 1.0788 - accuracy: 0.6239 0s - loss:\n",
      "Epoch 21/100\n",
      "5185/5185 [==============================] - 14s 3ms/step - loss: 1.0780 - accuracy: 0.6233\n",
      "Epoch 22/100\n",
      "5185/5185 [==============================] - 9s 2ms/step - loss: 1.0782 - accuracy: 0.6230\n",
      "Epoch 23/100\n",
      "5185/5185 [==============================] - 9s 2ms/step - loss: 1.0780 - accuracy: 0.6235\n",
      "Epoch 24/100\n",
      "5185/5185 [==============================] - 9s 2ms/step - loss: 1.0775 - accuracy: 0.6233\n",
      "Epoch 25/100\n",
      "5185/5185 [==============================] - 10s 2ms/step - loss: 1.0770 - accuracy: 0.6238\n",
      "Epoch 26/100\n",
      "5185/5185 [==============================] - 12s 2ms/step - loss: 1.0766 - accuracy: 0.6235\n",
      "Epoch 27/100\n",
      "5185/5185 [==============================] - 12s 2ms/step - loss: 1.0765 - accuracy: 0.6229\n",
      "Epoch 28/100\n",
      "5185/5185 [==============================] - 12s 2ms/step - loss: 1.0759 - accuracy: 0.6239 0s - loss: 1.0769 - \n",
      "Epoch 29/100\n",
      "5185/5185 [==============================] - 12s 2ms/step - loss: 1.0755 - accuracy: 0.6239\n",
      "Epoch 30/100\n",
      "5185/5185 [==============================] - 13s 2ms/step - loss: 1.0754 - accuracy: 0.6243\n",
      "Epoch 31/100\n",
      "5185/5185 [==============================] - 17s 3ms/step - loss: 1.0749 - accuracy: 0.6238\n",
      "Epoch 32/100\n",
      "5185/5185 [==============================] - 15s 3ms/step - loss: 1.0750 - accuracy: 0.6230\n",
      "Epoch 33/100\n",
      "5185/5185 [==============================] - 14s 3ms/step - loss: 1.0748 - accuracy: 0.6244\n",
      "Epoch 34/100\n",
      "5185/5185 [==============================] - 12s 2ms/step - loss: 1.0745 - accuracy: 0.6247\n",
      "Epoch 35/100\n",
      "5185/5185 [==============================] - 10s 2ms/step - loss: 1.0742 - accuracy: 0.6240 1s - loss: 1.0770 - accuracy: 0. - ETA - ETA: 0s - loss: 1.0741 - \n",
      "Epoch 36/100\n",
      "5185/5185 [==============================] - 15s 3ms/step - loss: 1.0741 - accuracy: 0.6237\n",
      "Epoch 37/100\n",
      "5185/5185 [==============================] - 11s 2ms/step - loss: 1.0742 - accuracy: 0.6247\n",
      "Epoch 38/100\n",
      "5185/5185 [==============================] - 10s 2ms/step - loss: 1.0736 - accuracy: 0.6244\n",
      "Epoch 39/100\n",
      "5185/5185 [==============================] - 10s 2ms/step - loss: 1.0733 - accuracy: 0.6245\n",
      "Epoch 40/100\n",
      "5185/5185 [==============================] - 9s 2ms/step - loss: 1.0732 - accuracy: 0.6244\n",
      "Epoch 41/100\n",
      "5185/5185 [==============================] - 10s 2ms/step - loss: 1.0730 - accuracy: 0.6246\n",
      "Epoch 42/100\n",
      "5185/5185 [==============================] - 10s 2ms/step - loss: 1.0728 - accuracy: 0.6242 0s\n",
      "Epoch 43/100\n",
      "5185/5185 [==============================] - 10s 2ms/step - loss: 1.0725 - accuracy: 0.6250\n",
      "Epoch 44/100\n",
      "5185/5185 [==============================] - 10s 2ms/step - loss: 1.0726 - accuracy: 0.6249\n",
      "Epoch 45/100\n",
      "5185/5185 [==============================] - 9s 2ms/step - loss: 1.0723 - accuracy: 0.6248\n",
      "Epoch 46/100\n",
      "5185/5185 [==============================] - 10s 2ms/step - loss: 1.0727 - accuracy: 0.6244\n",
      "Epoch 47/100\n",
      "5185/5185 [==============================] - 14s 3ms/step - loss: 1.0723 - accuracy: 0.6248\n",
      "Epoch 48/100\n",
      "5185/5185 [==============================] - 10s 2ms/step - loss: 1.0719 - accuracy: 0.6247 0s -\n",
      "Epoch 49/100\n",
      "5185/5185 [==============================] - 13s 2ms/step - loss: 1.0717 - accuracy: 0.6251\n",
      "Epoch 50/100\n",
      "5185/5185 [==============================] - 12s 2ms/step - loss: 1.0716 - accuracy: 0.6250\n",
      "Epoch 51/100\n",
      "5185/5185 [==============================] - 12s 2ms/step - loss: 1.0719 - accuracy: 0.6253\n",
      "Epoch 52/100\n",
      "5185/5185 [==============================] - 9s 2ms/step - loss: 1.0716 - accuracy: 0.6253\n",
      "Epoch 53/100\n",
      "5185/5185 [==============================] - 10s 2ms/step - loss: 1.0715 - accuracy: 0.6247 0s - loss: 1.0723 - ac\n",
      "Epoch 54/100\n",
      "5185/5185 [==============================] - 10s 2ms/step - loss: 1.0713 - accuracy: 0.6255\n",
      "Epoch 55/100\n",
      "5185/5185 [==============================] - 10s 2ms/step - loss: 1.0714 - accuracy: 0.6254 0s - loss: 1.0714 - accuracy: 0.62\n",
      "Epoch 56/100\n",
      "5185/5185 [==============================] - 10s 2ms/step - loss: 1.0713 - accuracy: 0.6254\n",
      "Epoch 57/100\n",
      "5185/5185 [==============================] - 10s 2ms/step - loss: 1.0710 - accuracy: 0.6254\n",
      "Epoch 58/100\n",
      "5185/5185 [==============================] - 10s 2ms/step - loss: 1.0712 - accuracy: 0.6254\n",
      "Epoch 59/100\n",
      "5185/5185 [==============================] - 10s 2ms/step - loss: 1.0711 - accuracy: 0.6254\n",
      "Epoch 60/100\n",
      "5185/5185 [==============================] - 10s 2ms/step - loss: 1.0711 - accuracy: 0.6250 0s - ETA: 0s - loss: 1.0710 - accura\n",
      "Epoch 61/100\n",
      "5185/5185 [==============================] - 10s 2ms/step - loss: 1.0707 - accuracy: 0.6256\n",
      "Epoch 62/100\n",
      "5185/5185 [==============================] - 10s 2ms/step - loss: 1.0705 - accuracy: 0.6258 0s - loss: 1.0697 - \n",
      "Epoch 63/100\n",
      "5185/5185 [==============================] - 11s 2ms/step - loss: 1.0710 - accuracy: 0.6258\n",
      "Epoch 64/100\n",
      "5185/5185 [==============================] - 11s 2ms/step - loss: 1.0705 - accuracy: 0.6255\n",
      "Epoch 65/100\n",
      "5185/5185 [==============================] - 10s 2ms/step - loss: 1.0704 - accuracy: 0.6255\n",
      "Epoch 66/100\n",
      "5185/5185 [==============================] - 10s 2ms/step - loss: 1.0703 - accuracy: 0.6245\n",
      "Epoch 67/100\n",
      "5185/5185 [==============================] - 11s 2ms/step - loss: 1.0705 - accuracy: 0.6255\n",
      "Epoch 68/100\n",
      "5185/5185 [==============================] - 10s 2ms/step - loss: 1.0702 - accuracy: 0.6256\n",
      "Epoch 69/100\n",
      "5185/5185 [==============================] - 10s 2ms/step - loss: 1.0700 - accuracy: 0.6261\n",
      "Epoch 70/100\n",
      "5185/5185 [==============================] - 10s 2ms/step - loss: 1.0703 - accuracy: 0.6259\n",
      "Epoch 71/100\n",
      "5185/5185 [==============================] - 10s 2ms/step - loss: 1.0698 - accuracy: 0.6252\n",
      "Epoch 72/100\n"
     ]
    },
    {
     "name": "stdout",
     "output_type": "stream",
     "text": [
      "5185/5185 [==============================] - 10s 2ms/step - loss: 1.0702 - accuracy: 0.6256 0s - loss: 1.0706 - accuracy: 0.62 - ETA: 0s - loss: 1.0706 - accuracy\n",
      "Epoch 73/100\n",
      "5185/5185 [==============================] - 12s 2ms/step - loss: 1.0694 - accuracy: 0.6259 0s - loss: 1\n",
      "Epoch 74/100\n",
      "5185/5185 [==============================] - 12s 2ms/step - loss: 1.0700 - accuracy: 0.6264ETA: \n",
      "Epoch 75/100\n",
      "5185/5185 [==============================] - 13s 2ms/step - loss: 1.0695 - accuracy: 0.6257\n",
      "Epoch 76/100\n",
      "5185/5185 [==============================] - 12s 2ms/step - loss: 1.0698 - accuracy: 0.6264\n",
      "Epoch 77/100\n",
      "5185/5185 [==============================] - 12s 2ms/step - loss: 1.0700 - accuracy: 0.6259\n",
      "Epoch 78/100\n",
      "5185/5185 [==============================] - 13s 2ms/step - loss: 1.0697 - accuracy: 0.6258 0s - loss: 1.0\n",
      "Epoch 79/100\n",
      "5185/5185 [==============================] - 11s 2ms/step - loss: 1.0696 - accuracy: 0.6259 0s - - ETA: 0s - loss: 1.0695 - accuracy: 0.62\n",
      "Epoch 80/100\n",
      "5185/5185 [==============================] - 11s 2ms/step - loss: 1.0696 - accuracy: 0.6264 0s - loss: 1.0703 - accuracy\n",
      "Epoch 81/100\n",
      "5185/5185 [==============================] - 12s 2ms/step - loss: 1.0694 - accuracy: 0.6254\n",
      "Epoch 82/100\n",
      "5185/5185 [==============================] - 13s 3ms/step - loss: 1.0697 - accuracy: 0.6262\n",
      "Epoch 83/100\n",
      "5185/5185 [==============================] - 10s 2ms/step - loss: 1.0694 - accuracy: 0.6254\n",
      "Epoch 84/100\n",
      "5185/5185 [==============================] - 11s 2ms/step - loss: 1.0692 - accuracy: 0.6262 0s - loss: 1.0693 - accuracy\n",
      "Epoch 85/100\n",
      "5185/5185 [==============================] - 11s 2ms/step - loss: 1.0694 - accuracy: 0.6259\n",
      "Epoch 86/100\n",
      "5185/5185 [==============================] - 11s 2ms/step - loss: 1.0690 - accuracy: 0.6267\n",
      "Epoch 87/100\n",
      "5185/5185 [==============================] - 11s 2ms/step - loss: 1.0689 - accuracy: 0.6259 0s - l\n",
      "Epoch 88/100\n",
      "5185/5185 [==============================] - 13s 3ms/step - loss: 1.0689 - accuracy: 0.6266\n",
      "Epoch 89/100\n",
      "5185/5185 [==============================] - 12s 2ms/step - loss: 1.0690 - accuracy: 0.6264\n",
      "Epoch 90/100\n",
      "5185/5185 [==============================] - 10s 2ms/step - loss: 1.0694 - accuracy: 0.6258\n",
      "Epoch 91/100\n",
      "5185/5185 [==============================] - 11s 2ms/step - loss: 1.0685 - accuracy: 0.6263\n",
      "Epoch 92/100\n",
      "5185/5185 [==============================] - 10s 2ms/step - loss: 1.0692 - accuracy: 0.6271\n",
      "Epoch 93/100\n",
      "5185/5185 [==============================] - 10s 2ms/step - loss: 1.0691 - accuracy: 0.6260\n",
      "Epoch 94/100\n",
      "5185/5185 [==============================] - 11s 2ms/step - loss: 1.0688 - accuracy: 0.6264\n",
      "Epoch 95/100\n",
      "5185/5185 [==============================] - 10s 2ms/step - loss: 1.0687 - accuracy: 0.6263\n",
      "Epoch 96/100\n",
      "5185/5185 [==============================] - 10s 2ms/step - loss: 1.0689 - accuracy: 0.6266\n",
      "Epoch 97/100\n",
      "5185/5185 [==============================] - 10s 2ms/step - loss: 1.0685 - accuracy: 0.6267\n",
      "Epoch 98/100\n",
      "5185/5185 [==============================] - 10s 2ms/step - loss: 1.0682 - accuracy: 0.6265\n",
      "Epoch 99/100\n",
      "5185/5185 [==============================] - 10s 2ms/step - loss: 1.0685 - accuracy: 0.6264\n",
      "Epoch 100/100\n",
      "5185/5185 [==============================] - 12s 2ms/step - loss: 1.0690 - accuracy: 0.6263 0s - loss: 1.0695 - ac\n"
     ]
    },
    {
     "data": {
      "text/plain": [
       "<tensorflow.python.keras.callbacks.History at 0x2852bee3550>"
      ]
     },
     "execution_count": 34,
     "metadata": {},
     "output_type": "execute_result"
    }
   ],
   "source": [
    "# model definition\n",
    "model = ml.Sequential()\n",
    "model.add( l.Dense(128, input_dim=x_train.shape[1], activation='relu') )\n",
    "model.add( l.Dense(12, activation='softmax') )\n",
    "\n",
    "# model compile\n",
    "model.compile(loss='categorical_crossentropy', optimizer='adam', metrics=['accuracy'])\n",
    "\n",
    "# train model\n",
    "model.fit(x_train, y_train_nn, epochs=100)"
   ]
  },
  {
   "cell_type": "markdown",
   "id": "db25633d",
   "metadata": {},
   "source": [
    "### 7.2.2. NN Performance"
   ]
  },
  {
   "cell_type": "code",
   "execution_count": 35,
   "id": "7ebdadb7",
   "metadata": {
    "ExecuteTime": {
     "end_time": "2022-03-02T12:52:50.960592Z",
     "start_time": "2022-03-02T12:52:49.108409Z"
    }
   },
   "outputs": [],
   "source": [
    "# prediction\n",
    "pred_nn = model.predict(x_test)\n",
    "\n",
    "# invert prediction\n",
    "yhat_nn = ohe.inverse_transform(pred_nn)\n",
    "\n",
    "# test dataset prepare with real results\n",
    "y_test_nn = y_test.to_numpy()\n",
    "yhat_nn = yhat_nn.reshape(1, -1)[0]"
   ]
  },
  {
   "cell_type": "code",
   "execution_count": 36,
   "id": "93807f04",
   "metadata": {
    "ExecuteTime": {
     "end_time": "2022-03-02T12:52:55.505646Z",
     "start_time": "2022-03-02T12:52:50.963571Z"
    }
   },
   "outputs": [
    {
     "name": "stdout",
     "output_type": "stream",
     "text": [
      "Accuracy: 0.626404358937268\n",
      "Balanced Accuracy: 0.10666097602405322\n",
      "Kappa Score: 0.2352933597732848\n",
      "              precision    recall  f1-score   support\n",
      "\n",
      "          AU       0.00      0.00      0.00       111\n",
      "          CA       0.00      0.00      0.00       281\n",
      "          DE       0.00      0.00      0.00       215\n",
      "          ES       0.00      0.00      0.00       428\n",
      "          FR       0.00      0.00      0.00      1021\n",
      "          GB       0.00      0.00      0.00       426\n",
      "          IT       0.00      0.00      0.00       570\n",
      "         NDF       0.66      0.88      0.76     23996\n",
      "          NL       0.00      0.00      0.00       146\n",
      "          PT       0.00      0.00      0.00        48\n",
      "          US       0.50      0.40      0.45     12280\n",
      "       other       0.00      0.00      0.00      1956\n",
      "\n",
      "    accuracy                           0.63     41478\n",
      "   macro avg       0.10      0.11      0.10     41478\n",
      "weighted avg       0.53      0.63      0.57     41478\n",
      "\n"
     ]
    },
    {
     "data": {
      "image/png": "[encoded data removed]",
      "text/plain": [
       "<Figure size 864x864 with 2 Axes>"
      ]
     },
     "metadata": {
      "needs_background": "light"
     },
     "output_type": "display_data"
    }
   ],
   "source": [
    "# Accuracy\n",
    "acc_nn = m.accuracy_score( y_test_nn, yhat_nn )\n",
    "print(f'Accuracy: {acc_nn}')\n",
    "\n",
    "# Balanced Accuracy\n",
    "balanced_acc_nn = m.balanced_accuracy_score(y_test_nn, yhat_nn)\n",
    "print(f'Balanced Accuracy: {balanced_acc_nn}')\n",
    "\n",
    "# Kappa Metrics\n",
    "kappa_nn = m.cohen_kappa_score(y_test_nn, yhat_nn)\n",
    "print(f'Kappa Score: {kappa_nn}')\n",
    "\n",
    "# Classification report\n",
    "print(m.classification_report(y_test_nn, yhat_nn))\n",
    "\n",
    "# Confusion Matrix\n",
    "mt.plot_confusion_matrix( y_test_nn, yhat_nn, normalize=False, figsize=(12,12));"
   ]
  },
  {
   "cell_type": "code",
   "execution_count": 37,
   "id": "1013c767",
   "metadata": {
    "ExecuteTime": {
     "end_time": "2022-03-02T12:52:55.572676Z",
     "start_time": "2022-03-02T12:52:55.509653Z"
    }
   },
   "outputs": [
    {
     "data": {
      "text/plain": [
       "NDF      0.762838\n",
       "US       0.236848\n",
       "other    0.000193\n",
       "FR       0.000048\n",
       "CA       0.000024\n",
       "ES       0.000024\n",
       "IT       0.000024\n",
       "dtype: float64"
      ]
     },
     "execution_count": 37,
     "metadata": {},
     "output_type": "execute_result"
    }
   ],
   "source": [
    "# check balanced results\n",
    "pd.DataFrame(yhat_nn).value_counts(normalize=True)"
   ]
  },
  {
   "cell_type": "markdown",
   "id": "51b4d146",
   "metadata": {},
   "source": [
    "**Result**\n",
    "\n",
    "Although the model presents a reasonable result with 70% accuracy, the model is highly biased by unbalanced data, which is natural due how a Neural Network works.\n",
    "\n",
    "In the next ciclys will look at some of the following metrics to check for unbalanced data:\n",
    "\n",
    "    - Balanced Accuracy\n",
    "    - F-Score Balanced\n",
    "    - Recall-Precison\n",
    "    - ROC\n",
    "    - Kappa Metrics\n",
    "    - Matthew Metrics"
   ]
  },
  {
   "cell_type": "markdown",
   "id": "6b4b7b16",
   "metadata": {},
   "source": [
    "### 7.2.3. NN Performance - Cross-Validation"
   ]
  },
  {
   "cell_type": "code",
   "execution_count": 38,
   "id": "de17b336",
   "metadata": {
    "ExecuteTime": {
     "end_time": "2022-03-02T13:39:02.298879Z",
     "start_time": "2022-03-02T12:52:55.577652Z"
    }
   },
   "outputs": [
    {
     "name": "stdout",
     "output_type": "stream",
     "text": [
      "Fold Number:1/5\n",
      "Fold Number:2/5\n",
      "Fold Number:3/5\n",
      "Fold Number:4/5\n",
      "Fold Number:5/5\n"
     ]
    }
   ],
   "source": [
    "# generate k-fold\n",
    "num_folds = 5\n",
    "kfold = ms.StratifiedKFold( n_splits=num_folds, shuffle=True, random_state=32 )\n",
    "\n",
    "balanced_acc_list = []\n",
    "\n",
    "kappa_list = []\n",
    "\n",
    "i = 1\n",
    "\n",
    "for train_index, val_index in kfold.split( x_train, y_train ):\n",
    "    print(f'Fold Number:{i}/{num_folds}')\n",
    "    \n",
    "    # split data into training and test set\n",
    "    x_train_cv = x_train.iloc[train_index]\n",
    "    y_train_cv = y_train.iloc[train_index]\n",
    "    \n",
    "    x_validation_cv = x_train.iloc[val_index]\n",
    "    y_validation_cv = y_train.iloc[val_index]\n",
    "    \n",
    "    # encoding response variable\n",
    "    ohe = pp.OneHotEncoder()\n",
    "\n",
    "    y_train_cv_nn = ohe.fit_transform(y_train_cv.values.reshape(-1, 1)).toarray()\n",
    "\n",
    "    # model definition\n",
    "    model = ml.Sequential()\n",
    "    model.add( l.Dense(128, input_dim=x_train_cv.shape[1], activation='relu') )\n",
    "    model.add( l.Dense(12, activation='softmax') )\n",
    "\n",
    "    # model compile\n",
    "    model.compile(loss='categorical_crossentropy', optimizer='adam', metrics=['accuracy'])\n",
    "\n",
    "    # train model\n",
    "    model.fit(x_train_cv, y_train_cv_nn, epochs=100, batch_size=32, verbose=0)\n",
    "\n",
    "    # prediction\n",
    "    pred_cv_nn = model.predict(x_validation_cv)\n",
    "\n",
    "    # invert prediction\n",
    "    yhat_cv_nn = ohe.inverse_transform(pred_cv_nn)\n",
    "\n",
    "    # test dataset prepare with real results\n",
    "    y_test_cv_nn = y_validation_cv.to_numpy()\n",
    "    yhat_cv_nn = yhat_cv_nn.reshape(1, -1)[0]\n",
    "    \n",
    "    # performance metrics \n",
    "    # Balanced Accuracy\n",
    "    balanced_acc_nn = m.balanced_accuracy_score(y_test_cv_nn, yhat_cv_nn)\n",
    "    balanced_acc_list.append(balanced_acc_nn)\n",
    "\n",
    "    # Kappa Metrics\n",
    "    kappa_nn = m.cohen_kappa_score(y_test_cv_nn, yhat_cv_nn)\n",
    "    kappa_list.append(kappa_nn)\n",
    "    \n",
    "    i += 1"
   ]
  },
  {
   "cell_type": "code",
   "execution_count": 39,
   "id": "6293a697",
   "metadata": {
    "ExecuteTime": {
     "end_time": "2022-03-02T13:39:02.346771Z",
     "start_time": "2022-03-02T13:39:02.302765Z"
    }
   },
   "outputs": [
    {
     "name": "stdout",
     "output_type": "stream",
     "text": [
      "Avg Balanced Accuracy: 0.11 +/- 0.0015\n",
      "Avg Kappa Score: 0.22 +/- 0.0121\n"
     ]
    }
   ],
   "source": [
    "print(f'Avg Balanced Accuracy: {np.round(np.mean(balanced_acc_list), 2)} +/- {np.round(np.std(balanced_acc_list),4)}')\n",
    "print(f'Avg Kappa Score: {np.round(np.mean(kappa_list), 2)} +/- {np.round(np.std(kappa_list), 4)}')"
   ]
  },
  {
   "cell_type": "markdown",
   "id": "dec46b91",
   "metadata": {},
   "source": [
    "# 8.0. Hyper Parameter Tuning\n",
    "\n",
    "Hyper Parameter Tuning will not be considered until the most optimal machine learning model is selected, at this first cycle was considered only one model to complete the cycle and go through for all the major phases to validate the feasibility of the project."
   ]
  },
  {
   "cell_type": "code",
   "execution_count": null,
   "id": "2033ffaa",
   "metadata": {},
   "outputs": [],
   "source": []
  },
  {
   "cell_type": "markdown",
   "id": "caddd600",
   "metadata": {},
   "source": [
    "# 9.0. Error Translation and Interpretation"
   ]
  },
  {
   "cell_type": "markdown",
   "id": "2d632718",
   "metadata": {
    "heading_collapsed": true
   },
   "source": [
    "# 10.0. Deploy Model\n",
    "\n",
    "No models will be deployed yet."
   ]
  },
  {
   "cell_type": "code",
   "execution_count": null,
   "id": "a610263d",
   "metadata": {
    "hidden": true
   },
   "outputs": [],
   "source": []
  }
 ],
 "metadata": {
  "kernelspec": {
   "display_name": "Python 3 (ipykernel)",
   "language": "python",
   "name": "python3"
  },
  "language_info": {
   "codemirror_mode": {
    "name": "ipython",
    "version": 3
   },
   "file_extension": ".py",
   "mimetype": "text/x-python",
   "name": "python",
   "nbconvert_exporter": "python",
   "pygments_lexer": "ipython3",
   "version": "3.8.12"
  },
  "varInspector": {
   "cols": {
    "lenName": 16,
    "lenType": 16,
    "lenVar": 40
   },
   "kernels_config": {
    "python": {
     "delete_cmd_postfix": "",
     "delete_cmd_prefix": "del ",
     "library": "var_list.py",
     "varRefreshCmd": "print(var_dic_list())"
    },
    "r": {
     "delete_cmd_postfix": ") ",
     "delete_cmd_prefix": "rm(",
     "library": "var_list.r",
     "varRefreshCmd": "cat(var_dic_list()) "
    }
   },
   "types_to_exclude": [
    "module",
    "function",
    "builtin_function_or_method",
    "instance",
    "_Feature"
   ],
   "window_display": false
  }
 },
 "nbformat": 4,
 "nbformat_minor": 5
}
