{
 "cells": [
  {
   "cell_type": "markdown",
   "id": "e9da1de2",
   "metadata": {
    "ExecuteTime": {
     "end_time": "2022-02-28T20:43:44.606104Z",
     "start_time": "2022-02-28T20:43:44.598146Z"
    }
   },
   "source": [
    "# 0.0. Imports"
   ]
  },
  {
   "cell_type": "code",
   "execution_count": 1,
   "id": "4a97ff0c",
   "metadata": {
    "ExecuteTime": {
     "end_time": "2022-03-09T00:32:37.028741Z",
     "start_time": "2022-03-09T00:32:25.210142Z"
    }
   },
   "outputs": [],
   "source": [
    "import numpy   as np\n",
    "import pandas  as pd\n",
    "import random\n",
    "import seaborn as sns \n",
    "import warnings\n",
    "\n",
    "from scipy      import stats           as ss\n",
    "from sklearn    import model_selection as ms\n",
    "from sklearn    import preprocessing   as pp\n",
    "from sklearn    import metrics         as m\n",
    "from scikitplot import metrics         as mt\n",
    "\n",
    "from keras import models as ml\n",
    "from keras import layers as l\n",
    "\n",
    "warnings.filterwarnings('ignore')"
   ]
  },
  {
   "cell_type": "markdown",
   "id": "58b2f295",
   "metadata": {},
   "source": [
    "## 0.1. Auxiliar Functions"
   ]
  },
  {
   "cell_type": "code",
   "execution_count": 2,
   "id": "c27e09c1",
   "metadata": {
    "ExecuteTime": {
     "end_time": "2022-03-09T00:32:37.043742Z",
     "start_time": "2022-03-09T00:32:37.031743Z"
    }
   },
   "outputs": [],
   "source": [
    "def cramer_v(x, y):\n",
    "    \n",
    "    cm = pd.crosstab(x, y).values\n",
    "    n = cm.sum()\n",
    "    r, k = cm.shape\n",
    "    \n",
    "    rcorr = r - ((r-1)**2)/(n-1)\n",
    "    \n",
    "    kcorr = k - ((k-1)**2)/(n-1)\n",
    "    \n",
    "    chi2 = ss.chi2_contingency(cm)[0]\n",
    "    chi2corr = max(0, chi2 - (k-1)*(r-1)/(n-1))\n",
    "    \n",
    "    return np.sqrt((chi2corr/n)/(min(kcorr-1, rcorr-1)))"
   ]
  },
  {
   "cell_type": "markdown",
   "id": "04bd4aba",
   "metadata": {},
   "source": [
    "## 0.2. Load Data"
   ]
  },
  {
   "cell_type": "code",
   "execution_count": 3,
   "id": "05c73b56",
   "metadata": {
    "ExecuteTime": {
     "end_time": "2022-03-09T00:32:50.968474Z",
     "start_time": "2022-03-09T00:32:37.050757Z"
    }
   },
   "outputs": [],
   "source": [
    "# load training set of user\n",
    "data_users = pd.read_csv('../Datasets/train_users_2.csv', low_memory=False)\n",
    "\n",
    "# load web sessions log for users\n",
    "data_sessions = pd.read_csv('../Datasets/sessions.csv', low_memory=False)"
   ]
  },
  {
   "cell_type": "markdown",
   "id": "1179dcfc",
   "metadata": {},
   "source": [
    "# 1.0. Data Description"
   ]
  },
  {
   "cell_type": "code",
   "execution_count": 4,
   "id": "a59196b7",
   "metadata": {
    "ExecuteTime": {
     "end_time": "2022-03-09T00:32:51.250458Z",
     "start_time": "2022-03-09T00:32:50.971422Z"
    }
   },
   "outputs": [],
   "source": [
    "df01_users = data_users.copy()\n",
    "\n",
    "df01_sessions = data_sessions.copy()"
   ]
  },
  {
   "cell_type": "markdown",
   "id": "1ccddadb",
   "metadata": {},
   "source": [
    "## 1.1. Data Types"
   ]
  },
  {
   "cell_type": "code",
   "execution_count": 5,
   "id": "fe162f91",
   "metadata": {
    "ExecuteTime": {
     "end_time": "2022-03-09T00:32:51.281446Z",
     "start_time": "2022-03-09T00:32:51.252419Z"
    },
    "cell_style": "split"
   },
   "outputs": [
    {
     "data": {
      "text/plain": [
       "id                          object\n",
       "date_account_created        object\n",
       "timestamp_first_active       int64\n",
       "date_first_booking          object\n",
       "gender                      object\n",
       "age                        float64\n",
       "signup_method               object\n",
       "signup_flow                  int64\n",
       "language                    object\n",
       "affiliate_channel           object\n",
       "affiliate_provider          object\n",
       "first_affiliate_tracked     object\n",
       "signup_app                  object\n",
       "first_device_type           object\n",
       "first_browser               object\n",
       "country_destination         object\n",
       "dtype: object"
      ]
     },
     "execution_count": 5,
     "metadata": {},
     "output_type": "execute_result"
    }
   ],
   "source": [
    "df01_users.dtypes"
   ]
  },
  {
   "cell_type": "code",
   "execution_count": 6,
   "id": "859ee10e",
   "metadata": {
    "ExecuteTime": {
     "end_time": "2022-03-09T00:32:51.297429Z",
     "start_time": "2022-03-09T00:32:51.286420Z"
    },
    "cell_style": "split"
   },
   "outputs": [
    {
     "data": {
      "text/plain": [
       "user_id           object\n",
       "action            object\n",
       "action_type       object\n",
       "action_detail     object\n",
       "device_type       object\n",
       "secs_elapsed     float64\n",
       "dtype: object"
      ]
     },
     "execution_count": 6,
     "metadata": {},
     "output_type": "execute_result"
    }
   ],
   "source": [
    "df01_sessions.dtypes"
   ]
  },
  {
   "cell_type": "markdown",
   "id": "297d0bec",
   "metadata": {
    "cell_style": "center"
   },
   "source": [
    "## 1.2. Data Dimensions"
   ]
  },
  {
   "cell_type": "markdown",
   "id": "c617277e",
   "metadata": {},
   "source": [
    "### 1.2.1. Data Users Dimensions "
   ]
  },
  {
   "cell_type": "code",
   "execution_count": 7,
   "id": "6889bc8e",
   "metadata": {
    "ExecuteTime": {
     "end_time": "2022-03-09T00:32:51.328422Z",
     "start_time": "2022-03-09T00:32:51.304423Z"
    }
   },
   "outputs": [
    {
     "name": "stdout",
     "output_type": "stream",
     "text": [
      "Number of rows of users dataset: 213451\n",
      "Number of columnss of users dataset: 16\n"
     ]
    }
   ],
   "source": [
    "print( f'Number of rows of users dataset: {df01_users.shape[0]}')\n",
    "print( f'Number of columnss of users dataset: {df01_users.shape[1]}')"
   ]
  },
  {
   "cell_type": "markdown",
   "id": "152339da",
   "metadata": {},
   "source": [
    "### 1.2.2. Data Sessions Dimensions\n",
    "\n",
    "This dataset will not be used in this first cycle due to the granularity being action and we want to be user_id for now."
   ]
  },
  {
   "cell_type": "code",
   "execution_count": 8,
   "id": "c1459d2d",
   "metadata": {
    "ExecuteTime": {
     "end_time": "2022-03-09T00:32:51.344421Z",
     "start_time": "2022-03-09T00:32:51.335425Z"
    }
   },
   "outputs": [
    {
     "name": "stdout",
     "output_type": "stream",
     "text": [
      "Number of rows of sessions dataset: 10567737\n",
      "Number of columnss of session dataset: 6\n"
     ]
    }
   ],
   "source": [
    "print( f'Number of rows of sessions dataset: {df01_sessions.shape[0]}')\n",
    "print( f'Number of columnss of session dataset: {df01_sessions.shape[1]}')"
   ]
  },
  {
   "cell_type": "markdown",
   "id": "5ed2d4e7",
   "metadata": {},
   "source": [
    "## 1.3. Check NA"
   ]
  },
  {
   "cell_type": "markdown",
   "id": "3b2018f1",
   "metadata": {},
   "source": [
    "### 1.3.1. Check NA - Data Users"
   ]
  },
  {
   "cell_type": "code",
   "execution_count": 9,
   "id": "49097f87",
   "metadata": {
    "ExecuteTime": {
     "end_time": "2022-03-09T00:32:51.536417Z",
     "start_time": "2022-03-09T00:32:51.355422Z"
    },
    "cell_style": "split"
   },
   "outputs": [
    {
     "data": {
      "text/plain": [
       "id                              0\n",
       "date_account_created            0\n",
       "timestamp_first_active          0\n",
       "date_first_booking         124543\n",
       "gender                          0\n",
       "age                         87990\n",
       "signup_method                   0\n",
       "signup_flow                     0\n",
       "language                        0\n",
       "affiliate_channel               0\n",
       "affiliate_provider              0\n",
       "first_affiliate_tracked      6065\n",
       "signup_app                      0\n",
       "first_device_type               0\n",
       "first_browser                   0\n",
       "country_destination             0\n",
       "dtype: int64"
      ]
     },
     "execution_count": 9,
     "metadata": {},
     "output_type": "execute_result"
    }
   ],
   "source": [
    "df01_users.isna().sum()"
   ]
  },
  {
   "cell_type": "code",
   "execution_count": 10,
   "id": "c559b15b",
   "metadata": {
    "ExecuteTime": {
     "end_time": "2022-03-09T00:32:51.708420Z",
     "start_time": "2022-03-09T00:32:51.539421Z"
    },
    "cell_style": "split"
   },
   "outputs": [
    {
     "data": {
      "text/plain": [
       "id                         0.000000\n",
       "date_account_created       0.000000\n",
       "timestamp_first_active     0.000000\n",
       "date_first_booking         0.583473\n",
       "gender                     0.000000\n",
       "age                        0.412226\n",
       "signup_method              0.000000\n",
       "signup_flow                0.000000\n",
       "language                   0.000000\n",
       "affiliate_channel          0.000000\n",
       "affiliate_provider         0.000000\n",
       "first_affiliate_tracked    0.028414\n",
       "signup_app                 0.000000\n",
       "first_device_type          0.000000\n",
       "first_browser              0.000000\n",
       "country_destination        0.000000\n",
       "dtype: float64"
      ]
     },
     "execution_count": 10,
     "metadata": {},
     "output_type": "execute_result"
    }
   ],
   "source": [
    "df01_users.isna().sum()/df01_users.shape[0]"
   ]
  },
  {
   "cell_type": "markdown",
   "id": "2176ca0f",
   "metadata": {},
   "source": [
    "### 1.3.2. Check NA - Data Sessions"
   ]
  },
  {
   "cell_type": "code",
   "execution_count": 11,
   "id": "09c5347b",
   "metadata": {
    "ExecuteTime": {
     "end_time": "2022-03-09T00:32:53.613420Z",
     "start_time": "2022-03-09T00:32:51.711422Z"
    },
    "cell_style": "split"
   },
   "outputs": [
    {
     "data": {
      "text/plain": [
       "user_id            34496\n",
       "action             79626\n",
       "action_type      1126204\n",
       "action_detail    1126204\n",
       "device_type            0\n",
       "secs_elapsed      136031\n",
       "dtype: int64"
      ]
     },
     "execution_count": 11,
     "metadata": {},
     "output_type": "execute_result"
    }
   ],
   "source": [
    "df01_sessions.isna().sum()"
   ]
  },
  {
   "cell_type": "code",
   "execution_count": 12,
   "id": "55751da3",
   "metadata": {
    "ExecuteTime": {
     "end_time": "2022-03-09T00:32:55.473086Z",
     "start_time": "2022-03-09T00:32:53.616421Z"
    },
    "cell_style": "split"
   },
   "outputs": [
    {
     "data": {
      "text/plain": [
       "user_id          0.003264\n",
       "action           0.007535\n",
       "action_type      0.106570\n",
       "action_detail    0.106570\n",
       "device_type      0.000000\n",
       "secs_elapsed     0.012872\n",
       "dtype: float64"
      ]
     },
     "execution_count": 12,
     "metadata": {},
     "output_type": "execute_result"
    }
   ],
   "source": [
    "df01_sessions.isna().sum()/df01_sessions.shape[0]"
   ]
  },
  {
   "cell_type": "markdown",
   "id": "bd581316",
   "metadata": {},
   "source": [
    "## 1.4. Fillout NA"
   ]
  },
  {
   "cell_type": "markdown",
   "id": "02d2f026",
   "metadata": {},
   "source": [
    "### 1.4.1. Fillout NA - Data Users\n",
    "\n",
    "- **date_first_booking:** the maximum date of the dataset is chosen due to future features considered the space between dates.\n",
    "\n",
    "- **age:** variable age has a normal distribution, so replacing it with with a mean value will not bias the dataset.\n",
    "\n",
    "- **first_affiliate_tracked:** due to the high probability of bias the dataset with categorical data substitution and the low amount of NA datas in this variable, the NA lines will be dropped."
   ]
  },
  {
   "cell_type": "code",
   "execution_count": 13,
   "id": "17027a20",
   "metadata": {
    "ExecuteTime": {
     "end_time": "2022-03-09T00:32:55.615781Z",
     "start_time": "2022-03-09T00:32:55.475492Z"
    }
   },
   "outputs": [],
   "source": [
    "# date_first_booking\n",
    "max_date_first_booking = pd.to_datetime(df01_users['date_first_booking']).max().strftime('%Y-%m-%d')\n",
    "df01_users['date_first_booking'] = df01_users['date_first_booking'].fillna(max_date_first_booking)\n",
    "\n",
    "# age\n",
    "avg_age = int(df01_users['age'].mean())\n",
    "df01_users['age'] = df01_users['age'].fillna(avg_age)\n",
    "\n",
    "# first_affiliate_tracked\n",
    "df01_users = df01_users[~df01_users['first_affiliate_tracked'].isna()]"
   ]
  },
  {
   "cell_type": "code",
   "execution_count": 14,
   "id": "1e6bc1db",
   "metadata": {
    "ExecuteTime": {
     "end_time": "2022-03-09T00:32:55.726789Z",
     "start_time": "2022-03-09T00:32:55.617782Z"
    }
   },
   "outputs": [
    {
     "data": {
      "text/plain": [
       "id                         0.0\n",
       "date_account_created       0.0\n",
       "timestamp_first_active     0.0\n",
       "date_first_booking         0.0\n",
       "gender                     0.0\n",
       "age                        0.0\n",
       "signup_method              0.0\n",
       "signup_flow                0.0\n",
       "language                   0.0\n",
       "affiliate_channel          0.0\n",
       "affiliate_provider         0.0\n",
       "first_affiliate_tracked    0.0\n",
       "signup_app                 0.0\n",
       "first_device_type          0.0\n",
       "first_browser              0.0\n",
       "country_destination        0.0\n",
       "dtype: float64"
      ]
     },
     "execution_count": 14,
     "metadata": {},
     "output_type": "execute_result"
    }
   ],
   "source": [
    "df01_users.isna().sum()/df01_users.shape[0]"
   ]
  },
  {
   "cell_type": "markdown",
   "id": "8375bdfd",
   "metadata": {},
   "source": [
    "### 1.4.2. Fillout NA - Data Sessions\n",
    "\n",
    "Due to a massise amount of data, all NA lines will be dropped."
   ]
  },
  {
   "cell_type": "code",
   "execution_count": 15,
   "id": "97e5f525",
   "metadata": {
    "ExecuteTime": {
     "end_time": "2022-03-09T00:33:01.021080Z",
     "start_time": "2022-03-09T00:32:55.730785Z"
    }
   },
   "outputs": [],
   "source": [
    "# user_id  - 0.003264\n",
    "df01_sessions = df01_sessions[~df01_sessions['user_id'].isna()]\n",
    "\n",
    "# action - 0.007535\n",
    "df01_sessions = df01_sessions[~df01_sessions['action'].isna()]\n",
    "\n",
    "# action_type - 0.106570\n",
    "df01_sessions = df01_sessions[~df01_sessions['action_type'].isna()]\n",
    "\n",
    "# action_detail - 0.106570\n",
    "df01_sessions = df01_sessions[~df01_sessions['action_detail'].isna()]\n",
    "\n",
    "# secs_elapsed - 0.012872\n",
    "df01_sessions = df01_sessions[~df01_sessions['secs_elapsed'].isna()]"
   ]
  },
  {
   "cell_type": "code",
   "execution_count": 16,
   "id": "1b4ae28d",
   "metadata": {
    "ExecuteTime": {
     "end_time": "2022-03-09T00:33:02.595090Z",
     "start_time": "2022-03-09T00:33:01.025091Z"
    }
   },
   "outputs": [
    {
     "data": {
      "text/plain": [
       "user_id          0.0\n",
       "action           0.0\n",
       "action_type      0.0\n",
       "action_detail    0.0\n",
       "device_type      0.0\n",
       "secs_elapsed     0.0\n",
       "dtype: float64"
      ]
     },
     "execution_count": 16,
     "metadata": {},
     "output_type": "execute_result"
    }
   ],
   "source": [
    "df01_sessions.isna().sum()/df01_sessions.shape[0]"
   ]
  },
  {
   "cell_type": "markdown",
   "id": "7076ae4e",
   "metadata": {},
   "source": [
    "## 1.5. Change Data Type"
   ]
  },
  {
   "cell_type": "code",
   "execution_count": 17,
   "id": "793c65b7",
   "metadata": {
    "ExecuteTime": {
     "end_time": "2022-03-09T00:33:02.689052Z",
     "start_time": "2022-03-09T00:33:02.602097Z"
    }
   },
   "outputs": [
    {
     "data": {
      "text/html": [
       "<div>\n",
       "<style scoped>\n",
       "    .dataframe tbody tr th:only-of-type {\n",
       "        vertical-align: middle;\n",
       "    }\n",
       "\n",
       "    .dataframe tbody tr th {\n",
       "        vertical-align: top;\n",
       "    }\n",
       "\n",
       "    .dataframe thead th {\n",
       "        text-align: right;\n",
       "    }\n",
       "</style>\n",
       "<table border=\"1\" class=\"dataframe\">\n",
       "  <thead>\n",
       "    <tr style=\"text-align: right;\">\n",
       "      <th></th>\n",
       "      <th>id</th>\n",
       "      <th>date_account_created</th>\n",
       "      <th>timestamp_first_active</th>\n",
       "      <th>date_first_booking</th>\n",
       "      <th>gender</th>\n",
       "      <th>age</th>\n",
       "      <th>signup_method</th>\n",
       "      <th>signup_flow</th>\n",
       "      <th>language</th>\n",
       "      <th>affiliate_channel</th>\n",
       "      <th>affiliate_provider</th>\n",
       "      <th>first_affiliate_tracked</th>\n",
       "      <th>signup_app</th>\n",
       "      <th>first_device_type</th>\n",
       "      <th>first_browser</th>\n",
       "      <th>country_destination</th>\n",
       "    </tr>\n",
       "  </thead>\n",
       "  <tbody>\n",
       "    <tr>\n",
       "      <th>180734</th>\n",
       "      <td>63htz0m2qh</td>\n",
       "      <td>2014-04-26</td>\n",
       "      <td>20140426065458</td>\n",
       "      <td>2014-04-28</td>\n",
       "      <td>FEMALE</td>\n",
       "      <td>64.0</td>\n",
       "      <td>basic</td>\n",
       "      <td>0</td>\n",
       "      <td>en</td>\n",
       "      <td>direct</td>\n",
       "      <td>direct</td>\n",
       "      <td>untracked</td>\n",
       "      <td>Web</td>\n",
       "      <td>Mac Desktop</td>\n",
       "      <td>Safari</td>\n",
       "      <td>US</td>\n",
       "    </tr>\n",
       "  </tbody>\n",
       "</table>\n",
       "</div>"
      ],
      "text/plain": [
       "                id date_account_created  timestamp_first_active  \\\n",
       "180734  63htz0m2qh           2014-04-26          20140426065458   \n",
       "\n",
       "       date_first_booking  gender   age signup_method  signup_flow language  \\\n",
       "180734         2014-04-28  FEMALE  64.0         basic            0       en   \n",
       "\n",
       "       affiliate_channel affiliate_provider first_affiliate_tracked  \\\n",
       "180734            direct             direct               untracked   \n",
       "\n",
       "       signup_app first_device_type first_browser country_destination  \n",
       "180734        Web       Mac Desktop        Safari                  US  "
      ]
     },
     "execution_count": 17,
     "metadata": {},
     "output_type": "execute_result"
    }
   ],
   "source": [
    "df01_users.sample(1)"
   ]
  },
  {
   "cell_type": "code",
   "execution_count": 18,
   "id": "d76d383f",
   "metadata": {
    "ExecuteTime": {
     "end_time": "2022-03-09T00:33:03.701583Z",
     "start_time": "2022-03-09T00:33:02.692016Z"
    }
   },
   "outputs": [],
   "source": [
    "# change date type\n",
    "df01_users['date_account_created'] = pd.to_datetime(df01_users['date_account_created'])\n",
    "df01_users['date_first_booking'] = pd.to_datetime(df01_users['date_first_booking'])\n",
    "\n",
    "# change datetime type\n",
    "df01_users['timestamp_first_active'] = pd.to_datetime(df01_users['timestamp_first_active'], format='%Y%m%d%H%M%S')\n",
    "\n",
    "# change age to int\n",
    "df01_users['age'] = df01_users['age'].astype(np.int64)"
   ]
  },
  {
   "cell_type": "code",
   "execution_count": 19,
   "id": "505514d3",
   "metadata": {
    "ExecuteTime": {
     "end_time": "2022-03-09T00:33:03.748300Z",
     "start_time": "2022-03-09T00:33:03.704260Z"
    }
   },
   "outputs": [
    {
     "data": {
      "text/html": [
       "<div>\n",
       "<style scoped>\n",
       "    .dataframe tbody tr th:only-of-type {\n",
       "        vertical-align: middle;\n",
       "    }\n",
       "\n",
       "    .dataframe tbody tr th {\n",
       "        vertical-align: top;\n",
       "    }\n",
       "\n",
       "    .dataframe thead th {\n",
       "        text-align: right;\n",
       "    }\n",
       "</style>\n",
       "<table border=\"1\" class=\"dataframe\">\n",
       "  <thead>\n",
       "    <tr style=\"text-align: right;\">\n",
       "      <th></th>\n",
       "      <th>id</th>\n",
       "      <th>date_account_created</th>\n",
       "      <th>timestamp_first_active</th>\n",
       "      <th>date_first_booking</th>\n",
       "      <th>gender</th>\n",
       "      <th>age</th>\n",
       "      <th>signup_method</th>\n",
       "      <th>signup_flow</th>\n",
       "      <th>language</th>\n",
       "      <th>affiliate_channel</th>\n",
       "      <th>affiliate_provider</th>\n",
       "      <th>first_affiliate_tracked</th>\n",
       "      <th>signup_app</th>\n",
       "      <th>first_device_type</th>\n",
       "      <th>first_browser</th>\n",
       "      <th>country_destination</th>\n",
       "    </tr>\n",
       "  </thead>\n",
       "  <tbody>\n",
       "    <tr>\n",
       "      <th>14939</th>\n",
       "      <td>s41as4ioy5</td>\n",
       "      <td>2012-01-08</td>\n",
       "      <td>2012-01-08 18:07:08</td>\n",
       "      <td>2015-06-29</td>\n",
       "      <td>FEMALE</td>\n",
       "      <td>55</td>\n",
       "      <td>basic</td>\n",
       "      <td>3</td>\n",
       "      <td>en</td>\n",
       "      <td>direct</td>\n",
       "      <td>direct</td>\n",
       "      <td>untracked</td>\n",
       "      <td>Web</td>\n",
       "      <td>Mac Desktop</td>\n",
       "      <td>Chrome</td>\n",
       "      <td>NDF</td>\n",
       "    </tr>\n",
       "  </tbody>\n",
       "</table>\n",
       "</div>"
      ],
      "text/plain": [
       "               id date_account_created timestamp_first_active  \\\n",
       "14939  s41as4ioy5           2012-01-08    2012-01-08 18:07:08   \n",
       "\n",
       "      date_first_booking  gender  age signup_method  signup_flow language  \\\n",
       "14939         2015-06-29  FEMALE   55         basic            3       en   \n",
       "\n",
       "      affiliate_channel affiliate_provider first_affiliate_tracked signup_app  \\\n",
       "14939            direct             direct               untracked        Web   \n",
       "\n",
       "      first_device_type first_browser country_destination  \n",
       "14939       Mac Desktop        Chrome                 NDF  "
      ]
     },
     "execution_count": 19,
     "metadata": {},
     "output_type": "execute_result"
    }
   ],
   "source": [
    "df01_users.sample(1)"
   ]
  },
  {
   "cell_type": "code",
   "execution_count": 20,
   "id": "e7b73c50",
   "metadata": {
    "ExecuteTime": {
     "end_time": "2022-03-09T00:33:03.764263Z",
     "start_time": "2022-03-09T00:33:03.751268Z"
    }
   },
   "outputs": [
    {
     "data": {
      "text/plain": [
       "id                                 object\n",
       "date_account_created       datetime64[ns]\n",
       "timestamp_first_active     datetime64[ns]\n",
       "date_first_booking         datetime64[ns]\n",
       "gender                             object\n",
       "age                                 int64\n",
       "signup_method                      object\n",
       "signup_flow                         int64\n",
       "language                           object\n",
       "affiliate_channel                  object\n",
       "affiliate_provider                 object\n",
       "first_affiliate_tracked            object\n",
       "signup_app                         object\n",
       "first_device_type                  object\n",
       "first_browser                      object\n",
       "country_destination                object\n",
       "dtype: object"
      ]
     },
     "execution_count": 20,
     "metadata": {},
     "output_type": "execute_result"
    }
   ],
   "source": [
    "df01_users.dtypes"
   ]
  },
  {
   "cell_type": "markdown",
   "id": "b4774540",
   "metadata": {},
   "source": [
    "## 1.6. Check Balanced Data\n",
    "\n",
    "Data with an unbalance of 70% for the US class."
   ]
  },
  {
   "cell_type": "code",
   "execution_count": 21,
   "id": "8f5cdc46",
   "metadata": {
    "ExecuteTime": {
     "end_time": "2022-03-09T00:33:03.811262Z",
     "start_time": "2022-03-09T00:33:03.768263Z"
    }
   },
   "outputs": [
    {
     "data": {
      "text/plain": [
       "NDF      0.579673\n",
       "US       0.294461\n",
       "other    0.048128\n",
       "FR       0.023623\n",
       "IT       0.013458\n",
       "GB       0.011066\n",
       "ES       0.010671\n",
       "CA       0.006707\n",
       "DE       0.005020\n",
       "NL       0.003621\n",
       "AU       0.002541\n",
       "PT       0.001032\n",
       "Name: country_destination, dtype: float64"
      ]
     },
     "execution_count": 21,
     "metadata": {},
     "output_type": "execute_result"
    }
   ],
   "source": [
    "df01_users['country_destination'].value_counts(normalize=True)"
   ]
  },
  {
   "cell_type": "markdown",
   "id": "6205e893",
   "metadata": {},
   "source": [
    "## 1.7. Descriptive Analysis"
   ]
  },
  {
   "cell_type": "code",
   "execution_count": 22,
   "id": "9432fc37",
   "metadata": {
    "ExecuteTime": {
     "end_time": "2022-03-09T00:33:04.255362Z",
     "start_time": "2022-03-09T00:33:03.819261Z"
    }
   },
   "outputs": [],
   "source": [
    "# split data users in types dataframes\n",
    "num_attributes_users = df01_users.select_dtypes(include=['int64', 'float64'])\n",
    "cat_attributes_users = df01_users.select_dtypes(exclude=['int64', 'float64', 'datetime64[ns]'])\n",
    "time_attributes_users = df01_users.select_dtypes(include=['datetime64[ns]'])\n",
    "\n",
    "# split data sessions in types dataframes\n",
    "num_attributes_sessions = df01_sessions.select_dtypes(include=['int64', 'float64'])\n",
    "cat_attributes_sessions = df01_sessions.select_dtypes(exclude=['int64', 'float64', 'datetime64[ns]'])\n",
    "time_attributes_sessions = df01_sessions.select_dtypes(include=['datetime64[ns]'])"
   ]
  },
  {
   "cell_type": "markdown",
   "id": "979e6980",
   "metadata": {},
   "source": [
    "### 1.7.1. Numerical - Data Users"
   ]
  },
  {
   "cell_type": "code",
   "execution_count": 23,
   "id": "5f5df40e",
   "metadata": {
    "ExecuteTime": {
     "end_time": "2022-03-09T00:33:04.413956Z",
     "start_time": "2022-03-09T00:33:04.258300Z"
    }
   },
   "outputs": [
    {
     "data": {
      "text/html": [
       "<div>\n",
       "<style scoped>\n",
       "    .dataframe tbody tr th:only-of-type {\n",
       "        vertical-align: middle;\n",
       "    }\n",
       "\n",
       "    .dataframe tbody tr th {\n",
       "        vertical-align: top;\n",
       "    }\n",
       "\n",
       "    .dataframe thead th {\n",
       "        text-align: right;\n",
       "    }\n",
       "</style>\n",
       "<table border=\"1\" class=\"dataframe\">\n",
       "  <thead>\n",
       "    <tr style=\"text-align: right;\">\n",
       "      <th></th>\n",
       "      <th>attributes</th>\n",
       "      <th>max</th>\n",
       "      <th>min</th>\n",
       "      <th>range</th>\n",
       "      <th>mean</th>\n",
       "      <th>median</th>\n",
       "      <th>std</th>\n",
       "      <th>skew</th>\n",
       "      <th>kurtosis</th>\n",
       "    </tr>\n",
       "  </thead>\n",
       "  <tbody>\n",
       "    <tr>\n",
       "      <th>0</th>\n",
       "      <td>age</td>\n",
       "      <td>2014</td>\n",
       "      <td>1</td>\n",
       "      <td>2013</td>\n",
       "      <td>49.183142</td>\n",
       "      <td>49.0</td>\n",
       "      <td>118.421689</td>\n",
       "      <td>16.333820</td>\n",
       "      <td>267.655434</td>\n",
       "    </tr>\n",
       "    <tr>\n",
       "      <th>1</th>\n",
       "      <td>signup_flow</td>\n",
       "      <td>25</td>\n",
       "      <td>0</td>\n",
       "      <td>25</td>\n",
       "      <td>3.151490</td>\n",
       "      <td>0.0</td>\n",
       "      <td>7.543915</td>\n",
       "      <td>2.287158</td>\n",
       "      <td>3.567794</td>\n",
       "    </tr>\n",
       "  </tbody>\n",
       "</table>\n",
       "</div>"
      ],
      "text/plain": [
       "    attributes   max  min  range       mean  median         std       skew  \\\n",
       "0          age  2014    1   2013  49.183142    49.0  118.421689  16.333820   \n",
       "1  signup_flow    25    0     25   3.151490     0.0    7.543915   2.287158   \n",
       "\n",
       "     kurtosis  \n",
       "0  267.655434  \n",
       "1    3.567794  "
      ]
     },
     "execution_count": 23,
     "metadata": {},
     "output_type": "execute_result"
    }
   ],
   "source": [
    "# tendency central - mean and median\n",
    "mean_users = pd.DataFrame(num_attributes_users.apply(lambda x: np.mean(x)))\n",
    "median_users = pd.DataFrame(num_attributes_users.apply(lambda x: np.median(x)))\n",
    "\n",
    "# dispersions - max, min, range, std, skew and kurtosis\n",
    "max_users = pd.DataFrame(num_attributes_users.apply(lambda x: x.max()))\n",
    "min_users = pd.DataFrame(num_attributes_users.apply(lambda x: x.min()))\n",
    "range_users = pd.DataFrame(num_attributes_users.apply(lambda x: x.max() - x.min()))\n",
    "std_users = pd.DataFrame(num_attributes_users.apply(lambda x: np.std(x)))\n",
    "skew_users = pd.DataFrame(num_attributes_users.apply(lambda x: x.skew()))\n",
    "kurtosis_users = pd.DataFrame(num_attributes_users.apply(lambda x: x.kurtosis()))\n",
    "\n",
    "# join tendency central and dispersion dataframe\n",
    "num_stats_users = pd.concat([max_users, min_users, range_users, mean_users, \n",
    "                             median_users, std_users, skew_users, kurtosis_users], axis=1).reset_index()\n",
    "num_stats_users.columns = ['attributes', 'max', 'min', 'range', 'mean', 'median', 'std', 'skew', 'kurtosis']\n",
    "\n",
    "num_stats_users"
   ]
  },
  {
   "cell_type": "markdown",
   "id": "3d05202c",
   "metadata": {},
   "source": [
    "### 1.7.2. Numerical - Data Sessions"
   ]
  },
  {
   "cell_type": "code",
   "execution_count": 24,
   "id": "d39cc8dc",
   "metadata": {
    "ExecuteTime": {
     "end_time": "2022-03-09T00:33:05.506952Z",
     "start_time": "2022-03-09T00:33:04.418959Z"
    }
   },
   "outputs": [
    {
     "data": {
      "text/html": [
       "<div>\n",
       "<style scoped>\n",
       "    .dataframe tbody tr th:only-of-type {\n",
       "        vertical-align: middle;\n",
       "    }\n",
       "\n",
       "    .dataframe tbody tr th {\n",
       "        vertical-align: top;\n",
       "    }\n",
       "\n",
       "    .dataframe thead th {\n",
       "        text-align: right;\n",
       "    }\n",
       "</style>\n",
       "<table border=\"1\" class=\"dataframe\">\n",
       "  <thead>\n",
       "    <tr style=\"text-align: right;\">\n",
       "      <th></th>\n",
       "      <th>attributes</th>\n",
       "      <th>max</th>\n",
       "      <th>min</th>\n",
       "      <th>range</th>\n",
       "      <th>mean</th>\n",
       "      <th>median</th>\n",
       "      <th>std</th>\n",
       "      <th>skew</th>\n",
       "      <th>kurtosis</th>\n",
       "    </tr>\n",
       "  </thead>\n",
       "  <tbody>\n",
       "    <tr>\n",
       "      <th>0</th>\n",
       "      <td>secs_elapsed</td>\n",
       "      <td>1799977.0</td>\n",
       "      <td>0.0</td>\n",
       "      <td>1799977.0</td>\n",
       "      <td>19961.8251</td>\n",
       "      <td>1369.0</td>\n",
       "      <td>88849.388449</td>\n",
       "      <td>11.137761</td>\n",
       "      <td>154.84312</td>\n",
       "    </tr>\n",
       "  </tbody>\n",
       "</table>\n",
       "</div>"
      ],
      "text/plain": [
       "     attributes        max  min      range        mean  median           std  \\\n",
       "0  secs_elapsed  1799977.0  0.0  1799977.0  19961.8251  1369.0  88849.388449   \n",
       "\n",
       "        skew   kurtosis  \n",
       "0  11.137761  154.84312  "
      ]
     },
     "execution_count": 24,
     "metadata": {},
     "output_type": "execute_result"
    }
   ],
   "source": [
    "# tendency central - mean and median\n",
    "mean_sessions = pd.DataFrame(num_attributes_sessions.apply(lambda x: np.mean(x)))\n",
    "median_sessions = pd.DataFrame(num_attributes_sessions.apply(lambda x: np.median(x)))\n",
    "\n",
    "# dispersions - max, min, range, std, skew and kurtosis\n",
    "max_sessions = pd.DataFrame(num_attributes_sessions.apply(lambda x: x.max()))\n",
    "min_sessions = pd.DataFrame(num_attributes_sessions.apply(lambda x: x.min()))\n",
    "range_sessions = pd.DataFrame(num_attributes_sessions.apply(lambda x: x.max() - x.min()))\n",
    "std_sessions = pd.DataFrame(num_attributes_sessions.apply(lambda x: np.std(x)))\n",
    "skew_sessions = pd.DataFrame(num_attributes_sessions.apply(lambda x: x.skew()))\n",
    "kurtosis_sessions = pd.DataFrame(num_attributes_sessions.apply(lambda x: x.kurtosis()))\n",
    "\n",
    "# join tendency central and dispersion dataframe\n",
    "num_stats_sessions = pd.concat([max_sessions, min_sessions, range_sessions, mean_sessions, \n",
    "                             median_sessions, std_sessions, skew_sessions, kurtosis_sessions], axis=1).reset_index()\n",
    "num_stats_sessions.columns = ['attributes', 'max', 'min', 'range', 'mean', 'median', 'std', 'skew', 'kurtosis']\n",
    "\n",
    "num_stats_sessions"
   ]
  },
  {
   "cell_type": "markdown",
   "id": "9b67a7f3",
   "metadata": {},
   "source": [
    "### 1.7.3. Categorical - Data Users"
   ]
  },
  {
   "cell_type": "code",
   "execution_count": 25,
   "id": "395e6984",
   "metadata": {
    "ExecuteTime": {
     "end_time": "2022-03-09T00:33:05.950952Z",
     "start_time": "2022-03-09T00:33:05.509956Z"
    }
   },
   "outputs": [
    {
     "data": {
      "text/html": [
       "<div>\n",
       "<style scoped>\n",
       "    .dataframe tbody tr th:only-of-type {\n",
       "        vertical-align: middle;\n",
       "    }\n",
       "\n",
       "    .dataframe tbody tr th {\n",
       "        vertical-align: top;\n",
       "    }\n",
       "\n",
       "    .dataframe thead th {\n",
       "        text-align: right;\n",
       "    }\n",
       "</style>\n",
       "<table border=\"1\" class=\"dataframe\">\n",
       "  <thead>\n",
       "    <tr style=\"text-align: right;\">\n",
       "      <th></th>\n",
       "      <th>gender</th>\n",
       "      <th>signup_method</th>\n",
       "      <th>language</th>\n",
       "      <th>affiliate_channel</th>\n",
       "      <th>affiliate_provider</th>\n",
       "      <th>first_affiliate_tracked</th>\n",
       "      <th>signup_app</th>\n",
       "      <th>first_device_type</th>\n",
       "      <th>first_browser</th>\n",
       "      <th>country_destination</th>\n",
       "    </tr>\n",
       "  </thead>\n",
       "  <tbody>\n",
       "    <tr>\n",
       "      <th>count</th>\n",
       "      <td>207386</td>\n",
       "      <td>207386</td>\n",
       "      <td>207386</td>\n",
       "      <td>207386</td>\n",
       "      <td>207386</td>\n",
       "      <td>207386</td>\n",
       "      <td>207386</td>\n",
       "      <td>207386</td>\n",
       "      <td>207386</td>\n",
       "      <td>207386</td>\n",
       "    </tr>\n",
       "    <tr>\n",
       "      <th>unique</th>\n",
       "      <td>4</td>\n",
       "      <td>3</td>\n",
       "      <td>25</td>\n",
       "      <td>8</td>\n",
       "      <td>18</td>\n",
       "      <td>7</td>\n",
       "      <td>4</td>\n",
       "      <td>9</td>\n",
       "      <td>52</td>\n",
       "      <td>12</td>\n",
       "    </tr>\n",
       "    <tr>\n",
       "      <th>top</th>\n",
       "      <td>-unknown-</td>\n",
       "      <td>basic</td>\n",
       "      <td>en</td>\n",
       "      <td>direct</td>\n",
       "      <td>direct</td>\n",
       "      <td>untracked</td>\n",
       "      <td>Web</td>\n",
       "      <td>Mac Desktop</td>\n",
       "      <td>Chrome</td>\n",
       "      <td>NDF</td>\n",
       "    </tr>\n",
       "    <tr>\n",
       "      <th>freq</th>\n",
       "      <td>91783</td>\n",
       "      <td>148297</td>\n",
       "      <td>200415</td>\n",
       "      <td>134179</td>\n",
       "      <td>133935</td>\n",
       "      <td>109232</td>\n",
       "      <td>178334</td>\n",
       "      <td>89600</td>\n",
       "      <td>63845</td>\n",
       "      <td>120216</td>\n",
       "    </tr>\n",
       "  </tbody>\n",
       "</table>\n",
       "</div>"
      ],
      "text/plain": [
       "           gender signup_method language affiliate_channel affiliate_provider  \\\n",
       "count      207386        207386   207386            207386             207386   \n",
       "unique          4             3       25                 8                 18   \n",
       "top     -unknown-         basic       en            direct             direct   \n",
       "freq        91783        148297   200415            134179             133935   \n",
       "\n",
       "       first_affiliate_tracked signup_app first_device_type first_browser  \\\n",
       "count                   207386     207386            207386        207386   \n",
       "unique                       7          4                 9            52   \n",
       "top                  untracked        Web       Mac Desktop        Chrome   \n",
       "freq                    109232     178334             89600         63845   \n",
       "\n",
       "       country_destination  \n",
       "count               207386  \n",
       "unique                  12  \n",
       "top                    NDF  \n",
       "freq                120216  "
      ]
     },
     "execution_count": 25,
     "metadata": {},
     "output_type": "execute_result"
    }
   ],
   "source": [
    "cat_attributes_users.drop('id', axis=1).describe()"
   ]
  },
  {
   "cell_type": "markdown",
   "id": "f3c35b1f",
   "metadata": {},
   "source": [
    "#### 1.7.3.1. Correlation Matrix"
   ]
  },
  {
   "cell_type": "code",
   "execution_count": 26,
   "id": "63c73477",
   "metadata": {
    "ExecuteTime": {
     "end_time": "2022-03-09T00:33:13.248413Z",
     "start_time": "2022-03-09T00:33:05.953959Z"
    }
   },
   "outputs": [
    {
     "data": {
      "image/png": "[encoded data removed]",
      "text/plain": [
       "<Figure size 432x288 with 2 Axes>"
      ]
     },
     "metadata": {
      "needs_background": "light"
     },
     "output_type": "display_data"
    }
   ],
   "source": [
    "cat_attributes_users_columns = cat_attributes_users.drop('id', axis=1).columns.tolist()\n",
    "\n",
    "corr_dict = {}\n",
    "\n",
    "for main_column in cat_attributes_users_columns:\n",
    "    corr_list = []\n",
    "    \n",
    "    for secondary_column in cat_attributes_users_columns:\n",
    "        # cramer v\n",
    "        cat_corr = cramer_v( cat_attributes_users[main_column], cat_attributes_users[secondary_column] )\n",
    "        \n",
    "        # add to list\n",
    "        corr_list.append(cat_corr)\n",
    "    \n",
    "    # add to dict each attribute correlation \n",
    "    corr_dict[main_column] = corr_list\n",
    "\n",
    "df_corr_users = pd.DataFrame(corr_dict)\n",
    "df_corr_users = df_corr_users.set_index(df_corr_users.columns)\n",
    "sns.heatmap(df_corr_users, annot=True);"
   ]
  },
  {
   "cell_type": "markdown",
   "id": "ceb160dd",
   "metadata": {
    "ExecuteTime": {
     "end_time": "2022-03-02T14:41:15.919764Z",
     "start_time": "2022-03-02T14:41:15.909769Z"
    }
   },
   "source": [
    "### 1.7.4. Categorical - Data Sessions"
   ]
  },
  {
   "cell_type": "code",
   "execution_count": 27,
   "id": "745db2d3",
   "metadata": {
    "ExecuteTime": {
     "end_time": "2022-03-09T00:33:17.607468Z",
     "start_time": "2022-03-09T00:33:13.260376Z"
    },
    "scrolled": false
   },
   "outputs": [
    {
     "data": {
      "text/html": [
       "<div>\n",
       "<style scoped>\n",
       "    .dataframe tbody tr th:only-of-type {\n",
       "        vertical-align: middle;\n",
       "    }\n",
       "\n",
       "    .dataframe tbody tr th {\n",
       "        vertical-align: top;\n",
       "    }\n",
       "\n",
       "    .dataframe thead th {\n",
       "        text-align: right;\n",
       "    }\n",
       "</style>\n",
       "<table border=\"1\" class=\"dataframe\">\n",
       "  <thead>\n",
       "    <tr style=\"text-align: right;\">\n",
       "      <th></th>\n",
       "      <th>action</th>\n",
       "      <th>action_type</th>\n",
       "      <th>action_detail</th>\n",
       "      <th>device_type</th>\n",
       "    </tr>\n",
       "  </thead>\n",
       "  <tbody>\n",
       "    <tr>\n",
       "      <th>count</th>\n",
       "      <td>9213930</td>\n",
       "      <td>9213930</td>\n",
       "      <td>9213930</td>\n",
       "      <td>9213930</td>\n",
       "    </tr>\n",
       "    <tr>\n",
       "      <th>unique</th>\n",
       "      <td>347</td>\n",
       "      <td>10</td>\n",
       "      <td>155</td>\n",
       "      <td>14</td>\n",
       "    </tr>\n",
       "    <tr>\n",
       "      <th>top</th>\n",
       "      <td>show</td>\n",
       "      <td>view</td>\n",
       "      <td>view_search_results</td>\n",
       "      <td>Mac Desktop</td>\n",
       "    </tr>\n",
       "    <tr>\n",
       "      <th>freq</th>\n",
       "      <td>2178382</td>\n",
       "      <td>3545621</td>\n",
       "      <td>1770931</td>\n",
       "      <td>3019523</td>\n",
       "    </tr>\n",
       "  </tbody>\n",
       "</table>\n",
       "</div>"
      ],
      "text/plain": [
       "         action action_type        action_detail  device_type\n",
       "count   9213930     9213930              9213930      9213930\n",
       "unique      347          10                  155           14\n",
       "top        show        view  view_search_results  Mac Desktop\n",
       "freq    2178382     3545621              1770931      3019523"
      ]
     },
     "execution_count": 27,
     "metadata": {},
     "output_type": "execute_result"
    }
   ],
   "source": [
    "cat_attributes_sessions.drop('user_id', axis=1).describe()"
   ]
  },
  {
   "cell_type": "markdown",
   "id": "8e328578",
   "metadata": {},
   "source": [
    "#### 1.7.4.1. Correlation Matrix"
   ]
  },
  {
   "cell_type": "code",
   "execution_count": 28,
   "id": "86b19e0d",
   "metadata": {
    "ExecuteTime": {
     "end_time": "2022-03-09T00:33:54.630938Z",
     "start_time": "2022-03-09T00:33:17.610432Z"
    }
   },
   "outputs": [
    {
     "data": {
      "image/png": "[encoded data removed]",
      "text/plain": [
       "<Figure size 432x288 with 2 Axes>"
      ]
     },
     "metadata": {
      "needs_background": "light"
     },
     "output_type": "display_data"
    }
   ],
   "source": [
    "cat_attributes_sessions_columns = cat_attributes_sessions.drop('user_id', axis=1).columns.tolist()\n",
    "\n",
    "corr_dict = {}\n",
    "\n",
    "for main_column in cat_attributes_sessions_columns:\n",
    "    corr_list = []\n",
    "    \n",
    "    for secondary_column in cat_attributes_sessions_columns:\n",
    "        # cramer v\n",
    "        cat_corr = cramer_v( cat_attributes_sessions[main_column], cat_attributes_sessions[secondary_column] )\n",
    "        \n",
    "        # add to list\n",
    "        corr_list.append(cat_corr)\n",
    "    \n",
    "    # add to dict each attribute correlation \n",
    "    corr_dict[main_column] = corr_list\n",
    "\n",
    "df_corr_sessions = pd.DataFrame(corr_dict)\n",
    "df_corr_sessions = df_corr_sessions.set_index(df_corr_sessions.columns)\n",
    "sns.heatmap(df_corr_sessions, annot=True);"
   ]
  },
  {
   "cell_type": "markdown",
   "id": "bbe57720",
   "metadata": {},
   "source": [
    "# 2.0. Feature Engineering"
   ]
  },
  {
   "cell_type": "code",
   "execution_count": 29,
   "id": "f64c4deb",
   "metadata": {
    "ExecuteTime": {
     "end_time": "2022-03-09T00:33:54.662930Z",
     "start_time": "2022-03-09T00:33:54.633931Z"
    }
   },
   "outputs": [],
   "source": [
    "df02_users = df01_users.copy()"
   ]
  },
  {
   "cell_type": "markdown",
   "id": "aaff3d14",
   "metadata": {},
   "source": [
    "## 2.1. Create Gap Between Dates Features"
   ]
  },
  {
   "cell_type": "code",
   "execution_count": 30,
   "id": "bd3f47d3",
   "metadata": {
    "ExecuteTime": {
     "end_time": "2022-03-09T00:34:02.787569Z",
     "start_time": "2022-03-09T00:33:54.666941Z"
    }
   },
   "outputs": [],
   "source": [
    "# date of first active\n",
    "df02_users['date_first_active'] = pd.to_datetime(df02_users['timestamp_first_active'].dt.strftime(\"%Y-%m-%d\"))\n",
    "\n",
    "# difference in days between date_account_created and date_first_active\n",
    "df02_users['diff_account_created_first_active'] = (df02_users['date_account_created'] - df02_users['date_first_active']).apply(lambda x: x.days)\n",
    "\n",
    "# difference in days between date_account_created and date_first_booking\n",
    "df02_users['diff_first_booking_account_created'] = (df02_users['date_first_booking'] - df02_users['date_account_created']).apply(lambda x: x.days)\n",
    "\n",
    "# difference in days between date_first_active and date_first_booking\n",
    "df02_users['diff_first_active_first_booking'] = (df02_users['date_first_booking'] - df02_users['date_first_active']).apply(lambda x: x.days)"
   ]
  },
  {
   "cell_type": "markdown",
   "id": "982365d3",
   "metadata": {
    "ExecuteTime": {
     "end_time": "2022-03-02T15:58:55.212964Z",
     "start_time": "2022-03-02T15:58:55.204965Z"
    }
   },
   "source": [
    "## 2.2. Create Date Features"
   ]
  },
  {
   "cell_type": "markdown",
   "id": "1513d5b8",
   "metadata": {},
   "source": [
    "### 2.2.1. Account Created"
   ]
  },
  {
   "cell_type": "code",
   "execution_count": 31,
   "id": "9542ac6e",
   "metadata": {
    "ExecuteTime": {
     "end_time": "2022-03-09T00:34:02.915032Z",
     "start_time": "2022-03-09T00:34:02.790290Z"
    }
   },
   "outputs": [],
   "source": [
    "# year\n",
    "df02_users['year_account_created'] = df02_users['date_account_created'].dt.year\n",
    "\n",
    "# month\n",
    "df02_users['month_account_created'] = df02_users['date_account_created'].dt.month\n",
    "\n",
    "# day\n",
    "df02_users['day_account_created'] = df02_users['date_account_created'].dt.day\n",
    "\n",
    "# day of week\n",
    "df02_users['dayofweek_account_created'] = df02_users['date_account_created'].dt.dayofweek\n",
    "\n",
    "# week of year\n",
    "df02_users['weekofyear_account_created'] = df02_users['date_account_created'].dt.weekofyear"
   ]
  },
  {
   "cell_type": "markdown",
   "id": "f2376c9c",
   "metadata": {},
   "source": [
    "### 2.2.2. First Active"
   ]
  },
  {
   "cell_type": "code",
   "execution_count": 32,
   "id": "5afd37f4",
   "metadata": {
    "ExecuteTime": {
     "end_time": "2022-03-09T00:34:03.024109Z",
     "start_time": "2022-03-09T00:34:02.917773Z"
    }
   },
   "outputs": [],
   "source": [
    "# year\n",
    "df02_users['year_first_active'] = df02_users['date_first_active'].dt.year\n",
    "\n",
    "# month\n",
    "df02_users['month_first_active'] = df02_users['date_first_active'].dt.month\n",
    "\n",
    "# day\n",
    "df02_users['day_first_active'] = df02_users['date_first_active'].dt.day\n",
    "\n",
    "# day of week\n",
    "df02_users['dayofweek_first_active'] = df02_users['date_first_active'].dt.dayofweek\n",
    "\n",
    "# week of year\n",
    "df02_users['weekofyear_first_active'] = df02_users['date_first_active'].dt.weekofyear"
   ]
  },
  {
   "cell_type": "markdown",
   "id": "4d9a2527",
   "metadata": {},
   "source": [
    "### 2.2.3. First Booking"
   ]
  },
  {
   "cell_type": "code",
   "execution_count": 33,
   "id": "e814f8e3",
   "metadata": {
    "ExecuteTime": {
     "end_time": "2022-03-09T00:34:03.149166Z",
     "start_time": "2022-03-09T00:34:03.027754Z"
    }
   },
   "outputs": [],
   "source": [
    "# year\n",
    "df02_users['year_first_booking'] = df02_users['date_first_booking'].dt.year\n",
    "\n",
    "# month\n",
    "df02_users['month_first_booking'] = df02_users['date_first_booking'].dt.month\n",
    "\n",
    "# day\n",
    "df02_users['day_first_booking'] = df02_users['date_first_booking'].dt.day\n",
    "\n",
    "# day of week\n",
    "df02_users['dayofweek_first_booking'] = df02_users['date_first_booking'].dt.dayofweek\n",
    "\n",
    "# week of year\n",
    "df02_users['weekofyear_first_booking'] = df02_users['date_first_booking'].dt.weekofyear"
   ]
  },
  {
   "cell_type": "markdown",
   "id": "b0f5b037",
   "metadata": {},
   "source": [
    "# 3.0. Data Filtering\n",
    "\n",
    "To increase time, the Data Filtering stage will be skipped in this first cycle."
   ]
  },
  {
   "cell_type": "code",
   "execution_count": 34,
   "id": "26b87f66",
   "metadata": {
    "ExecuteTime": {
     "end_time": "2022-03-09T00:34:03.195915Z",
     "start_time": "2022-03-09T00:34:03.152750Z"
    }
   },
   "outputs": [],
   "source": [
    "df03_users = df02_users.copy()"
   ]
  },
  {
   "cell_type": "markdown",
   "id": "80d07e8f",
   "metadata": {},
   "source": [
    "## 3.1. Filtering Rows"
   ]
  },
  {
   "cell_type": "code",
   "execution_count": 35,
   "id": "21f479f8",
   "metadata": {
    "ExecuteTime": {
     "end_time": "2022-03-09T00:34:03.338001Z",
     "start_time": "2022-03-09T00:34:03.198757Z"
    }
   },
   "outputs": [],
   "source": [
    "# age - greater than 15 and lower than 120 - There are few people over 120 years old ( Could be error from system or manual imput - Cleaning noise)\n",
    "df03_users = df03_users[(df03_users['age'] > 15) & (df03_users['age'] < 120)]\n",
    "\n",
    "# secs_elapsed - there is no possible 0 secs elapesed on website\n",
    "#df03_sessions = df03_sessions[df03_sessions['secs_elapsed'] > 0]"
   ]
  },
  {
   "cell_type": "markdown",
   "id": "d9303a1b",
   "metadata": {},
   "source": [
    "## 3.2. Columns Selection"
   ]
  },
  {
   "cell_type": "code",
   "execution_count": 36,
   "id": "60df59fd",
   "metadata": {
    "ExecuteTime": {
     "end_time": "2022-03-09T00:34:03.401000Z",
     "start_time": "2022-03-09T00:34:03.340750Z"
    }
   },
   "outputs": [],
   "source": [
    "# columns used to feature enginnering\n",
    "cols_date =['timestamp_first_active',\n",
    "            'date_first_active',\n",
    "            'date_account_created',\n",
    "            'date_first_booking']\n",
    "\n",
    "df03_users = df03_users.drop(columns=cols_date)"
   ]
  },
  {
   "cell_type": "markdown",
   "id": "20d1ff53",
   "metadata": {},
   "source": [
    "# 4.0. Data Exploratory Analysis\n",
    "\n",
    "To increase time, the EDA stage will be skipped in this first cycle."
   ]
  },
  {
   "cell_type": "code",
   "execution_count": 37,
   "id": "c5e9da71",
   "metadata": {
    "ExecuteTime": {
     "end_time": "2022-03-09T00:34:03.510404Z",
     "start_time": "2022-03-09T00:34:03.403774Z"
    }
   },
   "outputs": [],
   "source": [
    "df04_users = df03_users.copy()"
   ]
  },
  {
   "cell_type": "markdown",
   "id": "868b4156",
   "metadata": {},
   "source": [
    "# 5.0. Data Preparation"
   ]
  },
  {
   "cell_type": "code",
   "execution_count": 38,
   "id": "5fcd8687",
   "metadata": {
    "ExecuteTime": {
     "end_time": "2022-03-09T00:34:03.557021Z",
     "start_time": "2022-03-09T00:34:03.513403Z"
    }
   },
   "outputs": [],
   "source": [
    "df05_users = df04_users.copy()"
   ]
  },
  {
   "cell_type": "code",
   "execution_count": 39,
   "id": "53e5ef72",
   "metadata": {
    "ExecuteTime": {
     "end_time": "2022-03-09T00:34:03.995755Z",
     "start_time": "2022-03-09T00:34:03.561756Z"
    }
   },
   "outputs": [],
   "source": [
    "# dummy variable\n",
    "df05_users_dummy = pd.get_dummies(df05_users.drop(['id', 'country_destination'], axis=1))\n",
    "\n",
    "# join id and country destination\n",
    "df05_users = pd.concat( [df05_users[['id', 'country_destination']], df05_users_dummy], axis=1 )"
   ]
  },
  {
   "cell_type": "markdown",
   "id": "56417dc6",
   "metadata": {},
   "source": [
    "# 6.0. Feature Selection"
   ]
  },
  {
   "cell_type": "code",
   "execution_count": 40,
   "id": "924a6eec",
   "metadata": {
    "ExecuteTime": {
     "end_time": "2022-03-09T00:34:04.043751Z",
     "start_time": "2022-03-09T00:34:03.998751Z"
    }
   },
   "outputs": [],
   "source": [
    "df06_users = df05_users.copy()"
   ]
  },
  {
   "cell_type": "code",
   "execution_count": 41,
   "id": "c4bc27ff",
   "metadata": {
    "ExecuteTime": {
     "end_time": "2022-03-09T00:34:04.152747Z",
     "start_time": "2022-03-09T00:34:04.047751Z"
    }
   },
   "outputs": [],
   "source": [
    "# training dataset\n",
    "X = df06_users.drop( 'country_destination', axis=1 )\n",
    "\n",
    "#  training response dataset\n",
    "y = df06_users['country_destination']"
   ]
  },
  {
   "cell_type": "code",
   "execution_count": 42,
   "id": "2526e910",
   "metadata": {
    "ExecuteTime": {
     "end_time": "2022-03-09T00:34:04.312769Z",
     "start_time": "2022-03-09T00:34:04.154752Z"
    }
   },
   "outputs": [],
   "source": [
    "# Split dataset into training and test (validation)\n",
    "X_train, X_test, y_train, y_test = ms.train_test_split(X, y, test_size=0.2, random_state=32)"
   ]
  },
  {
   "cell_type": "markdown",
   "id": "c9ee0881",
   "metadata": {},
   "source": [
    "# 7.0. Machine Learing Model"
   ]
  },
  {
   "cell_type": "code",
   "execution_count": 43,
   "id": "b9dfd8fe",
   "metadata": {
    "ExecuteTime": {
     "end_time": "2022-03-09T00:34:04.376752Z",
     "start_time": "2022-03-09T00:34:04.314750Z"
    }
   },
   "outputs": [],
   "source": [
    "x_train = X_train.drop('id', axis=1)\n",
    "x_test = X_test.drop('id', axis=1)"
   ]
  },
  {
   "cell_type": "markdown",
   "id": "b3107f01",
   "metadata": {},
   "source": [
    "## 7.1. Baseline Model - Random"
   ]
  },
  {
   "cell_type": "code",
   "execution_count": 44,
   "id": "c5ee811a",
   "metadata": {
    "ExecuteTime": {
     "end_time": "2022-03-09T00:34:04.440763Z",
     "start_time": "2022-03-09T00:34:04.380751Z"
    }
   },
   "outputs": [],
   "source": [
    "country_list = df06_users['country_destination'].drop_duplicates().sort_values().tolist()\n",
    "\n",
    "k_num = y_test.shape[0]\n",
    "\n",
    "country_weights = df06_users['country_destination'].value_counts(normalize=True).sort_index().tolist()\n",
    "\n",
    "yhat_random = random.choices(population=country_list,\n",
    "                             weights=country_weights,\n",
    "                             k=k_num)"
   ]
  },
  {
   "cell_type": "markdown",
   "id": "74175f4b",
   "metadata": {},
   "source": [
    "## 7.2. Neural Network - MLP"
   ]
  },
  {
   "cell_type": "code",
   "execution_count": 45,
   "id": "c837ddfc",
   "metadata": {
    "ExecuteTime": {
     "end_time": "2022-03-09T00:34:04.502414Z",
     "start_time": "2022-03-09T00:34:04.443755Z"
    }
   },
   "outputs": [],
   "source": [
    "ohe = pp.OneHotEncoder()\n",
    "\n",
    "y_train_nn = ohe.fit_transform(y_train.values.reshape(-1, 1)).toarray()"
   ]
  },
  {
   "cell_type": "code",
   "execution_count": 46,
   "id": "fa3d36ec",
   "metadata": {
    "ExecuteTime": {
     "end_time": "2022-03-09T00:45:40.494071Z",
     "start_time": "2022-03-09T00:34:04.505154Z"
    },
    "scrolled": true
   },
   "outputs": [
    {
     "name": "stdout",
     "output_type": "stream",
     "text": [
      "Epoch 1/100\n",
      "5165/5165 [==============================] - 6s 1ms/step - loss: 2.5438 - accuracy: 0.8013\n",
      "Epoch 2/100\n",
      "5165/5165 [==============================] - 6s 1ms/step - loss: 1.0905 - accuracy: 0.8250\n",
      "Epoch 3/100\n",
      "5165/5165 [==============================] - 6s 1ms/step - loss: 0.6734 - accuracy: 0.8519\n",
      "Epoch 4/100\n",
      "5165/5165 [==============================] - 6s 1ms/step - loss: 0.5448 - accuracy: 0.8684\n",
      "Epoch 5/100\n",
      "5165/5165 [==============================] - 6s 1ms/step - loss: 0.5091 - accuracy: 0.8721\n",
      "Epoch 6/100\n",
      "5165/5165 [==============================] - 6s 1ms/step - loss: 0.4987 - accuracy: 0.8730\n",
      "Epoch 7/100\n",
      "5165/5165 [==============================] - 5s 1ms/step - loss: 0.4979 - accuracy: 0.8732\n",
      "Epoch 8/100\n",
      "5165/5165 [==============================] - 6s 1ms/step - loss: 0.4979 - accuracy: 0.8732\n",
      "Epoch 9/100\n",
      "5165/5165 [==============================] - 6s 1ms/step - loss: 0.4968 - accuracy: 0.8733\n",
      "Epoch 10/100\n",
      "5165/5165 [==============================] - 5s 1ms/step - loss: 0.4959 - accuracy: 0.8734\n",
      "Epoch 11/100\n",
      "5165/5165 [==============================] - 6s 1ms/step - loss: 0.4960 - accuracy: 0.8734\n",
      "Epoch 12/100\n",
      "5165/5165 [==============================] - 6s 1ms/step - loss: 0.4953 - accuracy: 0.8734\n",
      "Epoch 13/100\n",
      "5165/5165 [==============================] - 5s 1ms/step - loss: 0.4946 - accuracy: 0.8734\n",
      "Epoch 14/100\n",
      "5165/5165 [==============================] - 7s 1ms/step - loss: 0.4948 - accuracy: 0.8735\n",
      "Epoch 15/100\n",
      "5165/5165 [==============================] - 8s 2ms/step - loss: 0.4946 - accuracy: 0.8735\n",
      "Epoch 16/100\n",
      "5165/5165 [==============================] - 6s 1ms/step - loss: 0.4948 - accuracy: 0.8734\n",
      "Epoch 17/100\n",
      "5165/5165 [==============================] - 7s 1ms/step - loss: 0.4946 - accuracy: 0.8735\n",
      "Epoch 18/100\n",
      "5165/5165 [==============================] - 9s 2ms/step - loss: 0.4932 - accuracy: 0.8736\n",
      "Epoch 19/100\n",
      "5165/5165 [==============================] - 9s 2ms/step - loss: 0.4920 - accuracy: 0.8736\n",
      "Epoch 20/100\n",
      "5165/5165 [==============================] - 9s 2ms/step - loss: 0.4912 - accuracy: 0.8737: 0s - loss: 0.4916 - accuracy\n",
      "Epoch 21/100\n",
      "5165/5165 [==============================] - 9s 2ms/step - loss: 0.4916 - accuracy: 0.8736\n",
      "Epoch 22/100\n",
      "5165/5165 [==============================] - 9s 2ms/step - loss: 0.4914 - accuracy: 0.8736\n",
      "Epoch 23/100\n",
      "5165/5165 [==============================] - 7s 1ms/step - loss: 0.4919 - accuracy: 0.8736\n",
      "Epoch 24/100\n",
      "5165/5165 [==============================] - 8s 2ms/step - loss: 0.4909 - accuracy: 0.8737\n",
      "Epoch 25/100\n",
      "5165/5165 [==============================] - 8s 2ms/step - loss: 0.4910 - accuracy: 0.8736\n",
      "Epoch 26/100\n",
      "5165/5165 [==============================] - 9s 2ms/step - loss: 0.4912 - accuracy: 0.8736\n",
      "Epoch 27/100\n",
      "5165/5165 [==============================] - 9s 2ms/step - loss: 0.4913 - accuracy: 0.8736\n",
      "Epoch 28/100\n",
      "5165/5165 [==============================] - 12s 2ms/step - loss: 0.4909 - accuracy: 0.8737\n",
      "Epoch 29/100\n",
      "5165/5165 [==============================] - 9s 2ms/step - loss: 0.4911 - accuracy: 0.8736\n",
      "Epoch 30/100\n",
      "5165/5165 [==============================] - 8s 1ms/step - loss: 0.4914 - accuracy: 0.8736\n",
      "Epoch 31/100\n",
      "5165/5165 [==============================] - 8s 2ms/step - loss: 0.4911 - accuracy: 0.8736\n",
      "Epoch 32/100\n",
      "5165/5165 [==============================] - 8s 1ms/step - loss: 0.4910 - accuracy: 0.8737\n",
      "Epoch 33/100\n",
      "5165/5165 [==============================] - 9s 2ms/step - loss: 0.4911 - accuracy: 0.8737\n",
      "Epoch 34/100\n",
      "5165/5165 [==============================] - 8s 2ms/step - loss: 0.4910 - accuracy: 0.8735\n",
      "Epoch 35/100\n",
      "5165/5165 [==============================] - 10s 2ms/step - loss: 0.4910 - accuracy: 0.8737\n",
      "Epoch 36/100\n",
      "5165/5165 [==============================] - 7s 1ms/step - loss: 0.4909 - accuracy: 0.8737\n",
      "Epoch 37/100\n",
      "5165/5165 [==============================] - 6s 1ms/step - loss: 0.4909 - accuracy: 0.8737: 0s - los\n",
      "Epoch 38/100\n",
      "5165/5165 [==============================] - 6s 1ms/step - loss: 0.4913 - accuracy: 0.8737\n",
      "Epoch 39/100\n",
      "5165/5165 [==============================] - 6s 1ms/step - loss: 0.4908 - accuracy: 0.8737\n",
      "Epoch 40/100\n",
      "5165/5165 [==============================] - 6s 1ms/step - loss: 0.4906 - accuracy: 0.8737\n",
      "Epoch 41/100\n",
      "5165/5165 [==============================] - 6s 1ms/step - loss: 0.4910 - accuracy: 0.8737\n",
      "Epoch 42/100\n",
      "5165/5165 [==============================] - 6s 1ms/step - loss: 0.4911 - accuracy: 0.8736\n",
      "Epoch 43/100\n",
      "5165/5165 [==============================] - 6s 1ms/step - loss: 0.4910 - accuracy: 0.8736\n",
      "Epoch 44/100\n",
      "5165/5165 [==============================] - 7s 1ms/step - loss: 0.4908 - accuracy: 0.8737: 0s - l\n",
      "Epoch 45/100\n",
      "5165/5165 [==============================] - 6s 1ms/step - loss: 0.4911 - accuracy: 0.8737\n",
      "Epoch 46/100\n",
      "5165/5165 [==============================] - 6s 1ms/step - loss: 0.4910 - accuracy: 0.8737\n",
      "Epoch 47/100\n",
      "5165/5165 [==============================] - 8s 1ms/step - loss: 0.4908 - accuracy: 0.8737: 0s - l\n",
      "Epoch 48/100\n",
      "5165/5165 [==============================] - 6s 1ms/step - loss: 0.4919 - accuracy: 0.8737\n",
      "Epoch 49/100\n",
      "5165/5165 [==============================] - 7s 1ms/step - loss: 0.4907 - accuracy: 0.8737\n",
      "Epoch 50/100\n",
      "5165/5165 [==============================] - 6s 1ms/step - loss: 0.4910 - accuracy: 0.8737\n",
      "Epoch 51/100\n",
      "5165/5165 [==============================] - 6s 1ms/step - loss: 0.4908 - accuracy: 0.8737\n",
      "Epoch 52/100\n",
      "5165/5165 [==============================] - 6s 1ms/step - loss: 0.4907 - accuracy: 0.8737\n",
      "Epoch 53/100\n",
      "5165/5165 [==============================] - 6s 1ms/step - loss: 0.4914 - accuracy: 0.8737\n",
      "Epoch 54/100\n",
      "5165/5165 [==============================] - 7s 1ms/step - loss: 0.4910 - accuracy: 0.8737\n",
      "Epoch 55/100\n",
      "5165/5165 [==============================] - 6s 1ms/step - loss: 0.4904 - accuracy: 0.8738\n",
      "Epoch 56/100\n",
      "5165/5165 [==============================] - 6s 1ms/step - loss: 0.4909 - accuracy: 0.8737\n",
      "Epoch 57/100\n",
      "5165/5165 [==============================] - 7s 1ms/step - loss: 0.4910 - accuracy: 0.8737\n",
      "Epoch 58/100\n",
      "5165/5165 [==============================] - 6s 1ms/step - loss: 0.4911 - accuracy: 0.8737\n",
      "Epoch 59/100\n",
      "5165/5165 [==============================] - 7s 1ms/step - loss: 0.4909 - accuracy: 0.8737\n",
      "Epoch 60/100\n",
      "5165/5165 [==============================] - 6s 1ms/step - loss: 0.4907 - accuracy: 0.8737\n",
      "Epoch 61/100\n",
      "5165/5165 [==============================] - 6s 1ms/step - loss: 0.4910 - accuracy: 0.8737\n",
      "Epoch 62/100\n",
      "5165/5165 [==============================] - 6s 1ms/step - loss: 0.4908 - accuracy: 0.8737\n",
      "Epoch 63/100\n",
      "5165/5165 [==============================] - 6s 1ms/step - loss: 0.4909 - accuracy: 0.8737\n",
      "Epoch 64/100\n",
      "5165/5165 [==============================] - 6s 1ms/step - loss: 0.4905 - accuracy: 0.8737\n",
      "Epoch 65/100\n",
      "5165/5165 [==============================] - 6s 1ms/step - loss: 0.4911 - accuracy: 0.8737\n",
      "Epoch 66/100\n",
      "5165/5165 [==============================] - 6s 1ms/step - loss: 0.4905 - accuracy: 0.8737\n",
      "Epoch 67/100\n",
      "5165/5165 [==============================] - 6s 1ms/step - loss: 0.4917 - accuracy: 0.8737\n",
      "Epoch 68/100\n",
      "5165/5165 [==============================] - 6s 1ms/step - loss: 0.4905 - accuracy: 0.8737\n",
      "Epoch 69/100\n",
      "5165/5165 [==============================] - 6s 1ms/step - loss: 0.4908 - accuracy: 0.8737\n",
      "Epoch 70/100\n",
      "5165/5165 [==============================] - 10s 2ms/step - loss: 0.4908 - accuracy: 0.8737 0s - loss: 0.4907 - ac\n",
      "Epoch 71/100\n",
      "5165/5165 [==============================] - 7s 1ms/step - loss: 0.4905 - accuracy: 0.8737: 0s - loss: 0.4903 - accuracy: 0.87\n",
      "Epoch 72/100\n",
      "5165/5165 [==============================] - 9s 2ms/step - loss: 0.4910 - accuracy: 0.8737\n",
      "Epoch 73/100\n",
      "5165/5165 [==============================] - 8s 2ms/step - loss: 0.4906 - accuracy: 0.8738\n",
      "Epoch 74/100\n",
      "5165/5165 [==============================] - 7s 1ms/step - loss: 0.4905 - accuracy: 0.8738\n",
      "Epoch 75/100\n",
      "5165/5165 [==============================] - 6s 1ms/step - loss: 0.4913 - accuracy: 0.8737\n",
      "Epoch 76/100\n",
      "5165/5165 [==============================] - 7s 1ms/step - loss: 0.4904 - accuracy: 0.8738\n",
      "Epoch 77/100\n",
      "5165/5165 [==============================] - 6s 1ms/step - loss: 0.4906 - accuracy: 0.8737\n",
      "Epoch 78/100\n",
      "5165/5165 [==============================] - 7s 1ms/step - loss: 0.4902 - accuracy: 0.8738 ETA: 0s - loss: 0.489 - ETA: 0s - los\n",
      "Epoch 79/100\n",
      "5165/5165 [==============================] - 8s 2ms/step - loss: 0.4904 - accuracy: 0.8738: 1s - - ETA: 0s -\n",
      "Epoch 80/100\n",
      "5165/5165 [==============================] - 7s 1ms/step - loss: 0.4910 - accuracy: 0.8737\n",
      "Epoch 81/100\n",
      "5165/5165 [==============================] - 7s 1ms/step - loss: 0.4937 - accuracy: 0.8734\n",
      "Epoch 82/100\n",
      "5165/5165 [==============================] - 6s 1ms/step - loss: 0.4903 - accuracy: 0.8738\n",
      "Epoch 83/100\n",
      "5165/5165 [==============================] - 7s 1ms/step - loss: 0.4914 - accuracy: 0.8737\n",
      "Epoch 84/100\n",
      "5165/5165 [==============================] - 6s 1ms/step - loss: 0.4909 - accuracy: 0.8737\n",
      "Epoch 85/100\n",
      "5165/5165 [==============================] - 7s 1ms/step - loss: 0.4904 - accuracy: 0.8738\n",
      "Epoch 86/100\n",
      "5165/5165 [==============================] - 6s 1ms/step - loss: 0.4908 - accuracy: 0.8738\n",
      "Epoch 87/100\n",
      "5165/5165 [==============================] - 6s 1ms/step - loss: 0.4906 - accuracy: 0.8738\n",
      "Epoch 88/100\n",
      "5165/5165 [==============================] - 7s 1ms/step - loss: 0.4914 - accuracy: 0.8737\n",
      "Epoch 89/100\n",
      "5165/5165 [==============================] - 6s 1ms/step - loss: 0.4904 - accuracy: 0.8738\n",
      "Epoch 90/100\n",
      "5165/5165 [==============================] - 8s 2ms/step - loss: 0.4936 - accuracy: 0.8736\n",
      "Epoch 91/100\n",
      "5165/5165 [==============================] - 7s 1ms/step - loss: 0.4904 - accuracy: 0.8738\n",
      "Epoch 92/100\n",
      "5165/5165 [==============================] - 7s 1ms/step - loss: 0.4908 - accuracy: 0.8737\n",
      "Epoch 93/100\n",
      "5165/5165 [==============================] - 6s 1ms/step - loss: 0.4903 - accuracy: 0.8738\n",
      "Epoch 94/100\n",
      "5165/5165 [==============================] - 7s 1ms/step - loss: 0.4905 - accuracy: 0.8737\n",
      "Epoch 95/100\n",
      "5165/5165 [==============================] - 7s 1ms/step - loss: 0.4915 - accuracy: 0.8737\n",
      "Epoch 96/100\n",
      "5165/5165 [==============================] - 7s 1ms/step - loss: 0.4907 - accuracy: 0.8737\n",
      "Epoch 97/100\n",
      "5165/5165 [==============================] - 7s 1ms/step - loss: 0.4918 - accuracy: 0.8737\n",
      "Epoch 98/100\n",
      "5165/5165 [==============================] - 7s 1ms/step - loss: 0.4907 - accuracy: 0.8738\n",
      "Epoch 99/100\n",
      "5165/5165 [==============================] - 7s 1ms/step - loss: 0.4910 - accuracy: 0.8738\n",
      "Epoch 100/100\n",
      "5165/5165 [==============================] - 9s 2ms/step - loss: 0.4908 - accuracy: 0.8738\n"
     ]
    },
    {
     "data": {
      "text/plain": [
       "<tensorflow.python.keras.callbacks.History at 0x26131e24c70>"
      ]
     },
     "execution_count": 46,
     "metadata": {},
     "output_type": "execute_result"
    }
   ],
   "source": [
    "# model definition\n",
    "model = ml.Sequential()\n",
    "model.add( l.Dense(128, input_dim=x_train.shape[1], activation='relu') )\n",
    "model.add( l.Dense(12, activation='softmax') )\n",
    "\n",
    "# model compile\n",
    "model.compile(loss='categorical_crossentropy', optimizer='adam', metrics=['accuracy'])\n",
    "\n",
    "# train model\n",
    "model.fit(x_train, y_train_nn, epochs=100)"
   ]
  },
  {
   "cell_type": "markdown",
   "id": "dec46b91",
   "metadata": {},
   "source": [
    "# 8.0. Hyper Parameter Tuning\n",
    "\n",
    "Hyper Parameter Tuning will not be considered until the most optimal machine learning model is selected, at this first cycle was considered only one model to complete the cycle and go through for all the major phases to validate the feasibility of the project."
   ]
  },
  {
   "cell_type": "code",
   "execution_count": null,
   "id": "2033ffaa",
   "metadata": {},
   "outputs": [],
   "source": []
  },
  {
   "cell_type": "markdown",
   "id": "caddd600",
   "metadata": {},
   "source": [
    "# 9.0. Error Translation and Interpretation"
   ]
  },
  {
   "cell_type": "markdown",
   "id": "1d75cf9e",
   "metadata": {},
   "source": [
    "## 9.1. Baseline Model Performance"
   ]
  },
  {
   "cell_type": "code",
   "execution_count": 47,
   "id": "593b7189",
   "metadata": {
    "ExecuteTime": {
     "end_time": "2022-03-09T00:45:42.904953Z",
     "start_time": "2022-03-09T00:45:40.501011Z"
    }
   },
   "outputs": [
    {
     "name": "stdout",
     "output_type": "stream",
     "text": [
      "Accuracy 0.4263413925796849\n",
      "Balanced Accuracy: 0.08526838565475424\n",
      "Kappa Score: -0.0004353608379363827\n",
      "              precision    recall  f1-score   support\n",
      "\n",
      "          AU       0.01      0.01      0.01       101\n",
      "          CA       0.01      0.01      0.01       265\n",
      "          DE       0.00      0.00      0.00       234\n",
      "          ES       0.00      0.01      0.00       385\n",
      "          FR       0.03      0.03      0.03       971\n",
      "          GB       0.01      0.01      0.01       457\n",
      "          IT       0.01      0.01      0.01       553\n",
      "         NDF       0.58      0.58      0.58     23927\n",
      "          NL       0.01      0.01      0.01       143\n",
      "          PT       0.00      0.00      0.00        54\n",
      "          US       0.30      0.30      0.30     12249\n",
      "       other       0.05      0.05      0.05      1980\n",
      "\n",
      "    accuracy                           0.43     41319\n",
      "   macro avg       0.09      0.09      0.09     41319\n",
      "weighted avg       0.43      0.43      0.43     41319\n",
      "\n"
     ]
    },
    {
     "data": {
      "image/png": "[encoded data removed]",
      "text/plain": [
       "<Figure size 864x864 with 2 Axes>"
      ]
     },
     "metadata": {
      "needs_background": "light"
     },
     "output_type": "display_data"
    }
   ],
   "source": [
    "# Accuracy\n",
    "acc_random = m.accuracy_score( y_test, yhat_random )\n",
    "print(f'Accuracy {acc_random}')\n",
    "\n",
    "# Balanced Accuracy\n",
    "balanced_acc_random = m.balanced_accuracy_score(y_test, yhat_random)\n",
    "print(f'Balanced Accuracy: {balanced_acc_random}')\n",
    "\n",
    "# Kappa Metrics\n",
    "kappa_random = m.cohen_kappa_score(y_test, yhat_random)\n",
    "print(f'Kappa Score: {kappa_random}')\n",
    "\n",
    "# Classification report\n",
    "print(m.classification_report(y_test, yhat_random))\n",
    "\n",
    "# Confusion Matrix\n",
    "mt.plot_confusion_matrix(y_test, yhat_random, normalize=False, figsize=(12,12));"
   ]
  },
  {
   "cell_type": "markdown",
   "id": "7f84d331",
   "metadata": {},
   "source": [
    "## 9.2. Neural Network Performance"
   ]
  },
  {
   "cell_type": "code",
   "execution_count": 48,
   "id": "0089b41c",
   "metadata": {
    "ExecuteTime": {
     "end_time": "2022-03-09T00:45:44.182907Z",
     "start_time": "2022-03-09T00:45:42.909914Z"
    }
   },
   "outputs": [],
   "source": [
    "# prediction\n",
    "pred_nn = model.predict(x_test)\n",
    "\n",
    "# invert prediction\n",
    "yhat_nn = ohe.inverse_transform(pred_nn)\n",
    "\n",
    "# test dataset prepare with real results\n",
    "y_test_nn = y_test.to_numpy()\n",
    "yhat_nn = yhat_nn.reshape(1, -1)[0]"
   ]
  },
  {
   "cell_type": "code",
   "execution_count": 49,
   "id": "e204b0c6",
   "metadata": {
    "ExecuteTime": {
     "end_time": "2022-03-09T00:45:44.230913Z",
     "start_time": "2022-03-09T00:45:44.185911Z"
    }
   },
   "outputs": [
    {
     "data": {
      "text/plain": [
       "NDF    0.57908\n",
       "US     0.42092\n",
       "dtype: float64"
      ]
     },
     "execution_count": 49,
     "metadata": {},
     "output_type": "execute_result"
    }
   ],
   "source": [
    "# check balanced results\n",
    "pd.DataFrame(yhat_nn).value_counts(normalize=True)"
   ]
  },
  {
   "cell_type": "code",
   "execution_count": 50,
   "id": "cfe5a5c9",
   "metadata": {
    "ExecuteTime": {
     "end_time": "2022-03-09T00:45:48.017911Z",
     "start_time": "2022-03-09T00:45:44.233912Z"
    }
   },
   "outputs": [
    {
     "name": "stdout",
     "output_type": "stream",
     "text": [
      "Accuracy: 0.8755294174592803\n",
      "Balanced Accuracy: 0.16666666666666666\n",
      "Kappa Score: 0.7694497945406258\n",
      "              precision    recall  f1-score   support\n",
      "\n",
      "          AU       0.00      0.00      0.00       101\n",
      "          CA       0.00      0.00      0.00       265\n",
      "          DE       0.00      0.00      0.00       234\n",
      "          ES       0.00      0.00      0.00       385\n",
      "          FR       0.00      0.00      0.00       971\n",
      "          GB       0.00      0.00      0.00       457\n",
      "          IT       0.00      0.00      0.00       553\n",
      "         NDF       1.00      1.00      1.00     23927\n",
      "          NL       0.00      0.00      0.00       143\n",
      "          PT       0.00      0.00      0.00        54\n",
      "          US       0.70      1.00      0.83     12249\n",
      "       other       0.00      0.00      0.00      1980\n",
      "\n",
      "    accuracy                           0.88     41319\n",
      "   macro avg       0.14      0.17      0.15     41319\n",
      "weighted avg       0.79      0.88      0.82     41319\n",
      "\n"
     ]
    },
    {
     "data": {
      "image/png": "[encoded data removed]",
      "text/plain": [
       "<Figure size 864x864 with 2 Axes>"
      ]
     },
     "metadata": {
      "needs_background": "light"
     },
     "output_type": "display_data"
    }
   ],
   "source": [
    "# Accuracy\n",
    "acc_nn = m.accuracy_score( y_test_nn, yhat_nn )\n",
    "print(f'Accuracy: {acc_nn}')\n",
    "\n",
    "# Balanced Accuracy\n",
    "balanced_acc_nn = m.balanced_accuracy_score(y_test_nn, yhat_nn)\n",
    "print(f'Balanced Accuracy: {balanced_acc_nn}')\n",
    "\n",
    "# Kappa Metrics\n",
    "kappa_nn = m.cohen_kappa_score(y_test_nn, yhat_nn)\n",
    "print(f'Kappa Score: {kappa_nn}')\n",
    "\n",
    "# Classification report\n",
    "print(m.classification_report(y_test_nn, yhat_nn))\n",
    "\n",
    "# Confusion Matrix\n",
    "mt.plot_confusion_matrix( y_test_nn, yhat_nn, normalize=False, figsize=(12,12));"
   ]
  },
  {
   "cell_type": "markdown",
   "id": "e6fe4bbf",
   "metadata": {
    "ExecuteTime": {
     "end_time": "2022-03-09T00:21:31.258077Z",
     "start_time": "2022-03-09T00:21:31.247079Z"
    }
   },
   "source": [
    "### 9.2.1. Neural Network Performance - Cross-Validation"
   ]
  },
  {
   "cell_type": "code",
   "execution_count": 51,
   "id": "51a1af31",
   "metadata": {
    "ExecuteTime": {
     "end_time": "2022-03-09T01:32:44.780578Z",
     "start_time": "2022-03-09T00:45:48.022911Z"
    }
   },
   "outputs": [
    {
     "name": "stdout",
     "output_type": "stream",
     "text": [
      "Fold Number:1/5\n",
      "Fold Number:2/5\n",
      "Fold Number:3/5\n",
      "Fold Number:4/5\n",
      "Fold Number:5/5\n"
     ]
    }
   ],
   "source": [
    "# generate k-fold\n",
    "num_folds = 5\n",
    "kfold = ms.StratifiedKFold( n_splits=num_folds, shuffle=True, random_state=32 )\n",
    "\n",
    "balanced_acc_list = []\n",
    "\n",
    "kappa_list = []\n",
    "\n",
    "i = 1\n",
    "\n",
    "for train_index, val_index in kfold.split( x_train, y_train ):\n",
    "    print(f'Fold Number:{i}/{num_folds}')\n",
    "    \n",
    "    # split data into training and test set\n",
    "    x_train_cv = x_train.iloc[train_index]\n",
    "    y_train_cv = y_train.iloc[train_index]\n",
    "    \n",
    "    x_validation_cv = x_train.iloc[val_index]\n",
    "    y_validation_cv = y_train.iloc[val_index]\n",
    "    \n",
    "    # encoding response variable\n",
    "    ohe = pp.OneHotEncoder()\n",
    "\n",
    "    y_train_cv_nn = ohe.fit_transform(y_train_cv.values.reshape(-1, 1)).toarray()\n",
    "\n",
    "    # model definition\n",
    "    model = ml.Sequential()\n",
    "    model.add( l.Dense(128, input_dim=x_train_cv.shape[1], activation='relu') )\n",
    "    model.add( l.Dense(12, activation='softmax') )\n",
    "\n",
    "    # model compile\n",
    "    model.compile(loss='categorical_crossentropy', optimizer='adam', metrics=['accuracy'])\n",
    "\n",
    "    # train model\n",
    "    model.fit(x_train_cv, y_train_cv_nn, epochs=100, batch_size=32, verbose=0)\n",
    "\n",
    "    # prediction\n",
    "    pred_cv_nn = model.predict(x_validation_cv)\n",
    "\n",
    "    # invert prediction\n",
    "    yhat_cv_nn = ohe.inverse_transform(pred_cv_nn)\n",
    "\n",
    "    # test dataset prepare with real results\n",
    "    y_test_cv_nn = y_validation_cv.to_numpy()\n",
    "    yhat_cv_nn = yhat_cv_nn.reshape(1, -1)[0]\n",
    "    \n",
    "    # performance metrics \n",
    "    # Balanced Accuracy\n",
    "    balanced_acc_nn = m.balanced_accuracy_score(y_test_cv_nn, yhat_cv_nn)\n",
    "    balanced_acc_list.append(balanced_acc_nn)\n",
    "\n",
    "    # Kappa Metrics\n",
    "    kappa_nn = m.cohen_kappa_score(y_test_cv_nn, yhat_cv_nn)\n",
    "    kappa_list.append(kappa_nn)\n",
    "    \n",
    "    i += 1"
   ]
  },
  {
   "cell_type": "code",
   "execution_count": 52,
   "id": "70e163cc",
   "metadata": {
    "ExecuteTime": {
     "end_time": "2022-03-09T01:32:44.842579Z",
     "start_time": "2022-03-09T01:32:44.797583Z"
    }
   },
   "outputs": [
    {
     "name": "stdout",
     "output_type": "stream",
     "text": [
      "Avg Balanced Accuracy: 0.17 +/- 1e-05\n",
      "Avg Kappa Score: 0.77 +/- 0.0001\n"
     ]
    }
   ],
   "source": [
    "print(f'Avg Balanced Accuracy: {np.round(np.mean(balanced_acc_list), 2)} +/- {np.round(np.std(balanced_acc_list),5)}')\n",
    "print(f'Avg Kappa Score: {np.round(np.mean(kappa_list), 2)} +/- {np.round(np.std(kappa_list), 4)}')"
   ]
  },
  {
   "cell_type": "markdown",
   "id": "3ec783f6",
   "metadata": {},
   "source": [
    "**Result**\n",
    "\n",
    "Feature Engineering of the datetime data improved the model's performance by increasing the balanced accuracy from 10% to 17%, along with an improved Kappa Score to 0.76, demostrating the great relevance of the time data to description of the phenomenon."
   ]
  },
  {
   "cell_type": "markdown",
   "id": "2d632718",
   "metadata": {},
   "source": [
    "# 10.0. Deploy Model\n",
    "\n",
    "No models will be deployed yet."
   ]
  },
  {
   "cell_type": "code",
   "execution_count": null,
   "id": "a610263d",
   "metadata": {},
   "outputs": [],
   "source": []
  }
 ],
 "metadata": {
  "kernelspec": {
   "display_name": "Python 3 (ipykernel)",
   "language": "python",
   "name": "python3"
  },
  "language_info": {
   "codemirror_mode": {
    "name": "ipython",
    "version": 3
   },
   "file_extension": ".py",
   "mimetype": "text/x-python",
   "name": "python",
   "nbconvert_exporter": "python",
   "pygments_lexer": "ipython3",
   "version": "3.8.12"
  },
  "varInspector": {
   "cols": {
    "lenName": 16,
    "lenType": 16,
    "lenVar": 40
   },
   "kernels_config": {
    "python": {
     "delete_cmd_postfix": "",
     "delete_cmd_prefix": "del ",
     "library": "var_list.py",
     "varRefreshCmd": "print(var_dic_list())"
    },
    "r": {
     "delete_cmd_postfix": ") ",
     "delete_cmd_prefix": "rm(",
     "library": "var_list.r",
     "varRefreshCmd": "cat(var_dic_list()) "
    }
   },
   "types_to_exclude": [
    "module",
    "function",
    "builtin_function_or_method",
    "instance",
    "_Feature"
   ],
   "window_display": false
  }
 },
 "nbformat": 4,
 "nbformat_minor": 5
}
