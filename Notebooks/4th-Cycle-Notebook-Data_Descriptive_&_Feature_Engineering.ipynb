{
 "cells": [
  {
   "cell_type": "markdown",
   "id": "e9da1de2",
   "metadata": {
    "ExecuteTime": {
     "end_time": "2022-02-28T20:43:44.606104Z",
     "start_time": "2022-02-28T20:43:44.598146Z"
    }
   },
   "source": [
    "# 0.0. Imports"
   ]
  },
  {
   "cell_type": "code",
   "execution_count": 78,
   "id": "4a97ff0c",
   "metadata": {
    "ExecuteTime": {
     "end_time": "2022-03-30T16:29:34.128712Z",
     "start_time": "2022-03-30T16:29:33.977712Z"
    }
   },
   "outputs": [],
   "source": [
    "import numpy   as np\n",
    "import pandas  as pd\n",
    "import random\n",
    "import seaborn as sns \n",
    "import warnings\n",
    "\n",
    "import seaborn as sns\n",
    "import matplotlib.pyplot as plt\n",
    "\n",
    "from scipy      import stats           as ss\n",
    "from sklearn    import model_selection as ms\n",
    "from sklearn    import preprocessing   as pp\n",
    "from sklearn    import metrics         as m\n",
    "from scikitplot import metrics         as mt\n",
    "\n",
    "from keras import models as ml\n",
    "from keras import layers as l\n",
    "\n",
    "warnings.filterwarnings('ignore')"
   ]
  },
  {
   "cell_type": "markdown",
   "id": "58b2f295",
   "metadata": {},
   "source": [
    "## 0.1. Auxiliar Functions"
   ]
  },
  {
   "cell_type": "code",
   "execution_count": 79,
   "id": "c27e09c1",
   "metadata": {
    "ExecuteTime": {
     "end_time": "2022-03-30T16:29:34.478744Z",
     "start_time": "2022-03-30T16:29:34.198711Z"
    }
   },
   "outputs": [],
   "source": [
    "def cross_validation(num_fold, x_train, y_train, model, verbose=False):\n",
    "    # generate k-fold\n",
    "    num_folds = 5\n",
    "    kfold = ms.StratifiedKFold( n_splits=num_folds, shuffle=True, random_state=32 )\n",
    "\n",
    "    # create empty metrics list\n",
    "    acc_list = []\n",
    "    balanced_acc_list = []\n",
    "    kappa_list = []\n",
    "\n",
    "    # sequence of loop for verbose\n",
    "    i = 1\n",
    "    \n",
    "    # interation to measure performance\n",
    "    for train_index, val_index in kfold.split( x_train, ohe.inverse_transform(y_train) ):\n",
    "        if verbose:\n",
    "            print(f'Fold Number:{i}/{num_folds}')\n",
    "\n",
    "        # split data into training and test set\n",
    "        x_train_cv = x_train.iloc[train_index]\n",
    "        y_train_cv = y_train.iloc[train_index]\n",
    "\n",
    "        x_validation_cv = x_train.iloc[val_index]\n",
    "        y_validation_cv = y_train.iloc[val_index]\n",
    "\n",
    "        # train model\n",
    "        model.fit(x_train_cv, y_train_cv, epochs=100, batch_size=32, verbose=0)\n",
    "\n",
    "        # prediction\n",
    "        pred_cv = model.predict(x_validation_cv)\n",
    "\n",
    "        # invert prediction\n",
    "        yhat_cv = ohe.inverse_transform(pred_cv)\n",
    "\n",
    "        # invert validation response\n",
    "        y_test_cv = ohe.inverse_transform(y_validation_cv)\n",
    "\n",
    "        # performance metrics\n",
    "        # Accuracy\n",
    "        acc_model = m.accuracy_score( y_test_cv, yhat_cv )\n",
    "        acc_list.append(acc_model)\n",
    "        \n",
    "        # Balanced Accuracy\n",
    "        balanced_acc_model = m.balanced_accuracy_score(y_test_cv, yhat_cv)\n",
    "        balanced_acc_list.append(balanced_acc_model)\n",
    "\n",
    "        # Kappa Metrics\n",
    "        kappa_model = m.cohen_kappa_score(y_test_cv, yhat_cv)\n",
    "        kappa_list.append(kappa_model)\n",
    "\n",
    "        i += 1\n",
    "\n",
    "    return acc_list, balanced_acc_list, kappa_list\n",
    "\n",
    "\n",
    "def cramer_v(x, y):\n",
    "    \n",
    "    cm = pd.crosstab(x, y).values\n",
    "    n = cm.sum()\n",
    "    r, k = cm.shape\n",
    "    \n",
    "    rcorr = r - ((r-1)**2)/(n-1)\n",
    "    \n",
    "    kcorr = k - ((k-1)**2)/(n-1)\n",
    "    \n",
    "    chi2 = ss.chi2_contingency(cm)[0]\n",
    "    chi2corr = max(0, chi2 - (k-1)*(r-1)/(n-1))\n",
    "    \n",
    "    return np.sqrt((chi2corr/n)/(min(kcorr-1, rcorr-1)))"
   ]
  },
  {
   "cell_type": "markdown",
   "id": "04bd4aba",
   "metadata": {},
   "source": [
    "## 0.2. Load Data"
   ]
  },
  {
   "cell_type": "code",
   "execution_count": 80,
   "id": "05c73b56",
   "metadata": {
    "ExecuteTime": {
     "end_time": "2022-03-30T16:30:50.517857Z",
     "start_time": "2022-03-30T16:29:34.484716Z"
    }
   },
   "outputs": [],
   "source": [
    "# load training set of user\n",
    "data_users = pd.read_csv('../Datasets/train_users_2.csv', low_memory=False)\n",
    "\n",
    "# load web sessions log for users\n",
    "data_sessions = pd.read_csv('../Datasets/sessions.csv', low_memory=False)"
   ]
  },
  {
   "cell_type": "markdown",
   "id": "1179dcfc",
   "metadata": {},
   "source": [
    "# 1.0. Data Description"
   ]
  },
  {
   "cell_type": "code",
   "execution_count": 81,
   "id": "a59196b7",
   "metadata": {
    "ExecuteTime": {
     "end_time": "2022-03-30T16:43:20.956860Z",
     "start_time": "2022-03-30T16:30:50.539856Z"
    }
   },
   "outputs": [],
   "source": [
    "df01_users = data_users.copy()\n",
    "\n",
    "df01_sessions = data_sessions.copy()"
   ]
  },
  {
   "cell_type": "markdown",
   "id": "1ccddadb",
   "metadata": {},
   "source": [
    "## 1.1. Data Types"
   ]
  },
  {
   "cell_type": "code",
   "execution_count": 82,
   "id": "fe162f91",
   "metadata": {
    "ExecuteTime": {
     "end_time": "2022-03-30T16:43:21.180862Z",
     "start_time": "2022-03-30T16:43:20.998875Z"
    },
    "cell_style": "split"
   },
   "outputs": [
    {
     "data": {
      "text/plain": [
       "id                          object\n",
       "date_account_created        object\n",
       "timestamp_first_active       int64\n",
       "date_first_booking          object\n",
       "gender                      object\n",
       "age                        float64\n",
       "signup_method               object\n",
       "signup_flow                  int64\n",
       "language                    object\n",
       "affiliate_channel           object\n",
       "affiliate_provider          object\n",
       "first_affiliate_tracked     object\n",
       "signup_app                  object\n",
       "first_device_type           object\n",
       "first_browser               object\n",
       "country_destination         object\n",
       "dtype: object"
      ]
     },
     "execution_count": 82,
     "metadata": {},
     "output_type": "execute_result"
    }
   ],
   "source": [
    "df01_users.dtypes"
   ]
  },
  {
   "cell_type": "code",
   "execution_count": 83,
   "id": "859ee10e",
   "metadata": {
    "ExecuteTime": {
     "end_time": "2022-03-30T16:43:21.210858Z",
     "start_time": "2022-03-30T16:43:21.188860Z"
    },
    "cell_style": "split"
   },
   "outputs": [
    {
     "data": {
      "text/plain": [
       "user_id           object\n",
       "action            object\n",
       "action_type       object\n",
       "action_detail     object\n",
       "device_type       object\n",
       "secs_elapsed     float64\n",
       "dtype: object"
      ]
     },
     "execution_count": 83,
     "metadata": {},
     "output_type": "execute_result"
    }
   ],
   "source": [
    "df01_sessions.dtypes"
   ]
  },
  {
   "cell_type": "markdown",
   "id": "297d0bec",
   "metadata": {
    "cell_style": "center"
   },
   "source": [
    "## 1.2. Data Dimensions"
   ]
  },
  {
   "cell_type": "markdown",
   "id": "c617277e",
   "metadata": {},
   "source": [
    "### 1.2.1. Data Users Dimensions "
   ]
  },
  {
   "cell_type": "code",
   "execution_count": 84,
   "id": "6889bc8e",
   "metadata": {
    "ExecuteTime": {
     "end_time": "2022-03-30T16:43:21.242859Z",
     "start_time": "2022-03-30T16:43:21.217861Z"
    }
   },
   "outputs": [
    {
     "name": "stdout",
     "output_type": "stream",
     "text": [
      "Number of rows of users dataset: 213451\n",
      "Number of columnss of users dataset: 16\n"
     ]
    }
   ],
   "source": [
    "print( f'Number of rows of users dataset: {df01_users.shape[0]}')\n",
    "print( f'Number of columnss of users dataset: {df01_users.shape[1]}')"
   ]
  },
  {
   "cell_type": "markdown",
   "id": "152339da",
   "metadata": {},
   "source": [
    "### 1.2.2. Data Sessions Dimensions\n",
    "\n",
    "This dataset will not be used in this first cycle due to the granularity being action and we want to be user_id for now."
   ]
  },
  {
   "cell_type": "code",
   "execution_count": 85,
   "id": "c1459d2d",
   "metadata": {
    "ExecuteTime": {
     "end_time": "2022-03-30T16:43:21.273879Z",
     "start_time": "2022-03-30T16:43:21.248862Z"
    }
   },
   "outputs": [
    {
     "name": "stdout",
     "output_type": "stream",
     "text": [
      "Number of rows of sessions dataset: 10567737\n",
      "Number of columnss of session dataset: 6\n"
     ]
    }
   ],
   "source": [
    "print( f'Number of rows of sessions dataset: {df01_sessions.shape[0]}')\n",
    "print( f'Number of columnss of session dataset: {df01_sessions.shape[1]}')"
   ]
  },
  {
   "cell_type": "markdown",
   "id": "5ed2d4e7",
   "metadata": {},
   "source": [
    "## 1.3. Check NA"
   ]
  },
  {
   "cell_type": "markdown",
   "id": "3b2018f1",
   "metadata": {},
   "source": [
    "### 1.3.1. Check NA - Data Users"
   ]
  },
  {
   "cell_type": "code",
   "execution_count": 86,
   "id": "49097f87",
   "metadata": {
    "ExecuteTime": {
     "end_time": "2022-03-30T16:43:21.654857Z",
     "start_time": "2022-03-30T16:43:21.279863Z"
    },
    "cell_style": "split"
   },
   "outputs": [
    {
     "data": {
      "text/plain": [
       "id                              0\n",
       "date_account_created            0\n",
       "timestamp_first_active          0\n",
       "date_first_booking         124543\n",
       "gender                          0\n",
       "age                         87990\n",
       "signup_method                   0\n",
       "signup_flow                     0\n",
       "language                        0\n",
       "affiliate_channel               0\n",
       "affiliate_provider              0\n",
       "first_affiliate_tracked      6065\n",
       "signup_app                      0\n",
       "first_device_type               0\n",
       "first_browser                   0\n",
       "country_destination             0\n",
       "dtype: int64"
      ]
     },
     "execution_count": 86,
     "metadata": {},
     "output_type": "execute_result"
    }
   ],
   "source": [
    "df01_users.isna().sum()"
   ]
  },
  {
   "cell_type": "code",
   "execution_count": 87,
   "id": "c559b15b",
   "metadata": {
    "ExecuteTime": {
     "end_time": "2022-03-30T16:43:22.017857Z",
     "start_time": "2022-03-30T16:43:21.686859Z"
    },
    "cell_style": "split"
   },
   "outputs": [
    {
     "data": {
      "text/plain": [
       "id                        0.00000\n",
       "date_account_created      0.00000\n",
       "timestamp_first_active    0.00000\n",
       "date_first_booking        0.58347\n",
       "gender                    0.00000\n",
       "age                       0.41223\n",
       "signup_method             0.00000\n",
       "signup_flow               0.00000\n",
       "language                  0.00000\n",
       "affiliate_channel         0.00000\n",
       "affiliate_provider        0.00000\n",
       "first_affiliate_tracked   0.02841\n",
       "signup_app                0.00000\n",
       "first_device_type         0.00000\n",
       "first_browser             0.00000\n",
       "country_destination       0.00000\n",
       "dtype: float64"
      ]
     },
     "execution_count": 87,
     "metadata": {},
     "output_type": "execute_result"
    }
   ],
   "source": [
    "df01_users.isna().sum()/df01_users.shape[0]"
   ]
  },
  {
   "cell_type": "markdown",
   "id": "2176ca0f",
   "metadata": {},
   "source": [
    "### 1.3.2. Check NA - Data Sessions"
   ]
  },
  {
   "cell_type": "code",
   "execution_count": 88,
   "id": "09c5347b",
   "metadata": {
    "ExecuteTime": {
     "end_time": "2022-03-30T16:43:26.606860Z",
     "start_time": "2022-03-30T16:43:22.022861Z"
    },
    "cell_style": "split"
   },
   "outputs": [
    {
     "data": {
      "text/plain": [
       "user_id            34496\n",
       "action             79626\n",
       "action_type      1126204\n",
       "action_detail    1126204\n",
       "device_type            0\n",
       "secs_elapsed      136031\n",
       "dtype: int64"
      ]
     },
     "execution_count": 88,
     "metadata": {},
     "output_type": "execute_result"
    }
   ],
   "source": [
    "df01_sessions.isna().sum()"
   ]
  },
  {
   "cell_type": "code",
   "execution_count": 89,
   "id": "55751da3",
   "metadata": {
    "ExecuteTime": {
     "end_time": "2022-03-30T16:43:30.653860Z",
     "start_time": "2022-03-30T16:43:26.611858Z"
    },
    "cell_style": "split"
   },
   "outputs": [
    {
     "data": {
      "text/plain": [
       "user_id         0.00326\n",
       "action          0.00753\n",
       "action_type     0.10657\n",
       "action_detail   0.10657\n",
       "device_type     0.00000\n",
       "secs_elapsed    0.01287\n",
       "dtype: float64"
      ]
     },
     "execution_count": 89,
     "metadata": {},
     "output_type": "execute_result"
    }
   ],
   "source": [
    "df01_sessions.isna().sum()/df01_sessions.shape[0]"
   ]
  },
  {
   "cell_type": "markdown",
   "id": "bd581316",
   "metadata": {},
   "source": [
    "## 1.4. Fillout NA"
   ]
  },
  {
   "cell_type": "markdown",
   "id": "02d2f026",
   "metadata": {},
   "source": [
    "### 1.4.1. Fillout NA - Data Users\n",
    "\n",
    "- **date_first_booking:** the maximum date of the dataset is chosen due to future features considered the space between dates.\n",
    "\n",
    "- **age:** variable age has a normal distribution, so replacing it with with a mean value will not bias the dataset.\n",
    "\n",
    "- **first_affiliate_tracked:** due to the high probability of bias the dataset with categorical data substitution and the low amount of NA datas in this variable, the NA lines will be dropped."
   ]
  },
  {
   "cell_type": "code",
   "execution_count": 90,
   "id": "17027a20",
   "metadata": {
    "ExecuteTime": {
     "end_time": "2022-03-30T16:43:30.973859Z",
     "start_time": "2022-03-30T16:43:30.657862Z"
    }
   },
   "outputs": [],
   "source": [
    "# date_first_booking\n",
    "max_date_first_booking = pd.to_datetime(df01_users['date_first_booking']).max().strftime('%Y-%m-%d')\n",
    "df01_users['date_first_booking'] = df01_users['date_first_booking'].fillna(max_date_first_booking)\n",
    "\n",
    "# age\n",
    "avg_age = int(df01_users['age'].mean())\n",
    "df01_users['age'] = df01_users['age'].fillna(avg_age)\n",
    "\n",
    "# first_affiliate_tracked\n",
    "df01_users = df01_users[~df01_users['first_affiliate_tracked'].isna()]"
   ]
  },
  {
   "cell_type": "code",
   "execution_count": 91,
   "id": "1e6bc1db",
   "metadata": {
    "ExecuteTime": {
     "end_time": "2022-03-30T16:43:31.212860Z",
     "start_time": "2022-03-30T16:43:31.005858Z"
    }
   },
   "outputs": [
    {
     "data": {
      "text/plain": [
       "id                        0.00000\n",
       "date_account_created      0.00000\n",
       "timestamp_first_active    0.00000\n",
       "date_first_booking        0.00000\n",
       "gender                    0.00000\n",
       "age                       0.00000\n",
       "signup_method             0.00000\n",
       "signup_flow               0.00000\n",
       "language                  0.00000\n",
       "affiliate_channel         0.00000\n",
       "affiliate_provider        0.00000\n",
       "first_affiliate_tracked   0.00000\n",
       "signup_app                0.00000\n",
       "first_device_type         0.00000\n",
       "first_browser             0.00000\n",
       "country_destination       0.00000\n",
       "dtype: float64"
      ]
     },
     "execution_count": 91,
     "metadata": {},
     "output_type": "execute_result"
    }
   ],
   "source": [
    "df01_users.isna().sum()/df01_users.shape[0]"
   ]
  },
  {
   "cell_type": "markdown",
   "id": "8375bdfd",
   "metadata": {},
   "source": [
    "### 1.4.2. Fillout NA - Data Sessions\n",
    "\n",
    "Due to a massise amount of data, all NA lines will be dropped."
   ]
  },
  {
   "cell_type": "code",
   "execution_count": 92,
   "id": "97e5f525",
   "metadata": {
    "ExecuteTime": {
     "end_time": "2022-03-30T16:43:41.114857Z",
     "start_time": "2022-03-30T16:43:31.217864Z"
    }
   },
   "outputs": [],
   "source": [
    "# user_id  - 0.003264\n",
    "df01_sessions = df01_sessions[~df01_sessions['user_id'].isna()]\n",
    "\n",
    "# action - 0.007535\n",
    "df01_sessions = df01_sessions[~df01_sessions['action'].isna()]\n",
    "\n",
    "# action_type - 0.106570\n",
    "df01_sessions = df01_sessions[~df01_sessions['action_type'].isna()]\n",
    "\n",
    "# action_detail - 0.106570\n",
    "df01_sessions = df01_sessions[~df01_sessions['action_detail'].isna()]\n",
    "\n",
    "# secs_elapsed - 0.012872\n",
    "df01_sessions = df01_sessions[~df01_sessions['secs_elapsed'].isna()]"
   ]
  },
  {
   "cell_type": "code",
   "execution_count": 93,
   "id": "1b4ae28d",
   "metadata": {
    "ExecuteTime": {
     "end_time": "2022-03-30T16:43:44.336871Z",
     "start_time": "2022-03-30T16:43:41.117856Z"
    }
   },
   "outputs": [
    {
     "data": {
      "text/plain": [
       "user_id         0.00000\n",
       "action          0.00000\n",
       "action_type     0.00000\n",
       "action_detail   0.00000\n",
       "device_type     0.00000\n",
       "secs_elapsed    0.00000\n",
       "dtype: float64"
      ]
     },
     "execution_count": 93,
     "metadata": {},
     "output_type": "execute_result"
    }
   ],
   "source": [
    "df01_sessions.isna().sum()/df01_sessions.shape[0]"
   ]
  },
  {
   "cell_type": "markdown",
   "id": "7076ae4e",
   "metadata": {},
   "source": [
    "## 1.5. Change Data Type"
   ]
  },
  {
   "cell_type": "code",
   "execution_count": 94,
   "id": "793c65b7",
   "metadata": {
    "ExecuteTime": {
     "end_time": "2022-03-30T16:43:44.479856Z",
     "start_time": "2022-03-30T16:43:44.340860Z"
    }
   },
   "outputs": [
    {
     "data": {
      "text/html": [
       "<div>\n",
       "<style scoped>\n",
       "    .dataframe tbody tr th:only-of-type {\n",
       "        vertical-align: middle;\n",
       "    }\n",
       "\n",
       "    .dataframe tbody tr th {\n",
       "        vertical-align: top;\n",
       "    }\n",
       "\n",
       "    .dataframe thead th {\n",
       "        text-align: right;\n",
       "    }\n",
       "</style>\n",
       "<table border=\"1\" class=\"dataframe\">\n",
       "  <thead>\n",
       "    <tr style=\"text-align: right;\">\n",
       "      <th></th>\n",
       "      <th>id</th>\n",
       "      <th>date_account_created</th>\n",
       "      <th>timestamp_first_active</th>\n",
       "      <th>date_first_booking</th>\n",
       "      <th>gender</th>\n",
       "      <th>age</th>\n",
       "      <th>signup_method</th>\n",
       "      <th>signup_flow</th>\n",
       "      <th>language</th>\n",
       "      <th>affiliate_channel</th>\n",
       "      <th>affiliate_provider</th>\n",
       "      <th>first_affiliate_tracked</th>\n",
       "      <th>signup_app</th>\n",
       "      <th>first_device_type</th>\n",
       "      <th>first_browser</th>\n",
       "      <th>country_destination</th>\n",
       "    </tr>\n",
       "  </thead>\n",
       "  <tbody>\n",
       "    <tr>\n",
       "      <th>172937</th>\n",
       "      <td>p5bl4dqc8k</td>\n",
       "      <td>2014-04-07</td>\n",
       "      <td>20140407235739</td>\n",
       "      <td>2015-06-29</td>\n",
       "      <td>MALE</td>\n",
       "      <td>45.00000</td>\n",
       "      <td>facebook</td>\n",
       "      <td>0</td>\n",
       "      <td>en</td>\n",
       "      <td>sem-brand</td>\n",
       "      <td>google</td>\n",
       "      <td>omg</td>\n",
       "      <td>Web</td>\n",
       "      <td>Windows Desktop</td>\n",
       "      <td>Chrome</td>\n",
       "      <td>NDF</td>\n",
       "    </tr>\n",
       "  </tbody>\n",
       "</table>\n",
       "</div>"
      ],
      "text/plain": [
       "                id date_account_created  timestamp_first_active  \\\n",
       "172937  p5bl4dqc8k           2014-04-07          20140407235739   \n",
       "\n",
       "       date_first_booking gender      age signup_method  signup_flow language  \\\n",
       "172937         2015-06-29   MALE 45.00000      facebook            0       en   \n",
       "\n",
       "       affiliate_channel affiliate_provider first_affiliate_tracked  \\\n",
       "172937         sem-brand             google                     omg   \n",
       "\n",
       "       signup_app first_device_type first_browser country_destination  \n",
       "172937        Web   Windows Desktop        Chrome                 NDF  "
      ]
     },
     "execution_count": 94,
     "metadata": {},
     "output_type": "execute_result"
    }
   ],
   "source": [
    "df01_users.sample(1)"
   ]
  },
  {
   "cell_type": "code",
   "execution_count": 95,
   "id": "d76d383f",
   "metadata": {
    "ExecuteTime": {
     "end_time": "2022-03-30T16:43:46.694861Z",
     "start_time": "2022-03-30T16:43:44.484859Z"
    }
   },
   "outputs": [],
   "source": [
    "# change date type\n",
    "df01_users['date_account_created'] = pd.to_datetime(df01_users['date_account_created'])\n",
    "df01_users['date_first_booking'] = pd.to_datetime(df01_users['date_first_booking'])\n",
    "\n",
    "# change datetime type\n",
    "df01_users['timestamp_first_active'] = pd.to_datetime(df01_users['timestamp_first_active'], format='%Y%m%d%H%M%S')\n",
    "\n",
    "# change age to int\n",
    "df01_users['age'] = df01_users['age'].astype(np.int64)"
   ]
  },
  {
   "cell_type": "code",
   "execution_count": 96,
   "id": "505514d3",
   "metadata": {
    "ExecuteTime": {
     "end_time": "2022-03-30T16:43:46.804860Z",
     "start_time": "2022-03-30T16:43:46.699860Z"
    }
   },
   "outputs": [
    {
     "data": {
      "text/html": [
       "<div>\n",
       "<style scoped>\n",
       "    .dataframe tbody tr th:only-of-type {\n",
       "        vertical-align: middle;\n",
       "    }\n",
       "\n",
       "    .dataframe tbody tr th {\n",
       "        vertical-align: top;\n",
       "    }\n",
       "\n",
       "    .dataframe thead th {\n",
       "        text-align: right;\n",
       "    }\n",
       "</style>\n",
       "<table border=\"1\" class=\"dataframe\">\n",
       "  <thead>\n",
       "    <tr style=\"text-align: right;\">\n",
       "      <th></th>\n",
       "      <th>id</th>\n",
       "      <th>date_account_created</th>\n",
       "      <th>timestamp_first_active</th>\n",
       "      <th>date_first_booking</th>\n",
       "      <th>gender</th>\n",
       "      <th>age</th>\n",
       "      <th>signup_method</th>\n",
       "      <th>signup_flow</th>\n",
       "      <th>language</th>\n",
       "      <th>affiliate_channel</th>\n",
       "      <th>affiliate_provider</th>\n",
       "      <th>first_affiliate_tracked</th>\n",
       "      <th>signup_app</th>\n",
       "      <th>first_device_type</th>\n",
       "      <th>first_browser</th>\n",
       "      <th>country_destination</th>\n",
       "    </tr>\n",
       "  </thead>\n",
       "  <tbody>\n",
       "    <tr>\n",
       "      <th>88311</th>\n",
       "      <td>ir58etcm9x</td>\n",
       "      <td>2013-07-03</td>\n",
       "      <td>2013-07-03 06:24:34</td>\n",
       "      <td>2015-06-29</td>\n",
       "      <td>-unknown-</td>\n",
       "      <td>49</td>\n",
       "      <td>basic</td>\n",
       "      <td>0</td>\n",
       "      <td>en</td>\n",
       "      <td>sem-brand</td>\n",
       "      <td>google</td>\n",
       "      <td>omg</td>\n",
       "      <td>Web</td>\n",
       "      <td>Windows Desktop</td>\n",
       "      <td>Chrome</td>\n",
       "      <td>NDF</td>\n",
       "    </tr>\n",
       "  </tbody>\n",
       "</table>\n",
       "</div>"
      ],
      "text/plain": [
       "               id date_account_created timestamp_first_active  \\\n",
       "88311  ir58etcm9x           2013-07-03    2013-07-03 06:24:34   \n",
       "\n",
       "      date_first_booking     gender  age signup_method  signup_flow language  \\\n",
       "88311         2015-06-29  -unknown-   49         basic            0       en   \n",
       "\n",
       "      affiliate_channel affiliate_provider first_affiliate_tracked signup_app  \\\n",
       "88311         sem-brand             google                     omg        Web   \n",
       "\n",
       "      first_device_type first_browser country_destination  \n",
       "88311   Windows Desktop        Chrome                 NDF  "
      ]
     },
     "execution_count": 96,
     "metadata": {},
     "output_type": "execute_result"
    }
   ],
   "source": [
    "df01_users.sample(1)"
   ]
  },
  {
   "cell_type": "code",
   "execution_count": 97,
   "id": "e7b73c50",
   "metadata": {
    "ExecuteTime": {
     "end_time": "2022-03-30T16:43:46.836876Z",
     "start_time": "2022-03-30T16:43:46.809860Z"
    }
   },
   "outputs": [
    {
     "data": {
      "text/plain": [
       "id                                 object\n",
       "date_account_created       datetime64[ns]\n",
       "timestamp_first_active     datetime64[ns]\n",
       "date_first_booking         datetime64[ns]\n",
       "gender                             object\n",
       "age                                 int64\n",
       "signup_method                      object\n",
       "signup_flow                         int64\n",
       "language                           object\n",
       "affiliate_channel                  object\n",
       "affiliate_provider                 object\n",
       "first_affiliate_tracked            object\n",
       "signup_app                         object\n",
       "first_device_type                  object\n",
       "first_browser                      object\n",
       "country_destination                object\n",
       "dtype: object"
      ]
     },
     "execution_count": 97,
     "metadata": {},
     "output_type": "execute_result"
    }
   ],
   "source": [
    "df01_users.dtypes"
   ]
  },
  {
   "cell_type": "markdown",
   "id": "b4774540",
   "metadata": {},
   "source": [
    "## 1.6. Check Balanced Data\n",
    "\n",
    "Data with an unbalance of 70% for the US class."
   ]
  },
  {
   "cell_type": "code",
   "execution_count": 98,
   "id": "8f5cdc46",
   "metadata": {
    "ExecuteTime": {
     "end_time": "2022-03-30T16:43:46.900865Z",
     "start_time": "2022-03-30T16:43:46.841859Z"
    }
   },
   "outputs": [
    {
     "data": {
      "text/plain": [
       "NDF     0.57967\n",
       "US      0.29446\n",
       "other   0.04813\n",
       "FR      0.02362\n",
       "IT      0.01346\n",
       "GB      0.01107\n",
       "ES      0.01067\n",
       "CA      0.00671\n",
       "DE      0.00502\n",
       "NL      0.00362\n",
       "AU      0.00254\n",
       "PT      0.00103\n",
       "Name: country_destination, dtype: float64"
      ]
     },
     "execution_count": 98,
     "metadata": {},
     "output_type": "execute_result"
    }
   ],
   "source": [
    "df01_users['country_destination'].value_counts(normalize=True)"
   ]
  },
  {
   "cell_type": "markdown",
   "id": "6205e893",
   "metadata": {},
   "source": [
    "## 1.7. Descriptive Analysis"
   ]
  },
  {
   "cell_type": "code",
   "execution_count": 99,
   "id": "9432fc37",
   "metadata": {
    "ExecuteTime": {
     "end_time": "2022-03-30T16:48:25.558855Z",
     "start_time": "2022-03-30T16:43:46.908858Z"
    }
   },
   "outputs": [],
   "source": [
    "# split data users in types dataframes\n",
    "num_attributes_users = df01_users.select_dtypes(include=['int64', 'float64'])\n",
    "cat_attributes_users = df01_users.select_dtypes(exclude=['int64', 'float64', 'datetime64[ns]'])\n",
    "time_attributes_users = df01_users.select_dtypes(include=['datetime64[ns]'])\n",
    "\n",
    "# split data sessions in types dataframes\n",
    "num_attributes_sessions = df01_sessions.select_dtypes(include=['int64', 'float64'])\n",
    "cat_attributes_sessions = df01_sessions.select_dtypes(exclude=['int64', 'float64', 'datetime64[ns]'])\n",
    "time_attributes_sessions = df01_sessions.select_dtypes(include=['datetime64[ns]'])"
   ]
  },
  {
   "cell_type": "markdown",
   "id": "979e6980",
   "metadata": {},
   "source": [
    "### 1.7.1. Numerical - Data Users"
   ]
  },
  {
   "cell_type": "code",
   "execution_count": 100,
   "id": "5f5df40e",
   "metadata": {
    "ExecuteTime": {
     "end_time": "2022-03-30T16:48:25.734855Z",
     "start_time": "2022-03-30T16:48:25.564860Z"
    }
   },
   "outputs": [
    {
     "data": {
      "text/html": [
       "<div>\n",
       "<style scoped>\n",
       "    .dataframe tbody tr th:only-of-type {\n",
       "        vertical-align: middle;\n",
       "    }\n",
       "\n",
       "    .dataframe tbody tr th {\n",
       "        vertical-align: top;\n",
       "    }\n",
       "\n",
       "    .dataframe thead th {\n",
       "        text-align: right;\n",
       "    }\n",
       "</style>\n",
       "<table border=\"1\" class=\"dataframe\">\n",
       "  <thead>\n",
       "    <tr style=\"text-align: right;\">\n",
       "      <th></th>\n",
       "      <th>attributes</th>\n",
       "      <th>max</th>\n",
       "      <th>min</th>\n",
       "      <th>range</th>\n",
       "      <th>mean</th>\n",
       "      <th>median</th>\n",
       "      <th>std</th>\n",
       "      <th>skew</th>\n",
       "      <th>kurtosis</th>\n",
       "    </tr>\n",
       "  </thead>\n",
       "  <tbody>\n",
       "    <tr>\n",
       "      <th>0</th>\n",
       "      <td>age</td>\n",
       "      <td>2014</td>\n",
       "      <td>1</td>\n",
       "      <td>2013</td>\n",
       "      <td>49.18314</td>\n",
       "      <td>49.00000</td>\n",
       "      <td>118.42169</td>\n",
       "      <td>16.33382</td>\n",
       "      <td>267.65543</td>\n",
       "    </tr>\n",
       "    <tr>\n",
       "      <th>1</th>\n",
       "      <td>signup_flow</td>\n",
       "      <td>25</td>\n",
       "      <td>0</td>\n",
       "      <td>25</td>\n",
       "      <td>3.15149</td>\n",
       "      <td>0.00000</td>\n",
       "      <td>7.54392</td>\n",
       "      <td>2.28716</td>\n",
       "      <td>3.56779</td>\n",
       "    </tr>\n",
       "  </tbody>\n",
       "</table>\n",
       "</div>"
      ],
      "text/plain": [
       "    attributes   max  min  range     mean   median       std     skew  \\\n",
       "0          age  2014    1   2013 49.18314 49.00000 118.42169 16.33382   \n",
       "1  signup_flow    25    0     25  3.15149  0.00000   7.54392  2.28716   \n",
       "\n",
       "   kurtosis  \n",
       "0 267.65543  \n",
       "1   3.56779  "
      ]
     },
     "execution_count": 100,
     "metadata": {},
     "output_type": "execute_result"
    }
   ],
   "source": [
    "# tendency central - mean and median\n",
    "mean_users = pd.DataFrame(num_attributes_users.apply(lambda x: np.mean(x)))\n",
    "median_users = pd.DataFrame(num_attributes_users.apply(lambda x: np.median(x)))\n",
    "\n",
    "# dispersions - max, min, range, std, skew and kurtosis\n",
    "max_users = pd.DataFrame(num_attributes_users.apply(lambda x: x.max()))\n",
    "min_users = pd.DataFrame(num_attributes_users.apply(lambda x: x.min()))\n",
    "range_users = pd.DataFrame(num_attributes_users.apply(lambda x: x.max() - x.min()))\n",
    "std_users = pd.DataFrame(num_attributes_users.apply(lambda x: np.std(x)))\n",
    "skew_users = pd.DataFrame(num_attributes_users.apply(lambda x: x.skew()))\n",
    "kurtosis_users = pd.DataFrame(num_attributes_users.apply(lambda x: x.kurtosis()))\n",
    "\n",
    "# join tendency central and dispersion dataframe\n",
    "num_stats_users = pd.concat([max_users, min_users, range_users, mean_users, \n",
    "                             median_users, std_users, skew_users, kurtosis_users], axis=1).reset_index()\n",
    "num_stats_users.columns = ['attributes', 'max', 'min', 'range', 'mean', 'median', 'std', 'skew', 'kurtosis']\n",
    "\n",
    "num_stats_users"
   ]
  },
  {
   "cell_type": "markdown",
   "id": "3d05202c",
   "metadata": {},
   "source": [
    "### 1.7.2. Numerical - Data Sessions"
   ]
  },
  {
   "cell_type": "code",
   "execution_count": 101,
   "id": "d39cc8dc",
   "metadata": {
    "ExecuteTime": {
     "end_time": "2022-03-30T16:48:26.994860Z",
     "start_time": "2022-03-30T16:48:25.738860Z"
    }
   },
   "outputs": [
    {
     "data": {
      "text/html": [
       "<div>\n",
       "<style scoped>\n",
       "    .dataframe tbody tr th:only-of-type {\n",
       "        vertical-align: middle;\n",
       "    }\n",
       "\n",
       "    .dataframe tbody tr th {\n",
       "        vertical-align: top;\n",
       "    }\n",
       "\n",
       "    .dataframe thead th {\n",
       "        text-align: right;\n",
       "    }\n",
       "</style>\n",
       "<table border=\"1\" class=\"dataframe\">\n",
       "  <thead>\n",
       "    <tr style=\"text-align: right;\">\n",
       "      <th></th>\n",
       "      <th>attributes</th>\n",
       "      <th>max</th>\n",
       "      <th>min</th>\n",
       "      <th>range</th>\n",
       "      <th>mean</th>\n",
       "      <th>median</th>\n",
       "      <th>std</th>\n",
       "      <th>skew</th>\n",
       "      <th>kurtosis</th>\n",
       "    </tr>\n",
       "  </thead>\n",
       "  <tbody>\n",
       "    <tr>\n",
       "      <th>0</th>\n",
       "      <td>secs_elapsed</td>\n",
       "      <td>1799977.00000</td>\n",
       "      <td>0.00000</td>\n",
       "      <td>1799977.00000</td>\n",
       "      <td>19961.82510</td>\n",
       "      <td>1369.00000</td>\n",
       "      <td>88849.38845</td>\n",
       "      <td>11.13776</td>\n",
       "      <td>154.84312</td>\n",
       "    </tr>\n",
       "  </tbody>\n",
       "</table>\n",
       "</div>"
      ],
      "text/plain": [
       "     attributes           max     min         range        mean     median  \\\n",
       "0  secs_elapsed 1799977.00000 0.00000 1799977.00000 19961.82510 1369.00000   \n",
       "\n",
       "          std     skew  kurtosis  \n",
       "0 88849.38845 11.13776 154.84312  "
      ]
     },
     "execution_count": 101,
     "metadata": {},
     "output_type": "execute_result"
    }
   ],
   "source": [
    "# tendency central - mean and median\n",
    "mean_sessions = pd.DataFrame(num_attributes_sessions.apply(lambda x: np.mean(x)))\n",
    "median_sessions = pd.DataFrame(num_attributes_sessions.apply(lambda x: np.median(x)))\n",
    "\n",
    "# dispersions - max, min, range, std, skew and kurtosis\n",
    "max_sessions = pd.DataFrame(num_attributes_sessions.apply(lambda x: x.max()))\n",
    "min_sessions = pd.DataFrame(num_attributes_sessions.apply(lambda x: x.min()))\n",
    "range_sessions = pd.DataFrame(num_attributes_sessions.apply(lambda x: x.max() - x.min()))\n",
    "std_sessions = pd.DataFrame(num_attributes_sessions.apply(lambda x: np.std(x)))\n",
    "skew_sessions = pd.DataFrame(num_attributes_sessions.apply(lambda x: x.skew()))\n",
    "kurtosis_sessions = pd.DataFrame(num_attributes_sessions.apply(lambda x: x.kurtosis()))\n",
    "\n",
    "# join tendency central and dispersion dataframe\n",
    "num_stats_sessions = pd.concat([max_sessions, min_sessions, range_sessions, mean_sessions, \n",
    "                             median_sessions, std_sessions, skew_sessions, kurtosis_sessions], axis=1).reset_index()\n",
    "num_stats_sessions.columns = ['attributes', 'max', 'min', 'range', 'mean', 'median', 'std', 'skew', 'kurtosis']\n",
    "\n",
    "num_stats_sessions"
   ]
  },
  {
   "cell_type": "markdown",
   "id": "9b67a7f3",
   "metadata": {},
   "source": [
    "### 1.7.3. Categorical - Data Users"
   ]
  },
  {
   "cell_type": "code",
   "execution_count": 102,
   "id": "395e6984",
   "metadata": {
    "ExecuteTime": {
     "end_time": "2022-03-30T16:48:27.697856Z",
     "start_time": "2022-03-30T16:48:26.998861Z"
    }
   },
   "outputs": [
    {
     "data": {
      "text/html": [
       "<div>\n",
       "<style scoped>\n",
       "    .dataframe tbody tr th:only-of-type {\n",
       "        vertical-align: middle;\n",
       "    }\n",
       "\n",
       "    .dataframe tbody tr th {\n",
       "        vertical-align: top;\n",
       "    }\n",
       "\n",
       "    .dataframe thead th {\n",
       "        text-align: right;\n",
       "    }\n",
       "</style>\n",
       "<table border=\"1\" class=\"dataframe\">\n",
       "  <thead>\n",
       "    <tr style=\"text-align: right;\">\n",
       "      <th></th>\n",
       "      <th>gender</th>\n",
       "      <th>signup_method</th>\n",
       "      <th>language</th>\n",
       "      <th>affiliate_channel</th>\n",
       "      <th>affiliate_provider</th>\n",
       "      <th>first_affiliate_tracked</th>\n",
       "      <th>signup_app</th>\n",
       "      <th>first_device_type</th>\n",
       "      <th>first_browser</th>\n",
       "      <th>country_destination</th>\n",
       "    </tr>\n",
       "  </thead>\n",
       "  <tbody>\n",
       "    <tr>\n",
       "      <th>count</th>\n",
       "      <td>207386</td>\n",
       "      <td>207386</td>\n",
       "      <td>207386</td>\n",
       "      <td>207386</td>\n",
       "      <td>207386</td>\n",
       "      <td>207386</td>\n",
       "      <td>207386</td>\n",
       "      <td>207386</td>\n",
       "      <td>207386</td>\n",
       "      <td>207386</td>\n",
       "    </tr>\n",
       "    <tr>\n",
       "      <th>unique</th>\n",
       "      <td>4</td>\n",
       "      <td>3</td>\n",
       "      <td>25</td>\n",
       "      <td>8</td>\n",
       "      <td>18</td>\n",
       "      <td>7</td>\n",
       "      <td>4</td>\n",
       "      <td>9</td>\n",
       "      <td>52</td>\n",
       "      <td>12</td>\n",
       "    </tr>\n",
       "    <tr>\n",
       "      <th>top</th>\n",
       "      <td>-unknown-</td>\n",
       "      <td>basic</td>\n",
       "      <td>en</td>\n",
       "      <td>direct</td>\n",
       "      <td>direct</td>\n",
       "      <td>untracked</td>\n",
       "      <td>Web</td>\n",
       "      <td>Mac Desktop</td>\n",
       "      <td>Chrome</td>\n",
       "      <td>NDF</td>\n",
       "    </tr>\n",
       "    <tr>\n",
       "      <th>freq</th>\n",
       "      <td>91783</td>\n",
       "      <td>148297</td>\n",
       "      <td>200415</td>\n",
       "      <td>134179</td>\n",
       "      <td>133935</td>\n",
       "      <td>109232</td>\n",
       "      <td>178334</td>\n",
       "      <td>89600</td>\n",
       "      <td>63845</td>\n",
       "      <td>120216</td>\n",
       "    </tr>\n",
       "  </tbody>\n",
       "</table>\n",
       "</div>"
      ],
      "text/plain": [
       "           gender signup_method language affiliate_channel affiliate_provider  \\\n",
       "count      207386        207386   207386            207386             207386   \n",
       "unique          4             3       25                 8                 18   \n",
       "top     -unknown-         basic       en            direct             direct   \n",
       "freq        91783        148297   200415            134179             133935   \n",
       "\n",
       "       first_affiliate_tracked signup_app first_device_type first_browser  \\\n",
       "count                   207386     207386            207386        207386   \n",
       "unique                       7          4                 9            52   \n",
       "top                  untracked        Web       Mac Desktop        Chrome   \n",
       "freq                    109232     178334             89600         63845   \n",
       "\n",
       "       country_destination  \n",
       "count               207386  \n",
       "unique                  12  \n",
       "top                    NDF  \n",
       "freq                120216  "
      ]
     },
     "execution_count": 102,
     "metadata": {},
     "output_type": "execute_result"
    }
   ],
   "source": [
    "cat_attributes_users.drop('id', axis=1).describe()"
   ]
  },
  {
   "cell_type": "markdown",
   "id": "f3c35b1f",
   "metadata": {},
   "source": [
    "#### 1.7.3.1. Correlation Matrix"
   ]
  },
  {
   "cell_type": "code",
   "execution_count": 103,
   "id": "63c73477",
   "metadata": {
    "ExecuteTime": {
     "end_time": "2022-03-30T16:48:43.340859Z",
     "start_time": "2022-03-30T16:48:27.701858Z"
    }
   },
   "outputs": [
    {
     "data": {
      "image/png": "[encoded data removed]",
      "text/plain": [
       "<Figure size 432x288 with 2 Axes>"
      ]
     },
     "metadata": {
      "needs_background": "light"
     },
     "output_type": "display_data"
    }
   ],
   "source": [
    "cat_attributes_users_columns = cat_attributes_users.drop('id', axis=1).columns.tolist()\n",
    "\n",
    "corr_dict = {}\n",
    "\n",
    "for main_column in cat_attributes_users_columns:\n",
    "    corr_list = []\n",
    "    \n",
    "    for secondary_column in cat_attributes_users_columns:\n",
    "        # cramer v\n",
    "        cat_corr = cramer_v( cat_attributes_users[main_column], cat_attributes_users[secondary_column] )\n",
    "        \n",
    "        # add to list\n",
    "        corr_list.append(cat_corr)\n",
    "    \n",
    "    # add to dict each attribute correlation \n",
    "    corr_dict[main_column] = corr_list\n",
    "\n",
    "df_corr_users = pd.DataFrame(corr_dict)\n",
    "df_corr_users = df_corr_users.set_index(df_corr_users.columns)\n",
    "sns.heatmap(df_corr_users, annot=True);"
   ]
  },
  {
   "cell_type": "markdown",
   "id": "ceb160dd",
   "metadata": {
    "ExecuteTime": {
     "end_time": "2022-03-02T14:41:15.919764Z",
     "start_time": "2022-03-02T14:41:15.909769Z"
    }
   },
   "source": [
    "### 1.7.4. Categorical - Data Sessions"
   ]
  },
  {
   "cell_type": "code",
   "execution_count": 104,
   "id": "745db2d3",
   "metadata": {
    "ExecuteTime": {
     "end_time": "2022-03-30T16:48:50.810855Z",
     "start_time": "2022-03-30T16:48:43.344862Z"
    },
    "scrolled": false
   },
   "outputs": [
    {
     "data": {
      "text/html": [
       "<div>\n",
       "<style scoped>\n",
       "    .dataframe tbody tr th:only-of-type {\n",
       "        vertical-align: middle;\n",
       "    }\n",
       "\n",
       "    .dataframe tbody tr th {\n",
       "        vertical-align: top;\n",
       "    }\n",
       "\n",
       "    .dataframe thead th {\n",
       "        text-align: right;\n",
       "    }\n",
       "</style>\n",
       "<table border=\"1\" class=\"dataframe\">\n",
       "  <thead>\n",
       "    <tr style=\"text-align: right;\">\n",
       "      <th></th>\n",
       "      <th>action</th>\n",
       "      <th>action_type</th>\n",
       "      <th>action_detail</th>\n",
       "      <th>device_type</th>\n",
       "    </tr>\n",
       "  </thead>\n",
       "  <tbody>\n",
       "    <tr>\n",
       "      <th>count</th>\n",
       "      <td>9213930</td>\n",
       "      <td>9213930</td>\n",
       "      <td>9213930</td>\n",
       "      <td>9213930</td>\n",
       "    </tr>\n",
       "    <tr>\n",
       "      <th>unique</th>\n",
       "      <td>347</td>\n",
       "      <td>10</td>\n",
       "      <td>155</td>\n",
       "      <td>14</td>\n",
       "    </tr>\n",
       "    <tr>\n",
       "      <th>top</th>\n",
       "      <td>show</td>\n",
       "      <td>view</td>\n",
       "      <td>view_search_results</td>\n",
       "      <td>Mac Desktop</td>\n",
       "    </tr>\n",
       "    <tr>\n",
       "      <th>freq</th>\n",
       "      <td>2178382</td>\n",
       "      <td>3545621</td>\n",
       "      <td>1770931</td>\n",
       "      <td>3019523</td>\n",
       "    </tr>\n",
       "  </tbody>\n",
       "</table>\n",
       "</div>"
      ],
      "text/plain": [
       "         action action_type        action_detail  device_type\n",
       "count   9213930     9213930              9213930      9213930\n",
       "unique      347          10                  155           14\n",
       "top        show        view  view_search_results  Mac Desktop\n",
       "freq    2178382     3545621              1770931      3019523"
      ]
     },
     "execution_count": 104,
     "metadata": {},
     "output_type": "execute_result"
    }
   ],
   "source": [
    "cat_attributes_sessions.drop('user_id', axis=1).describe()"
   ]
  },
  {
   "cell_type": "markdown",
   "id": "8e328578",
   "metadata": {},
   "source": [
    "#### 1.7.4.1. Correlation Matrix"
   ]
  },
  {
   "cell_type": "code",
   "execution_count": 105,
   "id": "86b19e0d",
   "metadata": {
    "ExecuteTime": {
     "end_time": "2022-03-30T16:49:59.292856Z",
     "start_time": "2022-03-30T16:48:50.815858Z"
    }
   },
   "outputs": [
    {
     "data": {
      "image/png": "[encoded data removed]",
      "text/plain": [
       "<Figure size 432x288 with 2 Axes>"
      ]
     },
     "metadata": {
      "needs_background": "light"
     },
     "output_type": "display_data"
    }
   ],
   "source": [
    "cat_attributes_sessions_columns = cat_attributes_sessions.drop('user_id', axis=1).columns.tolist()\n",
    "\n",
    "corr_dict = {}\n",
    "\n",
    "for main_column in cat_attributes_sessions_columns:\n",
    "    corr_list = []\n",
    "    \n",
    "    for secondary_column in cat_attributes_sessions_columns:\n",
    "        # cramer v\n",
    "        cat_corr = cramer_v( cat_attributes_sessions[main_column], cat_attributes_sessions[secondary_column] )\n",
    "        \n",
    "        # add to list\n",
    "        corr_list.append(cat_corr)\n",
    "    \n",
    "    # add to dict each attribute correlation \n",
    "    corr_dict[main_column] = corr_list\n",
    "\n",
    "df_corr_sessions = pd.DataFrame(corr_dict)\n",
    "df_corr_sessions = df_corr_sessions.set_index(df_corr_sessions.columns)\n",
    "sns.heatmap(df_corr_sessions, annot=True);"
   ]
  },
  {
   "cell_type": "markdown",
   "id": "bbe57720",
   "metadata": {},
   "source": [
    "# 2.0. Feature Engineering"
   ]
  },
  {
   "cell_type": "code",
   "execution_count": 106,
   "id": "f64c4deb",
   "metadata": {
    "ExecuteTime": {
     "end_time": "2022-03-30T16:49:59.450861Z",
     "start_time": "2022-03-30T16:49:59.297866Z"
    }
   },
   "outputs": [],
   "source": [
    "df02_users = df01_users.copy()"
   ]
  },
  {
   "cell_type": "markdown",
   "id": "aaff3d14",
   "metadata": {},
   "source": [
    "## 2.1. Create Gap Between Dates Features"
   ]
  },
  {
   "cell_type": "code",
   "execution_count": 107,
   "id": "bd3f47d3",
   "metadata": {
    "ExecuteTime": {
     "end_time": "2022-03-30T16:50:18.546855Z",
     "start_time": "2022-03-30T16:49:59.455883Z"
    }
   },
   "outputs": [],
   "source": [
    "# date of first active\n",
    "df02_users['date_first_active'] = pd.to_datetime(df02_users['timestamp_first_active'].dt.strftime(\"%Y-%m-%d\"))\n",
    "\n",
    "# difference in days between date_account_created and date_first_active\n",
    "df02_users['diff_account_created_first_active'] = (df02_users['date_account_created'] - df02_users['date_first_active']).apply(lambda x: x.days)\n",
    "\n",
    "# difference in days between date_account_created and date_first_booking\n",
    "df02_users['diff_first_booking_account_created'] = (df02_users['date_first_booking'] - df02_users['date_account_created']).apply(lambda x: x.days)\n",
    "\n",
    "# difference in days between date_first_active and date_first_booking\n",
    "df02_users['diff_first_active_first_booking'] = (df02_users['date_first_booking'] - df02_users['date_first_active']).apply(lambda x: x.days)"
   ]
  },
  {
   "cell_type": "markdown",
   "id": "982365d3",
   "metadata": {
    "ExecuteTime": {
     "end_time": "2022-03-02T15:58:55.212964Z",
     "start_time": "2022-03-02T15:58:55.204965Z"
    }
   },
   "source": [
    "## 2.2. Create Date Features"
   ]
  },
  {
   "cell_type": "markdown",
   "id": "1513d5b8",
   "metadata": {},
   "source": [
    "### 2.2.1. Account Created"
   ]
  },
  {
   "cell_type": "code",
   "execution_count": 108,
   "id": "9542ac6e",
   "metadata": {
    "ExecuteTime": {
     "end_time": "2022-03-30T16:50:18.785855Z",
     "start_time": "2022-03-30T16:50:18.550863Z"
    }
   },
   "outputs": [],
   "source": [
    "# year\n",
    "df02_users['year_account_created'] = df02_users['date_account_created'].dt.year\n",
    "\n",
    "# month\n",
    "df02_users['month_account_created'] = df02_users['date_account_created'].dt.month\n",
    "\n",
    "# day\n",
    "df02_users['day_account_created'] = df02_users['date_account_created'].dt.day\n",
    "\n",
    "# day of week\n",
    "df02_users['dayofweek_account_created'] = df02_users['date_account_created'].dt.dayofweek\n",
    "\n",
    "# week of year\n",
    "df02_users['weekofyear_account_created'] = df02_users['date_account_created'].dt.weekofyear"
   ]
  },
  {
   "cell_type": "markdown",
   "id": "f2376c9c",
   "metadata": {},
   "source": [
    "### 2.2.2. First Active"
   ]
  },
  {
   "cell_type": "code",
   "execution_count": 109,
   "id": "5afd37f4",
   "metadata": {
    "ExecuteTime": {
     "end_time": "2022-03-30T16:50:18.976854Z",
     "start_time": "2022-03-30T16:50:18.789867Z"
    }
   },
   "outputs": [],
   "source": [
    "# year\n",
    "df02_users['year_first_active'] = df02_users['date_first_active'].dt.year\n",
    "\n",
    "# month\n",
    "df02_users['month_first_active'] = df02_users['date_first_active'].dt.month\n",
    "\n",
    "# day\n",
    "df02_users['day_first_active'] = df02_users['date_first_active'].dt.day\n",
    "\n",
    "# day of week\n",
    "df02_users['dayofweek_first_active'] = df02_users['date_first_active'].dt.dayofweek\n",
    "\n",
    "# week of year\n",
    "df02_users['weekofyear_first_active'] = df02_users['date_first_active'].dt.weekofyear"
   ]
  },
  {
   "cell_type": "markdown",
   "id": "4d9a2527",
   "metadata": {},
   "source": [
    "### 2.2.3. First Booking"
   ]
  },
  {
   "cell_type": "code",
   "execution_count": 110,
   "id": "e814f8e3",
   "metadata": {
    "ExecuteTime": {
     "end_time": "2022-03-30T16:50:19.216855Z",
     "start_time": "2022-03-30T16:50:18.980858Z"
    }
   },
   "outputs": [],
   "source": [
    "# year\n",
    "df02_users['year_first_booking'] = df02_users['date_first_booking'].dt.year\n",
    "\n",
    "# month\n",
    "df02_users['month_first_booking'] = df02_users['date_first_booking'].dt.month\n",
    "\n",
    "# day\n",
    "df02_users['day_first_booking'] = df02_users['date_first_booking'].dt.day\n",
    "\n",
    "# day of week\n",
    "df02_users['dayofweek_first_booking'] = df02_users['date_first_booking'].dt.dayofweek\n",
    "\n",
    "# week of year\n",
    "df02_users['weekofyear_first_booking'] = df02_users['date_first_booking'].dt.weekofyear"
   ]
  },
  {
   "cell_type": "markdown",
   "id": "b0f5b037",
   "metadata": {},
   "source": [
    "# 3.0. Data Filtering\n",
    "\n",
    "To increase time, the Data Filtering stage will be skipped in this first cycle."
   ]
  },
  {
   "cell_type": "code",
   "execution_count": 111,
   "id": "26b87f66",
   "metadata": {
    "ExecuteTime": {
     "end_time": "2022-03-30T16:50:23.240854Z",
     "start_time": "2022-03-30T16:50:19.219859Z"
    }
   },
   "outputs": [],
   "source": [
    "df03_users = df02_users.copy()"
   ]
  },
  {
   "cell_type": "markdown",
   "id": "80d07e8f",
   "metadata": {},
   "source": [
    "## 3.1. Filtering Rows"
   ]
  },
  {
   "cell_type": "code",
   "execution_count": 112,
   "id": "21f479f8",
   "metadata": {
    "ExecuteTime": {
     "end_time": "2022-03-30T16:50:23.400855Z",
     "start_time": "2022-03-30T16:50:23.245859Z"
    }
   },
   "outputs": [],
   "source": [
    "# age - greater than 15 and lower than 100 - There are few people over 100 years old ( Could be error from system or manual imput - Cleaning noise)\n",
    "df03_users = df03_users[(df03_users['age'] > 15) & (df03_users['age'] < 100)]\n",
    "\n",
    "# secs_elapsed - there is no possible 0 secs elapesed on website\n",
    "#df03_sessions = df03_sessions[df03_sessions['secs_elapsed'] > 0]"
   ]
  },
  {
   "cell_type": "markdown",
   "id": "d9303a1b",
   "metadata": {},
   "source": [
    "## 3.2. Columns Selection"
   ]
  },
  {
   "cell_type": "code",
   "execution_count": 113,
   "id": "60df59fd",
   "metadata": {
    "ExecuteTime": {
     "end_time": "2022-03-30T16:50:23.527854Z",
     "start_time": "2022-03-30T16:50:23.404861Z"
    }
   },
   "outputs": [],
   "source": [
    "# columns id not carry any information\n",
    "df03_users = df03_users.drop(['id'], axis=1)\n",
    "\n",
    "# columns used to feature enginnering\n",
    "cols_date =['timestamp_first_active',\n",
    "            'date_first_active',\n",
    "            'date_account_created',\n",
    "            'date_first_booking']\n",
    "\n",
    "df03_users = df03_users.drop(columns=cols_date)"
   ]
  },
  {
   "cell_type": "markdown",
   "id": "20d1ff53",
   "metadata": {},
   "source": [
    "# 4.0. Data Exploratory Analysis\n",
    "\n",
    "To increase time, the EDA stage will be skipped in this first cycle."
   ]
  },
  {
   "cell_type": "code",
   "execution_count": 114,
   "id": "c5e9da71",
   "metadata": {
    "ExecuteTime": {
     "end_time": "2022-03-30T16:50:23.623856Z",
     "start_time": "2022-03-30T16:50:23.531860Z"
    }
   },
   "outputs": [],
   "source": [
    "df04_users = df03_users.copy()"
   ]
  },
  {
   "cell_type": "markdown",
   "id": "868b4156",
   "metadata": {},
   "source": [
    "# 5.0. Data Preparation"
   ]
  },
  {
   "cell_type": "code",
   "execution_count": 115,
   "id": "5fcd8687",
   "metadata": {
    "ExecuteTime": {
     "end_time": "2022-03-30T16:50:23.671856Z",
     "start_time": "2022-03-30T16:50:23.628857Z"
    }
   },
   "outputs": [],
   "source": [
    "df05_users = df04_users.copy()"
   ]
  },
  {
   "cell_type": "markdown",
   "id": "9d06c955",
   "metadata": {},
   "source": [
    "## 5.1. Encoding"
   ]
  },
  {
   "cell_type": "code",
   "execution_count": 116,
   "id": "53e5ef72",
   "metadata": {
    "ExecuteTime": {
     "end_time": "2022-03-30T16:50:24.357857Z",
     "start_time": "2022-03-30T16:50:23.675857Z"
    }
   },
   "outputs": [],
   "source": [
    "# dummy variable\n",
    "df05_users_dummy = pd.get_dummies(df05_users.drop(['country_destination'], axis=1))\n",
    "\n",
    "# join id and country destination\n",
    "df05_users = pd.concat( [df05_users['country_destination'], df05_users_dummy], axis=1 )"
   ]
  },
  {
   "cell_type": "markdown",
   "id": "49f08d63",
   "metadata": {},
   "source": [
    "## 5.2. Response Variable"
   ]
  },
  {
   "cell_type": "code",
   "execution_count": 117,
   "id": "310aa8b8",
   "metadata": {
    "ExecuteTime": {
     "end_time": "2022-03-30T16:50:24.674854Z",
     "start_time": "2022-03-30T16:50:24.361858Z"
    }
   },
   "outputs": [],
   "source": [
    "# create OneHotEncoder instance\n",
    "ohe = pp.OneHotEncoder()\n",
    "\n",
    "# ohe hot encoding response feature\n",
    "df_ohe = pd.DataFrame(ohe.fit_transform(df05_users['country_destination'].values.reshape(-1,1)).toarray(),\n",
    "                      columns=ohe.categories_[0],\n",
    "                      index=df05_users.index)\n",
    "\n",
    "# joining encoded response feature to dataset\n",
    "df05_users = pd.concat([df05_users.drop(columns=['country_destination']), df_ohe], axis=1)"
   ]
  },
  {
   "cell_type": "markdown",
   "id": "56417dc6",
   "metadata": {},
   "source": [
    "# 6.0. Feature Selection"
   ]
  },
  {
   "cell_type": "code",
   "execution_count": 118,
   "id": "924a6eec",
   "metadata": {
    "ExecuteTime": {
     "end_time": "2022-03-30T16:50:24.754856Z",
     "start_time": "2022-03-30T16:50:24.694859Z"
    }
   },
   "outputs": [],
   "source": [
    "df06_users = df05_users.copy()"
   ]
  },
  {
   "cell_type": "markdown",
   "id": "96219a78",
   "metadata": {},
   "source": [
    "## 6.1. Split Dataframe into Training and Test Dataset"
   ]
  },
  {
   "cell_type": "code",
   "execution_count": 119,
   "id": "c4bc27ff",
   "metadata": {
    "ExecuteTime": {
     "end_time": "2022-03-30T16:50:24.866855Z",
     "start_time": "2022-03-30T16:50:24.758859Z"
    }
   },
   "outputs": [],
   "source": [
    "# training dataset\n",
    "X = df06_users.drop( columns=ohe.categories_[0] )\n",
    "\n",
    "# separate response dataset\n",
    "y = df06_users[ohe.categories_[0]]"
   ]
  },
  {
   "cell_type": "code",
   "execution_count": 120,
   "id": "2526e910",
   "metadata": {
    "ExecuteTime": {
     "end_time": "2022-03-30T16:50:25.298855Z",
     "start_time": "2022-03-30T16:50:24.870861Z"
    }
   },
   "outputs": [],
   "source": [
    "# Split dataset into training and test (validation)\n",
    "X_train, X_test, y_train, y_test = ms.train_test_split(X, y, test_size=0.2, random_state=32)"
   ]
  },
  {
   "cell_type": "markdown",
   "id": "c9ee0881",
   "metadata": {},
   "source": [
    "# 7.0. Machine Learing Model"
   ]
  },
  {
   "cell_type": "code",
   "execution_count": 121,
   "id": "b9dfd8fe",
   "metadata": {
    "ExecuteTime": {
     "end_time": "2022-03-30T16:50:25.330856Z",
     "start_time": "2022-03-30T16:50:25.303856Z"
    }
   },
   "outputs": [],
   "source": [
    "x_train = X_train\n",
    "x_test = X_test"
   ]
  },
  {
   "cell_type": "markdown",
   "id": "b3107f01",
   "metadata": {},
   "source": [
    "## 7.1. Baseline Model - Random"
   ]
  },
  {
   "cell_type": "code",
   "execution_count": 122,
   "id": "c5ee811a",
   "metadata": {
    "ExecuteTime": {
     "end_time": "2022-03-30T16:50:25.538855Z",
     "start_time": "2022-03-30T16:50:25.337857Z"
    }
   },
   "outputs": [],
   "source": [
    "# list of country destination\n",
    "country_list = ohe.categories_[0].tolist()\n",
    "\n",
    "# number of rows\n",
    "k_num = y_test.shape[0]\n",
    "\n",
    "# proportion of country destinations for imbalanced result\n",
    "df_ohe = pd.DataFrame(ohe.inverse_transform(df06_users[ohe.categories_[0]]))\n",
    "country_weights = df_ohe.value_counts(normalize=True).sort_index().tolist()\n",
    "\n",
    "# prediction\n",
    "yhat_random = random.choices(population=country_list,\n",
    "                             weights=country_weights,\n",
    "                             k=k_num)\n",
    "\n",
    "# invert validation response\n",
    "y_test_random = ohe.inverse_transform(y_test)"
   ]
  },
  {
   "cell_type": "markdown",
   "id": "1d75cf9e",
   "metadata": {},
   "source": [
    "### 7.1.1. Baseline Model - Performance"
   ]
  },
  {
   "cell_type": "code",
   "execution_count": 123,
   "id": "593b7189",
   "metadata": {
    "ExecuteTime": {
     "end_time": "2022-03-30T16:50:29.630863Z",
     "start_time": "2022-03-30T16:50:25.541859Z"
    }
   },
   "outputs": [
    {
     "name": "stdout",
     "output_type": "stream",
     "text": [
      "Accuracy 0.42732416349624425\n",
      "Balanced Accuracy: 0.08319050385315935\n",
      "Kappa Score: 0.002783381864415846\n",
      "              precision    recall  f1-score   support\n",
      "\n",
      "          AU       0.00      0.00      0.00        98\n",
      "          CA       0.01      0.01      0.01       283\n",
      "          DE       0.00      0.00      0.00       227\n",
      "          ES       0.01      0.01      0.01       433\n",
      "          FR       0.02      0.02      0.02       963\n",
      "          GB       0.02      0.02      0.02       469\n",
      "          IT       0.01      0.01      0.01       539\n",
      "         NDF       0.58      0.58      0.58     23643\n",
      "          NL       0.00      0.00      0.00       156\n",
      "          PT       0.00      0.00      0.00        36\n",
      "          US       0.30      0.30      0.30     12192\n",
      "       other       0.05      0.05      0.05      1965\n",
      "\n",
      "    accuracy                           0.43     41004\n",
      "   macro avg       0.08      0.08      0.08     41004\n",
      "weighted avg       0.43      0.43      0.43     41004\n",
      "\n"
     ]
    },
    {
     "data": {
      "image/png": "[encoded data removed]",
      "text/plain": [
       "<Figure size 864x864 with 2 Axes>"
      ]
     },
     "metadata": {
      "needs_background": "light"
     },
     "output_type": "display_data"
    }
   ],
   "source": [
    "# Accuracy\n",
    "acc_random = m.accuracy_score( y_test_random, yhat_random )\n",
    "print(f'Accuracy {acc_random}')\n",
    "\n",
    "# Balanced Accuracy\n",
    "balanced_acc_random = m.balanced_accuracy_score(y_test_random, yhat_random)\n",
    "print(f'Balanced Accuracy: {balanced_acc_random}')\n",
    "\n",
    "# Kappa Metrics\n",
    "kappa_random = m.cohen_kappa_score(y_test_random, yhat_random)\n",
    "print(f'Kappa Score: {kappa_random}')\n",
    "\n",
    "# Classification report\n",
    "print(m.classification_report(y_test_random, yhat_random))\n",
    "\n",
    "# Confusion Matrix\n",
    "mt.plot_confusion_matrix(y_test_random, yhat_random, normalize=False, figsize=(12,12));\n",
    "\n",
    "# Performance\n",
    "baseline_performance = {'model': 'Baseline Model',\n",
    "                        'acc': np.round(acc_random, 6),\n",
    "                        'balanced_acc': np.round(balanced_acc_random, 6),\n",
    "                        'kappa_store': np.round(kappa_random, 6)}"
   ]
  },
  {
   "cell_type": "markdown",
   "id": "74175f4b",
   "metadata": {},
   "source": [
    "## 7.2. Neural Network - MLP"
   ]
  },
  {
   "cell_type": "code",
   "execution_count": 124,
   "id": "fa3d36ec",
   "metadata": {
    "ExecuteTime": {
     "end_time": "2022-03-30T17:02:13.561617Z",
     "start_time": "2022-03-30T16:50:29.634861Z"
    },
    "scrolled": true
   },
   "outputs": [
    {
     "name": "stdout",
     "output_type": "stream",
     "text": [
      "Epoch 1/100\n",
      "5126/5126 [==============================] - 8s 2ms/step - loss: 2.8969 - accuracy: 0.7992: 0s - loss: 2.9640 \n",
      "Epoch 2/100\n",
      "5126/5126 [==============================] - 7s 1ms/step - loss: 1.2571 - accuracy: 0.8215\n",
      "Epoch 3/100\n",
      "5126/5126 [==============================] - 7s 1ms/step - loss: 0.7070 - accuracy: 0.8495\n",
      "Epoch 4/100\n",
      "5126/5126 [==============================] - 7s 1ms/step - loss: 0.5330 - accuracy: 0.8707\n",
      "Epoch 5/100\n",
      "5126/5126 [==============================] - 9s 2ms/step - loss: 0.4976 - accuracy: 0.8737\n",
      "Epoch 6/100\n",
      "5126/5126 [==============================] - 9s 2ms/step - loss: 0.4949 - accuracy: 0.8742 -\n",
      "Epoch 7/100\n",
      "5126/5126 [==============================] - 8s 2ms/step - loss: 0.4940 - accuracy: 0.8742\n",
      "Epoch 8/100\n",
      "5126/5126 [==============================] - 6s 1ms/step - loss: 0.4929 - accuracy: 0.8743\n",
      "Epoch 9/100\n",
      "5126/5126 [==============================] - 5s 1ms/step - loss: 0.4936 - accuracy: 0.8742\n",
      "Epoch 10/100\n",
      "5126/5126 [==============================] - 6s 1ms/step - loss: 0.4921 - accuracy: 0.8744\n",
      "Epoch 11/100\n",
      "5126/5126 [==============================] - 7s 1ms/step - loss: 0.4920 - accuracy: 0.8744\n",
      "Epoch 12/100\n",
      "5126/5126 [==============================] - 7s 1ms/step - loss: 0.4914 - accuracy: 0.8744\n",
      "Epoch 13/100\n",
      "5126/5126 [==============================] - 7s 1ms/step - loss: 0.4913 - accuracy: 0.8744\n",
      "Epoch 14/100\n",
      "5126/5126 [==============================] - 7s 1ms/step - loss: 0.4909 - accuracy: 0.8744\n",
      "Epoch 15/100\n",
      "5126/5126 [==============================] - 7s 1ms/step - loss: 0.4912 - accuracy: 0.8744\n",
      "Epoch 16/100\n",
      "5126/5126 [==============================] - 7s 1ms/step - loss: 0.4925 - accuracy: 0.8744\n",
      "Epoch 17/100\n",
      "5126/5126 [==============================] - 7s 1ms/step - loss: 0.4888 - accuracy: 0.8745\n",
      "Epoch 18/100\n",
      "5126/5126 [==============================] - 7s 1ms/step - loss: 0.4886 - accuracy: 0.8745\n",
      "Epoch 19/100\n",
      "5126/5126 [==============================] - 7s 1ms/step - loss: 0.4881 - accuracy: 0.8746\n",
      "Epoch 20/100\n",
      "5126/5126 [==============================] - 7s 1ms/step - loss: 0.4876 - accuracy: 0.8745\n",
      "Epoch 21/100\n",
      "5126/5126 [==============================] - 7s 1ms/step - loss: 0.4883 - accuracy: 0.8745\n",
      "Epoch 22/100\n",
      "5126/5126 [==============================] - 7s 1ms/step - loss: 0.4876 - accuracy: 0.8746\n",
      "Epoch 23/100\n",
      "5126/5126 [==============================] - 7s 1ms/step - loss: 0.4883 - accuracy: 0.8745\n",
      "Epoch 24/100\n",
      "5126/5126 [==============================] - 7s 1ms/step - loss: 0.4874 - accuracy: 0.8746\n",
      "Epoch 25/100\n",
      "5126/5126 [==============================] - ETA: 0s - loss: 0.4878 - accuracy: 0.87 - 7s 1ms/step - loss: 0.4878 - accuracy: 0.8745\n",
      "Epoch 26/100\n",
      "5126/5126 [==============================] - 7s 1ms/step - loss: 0.4885 - accuracy: 0.8745\n",
      "Epoch 27/100\n",
      "5126/5126 [==============================] - 7s 1ms/step - loss: 0.4877 - accuracy: 0.8745\n",
      "Epoch 28/100\n",
      "5126/5126 [==============================] - 7s 1ms/step - loss: 0.4877 - accuracy: 0.8746\n",
      "Epoch 29/100\n",
      "5126/5126 [==============================] - 7s 1ms/step - loss: 0.4880 - accuracy: 0.8746\n",
      "Epoch 30/100\n",
      "5126/5126 [==============================] - 7s 1ms/step - loss: 0.4879 - accuracy: 0.8746\n",
      "Epoch 31/100\n",
      "5126/5126 [==============================] - 7s 1ms/step - loss: 0.4879 - accuracy: 0.8745\n",
      "Epoch 32/100\n",
      "5126/5126 [==============================] - 7s 1ms/step - loss: 0.4876 - accuracy: 0.8745\n",
      "Epoch 33/100\n",
      "5126/5126 [==============================] - 7s 1ms/step - loss: 0.4875 - accuracy: 0.8746\n",
      "Epoch 34/100\n",
      "5126/5126 [==============================] - 7s 1ms/step - loss: 0.4879 - accuracy: 0.8745\n",
      "Epoch 35/100\n",
      "5126/5126 [==============================] - 7s 1ms/step - loss: 0.4877 - accuracy: 0.8745\n",
      "Epoch 36/100\n",
      "5126/5126 [==============================] - 7s 1ms/step - loss: 0.4877 - accuracy: 0.8746\n",
      "Epoch 37/100\n",
      "5126/5126 [==============================] - 7s 1ms/step - loss: 0.4873 - accuracy: 0.8746\n",
      "Epoch 38/100\n",
      "5126/5126 [==============================] - 9s 2ms/step - loss: 0.4874 - accuracy: 0.8746\n",
      "Epoch 39/100\n",
      "5126/5126 [==============================] - 7s 1ms/step - loss: 0.4872 - accuracy: 0.8746\n",
      "Epoch 40/100\n",
      "5126/5126 [==============================] - 7s 1ms/step - loss: 0.4873 - accuracy: 0.8746\n",
      "Epoch 41/100\n",
      "5126/5126 [==============================] - 7s 1ms/step - loss: 0.4878 - accuracy: 0.8746\n",
      "Epoch 42/100\n",
      "5126/5126 [==============================] - 7s 1ms/step - loss: 0.4878 - accuracy: 0.8746\n",
      "Epoch 43/100\n",
      "5126/5126 [==============================] - 7s 1ms/step - loss: 0.4875 - accuracy: 0.8746\n",
      "Epoch 44/100\n",
      "5126/5126 [==============================] - 7s 1ms/step - loss: 0.4887 - accuracy: 0.8745\n",
      "Epoch 45/100\n",
      "5126/5126 [==============================] - 7s 1ms/step - loss: 0.4876 - accuracy: 0.8746\n",
      "Epoch 46/100\n",
      "5126/5126 [==============================] - 7s 1ms/step - loss: 0.4894 - accuracy: 0.8744\n",
      "Epoch 47/100\n",
      "5126/5126 [==============================] - 7s 1ms/step - loss: 0.4876 - accuracy: 0.8746\n",
      "Epoch 48/100\n",
      "5126/5126 [==============================] - 7s 1ms/step - loss: 0.4876 - accuracy: 0.8746\n",
      "Epoch 49/100\n",
      "5126/5126 [==============================] - 7s 1ms/step - loss: 0.4875 - accuracy: 0.8746\n",
      "Epoch 50/100\n",
      "5126/5126 [==============================] - 7s 1ms/step - loss: 0.4879 - accuracy: 0.8746\n",
      "Epoch 51/100\n",
      "5126/5126 [==============================] - 7s 1ms/step - loss: 0.4875 - accuracy: 0.8746\n",
      "Epoch 52/100\n",
      "5126/5126 [==============================] - 7s 1ms/step - loss: 0.4906 - accuracy: 0.8743\n",
      "Epoch 53/100\n",
      "5126/5126 [==============================] - 7s 1ms/step - loss: 0.4870 - accuracy: 0.8747\n",
      "Epoch 54/100\n",
      "5126/5126 [==============================] - 7s 1ms/step - loss: 0.4875 - accuracy: 0.8746\n",
      "Epoch 55/100\n",
      "5126/5126 [==============================] - 7s 1ms/step - loss: 0.4875 - accuracy: 0.8746\n",
      "Epoch 56/100\n",
      "5126/5126 [==============================] - 7s 1ms/step - loss: 0.4878 - accuracy: 0.8746\n",
      "Epoch 57/100\n",
      "5126/5126 [==============================] - 7s 1ms/step - loss: 0.4875 - accuracy: 0.8746\n",
      "Epoch 58/100\n",
      "5126/5126 [==============================] - 7s 1ms/step - loss: 0.4874 - accuracy: 0.8746\n",
      "Epoch 59/100\n",
      "5126/5126 [==============================] - 7s 1ms/step - loss: 0.4877 - accuracy: 0.8746\n",
      "Epoch 60/100\n",
      "5126/5126 [==============================] - 7s 1ms/step - loss: 0.4873 - accuracy: 0.8747\n",
      "Epoch 61/100\n",
      "5126/5126 [==============================] - 7s 1ms/step - loss: 0.4877 - accuracy: 0.8746\n",
      "Epoch 62/100\n",
      "5126/5126 [==============================] - 7s 1ms/step - loss: 0.4875 - accuracy: 0.8746\n",
      "Epoch 63/100\n",
      "5126/5126 [==============================] - 7s 1ms/step - loss: 0.4875 - accuracy: 0.8746\n",
      "Epoch 64/100\n",
      "5126/5126 [==============================] - 8s 2ms/step - loss: 0.4887 - accuracy: 0.8745: 0s - los\n",
      "Epoch 65/100\n",
      "5126/5126 [==============================] - 7s 1ms/step - loss: 0.4873 - accuracy: 0.8747\n",
      "Epoch 66/100\n",
      "5126/5126 [==============================] - 7s 1ms/step - loss: 0.4883 - accuracy: 0.8746\n",
      "Epoch 67/100\n",
      "5126/5126 [==============================] - 7s 1ms/step - loss: 0.4869 - accuracy: 0.8747\n",
      "Epoch 68/100\n",
      "5126/5126 [==============================] - 8s 1ms/step - loss: 0.4873 - accuracy: 0.8747\n",
      "Epoch 69/100\n",
      "5126/5126 [==============================] - 8s 2ms/step - loss: 0.4874 - accuracy: 0.8747\n",
      "Epoch 70/100\n",
      "5126/5126 [==============================] - 7s 1ms/step - loss: 0.4877 - accuracy: 0.8746\n",
      "Epoch 71/100\n",
      "5126/5126 [==============================] - 7s 1ms/step - loss: 0.4874 - accuracy: 0.8746\n",
      "Epoch 72/100\n",
      "5126/5126 [==============================] - 7s 1ms/step - loss: 0.4879 - accuracy: 0.8746\n",
      "Epoch 73/100\n",
      "5126/5126 [==============================] - 6s 1ms/step - loss: 0.4872 - accuracy: 0.8747\n",
      "Epoch 74/100\n",
      "5126/5126 [==============================] - 5s 1ms/step - loss: 0.4875 - accuracy: 0.8746\n",
      "Epoch 75/100\n",
      "5126/5126 [==============================] - 6s 1ms/step - loss: 0.4873 - accuracy: 0.8746\n",
      "Epoch 76/100\n",
      "5126/5126 [==============================] - 7s 1ms/step - loss: 0.4911 - accuracy: 0.8743\n",
      "Epoch 77/100\n",
      "5126/5126 [==============================] - 7s 1ms/step - loss: 0.4873 - accuracy: 0.8747\n",
      "Epoch 78/100\n",
      "5126/5126 [==============================] - 7s 1ms/step - loss: 0.4872 - accuracy: 0.8747\n",
      "Epoch 79/100\n"
     ]
    },
    {
     "name": "stdout",
     "output_type": "stream",
     "text": [
      "5126/5126 [==============================] - 7s 1ms/step - loss: 0.4887 - accuracy: 0.8747\n",
      "Epoch 80/100\n",
      "5126/5126 [==============================] - 7s 1ms/step - loss: 0.4875 - accuracy: 0.8746\n",
      "Epoch 81/100\n",
      "5126/5126 [==============================] - 7s 1ms/step - loss: 0.4873 - accuracy: 0.8747\n",
      "Epoch 82/100\n",
      "5126/5126 [==============================] - 7s 1ms/step - loss: 0.4872 - accuracy: 0.8746\n",
      "Epoch 83/100\n",
      "5126/5126 [==============================] - 7s 1ms/step - loss: 0.4880 - accuracy: 0.8747\n",
      "Epoch 84/100\n",
      "5126/5126 [==============================] - 7s 1ms/step - loss: 0.4876 - accuracy: 0.8747\n",
      "Epoch 85/100\n",
      "5126/5126 [==============================] - 7s 1ms/step - loss: 0.4875 - accuracy: 0.8747\n",
      "Epoch 86/100\n",
      "5126/5126 [==============================] - 7s 1ms/step - loss: 0.4882 - accuracy: 0.8746\n",
      "Epoch 87/100\n",
      "5126/5126 [==============================] - 7s 1ms/step - loss: 0.4871 - accuracy: 0.8747\n",
      "Epoch 88/100\n",
      "5126/5126 [==============================] - 7s 1ms/step - loss: 0.4875 - accuracy: 0.8746\n",
      "Epoch 89/100\n",
      "5126/5126 [==============================] - 7s 1ms/step - loss: 0.4880 - accuracy: 0.8745\n",
      "Epoch 90/100\n",
      "5126/5126 [==============================] - 7s 1ms/step - loss: 0.4873 - accuracy: 0.8747\n",
      "Epoch 91/100\n",
      "5126/5126 [==============================] - 7s 1ms/step - loss: 0.4877 - accuracy: 0.8746\n",
      "Epoch 92/100\n",
      "5126/5126 [==============================] - 7s 1ms/step - loss: 0.4883 - accuracy: 0.8745\n",
      "Epoch 93/100\n",
      "5126/5126 [==============================] - 7s 1ms/step - loss: 0.4875 - accuracy: 0.8746\n",
      "Epoch 94/100\n",
      "5126/5126 [==============================] - 7s 1ms/step - loss: 0.4875 - accuracy: 0.8746\n",
      "Epoch 95/100\n",
      "5126/5126 [==============================] - 7s 1ms/step - loss: 0.4878 - accuracy: 0.8746\n",
      "Epoch 96/100\n",
      "5126/5126 [==============================] - 7s 1ms/step - loss: 0.4875 - accuracy: 0.8747\n",
      "Epoch 97/100\n",
      "5126/5126 [==============================] - 7s 1ms/step - loss: 0.4878 - accuracy: 0.8746\n",
      "Epoch 98/100\n",
      "5126/5126 [==============================] - 7s 1ms/step - loss: 0.4882 - accuracy: 0.8746\n",
      "Epoch 99/100\n",
      "5126/5126 [==============================] - 7s 1ms/step - loss: 0.4871 - accuracy: 0.8747\n",
      "Epoch 100/100\n",
      "5126/5126 [==============================] - 7s 1ms/step - loss: 0.4872 - accuracy: 0.8747\n"
     ]
    },
    {
     "data": {
      "text/plain": [
       "<tensorflow.python.keras.callbacks.History at 0x2320003a730>"
      ]
     },
     "execution_count": 124,
     "metadata": {},
     "output_type": "execute_result"
    }
   ],
   "source": [
    "# model definition\n",
    "model_nn = ml.Sequential()\n",
    "model_nn.add( l.Dense(128, input_dim=x_train.shape[1], activation='relu') )\n",
    "model_nn.add( l.Dense(12, activation='softmax') )\n",
    "\n",
    "# model compile\n",
    "model_nn.compile(loss='categorical_crossentropy', optimizer='adam', metrics=['accuracy'])\n",
    "\n",
    "# train model\n",
    "model_nn.fit(x_train, y_train, epochs=100)"
   ]
  },
  {
   "cell_type": "markdown",
   "id": "7f84d331",
   "metadata": {},
   "source": [
    "### 7.2.1. Neural Network - Performance"
   ]
  },
  {
   "cell_type": "code",
   "execution_count": 125,
   "id": "0089b41c",
   "metadata": {
    "ExecuteTime": {
     "end_time": "2022-03-30T17:02:24.705184Z",
     "start_time": "2022-03-30T17:02:13.561617Z"
    }
   },
   "outputs": [],
   "source": [
    "# prediction\n",
    "pred_nn = model_nn.predict(x_test)\n",
    "\n",
    "# invert prediction\n",
    "yhat_nn = ohe.inverse_transform(pred_nn)\n",
    "\n",
    "# invert validation response\n",
    "y_test_nn = ohe.inverse_transform(y_test)"
   ]
  },
  {
   "cell_type": "code",
   "execution_count": 126,
   "id": "cb24d2a7",
   "metadata": {
    "ExecuteTime": {
     "end_time": "2022-03-30T17:02:24.736539Z",
     "start_time": "2022-03-30T17:02:24.705429Z"
    },
    "cell_style": "split"
   },
   "outputs": [
    {
     "data": {
      "text/plain": [
       "NDF     0.57660\n",
       "US      0.29734\n",
       "other   0.04792\n",
       "FR      0.02349\n",
       "IT      0.01315\n",
       "GB      0.01144\n",
       "ES      0.01056\n",
       "CA      0.00690\n",
       "DE      0.00554\n",
       "NL      0.00380\n",
       "AU      0.00239\n",
       "PT      0.00088\n",
       "dtype: float64"
      ]
     },
     "execution_count": 126,
     "metadata": {},
     "output_type": "execute_result"
    }
   ],
   "source": [
    "# check the balance of validation\n",
    "pd.DataFrame(y_test_nn).value_counts(normalize=True)"
   ]
  },
  {
   "cell_type": "code",
   "execution_count": 127,
   "id": "e204b0c6",
   "metadata": {
    "ExecuteTime": {
     "end_time": "2022-03-30T17:02:24.783545Z",
     "start_time": "2022-03-30T17:02:24.751540Z"
    },
    "cell_style": "split"
   },
   "outputs": [
    {
     "data": {
      "text/plain": [
       "NDF   0.57012\n",
       "US    0.42988\n",
       "dtype: float64"
      ]
     },
     "execution_count": 127,
     "metadata": {},
     "output_type": "execute_result"
    }
   ],
   "source": [
    "# check the balance of result\n",
    "pd.DataFrame(yhat_nn).value_counts(normalize=True)"
   ]
  },
  {
   "cell_type": "code",
   "execution_count": 128,
   "id": "cfe5a5c9",
   "metadata": {
    "ExecuteTime": {
     "end_time": "2022-03-30T17:02:30.379048Z",
     "start_time": "2022-03-30T17:02:24.791540Z"
    }
   },
   "outputs": [
    {
     "name": "stdout",
     "output_type": "stream",
     "text": [
      "Accuracy: 0.8674519559067408\n",
      "Balanced Accuracy: 0.1657291093910812\n",
      "Kappa Score: 0.7560987854031045\n",
      "              precision    recall  f1-score   support\n",
      "\n",
      "          AU       0.00      0.00      0.00        98\n",
      "          CA       0.00      0.00      0.00       283\n",
      "          DE       0.00      0.00      0.00       227\n",
      "          ES       0.00      0.00      0.00       433\n",
      "          FR       0.00      0.00      0.00       963\n",
      "          GB       0.00      0.00      0.00       469\n",
      "          IT       0.00      0.00      0.00       539\n",
      "         NDF       1.00      0.99      0.99     23643\n",
      "          NL       0.00      0.00      0.00       156\n",
      "          PT       0.00      0.00      0.00        36\n",
      "          US       0.69      1.00      0.82     12192\n",
      "       other       0.00      0.00      0.00      1965\n",
      "\n",
      "    accuracy                           0.87     41004\n",
      "   macro avg       0.14      0.17      0.15     41004\n",
      "weighted avg       0.78      0.87      0.82     41004\n",
      "\n"
     ]
    },
    {
     "data": {
      "image/png": "[encoded data removed]",
      "text/plain": [
       "<Figure size 864x864 with 2 Axes>"
      ]
     },
     "metadata": {
      "needs_background": "light"
     },
     "output_type": "display_data"
    }
   ],
   "source": [
    "# Accuracy\n",
    "acc_nn = m.accuracy_score( y_test_nn, yhat_nn )\n",
    "print(f'Accuracy: {acc_nn}')\n",
    "\n",
    "# Balanced Accuracy\n",
    "balanced_acc_nn = m.balanced_accuracy_score(y_test_nn, yhat_nn)\n",
    "print(f'Balanced Accuracy: {balanced_acc_nn}')\n",
    "\n",
    "# Kappa Metrics\n",
    "kappa_nn = m.cohen_kappa_score(y_test_nn, yhat_nn)\n",
    "print(f'Kappa Score: {kappa_nn}')\n",
    "\n",
    "# Classification report\n",
    "print(m.classification_report(y_test_nn, yhat_nn))\n",
    "\n",
    "# Confusion Matrix\n",
    "mt.plot_confusion_matrix( y_test_nn, yhat_nn, normalize=False, figsize=(12,12));\n",
    "\n",
    "# Performance\n",
    "nn_performance = {'model': 'Neural Network Model', \n",
    "                  'acc': np.round(acc_nn, 6), \n",
    "                  'balanced_acc': np.round(balanced_acc_nn, 6), \n",
    "                  'kappa_score': np.round(kappa_nn, 6)}"
   ]
  },
  {
   "cell_type": "markdown",
   "id": "e6fe4bbf",
   "metadata": {
    "ExecuteTime": {
     "end_time": "2022-03-09T00:21:31.258077Z",
     "start_time": "2022-03-09T00:21:31.247079Z"
    }
   },
   "source": [
    "### 9.2.2. Neural Network - Cross-Validation"
   ]
  },
  {
   "cell_type": "code",
   "execution_count": 129,
   "id": "51a1af31",
   "metadata": {
    "ExecuteTime": {
     "end_time": "2022-03-30T17:37:05.652471Z",
     "start_time": "2022-03-30T17:02:30.379048Z"
    }
   },
   "outputs": [
    {
     "name": "stdout",
     "output_type": "stream",
     "text": [
      "Fold Number:1/5\n",
      "Fold Number:2/5\n",
      "Fold Number:3/5\n",
      "Fold Number:4/5\n",
      "Fold Number:5/5\n"
     ]
    }
   ],
   "source": [
    "# cross validation performance\n",
    "acc_nn, balanced_acc_nn, kappa_nn = cross_validation(num_fold=5, \n",
    "                                                     x_train=x_train, \n",
    "                                                     y_train=y_train, \n",
    "                                                     model=model_nn, \n",
    "                                                     verbose=True)"
   ]
  },
  {
   "cell_type": "code",
   "execution_count": 130,
   "id": "e68c3348",
   "metadata": {
    "ExecuteTime": {
     "end_time": "2022-03-30T17:37:05.668484Z",
     "start_time": "2022-03-30T17:37:05.656480Z"
    }
   },
   "outputs": [],
   "source": [
    "# Performance\n",
    "nn_performance_cv = {'model': 'Neural Network Model - CV',\n",
    "                     'acc': f'{np.round(np.mean(acc_nn), 2)} +/- {np.round(np.std(acc_nn), 4)}',\n",
    "                     'balanced_acc': f'{np.round(np.mean(balanced_acc_nn), 2)} +/- {np.round(np.std(balanced_acc_nn), 4)}',\n",
    "                     'kappa_score': f'{np.round(np.mean(kappa_nn), 2)} +/- {np.round(np.std(kappa_nn), 4)}'}"
   ]
  },
  {
   "cell_type": "code",
   "execution_count": 131,
   "id": "70e163cc",
   "metadata": {
    "ExecuteTime": {
     "end_time": "2022-03-30T17:37:05.699491Z",
     "start_time": "2022-03-30T17:37:05.678482Z"
    }
   },
   "outputs": [
    {
     "name": "stdout",
     "output_type": "stream",
     "text": [
      "Avg Accuracy: 0.87 +/- 3e-05\n",
      "Avg Balanced Accuracy: 0.17 +/- 1e-05\n",
      "Avg Kappa Score: 0.77 +/- 0.0001\n"
     ]
    }
   ],
   "source": [
    "print(f'Avg Accuracy: {np.round(np.mean(acc_nn), 2)} +/- {np.round(np.std(acc_nn),5)}')\n",
    "print(f'Avg Balanced Accuracy: {np.round(np.mean(balanced_acc_nn), 2)} +/- {np.round(np.std(balanced_acc_nn),5)}')\n",
    "print(f'Avg Kappa Score: {np.round(np.mean(kappa_nn), 2)} +/- {np.round(np.std(kappa_nn), 4)}')"
   ]
  },
  {
   "cell_type": "markdown",
   "id": "dec46b91",
   "metadata": {},
   "source": [
    "# 8.0. Hyper Parameter Tuning\n",
    "\n",
    "Hyper Parameter Tuning will not be considered until the most optimal machine learning model is selected, at this first cycle was considered only one model to complete the cycle and go through for all the major phases to validate the feasibility of the project."
   ]
  },
  {
   "cell_type": "code",
   "execution_count": null,
   "id": "2033ffaa",
   "metadata": {},
   "outputs": [],
   "source": []
  },
  {
   "cell_type": "markdown",
   "id": "caddd600",
   "metadata": {},
   "source": [
    "# 9.0. Error Translation and Interpretation"
   ]
  },
  {
   "cell_type": "code",
   "execution_count": null,
   "id": "5440c823",
   "metadata": {},
   "outputs": [],
   "source": []
  },
  {
   "cell_type": "markdown",
   "id": "2d632718",
   "metadata": {},
   "source": [
    "# 10.0. Deploy Model\n",
    "\n",
    "No models will be deployed yet."
   ]
  },
  {
   "cell_type": "code",
   "execution_count": null,
   "id": "a610263d",
   "metadata": {},
   "outputs": [],
   "source": []
  },
  {
   "cell_type": "markdown",
   "id": "811532e6",
   "metadata": {},
   "source": [
    "# 11.0. Conclusion"
   ]
  },
  {
   "cell_type": "markdown",
   "id": "3ec783f6",
   "metadata": {},
   "source": [
    "Feature Engineering of the datetime data improved the model's performance by increasing the balanced accuracy from 10% to 17%, along with an improved Kappa Score to 0.76, demostrating the great relevance of the time data to description of the phenomenon. This may imply the importance of dates features to the prediction of destinations."
   ]
  },
  {
   "cell_type": "markdown",
   "id": "eed3befe",
   "metadata": {},
   "source": [
    "## 11.1. Current Cycle Performance"
   ]
  },
  {
   "cell_type": "code",
   "execution_count": 136,
   "id": "d3599dc9",
   "metadata": {
    "ExecuteTime": {
     "end_time": "2022-03-30T17:44:20.513077Z",
     "start_time": "2022-03-30T17:44:20.476085Z"
    },
    "hide_input": true
   },
   "outputs": [
    {
     "data": {
      "text/html": [
       "<div>\n",
       "<style scoped>\n",
       "    .dataframe tbody tr th:only-of-type {\n",
       "        vertical-align: middle;\n",
       "    }\n",
       "\n",
       "    .dataframe tbody tr th {\n",
       "        vertical-align: top;\n",
       "    }\n",
       "\n",
       "    .dataframe thead th {\n",
       "        text-align: right;\n",
       "    }\n",
       "</style>\n",
       "<table border=\"1\" class=\"dataframe\">\n",
       "  <thead>\n",
       "    <tr style=\"text-align: right;\">\n",
       "      <th></th>\n",
       "      <th>cycle</th>\n",
       "      <th>process</th>\n",
       "      <th>model</th>\n",
       "      <th>acc</th>\n",
       "      <th>balanced_acc</th>\n",
       "      <th>kappa_score</th>\n",
       "    </tr>\n",
       "  </thead>\n",
       "  <tbody>\n",
       "    <tr>\n",
       "      <th>0</th>\n",
       "      <td>4th_cycle</td>\n",
       "      <td>feature_engineering</td>\n",
       "      <td>Baseline Model</td>\n",
       "      <td>0.42732</td>\n",
       "      <td>0.08319</td>\n",
       "      <td>NaN</td>\n",
       "    </tr>\n",
       "    <tr>\n",
       "      <th>1</th>\n",
       "      <td>4th_cycle</td>\n",
       "      <td>feature_engineering</td>\n",
       "      <td>Neural Network Model</td>\n",
       "      <td>0.86745</td>\n",
       "      <td>0.16573</td>\n",
       "      <td>0.75610</td>\n",
       "    </tr>\n",
       "    <tr>\n",
       "      <th>2</th>\n",
       "      <td>4th_cycle</td>\n",
       "      <td>feature_engineering</td>\n",
       "      <td>Neural Network Model - CV</td>\n",
       "      <td>0.87 +/- 0.0</td>\n",
       "      <td>0.17 +/- 0.0</td>\n",
       "      <td>0.77 +/- 0.0001</td>\n",
       "    </tr>\n",
       "  </tbody>\n",
       "</table>\n",
       "</div>"
      ],
      "text/plain": [
       "       cycle              process                      model           acc  \\\n",
       "0  4th_cycle  feature_engineering             Baseline Model       0.42732   \n",
       "1  4th_cycle  feature_engineering       Neural Network Model       0.86745   \n",
       "2  4th_cycle  feature_engineering  Neural Network Model - CV  0.87 +/- 0.0   \n",
       "\n",
       "   balanced_acc      kappa_score  \n",
       "0       0.08319              NaN  \n",
       "1       0.16573          0.75610  \n",
       "2  0.17 +/- 0.0  0.77 +/- 0.0001  "
      ]
     },
     "execution_count": 136,
     "metadata": {},
     "output_type": "execute_result"
    }
   ],
   "source": [
    "# performance dataframe\n",
    "df_performance = pd.DataFrame([baseline_performance, nn_performance, nn_performance_cv])\n",
    "df_performance['cycle'] = '4th_cycle'\n",
    "df_performance['process'] = 'feature_engineering'\n",
    "df_performance = df_performance[['cycle', 'process', 'model', 'acc', 'balanced_acc', 'kappa_score']]\n",
    "\n",
    "# save 4th cycle to comparison\n",
    "df_performance.to_csv('../Datasets/4th_cycle_performance', index=False)\n",
    "\n",
    "# display performance dataframe\n",
    "df_performance"
   ]
  },
  {
   "cell_type": "markdown",
   "id": "57d7a10e",
   "metadata": {},
   "source": [
    "## 11.2. Cycle Comparison"
   ]
  },
  {
   "cell_type": "code",
   "execution_count": 137,
   "id": "4abdcc09",
   "metadata": {
    "ExecuteTime": {
     "end_time": "2022-03-30T17:44:24.472671Z",
     "start_time": "2022-03-30T17:44:24.439664Z"
    },
    "hide_input": true
   },
   "outputs": [
    {
     "data": {
      "text/html": [
       "<div>\n",
       "<style scoped>\n",
       "    .dataframe tbody tr th:only-of-type {\n",
       "        vertical-align: middle;\n",
       "    }\n",
       "\n",
       "    .dataframe tbody tr th {\n",
       "        vertical-align: top;\n",
       "    }\n",
       "\n",
       "    .dataframe thead th {\n",
       "        text-align: right;\n",
       "    }\n",
       "</style>\n",
       "<table border=\"1\" class=\"dataframe\">\n",
       "  <thead>\n",
       "    <tr style=\"text-align: right;\">\n",
       "      <th></th>\n",
       "      <th>cycle</th>\n",
       "      <th>process</th>\n",
       "      <th>model</th>\n",
       "      <th>acc</th>\n",
       "      <th>balanced_acc</th>\n",
       "      <th>kappa_score</th>\n",
       "    </tr>\n",
       "  </thead>\n",
       "  <tbody>\n",
       "    <tr>\n",
       "      <th>0</th>\n",
       "      <td>1st_cycle</td>\n",
       "      <td>validation_pipeline</td>\n",
       "      <td>Neural Network Model</td>\n",
       "      <td>0.70407</td>\n",
       "      <td>0</td>\n",
       "      <td>0</td>\n",
       "    </tr>\n",
       "    <tr>\n",
       "      <th>2</th>\n",
       "      <td>2nd_cycle</td>\n",
       "      <td>baseline_model</td>\n",
       "      <td>Neural Network Model</td>\n",
       "      <td>0.70275</td>\n",
       "      <td>0.09193</td>\n",
       "      <td>0.00214</td>\n",
       "    </tr>\n",
       "    <tr>\n",
       "      <th>4</th>\n",
       "      <td>3rd_cycle</td>\n",
       "      <td>replace_na</td>\n",
       "      <td>Neural Network Model</td>\n",
       "      <td>0.628333</td>\n",
       "      <td>0.107554</td>\n",
       "      <td>0.240606</td>\n",
       "    </tr>\n",
       "    <tr>\n",
       "      <th>7</th>\n",
       "      <td>4th_cycle</td>\n",
       "      <td>feature_engineering</td>\n",
       "      <td>Neural Network Model</td>\n",
       "      <td>0.86745</td>\n",
       "      <td>0.16573</td>\n",
       "      <td>0.75610</td>\n",
       "    </tr>\n",
       "  </tbody>\n",
       "</table>\n",
       "</div>"
      ],
      "text/plain": [
       "       cycle              process                 model       acc  \\\n",
       "0  1st_cycle  validation_pipeline  Neural Network Model   0.70407   \n",
       "2  2nd_cycle       baseline_model  Neural Network Model   0.70275   \n",
       "4  3rd_cycle           replace_na  Neural Network Model  0.628333   \n",
       "7  4th_cycle  feature_engineering  Neural Network Model   0.86745   \n",
       "\n",
       "  balanced_acc kappa_score  \n",
       "0            0           0  \n",
       "2      0.09193     0.00214  \n",
       "4     0.107554    0.240606  \n",
       "7      0.16573     0.75610  "
      ]
     },
     "execution_count": 137,
     "metadata": {},
     "output_type": "execute_result"
    }
   ],
   "source": [
    "# first cycle performance load\n",
    "performance_1st_cycle = pd.read_csv('../Datasets/1st_cycle_performance')\n",
    "\n",
    "# second cycle performance load\n",
    "performance_2nd_cycle = pd.read_csv('../Datasets/2nd_cycle_performance')\n",
    "\n",
    "# third cycle performance load\n",
    "performance_3rd_cycle = pd.read_csv('../Datasets/3rd_cycle_performance')\n",
    "\n",
    "# join cycles dataframes\n",
    "performance = pd.concat([performance_1st_cycle, \n",
    "                         performance_2nd_cycle, \n",
    "                         performance_3rd_cycle, \n",
    "                         df_performance]).reset_index(drop=True)\n",
    "\n",
    "# filter baseline model\n",
    "performance = performance[(performance['model'] != 'Baseline Model') & \n",
    "                          (performance['model'] != 'Neural Network Model - CV')].fillna(0)\n",
    "\n",
    "# display performance\n",
    "performance"
   ]
  },
  {
   "cell_type": "code",
   "execution_count": 138,
   "id": "3cff0624",
   "metadata": {
    "ExecuteTime": {
     "end_time": "2022-03-30T17:44:26.726544Z",
     "start_time": "2022-03-30T17:44:26.434548Z"
    },
    "hide_input": true
   },
   "outputs": [
    {
     "data": {
      "image/png": "[encoded data removed]",
      "text/plain": [
       "<Figure size 1080x432 with 1 Axes>"
      ]
     },
     "metadata": {
      "needs_background": "light"
     },
     "output_type": "display_data"
    }
   ],
   "source": [
    "plt.figure(figsize=(15,6))\n",
    "\n",
    "# formated metrics\n",
    "performance['acc'] = performance['acc'].apply(lambda x: str(x)[0:4]).astype(float)\n",
    "\n",
    "performance['balanced_acc'] = performance['balanced_acc'].apply(lambda x: str(x)[0:4]).astype(float)\n",
    "\n",
    "performance['kappa_score'] = performance['kappa_score'].apply(lambda x: str(x)[0:4]).astype(float)\n",
    "\n",
    "\n",
    "# Evolution of Performance over Cycles\n",
    "sns.lineplot(x='cycle', y='acc', data=performance)\n",
    "\n",
    "sns.lineplot(x='cycle', y='balanced_acc', data=performance)\n",
    "\n",
    "sns.lineplot(x='cycle', y='kappa_score', data=performance)\n",
    "\n",
    "# set legend and titles\n",
    "plt.legend(labels=['Accuracy','Balanced Accuracy', 'Kappa Score'])\n",
    "plt.title('Evolution of Performance over Cycle')\n",
    "plt.ylabel('Percentage')\n",
    "plt.xlabel('Cycles');"
   ]
  }
 ],
 "metadata": {
  "kernelspec": {
   "display_name": "Python 3 (ipykernel)",
   "language": "python",
   "name": "python3"
  },
  "language_info": {
   "codemirror_mode": {
    "name": "ipython",
    "version": 3
   },
   "file_extension": ".py",
   "mimetype": "text/x-python",
   "name": "python",
   "nbconvert_exporter": "python",
   "pygments_lexer": "ipython3",
   "version": "3.8.12"
  },
  "varInspector": {
   "cols": {
    "lenName": 16,
    "lenType": 16,
    "lenVar": 40
   },
   "kernels_config": {
    "python": {
     "delete_cmd_postfix": "",
     "delete_cmd_prefix": "del ",
     "library": "var_list.py",
     "varRefreshCmd": "print(var_dic_list())"
    },
    "r": {
     "delete_cmd_postfix": ") ",
     "delete_cmd_prefix": "rm(",
     "library": "var_list.r",
     "varRefreshCmd": "cat(var_dic_list()) "
    }
   },
   "types_to_exclude": [
    "module",
    "function",
    "builtin_function_or_method",
    "instance",
    "_Feature"
   ],
   "window_display": false
  }
 },
 "nbformat": 4,
 "nbformat_minor": 5
}
