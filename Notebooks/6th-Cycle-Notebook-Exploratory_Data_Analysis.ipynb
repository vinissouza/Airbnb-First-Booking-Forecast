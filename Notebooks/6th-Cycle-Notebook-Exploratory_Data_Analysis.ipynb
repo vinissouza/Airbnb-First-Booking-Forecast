{
 "cells": [
  {
   "cell_type": "markdown",
   "id": "e9da1de2",
   "metadata": {
    "ExecuteTime": {
     "end_time": "2022-02-28T20:43:44.606104Z",
     "start_time": "2022-02-28T20:43:44.598146Z"
    }
   },
   "source": [
    "# 0.0. Imports"
   ]
  },
  {
   "cell_type": "code",
   "execution_count": 1,
   "id": "4a97ff0c",
   "metadata": {
    "ExecuteTime": {
     "end_time": "2022-04-01T17:56:19.571221Z",
     "start_time": "2022-04-01T17:55:52.859716Z"
    }
   },
   "outputs": [],
   "source": [
    "import numpy   as np\n",
    "import pandas  as pd\n",
    "import random\n",
    "import seaborn as sns \n",
    "import warnings\n",
    "\n",
    "import seaborn as sns\n",
    "from matplotlib import pyplot as plt\n",
    "\n",
    "from scipy      import stats           as ss\n",
    "from sklearn    import model_selection as ms\n",
    "from sklearn    import preprocessing   as pp\n",
    "from sklearn    import metrics         as m\n",
    "from scikitplot import metrics         as mt\n",
    "\n",
    "from imblearn import under_sampling as us\n",
    "from imblearn import over_sampling  as osamp\n",
    "from imblearn import combine        as comb\n",
    "\n",
    "# from pandas_profiling import ProfileReport\n",
    "\n",
    "from keras import models as ml\n",
    "from keras import layers as l\n",
    "\n",
    "warnings.filterwarnings('ignore')"
   ]
  },
  {
   "cell_type": "markdown",
   "id": "58b2f295",
   "metadata": {},
   "source": [
    "## 0.1. Auxiliar Functions"
   ]
  },
  {
   "cell_type": "code",
   "execution_count": 2,
   "id": "c27e09c1",
   "metadata": {
    "ExecuteTime": {
     "end_time": "2022-04-01T17:56:25.223098Z",
     "start_time": "2022-04-01T17:56:25.195066Z"
    }
   },
   "outputs": [],
   "source": [
    "def cross_validation(num_fold, x_train, y_train, model, verbose=False):\n",
    "    # generate k-fold\n",
    "    num_folds = 5\n",
    "    kfold = ms.StratifiedKFold( n_splits=num_folds, shuffle=True, random_state=32 )\n",
    "\n",
    "    # create empty metrics list\n",
    "    acc_list = []\n",
    "    balanced_acc_list = []\n",
    "    kappa_list = []\n",
    "\n",
    "    # sequence of loop for verbose\n",
    "    i = 1\n",
    "    \n",
    "    # interation to measure performance\n",
    "    for train_index, val_index in kfold.split( x_train, ohe.inverse_transform(y_train) ):\n",
    "        if verbose:\n",
    "            print(f'Fold Number:{i}/{num_folds}')\n",
    "\n",
    "        # split data into training and test set\n",
    "        x_train_cv = x_train.iloc[train_index]\n",
    "        y_train_cv = y_train.iloc[train_index]\n",
    "\n",
    "        x_validation_cv = x_train.iloc[val_index]\n",
    "        y_validation_cv = y_train.iloc[val_index]\n",
    "\n",
    "        # train model\n",
    "        model.fit(x_train_cv, y_train_cv, epochs=100, batch_size=32, verbose=0)\n",
    "\n",
    "        # prediction\n",
    "        pred_cv = model.predict(x_validation_cv)\n",
    "\n",
    "        # invert prediction\n",
    "        yhat_cv = ohe.inverse_transform(pred_cv)\n",
    "\n",
    "        # invert validation response\n",
    "        y_test_cv = ohe.inverse_transform(y_validation_cv)\n",
    "\n",
    "        # performance metrics\n",
    "        # Accuracy\n",
    "        acc_model = m.accuracy_score( y_test_cv, yhat_cv )\n",
    "        acc_list.append(acc_model)\n",
    "        \n",
    "        # Balanced Accuracy\n",
    "        balanced_acc_model = m.balanced_accuracy_score(y_test_cv, yhat_cv)\n",
    "        balanced_acc_list.append(balanced_acc_model)\n",
    "\n",
    "        # Kappa Metrics\n",
    "        kappa_model = m.cohen_kappa_score(y_test_cv, yhat_cv)\n",
    "        kappa_list.append(kappa_model)\n",
    "\n",
    "        i += 1\n",
    "\n",
    "    return acc_list, balanced_acc_list, kappa_list\n",
    "\n",
    "\n",
    "def cramer_v(x, y):\n",
    "    \n",
    "    cm = pd.crosstab(x, y).values\n",
    "    n = cm.sum()\n",
    "    r, k = cm.shape\n",
    "    \n",
    "    rcorr = r - ((r-1)**2)/(n-1)\n",
    "    \n",
    "    kcorr = k - ((k-1)**2)/(n-1)\n",
    "    \n",
    "    chi2 = ss.chi2_contingency(cm)[0]\n",
    "    chi2corr = max(0, chi2 - (k-1)*(r-1)/(n-1))\n",
    "    \n",
    "    return np.sqrt((chi2corr/n)/(min(kcorr-1, rcorr-1)))"
   ]
  },
  {
   "cell_type": "markdown",
   "id": "04bd4aba",
   "metadata": {},
   "source": [
    "## 0.2. Load Data"
   ]
  },
  {
   "cell_type": "code",
   "execution_count": 3,
   "id": "05c73b56",
   "metadata": {
    "ExecuteTime": {
     "end_time": "2022-04-01T17:56:48.537231Z",
     "start_time": "2022-04-01T17:56:26.608538Z"
    }
   },
   "outputs": [],
   "source": [
    "# load training set of user\n",
    "data_users = pd.read_csv('../Datasets/train_users_2.csv', low_memory=False)\n",
    "\n",
    "# load web sessions log for users\n",
    "data_sessions = pd.read_csv('../Datasets/sessions.csv', low_memory=False)"
   ]
  },
  {
   "cell_type": "markdown",
   "id": "1179dcfc",
   "metadata": {},
   "source": [
    "# 1.0. Data Description"
   ]
  },
  {
   "cell_type": "code",
   "execution_count": 4,
   "id": "a59196b7",
   "metadata": {
    "ExecuteTime": {
     "end_time": "2022-04-01T17:56:49.316554Z",
     "start_time": "2022-04-01T17:56:49.000776Z"
    }
   },
   "outputs": [],
   "source": [
    "df01_users = data_users.copy()\n",
    "\n",
    "df01_sessions = data_sessions.copy()"
   ]
  },
  {
   "cell_type": "markdown",
   "id": "1ccddadb",
   "metadata": {},
   "source": [
    "## 1.1. Data Types"
   ]
  },
  {
   "cell_type": "code",
   "execution_count": 5,
   "id": "fe162f91",
   "metadata": {
    "ExecuteTime": {
     "end_time": "2022-04-01T17:56:49.585451Z",
     "start_time": "2022-04-01T17:56:49.509449Z"
    },
    "cell_style": "split"
   },
   "outputs": [
    {
     "data": {
      "text/plain": [
       "id                          object\n",
       "date_account_created        object\n",
       "timestamp_first_active       int64\n",
       "date_first_booking          object\n",
       "gender                      object\n",
       "age                        float64\n",
       "signup_method               object\n",
       "signup_flow                  int64\n",
       "language                    object\n",
       "affiliate_channel           object\n",
       "affiliate_provider          object\n",
       "first_affiliate_tracked     object\n",
       "signup_app                  object\n",
       "first_device_type           object\n",
       "first_browser               object\n",
       "country_destination         object\n",
       "dtype: object"
      ]
     },
     "execution_count": 5,
     "metadata": {},
     "output_type": "execute_result"
    }
   ],
   "source": [
    "df01_users.dtypes"
   ]
  },
  {
   "cell_type": "code",
   "execution_count": 6,
   "id": "859ee10e",
   "metadata": {
    "ExecuteTime": {
     "end_time": "2022-04-01T17:56:49.852494Z",
     "start_time": "2022-04-01T17:56:49.823664Z"
    },
    "cell_style": "split"
   },
   "outputs": [
    {
     "data": {
      "text/plain": [
       "user_id           object\n",
       "action            object\n",
       "action_type       object\n",
       "action_detail     object\n",
       "device_type       object\n",
       "secs_elapsed     float64\n",
       "dtype: object"
      ]
     },
     "execution_count": 6,
     "metadata": {},
     "output_type": "execute_result"
    }
   ],
   "source": [
    "df01_sessions.dtypes"
   ]
  },
  {
   "cell_type": "markdown",
   "id": "297d0bec",
   "metadata": {
    "cell_style": "center"
   },
   "source": [
    "## 1.2. Data Dimensions"
   ]
  },
  {
   "cell_type": "markdown",
   "id": "c617277e",
   "metadata": {},
   "source": [
    "### 1.2.1. Data Users Dimensions "
   ]
  },
  {
   "cell_type": "code",
   "execution_count": 7,
   "id": "6889bc8e",
   "metadata": {
    "ExecuteTime": {
     "end_time": "2022-04-01T17:56:50.089153Z",
     "start_time": "2022-04-01T17:56:50.031492Z"
    }
   },
   "outputs": [
    {
     "name": "stdout",
     "output_type": "stream",
     "text": [
      "Number of rows of users dataset: 213451\n",
      "Number of columnss of users dataset: 16\n"
     ]
    }
   ],
   "source": [
    "print( f'Number of rows of users dataset: {df01_users.shape[0]}')\n",
    "print( f'Number of columnss of users dataset: {df01_users.shape[1]}')"
   ]
  },
  {
   "cell_type": "markdown",
   "id": "152339da",
   "metadata": {},
   "source": [
    "### 1.2.2. Data Sessions Dimensions\n",
    "\n",
    "This dataset will not be used in this first cycle due to the granularity being action and we want to be user_id for now."
   ]
  },
  {
   "cell_type": "code",
   "execution_count": 8,
   "id": "c1459d2d",
   "metadata": {
    "ExecuteTime": {
     "end_time": "2022-04-01T17:56:50.480351Z",
     "start_time": "2022-04-01T17:56:50.454278Z"
    }
   },
   "outputs": [
    {
     "name": "stdout",
     "output_type": "stream",
     "text": [
      "Number of rows of sessions dataset: 10567737\n",
      "Number of columnss of session dataset: 6\n"
     ]
    }
   ],
   "source": [
    "print( f'Number of rows of sessions dataset: {df01_sessions.shape[0]}')\n",
    "print( f'Number of columnss of session dataset: {df01_sessions.shape[1]}')"
   ]
  },
  {
   "cell_type": "markdown",
   "id": "5ed2d4e7",
   "metadata": {},
   "source": [
    "## 1.3. Check NA"
   ]
  },
  {
   "cell_type": "markdown",
   "id": "3b2018f1",
   "metadata": {},
   "source": [
    "### 1.3.1. Check NA - Data Users"
   ]
  },
  {
   "cell_type": "code",
   "execution_count": 9,
   "id": "49097f87",
   "metadata": {
    "ExecuteTime": {
     "end_time": "2022-04-01T17:56:50.875277Z",
     "start_time": "2022-04-01T17:56:50.710276Z"
    },
    "cell_style": "split"
   },
   "outputs": [
    {
     "data": {
      "text/plain": [
       "id                              0\n",
       "date_account_created            0\n",
       "timestamp_first_active          0\n",
       "date_first_booking         124543\n",
       "gender                          0\n",
       "age                         87990\n",
       "signup_method                   0\n",
       "signup_flow                     0\n",
       "language                        0\n",
       "affiliate_channel               0\n",
       "affiliate_provider              0\n",
       "first_affiliate_tracked      6065\n",
       "signup_app                      0\n",
       "first_device_type               0\n",
       "first_browser                   0\n",
       "country_destination             0\n",
       "dtype: int64"
      ]
     },
     "execution_count": 9,
     "metadata": {},
     "output_type": "execute_result"
    }
   ],
   "source": [
    "df01_users.isna().sum()"
   ]
  },
  {
   "cell_type": "code",
   "execution_count": 10,
   "id": "c559b15b",
   "metadata": {
    "ExecuteTime": {
     "end_time": "2022-04-01T17:56:51.313276Z",
     "start_time": "2022-04-01T17:56:51.081278Z"
    },
    "cell_style": "split"
   },
   "outputs": [
    {
     "data": {
      "text/plain": [
       "id                         0.000000\n",
       "date_account_created       0.000000\n",
       "timestamp_first_active     0.000000\n",
       "date_first_booking         0.583473\n",
       "gender                     0.000000\n",
       "age                        0.412226\n",
       "signup_method              0.000000\n",
       "signup_flow                0.000000\n",
       "language                   0.000000\n",
       "affiliate_channel          0.000000\n",
       "affiliate_provider         0.000000\n",
       "first_affiliate_tracked    0.028414\n",
       "signup_app                 0.000000\n",
       "first_device_type          0.000000\n",
       "first_browser              0.000000\n",
       "country_destination        0.000000\n",
       "dtype: float64"
      ]
     },
     "execution_count": 10,
     "metadata": {},
     "output_type": "execute_result"
    }
   ],
   "source": [
    "df01_users.isna().sum()/df01_users.shape[0]"
   ]
  },
  {
   "cell_type": "markdown",
   "id": "2176ca0f",
   "metadata": {},
   "source": [
    "### 1.3.2. Check NA - Data Sessions"
   ]
  },
  {
   "cell_type": "code",
   "execution_count": 11,
   "id": "09c5347b",
   "metadata": {
    "ExecuteTime": {
     "end_time": "2022-04-01T17:56:53.590125Z",
     "start_time": "2022-04-01T17:56:51.520277Z"
    },
    "cell_style": "split"
   },
   "outputs": [
    {
     "data": {
      "text/plain": [
       "user_id            34496\n",
       "action             79626\n",
       "action_type      1126204\n",
       "action_detail    1126204\n",
       "device_type            0\n",
       "secs_elapsed      136031\n",
       "dtype: int64"
      ]
     },
     "execution_count": 11,
     "metadata": {},
     "output_type": "execute_result"
    }
   ],
   "source": [
    "df01_sessions.isna().sum()"
   ]
  },
  {
   "cell_type": "code",
   "execution_count": 12,
   "id": "55751da3",
   "metadata": {
    "ExecuteTime": {
     "end_time": "2022-04-01T17:56:56.218930Z",
     "start_time": "2022-04-01T17:56:53.965210Z"
    },
    "cell_style": "split"
   },
   "outputs": [
    {
     "data": {
      "text/plain": [
       "user_id          0.003264\n",
       "action           0.007535\n",
       "action_type      0.106570\n",
       "action_detail    0.106570\n",
       "device_type      0.000000\n",
       "secs_elapsed     0.012872\n",
       "dtype: float64"
      ]
     },
     "execution_count": 12,
     "metadata": {},
     "output_type": "execute_result"
    }
   ],
   "source": [
    "df01_sessions.isna().sum()/df01_sessions.shape[0]"
   ]
  },
  {
   "cell_type": "markdown",
   "id": "bd581316",
   "metadata": {},
   "source": [
    "## 1.4. Fillout NA"
   ]
  },
  {
   "cell_type": "markdown",
   "id": "02d2f026",
   "metadata": {},
   "source": [
    "### 1.4.1. Fillout NA - Data Users\n",
    "\n",
    "- **date_first_booking:** the maximum date of the dataset is chosen due to future features considered the space between dates.\n",
    "\n",
    "- **age:** variable age has a normal distribution, so replacing it with with a mean value will not bias the dataset.\n",
    "\n",
    "- **first_affiliate_tracked:** due to the high probability of bias the dataset with categorical data substitution and the low amount of NA datas in this variable, the NA lines will be dropped."
   ]
  },
  {
   "cell_type": "code",
   "execution_count": 13,
   "id": "17027a20",
   "metadata": {
    "ExecuteTime": {
     "end_time": "2022-04-01T17:56:56.722279Z",
     "start_time": "2022-04-01T17:56:56.490282Z"
    }
   },
   "outputs": [],
   "source": [
    "# date_first_booking\n",
    "max_date_first_booking = pd.to_datetime(df01_users['date_first_booking']).max().strftime('%Y-%m-%d')\n",
    "df01_users['date_first_booking'] = df01_users['date_first_booking'].fillna(max_date_first_booking)\n",
    "\n",
    "# age\n",
    "avg_age = int(df01_users['age'].mean())\n",
    "df01_users['age'] = df01_users['age'].fillna(avg_age)\n",
    "\n",
    "# first_affiliate_tracked\n",
    "df01_users = df01_users[~df01_users['first_affiliate_tracked'].isna()]"
   ]
  },
  {
   "cell_type": "code",
   "execution_count": 14,
   "id": "1e6bc1db",
   "metadata": {
    "ExecuteTime": {
     "end_time": "2022-04-01T17:56:57.100286Z",
     "start_time": "2022-04-01T17:56:56.933296Z"
    }
   },
   "outputs": [
    {
     "data": {
      "text/plain": [
       "id                         0.0\n",
       "date_account_created       0.0\n",
       "timestamp_first_active     0.0\n",
       "date_first_booking         0.0\n",
       "gender                     0.0\n",
       "age                        0.0\n",
       "signup_method              0.0\n",
       "signup_flow                0.0\n",
       "language                   0.0\n",
       "affiliate_channel          0.0\n",
       "affiliate_provider         0.0\n",
       "first_affiliate_tracked    0.0\n",
       "signup_app                 0.0\n",
       "first_device_type          0.0\n",
       "first_browser              0.0\n",
       "country_destination        0.0\n",
       "dtype: float64"
      ]
     },
     "execution_count": 14,
     "metadata": {},
     "output_type": "execute_result"
    }
   ],
   "source": [
    "df01_users.isna().sum()/df01_users.shape[0]"
   ]
  },
  {
   "cell_type": "markdown",
   "id": "8375bdfd",
   "metadata": {},
   "source": [
    "### 1.4.2. Fillout NA - Data Sessions\n",
    "\n",
    "Due to a massise amount of data, all NA lines will be dropped."
   ]
  },
  {
   "cell_type": "code",
   "execution_count": 15,
   "id": "97e5f525",
   "metadata": {
    "ExecuteTime": {
     "end_time": "2022-04-01T17:57:04.702570Z",
     "start_time": "2022-04-01T17:56:57.324286Z"
    }
   },
   "outputs": [],
   "source": [
    "# user_id  - 0.003264\n",
    "df01_sessions = df01_sessions[~df01_sessions['user_id'].isna()]\n",
    "\n",
    "# action - 0.007535\n",
    "df01_sessions = df01_sessions[~df01_sessions['action'].isna()]\n",
    "\n",
    "# action_type - 0.106570\n",
    "df01_sessions = df01_sessions[~df01_sessions['action_type'].isna()]\n",
    "\n",
    "# action_detail - 0.106570\n",
    "df01_sessions = df01_sessions[~df01_sessions['action_detail'].isna()]\n",
    "\n",
    "# secs_elapsed - 0.012872\n",
    "df01_sessions = df01_sessions[~df01_sessions['secs_elapsed'].isna()]"
   ]
  },
  {
   "cell_type": "code",
   "execution_count": 16,
   "id": "1b4ae28d",
   "metadata": {
    "ExecuteTime": {
     "end_time": "2022-04-01T17:57:06.902780Z",
     "start_time": "2022-04-01T17:57:04.958103Z"
    }
   },
   "outputs": [
    {
     "data": {
      "text/plain": [
       "user_id          0.0\n",
       "action           0.0\n",
       "action_type      0.0\n",
       "action_detail    0.0\n",
       "device_type      0.0\n",
       "secs_elapsed     0.0\n",
       "dtype: float64"
      ]
     },
     "execution_count": 16,
     "metadata": {},
     "output_type": "execute_result"
    }
   ],
   "source": [
    "df01_sessions.isna().sum()/df01_sessions.shape[0]"
   ]
  },
  {
   "cell_type": "markdown",
   "id": "7076ae4e",
   "metadata": {},
   "source": [
    "## 1.5. Change Data Type"
   ]
  },
  {
   "cell_type": "code",
   "execution_count": 17,
   "id": "793c65b7",
   "metadata": {
    "ExecuteTime": {
     "end_time": "2022-04-01T17:57:07.181893Z",
     "start_time": "2022-04-01T17:57:07.094895Z"
    }
   },
   "outputs": [
    {
     "data": {
      "text/html": [
       "<div>\n",
       "<style scoped>\n",
       "    .dataframe tbody tr th:only-of-type {\n",
       "        vertical-align: middle;\n",
       "    }\n",
       "\n",
       "    .dataframe tbody tr th {\n",
       "        vertical-align: top;\n",
       "    }\n",
       "\n",
       "    .dataframe thead th {\n",
       "        text-align: right;\n",
       "    }\n",
       "</style>\n",
       "<table border=\"1\" class=\"dataframe\">\n",
       "  <thead>\n",
       "    <tr style=\"text-align: right;\">\n",
       "      <th></th>\n",
       "      <th>id</th>\n",
       "      <th>date_account_created</th>\n",
       "      <th>timestamp_first_active</th>\n",
       "      <th>date_first_booking</th>\n",
       "      <th>gender</th>\n",
       "      <th>age</th>\n",
       "      <th>signup_method</th>\n",
       "      <th>signup_flow</th>\n",
       "      <th>language</th>\n",
       "      <th>affiliate_channel</th>\n",
       "      <th>affiliate_provider</th>\n",
       "      <th>first_affiliate_tracked</th>\n",
       "      <th>signup_app</th>\n",
       "      <th>first_device_type</th>\n",
       "      <th>first_browser</th>\n",
       "      <th>country_destination</th>\n",
       "    </tr>\n",
       "  </thead>\n",
       "  <tbody>\n",
       "    <tr>\n",
       "      <th>100091</th>\n",
       "      <td>dhrc3bd92w</td>\n",
       "      <td>2013-08-17</td>\n",
       "      <td>20130817071659</td>\n",
       "      <td>2013-08-17</td>\n",
       "      <td>MALE</td>\n",
       "      <td>30.0</td>\n",
       "      <td>basic</td>\n",
       "      <td>25</td>\n",
       "      <td>en</td>\n",
       "      <td>direct</td>\n",
       "      <td>direct</td>\n",
       "      <td>untracked</td>\n",
       "      <td>iOS</td>\n",
       "      <td>iPhone</td>\n",
       "      <td>-unknown-</td>\n",
       "      <td>US</td>\n",
       "    </tr>\n",
       "  </tbody>\n",
       "</table>\n",
       "</div>"
      ],
      "text/plain": [
       "                id date_account_created  timestamp_first_active  \\\n",
       "100091  dhrc3bd92w           2013-08-17          20130817071659   \n",
       "\n",
       "       date_first_booking gender   age signup_method  signup_flow language  \\\n",
       "100091         2013-08-17   MALE  30.0         basic           25       en   \n",
       "\n",
       "       affiliate_channel affiliate_provider first_affiliate_tracked  \\\n",
       "100091            direct             direct               untracked   \n",
       "\n",
       "       signup_app first_device_type first_browser country_destination  \n",
       "100091        iOS            iPhone     -unknown-                  US  "
      ]
     },
     "execution_count": 17,
     "metadata": {},
     "output_type": "execute_result"
    }
   ],
   "source": [
    "df01_users.sample(1)"
   ]
  },
  {
   "cell_type": "code",
   "execution_count": 18,
   "id": "d76d383f",
   "metadata": {
    "ExecuteTime": {
     "end_time": "2022-04-01T17:57:08.772862Z",
     "start_time": "2022-04-01T17:57:07.389116Z"
    }
   },
   "outputs": [],
   "source": [
    "# change date type\n",
    "df01_users['date_account_created'] = pd.to_datetime(df01_users['date_account_created'])\n",
    "df01_users['date_first_booking'] = pd.to_datetime(df01_users['date_first_booking'])\n",
    "\n",
    "# change datetime type\n",
    "df01_users['timestamp_first_active'] = pd.to_datetime(df01_users['timestamp_first_active'], format='%Y%m%d%H%M%S')\n",
    "\n",
    "# change age to int\n",
    "df01_users['age'] = df01_users['age'].astype(np.int64)"
   ]
  },
  {
   "cell_type": "code",
   "execution_count": 19,
   "id": "505514d3",
   "metadata": {
    "ExecuteTime": {
     "end_time": "2022-04-01T17:57:09.040612Z",
     "start_time": "2022-04-01T17:57:08.967614Z"
    }
   },
   "outputs": [
    {
     "data": {
      "text/html": [
       "<div>\n",
       "<style scoped>\n",
       "    .dataframe tbody tr th:only-of-type {\n",
       "        vertical-align: middle;\n",
       "    }\n",
       "\n",
       "    .dataframe tbody tr th {\n",
       "        vertical-align: top;\n",
       "    }\n",
       "\n",
       "    .dataframe thead th {\n",
       "        text-align: right;\n",
       "    }\n",
       "</style>\n",
       "<table border=\"1\" class=\"dataframe\">\n",
       "  <thead>\n",
       "    <tr style=\"text-align: right;\">\n",
       "      <th></th>\n",
       "      <th>id</th>\n",
       "      <th>date_account_created</th>\n",
       "      <th>timestamp_first_active</th>\n",
       "      <th>date_first_booking</th>\n",
       "      <th>gender</th>\n",
       "      <th>age</th>\n",
       "      <th>signup_method</th>\n",
       "      <th>signup_flow</th>\n",
       "      <th>language</th>\n",
       "      <th>affiliate_channel</th>\n",
       "      <th>affiliate_provider</th>\n",
       "      <th>first_affiliate_tracked</th>\n",
       "      <th>signup_app</th>\n",
       "      <th>first_device_type</th>\n",
       "      <th>first_browser</th>\n",
       "      <th>country_destination</th>\n",
       "    </tr>\n",
       "  </thead>\n",
       "  <tbody>\n",
       "    <tr>\n",
       "      <th>176975</th>\n",
       "      <td>86b0vz3k5c</td>\n",
       "      <td>2014-04-17</td>\n",
       "      <td>2014-04-17 18:39:10</td>\n",
       "      <td>2015-06-29</td>\n",
       "      <td>-unknown-</td>\n",
       "      <td>49</td>\n",
       "      <td>basic</td>\n",
       "      <td>0</td>\n",
       "      <td>en</td>\n",
       "      <td>direct</td>\n",
       "      <td>direct</td>\n",
       "      <td>untracked</td>\n",
       "      <td>Web</td>\n",
       "      <td>Windows Desktop</td>\n",
       "      <td>Firefox</td>\n",
       "      <td>NDF</td>\n",
       "    </tr>\n",
       "  </tbody>\n",
       "</table>\n",
       "</div>"
      ],
      "text/plain": [
       "                id date_account_created timestamp_first_active  \\\n",
       "176975  86b0vz3k5c           2014-04-17    2014-04-17 18:39:10   \n",
       "\n",
       "       date_first_booking     gender  age signup_method  signup_flow language  \\\n",
       "176975         2015-06-29  -unknown-   49         basic            0       en   \n",
       "\n",
       "       affiliate_channel affiliate_provider first_affiliate_tracked  \\\n",
       "176975            direct             direct               untracked   \n",
       "\n",
       "       signup_app first_device_type first_browser country_destination  \n",
       "176975        Web   Windows Desktop       Firefox                 NDF  "
      ]
     },
     "execution_count": 19,
     "metadata": {},
     "output_type": "execute_result"
    }
   ],
   "source": [
    "df01_users.sample(1)"
   ]
  },
  {
   "cell_type": "code",
   "execution_count": 20,
   "id": "e7b73c50",
   "metadata": {
    "ExecuteTime": {
     "end_time": "2022-04-01T17:57:09.280616Z",
     "start_time": "2022-04-01T17:57:09.249613Z"
    }
   },
   "outputs": [
    {
     "data": {
      "text/plain": [
       "id                                 object\n",
       "date_account_created       datetime64[ns]\n",
       "timestamp_first_active     datetime64[ns]\n",
       "date_first_booking         datetime64[ns]\n",
       "gender                             object\n",
       "age                                 int64\n",
       "signup_method                      object\n",
       "signup_flow                         int64\n",
       "language                           object\n",
       "affiliate_channel                  object\n",
       "affiliate_provider                 object\n",
       "first_affiliate_tracked            object\n",
       "signup_app                         object\n",
       "first_device_type                  object\n",
       "first_browser                      object\n",
       "country_destination                object\n",
       "dtype: object"
      ]
     },
     "execution_count": 20,
     "metadata": {},
     "output_type": "execute_result"
    }
   ],
   "source": [
    "df01_users.dtypes"
   ]
  },
  {
   "cell_type": "markdown",
   "id": "b4774540",
   "metadata": {},
   "source": [
    "## 1.6. Check Balanced Data\n",
    "\n",
    "Data with an unbalance of 57% for the NDF class and 30% for the US class."
   ]
  },
  {
   "cell_type": "code",
   "execution_count": 21,
   "id": "8f5cdc46",
   "metadata": {
    "ExecuteTime": {
     "end_time": "2022-04-01T17:57:09.573633Z",
     "start_time": "2022-04-01T17:57:09.452615Z"
    }
   },
   "outputs": [
    {
     "data": {
      "text/plain": [
       "NDF      0.579673\n",
       "US       0.294461\n",
       "other    0.048128\n",
       "FR       0.023623\n",
       "IT       0.013458\n",
       "GB       0.011066\n",
       "ES       0.010671\n",
       "CA       0.006707\n",
       "DE       0.005020\n",
       "NL       0.003621\n",
       "AU       0.002541\n",
       "PT       0.001032\n",
       "Name: country_destination, dtype: float64"
      ]
     },
     "execution_count": 21,
     "metadata": {},
     "output_type": "execute_result"
    }
   ],
   "source": [
    "df01_users['country_destination'].value_counts(normalize=True)"
   ]
  },
  {
   "cell_type": "markdown",
   "id": "9e2a67ae",
   "metadata": {},
   "source": [
    "## 1.7. Descriptive Analysis"
   ]
  },
  {
   "cell_type": "code",
   "execution_count": 22,
   "id": "8f66c9c6",
   "metadata": {
    "ExecuteTime": {
     "end_time": "2022-04-01T17:57:10.342975Z",
     "start_time": "2022-04-01T17:57:09.783613Z"
    }
   },
   "outputs": [],
   "source": [
    "# split data users in types dataframes\n",
    "num_attributes_users = df01_users.select_dtypes(include=['int64', 'float64'])\n",
    "cat_attributes_users = df01_users.select_dtypes(exclude=['int64', 'float64', 'datetime64[ns]'])\n",
    "time_attributes_users = df01_users.select_dtypes(include=['datetime64[ns]'])\n",
    "\n",
    "# split data sessions in types dataframes\n",
    "num_attributes_sessions = df01_sessions.select_dtypes(include=['int64', 'float64'])\n",
    "cat_attributes_sessions = df01_sessions.select_dtypes(exclude=['int64', 'float64', 'datetime64[ns]'])\n",
    "time_attributes_sessions = df01_sessions.select_dtypes(include=['datetime64[ns]'])"
   ]
  },
  {
   "cell_type": "markdown",
   "id": "4eb6a6b6",
   "metadata": {},
   "source": [
    "### 1.7.1. Numerical - Data Users"
   ]
  },
  {
   "cell_type": "code",
   "execution_count": 23,
   "id": "ba4046ec",
   "metadata": {
    "ExecuteTime": {
     "end_time": "2022-04-01T17:57:10.719888Z",
     "start_time": "2022-04-01T17:57:10.603893Z"
    }
   },
   "outputs": [
    {
     "data": {
      "text/html": [
       "<div>\n",
       "<style scoped>\n",
       "    .dataframe tbody tr th:only-of-type {\n",
       "        vertical-align: middle;\n",
       "    }\n",
       "\n",
       "    .dataframe tbody tr th {\n",
       "        vertical-align: top;\n",
       "    }\n",
       "\n",
       "    .dataframe thead th {\n",
       "        text-align: right;\n",
       "    }\n",
       "</style>\n",
       "<table border=\"1\" class=\"dataframe\">\n",
       "  <thead>\n",
       "    <tr style=\"text-align: right;\">\n",
       "      <th></th>\n",
       "      <th>attributes</th>\n",
       "      <th>max</th>\n",
       "      <th>min</th>\n",
       "      <th>range</th>\n",
       "      <th>mean</th>\n",
       "      <th>median</th>\n",
       "      <th>std</th>\n",
       "      <th>skew</th>\n",
       "      <th>kurtosis</th>\n",
       "    </tr>\n",
       "  </thead>\n",
       "  <tbody>\n",
       "    <tr>\n",
       "      <th>0</th>\n",
       "      <td>age</td>\n",
       "      <td>2014</td>\n",
       "      <td>1</td>\n",
       "      <td>2013</td>\n",
       "      <td>49.183142</td>\n",
       "      <td>49.0</td>\n",
       "      <td>118.421689</td>\n",
       "      <td>16.333820</td>\n",
       "      <td>267.655434</td>\n",
       "    </tr>\n",
       "    <tr>\n",
       "      <th>1</th>\n",
       "      <td>signup_flow</td>\n",
       "      <td>25</td>\n",
       "      <td>0</td>\n",
       "      <td>25</td>\n",
       "      <td>3.151490</td>\n",
       "      <td>0.0</td>\n",
       "      <td>7.543915</td>\n",
       "      <td>2.287158</td>\n",
       "      <td>3.567794</td>\n",
       "    </tr>\n",
       "  </tbody>\n",
       "</table>\n",
       "</div>"
      ],
      "text/plain": [
       "    attributes   max  min  range       mean  median         std       skew  \\\n",
       "0          age  2014    1   2013  49.183142    49.0  118.421689  16.333820   \n",
       "1  signup_flow    25    0     25   3.151490     0.0    7.543915   2.287158   \n",
       "\n",
       "     kurtosis  \n",
       "0  267.655434  \n",
       "1    3.567794  "
      ]
     },
     "execution_count": 23,
     "metadata": {},
     "output_type": "execute_result"
    }
   ],
   "source": [
    "# tendency central - mean and median\n",
    "mean_users = pd.DataFrame(num_attributes_users.apply(lambda x: np.mean(x)))\n",
    "median_users = pd.DataFrame(num_attributes_users.apply(lambda x: np.median(x)))\n",
    "\n",
    "# dispersions - max, min, range, std, skew and kurtosis\n",
    "max_users = pd.DataFrame(num_attributes_users.apply(lambda x: x.max()))\n",
    "min_users = pd.DataFrame(num_attributes_users.apply(lambda x: x.min()))\n",
    "range_users = pd.DataFrame(num_attributes_users.apply(lambda x: x.max() - x.min()))\n",
    "std_users = pd.DataFrame(num_attributes_users.apply(lambda x: np.std(x)))\n",
    "skew_users = pd.DataFrame(num_attributes_users.apply(lambda x: x.skew()))\n",
    "kurtosis_users = pd.DataFrame(num_attributes_users.apply(lambda x: x.kurtosis()))\n",
    "\n",
    "# join tendency central and dispersion dataframe\n",
    "num_stats_users = pd.concat([max_users, min_users, range_users, mean_users, \n",
    "                             median_users, std_users, skew_users, kurtosis_users], axis=1).reset_index()\n",
    "num_stats_users.columns = ['attributes', 'max', 'min', 'range', 'mean', 'median', 'std', 'skew', 'kurtosis']\n",
    "\n",
    "num_stats_users"
   ]
  },
  {
   "cell_type": "markdown",
   "id": "956e8434",
   "metadata": {},
   "source": [
    "### 1.7.2. Numerical - Data Sessions"
   ]
  },
  {
   "cell_type": "code",
   "execution_count": 24,
   "id": "3c46dd63",
   "metadata": {
    "ExecuteTime": {
     "end_time": "2022-04-01T17:57:11.964090Z",
     "start_time": "2022-04-01T17:57:11.064593Z"
    }
   },
   "outputs": [
    {
     "data": {
      "text/html": [
       "<div>\n",
       "<style scoped>\n",
       "    .dataframe tbody tr th:only-of-type {\n",
       "        vertical-align: middle;\n",
       "    }\n",
       "\n",
       "    .dataframe tbody tr th {\n",
       "        vertical-align: top;\n",
       "    }\n",
       "\n",
       "    .dataframe thead th {\n",
       "        text-align: right;\n",
       "    }\n",
       "</style>\n",
       "<table border=\"1\" class=\"dataframe\">\n",
       "  <thead>\n",
       "    <tr style=\"text-align: right;\">\n",
       "      <th></th>\n",
       "      <th>attributes</th>\n",
       "      <th>max</th>\n",
       "      <th>min</th>\n",
       "      <th>range</th>\n",
       "      <th>mean</th>\n",
       "      <th>median</th>\n",
       "      <th>std</th>\n",
       "      <th>skew</th>\n",
       "      <th>kurtosis</th>\n",
       "    </tr>\n",
       "  </thead>\n",
       "  <tbody>\n",
       "    <tr>\n",
       "      <th>0</th>\n",
       "      <td>secs_elapsed</td>\n",
       "      <td>1799977.0</td>\n",
       "      <td>0.0</td>\n",
       "      <td>1799977.0</td>\n",
       "      <td>19961.8251</td>\n",
       "      <td>1369.0</td>\n",
       "      <td>88849.388449</td>\n",
       "      <td>11.137761</td>\n",
       "      <td>154.84312</td>\n",
       "    </tr>\n",
       "  </tbody>\n",
       "</table>\n",
       "</div>"
      ],
      "text/plain": [
       "     attributes        max  min      range        mean  median           std  \\\n",
       "0  secs_elapsed  1799977.0  0.0  1799977.0  19961.8251  1369.0  88849.388449   \n",
       "\n",
       "        skew   kurtosis  \n",
       "0  11.137761  154.84312  "
      ]
     },
     "execution_count": 24,
     "metadata": {},
     "output_type": "execute_result"
    }
   ],
   "source": [
    "# tendency central - mean and median\n",
    "mean_sessions = pd.DataFrame(num_attributes_sessions.apply(lambda x: np.mean(x)))\n",
    "median_sessions = pd.DataFrame(num_attributes_sessions.apply(lambda x: np.median(x)))\n",
    "\n",
    "# dispersions - max, min, range, std, skew and kurtosis\n",
    "max_sessions = pd.DataFrame(num_attributes_sessions.apply(lambda x: x.max()))\n",
    "min_sessions = pd.DataFrame(num_attributes_sessions.apply(lambda x: x.min()))\n",
    "range_sessions = pd.DataFrame(num_attributes_sessions.apply(lambda x: x.max() - x.min()))\n",
    "std_sessions = pd.DataFrame(num_attributes_sessions.apply(lambda x: np.std(x)))\n",
    "skew_sessions = pd.DataFrame(num_attributes_sessions.apply(lambda x: x.skew()))\n",
    "kurtosis_sessions = pd.DataFrame(num_attributes_sessions.apply(lambda x: x.kurtosis()))\n",
    "\n",
    "# join tendency central and dispersion dataframe\n",
    "num_stats_sessions = pd.concat([max_sessions, min_sessions, range_sessions, mean_sessions, \n",
    "                             median_sessions, std_sessions, skew_sessions, kurtosis_sessions], axis=1).reset_index()\n",
    "num_stats_sessions.columns = ['attributes', 'max', 'min', 'range', 'mean', 'median', 'std', 'skew', 'kurtosis']\n",
    "\n",
    "num_stats_sessions"
   ]
  },
  {
   "cell_type": "markdown",
   "id": "ce2d77df",
   "metadata": {},
   "source": [
    "### 1.7.3. Categorical - Data Users"
   ]
  },
  {
   "cell_type": "code",
   "execution_count": 25,
   "id": "a475bb0a",
   "metadata": {
    "ExecuteTime": {
     "end_time": "2022-04-01T17:57:12.996235Z",
     "start_time": "2022-04-01T17:57:12.536655Z"
    }
   },
   "outputs": [
    {
     "data": {
      "text/html": [
       "<div>\n",
       "<style scoped>\n",
       "    .dataframe tbody tr th:only-of-type {\n",
       "        vertical-align: middle;\n",
       "    }\n",
       "\n",
       "    .dataframe tbody tr th {\n",
       "        vertical-align: top;\n",
       "    }\n",
       "\n",
       "    .dataframe thead th {\n",
       "        text-align: right;\n",
       "    }\n",
       "</style>\n",
       "<table border=\"1\" class=\"dataframe\">\n",
       "  <thead>\n",
       "    <tr style=\"text-align: right;\">\n",
       "      <th></th>\n",
       "      <th>gender</th>\n",
       "      <th>signup_method</th>\n",
       "      <th>language</th>\n",
       "      <th>affiliate_channel</th>\n",
       "      <th>affiliate_provider</th>\n",
       "      <th>first_affiliate_tracked</th>\n",
       "      <th>signup_app</th>\n",
       "      <th>first_device_type</th>\n",
       "      <th>first_browser</th>\n",
       "      <th>country_destination</th>\n",
       "    </tr>\n",
       "  </thead>\n",
       "  <tbody>\n",
       "    <tr>\n",
       "      <th>count</th>\n",
       "      <td>207386</td>\n",
       "      <td>207386</td>\n",
       "      <td>207386</td>\n",
       "      <td>207386</td>\n",
       "      <td>207386</td>\n",
       "      <td>207386</td>\n",
       "      <td>207386</td>\n",
       "      <td>207386</td>\n",
       "      <td>207386</td>\n",
       "      <td>207386</td>\n",
       "    </tr>\n",
       "    <tr>\n",
       "      <th>unique</th>\n",
       "      <td>4</td>\n",
       "      <td>3</td>\n",
       "      <td>25</td>\n",
       "      <td>8</td>\n",
       "      <td>18</td>\n",
       "      <td>7</td>\n",
       "      <td>4</td>\n",
       "      <td>9</td>\n",
       "      <td>52</td>\n",
       "      <td>12</td>\n",
       "    </tr>\n",
       "    <tr>\n",
       "      <th>top</th>\n",
       "      <td>-unknown-</td>\n",
       "      <td>basic</td>\n",
       "      <td>en</td>\n",
       "      <td>direct</td>\n",
       "      <td>direct</td>\n",
       "      <td>untracked</td>\n",
       "      <td>Web</td>\n",
       "      <td>Mac Desktop</td>\n",
       "      <td>Chrome</td>\n",
       "      <td>NDF</td>\n",
       "    </tr>\n",
       "    <tr>\n",
       "      <th>freq</th>\n",
       "      <td>91783</td>\n",
       "      <td>148297</td>\n",
       "      <td>200415</td>\n",
       "      <td>134179</td>\n",
       "      <td>133935</td>\n",
       "      <td>109232</td>\n",
       "      <td>178334</td>\n",
       "      <td>89600</td>\n",
       "      <td>63845</td>\n",
       "      <td>120216</td>\n",
       "    </tr>\n",
       "  </tbody>\n",
       "</table>\n",
       "</div>"
      ],
      "text/plain": [
       "           gender signup_method language affiliate_channel affiliate_provider  \\\n",
       "count      207386        207386   207386            207386             207386   \n",
       "unique          4             3       25                 8                 18   \n",
       "top     -unknown-         basic       en            direct             direct   \n",
       "freq        91783        148297   200415            134179             133935   \n",
       "\n",
       "       first_affiliate_tracked signup_app first_device_type first_browser  \\\n",
       "count                   207386     207386            207386        207386   \n",
       "unique                       7          4                 9            52   \n",
       "top                  untracked        Web       Mac Desktop        Chrome   \n",
       "freq                    109232     178334             89600         63845   \n",
       "\n",
       "       country_destination  \n",
       "count               207386  \n",
       "unique                  12  \n",
       "top                    NDF  \n",
       "freq                120216  "
      ]
     },
     "execution_count": 25,
     "metadata": {},
     "output_type": "execute_result"
    }
   ],
   "source": [
    "cat_attributes_users.drop('id', axis=1).describe()"
   ]
  },
  {
   "cell_type": "markdown",
   "id": "89a04077",
   "metadata": {},
   "source": [
    "#### 1.7.3.1. Correlation Matrix"
   ]
  },
  {
   "cell_type": "code",
   "execution_count": 26,
   "id": "7d49a42d",
   "metadata": {
    "ExecuteTime": {
     "end_time": "2022-04-01T17:57:24.875691Z",
     "start_time": "2022-04-01T17:57:13.585176Z"
    }
   },
   "outputs": [
    {
     "data": {
      "image/png": "[encoded data removed]",
      "text/plain": [
       "<Figure size 432x288 with 2 Axes>"
      ]
     },
     "metadata": {
      "needs_background": "light"
     },
     "output_type": "display_data"
    }
   ],
   "source": [
    "cat_attributes_users_columns = cat_attributes_users.drop('id', axis=1).columns.tolist()\n",
    "\n",
    "corr_dict = {}\n",
    "\n",
    "for main_column in cat_attributes_users_columns:\n",
    "    corr_list = []\n",
    "    \n",
    "    for secondary_column in cat_attributes_users_columns:\n",
    "        # cramer v\n",
    "        cat_corr = cramer_v( cat_attributes_users[main_column], cat_attributes_users[secondary_column] )\n",
    "        \n",
    "        # add to list\n",
    "        corr_list.append(cat_corr)\n",
    "    \n",
    "    # add to dict each attribute correlation \n",
    "    corr_dict[main_column] = corr_list\n",
    "\n",
    "df_corr_users = pd.DataFrame(corr_dict)\n",
    "df_corr_users = df_corr_users.set_index(df_corr_users.columns)\n",
    "sns.heatmap(df_corr_users, annot=True);"
   ]
  },
  {
   "cell_type": "markdown",
   "id": "ef0bfe3a",
   "metadata": {
    "ExecuteTime": {
     "end_time": "2022-03-02T14:41:15.919764Z",
     "start_time": "2022-03-02T14:41:15.909769Z"
    }
   },
   "source": [
    "### 1.7.4. Categorical - Data Sessions"
   ]
  },
  {
   "cell_type": "code",
   "execution_count": 27,
   "id": "cb30c4f7",
   "metadata": {
    "ExecuteTime": {
     "end_time": "2022-04-01T17:57:30.766423Z",
     "start_time": "2022-04-01T17:57:25.305676Z"
    },
    "scrolled": false
   },
   "outputs": [
    {
     "data": {
      "text/html": [
       "<div>\n",
       "<style scoped>\n",
       "    .dataframe tbody tr th:only-of-type {\n",
       "        vertical-align: middle;\n",
       "    }\n",
       "\n",
       "    .dataframe tbody tr th {\n",
       "        vertical-align: top;\n",
       "    }\n",
       "\n",
       "    .dataframe thead th {\n",
       "        text-align: right;\n",
       "    }\n",
       "</style>\n",
       "<table border=\"1\" class=\"dataframe\">\n",
       "  <thead>\n",
       "    <tr style=\"text-align: right;\">\n",
       "      <th></th>\n",
       "      <th>action</th>\n",
       "      <th>action_type</th>\n",
       "      <th>action_detail</th>\n",
       "      <th>device_type</th>\n",
       "    </tr>\n",
       "  </thead>\n",
       "  <tbody>\n",
       "    <tr>\n",
       "      <th>count</th>\n",
       "      <td>9213930</td>\n",
       "      <td>9213930</td>\n",
       "      <td>9213930</td>\n",
       "      <td>9213930</td>\n",
       "    </tr>\n",
       "    <tr>\n",
       "      <th>unique</th>\n",
       "      <td>347</td>\n",
       "      <td>10</td>\n",
       "      <td>155</td>\n",
       "      <td>14</td>\n",
       "    </tr>\n",
       "    <tr>\n",
       "      <th>top</th>\n",
       "      <td>show</td>\n",
       "      <td>view</td>\n",
       "      <td>view_search_results</td>\n",
       "      <td>Mac Desktop</td>\n",
       "    </tr>\n",
       "    <tr>\n",
       "      <th>freq</th>\n",
       "      <td>2178382</td>\n",
       "      <td>3545621</td>\n",
       "      <td>1770931</td>\n",
       "      <td>3019523</td>\n",
       "    </tr>\n",
       "  </tbody>\n",
       "</table>\n",
       "</div>"
      ],
      "text/plain": [
       "         action action_type        action_detail  device_type\n",
       "count   9213930     9213930              9213930      9213930\n",
       "unique      347          10                  155           14\n",
       "top        show        view  view_search_results  Mac Desktop\n",
       "freq    2178382     3545621              1770931      3019523"
      ]
     },
     "execution_count": 27,
     "metadata": {},
     "output_type": "execute_result"
    }
   ],
   "source": [
    "cat_attributes_sessions.drop('user_id', axis=1).describe()"
   ]
  },
  {
   "cell_type": "markdown",
   "id": "13f4914d",
   "metadata": {},
   "source": [
    "#### 1.7.4.1. Correlation Matrix"
   ]
  },
  {
   "cell_type": "code",
   "execution_count": 28,
   "id": "3e1e88ee",
   "metadata": {
    "ExecuteTime": {
     "end_time": "2022-04-01T17:58:23.771098Z",
     "start_time": "2022-04-01T17:57:31.308423Z"
    }
   },
   "outputs": [
    {
     "data": {
      "image/png": "[encoded data removed]",
      "text/plain": [
       "<Figure size 432x288 with 2 Axes>"
      ]
     },
     "metadata": {
      "needs_background": "light"
     },
     "output_type": "display_data"
    }
   ],
   "source": [
    "cat_attributes_sessions_columns = cat_attributes_sessions.drop('user_id', axis=1).columns.tolist()\n",
    "\n",
    "corr_dict = {}\n",
    "\n",
    "for main_column in cat_attributes_sessions_columns:\n",
    "    corr_list = []\n",
    "    \n",
    "    for secondary_column in cat_attributes_sessions_columns:\n",
    "        # cramer v\n",
    "        cat_corr = cramer_v( cat_attributes_sessions[main_column], cat_attributes_sessions[secondary_column] )\n",
    "        \n",
    "        # add to list\n",
    "        corr_list.append(cat_corr)\n",
    "    \n",
    "    # add to dict each attribute correlation \n",
    "    corr_dict[main_column] = corr_list\n",
    "\n",
    "df_corr_sessions = pd.DataFrame(corr_dict)\n",
    "df_corr_sessions = df_corr_sessions.set_index(df_corr_sessions.columns)\n",
    "sns.heatmap(df_corr_sessions, annot=True);"
   ]
  },
  {
   "cell_type": "markdown",
   "id": "bbe57720",
   "metadata": {},
   "source": [
    "# 2.0. Feature Engineering"
   ]
  },
  {
   "cell_type": "code",
   "execution_count": 29,
   "id": "f64c4deb",
   "metadata": {
    "ExecuteTime": {
     "end_time": "2022-04-01T17:58:25.330978Z",
     "start_time": "2022-04-01T17:58:25.304077Z"
    }
   },
   "outputs": [],
   "source": [
    "df02_users = df01_users.copy()"
   ]
  },
  {
   "cell_type": "markdown",
   "id": "4cc87547",
   "metadata": {},
   "source": [
    "## 2.1. Create Gap Between Dates Features"
   ]
  },
  {
   "cell_type": "code",
   "execution_count": 30,
   "id": "bde69aeb",
   "metadata": {
    "ExecuteTime": {
     "end_time": "2022-04-01T17:58:41.836784Z",
     "start_time": "2022-04-01T17:58:26.011848Z"
    }
   },
   "outputs": [],
   "source": [
    "# date of first active\n",
    "df02_users['date_first_active'] = pd.to_datetime(df02_users['timestamp_first_active'].dt.strftime(\"%Y-%m-%d\"))\n",
    "\n",
    "# difference in days between date_account_created and date_first_active\n",
    "df02_users['diff_account_created_first_active'] = (df02_users['date_account_created'] - df02_users['date_first_active']).apply(lambda x: x.days)\n",
    "\n",
    "# difference in days between date_account_created and date_first_booking\n",
    "df02_users['diff_first_booking_account_created'] = (df02_users['date_first_booking'] - df02_users['date_account_created']).apply(lambda x: x.days)\n",
    "\n",
    "# difference in days between date_first_active and date_first_booking\n",
    "df02_users['diff_first_active_first_booking'] = (df02_users['date_first_booking'] - df02_users['date_first_active']).apply(lambda x: x.days)"
   ]
  },
  {
   "cell_type": "markdown",
   "id": "e5f02587",
   "metadata": {
    "ExecuteTime": {
     "end_time": "2022-03-02T15:58:55.212964Z",
     "start_time": "2022-03-02T15:58:55.204965Z"
    }
   },
   "source": [
    "## 2.2. Create Date Features"
   ]
  },
  {
   "cell_type": "markdown",
   "id": "add9d20f",
   "metadata": {},
   "source": [
    "### 2.2.1. Account Created"
   ]
  },
  {
   "cell_type": "code",
   "execution_count": 31,
   "id": "7ada9a20",
   "metadata": {
    "ExecuteTime": {
     "end_time": "2022-04-01T17:58:43.028321Z",
     "start_time": "2022-04-01T17:58:42.816328Z"
    }
   },
   "outputs": [],
   "source": [
    "# year\n",
    "df02_users['year_account_created'] = df02_users['date_account_created'].dt.year\n",
    "\n",
    "# month\n",
    "df02_users['month_account_created'] = df02_users['date_account_created'].dt.month\n",
    "\n",
    "# day\n",
    "df02_users['day_account_created'] = df02_users['date_account_created'].dt.day\n",
    "\n",
    "# day of week\n",
    "df02_users['dayofweek_account_created'] = df02_users['date_account_created'].dt.dayofweek\n",
    "\n",
    "# week of year\n",
    "df02_users['weekofyear_account_created'] = df02_users['date_account_created'].dt.weekofyear"
   ]
  },
  {
   "cell_type": "markdown",
   "id": "db245cbb",
   "metadata": {},
   "source": [
    "### 2.2.2. First Active"
   ]
  },
  {
   "cell_type": "code",
   "execution_count": 32,
   "id": "55143c04",
   "metadata": {
    "ExecuteTime": {
     "end_time": "2022-04-01T17:58:44.212048Z",
     "start_time": "2022-04-01T17:58:43.978977Z"
    }
   },
   "outputs": [],
   "source": [
    "# year\n",
    "df02_users['year_first_active'] = df02_users['date_first_active'].dt.year\n",
    "\n",
    "# month\n",
    "df02_users['month_first_active'] = df02_users['date_first_active'].dt.month\n",
    "\n",
    "# day\n",
    "df02_users['day_first_active'] = df02_users['date_first_active'].dt.day\n",
    "\n",
    "# day of week\n",
    "df02_users['dayofweek_first_active'] = df02_users['date_first_active'].dt.dayofweek\n",
    "\n",
    "# week of year\n",
    "df02_users['weekofyear_first_active'] = df02_users['date_first_active'].dt.weekofyear"
   ]
  },
  {
   "cell_type": "markdown",
   "id": "603026d2",
   "metadata": {},
   "source": [
    "### 2.2.3. First Booking"
   ]
  },
  {
   "cell_type": "code",
   "execution_count": 33,
   "id": "91800913",
   "metadata": {
    "ExecuteTime": {
     "end_time": "2022-04-01T17:58:45.491592Z",
     "start_time": "2022-04-01T17:58:45.341650Z"
    }
   },
   "outputs": [],
   "source": [
    "# year\n",
    "df02_users['year_first_booking'] = df02_users['date_first_booking'].dt.year\n",
    "\n",
    "# month\n",
    "df02_users['month_first_booking'] = df02_users['date_first_booking'].dt.month\n",
    "\n",
    "# day\n",
    "df02_users['day_first_booking'] = df02_users['date_first_booking'].dt.day\n",
    "\n",
    "# day of week\n",
    "df02_users['dayofweek_first_booking'] = df02_users['date_first_booking'].dt.dayofweek\n",
    "\n",
    "# week of year\n",
    "df02_users['weekofyear_first_booking'] = df02_users['date_first_booking'].dt.weekofyear"
   ]
  },
  {
   "cell_type": "markdown",
   "id": "b0f5b037",
   "metadata": {},
   "source": [
    "# 3.0. Data Filtering"
   ]
  },
  {
   "cell_type": "code",
   "execution_count": 34,
   "id": "26b87f66",
   "metadata": {
    "ExecuteTime": {
     "end_time": "2022-04-01T17:58:46.570146Z",
     "start_time": "2022-04-01T17:58:46.527110Z"
    }
   },
   "outputs": [],
   "source": [
    "df03_users = df02_users.copy()"
   ]
  },
  {
   "cell_type": "markdown",
   "id": "80d07e8f",
   "metadata": {},
   "source": [
    "## 3.1. Filtering Rows"
   ]
  },
  {
   "cell_type": "code",
   "execution_count": 35,
   "id": "6221dc16",
   "metadata": {
    "ExecuteTime": {
     "end_time": "2022-04-01T17:58:47.701372Z",
     "start_time": "2022-04-01T17:58:47.550376Z"
    }
   },
   "outputs": [],
   "source": [
    "# age - greater than 15 and lower than 100 - There are few people over 100 years old ( Could be error from system or manual imput - Cleaning noise)\n",
    "df03_users = df03_users[(df03_users['age'] > 15) & (df03_users['age'] < 100)]\n",
    "\n",
    "# secs_elapsed - there is no possible 0 secs elapesed on website\n",
    "#df03_sessions = df03_sessions[df03_sessions['secs_elapsed'] > 0]"
   ]
  },
  {
   "cell_type": "markdown",
   "id": "d9303a1b",
   "metadata": {},
   "source": [
    "## 3.2. Columns Selection"
   ]
  },
  {
   "cell_type": "code",
   "execution_count": 36,
   "id": "1072be5b",
   "metadata": {
    "ExecuteTime": {
     "end_time": "2022-04-01T17:58:49.136372Z",
     "start_time": "2022-04-01T17:58:48.981373Z"
    }
   },
   "outputs": [],
   "source": [
    "# columns id not carry any information\n",
    "df03_users = df03_users.drop(['id'], axis=1)\n",
    "\n",
    "# columns used to feature enginnering\n",
    "cols_date =['timestamp_first_active',\n",
    "            'date_first_active',\n",
    "            'date_account_created',\n",
    "            'date_first_booking']\n",
    "\n",
    "df03_users = df03_users.drop(columns=cols_date)"
   ]
  },
  {
   "cell_type": "markdown",
   "id": "20d1ff53",
   "metadata": {},
   "source": [
    "# 4.0. Data Exploratory Analysis"
   ]
  },
  {
   "cell_type": "code",
   "execution_count": 37,
   "id": "c5e9da71",
   "metadata": {
    "ExecuteTime": {
     "end_time": "2022-04-01T17:58:50.256908Z",
     "start_time": "2022-04-01T17:58:50.212915Z"
    }
   },
   "outputs": [],
   "source": [
    "df04_users = df03_users.copy()"
   ]
  },
  {
   "cell_type": "markdown",
   "id": "08aaa120",
   "metadata": {},
   "source": [
    "## 4.1. Univariate Analysis"
   ]
  },
  {
   "cell_type": "code",
   "execution_count": 39,
   "id": "5b859078",
   "metadata": {
    "ExecuteTime": {
     "end_time": "2022-03-15T00:20:22.950066Z",
     "start_time": "2022-03-15T00:20:22.938068Z"
    }
   },
   "outputs": [],
   "source": [
    "# profile = ProfileReport(df04_users)\n",
    "\n",
    "# profile.to_file(output_file='airbnb_booking_statistics.html')"
   ]
  },
  {
   "cell_type": "markdown",
   "id": "07beed36",
   "metadata": {
    "heading_collapsed": true
   },
   "source": [
    "## 4.2. Bivariate Analysis"
   ]
  },
  {
   "cell_type": "markdown",
   "id": "381f4323",
   "metadata": {
    "hidden": true
   },
   "source": [
    "### H1. Across all destinations, it takes users an average of 15 days to make their first Airbnb booking since their first activation.\n",
    "**False:** Users take up to 3 days on median to register on the site all destinations."
   ]
  },
  {
   "cell_type": "code",
   "execution_count": 40,
   "id": "91288f22",
   "metadata": {
    "ExecuteTime": {
     "end_time": "2022-03-11T22:40:02.604182Z",
     "start_time": "2022-03-11T22:40:01.676061Z"
    },
    "hidden": true,
    "hide_input": true
   },
   "outputs": [
    {
     "data": {
      "image/png": "[encoded data removed]",
      "text/plain": [
       "<Figure size 1440x432 with 2 Axes>"
      ]
     },
     "metadata": {
      "needs_background": "light"
     },
     "output_type": "display_data"
    }
   ],
   "source": [
    "plt.subplots(figsize=(20,6))\n",
    "\n",
    "# select data with destination\n",
    "aux = df04_users[df04_users['country_destination'] != 'NDF']\n",
    "\n",
    "# average number of days from the first active day on website to the first booking for each destination\n",
    "plt.subplot(1, 2, 1)\n",
    "aux1 = aux[['diff_first_active_first_booking', 'country_destination']].groupby('country_destination').mean().reset_index()\n",
    "sns.barplot(x='country_destination', \n",
    "            y='diff_first_active_first_booking', \n",
    "            data=aux1.sort_values('diff_first_active_first_booking'))\n",
    "plt.axhline(aux['diff_first_active_first_booking'].mean(), linestyle='--');\n",
    "plt.title('Average Days until Booking');\n",
    "\n",
    "# median number of days from the first active day on website to the first booking for each destination\n",
    "plt.subplot(1, 2, 2)\n",
    "aux2 = aux[['diff_first_active_first_booking', 'country_destination']].groupby('country_destination').median().reset_index()\n",
    "sns.barplot(x='country_destination', \n",
    "            y='diff_first_active_first_booking',\n",
    "            data=aux2.sort_values('diff_first_active_first_booking'))\n",
    "plt.axhline(aux['diff_first_active_first_booking'].median(), linestyle='--');\n",
    "plt.title('Median Days until Booking');"
   ]
  },
  {
   "cell_type": "markdown",
   "id": "39bc0f13",
   "metadata": {
    "hidden": true
   },
   "source": [
    "### H2. In all destinations, it takes users an average of 3 days to register on the site.\n",
    "**True:** Users register the same day they first visit, on average."
   ]
  },
  {
   "cell_type": "code",
   "execution_count": 41,
   "id": "cbe836d7",
   "metadata": {
    "ExecuteTime": {
     "end_time": "2022-03-11T22:40:03.093176Z",
     "start_time": "2022-03-11T22:40:02.608181Z"
    },
    "hidden": true,
    "hide_input": true
   },
   "outputs": [
    {
     "data": {
      "image/png": "[encoded data removed]",
      "text/plain": [
       "<Figure size 1440x432 with 1 Axes>"
      ]
     },
     "metadata": {
      "needs_background": "light"
     },
     "output_type": "display_data"
    }
   ],
   "source": [
    "plt.subplots(figsize=(20,6))\n",
    "\n",
    "# average number of days from the first active day on website to the first booking for each destination\n",
    "plt.subplot(1, 2, 1)\n",
    "aux1 = df04_users[['diff_account_created_first_active', 'country_destination']].groupby('country_destination').mean().reset_index()\n",
    "\n",
    "sns.barplot(x='country_destination', \n",
    "            y='diff_account_created_first_active',\n",
    "            data=aux1.sort_values('diff_account_created_first_active'))\n",
    "plt.axhline(df04_users['diff_account_created_first_active'].mean(), linestyle='--');"
   ]
  },
  {
   "cell_type": "markdown",
   "id": "35242e84",
   "metadata": {
    "hidden": true
   },
   "source": [
    "### H3. The annual volume of bookings made during the summer increased by 20% or more for destinations within the USA.\n",
    "**True:**  Bookings made during the summer for the USA grow by 80% a year on average."
   ]
  },
  {
   "cell_type": "code",
   "execution_count": 42,
   "id": "32087ca0",
   "metadata": {
    "ExecuteTime": {
     "end_time": "2022-03-11T22:40:03.991189Z",
     "start_time": "2022-03-11T22:40:03.097192Z"
    },
    "hidden": true,
    "hide_input": true
   },
   "outputs": [
    {
     "data": {
      "image/png": "[encoded data removed]",
      "text/plain": [
       "<Figure size 1440x432 with 2 Axes>"
      ]
     },
     "metadata": {
      "needs_background": "light"
     },
     "output_type": "display_data"
    }
   ],
   "source": [
    "plt.figure(figsize=(20,6))\n",
    "\n",
    "# number of booking for year, month of firsrt booking and destination by number of rows\n",
    "aux1 = df04_users[['year_first_booking', 'month_first_booking', 'country_destination']].groupby(\n",
    "    ['year_first_booking', 'month_first_booking', 'country_destination']\n",
    ").size().reset_index().rename(columns={0: 'booking_count'})\n",
    "\n",
    "# seasons for northern hemisphere\n",
    "season_map = {1: 'Winter', 2: 'Winter', 3: 'Spring', 4: 'Spring', 5: 'Spring', 6: 'Summer',\n",
    "              7: 'Summer', 8: 'Summer', 9: 'Autumn', 10: 'Autumn', 11: 'Autumn', 12: 'Winter'}\n",
    "\n",
    "# seasons for each month of first booking\n",
    "aux1['season'] = aux1['month_first_booking'].map(season_map)\n",
    "\n",
    "# select data targeting the USA and the summer season \n",
    "aux2 = aux1[(aux1['country_destination'] == 'US') & (aux1['season'] == 'Summer') & (aux1['year_first_booking'] != 2015)]\n",
    "\n",
    "# number of bookings for first booking year\n",
    "aux3 = aux2[['year_first_booking', 'booking_count']].groupby('year_first_booking').sum().reset_index()\n",
    "\n",
    "plt.subplot(1, 2, 1)\n",
    "sns.lineplot(x='year_first_booking', y='booking_count', data=aux3)\n",
    "plt.title('Booking for US during the Summer');\n",
    "\n",
    "# porcentage of growth to each first booking year\n",
    "aux3['yearly_growth'] = aux3['booking_count'].pct_change().fillna(0)\n",
    "\n",
    "# yearly growth of first booking for US during the summer\n",
    "plt.subplot(1, 2, 2)\n",
    "ax = sns.barplot(x='year_first_booking', y='yearly_growth', data=aux3);\n",
    "ax.bar_label(ax.containers[0]);\n",
    "plt.title('Yearly Growth of Booking for US during the Summer ');\n",
    "\n"
   ]
  },
  {
   "cell_type": "markdown",
   "id": "45f7c976",
   "metadata": {
    "hidden": true
   },
   "source": [
    "### H4. Female users make 10% more reservations for countries outside the USA.\n",
    "**False:** Female users make more than 15% more reservations than male users."
   ]
  },
  {
   "cell_type": "code",
   "execution_count": 43,
   "id": "7a34313a",
   "metadata": {
    "ExecuteTime": {
     "end_time": "2022-03-11T22:40:04.338177Z",
     "start_time": "2022-03-11T22:40:03.996178Z"
    },
    "hidden": true,
    "hide_input": true
   },
   "outputs": [
    {
     "data": {
      "image/png": "[encoded data removed]",
      "text/plain": [
       "<Figure size 864x432 with 1 Axes>"
      ]
     },
     "metadata": {
      "needs_background": "light"
     },
     "output_type": "display_data"
    }
   ],
   "source": [
    "plt.figure(figsize=(12, 6))\n",
    "\n",
    "# number of booking for gender and destination\n",
    "aux1 = df04_users[['gender', 'country_destination']].groupby(\n",
    "    ['gender', 'country_destination']\n",
    ").size().reset_index().rename(columns={0: 'booking_count'})\n",
    "\n",
    "# select data for US and droped unknow rows\n",
    "aux2 = aux1[(aux1['country_destination'] == 'US') & (aux1['gender'] != '-unknown-')]\n",
    "\n",
    "# percentage of bookings for each gender\n",
    "aux2['pct_booking'] = round(100*(aux2['booking_count']/aux2['booking_count'].sum()), 2)\n",
    "\n",
    "# percentage of bookings for each gender for US destination\n",
    "ax = sns.barplot(x='pct_booking', y='gender', data=aux2);\n",
    "ax.bar_label(ax.containers[0]);\n",
    "plt.title('Percentage of Booking by Gender for US');"
   ]
  },
  {
   "cell_type": "markdown",
   "id": "a420e8eb",
   "metadata": {
    "hidden": true
   },
   "source": [
    "### H5. The Google Marketing channel accounts for more than 40% of bookings to countries outside the USA.\n",
    "**True:** Considering only paid channel, Marketing Google represents 76% of bookings."
   ]
  },
  {
   "cell_type": "code",
   "execution_count": 44,
   "id": "11545499",
   "metadata": {
    "ExecuteTime": {
     "end_time": "2022-03-11T22:40:05.209183Z",
     "start_time": "2022-03-11T22:40:04.342181Z"
    },
    "hidden": true,
    "hide_input": true
   },
   "outputs": [
    {
     "data": {
      "image/png": "[encoded data removed]",
      "text/plain": [
       "<Figure size 1440x432 with 2 Axes>"
      ]
     },
     "metadata": {
      "needs_background": "light"
     },
     "output_type": "display_data"
    }
   ],
   "source": [
    "plt.figure(figsize=(20, 6))\n",
    "\n",
    "# select data with destination and without US\n",
    "aux = df04_users[(df04_users['country_destination'] != 'US') & (df04_users['country_destination'] != 'NDF')]\n",
    "\n",
    "# number of booking por each affiliate\n",
    "aux1 = aux[['affiliate_provider']].groupby('affiliate_provider').size().reset_index().rename(columns={0: 'booking_count'})\n",
    "\n",
    "# porcentage of booking for each affiliate\n",
    "aux1['pct_booking'] = round(100*aux1['booking_count']/aux1['booking_count'].sum(), 2)\n",
    "\n",
    "# group values smaller than 10\n",
    "aux2 = aux1['pct_booking'].groupby(\n",
    "    np.where(aux1['pct_booking'] >=10, aux1['affiliate_provider'], 'others')\n",
    ").sum().reset_index().rename(columns={'index': 'affiliate_provider'})\n",
    "\n",
    "# percentage of booking for each channel\n",
    "plt.subplot(1, 2, 1)\n",
    "ax = sns.barplot(x='affiliate_provider', y='pct_booking', data=aux2)\n",
    "ax.bar_label(ax.containers[0]);\n",
    "plt.title('Porcentage of Booking for each Channel');\n",
    "\n",
    "#not include organic channels\n",
    "aux3 = aux[aux['affiliate_provider'] != 'direct']\n",
    "\n",
    "# number of booking por each affiliate\n",
    "aux4 = aux3[['affiliate_provider']].groupby('affiliate_provider').size().reset_index().rename(columns={0: 'booking_count'})\n",
    "\n",
    "# porcentage of booking for each affiliate\n",
    "aux4['pct_booking'] = round(100*aux4['booking_count']/aux4['booking_count'].sum(), 2)\n",
    "\n",
    "# group values smaller than 10\n",
    "aux5 = aux4['pct_booking'].groupby(\n",
    "    np.where(aux4['pct_booking'] > 1, aux4['affiliate_provider'], 'others')\n",
    ").sum().reset_index().rename(columns={'index': 'affiliate_provider'}).sort_values('pct_booking', ascending=False)\n",
    "\n",
    "# percentage of booking for each channel\n",
    "plt.subplot(1, 2, 2)\n",
    "ax = sns.barplot(x='affiliate_provider', y='pct_booking', data=aux5)\n",
    "ax.bar_label(ax.containers[0]);\n",
    "plt.title('Porcentage of Booking for each Channel, except Direct');"
   ]
  },
  {
   "cell_type": "markdown",
   "id": "2168020e",
   "metadata": {
    "hidden": true
   },
   "source": [
    "### H6. The USA destination represents more than 20% in all channels.\n",
    "**True:** USA represents 69% of bookings on average in all channels."
   ]
  },
  {
   "cell_type": "code",
   "execution_count": 45,
   "id": "b9ac1168",
   "metadata": {
    "ExecuteTime": {
     "end_time": "2022-03-11T22:40:05.826193Z",
     "start_time": "2022-03-11T22:40:05.224214Z"
    },
    "hidden": true,
    "hide_input": true
   },
   "outputs": [
    {
     "data": {
      "image/png": "[encoded data removed]",
      "text/plain": [
       "<Figure size 864x432 with 1 Axes>"
      ]
     },
     "metadata": {
      "needs_background": "light"
     },
     "output_type": "display_data"
    }
   ],
   "source": [
    "plt.figure(figsize=(12, 6))\n",
    "\n",
    "# select data with distination\n",
    "aux = df04_users[df04_users['country_destination'] != 'NDF']\n",
    "\n",
    "# number of booking for each destination and affiliate channel\n",
    "aux1 = aux[['country_destination', 'affiliate_channel']].groupby(\n",
    "    ['country_destination', 'affiliate_channel']\n",
    ").size().reset_index().rename(columns={0: 'booking_count'})\n",
    "\n",
    "# create column for porcentage of booking for each channel\n",
    "aux1['pct_booking_channel'] = np.nan\n",
    "\n",
    "# porcentage individual for each affiliate channel\n",
    "for channel in aux1['affiliate_channel'].unique().tolist():\n",
    "    ref_channel = aux1['affiliate_channel'] == channel\n",
    "    aux1.loc[ref_channel, 'pct_booking_channel'] = np.round(\n",
    "        100 * aux1.loc[ref_channel, 'booking_count'] / aux1.loc[ref_channel, 'booking_count'].sum(), 2\n",
    ")\n",
    "\n",
    "# select destination for US\n",
    "aux2 = aux1[aux1['country_destination'] == 'US']\n",
    "\n",
    "# percentage of bookings for channels for US destination \n",
    "ax = sns.barplot(x='affiliate_channel', y='pct_booking_channel', data=aux2)\n",
    "ax.bar_label(ax.containers[0]);\n",
    "plt.axhline(aux2['pct_booking_channel'].mean(), linestyle='--')\n",
    "plt.title('Porcentage of Booking to USA for each Channel');"
   ]
  },
  {
   "cell_type": "markdown",
   "id": "766ed40d",
   "metadata": {
    "hidden": true
   },
   "source": [
    "### H7. The average age of people is 35 in all destinations.\n",
    "**False:** Average age for all destinations is 40 years old."
   ]
  },
  {
   "cell_type": "code",
   "execution_count": 46,
   "id": "6d4f31b0",
   "metadata": {
    "ExecuteTime": {
     "end_time": "2022-03-11T22:40:06.424179Z",
     "start_time": "2022-03-11T22:40:05.836181Z"
    },
    "hidden": true,
    "hide_input": true
   },
   "outputs": [
    {
     "data": {
      "image/png": "[encoded data removed]",
      "text/plain": [
       "<Figure size 864x432 with 1 Axes>"
      ]
     },
     "metadata": {
      "needs_background": "light"
     },
     "output_type": "display_data"
    }
   ],
   "source": [
    "plt.figure(figsize=(12, 6))\n",
    "\n",
    "# grouped country destination\n",
    "aux1 = df04_users[['age', 'country_destination']].groupby('country_destination').mean().astype(int).reset_index()\n",
    "\n",
    "# average age for each destination\n",
    "ax = sns.barplot(x='country_destination', y='age', data=aux1);\n",
    "ax.bar_label(ax.containers[0]);\n",
    "plt.axhline(aux1['age'].mean());\n",
    "plt.title('Average Age for each Destination');"
   ]
  },
  {
   "cell_type": "markdown",
   "id": "9ef2f8d7",
   "metadata": {
    "hidden": true
   },
   "source": [
    "### H8. The percentage of users who use the English language site to book accommodations at any destination is over 90%.\n",
    "**True:** English is dominant among users, accounting for 97%.  "
   ]
  },
  {
   "cell_type": "code",
   "execution_count": 47,
   "id": "86c47a9d",
   "metadata": {
    "ExecuteTime": {
     "end_time": "2022-03-11T22:40:06.883266Z",
     "start_time": "2022-03-11T22:40:06.429180Z"
    },
    "hidden": true,
    "hide_input": true
   },
   "outputs": [
    {
     "data": {
      "image/png": "[encoded data removed]",
      "text/plain": [
       "<Figure size 1440x432 with 2 Axes>"
      ]
     },
     "metadata": {
      "needs_background": "light"
     },
     "output_type": "display_data"
    }
   ],
   "source": [
    "plt.figure(figsize=(20,6))\n",
    "\n",
    "# number of booking for each language\n",
    "aux1 = df04_users[['language']].groupby('language').size().reset_index().rename(columns={0: 'booking_count'})\n",
    "\n",
    "# porcentage of bookings for each language\n",
    "aux1['pct_booking'] = 100*aux1['booking_count']/aux1['booking_count'].sum()\n",
    "\n",
    "# grouped values smaller than 1%\n",
    "aux2 =aux1[['pct_booking']].groupby(\n",
    "    np.where(aux1['pct_booking'] >= 1, aux1['language'], 'others')\n",
    ").sum().reset_index().rename(columns={'index': 'language'}).sort_values('pct_booking', ascending=False)\n",
    "\n",
    "# porcentage of booking for language\n",
    "plt.subplot(1, 2, 1)\n",
    "ax = sns.barplot(x='language', y='pct_booking', data=aux2)\n",
    "ax.bar_label(ax.containers[0]);\n",
    "plt.title('Porcentage of Language Users');\n",
    "\n",
    "# select data with destination and without english language\n",
    "aux = df04_users[(df04_users['language'] == 'en') & (df04_users['country_destination'] != 'NDF')]\n",
    "\n",
    "# number of language users for each destination\n",
    "aux3 = aux[['country_destination', 'language']].groupby('country_destination').count().reset_index().sort_values('language')\n",
    "\n",
    "# porcentage of language users for destination\n",
    "aux3['pct_language'] = 100 * aux3['language'] / aux3['language'].sum()\n",
    "\n",
    "# porcentage of language users without english for each destination\n",
    "plt.subplot(1, 2, 2)\n",
    "sns.barplot(x='country_destination', y='pct_language', data=aux3);\n",
    "plt.title('Porcentage of Language Users for each Destination');"
   ]
  },
  {
   "cell_type": "markdown",
   "id": "219e8c33",
   "metadata": {
    "hidden": true
   },
   "source": [
    "### H9. Is the number of Airbnb bookings decreasing over the years.\n",
    "**False:** The number of Airbnb bookings is growing, but the growth rate has been slowing down over the years."
   ]
  },
  {
   "cell_type": "code",
   "execution_count": 48,
   "id": "6ffbb6fa",
   "metadata": {
    "ExecuteTime": {
     "end_time": "2022-03-11T22:40:07.543985Z",
     "start_time": "2022-03-11T22:40:06.885986Z"
    },
    "hidden": true,
    "hide_input": true
   },
   "outputs": [
    {
     "data": {
      "image/png": "[encoded data removed]",
      "text/plain": [
       "<Figure size 1440x432 with 2 Axes>"
      ]
     },
     "metadata": {
      "needs_background": "light"
     },
     "output_type": "display_data"
    }
   ],
   "source": [
    "plt.figure(figsize=(20,6))\n",
    "\n",
    "# select data with complete years and with booking\n",
    "aux = df04_users[(df04_users['country_destination'] != 'NDF') & \n",
    "                  (df04_users['year_first_booking'] < df04_users['year_first_booking'].max())]\n",
    "\n",
    "# number of booking for each year\n",
    "aux1 = aux[['year_first_booking']].groupby('year_first_booking').size().reset_index().rename(columns={0: 'booking_count'})\n",
    "\n",
    "# growth of booking over the years\n",
    "aux1[['booking_growth']] = aux1[['booking_count']].pct_change().fillna(0)\n",
    "\n",
    "# number of booking over years\n",
    "plt.subplot(1, 2, 1)\n",
    "ax = sns.barplot(x='year_first_booking', y='booking_count', data=aux1 );\n",
    "ax.bar_label(ax.containers[0]);\n",
    "plt.title('Booking over the Years');\n",
    "\n",
    "# growth of booking over the year\n",
    "plt.subplot(1, 2, 2)\n",
    "ax = sns.barplot(x='year_first_booking', y='booking_growth', data=aux1);\n",
    "ax.bar_label(ax.containers[0]);\n",
    "plt.title('Growth of Booking over the Years');"
   ]
  },
  {
   "cell_type": "markdown",
   "id": "21102193",
   "metadata": {
    "hidden": true
   },
   "source": [
    "### H10. Airbnb's booking growth for USA is higher than for other destinations over the years.\n",
    "**True:** The number of bookings for USA is the highest among all destinations over the years."
   ]
  },
  {
   "cell_type": "code",
   "execution_count": 49,
   "id": "2aa25407",
   "metadata": {
    "ExecuteTime": {
     "end_time": "2022-03-11T22:40:08.367989Z",
     "start_time": "2022-03-11T22:40:07.547991Z"
    },
    "hidden": true,
    "hide_input": true
   },
   "outputs": [
    {
     "data": {
      "image/png": "[encoded data removed]",
      "text/plain": [
       "<Figure size 1440x432 with 1 Axes>"
      ]
     },
     "metadata": {
      "needs_background": "light"
     },
     "output_type": "display_data"
    },
    {
     "data": {
      "image/png": "[encoded data removed]",
      "text/plain": [
       "<Figure size 1440x432 with 1 Axes>"
      ]
     },
     "metadata": {
      "needs_background": "light"
     },
     "output_type": "display_data"
    }
   ],
   "source": [
    "# complete years and with booking\n",
    "aux = df04_users[(df04_users['country_destination'] != 'NDF') & \n",
    "                  (df04_users['year_first_booking'] < df04_users['year_first_booking'].max())]\n",
    "\n",
    "# number of booking through the year and for each destination\n",
    "aux1 = aux[['year_first_booking', 'country_destination']].groupby(\n",
    "    ['year_first_booking', 'country_destination']\n",
    ").size().reset_index().rename(columns={0: 'booking_count'})\n",
    "\n",
    "# select data for marjority destinations\n",
    "aux2 = aux1[(aux1['country_destination'] == 'US') | (aux1['country_destination'] == 'other') ]\n",
    "\n",
    "aux2.pivot_table(values='booking_count', \n",
    "                 index='year_first_booking', \n",
    "                 columns='country_destination',\n",
    "                 aggfunc='sum', \n",
    "                 fill_value=0).plot(figsize=(20,6), title='Evolution of Bookings Over the Years (US and Others)');\n",
    "\n",
    "aux3 = aux1[(aux1['country_destination'] != 'US') & (aux1['country_destination'] != 'other') ]\n",
    "\n",
    "aux3.pivot_table(values='booking_count', \n",
    "                 index='year_first_booking', \n",
    "                 columns='country_destination',\n",
    "                 aggfunc='sum', \n",
    "                 fill_value=0).plot(figsize=(20,6), title='Evolution of Bookings Over the Years');"
   ]
  },
  {
   "cell_type": "markdown",
   "id": "95ba753d",
   "metadata": {},
   "source": [
    "## 4.3. Multivariate Analysis"
   ]
  },
  {
   "cell_type": "markdown",
   "id": "4edaea33",
   "metadata": {},
   "source": [
    "### 4.3.1. High Correlation Attributes"
   ]
  },
  {
   "cell_type": "markdown",
   "id": "5af60a65",
   "metadata": {
    "ExecuteTime": {
     "end_time": "2022-03-10T23:06:57.033435Z",
     "start_time": "2022-03-10T23:06:57.018438Z"
    }
   },
   "source": [
    "**Numerical Variables**\n",
    "\n",
    "diff_first_booking_account_created x diff_first_active_first_booking\n",
    "    \n",
    "    remove: diff_first_active_first_booking\n",
    "    \n",
    "year_account_created x year_first_active\n",
    "\n",
    "    remove: year_first_active\n",
    "        \n",
    "month_account_created x weekofyear_account_created\n",
    "\n",
    "    remove: weekofyear_account_created\n",
    "    \n",
    "month_account_created x month_first_active\n",
    "\n",
    "    remove: month_first_active\n",
    "\n",
    "month_account_created x weekofyear_first_active\n",
    "\n",
    "    remove: weekofyear_first_active\n",
    "    \n",
    "day_account_created x day_first_active\n",
    "\n",
    "    remove: day_first_active\n",
    "    \n",
    "dayofweek_account_created x dayofweek_first_active\n",
    "\n",
    "    remove: dayofweek_first_active\n",
    "    \n",
    "weekofyear_account_created x month_first_active\n",
    "    \n",
    "    remove: month_first_active\n",
    "\n",
    "weekofyear_account_created x weekofyear_first_active\n",
    "\n",
    "    remove: weekofyear_first_active\n",
    "    \n",
    "month_first_active x weekofyear_first_active\n",
    "\n",
    "    remove: weekofyear_first_active\n",
    "    \n",
    "month_first_booking x weekofyear_first_booking\n",
    "\n",
    "    remove: weekofyear_first_booking"
   ]
  },
  {
   "cell_type": "markdown",
   "id": "444b2eec",
   "metadata": {
    "ExecuteTime": {
     "end_time": "2022-03-10T23:06:40.953013Z",
     "start_time": "2022-03-10T23:06:40.945011Z"
    }
   },
   "source": [
    "**Categorical Variables**\n",
    "\n",
    "affiliate_channel x affiliate_provider\n",
    "\n",
    "    remove: affiliate_provider\n",
    "\n",
    "signup_app x first_device_type\n",
    "\n",
    "    remove: first_device_type\n",
    "\n",
    "first_device_type x first_browser\n",
    "\n",
    "    remove: first_browser"
   ]
  },
  {
   "cell_type": "markdown",
   "id": "13e25982",
   "metadata": {},
   "source": [
    "### 4.3.2. Manual Attributes Selection"
   ]
  },
  {
   "cell_type": "code",
   "execution_count": 78,
   "id": "db072579",
   "metadata": {
    "ExecuteTime": {
     "end_time": "2022-04-01T20:07:44.228113Z",
     "start_time": "2022-04-01T20:07:44.205116Z"
    }
   },
   "outputs": [],
   "source": [
    "# high correlation columns\n",
    "cols_correlation = ['diff_first_active_first_booking',\n",
    "                    'year_first_active',\n",
    "                    'weekofyear_account_created',\n",
    "                    'month_first_active',\n",
    "                    'weekofyear_first_active',\n",
    "                    'day_first_active',\n",
    "                    'dayofweek_first_active',\n",
    "                    'weekofyear_first_active',\n",
    "                    'weekofyear_first_booking',\n",
    "                    'affiliate_provider',\n",
    "                    'first_device_type',\n",
    "                    'first_browser']\n",
    "\n",
    "# columns with a unique value (>95%)\n",
    "cols_unique_values = ['language']\n",
    "\n",
    "# columns to be manual droped\n",
    "cols_manual_select = cols_correlation + cols_unique_values"
   ]
  },
  {
   "cell_type": "markdown",
   "id": "868b4156",
   "metadata": {},
   "source": [
    "# 5.0. Data Preparation"
   ]
  },
  {
   "cell_type": "code",
   "execution_count": 39,
   "id": "5fcd8687",
   "metadata": {
    "ExecuteTime": {
     "end_time": "2022-04-01T17:58:54.956869Z",
     "start_time": "2022-04-01T17:58:54.925873Z"
    }
   },
   "outputs": [],
   "source": [
    "df05_users = df04_users.copy()"
   ]
  },
  {
   "cell_type": "markdown",
   "id": "01e52fdc",
   "metadata": {},
   "source": [
    "## 5.1. Encoding"
   ]
  },
  {
   "cell_type": "code",
   "execution_count": 40,
   "id": "e9213e06",
   "metadata": {
    "ExecuteTime": {
     "end_time": "2022-04-01T17:58:57.461091Z",
     "start_time": "2022-04-01T17:58:56.838036Z"
    }
   },
   "outputs": [],
   "source": [
    "# dummy variable\n",
    "df05_users_dummy = pd.get_dummies(df05_users.drop(['country_destination'], axis=1))\n",
    "\n",
    "# join id and country destination\n",
    "df05_users = pd.concat( [df05_users['country_destination'], df05_users_dummy], axis=1 )"
   ]
  },
  {
   "cell_type": "markdown",
   "id": "592da92f",
   "metadata": {},
   "source": [
    "## 5.2. Response Variable"
   ]
  },
  {
   "cell_type": "code",
   "execution_count": 41,
   "id": "8622c142",
   "metadata": {
    "ExecuteTime": {
     "end_time": "2022-04-01T17:58:59.418813Z",
     "start_time": "2022-04-01T17:58:59.144636Z"
    }
   },
   "outputs": [],
   "source": [
    "# create OneHotEncoder instance\n",
    "ohe = pp.OneHotEncoder()\n",
    "\n",
    "# ohe hot encoding response feature\n",
    "df_ohe = pd.DataFrame(ohe.fit_transform(df05_users['country_destination'].values.reshape(-1,1)).toarray(),\n",
    "                      columns=ohe.categories_[0],\n",
    "                      index=df05_users.index)\n",
    "\n",
    "# joining encoded response feature to dataset\n",
    "df05_users = pd.concat([df05_users.drop(columns=['country_destination']), df_ohe], axis=1)"
   ]
  },
  {
   "cell_type": "markdown",
   "id": "6d066d66",
   "metadata": {},
   "source": [
    "## 5.3. Balance Dataset"
   ]
  },
  {
   "cell_type": "markdown",
   "id": "41c152c7",
   "metadata": {},
   "source": [
    "### 5.3.1 Random Undersampling"
   ]
  },
  {
   "cell_type": "code",
   "execution_count": 42,
   "id": "50c2e61a",
   "metadata": {
    "ExecuteTime": {
     "end_time": "2022-04-01T17:59:02.375630Z",
     "start_time": "2022-04-01T17:59:00.809262Z"
    }
   },
   "outputs": [],
   "source": [
    "# define sampler - random under-sampling\n",
    "undersampling = us.RandomUnderSampler(sampling_strategy='not minority', random_state=32)\n",
    "\n",
    "# resample the dataset\n",
    "X_under, y_under = undersampling.fit_resample(df05_users.drop(columns=ohe.categories_[0]), \n",
    "                                              ohe.inverse_transform(df05_users[ohe.categories_[0]]))"
   ]
  },
  {
   "cell_type": "code",
   "execution_count": 43,
   "id": "45517413",
   "metadata": {
    "ExecuteTime": {
     "end_time": "2022-04-01T17:59:04.113895Z",
     "start_time": "2022-04-01T17:59:03.999383Z"
    },
    "cell_style": "split"
   },
   "outputs": [
    {
     "data": {
      "text/plain": [
       "NDF      119187\n",
       "US        60129\n",
       "other      9816\n",
       "FR         4840\n",
       "IT         2742\n",
       "GB         2259\n",
       "ES         2183\n",
       "CA         1369\n",
       "DE         1024\n",
       "NL          739\n",
       "AU          519\n",
       "PT          212\n",
       "dtype: int64"
      ]
     },
     "execution_count": 43,
     "metadata": {},
     "output_type": "execute_result"
    }
   ],
   "source": [
    "pd.DataFrame(ohe.inverse_transform(df05_users[ohe.categories_[0]])).value_counts()"
   ]
  },
  {
   "cell_type": "code",
   "execution_count": 44,
   "id": "2b85c165",
   "metadata": {
    "ExecuteTime": {
     "end_time": "2022-04-01T17:59:06.133522Z",
     "start_time": "2022-04-01T17:59:06.109515Z"
    },
    "cell_style": "split"
   },
   "outputs": [
    {
     "data": {
      "text/plain": [
       "AU       212\n",
       "CA       212\n",
       "DE       212\n",
       "ES       212\n",
       "FR       212\n",
       "GB       212\n",
       "IT       212\n",
       "NDF      212\n",
       "NL       212\n",
       "PT       212\n",
       "US       212\n",
       "other    212\n",
       "dtype: int64"
      ]
     },
     "execution_count": 44,
     "metadata": {},
     "output_type": "execute_result"
    }
   ],
   "source": [
    "pd.DataFrame(y_under).value_counts()"
   ]
  },
  {
   "cell_type": "code",
   "execution_count": 45,
   "id": "88c1e31c",
   "metadata": {
    "ExecuteTime": {
     "end_time": "2022-04-01T17:59:08.023230Z",
     "start_time": "2022-04-01T17:59:08.012232Z"
    }
   },
   "outputs": [],
   "source": [
    "# convert back to encoding representation\n",
    "y_under = pd.DataFrame(ohe.transform(y_under.reshape(-1,1)).toarray(),\n",
    "                       columns=ohe.categories_[0],\n",
    "                       index=X_under.index)\n",
    "\n",
    "# join dataset\n",
    "df05_users_under = pd.concat([X_under, y_under], axis=1)"
   ]
  },
  {
   "cell_type": "markdown",
   "id": "e571e6e4",
   "metadata": {},
   "source": [
    "### 5.3.2 Random Oversampling"
   ]
  },
  {
   "cell_type": "code",
   "execution_count": 46,
   "id": "0e261448",
   "metadata": {
    "ExecuteTime": {
     "end_time": "2022-04-01T17:59:30.098065Z",
     "start_time": "2022-04-01T17:59:09.442056Z"
    }
   },
   "outputs": [],
   "source": [
    "# define sampler - random over-sampling\n",
    "oversampling = osamp.RandomOverSampler(sampling_strategy='not majority', random_state=32)\n",
    "\n",
    "# resample the dataset\n",
    "X_over, y_over = oversampling.fit_resample(df05_users.drop(columns=ohe.categories_[0]), \n",
    "                                           ohe.inverse_transform(df05_users[ohe.categories_[0]]))"
   ]
  },
  {
   "cell_type": "code",
   "execution_count": 47,
   "id": "bc52ba26",
   "metadata": {
    "ExecuteTime": {
     "end_time": "2022-04-01T17:59:34.262124Z",
     "start_time": "2022-04-01T17:59:34.015923Z"
    },
    "cell_style": "split"
   },
   "outputs": [
    {
     "data": {
      "text/plain": [
       "NDF      119187\n",
       "US        60129\n",
       "other      9816\n",
       "FR         4840\n",
       "IT         2742\n",
       "GB         2259\n",
       "ES         2183\n",
       "CA         1369\n",
       "DE         1024\n",
       "NL          739\n",
       "AU          519\n",
       "PT          212\n",
       "dtype: int64"
      ]
     },
     "execution_count": 47,
     "metadata": {},
     "output_type": "execute_result"
    }
   ],
   "source": [
    "pd.DataFrame(ohe.inverse_transform(df05_users[ohe.categories_[0]])).value_counts()"
   ]
  },
  {
   "cell_type": "code",
   "execution_count": 48,
   "id": "0d515e9c",
   "metadata": {
    "ExecuteTime": {
     "end_time": "2022-04-01T17:59:37.879620Z",
     "start_time": "2022-04-01T17:59:37.657617Z"
    },
    "cell_style": "split"
   },
   "outputs": [
    {
     "data": {
      "text/plain": [
       "AU       119187\n",
       "CA       119187\n",
       "DE       119187\n",
       "ES       119187\n",
       "FR       119187\n",
       "GB       119187\n",
       "IT       119187\n",
       "NDF      119187\n",
       "NL       119187\n",
       "PT       119187\n",
       "US       119187\n",
       "other    119187\n",
       "dtype: int64"
      ]
     },
     "execution_count": 48,
     "metadata": {},
     "output_type": "execute_result"
    }
   ],
   "source": [
    "pd.DataFrame(y_over).value_counts()"
   ]
  },
  {
   "cell_type": "code",
   "execution_count": 49,
   "id": "a5d02c06",
   "metadata": {
    "ExecuteTime": {
     "end_time": "2022-04-01T17:59:42.179359Z",
     "start_time": "2022-04-01T17:59:40.716164Z"
    }
   },
   "outputs": [],
   "source": [
    "# convert back to encodign representation\n",
    "y_over = pd.DataFrame(ohe.transform(y_over.reshape(-1,1)).toarray(), \n",
    "                      columns=ohe.categories_[0], \n",
    "                      index=X_over.index)\n",
    "\n",
    "# join dataset\n",
    "df05_users_over = pd.concat([X_over, y_over], axis=1)"
   ]
  },
  {
   "cell_type": "markdown",
   "id": "4374abfd",
   "metadata": {},
   "source": [
    "### 5.3.3 SMOTE + TOMEKLINK"
   ]
  },
  {
   "cell_type": "code",
   "execution_count": 50,
   "id": "a47607de",
   "metadata": {
    "ExecuteTime": {
     "end_time": "2022-04-01T19:47:11.277915Z",
     "start_time": "2022-04-01T17:59:45.663618Z"
    }
   },
   "outputs": [],
   "source": [
    "# define sample - over-sampling using SMOTE and cleaning using Tomek Links\n",
    "combine = comb.SMOTETomek(sampling_strategy='auto', random_state=32, n_jobs=-1)\n",
    "\n",
    "# resample the dataset\n",
    "X_comb, y_comb = combine.fit_resample(df05_users.drop(columns=ohe.categories_[0]), \n",
    "                                      ohe.inverse_transform(df05_users[ohe.categories_[0]]))"
   ]
  },
  {
   "cell_type": "code",
   "execution_count": 51,
   "id": "507be45f",
   "metadata": {
    "ExecuteTime": {
     "end_time": "2022-04-01T19:47:15.160018Z",
     "start_time": "2022-04-01T19:47:15.019350Z"
    },
    "cell_style": "split"
   },
   "outputs": [
    {
     "data": {
      "text/plain": [
       "NDF      119187\n",
       "US        60129\n",
       "other      9816\n",
       "FR         4840\n",
       "IT         2742\n",
       "GB         2259\n",
       "ES         2183\n",
       "CA         1369\n",
       "DE         1024\n",
       "NL          739\n",
       "AU          519\n",
       "PT          212\n",
       "dtype: int64"
      ]
     },
     "execution_count": 51,
     "metadata": {},
     "output_type": "execute_result"
    }
   ],
   "source": [
    "pd.DataFrame(ohe.inverse_transform(df05_users[ohe.categories_[0]])).value_counts()"
   ]
  },
  {
   "cell_type": "code",
   "execution_count": 52,
   "id": "3970fb79",
   "metadata": {
    "ExecuteTime": {
     "end_time": "2022-04-01T19:47:15.285366Z",
     "start_time": "2022-04-01T19:47:15.160018Z"
    },
    "cell_style": "split"
   },
   "outputs": [
    {
     "data": {
      "text/plain": [
       "NDF      119186\n",
       "PT       119178\n",
       "AU       119169\n",
       "NL       119144\n",
       "DE       119134\n",
       "CA       119098\n",
       "ES       119075\n",
       "GB       119065\n",
       "IT       119021\n",
       "FR       118828\n",
       "other    118428\n",
       "US       117914\n",
       "dtype: int64"
      ]
     },
     "execution_count": 52,
     "metadata": {},
     "output_type": "execute_result"
    }
   ],
   "source": [
    "pd.DataFrame(y_comb).value_counts()"
   ]
  },
  {
   "cell_type": "code",
   "execution_count": 53,
   "id": "a5596c8c",
   "metadata": {
    "ExecuteTime": {
     "end_time": "2022-04-01T19:47:19.857902Z",
     "start_time": "2022-04-01T19:47:19.108029Z"
    }
   },
   "outputs": [],
   "source": [
    "# convert back to encoding representation\n",
    "y_comb = pd.DataFrame(ohe.transform(y_comb.reshape(-1,1)).toarray(), \n",
    "                      columns=ohe.categories_[0], \n",
    "                      index=X_comb.index)\n",
    "\n",
    "# join dataset\n",
    "df05_users_comb = pd.concat([X_comb, y_comb], axis=1)"
   ]
  },
  {
   "cell_type": "markdown",
   "id": "56417dc6",
   "metadata": {},
   "source": [
    "# 6.0. Feature Selection"
   ]
  },
  {
   "cell_type": "code",
   "execution_count": 54,
   "id": "924a6eec",
   "metadata": {
    "ExecuteTime": {
     "end_time": "2022-04-01T19:47:23.721442Z",
     "start_time": "2022-04-01T19:47:22.508403Z"
    }
   },
   "outputs": [],
   "source": [
    "df06_users = df05_users.copy()\n",
    "\n",
    "df06_users_under = df05_users_under.copy()\n",
    "df06_users_over = df05_users_over.copy()\n",
    "df06_users_comb = df05_users_comb.copy()"
   ]
  },
  {
   "cell_type": "markdown",
   "id": "f42df19e",
   "metadata": {},
   "source": [
    "## 6.1. Split Dataframe into Training and Test Dataset"
   ]
  },
  {
   "cell_type": "code",
   "execution_count": 55,
   "id": "c4bc27ff",
   "metadata": {
    "ExecuteTime": {
     "end_time": "2022-04-01T19:47:28.343274Z",
     "start_time": "2022-04-01T19:47:27.388705Z"
    }
   },
   "outputs": [],
   "source": [
    "# training dataset\n",
    "X = df06_users.drop( columns=ohe.categories_[0] )\n",
    "X_under = df06_users_under.drop( columns=ohe.categories_[0] )\n",
    "X_over = df06_users_over.drop( columns=ohe.categories_[0] )\n",
    "X_comb = df06_users_comb.drop( columns=ohe.categories_[0] )\n",
    "\n",
    "#  training response dataset\n",
    "y = df06_users[ohe.categories_[0]]\n",
    "y_under = df06_users_under[ohe.categories_[0]]\n",
    "y_over = df06_users_over[ohe.categories_[0]]\n",
    "y_comb = df06_users_comb[ohe.categories_[0]]"
   ]
  },
  {
   "cell_type": "code",
   "execution_count": 56,
   "id": "2526e910",
   "metadata": {
    "ExecuteTime": {
     "end_time": "2022-04-01T19:47:35.842119Z",
     "start_time": "2022-04-01T19:47:31.941191Z"
    }
   },
   "outputs": [],
   "source": [
    "# Split dataset into training and test (validation)\n",
    "X_train, X_test, y_train, y_test = ms.train_test_split(X, y, test_size=0.2, random_state=32)\n",
    "\n",
    "X_train_under, X_test_under, y_train_under, y_test_under = ms.train_test_split(X_under, y_under, test_size=0.2, random_state=32)\n",
    "\n",
    "X_train_over, X_test_over, y_train_over, y_test_over = ms.train_test_split(X_over, y_over, test_size=0.2, random_state=32)\n",
    "\n",
    "X_train_comb, X_test_comb, y_train_comb, y_test_comb = ms.train_test_split(X_comb, y_comb, test_size=0.2, random_state=32)"
   ]
  },
  {
   "cell_type": "markdown",
   "id": "af41219e",
   "metadata": {
    "ExecuteTime": {
     "end_time": "2022-03-31T15:55:14.008497Z",
     "start_time": "2022-03-31T15:55:14.008497Z"
    }
   },
   "source": [
    "## 6.2. Manual Selection - Exploratory Data Analysis"
   ]
  },
  {
   "cell_type": "code",
   "execution_count": 79,
   "id": "5e2a28c5",
   "metadata": {
    "ExecuteTime": {
     "end_time": "2022-04-01T20:07:52.411263Z",
     "start_time": "2022-04-01T20:07:51.377112Z"
    }
   },
   "outputs": [],
   "source": [
    "# transform columns name in new format after dummy encoding\n",
    "cols_manual_select_encoder = pd.get_dummies(df04_users[cols_manual_select]).columns\n",
    "\n",
    "# imbalanced dataset\n",
    "X_train_manual_select = X_train[cols_manual_select_encoder]\n",
    "X_test_manual_select = X_test[cols_manual_select_encoder]\n",
    "\n",
    "# random undersampling\n",
    "X_train_under_manual_select = X_train_under[cols_manual_select_encoder]\n",
    "X_test_under_manual_select = X_test_under[cols_manual_select_encoder]\n",
    "\n",
    "# random oversampling\n",
    "X_train_over_manual_select = X_train_over[cols_manual_select_encoder]\n",
    "X_test_over_manual_select = X_test_over[cols_manual_select_encoder]\n",
    "\n",
    "# SMOTE + Tomek Links\n",
    "X_train_comb_manual_select = X_train_comb[cols_manual_select_encoder]\n",
    "X_test_comb_manual_select = X_test_comb[cols_manual_select_encoder]"
   ]
  },
  {
   "cell_type": "markdown",
   "id": "c9ee0881",
   "metadata": {},
   "source": [
    "# 7.0. Machine Learing Model"
   ]
  },
  {
   "cell_type": "code",
   "execution_count": 87,
   "id": "b9dfd8fe",
   "metadata": {
    "ExecuteTime": {
     "end_time": "2022-04-01T20:10:04.269359Z",
     "start_time": "2022-04-01T20:10:04.206355Z"
    }
   },
   "outputs": [],
   "source": [
    "# imbalanced dataset\n",
    "x_train = X_train_manual_select\n",
    "x_test = X_test_manual_select\n",
    "\n",
    "# random undersampling\n",
    "x_train_under = X_train_under_manual_select\n",
    "x_test_under = X_test_under_manual_select\n",
    "\n",
    "# random oversampling\n",
    "x_train_over = X_train_over_manual_select\n",
    "x_test_over = X_test_over_manual_select\n",
    "\n",
    "# SMOTE + Tomek Links\n",
    "x_train_comb = X_train_comb_manual_select\n",
    "x_test_comb = X_test_comb_manual_select"
   ]
  },
  {
   "cell_type": "markdown",
   "id": "b3107f01",
   "metadata": {},
   "source": [
    "## 7.1. Baseline Model - Random"
   ]
  },
  {
   "cell_type": "code",
   "execution_count": 59,
   "id": "c5ee811a",
   "metadata": {
    "ExecuteTime": {
     "end_time": "2022-04-01T19:47:57.436423Z",
     "start_time": "2022-04-01T19:47:57.277625Z"
    }
   },
   "outputs": [],
   "source": [
    "# list of country destination\n",
    "country_list = ohe.categories_[0].tolist()\n",
    "\n",
    "# number of rows\n",
    "k_num = y_test.shape[0]\n",
    "\n",
    "# proportion of country destinations for imbalanced result\n",
    "df_ohe = pd.DataFrame(ohe.inverse_transform(df06_users[ohe.categories_[0]]))\n",
    "country_weights = df_ohe.value_counts(normalize=True).sort_index().tolist()\n",
    "\n",
    "# prediction\n",
    "yhat_random = random.choices(population=country_list,\n",
    "                             weights=country_weights,\n",
    "                             k=k_num)\n",
    "\n",
    "# invert validation response\n",
    "y_test_random = ohe.inverse_transform(y_test)"
   ]
  },
  {
   "cell_type": "markdown",
   "id": "1645a305",
   "metadata": {},
   "source": [
    "### 7.1.1. Baseline Model - Performance"
   ]
  },
  {
   "cell_type": "code",
   "execution_count": 122,
   "id": "d032e4c1",
   "metadata": {
    "ExecuteTime": {
     "end_time": "2022-04-02T13:28:28.167219Z",
     "start_time": "2022-04-02T13:28:25.675169Z"
    }
   },
   "outputs": [
    {
     "name": "stdout",
     "output_type": "stream",
     "text": [
      "Accuracy 0.4270802848502585\n",
      "Balanced Accuracy: 0.08173969410780452\n",
      "Kappa Score: 0.0006904183658762442\n",
      "              precision    recall  f1-score   support\n",
      "\n",
      "          AU       0.00      0.00      0.00        98\n",
      "          CA       0.00      0.00      0.00       283\n",
      "          DE       0.01      0.00      0.00       227\n",
      "          ES       0.01      0.01      0.01       433\n",
      "          FR       0.03      0.03      0.03       963\n",
      "          GB       0.01      0.01      0.01       469\n",
      "          IT       0.01      0.01      0.01       539\n",
      "         NDF       0.58      0.58      0.58     23643\n",
      "          NL       0.00      0.00      0.00       156\n",
      "          PT       0.00      0.00      0.00        36\n",
      "          US       0.30      0.29      0.30     12192\n",
      "       other       0.04      0.04      0.04      1965\n",
      "\n",
      "    accuracy                           0.43     41004\n",
      "   macro avg       0.08      0.08      0.08     41004\n",
      "weighted avg       0.42      0.43      0.43     41004\n",
      "\n"
     ]
    },
    {
     "data": {
      "image/png": "[encoded data removed]",
      "text/plain": [
       "<Figure size 864x864 with 2 Axes>"
      ]
     },
     "metadata": {
      "needs_background": "light"
     },
     "output_type": "display_data"
    }
   ],
   "source": [
    "# Accuracy\n",
    "acc_random = m.accuracy_score( y_test_random, yhat_random )\n",
    "print(f'Accuracy {acc_random}')\n",
    "\n",
    "# Balanced Accuracy\n",
    "balanced_acc_random = m.balanced_accuracy_score(y_test_random, yhat_random)\n",
    "print(f'Balanced Accuracy: {balanced_acc_random}')\n",
    "\n",
    "# Kappa Metrics\n",
    "kappa_random = m.cohen_kappa_score(y_test_random, yhat_random)\n",
    "print(f'Kappa Score: {kappa_random}')\n",
    "\n",
    "# Classification report\n",
    "print(m.classification_report(y_test_random, yhat_random))\n",
    "\n",
    "# Confusion Matrix\n",
    "mt.plot_confusion_matrix(y_test_random, yhat_random, normalize=False, figsize=(12,12));\n",
    "\n",
    "# Performance\n",
    "baseline_performance = {'model': 'Baseline Model', \n",
    "                        'acc': acc_random, \n",
    "                        'balanced_acc': balanced_acc_random, \n",
    "                        'kappa_store': kappa_random}"
   ]
  },
  {
   "cell_type": "markdown",
   "id": "74175f4b",
   "metadata": {},
   "source": [
    "## 7.2. Neural Network - MLP"
   ]
  },
  {
   "cell_type": "markdown",
   "id": "2d28bccc",
   "metadata": {},
   "source": [
    "### 7.2.1. Imbalanced Data"
   ]
  },
  {
   "cell_type": "code",
   "execution_count": 61,
   "id": "f3908fe3",
   "metadata": {
    "ExecuteTime": {
     "end_time": "2022-04-01T19:56:38.079378Z",
     "start_time": "2022-04-01T19:48:12.868341Z"
    },
    "scrolled": true
   },
   "outputs": [
    {
     "name": "stdout",
     "output_type": "stream",
     "text": [
      "Epoch 1/100\n",
      "5126/5126 [==============================] - 5s 956us/step - loss: 2.1883 - accuracy: 0.8089\n",
      "Epoch 2/100\n",
      "5126/5126 [==============================] - 5s 921us/step - loss: 1.1963 - accuracy: 0.8238\n",
      "Epoch 3/100\n",
      "5126/5126 [==============================] - 5s 956us/step - loss: 0.9201 - accuracy: 0.8368\n",
      "Epoch 4/100\n",
      "5126/5126 [==============================] - 5s 883us/step - loss: 0.7445 - accuracy: 0.8495\n",
      "Epoch 5/100\n",
      "5126/5126 [==============================] - 5s 968us/step - loss: 0.6302 - accuracy: 0.8592\n",
      "Epoch 6/100\n",
      "5126/5126 [==============================] - 5s 909us/step - loss: 0.5578 - accuracy: 0.8674\n",
      "Epoch 7/100\n",
      "5126/5126 [==============================] - 5s 1ms/step - loss: 0.5272 - accuracy: 0.8712\n",
      "Epoch 8/100\n",
      "5126/5126 [==============================] - 5s 935us/step - loss: 0.5086 - accuracy: 0.8725\n",
      "Epoch 9/100\n",
      "5126/5126 [==============================] - 4s 877us/step - loss: 0.4998 - accuracy: 0.8731\n",
      "Epoch 10/100\n",
      "5126/5126 [==============================] - 5s 952us/step - loss: 0.4980 - accuracy: 0.8735\n",
      "Epoch 11/100\n",
      "5126/5126 [==============================] - 4s 866us/step - loss: 0.5018 - accuracy: 0.8726\n",
      "Epoch 12/100\n",
      "5126/5126 [==============================] - 4s 865us/step - loss: 0.4994 - accuracy: 0.8730\n",
      "Epoch 13/100\n",
      "5126/5126 [==============================] - 5s 935us/step - loss: 0.4974 - accuracy: 0.8732\n",
      "Epoch 14/100\n",
      "5126/5126 [==============================] - 5s 892us/step - loss: 0.4983 - accuracy: 0.8734\n",
      "Epoch 15/100\n",
      "5126/5126 [==============================] - 4s 867us/step - loss: 0.4971 - accuracy: 0.8734\n",
      "Epoch 16/100\n",
      "5126/5126 [==============================] - 5s 924us/step - loss: 0.4971 - accuracy: 0.8734\n",
      "Epoch 17/100\n",
      "5126/5126 [==============================] - 5s 950us/step - loss: 0.4968 - accuracy: 0.8734\n",
      "Epoch 18/100\n",
      "5126/5126 [==============================] - 4s 863us/step - loss: 0.4964 - accuracy: 0.8735\n",
      "Epoch 19/100\n",
      "5126/5126 [==============================] - 4s 869us/step - loss: 0.4952 - accuracy: 0.8736\n",
      "Epoch 20/100\n",
      "5126/5126 [==============================] - 5s 990us/step - loss: 0.4963 - accuracy: 0.8736\n",
      "Epoch 21/100\n",
      "5126/5126 [==============================] - 4s 869us/step - loss: 0.4960 - accuracy: 0.8736\n",
      "Epoch 22/100\n",
      "5126/5126 [==============================] - 4s 863us/step - loss: 0.4949 - accuracy: 0.8738\n",
      "Epoch 23/100\n",
      "5126/5126 [==============================] - 5s 898us/step - loss: 0.4947 - accuracy: 0.8737\n",
      "Epoch 24/100\n",
      "5126/5126 [==============================] - 5s 983us/step - loss: 0.4945 - accuracy: 0.8738\n",
      "Epoch 25/100\n",
      "5126/5126 [==============================] - 5s 1ms/step - loss: 0.4948 - accuracy: 0.8737\n",
      "Epoch 26/100\n",
      "5126/5126 [==============================] - 4s 866us/step - loss: 0.4951 - accuracy: 0.8737\n",
      "Epoch 27/100\n",
      "5126/5126 [==============================] - 5s 965us/step - loss: 0.4960 - accuracy: 0.8737\n",
      "Epoch 28/100\n",
      "5126/5126 [==============================] - 4s 868us/step - loss: 0.4956 - accuracy: 0.8739\n",
      "Epoch 29/100\n",
      "5126/5126 [==============================] - 4s 868us/step - loss: 0.4953 - accuracy: 0.8739\n",
      "Epoch 30/100\n",
      "5126/5126 [==============================] - 5s 901us/step - loss: 0.4945 - accuracy: 0.8738\n",
      "Epoch 31/100\n",
      "5126/5126 [==============================] - 5s 912us/step - loss: 0.4943 - accuracy: 0.8737\n",
      "Epoch 32/100\n",
      "5126/5126 [==============================] - 4s 877us/step - loss: 0.4949 - accuracy: 0.8738\n",
      "Epoch 33/100\n",
      "5126/5126 [==============================] - 5s 909us/step - loss: 0.4938 - accuracy: 0.8739\n",
      "Epoch 34/100\n",
      "5126/5126 [==============================] - 5s 941us/step - loss: 0.4929 - accuracy: 0.8739\n",
      "Epoch 35/100\n",
      "5126/5126 [==============================] - 4s 870us/step - loss: 0.4940 - accuracy: 0.8740\n",
      "Epoch 36/100\n",
      "5126/5126 [==============================] - 4s 866us/step - loss: 0.4931 - accuracy: 0.8739\n",
      "Epoch 37/100\n",
      "5126/5126 [==============================] - 5s 912us/step - loss: 0.4929 - accuracy: 0.8740\n",
      "Epoch 38/100\n",
      "5126/5126 [==============================] - 5s 893us/step - loss: 0.4941 - accuracy: 0.8740\n",
      "Epoch 39/100\n",
      "5126/5126 [==============================] - 4s 867us/step - loss: 0.4937 - accuracy: 0.8739\n",
      "Epoch 40/100\n",
      "5126/5126 [==============================] - 4s 872us/step - loss: 0.4941 - accuracy: 0.8739\n",
      "Epoch 41/100\n",
      "5126/5126 [==============================] - 5s 944us/step - loss: 0.4934 - accuracy: 0.8739\n",
      "Epoch 42/100\n",
      "5126/5126 [==============================] - 4s 867us/step - loss: 0.4924 - accuracy: 0.8740\n",
      "Epoch 43/100\n",
      "5126/5126 [==============================] - 5s 882us/step - loss: 0.4929 - accuracy: 0.8740\n",
      "Epoch 44/100\n",
      "5126/5126 [==============================] - 5s 1ms/step - loss: 0.4928 - accuracy: 0.8740\n",
      "Epoch 45/100\n",
      "5126/5126 [==============================] - 5s 898us/step - loss: 0.4931 - accuracy: 0.8741\n",
      "Epoch 46/100\n",
      "5126/5126 [==============================] - 5s 902us/step - loss: 0.4927 - accuracy: 0.8740\n",
      "Epoch 47/100\n",
      "5126/5126 [==============================] - 5s 884us/step - loss: 0.4938 - accuracy: 0.8739\n",
      "Epoch 48/100\n",
      "5126/5126 [==============================] - 5s 950us/step - loss: 0.4924 - accuracy: 0.8740\n",
      "Epoch 49/100\n",
      "5126/5126 [==============================] - 5s 899us/step - loss: 0.4928 - accuracy: 0.8740\n",
      "Epoch 50/100\n",
      "5126/5126 [==============================] - 4s 872us/step - loss: 0.4918 - accuracy: 0.8740\n",
      "Epoch 51/100\n",
      "5126/5126 [==============================] - 5s 944us/step - loss: 0.4934 - accuracy: 0.8741\n",
      "Epoch 52/100\n",
      "5126/5126 [==============================] - 4s 872us/step - loss: 0.4929 - accuracy: 0.8740\n",
      "Epoch 53/100\n",
      "5126/5126 [==============================] - 5s 884us/step - loss: 0.4934 - accuracy: 0.8740\n",
      "Epoch 54/100\n",
      "5126/5126 [==============================] - 4s 866us/step - loss: 0.4928 - accuracy: 0.8740\n",
      "Epoch 55/100\n",
      "5126/5126 [==============================] - 5s 945us/step - loss: 0.4938 - accuracy: 0.8739\n",
      "Epoch 56/100\n",
      "5126/5126 [==============================] - 4s 868us/step - loss: 0.4923 - accuracy: 0.8740\n",
      "Epoch 57/100\n",
      "5126/5126 [==============================] - 4s 864us/step - loss: 0.4938 - accuracy: 0.8741\n",
      "Epoch 58/100\n",
      "5126/5126 [==============================] - 5s 988us/step - loss: 0.4930 - accuracy: 0.8740\n",
      "Epoch 59/100\n",
      "5126/5126 [==============================] - 5s 949us/step - loss: 0.4929 - accuracy: 0.8740\n",
      "Epoch 60/100\n",
      "5126/5126 [==============================] - 5s 908us/step - loss: 0.4943 - accuracy: 0.8741\n",
      "Epoch 61/100\n",
      "5126/5126 [==============================] - 5s 905us/step - loss: 0.4930 - accuracy: 0.8741\n",
      "Epoch 62/100\n",
      "5126/5126 [==============================] - 6s 1ms/step - loss: 0.4931 - accuracy: 0.8741\n",
      "Epoch 63/100\n",
      "5126/5126 [==============================] - 6s 1ms/step - loss: 0.4932 - accuracy: 0.8740\n",
      "Epoch 64/100\n",
      "5126/5126 [==============================] - 5s 1ms/step - loss: 0.4926 - accuracy: 0.8740\n",
      "Epoch 65/100\n",
      "5126/5126 [==============================] - 5s 895us/step - loss: 0.4935 - accuracy: 0.8741\n",
      "Epoch 66/100\n",
      "5126/5126 [==============================] - 4s 867us/step - loss: 0.4930 - accuracy: 0.8741\n",
      "Epoch 67/100\n",
      "5126/5126 [==============================] - 4s 865us/step - loss: 0.4928 - accuracy: 0.8740\n",
      "Epoch 68/100\n",
      "5126/5126 [==============================] - 5s 945us/step - loss: 0.4928 - accuracy: 0.8740\n",
      "Epoch 69/100\n",
      "5126/5126 [==============================] - 4s 873us/step - loss: 0.4921 - accuracy: 0.8741\n",
      "Epoch 70/100\n",
      "5126/5126 [==============================] - 4s 869us/step - loss: 0.4926 - accuracy: 0.8741\n",
      "Epoch 71/100\n",
      "5126/5126 [==============================] - 5s 997us/step - loss: 0.4931 - accuracy: 0.8741\n",
      "Epoch 72/100\n",
      "5126/5126 [==============================] - 4s 869us/step - loss: 0.4927 - accuracy: 0.8741\n",
      "Epoch 73/100\n",
      "5126/5126 [==============================] - 4s 870us/step - loss: 0.4932 - accuracy: 0.8741\n",
      "Epoch 74/100\n",
      "5126/5126 [==============================] - 4s 866us/step - loss: 0.4931 - accuracy: 0.8740\n",
      "Epoch 75/100\n",
      "5126/5126 [==============================] - 5s 944us/step - loss: 0.4928 - accuracy: 0.8740\n",
      "Epoch 76/100\n",
      "5126/5126 [==============================] - 4s 867us/step - loss: 0.4929 - accuracy: 0.8741\n",
      "Epoch 77/100\n",
      "5126/5126 [==============================] - 4s 867us/step - loss: 0.4935 - accuracy: 0.8741\n",
      "Epoch 78/100\n"
     ]
    },
    {
     "name": "stdout",
     "output_type": "stream",
     "text": [
      "5126/5126 [==============================] - 5s 970us/step - loss: 0.4931 - accuracy: 0.8741\n",
      "Epoch 79/100\n",
      "5126/5126 [==============================] - 4s 875us/step - loss: 0.4929 - accuracy: 0.8740\n",
      "Epoch 80/100\n",
      "5126/5126 [==============================] - 4s 866us/step - loss: 0.4930 - accuracy: 0.8741\n",
      "Epoch 81/100\n",
      "5126/5126 [==============================] - 4s 875us/step - loss: 0.4935 - accuracy: 0.8740\n",
      "Epoch 82/100\n",
      "5126/5126 [==============================] - 5s 945us/step - loss: 0.4926 - accuracy: 0.8740\n",
      "Epoch 83/100\n",
      "5126/5126 [==============================] - 4s 868us/step - loss: 0.4935 - accuracy: 0.8742\n",
      "Epoch 84/100\n",
      "5126/5126 [==============================] - 5s 922us/step - loss: 0.4928 - accuracy: 0.8741\n",
      "Epoch 85/100\n",
      "5126/5126 [==============================] - 5s 939us/step - loss: 0.4931 - accuracy: 0.8741\n",
      "Epoch 86/100\n",
      "5126/5126 [==============================] - 4s 867us/step - loss: 0.4934 - accuracy: 0.8741\n",
      "Epoch 87/100\n",
      "5126/5126 [==============================] - 4s 868us/step - loss: 0.4930 - accuracy: 0.8741\n",
      "Epoch 88/100\n",
      "5126/5126 [==============================] - 4s 871us/step - loss: 0.4937 - accuracy: 0.8741\n",
      "Epoch 89/100\n",
      "5126/5126 [==============================] - 5s 949us/step - loss: 0.4930 - accuracy: 0.8741\n",
      "Epoch 90/100\n",
      "5126/5126 [==============================] - 4s 866us/step - loss: 0.4927 - accuracy: 0.8742\n",
      "Epoch 91/100\n",
      "5126/5126 [==============================] - 4s 872us/step - loss: 0.4937 - accuracy: 0.8741\n",
      "Epoch 92/100\n",
      "5126/5126 [==============================] - 5s 940us/step - loss: 0.4941 - accuracy: 0.8741\n",
      "Epoch 93/100\n",
      "5126/5126 [==============================] - 4s 868us/step - loss: 0.4944 - accuracy: 0.8741\n",
      "Epoch 94/100\n",
      "5126/5126 [==============================] - 4s 867us/step - loss: 0.4927 - accuracy: 0.8740\n",
      "Epoch 95/100\n",
      "5126/5126 [==============================] - 4s 872us/step - loss: 0.4934 - accuracy: 0.8742\n",
      "Epoch 96/100\n",
      "5126/5126 [==============================] - 5s 949us/step - loss: 0.4930 - accuracy: 0.8741\n",
      "Epoch 97/100\n",
      "5126/5126 [==============================] - 6s 1ms/step - loss: 0.4932 - accuracy: 0.8742\n",
      "Epoch 98/100\n",
      "5126/5126 [==============================] - 13s 3ms/step - loss: 0.4924 - accuracy: 0.8742\n",
      "Epoch 99/100\n",
      "5126/5126 [==============================] - 11s 2ms/step - loss: 0.4928 - accuracy: 0.8741 0s - loss: 0.4928 - accuracy: 0.87\n",
      "Epoch 100/100\n",
      "5126/5126 [==============================] - 9s 2ms/step - loss: 0.4929 - accuracy: 0.8741\n"
     ]
    },
    {
     "data": {
      "text/plain": [
       "<tensorflow.python.keras.callbacks.History at 0x228072ff1c0>"
      ]
     },
     "execution_count": 61,
     "metadata": {},
     "output_type": "execute_result"
    }
   ],
   "source": [
    "# model definition\n",
    "model_nn = ml.Sequential()\n",
    "model_nn.add( l.Dense(128, input_dim=x_train.shape[1], activation='relu') )\n",
    "model_nn.add( l.Dense(12, activation='softmax') )\n",
    "\n",
    "# model compile\n",
    "model_nn.compile(loss='categorical_crossentropy', optimizer='adam', metrics=['accuracy'])\n",
    "\n",
    "# train model\n",
    "model_nn.fit(x_train, y_train, epochs=100)"
   ]
  },
  {
   "cell_type": "markdown",
   "id": "b61f9aa1",
   "metadata": {},
   "source": [
    "#### 7.2.1.1. Imbalanced Data - Performance"
   ]
  },
  {
   "cell_type": "code",
   "execution_count": 62,
   "id": "6cafc416",
   "metadata": {
    "ExecuteTime": {
     "end_time": "2022-04-01T19:56:52.674011Z",
     "start_time": "2022-04-01T19:56:48.262045Z"
    }
   },
   "outputs": [],
   "source": [
    "# prediction\n",
    "pred_nn = model_nn.predict(x_test)\n",
    "\n",
    "# invert prediction\n",
    "yhat_nn = ohe.inverse_transform(pred_nn)\n",
    "\n",
    "# invert validation response\n",
    "y_test_nn = ohe.inverse_transform(y_test)"
   ]
  },
  {
   "cell_type": "code",
   "execution_count": 63,
   "id": "d7d02109",
   "metadata": {
    "ExecuteTime": {
     "end_time": "2022-04-01T19:57:02.785991Z",
     "start_time": "2022-04-01T19:57:02.741961Z"
    },
    "cell_style": "split"
   },
   "outputs": [
    {
     "data": {
      "text/plain": [
       "NDF      0.576602\n",
       "US       0.297337\n",
       "other    0.047922\n",
       "FR       0.023486\n",
       "IT       0.013145\n",
       "GB       0.011438\n",
       "ES       0.010560\n",
       "CA       0.006902\n",
       "DE       0.005536\n",
       "NL       0.003805\n",
       "AU       0.002390\n",
       "PT       0.000878\n",
       "dtype: float64"
      ]
     },
     "execution_count": 63,
     "metadata": {},
     "output_type": "execute_result"
    }
   ],
   "source": [
    "# check the balance of validation\n",
    "pd.DataFrame(y_test_nn).value_counts(normalize=True)"
   ]
  },
  {
   "cell_type": "code",
   "execution_count": 64,
   "id": "12a988ac",
   "metadata": {
    "ExecuteTime": {
     "end_time": "2022-04-01T19:57:11.397188Z",
     "start_time": "2022-04-01T19:57:11.375943Z"
    },
    "cell_style": "split"
   },
   "outputs": [
    {
     "data": {
      "text/plain": [
       "NDF    0.577749\n",
       "US     0.422251\n",
       "dtype: float64"
      ]
     },
     "execution_count": 64,
     "metadata": {},
     "output_type": "execute_result"
    }
   ],
   "source": [
    "# check the balance of result\n",
    "pd.DataFrame(yhat_nn).value_counts(normalize=True)"
   ]
  },
  {
   "cell_type": "code",
   "execution_count": 65,
   "id": "b7868dde",
   "metadata": {
    "ExecuteTime": {
     "end_time": "2022-04-01T19:57:22.485144Z",
     "start_time": "2022-04-01T19:57:19.597063Z"
    }
   },
   "outputs": [
    {
     "name": "stdout",
     "output_type": "stream",
     "text": [
      "Accuracy: 0.8730855526290118\n",
      "Balanced Accuracy: 0.16642743875765528\n",
      "Kappa Score: 0.765545472582977\n",
      "              precision    recall  f1-score   support\n",
      "\n",
      "          AU       0.00      0.00      0.00        98\n",
      "          CA       0.00      0.00      0.00       283\n",
      "          DE       0.00      0.00      0.00       227\n",
      "          ES       0.00      0.00      0.00       433\n",
      "          FR       0.00      0.00      0.00       963\n",
      "          GB       0.00      0.00      0.00       469\n",
      "          IT       0.00      0.00      0.00       539\n",
      "         NDF       1.00      1.00      1.00     23643\n",
      "          NL       0.00      0.00      0.00       156\n",
      "          PT       0.00      0.00      0.00        36\n",
      "          US       0.70      1.00      0.82     12192\n",
      "       other       0.00      0.00      0.00      1965\n",
      "\n",
      "    accuracy                           0.87     41004\n",
      "   macro avg       0.14      0.17      0.15     41004\n",
      "weighted avg       0.78      0.87      0.82     41004\n",
      "\n"
     ]
    },
    {
     "data": {
      "image/png": "[encoded data removed]",
      "text/plain": [
       "<Figure size 864x864 with 2 Axes>"
      ]
     },
     "metadata": {
      "needs_background": "light"
     },
     "output_type": "display_data"
    }
   ],
   "source": [
    "# Accuracy\n",
    "acc_nn = m.accuracy_score( y_test_nn, yhat_nn )\n",
    "print(f'Accuracy: {acc_nn}')\n",
    "\n",
    "# Balanced Accuracy\n",
    "balanced_acc_nn = m.balanced_accuracy_score(y_test_nn, yhat_nn)\n",
    "print(f'Balanced Accuracy: {balanced_acc_nn}')\n",
    "\n",
    "# Kappa Metrics\n",
    "kappa_nn = m.cohen_kappa_score(y_test_nn, yhat_nn)\n",
    "print(f'Kappa Score: {kappa_nn}')\n",
    "\n",
    "# Classification report\n",
    "print(m.classification_report(y_test_nn, yhat_nn))\n",
    "\n",
    "# Confusion Matrix\n",
    "mt.plot_confusion_matrix( y_test_nn, yhat_nn, normalize=False, figsize=(12,12));\n",
    "\n",
    "# Performance\n",
    "imb_performance = {'model': 'NN Model - Imbalanced Data',\n",
    "                   'acc': np.round(acc_nn, 6), \n",
    "                   'balanced_acc': np.round(balanced_acc_nn, 6), \n",
    "                   'kappa_score': np.round(kappa_nn, 6)}"
   ]
  },
  {
   "cell_type": "markdown",
   "id": "566cc997",
   "metadata": {},
   "source": [
    "#### 7.2.1.2. Imbalanced Data - Cross-Validation"
   ]
  },
  {
   "cell_type": "code",
   "execution_count": 105,
   "id": "4119b2be",
   "metadata": {
    "ExecuteTime": {
     "end_time": "2022-04-01T23:03:44.307557Z",
     "start_time": "2022-04-01T22:37:03.482181Z"
    }
   },
   "outputs": [
    {
     "name": "stdout",
     "output_type": "stream",
     "text": [
      "Fold Number:1/5\n",
      "Fold Number:2/5\n",
      "Fold Number:3/5\n",
      "Fold Number:4/5\n",
      "Fold Number:5/5\n"
     ]
    }
   ],
   "source": [
    "# cross validation performance\n",
    "acc_nn, balanced_acc_nn, kappa_nn = cross_validation(num_fold=5, \n",
    "                                                     x_train=x_train, \n",
    "                                                     y_train=y_train, \n",
    "                                                     model=model_nn, \n",
    "                                                     verbose=True)"
   ]
  },
  {
   "cell_type": "code",
   "execution_count": 106,
   "id": "dd678035",
   "metadata": {
    "ExecuteTime": {
     "end_time": "2022-04-01T23:03:50.613181Z",
     "start_time": "2022-04-01T23:03:50.586128Z"
    }
   },
   "outputs": [],
   "source": [
    "# Performance\n",
    "imb_performance_cv = {'model': 'NN Model - Imbalanced Data - CV',\n",
    "                      'acc': f'{np.round(np.mean(acc_nn), 2)} +/- {np.round(np.std(acc_nn), 4)}',\n",
    "                      'balanced_acc': f'{np.round(np.mean(balanced_acc_nn), 2)} +/- {np.round(np.std(balanced_acc_nn), 4)}',\n",
    "                      'kappa_score': f'{np.round(np.mean(kappa_nn), 2)} +/- {np.round(np.std(kappa_nn), 4)}'}"
   ]
  },
  {
   "cell_type": "code",
   "execution_count": 107,
   "id": "0cf3012c",
   "metadata": {
    "ExecuteTime": {
     "end_time": "2022-04-01T23:03:56.668129Z",
     "start_time": "2022-04-01T23:03:56.655127Z"
    }
   },
   "outputs": [
    {
     "name": "stdout",
     "output_type": "stream",
     "text": [
      "Avg Accuracy: 0.87 +/- 0.00027\n",
      "Avg Balanced Accuracy: 0.17 +/- 8e-05\n",
      "Avg Kappa Score: 0.77 +/- 0.0005\n"
     ]
    }
   ],
   "source": [
    "print(f'Avg Accuracy: {np.round(np.mean(acc_nn), 2)} +/- {np.round(np.std(acc_nn),5)}')\n",
    "print(f'Avg Balanced Accuracy: {np.round(np.mean(balanced_acc_nn), 2)} +/- {np.round(np.std(balanced_acc_nn),5)}')\n",
    "print(f'Avg Kappa Score: {np.round(np.mean(kappa_nn), 2)} +/- {np.round(np.std(kappa_nn), 4)}')"
   ]
  },
  {
   "cell_type": "markdown",
   "id": "30a8d813",
   "metadata": {},
   "source": [
    "### 7.2.2. Neural Network - Random Undersampling"
   ]
  },
  {
   "cell_type": "code",
   "execution_count": 88,
   "id": "fa3d36ec",
   "metadata": {
    "ExecuteTime": {
     "end_time": "2022-04-01T20:10:39.785429Z",
     "start_time": "2022-04-01T20:10:23.869238Z"
    },
    "scrolled": true
   },
   "outputs": [
    {
     "name": "stdout",
     "output_type": "stream",
     "text": [
      "Epoch 1/100\n",
      "64/64 [==============================] - 0s 1ms/step - loss: 66.2145 - accuracy: 0.1292\n",
      "Epoch 2/100\n",
      "64/64 [==============================] - 0s 1ms/step - loss: 4.2407 - accuracy: 0.1686\n",
      "Epoch 3/100\n",
      "64/64 [==============================] - 0s 1ms/step - loss: 3.4051 - accuracy: 0.1690\n",
      "Epoch 4/100\n",
      "64/64 [==============================] - 0s 1ms/step - loss: 3.6678 - accuracy: 0.1646\n",
      "Epoch 5/100\n",
      "64/64 [==============================] - 0s 1ms/step - loss: 4.4850 - accuracy: 0.1700\n",
      "Epoch 6/100\n",
      "64/64 [==============================] - 0s 1ms/step - loss: 3.2670 - accuracy: 0.1646\n",
      "Epoch 7/100\n",
      "64/64 [==============================] - 0s 2ms/step - loss: 3.2614 - accuracy: 0.1715\n",
      "Epoch 8/100\n",
      "64/64 [==============================] - 0s 2ms/step - loss: 3.7459 - accuracy: 0.1681\n",
      "Epoch 9/100\n",
      "64/64 [==============================] - 0s 1ms/step - loss: 3.3487 - accuracy: 0.1764\n",
      "Epoch 10/100\n",
      "64/64 [==============================] - 0s 1ms/step - loss: 3.7946 - accuracy: 0.1720\n",
      "Epoch 11/100\n",
      "64/64 [==============================] - 0s 1ms/step - loss: 4.7515 - accuracy: 0.1725\n",
      "Epoch 12/100\n",
      "64/64 [==============================] - 0s 1ms/step - loss: 3.6824 - accuracy: 0.1818\n",
      "Epoch 13/100\n",
      "64/64 [==============================] - 0s 1ms/step - loss: 3.2793 - accuracy: 0.1656\n",
      "Epoch 14/100\n",
      "64/64 [==============================] - 0s 2ms/step - loss: 3.3157 - accuracy: 0.1666\n",
      "Epoch 15/100\n",
      "64/64 [==============================] - 0s 2ms/step - loss: 4.0603 - accuracy: 0.1848\n",
      "Epoch 16/100\n",
      "64/64 [==============================] - 0s 1ms/step - loss: 4.6454 - accuracy: 0.1646\n",
      "Epoch 17/100\n",
      "64/64 [==============================] - 0s 3ms/step - loss: 3.6614 - accuracy: 0.1769\n",
      "Epoch 18/100\n",
      "64/64 [==============================] - 0s 3ms/step - loss: 4.4665 - accuracy: 0.1597\n",
      "Epoch 19/100\n",
      "64/64 [==============================] - 0s 3ms/step - loss: 3.2027 - accuracy: 0.1784\n",
      "Epoch 20/100\n",
      "64/64 [==============================] - 0s 2ms/step - loss: 3.7704 - accuracy: 0.1803\n",
      "Epoch 21/100\n",
      "64/64 [==============================] - 0s 2ms/step - loss: 3.7467 - accuracy: 0.1612\n",
      "Epoch 22/100\n",
      "64/64 [==============================] - 0s 2ms/step - loss: 4.6416 - accuracy: 0.1612\n",
      "Epoch 23/100\n",
      "64/64 [==============================] - 0s 2ms/step - loss: 3.0212 - accuracy: 0.1897\n",
      "Epoch 24/100\n",
      "64/64 [==============================] - 0s 2ms/step - loss: 3.4932 - accuracy: 0.1853\n",
      "Epoch 25/100\n",
      "64/64 [==============================] - 0s 2ms/step - loss: 3.1618 - accuracy: 0.1720\n",
      "Epoch 26/100\n",
      "64/64 [==============================] - 0s 2ms/step - loss: 4.1517 - accuracy: 0.1661\n",
      "Epoch 27/100\n",
      "64/64 [==============================] - 0s 2ms/step - loss: 3.7355 - accuracy: 0.1695\n",
      "Epoch 28/100\n",
      "64/64 [==============================] - 0s 2ms/step - loss: 3.7628 - accuracy: 0.1838\n",
      "Epoch 29/100\n",
      "64/64 [==============================] - 0s 2ms/step - loss: 4.7600 - accuracy: 0.1720\n",
      "Epoch 30/100\n",
      "64/64 [==============================] - 0s 2ms/step - loss: 3.1680 - accuracy: 0.1872\n",
      "Epoch 31/100\n",
      "64/64 [==============================] - 0s 2ms/step - loss: 3.0189 - accuracy: 0.1799\n",
      "Epoch 32/100\n",
      "64/64 [==============================] - 0s 2ms/step - loss: 3.2994 - accuracy: 0.1912\n",
      "Epoch 33/100\n",
      "64/64 [==============================] - 0s 2ms/step - loss: 3.4219 - accuracy: 0.1789\n",
      "Epoch 34/100\n",
      "64/64 [==============================] - 0s 2ms/step - loss: 3.8769 - accuracy: 0.1695\n",
      "Epoch 35/100\n",
      "64/64 [==============================] - 0s 2ms/step - loss: 3.4995 - accuracy: 0.1681\n",
      "Epoch 36/100\n",
      "64/64 [==============================] - 0s 2ms/step - loss: 3.5179 - accuracy: 0.1838\n",
      "Epoch 37/100\n",
      "64/64 [==============================] - 0s 2ms/step - loss: 3.0394 - accuracy: 0.1843\n",
      "Epoch 38/100\n",
      "64/64 [==============================] - 0s 2ms/step - loss: 2.9410 - accuracy: 0.1735\n",
      "Epoch 39/100\n",
      "64/64 [==============================] - 0s 2ms/step - loss: 3.2275 - accuracy: 0.1907\n",
      "Epoch 40/100\n",
      "64/64 [==============================] - 0s 2ms/step - loss: 3.4460 - accuracy: 0.1823\n",
      "Epoch 41/100\n",
      "64/64 [==============================] - 0s 2ms/step - loss: 3.5549 - accuracy: 0.1848: 0s - loss: 3.5104 - accuracy: 0.\n",
      "Epoch 42/100\n",
      "64/64 [==============================] - 0s 2ms/step - loss: 3.2468 - accuracy: 0.1764\n",
      "Epoch 43/100\n",
      "64/64 [==============================] - 0s 2ms/step - loss: 3.7061 - accuracy: 0.1818\n",
      "Epoch 44/100\n",
      "64/64 [==============================] - 0s 2ms/step - loss: 3.2255 - accuracy: 0.1818\n",
      "Epoch 45/100\n",
      "64/64 [==============================] - 0s 3ms/step - loss: 3.7388 - accuracy: 0.1872\n",
      "Epoch 46/100\n",
      "64/64 [==============================] - 0s 2ms/step - loss: 3.5452 - accuracy: 0.1740\n",
      "Epoch 47/100\n",
      "64/64 [==============================] - 0s 1ms/step - loss: 3.0580 - accuracy: 0.1744\n",
      "Epoch 48/100\n",
      "64/64 [==============================] - 0s 2ms/step - loss: 3.1726 - accuracy: 0.1857\n",
      "Epoch 49/100\n",
      "64/64 [==============================] - 0s 1ms/step - loss: 3.3351 - accuracy: 0.1882\n",
      "Epoch 50/100\n",
      "64/64 [==============================] - 0s 2ms/step - loss: 3.6555 - accuracy: 0.1867\n",
      "Epoch 51/100\n",
      "64/64 [==============================] - 0s 2ms/step - loss: 2.9608 - accuracy: 0.1803\n",
      "Epoch 52/100\n",
      "64/64 [==============================] - 0s 2ms/step - loss: 3.6309 - accuracy: 0.1700\n",
      "Epoch 53/100\n",
      "64/64 [==============================] - 0s 2ms/step - loss: 3.5043 - accuracy: 0.1789\n",
      "Epoch 54/100\n",
      "64/64 [==============================] - 0s 2ms/step - loss: 3.8332 - accuracy: 0.1833\n",
      "Epoch 55/100\n",
      "64/64 [==============================] - 0s 2ms/step - loss: 3.2862 - accuracy: 0.1749\n",
      "Epoch 56/100\n",
      "64/64 [==============================] - 0s 2ms/step - loss: 3.5813 - accuracy: 0.1843\n",
      "Epoch 57/100\n",
      "64/64 [==============================] - 0s 2ms/step - loss: 3.0067 - accuracy: 0.1857\n",
      "Epoch 58/100\n",
      "64/64 [==============================] - 0s 2ms/step - loss: 3.4101 - accuracy: 0.1808\n",
      "Epoch 59/100\n",
      "64/64 [==============================] - 0s 2ms/step - loss: 3.3228 - accuracy: 0.1951\n",
      "Epoch 60/100\n",
      "64/64 [==============================] - 0s 2ms/step - loss: 3.3407 - accuracy: 0.1784\n",
      "Epoch 61/100\n",
      "64/64 [==============================] - 0s 2ms/step - loss: 3.4513 - accuracy: 0.1735\n",
      "Epoch 62/100\n",
      "64/64 [==============================] - 0s 1ms/step - loss: 3.0213 - accuracy: 0.1887\n",
      "Epoch 63/100\n",
      "64/64 [==============================] - 0s 2ms/step - loss: 3.3077 - accuracy: 0.1848\n",
      "Epoch 64/100\n",
      "64/64 [==============================] - 0s 2ms/step - loss: 3.3390 - accuracy: 0.1779\n",
      "Epoch 65/100\n",
      "64/64 [==============================] - 0s 2ms/step - loss: 3.6552 - accuracy: 0.1808\n",
      "Epoch 66/100\n",
      "64/64 [==============================] - 0s 1ms/step - loss: 3.5063 - accuracy: 0.1862\n",
      "Epoch 67/100\n",
      "64/64 [==============================] - 0s 1ms/step - loss: 3.5704 - accuracy: 0.1735\n",
      "Epoch 68/100\n",
      "64/64 [==============================] - 0s 2ms/step - loss: 3.2395 - accuracy: 0.1799\n",
      "Epoch 69/100\n",
      "64/64 [==============================] - 0s 2ms/step - loss: 2.9957 - accuracy: 0.1946\n",
      "Epoch 70/100\n",
      "64/64 [==============================] - 0s 2ms/step - loss: 3.2945 - accuracy: 0.1995\n",
      "Epoch 71/100\n",
      "64/64 [==============================] - 0s 2ms/step - loss: 3.5903 - accuracy: 0.1838\n",
      "Epoch 72/100\n",
      "64/64 [==============================] - 0s 2ms/step - loss: 3.4984 - accuracy: 0.1803\n",
      "Epoch 73/100\n",
      "64/64 [==============================] - 0s 2ms/step - loss: 3.4685 - accuracy: 0.1853\n",
      "Epoch 74/100\n",
      "64/64 [==============================] - 0s 1ms/step - loss: 4.0098 - accuracy: 0.1867\n",
      "Epoch 75/100\n",
      "64/64 [==============================] - 0s 1ms/step - loss: 3.1065 - accuracy: 0.1867\n",
      "Epoch 76/100\n",
      "64/64 [==============================] - 0s 1ms/step - loss: 3.6766 - accuracy: 0.1769\n",
      "Epoch 77/100\n",
      "64/64 [==============================] - ETA: 0s - loss: 2.7777 - accuracy: 0.18 - 0s 1ms/step - loss: 2.8519 - accuracy: 0.1877\n",
      "Epoch 78/100\n",
      "64/64 [==============================] - 0s 1ms/step - loss: 3.3386 - accuracy: 0.1867\n",
      "Epoch 79/100\n",
      "64/64 [==============================] - 0s 1ms/step - loss: 3.3540 - accuracy: 0.1853\n",
      "Epoch 80/100\n",
      "64/64 [==============================] - 0s 1ms/step - loss: 3.1182 - accuracy: 0.1912\n",
      "Epoch 81/100\n",
      "64/64 [==============================] - 0s 2ms/step - loss: 3.4278 - accuracy: 0.1823\n",
      "Epoch 82/100\n"
     ]
    },
    {
     "name": "stdout",
     "output_type": "stream",
     "text": [
      "64/64 [==============================] - 0s 1ms/step - loss: 3.1848 - accuracy: 0.1882\n",
      "Epoch 83/100\n",
      "64/64 [==============================] - 0s 1ms/step - loss: 3.2251 - accuracy: 0.1897\n",
      "Epoch 84/100\n",
      "64/64 [==============================] - 0s 1ms/step - loss: 2.9443 - accuracy: 0.1897\n",
      "Epoch 85/100\n",
      "64/64 [==============================] - 0s 1ms/step - loss: 2.7089 - accuracy: 0.1867\n",
      "Epoch 86/100\n",
      "64/64 [==============================] - 0s 1ms/step - loss: 2.9982 - accuracy: 0.1907\n",
      "Epoch 87/100\n",
      "64/64 [==============================] - 0s 1ms/step - loss: 3.0873 - accuracy: 0.1823\n",
      "Epoch 88/100\n",
      "64/64 [==============================] - 0s 1ms/step - loss: 3.0207 - accuracy: 0.1956\n",
      "Epoch 89/100\n",
      "64/64 [==============================] - 0s 1ms/step - loss: 3.2041 - accuracy: 0.1764\n",
      "Epoch 90/100\n",
      "64/64 [==============================] - 0s 1ms/step - loss: 3.1100 - accuracy: 0.1828\n",
      "Epoch 91/100\n",
      "64/64 [==============================] - 0s 1ms/step - loss: 3.1424 - accuracy: 0.1931\n",
      "Epoch 92/100\n",
      "64/64 [==============================] - 0s 1ms/step - loss: 3.8017 - accuracy: 0.1853\n",
      "Epoch 93/100\n",
      "64/64 [==============================] - 0s 1ms/step - loss: 2.9910 - accuracy: 0.1961\n",
      "Epoch 94/100\n",
      "64/64 [==============================] - 0s 1ms/step - loss: 3.1005 - accuracy: 0.1961\n",
      "Epoch 95/100\n",
      "64/64 [==============================] - 0s 1ms/step - loss: 3.0390 - accuracy: 0.1931\n",
      "Epoch 96/100\n",
      "64/64 [==============================] - 0s 1ms/step - loss: 3.2739 - accuracy: 0.1877\n",
      "Epoch 97/100\n",
      "64/64 [==============================] - 0s 1ms/step - loss: 3.2395 - accuracy: 0.1975\n",
      "Epoch 98/100\n",
      "64/64 [==============================] - 0s 1ms/step - loss: 3.8952 - accuracy: 0.1853\n",
      "Epoch 99/100\n",
      "64/64 [==============================] - 0s 1ms/step - loss: 3.1374 - accuracy: 0.1818\n",
      "Epoch 100/100\n",
      "64/64 [==============================] - 0s 1ms/step - loss: 3.1355 - accuracy: 0.1794\n"
     ]
    },
    {
     "data": {
      "text/plain": [
       "<tensorflow.python.keras.callbacks.History at 0x2283d0262e0>"
      ]
     },
     "execution_count": 88,
     "metadata": {},
     "output_type": "execute_result"
    }
   ],
   "source": [
    "# model definition\n",
    "model_under = ml.Sequential()\n",
    "model_under.add( l.Dense(128, input_dim=x_train_under.shape[1], activation='relu') )\n",
    "model_under.add( l.Dense(12, activation='softmax') )\n",
    "\n",
    "# model compile\n",
    "model_under.compile(loss='categorical_crossentropy', optimizer='adam', metrics=['accuracy'])\n",
    "\n",
    "# train model\n",
    "model_under.fit(x_train_under, y_train_under, epochs=100)"
   ]
  },
  {
   "cell_type": "markdown",
   "id": "afa3706d",
   "metadata": {},
   "source": [
    "#### 7.2.2.1. Random Undersampling - Performance"
   ]
  },
  {
   "cell_type": "code",
   "execution_count": 89,
   "id": "921b5fa4",
   "metadata": {
    "ExecuteTime": {
     "end_time": "2022-04-01T20:10:52.508299Z",
     "start_time": "2022-04-01T20:10:48.131455Z"
    }
   },
   "outputs": [],
   "source": [
    "# prediction\n",
    "pred_under_nn = model_under.predict(x_test_under)\n",
    "\n",
    "# invert prediction\n",
    "yhat_under_nn = ohe.inverse_transform(pred_under_nn)\n",
    "\n",
    "# invert validation response\n",
    "y_test_under_nn = ohe.inverse_transform(y_test_under)"
   ]
  },
  {
   "cell_type": "code",
   "execution_count": 92,
   "id": "62ac6eaa",
   "metadata": {
    "ExecuteTime": {
     "end_time": "2022-04-01T20:11:14.678422Z",
     "start_time": "2022-04-01T20:11:14.651381Z"
    },
    "cell_style": "split"
   },
   "outputs": [
    {
     "data": {
      "text/plain": [
       "IT       0.096267\n",
       "ES       0.090373\n",
       "DE       0.088409\n",
       "GB       0.088409\n",
       "NL       0.086444\n",
       "PT       0.086444\n",
       "AU       0.082515\n",
       "CA       0.082515\n",
       "FR       0.078585\n",
       "other    0.074656\n",
       "NDF      0.072692\n",
       "US       0.072692\n",
       "dtype: float64"
      ]
     },
     "execution_count": 92,
     "metadata": {},
     "output_type": "execute_result"
    }
   ],
   "source": [
    "# check the balance of validation\n",
    "pd.DataFrame(y_test_under_nn).value_counts(normalize=True)"
   ]
  },
  {
   "cell_type": "code",
   "execution_count": 93,
   "id": "d71eeada",
   "metadata": {
    "ExecuteTime": {
     "end_time": "2022-04-01T20:11:22.001328Z",
     "start_time": "2022-04-01T20:11:21.972335Z"
    },
    "cell_style": "split"
   },
   "outputs": [
    {
     "data": {
      "text/plain": [
       "IT     0.740668\n",
       "AU     0.123772\n",
       "NDF    0.066798\n",
       "DE     0.037328\n",
       "ES     0.013752\n",
       "US     0.007859\n",
       "CA     0.005894\n",
       "FR     0.003929\n",
       "dtype: float64"
      ]
     },
     "execution_count": 93,
     "metadata": {},
     "output_type": "execute_result"
    }
   ],
   "source": [
    "# check the balance of results\n",
    "pd.DataFrame(yhat_under_nn).value_counts(normalize=True)"
   ]
  },
  {
   "cell_type": "code",
   "execution_count": 94,
   "id": "f247d237",
   "metadata": {
    "ExecuteTime": {
     "end_time": "2022-04-01T20:11:30.533065Z",
     "start_time": "2022-04-01T20:11:29.612161Z"
    }
   },
   "outputs": [
    {
     "name": "stdout",
     "output_type": "stream",
     "text": [
      "Accuracy: 0.17485265225933203\n",
      "Balanced Accuracy: 0.1737810126008884\n",
      "Kappa Score: 0.09096707530201187\n",
      "              precision    recall  f1-score   support\n",
      "\n",
      "          AU       0.13      0.19      0.15        42\n",
      "          CA       0.33      0.02      0.04        42\n",
      "          DE       0.16      0.07      0.09        45\n",
      "          ES       0.14      0.02      0.04        46\n",
      "          FR       0.00      0.00      0.00        40\n",
      "          GB       0.00      0.00      0.00        45\n",
      "          IT       0.11      0.84      0.19        49\n",
      "         NDF       1.00      0.92      0.96        37\n",
      "          NL       0.00      0.00      0.00        44\n",
      "          PT       0.00      0.00      0.00        44\n",
      "          US       0.25      0.03      0.05        37\n",
      "       other       0.00      0.00      0.00        38\n",
      "\n",
      "    accuracy                           0.17       509\n",
      "   macro avg       0.18      0.17      0.13       509\n",
      "weighted avg       0.17      0.17      0.12       509\n",
      "\n"
     ]
    },
    {
     "data": {
      "image/png": "[encoded data removed]",
      "text/plain": [
       "<Figure size 864x864 with 2 Axes>"
      ]
     },
     "metadata": {
      "needs_background": "light"
     },
     "output_type": "display_data"
    }
   ],
   "source": [
    "# Accuracy\n",
    "acc_under_nn = m.accuracy_score( y_test_under_nn, yhat_under_nn )\n",
    "print(f'Accuracy: {acc_under_nn}')\n",
    "\n",
    "# Balanced Accuracy\n",
    "balanced_acc_under_nn = m.balanced_accuracy_score(y_test_under_nn, yhat_under_nn)\n",
    "print(f'Balanced Accuracy: {balanced_acc_under_nn}')\n",
    "\n",
    "# Kappa Metrics\n",
    "kappa_under_nn = m.cohen_kappa_score(y_test_under_nn, yhat_under_nn)\n",
    "print(f'Kappa Score: {kappa_under_nn}')\n",
    "\n",
    "# Classification report\n",
    "print(m.classification_report(y_test_under_nn, yhat_under_nn))\n",
    "\n",
    "# Confusion Matrix\n",
    "mt.plot_confusion_matrix( y_test_under_nn, yhat_under_nn, normalize=False, figsize=(12,12));\n",
    "\n",
    "# Performance\n",
    "under_performance = {'model': 'NN Model - Random Undersampling',\n",
    "                     'acc': np.round(acc_under_nn, 6),\n",
    "                     'balanced_acc': np.round(balanced_acc_under_nn, 6),\n",
    "                     'kappa_score': np.round(kappa_under_nn, 6)}"
   ]
  },
  {
   "cell_type": "markdown",
   "id": "02454039",
   "metadata": {},
   "source": [
    "#### 7.2.2.2. Random Undersampling - Cross-Validation"
   ]
  },
  {
   "cell_type": "code",
   "execution_count": 108,
   "id": "b7ebf198",
   "metadata": {
    "ExecuteTime": {
     "end_time": "2022-04-01T23:04:45.415325Z",
     "start_time": "2022-04-01T23:04:02.940468Z"
    }
   },
   "outputs": [
    {
     "name": "stdout",
     "output_type": "stream",
     "text": [
      "Fold Number:1/5\n",
      "Fold Number:2/5\n",
      "Fold Number:3/5\n",
      "Fold Number:4/5\n",
      "Fold Number:5/5\n"
     ]
    }
   ],
   "source": [
    "# cross validation performance\n",
    "acc_under, balanced_acc_under, kappa_under = cross_validation(num_fold=5, \n",
    "                                                              x_train=x_train_under, \n",
    "                                                              y_train=y_train_under, \n",
    "                                                              model=model_under, \n",
    "                                                              verbose=True)"
   ]
  },
  {
   "cell_type": "code",
   "execution_count": 109,
   "id": "e9e6f1b5",
   "metadata": {
    "ExecuteTime": {
     "end_time": "2022-04-01T23:04:45.431327Z",
     "start_time": "2022-04-01T23:04:45.418328Z"
    }
   },
   "outputs": [],
   "source": [
    "# Performance\n",
    "under_performance_cv = {'model': 'NN Model - Random Undersampling - CV',\n",
    "                        'acc': f'{np.round(np.mean(acc_under), 2)} +/- {np.round(np.std(acc_under), 4)}',\n",
    "                        'balanced_acc': f'{np.round(np.mean(balanced_acc_under), 2)} +/- {np.round(np.std(balanced_acc_under), 4)}',\n",
    "                        'kappa_score': f'{np.round(np.mean(kappa_under), 2)} +/- {np.round(np.std(kappa_under), 4)}'}"
   ]
  },
  {
   "cell_type": "code",
   "execution_count": 110,
   "id": "50eb3084",
   "metadata": {
    "ExecuteTime": {
     "end_time": "2022-04-01T23:04:57.444571Z",
     "start_time": "2022-04-01T23:04:57.431573Z"
    }
   },
   "outputs": [
    {
     "name": "stdout",
     "output_type": "stream",
     "text": [
      "Avg Accuracy: 0.19 +/- 0.01322\n",
      "Avg Balanced Accuracy: 0.19 +/- 0.01402\n",
      "Avg Kappa Score: 0.12 +/- 0.0151\n"
     ]
    }
   ],
   "source": [
    "print(f'Avg Accuracy: {np.round(np.mean(acc_under), 2)} +/- {np.round(np.std(acc_under),5)}')\n",
    "print(f'Avg Balanced Accuracy: {np.round(np.mean(balanced_acc_under), 2)} +/- {np.round(np.std(balanced_acc_under),5)}')\n",
    "print(f'Avg Kappa Score: {np.round(np.mean(kappa_under), 2)} +/- {np.round(np.std(kappa_under), 4)}')"
   ]
  },
  {
   "cell_type": "markdown",
   "id": "af2fe3cf",
   "metadata": {},
   "source": [
    "### 7.2.3. Neural Network - Random Oversampling"
   ]
  },
  {
   "cell_type": "code",
   "execution_count": 95,
   "id": "a2a0b26e",
   "metadata": {
    "ExecuteTime": {
     "end_time": "2022-04-01T21:23:25.731528Z",
     "start_time": "2022-04-01T20:12:18.440342Z"
    },
    "scrolled": true
   },
   "outputs": [
    {
     "name": "stdout",
     "output_type": "stream",
     "text": [
      "Epoch 1/100\n",
      "35757/35757 [==============================] - 53s 1ms/step - loss: 2.8311 - accuracy: 0.1781\n",
      "Epoch 2/100\n",
      "35757/35757 [==============================] - 49s 1ms/step - loss: 2.2028 - accuracy: 0.1790 1s - - ETA: 0s - l\n",
      "Epoch 3/100\n",
      "35757/35757 [==============================] - 44s 1ms/step - loss: 2.2050 - accuracy: 0.1667\n",
      "Epoch 4/100\n",
      "35757/35757 [==============================] - 42s 1ms/step - loss: 2.2048 - accuracy: 0.1669\n",
      "Epoch 5/100\n",
      "35757/35757 [==============================] - 50s 1ms/step - loss: 2.2045 - accuracy: 0.1668\n",
      "Epoch 6/100\n",
      "35757/35757 [==============================] - 66s 2ms/step - loss: 2.2047 - accuracy: 0.1665\n",
      "Epoch 7/100\n",
      "35757/35757 [==============================] - 49s 1ms/step - loss: 2.2041 - accuracy: 0.1669\n",
      "Epoch 8/100\n",
      "35757/35757 [==============================] - 49s 1ms/step - loss: 2.2038 - accuracy: 0.1670\n",
      "Epoch 9/100\n",
      "35757/35757 [==============================] - 42s 1ms/step - loss: 2.2037 - accuracy: 0.1667\n",
      "Epoch 10/100\n",
      "35757/35757 [==============================] - 44s 1ms/step - loss: 2.2034 - accuracy: 0.1669\n",
      "Epoch 11/100\n",
      "35757/35757 [==============================] - 44s 1ms/step - loss: 2.2028 - accuracy: 0.1674\n",
      "Epoch 12/100\n",
      "35757/35757 [==============================] - 43s 1ms/step - loss: 2.2030 - accuracy: 0.1666\n",
      "Epoch 13/100\n",
      "35757/35757 [==============================] - 44s 1ms/step - loss: 2.2034 - accuracy: 0.1667\n",
      "Epoch 14/100\n",
      "35757/35757 [==============================] - 56s 2ms/step - loss: 2.2027 - accuracy: 0.1670\n",
      "Epoch 15/100\n",
      "35757/35757 [==============================] - 48s 1ms/step - loss: 2.2031 - accuracy: 0.1668\n",
      "Epoch 16/100\n",
      "35757/35757 [==============================] - 38s 1ms/step - loss: 2.2034 - accuracy: 0.1667\n",
      "Epoch 17/100\n",
      "35757/35757 [==============================] - 67s 2ms/step - loss: 2.2033 - accuracy: 0.1669A: 24s - loss: 2.2040 - accuracy: 0.166 - - ETA: 22s - loss: 2.2036 - ac - ETA: 4s - los\n",
      "Epoch 18/100\n",
      "35757/35757 [==============================] - 86s 2ms/step - loss: 2.2030 - accuracy: 0.1668 \n",
      "Epoch 19/100\n",
      "35757/35757 [==============================] - 95s 3ms/step - loss: 2.2031 - accuracy: 0.1668 0s - loss: 2.2030 - accu\n",
      "Epoch 20/100\n",
      "35757/35757 [==============================] - 92s 3ms/step - loss: 2.2031 - accuracy: 0.1670 0s - loss: 2.2032 - accu - ETA: 0s - loss: 2.2032 - accuracy: \n",
      "Epoch 21/100\n",
      "35757/35757 [==============================] - 107s 3ms/step - loss: 2.2032 - accuracy: 0.1668: 19s - loss: 2 - E\n",
      "Epoch 22/100\n",
      "35757/35757 [==============================] - 52s 1ms/step - loss: 2.2033 - accuracy: 0.1671\n",
      "Epoch 23/100\n",
      "35757/35757 [==============================] - 35s 971us/step - loss: 2.2030 - accuracy: 0.1668\n",
      "Epoch 24/100\n",
      "35757/35757 [==============================] - 35s 986us/step - loss: 2.2031 - accuracy: 0.1671\n",
      "Epoch 25/100\n",
      "35757/35757 [==============================] - 35s 967us/step - loss: 2.2031 - accuracy: 0.1666\n",
      "Epoch 26/100\n",
      "35757/35757 [==============================] - 34s 955us/step - loss: 2.2035 - accuracy: 0.1665\n",
      "Epoch 27/100\n",
      "35757/35757 [==============================] - 34s 959us/step - loss: 2.2026 - accuracy: 0.1668\n",
      "Epoch 28/100\n",
      "35757/35757 [==============================] - 34s 943us/step - loss: 2.2029 - accuracy: 0.1669\n",
      "Epoch 29/100\n",
      "35757/35757 [==============================] - 33s 932us/step - loss: 2.2030 - accuracy: 0.1670\n",
      "Epoch 30/100\n",
      "35757/35757 [==============================] - 33s 931us/step - loss: 2.2032 - accuracy: 0.1670\n",
      "Epoch 31/100\n",
      "35757/35757 [==============================] - 34s 945us/step - loss: 2.2033 - accuracy: 0.1671\n",
      "Epoch 32/100\n",
      "35757/35757 [==============================] - 35s 987us/step - loss: 2.2030 - accuracy: 0.1671\n",
      "Epoch 33/100\n",
      "35757/35757 [==============================] - 33s 936us/step - loss: 2.2028 - accuracy: 0.1666\n",
      "Epoch 34/100\n",
      "35757/35757 [==============================] - 34s 958us/step - loss: 2.2030 - accuracy: 0.1671\n",
      "Epoch 35/100\n",
      "35757/35757 [==============================] - 35s 982us/step - loss: 2.2023 - accuracy: 0.1669\n",
      "Epoch 36/100\n",
      "35757/35757 [==============================] - 37s 1ms/step - loss: 2.2034 - accuracy: 0.1670\n",
      "Epoch 37/100\n",
      "35757/35757 [==============================] - 33s 929us/step - loss: 2.2032 - accuracy: 0.1669\n",
      "Epoch 38/100\n",
      "35757/35757 [==============================] - 42s 1ms/step - loss: 2.2033 - accuracy: 0.1668\n",
      "Epoch 39/100\n",
      "35757/35757 [==============================] - 37s 1ms/step - loss: 2.2029 - accuracy: 0.1669\n",
      "Epoch 40/100\n",
      "35757/35757 [==============================] - 36s 1ms/step - loss: 2.2030 - accuracy: 0.1668\n",
      "Epoch 41/100\n",
      "35757/35757 [==============================] - 38s 1ms/step - loss: 2.2027 - accuracy: 0.1669\n",
      "Epoch 42/100\n",
      "35757/35757 [==============================] - 38s 1ms/step - loss: 2.2026 - accuracy: 0.1671\n",
      "Epoch 43/100\n",
      "35757/35757 [==============================] - 38s 1ms/step - loss: 2.2032 - accuracy: 0.1665\n",
      "Epoch 44/100\n",
      "35757/35757 [==============================] - 38s 1ms/step - loss: 2.2026 - accuracy: 0.1671\n",
      "Epoch 45/100\n",
      "35757/35757 [==============================] - 36s 1ms/step - loss: 2.2029 - accuracy: 0.1669\n",
      "Epoch 46/100\n",
      "35757/35757 [==============================] - 38s 1ms/step - loss: 2.2031 - accuracy: 0.1666\n",
      "Epoch 47/100\n",
      "35757/35757 [==============================] - 37s 1ms/step - loss: 2.2030 - accuracy: 0.1670\n",
      "Epoch 48/100\n",
      "35757/35757 [==============================] - 36s 996us/step - loss: 2.2028 - accuracy: 0.1665\n",
      "Epoch 49/100\n",
      "35757/35757 [==============================] - 33s 934us/step - loss: 2.2027 - accuracy: 0.1668\n",
      "Epoch 50/100\n",
      "35757/35757 [==============================] - 34s 951us/step - loss: 2.2030 - accuracy: 0.1668\n",
      "Epoch 51/100\n",
      "35757/35757 [==============================] - 43s 1ms/step - loss: 2.2030 - accuracy: 0.1668\n",
      "Epoch 52/100\n",
      "35757/35757 [==============================] - 36s 1ms/step - loss: 2.2029 - accuracy: 0.1670\n",
      "Epoch 53/100\n",
      "35757/35757 [==============================] - 36s 1ms/step - loss: 2.2026 - accuracy: 0.1666\n",
      "Epoch 54/100\n",
      "35757/35757 [==============================] - 36s 1ms/step - loss: 2.2032 - accuracy: 0.1666\n",
      "Epoch 55/100\n",
      "35757/35757 [==============================] - 33s 934us/step - loss: 2.2036 - accuracy: 0.1668\n",
      "Epoch 56/100\n",
      "35757/35757 [==============================] - 37s 1ms/step - loss: 2.2031 - accuracy: 0.1671\n",
      "Epoch 57/100\n",
      "35757/35757 [==============================] - 38s 1ms/step - loss: 2.2027 - accuracy: 0.1668\n",
      "Epoch 58/100\n",
      "35757/35757 [==============================] - 38s 1ms/step - loss: 2.2026 - accuracy: 0.1666\n",
      "Epoch 59/100\n",
      "35757/35757 [==============================] - 34s 939us/step - loss: 2.2028 - accuracy: 0.1668\n",
      "Epoch 60/100\n",
      "35757/35757 [==============================] - 35s 974us/step - loss: 2.2029 - accuracy: 0.1667\n",
      "Epoch 61/100\n",
      "35757/35757 [==============================] - 39s 1ms/step - loss: 2.2028 - accuracy: 0.1670\n",
      "Epoch 62/100\n",
      "35757/35757 [==============================] - 40s 1ms/step - loss: 2.2024 - accuracy: 0.1667\n",
      "Epoch 63/100\n",
      "35757/35757 [==============================] - 33s 933us/step - loss: 2.2028 - accuracy: 0.1670\n",
      "Epoch 64/100\n",
      "35757/35757 [==============================] - 34s 958us/step - loss: 2.2033 - accuracy: 0.1669\n",
      "Epoch 65/100\n",
      "35757/35757 [==============================] - 34s 940us/step - loss: 2.2033 - accuracy: 0.1663\n",
      "Epoch 66/100\n",
      "35757/35757 [==============================] - 37s 1ms/step - loss: 2.2032 - accuracy: 0.1668\n",
      "Epoch 67/100\n",
      "35757/35757 [==============================] - 36s 1ms/step - loss: 2.2028 - accuracy: 0.1674\n",
      "Epoch 68/100\n",
      "35757/35757 [==============================] - 37s 1ms/step - loss: 2.2027 - accuracy: 0.1667\n",
      "Epoch 69/100\n",
      "35757/35757 [==============================] - 50s 1ms/step - loss: 2.2028 - accuracy: 0.1666\n",
      "Epoch 70/100\n",
      "35757/35757 [==============================] - 55s 2ms/step - loss: 2.2026 - accuracy: 0.1667\n",
      "Epoch 71/100\n",
      "35757/35757 [==============================] - 48s 1ms/step - loss: 2.2027 - accuracy: 0.1668\n",
      "Epoch 72/100\n",
      "35757/35757 [==============================] - 44s 1ms/step - loss: 2.2029 - accuracy: 0.1670\n",
      "Epoch 73/100\n",
      "35757/35757 [==============================] - ETA: 0s - loss: 2.2028 - accuracy: 0.16 - 37s 1ms/step - loss: 2.2028 - accuracy: 0.1667\n",
      "Epoch 74/100\n"
     ]
    },
    {
     "name": "stdout",
     "output_type": "stream",
     "text": [
      "35757/35757 [==============================] - 36s 1ms/step - loss: 2.2032 - accuracy: 0.1668\n",
      "Epoch 75/100\n",
      "35757/35757 [==============================] - 38s 1ms/step - loss: 2.2025 - accuracy: 0.1666 0s - loss: 2.2025 - \n",
      "Epoch 76/100\n",
      "35757/35757 [==============================] - 38s 1ms/step - loss: 2.2029 - accuracy: 0.1672\n",
      "Epoch 77/100\n",
      "35757/35757 [==============================] - 44s 1ms/step - loss: 2.2026 - accuracy: 0.1668\n",
      "Epoch 78/100\n",
      "35757/35757 [==============================] - 61s 2ms/step - loss: 2.2027 - accuracy: 0.1669\n",
      "Epoch 79/100\n",
      "35757/35757 [==============================] - 75s 2ms/step - loss: 2.2029 - accuracy: 0.1664\n",
      "Epoch 80/100\n",
      "35757/35757 [==============================] - 51s 1ms/step - loss: 2.2023 - accuracy: 0.1670\n",
      "Epoch 81/100\n",
      "35757/35757 [==============================] - 44s 1ms/step - loss: 2.2030 - accuracy: 0.1672\n",
      "Epoch 82/100\n",
      "35757/35757 [==============================] - 47s 1ms/step - loss: 2.2025 - accuracy: 0.1670\n",
      "Epoch 83/100\n",
      "35757/35757 [==============================] - 40s 1ms/step - loss: 2.2022 - accuracy: 0.1667\n",
      "Epoch 84/100\n",
      "35757/35757 [==============================] - 45s 1ms/step - loss: 2.2027 - accuracy: 0.1672\n",
      "Epoch 85/100\n",
      "35757/35757 [==============================] - 41s 1ms/step - loss: 2.2028 - accuracy: 0.1661\n",
      "Epoch 86/100\n",
      "35757/35757 [==============================] - 41s 1ms/step - loss: 2.2026 - accuracy: 0.1667\n",
      "Epoch 87/100\n",
      "35757/35757 [==============================] - 44s 1ms/step - loss: 2.2025 - accuracy: 0.1671\n",
      "Epoch 88/100\n",
      "35757/35757 [==============================] - 43s 1ms/step - loss: 2.2023 - accuracy: 0.1666\n",
      "Epoch 89/100\n",
      "35757/35757 [==============================] - 34s 950us/step - loss: 2.2031 - accuracy: 0.1668\n",
      "Epoch 90/100\n",
      "35757/35757 [==============================] - 34s 947us/step - loss: 2.2026 - accuracy: 0.1667\n",
      "Epoch 91/100\n",
      "35757/35757 [==============================] - 34s 945us/step - loss: 2.2028 - accuracy: 0.1675\n",
      "Epoch 92/100\n",
      "35757/35757 [==============================] - 36s 1ms/step - loss: 2.2027 - accuracy: 0.1668\n",
      "Epoch 93/100\n",
      "35757/35757 [==============================] - 34s 950us/step - loss: 2.2023 - accuracy: 0.1668\n",
      "Epoch 94/100\n",
      "35757/35757 [==============================] - 34s 950us/step - loss: 2.2023 - accuracy: 0.1673\n",
      "Epoch 95/100\n",
      "35757/35757 [==============================] - 34s 950us/step - loss: 2.2026 - accuracy: 0.1671\n",
      "Epoch 96/100\n",
      "35757/35757 [==============================] - 36s 1ms/step - loss: 2.2028 - accuracy: 0.1666\n",
      "Epoch 97/100\n",
      "35757/35757 [==============================] - 34s 945us/step - loss: 2.2026 - accuracy: 0.1671\n",
      "Epoch 98/100\n",
      "35757/35757 [==============================] - 36s 1ms/step - loss: 2.2021 - accuracy: 0.1672\n",
      "Epoch 99/100\n",
      "35757/35757 [==============================] - 35s 971us/step - loss: 2.2023 - accuracy: 0.1671\n",
      "Epoch 100/100\n",
      "35757/35757 [==============================] - 43s 1ms/step - loss: 2.2026 - accuracy: 0.1674\n"
     ]
    },
    {
     "data": {
      "text/plain": [
       "<tensorflow.python.keras.callbacks.History at 0x22801cf8970>"
      ]
     },
     "execution_count": 95,
     "metadata": {},
     "output_type": "execute_result"
    }
   ],
   "source": [
    "# model definition\n",
    "model_over = ml.Sequential()\n",
    "model_over.add( l.Dense(128, input_dim=x_train_over.shape[1], activation='relu') )\n",
    "model_over.add( l.Dense(12, activation='softmax') )\n",
    "\n",
    "# model compile\n",
    "model_over.compile(loss='categorical_crossentropy', optimizer='adam', metrics=['accuracy'])\n",
    "\n",
    "# train model\n",
    "model_over.fit(x_train_over, y_train_over, epochs=100)"
   ]
  },
  {
   "cell_type": "markdown",
   "id": "d19c6429",
   "metadata": {},
   "source": [
    "#### 7.2.3.1. Random Oversampling - Performance"
   ]
  },
  {
   "cell_type": "code",
   "execution_count": 96,
   "id": "7c775ae4",
   "metadata": {
    "ExecuteTime": {
     "end_time": "2022-04-01T21:23:43.076482Z",
     "start_time": "2022-04-01T21:23:34.537322Z"
    }
   },
   "outputs": [],
   "source": [
    "# prediction\n",
    "pred_over_nn = model_over.predict(x_test_over)\n",
    "\n",
    "# invert prediction\n",
    "yhat_over_nn = ohe.inverse_transform(pred_over_nn)\n",
    "\n",
    "# invert validation response\n",
    "y_test_over_nn = ohe.inverse_transform(y_test_over)"
   ]
  },
  {
   "cell_type": "code",
   "execution_count": 97,
   "id": "a2ea9424",
   "metadata": {
    "ExecuteTime": {
     "end_time": "2022-04-01T21:23:49.289223Z",
     "start_time": "2022-04-01T21:23:49.213538Z"
    },
    "cell_style": "split"
   },
   "outputs": [
    {
     "data": {
      "text/plain": [
       "CA       0.084056\n",
       "NL       0.083702\n",
       "ES       0.083688\n",
       "US       0.083678\n",
       "DE       0.083507\n",
       "NDF      0.083353\n",
       "IT       0.083192\n",
       "AU       0.083094\n",
       "other    0.083059\n",
       "FR       0.082926\n",
       "PT       0.082909\n",
       "GB       0.082835\n",
       "dtype: float64"
      ]
     },
     "execution_count": 97,
     "metadata": {},
     "output_type": "execute_result"
    }
   ],
   "source": [
    "# check the balance of validation\n",
    "pd.DataFrame(y_test_over_nn).value_counts(normalize=True)"
   ]
  },
  {
   "cell_type": "code",
   "execution_count": 98,
   "id": "b4e89b98",
   "metadata": {
    "ExecuteTime": {
     "end_time": "2022-04-01T21:23:56.014621Z",
     "start_time": "2022-04-01T21:23:55.950645Z"
    },
    "cell_style": "split"
   },
   "outputs": [
    {
     "data": {
      "text/plain": [
       "US     0.916140\n",
       "NDF    0.083751\n",
       "DE     0.000080\n",
       "ES     0.000028\n",
       "dtype: float64"
      ]
     },
     "execution_count": 98,
     "metadata": {},
     "output_type": "execute_result"
    }
   ],
   "source": [
    "# check the balance of results\n",
    "pd.DataFrame(yhat_over_nn).value_counts(normalize=True)"
   ]
  },
  {
   "cell_type": "code",
   "execution_count": 99,
   "id": "20060d9f",
   "metadata": {
    "ExecuteTime": {
     "end_time": "2022-04-01T21:24:17.424078Z",
     "start_time": "2022-04-01T21:24:02.484256Z"
    }
   },
   "outputs": [
    {
     "name": "stdout",
     "output_type": "stream",
     "text": [
      "Accuracy: 0.16693643396760696\n",
      "Balanced Accuracy: 0.16657257492375596\n",
      "Kappa Score: 0.09088860325137893\n",
      "              precision    recall  f1-score   support\n",
      "\n",
      "          AU       0.00      0.00      0.00     23769\n",
      "          CA       0.00      0.00      0.00     24044\n",
      "          DE       0.87      0.00      0.00     23887\n",
      "          ES       0.88      0.00      0.00     23939\n",
      "          FR       0.00      0.00      0.00     23721\n",
      "          GB       0.00      0.00      0.00     23695\n",
      "          IT       0.00      0.00      0.00     23797\n",
      "         NDF       0.99      1.00      1.00     23843\n",
      "          NL       0.00      0.00      0.00     23943\n",
      "          PT       0.00      0.00      0.00     23716\n",
      "          US       0.09      1.00      0.17     23936\n",
      "       other       0.00      0.00      0.00     23759\n",
      "\n",
      "    accuracy                           0.17    286049\n",
      "   macro avg       0.24      0.17      0.10    286049\n",
      "weighted avg       0.24      0.17      0.10    286049\n",
      "\n"
     ]
    },
    {
     "data": {
      "image/png": "[encoded data removed]",
      "text/plain": [
       "<Figure size 864x864 with 2 Axes>"
      ]
     },
     "metadata": {
      "needs_background": "light"
     },
     "output_type": "display_data"
    }
   ],
   "source": [
    "# Accuracy\n",
    "acc_over_nn = m.accuracy_score( y_test_over_nn, yhat_over_nn )\n",
    "print(f'Accuracy: {acc_over_nn}')\n",
    "\n",
    "# Balanced Accuracy\n",
    "balanced_acc_over_nn = m.balanced_accuracy_score(y_test_over_nn, yhat_over_nn)\n",
    "print(f'Balanced Accuracy: {balanced_acc_over_nn}')\n",
    "\n",
    "# Kappa Metrics\n",
    "kappa_over_nn = m.cohen_kappa_score(y_test_over_nn, yhat_over_nn)\n",
    "print(f'Kappa Score: {kappa_over_nn}')\n",
    "\n",
    "# Classification report\n",
    "print(m.classification_report(y_test_over_nn, yhat_over_nn))\n",
    "\n",
    "# Confusion Matrix\n",
    "mt.plot_confusion_matrix( y_test_over_nn, yhat_over_nn, normalize=False, figsize=(12,12));\n",
    "\n",
    "# Performance\n",
    "over_performance = {'model': 'NN Model - Random Oversampling', \n",
    "                    'acc': np.round(acc_over_nn, 6), \n",
    "                    'balanced_acc': np.round(balanced_acc_over_nn, 6), \n",
    "                    'kappa_score': np.round(kappa_over_nn, 6)}"
   ]
  },
  {
   "cell_type": "markdown",
   "id": "76ca1737",
   "metadata": {},
   "source": [
    "#### 7.2.3.2. Random Oversampling - Cross-Validation"
   ]
  },
  {
   "cell_type": "code",
   "execution_count": 111,
   "id": "e18ac667",
   "metadata": {
    "ExecuteTime": {
     "end_time": "2022-04-02T03:41:37.392392Z",
     "start_time": "2022-04-01T23:05:03.523463Z"
    }
   },
   "outputs": [
    {
     "name": "stdout",
     "output_type": "stream",
     "text": [
      "Fold Number:1/5\n",
      "Fold Number:2/5\n",
      "Fold Number:3/5\n",
      "Fold Number:4/5\n",
      "Fold Number:5/5\n"
     ]
    }
   ],
   "source": [
    "# cross validation performance\n",
    "acc_over, balanced_acc_over, kappa_over = cross_validation(num_fold=5, \n",
    "                                                           x_train=x_train_over, \n",
    "                                                           y_train=y_train_over, \n",
    "                                                           model=model_over, \n",
    "                                                           verbose=True)"
   ]
  },
  {
   "cell_type": "code",
   "execution_count": 112,
   "id": "b9783228",
   "metadata": {
    "ExecuteTime": {
     "end_time": "2022-04-02T03:45:59.147510Z",
     "start_time": "2022-04-02T03:45:59.115524Z"
    }
   },
   "outputs": [],
   "source": [
    "# Performance\n",
    "over_performance_cv = {'model': 'NN Model - Random Oversampling - CV',\n",
    "                        'acc': f'{np.round(np.mean(acc_over), 2)} +/- {np.round(np.std(acc_over), 4)}',\n",
    "                        'balanced_acc': f'{np.round(np.mean(balanced_acc_over), 2)} +/- {np.round(np.std(balanced_acc_over), 4)}',\n",
    "                        'kappa_score': f'{np.round(np.mean(kappa_over), 2)} +/- {np.round(np.std(kappa_over), 4)}'}"
   ]
  },
  {
   "cell_type": "code",
   "execution_count": 113,
   "id": "5d791603",
   "metadata": {
    "ExecuteTime": {
     "end_time": "2022-04-02T03:46:05.111243Z",
     "start_time": "2022-04-02T03:46:05.079962Z"
    }
   },
   "outputs": [
    {
     "name": "stdout",
     "output_type": "stream",
     "text": [
      "Avg Accuracy: 0.17 +/- 0.00042\n",
      "Avg Balanced Accuracy: 0.17 +/- 0.00037\n",
      "Avg Kappa Score: 0.09 +/- 0.0004\n"
     ]
    }
   ],
   "source": [
    "print(f'Avg Accuracy: {np.round(np.mean(acc_over), 2)} +/- {np.round(np.std(acc_over),5)}')\n",
    "print(f'Avg Balanced Accuracy: {np.round(np.mean(balanced_acc_over), 2)} +/- {np.round(np.std(balanced_acc_over),5)}')\n",
    "print(f'Avg Kappa Score: {np.round(np.mean(kappa_over), 2)} +/- {np.round(np.std(kappa_over), 4)}')"
   ]
  },
  {
   "cell_type": "markdown",
   "id": "3b3b7390",
   "metadata": {},
   "source": [
    "### 7.2.4. Neural Network - SMOTE + TOMEKLINK"
   ]
  },
  {
   "cell_type": "code",
   "execution_count": 100,
   "id": "51494560",
   "metadata": {
    "ExecuteTime": {
     "end_time": "2022-04-01T22:34:11.268090Z",
     "start_time": "2022-04-01T21:24:24.132147Z"
    },
    "scrolled": true
   },
   "outputs": [
    {
     "name": "stdout",
     "output_type": "stream",
     "text": [
      "Epoch 1/100\n",
      "35681/35681 [==============================] - 43s 1ms/step - loss: 2.8052 - accuracy: 0.1930\n",
      "Epoch 2/100\n",
      "35681/35681 [==============================] - 36s 1ms/step - loss: 2.1573 - accuracy: 0.2167\n",
      "Epoch 3/100\n",
      "35681/35681 [==============================] - 43s 1ms/step - loss: 2.1468 - accuracy: 0.2220\n",
      "Epoch 4/100\n",
      "35681/35681 [==============================] - 62s 2ms/step - loss: 2.1424 - accuracy: 0.2247\n",
      "Epoch 5/100\n",
      "35681/35681 [==============================] - 60s 2ms/step - loss: 2.1407 - accuracy: 0.2265 0s - loss: 2.1406 - accuracy - ETA: 0s - loss: 2.1406 - \n",
      "Epoch 6/100\n",
      "35681/35681 [==============================] - 61s 2ms/step - loss: 2.1392 - accuracy: 0.2274 0s - loss: 2.1393 - accu\n",
      "Epoch 7/100\n",
      "35681/35681 [==============================] - 46s 1ms/step - loss: 2.1381 - accuracy: 0.2282 0s - loss: 2.1381 - accura\n",
      "Epoch 8/100\n",
      "35681/35681 [==============================] - 50s 1ms/step - loss: 2.1380 - accuracy: 0.2291\n",
      "Epoch 9/100\n",
      "35681/35681 [==============================] - 45s 1ms/step - loss: 2.1378 - accuracy: 0.2290\n",
      "Epoch 10/100\n",
      "35681/35681 [==============================] - 45s 1ms/step - loss: 2.1367 - accuracy: 0.2296\n",
      "Epoch 11/100\n",
      "35681/35681 [==============================] - 47s 1ms/step - loss: 2.1363 - accuracy: 0.2304 2s -\n",
      "Epoch 12/100\n",
      "35681/35681 [==============================] - 51s 1ms/step - loss: 2.1361 - accuracy: 0.2301\n",
      "Epoch 13/100\n",
      "35681/35681 [==============================] - 45s 1ms/step - loss: 2.1361 - accuracy: 0.2303 0s -\n",
      "Epoch 14/100\n",
      "35681/35681 [==============================] - 48s 1ms/step - loss: 2.1352 - accuracy: 0.2308\n",
      "Epoch 15/100\n",
      "35681/35681 [==============================] - 44s 1ms/step - loss: 2.1353 - accuracy: 0.2308\n",
      "Epoch 16/100\n",
      "35681/35681 [==============================] - 45s 1ms/step - loss: 2.1349 - accuracy: 0.2308\n",
      "Epoch 17/100\n",
      "35681/35681 [==============================] - 49s 1ms/step - loss: 2.1348 - accuracy: 0.2313\n",
      "Epoch 18/100\n",
      "35681/35681 [==============================] - 35s 985us/step - loss: 2.1347 - accuracy: 0.2314\n",
      "Epoch 19/100\n",
      "35681/35681 [==============================] - 35s 982us/step - loss: 2.1343 - accuracy: 0.2315\n",
      "Epoch 20/100\n",
      "35681/35681 [==============================] - 37s 1ms/step - loss: 2.1341 - accuracy: 0.2315\n",
      "Epoch 21/100\n",
      "35681/35681 [==============================] - 36s 1ms/step - loss: 2.1348 - accuracy: 0.2313\n",
      "Epoch 22/100\n",
      "35681/35681 [==============================] - 35s 971us/step - loss: 2.1338 - accuracy: 0.2320\n",
      "Epoch 23/100\n",
      "35681/35681 [==============================] - 34s 966us/step - loss: 2.1341 - accuracy: 0.2314\n",
      "Epoch 24/100\n",
      "35681/35681 [==============================] - 36s 1ms/step - loss: 2.1339 - accuracy: 0.2316\n",
      "Epoch 25/100\n",
      "35681/35681 [==============================] - 35s 983us/step - loss: 2.1337 - accuracy: 0.2311\n",
      "Epoch 26/100\n",
      "35681/35681 [==============================] - 35s 985us/step - loss: 2.1336 - accuracy: 0.2318\n",
      "Epoch 27/100\n",
      "35681/35681 [==============================] - 35s 969us/step - loss: 2.1334 - accuracy: 0.2312\n",
      "Epoch 28/100\n",
      "35681/35681 [==============================] - 35s 972us/step - loss: 2.1331 - accuracy: 0.2313\n",
      "Epoch 29/100\n",
      "35681/35681 [==============================] - 35s 970us/step - loss: 2.1331 - accuracy: 0.2310\n",
      "Epoch 30/100\n",
      "35681/35681 [==============================] - 35s 967us/step - loss: 2.1331 - accuracy: 0.2309\n",
      "Epoch 31/100\n",
      "35681/35681 [==============================] - 35s 976us/step - loss: 2.1327 - accuracy: 0.2302\n",
      "Epoch 32/100\n",
      "35681/35681 [==============================] - 35s 975us/step - loss: 2.1324 - accuracy: 0.2281\n",
      "Epoch 33/100\n",
      "35681/35681 [==============================] - 35s 969us/step - loss: 2.1333 - accuracy: 0.2261\n",
      "Epoch 34/100\n",
      "35681/35681 [==============================] - 35s 984us/step - loss: 2.1432 - accuracy: 0.2149\n",
      "Epoch 35/100\n",
      "35681/35681 [==============================] - 35s 989us/step - loss: 2.1433 - accuracy: 0.2148\n",
      "Epoch 36/100\n",
      "35681/35681 [==============================] - 35s 970us/step - loss: 2.1429 - accuracy: 0.2146\n",
      "Epoch 37/100\n",
      "35681/35681 [==============================] - 35s 991us/step - loss: 2.1427 - accuracy: 0.2152\n",
      "Epoch 38/100\n",
      "35681/35681 [==============================] - 53s 1ms/step - loss: 2.1431 - accuracy: 0.2148 0s - loss: 2.1431 - \n",
      "Epoch 39/100\n",
      "35681/35681 [==============================] - 52s 1ms/step - loss: 2.1426 - accuracy: 0.2151\n",
      "Epoch 40/100\n",
      "35681/35681 [==============================] - 45s 1ms/step - loss: 2.1429 - accuracy: 0.2146\n",
      "Epoch 41/100\n",
      "35681/35681 [==============================] - 50s 1ms/step - loss: 2.1426 - accuracy: 0.2149\n",
      "Epoch 42/100\n",
      "35681/35681 [==============================] - 51s 1ms/step - loss: 2.1430 - accuracy: 0.2147\n",
      "Epoch 43/100\n",
      "35681/35681 [==============================] - 54s 2ms/step - loss: 2.1428 - accuracy: 0.2153\n",
      "Epoch 44/100\n",
      "35681/35681 [==============================] - 50s 1ms/step - loss: 2.1426 - accuracy: 0.2149\n",
      "Epoch 45/100\n",
      "35681/35681 [==============================] - 51s 1ms/step - loss: 2.1426 - accuracy: 0.2147\n",
      "Epoch 46/100\n",
      "35681/35681 [==============================] - 51s 1ms/step - loss: 2.1424 - accuracy: 0.2152\n",
      "Epoch 47/100\n",
      "35681/35681 [==============================] - 49s 1ms/step - loss: 2.1425 - accuracy: 0.2150\n",
      "Epoch 48/100\n",
      "35681/35681 [==============================] - 47s 1ms/step - loss: 2.1424 - accuracy: 0.2154\n",
      "Epoch 49/100\n",
      "35681/35681 [==============================] - 51s 1ms/step - loss: 2.1424 - accuracy: 0.2147\n",
      "Epoch 50/100\n",
      "35681/35681 [==============================] - 54s 2ms/step - loss: 2.1427 - accuracy: 0.2152\n",
      "Epoch 51/100\n",
      "35681/35681 [==============================] - 38s 1ms/step - loss: 2.1426 - accuracy: 0.2150\n",
      "Epoch 52/100\n",
      "35681/35681 [==============================] - 34s 943us/step - loss: 2.1428 - accuracy: 0.2144\n",
      "Epoch 53/100\n",
      "35681/35681 [==============================] - 34s 951us/step - loss: 2.1425 - accuracy: 0.2150\n",
      "Epoch 54/100\n",
      "35681/35681 [==============================] - 34s 953us/step - loss: 2.1426 - accuracy: 0.2150\n",
      "Epoch 55/100\n",
      "35681/35681 [==============================] - 37s 1ms/step - loss: 2.1424 - accuracy: 0.2150\n",
      "Epoch 56/100\n",
      "35681/35681 [==============================] - 35s 968us/step - loss: 2.1429 - accuracy: 0.2151\n",
      "Epoch 57/100\n",
      "35681/35681 [==============================] - 34s 951us/step - loss: 2.1424 - accuracy: 0.2151\n",
      "Epoch 58/100\n",
      "35681/35681 [==============================] - 35s 969us/step - loss: 2.1434 - accuracy: 0.2149\n",
      "Epoch 59/100\n",
      "35681/35681 [==============================] - 33s 937us/step - loss: 2.1428 - accuracy: 0.2154\n",
      "Epoch 60/100\n",
      "35681/35681 [==============================] - 33s 929us/step - loss: 2.1425 - accuracy: 0.2151\n",
      "Epoch 61/100\n",
      "35681/35681 [==============================] - 33s 933us/step - loss: 2.1422 - accuracy: 0.2151\n",
      "Epoch 62/100\n",
      "35681/35681 [==============================] - 34s 944us/step - loss: 2.1421 - accuracy: 0.2150\n",
      "Epoch 63/100\n",
      "35681/35681 [==============================] - 36s 1ms/step - loss: 2.1420 - accuracy: 0.2153\n",
      "Epoch 64/100\n",
      "35681/35681 [==============================] - 34s 967us/step - loss: 2.1422 - accuracy: 0.2155\n",
      "Epoch 65/100\n",
      "35681/35681 [==============================] - 35s 974us/step - loss: 2.1422 - accuracy: 0.2150\n",
      "Epoch 66/100\n",
      "35681/35681 [==============================] - 37s 1ms/step - loss: 2.1421 - accuracy: 0.2153\n",
      "Epoch 67/100\n",
      "35681/35681 [==============================] - 53s 1ms/step - loss: 2.1427 - accuracy: 0.2148- ETA: 0s - los\n",
      "Epoch 68/100\n",
      "35681/35681 [==============================] - 51s 1ms/step - loss: 2.1422 - accuracy: 0.2150\n",
      "Epoch 69/100\n",
      "35681/35681 [==============================] - 57s 2ms/step - loss: 2.1421 - accuracy: 0.2150\n",
      "Epoch 70/100\n",
      "35681/35681 [==============================] - 54s 2ms/step - loss: 2.1424 - accuracy: 0.2148\n",
      "Epoch 71/100\n",
      "35681/35681 [==============================] - 53s 1ms/step - loss: 2.1422 - accuracy: 0.2149\n",
      "Epoch 72/100\n",
      "35681/35681 [==============================] - 49s 1ms/step - loss: 2.1423 - accuracy: 0.2154\n",
      "Epoch 73/100\n",
      "35681/35681 [==============================] - 35s 967us/step - loss: 2.1421 - accuracy: 0.2156\n",
      "Epoch 74/100\n"
     ]
    },
    {
     "name": "stdout",
     "output_type": "stream",
     "text": [
      "35681/35681 [==============================] - 39s 1ms/step - loss: 2.1422 - accuracy: 0.2145\n",
      "Epoch 75/100\n",
      "35681/35681 [==============================] - 34s 966us/step - loss: 2.1422 - accuracy: 0.2153\n",
      "Epoch 76/100\n",
      "35681/35681 [==============================] - 41s 1ms/step - loss: 2.1424 - accuracy: 0.2150\n",
      "Epoch 77/100\n",
      "35681/35681 [==============================] - 44s 1ms/step - loss: 2.1420 - accuracy: 0.2152\n",
      "Epoch 78/100\n",
      "35681/35681 [==============================] - 46s 1ms/step - loss: 2.1425 - accuracy: 0.2153\n",
      "Epoch 79/100\n",
      "35681/35681 [==============================] - 39s 1ms/step - loss: 2.1421 - accuracy: 0.2154\n",
      "Epoch 80/100\n",
      "35681/35681 [==============================] - 40s 1ms/step - loss: 2.1419 - accuracy: 0.2151\n",
      "Epoch 81/100\n",
      "35681/35681 [==============================] - 37s 1ms/step - loss: 2.1420 - accuracy: 0.2151\n",
      "Epoch 82/100\n",
      "35681/35681 [==============================] - 39s 1ms/step - loss: 2.1422 - accuracy: 0.2149\n",
      "Epoch 83/100\n",
      "35681/35681 [==============================] - 36s 1ms/step - loss: 2.1424 - accuracy: 0.2150\n",
      "Epoch 84/100\n",
      "35681/35681 [==============================] - 35s 971us/step - loss: 2.1421 - accuracy: 0.2151\n",
      "Epoch 85/100\n",
      "35681/35681 [==============================] - 42s 1ms/step - loss: 2.1425 - accuracy: 0.2149\n",
      "Epoch 86/100\n",
      "35681/35681 [==============================] - 51s 1ms/step - loss: 2.1422 - accuracy: 0.2150\n",
      "Epoch 87/100\n",
      "35681/35681 [==============================] - 53s 1ms/step - loss: 2.1424 - accuracy: 0.2148\n",
      "Epoch 88/100\n",
      "35681/35681 [==============================] - 50s 1ms/step - loss: 2.1423 - accuracy: 0.2149\n",
      "Epoch 89/100\n",
      "35681/35681 [==============================] - 53s 1ms/step - loss: 2.1424 - accuracy: 0.2152\n",
      "Epoch 90/100\n",
      "35681/35681 [==============================] - 50s 1ms/step - loss: 2.1422 - accuracy: 0.2153\n",
      "Epoch 91/100\n",
      "35681/35681 [==============================] - 38s 1ms/step - loss: 2.1423 - accuracy: 0.2150\n",
      "Epoch 92/100\n",
      "35681/35681 [==============================] - 35s 987us/step - loss: 2.1424 - accuracy: 0.2153\n",
      "Epoch 93/100\n",
      "35681/35681 [==============================] - 36s 1ms/step - loss: 2.1418 - accuracy: 0.2151\n",
      "Epoch 94/100\n",
      "35681/35681 [==============================] - 39s 1ms/step - loss: 2.1424 - accuracy: 0.2151\n",
      "Epoch 95/100\n",
      "35681/35681 [==============================] - 37s 1ms/step - loss: 2.1421 - accuracy: 0.2150\n",
      "Epoch 96/100\n",
      "35681/35681 [==============================] - 37s 1ms/step - loss: 2.1419 - accuracy: 0.2149\n",
      "Epoch 97/100\n",
      "35681/35681 [==============================] - 38s 1ms/step - loss: 2.1420 - accuracy: 0.2153\n",
      "Epoch 98/100\n",
      "35681/35681 [==============================] - 35s 995us/step - loss: 2.1423 - accuracy: 0.2150\n",
      "Epoch 99/100\n",
      "35681/35681 [==============================] - 37s 1ms/step - loss: 2.1420 - accuracy: 0.2152\n",
      "Epoch 100/100\n",
      "35681/35681 [==============================] - 35s 989us/step - loss: 2.1427 - accuracy: 0.2150\n"
     ]
    },
    {
     "data": {
      "text/plain": [
       "<tensorflow.python.keras.callbacks.History at 0x22837df8550>"
      ]
     },
     "execution_count": 100,
     "metadata": {},
     "output_type": "execute_result"
    }
   ],
   "source": [
    "# model definition\n",
    "model_comb = ml.Sequential()\n",
    "model_comb.add( l.Dense(128, input_dim=x_train_comb.shape[1], activation='relu') )\n",
    "model_comb.add( l.Dense(12, activation='softmax') )\n",
    "\n",
    "# model compile\n",
    "model_comb.compile(loss='categorical_crossentropy', optimizer='adam', metrics=['accuracy'])\n",
    "\n",
    "# train model\n",
    "model_comb.fit(x_train_comb, y_train_comb, epochs=100)"
   ]
  },
  {
   "cell_type": "markdown",
   "id": "7e2efdd6",
   "metadata": {
    "ExecuteTime": {
     "end_time": "2022-03-09T02:32:36.774772Z",
     "start_time": "2022-03-09T02:32:36.732790Z"
    }
   },
   "source": [
    "#### 7.2.4.1. SMOTE + TOMEKLINK - Performance"
   ]
  },
  {
   "cell_type": "code",
   "execution_count": 101,
   "id": "ae999ad1",
   "metadata": {
    "ExecuteTime": {
     "end_time": "2022-04-01T22:34:31.411764Z",
     "start_time": "2022-04-01T22:34:18.711088Z"
    }
   },
   "outputs": [],
   "source": [
    "# prediction\n",
    "pred_comb_nn = model_comb.predict(x_test_comb)\n",
    "\n",
    "# invert prediction\n",
    "yhat_comb_nn = ohe.inverse_transform(pred_comb_nn)\n",
    "\n",
    "# invert validation response\n",
    "y_test_comb_nn = ohe.inverse_transform(y_test_comb)"
   ]
  },
  {
   "cell_type": "code",
   "execution_count": 102,
   "id": "5bd56966",
   "metadata": {
    "ExecuteTime": {
     "end_time": "2022-04-01T22:34:37.812771Z",
     "start_time": "2022-04-01T22:34:37.752772Z"
    },
    "cell_style": "split"
   },
   "outputs": [
    {
     "data": {
      "text/plain": [
       "NL       0.084506\n",
       "CA       0.084078\n",
       "IT       0.083612\n",
       "ES       0.083465\n",
       "AU       0.083458\n",
       "DE       0.083231\n",
       "FR       0.083087\n",
       "NDF      0.083087\n",
       "GB       0.083006\n",
       "other    0.082961\n",
       "PT       0.082842\n",
       "US       0.082667\n",
       "dtype: float64"
      ]
     },
     "execution_count": 102,
     "metadata": {},
     "output_type": "execute_result"
    }
   ],
   "source": [
    "# check the balance of validation\n",
    "pd.DataFrame(y_test_comb_nn).value_counts(normalize=True)"
   ]
  },
  {
   "cell_type": "code",
   "execution_count": 103,
   "id": "c9059ad9",
   "metadata": {
    "ExecuteTime": {
     "end_time": "2022-04-01T22:34:44.035330Z",
     "start_time": "2022-04-01T22:34:43.993048Z"
    },
    "cell_style": "split"
   },
   "outputs": [
    {
     "data": {
      "text/plain": [
       "NL       0.545669\n",
       "US       0.149544\n",
       "AU       0.114375\n",
       "PT       0.086461\n",
       "NDF      0.083760\n",
       "CA       0.013127\n",
       "GB       0.005914\n",
       "other    0.000953\n",
       "DE       0.000200\n",
       "dtype: float64"
      ]
     },
     "execution_count": 103,
     "metadata": {},
     "output_type": "execute_result"
    }
   ],
   "source": [
    "# check the balance of result\n",
    "pd.DataFrame(yhat_comb_nn).value_counts(normalize=True)"
   ]
  },
  {
   "cell_type": "code",
   "execution_count": 104,
   "id": "37392137",
   "metadata": {
    "ExecuteTime": {
     "end_time": "2022-04-01T22:35:06.489010Z",
     "start_time": "2022-04-01T22:34:50.056050Z"
    },
    "scrolled": false
   },
   "outputs": [
    {
     "name": "stdout",
     "output_type": "stream",
     "text": [
      "Accuracy: 0.2159167343964575\n",
      "Balanced Accuracy: 0.2157838747976902\n",
      "Kappa Score: 0.14417087311204513\n",
      "              precision    recall  f1-score   support\n",
      "\n",
      "          AU       0.15      0.20      0.17     23823\n",
      "          CA       0.12      0.02      0.03     24000\n",
      "          DE       0.63      0.00      0.00     23758\n",
      "          ES       0.00      0.00      0.00     23825\n",
      "          FR       0.00      0.00      0.00     23717\n",
      "          GB       0.09      0.01      0.01     23694\n",
      "          IT       0.00      0.00      0.00     23867\n",
      "         NDF       0.99      1.00      1.00     23717\n",
      "          NL       0.10      0.67      0.18     24122\n",
      "          PT       0.10      0.11      0.11     23647\n",
      "          US       0.32      0.58      0.42     23597\n",
      "       other       0.13      0.00      0.00     23681\n",
      "\n",
      "    accuracy                           0.22    285448\n",
      "   macro avg       0.22      0.22      0.16    285448\n",
      "weighted avg       0.22      0.22      0.16    285448\n",
      "\n"
     ]
    },
    {
     "data": {
      "image/png": "[encoded data removed]",
      "text/plain": [
       "<Figure size 864x864 with 2 Axes>"
      ]
     },
     "metadata": {
      "needs_background": "light"
     },
     "output_type": "display_data"
    }
   ],
   "source": [
    "# Accuracy\n",
    "acc_comb_nn = m.accuracy_score( y_test_comb_nn, yhat_comb_nn )\n",
    "print(f'Accuracy: {acc_comb_nn}')\n",
    "\n",
    "# Balanced Accuracy\n",
    "balanced_acc_comb_nn = m.balanced_accuracy_score(y_test_comb_nn, yhat_comb_nn)\n",
    "print(f'Balanced Accuracy: {balanced_acc_comb_nn}')\n",
    "\n",
    "# Kappa Metrics\n",
    "kappa_comb_nn = m.cohen_kappa_score(y_test_comb_nn, yhat_comb_nn)\n",
    "print(f'Kappa Score: {kappa_comb_nn}')\n",
    "\n",
    "# Classification report\n",
    "print(m.classification_report(y_test_comb_nn, yhat_comb_nn))\n",
    "\n",
    "# Confusion Matrix\n",
    "mt.plot_confusion_matrix( y_test_comb_nn, yhat_comb_nn, normalize=False, figsize=(12,12));\n",
    "\n",
    "# Performance\n",
    "comb_performance = {'model': 'NN Model - SMOTE + TOMEKLINK', \n",
    "                    'acc': np.round(acc_comb_nn, 6), \n",
    "                    'balanced_acc': np.round(balanced_acc_comb_nn, 6), \n",
    "                    'kappa_score': np.round(kappa_comb_nn, 6)}"
   ]
  },
  {
   "cell_type": "markdown",
   "id": "58faa4c4",
   "metadata": {},
   "source": [
    "#### 7.2.4.2. SMOTE + TOMEKLINK - Cross-Validation"
   ]
  },
  {
   "cell_type": "code",
   "execution_count": 114,
   "id": "1f76ce61",
   "metadata": {
    "ExecuteTime": {
     "end_time": "2022-04-02T08:07:20.938676Z",
     "start_time": "2022-04-02T03:46:11.433229Z"
    }
   },
   "outputs": [
    {
     "name": "stdout",
     "output_type": "stream",
     "text": [
      "Fold Number:1/5\n",
      "Fold Number:2/5\n",
      "Fold Number:3/5\n",
      "Fold Number:4/5\n",
      "Fold Number:5/5\n"
     ]
    }
   ],
   "source": [
    "# cross validation performance\n",
    "acc_comb, balanced_acc_comb, kappa_comb = cross_validation(num_fold=5, \n",
    "                                                           x_train=x_train_comb, \n",
    "                                                           y_train=y_train_comb, \n",
    "                                                           model=model_comb, \n",
    "                                                           verbose=True)"
   ]
  },
  {
   "cell_type": "code",
   "execution_count": 115,
   "id": "bc160144",
   "metadata": {
    "ExecuteTime": {
     "end_time": "2022-04-02T08:12:54.183596Z",
     "start_time": "2022-04-02T08:12:54.121265Z"
    }
   },
   "outputs": [],
   "source": [
    "# Performance\n",
    "comb_performance_cv = {'model': 'NN Model - SMOTE + TOMEKLINK - CV',\n",
    "                       'acc': f'{np.round(np.mean(acc_comb), 2)} +/- {np.round(np.std(acc_comb), 4)}',\n",
    "                       'balanced_acc': f'{np.round(np.mean(balanced_acc_comb), 2)} +/- {np.round(np.std(balanced_acc_comb), 4)}',\n",
    "                       'kappa_score': f'{np.round(np.mean(kappa_comb), 2)} +/- {np.round(np.std(kappa_comb), 4)}'}"
   ]
  },
  {
   "cell_type": "code",
   "execution_count": 116,
   "id": "28e0495e",
   "metadata": {
    "ExecuteTime": {
     "end_time": "2022-04-02T08:13:00.176042Z",
     "start_time": "2022-04-02T08:13:00.144382Z"
    }
   },
   "outputs": [
    {
     "name": "stdout",
     "output_type": "stream",
     "text": [
      "Avg Accuracy: 0.22 +/- 0.00103\n",
      "Avg Balanced Accuracy: 0.22 +/- 0.00099\n",
      "Avg Kappa Score: 0.14 +/- 0.0011\n"
     ]
    }
   ],
   "source": [
    "print(f'Avg Accuracy: {np.round(np.mean(acc_comb), 2)} +/- {np.round(np.std(acc_comb),5)}')\n",
    "print(f'Avg Balanced Accuracy: {np.round(np.mean(balanced_acc_comb), 2)} +/- {np.round(np.std(balanced_acc_comb),5)}')\n",
    "print(f'Avg Kappa Score: {np.round(np.mean(kappa_comb), 2)} +/- {np.round(np.std(kappa_comb), 4)}')"
   ]
  },
  {
   "cell_type": "code",
   "execution_count": 96,
   "id": "da7a4455",
   "metadata": {
    "ExecuteTime": {
     "end_time": "2022-03-12T03:07:07.016826Z",
     "start_time": "2022-03-12T03:07:07.006794Z"
    }
   },
   "outputs": [],
   "source": [
    "# print(f'Avg Balanced Accuracy: {np.round(np.mean(balanced_acc_list), 2)} +/- {np.round(np.std(balanced_acc_list),5)}')\n",
    "# print(f'Avg Kappa Score: {np.round(np.mean(kappa_list), 2)} +/- {np.round(np.std(kappa_list), 4)}')"
   ]
  },
  {
   "cell_type": "markdown",
   "id": "dec46b91",
   "metadata": {},
   "source": [
    "# 8.0. Hyper Parameter Tuning\n",
    "\n",
    "Hyper Parameter Tuning will not be considered until the most optimal machine learning model is selected, at this first cycle was considered only one model to complete the cycle and go through for all the major phases to validate the feasibility of the project."
   ]
  },
  {
   "cell_type": "code",
   "execution_count": null,
   "id": "2033ffaa",
   "metadata": {},
   "outputs": [],
   "source": []
  },
  {
   "cell_type": "markdown",
   "id": "caddd600",
   "metadata": {},
   "source": [
    "# 9.0. Error Translation and Interpretation"
   ]
  },
  {
   "cell_type": "code",
   "execution_count": null,
   "id": "d2005058",
   "metadata": {},
   "outputs": [],
   "source": []
  },
  {
   "cell_type": "markdown",
   "id": "2d632718",
   "metadata": {},
   "source": [
    "# 10.0. Deploy Model\n",
    "\n",
    "No models will be deployed yet."
   ]
  },
  {
   "cell_type": "code",
   "execution_count": null,
   "id": "a610263d",
   "metadata": {},
   "outputs": [],
   "source": []
  },
  {
   "cell_type": "markdown",
   "id": "f8539229",
   "metadata": {},
   "source": [
    "# 11.0. Conclusion"
   ]
  },
  {
   "cell_type": "markdown",
   "id": "e96c75d2",
   "metadata": {},
   "source": [
    "The manual removal of columns did not interfere with model performance, demonstrating that we were able to eliminate redundancy and irrelevant features through EDA with some success, improving the learning process of the model without reducing performance."
   ]
  },
  {
   "cell_type": "markdown",
   "id": "be98bf76",
   "metadata": {},
   "source": [
    "## 11.1. Current Cycle Performance"
   ]
  },
  {
   "cell_type": "code",
   "execution_count": 123,
   "id": "b3861a94",
   "metadata": {
    "ExecuteTime": {
     "end_time": "2022-04-02T13:28:45.175076Z",
     "start_time": "2022-04-02T13:28:45.149536Z"
    },
    "hide_input": true
   },
   "outputs": [
    {
     "data": {
      "text/html": [
       "<div>\n",
       "<style scoped>\n",
       "    .dataframe tbody tr th:only-of-type {\n",
       "        vertical-align: middle;\n",
       "    }\n",
       "\n",
       "    .dataframe tbody tr th {\n",
       "        vertical-align: top;\n",
       "    }\n",
       "\n",
       "    .dataframe thead th {\n",
       "        text-align: right;\n",
       "    }\n",
       "</style>\n",
       "<table border=\"1\" class=\"dataframe\">\n",
       "  <thead>\n",
       "    <tr style=\"text-align: right;\">\n",
       "      <th></th>\n",
       "      <th>cycle</th>\n",
       "      <th>process</th>\n",
       "      <th>model</th>\n",
       "      <th>acc</th>\n",
       "      <th>balanced_acc</th>\n",
       "      <th>kappa_score</th>\n",
       "    </tr>\n",
       "  </thead>\n",
       "  <tbody>\n",
       "    <tr>\n",
       "      <th>0</th>\n",
       "      <td>6th_cycle</td>\n",
       "      <td>exploratory_data_analysis</td>\n",
       "      <td>Baseline Model</td>\n",
       "      <td>0.42708</td>\n",
       "      <td>0.08174</td>\n",
       "      <td>NaN</td>\n",
       "    </tr>\n",
       "    <tr>\n",
       "      <th>1</th>\n",
       "      <td>6th_cycle</td>\n",
       "      <td>exploratory_data_analysis</td>\n",
       "      <td>NN Model - Imbalanced Data</td>\n",
       "      <td>0.873086</td>\n",
       "      <td>0.166427</td>\n",
       "      <td>0.765545</td>\n",
       "    </tr>\n",
       "    <tr>\n",
       "      <th>2</th>\n",
       "      <td>6th_cycle</td>\n",
       "      <td>exploratory_data_analysis</td>\n",
       "      <td>NN Model - Imbalanced Data - CV</td>\n",
       "      <td>0.87 +/- 0.0003</td>\n",
       "      <td>0.17 +/- 0.0001</td>\n",
       "      <td>0.77 +/- 0.0005</td>\n",
       "    </tr>\n",
       "    <tr>\n",
       "      <th>3</th>\n",
       "      <td>6th_cycle</td>\n",
       "      <td>exploratory_data_analysis</td>\n",
       "      <td>NN Model - Random Undersampling</td>\n",
       "      <td>0.174853</td>\n",
       "      <td>0.173781</td>\n",
       "      <td>0.090967</td>\n",
       "    </tr>\n",
       "    <tr>\n",
       "      <th>4</th>\n",
       "      <td>6th_cycle</td>\n",
       "      <td>exploratory_data_analysis</td>\n",
       "      <td>NN Model - Random Undersampling - CV</td>\n",
       "      <td>0.19 +/- 0.0132</td>\n",
       "      <td>0.19 +/- 0.014</td>\n",
       "      <td>0.12 +/- 0.0151</td>\n",
       "    </tr>\n",
       "    <tr>\n",
       "      <th>5</th>\n",
       "      <td>6th_cycle</td>\n",
       "      <td>exploratory_data_analysis</td>\n",
       "      <td>NN Model - Random Oversampling</td>\n",
       "      <td>0.166936</td>\n",
       "      <td>0.166573</td>\n",
       "      <td>0.090889</td>\n",
       "    </tr>\n",
       "    <tr>\n",
       "      <th>6</th>\n",
       "      <td>6th_cycle</td>\n",
       "      <td>exploratory_data_analysis</td>\n",
       "      <td>NN Model - Random Oversampling - CV</td>\n",
       "      <td>0.17 +/- 0.0004</td>\n",
       "      <td>0.17 +/- 0.0004</td>\n",
       "      <td>0.09 +/- 0.0004</td>\n",
       "    </tr>\n",
       "    <tr>\n",
       "      <th>7</th>\n",
       "      <td>6th_cycle</td>\n",
       "      <td>exploratory_data_analysis</td>\n",
       "      <td>NN Model - SMOTE + TOMEKLINK</td>\n",
       "      <td>0.215917</td>\n",
       "      <td>0.215784</td>\n",
       "      <td>0.144171</td>\n",
       "    </tr>\n",
       "    <tr>\n",
       "      <th>8</th>\n",
       "      <td>6th_cycle</td>\n",
       "      <td>exploratory_data_analysis</td>\n",
       "      <td>NN Model - SMOTE + TOMEKLINK - CV</td>\n",
       "      <td>0.22 +/- 0.001</td>\n",
       "      <td>0.22 +/- 0.001</td>\n",
       "      <td>0.14 +/- 0.0011</td>\n",
       "    </tr>\n",
       "  </tbody>\n",
       "</table>\n",
       "</div>"
      ],
      "text/plain": [
       "       cycle                    process                                 model  \\\n",
       "0  6th_cycle  exploratory_data_analysis                        Baseline Model   \n",
       "1  6th_cycle  exploratory_data_analysis            NN Model - Imbalanced Data   \n",
       "2  6th_cycle  exploratory_data_analysis       NN Model - Imbalanced Data - CV   \n",
       "3  6th_cycle  exploratory_data_analysis       NN Model - Random Undersampling   \n",
       "4  6th_cycle  exploratory_data_analysis  NN Model - Random Undersampling - CV   \n",
       "5  6th_cycle  exploratory_data_analysis        NN Model - Random Oversampling   \n",
       "6  6th_cycle  exploratory_data_analysis   NN Model - Random Oversampling - CV   \n",
       "7  6th_cycle  exploratory_data_analysis          NN Model - SMOTE + TOMEKLINK   \n",
       "8  6th_cycle  exploratory_data_analysis     NN Model - SMOTE + TOMEKLINK - CV   \n",
       "\n",
       "               acc     balanced_acc      kappa_score  \n",
       "0          0.42708          0.08174              NaN  \n",
       "1         0.873086         0.166427         0.765545  \n",
       "2  0.87 +/- 0.0003  0.17 +/- 0.0001  0.77 +/- 0.0005  \n",
       "3         0.174853         0.173781         0.090967  \n",
       "4  0.19 +/- 0.0132   0.19 +/- 0.014  0.12 +/- 0.0151  \n",
       "5         0.166936         0.166573         0.090889  \n",
       "6  0.17 +/- 0.0004  0.17 +/- 0.0004  0.09 +/- 0.0004  \n",
       "7         0.215917         0.215784         0.144171  \n",
       "8   0.22 +/- 0.001   0.22 +/- 0.001  0.14 +/- 0.0011  "
      ]
     },
     "execution_count": 123,
     "metadata": {},
     "output_type": "execute_result"
    }
   ],
   "source": [
    "# performance dataframe\n",
    "df_performance = pd.DataFrame([baseline_performance, imb_performance, imb_performance_cv, \n",
    "                               under_performance, under_performance_cv, \n",
    "                               over_performance, over_performance_cv, \n",
    "                               comb_performance, comb_performance_cv])\n",
    "\n",
    "df_performance['cycle'] = '6th_cycle'\n",
    "df_performance['process'] = 'exploratory_data_analysis'\n",
    "df_performance = df_performance[['cycle', 'process', 'model', 'acc', 'balanced_acc', 'kappa_score']]\n",
    "\n",
    "# save 4th cycle to comparison\n",
    "df_performance.to_csv('../Datasets/6th_cycle_performance', index=False)\n",
    "\n",
    "# display performance dataframe\n",
    "df_performance"
   ]
  },
  {
   "cell_type": "markdown",
   "id": "83090bc8",
   "metadata": {},
   "source": [
    "## 11.2. Cycle Comparison"
   ]
  },
  {
   "cell_type": "code",
   "execution_count": 139,
   "id": "92d17d81",
   "metadata": {
    "ExecuteTime": {
     "end_time": "2022-04-02T13:47:58.487999Z",
     "start_time": "2022-04-02T13:47:58.444002Z"
    },
    "hide_input": true
   },
   "outputs": [
    {
     "data": {
      "text/html": [
       "<div>\n",
       "<style scoped>\n",
       "    .dataframe tbody tr th:only-of-type {\n",
       "        vertical-align: middle;\n",
       "    }\n",
       "\n",
       "    .dataframe tbody tr th {\n",
       "        vertical-align: top;\n",
       "    }\n",
       "\n",
       "    .dataframe thead th {\n",
       "        text-align: right;\n",
       "    }\n",
       "</style>\n",
       "<table border=\"1\" class=\"dataframe\">\n",
       "  <thead>\n",
       "    <tr style=\"text-align: right;\">\n",
       "      <th></th>\n",
       "      <th>cycle</th>\n",
       "      <th>process</th>\n",
       "      <th>model</th>\n",
       "      <th>acc</th>\n",
       "      <th>balanced_acc</th>\n",
       "      <th>kappa_score</th>\n",
       "    </tr>\n",
       "  </thead>\n",
       "  <tbody>\n",
       "    <tr>\n",
       "      <th>0</th>\n",
       "      <td>1st_cycle</td>\n",
       "      <td>validation_pipeline</td>\n",
       "      <td>Neural Network Model</td>\n",
       "      <td>0.70407</td>\n",
       "      <td>0</td>\n",
       "      <td>0</td>\n",
       "    </tr>\n",
       "    <tr>\n",
       "      <th>2</th>\n",
       "      <td>2nd_cycle</td>\n",
       "      <td>baseline_model</td>\n",
       "      <td>Neural Network Model</td>\n",
       "      <td>0.70275</td>\n",
       "      <td>0.091927</td>\n",
       "      <td>0.002145</td>\n",
       "    </tr>\n",
       "    <tr>\n",
       "      <th>4</th>\n",
       "      <td>3rd_cycle</td>\n",
       "      <td>replace_na</td>\n",
       "      <td>Neural Network Model</td>\n",
       "      <td>0.628333</td>\n",
       "      <td>0.107554</td>\n",
       "      <td>0.240606</td>\n",
       "    </tr>\n",
       "    <tr>\n",
       "      <th>7</th>\n",
       "      <td>4th_cycle</td>\n",
       "      <td>feature_engineering</td>\n",
       "      <td>Neural Network Model</td>\n",
       "      <td>0.867452</td>\n",
       "      <td>0.165729</td>\n",
       "      <td>0.756099</td>\n",
       "    </tr>\n",
       "    <tr>\n",
       "      <th>10</th>\n",
       "      <td>5th_cycle</td>\n",
       "      <td>balanced_dataset</td>\n",
       "      <td>NN Model - Imbalanced Data</td>\n",
       "      <td>0.873915</td>\n",
       "      <td>0.16666</td>\n",
       "      <td>0.767212</td>\n",
       "    </tr>\n",
       "    <tr>\n",
       "      <th>12</th>\n",
       "      <td>5th_cycle</td>\n",
       "      <td>balanced_dataset</td>\n",
       "      <td>NN Model - Random Undersampling</td>\n",
       "      <td>0.159136</td>\n",
       "      <td>0.165699</td>\n",
       "      <td>0.079652</td>\n",
       "    </tr>\n",
       "    <tr>\n",
       "      <th>14</th>\n",
       "      <td>5th_cycle</td>\n",
       "      <td>balanced_dataset</td>\n",
       "      <td>NN Model - Random Oversampling</td>\n",
       "      <td>0.166517</td>\n",
       "      <td>0.16674</td>\n",
       "      <td>0.090962</td>\n",
       "    </tr>\n",
       "    <tr>\n",
       "      <th>16</th>\n",
       "      <td>5th_cycle</td>\n",
       "      <td>balanced_dataset</td>\n",
       "      <td>NN Model - SMOTE + TOMEKLINK</td>\n",
       "      <td>0.21757</td>\n",
       "      <td>0.218667</td>\n",
       "      <td>0.146858</td>\n",
       "    </tr>\n",
       "    <tr>\n",
       "      <th>19</th>\n",
       "      <td>6th_cycle</td>\n",
       "      <td>exploratory_data_analysis</td>\n",
       "      <td>NN Model - Imbalanced Data</td>\n",
       "      <td>0.873086</td>\n",
       "      <td>0.166427</td>\n",
       "      <td>0.765545</td>\n",
       "    </tr>\n",
       "    <tr>\n",
       "      <th>21</th>\n",
       "      <td>6th_cycle</td>\n",
       "      <td>exploratory_data_analysis</td>\n",
       "      <td>NN Model - Random Undersampling</td>\n",
       "      <td>0.174853</td>\n",
       "      <td>0.173781</td>\n",
       "      <td>0.090967</td>\n",
       "    </tr>\n",
       "    <tr>\n",
       "      <th>23</th>\n",
       "      <td>6th_cycle</td>\n",
       "      <td>exploratory_data_analysis</td>\n",
       "      <td>NN Model - Random Oversampling</td>\n",
       "      <td>0.166936</td>\n",
       "      <td>0.166573</td>\n",
       "      <td>0.090889</td>\n",
       "    </tr>\n",
       "    <tr>\n",
       "      <th>25</th>\n",
       "      <td>6th_cycle</td>\n",
       "      <td>exploratory_data_analysis</td>\n",
       "      <td>NN Model - SMOTE + TOMEKLINK</td>\n",
       "      <td>0.215917</td>\n",
       "      <td>0.215784</td>\n",
       "      <td>0.144171</td>\n",
       "    </tr>\n",
       "  </tbody>\n",
       "</table>\n",
       "</div>"
      ],
      "text/plain": [
       "        cycle                    process                            model  \\\n",
       "0   1st_cycle        validation_pipeline             Neural Network Model   \n",
       "2   2nd_cycle             baseline_model             Neural Network Model   \n",
       "4   3rd_cycle                 replace_na             Neural Network Model   \n",
       "7   4th_cycle        feature_engineering             Neural Network Model   \n",
       "10  5th_cycle           balanced_dataset       NN Model - Imbalanced Data   \n",
       "12  5th_cycle           balanced_dataset  NN Model - Random Undersampling   \n",
       "14  5th_cycle           balanced_dataset   NN Model - Random Oversampling   \n",
       "16  5th_cycle           balanced_dataset     NN Model - SMOTE + TOMEKLINK   \n",
       "19  6th_cycle  exploratory_data_analysis       NN Model - Imbalanced Data   \n",
       "21  6th_cycle  exploratory_data_analysis  NN Model - Random Undersampling   \n",
       "23  6th_cycle  exploratory_data_analysis   NN Model - Random Oversampling   \n",
       "25  6th_cycle  exploratory_data_analysis     NN Model - SMOTE + TOMEKLINK   \n",
       "\n",
       "         acc balanced_acc kappa_score  \n",
       "0    0.70407            0           0  \n",
       "2    0.70275     0.091927    0.002145  \n",
       "4   0.628333     0.107554    0.240606  \n",
       "7   0.867452     0.165729    0.756099  \n",
       "10  0.873915      0.16666    0.767212  \n",
       "12  0.159136     0.165699    0.079652  \n",
       "14  0.166517      0.16674    0.090962  \n",
       "16   0.21757     0.218667    0.146858  \n",
       "19  0.873086     0.166427    0.765545  \n",
       "21  0.174853     0.173781    0.090967  \n",
       "23  0.166936     0.166573    0.090889  \n",
       "25  0.215917     0.215784    0.144171  "
      ]
     },
     "execution_count": 139,
     "metadata": {},
     "output_type": "execute_result"
    }
   ],
   "source": [
    "# first cycle performance load\n",
    "performance_1st_cycle = pd.read_csv('../Datasets/1st_cycle_performance')\n",
    "\n",
    "# second cycle performance load\n",
    "performance_2nd_cycle = pd.read_csv('../Datasets/2nd_cycle_performance')\n",
    "\n",
    "# third cycle performance laod\n",
    "performance_3rd_cycle = pd.read_csv('../Datasets/3rd_cycle_performance')\n",
    "\n",
    "# fourth cycle performance load\n",
    "performance_4th_cycle = pd.read_csv('../Datasets/4th_cycle_performance')\n",
    "\n",
    "# fifth cycle performance load\n",
    "performance_5th_cycle = pd.read_csv('../Datasets/5th_cycle_performance')\n",
    "\n",
    "# join cycles dataframes\n",
    "performance = pd.concat([performance_1st_cycle, \n",
    "                         performance_2nd_cycle, \n",
    "                         performance_3rd_cycle, \n",
    "                         performance_4th_cycle, \n",
    "                         performance_5th_cycle, \n",
    "                         df_performance]).reset_index(drop=True)\n",
    "\n",
    "# filter baseline model\n",
    "performance = performance[(performance['model'] != 'Baseline Model') & \n",
    "                          (~performance['model'].str.contains('CV'))].fillna(0)\n",
    "\n",
    "# display performance\n",
    "performance"
   ]
  },
  {
   "cell_type": "code",
   "execution_count": 160,
   "id": "acb61818",
   "metadata": {
    "ExecuteTime": {
     "end_time": "2022-04-02T14:00:38.770098Z",
     "start_time": "2022-04-02T14:00:38.442239Z"
    },
    "hide_input": true,
    "scrolled": false
   },
   "outputs": [
    {
     "data": {
      "image/png": "[encoded data removed]",
      "text/plain": [
       "<Figure size 1080x432 with 1 Axes>"
      ]
     },
     "metadata": {
      "needs_background": "light"
     },
     "output_type": "display_data"
    }
   ],
   "source": [
    "plt.figure(figsize=(15,6))\n",
    "\n",
    "performance_group = performance[['cycle', 'process', 'model', 'acc', 'balanced_acc', 'kappa_score']]\\\n",
    "                    .groupby('cycle').max().reset_index()\n",
    "\n",
    "# Evolution of Performance over Cycles\n",
    "sns.lineplot(x='cycle', y='acc', data=performance_group)\n",
    "\n",
    "sns.lineplot(x='cycle', y='balanced_acc', data=performance_group)\n",
    "\n",
    "sns.lineplot(x='cycle', y='kappa_score', data=performance_group)\n",
    "\n",
    "# set legend and titles\n",
    "plt.legend(labels=['Accuracy','Balanced Accuracy', 'Kappa Score'])\n",
    "plt.title('Evolution of Performance over Cycle')\n",
    "plt.ylabel('Percentage')\n",
    "plt.xlabel('Cycles')\n",
    "plt.grid();"
   ]
  },
  {
   "cell_type": "code",
   "execution_count": 159,
   "id": "c9628e10",
   "metadata": {
    "ExecuteTime": {
     "end_time": "2022-04-02T13:58:12.537096Z",
     "start_time": "2022-04-02T13:58:12.500105Z"
    },
    "hide_input": true
   },
   "outputs": [
    {
     "data": {
      "text/html": [
       "<div>\n",
       "<style scoped>\n",
       "    .dataframe tbody tr th:only-of-type {\n",
       "        vertical-align: middle;\n",
       "    }\n",
       "\n",
       "    .dataframe tbody tr th {\n",
       "        vertical-align: top;\n",
       "    }\n",
       "\n",
       "    .dataframe thead th {\n",
       "        text-align: right;\n",
       "    }\n",
       "</style>\n",
       "<table border=\"1\" class=\"dataframe\">\n",
       "  <thead>\n",
       "    <tr style=\"text-align: right;\">\n",
       "      <th></th>\n",
       "      <th>cycle</th>\n",
       "      <th>process</th>\n",
       "      <th>model</th>\n",
       "      <th>acc</th>\n",
       "      <th>pct_acc</th>\n",
       "      <th>balanced_acc</th>\n",
       "      <th>pct_bal_acc</th>\n",
       "      <th>kappa_score</th>\n",
       "      <th>pct_kappa_score</th>\n",
       "    </tr>\n",
       "  </thead>\n",
       "  <tbody>\n",
       "    <tr>\n",
       "      <th>0</th>\n",
       "      <td>1st_cycle</td>\n",
       "      <td>validation_pipeline</td>\n",
       "      <td>Neural Network Model</td>\n",
       "      <td>0.70</td>\n",
       "      <td>NaN</td>\n",
       "      <td>0.00</td>\n",
       "      <td>NaN</td>\n",
       "      <td>0.00</td>\n",
       "      <td>NaN</td>\n",
       "    </tr>\n",
       "    <tr>\n",
       "      <th>1</th>\n",
       "      <td>2nd_cycle</td>\n",
       "      <td>baseline_model</td>\n",
       "      <td>Neural Network Model</td>\n",
       "      <td>0.70</td>\n",
       "      <td>0.00</td>\n",
       "      <td>0.09</td>\n",
       "      <td>inf</td>\n",
       "      <td>0.00</td>\n",
       "      <td>NaN</td>\n",
       "    </tr>\n",
       "    <tr>\n",
       "      <th>2</th>\n",
       "      <td>3rd_cycle</td>\n",
       "      <td>replace_na</td>\n",
       "      <td>Neural Network Model</td>\n",
       "      <td>0.62</td>\n",
       "      <td>-0.11</td>\n",
       "      <td>0.10</td>\n",
       "      <td>0.11</td>\n",
       "      <td>0.24</td>\n",
       "      <td>inf</td>\n",
       "    </tr>\n",
       "    <tr>\n",
       "      <th>3</th>\n",
       "      <td>4th_cycle</td>\n",
       "      <td>feature_engineering</td>\n",
       "      <td>Neural Network Model</td>\n",
       "      <td>0.86</td>\n",
       "      <td>0.39</td>\n",
       "      <td>0.16</td>\n",
       "      <td>0.60</td>\n",
       "      <td>0.75</td>\n",
       "      <td>2.12</td>\n",
       "    </tr>\n",
       "    <tr>\n",
       "      <th>4</th>\n",
       "      <td>5th_cycle</td>\n",
       "      <td>balanced_dataset</td>\n",
       "      <td>NN Model - SMOTE + TOMEKLINK</td>\n",
       "      <td>0.87</td>\n",
       "      <td>0.01</td>\n",
       "      <td>0.21</td>\n",
       "      <td>0.31</td>\n",
       "      <td>0.76</td>\n",
       "      <td>0.01</td>\n",
       "    </tr>\n",
       "    <tr>\n",
       "      <th>5</th>\n",
       "      <td>6th_cycle</td>\n",
       "      <td>exploratory_data_analysis</td>\n",
       "      <td>NN Model - SMOTE + TOMEKLINK</td>\n",
       "      <td>0.87</td>\n",
       "      <td>0.00</td>\n",
       "      <td>0.21</td>\n",
       "      <td>0.00</td>\n",
       "      <td>0.76</td>\n",
       "      <td>0.00</td>\n",
       "    </tr>\n",
       "  </tbody>\n",
       "</table>\n",
       "</div>"
      ],
      "text/plain": [
       "       cycle                    process                         model   acc  \\\n",
       "0  1st_cycle        validation_pipeline          Neural Network Model  0.70   \n",
       "1  2nd_cycle             baseline_model          Neural Network Model  0.70   \n",
       "2  3rd_cycle                 replace_na          Neural Network Model  0.62   \n",
       "3  4th_cycle        feature_engineering          Neural Network Model  0.86   \n",
       "4  5th_cycle           balanced_dataset  NN Model - SMOTE + TOMEKLINK  0.87   \n",
       "5  6th_cycle  exploratory_data_analysis  NN Model - SMOTE + TOMEKLINK  0.87   \n",
       "\n",
       "   pct_acc  balanced_acc  pct_bal_acc  kappa_score  pct_kappa_score  \n",
       "0      NaN          0.00          NaN         0.00              NaN  \n",
       "1     0.00          0.09          inf         0.00              NaN  \n",
       "2    -0.11          0.10         0.11         0.24              inf  \n",
       "3     0.39          0.16         0.60         0.75             2.12  \n",
       "4     0.01          0.21         0.31         0.76             0.01  \n",
       "5     0.00          0.21         0.00         0.76             0.00  "
      ]
     },
     "execution_count": 159,
     "metadata": {},
     "output_type": "execute_result"
    }
   ],
   "source": [
    "performance_group['pct_acc'] = np.round(performance_group['acc'].pct_change(), 2)\n",
    "\n",
    "performance_group['pct_bal_acc'] = np.round(performance_group['balanced_acc'].pct_change(), 2)\n",
    "\n",
    "performance_group['pct_kappa_score'] = np.round(performance_group['kappa_score'].pct_change(), 2)\n",
    "\n",
    "performance_group[['cycle', 'process', 'model', 'acc', 'pct_acc', \n",
    "                   'balanced_acc', 'pct_bal_acc', 'kappa_score', 'pct_kappa_score']]"
   ]
  }
 ],
 "metadata": {
  "kernelspec": {
   "display_name": "Python 3 (ipykernel)",
   "language": "python",
   "name": "python3"
  },
  "language_info": {
   "codemirror_mode": {
    "name": "ipython",
    "version": 3
   },
   "file_extension": ".py",
   "mimetype": "text/x-python",
   "name": "python",
   "nbconvert_exporter": "python",
   "pygments_lexer": "ipython3",
   "version": "3.8.12"
  },
  "varInspector": {
   "cols": {
    "lenName": 16,
    "lenType": 16,
    "lenVar": 40
   },
   "kernels_config": {
    "python": {
     "delete_cmd_postfix": "",
     "delete_cmd_prefix": "del ",
     "library": "var_list.py",
     "varRefreshCmd": "print(var_dic_list())"
    },
    "r": {
     "delete_cmd_postfix": ") ",
     "delete_cmd_prefix": "rm(",
     "library": "var_list.r",
     "varRefreshCmd": "cat(var_dic_list()) "
    }
   },
   "types_to_exclude": [
    "module",
    "function",
    "builtin_function_or_method",
    "instance",
    "_Feature"
   ],
   "window_display": false
  }
 },
 "nbformat": 4,
 "nbformat_minor": 5
}
