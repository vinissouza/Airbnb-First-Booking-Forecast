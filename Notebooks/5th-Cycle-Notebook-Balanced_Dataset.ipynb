{
 "cells": [
  {
   "cell_type": "markdown",
   "id": "e9da1de2",
   "metadata": {
    "ExecuteTime": {
     "end_time": "2022-02-28T20:43:44.606104Z",
     "start_time": "2022-02-28T20:43:44.598146Z"
    }
   },
   "source": [
    "# 0.0. Imports"
   ]
  },
  {
   "cell_type": "code",
   "execution_count": 1,
   "id": "4a97ff0c",
   "metadata": {
    "ExecuteTime": {
     "end_time": "2022-03-09T12:36:20.460568Z",
     "start_time": "2022-03-09T12:36:07.843142Z"
    }
   },
   "outputs": [],
   "source": [
    "import numpy   as np\n",
    "import pandas  as pd\n",
    "import random\n",
    "import seaborn as sns \n",
    "import warnings\n",
    "\n",
    "from scipy      import stats           as ss\n",
    "from sklearn    import model_selection as ms\n",
    "from sklearn    import preprocessing   as pp\n",
    "from sklearn    import metrics         as m\n",
    "from scikitplot import metrics         as mt\n",
    "\n",
    "from imblearn import under_sampling as us\n",
    "from imblearn import over_sampling  as osamp\n",
    "from imblearn import combine        as comb\n",
    "\n",
    "from keras import models as ml\n",
    "from keras import layers as l\n",
    "\n",
    "warnings.filterwarnings('ignore')"
   ]
  },
  {
   "cell_type": "markdown",
   "id": "58b2f295",
   "metadata": {},
   "source": [
    "## 0.1. Auxiliar Functions"
   ]
  },
  {
   "cell_type": "code",
   "execution_count": 2,
   "id": "c27e09c1",
   "metadata": {
    "ExecuteTime": {
     "end_time": "2022-03-09T12:36:20.485630Z",
     "start_time": "2022-03-09T12:36:20.471563Z"
    }
   },
   "outputs": [],
   "source": [
    "def cramer_v(x, y):\n",
    "    \n",
    "    cm = pd.crosstab(x, y).values\n",
    "    n = cm.sum()\n",
    "    r, k = cm.shape\n",
    "    \n",
    "    rcorr = r - ((r-1)**2)/(n-1)\n",
    "    \n",
    "    kcorr = k - ((k-1)**2)/(n-1)\n",
    "    \n",
    "    chi2 = ss.chi2_contingency(cm)[0]\n",
    "    chi2corr = max(0, chi2 - (k-1)*(r-1)/(n-1))\n",
    "    \n",
    "    return np.sqrt((chi2corr/n)/(min(kcorr-1, rcorr-1)))"
   ]
  },
  {
   "cell_type": "markdown",
   "id": "04bd4aba",
   "metadata": {},
   "source": [
    "## 0.2. Load Data"
   ]
  },
  {
   "cell_type": "code",
   "execution_count": 3,
   "id": "05c73b56",
   "metadata": {
    "ExecuteTime": {
     "end_time": "2022-03-09T12:36:35.466842Z",
     "start_time": "2022-03-09T12:36:20.493564Z"
    }
   },
   "outputs": [],
   "source": [
    "# load training set of user\n",
    "data_users = pd.read_csv('../Datasets/train_users_2.csv', low_memory=False)\n",
    "\n",
    "# load web sessions log for users\n",
    "data_sessions = pd.read_csv('../Datasets/sessions.csv', low_memory=False)"
   ]
  },
  {
   "cell_type": "markdown",
   "id": "1179dcfc",
   "metadata": {},
   "source": [
    "# 1.0. Data Description"
   ]
  },
  {
   "cell_type": "code",
   "execution_count": 4,
   "id": "a59196b7",
   "metadata": {
    "ExecuteTime": {
     "end_time": "2022-03-09T12:36:35.863842Z",
     "start_time": "2022-03-09T12:36:35.469843Z"
    }
   },
   "outputs": [],
   "source": [
    "df01_users = data_users.copy()\n",
    "\n",
    "df01_sessions = data_sessions.copy()"
   ]
  },
  {
   "cell_type": "markdown",
   "id": "1ccddadb",
   "metadata": {},
   "source": [
    "## 1.1. Data Types"
   ]
  },
  {
   "cell_type": "code",
   "execution_count": 5,
   "id": "fe162f91",
   "metadata": {
    "ExecuteTime": {
     "end_time": "2022-03-09T12:36:36.005495Z",
     "start_time": "2022-03-09T12:36:35.868844Z"
    },
    "cell_style": "split"
   },
   "outputs": [
    {
     "data": {
      "text/plain": [
       "id                          object\n",
       "date_account_created        object\n",
       "timestamp_first_active       int64\n",
       "date_first_booking          object\n",
       "gender                      object\n",
       "age                        float64\n",
       "signup_method               object\n",
       "signup_flow                  int64\n",
       "language                    object\n",
       "affiliate_channel           object\n",
       "affiliate_provider          object\n",
       "first_affiliate_tracked     object\n",
       "signup_app                  object\n",
       "first_device_type           object\n",
       "first_browser               object\n",
       "country_destination         object\n",
       "dtype: object"
      ]
     },
     "execution_count": 5,
     "metadata": {},
     "output_type": "execute_result"
    }
   ],
   "source": [
    "df01_users.dtypes"
   ]
  },
  {
   "cell_type": "code",
   "execution_count": 6,
   "id": "859ee10e",
   "metadata": {
    "ExecuteTime": {
     "end_time": "2022-03-09T12:36:36.021453Z",
     "start_time": "2022-03-09T12:36:36.008461Z"
    },
    "cell_style": "split"
   },
   "outputs": [
    {
     "data": {
      "text/plain": [
       "user_id           object\n",
       "action            object\n",
       "action_type       object\n",
       "action_detail     object\n",
       "device_type       object\n",
       "secs_elapsed     float64\n",
       "dtype: object"
      ]
     },
     "execution_count": 6,
     "metadata": {},
     "output_type": "execute_result"
    }
   ],
   "source": [
    "df01_sessions.dtypes"
   ]
  },
  {
   "cell_type": "markdown",
   "id": "297d0bec",
   "metadata": {
    "cell_style": "center"
   },
   "source": [
    "## 1.2. Data Dimensions"
   ]
  },
  {
   "cell_type": "markdown",
   "id": "c617277e",
   "metadata": {},
   "source": [
    "### 1.2.1. Data Users Dimensions "
   ]
  },
  {
   "cell_type": "code",
   "execution_count": 7,
   "id": "6889bc8e",
   "metadata": {
    "ExecuteTime": {
     "end_time": "2022-03-09T12:36:36.037453Z",
     "start_time": "2022-03-09T12:36:36.024454Z"
    }
   },
   "outputs": [
    {
     "name": "stdout",
     "output_type": "stream",
     "text": [
      "Number of rows of users dataset: 213451\n",
      "Number of columnss of users dataset: 16\n"
     ]
    }
   ],
   "source": [
    "print( f'Number of rows of users dataset: {df01_users.shape[0]}')\n",
    "print( f'Number of columnss of users dataset: {df01_users.shape[1]}')"
   ]
  },
  {
   "cell_type": "markdown",
   "id": "152339da",
   "metadata": {},
   "source": [
    "### 1.2.2. Data Sessions Dimensions\n",
    "\n",
    "This dataset will not be used in this first cycle due to the granularity being action and we want to be user_id for now."
   ]
  },
  {
   "cell_type": "code",
   "execution_count": 8,
   "id": "c1459d2d",
   "metadata": {
    "ExecuteTime": {
     "end_time": "2022-03-09T12:36:36.069458Z",
     "start_time": "2022-03-09T12:36:36.051457Z"
    }
   },
   "outputs": [
    {
     "name": "stdout",
     "output_type": "stream",
     "text": [
      "Number of rows of sessions dataset: 10567737\n",
      "Number of columnss of session dataset: 6\n"
     ]
    }
   ],
   "source": [
    "print( f'Number of rows of sessions dataset: {df01_sessions.shape[0]}')\n",
    "print( f'Number of columnss of session dataset: {df01_sessions.shape[1]}')"
   ]
  },
  {
   "cell_type": "markdown",
   "id": "5ed2d4e7",
   "metadata": {},
   "source": [
    "## 1.3. Check NA"
   ]
  },
  {
   "cell_type": "markdown",
   "id": "3b2018f1",
   "metadata": {},
   "source": [
    "### 1.3.1. Check NA - Data Users"
   ]
  },
  {
   "cell_type": "code",
   "execution_count": 9,
   "id": "49097f87",
   "metadata": {
    "ExecuteTime": {
     "end_time": "2022-03-09T12:36:36.274240Z",
     "start_time": "2022-03-09T12:36:36.073455Z"
    },
    "cell_style": "split"
   },
   "outputs": [
    {
     "data": {
      "text/plain": [
       "id                              0\n",
       "date_account_created            0\n",
       "timestamp_first_active          0\n",
       "date_first_booking         124543\n",
       "gender                          0\n",
       "age                         87990\n",
       "signup_method                   0\n",
       "signup_flow                     0\n",
       "language                        0\n",
       "affiliate_channel               0\n",
       "affiliate_provider              0\n",
       "first_affiliate_tracked      6065\n",
       "signup_app                      0\n",
       "first_device_type               0\n",
       "first_browser                   0\n",
       "country_destination             0\n",
       "dtype: int64"
      ]
     },
     "execution_count": 9,
     "metadata": {},
     "output_type": "execute_result"
    }
   ],
   "source": [
    "df01_users.isna().sum()"
   ]
  },
  {
   "cell_type": "code",
   "execution_count": 10,
   "id": "c559b15b",
   "metadata": {
    "ExecuteTime": {
     "end_time": "2022-03-09T12:36:36.431239Z",
     "start_time": "2022-03-09T12:36:36.278241Z"
    },
    "cell_style": "split"
   },
   "outputs": [
    {
     "data": {
      "text/plain": [
       "id                         0.000000\n",
       "date_account_created       0.000000\n",
       "timestamp_first_active     0.000000\n",
       "date_first_booking         0.583473\n",
       "gender                     0.000000\n",
       "age                        0.412226\n",
       "signup_method              0.000000\n",
       "signup_flow                0.000000\n",
       "language                   0.000000\n",
       "affiliate_channel          0.000000\n",
       "affiliate_provider         0.000000\n",
       "first_affiliate_tracked    0.028414\n",
       "signup_app                 0.000000\n",
       "first_device_type          0.000000\n",
       "first_browser              0.000000\n",
       "country_destination        0.000000\n",
       "dtype: float64"
      ]
     },
     "execution_count": 10,
     "metadata": {},
     "output_type": "execute_result"
    }
   ],
   "source": [
    "df01_users.isna().sum()/df01_users.shape[0]"
   ]
  },
  {
   "cell_type": "markdown",
   "id": "2176ca0f",
   "metadata": {},
   "source": [
    "### 1.3.2. Check NA - Data Sessions"
   ]
  },
  {
   "cell_type": "code",
   "execution_count": 11,
   "id": "09c5347b",
   "metadata": {
    "ExecuteTime": {
     "end_time": "2022-03-09T12:36:38.958256Z",
     "start_time": "2022-03-09T12:36:36.436240Z"
    },
    "cell_style": "split"
   },
   "outputs": [
    {
     "data": {
      "text/plain": [
       "user_id            34496\n",
       "action             79626\n",
       "action_type      1126204\n",
       "action_detail    1126204\n",
       "device_type            0\n",
       "secs_elapsed      136031\n",
       "dtype: int64"
      ]
     },
     "execution_count": 11,
     "metadata": {},
     "output_type": "execute_result"
    }
   ],
   "source": [
    "df01_sessions.isna().sum()"
   ]
  },
  {
   "cell_type": "code",
   "execution_count": 12,
   "id": "55751da3",
   "metadata": {
    "ExecuteTime": {
     "end_time": "2022-03-09T12:36:43.307013Z",
     "start_time": "2022-03-09T12:36:38.963242Z"
    },
    "cell_style": "split"
   },
   "outputs": [
    {
     "data": {
      "text/plain": [
       "user_id          0.003264\n",
       "action           0.007535\n",
       "action_type      0.106570\n",
       "action_detail    0.106570\n",
       "device_type      0.000000\n",
       "secs_elapsed     0.012872\n",
       "dtype: float64"
      ]
     },
     "execution_count": 12,
     "metadata": {},
     "output_type": "execute_result"
    }
   ],
   "source": [
    "df01_sessions.isna().sum()/df01_sessions.shape[0]"
   ]
  },
  {
   "cell_type": "markdown",
   "id": "bd581316",
   "metadata": {},
   "source": [
    "## 1.4. Fillout NA"
   ]
  },
  {
   "cell_type": "markdown",
   "id": "02d2f026",
   "metadata": {},
   "source": [
    "### 1.4.1. Fillout NA - Data Users\n",
    "\n",
    "- **date_first_booking:** the maximum date of the dataset is chosen due to future features considered the space between dates.\n",
    "\n",
    "- **age:** variable age has a normal distribution, so replacing it with with a mean value will not bias the dataset.\n",
    "\n",
    "- **first_affiliate_tracked:** due to the high probability of bias the dataset with categorical data substitution and the low amount of NA datas in this variable, the NA lines will be dropped."
   ]
  },
  {
   "cell_type": "code",
   "execution_count": 13,
   "id": "17027a20",
   "metadata": {
    "ExecuteTime": {
     "end_time": "2022-03-09T12:36:43.811086Z",
     "start_time": "2022-03-09T12:36:43.315017Z"
    }
   },
   "outputs": [],
   "source": [
    "# date_first_booking\n",
    "max_date_first_booking = pd.to_datetime(df01_users['date_first_booking']).max().strftime('%Y-%m-%d')\n",
    "df01_users['date_first_booking'] = df01_users['date_first_booking'].fillna(max_date_first_booking)\n",
    "\n",
    "# age\n",
    "avg_age = int(df01_users['age'].mean())\n",
    "df01_users['age'] = df01_users['age'].fillna(avg_age)\n",
    "\n",
    "# first_affiliate_tracked\n",
    "df01_users = df01_users[~df01_users['first_affiliate_tracked'].isna()]"
   ]
  },
  {
   "cell_type": "code",
   "execution_count": 14,
   "id": "1e6bc1db",
   "metadata": {
    "ExecuteTime": {
     "end_time": "2022-03-09T12:36:44.078088Z",
     "start_time": "2022-03-09T12:36:43.817088Z"
    }
   },
   "outputs": [
    {
     "data": {
      "text/plain": [
       "id                         0.0\n",
       "date_account_created       0.0\n",
       "timestamp_first_active     0.0\n",
       "date_first_booking         0.0\n",
       "gender                     0.0\n",
       "age                        0.0\n",
       "signup_method              0.0\n",
       "signup_flow                0.0\n",
       "language                   0.0\n",
       "affiliate_channel          0.0\n",
       "affiliate_provider         0.0\n",
       "first_affiliate_tracked    0.0\n",
       "signup_app                 0.0\n",
       "first_device_type          0.0\n",
       "first_browser              0.0\n",
       "country_destination        0.0\n",
       "dtype: float64"
      ]
     },
     "execution_count": 14,
     "metadata": {},
     "output_type": "execute_result"
    }
   ],
   "source": [
    "df01_users.isna().sum()/df01_users.shape[0]"
   ]
  },
  {
   "cell_type": "markdown",
   "id": "8375bdfd",
   "metadata": {},
   "source": [
    "### 1.4.2. Fillout NA - Data Sessions\n",
    "\n",
    "Due to a massise amount of data, all NA lines will be dropped."
   ]
  },
  {
   "cell_type": "code",
   "execution_count": 15,
   "id": "97e5f525",
   "metadata": {
    "ExecuteTime": {
     "end_time": "2022-03-09T12:36:51.969838Z",
     "start_time": "2022-03-09T12:36:44.087089Z"
    }
   },
   "outputs": [],
   "source": [
    "# user_id  - 0.003264\n",
    "df01_sessions = df01_sessions[~df01_sessions['user_id'].isna()]\n",
    "\n",
    "# action - 0.007535\n",
    "df01_sessions = df01_sessions[~df01_sessions['action'].isna()]\n",
    "\n",
    "# action_type - 0.106570\n",
    "df01_sessions = df01_sessions[~df01_sessions['action_type'].isna()]\n",
    "\n",
    "# action_detail - 0.106570\n",
    "df01_sessions = df01_sessions[~df01_sessions['action_detail'].isna()]\n",
    "\n",
    "# secs_elapsed - 0.012872\n",
    "df01_sessions = df01_sessions[~df01_sessions['secs_elapsed'].isna()]"
   ]
  },
  {
   "cell_type": "code",
   "execution_count": 16,
   "id": "1b4ae28d",
   "metadata": {
    "ExecuteTime": {
     "end_time": "2022-03-09T12:36:53.819545Z",
     "start_time": "2022-03-09T12:36:51.972548Z"
    }
   },
   "outputs": [
    {
     "data": {
      "text/plain": [
       "user_id          0.0\n",
       "action           0.0\n",
       "action_type      0.0\n",
       "action_detail    0.0\n",
       "device_type      0.0\n",
       "secs_elapsed     0.0\n",
       "dtype: float64"
      ]
     },
     "execution_count": 16,
     "metadata": {},
     "output_type": "execute_result"
    }
   ],
   "source": [
    "df01_sessions.isna().sum()/df01_sessions.shape[0]"
   ]
  },
  {
   "cell_type": "markdown",
   "id": "7076ae4e",
   "metadata": {},
   "source": [
    "## 1.5. Change Data Type"
   ]
  },
  {
   "cell_type": "code",
   "execution_count": 17,
   "id": "793c65b7",
   "metadata": {
    "ExecuteTime": {
     "end_time": "2022-03-09T12:36:53.867581Z",
     "start_time": "2022-03-09T12:36:53.822545Z"
    }
   },
   "outputs": [
    {
     "data": {
      "text/html": [
       "<div>\n",
       "<style scoped>\n",
       "    .dataframe tbody tr th:only-of-type {\n",
       "        vertical-align: middle;\n",
       "    }\n",
       "\n",
       "    .dataframe tbody tr th {\n",
       "        vertical-align: top;\n",
       "    }\n",
       "\n",
       "    .dataframe thead th {\n",
       "        text-align: right;\n",
       "    }\n",
       "</style>\n",
       "<table border=\"1\" class=\"dataframe\">\n",
       "  <thead>\n",
       "    <tr style=\"text-align: right;\">\n",
       "      <th></th>\n",
       "      <th>id</th>\n",
       "      <th>date_account_created</th>\n",
       "      <th>timestamp_first_active</th>\n",
       "      <th>date_first_booking</th>\n",
       "      <th>gender</th>\n",
       "      <th>age</th>\n",
       "      <th>signup_method</th>\n",
       "      <th>signup_flow</th>\n",
       "      <th>language</th>\n",
       "      <th>affiliate_channel</th>\n",
       "      <th>affiliate_provider</th>\n",
       "      <th>first_affiliate_tracked</th>\n",
       "      <th>signup_app</th>\n",
       "      <th>first_device_type</th>\n",
       "      <th>first_browser</th>\n",
       "      <th>country_destination</th>\n",
       "    </tr>\n",
       "  </thead>\n",
       "  <tbody>\n",
       "    <tr>\n",
       "      <th>100130</th>\n",
       "      <td>d9w7hmnrq3</td>\n",
       "      <td>2013-08-17</td>\n",
       "      <td>20130817165618</td>\n",
       "      <td>2015-06-29</td>\n",
       "      <td>-unknown-</td>\n",
       "      <td>49.0</td>\n",
       "      <td>basic</td>\n",
       "      <td>0</td>\n",
       "      <td>en</td>\n",
       "      <td>direct</td>\n",
       "      <td>direct</td>\n",
       "      <td>linked</td>\n",
       "      <td>Web</td>\n",
       "      <td>Windows Desktop</td>\n",
       "      <td>Chrome</td>\n",
       "      <td>NDF</td>\n",
       "    </tr>\n",
       "  </tbody>\n",
       "</table>\n",
       "</div>"
      ],
      "text/plain": [
       "                id date_account_created  timestamp_first_active  \\\n",
       "100130  d9w7hmnrq3           2013-08-17          20130817165618   \n",
       "\n",
       "       date_first_booking     gender   age signup_method  signup_flow  \\\n",
       "100130         2015-06-29  -unknown-  49.0         basic            0   \n",
       "\n",
       "       language affiliate_channel affiliate_provider first_affiliate_tracked  \\\n",
       "100130       en            direct             direct                  linked   \n",
       "\n",
       "       signup_app first_device_type first_browser country_destination  \n",
       "100130        Web   Windows Desktop        Chrome                 NDF  "
      ]
     },
     "execution_count": 17,
     "metadata": {},
     "output_type": "execute_result"
    }
   ],
   "source": [
    "df01_users.sample(1)"
   ]
  },
  {
   "cell_type": "code",
   "execution_count": 18,
   "id": "d76d383f",
   "metadata": {
    "ExecuteTime": {
     "end_time": "2022-03-09T12:36:54.889261Z",
     "start_time": "2022-03-09T12:36:53.870543Z"
    }
   },
   "outputs": [],
   "source": [
    "# change date type\n",
    "df01_users['date_account_created'] = pd.to_datetime(df01_users['date_account_created'])\n",
    "df01_users['date_first_booking'] = pd.to_datetime(df01_users['date_first_booking'])\n",
    "\n",
    "# change datetime type\n",
    "df01_users['timestamp_first_active'] = pd.to_datetime(df01_users['timestamp_first_active'], format='%Y%m%d%H%M%S')\n",
    "\n",
    "# change age to int\n",
    "df01_users['age'] = df01_users['age'].astype(np.int64)"
   ]
  },
  {
   "cell_type": "code",
   "execution_count": 19,
   "id": "505514d3",
   "metadata": {
    "ExecuteTime": {
     "end_time": "2022-03-09T12:36:54.936732Z",
     "start_time": "2022-03-09T12:36:54.891941Z"
    }
   },
   "outputs": [
    {
     "data": {
      "text/html": [
       "<div>\n",
       "<style scoped>\n",
       "    .dataframe tbody tr th:only-of-type {\n",
       "        vertical-align: middle;\n",
       "    }\n",
       "\n",
       "    .dataframe tbody tr th {\n",
       "        vertical-align: top;\n",
       "    }\n",
       "\n",
       "    .dataframe thead th {\n",
       "        text-align: right;\n",
       "    }\n",
       "</style>\n",
       "<table border=\"1\" class=\"dataframe\">\n",
       "  <thead>\n",
       "    <tr style=\"text-align: right;\">\n",
       "      <th></th>\n",
       "      <th>id</th>\n",
       "      <th>date_account_created</th>\n",
       "      <th>timestamp_first_active</th>\n",
       "      <th>date_first_booking</th>\n",
       "      <th>gender</th>\n",
       "      <th>age</th>\n",
       "      <th>signup_method</th>\n",
       "      <th>signup_flow</th>\n",
       "      <th>language</th>\n",
       "      <th>affiliate_channel</th>\n",
       "      <th>affiliate_provider</th>\n",
       "      <th>first_affiliate_tracked</th>\n",
       "      <th>signup_app</th>\n",
       "      <th>first_device_type</th>\n",
       "      <th>first_browser</th>\n",
       "      <th>country_destination</th>\n",
       "    </tr>\n",
       "  </thead>\n",
       "  <tbody>\n",
       "    <tr>\n",
       "      <th>32529</th>\n",
       "      <td>9qpfq8nf04</td>\n",
       "      <td>2012-07-18</td>\n",
       "      <td>2012-07-18 07:22:19</td>\n",
       "      <td>2012-07-19</td>\n",
       "      <td>FEMALE</td>\n",
       "      <td>33</td>\n",
       "      <td>facebook</td>\n",
       "      <td>0</td>\n",
       "      <td>en</td>\n",
       "      <td>direct</td>\n",
       "      <td>direct</td>\n",
       "      <td>untracked</td>\n",
       "      <td>Web</td>\n",
       "      <td>Mac Desktop</td>\n",
       "      <td>Chrome</td>\n",
       "      <td>US</td>\n",
       "    </tr>\n",
       "  </tbody>\n",
       "</table>\n",
       "</div>"
      ],
      "text/plain": [
       "               id date_account_created timestamp_first_active  \\\n",
       "32529  9qpfq8nf04           2012-07-18    2012-07-18 07:22:19   \n",
       "\n",
       "      date_first_booking  gender  age signup_method  signup_flow language  \\\n",
       "32529         2012-07-19  FEMALE   33      facebook            0       en   \n",
       "\n",
       "      affiliate_channel affiliate_provider first_affiliate_tracked signup_app  \\\n",
       "32529            direct             direct               untracked        Web   \n",
       "\n",
       "      first_device_type first_browser country_destination  \n",
       "32529       Mac Desktop        Chrome                  US  "
      ]
     },
     "execution_count": 19,
     "metadata": {},
     "output_type": "execute_result"
    }
   ],
   "source": [
    "df01_users.sample(1)"
   ]
  },
  {
   "cell_type": "code",
   "execution_count": 20,
   "id": "e7b73c50",
   "metadata": {
    "ExecuteTime": {
     "end_time": "2022-03-09T12:36:54.952695Z",
     "start_time": "2022-03-09T12:36:54.940688Z"
    }
   },
   "outputs": [
    {
     "data": {
      "text/plain": [
       "id                                 object\n",
       "date_account_created       datetime64[ns]\n",
       "timestamp_first_active     datetime64[ns]\n",
       "date_first_booking         datetime64[ns]\n",
       "gender                             object\n",
       "age                                 int64\n",
       "signup_method                      object\n",
       "signup_flow                         int64\n",
       "language                           object\n",
       "affiliate_channel                  object\n",
       "affiliate_provider                 object\n",
       "first_affiliate_tracked            object\n",
       "signup_app                         object\n",
       "first_device_type                  object\n",
       "first_browser                      object\n",
       "country_destination                object\n",
       "dtype: object"
      ]
     },
     "execution_count": 20,
     "metadata": {},
     "output_type": "execute_result"
    }
   ],
   "source": [
    "df01_users.dtypes"
   ]
  },
  {
   "cell_type": "markdown",
   "id": "b4774540",
   "metadata": {},
   "source": [
    "## 1.6. Check Balanced Data\n",
    "\n",
    "Data with an unbalance of 57% for the NDF class and 30% for the US class."
   ]
  },
  {
   "cell_type": "code",
   "execution_count": 21,
   "id": "8f5cdc46",
   "metadata": {
    "ExecuteTime": {
     "end_time": "2022-03-09T12:36:54.984686Z",
     "start_time": "2022-03-09T12:36:54.956694Z"
    }
   },
   "outputs": [
    {
     "data": {
      "text/plain": [
       "NDF      0.579673\n",
       "US       0.294461\n",
       "other    0.048128\n",
       "FR       0.023623\n",
       "IT       0.013458\n",
       "GB       0.011066\n",
       "ES       0.010671\n",
       "CA       0.006707\n",
       "DE       0.005020\n",
       "NL       0.003621\n",
       "AU       0.002541\n",
       "PT       0.001032\n",
       "Name: country_destination, dtype: float64"
      ]
     },
     "execution_count": 21,
     "metadata": {},
     "output_type": "execute_result"
    }
   ],
   "source": [
    "df01_users['country_destination'].value_counts(normalize=True)"
   ]
  },
  {
   "cell_type": "markdown",
   "id": "9e2a67ae",
   "metadata": {},
   "source": [
    "## 1.7. Descriptive Analysis"
   ]
  },
  {
   "cell_type": "code",
   "execution_count": 22,
   "id": "8f66c9c6",
   "metadata": {
    "ExecuteTime": {
     "end_time": "2022-03-09T12:36:55.414636Z",
     "start_time": "2022-03-09T12:36:54.987695Z"
    }
   },
   "outputs": [],
   "source": [
    "# split data users in types dataframes\n",
    "num_attributes_users = df01_users.select_dtypes(include=['int64', 'float64'])\n",
    "cat_attributes_users = df01_users.select_dtypes(exclude=['int64', 'float64', 'datetime64[ns]'])\n",
    "time_attributes_users = df01_users.select_dtypes(include=['datetime64[ns]'])\n",
    "\n",
    "# split data sessions in types dataframes\n",
    "num_attributes_sessions = df01_sessions.select_dtypes(include=['int64', 'float64'])\n",
    "cat_attributes_sessions = df01_sessions.select_dtypes(exclude=['int64', 'float64', 'datetime64[ns]'])\n",
    "time_attributes_sessions = df01_sessions.select_dtypes(include=['datetime64[ns]'])"
   ]
  },
  {
   "cell_type": "markdown",
   "id": "4eb6a6b6",
   "metadata": {},
   "source": [
    "### 1.7.1. Numerical - Data Users"
   ]
  },
  {
   "cell_type": "code",
   "execution_count": 23,
   "id": "ba4046ec",
   "metadata": {
    "ExecuteTime": {
     "end_time": "2022-03-09T12:36:55.508755Z",
     "start_time": "2022-03-09T12:36:55.424678Z"
    }
   },
   "outputs": [
    {
     "data": {
      "text/html": [
       "<div>\n",
       "<style scoped>\n",
       "    .dataframe tbody tr th:only-of-type {\n",
       "        vertical-align: middle;\n",
       "    }\n",
       "\n",
       "    .dataframe tbody tr th {\n",
       "        vertical-align: top;\n",
       "    }\n",
       "\n",
       "    .dataframe thead th {\n",
       "        text-align: right;\n",
       "    }\n",
       "</style>\n",
       "<table border=\"1\" class=\"dataframe\">\n",
       "  <thead>\n",
       "    <tr style=\"text-align: right;\">\n",
       "      <th></th>\n",
       "      <th>attributes</th>\n",
       "      <th>max</th>\n",
       "      <th>min</th>\n",
       "      <th>range</th>\n",
       "      <th>mean</th>\n",
       "      <th>median</th>\n",
       "      <th>std</th>\n",
       "      <th>skew</th>\n",
       "      <th>kurtosis</th>\n",
       "    </tr>\n",
       "  </thead>\n",
       "  <tbody>\n",
       "    <tr>\n",
       "      <th>0</th>\n",
       "      <td>age</td>\n",
       "      <td>2014</td>\n",
       "      <td>1</td>\n",
       "      <td>2013</td>\n",
       "      <td>49.183142</td>\n",
       "      <td>49.0</td>\n",
       "      <td>118.421689</td>\n",
       "      <td>16.333820</td>\n",
       "      <td>267.655434</td>\n",
       "    </tr>\n",
       "    <tr>\n",
       "      <th>1</th>\n",
       "      <td>signup_flow</td>\n",
       "      <td>25</td>\n",
       "      <td>0</td>\n",
       "      <td>25</td>\n",
       "      <td>3.151490</td>\n",
       "      <td>0.0</td>\n",
       "      <td>7.543915</td>\n",
       "      <td>2.287158</td>\n",
       "      <td>3.567794</td>\n",
       "    </tr>\n",
       "  </tbody>\n",
       "</table>\n",
       "</div>"
      ],
      "text/plain": [
       "    attributes   max  min  range       mean  median         std       skew  \\\n",
       "0          age  2014    1   2013  49.183142    49.0  118.421689  16.333820   \n",
       "1  signup_flow    25    0     25   3.151490     0.0    7.543915   2.287158   \n",
       "\n",
       "     kurtosis  \n",
       "0  267.655434  \n",
       "1    3.567794  "
      ]
     },
     "execution_count": 23,
     "metadata": {},
     "output_type": "execute_result"
    }
   ],
   "source": [
    "# tendency central - mean and median\n",
    "mean_users = pd.DataFrame(num_attributes_users.apply(lambda x: np.mean(x)))\n",
    "median_users = pd.DataFrame(num_attributes_users.apply(lambda x: np.median(x)))\n",
    "\n",
    "# dispersions - max, min, range, std, skew and kurtosis\n",
    "max_users = pd.DataFrame(num_attributes_users.apply(lambda x: x.max()))\n",
    "min_users = pd.DataFrame(num_attributes_users.apply(lambda x: x.min()))\n",
    "range_users = pd.DataFrame(num_attributes_users.apply(lambda x: x.max() - x.min()))\n",
    "std_users = pd.DataFrame(num_attributes_users.apply(lambda x: np.std(x)))\n",
    "skew_users = pd.DataFrame(num_attributes_users.apply(lambda x: x.skew()))\n",
    "kurtosis_users = pd.DataFrame(num_attributes_users.apply(lambda x: x.kurtosis()))\n",
    "\n",
    "# join tendency central and dispersion dataframe\n",
    "num_stats_users = pd.concat([max_users, min_users, range_users, mean_users, \n",
    "                             median_users, std_users, skew_users, kurtosis_users], axis=1).reset_index()\n",
    "num_stats_users.columns = ['attributes', 'max', 'min', 'range', 'mean', 'median', 'std', 'skew', 'kurtosis']\n",
    "\n",
    "num_stats_users"
   ]
  },
  {
   "cell_type": "markdown",
   "id": "956e8434",
   "metadata": {},
   "source": [
    "### 1.7.2. Numerical - Data Sessions"
   ]
  },
  {
   "cell_type": "code",
   "execution_count": 24,
   "id": "3c46dd63",
   "metadata": {
    "ExecuteTime": {
     "end_time": "2022-03-09T12:36:56.530352Z",
     "start_time": "2022-03-09T12:36:55.511759Z"
    }
   },
   "outputs": [
    {
     "data": {
      "text/html": [
       "<div>\n",
       "<style scoped>\n",
       "    .dataframe tbody tr th:only-of-type {\n",
       "        vertical-align: middle;\n",
       "    }\n",
       "\n",
       "    .dataframe tbody tr th {\n",
       "        vertical-align: top;\n",
       "    }\n",
       "\n",
       "    .dataframe thead th {\n",
       "        text-align: right;\n",
       "    }\n",
       "</style>\n",
       "<table border=\"1\" class=\"dataframe\">\n",
       "  <thead>\n",
       "    <tr style=\"text-align: right;\">\n",
       "      <th></th>\n",
       "      <th>attributes</th>\n",
       "      <th>max</th>\n",
       "      <th>min</th>\n",
       "      <th>range</th>\n",
       "      <th>mean</th>\n",
       "      <th>median</th>\n",
       "      <th>std</th>\n",
       "      <th>skew</th>\n",
       "      <th>kurtosis</th>\n",
       "    </tr>\n",
       "  </thead>\n",
       "  <tbody>\n",
       "    <tr>\n",
       "      <th>0</th>\n",
       "      <td>secs_elapsed</td>\n",
       "      <td>1799977.0</td>\n",
       "      <td>0.0</td>\n",
       "      <td>1799977.0</td>\n",
       "      <td>19961.8251</td>\n",
       "      <td>1369.0</td>\n",
       "      <td>88849.388449</td>\n",
       "      <td>11.137761</td>\n",
       "      <td>154.84312</td>\n",
       "    </tr>\n",
       "  </tbody>\n",
       "</table>\n",
       "</div>"
      ],
      "text/plain": [
       "     attributes        max  min      range        mean  median           std  \\\n",
       "0  secs_elapsed  1799977.0  0.0  1799977.0  19961.8251  1369.0  88849.388449   \n",
       "\n",
       "        skew   kurtosis  \n",
       "0  11.137761  154.84312  "
      ]
     },
     "execution_count": 24,
     "metadata": {},
     "output_type": "execute_result"
    }
   ],
   "source": [
    "# tendency central - mean and median\n",
    "mean_sessions = pd.DataFrame(num_attributes_sessions.apply(lambda x: np.mean(x)))\n",
    "median_sessions = pd.DataFrame(num_attributes_sessions.apply(lambda x: np.median(x)))\n",
    "\n",
    "# dispersions - max, min, range, std, skew and kurtosis\n",
    "max_sessions = pd.DataFrame(num_attributes_sessions.apply(lambda x: x.max()))\n",
    "min_sessions = pd.DataFrame(num_attributes_sessions.apply(lambda x: x.min()))\n",
    "range_sessions = pd.DataFrame(num_attributes_sessions.apply(lambda x: x.max() - x.min()))\n",
    "std_sessions = pd.DataFrame(num_attributes_sessions.apply(lambda x: np.std(x)))\n",
    "skew_sessions = pd.DataFrame(num_attributes_sessions.apply(lambda x: x.skew()))\n",
    "kurtosis_sessions = pd.DataFrame(num_attributes_sessions.apply(lambda x: x.kurtosis()))\n",
    "\n",
    "# join tendency central and dispersion dataframe\n",
    "num_stats_sessions = pd.concat([max_sessions, min_sessions, range_sessions, mean_sessions, \n",
    "                             median_sessions, std_sessions, skew_sessions, kurtosis_sessions], axis=1).reset_index()\n",
    "num_stats_sessions.columns = ['attributes', 'max', 'min', 'range', 'mean', 'median', 'std', 'skew', 'kurtosis']\n",
    "\n",
    "num_stats_sessions"
   ]
  },
  {
   "cell_type": "markdown",
   "id": "ce2d77df",
   "metadata": {},
   "source": [
    "### 1.7.3. Categorical - Data Users"
   ]
  },
  {
   "cell_type": "code",
   "execution_count": 25,
   "id": "a475bb0a",
   "metadata": {
    "ExecuteTime": {
     "end_time": "2022-03-09T12:36:56.895687Z",
     "start_time": "2022-03-09T12:36:56.534090Z"
    }
   },
   "outputs": [
    {
     "data": {
      "text/html": [
       "<div>\n",
       "<style scoped>\n",
       "    .dataframe tbody tr th:only-of-type {\n",
       "        vertical-align: middle;\n",
       "    }\n",
       "\n",
       "    .dataframe tbody tr th {\n",
       "        vertical-align: top;\n",
       "    }\n",
       "\n",
       "    .dataframe thead th {\n",
       "        text-align: right;\n",
       "    }\n",
       "</style>\n",
       "<table border=\"1\" class=\"dataframe\">\n",
       "  <thead>\n",
       "    <tr style=\"text-align: right;\">\n",
       "      <th></th>\n",
       "      <th>gender</th>\n",
       "      <th>signup_method</th>\n",
       "      <th>language</th>\n",
       "      <th>affiliate_channel</th>\n",
       "      <th>affiliate_provider</th>\n",
       "      <th>first_affiliate_tracked</th>\n",
       "      <th>signup_app</th>\n",
       "      <th>first_device_type</th>\n",
       "      <th>first_browser</th>\n",
       "      <th>country_destination</th>\n",
       "    </tr>\n",
       "  </thead>\n",
       "  <tbody>\n",
       "    <tr>\n",
       "      <th>count</th>\n",
       "      <td>207386</td>\n",
       "      <td>207386</td>\n",
       "      <td>207386</td>\n",
       "      <td>207386</td>\n",
       "      <td>207386</td>\n",
       "      <td>207386</td>\n",
       "      <td>207386</td>\n",
       "      <td>207386</td>\n",
       "      <td>207386</td>\n",
       "      <td>207386</td>\n",
       "    </tr>\n",
       "    <tr>\n",
       "      <th>unique</th>\n",
       "      <td>4</td>\n",
       "      <td>3</td>\n",
       "      <td>25</td>\n",
       "      <td>8</td>\n",
       "      <td>18</td>\n",
       "      <td>7</td>\n",
       "      <td>4</td>\n",
       "      <td>9</td>\n",
       "      <td>52</td>\n",
       "      <td>12</td>\n",
       "    </tr>\n",
       "    <tr>\n",
       "      <th>top</th>\n",
       "      <td>-unknown-</td>\n",
       "      <td>basic</td>\n",
       "      <td>en</td>\n",
       "      <td>direct</td>\n",
       "      <td>direct</td>\n",
       "      <td>untracked</td>\n",
       "      <td>Web</td>\n",
       "      <td>Mac Desktop</td>\n",
       "      <td>Chrome</td>\n",
       "      <td>NDF</td>\n",
       "    </tr>\n",
       "    <tr>\n",
       "      <th>freq</th>\n",
       "      <td>91783</td>\n",
       "      <td>148297</td>\n",
       "      <td>200415</td>\n",
       "      <td>134179</td>\n",
       "      <td>133935</td>\n",
       "      <td>109232</td>\n",
       "      <td>178334</td>\n",
       "      <td>89600</td>\n",
       "      <td>63845</td>\n",
       "      <td>120216</td>\n",
       "    </tr>\n",
       "  </tbody>\n",
       "</table>\n",
       "</div>"
      ],
      "text/plain": [
       "           gender signup_method language affiliate_channel affiliate_provider  \\\n",
       "count      207386        207386   207386            207386             207386   \n",
       "unique          4             3       25                 8                 18   \n",
       "top     -unknown-         basic       en            direct             direct   \n",
       "freq        91783        148297   200415            134179             133935   \n",
       "\n",
       "       first_affiliate_tracked signup_app first_device_type first_browser  \\\n",
       "count                   207386     207386            207386        207386   \n",
       "unique                       7          4                 9            52   \n",
       "top                  untracked        Web       Mac Desktop        Chrome   \n",
       "freq                    109232     178334             89600         63845   \n",
       "\n",
       "       country_destination  \n",
       "count               207386  \n",
       "unique                  12  \n",
       "top                    NDF  \n",
       "freq                120216  "
      ]
     },
     "execution_count": 25,
     "metadata": {},
     "output_type": "execute_result"
    }
   ],
   "source": [
    "cat_attributes_users.drop('id', axis=1).describe()"
   ]
  },
  {
   "cell_type": "markdown",
   "id": "89a04077",
   "metadata": {},
   "source": [
    "#### 1.7.3.1. Correlation Matrix"
   ]
  },
  {
   "cell_type": "code",
   "execution_count": 26,
   "id": "7d49a42d",
   "metadata": {
    "ExecuteTime": {
     "end_time": "2022-03-09T12:37:08.167770Z",
     "start_time": "2022-03-09T12:36:56.899687Z"
    }
   },
   "outputs": [
    {
     "data": {
      "image/png": "[encoded data removed]",
      "text/plain": [
       "<Figure size 432x288 with 2 Axes>"
      ]
     },
     "metadata": {
      "needs_background": "light"
     },
     "output_type": "display_data"
    }
   ],
   "source": [
    "cat_attributes_users_columns = cat_attributes_users.drop('id', axis=1).columns.tolist()\n",
    "\n",
    "corr_dict = {}\n",
    "\n",
    "for main_column in cat_attributes_users_columns:\n",
    "    corr_list = []\n",
    "    \n",
    "    for secondary_column in cat_attributes_users_columns:\n",
    "        # cramer v\n",
    "        cat_corr = cramer_v( cat_attributes_users[main_column], cat_attributes_users[secondary_column] )\n",
    "        \n",
    "        # add to list\n",
    "        corr_list.append(cat_corr)\n",
    "    \n",
    "    # add to dict each attribute correlation \n",
    "    corr_dict[main_column] = corr_list\n",
    "\n",
    "df_corr_users = pd.DataFrame(corr_dict)\n",
    "df_corr_users = df_corr_users.set_index(df_corr_users.columns)\n",
    "sns.heatmap(df_corr_users, annot=True);"
   ]
  },
  {
   "cell_type": "markdown",
   "id": "ef0bfe3a",
   "metadata": {
    "ExecuteTime": {
     "end_time": "2022-03-02T14:41:15.919764Z",
     "start_time": "2022-03-02T14:41:15.909769Z"
    }
   },
   "source": [
    "### 1.7.4. Categorical - Data Sessions"
   ]
  },
  {
   "cell_type": "code",
   "execution_count": 27,
   "id": "cb30c4f7",
   "metadata": {
    "ExecuteTime": {
     "end_time": "2022-03-09T12:37:13.938820Z",
     "start_time": "2022-03-09T12:37:08.170774Z"
    },
    "scrolled": false
   },
   "outputs": [
    {
     "data": {
      "text/html": [
       "<div>\n",
       "<style scoped>\n",
       "    .dataframe tbody tr th:only-of-type {\n",
       "        vertical-align: middle;\n",
       "    }\n",
       "\n",
       "    .dataframe tbody tr th {\n",
       "        vertical-align: top;\n",
       "    }\n",
       "\n",
       "    .dataframe thead th {\n",
       "        text-align: right;\n",
       "    }\n",
       "</style>\n",
       "<table border=\"1\" class=\"dataframe\">\n",
       "  <thead>\n",
       "    <tr style=\"text-align: right;\">\n",
       "      <th></th>\n",
       "      <th>action</th>\n",
       "      <th>action_type</th>\n",
       "      <th>action_detail</th>\n",
       "      <th>device_type</th>\n",
       "    </tr>\n",
       "  </thead>\n",
       "  <tbody>\n",
       "    <tr>\n",
       "      <th>count</th>\n",
       "      <td>9213930</td>\n",
       "      <td>9213930</td>\n",
       "      <td>9213930</td>\n",
       "      <td>9213930</td>\n",
       "    </tr>\n",
       "    <tr>\n",
       "      <th>unique</th>\n",
       "      <td>347</td>\n",
       "      <td>10</td>\n",
       "      <td>155</td>\n",
       "      <td>14</td>\n",
       "    </tr>\n",
       "    <tr>\n",
       "      <th>top</th>\n",
       "      <td>show</td>\n",
       "      <td>view</td>\n",
       "      <td>view_search_results</td>\n",
       "      <td>Mac Desktop</td>\n",
       "    </tr>\n",
       "    <tr>\n",
       "      <th>freq</th>\n",
       "      <td>2178382</td>\n",
       "      <td>3545621</td>\n",
       "      <td>1770931</td>\n",
       "      <td>3019523</td>\n",
       "    </tr>\n",
       "  </tbody>\n",
       "</table>\n",
       "</div>"
      ],
      "text/plain": [
       "         action action_type        action_detail  device_type\n",
       "count   9213930     9213930              9213930      9213930\n",
       "unique      347          10                  155           14\n",
       "top        show        view  view_search_results  Mac Desktop\n",
       "freq    2178382     3545621              1770931      3019523"
      ]
     },
     "execution_count": 27,
     "metadata": {},
     "output_type": "execute_result"
    }
   ],
   "source": [
    "cat_attributes_sessions.drop('user_id', axis=1).describe()"
   ]
  },
  {
   "cell_type": "markdown",
   "id": "13f4914d",
   "metadata": {},
   "source": [
    "#### 1.7.4.1. Correlation Matrix"
   ]
  },
  {
   "cell_type": "code",
   "execution_count": 28,
   "id": "3e1e88ee",
   "metadata": {
    "ExecuteTime": {
     "end_time": "2022-03-09T12:38:00.922992Z",
     "start_time": "2022-03-09T12:37:13.942831Z"
    }
   },
   "outputs": [
    {
     "data": {
      "image/png": "[encoded data removed]",
      "text/plain": [
       "<Figure size 432x288 with 2 Axes>"
      ]
     },
     "metadata": {
      "needs_background": "light"
     },
     "output_type": "display_data"
    }
   ],
   "source": [
    "cat_attributes_sessions_columns = cat_attributes_sessions.drop('user_id', axis=1).columns.tolist()\n",
    "\n",
    "corr_dict = {}\n",
    "\n",
    "for main_column in cat_attributes_sessions_columns:\n",
    "    corr_list = []\n",
    "    \n",
    "    for secondary_column in cat_attributes_sessions_columns:\n",
    "        # cramer v\n",
    "        cat_corr = cramer_v( cat_attributes_sessions[main_column], cat_attributes_sessions[secondary_column] )\n",
    "        \n",
    "        # add to list\n",
    "        corr_list.append(cat_corr)\n",
    "    \n",
    "    # add to dict each attribute correlation \n",
    "    corr_dict[main_column] = corr_list\n",
    "\n",
    "df_corr_sessions = pd.DataFrame(corr_dict)\n",
    "df_corr_sessions = df_corr_sessions.set_index(df_corr_sessions.columns)\n",
    "sns.heatmap(df_corr_sessions, annot=True);"
   ]
  },
  {
   "cell_type": "markdown",
   "id": "bbe57720",
   "metadata": {},
   "source": [
    "# 2.0. Feature Engineering"
   ]
  },
  {
   "cell_type": "code",
   "execution_count": 29,
   "id": "f64c4deb",
   "metadata": {
    "ExecuteTime": {
     "end_time": "2022-03-09T12:38:00.955014Z",
     "start_time": "2022-03-09T12:38:00.925995Z"
    }
   },
   "outputs": [],
   "source": [
    "df02_users = df01_users.copy()"
   ]
  },
  {
   "cell_type": "code",
   "execution_count": 30,
   "id": "7c1b558c",
   "metadata": {
    "ExecuteTime": {
     "end_time": "2022-03-09T12:38:01.785474Z",
     "start_time": "2022-03-09T12:38:00.962053Z"
    }
   },
   "outputs": [
    {
     "data": {
      "text/plain": [
       "(207386, 16)"
      ]
     },
     "execution_count": 30,
     "metadata": {},
     "output_type": "execute_result"
    }
   ],
   "source": [
    "df02_users.shape"
   ]
  },
  {
   "cell_type": "markdown",
   "id": "4cc87547",
   "metadata": {},
   "source": [
    "## 2.1. Create Gap Between Dates Features"
   ]
  },
  {
   "cell_type": "code",
   "execution_count": 31,
   "id": "bde69aeb",
   "metadata": {
    "ExecuteTime": {
     "end_time": "2022-03-09T12:38:14.064734Z",
     "start_time": "2022-03-09T12:38:01.788463Z"
    }
   },
   "outputs": [],
   "source": [
    "# date of first active\n",
    "df02_users['date_first_active'] = pd.to_datetime(df02_users['timestamp_first_active'].dt.strftime(\"%Y-%m-%d\"))\n",
    "\n",
    "# difference in days between date_account_created and date_first_active\n",
    "df02_users['diff_account_created_first_active'] = (df02_users['date_account_created'] - df02_users['date_first_active']).apply(lambda x: x.days)\n",
    "\n",
    "# difference in days between date_account_created and date_first_booking\n",
    "df02_users['diff_first_booking_account_created'] = (df02_users['date_first_booking'] - df02_users['date_account_created']).apply(lambda x: x.days)\n",
    "\n",
    "# difference in days between date_first_active and date_first_booking\n",
    "df02_users['diff_first_active_first_booking'] = (df02_users['date_first_booking'] - df02_users['date_first_active']).apply(lambda x: x.days)"
   ]
  },
  {
   "cell_type": "markdown",
   "id": "e5f02587",
   "metadata": {
    "ExecuteTime": {
     "end_time": "2022-03-02T15:58:55.212964Z",
     "start_time": "2022-03-02T15:58:55.204965Z"
    }
   },
   "source": [
    "## 2.2. Create Date Features"
   ]
  },
  {
   "cell_type": "markdown",
   "id": "add9d20f",
   "metadata": {},
   "source": [
    "### 2.2.1. Account Created"
   ]
  },
  {
   "cell_type": "code",
   "execution_count": 32,
   "id": "7ada9a20",
   "metadata": {
    "ExecuteTime": {
     "end_time": "2022-03-09T12:38:15.071990Z",
     "start_time": "2022-03-09T12:38:14.069755Z"
    }
   },
   "outputs": [],
   "source": [
    "# year\n",
    "df02_users['year_account_created'] = df02_users['date_account_created'].dt.year\n",
    "\n",
    "# month\n",
    "df02_users['month_account_created'] = df02_users['date_account_created'].dt.month\n",
    "\n",
    "# day\n",
    "df02_users['day_account_created'] = df02_users['date_account_created'].dt.day\n",
    "\n",
    "# day of week\n",
    "df02_users['dayofweek_account_created'] = df02_users['date_account_created'].dt.dayofweek\n",
    "\n",
    "# week of year\n",
    "df02_users['weekofyear_account_created'] = df02_users['date_account_created'].dt.weekofyear"
   ]
  },
  {
   "cell_type": "markdown",
   "id": "db245cbb",
   "metadata": {},
   "source": [
    "### 2.2.2. First Active"
   ]
  },
  {
   "cell_type": "code",
   "execution_count": 33,
   "id": "55143c04",
   "metadata": {
    "ExecuteTime": {
     "end_time": "2022-03-09T12:38:15.198996Z",
     "start_time": "2022-03-09T12:38:15.074719Z"
    }
   },
   "outputs": [],
   "source": [
    "# year\n",
    "df02_users['year_first_active'] = df02_users['date_first_active'].dt.year\n",
    "\n",
    "# month\n",
    "df02_users['month_first_active'] = df02_users['date_first_active'].dt.month\n",
    "\n",
    "# day\n",
    "df02_users['day_first_active'] = df02_users['date_first_active'].dt.day\n",
    "\n",
    "# day of week\n",
    "df02_users['dayofweek_first_active'] = df02_users['date_first_active'].dt.dayofweek\n",
    "\n",
    "# week of year\n",
    "df02_users['weekofyear_first_active'] = df02_users['date_first_active'].dt.weekofyear"
   ]
  },
  {
   "cell_type": "markdown",
   "id": "603026d2",
   "metadata": {},
   "source": [
    "### 2.2.3. First Booking"
   ]
  },
  {
   "cell_type": "code",
   "execution_count": 34,
   "id": "91800913",
   "metadata": {
    "ExecuteTime": {
     "end_time": "2022-03-09T12:38:15.341483Z",
     "start_time": "2022-03-09T12:38:15.201715Z"
    }
   },
   "outputs": [],
   "source": [
    "# year\n",
    "df02_users['year_first_booking'] = df02_users['date_first_booking'].dt.year\n",
    "\n",
    "# month\n",
    "df02_users['month_first_booking'] = df02_users['date_first_booking'].dt.month\n",
    "\n",
    "# day\n",
    "df02_users['day_first_booking'] = df02_users['date_first_booking'].dt.day\n",
    "\n",
    "# day of week\n",
    "df02_users['dayofweek_first_booking'] = df02_users['date_first_booking'].dt.dayofweek\n",
    "\n",
    "# week of year\n",
    "df02_users['weekofyear_first_booking'] = df02_users['date_first_booking'].dt.weekofyear"
   ]
  },
  {
   "cell_type": "markdown",
   "id": "b0f5b037",
   "metadata": {},
   "source": [
    "# 3.0. Data Filtering"
   ]
  },
  {
   "cell_type": "code",
   "execution_count": 35,
   "id": "26b87f66",
   "metadata": {
    "ExecuteTime": {
     "end_time": "2022-03-09T12:38:15.404485Z",
     "start_time": "2022-03-09T12:38:15.346489Z"
    }
   },
   "outputs": [],
   "source": [
    "df03_users = df02_users.copy()"
   ]
  },
  {
   "cell_type": "markdown",
   "id": "80d07e8f",
   "metadata": {},
   "source": [
    "## 3.1. Filtering Rows"
   ]
  },
  {
   "cell_type": "code",
   "execution_count": 36,
   "id": "6221dc16",
   "metadata": {
    "ExecuteTime": {
     "end_time": "2022-03-09T12:38:15.532483Z",
     "start_time": "2022-03-09T12:38:15.408487Z"
    }
   },
   "outputs": [],
   "source": [
    "# age - greater than 15 and lower than 120 - There are few people over 120 years old ( Could be error from system or manual imput - Cleaning noise)\n",
    "df03_users = df03_users[(df03_users['age'] > 15) & (df03_users['age'] < 120)]\n",
    "\n",
    "# secs_elapsed - there is no possible 0 secs elapesed on website\n",
    "#df03_sessions = df03_sessions[df03_sessions['secs_elapsed'] > 0]"
   ]
  },
  {
   "cell_type": "markdown",
   "id": "d9303a1b",
   "metadata": {},
   "source": [
    "## 3.2. Columns Selection"
   ]
  },
  {
   "cell_type": "code",
   "execution_count": 37,
   "id": "1072be5b",
   "metadata": {
    "ExecuteTime": {
     "end_time": "2022-03-09T12:38:15.626483Z",
     "start_time": "2022-03-09T12:38:15.539487Z"
    }
   },
   "outputs": [],
   "source": [
    "# columns used to feature enginnering\n",
    "cols_date =['timestamp_first_active',\n",
    "            'date_first_active',\n",
    "            'date_account_created',\n",
    "            'date_first_booking']\n",
    "\n",
    "df03_users = df03_users.drop(columns=cols_date)"
   ]
  },
  {
   "cell_type": "markdown",
   "id": "20d1ff53",
   "metadata": {},
   "source": [
    "# 4.0. Data Exploratory Analysis\n",
    "\n",
    "To increase time, the EDA stage will be skipped in this first cycle."
   ]
  },
  {
   "cell_type": "code",
   "execution_count": 38,
   "id": "c5e9da71",
   "metadata": {
    "ExecuteTime": {
     "end_time": "2022-03-09T12:38:15.767613Z",
     "start_time": "2022-03-09T12:38:15.630484Z"
    }
   },
   "outputs": [
    {
     "data": {
      "text/plain": [
       "(206593, 31)"
      ]
     },
     "execution_count": 38,
     "metadata": {},
     "output_type": "execute_result"
    }
   ],
   "source": [
    "df04_users = df03_users.copy()\n",
    "\n",
    "df04_users.shape"
   ]
  },
  {
   "cell_type": "markdown",
   "id": "868b4156",
   "metadata": {},
   "source": [
    "# 5.0. Data Preparation"
   ]
  },
  {
   "cell_type": "code",
   "execution_count": 39,
   "id": "5fcd8687",
   "metadata": {
    "ExecuteTime": {
     "end_time": "2022-03-09T12:38:15.815479Z",
     "start_time": "2022-03-09T12:38:15.771490Z"
    }
   },
   "outputs": [],
   "source": [
    "df05_users = df04_users.copy()"
   ]
  },
  {
   "cell_type": "markdown",
   "id": "f93fb59a",
   "metadata": {},
   "source": [
    "## 5.1. Balanced Dataset"
   ]
  },
  {
   "cell_type": "markdown",
   "id": "9d1a3bcf",
   "metadata": {},
   "source": [
    "### 5.1.1. Encode Categorical Features "
   ]
  },
  {
   "cell_type": "code",
   "execution_count": 40,
   "id": "beb32360",
   "metadata": {
    "ExecuteTime": {
     "end_time": "2022-03-09T12:38:17.216491Z",
     "start_time": "2022-03-09T12:38:15.819487Z"
    }
   },
   "outputs": [],
   "source": [
    "# Enconder Categorical Variables\n",
    "ohe = pp.OneHotEncoder()\n",
    "\n",
    "# Numerical\n",
    "cols_num = df05_users.select_dtypes(include=['int64', 'float64']).columns.tolist()\n",
    "\n",
    "# Categorical\n",
    "cols_cat = df05_users.select_dtypes(exclude=['int64', 'float64', 'datetime64[ns]']).drop(['id', 'country_destination'], axis=1).columns.tolist()\n",
    "\n",
    "# Datetime - not used\n",
    "cols_date = df05_users.select_dtypes(include=['datetime64[ns]']).columns.tolist()\n",
    "\n",
    "# Encoding\n",
    "df05_users_dummy =  pd.DataFrame(ohe.fit_transform(df05_users[cols_cat]).toarray(), index=df05_users.index)\n",
    "\n",
    "# Join numerical and categorical\n",
    "df05_users_encoder = pd.concat([df05_users[cols_num], df05_users_dummy], axis=1)"
   ]
  },
  {
   "cell_type": "markdown",
   "id": "96891ddf",
   "metadata": {
    "ExecuteTime": {
     "end_time": "2022-03-02T21:06:24.905759Z",
     "start_time": "2022-03-02T21:06:24.683764Z"
    }
   },
   "source": [
    "### 5.1.2. Random Undersampling"
   ]
  },
  {
   "cell_type": "code",
   "execution_count": 41,
   "id": "4a84a177",
   "metadata": {
    "ExecuteTime": {
     "end_time": "2022-03-09T12:38:18.326163Z",
     "start_time": "2022-03-09T12:38:17.218483Z"
    }
   },
   "outputs": [],
   "source": [
    "# define sampler - random under-sampling\n",
    "undersampling = us.RandomUnderSampler(sampling_strategy='not minority', random_state=32)\n",
    "\n",
    "# resample the dataset\n",
    "X_under, y_under = undersampling.fit_resample(df05_users_encoder, df05_users['country_destination'])"
   ]
  },
  {
   "cell_type": "code",
   "execution_count": 42,
   "id": "5019c1e2",
   "metadata": {
    "ExecuteTime": {
     "end_time": "2022-03-09T12:38:18.373160Z",
     "start_time": "2022-03-09T12:38:18.332166Z"
    },
    "cell_style": "split"
   },
   "outputs": [
    {
     "data": {
      "text/plain": [
       "NDF      119810\n",
       "US        60800\n",
       "other      9935\n",
       "FR         4881\n",
       "IT         2776\n",
       "GB         2285\n",
       "ES         2203\n",
       "CA         1385\n",
       "DE         1033\n",
       "NL          746\n",
       "AU          526\n",
       "PT          213\n",
       "Name: country_destination, dtype: int64"
      ]
     },
     "execution_count": 42,
     "metadata": {},
     "output_type": "execute_result"
    }
   ],
   "source": [
    "df05_users['country_destination'].value_counts()"
   ]
  },
  {
   "cell_type": "code",
   "execution_count": 43,
   "id": "4b24d374",
   "metadata": {
    "ExecuteTime": {
     "end_time": "2022-03-09T12:38:18.516499Z",
     "start_time": "2022-03-09T12:38:18.378161Z"
    },
    "cell_style": "split"
   },
   "outputs": [
    {
     "data": {
      "text/plain": [
       "CA       213\n",
       "US       213\n",
       "DE       213\n",
       "other    213\n",
       "IT       213\n",
       "ES       213\n",
       "FR       213\n",
       "NL       213\n",
       "PT       213\n",
       "AU       213\n",
       "GB       213\n",
       "NDF      213\n",
       "Name: country_destination, dtype: int64"
      ]
     },
     "execution_count": 43,
     "metadata": {},
     "output_type": "execute_result"
    }
   ],
   "source": [
    "y_under.value_counts()"
   ]
  },
  {
   "cell_type": "code",
   "execution_count": 44,
   "id": "a29c4571",
   "metadata": {
    "ExecuteTime": {
     "end_time": "2022-03-09T12:38:18.548580Z",
     "start_time": "2022-03-09T12:38:18.520488Z"
    }
   },
   "outputs": [],
   "source": [
    "# Convert Back to Original Representation\n",
    "# Numerical\n",
    "X_under_num = X_under[cols_num]\n",
    "\n",
    "# inverse transform categorical dataset \n",
    "X_under_cat = pd.DataFrame(\n",
    "    ohe.inverse_transform(X_under.drop(columns=cols_num)), columns=cols_cat, index=X_under.index\n",
    ")\n",
    "\n",
    "# join data - without id and datetime features\n",
    "df05_users_under = pd.concat([X_under_num, X_under_cat], axis=1)\n",
    "\n",
    "df05_users_under['country_destination'] = y_under"
   ]
  },
  {
   "cell_type": "code",
   "execution_count": 45,
   "id": "b7cd5ddc",
   "metadata": {
    "ExecuteTime": {
     "end_time": "2022-03-09T12:38:18.596624Z",
     "start_time": "2022-03-09T12:38:18.556587Z"
    }
   },
   "outputs": [],
   "source": [
    "# dummy variable\n",
    "df05_users_under_dummy = pd.get_dummies(df05_users_under.drop(['country_destination'], axis=1))\n",
    "\n",
    "# join id and country destination\n",
    "df05_users_under = pd.concat( [df05_users_under['country_destination'], df05_users_under_dummy], axis=1 )"
   ]
  },
  {
   "cell_type": "markdown",
   "id": "53e4a538",
   "metadata": {},
   "source": [
    "### 5.1.3. Random Oversampling"
   ]
  },
  {
   "cell_type": "code",
   "execution_count": 46,
   "id": "44993ebc",
   "metadata": {
    "ExecuteTime": {
     "end_time": "2022-03-09T12:38:51.290944Z",
     "start_time": "2022-03-09T12:38:18.600578Z"
    }
   },
   "outputs": [],
   "source": [
    "# define sampler - random over-sampling\n",
    "oversampling = osamp.RandomOverSampler(sampling_strategy='not majority', random_state=32)\n",
    "\n",
    "# resample the dataset\n",
    "X_over, y_over = oversampling.fit_resample(df05_users_encoder, df05_users['country_destination'])"
   ]
  },
  {
   "cell_type": "code",
   "execution_count": 47,
   "id": "41cda28d",
   "metadata": {
    "ExecuteTime": {
     "end_time": "2022-03-09T12:38:51.771965Z",
     "start_time": "2022-03-09T12:38:51.394577Z"
    },
    "cell_style": "split"
   },
   "outputs": [
    {
     "data": {
      "text/plain": [
       "NDF      119810\n",
       "US        60800\n",
       "other      9935\n",
       "FR         4881\n",
       "IT         2776\n",
       "GB         2285\n",
       "ES         2203\n",
       "CA         1385\n",
       "DE         1033\n",
       "NL          746\n",
       "AU          526\n",
       "PT          213\n",
       "Name: country_destination, dtype: int64"
      ]
     },
     "execution_count": 47,
     "metadata": {},
     "output_type": "execute_result"
    }
   ],
   "source": [
    "df05_users['country_destination'].value_counts()"
   ]
  },
  {
   "cell_type": "code",
   "execution_count": 48,
   "id": "536f160c",
   "metadata": {
    "ExecuteTime": {
     "end_time": "2022-03-09T12:38:51.930321Z",
     "start_time": "2022-03-09T12:38:51.777963Z"
    },
    "cell_style": "split"
   },
   "outputs": [
    {
     "data": {
      "text/plain": [
       "CA       119810\n",
       "US       119810\n",
       "IT       119810\n",
       "PT       119810\n",
       "GB       119810\n",
       "FR       119810\n",
       "AU       119810\n",
       "NDF      119810\n",
       "NL       119810\n",
       "other    119810\n",
       "DE       119810\n",
       "ES       119810\n",
       "Name: country_destination, dtype: int64"
      ]
     },
     "execution_count": 48,
     "metadata": {},
     "output_type": "execute_result"
    }
   ],
   "source": [
    "y_over.value_counts()"
   ]
  },
  {
   "cell_type": "code",
   "execution_count": 49,
   "id": "eccc971f",
   "metadata": {
    "ExecuteTime": {
     "end_time": "2022-03-09T12:38:55.565676Z",
     "start_time": "2022-03-09T12:38:51.936057Z"
    }
   },
   "outputs": [],
   "source": [
    "# Convert Back to Original Representation\n",
    "# Numerical\n",
    "X_over_num = X_over[cols_num]\n",
    "\n",
    "# inverse transform categorical dataset \n",
    "X_over_cat = pd.DataFrame(\n",
    "    ohe.inverse_transform(X_over.drop(columns=cols_num)), columns=cols_cat, index=X_over.index\n",
    ")\n",
    "\n",
    "# join data - without id and datetime features\n",
    "df05_users_over = pd.concat([X_over_num, X_over_cat], axis=1)\n",
    "\n",
    "df05_users_over['country_destination'] = y_over"
   ]
  },
  {
   "cell_type": "code",
   "execution_count": 50,
   "id": "8e95e227",
   "metadata": {
    "ExecuteTime": {
     "end_time": "2022-03-09T12:38:58.890719Z",
     "start_time": "2022-03-09T12:38:55.571656Z"
    }
   },
   "outputs": [],
   "source": [
    "# dummy variable\n",
    "df05_users_over_dummy = pd.get_dummies(df05_users_over.drop(['country_destination'], axis=1))\n",
    "\n",
    "# join id and country destination\n",
    "df05_users_over = pd.concat( [df05_users_over['country_destination'], df05_users_over_dummy], axis=1 )"
   ]
  },
  {
   "cell_type": "markdown",
   "id": "8b8c3999",
   "metadata": {},
   "source": [
    "### 5.1.4. SMOTE + TOMEKLINK"
   ]
  },
  {
   "cell_type": "code",
   "execution_count": 51,
   "id": "fe150684",
   "metadata": {
    "ExecuteTime": {
     "end_time": "2022-03-09T14:46:36.610558Z",
     "start_time": "2022-03-09T12:38:58.893718Z"
    }
   },
   "outputs": [],
   "source": [
    "# define sampler - over-sampling using SMOTE and cleaning using Tomek links\n",
    "combine = comb.SMOTETomek(sampling_strategy='auto', random_state=32, n_jobs=-1)\n",
    "\n",
    "# resample the dataset\n",
    "X_comb, y_comb = combine.fit_resample(df05_users_encoder, df05_users['country_destination'])"
   ]
  },
  {
   "cell_type": "code",
   "execution_count": 52,
   "id": "9bd88b60",
   "metadata": {
    "ExecuteTime": {
     "end_time": "2022-03-09T14:46:37.014379Z",
     "start_time": "2022-03-09T14:46:36.700536Z"
    },
    "cell_style": "split"
   },
   "outputs": [
    {
     "data": {
      "text/plain": [
       "NDF      119810\n",
       "US        60800\n",
       "other      9935\n",
       "FR         4881\n",
       "IT         2776\n",
       "GB         2285\n",
       "ES         2203\n",
       "CA         1385\n",
       "DE         1033\n",
       "NL          746\n",
       "AU          526\n",
       "PT          213\n",
       "Name: country_destination, dtype: int64"
      ]
     },
     "execution_count": 52,
     "metadata": {},
     "output_type": "execute_result"
    }
   ],
   "source": [
    "df05_users['country_destination'].value_counts()"
   ]
  },
  {
   "cell_type": "code",
   "execution_count": 53,
   "id": "66b7509e",
   "metadata": {
    "ExecuteTime": {
     "end_time": "2022-03-09T14:46:37.375529Z",
     "start_time": "2022-03-09T14:46:37.019896Z"
    },
    "cell_style": "split"
   },
   "outputs": [
    {
     "data": {
      "text/plain": [
       "PT       119810\n",
       "AU       119810\n",
       "NL       119810\n",
       "NDF      119809\n",
       "DE       119809\n",
       "CA       119800\n",
       "ES       119799\n",
       "GB       119789\n",
       "IT       119782\n",
       "FR       119743\n",
       "other    119676\n",
       "US       119631\n",
       "Name: country_destination, dtype: int64"
      ]
     },
     "execution_count": 53,
     "metadata": {},
     "output_type": "execute_result"
    }
   ],
   "source": [
    "y_comb.value_counts()"
   ]
  },
  {
   "cell_type": "code",
   "execution_count": 54,
   "id": "abbeca83",
   "metadata": {
    "ExecuteTime": {
     "end_time": "2022-03-09T14:46:42.527865Z",
     "start_time": "2022-03-09T14:46:37.385985Z"
    }
   },
   "outputs": [],
   "source": [
    "# Convert Back to Original Representation\n",
    "# Numerical\n",
    "X_comb_num = X_comb[cols_num]\n",
    "\n",
    "# inverse transform categorical dataset \n",
    "X_comb_cat = pd.DataFrame(\n",
    "    ohe.inverse_transform(X_comb.drop(columns=cols_num)), columns=cols_cat, index=X_comb.index\n",
    ")\n",
    "\n",
    "# join data - without id and datetime features\n",
    "df05_users_comb = pd.concat([X_comb_num, X_comb_cat], axis=1)\n",
    "\n",
    "df05_users_comb['country_destination'] = y_comb"
   ]
  },
  {
   "cell_type": "code",
   "execution_count": 55,
   "id": "53e5ef72",
   "metadata": {
    "ExecuteTime": {
     "end_time": "2022-03-09T14:47:29.433458Z",
     "start_time": "2022-03-09T14:46:42.535873Z"
    }
   },
   "outputs": [],
   "source": [
    "# dummy variable\n",
    "df05_users_comb_dummy = pd.get_dummies(df05_users_comb.drop(['country_destination'], axis=1))\n",
    "\n",
    "# join id and country destination\n",
    "df05_users_comb = pd.concat( [df05_users_comb['country_destination'], df05_users_comb_dummy], axis=1 )\n",
    "\n",
    "df05_users_comb.to_csv('../Datasets/data_balanced_smote_tomek.csv')"
   ]
  },
  {
   "cell_type": "markdown",
   "id": "56417dc6",
   "metadata": {},
   "source": [
    "# 6.0. Feature Selection"
   ]
  },
  {
   "cell_type": "code",
   "execution_count": 56,
   "id": "924a6eec",
   "metadata": {
    "ExecuteTime": {
     "end_time": "2022-03-09T14:47:30.193295Z",
     "start_time": "2022-03-09T14:47:29.603112Z"
    }
   },
   "outputs": [],
   "source": [
    "df06_users = df05_users.copy()\n",
    "\n",
    "df06_users_under = df05_users_under\n",
    "df06_users_over = df05_users_over\n",
    "df06_users_comb = df05_users_comb"
   ]
  },
  {
   "cell_type": "code",
   "execution_count": 57,
   "id": "c4bc27ff",
   "metadata": {
    "ExecuteTime": {
     "end_time": "2022-03-09T14:47:41.034744Z",
     "start_time": "2022-03-09T14:47:30.200291Z"
    }
   },
   "outputs": [],
   "source": [
    "# training dataset\n",
    "X = df06_users.drop( 'country_destination', axis=1 )\n",
    "X_under = df06_users_under.drop( 'country_destination', axis=1 )\n",
    "X_over = df06_users_over.drop( 'country_destination', axis=1 )\n",
    "X_comb = df06_users_comb.drop( 'country_destination', axis=1 )\n",
    "\n",
    "#  training response dataset\n",
    "y = df06_users['country_destination']\n",
    "y_under = df06_users_under['country_destination']\n",
    "y_over = df06_users_over['country_destination']\n",
    "y_comb = df06_users_comb['country_destination']"
   ]
  },
  {
   "cell_type": "code",
   "execution_count": 58,
   "id": "2526e910",
   "metadata": {
    "ExecuteTime": {
     "end_time": "2022-03-09T14:47:45.922229Z",
     "start_time": "2022-03-09T14:47:41.047746Z"
    }
   },
   "outputs": [],
   "source": [
    "# Split dataset into training and test (validation)\n",
    "X_train, X_test, y_train, y_test = ms.train_test_split(X, y, test_size=0.2, random_state=32)\n",
    "\n",
    "X_train_under, X_test_under, y_train_under, y_test_under = ms.train_test_split(X_under, y_under, test_size=0.2, random_state=32)\n",
    "\n",
    "X_train_over, X_test_over, y_train_over, y_test_over = ms.train_test_split(X_over, y_over, test_size=0.2, random_state=32)\n",
    "\n",
    "X_train_comb, X_test_comb, y_train_comb, y_test_comb = ms.train_test_split(X_comb, y_comb, test_size=0.2, random_state=32)"
   ]
  },
  {
   "cell_type": "markdown",
   "id": "c9ee0881",
   "metadata": {},
   "source": [
    "# 7.0. Machine Learing Model"
   ]
  },
  {
   "cell_type": "code",
   "execution_count": 59,
   "id": "b9dfd8fe",
   "metadata": {
    "ExecuteTime": {
     "end_time": "2022-03-09T14:47:47.093881Z",
     "start_time": "2022-03-09T14:47:47.009836Z"
    }
   },
   "outputs": [],
   "source": [
    "x_train = X_train\n",
    "x_test = X_test\n",
    "\n",
    "x_train_under = X_train_under\n",
    "x_test_under = X_test_under\n",
    "\n",
    "x_train_over = X_train_over\n",
    "x_test_over = X_test_over\n",
    "\n",
    "x_train_comb = X_train_comb\n",
    "x_test_comb = X_test_comb"
   ]
  },
  {
   "cell_type": "markdown",
   "id": "b3107f01",
   "metadata": {
    "heading_collapsed": true
   },
   "source": [
    "## 7.1. Baseline Model - Random"
   ]
  },
  {
   "cell_type": "code",
   "execution_count": 60,
   "id": "c5ee811a",
   "metadata": {
    "ExecuteTime": {
     "end_time": "2022-03-09T14:47:53.501675Z",
     "start_time": "2022-03-09T14:47:47.112863Z"
    },
    "hidden": true
   },
   "outputs": [],
   "source": [
    "country_list = df06_users['country_destination'].drop_duplicates().sort_values().tolist()\n",
    "\n",
    "k_num = y_test.shape[0]\n",
    "\n",
    "country_weights = df06_users['country_destination'].value_counts(normalize=True).sort_index().tolist()\n",
    "\n",
    "yhat_random = random.choices(population=country_list,\n",
    "                             weights=country_weights,\n",
    "                             k=k_num)"
   ]
  },
  {
   "cell_type": "markdown",
   "id": "74175f4b",
   "metadata": {},
   "source": [
    "## 7.2. Neural Network - MLP"
   ]
  },
  {
   "cell_type": "markdown",
   "id": "30a8d813",
   "metadata": {},
   "source": [
    "### 7.2.1. Neural Network - Random Undersampling"
   ]
  },
  {
   "cell_type": "code",
   "execution_count": 61,
   "id": "c837ddfc",
   "metadata": {
    "ExecuteTime": {
     "end_time": "2022-03-09T14:47:53.672461Z",
     "start_time": "2022-03-09T14:47:53.562885Z"
    }
   },
   "outputs": [],
   "source": [
    "ohe_under = pp.OneHotEncoder()\n",
    "\n",
    "y_train_under_nn = ohe_under.fit_transform(y_train_under.values.reshape(-1, 1)).toarray()"
   ]
  },
  {
   "cell_type": "code",
   "execution_count": 62,
   "id": "fa3d36ec",
   "metadata": {
    "ExecuteTime": {
     "end_time": "2022-03-09T14:48:15.021305Z",
     "start_time": "2022-03-09T14:47:53.717412Z"
    },
    "scrolled": true
   },
   "outputs": [
    {
     "name": "stdout",
     "output_type": "stream",
     "text": [
      "Epoch 1/100\n",
      "64/64 [==============================] - 0s 2ms/step - loss: 74.6477 - accuracy: 0.1130\n",
      "Epoch 2/100\n",
      "64/64 [==============================] - 0s 2ms/step - loss: 9.9579 - accuracy: 0.1644\n",
      "Epoch 3/100\n",
      "64/64 [==============================] - 0s 2ms/step - loss: 8.9437 - accuracy: 0.1693\n",
      "Epoch 4/100\n",
      "64/64 [==============================] - 0s 2ms/step - loss: 13.9009 - accuracy: 0.1629\n",
      "Epoch 5/100\n",
      "64/64 [==============================] - 0s 2ms/step - loss: 11.0084 - accuracy: 0.1673\n",
      "Epoch 6/100\n",
      "64/64 [==============================] - 0s 2ms/step - loss: 10.8249 - accuracy: 0.1737\n",
      "Epoch 7/100\n",
      "64/64 [==============================] - 0s 2ms/step - loss: 10.5657 - accuracy: 0.1610\n",
      "Epoch 8/100\n",
      "64/64 [==============================] - 0s 2ms/step - loss: 10.9944 - accuracy: 0.1649\n",
      "Epoch 9/100\n",
      "64/64 [==============================] - 0s 1ms/step - loss: 8.3406 - accuracy: 0.1717\n",
      "Epoch 10/100\n",
      "64/64 [==============================] - 0s 2ms/step - loss: 10.4865 - accuracy: 0.1610\n",
      "Epoch 11/100\n",
      "64/64 [==============================] - 0s 1ms/step - loss: 9.4174 - accuracy: 0.1668\n",
      "Epoch 12/100\n",
      "64/64 [==============================] - 0s 2ms/step - loss: 9.5307 - accuracy: 0.1698\n",
      "Epoch 13/100\n",
      "64/64 [==============================] - 0s 1ms/step - loss: 12.4266 - accuracy: 0.1575\n",
      "Epoch 14/100\n",
      "64/64 [==============================] - 0s 1ms/step - loss: 12.9820 - accuracy: 0.1551\n",
      "Epoch 15/100\n",
      "64/64 [==============================] - 0s 1ms/step - loss: 13.5646 - accuracy: 0.1698\n",
      "Epoch 16/100\n",
      "64/64 [==============================] - 0s 1ms/step - loss: 14.2552 - accuracy: 0.1570\n",
      "Epoch 17/100\n",
      "64/64 [==============================] - 0s 1ms/step - loss: 8.9660 - accuracy: 0.1693\n",
      "Epoch 18/100\n",
      "64/64 [==============================] - 0s 1ms/step - loss: 7.3379 - accuracy: 0.1678\n",
      "Epoch 19/100\n",
      "64/64 [==============================] - 0s 1ms/step - loss: 6.6423 - accuracy: 0.1663\n",
      "Epoch 20/100\n",
      "64/64 [==============================] - 0s 1ms/step - loss: 10.2404 - accuracy: 0.1722\n",
      "Epoch 21/100\n",
      "64/64 [==============================] - 0s 1ms/step - loss: 10.2449 - accuracy: 0.1649\n",
      "Epoch 22/100\n",
      "64/64 [==============================] - 0s 1ms/step - loss: 9.1975 - accuracy: 0.1800\n",
      "Epoch 23/100\n",
      "64/64 [==============================] - 0s 1ms/step - loss: 7.6378 - accuracy: 0.1771\n",
      "Epoch 24/100\n",
      "64/64 [==============================] - 0s 1ms/step - loss: 8.2528 - accuracy: 0.1644\n",
      "Epoch 25/100\n",
      "64/64 [==============================] - 0s 2ms/step - loss: 8.0237 - accuracy: 0.1703\n",
      "Epoch 26/100\n",
      "64/64 [==============================] - 0s 1ms/step - loss: 7.6454 - accuracy: 0.1791\n",
      "Epoch 27/100\n",
      "64/64 [==============================] - 0s 2ms/step - loss: 8.6348 - accuracy: 0.1634\n",
      "Epoch 28/100\n",
      "64/64 [==============================] - 0s 2ms/step - loss: 6.4402 - accuracy: 0.1771\n",
      "Epoch 29/100\n",
      "64/64 [==============================] - 0s 1ms/step - loss: 8.0770 - accuracy: 0.1668\n",
      "Epoch 30/100\n",
      "64/64 [==============================] - 0s 1ms/step - loss: 8.2100 - accuracy: 0.1707\n",
      "Epoch 31/100\n",
      "64/64 [==============================] - 0s 1ms/step - loss: 8.2032 - accuracy: 0.1712\n",
      "Epoch 32/100\n",
      "64/64 [==============================] - 0s 1ms/step - loss: 8.8954 - accuracy: 0.1771\n",
      "Epoch 33/100\n",
      "64/64 [==============================] - 0s 1ms/step - loss: 8.0608 - accuracy: 0.1800\n",
      "Epoch 34/100\n",
      "64/64 [==============================] - 0s 1ms/step - loss: 5.1302 - accuracy: 0.1932\n",
      "Epoch 35/100\n",
      "64/64 [==============================] - 0s 1ms/step - loss: 6.7394 - accuracy: 0.1840\n",
      "Epoch 36/100\n",
      "64/64 [==============================] - 0s 1ms/step - loss: 7.6485 - accuracy: 0.1771\n",
      "Epoch 37/100\n",
      "64/64 [==============================] - 0s 1ms/step - loss: 10.3365 - accuracy: 0.1707\n",
      "Epoch 38/100\n",
      "64/64 [==============================] - 0s 1ms/step - loss: 8.1181 - accuracy: 0.1849\n",
      "Epoch 39/100\n",
      "64/64 [==============================] - 0s 1ms/step - loss: 7.0357 - accuracy: 0.1795\n",
      "Epoch 40/100\n",
      "64/64 [==============================] - 0s 1ms/step - loss: 8.3822 - accuracy: 0.1805\n",
      "Epoch 41/100\n",
      "64/64 [==============================] - 0s 1ms/step - loss: 7.7813 - accuracy: 0.1717\n",
      "Epoch 42/100\n",
      "64/64 [==============================] - 0s 1ms/step - loss: 9.0032 - accuracy: 0.1786\n",
      "Epoch 43/100\n",
      "64/64 [==============================] - 0s 1ms/step - loss: 5.9627 - accuracy: 0.1791\n",
      "Epoch 44/100\n",
      "64/64 [==============================] - 0s 1ms/step - loss: 6.8426 - accuracy: 0.1830\n",
      "Epoch 45/100\n",
      "64/64 [==============================] - 0s 1ms/step - loss: 5.9121 - accuracy: 0.1761\n",
      "Epoch 46/100\n",
      "64/64 [==============================] - 0s 1ms/step - loss: 5.4271 - accuracy: 0.1844\n",
      "Epoch 47/100\n",
      "64/64 [==============================] - 0s 1ms/step - loss: 6.9085 - accuracy: 0.1830\n",
      "Epoch 48/100\n",
      "64/64 [==============================] - 0s 1ms/step - loss: 6.7509 - accuracy: 0.1761\n",
      "Epoch 49/100\n",
      "64/64 [==============================] - 0s 1ms/step - loss: 8.0024 - accuracy: 0.1732\n",
      "Epoch 50/100\n",
      "64/64 [==============================] - 0s 1ms/step - loss: 7.6483 - accuracy: 0.1791\n",
      "Epoch 51/100\n",
      "64/64 [==============================] - 0s 1ms/step - loss: 6.3090 - accuracy: 0.1732\n",
      "Epoch 52/100\n",
      "64/64 [==============================] - 0s 1000us/step - loss: 7.0124 - accuracy: 0.1805\n",
      "Epoch 53/100\n",
      "64/64 [==============================] - 0s 1ms/step - loss: 6.2369 - accuracy: 0.1844\n",
      "Epoch 54/100\n",
      "64/64 [==============================] - 0s 1ms/step - loss: 4.4399 - accuracy: 0.1874\n",
      "Epoch 55/100\n",
      "64/64 [==============================] - 0s 1ms/step - loss: 7.2162 - accuracy: 0.1732\n",
      "Epoch 56/100\n",
      "64/64 [==============================] - 0s 1ms/step - loss: 7.0883 - accuracy: 0.1771\n",
      "Epoch 57/100\n",
      "64/64 [==============================] - 0s 1ms/step - loss: 6.7756 - accuracy: 0.1688\n",
      "Epoch 58/100\n",
      "64/64 [==============================] - 0s 1ms/step - loss: 8.3029 - accuracy: 0.1683\n",
      "Epoch 59/100\n",
      "64/64 [==============================] - 0s 1ms/step - loss: 6.4966 - accuracy: 0.1810\n",
      "Epoch 60/100\n",
      "64/64 [==============================] - 0s 1ms/step - loss: 4.4377 - accuracy: 0.1918\n",
      "Epoch 61/100\n",
      "64/64 [==============================] - 0s 1ms/step - loss: 7.0919 - accuracy: 0.1761\n",
      "Epoch 62/100\n",
      "64/64 [==============================] - 0s 1ms/step - loss: 5.0125 - accuracy: 0.1888\n",
      "Epoch 63/100\n",
      "64/64 [==============================] - 0s 1ms/step - loss: 4.9074 - accuracy: 0.1781\n",
      "Epoch 64/100\n",
      "64/64 [==============================] - 0s 1ms/step - loss: 6.8466 - accuracy: 0.1776\n",
      "Epoch 65/100\n",
      "64/64 [==============================] - 0s 1ms/step - loss: 6.6532 - accuracy: 0.1844\n",
      "Epoch 66/100\n",
      "64/64 [==============================] - 0s 1ms/step - loss: 6.8800 - accuracy: 0.1639\n",
      "Epoch 67/100\n",
      "64/64 [==============================] - 0s 1ms/step - loss: 5.4221 - accuracy: 0.1795\n",
      "Epoch 68/100\n",
      "64/64 [==============================] - 0s 1ms/step - loss: 4.7966 - accuracy: 0.1962\n",
      "Epoch 69/100\n",
      "64/64 [==============================] - 0s 1ms/step - loss: 5.0291 - accuracy: 0.1977\n",
      "Epoch 70/100\n",
      "64/64 [==============================] - 0s 1ms/step - loss: 4.9578 - accuracy: 0.1781\n",
      "Epoch 71/100\n",
      "64/64 [==============================] - 0s 1ms/step - loss: 5.6401 - accuracy: 0.1864\n",
      "Epoch 72/100\n",
      "64/64 [==============================] - 0s 1ms/step - loss: 6.1633 - accuracy: 0.1800\n",
      "Epoch 73/100\n",
      "64/64 [==============================] - 0s 1ms/step - loss: 5.4676 - accuracy: 0.1830\n",
      "Epoch 74/100\n",
      "64/64 [==============================] - 0s 1ms/step - loss: 7.1382 - accuracy: 0.1703\n",
      "Epoch 75/100\n",
      "64/64 [==============================] - 0s 1ms/step - loss: 5.1928 - accuracy: 0.1972\n",
      "Epoch 76/100\n",
      "64/64 [==============================] - 0s 1ms/step - loss: 5.5350 - accuracy: 0.1800\n",
      "Epoch 77/100\n",
      "64/64 [==============================] - 0s 1ms/step - loss: 6.4826 - accuracy: 0.1825\n",
      "Epoch 78/100\n",
      "64/64 [==============================] - 0s 1ms/step - loss: 4.0583 - accuracy: 0.1898\n",
      "Epoch 79/100\n",
      "64/64 [==============================] - 0s 1ms/step - loss: 4.9426 - accuracy: 0.1972\n",
      "Epoch 80/100\n",
      "64/64 [==============================] - 0s 1ms/step - loss: 5.5585 - accuracy: 0.1849\n",
      "Epoch 81/100\n",
      "64/64 [==============================] - 0s 1ms/step - loss: 4.9038 - accuracy: 0.1776\n",
      "Epoch 82/100\n",
      "64/64 [==============================] - 0s 1ms/step - loss: 4.2518 - accuracy: 0.1967\n",
      "Epoch 83/100\n",
      "64/64 [==============================] - 0s 1ms/step - loss: 7.2915 - accuracy: 0.1786\n",
      "Epoch 84/100\n",
      "64/64 [==============================] - 0s 1ms/step - loss: 5.1828 - accuracy: 0.1893\n",
      "Epoch 85/100\n",
      "64/64 [==============================] - 0s 1ms/step - loss: 4.6859 - accuracy: 0.2021\n",
      "Epoch 86/100\n",
      "64/64 [==============================] - 0s 1ms/step - loss: 4.6970 - accuracy: 0.1849\n",
      "Epoch 87/100\n",
      "64/64 [==============================] - 0s 1ms/step - loss: 5.6669 - accuracy: 0.1879\n",
      "Epoch 88/100\n",
      "64/64 [==============================] - 0s 1ms/step - loss: 4.9208 - accuracy: 0.1815\n",
      "Epoch 89/100\n",
      "64/64 [==============================] - 0s 1ms/step - loss: 4.7228 - accuracy: 0.1888\n",
      "Epoch 90/100\n",
      "64/64 [==============================] - 0s 1ms/step - loss: 4.9322 - accuracy: 0.1766\n",
      "Epoch 91/100\n",
      "64/64 [==============================] - 0s 1ms/step - loss: 4.2002 - accuracy: 0.1962\n",
      "Epoch 92/100\n",
      "64/64 [==============================] - 0s 1ms/step - loss: 5.8705 - accuracy: 0.1815\n",
      "Epoch 93/100\n",
      "64/64 [==============================] - 0s 1ms/step - loss: 5.0823 - accuracy: 0.1903\n",
      "Epoch 94/100\n",
      "64/64 [==============================] - 0s 1ms/step - loss: 5.6792 - accuracy: 0.1791\n",
      "Epoch 95/100\n",
      "64/64 [==============================] - 0s 1ms/step - loss: 5.1548 - accuracy: 0.1805\n",
      "Epoch 96/100\n",
      "64/64 [==============================] - 0s 1ms/step - loss: 5.3408 - accuracy: 0.1800\n",
      "Epoch 97/100\n",
      "64/64 [==============================] - 0s 1000us/step - loss: 4.1192 - accuracy: 0.1864\n",
      "Epoch 98/100\n",
      "64/64 [==============================] - 0s 1000us/step - loss: 4.1909 - accuracy: 0.1840\n",
      "Epoch 99/100\n",
      "64/64 [==============================] - 0s 1ms/step - loss: 4.6416 - accuracy: 0.1879\n",
      "Epoch 100/100\n",
      "64/64 [==============================] - 0s 1ms/step - loss: 4.2970 - accuracy: 0.1908\n"
     ]
    },
    {
     "data": {
      "text/plain": [
       "<tensorflow.python.keras.callbacks.History at 0x19f00d20e80>"
      ]
     },
     "execution_count": 62,
     "metadata": {},
     "output_type": "execute_result"
    }
   ],
   "source": [
    "# model definition\n",
    "model_under = ml.Sequential()\n",
    "model_under.add( l.Dense(128, input_dim=x_train_under.shape[1], activation='relu') )\n",
    "model_under.add( l.Dense(12, activation='softmax') )\n",
    "\n",
    "# model compile\n",
    "model_under.compile(loss='categorical_crossentropy', optimizer='adam', metrics=['accuracy'])\n",
    "\n",
    "# train model\n",
    "model_under.fit(x_train_under, y_train_under_nn, epochs=100)"
   ]
  },
  {
   "cell_type": "markdown",
   "id": "af2fe3cf",
   "metadata": {},
   "source": [
    "### 7.2.2. Neural Network - Random Oversampling"
   ]
  },
  {
   "cell_type": "code",
   "execution_count": 63,
   "id": "51e0f31c",
   "metadata": {
    "ExecuteTime": {
     "end_time": "2022-03-09T14:48:15.385575Z",
     "start_time": "2022-03-09T14:48:15.025307Z"
    }
   },
   "outputs": [],
   "source": [
    "ohe_over = pp.OneHotEncoder()\n",
    "\n",
    "y_train_over_nn = ohe_over.fit_transform(y_train_over.values.reshape(-1, 1)).toarray()"
   ]
  },
  {
   "cell_type": "code",
   "execution_count": 64,
   "id": "a2a0b26e",
   "metadata": {
    "ExecuteTime": {
     "end_time": "2022-03-09T16:05:14.528243Z",
     "start_time": "2022-03-09T14:48:15.389463Z"
    }
   },
   "outputs": [
    {
     "name": "stdout",
     "output_type": "stream",
     "text": [
      "Epoch 1/100\n",
      "35943/35943 [==============================] - 41s 1ms/step - loss: 3.7818 - accuracy: 0.1728\n",
      "Epoch 2/100\n",
      "35943/35943 [==============================] - 38s 1ms/step - loss: 2.2011 - accuracy: 0.1664\n",
      "Epoch 3/100\n",
      "35943/35943 [==============================] - 38s 1ms/step - loss: 2.2000 - accuracy: 0.1673\n",
      "Epoch 4/100\n",
      "35943/35943 [==============================] - 39s 1ms/step - loss: 2.1996 - accuracy: 0.1672\n",
      "Epoch 5/100\n",
      "35943/35943 [==============================] - 38s 1ms/step - loss: 2.1993 - accuracy: 0.1677\n",
      "Epoch 6/100\n",
      "35943/35943 [==============================] - 38s 1ms/step - loss: 2.1992 - accuracy: 0.1677\n",
      "Epoch 7/100\n",
      "35943/35943 [==============================] - 38s 1ms/step - loss: 2.1991 - accuracy: 0.1668\n",
      "Epoch 8/100\n",
      "35943/35943 [==============================] - 38s 1ms/step - loss: 2.1990 - accuracy: 0.1677\n",
      "Epoch 9/100\n",
      "35943/35943 [==============================] - 39s 1ms/step - loss: 2.1990 - accuracy: 0.1678\n",
      "Epoch 10/100\n",
      "35943/35943 [==============================] - 34s 939us/step - loss: 2.1989 - accuracy: 0.1681\n",
      "Epoch 11/100\n",
      "35943/35943 [==============================] - 33s 919us/step - loss: 2.1989 - accuracy: 0.1677\n",
      "Epoch 12/100\n",
      "35943/35943 [==============================] - 33s 913us/step - loss: 2.1988 - accuracy: 0.1674\n",
      "Epoch 13/100\n",
      "35943/35943 [==============================] - 33s 929us/step - loss: 2.1987 - accuracy: 0.1680\n",
      "Epoch 14/100\n",
      "35943/35943 [==============================] - 33s 922us/step - loss: 2.1987 - accuracy: 0.1674\n",
      "Epoch 15/100\n",
      "35943/35943 [==============================] - 33s 913us/step - loss: 2.1987 - accuracy: 0.1677\n",
      "Epoch 16/100\n",
      "35943/35943 [==============================] - 34s 944us/step - loss: 2.1987 - accuracy: 0.1675\n",
      "Epoch 17/100\n",
      "35943/35943 [==============================] - 33s 924us/step - loss: 2.1986 - accuracy: 0.1672\n",
      "Epoch 18/100\n",
      "35943/35943 [==============================] - 33s 921us/step - loss: 2.1985 - accuracy: 0.1675\n",
      "Epoch 19/100\n",
      "35943/35943 [==============================] - 33s 921us/step - loss: 2.1986 - accuracy: 0.1676\n",
      "Epoch 20/100\n",
      "35943/35943 [==============================] - 48s 1ms/step - loss: 2.1985 - accuracy: 0.1673\n",
      "Epoch 21/100\n",
      "35943/35943 [==============================] - 70s 2ms/step - loss: 2.1985 - accuracy: 0.1677\n",
      "Epoch 22/100\n",
      "35943/35943 [==============================] - 54s 2ms/step - loss: 2.1986 - accuracy: 0.1679\n",
      "Epoch 23/100\n",
      "35943/35943 [==============================] - 57s 2ms/step - loss: 2.1985 - accuracy: 0.1675\n",
      "Epoch 24/100\n",
      "35943/35943 [==============================] - 45s 1ms/step - loss: 2.1985 - accuracy: 0.1677\n",
      "Epoch 25/100\n",
      "35943/35943 [==============================] - 65s 2ms/step - loss: 2.1985 - accuracy: 0.1678\n",
      "Epoch 26/100\n",
      "35943/35943 [==============================] - 83s 2ms/step - loss: 2.1985 - accuracy: 0.1675\n",
      "Epoch 27/100\n",
      "35943/35943 [==============================] - 80s 2ms/step - loss: 2.1984 - accuracy: 0.1682\n",
      "Epoch 28/100\n",
      "35943/35943 [==============================] - 66s 2ms/step - loss: 2.1984 - accuracy: 0.1678\n",
      "Epoch 29/100\n",
      "35943/35943 [==============================] - 62s 2ms/step - loss: 2.1985 - accuracy: 0.1678\n",
      "Epoch 30/100\n",
      "35943/35943 [==============================] - 63s 2ms/step - loss: 2.1985 - accuracy: 0.1674\n",
      "Epoch 31/100\n",
      "35943/35943 [==============================] - 44s 1ms/step - loss: 2.1984 - accuracy: 0.1680 0s - loss:\n",
      "Epoch 32/100\n",
      "35943/35943 [==============================] - 59s 2ms/step - loss: 2.1985 - accuracy: 0.1677\n",
      "Epoch 33/100\n",
      "35943/35943 [==============================] - 52s 1ms/step - loss: 2.1984 - accuracy: 0.1678\n",
      "Epoch 34/100\n",
      "35943/35943 [==============================] - 49s 1ms/step - loss: 2.1984 - accuracy: 0.1677\n",
      "Epoch 35/100\n",
      "35943/35943 [==============================] - 51s 1ms/step - loss: 2.1983 - accuracy: 0.1677\n",
      "Epoch 36/100\n",
      "35943/35943 [==============================] - 50s 1ms/step - loss: 2.1984 - accuracy: 0.1677\n",
      "Epoch 37/100\n",
      "35943/35943 [==============================] - 50s 1ms/step - loss: 2.1984 - accuracy: 0.1679\n",
      "Epoch 38/100\n",
      "35943/35943 [==============================] - 52s 1ms/step - loss: 2.1984 - accuracy: 0.1681\n",
      "Epoch 39/100\n",
      "35943/35943 [==============================] - ETA: 0s - loss: 2.1983 - accuracy: 0.16 - 44s 1ms/step - loss: 2.1983 - accuracy: 0.1683\n",
      "Epoch 40/100\n",
      "35943/35943 [==============================] - 44s 1ms/step - loss: 2.1984 - accuracy: 0.1676\n",
      "Epoch 41/100\n",
      "35943/35943 [==============================] - 48s 1ms/step - loss: 2.1984 - accuracy: 0.1674\n",
      "Epoch 42/100\n",
      "35943/35943 [==============================] - 43s 1ms/step - loss: 2.1984 - accuracy: 0.1677\n",
      "Epoch 43/100\n",
      "35943/35943 [==============================] - 41s 1ms/step - loss: 2.1984 - accuracy: 0.1676 0s - loss: 2.1984 - accuracy: \n",
      "Epoch 44/100\n",
      "35943/35943 [==============================] - 48s 1ms/step - loss: 2.1984 - accuracy: 0.1677 0s - loss:\n",
      "Epoch 45/100\n",
      "35943/35943 [==============================] - 50s 1ms/step - loss: 2.1983 - accuracy: 0.1677\n",
      "Epoch 46/100\n",
      "35943/35943 [==============================] - 53s 1ms/step - loss: 2.1983 - accuracy: 0.1680\n",
      "Epoch 47/100\n",
      "35943/35943 [==============================] - 50s 1ms/step - loss: 2.1984 - accuracy: 0.1678\n",
      "Epoch 48/100\n",
      "35943/35943 [==============================] - 51s 1ms/step - loss: 2.1983 - accuracy: 0.1684\n",
      "Epoch 49/100\n",
      "35943/35943 [==============================] - 58s 2ms/step - loss: 2.1983 - accuracy: 0.1674\n",
      "Epoch 50/100\n",
      "35943/35943 [==============================] - 56s 2ms/step - loss: 2.1983 - accuracy: 0.1678\n",
      "Epoch 51/100\n",
      "35943/35943 [==============================] - 58s 2ms/step - loss: 2.1983 - accuracy: 0.1681\n",
      "Epoch 52/100\n",
      "35943/35943 [==============================] - 54s 2ms/step - loss: 2.1983 - accuracy: 0.1676\n",
      "Epoch 53/100\n",
      "35943/35943 [==============================] - 50s 1ms/step - loss: 2.1983 - accuracy: 0.1678\n",
      "Epoch 54/100\n",
      "35943/35943 [==============================] - 41s 1ms/step - loss: 2.1983 - accuracy: 0.1678\n",
      "Epoch 55/100\n",
      "35943/35943 [==============================] - 43s 1ms/step - loss: 2.1983 - accuracy: 0.1678\n",
      "Epoch 56/100\n",
      "35943/35943 [==============================] - 43s 1ms/step - loss: 2.1983 - accuracy: 0.1682\n",
      "Epoch 57/100\n",
      "35943/35943 [==============================] - 49s 1ms/step - loss: 2.1983 - accuracy: 0.1676\n",
      "Epoch 58/100\n",
      "35943/35943 [==============================] - 39s 1ms/step - loss: 2.1984 - accuracy: 0.1685 0s - loss: 2.1984 - accuracy: \n",
      "Epoch 59/100\n",
      "35943/35943 [==============================] - 40s 1ms/step - loss: 2.1983 - accuracy: 0.1678\n",
      "Epoch 60/100\n",
      "35943/35943 [==============================] - 37s 1ms/step - loss: 2.1983 - accuracy: 0.1681\n",
      "Epoch 61/100\n",
      "35943/35943 [==============================] - 35s 986us/step - loss: 2.1983 - accuracy: 0.1676\n",
      "Epoch 62/100\n",
      "35943/35943 [==============================] - 37s 1ms/step - loss: 2.1983 - accuracy: 0.1675\n",
      "Epoch 63/100\n",
      "35943/35943 [==============================] - 39s 1ms/step - loss: 2.1984 - accuracy: 0.1676\n",
      "Epoch 64/100\n",
      "35943/35943 [==============================] - 37s 1ms/step - loss: 2.1983 - accuracy: 0.1681\n",
      "Epoch 65/100\n",
      "35943/35943 [==============================] - 42s 1ms/step - loss: 2.1983 - accuracy: 0.1678\n",
      "Epoch 66/100\n",
      "35943/35943 [==============================] - 37s 1ms/step - loss: 2.1983 - accuracy: 0.1679\n",
      "Epoch 67/100\n",
      "35943/35943 [==============================] - 39s 1ms/step - loss: 2.1982 - accuracy: 0.1682\n",
      "Epoch 68/100\n",
      "35943/35943 [==============================] - 41s 1ms/step - loss: 2.1982 - accuracy: 0.1680\n",
      "Epoch 69/100\n",
      "35943/35943 [==============================] - 39s 1ms/step - loss: 2.1983 - accuracy: 0.1675\n",
      "Epoch 70/100\n",
      "35943/35943 [==============================] - 37s 1ms/step - loss: 2.1983 - accuracy: 0.1677\n",
      "Epoch 71/100\n",
      "35943/35943 [==============================] - 36s 1000us/step - loss: 2.1983 - accuracy: 0.1687\n",
      "Epoch 72/100\n",
      "35943/35943 [==============================] - 39s 1ms/step - loss: 2.1983 - accuracy: 0.1677\n",
      "Epoch 73/100\n",
      "35943/35943 [==============================] - 39s 1ms/step - loss: 2.1982 - accuracy: 0.1678\n",
      "Epoch 74/100\n",
      "35943/35943 [==============================] - 54s 2ms/step - loss: 2.1983 - accuracy: 0.1675\n",
      "Epoch 75/100\n",
      "35943/35943 [==============================] - 48s 1ms/step - loss: 2.1983 - accuracy: 0.1675\n",
      "Epoch 76/100\n",
      "35943/35943 [==============================] - 78s 2ms/step - loss: 2.1983 - accuracy: 0.1677\n",
      "Epoch 77/100\n",
      "35943/35943 [==============================] - 48s 1ms/step - loss: 2.1982 - accuracy: 0.1673\n",
      "Epoch 78/100\n",
      "35943/35943 [==============================] - 51s 1ms/step - loss: 2.1983 - accuracy: 0.1676\n",
      "Epoch 79/100\n",
      "35943/35943 [==============================] - 48s 1ms/step - loss: 2.1983 - accuracy: 0.1676\n",
      "Epoch 80/100\n",
      "35943/35943 [==============================] - 48s 1ms/step - loss: 2.1983 - accuracy: 0.1678 0s - loss: 2\n",
      "Epoch 81/100\n",
      "35943/35943 [==============================] - 48s 1ms/step - loss: 2.1983 - accuracy: 0.1677 0s - loss: 2.1983 - accuracy\n",
      "Epoch 82/100\n",
      "35943/35943 [==============================] - 48s 1ms/step - loss: 2.1983 - accuracy: 0.1678\n",
      "Epoch 83/100\n",
      "35943/35943 [==============================] - 44s 1ms/step - loss: 2.1983 - accuracy: 0.1681\n",
      "Epoch 84/100\n",
      "35943/35943 [==============================] - 41s 1ms/step - loss: 2.1983 - accuracy: 0.1675\n",
      "Epoch 85/100\n",
      "35943/35943 [==============================] - 47s 1ms/step - loss: 2.1983 - accuracy: 0.1676\n",
      "Epoch 86/100\n",
      "35943/35943 [==============================] - 42s 1ms/step - loss: 2.1983 - accuracy: 0.1676\n",
      "Epoch 87/100\n",
      "35943/35943 [==============================] - 42s 1ms/step - loss: 2.1982 - accuracy: 0.1682\n",
      "Epoch 88/100\n",
      "35943/35943 [==============================] - 41s 1ms/step - loss: 2.1983 - accuracy: 0.1681\n",
      "Epoch 89/100\n",
      "35943/35943 [==============================] - 53s 1ms/step - loss: 2.1983 - accuracy: 0.1674\n",
      "Epoch 90/100\n",
      "35943/35943 [==============================] - 47s 1ms/step - loss: 2.1983 - accuracy: 0.1682\n",
      "Epoch 91/100\n",
      "35943/35943 [==============================] - 46s 1ms/step - loss: 2.1982 - accuracy: 0.1681 1s - loss: 2.1980  - ETA: 1s - loss:\n",
      "Epoch 92/100\n",
      "35943/35943 [==============================] - 45s 1ms/step - loss: 2.1983 - accuracy: 0.1671\n",
      "Epoch 93/100\n",
      "35943/35943 [==============================] - 47s 1ms/step - loss: 2.1982 - accuracy: 0.1677\n",
      "Epoch 94/100\n",
      "35943/35943 [==============================] - 49s 1ms/step - loss: 2.1983 - accuracy: 0.1685\n",
      "Epoch 95/100\n",
      "35943/35943 [==============================] - 46s 1ms/step - loss: 2.1983 - accuracy: 0.1675\n",
      "Epoch 96/100\n",
      "35943/35943 [==============================] - 44s 1ms/step - loss: 2.1983 - accuracy: 0.1681 1s - los - E\n",
      "Epoch 97/100\n",
      "35943/35943 [==============================] - 55s 2ms/step - loss: 2.1983 - accuracy: 0.1677\n",
      "Epoch 98/100\n",
      "35943/35943 [==============================] - 42s 1ms/step - loss: 2.1982 - accuracy: 0.1679 0s - loss: - ETA: 0s - loss: 2.1983 - accuracy: 0.16\n",
      "Epoch 99/100\n",
      "35943/35943 [==============================] - 41s 1ms/step - loss: 2.1983 - accuracy: 0.1679\n",
      "Epoch 100/100\n",
      "35943/35943 [==============================] - 43s 1ms/step - loss: 2.1983 - accuracy: 0.1678\n"
     ]
    },
    {
     "data": {
      "text/plain": [
       "<tensorflow.python.keras.callbacks.History at 0x19f2e12f880>"
      ]
     },
     "execution_count": 64,
     "metadata": {},
     "output_type": "execute_result"
    }
   ],
   "source": [
    "# model definition\n",
    "model_over = ml.Sequential()\n",
    "model_over.add( l.Dense(128, input_dim=x_train_over.shape[1], activation='relu') )\n",
    "model_over.add( l.Dense(12, activation='softmax') )\n",
    "\n",
    "# model compile\n",
    "model_over.compile(loss='categorical_crossentropy', optimizer='adam', metrics=['accuracy'])\n",
    "\n",
    "# train model\n",
    "model_over.fit(x_train_over, y_train_over_nn, epochs=100)"
   ]
  },
  {
   "cell_type": "markdown",
   "id": "3b3b7390",
   "metadata": {},
   "source": [
    "### 7.2.3. Neural Network - SMOTE + TOMEKLINK"
   ]
  },
  {
   "cell_type": "code",
   "execution_count": 65,
   "id": "78c00487",
   "metadata": {
    "ExecuteTime": {
     "end_time": "2022-03-09T16:05:16.097266Z",
     "start_time": "2022-03-09T16:05:14.593309Z"
    }
   },
   "outputs": [],
   "source": [
    "ohe_comb = pp.OneHotEncoder()\n",
    "\n",
    "y_train_comb_nn = ohe_comb.fit_transform(y_train_comb.values.reshape(-1, 1)).toarray()"
   ]
  },
  {
   "cell_type": "code",
   "execution_count": 66,
   "id": "51494560",
   "metadata": {
    "ExecuteTime": {
     "end_time": "2022-03-09T17:12:20.596666Z",
     "start_time": "2022-03-09T16:05:16.106268Z"
    }
   },
   "outputs": [
    {
     "name": "stdout",
     "output_type": "stream",
     "text": [
      "Epoch 1/100\n",
      "35932/35932 [==============================] - 46s 1ms/step - loss: 3.2360 - accuracy: 0.1740\n",
      "Epoch 2/100\n",
      "35932/35932 [==============================] - 43s 1ms/step - loss: 2.1999 - accuracy: 0.1668\n",
      "Epoch 3/100\n",
      "35932/35932 [==============================] - 49s 1ms/step - loss: 2.1992 - accuracy: 0.1676\n",
      "Epoch 4/100\n",
      "35932/35932 [==============================] - 53s 1ms/step - loss: 2.1989 - accuracy: 0.1671\n",
      "Epoch 5/100\n",
      "35932/35932 [==============================] - 53s 1ms/step - loss: 2.1988 - accuracy: 0.1667\n",
      "Epoch 6/100\n",
      "35932/35932 [==============================] - 65s 2ms/step - loss: 2.1987 - accuracy: 0.1667\n",
      "Epoch 7/100\n",
      "35932/35932 [==============================] - 50s 1ms/step - loss: 2.1986 - accuracy: 0.1669\n",
      "Epoch 8/100\n",
      "35932/35932 [==============================] - 50s 1ms/step - loss: 2.1986 - accuracy: 0.1672\n",
      "Epoch 9/100\n",
      "35932/35932 [==============================] - 49s 1ms/step - loss: 2.1986 - accuracy: 0.1671\n",
      "Epoch 10/100\n",
      "35932/35932 [==============================] - 45s 1ms/step - loss: 2.1985 - accuracy: 0.1672\n",
      "Epoch 11/100\n",
      "35932/35932 [==============================] - 46s 1ms/step - loss: 2.1985 - accuracy: 0.1668\n",
      "Epoch 12/100\n",
      "35932/35932 [==============================] - ETA: 0s - loss: 2.1984 - accuracy: 0.16 - 50s 1ms/step - loss: 2.1984 - accuracy: 0.1667\n",
      "Epoch 13/100\n",
      "35932/35932 [==============================] - 47s 1ms/step - loss: 2.1984 - accuracy: 0.1669\n",
      "Epoch 14/100\n",
      "35932/35932 [==============================] - 40s 1ms/step - loss: 2.1985 - accuracy: 0.1670\n",
      "Epoch 15/100\n",
      "35932/35932 [==============================] - 48s 1ms/step - loss: 2.1984 - accuracy: 0.1669\n",
      "Epoch 16/100\n",
      "35932/35932 [==============================] - 44s 1ms/step - loss: 2.1983 - accuracy: 0.1669\n",
      "Epoch 17/100\n",
      "35932/35932 [==============================] - 53s 1ms/step - loss: 2.1983 - accuracy: 0.1669\n",
      "Epoch 18/100\n",
      "35932/35932 [==============================] - 49s 1ms/step - loss: 2.1983 - accuracy: 0.1666\n",
      "Epoch 19/100\n",
      "35932/35932 [==============================] - 48s 1ms/step - loss: 2.1983 - accuracy: 0.1665\n",
      "Epoch 20/100\n",
      "35932/35932 [==============================] - 50s 1ms/step - loss: 2.1984 - accuracy: 0.1669\n",
      "Epoch 21/100\n",
      "35932/35932 [==============================] - 48s 1ms/step - loss: 2.1983 - accuracy: 0.1671\n",
      "Epoch 22/100\n",
      "35932/35932 [==============================] - 50s 1ms/step - loss: 2.1983 - accuracy: 0.1668\n",
      "Epoch 23/100\n",
      "35932/35932 [==============================] - 50s 1ms/step - loss: 2.1982 - accuracy: 0.1676\n",
      "Epoch 24/100\n",
      "35932/35932 [==============================] - 37s 1ms/step - loss: 2.1984 - accuracy: 0.1664\n",
      "Epoch 25/100\n",
      "35932/35932 [==============================] - 44s 1ms/step - loss: 2.1983 - accuracy: 0.1671\n",
      "Epoch 26/100\n",
      "35932/35932 [==============================] - 41s 1ms/step - loss: 2.1982 - accuracy: 0.1675\n",
      "Epoch 27/100\n",
      "35932/35932 [==============================] - 39s 1ms/step - loss: 2.1982 - accuracy: 0.1666\n",
      "Epoch 28/100\n",
      "35932/35932 [==============================] - 39s 1ms/step - loss: 2.1982 - accuracy: 0.1669\n",
      "Epoch 29/100\n",
      "35932/35932 [==============================] - 40s 1ms/step - loss: 2.1982 - accuracy: 0.1668\n",
      "Epoch 30/100\n",
      "35932/35932 [==============================] - 43s 1ms/step - loss: 2.1981 - accuracy: 0.1676\n",
      "Epoch 31/100\n",
      "35932/35932 [==============================] - 48s 1ms/step - loss: 2.1982 - accuracy: 0.1672\n",
      "Epoch 32/100\n",
      "35932/35932 [==============================] - 49s 1ms/step - loss: 2.1984 - accuracy: 0.1669\n",
      "Epoch 33/100\n",
      "35932/35932 [==============================] - 44s 1ms/step - loss: 2.1983 - accuracy: 0.1672\n",
      "Epoch 34/100\n",
      "35932/35932 [==============================] - 46s 1ms/step - loss: 2.1984 - accuracy: 0.1673\n",
      "Epoch 35/100\n",
      "35932/35932 [==============================] - 42s 1ms/step - loss: 2.1983 - accuracy: 0.1670\n",
      "Epoch 36/100\n",
      "35932/35932 [==============================] - 48s 1ms/step - loss: 2.1983 - accuracy: 0.1669 1s - loss: 2.1 - E\n",
      "Epoch 37/100\n",
      "35932/35932 [==============================] - 42s 1ms/step - loss: 2.1983 - accuracy: 0.1671\n",
      "Epoch 38/100\n",
      "35932/35932 [==============================] - 42s 1ms/step - loss: 2.1984 - accuracy: 0.1668\n",
      "Epoch 39/100\n",
      "35932/35932 [==============================] - 47s 1ms/step - loss: 2.1986 - accuracy: 0.1668\n",
      "Epoch 40/100\n",
      "35932/35932 [==============================] - 46s 1ms/step - loss: 2.1989 - accuracy: 0.1670\n",
      "Epoch 41/100\n",
      "35932/35932 [==============================] - 39s 1ms/step - loss: 2.1990 - accuracy: 0.1669\n",
      "Epoch 42/100\n",
      "35932/35932 [==============================] - 36s 1ms/step - loss: 2.1988 - accuracy: 0.1663\n",
      "Epoch 43/100\n",
      "35932/35932 [==============================] - 37s 1ms/step - loss: 2.1990 - accuracy: 0.1666\n",
      "Epoch 44/100\n",
      "35932/35932 [==============================] - 37s 1ms/step - loss: 2.1991 - accuracy: 0.1664\n",
      "Epoch 45/100\n",
      "35932/35932 [==============================] - 37s 1ms/step - loss: 2.1988 - accuracy: 0.1667\n",
      "Epoch 46/100\n",
      "35932/35932 [==============================] - 37s 1ms/step - loss: 2.1991 - accuracy: 0.1668\n",
      "Epoch 47/100\n",
      "35932/35932 [==============================] - 39s 1ms/step - loss: 2.1990 - accuracy: 0.1662\n",
      "Epoch 48/100\n",
      "35932/35932 [==============================] - 37s 1ms/step - loss: 2.1990 - accuracy: 0.1663\n",
      "Epoch 49/100\n",
      "35932/35932 [==============================] - 37s 1ms/step - loss: 2.1988 - accuracy: 0.1665\n",
      "Epoch 50/100\n",
      "35932/35932 [==============================] - 37s 1ms/step - loss: 2.1995 - accuracy: 0.1664\n",
      "Epoch 51/100\n",
      "35932/35932 [==============================] - 37s 1ms/step - loss: 2.1989 - accuracy: 0.1668\n",
      "Epoch 52/100\n",
      "35932/35932 [==============================] - 37s 1ms/step - loss: 2.1991 - accuracy: 0.1666\n",
      "Epoch 53/100\n",
      "35932/35932 [==============================] - 36s 993us/step - loss: 2.1990 - accuracy: 0.1666\n",
      "Epoch 54/100\n",
      "35932/35932 [==============================] - 36s 995us/step - loss: 2.1995 - accuracy: 0.1667\n",
      "Epoch 55/100\n",
      "35932/35932 [==============================] - 35s 984us/step - loss: 2.1992 - accuracy: 0.1664\n",
      "Epoch 56/100\n",
      "35932/35932 [==============================] - 36s 988us/step - loss: 2.1994 - accuracy: 0.1665\n",
      "Epoch 57/100\n",
      "35932/35932 [==============================] - 36s 997us/step - loss: 2.1991 - accuracy: 0.1662\n",
      "Epoch 58/100\n",
      "35932/35932 [==============================] - 35s 983us/step - loss: 2.1990 - accuracy: 0.1663\n",
      "Epoch 59/100\n",
      "35932/35932 [==============================] - 36s 1ms/step - loss: 2.1992 - accuracy: 0.1662\n",
      "Epoch 60/100\n",
      "35932/35932 [==============================] - 36s 990us/step - loss: 2.1988 - accuracy: 0.1665\n",
      "Epoch 61/100\n",
      "35932/35932 [==============================] - 37s 1ms/step - loss: 2.1989 - accuracy: 0.1663\n",
      "Epoch 62/100\n",
      "35932/35932 [==============================] - 36s 988us/step - loss: 2.1993 - accuracy: 0.1664\n",
      "Epoch 63/100\n",
      "35932/35932 [==============================] - 36s 1ms/step - loss: 2.1994 - accuracy: 0.1673\n",
      "Epoch 64/100\n",
      "35932/35932 [==============================] - 37s 1ms/step - loss: 2.1992 - accuracy: 0.1664\n",
      "Epoch 65/100\n",
      "35932/35932 [==============================] - 36s 1ms/step - loss: 2.1988 - accuracy: 0.1666\n",
      "Epoch 66/100\n",
      "35932/35932 [==============================] - 35s 987us/step - loss: 2.1992 - accuracy: 0.1667\n",
      "Epoch 67/100\n",
      "35932/35932 [==============================] - 34s 957us/step - loss: 2.1990 - accuracy: 0.1663\n",
      "Epoch 68/100\n",
      "35932/35932 [==============================] - 34s 956us/step - loss: 2.1993 - accuracy: 0.1664\n",
      "Epoch 69/100\n",
      "35932/35932 [==============================] - 35s 967us/step - loss: 2.1990 - accuracy: 0.1666\n",
      "Epoch 70/100\n",
      "35932/35932 [==============================] - 34s 950us/step - loss: 2.1994 - accuracy: 0.1668\n",
      "Epoch 71/100\n",
      "35932/35932 [==============================] - 35s 968us/step - loss: 2.1994 - accuracy: 0.1670\n",
      "Epoch 72/100\n",
      "35932/35932 [==============================] - 34s 953us/step - loss: 2.1992 - accuracy: 0.1665\n",
      "Epoch 73/100\n",
      "35932/35932 [==============================] - 35s 962us/step - loss: 2.1991 - accuracy: 0.1665\n",
      "Epoch 74/100\n",
      "35932/35932 [==============================] - 35s 960us/step - loss: 2.1995 - accuracy: 0.1666\n",
      "Epoch 75/100\n",
      "35932/35932 [==============================] - 34s 946us/step - loss: 2.1990 - accuracy: 0.1667\n",
      "Epoch 76/100\n",
      "35932/35932 [==============================] - 35s 962us/step - loss: 2.1988 - accuracy: 0.1665\n",
      "Epoch 77/100\n",
      "35932/35932 [==============================] - 35s 967us/step - loss: 2.1993 - accuracy: 0.1665\n",
      "Epoch 78/100\n",
      "35932/35932 [==============================] - 34s 950us/step - loss: 2.1987 - accuracy: 0.1665\n",
      "Epoch 79/100\n",
      "35932/35932 [==============================] - 34s 951us/step - loss: 2.1988 - accuracy: 0.1668\n",
      "Epoch 80/100\n",
      "35932/35932 [==============================] - 36s 993us/step - loss: 2.1988 - accuracy: 0.1666\n",
      "Epoch 81/100\n",
      "35932/35932 [==============================] - 36s 999us/step - loss: 2.1989 - accuracy: 0.1662\n",
      "Epoch 82/100\n",
      "35932/35932 [==============================] - 34s 950us/step - loss: 2.1990 - accuracy: 0.1668\n",
      "Epoch 83/100\n",
      "35932/35932 [==============================] - 35s 977us/step - loss: 2.1987 - accuracy: 0.1665\n",
      "Epoch 84/100\n",
      "35932/35932 [==============================] - 34s 956us/step - loss: 2.2000 - accuracy: 0.1664\n",
      "Epoch 85/100\n",
      "35932/35932 [==============================] - 35s 972us/step - loss: 2.1986 - accuracy: 0.1666\n",
      "Epoch 86/100\n",
      "35932/35932 [==============================] - 35s 966us/step - loss: 2.1988 - accuracy: 0.1668\n",
      "Epoch 87/100\n",
      "35932/35932 [==============================] - 38s 1ms/step - loss: 2.1990 - accuracy: 0.1663\n",
      "Epoch 88/100\n",
      "35932/35932 [==============================] - 37s 1ms/step - loss: 2.1991 - accuracy: 0.1664\n",
      "Epoch 89/100\n",
      "35932/35932 [==============================] - 38s 1ms/step - loss: 2.1988 - accuracy: 0.1668\n",
      "Epoch 90/100\n",
      "35932/35932 [==============================] - 35s 960us/step - loss: 2.1990 - accuracy: 0.1663\n",
      "Epoch 91/100\n",
      "35932/35932 [==============================] - 35s 968us/step - loss: 2.1994 - accuracy: 0.1670\n",
      "Epoch 92/100\n",
      "35932/35932 [==============================] - 34s 959us/step - loss: 2.1989 - accuracy: 0.1662\n",
      "Epoch 93/100\n",
      "35932/35932 [==============================] - 36s 993us/step - loss: 2.1989 - accuracy: 0.1661\n",
      "Epoch 94/100\n",
      "35932/35932 [==============================] - 37s 1ms/step - loss: 2.1989 - accuracy: 0.1667\n",
      "Epoch 95/100\n",
      "35932/35932 [==============================] - 35s 963us/step - loss: 2.1989 - accuracy: 0.1666\n",
      "Epoch 96/100\n",
      "35932/35932 [==============================] - 34s 960us/step - loss: 2.1991 - accuracy: 0.1668\n",
      "Epoch 97/100\n",
      "35932/35932 [==============================] - 35s 964us/step - loss: 2.1994 - accuracy: 0.1662\n",
      "Epoch 98/100\n",
      "35932/35932 [==============================] - 36s 997us/step - loss: 2.1991 - accuracy: 0.1666\n",
      "Epoch 99/100\n",
      "35932/35932 [==============================] - 35s 963us/step - loss: 2.1989 - accuracy: 0.1665\n",
      "Epoch 100/100\n",
      "35932/35932 [==============================] - 35s 976us/step - loss: 2.1989 - accuracy: 0.1665\n"
     ]
    },
    {
     "data": {
      "text/plain": [
       "<tensorflow.python.keras.callbacks.History at 0x19f4bf6c8b0>"
      ]
     },
     "execution_count": 66,
     "metadata": {},
     "output_type": "execute_result"
    }
   ],
   "source": [
    "# model definition\n",
    "model_comb = ml.Sequential()\n",
    "model_comb.add( l.Dense(128, input_dim=x_train_comb.shape[1], activation='relu') )\n",
    "model_comb.add( l.Dense(12, activation='softmax') )\n",
    "\n",
    "# model compile\n",
    "model_comb.compile(loss='categorical_crossentropy', optimizer='adam', metrics=['accuracy'])\n",
    "\n",
    "# train model\n",
    "model_comb.fit(x_train_comb, y_train_comb_nn, epochs=100)"
   ]
  },
  {
   "cell_type": "markdown",
   "id": "dec46b91",
   "metadata": {
    "heading_collapsed": true
   },
   "source": [
    "# 8.0. Hyper Parameter Tuning\n",
    "\n",
    "Hyper Parameter Tuning will not be considered until the most optimal machine learning model is selected, at this first cycle was considered only one model to complete the cycle and go through for all the major phases to validate the feasibility of the project."
   ]
  },
  {
   "cell_type": "code",
   "execution_count": null,
   "id": "2033ffaa",
   "metadata": {
    "hidden": true
   },
   "outputs": [],
   "source": []
  },
  {
   "cell_type": "markdown",
   "id": "caddd600",
   "metadata": {},
   "source": [
    "# 9.0. Error Translation and Interpretation"
   ]
  },
  {
   "cell_type": "markdown",
   "id": "1645a305",
   "metadata": {
    "heading_collapsed": true
   },
   "source": [
    "## 9.1. Baseline Model Performance"
   ]
  },
  {
   "cell_type": "code",
   "execution_count": 67,
   "id": "d032e4c1",
   "metadata": {
    "ExecuteTime": {
     "end_time": "2022-03-09T17:12:27.900953Z",
     "start_time": "2022-03-09T17:12:20.648518Z"
    },
    "hidden": true
   },
   "outputs": [
    {
     "name": "stdout",
     "output_type": "stream",
     "text": [
      "Accuracy 0.4243084295360488\n",
      "Balanced Accuracy: 0.08232015865180085\n",
      "Kappa Score: -0.003413748445285636\n",
      "              precision    recall  f1-score   support\n",
      "\n",
      "          AU       0.00      0.00      0.00       101\n",
      "          CA       0.00      0.00      0.00       265\n",
      "          DE       0.01      0.01      0.01       234\n",
      "          ES       0.01      0.01      0.01       385\n",
      "          FR       0.02      0.02      0.02       971\n",
      "          GB       0.01      0.01      0.01       457\n",
      "          IT       0.01      0.01      0.01       553\n",
      "         NDF       0.58      0.58      0.58     23927\n",
      "          NL       0.00      0.00      0.00       143\n",
      "          PT       0.00      0.00      0.00        54\n",
      "          US       0.30      0.30      0.30     12249\n",
      "       other       0.05      0.05      0.05      1980\n",
      "\n",
      "    accuracy                           0.42     41319\n",
      "   macro avg       0.08      0.08      0.08     41319\n",
      "weighted avg       0.42      0.42      0.42     41319\n",
      "\n"
     ]
    },
    {
     "data": {
      "image/png": "[encoded data removed]",
      "text/plain": [
       "<Figure size 864x864 with 2 Axes>"
      ]
     },
     "metadata": {
      "needs_background": "light"
     },
     "output_type": "display_data"
    }
   ],
   "source": [
    "# Accuracy\n",
    "acc_random = m.accuracy_score( y_test, yhat_random )\n",
    "print(f'Accuracy {acc_random}')\n",
    "\n",
    "# Balanced Accuracy\n",
    "balanced_acc_random = m.balanced_accuracy_score(y_test, yhat_random)\n",
    "print(f'Balanced Accuracy: {balanced_acc_random}')\n",
    "\n",
    "# Kappa Metrics\n",
    "kappa_random = m.cohen_kappa_score(y_test, yhat_random)\n",
    "print(f'Kappa Score: {kappa_random}')\n",
    "\n",
    "# Classification report\n",
    "print(m.classification_report(y_test, yhat_random))\n",
    "\n",
    "# Confusion Matrix\n",
    "mt.plot_confusion_matrix(y_test, yhat_random, normalize=False, figsize=(12,12));"
   ]
  },
  {
   "cell_type": "markdown",
   "id": "cc98a2dd",
   "metadata": {},
   "source": [
    "## 9.2. Neural Network Performance"
   ]
  },
  {
   "cell_type": "markdown",
   "id": "afa3706d",
   "metadata": {},
   "source": [
    "### 9.2.1. Neural Network - Random Undersampling"
   ]
  },
  {
   "cell_type": "code",
   "execution_count": 68,
   "id": "921b5fa4",
   "metadata": {
    "ExecuteTime": {
     "end_time": "2022-03-09T17:12:31.184130Z",
     "start_time": "2022-03-09T17:12:27.932659Z"
    }
   },
   "outputs": [],
   "source": [
    "# prediction\n",
    "pred_under_nn = model_under.predict(x_test_under)\n",
    "\n",
    "# invert prediction\n",
    "yhat_under_nn = ohe_under.inverse_transform(pred_under_nn)\n",
    "\n",
    "# test dataset prepare with real results\n",
    "y_test_under_nn = y_test_under.to_numpy()\n",
    "yhat_under_nn = yhat_under_nn.reshape(1, -1)[0]"
   ]
  },
  {
   "cell_type": "code",
   "execution_count": 69,
   "id": "d71eeada",
   "metadata": {
    "ExecuteTime": {
     "end_time": "2022-03-09T17:12:31.230817Z",
     "start_time": "2022-03-09T17:12:31.188141Z"
    }
   },
   "outputs": [
    {
     "data": {
      "text/plain": [
       "PT     0.660156\n",
       "DE     0.214844\n",
       "NDF    0.099609\n",
       "NL     0.013672\n",
       "GB     0.007812\n",
       "AU     0.001953\n",
       "US     0.001953\n",
       "dtype: float64"
      ]
     },
     "execution_count": 69,
     "metadata": {},
     "output_type": "execute_result"
    }
   ],
   "source": [
    "# check balanced results\n",
    "pd.DataFrame(yhat_under_nn).value_counts(normalize=True)"
   ]
  },
  {
   "cell_type": "code",
   "execution_count": 70,
   "id": "f247d237",
   "metadata": {
    "ExecuteTime": {
     "end_time": "2022-03-09T17:12:32.138620Z",
     "start_time": "2022-03-09T17:12:31.233822Z"
    }
   },
   "outputs": [
    {
     "name": "stdout",
     "output_type": "stream",
     "text": [
      "Accuracy: 0.185546875\n",
      "Balanced Accuracy: 0.17408509836531239\n",
      "Kappa Score: 0.10483505794354908\n",
      "              precision    recall  f1-score   support\n",
      "\n",
      "          AU       1.00      0.02      0.05        43\n",
      "          CA       0.00      0.00      0.00        43\n",
      "          DE       0.13      0.31      0.18        45\n",
      "          ES       0.00      0.00      0.00        46\n",
      "          FR       0.00      0.00      0.00        35\n",
      "          GB       0.00      0.00      0.00        50\n",
      "          IT       0.00      0.00      0.00        55\n",
      "         NDF       0.88      1.00      0.94        45\n",
      "          NL       0.14      0.03      0.05        32\n",
      "          PT       0.10      0.72      0.18        47\n",
      "          US       0.00      0.00      0.00        38\n",
      "       other       0.00      0.00      0.00        33\n",
      "\n",
      "    accuracy                           0.19       512\n",
      "   macro avg       0.19      0.17      0.12       512\n",
      "weighted avg       0.19      0.19      0.12       512\n",
      "\n"
     ]
    },
    {
     "data": {
      "image/png": "[encoded data removed]",
      "text/plain": [
       "<Figure size 864x864 with 2 Axes>"
      ]
     },
     "metadata": {
      "needs_background": "light"
     },
     "output_type": "display_data"
    }
   ],
   "source": [
    "# Accuracy\n",
    "acc_under_nn = m.accuracy_score( y_test_under_nn, yhat_under_nn )\n",
    "print(f'Accuracy: {acc_under_nn}')\n",
    "\n",
    "# Balanced Accuracy\n",
    "balanced_acc_under_nn = m.balanced_accuracy_score(y_test_under_nn, yhat_under_nn)\n",
    "print(f'Balanced Accuracy: {balanced_acc_under_nn}')\n",
    "\n",
    "# Kappa Metrics\n",
    "kappa_under_nn = m.cohen_kappa_score(y_test_under_nn, yhat_under_nn)\n",
    "print(f'Kappa Score: {kappa_under_nn}')\n",
    "\n",
    "# Classification report\n",
    "print(m.classification_report(y_test_under_nn, yhat_under_nn))\n",
    "\n",
    "# Confusion Matrix\n",
    "mt.plot_confusion_matrix( y_test_under_nn, yhat_under_nn, normalize=False, figsize=(12,12));"
   ]
  },
  {
   "cell_type": "markdown",
   "id": "d19c6429",
   "metadata": {},
   "source": [
    "### 9.2.2. Neural Network - Random Oversampling"
   ]
  },
  {
   "cell_type": "code",
   "execution_count": 71,
   "id": "7c775ae4",
   "metadata": {
    "ExecuteTime": {
     "end_time": "2022-03-09T17:12:40.444487Z",
     "start_time": "2022-03-09T17:12:32.143661Z"
    }
   },
   "outputs": [],
   "source": [
    "# prediction\n",
    "pred_over_nn = model_over.predict(x_test_over)\n",
    "\n",
    "# invert prediction\n",
    "yhat_over_nn = ohe_over.inverse_transform(pred_over_nn)\n",
    "\n",
    "# test dataset prepare with real results\n",
    "y_test_over_nn = y_test_over.to_numpy()\n",
    "yhat_over_nn = yhat_over_nn.reshape(1, -1)[0]"
   ]
  },
  {
   "cell_type": "code",
   "execution_count": 72,
   "id": "b4e89b98",
   "metadata": {
    "ExecuteTime": {
     "end_time": "2022-03-09T17:12:40.508486Z",
     "start_time": "2022-03-09T17:12:40.449490Z"
    }
   },
   "outputs": [
    {
     "data": {
      "text/plain": [
       "other    0.912862\n",
       "NDF      0.083351\n",
       "PT       0.003787\n",
       "dtype: float64"
      ]
     },
     "execution_count": 72,
     "metadata": {},
     "output_type": "execute_result"
    }
   ],
   "source": [
    "# check balanced results\n",
    "pd.DataFrame(yhat_over_nn).value_counts(normalize=True)"
   ]
  },
  {
   "cell_type": "code",
   "execution_count": 73,
   "id": "20060d9f",
   "metadata": {
    "ExecuteTime": {
     "end_time": "2022-03-09T17:12:54.882759Z",
     "start_time": "2022-03-09T17:12:40.515490Z"
    }
   },
   "outputs": [
    {
     "name": "stdout",
     "output_type": "stream",
     "text": [
      "Accuracy: 0.16781431711320702\n",
      "Balanced Accuracy: 0.1680193119828757\n",
      "Kappa Score: 0.09255327331978158\n",
      "              precision    recall  f1-score   support\n",
      "\n",
      "          AU       0.00      0.00      0.00     23979\n",
      "          CA       0.00      0.00      0.00     24024\n",
      "          DE       0.00      0.00      0.00     24042\n",
      "          ES       0.00      0.00      0.00     23971\n",
      "          FR       0.00      0.00      0.00     24083\n",
      "          GB       0.00      0.00      0.00     23936\n",
      "          IT       0.00      0.00      0.00     23859\n",
      "         NDF       1.00      1.00      1.00     24038\n",
      "          NL       0.00      0.00      0.00     24168\n",
      "          PT       0.51      0.02      0.04     23785\n",
      "          US       0.00      0.00      0.00     23828\n",
      "       other       0.09      1.00      0.17     23831\n",
      "\n",
      "    accuracy                           0.17    287544\n",
      "   macro avg       0.13      0.17      0.10    287544\n",
      "weighted avg       0.13      0.17      0.10    287544\n",
      "\n"
     ]
    },
    {
     "data": {
      "image/png": "[encoded data removed]",
      "text/plain": [
       "<Figure size 864x864 with 2 Axes>"
      ]
     },
     "metadata": {
      "needs_background": "light"
     },
     "output_type": "display_data"
    }
   ],
   "source": [
    "# Accuracy\n",
    "acc_over_nn = m.accuracy_score( y_test_over_nn, yhat_over_nn )\n",
    "print(f'Accuracy: {acc_over_nn}')\n",
    "\n",
    "# Balanced Accuracy\n",
    "balanced_acc_over_nn = m.balanced_accuracy_score(y_test_over_nn, yhat_over_nn)\n",
    "print(f'Balanced Accuracy: {balanced_acc_over_nn}')\n",
    "\n",
    "# Kappa Metrics\n",
    "kappa_over_nn = m.cohen_kappa_score(y_test_over_nn, yhat_over_nn)\n",
    "print(f'Kappa Score: {kappa_over_nn}')\n",
    "\n",
    "# Classification report\n",
    "print(m.classification_report(y_test_over_nn, yhat_over_nn))\n",
    "\n",
    "# Confusion Matrix\n",
    "mt.plot_confusion_matrix( y_test_over_nn, yhat_over_nn, normalize=False, figsize=(12,12));"
   ]
  },
  {
   "cell_type": "markdown",
   "id": "7e2efdd6",
   "metadata": {
    "ExecuteTime": {
     "end_time": "2022-03-09T02:32:36.774772Z",
     "start_time": "2022-03-09T02:32:36.732790Z"
    }
   },
   "source": [
    "### 9.2.3. Neural Network - SMOTE + TOMEKLINK"
   ]
  },
  {
   "cell_type": "code",
   "execution_count": 74,
   "id": "ae999ad1",
   "metadata": {
    "ExecuteTime": {
     "end_time": "2022-03-09T17:13:02.719271Z",
     "start_time": "2022-03-09T17:12:54.885487Z"
    }
   },
   "outputs": [],
   "source": [
    "# prediction\n",
    "pred_comb_nn = model_comb.predict(x_test_comb)\n",
    "\n",
    "# invert prediction\n",
    "yhat_comb_nn = ohe_comb.inverse_transform(pred_comb_nn)\n",
    "\n",
    "# test dataset prepare with real results\n",
    "y_test_comb_nn = y_test_comb.to_numpy()\n",
    "yhat_comb_nn = yhat_comb_nn.reshape(1, -1)[0]"
   ]
  },
  {
   "cell_type": "code",
   "execution_count": 75,
   "id": "c9059ad9",
   "metadata": {
    "ExecuteTime": {
     "end_time": "2022-03-09T17:13:02.767189Z",
     "start_time": "2022-03-09T17:13:02.722166Z"
    }
   },
   "outputs": [
    {
     "data": {
      "text/plain": [
       "AU     0.916794\n",
       "NDF    0.083199\n",
       "DE     0.000003\n",
       "IT     0.000003\n",
       "dtype: float64"
      ]
     },
     "execution_count": 75,
     "metadata": {},
     "output_type": "execute_result"
    }
   ],
   "source": [
    "# check balanced results\n",
    "pd.DataFrame(yhat_comb_nn).value_counts(normalize=True)"
   ]
  },
  {
   "cell_type": "code",
   "execution_count": 76,
   "id": "37392137",
   "metadata": {
    "ExecuteTime": {
     "end_time": "2022-03-09T17:13:25.518782Z",
     "start_time": "2022-03-09T17:13:02.771178Z"
    }
   },
   "outputs": [
    {
     "name": "stdout",
     "output_type": "stream",
     "text": [
      "Accuracy: 0.1666005691345398\n",
      "Balanced Accuracy: 0.16665624218163622\n",
      "Kappa Score: 0.09076247702806095\n",
      "              precision    recall  f1-score   support\n",
      "\n",
      "          AU       0.09      1.00      0.17     23982\n",
      "          CA       0.00      0.00      0.00     24029\n",
      "          DE       0.00      0.00      0.00     23884\n",
      "          ES       0.00      0.00      0.00     24022\n",
      "          FR       0.00      0.00      0.00     23859\n",
      "          GB       0.00      0.00      0.00     24079\n",
      "          IT       0.00      0.00      0.00     23973\n",
      "         NDF       1.00      1.00      1.00     23911\n",
      "          NL       0.00      0.00      0.00     24285\n",
      "          PT       0.00      0.00      0.00     23794\n",
      "          US       0.00      0.00      0.00     23738\n",
      "       other       0.00      0.00      0.00     23898\n",
      "\n",
      "    accuracy                           0.17    287454\n",
      "   macro avg       0.09      0.17      0.10    287454\n",
      "weighted avg       0.09      0.17      0.10    287454\n",
      "\n"
     ]
    },
    {
     "data": {
      "image/png": "[encoded data removed]",
      "text/plain": [
       "<Figure size 864x864 with 2 Axes>"
      ]
     },
     "metadata": {
      "needs_background": "light"
     },
     "output_type": "display_data"
    }
   ],
   "source": [
    "# Accuracy\n",
    "acc_comb_nn = m.accuracy_score( y_test_comb_nn, yhat_comb_nn )\n",
    "print(f'Accuracy: {acc_comb_nn}')\n",
    "\n",
    "# Balanced Accuracy\n",
    "balanced_acc_comb_nn = m.balanced_accuracy_score(y_test_comb_nn, yhat_comb_nn)\n",
    "print(f'Balanced Accuracy: {balanced_acc_comb_nn}')\n",
    "\n",
    "# Kappa Metrics\n",
    "kappa_comb_nn = m.cohen_kappa_score(y_test_comb_nn, yhat_comb_nn)\n",
    "print(f'Kappa Score: {kappa_comb_nn}')\n",
    "\n",
    "# Classification report\n",
    "print(m.classification_report(y_test_comb_nn, yhat_comb_nn))\n",
    "\n",
    "# Confusion Matrix\n",
    "mt.plot_confusion_matrix( y_test_comb_nn, yhat_comb_nn, normalize=False, figsize=(12,12));"
   ]
  },
  {
   "cell_type": "markdown",
   "id": "91711a09",
   "metadata": {},
   "source": [
    "## 9.3. Neural Network Performance - Cross-Validation"
   ]
  },
  {
   "cell_type": "code",
   "execution_count": 77,
   "id": "8f35f3e2",
   "metadata": {
    "ExecuteTime": {
     "end_time": "2022-03-09T17:13:25.534792Z",
     "start_time": "2022-03-09T17:13:25.520783Z"
    }
   },
   "outputs": [],
   "source": [
    "# # generate k-fold\n",
    "# num_folds = 5\n",
    "# kfold = ms.StratifiedKFold( n_splits=num_folds, shuffle=True, random_state=32 )\n",
    "\n",
    "# balanced_acc_list = []\n",
    "\n",
    "# kappa_list = []\n",
    "\n",
    "# i = 1\n",
    "\n",
    "# for train_index, val_index in kfold.split( x_train, y_train ):\n",
    "#     print(f'Fold Number:{i}/{num_folds}')\n",
    "    \n",
    "#     # split data into training and test set\n",
    "#     x_train_cv = x_train.iloc[train_index]\n",
    "#     y_train_cv = y_train.iloc[train_index]\n",
    "    \n",
    "#     x_validation_cv = x_train.iloc[val_index]\n",
    "#     y_validation_cv = y_train.iloc[val_index]\n",
    "    \n",
    "#     # encoding response variable\n",
    "#     ohe = pp.OneHotEncoder()\n",
    "\n",
    "#     y_train_cv_nn = ohe.fit_transform(y_train_cv.values.reshape(-1, 1)).toarray()\n",
    "\n",
    "#     # model definition\n",
    "#     model = ml.Sequential()\n",
    "#     model.add( l.Dense(128, input_dim=x_train_cv.shape[1], activation='relu') )\n",
    "#     model.add( l.Dense(12, activation='softmax') )\n",
    "\n",
    "#     # model compile\n",
    "#     model.compile(loss='categorical_crossentropy', optimizer='adam', metrics=['accuracy'])\n",
    "\n",
    "#     # train model\n",
    "#     model.fit(x_train_cv, y_train_cv_nn, epochs=100, batch_size=32, verbose=0)\n",
    "\n",
    "#     # prediction\n",
    "#     pred_cv_nn = model.predict(x_validation_cv)\n",
    "\n",
    "#     # invert prediction\n",
    "#     yhat_cv_nn = ohe.inverse_transform(pred_cv_nn)\n",
    "\n",
    "#     # test dataset prepare with real results\n",
    "#     y_test_cv_nn = y_validation_cv.to_numpy()\n",
    "#     yhat_cv_nn = yhat_cv_nn.reshape(1, -1)[0]\n",
    "    \n",
    "#     # performance metrics \n",
    "#     # Balanced Accuracy\n",
    "#     balanced_acc_nn = m.balanced_accuracy_score(y_test_cv_nn, yhat_cv_nn)\n",
    "#     balanced_acc_list.append(balanced_acc_nn)\n",
    "\n",
    "#     # Kappa Metrics\n",
    "#     kappa_nn = m.cohen_kappa_score(y_test_cv_nn, yhat_cv_nn)\n",
    "#     kappa_list.append(kappa_nn)\n",
    "    \n",
    "#     i += 1"
   ]
  },
  {
   "cell_type": "code",
   "execution_count": 78,
   "id": "da7a4455",
   "metadata": {
    "ExecuteTime": {
     "end_time": "2022-03-09T17:13:25.551188Z",
     "start_time": "2022-03-09T17:13:25.540781Z"
    }
   },
   "outputs": [],
   "source": [
    "# print(f'Avg Balanced Accuracy: {np.round(np.mean(balanced_acc_list), 2)} +/- {np.round(np.std(balanced_acc_list),5)}')\n",
    "# print(f'Avg Kappa Score: {np.round(np.mean(kappa_list), 2)} +/- {np.round(np.std(kappa_list), 4)}')"
   ]
  },
  {
   "cell_type": "code",
   "execution_count": null,
   "id": "d2005058",
   "metadata": {},
   "outputs": [],
   "source": []
  },
  {
   "cell_type": "markdown",
   "id": "1a047f32",
   "metadata": {},
   "source": [
    "**Result**\n",
    "\n",
    "The use of sampling methods to handle the imbalanced dataset did not yield positive results in the model's performance metrics.\n",
    "\n",
    "The use of 3 mechanisms to obtain a balanced distribution of classes was considered, including Random Undersampling, Random Oversampling and a synthetic sampling with data generation (SMOTE + Tomek links).\n",
    "\n",
    "The balanced datasets showed similar results to each other and little difference to the previous cycle, with only the Kappa Score much lower(0.70 to 0.09).\n",
    "\n",
    "The only difference observed was in the distribution of classes in the prediction data, with a greater plurality, previously concentrated between the two marjority classes (NDF and US)."
   ]
  },
  {
   "cell_type": "markdown",
   "id": "2d632718",
   "metadata": {},
   "source": [
    "# 10.0. Deploy Model\n",
    "\n",
    "No models will be deployed yet."
   ]
  },
  {
   "cell_type": "code",
   "execution_count": null,
   "id": "a610263d",
   "metadata": {},
   "outputs": [],
   "source": []
  }
 ],
 "metadata": {
  "kernelspec": {
   "display_name": "Python 3 (ipykernel)",
   "language": "python",
   "name": "python3"
  },
  "language_info": {
   "codemirror_mode": {
    "name": "ipython",
    "version": 3
   },
   "file_extension": ".py",
   "mimetype": "text/x-python",
   "name": "python",
   "nbconvert_exporter": "python",
   "pygments_lexer": "ipython3",
   "version": "3.8.12"
  },
  "varInspector": {
   "cols": {
    "lenName": 16,
    "lenType": 16,
    "lenVar": 40
   },
   "kernels_config": {
    "python": {
     "delete_cmd_postfix": "",
     "delete_cmd_prefix": "del ",
     "library": "var_list.py",
     "varRefreshCmd": "print(var_dic_list())"
    },
    "r": {
     "delete_cmd_postfix": ") ",
     "delete_cmd_prefix": "rm(",
     "library": "var_list.r",
     "varRefreshCmd": "cat(var_dic_list()) "
    }
   },
   "types_to_exclude": [
    "module",
    "function",
    "builtin_function_or_method",
    "instance",
    "_Feature"
   ],
   "window_display": false
  }
 },
 "nbformat": 4,
 "nbformat_minor": 5
}
