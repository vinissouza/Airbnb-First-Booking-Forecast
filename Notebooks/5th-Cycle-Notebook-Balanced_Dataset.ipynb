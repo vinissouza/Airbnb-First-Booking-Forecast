{
 "cells": [
  {
   "cell_type": "markdown",
   "id": "e9da1de2",
   "metadata": {
    "ExecuteTime": {
     "end_time": "2022-02-28T20:43:44.606104Z",
     "start_time": "2022-02-28T20:43:44.598146Z"
    }
   },
   "source": [
    "# 0.0. Imports"
   ]
  },
  {
   "cell_type": "code",
   "execution_count": 1,
   "id": "4a97ff0c",
   "metadata": {
    "ExecuteTime": {
     "end_time": "2022-04-10T04:14:54.877860Z",
     "start_time": "2022-04-10T04:14:40.248682Z"
    }
   },
   "outputs": [],
   "source": [
    "import numpy   as np\n",
    "import pandas  as pd\n",
    "import random\n",
    "import seaborn as sns \n",
    "import warnings\n",
    "\n",
    "import seaborn as sns\n",
    "import matplotlib.pyplot as plt\n",
    "\n",
    "from scipy      import stats           as ss\n",
    "from sklearn    import model_selection as ms\n",
    "from sklearn    import preprocessing   as pp\n",
    "from sklearn    import metrics         as m\n",
    "from scikitplot import metrics         as mt\n",
    "\n",
    "from imblearn import under_sampling as us\n",
    "from imblearn import over_sampling  as osamp\n",
    "from imblearn import combine        as comb\n",
    "\n",
    "from keras import models as ml\n",
    "from keras import layers as l\n",
    "\n",
    "warnings.filterwarnings('ignore')"
   ]
  },
  {
   "cell_type": "markdown",
   "id": "58b2f295",
   "metadata": {},
   "source": [
    "## 0.1. Auxiliar Functions"
   ]
  },
  {
   "cell_type": "code",
   "execution_count": 68,
   "id": "c27e09c1",
   "metadata": {
    "ExecuteTime": {
     "end_time": "2022-04-10T06:21:24.498929Z",
     "start_time": "2022-04-10T06:21:24.475954Z"
    }
   },
   "outputs": [],
   "source": [
    "def cross_validation(num_fold, x_train, y_train, model, response_encoder, balance_model=False, verbose=False):\n",
    "    # generate k-fold\n",
    "    num_folds = 5\n",
    "    kfold = ms.StratifiedKFold( n_splits=num_folds, shuffle=True, random_state=32 )\n",
    "\n",
    "    # create empty metrics list\n",
    "    acc_list = []\n",
    "    balanced_acc_list = []\n",
    "    kappa_list = []\n",
    "\n",
    "    # sequence of loop for verbose\n",
    "    i = 1\n",
    "    \n",
    "    # interation to measure performance\n",
    "    for train_index, val_index in kfold.split( x_train, response_encoder.inverse_transform(y_train) ):\n",
    "        if verbose:\n",
    "            print(f'Fold Number:{i}/{num_folds}')\n",
    "\n",
    "        # split data into training and test set\n",
    "        x_train_cv = x_train.iloc[train_index]\n",
    "        y_train_cv = y_train.iloc[train_index]\n",
    "\n",
    "        x_validation_cv = x_train.iloc[val_index]\n",
    "        y_validation_cv = y_train.iloc[val_index]\n",
    "        \n",
    "        # balance of dataset\n",
    "        if balance_model != False:\n",
    "            # resample the dataset\n",
    "            x_train_cv, y_train_cv = balance_model.fit_resample(x_train_cv, response_encoder.inverse_transform(y_train_cv))\n",
    "            \n",
    "            # convert back to encoding representation\n",
    "            y_train_cv = pd.DataFrame(response_encoder.transform(y_train_cv.reshape(-1,1)).toarray(), \n",
    "                                      columns=response_encoder.categories_[0], \n",
    "                                      index=x_train_cv.index)\n",
    "\n",
    "        # train model\n",
    "        model.fit(x_train_cv, y_train_cv, epochs=100, batch_size=32, verbose=0)\n",
    "\n",
    "        # prediction\n",
    "        pred_cv = model.predict(x_validation_cv)\n",
    "\n",
    "        # invert prediction\n",
    "        yhat_cv = response_encoder.inverse_transform(pred_cv)\n",
    "\n",
    "        # invert validation response\n",
    "        y_test_cv = response_encoder.inverse_transform(y_validation_cv)\n",
    "\n",
    "        # performance metrics\n",
    "        # Accuracy\n",
    "        acc_model = m.accuracy_score( y_test_cv, yhat_cv )\n",
    "        acc_list.append(acc_model)\n",
    "        \n",
    "        # Balanced Accuracy\n",
    "        balanced_acc_model = m.balanced_accuracy_score(y_test_cv, yhat_cv)\n",
    "        balanced_acc_list.append(balanced_acc_model)\n",
    "\n",
    "        # Kappa Metrics\n",
    "        kappa_model = m.cohen_kappa_score(y_test_cv, yhat_cv)\n",
    "        kappa_list.append(kappa_model)\n",
    "\n",
    "        i += 1\n",
    "\n",
    "    return acc_list, balanced_acc_list, kappa_list\n",
    "\n",
    "\n",
    "def cramer_v(x, y):\n",
    "    \n",
    "    cm = pd.crosstab(x, y).values\n",
    "    n = cm.sum()\n",
    "    r, k = cm.shape\n",
    "    \n",
    "    rcorr = r - ((r-1)**2)/(n-1)\n",
    "    \n",
    "    kcorr = k - ((k-1)**2)/(n-1)\n",
    "    \n",
    "    chi2 = ss.chi2_contingency(cm)[0]\n",
    "    chi2corr = max(0, chi2 - (k-1)*(r-1)/(n-1))\n",
    "    \n",
    "    return np.sqrt((chi2corr/n)/(min(kcorr-1, rcorr-1)))"
   ]
  },
  {
   "cell_type": "markdown",
   "id": "04bd4aba",
   "metadata": {},
   "source": [
    "## 0.2. Load Data"
   ]
  },
  {
   "cell_type": "code",
   "execution_count": 3,
   "id": "05c73b56",
   "metadata": {
    "ExecuteTime": {
     "end_time": "2022-04-10T04:16:02.729782Z",
     "start_time": "2022-04-10T04:15:45.518782Z"
    }
   },
   "outputs": [],
   "source": [
    "# load training set of user\n",
    "data_users = pd.read_csv('../Datasets/train_users_2.csv', low_memory=False)\n",
    "\n",
    "# load web sessions log for users\n",
    "data_sessions = pd.read_csv('../Datasets/sessions.csv', low_memory=False)"
   ]
  },
  {
   "cell_type": "code",
   "execution_count": 4,
   "id": "53aac6bb",
   "metadata": {
    "ExecuteTime": {
     "end_time": "2022-04-10T04:16:03.319778Z",
     "start_time": "2022-04-10T04:16:03.027794Z"
    }
   },
   "outputs": [],
   "source": [
    "# load test users\n",
    "data_test = pd.read_csv('../Datasets/test_users.csv', low_memory=False)"
   ]
  },
  {
   "cell_type": "markdown",
   "id": "1179dcfc",
   "metadata": {},
   "source": [
    "# 1.0. Data Description"
   ]
  },
  {
   "cell_type": "code",
   "execution_count": 5,
   "id": "a59196b7",
   "metadata": {
    "ExecuteTime": {
     "end_time": "2022-04-10T04:16:03.867779Z",
     "start_time": "2022-04-10T04:16:03.572792Z"
    }
   },
   "outputs": [],
   "source": [
    "df01_users = data_users.copy()\n",
    "\n",
    "df01_sessions = data_sessions.copy()"
   ]
  },
  {
   "cell_type": "markdown",
   "id": "1ccddadb",
   "metadata": {},
   "source": [
    "## 1.1. Data Types"
   ]
  },
  {
   "cell_type": "code",
   "execution_count": 6,
   "id": "fe162f91",
   "metadata": {
    "ExecuteTime": {
     "end_time": "2022-04-10T04:16:04.307778Z",
     "start_time": "2022-04-10T04:16:04.279782Z"
    },
    "cell_style": "split"
   },
   "outputs": [
    {
     "data": {
      "text/plain": [
       "id                          object\n",
       "date_account_created        object\n",
       "timestamp_first_active       int64\n",
       "date_first_booking          object\n",
       "gender                      object\n",
       "age                        float64\n",
       "signup_method               object\n",
       "signup_flow                  int64\n",
       "language                    object\n",
       "affiliate_channel           object\n",
       "affiliate_provider          object\n",
       "first_affiliate_tracked     object\n",
       "signup_app                  object\n",
       "first_device_type           object\n",
       "first_browser               object\n",
       "country_destination         object\n",
       "dtype: object"
      ]
     },
     "execution_count": 6,
     "metadata": {},
     "output_type": "execute_result"
    }
   ],
   "source": [
    "df01_users.dtypes"
   ]
  },
  {
   "cell_type": "code",
   "execution_count": 7,
   "id": "859ee10e",
   "metadata": {
    "ExecuteTime": {
     "end_time": "2022-04-10T04:16:04.682788Z",
     "start_time": "2022-04-10T04:16:04.670795Z"
    },
    "cell_style": "split"
   },
   "outputs": [
    {
     "data": {
      "text/plain": [
       "user_id           object\n",
       "action            object\n",
       "action_type       object\n",
       "action_detail     object\n",
       "device_type       object\n",
       "secs_elapsed     float64\n",
       "dtype: object"
      ]
     },
     "execution_count": 7,
     "metadata": {},
     "output_type": "execute_result"
    }
   ],
   "source": [
    "df01_sessions.dtypes"
   ]
  },
  {
   "cell_type": "markdown",
   "id": "297d0bec",
   "metadata": {
    "cell_style": "center"
   },
   "source": [
    "## 1.2. Data Dimensions"
   ]
  },
  {
   "cell_type": "markdown",
   "id": "c617277e",
   "metadata": {},
   "source": [
    "### 1.2.1. Data Users Dimensions "
   ]
  },
  {
   "cell_type": "code",
   "execution_count": 8,
   "id": "6889bc8e",
   "metadata": {
    "ExecuteTime": {
     "end_time": "2022-04-10T04:16:05.058784Z",
     "start_time": "2022-04-10T04:16:05.033802Z"
    }
   },
   "outputs": [
    {
     "name": "stdout",
     "output_type": "stream",
     "text": [
      "Number of rows of users dataset: 213451\n",
      "Number of columnss of users dataset: 16\n"
     ]
    }
   ],
   "source": [
    "print( f'Number of rows of users dataset: {df01_users.shape[0]}')\n",
    "print( f'Number of columnss of users dataset: {df01_users.shape[1]}')"
   ]
  },
  {
   "cell_type": "markdown",
   "id": "152339da",
   "metadata": {},
   "source": [
    "### 1.2.2. Data Sessions Dimensions\n",
    "\n",
    "This dataset will not be used in this first cycle due to the granularity being action and we want to be user_id for now."
   ]
  },
  {
   "cell_type": "code",
   "execution_count": 9,
   "id": "c1459d2d",
   "metadata": {
    "ExecuteTime": {
     "end_time": "2022-04-10T04:16:05.372783Z",
     "start_time": "2022-04-10T04:16:05.360786Z"
    }
   },
   "outputs": [
    {
     "name": "stdout",
     "output_type": "stream",
     "text": [
      "Number of rows of sessions dataset: 10567737\n",
      "Number of columnss of session dataset: 6\n"
     ]
    }
   ],
   "source": [
    "print( f'Number of rows of sessions dataset: {df01_sessions.shape[0]}')\n",
    "print( f'Number of columnss of session dataset: {df01_sessions.shape[1]}')"
   ]
  },
  {
   "cell_type": "markdown",
   "id": "5ed2d4e7",
   "metadata": {},
   "source": [
    "## 1.3. Check NA"
   ]
  },
  {
   "cell_type": "markdown",
   "id": "3b2018f1",
   "metadata": {},
   "source": [
    "### 1.3.1. Check NA - Data Users"
   ]
  },
  {
   "cell_type": "code",
   "execution_count": 10,
   "id": "49097f87",
   "metadata": {
    "ExecuteTime": {
     "end_time": "2022-04-10T04:16:05.924781Z",
     "start_time": "2022-04-10T04:16:05.739785Z"
    },
    "cell_style": "split"
   },
   "outputs": [
    {
     "data": {
      "text/plain": [
       "id                              0\n",
       "date_account_created            0\n",
       "timestamp_first_active          0\n",
       "date_first_booking         124543\n",
       "gender                          0\n",
       "age                         87990\n",
       "signup_method                   0\n",
       "signup_flow                     0\n",
       "language                        0\n",
       "affiliate_channel               0\n",
       "affiliate_provider              0\n",
       "first_affiliate_tracked      6065\n",
       "signup_app                      0\n",
       "first_device_type               0\n",
       "first_browser                   0\n",
       "country_destination             0\n",
       "dtype: int64"
      ]
     },
     "execution_count": 10,
     "metadata": {},
     "output_type": "execute_result"
    }
   ],
   "source": [
    "df01_users.isna().sum()"
   ]
  },
  {
   "cell_type": "code",
   "execution_count": 11,
   "id": "c559b15b",
   "metadata": {
    "ExecuteTime": {
     "end_time": "2022-04-10T04:16:06.405781Z",
     "start_time": "2022-04-10T04:16:06.237785Z"
    },
    "cell_style": "split"
   },
   "outputs": [
    {
     "data": {
      "text/plain": [
       "id                         0.000000\n",
       "date_account_created       0.000000\n",
       "timestamp_first_active     0.000000\n",
       "date_first_booking         0.583473\n",
       "gender                     0.000000\n",
       "age                        0.412226\n",
       "signup_method              0.000000\n",
       "signup_flow                0.000000\n",
       "language                   0.000000\n",
       "affiliate_channel          0.000000\n",
       "affiliate_provider         0.000000\n",
       "first_affiliate_tracked    0.028414\n",
       "signup_app                 0.000000\n",
       "first_device_type          0.000000\n",
       "first_browser              0.000000\n",
       "country_destination        0.000000\n",
       "dtype: float64"
      ]
     },
     "execution_count": 11,
     "metadata": {},
     "output_type": "execute_result"
    }
   ],
   "source": [
    "df01_users.isna().sum()/df01_users.shape[0]"
   ]
  },
  {
   "cell_type": "markdown",
   "id": "2176ca0f",
   "metadata": {},
   "source": [
    "### 1.3.2. Check NA - Data Sessions"
   ]
  },
  {
   "cell_type": "code",
   "execution_count": 12,
   "id": "09c5347b",
   "metadata": {
    "ExecuteTime": {
     "end_time": "2022-04-10T04:16:08.992778Z",
     "start_time": "2022-04-10T04:16:06.690784Z"
    },
    "cell_style": "split"
   },
   "outputs": [
    {
     "data": {
      "text/plain": [
       "user_id            34496\n",
       "action             79626\n",
       "action_type      1126204\n",
       "action_detail    1126204\n",
       "device_type            0\n",
       "secs_elapsed      136031\n",
       "dtype: int64"
      ]
     },
     "execution_count": 12,
     "metadata": {},
     "output_type": "execute_result"
    }
   ],
   "source": [
    "df01_sessions.isna().sum()"
   ]
  },
  {
   "cell_type": "code",
   "execution_count": 13,
   "id": "55751da3",
   "metadata": {
    "ExecuteTime": {
     "end_time": "2022-04-10T04:16:12.109785Z",
     "start_time": "2022-04-10T04:16:09.342784Z"
    },
    "cell_style": "split"
   },
   "outputs": [
    {
     "data": {
      "text/plain": [
       "user_id          0.003264\n",
       "action           0.007535\n",
       "action_type      0.106570\n",
       "action_detail    0.106570\n",
       "device_type      0.000000\n",
       "secs_elapsed     0.012872\n",
       "dtype: float64"
      ]
     },
     "execution_count": 13,
     "metadata": {},
     "output_type": "execute_result"
    }
   ],
   "source": [
    "df01_sessions.isna().sum()/df01_sessions.shape[0]"
   ]
  },
  {
   "cell_type": "markdown",
   "id": "bd581316",
   "metadata": {},
   "source": [
    "## 1.4. Fillout NA"
   ]
  },
  {
   "cell_type": "markdown",
   "id": "02d2f026",
   "metadata": {},
   "source": [
    "### 1.4.1. Fillout NA - Data Users\n",
    "\n",
    "- **date_first_booking:** the maximum date of the dataset is chosen due to future features considered the space between dates.\n",
    "\n",
    "- **age:** variable age has a normal distribution, so replacing it with with a mean value will not bias the dataset.\n",
    "\n",
    "- **first_affiliate_tracked:** due to the high probability of bias the dataset with categorical data substitution and the low amount of NA datas in this variable, the NA lines will be dropped."
   ]
  },
  {
   "cell_type": "code",
   "execution_count": 14,
   "id": "17027a20",
   "metadata": {
    "ExecuteTime": {
     "end_time": "2022-04-10T04:16:12.789777Z",
     "start_time": "2022-04-10T04:16:12.576785Z"
    }
   },
   "outputs": [],
   "source": [
    "# date_first_booking\n",
    "max_date_first_booking = pd.to_datetime(df01_users['date_first_booking']).max().strftime('%Y-%m-%d')\n",
    "df01_users['date_first_booking'] = df01_users['date_first_booking'].fillna(max_date_first_booking)\n",
    "\n",
    "# age\n",
    "avg_age = int(df01_users['age'].mean())\n",
    "df01_users['age'] = df01_users['age'].fillna(avg_age)\n",
    "\n",
    "# first_affiliate_tracked\n",
    "df01_users = df01_users[~df01_users['first_affiliate_tracked'].isna()]"
   ]
  },
  {
   "cell_type": "code",
   "execution_count": 15,
   "id": "1e6bc1db",
   "metadata": {
    "ExecuteTime": {
     "end_time": "2022-04-10T04:16:13.261782Z",
     "start_time": "2022-04-10T04:16:13.124786Z"
    }
   },
   "outputs": [
    {
     "data": {
      "text/plain": [
       "id                         0.0\n",
       "date_account_created       0.0\n",
       "timestamp_first_active     0.0\n",
       "date_first_booking         0.0\n",
       "gender                     0.0\n",
       "age                        0.0\n",
       "signup_method              0.0\n",
       "signup_flow                0.0\n",
       "language                   0.0\n",
       "affiliate_channel          0.0\n",
       "affiliate_provider         0.0\n",
       "first_affiliate_tracked    0.0\n",
       "signup_app                 0.0\n",
       "first_device_type          0.0\n",
       "first_browser              0.0\n",
       "country_destination        0.0\n",
       "dtype: float64"
      ]
     },
     "execution_count": 15,
     "metadata": {},
     "output_type": "execute_result"
    }
   ],
   "source": [
    "df01_users.isna().sum()/df01_users.shape[0]"
   ]
  },
  {
   "cell_type": "markdown",
   "id": "8375bdfd",
   "metadata": {},
   "source": [
    "### 1.4.2. Fillout NA - Data Sessions\n",
    "\n",
    "Due to a massise amount of data, all NA lines will be dropped."
   ]
  },
  {
   "cell_type": "code",
   "execution_count": 16,
   "id": "97e5f525",
   "metadata": {
    "ExecuteTime": {
     "end_time": "2022-04-10T04:16:20.764778Z",
     "start_time": "2022-04-10T04:16:13.565782Z"
    }
   },
   "outputs": [],
   "source": [
    "# user_id  - 0.003264\n",
    "df01_sessions = df01_sessions[~df01_sessions['user_id'].isna()]\n",
    "\n",
    "# action - 0.007535\n",
    "df01_sessions = df01_sessions[~df01_sessions['action'].isna()]\n",
    "\n",
    "# action_type - 0.106570\n",
    "df01_sessions = df01_sessions[~df01_sessions['action_type'].isna()]\n",
    "\n",
    "# action_detail - 0.106570\n",
    "df01_sessions = df01_sessions[~df01_sessions['action_detail'].isna()]\n",
    "\n",
    "# secs_elapsed - 0.012872\n",
    "df01_sessions = df01_sessions[~df01_sessions['secs_elapsed'].isna()]"
   ]
  },
  {
   "cell_type": "code",
   "execution_count": 17,
   "id": "1b4ae28d",
   "metadata": {
    "ExecuteTime": {
     "end_time": "2022-04-10T04:16:23.136779Z",
     "start_time": "2022-04-10T04:16:21.093794Z"
    }
   },
   "outputs": [
    {
     "data": {
      "text/plain": [
       "user_id          0.0\n",
       "action           0.0\n",
       "action_type      0.0\n",
       "action_detail    0.0\n",
       "device_type      0.0\n",
       "secs_elapsed     0.0\n",
       "dtype: float64"
      ]
     },
     "execution_count": 17,
     "metadata": {},
     "output_type": "execute_result"
    }
   ],
   "source": [
    "df01_sessions.isna().sum()/df01_sessions.shape[0]"
   ]
  },
  {
   "cell_type": "markdown",
   "id": "7076ae4e",
   "metadata": {},
   "source": [
    "## 1.5. Change Data Type"
   ]
  },
  {
   "cell_type": "code",
   "execution_count": 18,
   "id": "793c65b7",
   "metadata": {
    "ExecuteTime": {
     "end_time": "2022-04-10T04:16:23.562778Z",
     "start_time": "2022-04-10T04:16:23.485785Z"
    }
   },
   "outputs": [
    {
     "data": {
      "text/html": [
       "<div>\n",
       "<style scoped>\n",
       "    .dataframe tbody tr th:only-of-type {\n",
       "        vertical-align: middle;\n",
       "    }\n",
       "\n",
       "    .dataframe tbody tr th {\n",
       "        vertical-align: top;\n",
       "    }\n",
       "\n",
       "    .dataframe thead th {\n",
       "        text-align: right;\n",
       "    }\n",
       "</style>\n",
       "<table border=\"1\" class=\"dataframe\">\n",
       "  <thead>\n",
       "    <tr style=\"text-align: right;\">\n",
       "      <th></th>\n",
       "      <th>id</th>\n",
       "      <th>date_account_created</th>\n",
       "      <th>timestamp_first_active</th>\n",
       "      <th>date_first_booking</th>\n",
       "      <th>gender</th>\n",
       "      <th>age</th>\n",
       "      <th>signup_method</th>\n",
       "      <th>signup_flow</th>\n",
       "      <th>language</th>\n",
       "      <th>affiliate_channel</th>\n",
       "      <th>affiliate_provider</th>\n",
       "      <th>first_affiliate_tracked</th>\n",
       "      <th>signup_app</th>\n",
       "      <th>first_device_type</th>\n",
       "      <th>first_browser</th>\n",
       "      <th>country_destination</th>\n",
       "    </tr>\n",
       "  </thead>\n",
       "  <tbody>\n",
       "    <tr>\n",
       "      <th>22660</th>\n",
       "      <td>lxjcosootz</td>\n",
       "      <td>2012-04-29</td>\n",
       "      <td>20120429202000</td>\n",
       "      <td>2015-06-29</td>\n",
       "      <td>MALE</td>\n",
       "      <td>34.0</td>\n",
       "      <td>facebook</td>\n",
       "      <td>0</td>\n",
       "      <td>en</td>\n",
       "      <td>seo</td>\n",
       "      <td>google</td>\n",
       "      <td>linked</td>\n",
       "      <td>Web</td>\n",
       "      <td>iPad</td>\n",
       "      <td>Mobile Safari</td>\n",
       "      <td>NDF</td>\n",
       "    </tr>\n",
       "  </tbody>\n",
       "</table>\n",
       "</div>"
      ],
      "text/plain": [
       "               id date_account_created  timestamp_first_active  \\\n",
       "22660  lxjcosootz           2012-04-29          20120429202000   \n",
       "\n",
       "      date_first_booking gender   age signup_method  signup_flow language  \\\n",
       "22660         2015-06-29   MALE  34.0      facebook            0       en   \n",
       "\n",
       "      affiliate_channel affiliate_provider first_affiliate_tracked signup_app  \\\n",
       "22660               seo             google                  linked        Web   \n",
       "\n",
       "      first_device_type  first_browser country_destination  \n",
       "22660              iPad  Mobile Safari                 NDF  "
      ]
     },
     "execution_count": 18,
     "metadata": {},
     "output_type": "execute_result"
    }
   ],
   "source": [
    "df01_users.sample(1)"
   ]
  },
  {
   "cell_type": "code",
   "execution_count": 19,
   "id": "d76d383f",
   "metadata": {
    "ExecuteTime": {
     "end_time": "2022-04-10T04:16:25.565778Z",
     "start_time": "2022-04-10T04:16:23.906787Z"
    }
   },
   "outputs": [],
   "source": [
    "# change date type\n",
    "df01_users['date_account_created'] = pd.to_datetime(df01_users['date_account_created'])\n",
    "df01_users['date_first_booking'] = pd.to_datetime(df01_users['date_first_booking'])\n",
    "\n",
    "# change datetime type\n",
    "df01_users['timestamp_first_active'] = pd.to_datetime(df01_users['timestamp_first_active'], format='%Y%m%d%H%M%S')\n",
    "\n",
    "# change age to int\n",
    "df01_users['age'] = df01_users['age'].astype(np.int64)"
   ]
  },
  {
   "cell_type": "code",
   "execution_count": 20,
   "id": "505514d3",
   "metadata": {
    "ExecuteTime": {
     "end_time": "2022-04-10T04:16:26.157785Z",
     "start_time": "2022-04-10T04:16:26.057785Z"
    }
   },
   "outputs": [
    {
     "data": {
      "text/html": [
       "<div>\n",
       "<style scoped>\n",
       "    .dataframe tbody tr th:only-of-type {\n",
       "        vertical-align: middle;\n",
       "    }\n",
       "\n",
       "    .dataframe tbody tr th {\n",
       "        vertical-align: top;\n",
       "    }\n",
       "\n",
       "    .dataframe thead th {\n",
       "        text-align: right;\n",
       "    }\n",
       "</style>\n",
       "<table border=\"1\" class=\"dataframe\">\n",
       "  <thead>\n",
       "    <tr style=\"text-align: right;\">\n",
       "      <th></th>\n",
       "      <th>id</th>\n",
       "      <th>date_account_created</th>\n",
       "      <th>timestamp_first_active</th>\n",
       "      <th>date_first_booking</th>\n",
       "      <th>gender</th>\n",
       "      <th>age</th>\n",
       "      <th>signup_method</th>\n",
       "      <th>signup_flow</th>\n",
       "      <th>language</th>\n",
       "      <th>affiliate_channel</th>\n",
       "      <th>affiliate_provider</th>\n",
       "      <th>first_affiliate_tracked</th>\n",
       "      <th>signup_app</th>\n",
       "      <th>first_device_type</th>\n",
       "      <th>first_browser</th>\n",
       "      <th>country_destination</th>\n",
       "    </tr>\n",
       "  </thead>\n",
       "  <tbody>\n",
       "    <tr>\n",
       "      <th>154525</th>\n",
       "      <td>xzf8jkz3d1</td>\n",
       "      <td>2014-02-19</td>\n",
       "      <td>2014-02-19 06:03:54</td>\n",
       "      <td>2015-06-29</td>\n",
       "      <td>FEMALE</td>\n",
       "      <td>26</td>\n",
       "      <td>facebook</td>\n",
       "      <td>12</td>\n",
       "      <td>en</td>\n",
       "      <td>api</td>\n",
       "      <td>other</td>\n",
       "      <td>untracked</td>\n",
       "      <td>iOS</td>\n",
       "      <td>iPhone</td>\n",
       "      <td>-unknown-</td>\n",
       "      <td>NDF</td>\n",
       "    </tr>\n",
       "  </tbody>\n",
       "</table>\n",
       "</div>"
      ],
      "text/plain": [
       "                id date_account_created timestamp_first_active  \\\n",
       "154525  xzf8jkz3d1           2014-02-19    2014-02-19 06:03:54   \n",
       "\n",
       "       date_first_booking  gender  age signup_method  signup_flow language  \\\n",
       "154525         2015-06-29  FEMALE   26      facebook           12       en   \n",
       "\n",
       "       affiliate_channel affiliate_provider first_affiliate_tracked  \\\n",
       "154525               api              other               untracked   \n",
       "\n",
       "       signup_app first_device_type first_browser country_destination  \n",
       "154525        iOS            iPhone     -unknown-                 NDF  "
      ]
     },
     "execution_count": 20,
     "metadata": {},
     "output_type": "execute_result"
    }
   ],
   "source": [
    "df01_users.sample(1)"
   ]
  },
  {
   "cell_type": "code",
   "execution_count": 21,
   "id": "e7b73c50",
   "metadata": {
    "ExecuteTime": {
     "end_time": "2022-04-10T04:16:26.484782Z",
     "start_time": "2022-04-10T04:16:26.458789Z"
    }
   },
   "outputs": [
    {
     "data": {
      "text/plain": [
       "id                                 object\n",
       "date_account_created       datetime64[ns]\n",
       "timestamp_first_active     datetime64[ns]\n",
       "date_first_booking         datetime64[ns]\n",
       "gender                             object\n",
       "age                                 int64\n",
       "signup_method                      object\n",
       "signup_flow                         int64\n",
       "language                           object\n",
       "affiliate_channel                  object\n",
       "affiliate_provider                 object\n",
       "first_affiliate_tracked            object\n",
       "signup_app                         object\n",
       "first_device_type                  object\n",
       "first_browser                      object\n",
       "country_destination                object\n",
       "dtype: object"
      ]
     },
     "execution_count": 21,
     "metadata": {},
     "output_type": "execute_result"
    }
   ],
   "source": [
    "df01_users.dtypes"
   ]
  },
  {
   "cell_type": "markdown",
   "id": "b4774540",
   "metadata": {},
   "source": [
    "## 1.6. Check Balanced Data\n",
    "\n",
    "Data with an unbalance of 57% for the NDF class and 30% for the US class."
   ]
  },
  {
   "cell_type": "code",
   "execution_count": 22,
   "id": "8f5cdc46",
   "metadata": {
    "ExecuteTime": {
     "end_time": "2022-04-10T04:16:26.875786Z",
     "start_time": "2022-04-10T04:16:26.832785Z"
    }
   },
   "outputs": [
    {
     "data": {
      "text/plain": [
       "NDF      0.579673\n",
       "US       0.294461\n",
       "other    0.048128\n",
       "FR       0.023623\n",
       "IT       0.013458\n",
       "GB       0.011066\n",
       "ES       0.010671\n",
       "CA       0.006707\n",
       "DE       0.005020\n",
       "NL       0.003621\n",
       "AU       0.002541\n",
       "PT       0.001032\n",
       "Name: country_destination, dtype: float64"
      ]
     },
     "execution_count": 22,
     "metadata": {},
     "output_type": "execute_result"
    }
   ],
   "source": [
    "df01_users['country_destination'].value_counts(normalize=True)"
   ]
  },
  {
   "cell_type": "markdown",
   "id": "9e2a67ae",
   "metadata": {},
   "source": [
    "## 1.7. Descriptive Analysis"
   ]
  },
  {
   "cell_type": "code",
   "execution_count": 23,
   "id": "8f66c9c6",
   "metadata": {
    "ExecuteTime": {
     "end_time": "2022-04-10T04:16:27.673785Z",
     "start_time": "2022-04-10T04:16:27.190784Z"
    }
   },
   "outputs": [],
   "source": [
    "# split data users in types dataframes\n",
    "num_attributes_users = df01_users.select_dtypes(include=['int64', 'float64'])\n",
    "cat_attributes_users = df01_users.select_dtypes(exclude=['int64', 'float64', 'datetime64[ns]'])\n",
    "time_attributes_users = df01_users.select_dtypes(include=['datetime64[ns]'])\n",
    "\n",
    "# split data sessions in types dataframes\n",
    "num_attributes_sessions = df01_sessions.select_dtypes(include=['int64', 'float64'])\n",
    "cat_attributes_sessions = df01_sessions.select_dtypes(exclude=['int64', 'float64', 'datetime64[ns]'])\n",
    "time_attributes_sessions = df01_sessions.select_dtypes(include=['datetime64[ns]'])"
   ]
  },
  {
   "cell_type": "markdown",
   "id": "4eb6a6b6",
   "metadata": {},
   "source": [
    "### 1.7.1. Numerical - Data Users"
   ]
  },
  {
   "cell_type": "code",
   "execution_count": 24,
   "id": "ba4046ec",
   "metadata": {
    "ExecuteTime": {
     "end_time": "2022-04-10T04:16:28.207783Z",
     "start_time": "2022-04-10T04:16:28.102813Z"
    }
   },
   "outputs": [
    {
     "data": {
      "text/html": [
       "<div>\n",
       "<style scoped>\n",
       "    .dataframe tbody tr th:only-of-type {\n",
       "        vertical-align: middle;\n",
       "    }\n",
       "\n",
       "    .dataframe tbody tr th {\n",
       "        vertical-align: top;\n",
       "    }\n",
       "\n",
       "    .dataframe thead th {\n",
       "        text-align: right;\n",
       "    }\n",
       "</style>\n",
       "<table border=\"1\" class=\"dataframe\">\n",
       "  <thead>\n",
       "    <tr style=\"text-align: right;\">\n",
       "      <th></th>\n",
       "      <th>attributes</th>\n",
       "      <th>max</th>\n",
       "      <th>min</th>\n",
       "      <th>range</th>\n",
       "      <th>mean</th>\n",
       "      <th>median</th>\n",
       "      <th>std</th>\n",
       "      <th>skew</th>\n",
       "      <th>kurtosis</th>\n",
       "    </tr>\n",
       "  </thead>\n",
       "  <tbody>\n",
       "    <tr>\n",
       "      <th>0</th>\n",
       "      <td>age</td>\n",
       "      <td>2014</td>\n",
       "      <td>1</td>\n",
       "      <td>2013</td>\n",
       "      <td>49.183142</td>\n",
       "      <td>49.0</td>\n",
       "      <td>118.421689</td>\n",
       "      <td>16.333820</td>\n",
       "      <td>267.655434</td>\n",
       "    </tr>\n",
       "    <tr>\n",
       "      <th>1</th>\n",
       "      <td>signup_flow</td>\n",
       "      <td>25</td>\n",
       "      <td>0</td>\n",
       "      <td>25</td>\n",
       "      <td>3.151490</td>\n",
       "      <td>0.0</td>\n",
       "      <td>7.543915</td>\n",
       "      <td>2.287158</td>\n",
       "      <td>3.567794</td>\n",
       "    </tr>\n",
       "  </tbody>\n",
       "</table>\n",
       "</div>"
      ],
      "text/plain": [
       "    attributes   max  min  range       mean  median         std       skew  \\\n",
       "0          age  2014    1   2013  49.183142    49.0  118.421689  16.333820   \n",
       "1  signup_flow    25    0     25   3.151490     0.0    7.543915   2.287158   \n",
       "\n",
       "     kurtosis  \n",
       "0  267.655434  \n",
       "1    3.567794  "
      ]
     },
     "execution_count": 24,
     "metadata": {},
     "output_type": "execute_result"
    }
   ],
   "source": [
    "# tendency central - mean and median\n",
    "mean_users = pd.DataFrame(num_attributes_users.apply(lambda x: np.mean(x)))\n",
    "median_users = pd.DataFrame(num_attributes_users.apply(lambda x: np.median(x)))\n",
    "\n",
    "# dispersions - max, min, range, std, skew and kurtosis\n",
    "max_users = pd.DataFrame(num_attributes_users.apply(lambda x: x.max()))\n",
    "min_users = pd.DataFrame(num_attributes_users.apply(lambda x: x.min()))\n",
    "range_users = pd.DataFrame(num_attributes_users.apply(lambda x: x.max() - x.min()))\n",
    "std_users = pd.DataFrame(num_attributes_users.apply(lambda x: np.std(x)))\n",
    "skew_users = pd.DataFrame(num_attributes_users.apply(lambda x: x.skew()))\n",
    "kurtosis_users = pd.DataFrame(num_attributes_users.apply(lambda x: x.kurtosis()))\n",
    "\n",
    "# join tendency central and dispersion dataframe\n",
    "num_stats_users = pd.concat([max_users, min_users, range_users, mean_users, \n",
    "                             median_users, std_users, skew_users, kurtosis_users], axis=1).reset_index()\n",
    "num_stats_users.columns = ['attributes', 'max', 'min', 'range', 'mean', 'median', 'std', 'skew', 'kurtosis']\n",
    "\n",
    "num_stats_users"
   ]
  },
  {
   "cell_type": "markdown",
   "id": "956e8434",
   "metadata": {},
   "source": [
    "### 1.7.2. Numerical - Data Sessions"
   ]
  },
  {
   "cell_type": "code",
   "execution_count": 25,
   "id": "3c46dd63",
   "metadata": {
    "ExecuteTime": {
     "end_time": "2022-04-10T04:16:29.564783Z",
     "start_time": "2022-04-10T04:16:28.715783Z"
    }
   },
   "outputs": [
    {
     "data": {
      "text/html": [
       "<div>\n",
       "<style scoped>\n",
       "    .dataframe tbody tr th:only-of-type {\n",
       "        vertical-align: middle;\n",
       "    }\n",
       "\n",
       "    .dataframe tbody tr th {\n",
       "        vertical-align: top;\n",
       "    }\n",
       "\n",
       "    .dataframe thead th {\n",
       "        text-align: right;\n",
       "    }\n",
       "</style>\n",
       "<table border=\"1\" class=\"dataframe\">\n",
       "  <thead>\n",
       "    <tr style=\"text-align: right;\">\n",
       "      <th></th>\n",
       "      <th>attributes</th>\n",
       "      <th>max</th>\n",
       "      <th>min</th>\n",
       "      <th>range</th>\n",
       "      <th>mean</th>\n",
       "      <th>median</th>\n",
       "      <th>std</th>\n",
       "      <th>skew</th>\n",
       "      <th>kurtosis</th>\n",
       "    </tr>\n",
       "  </thead>\n",
       "  <tbody>\n",
       "    <tr>\n",
       "      <th>0</th>\n",
       "      <td>secs_elapsed</td>\n",
       "      <td>1799977.0</td>\n",
       "      <td>0.0</td>\n",
       "      <td>1799977.0</td>\n",
       "      <td>19961.8251</td>\n",
       "      <td>1369.0</td>\n",
       "      <td>88849.388449</td>\n",
       "      <td>11.137761</td>\n",
       "      <td>154.84312</td>\n",
       "    </tr>\n",
       "  </tbody>\n",
       "</table>\n",
       "</div>"
      ],
      "text/plain": [
       "     attributes        max  min      range        mean  median           std  \\\n",
       "0  secs_elapsed  1799977.0  0.0  1799977.0  19961.8251  1369.0  88849.388449   \n",
       "\n",
       "        skew   kurtosis  \n",
       "0  11.137761  154.84312  "
      ]
     },
     "execution_count": 25,
     "metadata": {},
     "output_type": "execute_result"
    }
   ],
   "source": [
    "# tendency central - mean and median\n",
    "mean_sessions = pd.DataFrame(num_attributes_sessions.apply(lambda x: np.mean(x)))\n",
    "median_sessions = pd.DataFrame(num_attributes_sessions.apply(lambda x: np.median(x)))\n",
    "\n",
    "# dispersions - max, min, range, std, skew and kurtosis\n",
    "max_sessions = pd.DataFrame(num_attributes_sessions.apply(lambda x: x.max()))\n",
    "min_sessions = pd.DataFrame(num_attributes_sessions.apply(lambda x: x.min()))\n",
    "range_sessions = pd.DataFrame(num_attributes_sessions.apply(lambda x: x.max() - x.min()))\n",
    "std_sessions = pd.DataFrame(num_attributes_sessions.apply(lambda x: np.std(x)))\n",
    "skew_sessions = pd.DataFrame(num_attributes_sessions.apply(lambda x: x.skew()))\n",
    "kurtosis_sessions = pd.DataFrame(num_attributes_sessions.apply(lambda x: x.kurtosis()))\n",
    "\n",
    "# join tendency central and dispersion dataframe\n",
    "num_stats_sessions = pd.concat([max_sessions, min_sessions, range_sessions, mean_sessions, \n",
    "                             median_sessions, std_sessions, skew_sessions, kurtosis_sessions], axis=1).reset_index()\n",
    "num_stats_sessions.columns = ['attributes', 'max', 'min', 'range', 'mean', 'median', 'std', 'skew', 'kurtosis']\n",
    "\n",
    "num_stats_sessions"
   ]
  },
  {
   "cell_type": "markdown",
   "id": "ce2d77df",
   "metadata": {},
   "source": [
    "### 1.7.3. Categorical - Data Users"
   ]
  },
  {
   "cell_type": "code",
   "execution_count": 26,
   "id": "a475bb0a",
   "metadata": {
    "ExecuteTime": {
     "end_time": "2022-04-10T04:16:31.075784Z",
     "start_time": "2022-04-10T04:16:30.406793Z"
    }
   },
   "outputs": [
    {
     "data": {
      "text/html": [
       "<div>\n",
       "<style scoped>\n",
       "    .dataframe tbody tr th:only-of-type {\n",
       "        vertical-align: middle;\n",
       "    }\n",
       "\n",
       "    .dataframe tbody tr th {\n",
       "        vertical-align: top;\n",
       "    }\n",
       "\n",
       "    .dataframe thead th {\n",
       "        text-align: right;\n",
       "    }\n",
       "</style>\n",
       "<table border=\"1\" class=\"dataframe\">\n",
       "  <thead>\n",
       "    <tr style=\"text-align: right;\">\n",
       "      <th></th>\n",
       "      <th>gender</th>\n",
       "      <th>signup_method</th>\n",
       "      <th>language</th>\n",
       "      <th>affiliate_channel</th>\n",
       "      <th>affiliate_provider</th>\n",
       "      <th>first_affiliate_tracked</th>\n",
       "      <th>signup_app</th>\n",
       "      <th>first_device_type</th>\n",
       "      <th>first_browser</th>\n",
       "      <th>country_destination</th>\n",
       "    </tr>\n",
       "  </thead>\n",
       "  <tbody>\n",
       "    <tr>\n",
       "      <th>count</th>\n",
       "      <td>207386</td>\n",
       "      <td>207386</td>\n",
       "      <td>207386</td>\n",
       "      <td>207386</td>\n",
       "      <td>207386</td>\n",
       "      <td>207386</td>\n",
       "      <td>207386</td>\n",
       "      <td>207386</td>\n",
       "      <td>207386</td>\n",
       "      <td>207386</td>\n",
       "    </tr>\n",
       "    <tr>\n",
       "      <th>unique</th>\n",
       "      <td>4</td>\n",
       "      <td>3</td>\n",
       "      <td>25</td>\n",
       "      <td>8</td>\n",
       "      <td>18</td>\n",
       "      <td>7</td>\n",
       "      <td>4</td>\n",
       "      <td>9</td>\n",
       "      <td>52</td>\n",
       "      <td>12</td>\n",
       "    </tr>\n",
       "    <tr>\n",
       "      <th>top</th>\n",
       "      <td>-unknown-</td>\n",
       "      <td>basic</td>\n",
       "      <td>en</td>\n",
       "      <td>direct</td>\n",
       "      <td>direct</td>\n",
       "      <td>untracked</td>\n",
       "      <td>Web</td>\n",
       "      <td>Mac Desktop</td>\n",
       "      <td>Chrome</td>\n",
       "      <td>NDF</td>\n",
       "    </tr>\n",
       "    <tr>\n",
       "      <th>freq</th>\n",
       "      <td>91783</td>\n",
       "      <td>148297</td>\n",
       "      <td>200415</td>\n",
       "      <td>134179</td>\n",
       "      <td>133935</td>\n",
       "      <td>109232</td>\n",
       "      <td>178334</td>\n",
       "      <td>89600</td>\n",
       "      <td>63845</td>\n",
       "      <td>120216</td>\n",
       "    </tr>\n",
       "  </tbody>\n",
       "</table>\n",
       "</div>"
      ],
      "text/plain": [
       "           gender signup_method language affiliate_channel affiliate_provider  \\\n",
       "count      207386        207386   207386            207386             207386   \n",
       "unique          4             3       25                 8                 18   \n",
       "top     -unknown-         basic       en            direct             direct   \n",
       "freq        91783        148297   200415            134179             133935   \n",
       "\n",
       "       first_affiliate_tracked signup_app first_device_type first_browser  \\\n",
       "count                   207386     207386            207386        207386   \n",
       "unique                       7          4                 9            52   \n",
       "top                  untracked        Web       Mac Desktop        Chrome   \n",
       "freq                    109232     178334             89600         63845   \n",
       "\n",
       "       country_destination  \n",
       "count               207386  \n",
       "unique                  12  \n",
       "top                    NDF  \n",
       "freq                120216  "
      ]
     },
     "execution_count": 26,
     "metadata": {},
     "output_type": "execute_result"
    }
   ],
   "source": [
    "cat_attributes_users.drop('id', axis=1).describe()"
   ]
  },
  {
   "cell_type": "markdown",
   "id": "89a04077",
   "metadata": {},
   "source": [
    "#### 1.7.3.1. Correlation Matrix"
   ]
  },
  {
   "cell_type": "code",
   "execution_count": 27,
   "id": "7d49a42d",
   "metadata": {
    "ExecuteTime": {
     "end_time": "2022-04-10T04:16:44.327425Z",
     "start_time": "2022-04-10T04:16:32.014786Z"
    }
   },
   "outputs": [
    {
     "data": {
      "image/png": "[encoded data removed]",
      "text/plain": [
       "<Figure size 432x288 with 2 Axes>"
      ]
     },
     "metadata": {
      "needs_background": "light"
     },
     "output_type": "display_data"
    }
   ],
   "source": [
    "cat_attributes_users_columns = cat_attributes_users.drop('id', axis=1).columns.tolist()\n",
    "\n",
    "corr_dict = {}\n",
    "\n",
    "for main_column in cat_attributes_users_columns:\n",
    "    corr_list = []\n",
    "    \n",
    "    for secondary_column in cat_attributes_users_columns:\n",
    "        # cramer v\n",
    "        cat_corr = cramer_v( cat_attributes_users[main_column], cat_attributes_users[secondary_column] )\n",
    "        \n",
    "        # add to list\n",
    "        corr_list.append(cat_corr)\n",
    "    \n",
    "    # add to dict each attribute correlation \n",
    "    corr_dict[main_column] = corr_list\n",
    "\n",
    "df_corr_users = pd.DataFrame(corr_dict)\n",
    "df_corr_users = df_corr_users.set_index(df_corr_users.columns)\n",
    "sns.heatmap(df_corr_users, annot=True);"
   ]
  },
  {
   "cell_type": "markdown",
   "id": "ef0bfe3a",
   "metadata": {
    "ExecuteTime": {
     "end_time": "2022-03-02T14:41:15.919764Z",
     "start_time": "2022-03-02T14:41:15.909769Z"
    }
   },
   "source": [
    "### 1.7.4. Categorical - Data Sessions"
   ]
  },
  {
   "cell_type": "code",
   "execution_count": 28,
   "id": "cb30c4f7",
   "metadata": {
    "ExecuteTime": {
     "end_time": "2022-04-10T04:16:51.141425Z",
     "start_time": "2022-04-10T04:16:45.036425Z"
    },
    "scrolled": false
   },
   "outputs": [
    {
     "data": {
      "text/html": [
       "<div>\n",
       "<style scoped>\n",
       "    .dataframe tbody tr th:only-of-type {\n",
       "        vertical-align: middle;\n",
       "    }\n",
       "\n",
       "    .dataframe tbody tr th {\n",
       "        vertical-align: top;\n",
       "    }\n",
       "\n",
       "    .dataframe thead th {\n",
       "        text-align: right;\n",
       "    }\n",
       "</style>\n",
       "<table border=\"1\" class=\"dataframe\">\n",
       "  <thead>\n",
       "    <tr style=\"text-align: right;\">\n",
       "      <th></th>\n",
       "      <th>action</th>\n",
       "      <th>action_type</th>\n",
       "      <th>action_detail</th>\n",
       "      <th>device_type</th>\n",
       "    </tr>\n",
       "  </thead>\n",
       "  <tbody>\n",
       "    <tr>\n",
       "      <th>count</th>\n",
       "      <td>9213930</td>\n",
       "      <td>9213930</td>\n",
       "      <td>9213930</td>\n",
       "      <td>9213930</td>\n",
       "    </tr>\n",
       "    <tr>\n",
       "      <th>unique</th>\n",
       "      <td>347</td>\n",
       "      <td>10</td>\n",
       "      <td>155</td>\n",
       "      <td>14</td>\n",
       "    </tr>\n",
       "    <tr>\n",
       "      <th>top</th>\n",
       "      <td>show</td>\n",
       "      <td>view</td>\n",
       "      <td>view_search_results</td>\n",
       "      <td>Mac Desktop</td>\n",
       "    </tr>\n",
       "    <tr>\n",
       "      <th>freq</th>\n",
       "      <td>2178382</td>\n",
       "      <td>3545621</td>\n",
       "      <td>1770931</td>\n",
       "      <td>3019523</td>\n",
       "    </tr>\n",
       "  </tbody>\n",
       "</table>\n",
       "</div>"
      ],
      "text/plain": [
       "         action action_type        action_detail  device_type\n",
       "count   9213930     9213930              9213930      9213930\n",
       "unique      347          10                  155           14\n",
       "top        show        view  view_search_results  Mac Desktop\n",
       "freq    2178382     3545621              1770931      3019523"
      ]
     },
     "execution_count": 28,
     "metadata": {},
     "output_type": "execute_result"
    }
   ],
   "source": [
    "cat_attributes_sessions.drop('user_id', axis=1).describe()"
   ]
  },
  {
   "cell_type": "markdown",
   "id": "13f4914d",
   "metadata": {},
   "source": [
    "#### 1.7.4.1. Correlation Matrix"
   ]
  },
  {
   "cell_type": "code",
   "execution_count": 29,
   "id": "3e1e88ee",
   "metadata": {
    "ExecuteTime": {
     "end_time": "2022-04-10T04:17:50.836705Z",
     "start_time": "2022-04-10T04:16:51.960430Z"
    }
   },
   "outputs": [
    {
     "data": {
      "image/png": "[encoded data removed]",
      "text/plain": [
       "<Figure size 432x288 with 2 Axes>"
      ]
     },
     "metadata": {
      "needs_background": "light"
     },
     "output_type": "display_data"
    }
   ],
   "source": [
    "cat_attributes_sessions_columns = cat_attributes_sessions.drop('user_id', axis=1).columns.tolist()\n",
    "\n",
    "corr_dict = {}\n",
    "\n",
    "for main_column in cat_attributes_sessions_columns:\n",
    "    corr_list = []\n",
    "    \n",
    "    for secondary_column in cat_attributes_sessions_columns:\n",
    "        # cramer v\n",
    "        cat_corr = cramer_v( cat_attributes_sessions[main_column], cat_attributes_sessions[secondary_column] )\n",
    "        \n",
    "        # add to list\n",
    "        corr_list.append(cat_corr)\n",
    "    \n",
    "    # add to dict each attribute correlation \n",
    "    corr_dict[main_column] = corr_list\n",
    "\n",
    "df_corr_sessions = pd.DataFrame(corr_dict)\n",
    "df_corr_sessions = df_corr_sessions.set_index(df_corr_sessions.columns)\n",
    "sns.heatmap(df_corr_sessions, annot=True);"
   ]
  },
  {
   "cell_type": "markdown",
   "id": "bbe57720",
   "metadata": {},
   "source": [
    "# 2.0. Feature Engineering"
   ]
  },
  {
   "cell_type": "code",
   "execution_count": 30,
   "id": "f64c4deb",
   "metadata": {
    "ExecuteTime": {
     "end_time": "2022-04-10T04:17:51.614827Z",
     "start_time": "2022-04-10T04:17:51.570825Z"
    }
   },
   "outputs": [],
   "source": [
    "df02_users = df01_users.copy()"
   ]
  },
  {
   "cell_type": "markdown",
   "id": "4cc87547",
   "metadata": {},
   "source": [
    "## 2.1. Create Gap Between Dates Features"
   ]
  },
  {
   "cell_type": "code",
   "execution_count": 31,
   "id": "bde69aeb",
   "metadata": {
    "ExecuteTime": {
     "end_time": "2022-04-10T04:18:07.926885Z",
     "start_time": "2022-04-10T04:17:53.004825Z"
    }
   },
   "outputs": [],
   "source": [
    "# date of first active\n",
    "df02_users['date_first_active'] = pd.to_datetime(df02_users['timestamp_first_active'].dt.strftime(\"%Y-%m-%d\"))\n",
    "\n",
    "# difference in days between date_account_created and date_first_active\n",
    "df02_users['diff_account_created_first_active'] = (df02_users['date_account_created'] - df02_users['date_first_active']).apply(lambda x: x.days)\n",
    "\n",
    "# difference in days between date_account_created and date_first_booking\n",
    "df02_users['diff_first_booking_account_created'] = (df02_users['date_first_booking'] - df02_users['date_account_created']).apply(lambda x: x.days)\n",
    "\n",
    "# difference in days between date_first_active and date_first_booking\n",
    "df02_users['diff_first_active_first_booking'] = (df02_users['date_first_booking'] - df02_users['date_first_active']).apply(lambda x: x.days)"
   ]
  },
  {
   "cell_type": "markdown",
   "id": "e5f02587",
   "metadata": {
    "ExecuteTime": {
     "end_time": "2022-03-02T15:58:55.212964Z",
     "start_time": "2022-03-02T15:58:55.204965Z"
    }
   },
   "source": [
    "## 2.2. Create Date Features"
   ]
  },
  {
   "cell_type": "markdown",
   "id": "add9d20f",
   "metadata": {},
   "source": [
    "### 2.2.1. Account Created"
   ]
  },
  {
   "cell_type": "code",
   "execution_count": 32,
   "id": "7ada9a20",
   "metadata": {
    "ExecuteTime": {
     "end_time": "2022-04-10T04:18:09.190886Z",
     "start_time": "2022-04-10T04:18:08.948886Z"
    }
   },
   "outputs": [],
   "source": [
    "# year\n",
    "df02_users['year_account_created'] = df02_users['date_account_created'].dt.year\n",
    "\n",
    "# month\n",
    "df02_users['month_account_created'] = df02_users['date_account_created'].dt.month\n",
    "\n",
    "# day\n",
    "df02_users['day_account_created'] = df02_users['date_account_created'].dt.day\n",
    "\n",
    "# day of week\n",
    "df02_users['dayofweek_account_created'] = df02_users['date_account_created'].dt.dayofweek\n",
    "\n",
    "# week of year\n",
    "df02_users['weekofyear_account_created'] = df02_users['date_account_created'].dt.weekofyear"
   ]
  },
  {
   "cell_type": "markdown",
   "id": "db245cbb",
   "metadata": {},
   "source": [
    "### 2.2.2. First Active"
   ]
  },
  {
   "cell_type": "code",
   "execution_count": 33,
   "id": "55143c04",
   "metadata": {
    "ExecuteTime": {
     "end_time": "2022-04-10T04:18:10.593885Z",
     "start_time": "2022-04-10T04:18:10.408884Z"
    }
   },
   "outputs": [],
   "source": [
    "# year\n",
    "df02_users['year_first_active'] = df02_users['date_first_active'].dt.year\n",
    "\n",
    "# month\n",
    "df02_users['month_first_active'] = df02_users['date_first_active'].dt.month\n",
    "\n",
    "# day\n",
    "df02_users['day_first_active'] = df02_users['date_first_active'].dt.day\n",
    "\n",
    "# day of week\n",
    "df02_users['dayofweek_first_active'] = df02_users['date_first_active'].dt.dayofweek\n",
    "\n",
    "# week of year\n",
    "df02_users['weekofyear_first_active'] = df02_users['date_first_active'].dt.weekofyear"
   ]
  },
  {
   "cell_type": "markdown",
   "id": "603026d2",
   "metadata": {},
   "source": [
    "### 2.2.3. First Booking"
   ]
  },
  {
   "cell_type": "code",
   "execution_count": 34,
   "id": "91800913",
   "metadata": {
    "ExecuteTime": {
     "end_time": "2022-04-10T04:18:11.849883Z",
     "start_time": "2022-04-10T04:18:11.634890Z"
    }
   },
   "outputs": [],
   "source": [
    "# year\n",
    "df02_users['year_first_booking'] = df02_users['date_first_booking'].dt.year\n",
    "\n",
    "# month\n",
    "df02_users['month_first_booking'] = df02_users['date_first_booking'].dt.month\n",
    "\n",
    "# day\n",
    "df02_users['day_first_booking'] = df02_users['date_first_booking'].dt.day\n",
    "\n",
    "# day of week\n",
    "df02_users['dayofweek_first_booking'] = df02_users['date_first_booking'].dt.dayofweek\n",
    "\n",
    "# week of year\n",
    "df02_users['weekofyear_first_booking'] = df02_users['date_first_booking'].dt.weekofyear"
   ]
  },
  {
   "cell_type": "markdown",
   "id": "b0f5b037",
   "metadata": {},
   "source": [
    "# 3.0. Data Filtering"
   ]
  },
  {
   "cell_type": "code",
   "execution_count": 35,
   "id": "26b87f66",
   "metadata": {
    "ExecuteTime": {
     "end_time": "2022-04-10T04:18:13.094882Z",
     "start_time": "2022-04-10T04:18:13.050883Z"
    }
   },
   "outputs": [],
   "source": [
    "df03_users = df02_users.copy()"
   ]
  },
  {
   "cell_type": "markdown",
   "id": "80d07e8f",
   "metadata": {},
   "source": [
    "## 3.1. Filtering Rows"
   ]
  },
  {
   "cell_type": "code",
   "execution_count": 36,
   "id": "6221dc16",
   "metadata": {
    "ExecuteTime": {
     "end_time": "2022-04-10T04:18:15.026882Z",
     "start_time": "2022-04-10T04:18:14.871884Z"
    }
   },
   "outputs": [],
   "source": [
    "# age - greater than 15 and lower than 100 - There are few people over 100 years old ( Could be error from system or manual imput - Cleaning noise)\n",
    "df03_users = df03_users[(df03_users['age'] > 15) & (df03_users['age'] < 100)]\n",
    "\n",
    "# secs_elapsed - there is no possible 0 secs elapesed on website\n",
    "#df03_sessions = df03_sessions[df03_sessions['secs_elapsed'] > 0]"
   ]
  },
  {
   "cell_type": "markdown",
   "id": "d9303a1b",
   "metadata": {},
   "source": [
    "## 3.2. Columns Selection"
   ]
  },
  {
   "cell_type": "code",
   "execution_count": 37,
   "id": "1072be5b",
   "metadata": {
    "ExecuteTime": {
     "end_time": "2022-04-10T04:18:16.859884Z",
     "start_time": "2022-04-10T04:18:16.659887Z"
    }
   },
   "outputs": [],
   "source": [
    "# columns id not carry any information\n",
    "df03_users = df03_users.drop(['id'], axis=1)\n",
    "\n",
    "# columns used to feature enginnering\n",
    "cols_date =['timestamp_first_active',\n",
    "            'date_first_active',\n",
    "            'date_account_created',\n",
    "            'date_first_booking']\n",
    "\n",
    "# drop select columns \n",
    "cols_drop = cols_date\n",
    "df03_users = df03_users.drop(columns=cols_drop)"
   ]
  },
  {
   "cell_type": "markdown",
   "id": "20d1ff53",
   "metadata": {},
   "source": [
    "# 4.0. Data Exploratory Analysis\n",
    "\n",
    "To increase time, the EDA stage will be skipped in this first cycle."
   ]
  },
  {
   "cell_type": "code",
   "execution_count": 38,
   "id": "c5e9da71",
   "metadata": {
    "ExecuteTime": {
     "end_time": "2022-04-10T04:18:19.503880Z",
     "start_time": "2022-04-10T04:18:19.461886Z"
    }
   },
   "outputs": [],
   "source": [
    "df04_users = df03_users.copy()"
   ]
  },
  {
   "cell_type": "markdown",
   "id": "868b4156",
   "metadata": {},
   "source": [
    "# 5.0. Data Preparation"
   ]
  },
  {
   "cell_type": "code",
   "execution_count": 39,
   "id": "5fcd8687",
   "metadata": {
    "ExecuteTime": {
     "end_time": "2022-04-10T04:18:21.742884Z",
     "start_time": "2022-04-10T04:18:21.703885Z"
    }
   },
   "outputs": [],
   "source": [
    "df05_users = df04_users.copy()"
   ]
  },
  {
   "cell_type": "markdown",
   "id": "8968dc7f",
   "metadata": {},
   "source": [
    "## 5.1. Encoding"
   ]
  },
  {
   "cell_type": "code",
   "execution_count": 40,
   "id": "6cc038aa",
   "metadata": {
    "ExecuteTime": {
     "end_time": "2022-04-10T04:18:24.516886Z",
     "start_time": "2022-04-10T04:18:23.822886Z"
    }
   },
   "outputs": [],
   "source": [
    "# dummy variable\n",
    "df05_users_dummy = pd.get_dummies(df05_users.drop(['country_destination'], axis=1))\n",
    "\n",
    "# join id and country destination\n",
    "df05_users = pd.concat( [df05_users['country_destination'], df05_users_dummy], axis=1 )"
   ]
  },
  {
   "cell_type": "markdown",
   "id": "94542b87",
   "metadata": {},
   "source": [
    "## 5.2. Response Variable"
   ]
  },
  {
   "cell_type": "code",
   "execution_count": 41,
   "id": "398c2f63",
   "metadata": {
    "ExecuteTime": {
     "end_time": "2022-04-10T04:18:26.949879Z",
     "start_time": "2022-04-10T04:18:26.732903Z"
    }
   },
   "outputs": [],
   "source": [
    "# create OneHotEncoder instance\n",
    "ohe = pp.OneHotEncoder()\n",
    "\n",
    "# ohe hot encoding response feature\n",
    "df_ohe = pd.DataFrame(ohe.fit_transform(df05_users['country_destination'].values.reshape(-1,1)).toarray(),\n",
    "                      columns=ohe.categories_[0],\n",
    "                      index=df05_users.index)\n",
    "\n",
    "# joining encoded response feature to dataset\n",
    "df05_users = pd.concat([df05_users.drop(columns=['country_destination']), df_ohe], axis=1)"
   ]
  },
  {
   "cell_type": "markdown",
   "id": "56417dc6",
   "metadata": {},
   "source": [
    "# 6.0. Feature Selection"
   ]
  },
  {
   "cell_type": "code",
   "execution_count": 42,
   "id": "bdf41034",
   "metadata": {
    "ExecuteTime": {
     "end_time": "2022-04-10T04:18:29.429880Z",
     "start_time": "2022-04-10T04:18:29.385883Z"
    }
   },
   "outputs": [],
   "source": [
    "df06_users = df05_users.copy()"
   ]
  },
  {
   "cell_type": "markdown",
   "id": "5e58fde7",
   "metadata": {},
   "source": [
    "## 6.1. Split Dataframe into Training and Test Dataset"
   ]
  },
  {
   "cell_type": "code",
   "execution_count": 43,
   "id": "924a6eec",
   "metadata": {
    "ExecuteTime": {
     "end_time": "2022-04-10T04:18:33.012416Z",
     "start_time": "2022-04-10T04:18:32.845413Z"
    }
   },
   "outputs": [],
   "source": [
    "# training dataset\n",
    "X = df06_users.drop( columns=ohe.categories_[0] )\n",
    "\n",
    "#  training response dataset\n",
    "y = df06_users[ohe.categories_[0]]"
   ]
  },
  {
   "cell_type": "code",
   "execution_count": 44,
   "id": "dc808adb",
   "metadata": {
    "ExecuteTime": {
     "end_time": "2022-04-10T04:18:38.370613Z",
     "start_time": "2022-04-10T04:18:37.768551Z"
    }
   },
   "outputs": [],
   "source": [
    "# Split dataset into training and test (validation)\n",
    "X_train, X_test, y_train, y_test = ms.train_test_split(X, y, test_size=0.2, random_state=32)"
   ]
  },
  {
   "cell_type": "markdown",
   "id": "66907bb8",
   "metadata": {},
   "source": [
    "## 6.2. Balanced Dataset"
   ]
  },
  {
   "cell_type": "markdown",
   "id": "fd6e27db",
   "metadata": {},
   "source": [
    "### 6.2.1. Random Undersampling"
   ]
  },
  {
   "cell_type": "code",
   "execution_count": 45,
   "id": "6db51f29",
   "metadata": {
    "ExecuteTime": {
     "end_time": "2022-04-10T04:18:45.730905Z",
     "start_time": "2022-04-10T04:18:43.611956Z"
    }
   },
   "outputs": [],
   "source": [
    "# define sampler - random under-sampling\n",
    "undersampling = us.RandomUnderSampler(sampling_strategy='not minority', random_state=32)\n",
    "\n",
    "# resample the dataset\n",
    "X_train_under, y_train_under = undersampling.fit_resample(X_train, ohe.inverse_transform(y_train))"
   ]
  },
  {
   "cell_type": "code",
   "execution_count": 46,
   "id": "8a979140",
   "metadata": {
    "ExecuteTime": {
     "end_time": "2022-04-10T04:18:51.119906Z",
     "start_time": "2022-04-10T04:18:51.028909Z"
    },
    "cell_style": "split"
   },
   "outputs": [
    {
     "data": {
      "text/plain": [
       "NDF      95544\n",
       "US       47937\n",
       "other     7851\n",
       "FR        3877\n",
       "IT        2203\n",
       "GB        1790\n",
       "ES        1750\n",
       "CA        1086\n",
       "DE         797\n",
       "NL         583\n",
       "AU         421\n",
       "PT         176\n",
       "dtype: int64"
      ]
     },
     "execution_count": 46,
     "metadata": {},
     "output_type": "execute_result"
    }
   ],
   "source": [
    "pd.DataFrame(ohe.inverse_transform(y_train)).value_counts()"
   ]
  },
  {
   "cell_type": "code",
   "execution_count": 47,
   "id": "cc6b64c2",
   "metadata": {
    "ExecuteTime": {
     "end_time": "2022-04-10T04:18:55.937621Z",
     "start_time": "2022-04-10T04:18:55.900631Z"
    },
    "cell_style": "split"
   },
   "outputs": [
    {
     "data": {
      "text/plain": [
       "AU       176\n",
       "CA       176\n",
       "DE       176\n",
       "ES       176\n",
       "FR       176\n",
       "GB       176\n",
       "IT       176\n",
       "NDF      176\n",
       "NL       176\n",
       "PT       176\n",
       "US       176\n",
       "other    176\n",
       "dtype: int64"
      ]
     },
     "execution_count": 47,
     "metadata": {},
     "output_type": "execute_result"
    }
   ],
   "source": [
    "pd.DataFrame(y_train_under).value_counts()"
   ]
  },
  {
   "cell_type": "code",
   "execution_count": 48,
   "id": "bc68ae16",
   "metadata": {
    "ExecuteTime": {
     "end_time": "2022-04-10T04:18:59.602338Z",
     "start_time": "2022-04-10T04:18:59.561338Z"
    }
   },
   "outputs": [],
   "source": [
    "# convert back to encoding representation\n",
    "y_train_under = pd.DataFrame(ohe.transform(y_train_under.reshape(-1,1)).toarray(), \n",
    "                             columns=ohe.categories_[0], \n",
    "                             index=X_train_under.index)"
   ]
  },
  {
   "cell_type": "markdown",
   "id": "5a38defb",
   "metadata": {},
   "source": [
    "### 6.2.2. Random Oversampling"
   ]
  },
  {
   "cell_type": "code",
   "execution_count": 49,
   "id": "6578d216",
   "metadata": {
    "ExecuteTime": {
     "end_time": "2022-04-10T04:19:18.525857Z",
     "start_time": "2022-04-10T04:19:02.623332Z"
    }
   },
   "outputs": [],
   "source": [
    "# define sampler - random over-sampling\n",
    "oversampling = osamp.RandomOverSampler(sampling_strategy='not majority', random_state=32)\n",
    "\n",
    "# resample the dataset\n",
    "X_train_over, y_train_over = oversampling.fit_resample(X_train, ohe.inverse_transform(y_train))"
   ]
  },
  {
   "cell_type": "code",
   "execution_count": 50,
   "id": "2de858e8",
   "metadata": {
    "ExecuteTime": {
     "end_time": "2022-04-10T04:19:22.618860Z",
     "start_time": "2022-04-10T04:19:22.545862Z"
    },
    "cell_style": "split"
   },
   "outputs": [
    {
     "data": {
      "text/plain": [
       "NDF      95544\n",
       "US       47937\n",
       "other     7851\n",
       "FR        3877\n",
       "IT        2203\n",
       "GB        1790\n",
       "ES        1750\n",
       "CA        1086\n",
       "DE         797\n",
       "NL         583\n",
       "AU         421\n",
       "PT         176\n",
       "dtype: int64"
      ]
     },
     "execution_count": 50,
     "metadata": {},
     "output_type": "execute_result"
    }
   ],
   "source": [
    "pd.DataFrame(ohe.inverse_transform(y_train)).value_counts()"
   ]
  },
  {
   "cell_type": "code",
   "execution_count": 51,
   "id": "74f243f6",
   "metadata": {
    "ExecuteTime": {
     "end_time": "2022-04-10T04:19:25.971866Z",
     "start_time": "2022-04-10T04:19:25.772864Z"
    },
    "cell_style": "split"
   },
   "outputs": [
    {
     "data": {
      "text/plain": [
       "AU       95544\n",
       "CA       95544\n",
       "DE       95544\n",
       "ES       95544\n",
       "FR       95544\n",
       "GB       95544\n",
       "IT       95544\n",
       "NDF      95544\n",
       "NL       95544\n",
       "PT       95544\n",
       "US       95544\n",
       "other    95544\n",
       "dtype: int64"
      ]
     },
     "execution_count": 51,
     "metadata": {},
     "output_type": "execute_result"
    }
   ],
   "source": [
    "pd.DataFrame(y_train_over).value_counts()"
   ]
  },
  {
   "cell_type": "code",
   "execution_count": 52,
   "id": "12f404ac",
   "metadata": {
    "ExecuteTime": {
     "end_time": "2022-04-10T04:19:31.157043Z",
     "start_time": "2022-04-10T04:19:30.594041Z"
    }
   },
   "outputs": [],
   "source": [
    "# convert back to encoding representation\n",
    "y_train_over = pd.DataFrame(ohe.transform(y_train_over.reshape(-1,1)).toarray(), \n",
    "                            columns=ohe.categories_[0], \n",
    "                            index=X_train_over.index)"
   ]
  },
  {
   "cell_type": "markdown",
   "id": "458ad28f",
   "metadata": {},
   "source": [
    "### 6.2.3. SMOTE + TOMEKLINK"
   ]
  },
  {
   "cell_type": "code",
   "execution_count": 53,
   "id": "299b6f3c",
   "metadata": {
    "ExecuteTime": {
     "end_time": "2022-04-10T05:31:04.999210Z",
     "start_time": "2022-04-10T04:19:35.656321Z"
    }
   },
   "outputs": [],
   "source": [
    "# define sampler - over-sampling using SMOTE and cleaning using Tomek links\n",
    "combine = comb.SMOTETomek(sampling_strategy='auto', random_state=32, n_jobs=-1)\n",
    "\n",
    "# resample the dataset\n",
    "X_train_comb, y_train_comb = combine.fit_resample(X_train, ohe.inverse_transform(y_train))"
   ]
  },
  {
   "cell_type": "code",
   "execution_count": 54,
   "id": "6fa18654",
   "metadata": {
    "ExecuteTime": {
     "end_time": "2022-04-10T05:31:57.750374Z",
     "start_time": "2022-04-10T05:31:57.534373Z"
    },
    "cell_style": "split"
   },
   "outputs": [
    {
     "data": {
      "text/plain": [
       "NDF      95544\n",
       "US       47937\n",
       "other     7851\n",
       "FR        3877\n",
       "IT        2203\n",
       "GB        1790\n",
       "ES        1750\n",
       "CA        1086\n",
       "DE         797\n",
       "NL         583\n",
       "AU         421\n",
       "PT         176\n",
       "dtype: int64"
      ]
     },
     "execution_count": 54,
     "metadata": {},
     "output_type": "execute_result"
    }
   ],
   "source": [
    "pd.DataFrame(ohe.inverse_transform(y_train)).value_counts()"
   ]
  },
  {
   "cell_type": "code",
   "execution_count": 55,
   "id": "01785467",
   "metadata": {
    "ExecuteTime": {
     "end_time": "2022-04-10T05:32:01.972899Z",
     "start_time": "2022-04-10T05:32:01.819902Z"
    },
    "cell_style": "split",
    "scrolled": true
   },
   "outputs": [
    {
     "data": {
      "text/plain": [
       "NDF      95542\n",
       "PT       95531\n",
       "AU       95530\n",
       "NL       95510\n",
       "DE       95507\n",
       "CA       95476\n",
       "ES       95451\n",
       "GB       95445\n",
       "IT       95402\n",
       "FR       95277\n",
       "other    94886\n",
       "US       94489\n",
       "dtype: int64"
      ]
     },
     "execution_count": 55,
     "metadata": {},
     "output_type": "execute_result"
    }
   ],
   "source": [
    "pd.DataFrame(y_train_comb).value_counts()"
   ]
  },
  {
   "cell_type": "code",
   "execution_count": 56,
   "id": "21ece2e7",
   "metadata": {
    "ExecuteTime": {
     "end_time": "2022-04-10T05:32:06.429892Z",
     "start_time": "2022-04-10T05:32:05.871898Z"
    }
   },
   "outputs": [],
   "source": [
    "# convert back to encoding representation\n",
    "y_train_comb = pd.DataFrame(ohe.transform(y_train_comb.reshape(-1,1)).toarray(), \n",
    "                            columns=ohe.categories_[0], \n",
    "                            index=X_train_comb.index)"
   ]
  },
  {
   "cell_type": "markdown",
   "id": "c9ee0881",
   "metadata": {},
   "source": [
    "# 7.0. Machine Learing Model"
   ]
  },
  {
   "cell_type": "code",
   "execution_count": 58,
   "id": "b9dfd8fe",
   "metadata": {
    "ExecuteTime": {
     "end_time": "2022-04-10T05:39:30.283422Z",
     "start_time": "2022-04-10T05:39:30.272424Z"
    }
   },
   "outputs": [],
   "source": [
    "# imbalanced dataset\n",
    "x_train = X_train\n",
    "x_test = X_test\n",
    "\n",
    "# random undersampling\n",
    "x_train_under = X_train_under\n",
    "\n",
    "# random oversampling\n",
    "x_train_over = X_train_over\n",
    "\n",
    "# SMOTE + Tomek Links\n",
    "x_train_comb = X_train_comb"
   ]
  },
  {
   "cell_type": "markdown",
   "id": "b3107f01",
   "metadata": {},
   "source": [
    "## 7.1. Baseline Model - Random"
   ]
  },
  {
   "cell_type": "code",
   "execution_count": 59,
   "id": "c5ee811a",
   "metadata": {
    "ExecuteTime": {
     "end_time": "2022-04-10T05:39:37.190233Z",
     "start_time": "2022-04-10T05:39:36.626240Z"
    }
   },
   "outputs": [],
   "source": [
    "# list of country destination\n",
    "country_list = ohe.categories_[0].tolist()\n",
    "\n",
    "# number of rows\n",
    "k_num = y_test.shape[0]\n",
    "\n",
    "# proportion of country destinations for imbalanced result\n",
    "df_ohe = pd.DataFrame(ohe.inverse_transform(df06_users[ohe.categories_[0]]))\n",
    "country_weights = df_ohe.value_counts(normalize=True).sort_index().tolist()\n",
    "\n",
    "# prediction\n",
    "yhat_random = random.choices(population=country_list,\n",
    "                             weights=country_weights,\n",
    "                             k=k_num)\n",
    "\n",
    "# invert validation response\n",
    "y_test_random = ohe.inverse_transform(y_test)"
   ]
  },
  {
   "cell_type": "markdown",
   "id": "1645a305",
   "metadata": {},
   "source": [
    "### 7.1.1. Baseline Model - Performance"
   ]
  },
  {
   "cell_type": "code",
   "execution_count": 60,
   "id": "d032e4c1",
   "metadata": {
    "ExecuteTime": {
     "end_time": "2022-04-10T05:39:44.958238Z",
     "start_time": "2022-04-10T05:39:42.161238Z"
    }
   },
   "outputs": [
    {
     "name": "stdout",
     "output_type": "stream",
     "text": [
      "Accuracy 0.4265437518290898\n",
      "Balanced Accuracy: 0.08389706302635076\n",
      "Kappa Score: 0.0014673913511207282\n",
      "              precision    recall  f1-score   support\n",
      "\n",
      "          AU       0.00      0.00      0.00        98\n",
      "          CA       0.01      0.01      0.01       283\n",
      "          DE       0.00      0.00      0.00       227\n",
      "          ES       0.01      0.01      0.01       433\n",
      "          FR       0.03      0.04      0.03       963\n",
      "          GB       0.01      0.01      0.01       469\n",
      "          IT       0.00      0.00      0.00       539\n",
      "         NDF       0.58      0.58      0.58     23643\n",
      "          NL       0.01      0.01      0.01       156\n",
      "          PT       0.00      0.00      0.00        36\n",
      "          US       0.30      0.30      0.30     12192\n",
      "       other       0.05      0.05      0.05      1965\n",
      "\n",
      "    accuracy                           0.43     41004\n",
      "   macro avg       0.08      0.08      0.08     41004\n",
      "weighted avg       0.43      0.43      0.43     41004\n",
      "\n"
     ]
    },
    {
     "data": {
      "image/png": "[encoded data removed]",
      "text/plain": [
       "<Figure size 864x864 with 2 Axes>"
      ]
     },
     "metadata": {
      "needs_background": "light"
     },
     "output_type": "display_data"
    }
   ],
   "source": [
    "# Accuracy\n",
    "acc_random = m.accuracy_score( y_test_random, yhat_random )\n",
    "print(f'Accuracy {acc_random}')\n",
    "\n",
    "# Balanced Accuracy\n",
    "balanced_acc_random = m.balanced_accuracy_score(y_test_random, yhat_random)\n",
    "print(f'Balanced Accuracy: {balanced_acc_random}')\n",
    "\n",
    "# Kappa Metrics\n",
    "kappa_random = m.cohen_kappa_score(y_test_random, yhat_random)\n",
    "print(f'Kappa Score: {kappa_random}')\n",
    "\n",
    "# Classification report\n",
    "print(m.classification_report(y_test_random, yhat_random))\n",
    "\n",
    "# Confusion Matrix\n",
    "mt.plot_confusion_matrix(y_test_random, yhat_random, normalize=False, figsize=(12,12));\n",
    "\n",
    "# Performance\n",
    "baseline_performance = {'model': 'Baseline Model',\n",
    "                        'acc': acc_random,\n",
    "                        'balanced_acc': balanced_acc_random,\n",
    "                        'kappa_store': kappa_random}"
   ]
  },
  {
   "cell_type": "markdown",
   "id": "74175f4b",
   "metadata": {},
   "source": [
    "## 7.2. Neural Network - MLP"
   ]
  },
  {
   "cell_type": "markdown",
   "id": "e8dc916b",
   "metadata": {},
   "source": [
    "### 7.2.1. Imbalanced Data"
   ]
  },
  {
   "cell_type": "code",
   "execution_count": 61,
   "id": "30d43bed",
   "metadata": {
    "ExecuteTime": {
     "end_time": "2022-04-10T05:51:10.314763Z",
     "start_time": "2022-04-10T05:39:50.839164Z"
    },
    "scrolled": true
   },
   "outputs": [
    {
     "name": "stdout",
     "output_type": "stream",
     "text": [
      "Epoch 1/100\n",
      "5126/5126 [==============================] - 9s 2ms/step - loss: 3.1678 - accuracy: 0.7980\n",
      "Epoch 2/100\n",
      "5126/5126 [==============================] - 9s 2ms/step - loss: 1.4088 - accuracy: 0.8165: 1s - loss: 1.5088 -  - E - ETA: 0s - loss: 1.4316 - accu\n",
      "Epoch 3/100\n",
      "5126/5126 [==============================] - 9s 2ms/step - loss: 0.7684 - accuracy: 0.8437\n",
      "Epoch 4/100\n",
      "5126/5126 [==============================] - 10s 2ms/step - loss: 0.5529 - accuracy: 0.8699 0s - loss: 0.555\n",
      "Epoch 5/100\n",
      "5126/5126 [==============================] - 6s 1ms/step - loss: 0.5001 - accuracy: 0.8739\n",
      "Epoch 6/100\n",
      "5126/5126 [==============================] - 7s 1ms/step - loss: 0.4949 - accuracy: 0.8742\n",
      "Epoch 7/100\n",
      "5126/5126 [==============================] - 6s 1ms/step - loss: 0.4935 - accuracy: 0.8743\n",
      "Epoch 8/100\n",
      "5126/5126 [==============================] - 6s 1ms/step - loss: 0.4938 - accuracy: 0.8743\n",
      "Epoch 9/100\n",
      "5126/5126 [==============================] - 6s 1ms/step - loss: 0.4936 - accuracy: 0.8743\n",
      "Epoch 10/100\n",
      "5126/5126 [==============================] - 6s 1ms/step - loss: 0.4927 - accuracy: 0.8743\n",
      "Epoch 11/100\n",
      "5126/5126 [==============================] - 7s 1ms/step - loss: 0.4927 - accuracy: 0.8743\n",
      "Epoch 12/100\n",
      "5126/5126 [==============================] - 6s 1ms/step - loss: 0.4919 - accuracy: 0.8743\n",
      "Epoch 13/100\n",
      "5126/5126 [==============================] - 6s 1ms/step - loss: 0.4917 - accuracy: 0.8744\n",
      "Epoch 14/100\n",
      "5126/5126 [==============================] - 6s 1ms/step - loss: 0.4907 - accuracy: 0.8745\n",
      "Epoch 15/100\n",
      "5126/5126 [==============================] - 6s 1ms/step - loss: 0.4912 - accuracy: 0.8744\n",
      "Epoch 16/100\n",
      "5126/5126 [==============================] - 6s 1ms/step - loss: 0.4902 - accuracy: 0.8745\n",
      "Epoch 17/100\n",
      "5126/5126 [==============================] - 6s 1ms/step - loss: 0.4904 - accuracy: 0.8744\n",
      "Epoch 18/100\n",
      "5126/5126 [==============================] - 6s 1ms/step - loss: 0.4888 - accuracy: 0.8746\n",
      "Epoch 19/100\n",
      "5126/5126 [==============================] - 6s 1ms/step - loss: 0.4883 - accuracy: 0.8745\n",
      "Epoch 20/100\n",
      "5126/5126 [==============================] - 6s 1ms/step - loss: 0.4885 - accuracy: 0.8745\n",
      "Epoch 21/100\n",
      "5126/5126 [==============================] - 6s 1ms/step - loss: 0.4882 - accuracy: 0.8745\n",
      "Epoch 22/100\n",
      "5126/5126 [==============================] - 6s 1ms/step - loss: 0.4877 - accuracy: 0.8746\n",
      "Epoch 23/100\n",
      "5126/5126 [==============================] - 6s 1ms/step - loss: 0.4879 - accuracy: 0.8745\n",
      "Epoch 24/100\n",
      "5126/5126 [==============================] - 7s 1ms/step - loss: 0.4877 - accuracy: 0.8746\n",
      "Epoch 25/100\n",
      "5126/5126 [==============================] - 7s 1ms/step - loss: 0.4881 - accuracy: 0.8746\n",
      "Epoch 26/100\n",
      "5126/5126 [==============================] - 7s 1ms/step - loss: 0.4878 - accuracy: 0.8746\n",
      "Epoch 27/100\n",
      "5126/5126 [==============================] - 6s 1ms/step - loss: 0.4881 - accuracy: 0.8745\n",
      "Epoch 28/100\n",
      "5126/5126 [==============================] - 6s 1ms/step - loss: 0.4874 - accuracy: 0.8746\n",
      "Epoch 29/100\n",
      "5126/5126 [==============================] - 6s 1ms/step - loss: 0.4875 - accuracy: 0.8746\n",
      "Epoch 30/100\n",
      "5126/5126 [==============================] - 6s 1ms/step - loss: 0.4886 - accuracy: 0.8745\n",
      "Epoch 31/100\n",
      "5126/5126 [==============================] - 6s 1ms/step - loss: 0.4876 - accuracy: 0.8746\n",
      "Epoch 32/100\n",
      "5126/5126 [==============================] - 6s 1ms/step - loss: 0.4878 - accuracy: 0.8746\n",
      "Epoch 33/100\n",
      "5126/5126 [==============================] - 6s 1ms/step - loss: 0.4877 - accuracy: 0.8746\n",
      "Epoch 34/100\n",
      "5126/5126 [==============================] - 7s 1ms/step - loss: 0.4874 - accuracy: 0.8746\n",
      "Epoch 35/100\n",
      "5126/5126 [==============================] - 6s 1ms/step - loss: 0.4875 - accuracy: 0.8746\n",
      "Epoch 36/100\n",
      "5126/5126 [==============================] - 6s 1ms/step - loss: 0.4877 - accuracy: 0.8746\n",
      "Epoch 37/100\n",
      "5126/5126 [==============================] - 6s 1ms/step - loss: 0.4878 - accuracy: 0.8746\n",
      "Epoch 38/100\n",
      "5126/5126 [==============================] - 6s 1ms/step - loss: 0.4877 - accuracy: 0.8746\n",
      "Epoch 39/100\n",
      "5126/5126 [==============================] - 7s 1ms/step - loss: 0.4875 - accuracy: 0.8746\n",
      "Epoch 40/100\n",
      "5126/5126 [==============================] - 6s 1ms/step - loss: 0.4876 - accuracy: 0.8746\n",
      "Epoch 41/100\n",
      "5126/5126 [==============================] - 6s 1ms/step - loss: 0.4876 - accuracy: 0.8746\n",
      "Epoch 42/100\n",
      "5126/5126 [==============================] - 7s 1ms/step - loss: 0.4875 - accuracy: 0.8746\n",
      "Epoch 43/100\n",
      "5126/5126 [==============================] - 7s 1ms/step - loss: 0.4879 - accuracy: 0.8746\n",
      "Epoch 44/100\n",
      "5126/5126 [==============================] - 7s 1ms/step - loss: 0.4874 - accuracy: 0.8746\n",
      "Epoch 45/100\n",
      "5126/5126 [==============================] - 6s 1ms/step - loss: 0.4874 - accuracy: 0.8746\n",
      "Epoch 46/100\n",
      "5126/5126 [==============================] - 6s 1ms/step - loss: 0.4874 - accuracy: 0.8747\n",
      "Epoch 47/100\n",
      "5126/5126 [==============================] - 7s 1ms/step - loss: 0.4877 - accuracy: 0.8746\n",
      "Epoch 48/100\n",
      "5126/5126 [==============================] - 7s 1ms/step - loss: 0.4877 - accuracy: 0.8746\n",
      "Epoch 49/100\n",
      "5126/5126 [==============================] - 7s 1ms/step - loss: 0.4878 - accuracy: 0.8746: 0s -\n",
      "Epoch 50/100\n",
      "5126/5126 [==============================] - 6s 1ms/step - loss: 0.4873 - accuracy: 0.8746\n",
      "Epoch 51/100\n",
      "5126/5126 [==============================] - 7s 1ms/step - loss: 0.4877 - accuracy: 0.8747\n",
      "Epoch 52/100\n",
      "5126/5126 [==============================] - 6s 1ms/step - loss: 0.4873 - accuracy: 0.8746\n",
      "Epoch 53/100\n",
      "5126/5126 [==============================] - 6s 1ms/step - loss: 0.4881 - accuracy: 0.8746\n",
      "Epoch 54/100\n",
      "5126/5126 [==============================] - 7s 1ms/step - loss: 0.4873 - accuracy: 0.8747\n",
      "Epoch 55/100\n",
      "5126/5126 [==============================] - 6s 1ms/step - loss: 0.4874 - accuracy: 0.8746\n",
      "Epoch 56/100\n",
      "5126/5126 [==============================] - 7s 1ms/step - loss: 0.4874 - accuracy: 0.8747\n",
      "Epoch 57/100\n",
      "5126/5126 [==============================] - 6s 1ms/step - loss: 0.4873 - accuracy: 0.8746\n",
      "Epoch 58/100\n",
      "5126/5126 [==============================] - 6s 1ms/step - loss: 0.4875 - accuracy: 0.8746\n",
      "Epoch 59/100\n",
      "5126/5126 [==============================] - 7s 1ms/step - loss: 0.4881 - accuracy: 0.8746\n",
      "Epoch 60/100\n",
      "5126/5126 [==============================] - 6s 1ms/step - loss: 0.4874 - accuracy: 0.8747\n",
      "Epoch 61/100\n",
      "5126/5126 [==============================] - 7s 1ms/step - loss: 0.4875 - accuracy: 0.8746\n",
      "Epoch 62/100\n",
      "5126/5126 [==============================] - 6s 1ms/step - loss: 0.4870 - accuracy: 0.8747: 0s - loss: 0.4 - ETA: 0s - loss: 0.4869 \n",
      "Epoch 63/100\n",
      "5126/5126 [==============================] - 7s 1ms/step - loss: 0.4875 - accuracy: 0.8746\n",
      "Epoch 64/100\n",
      "5126/5126 [==============================] - 7s 1ms/step - loss: 0.4887 - accuracy: 0.8745\n",
      "Epoch 65/100\n",
      "5126/5126 [==============================] - ETA: 0s - loss: 0.4869 - accuracy: 0.87 - 6s 1ms/step - loss: 0.4871 - accuracy: 0.8747\n",
      "Epoch 66/100\n",
      "5126/5126 [==============================] - 7s 1ms/step - loss: 0.4876 - accuracy: 0.8746\n",
      "Epoch 67/100\n",
      "5126/5126 [==============================] - 7s 1ms/step - loss: 0.4879 - accuracy: 0.8746\n",
      "Epoch 68/100\n",
      "5126/5126 [==============================] - 7s 1ms/step - loss: 0.4875 - accuracy: 0.8746\n",
      "Epoch 69/100\n",
      "5126/5126 [==============================] - 7s 1ms/step - loss: 0.4875 - accuracy: 0.8746\n",
      "Epoch 70/100\n",
      "5126/5126 [==============================] - 7s 1ms/step - loss: 0.4875 - accuracy: 0.8747: 0s - loss: 0.4873 -  - ETA: 0s - loss: 0.4872 - ac\n",
      "Epoch 71/100\n",
      "5126/5126 [==============================] - 8s 1ms/step - loss: 0.4874 - accuracy: 0.8746\n",
      "Epoch 72/100\n",
      "5126/5126 [==============================] - 6s 1ms/step - loss: 0.4877 - accuracy: 0.8746\n",
      "Epoch 73/100\n",
      "5126/5126 [==============================] - 8s 2ms/step - loss: 0.4871 - accuracy: 0.8747\n",
      "Epoch 74/100\n",
      "5126/5126 [==============================] - 6s 1ms/step - loss: 0.4871 - accuracy: 0.8747\n",
      "Epoch 75/100\n",
      "5126/5126 [==============================] - 8s 2ms/step - loss: 0.4882 - accuracy: 0.8746\n",
      "Epoch 76/100\n",
      "5126/5126 [==============================] - 7s 1ms/step - loss: 0.4873 - accuracy: 0.8746\n",
      "Epoch 77/100\n"
     ]
    },
    {
     "name": "stdout",
     "output_type": "stream",
     "text": [
      "5126/5126 [==============================] - 6s 1ms/step - loss: 0.4878 - accuracy: 0.8746\n",
      "Epoch 78/100\n",
      "5126/5126 [==============================] - 6s 1ms/step - loss: 0.4871 - accuracy: 0.8747\n",
      "Epoch 79/100\n",
      "5126/5126 [==============================] - 6s 1ms/step - loss: 0.4877 - accuracy: 0.8746\n",
      "Epoch 80/100\n",
      "5126/5126 [==============================] - 6s 1ms/step - loss: 0.4884 - accuracy: 0.8745\n",
      "Epoch 81/100\n",
      "5126/5126 [==============================] - 6s 1ms/step - loss: 0.4874 - accuracy: 0.8746\n",
      "Epoch 82/100\n",
      "5126/5126 [==============================] - 6s 1ms/step - loss: 0.4880 - accuracy: 0.8746\n",
      "Epoch 83/100\n",
      "5126/5126 [==============================] - 6s 1ms/step - loss: 0.4872 - accuracy: 0.8746\n",
      "Epoch 84/100\n",
      "5126/5126 [==============================] - 6s 1ms/step - loss: 0.4881 - accuracy: 0.8746\n",
      "Epoch 85/100\n",
      "5126/5126 [==============================] - 6s 1ms/step - loss: 0.4875 - accuracy: 0.8746\n",
      "Epoch 86/100\n",
      "5126/5126 [==============================] - 6s 1ms/step - loss: 0.4878 - accuracy: 0.8746\n",
      "Epoch 87/100\n",
      "5126/5126 [==============================] - 6s 1ms/step - loss: 0.4879 - accuracy: 0.8746: 0s - loss:\n",
      "Epoch 88/100\n",
      "5126/5126 [==============================] - 6s 1ms/step - loss: 0.4875 - accuracy: 0.8746\n",
      "Epoch 89/100\n",
      "5126/5126 [==============================] - 7s 1ms/step - loss: 0.4874 - accuracy: 0.8747: \n",
      "Epoch 90/100\n",
      "5126/5126 [==============================] - 6s 1ms/step - loss: 0.4872 - accuracy: 0.8747\n",
      "Epoch 91/100\n",
      "5126/5126 [==============================] - 7s 1ms/step - loss: 0.4874 - accuracy: 0.8747\n",
      "Epoch 92/100\n",
      "5126/5126 [==============================] - 7s 1ms/step - loss: 0.4882 - accuracy: 0.8746\n",
      "Epoch 93/100\n",
      "5126/5126 [==============================] - 6s 1ms/step - loss: 0.4879 - accuracy: 0.8746\n",
      "Epoch 94/100\n",
      "5126/5126 [==============================] - 6s 1ms/step - loss: 0.4871 - accuracy: 0.8746\n",
      "Epoch 95/100\n",
      "5126/5126 [==============================] - 6s 1ms/step - loss: 0.4873 - accuracy: 0.8747\n",
      "Epoch 96/100\n",
      "5126/5126 [==============================] - 7s 1ms/step - loss: 0.4874 - accuracy: 0.8747\n",
      "Epoch 97/100\n",
      "5126/5126 [==============================] - 6s 1ms/step - loss: 0.4874 - accuracy: 0.8746\n",
      "Epoch 98/100\n",
      "5126/5126 [==============================] - 6s 1ms/step - loss: 0.4885 - accuracy: 0.8746\n",
      "Epoch 99/100\n",
      "5126/5126 [==============================] - 7s 1ms/step - loss: 0.4867 - accuracy: 0.8747\n",
      "Epoch 100/100\n",
      "5126/5126 [==============================] - 6s 1ms/step - loss: 0.4876 - accuracy: 0.8746\n"
     ]
    },
    {
     "data": {
      "text/plain": [
       "<tensorflow.python.keras.callbacks.History at 0x21f7e14e3a0>"
      ]
     },
     "execution_count": 61,
     "metadata": {},
     "output_type": "execute_result"
    }
   ],
   "source": [
    "# model definition\n",
    "model_nn = ml.Sequential()\n",
    "model_nn.add( l.Dense(128, input_dim=x_train.shape[1], activation='relu') )\n",
    "model_nn.add( l.Dense(12, activation='softmax') )\n",
    "\n",
    "# model compile\n",
    "model_nn.compile(loss='categorical_crossentropy', optimizer='adam', metrics=['accuracy'])\n",
    "\n",
    "# train model\n",
    "model_nn.fit(x_train, y_train, epochs=100)"
   ]
  },
  {
   "cell_type": "markdown",
   "id": "237b79dd",
   "metadata": {},
   "source": [
    "#### 7.2.1.1. Imbalanced Data - Perfomance"
   ]
  },
  {
   "cell_type": "code",
   "execution_count": 62,
   "id": "011ae8ef",
   "metadata": {
    "ExecuteTime": {
     "end_time": "2022-04-10T05:51:18.006228Z",
     "start_time": "2022-04-10T05:51:14.066784Z"
    }
   },
   "outputs": [],
   "source": [
    "# prediction\n",
    "pred_nn = model_nn.predict(x_test)\n",
    "\n",
    "# invert prediction\n",
    "yhat_nn = ohe.inverse_transform(pred_nn)\n",
    "\n",
    "# invert validation response\n",
    "y_test_nn = ohe.inverse_transform(y_test)"
   ]
  },
  {
   "cell_type": "code",
   "execution_count": 63,
   "id": "114a32a6",
   "metadata": {
    "ExecuteTime": {
     "end_time": "2022-04-10T05:51:21.548239Z",
     "start_time": "2022-04-10T05:51:21.521241Z"
    },
    "cell_style": "split"
   },
   "outputs": [
    {
     "data": {
      "text/plain": [
       "NDF      0.576602\n",
       "US       0.297337\n",
       "other    0.047922\n",
       "FR       0.023486\n",
       "IT       0.013145\n",
       "GB       0.011438\n",
       "ES       0.010560\n",
       "CA       0.006902\n",
       "DE       0.005536\n",
       "NL       0.003805\n",
       "AU       0.002390\n",
       "PT       0.000878\n",
       "dtype: float64"
      ]
     },
     "execution_count": 63,
     "metadata": {},
     "output_type": "execute_result"
    }
   ],
   "source": [
    "# check the balance of validation\n",
    "pd.DataFrame(y_test_nn).value_counts(normalize=True)"
   ]
  },
  {
   "cell_type": "code",
   "execution_count": 64,
   "id": "0f304732",
   "metadata": {
    "ExecuteTime": {
     "end_time": "2022-04-10T05:51:25.104833Z",
     "start_time": "2022-04-10T05:51:25.075837Z"
    },
    "cell_style": "split"
   },
   "outputs": [
    {
     "data": {
      "text/plain": [
       "NDF    0.576773\n",
       "US     0.423227\n",
       "dtype: float64"
      ]
     },
     "execution_count": 64,
     "metadata": {},
     "output_type": "execute_result"
    }
   ],
   "source": [
    "# check the balance of result\n",
    "pd.DataFrame(yhat_nn).value_counts(normalize=True)"
   ]
  },
  {
   "cell_type": "code",
   "execution_count": 66,
   "id": "f50260d5",
   "metadata": {
    "ExecuteTime": {
     "end_time": "2022-04-10T05:51:38.121464Z",
     "start_time": "2022-04-10T05:51:35.722551Z"
    }
   },
   "outputs": [
    {
     "name": "stdout",
     "output_type": "stream",
     "text": [
      "Accuracy: 0.8737928007023705\n",
      "Balanced Accuracy: 0.166625656167979\n",
      "Kappa Score: 0.766969279113247\n",
      "              precision    recall  f1-score   support\n",
      "\n",
      "          AU       0.00      0.00      0.00        98\n",
      "          CA       0.00      0.00      0.00       283\n",
      "          DE       0.00      0.00      0.00       227\n",
      "          ES       0.00      0.00      0.00       433\n",
      "          FR       0.00      0.00      0.00       963\n",
      "          GB       0.00      0.00      0.00       469\n",
      "          IT       0.00      0.00      0.00       539\n",
      "         NDF       1.00      1.00      1.00     23643\n",
      "          NL       0.00      0.00      0.00       156\n",
      "          PT       0.00      0.00      0.00        36\n",
      "          US       0.70      1.00      0.82     12192\n",
      "       other       0.00      0.00      0.00      1965\n",
      "\n",
      "    accuracy                           0.87     41004\n",
      "   macro avg       0.14      0.17      0.15     41004\n",
      "weighted avg       0.79      0.87      0.82     41004\n",
      "\n"
     ]
    },
    {
     "data": {
      "image/png": "[encoded data removed]",
      "text/plain": [
       "<Figure size 864x864 with 2 Axes>"
      ]
     },
     "metadata": {
      "needs_background": "light"
     },
     "output_type": "display_data"
    }
   ],
   "source": [
    "# Accuracy\n",
    "acc_nn = m.accuracy_score( y_test_nn, yhat_nn )\n",
    "print(f'Accuracy: {acc_nn}')\n",
    "\n",
    "# Balanced Accuracy\n",
    "balanced_acc_nn = m.balanced_accuracy_score(y_test_nn, yhat_nn)\n",
    "print(f'Balanced Accuracy: {balanced_acc_nn}')\n",
    "\n",
    "# Kappa Metrics\n",
    "kappa_nn = m.cohen_kappa_score(y_test_nn, yhat_nn)\n",
    "print(f'Kappa Score: {kappa_nn}')\n",
    "\n",
    "# Classification report\n",
    "print(m.classification_report(y_test_nn, yhat_nn))\n",
    "\n",
    "# Confusion Matrix\n",
    "mt.plot_confusion_matrix( y_test_nn, yhat_nn, normalize=False, figsize=(12,12));\n",
    "\n",
    "# Performance\n",
    "imb_performance = {'model': 'NN Model - Imbalanced Data', \n",
    "                   'acc': np.round(acc_nn, 6), \n",
    "                   'balanced_acc': np.round(balanced_acc_nn, 6), \n",
    "                   'kappa_score': np.round(kappa_nn, 6)}"
   ]
  },
  {
   "cell_type": "markdown",
   "id": "83944aa8",
   "metadata": {},
   "source": [
    "#### 7.2.1.2. Imbalanced Data - Cross-Validation"
   ]
  },
  {
   "cell_type": "code",
   "execution_count": 69,
   "id": "9ef0c6d2",
   "metadata": {
    "ExecuteTime": {
     "end_time": "2022-04-10T06:50:06.894462Z",
     "start_time": "2022-04-10T06:21:32.726407Z"
    }
   },
   "outputs": [
    {
     "name": "stdout",
     "output_type": "stream",
     "text": [
      "Fold Number:1/5\n",
      "Fold Number:2/5\n",
      "Fold Number:3/5\n",
      "Fold Number:4/5\n",
      "Fold Number:5/5\n"
     ]
    }
   ],
   "source": [
    "# cross validation performance\n",
    "acc_nn, balanced_acc_nn, kappa_nn = cross_validation(num_fold = 5, \n",
    "                                                     x_train = X_train, \n",
    "                                                     y_train = y_train, \n",
    "                                                     model = model_nn, \n",
    "                                                     response_encoder = ohe, \n",
    "                                                     balance_model = False, \n",
    "                                                     verbose = True)"
   ]
  },
  {
   "cell_type": "code",
   "execution_count": 70,
   "id": "669ceb0f",
   "metadata": {
    "ExecuteTime": {
     "end_time": "2022-04-10T06:50:14.754753Z",
     "start_time": "2022-04-10T06:50:14.747750Z"
    }
   },
   "outputs": [],
   "source": [
    "# Performance\n",
    "imb_performance_cv = {'model': 'NN Model - Imbalanced Data - CV',\n",
    "                        'acc': f'{np.round(np.mean(acc_nn), 2)} +/- {np.round(np.std(acc_nn), 4)}',\n",
    "                        'balanced_acc': f'{np.round(np.mean(balanced_acc_nn), 2)} +/- {np.round(np.std(balanced_acc_nn), 4)}',\n",
    "                        'kappa_score': f'{np.round(np.mean(kappa_nn), 2)} +/- {np.round(np.std(kappa_nn), 4)}'}"
   ]
  },
  {
   "cell_type": "code",
   "execution_count": 71,
   "id": "57ebcef7",
   "metadata": {
    "ExecuteTime": {
     "end_time": "2022-04-10T06:50:18.503936Z",
     "start_time": "2022-04-10T06:50:18.475941Z"
    }
   },
   "outputs": [
    {
     "name": "stdout",
     "output_type": "stream",
     "text": [
      "Avg Accuracy: 0.87 +/- 0.0001\n",
      "Avg Balanced Accuracy: 0.17 +/- 3e-05\n",
      "Avg Kappa Score: 0.77 +/- 0.0002\n"
     ]
    }
   ],
   "source": [
    "print(f'Avg Accuracy: {np.round(np.mean(acc_nn), 2)} +/- {np.round(np.std(acc_nn),5)}')\n",
    "print(f'Avg Balanced Accuracy: {np.round(np.mean(balanced_acc_nn), 2)} +/- {np.round(np.std(balanced_acc_nn),5)}')\n",
    "print(f'Avg Kappa Score: {np.round(np.mean(kappa_nn), 2)} +/- {np.round(np.std(kappa_nn), 4)}')"
   ]
  },
  {
   "cell_type": "markdown",
   "id": "30a8d813",
   "metadata": {},
   "source": [
    "### 7.2.2. Neural Network - Random Undersampling"
   ]
  },
  {
   "cell_type": "code",
   "execution_count": 72,
   "id": "fa3d36ec",
   "metadata": {
    "ExecuteTime": {
     "end_time": "2022-04-10T06:51:44.359529Z",
     "start_time": "2022-04-10T06:51:33.384683Z"
    },
    "scrolled": true
   },
   "outputs": [
    {
     "name": "stdout",
     "output_type": "stream",
     "text": [
      "Epoch 1/100\n",
      "66/66 - 0s - loss: 43.6259 - accuracy: 0.1638\n",
      "Epoch 2/100\n",
      "66/66 - 0s - loss: 8.8914 - accuracy: 0.1742\n",
      "Epoch 3/100\n",
      "66/66 - 0s - loss: 9.6279 - accuracy: 0.1520\n",
      "Epoch 4/100\n",
      "66/66 - 0s - loss: 12.0191 - accuracy: 0.1671\n",
      "Epoch 5/100\n",
      "66/66 - 0s - loss: 8.9873 - accuracy: 0.1596\n",
      "Epoch 6/100\n",
      "66/66 - 0s - loss: 10.4771 - accuracy: 0.1648\n",
      "Epoch 7/100\n",
      "66/66 - 0s - loss: 12.7538 - accuracy: 0.1624\n",
      "Epoch 8/100\n",
      "66/66 - 0s - loss: 13.0269 - accuracy: 0.1572\n",
      "Epoch 9/100\n",
      "66/66 - 0s - loss: 11.3831 - accuracy: 0.1657\n",
      "Epoch 10/100\n",
      "66/66 - 0s - loss: 9.7508 - accuracy: 0.1738\n",
      "Epoch 11/100\n",
      "66/66 - 0s - loss: 10.0894 - accuracy: 0.1615\n",
      "Epoch 12/100\n",
      "66/66 - 0s - loss: 9.8213 - accuracy: 0.1742\n",
      "Epoch 13/100\n",
      "66/66 - 0s - loss: 8.6437 - accuracy: 0.1577\n",
      "Epoch 14/100\n",
      "66/66 - 0s - loss: 9.7208 - accuracy: 0.1619\n",
      "Epoch 15/100\n",
      "66/66 - 0s - loss: 8.4093 - accuracy: 0.1643\n",
      "Epoch 16/100\n",
      "66/66 - 0s - loss: 8.0154 - accuracy: 0.1686\n",
      "Epoch 17/100\n",
      "66/66 - 0s - loss: 8.1264 - accuracy: 0.1738\n",
      "Epoch 18/100\n",
      "66/66 - 0s - loss: 11.5533 - accuracy: 0.1832\n",
      "Epoch 19/100\n",
      "66/66 - 0s - loss: 9.6771 - accuracy: 0.1761\n",
      "Epoch 20/100\n",
      "66/66 - 0s - loss: 7.6833 - accuracy: 0.1742\n",
      "Epoch 21/100\n",
      "66/66 - 0s - loss: 9.0437 - accuracy: 0.1695\n",
      "Epoch 22/100\n",
      "66/66 - 0s - loss: 7.6411 - accuracy: 0.1837\n",
      "Epoch 23/100\n",
      "66/66 - 0s - loss: 6.4882 - accuracy: 0.1828\n",
      "Epoch 24/100\n",
      "66/66 - 0s - loss: 11.3988 - accuracy: 0.1676\n",
      "Epoch 25/100\n",
      "66/66 - 0s - loss: 8.3889 - accuracy: 0.1719\n",
      "Epoch 26/100\n",
      "66/66 - 0s - loss: 8.3151 - accuracy: 0.1705\n",
      "Epoch 27/100\n",
      "66/66 - 0s - loss: 6.9540 - accuracy: 0.1790\n",
      "Epoch 28/100\n",
      "66/66 - 0s - loss: 8.4583 - accuracy: 0.1738\n",
      "Epoch 29/100\n",
      "66/66 - 0s - loss: 5.2555 - accuracy: 0.1847\n",
      "Epoch 30/100\n",
      "66/66 - 0s - loss: 6.0273 - accuracy: 0.1837\n",
      "Epoch 31/100\n",
      "66/66 - 0s - loss: 8.1882 - accuracy: 0.1700\n",
      "Epoch 32/100\n",
      "66/66 - 0s - loss: 7.6356 - accuracy: 0.1809\n",
      "Epoch 33/100\n",
      "66/66 - 0s - loss: 8.8267 - accuracy: 0.1799\n",
      "Epoch 34/100\n",
      "66/66 - 0s - loss: 6.4163 - accuracy: 0.1686\n",
      "Epoch 35/100\n",
      "66/66 - 0s - loss: 6.3600 - accuracy: 0.1795\n",
      "Epoch 36/100\n",
      "66/66 - 0s - loss: 6.3563 - accuracy: 0.1686\n",
      "Epoch 37/100\n",
      "66/66 - 0s - loss: 5.1420 - accuracy: 0.1927\n",
      "Epoch 38/100\n",
      "66/66 - 0s - loss: 7.6957 - accuracy: 0.1752\n",
      "Epoch 39/100\n",
      "66/66 - 0s - loss: 7.1508 - accuracy: 0.1818\n",
      "Epoch 40/100\n",
      "66/66 - 0s - loss: 3.9546 - accuracy: 0.1837\n",
      "Epoch 41/100\n",
      "66/66 - 0s - loss: 5.9525 - accuracy: 0.1884\n",
      "Epoch 42/100\n",
      "66/66 - 0s - loss: 8.5578 - accuracy: 0.1728\n",
      "Epoch 43/100\n",
      "66/66 - 0s - loss: 6.2504 - accuracy: 0.1913\n",
      "Epoch 44/100\n",
      "66/66 - 0s - loss: 7.3655 - accuracy: 0.1856\n",
      "Epoch 45/100\n",
      "66/66 - 0s - loss: 6.2075 - accuracy: 0.1804\n",
      "Epoch 46/100\n",
      "66/66 - 0s - loss: 6.6809 - accuracy: 0.1776\n",
      "Epoch 47/100\n",
      "66/66 - 0s - loss: 6.2826 - accuracy: 0.1761\n",
      "Epoch 48/100\n",
      "66/66 - 0s - loss: 4.6241 - accuracy: 0.1837\n",
      "Epoch 49/100\n",
      "66/66 - 0s - loss: 4.8201 - accuracy: 0.1837\n",
      "Epoch 50/100\n",
      "66/66 - 0s - loss: 7.9617 - accuracy: 0.1866\n",
      "Epoch 51/100\n",
      "66/66 - 0s - loss: 4.6374 - accuracy: 0.1970\n",
      "Epoch 52/100\n",
      "66/66 - 0s - loss: 5.6212 - accuracy: 0.1870\n",
      "Epoch 53/100\n",
      "66/66 - 0s - loss: 7.7819 - accuracy: 0.1856\n",
      "Epoch 54/100\n",
      "66/66 - 0s - loss: 6.5369 - accuracy: 0.1866\n",
      "Epoch 55/100\n",
      "66/66 - 0s - loss: 9.3715 - accuracy: 0.1714\n",
      "Epoch 56/100\n",
      "66/66 - 0s - loss: 8.6899 - accuracy: 0.1723\n",
      "Epoch 57/100\n",
      "66/66 - 0s - loss: 5.1814 - accuracy: 0.1974\n",
      "Epoch 58/100\n",
      "66/66 - 0s - loss: 6.9326 - accuracy: 0.1733\n",
      "Epoch 59/100\n",
      "66/66 - 0s - loss: 4.4551 - accuracy: 0.1866\n",
      "Epoch 60/100\n",
      "66/66 - 0s - loss: 4.2083 - accuracy: 0.1903\n",
      "Epoch 61/100\n",
      "66/66 - 0s - loss: 4.7007 - accuracy: 0.1828\n",
      "Epoch 62/100\n",
      "66/66 - 0s - loss: 5.7265 - accuracy: 0.1809\n",
      "Epoch 63/100\n",
      "66/66 - 0s - loss: 5.9408 - accuracy: 0.1851\n",
      "Epoch 64/100\n",
      "66/66 - 0s - loss: 4.2934 - accuracy: 0.1875\n",
      "Epoch 65/100\n",
      "66/66 - 0s - loss: 5.6672 - accuracy: 0.1842\n",
      "Epoch 66/100\n",
      "66/66 - 0s - loss: 4.5973 - accuracy: 0.1979\n",
      "Epoch 67/100\n",
      "66/66 - 0s - loss: 5.8895 - accuracy: 0.1937\n",
      "Epoch 68/100\n",
      "66/66 - 0s - loss: 5.7832 - accuracy: 0.1847\n",
      "Epoch 69/100\n",
      "66/66 - 0s - loss: 7.3281 - accuracy: 0.1700\n",
      "Epoch 70/100\n",
      "66/66 - 0s - loss: 5.6631 - accuracy: 0.1884\n",
      "Epoch 71/100\n",
      "66/66 - 0s - loss: 4.1267 - accuracy: 0.1903\n",
      "Epoch 72/100\n",
      "66/66 - 0s - loss: 4.7086 - accuracy: 0.1799\n",
      "Epoch 73/100\n",
      "66/66 - 0s - loss: 4.1076 - accuracy: 0.1903\n",
      "Epoch 74/100\n",
      "66/66 - 0s - loss: 6.1135 - accuracy: 0.1899\n",
      "Epoch 75/100\n",
      "66/66 - 0s - loss: 6.1055 - accuracy: 0.1747\n",
      "Epoch 76/100\n",
      "66/66 - 0s - loss: 5.4332 - accuracy: 0.1880\n",
      "Epoch 77/100\n",
      "66/66 - 0s - loss: 4.4569 - accuracy: 0.1974\n",
      "Epoch 78/100\n",
      "66/66 - 0s - loss: 7.3125 - accuracy: 0.1828\n",
      "Epoch 79/100\n",
      "66/66 - 0s - loss: 5.2087 - accuracy: 0.1828\n",
      "Epoch 80/100\n",
      "66/66 - 0s - loss: 4.6926 - accuracy: 0.2060\n",
      "Epoch 81/100\n",
      "66/66 - 0s - loss: 5.2229 - accuracy: 0.1903\n",
      "Epoch 82/100\n",
      "66/66 - 0s - loss: 4.3062 - accuracy: 0.1903\n",
      "Epoch 83/100\n",
      "66/66 - 0s - loss: 6.2611 - accuracy: 0.1809\n",
      "Epoch 84/100\n",
      "66/66 - 0s - loss: 3.9886 - accuracy: 0.1908\n",
      "Epoch 85/100\n",
      "66/66 - 0s - loss: 6.1867 - accuracy: 0.1671\n",
      "Epoch 86/100\n",
      "66/66 - 0s - loss: 4.9436 - accuracy: 0.1989\n",
      "Epoch 87/100\n",
      "66/66 - 0s - loss: 4.3787 - accuracy: 0.2012\n",
      "Epoch 88/100\n",
      "66/66 - 0s - loss: 5.0758 - accuracy: 0.1866\n",
      "Epoch 89/100\n",
      "66/66 - 0s - loss: 5.5716 - accuracy: 0.1951\n",
      "Epoch 90/100\n",
      "66/66 - 0s - loss: 4.1152 - accuracy: 0.1913\n",
      "Epoch 91/100\n",
      "66/66 - 0s - loss: 3.8464 - accuracy: 0.1932\n",
      "Epoch 92/100\n",
      "66/66 - 0s - loss: 4.4047 - accuracy: 0.1998\n",
      "Epoch 93/100\n",
      "66/66 - 0s - loss: 4.4708 - accuracy: 0.1861\n",
      "Epoch 94/100\n",
      "66/66 - 0s - loss: 5.3057 - accuracy: 0.1884\n",
      "Epoch 95/100\n",
      "66/66 - 0s - loss: 4.1299 - accuracy: 0.1989\n",
      "Epoch 96/100\n",
      "66/66 - 0s - loss: 4.0899 - accuracy: 0.1927\n",
      "Epoch 97/100\n",
      "66/66 - 0s - loss: 4.6754 - accuracy: 0.1823\n",
      "Epoch 98/100\n",
      "66/66 - 0s - loss: 4.1999 - accuracy: 0.1974\n",
      "Epoch 99/100\n",
      "66/66 - 0s - loss: 3.6973 - accuracy: 0.2083\n",
      "Epoch 100/100\n",
      "66/66 - 0s - loss: 3.1611 - accuracy: 0.2060\n"
     ]
    },
    {
     "data": {
      "text/plain": [
       "<tensorflow.python.keras.callbacks.History at 0x21f7e26dc10>"
      ]
     },
     "execution_count": 72,
     "metadata": {},
     "output_type": "execute_result"
    }
   ],
   "source": [
    "# model definition\n",
    "model_under = ml.Sequential()\n",
    "model_under.add( l.Dense(128, input_dim=x_train_under.shape[1], activation='relu') )\n",
    "model_under.add( l.Dense(12, activation='softmax') )\n",
    "\n",
    "# model compile\n",
    "model_under.compile(loss='categorical_crossentropy', optimizer='adam', metrics=['accuracy'])\n",
    "\n",
    "# train model\n",
    "model_under.fit(x_train_under, y_train_under, epochs=100, verbose=2)"
   ]
  },
  {
   "cell_type": "markdown",
   "id": "afa3706d",
   "metadata": {},
   "source": [
    "#### 7.2.2.1. Random Undersampling - Performance"
   ]
  },
  {
   "cell_type": "code",
   "execution_count": 73,
   "id": "921b5fa4",
   "metadata": {
    "ExecuteTime": {
     "end_time": "2022-04-10T06:51:53.425536Z",
     "start_time": "2022-04-10T06:51:49.056533Z"
    }
   },
   "outputs": [],
   "source": [
    "# prediction\n",
    "pred_under_nn = model_under.predict(x_test)\n",
    "\n",
    "# invert prediction\n",
    "yhat_under_nn = ohe.inverse_transform(pred_under_nn)\n",
    "\n",
    "# invert validation response\n",
    "y_test_under_nn = ohe.inverse_transform(y_test)"
   ]
  },
  {
   "cell_type": "code",
   "execution_count": 74,
   "id": "fc74d3d3",
   "metadata": {
    "ExecuteTime": {
     "end_time": "2022-04-10T06:51:56.997083Z",
     "start_time": "2022-04-10T06:51:56.968089Z"
    },
    "cell_style": "split"
   },
   "outputs": [
    {
     "data": {
      "text/plain": [
       "NDF      0.576602\n",
       "US       0.297337\n",
       "other    0.047922\n",
       "FR       0.023486\n",
       "IT       0.013145\n",
       "GB       0.011438\n",
       "ES       0.010560\n",
       "CA       0.006902\n",
       "DE       0.005536\n",
       "NL       0.003805\n",
       "AU       0.002390\n",
       "PT       0.000878\n",
       "dtype: float64"
      ]
     },
     "execution_count": 74,
     "metadata": {},
     "output_type": "execute_result"
    }
   ],
   "source": [
    "# check the balance of validation\n",
    "pd.DataFrame(y_test_under_nn).value_counts(normalize=True)"
   ]
  },
  {
   "cell_type": "code",
   "execution_count": 75,
   "id": "d71eeada",
   "metadata": {
    "ExecuteTime": {
     "end_time": "2022-04-10T06:52:01.091094Z",
     "start_time": "2022-04-10T06:52:01.063085Z"
    },
    "cell_style": "split"
   },
   "outputs": [
    {
     "data": {
      "text/plain": [
       "NDF      0.581651\n",
       "FR       0.261438\n",
       "DE       0.149303\n",
       "CA       0.004341\n",
       "NL       0.003024\n",
       "other    0.000098\n",
       "GB       0.000049\n",
       "PT       0.000049\n",
       "US       0.000049\n",
       "dtype: float64"
      ]
     },
     "execution_count": 75,
     "metadata": {},
     "output_type": "execute_result"
    }
   ],
   "source": [
    "# check the balance of results\n",
    "pd.DataFrame(yhat_under_nn).value_counts(normalize=True)"
   ]
  },
  {
   "cell_type": "code",
   "execution_count": 77,
   "id": "f247d237",
   "metadata": {
    "ExecuteTime": {
     "end_time": "2022-04-10T06:52:15.188242Z",
     "start_time": "2022-04-10T06:52:12.675085Z"
    }
   },
   "outputs": [
    {
     "name": "stdout",
     "output_type": "stream",
     "text": [
      "Accuracy: 0.5944785874548825\n",
      "Balanced Accuracy: 0.17251833086519408\n",
      "Kappa Score: 0.3833228952086203\n",
      "              precision    recall  f1-score   support\n",
      "\n",
      "          AU       0.00      0.00      0.00        98\n",
      "          CA       0.01      0.00      0.00       283\n",
      "          DE       0.01      0.40      0.03       227\n",
      "          ES       0.00      0.00      0.00       433\n",
      "          FR       0.06      0.66      0.11       963\n",
      "          GB       0.50      0.00      0.00       469\n",
      "          IT       0.00      0.00      0.00       539\n",
      "         NDF       0.99      1.00      1.00     23643\n",
      "          NL       0.00      0.00      0.00       156\n",
      "          PT       0.00      0.00      0.00        36\n",
      "          US       1.00      0.00      0.00     12192\n",
      "       other       0.00      0.00      0.00      1965\n",
      "\n",
      "    accuracy                           0.59     41004\n",
      "   macro avg       0.21      0.17      0.10     41004\n",
      "weighted avg       0.88      0.59      0.58     41004\n",
      "\n"
     ]
    },
    {
     "data": {
      "image/png": "[encoded data removed]",
      "text/plain": [
       "<Figure size 864x864 with 2 Axes>"
      ]
     },
     "metadata": {
      "needs_background": "light"
     },
     "output_type": "display_data"
    }
   ],
   "source": [
    "# Accuracy\n",
    "acc_under_nn = m.accuracy_score( y_test_under_nn, yhat_under_nn )\n",
    "print(f'Accuracy: {acc_under_nn}')\n",
    "\n",
    "# Balanced Accuracy\n",
    "balanced_acc_under_nn = m.balanced_accuracy_score(y_test_under_nn, yhat_under_nn)\n",
    "print(f'Balanced Accuracy: {balanced_acc_under_nn}')\n",
    "\n",
    "# Kappa Metrics\n",
    "kappa_under_nn = m.cohen_kappa_score(y_test_under_nn, yhat_under_nn)\n",
    "print(f'Kappa Score: {kappa_under_nn}')\n",
    "\n",
    "# Classification report\n",
    "print(m.classification_report(y_test_under_nn, yhat_under_nn))\n",
    "\n",
    "# Confusion Matrix\n",
    "mt.plot_confusion_matrix( y_test_under_nn, yhat_under_nn, normalize=False, figsize=(12,12));\n",
    "\n",
    "# Performance\n",
    "under_performance = {'model': 'NN Model - Random Undersampling', \n",
    "                     'acc': np.round(acc_under_nn, 6), \n",
    "                     'balanced_acc': np.round(balanced_acc_under_nn, 6), \n",
    "                     'kappa_score': np.round(kappa_under_nn, 6)}"
   ]
  },
  {
   "cell_type": "markdown",
   "id": "1233cd98",
   "metadata": {},
   "source": [
    "#### 7.2.2.2. Random Undersampling - Cross-Validation"
   ]
  },
  {
   "cell_type": "code",
   "execution_count": 78,
   "id": "a42e4da1",
   "metadata": {
    "ExecuteTime": {
     "end_time": "2022-04-10T06:53:25.066825Z",
     "start_time": "2022-04-10T06:52:18.972018Z"
    }
   },
   "outputs": [
    {
     "name": "stdout",
     "output_type": "stream",
     "text": [
      "Fold Number:1/5\n",
      "Fold Number:2/5\n",
      "Fold Number:3/5\n",
      "Fold Number:4/5\n",
      "Fold Number:5/5\n"
     ]
    }
   ],
   "source": [
    "# cross validation performance\n",
    "acc_under, balanced_acc_under, kappa_under = cross_validation(num_fold = 5, \n",
    "                                                              x_train = X_train, \n",
    "                                                              y_train = y_train, \n",
    "                                                              model = model_under, \n",
    "                                                              response_encoder = ohe, \n",
    "                                                              balance_model = undersampling, \n",
    "                                                              verbose = True)"
   ]
  },
  {
   "cell_type": "code",
   "execution_count": 79,
   "id": "920db2e6",
   "metadata": {
    "ExecuteTime": {
     "end_time": "2022-04-10T06:53:28.648077Z",
     "start_time": "2022-04-10T06:53:28.629081Z"
    }
   },
   "outputs": [],
   "source": [
    "# Performance\n",
    "under_performance_cv = {'model': 'NN Model - Random Undersampling - CV',\n",
    "                        'acc': f'{np.round(np.mean(acc_under), 2)} +/- {np.round(np.std(acc_under), 4)}',\n",
    "                        'balanced_acc': f'{np.round(np.mean(balanced_acc_under), 2)} +/- {np.round(np.std(balanced_acc_under), 4)}',\n",
    "                        'kappa_score': f'{np.round(np.mean(kappa_under), 2)} +/- {np.round(np.std(kappa_under), 4)}'}"
   ]
  },
  {
   "cell_type": "code",
   "execution_count": 80,
   "id": "f81ed25e",
   "metadata": {
    "ExecuteTime": {
     "end_time": "2022-04-10T06:53:32.306190Z",
     "start_time": "2022-04-10T06:53:32.277197Z"
    }
   },
   "outputs": [
    {
     "name": "stdout",
     "output_type": "stream",
     "text": [
      "Avg Accuracy: 0.62 +/- 0.02366\n",
      "Avg Balanced Accuracy: 0.17 +/- 0.00566\n",
      "Avg Kappa Score: 0.42 +/- 0.028\n"
     ]
    }
   ],
   "source": [
    "print(f'Avg Accuracy: {np.round(np.mean(acc_under), 2)} +/- {np.round(np.std(acc_under),5)}')\n",
    "print(f'Avg Balanced Accuracy: {np.round(np.mean(balanced_acc_under), 2)} +/- {np.round(np.std(balanced_acc_under),5)}')\n",
    "print(f'Avg Kappa Score: {np.round(np.mean(kappa_under), 2)} +/- {np.round(np.std(kappa_under), 4)}')"
   ]
  },
  {
   "cell_type": "markdown",
   "id": "af2fe3cf",
   "metadata": {},
   "source": [
    "### 7.2.3. Random Oversampling "
   ]
  },
  {
   "cell_type": "code",
   "execution_count": 81,
   "id": "a2a0b26e",
   "metadata": {
    "ExecuteTime": {
     "end_time": "2022-04-10T07:48:14.074895Z",
     "start_time": "2022-04-10T06:54:03.480872Z"
    },
    "scrolled": true
   },
   "outputs": [
    {
     "name": "stdout",
     "output_type": "stream",
     "text": [
      "Epoch 1/100\n",
      "35829/35829 [==============================] - 42s 1ms/step - loss: 3.0967 - accuracy: 0.1727\n",
      "Epoch 2/100\n",
      "35829/35829 [==============================] - 48s 1ms/step - loss: 2.2005 - accuracy: 0.1677\n",
      "Epoch 3/100\n",
      "35829/35829 [==============================] - 39s 1ms/step - loss: 2.1994 - accuracy: 0.1678\n",
      "Epoch 4/100\n",
      "35829/35829 [==============================] - 39s 1ms/step - loss: 2.1991 - accuracy: 0.1681\n",
      "Epoch 5/100\n",
      "35829/35829 [==============================] - 48s 1ms/step - loss: 2.1989 - accuracy: 0.1682\n",
      "Epoch 6/100\n",
      "35829/35829 [==============================] - 35s 978us/step - loss: 2.1986 - accuracy: 0.1680\n",
      "Epoch 7/100\n",
      "35829/35829 [==============================] - 36s 999us/step - loss: 2.1985 - accuracy: 0.1686\n",
      "Epoch 8/100\n",
      "35829/35829 [==============================] - 32s 905us/step - loss: 2.1983 - accuracy: 0.1680\n",
      "Epoch 9/100\n",
      "35829/35829 [==============================] - 33s 914us/step - loss: 2.1982 - accuracy: 0.1685s - loss: 2.1982 - accura\n",
      "Epoch 10/100\n",
      "35829/35829 [==============================] - 32s 888us/step - loss: 2.1982 - accuracy: 0.1678\n",
      "Epoch 11/100\n",
      "35829/35829 [==============================] - 32s 880us/step - loss: 2.1980 - accuracy: 0.1680\n",
      "Epoch 12/100\n",
      "35829/35829 [==============================] - 31s 871us/step - loss: 2.1979 - accuracy: 0.1683\n",
      "Epoch 13/100\n",
      "35829/35829 [==============================] - 32s 899us/step - loss: 2.1979 - accuracy: 0.1684\n",
      "Epoch 14/100\n",
      "35829/35829 [==============================] - 31s 870us/step - loss: 2.1979 - accuracy: 0.1685\n",
      "Epoch 15/100\n",
      "35829/35829 [==============================] - 32s 887us/step - loss: 2.1978 - accuracy: 0.1686\n",
      "Epoch 16/100\n",
      "35829/35829 [==============================] - 31s 870us/step - loss: 2.1977 - accuracy: 0.1683\n",
      "Epoch 17/100\n",
      "35829/35829 [==============================] - 32s 880us/step - loss: 2.1977 - accuracy: 0.1681\n",
      "Epoch 18/100\n",
      "35829/35829 [==============================] - 31s 871us/step - loss: 2.1977 - accuracy: 0.1686\n",
      "Epoch 19/100\n",
      "35829/35829 [==============================] - 32s 880us/step - loss: 2.1976 - accuracy: 0.1682\n",
      "Epoch 20/100\n",
      "35829/35829 [==============================] - 32s 890us/step - loss: 2.1976 - accuracy: 0.1683\n",
      "Epoch 21/100\n",
      "35829/35829 [==============================] - 31s 878us/step - loss: 2.1976 - accuracy: 0.1685\n",
      "Epoch 22/100\n",
      "35829/35829 [==============================] - 31s 873us/step - loss: 2.1977 - accuracy: 0.1685\n",
      "Epoch 23/100\n",
      "35829/35829 [==============================] - 32s 887us/step - loss: 2.1976 - accuracy: 0.1683\n",
      "Epoch 24/100\n",
      "35829/35829 [==============================] - 32s 880us/step - loss: 2.1976 - accuracy: 0.1681\n",
      "Epoch 25/100\n",
      "35829/35829 [==============================] - 32s 893us/step - loss: 2.1976 - accuracy: 0.1685\n",
      "Epoch 26/100\n",
      "35829/35829 [==============================] - 32s 902us/step - loss: 2.1976 - accuracy: 0.1685\n",
      "Epoch 27/100\n",
      "35829/35829 [==============================] - 31s 878us/step - loss: 2.1975 - accuracy: 0.1684\n",
      "Epoch 28/100\n",
      "35829/35829 [==============================] - 31s 876us/step - loss: 2.1975 - accuracy: 0.1687\n",
      "Epoch 29/100\n",
      "35829/35829 [==============================] - 31s 871us/step - loss: 2.1975 - accuracy: 0.1682\n",
      "Epoch 30/100\n",
      "35829/35829 [==============================] - 32s 889us/step - loss: 2.1975 - accuracy: 0.1685\n",
      "Epoch 31/100\n",
      "35829/35829 [==============================] - 32s 898us/step - loss: 2.1975 - accuracy: 0.1681\n",
      "Epoch 32/100\n",
      "35829/35829 [==============================] - 32s 881us/step - loss: 2.1974 - accuracy: 0.1686\n",
      "Epoch 33/100\n",
      "35829/35829 [==============================] - 31s 871us/step - loss: 2.1975 - accuracy: 0.1683\n",
      "Epoch 34/100\n",
      "35829/35829 [==============================] - 33s 913us/step - loss: 2.1975 - accuracy: 0.1687\n",
      "Epoch 35/100\n",
      "35829/35829 [==============================] - 31s 873us/step - loss: 2.1974 - accuracy: 0.1685\n",
      "Epoch 36/100\n",
      "35829/35829 [==============================] - 33s 908us/step - loss: 2.1975 - accuracy: 0.1684\n",
      "Epoch 37/100\n",
      "35829/35829 [==============================] - 31s 875us/step - loss: 2.1974 - accuracy: 0.1683\n",
      "Epoch 38/100\n",
      "35829/35829 [==============================] - 32s 882us/step - loss: 2.1974 - accuracy: 0.1686\n",
      "Epoch 39/100\n",
      "35829/35829 [==============================] - 31s 871us/step - loss: 2.1974 - accuracy: 0.1684\n",
      "Epoch 40/100\n",
      "35829/35829 [==============================] - 31s 879us/step - loss: 2.1975 - accuracy: 0.1687\n",
      "Epoch 41/100\n",
      "35829/35829 [==============================] - 31s 874us/step - loss: 2.1974 - accuracy: 0.1680\n",
      "Epoch 42/100\n",
      "35829/35829 [==============================] - 32s 892us/step - loss: 2.1974 - accuracy: 0.1682\n",
      "Epoch 43/100\n",
      "35829/35829 [==============================] - 32s 881us/step - loss: 2.1973 - accuracy: 0.1684\n",
      "Epoch 44/100\n",
      "35829/35829 [==============================] - 32s 890us/step - loss: 2.1974 - accuracy: 0.1683\n",
      "Epoch 45/100\n",
      "35829/35829 [==============================] - 33s 910us/step - loss: 2.1973 - accuracy: 0.1685\n",
      "Epoch 46/100\n",
      "35829/35829 [==============================] - 32s 907us/step - loss: 2.1974 - accuracy: 0.1681\n",
      "Epoch 47/100\n",
      "35829/35829 [==============================] - 31s 878us/step - loss: 2.1974 - accuracy: 0.1687\n",
      "Epoch 48/100\n",
      "35829/35829 [==============================] - 32s 889us/step - loss: 2.1974 - accuracy: 0.1686\n",
      "Epoch 49/100\n",
      "35829/35829 [==============================] - 31s 878us/step - loss: 2.1974 - accuracy: 0.1684\n",
      "Epoch 50/100\n",
      "35829/35829 [==============================] - 31s 871us/step - loss: 2.1973 - accuracy: 0.1685\n",
      "Epoch 51/100\n",
      "35829/35829 [==============================] - 31s 879us/step - loss: 2.1974 - accuracy: 0.1685\n",
      "Epoch 52/100\n",
      "35829/35829 [==============================] - 31s 870us/step - loss: 2.1973 - accuracy: 0.1684\n",
      "Epoch 53/100\n",
      "35829/35829 [==============================] - 33s 921us/step - loss: 2.1974 - accuracy: 0.1687\n",
      "Epoch 54/100\n",
      "35829/35829 [==============================] - 31s 870us/step - loss: 2.1973 - accuracy: 0.1683\n",
      "Epoch 55/100\n",
      "35829/35829 [==============================] - 31s 878us/step - loss: 2.1973 - accuracy: 0.1684\n",
      "Epoch 56/100\n",
      "35829/35829 [==============================] - 31s 873us/step - loss: 2.1974 - accuracy: 0.1686\n",
      "Epoch 57/100\n",
      "35829/35829 [==============================] - 31s 879us/step - loss: 2.1973 - accuracy: 0.1684\n",
      "Epoch 58/100\n",
      "35829/35829 [==============================] - 31s 870us/step - loss: 2.1973 - accuracy: 0.1682\n",
      "Epoch 59/100\n",
      "35829/35829 [==============================] - 31s 876us/step - loss: 2.1973 - accuracy: 0.1687\n",
      "Epoch 60/100\n",
      "35829/35829 [==============================] - 31s 871us/step - loss: 2.1972 - accuracy: 0.1685\n",
      "Epoch 61/100\n",
      "35829/35829 [==============================] - 32s 879us/step - loss: 2.1973 - accuracy: 0.1683\n",
      "Epoch 62/100\n",
      "35829/35829 [==============================] - 31s 878us/step - loss: 2.1973 - accuracy: 0.1681\n",
      "Epoch 63/100\n",
      "35829/35829 [==============================] - 32s 893us/step - loss: 2.1973 - accuracy: 0.1683\n",
      "Epoch 64/100\n",
      "35829/35829 [==============================] - 32s 907us/step - loss: 2.1973 - accuracy: 0.1682\n",
      "Epoch 65/100\n",
      "35829/35829 [==============================] - 31s 878us/step - loss: 2.1973 - accuracy: 0.1681\n",
      "Epoch 66/100\n",
      "35829/35829 [==============================] - 31s 877us/step - loss: 2.1973 - accuracy: 0.1687\n",
      "Epoch 67/100\n",
      "35829/35829 [==============================] - 31s 871us/step - loss: 2.1972 - accuracy: 0.1685\n",
      "Epoch 68/100\n",
      "35829/35829 [==============================] - 32s 881us/step - loss: 2.1973 - accuracy: 0.1687\n",
      "Epoch 69/100\n",
      "35829/35829 [==============================] - 34s 953us/step - loss: 2.1972 - accuracy: 0.1680\n",
      "Epoch 70/100\n",
      "35829/35829 [==============================] - 32s 907us/step - loss: 2.1973 - accuracy: 0.1683\n",
      "Epoch 71/100\n",
      "35829/35829 [==============================] - 31s 872us/step - loss: 2.1973 - accuracy: 0.1687\n",
      "Epoch 72/100\n",
      "35829/35829 [==============================] - 33s 917us/step - loss: 2.1973 - accuracy: 0.1683\n",
      "Epoch 73/100\n",
      "35829/35829 [==============================] - 31s 872us/step - loss: 2.1973 - accuracy: 0.1682\n",
      "Epoch 74/100\n",
      "35829/35829 [==============================] - 31s 877us/step - loss: 2.1973 - accuracy: 0.1684\n",
      "Epoch 75/100\n",
      "35829/35829 [==============================] - 31s 870us/step - loss: 2.1973 - accuracy: 0.1681\n",
      "Epoch 76/100\n"
     ]
    },
    {
     "name": "stdout",
     "output_type": "stream",
     "text": [
      "35829/35829 [==============================] - 31s 879us/step - loss: 2.1973 - accuracy: 0.1683\n",
      "Epoch 77/100\n",
      "35829/35829 [==============================] - 32s 885us/step - loss: 2.1973 - accuracy: 0.1684\n",
      "Epoch 78/100\n",
      "35829/35829 [==============================] - 31s 876us/step - loss: 2.1973 - accuracy: 0.1679\n",
      "Epoch 79/100\n",
      "35829/35829 [==============================] - 31s 872us/step - loss: 2.1972 - accuracy: 0.1683\n",
      "Epoch 80/100\n",
      "35829/35829 [==============================] - 32s 881us/step - loss: 2.1973 - accuracy: 0.1685\n",
      "Epoch 81/100\n",
      "35829/35829 [==============================] - 32s 886us/step - loss: 2.1972 - accuracy: 0.1685\n",
      "Epoch 82/100\n",
      "35829/35829 [==============================] - 32s 896us/step - loss: 2.1972 - accuracy: 0.1683\n",
      "Epoch 83/100\n",
      "35829/35829 [==============================] - 32s 892us/step - loss: 2.1974 - accuracy: 0.1681\n",
      "Epoch 84/100\n",
      "35829/35829 [==============================] - 31s 871us/step - loss: 2.1973 - accuracy: 0.1684\n",
      "Epoch 85/100\n",
      "35829/35829 [==============================] - 31s 878us/step - loss: 2.1972 - accuracy: 0.1681\n",
      "Epoch 86/100\n",
      "35829/35829 [==============================] - 31s 868us/step - loss: 2.1973 - accuracy: 0.1685\n",
      "Epoch 87/100\n",
      "35829/35829 [==============================] - 31s 878us/step - loss: 2.1973 - accuracy: 0.1685\n",
      "Epoch 88/100\n",
      "35829/35829 [==============================] - 36s 999us/step - loss: 2.1973 - accuracy: 0.1678\n",
      "Epoch 89/100\n",
      "35829/35829 [==============================] - 37s 1ms/step - loss: 2.1973 - accuracy: 0.1680\n",
      "Epoch 90/100\n",
      "35829/35829 [==============================] - 31s 872us/step - loss: 2.1973 - accuracy: 0.1681\n",
      "Epoch 91/100\n",
      "35829/35829 [==============================] - 33s 931us/step - loss: 2.1973 - accuracy: 0.1688\n",
      "Epoch 92/100\n",
      "35829/35829 [==============================] - 31s 875us/step - loss: 2.1974 - accuracy: 0.1681\n",
      "Epoch 93/100\n",
      "35829/35829 [==============================] - 32s 883us/step - loss: 2.1973 - accuracy: 0.1683\n",
      "Epoch 94/100\n",
      "35829/35829 [==============================] - 32s 881us/step - loss: 2.1973 - accuracy: 0.1683\n",
      "Epoch 95/100\n",
      "35829/35829 [==============================] - 32s 901us/step - loss: 2.1973 - accuracy: 0.1683\n",
      "Epoch 96/100\n",
      "35829/35829 [==============================] - 32s 880us/step - loss: 2.1972 - accuracy: 0.1687\n",
      "Epoch 97/100\n",
      "35829/35829 [==============================] - 32s 895us/step - loss: 2.1973 - accuracy: 0.1681\n",
      "Epoch 98/100\n",
      "35829/35829 [==============================] - 32s 880us/step - loss: 2.1973 - accuracy: 0.1680\n",
      "Epoch 99/100\n",
      "35829/35829 [==============================] - 31s 874us/step - loss: 2.1973 - accuracy: 0.1685\n",
      "Epoch 100/100\n",
      "35829/35829 [==============================] - 32s 895us/step - loss: 2.1973 - accuracy: 0.1680\n"
     ]
    },
    {
     "data": {
      "text/plain": [
       "<tensorflow.python.keras.callbacks.History at 0x21f7e388940>"
      ]
     },
     "execution_count": 81,
     "metadata": {},
     "output_type": "execute_result"
    }
   ],
   "source": [
    "# model definition\n",
    "model_over = ml.Sequential()\n",
    "model_over.add( l.Dense(128, input_dim=x_train_over.shape[1], activation='relu') )\n",
    "model_over.add( l.Dense(12, activation='softmax') )\n",
    "\n",
    "# model compile\n",
    "model_over.compile(loss='categorical_crossentropy', optimizer='adam', metrics=['accuracy'])\n",
    "\n",
    "# train model\n",
    "model_over.fit(x_train_over, y_train_over, epochs=100)"
   ]
  },
  {
   "cell_type": "markdown",
   "id": "d19c6429",
   "metadata": {},
   "source": [
    "#### 7.2.3.1. Random Oversampling - Performance"
   ]
  },
  {
   "cell_type": "code",
   "execution_count": 82,
   "id": "7c775ae4",
   "metadata": {
    "ExecuteTime": {
     "end_time": "2022-04-10T07:48:23.806118Z",
     "start_time": "2022-04-10T07:48:17.765482Z"
    }
   },
   "outputs": [],
   "source": [
    "# prediction\n",
    "pred_over_nn = model_over.predict(x_test)\n",
    "\n",
    "# invert prediction\n",
    "yhat_over_nn = ohe.inverse_transform(pred_over_nn)\n",
    "\n",
    "# invert validation response\n",
    "y_test_over_nn = ohe.inverse_transform(y_test)"
   ]
  },
  {
   "cell_type": "code",
   "execution_count": 83,
   "id": "37727832",
   "metadata": {
    "ExecuteTime": {
     "end_time": "2022-04-10T07:48:27.317029Z",
     "start_time": "2022-04-10T07:48:27.292214Z"
    },
    "cell_style": "split"
   },
   "outputs": [
    {
     "data": {
      "text/plain": [
       "NDF      0.576602\n",
       "US       0.297337\n",
       "other    0.047922\n",
       "FR       0.023486\n",
       "IT       0.013145\n",
       "GB       0.011438\n",
       "ES       0.010560\n",
       "CA       0.006902\n",
       "DE       0.005536\n",
       "NL       0.003805\n",
       "AU       0.002390\n",
       "PT       0.000878\n",
       "dtype: float64"
      ]
     },
     "execution_count": 83,
     "metadata": {},
     "output_type": "execute_result"
    }
   ],
   "source": [
    "# check the balance of validation\n",
    "pd.DataFrame(y_test_over_nn).value_counts(normalize=True)"
   ]
  },
  {
   "cell_type": "code",
   "execution_count": 84,
   "id": "b4e89b98",
   "metadata": {
    "ExecuteTime": {
     "end_time": "2022-04-10T07:48:30.547676Z",
     "start_time": "2022-04-10T07:48:30.530710Z"
    },
    "cell_style": "split"
   },
   "outputs": [
    {
     "data": {
      "text/plain": [
       "NDF    0.576871\n",
       "GB     0.421105\n",
       "PT     0.002024\n",
       "dtype: float64"
      ]
     },
     "execution_count": 84,
     "metadata": {},
     "output_type": "execute_result"
    }
   ],
   "source": [
    "# check balanced results\n",
    "pd.DataFrame(yhat_over_nn).value_counts(normalize=True)"
   ]
  },
  {
   "cell_type": "code",
   "execution_count": 86,
   "id": "20060d9f",
   "metadata": {
    "ExecuteTime": {
     "end_time": "2022-04-10T07:48:43.731587Z",
     "start_time": "2022-04-10T07:48:41.353843Z"
    }
   },
   "outputs": [
    {
     "name": "stdout",
     "output_type": "stream",
     "text": [
      "Accuracy: 0.5878207004194713\n",
      "Balanced Accuracy: 0.16663494480395888\n",
      "Kappa Score: 0.3778958881980867\n",
      "              precision    recall  f1-score   support\n",
      "\n",
      "          AU       0.00      0.00      0.00        98\n",
      "          CA       0.00      0.00      0.00       283\n",
      "          DE       0.00      0.00      0.00       227\n",
      "          ES       0.00      0.00      0.00       433\n",
      "          FR       0.00      0.00      0.00       963\n",
      "          GB       0.03      1.00      0.05       469\n",
      "          IT       0.00      0.00      0.00       539\n",
      "         NDF       1.00      1.00      1.00     23643\n",
      "          NL       0.00      0.00      0.00       156\n",
      "          PT       0.00      0.00      0.00        36\n",
      "          US       0.00      0.00      0.00     12192\n",
      "       other       0.00      0.00      0.00      1965\n",
      "\n",
      "    accuracy                           0.59     41004\n",
      "   macro avg       0.09      0.17      0.09     41004\n",
      "weighted avg       0.58      0.59      0.58     41004\n",
      "\n"
     ]
    },
    {
     "data": {
      "image/png": "[encoded data removed]",
      "text/plain": [
       "<Figure size 864x864 with 2 Axes>"
      ]
     },
     "metadata": {
      "needs_background": "light"
     },
     "output_type": "display_data"
    }
   ],
   "source": [
    "# Accuracy\n",
    "acc_over_nn = m.accuracy_score( y_test_over_nn, yhat_over_nn )\n",
    "print(f'Accuracy: {acc_over_nn}')\n",
    "\n",
    "# Balanced Accuracy\n",
    "balanced_acc_over_nn = m.balanced_accuracy_score(y_test_over_nn, yhat_over_nn)\n",
    "print(f'Balanced Accuracy: {balanced_acc_over_nn}')\n",
    "\n",
    "# Kappa Metrics\n",
    "kappa_over_nn = m.cohen_kappa_score(y_test_over_nn, yhat_over_nn)\n",
    "print(f'Kappa Score: {kappa_over_nn}')\n",
    "\n",
    "# Classification report\n",
    "print(m.classification_report(y_test_over_nn, yhat_over_nn))\n",
    "\n",
    "# Confusion Matrix\n",
    "mt.plot_confusion_matrix( y_test_over_nn, yhat_over_nn, normalize=False, figsize=(12,12));\n",
    "\n",
    "# Performance\n",
    "over_performance = {'model': 'NN Model - Random Oversampling', \n",
    "                    'acc': np.round(acc_over_nn, 6), \n",
    "                    'balanced_acc': np.round(balanced_acc_over_nn, 6), \n",
    "                    'kappa_score': np.round(kappa_over_nn, 6)}"
   ]
  },
  {
   "cell_type": "markdown",
   "id": "b28f283d",
   "metadata": {},
   "source": [
    "#### 7.2.3.2. Random Oversampling - Cross-Validation"
   ]
  },
  {
   "cell_type": "code",
   "execution_count": 87,
   "id": "27fb6d95",
   "metadata": {
    "ExecuteTime": {
     "end_time": "2022-04-10T12:17:21.768446Z",
     "start_time": "2022-04-10T07:48:46.889166Z"
    }
   },
   "outputs": [
    {
     "name": "stdout",
     "output_type": "stream",
     "text": [
      "Fold Number:1/5\n",
      "Fold Number:2/5\n",
      "Fold Number:3/5\n",
      "Fold Number:4/5\n",
      "Fold Number:5/5\n"
     ]
    }
   ],
   "source": [
    "# cross validation performance\n",
    "acc_over, balanced_acc_over, kappa_over = cross_validation(num_fold = 5, \n",
    "                                                           x_train = X_train, \n",
    "                                                           y_train = y_train, \n",
    "                                                           model = model_over, \n",
    "                                                           response_encoder = ohe, \n",
    "                                                           balance_model = oversampling, \n",
    "                                                           verbose = True)"
   ]
  },
  {
   "cell_type": "code",
   "execution_count": 88,
   "id": "85b8e652",
   "metadata": {
    "ExecuteTime": {
     "end_time": "2022-04-10T12:17:52.327588Z",
     "start_time": "2022-04-10T12:17:52.296335Z"
    }
   },
   "outputs": [],
   "source": [
    "# Performance\n",
    "over_performance_cv = {'model': 'NN Model - Random Oversampling - CV',\n",
    "                        'acc': f'{np.round(np.mean(acc_over), 2)} +/- {np.round(np.std(acc_over), 4)}',\n",
    "                        'balanced_acc': f'{np.round(np.mean(balanced_acc_over), 2)} +/- {np.round(np.std(balanced_acc_over), 4)}',\n",
    "                        'kappa_score': f'{np.round(np.mean(kappa_over), 2)} +/- {np.round(np.std(kappa_over), 4)}'}"
   ]
  },
  {
   "cell_type": "code",
   "execution_count": 89,
   "id": "8d594424",
   "metadata": {
    "ExecuteTime": {
     "end_time": "2022-04-10T12:17:55.640657Z",
     "start_time": "2022-04-10T12:17:55.625432Z"
    }
   },
   "outputs": [
    {
     "name": "stdout",
     "output_type": "stream",
     "text": [
      "Avg Accuracy: 0.6 +/- 0.0133\n",
      "Avg Balanced Accuracy: 0.17 +/- 0.00034\n",
      "Avg Kappa Score: 0.39 +/- 0.0155\n"
     ]
    }
   ],
   "source": [
    "print(f'Avg Accuracy: {np.round(np.mean(acc_over), 2)} +/- {np.round(np.std(acc_over),5)}')\n",
    "print(f'Avg Balanced Accuracy: {np.round(np.mean(balanced_acc_over), 2)} +/- {np.round(np.std(balanced_acc_over),5)}')\n",
    "print(f'Avg Kappa Score: {np.round(np.mean(kappa_over), 2)} +/- {np.round(np.std(kappa_over), 4)}')"
   ]
  },
  {
   "cell_type": "markdown",
   "id": "3b3b7390",
   "metadata": {},
   "source": [
    "### 7.2.4. Neural Network - SMOTE + TOMEKLINK"
   ]
  },
  {
   "cell_type": "code",
   "execution_count": 90,
   "id": "51494560",
   "metadata": {
    "ExecuteTime": {
     "end_time": "2022-04-10T13:14:23.356414Z",
     "start_time": "2022-04-10T12:17:59.031006Z"
    },
    "scrolled": true
   },
   "outputs": [
    {
     "name": "stdout",
     "output_type": "stream",
     "text": [
      "Epoch 1/100\n",
      "35752/35752 [==============================] - 35s 978us/step - loss: 3.3512 - accuracy: 0.1826\n",
      "Epoch 2/100\n",
      "35752/35752 [==============================] - 34s 948us/step - loss: 2.1994 - accuracy: 0.1668\n",
      "Epoch 3/100\n",
      "35752/35752 [==============================] - 34s 938us/step - loss: 2.1985 - accuracy: 0.1668\n",
      "Epoch 4/100\n",
      "35752/35752 [==============================] - 34s 946us/step - loss: 2.1984 - accuracy: 0.1670\n",
      "Epoch 5/100\n",
      "35752/35752 [==============================] - 34s 944us/step - loss: 2.1983 - accuracy: 0.1668\n",
      "Epoch 6/100\n",
      "35752/35752 [==============================] - 34s 956us/step - loss: 2.1982 - accuracy: 0.1670\n",
      "Epoch 7/100\n",
      "35752/35752 [==============================] - 35s 976us/step - loss: 2.1983 - accuracy: 0.1665\n",
      "Epoch 8/100\n",
      "35752/35752 [==============================] - 34s 948us/step - loss: 2.1982 - accuracy: 0.1674\n",
      "Epoch 9/100\n",
      "35752/35752 [==============================] - 35s 971us/step - loss: 2.1983 - accuracy: 0.1669\n",
      "Epoch 10/100\n",
      "35752/35752 [==============================] - 34s 941us/step - loss: 2.1983 - accuracy: 0.1672\n",
      "Epoch 11/100\n",
      "35752/35752 [==============================] - 33s 934us/step - loss: 2.1987 - accuracy: 0.1666\n",
      "Epoch 12/100\n",
      "35752/35752 [==============================] - 33s 930us/step - loss: 2.1987 - accuracy: 0.1672\n",
      "Epoch 13/100\n",
      "35752/35752 [==============================] - 34s 938us/step - loss: 2.1987 - accuracy: 0.1668\n",
      "Epoch 14/100\n",
      "35752/35752 [==============================] - 33s 936us/step - loss: 2.1988 - accuracy: 0.1670\n",
      "Epoch 15/100\n",
      "35752/35752 [==============================] - 33s 927us/step - loss: 2.1989 - accuracy: 0.1666\n",
      "Epoch 16/100\n",
      "35752/35752 [==============================] - 34s 939us/step - loss: 2.1991 - accuracy: 0.1669\n",
      "Epoch 17/100\n",
      "35752/35752 [==============================] - 36s 998us/step - loss: 2.1986 - accuracy: 0.1666\n",
      "Epoch 18/100\n",
      "35752/35752 [==============================] - 35s 992us/step - loss: 2.1990 - accuracy: 0.1668\n",
      "Epoch 19/100\n",
      "35752/35752 [==============================] - 34s 959us/step - loss: 2.1995 - accuracy: 0.1662\n",
      "Epoch 20/100\n",
      "35752/35752 [==============================] - 34s 939us/step - loss: 2.1995 - accuracy: 0.1668\n",
      "Epoch 21/100\n",
      "35752/35752 [==============================] - 34s 949us/step - loss: 2.1998 - accuracy: 0.1665\n",
      "Epoch 22/100\n",
      "35752/35752 [==============================] - 33s 934us/step - loss: 2.1995 - accuracy: 0.1665\n",
      "Epoch 23/100\n",
      "35752/35752 [==============================] - 34s 944us/step - loss: 2.1997 - accuracy: 0.1668\n",
      "Epoch 24/100\n",
      "35752/35752 [==============================] - 34s 947us/step - loss: 2.1996 - accuracy: 0.1667\n",
      "Epoch 25/100\n",
      "35752/35752 [==============================] - 34s 938us/step - loss: 2.1996 - accuracy: 0.1663\n",
      "Epoch 26/100\n",
      "35752/35752 [==============================] - 33s 935us/step - loss: 2.1996 - accuracy: 0.1661\n",
      "Epoch 27/100\n",
      "35752/35752 [==============================] - 34s 952us/step - loss: 2.1990 - accuracy: 0.1670\n",
      "Epoch 28/100\n",
      "35752/35752 [==============================] - 33s 933us/step - loss: 2.1989 - accuracy: 0.1672\n",
      "Epoch 29/100\n",
      "35752/35752 [==============================] - 34s 938us/step - loss: 2.1995 - accuracy: 0.1666\n",
      "Epoch 30/100\n",
      "35752/35752 [==============================] - 34s 945us/step - loss: 2.1988 - accuracy: 0.1665\n",
      "Epoch 31/100\n",
      "35752/35752 [==============================] - 33s 933us/step - loss: 2.1995 - accuracy: 0.1665\n",
      "Epoch 32/100\n",
      "35752/35752 [==============================] - 34s 944us/step - loss: 2.1995 - accuracy: 0.1667\n",
      "Epoch 33/100\n",
      "35752/35752 [==============================] - 34s 948us/step - loss: 2.1990 - accuracy: 0.1667\n",
      "Epoch 34/100\n",
      "35752/35752 [==============================] - 34s 943us/step - loss: 2.1996 - accuracy: 0.1670\n",
      "Epoch 35/100\n",
      "35752/35752 [==============================] - 34s 938us/step - loss: 2.1995 - accuracy: 0.1669\n",
      "Epoch 36/100\n",
      "35752/35752 [==============================] - 34s 954us/step - loss: 2.1995 - accuracy: 0.1667\n",
      "Epoch 37/100\n",
      "35752/35752 [==============================] - 35s 965us/step - loss: 2.1991 - accuracy: 0.1666\n",
      "Epoch 38/100\n",
      "35752/35752 [==============================] - 33s 931us/step - loss: 2.1990 - accuracy: 0.1668\n",
      "Epoch 39/100\n",
      "35752/35752 [==============================] - 33s 936us/step - loss: 2.1994 - accuracy: 0.1670\n",
      "Epoch 40/100\n",
      "35752/35752 [==============================] - 33s 929us/step - loss: 2.1988 - accuracy: 0.1666\n",
      "Epoch 41/100\n",
      "35752/35752 [==============================] - 34s 939us/step - loss: 2.1989 - accuracy: 0.1668\n",
      "Epoch 42/100\n",
      "35752/35752 [==============================] - 33s 929us/step - loss: 2.1986 - accuracy: 0.1666\n",
      "Epoch 43/100\n",
      "35752/35752 [==============================] - 33s 936us/step - loss: 2.1991 - accuracy: 0.1670\n",
      "Epoch 44/100\n",
      "35752/35752 [==============================] - 33s 930us/step - loss: 2.1990 - accuracy: 0.1664\n",
      "Epoch 45/100\n",
      "35752/35752 [==============================] - 34s 951us/step - loss: 2.1987 - accuracy: 0.1665\n",
      "Epoch 46/100\n",
      "35752/35752 [==============================] - 34s 938us/step - loss: 2.1986 - accuracy: 0.1670\n",
      "Epoch 47/100\n",
      "35752/35752 [==============================] - 33s 930us/step - loss: 2.1989 - accuracy: 0.1666\n",
      "Epoch 48/100\n",
      "35752/35752 [==============================] - 34s 944us/step - loss: 2.1992 - accuracy: 0.1663\n",
      "Epoch 49/100\n",
      "35752/35752 [==============================] - 35s 977us/step - loss: 2.1991 - accuracy: 0.1669\n",
      "Epoch 50/100\n",
      "35752/35752 [==============================] - 33s 937us/step - loss: 2.1985 - accuracy: 0.1667\n",
      "Epoch 51/100\n",
      "35752/35752 [==============================] - 34s 943us/step - loss: 2.1992 - accuracy: 0.1666\n",
      "Epoch 52/100\n",
      "35752/35752 [==============================] - 34s 941us/step - loss: 2.1987 - accuracy: 0.1662\n",
      "Epoch 53/100\n",
      "35752/35752 [==============================] - 34s 940us/step - loss: 2.1987 - accuracy: 0.1669\n",
      "Epoch 54/100\n",
      "35752/35752 [==============================] - 35s 988us/step - loss: 2.1987 - accuracy: 0.1665\n",
      "Epoch 55/100\n",
      "35752/35752 [==============================] - 34s 949us/step - loss: 2.1987 - accuracy: 0.1671\n",
      "Epoch 56/100\n",
      "35752/35752 [==============================] - 33s 935us/step - loss: 2.1992 - accuracy: 0.1666\n",
      "Epoch 57/100\n",
      "35752/35752 [==============================] - 34s 941us/step - loss: 2.1988 - accuracy: 0.1668\n",
      "Epoch 58/100\n",
      "35752/35752 [==============================] - 33s 930us/step - loss: 2.1992 - accuracy: 0.1668\n",
      "Epoch 59/100\n",
      "35752/35752 [==============================] - 34s 943us/step - loss: 2.1992 - accuracy: 0.1669\n",
      "Epoch 60/100\n",
      "35752/35752 [==============================] - 34s 946us/step - loss: 2.1990 - accuracy: 0.1665\n",
      "Epoch 61/100\n",
      "35752/35752 [==============================] - 33s 936us/step - loss: 2.1991 - accuracy: 0.1670\n",
      "Epoch 62/100\n",
      "35752/35752 [==============================] - 34s 938us/step - loss: 2.1991 - accuracy: 0.1666\n",
      "Epoch 63/100\n",
      "35752/35752 [==============================] - 33s 930us/step - loss: 2.1988 - accuracy: 0.1667\n",
      "Epoch 64/100\n",
      "35752/35752 [==============================] - 34s 955us/step - loss: 2.1989 - accuracy: 0.1668\n",
      "Epoch 65/100\n",
      "35752/35752 [==============================] - 33s 932us/step - loss: 2.1988 - accuracy: 0.1663\n",
      "Epoch 66/100\n",
      "35752/35752 [==============================] - 34s 939us/step - loss: 2.1987 - accuracy: 0.1669\n",
      "Epoch 67/100\n",
      "35752/35752 [==============================] - 33s 929us/step - loss: 2.1986 - accuracy: 0.1669\n",
      "Epoch 68/100\n",
      "35752/35752 [==============================] - 34s 940us/step - loss: 2.1987 - accuracy: 0.1668\n",
      "Epoch 69/100\n",
      "35752/35752 [==============================] - 33s 936us/step - loss: 2.1985 - accuracy: 0.1668\n",
      "Epoch 70/100\n",
      "35752/35752 [==============================] - 34s 940us/step - loss: 2.1987 - accuracy: 0.1666\n",
      "Epoch 71/100\n",
      "35752/35752 [==============================] - 34s 954us/step - loss: 2.1990 - accuracy: 0.1668\n",
      "Epoch 72/100\n",
      "35752/35752 [==============================] - 35s 966us/step - loss: 2.1988 - accuracy: 0.1669\n",
      "Epoch 73/100\n",
      "35752/35752 [==============================] - 34s 938us/step - loss: 2.1991 - accuracy: 0.1669\n",
      "Epoch 74/100\n",
      "35752/35752 [==============================] - 33s 931us/step - loss: 2.1992 - accuracy: 0.1671\n",
      "Epoch 75/100\n",
      "35752/35752 [==============================] - 34s 959us/step - loss: 2.1997 - accuracy: 0.1668\n",
      "Epoch 76/100\n"
     ]
    },
    {
     "name": "stdout",
     "output_type": "stream",
     "text": [
      "35752/35752 [==============================] - 33s 934us/step - loss: 2.1990 - accuracy: 0.1667\n",
      "Epoch 77/100\n",
      "35752/35752 [==============================] - 33s 937us/step - loss: 2.1987 - accuracy: 0.1665\n",
      "Epoch 78/100\n",
      "35752/35752 [==============================] - 34s 941us/step - loss: 2.1989 - accuracy: 0.1666\n",
      "Epoch 79/100\n",
      "35752/35752 [==============================] - 33s 934us/step - loss: 2.1997 - accuracy: 0.1669\n",
      "Epoch 80/100\n",
      "35752/35752 [==============================] - 34s 949us/step - loss: 2.1989 - accuracy: 0.1665\n",
      "Epoch 81/100\n",
      "35752/35752 [==============================] - 33s 934us/step - loss: 2.1989 - accuracy: 0.1669\n",
      "Epoch 82/100\n",
      "35752/35752 [==============================] - 34s 937us/step - loss: 2.1990 - accuracy: 0.1670\n",
      "Epoch 83/100\n",
      "35752/35752 [==============================] - 33s 931us/step - loss: 2.1985 - accuracy: 0.1665\n",
      "Epoch 84/100\n",
      "35752/35752 [==============================] - 34s 939us/step - loss: 2.1988 - accuracy: 0.1663\n",
      "Epoch 85/100\n",
      "35752/35752 [==============================] - 33s 927us/step - loss: 2.1987 - accuracy: 0.1668\n",
      "Epoch 86/100\n",
      "35752/35752 [==============================] - 34s 937us/step - loss: 2.1993 - accuracy: 0.1671\n",
      "Epoch 87/100\n",
      "35752/35752 [==============================] - 34s 954us/step - loss: 2.1987 - accuracy: 0.1667\n",
      "Epoch 88/100\n",
      "35752/35752 [==============================] - 33s 931us/step - loss: 2.1986 - accuracy: 0.1669\n",
      "Epoch 89/100\n",
      "35752/35752 [==============================] - 35s 975us/step - loss: 2.1986 - accuracy: 0.1668\n",
      "Epoch 90/100\n",
      "35752/35752 [==============================] - 34s 958us/step - loss: 2.1984 - accuracy: 0.1667\n",
      "Epoch 91/100\n",
      "35752/35752 [==============================] - 34s 938us/step - loss: 2.1991 - accuracy: 0.1665\n",
      "Epoch 92/100\n",
      "35752/35752 [==============================] - 33s 932us/step - loss: 2.1986 - accuracy: 0.1668\n",
      "Epoch 93/100\n",
      "35752/35752 [==============================] - 33s 937us/step - loss: 2.1985 - accuracy: 0.1673\n",
      "Epoch 94/100\n",
      "35752/35752 [==============================] - 33s 933us/step - loss: 2.1984 - accuracy: 0.1668\n",
      "Epoch 95/100\n",
      "35752/35752 [==============================] - 34s 937us/step - loss: 2.1990 - accuracy: 0.1667\n",
      "Epoch 96/100\n",
      "35752/35752 [==============================] - 34s 940us/step - loss: 2.1988 - accuracy: 0.1669\n",
      "Epoch 97/100\n",
      "35752/35752 [==============================] - 33s 929us/step - loss: 2.1984 - accuracy: 0.1666\n",
      "Epoch 98/100\n",
      "35752/35752 [==============================] - 34s 949us/step - loss: 2.1986 - accuracy: 0.1666\n",
      "Epoch 99/100\n",
      "35752/35752 [==============================] - 33s 933us/step - loss: 2.1983 - accuracy: 0.1669\n",
      "Epoch 100/100\n",
      "35752/35752 [==============================] - 36s 999us/step - loss: 2.1987 - accuracy: 0.1670\n"
     ]
    },
    {
     "data": {
      "text/plain": [
       "<tensorflow.python.keras.callbacks.History at 0x21fd2507490>"
      ]
     },
     "execution_count": 90,
     "metadata": {},
     "output_type": "execute_result"
    }
   ],
   "source": [
    "# model definition\n",
    "model_comb = ml.Sequential()\n",
    "model_comb.add( l.Dense(128, input_dim=x_train_comb.shape[1], activation='relu') )\n",
    "model_comb.add( l.Dense(12, activation='softmax') )\n",
    "\n",
    "# model compile\n",
    "model_comb.compile(loss='categorical_crossentropy', optimizer='adam', metrics=['accuracy'])\n",
    "\n",
    "# train model\n",
    "model_comb.fit(x_train_comb, y_train_comb, epochs=100)"
   ]
  },
  {
   "cell_type": "markdown",
   "id": "7e2efdd6",
   "metadata": {
    "ExecuteTime": {
     "end_time": "2022-03-09T02:32:36.774772Z",
     "start_time": "2022-03-09T02:32:36.732790Z"
    }
   },
   "source": [
    "#### 7.2.4.1. SMOTE + TOMEKLINK - Performance"
   ]
  },
  {
   "cell_type": "code",
   "execution_count": 91,
   "id": "ae999ad1",
   "metadata": {
    "ExecuteTime": {
     "end_time": "2022-04-10T13:14:57.714176Z",
     "start_time": "2022-04-10T13:14:53.944625Z"
    }
   },
   "outputs": [],
   "source": [
    "# prediction\n",
    "pred_comb_nn = model_comb.predict(x_test)\n",
    "\n",
    "# invert prediction\n",
    "yhat_comb_nn = ohe.inverse_transform(pred_comb_nn)\n",
    "\n",
    "# invert validation response\n",
    "y_test_comb_nn = ohe.inverse_transform(y_test)"
   ]
  },
  {
   "cell_type": "code",
   "execution_count": 92,
   "id": "269b06da",
   "metadata": {
    "ExecuteTime": {
     "end_time": "2022-04-10T13:15:01.743767Z",
     "start_time": "2022-04-10T13:15:01.548442Z"
    },
    "cell_style": "split"
   },
   "outputs": [
    {
     "data": {
      "text/plain": [
       "NDF      0.576602\n",
       "US       0.297337\n",
       "other    0.047922\n",
       "FR       0.023486\n",
       "IT       0.013145\n",
       "GB       0.011438\n",
       "ES       0.010560\n",
       "CA       0.006902\n",
       "DE       0.005536\n",
       "NL       0.003805\n",
       "AU       0.002390\n",
       "PT       0.000878\n",
       "dtype: float64"
      ]
     },
     "execution_count": 92,
     "metadata": {},
     "output_type": "execute_result"
    }
   ],
   "source": [
    "# check the balance of validation\n",
    "pd.DataFrame(y_test_comb_nn).value_counts(normalize=True)"
   ]
  },
  {
   "cell_type": "code",
   "execution_count": 93,
   "id": "c9059ad9",
   "metadata": {
    "ExecuteTime": {
     "end_time": "2022-04-10T13:15:05.107141Z",
     "start_time": "2022-04-10T13:15:05.064136Z"
    },
    "cell_style": "split"
   },
   "outputs": [
    {
     "data": {
      "text/plain": [
       "NDF    0.576602\n",
       "DE     0.423276\n",
       "US     0.000122\n",
       "dtype: float64"
      ]
     },
     "execution_count": 93,
     "metadata": {},
     "output_type": "execute_result"
    }
   ],
   "source": [
    "# check the balance of result\n",
    "pd.DataFrame(yhat_comb_nn).value_counts(normalize=True)"
   ]
  },
  {
   "cell_type": "code",
   "execution_count": 95,
   "id": "37392137",
   "metadata": {
    "ExecuteTime": {
     "end_time": "2022-04-10T13:15:17.986558Z",
     "start_time": "2022-04-10T13:15:15.300325Z"
    },
    "scrolled": false
   },
   "outputs": [
    {
     "name": "stdout",
     "output_type": "stream",
     "text": [
      "Accuracy: 0.5821627158326017\n",
      "Balanced Accuracy: 0.16668012261318654\n",
      "Kappa Score: 0.37181521405205487\n",
      "              precision    recall  f1-score   support\n",
      "\n",
      "          AU       0.00      0.00      0.00        98\n",
      "          CA       0.00      0.00      0.00       283\n",
      "          DE       0.01      1.00      0.03       227\n",
      "          ES       0.00      0.00      0.00       433\n",
      "          FR       0.00      0.00      0.00       963\n",
      "          GB       0.00      0.00      0.00       469\n",
      "          IT       0.00      0.00      0.00       539\n",
      "         NDF       1.00      1.00      1.00     23643\n",
      "          NL       0.00      0.00      0.00       156\n",
      "          PT       0.00      0.00      0.00        36\n",
      "          US       0.60      0.00      0.00     12192\n",
      "       other       0.00      0.00      0.00      1965\n",
      "\n",
      "    accuracy                           0.58     41004\n",
      "   macro avg       0.13      0.17      0.09     41004\n",
      "weighted avg       0.76      0.58      0.58     41004\n",
      "\n"
     ]
    },
    {
     "data": {
      "image/png": "[encoded data removed]",
      "text/plain": [
       "<Figure size 864x864 with 2 Axes>"
      ]
     },
     "metadata": {
      "needs_background": "light"
     },
     "output_type": "display_data"
    }
   ],
   "source": [
    "# Accuracy\n",
    "acc_comb_nn = m.accuracy_score( y_test_comb_nn, yhat_comb_nn )\n",
    "print(f'Accuracy: {acc_comb_nn}')\n",
    "\n",
    "# Balanced Accuracy\n",
    "balanced_acc_comb_nn = m.balanced_accuracy_score(y_test_comb_nn, yhat_comb_nn)\n",
    "print(f'Balanced Accuracy: {balanced_acc_comb_nn}')\n",
    "\n",
    "# Kappa Metrics\n",
    "kappa_comb_nn = m.cohen_kappa_score(y_test_comb_nn, yhat_comb_nn)\n",
    "print(f'Kappa Score: {kappa_comb_nn}')\n",
    "\n",
    "# Classification report\n",
    "print(m.classification_report(y_test_comb_nn, yhat_comb_nn))\n",
    "\n",
    "# Confusion Matrix\n",
    "mt.plot_confusion_matrix( y_test_comb_nn, yhat_comb_nn, normalize=False, figsize=(12,12));\n",
    "\n",
    "# Performance\n",
    "comb_performance = {'model': 'NN Model - SMOTE + TOMEKLINK', \n",
    "                    'acc': np.round(acc_comb_nn, 6), \n",
    "                    'balanced_acc': np.round(balanced_acc_comb_nn, 6), \n",
    "                    'kappa_score': np.round(kappa_comb_nn, 6)}"
   ]
  },
  {
   "cell_type": "markdown",
   "id": "93f34081",
   "metadata": {},
   "source": [
    "#### 7.2.4.2. SMOTE + TOMEKLINK - Cross-Validation"
   ]
  },
  {
   "cell_type": "code",
   "execution_count": 96,
   "id": "8f3daf57",
   "metadata": {
    "ExecuteTime": {
     "end_time": "2022-04-10T19:20:29.155466Z",
     "start_time": "2022-04-10T13:15:21.259332Z"
    }
   },
   "outputs": [
    {
     "name": "stdout",
     "output_type": "stream",
     "text": [
      "Fold Number:1/5\n",
      "Fold Number:2/5\n",
      "Fold Number:3/5\n",
      "Fold Number:4/5\n",
      "Fold Number:5/5\n"
     ]
    }
   ],
   "source": [
    "# cross validation performance\n",
    "acc_comb, balanced_acc_comb, kappa_comb = cross_validation(num_fold = 5, \n",
    "                                                           x_train = X_train, \n",
    "                                                           y_train = y_train, \n",
    "                                                           model = model_comb, \n",
    "                                                           response_encoder = ohe, \n",
    "                                                           balance_model = combine, \n",
    "                                                           verbose = True)"
   ]
  },
  {
   "cell_type": "code",
   "execution_count": 97,
   "id": "51afe1d9",
   "metadata": {
    "ExecuteTime": {
     "end_time": "2022-04-10T19:21:07.042719Z",
     "start_time": "2022-04-10T19:21:07.015553Z"
    }
   },
   "outputs": [],
   "source": [
    "# Performance\n",
    "comb_performance_cv = {'model': 'NN Model - SMOTE + TOMEKLINK - CV',\n",
    "                       'acc': f'{np.round(np.mean(acc_comb), 2)} +/- {np.round(np.std(acc_comb), 4)}',\n",
    "                       'balanced_acc': f'{np.round(np.mean(balanced_acc_comb), 2)} +/- {np.round(np.std(balanced_acc_comb), 4)}',\n",
    "                       'kappa_score': f'{np.round(np.mean(kappa_comb), 2)} +/- {np.round(np.std(kappa_comb), 4)}'}"
   ]
  },
  {
   "cell_type": "code",
   "execution_count": 98,
   "id": "6521ca2f",
   "metadata": {
    "ExecuteTime": {
     "end_time": "2022-04-10T19:21:10.629643Z",
     "start_time": "2022-04-10T19:21:10.599912Z"
    }
   },
   "outputs": [
    {
     "name": "stdout",
     "output_type": "stream",
     "text": [
      "Avg Accuracy: 0.59 +/- 0.00402\n",
      "Avg Balanced Accuracy: 0.17 +/- 0.0004\n",
      "Avg Kappa Score: 0.38 +/- 0.0046\n"
     ]
    }
   ],
   "source": [
    "print(f'Avg Accuracy: {np.round(np.mean(acc_comb), 2)} +/- {np.round(np.std(acc_comb),5)}')\n",
    "print(f'Avg Balanced Accuracy: {np.round(np.mean(balanced_acc_comb), 2)} +/- {np.round(np.std(balanced_acc_comb),5)}')\n",
    "print(f'Avg Kappa Score: {np.round(np.mean(kappa_comb), 2)} +/- {np.round(np.std(kappa_comb), 4)}')"
   ]
  },
  {
   "cell_type": "markdown",
   "id": "dec46b91",
   "metadata": {},
   "source": [
    "# 8.0. Hyper Parameter Tuning\n",
    "\n",
    "Hyper Parameter Tuning will not be considered until the most optimal machine learning model is selected, at this first cycle was considered only one model to complete the cycle and go through for all the major phases to validate the feasibility of the project."
   ]
  },
  {
   "cell_type": "code",
   "execution_count": null,
   "id": "8f83d2b4",
   "metadata": {},
   "outputs": [],
   "source": []
  },
  {
   "cell_type": "markdown",
   "id": "caddd600",
   "metadata": {},
   "source": [
    "# 9.0. Error Translation and Interpretation"
   ]
  },
  {
   "cell_type": "code",
   "execution_count": null,
   "id": "d2005058",
   "metadata": {},
   "outputs": [],
   "source": []
  },
  {
   "cell_type": "markdown",
   "id": "2d632718",
   "metadata": {},
   "source": [
    "# 10.0. Deploy Model\n",
    "\n",
    "No models will be deployed yet."
   ]
  },
  {
   "cell_type": "code",
   "execution_count": null,
   "id": "ba3db00e",
   "metadata": {},
   "outputs": [],
   "source": []
  },
  {
   "cell_type": "markdown",
   "id": "4b36ff4e",
   "metadata": {},
   "source": [
    "# 11.0. Conclusion"
   ]
  },
  {
   "cell_type": "markdown",
   "id": "1a047f32",
   "metadata": {},
   "source": [
    "The use of 3 mechanisms to obtain a balanced distribution of classes was considered, including Random Undersampling, Random Oversampling and a synthetic sampling with data generation (SMOTE + Tomek Links).\n",
    "\n",
    "All the mechanisms present similar performance, decreasing in all the metrics compared to the previous cycle.\n",
    "\n",
    "All balanced datasets showed similar results of Kappa Score, presenting a drop of 57% (0.77 to 0.40) in the balancing mechanisms.\n",
    "\n",
    "Another difference observed was in the distribution of classes in the prediction data, with a greater plurality, especially in undersampling mechanism, previously concentrated between the two marjority classes (NDF and US).\n",
    "\n",
    "All the mechanisms will be maintained until the data preparation phase to evaluate the impact on results and verify if the imbalanced dataset mechanism will continue with the best model's performance metrics."
   ]
  },
  {
   "cell_type": "markdown",
   "id": "ea3626b5",
   "metadata": {},
   "source": [
    "## 11.1. Current Cycle Performance"
   ]
  },
  {
   "cell_type": "code",
   "execution_count": 115,
   "id": "d9f67f74",
   "metadata": {
    "ExecuteTime": {
     "end_time": "2022-04-10T20:02:40.999750Z",
     "start_time": "2022-04-10T20:02:40.972789Z"
    },
    "hide_input": true,
    "scrolled": true
   },
   "outputs": [
    {
     "data": {
      "text/html": [
       "<div>\n",
       "<style scoped>\n",
       "    .dataframe tbody tr th:only-of-type {\n",
       "        vertical-align: middle;\n",
       "    }\n",
       "\n",
       "    .dataframe tbody tr th {\n",
       "        vertical-align: top;\n",
       "    }\n",
       "\n",
       "    .dataframe thead th {\n",
       "        text-align: right;\n",
       "    }\n",
       "</style>\n",
       "<table border=\"1\" class=\"dataframe\">\n",
       "  <thead>\n",
       "    <tr style=\"text-align: right;\">\n",
       "      <th></th>\n",
       "      <th>cycle</th>\n",
       "      <th>process</th>\n",
       "      <th>model</th>\n",
       "      <th>acc</th>\n",
       "      <th>balanced_acc</th>\n",
       "      <th>kappa_score</th>\n",
       "    </tr>\n",
       "  </thead>\n",
       "  <tbody>\n",
       "    <tr>\n",
       "      <th>0</th>\n",
       "      <td>5th_cycle</td>\n",
       "      <td>balanced_dataset</td>\n",
       "      <td>Baseline Model</td>\n",
       "      <td>0.426544</td>\n",
       "      <td>0.083897</td>\n",
       "      <td>NaN</td>\n",
       "    </tr>\n",
       "    <tr>\n",
       "      <th>1</th>\n",
       "      <td>5th_cycle</td>\n",
       "      <td>balanced_dataset</td>\n",
       "      <td>NN Model - Imbalanced Data</td>\n",
       "      <td>0.873793</td>\n",
       "      <td>0.166626</td>\n",
       "      <td>0.766969</td>\n",
       "    </tr>\n",
       "    <tr>\n",
       "      <th>2</th>\n",
       "      <td>5th_cycle</td>\n",
       "      <td>balanced_dataset</td>\n",
       "      <td>NN Model - Imbalanced Data - CV</td>\n",
       "      <td>0.87 +/- 0.0001</td>\n",
       "      <td>0.17 +/- 0.0</td>\n",
       "      <td>0.77 +/- 0.0002</td>\n",
       "    </tr>\n",
       "    <tr>\n",
       "      <th>3</th>\n",
       "      <td>5th_cycle</td>\n",
       "      <td>balanced_dataset</td>\n",
       "      <td>NN Model - Random Undersampling</td>\n",
       "      <td>0.594479</td>\n",
       "      <td>0.172518</td>\n",
       "      <td>0.383323</td>\n",
       "    </tr>\n",
       "    <tr>\n",
       "      <th>4</th>\n",
       "      <td>5th_cycle</td>\n",
       "      <td>balanced_dataset</td>\n",
       "      <td>NN Model - Random Undersampling - CV</td>\n",
       "      <td>0.62 +/- 0.0237</td>\n",
       "      <td>0.17 +/- 0.0057</td>\n",
       "      <td>0.42 +/- 0.028</td>\n",
       "    </tr>\n",
       "    <tr>\n",
       "      <th>5</th>\n",
       "      <td>5th_cycle</td>\n",
       "      <td>balanced_dataset</td>\n",
       "      <td>NN Model - Random Oversampling</td>\n",
       "      <td>0.587821</td>\n",
       "      <td>0.166635</td>\n",
       "      <td>0.377896</td>\n",
       "    </tr>\n",
       "    <tr>\n",
       "      <th>6</th>\n",
       "      <td>5th_cycle</td>\n",
       "      <td>balanced_dataset</td>\n",
       "      <td>NN Model - Random Oversampling - CV</td>\n",
       "      <td>0.6 +/- 0.0133</td>\n",
       "      <td>0.17 +/- 0.0003</td>\n",
       "      <td>0.39 +/- 0.0155</td>\n",
       "    </tr>\n",
       "    <tr>\n",
       "      <th>7</th>\n",
       "      <td>5th_cycle</td>\n",
       "      <td>balanced_dataset</td>\n",
       "      <td>NN Model - SMOTE + TOMEKLINK</td>\n",
       "      <td>0.582163</td>\n",
       "      <td>0.16668</td>\n",
       "      <td>0.371815</td>\n",
       "    </tr>\n",
       "    <tr>\n",
       "      <th>8</th>\n",
       "      <td>5th_cycle</td>\n",
       "      <td>balanced_dataset</td>\n",
       "      <td>NN Model - SMOTE + TOMEKLINK - CV</td>\n",
       "      <td>0.59 +/- 0.004</td>\n",
       "      <td>0.17 +/- 0.0004</td>\n",
       "      <td>0.38 +/- 0.0046</td>\n",
       "    </tr>\n",
       "  </tbody>\n",
       "</table>\n",
       "</div>"
      ],
      "text/plain": [
       "       cycle           process                                 model  \\\n",
       "0  5th_cycle  balanced_dataset                        Baseline Model   \n",
       "1  5th_cycle  balanced_dataset            NN Model - Imbalanced Data   \n",
       "2  5th_cycle  balanced_dataset       NN Model - Imbalanced Data - CV   \n",
       "3  5th_cycle  balanced_dataset       NN Model - Random Undersampling   \n",
       "4  5th_cycle  balanced_dataset  NN Model - Random Undersampling - CV   \n",
       "5  5th_cycle  balanced_dataset        NN Model - Random Oversampling   \n",
       "6  5th_cycle  balanced_dataset   NN Model - Random Oversampling - CV   \n",
       "7  5th_cycle  balanced_dataset          NN Model - SMOTE + TOMEKLINK   \n",
       "8  5th_cycle  balanced_dataset     NN Model - SMOTE + TOMEKLINK - CV   \n",
       "\n",
       "               acc     balanced_acc      kappa_score  \n",
       "0         0.426544         0.083897              NaN  \n",
       "1         0.873793         0.166626         0.766969  \n",
       "2  0.87 +/- 0.0001     0.17 +/- 0.0  0.77 +/- 0.0002  \n",
       "3         0.594479         0.172518         0.383323  \n",
       "4  0.62 +/- 0.0237  0.17 +/- 0.0057   0.42 +/- 0.028  \n",
       "5         0.587821         0.166635         0.377896  \n",
       "6   0.6 +/- 0.0133  0.17 +/- 0.0003  0.39 +/- 0.0155  \n",
       "7         0.582163          0.16668         0.371815  \n",
       "8   0.59 +/- 0.004  0.17 +/- 0.0004  0.38 +/- 0.0046  "
      ]
     },
     "execution_count": 115,
     "metadata": {},
     "output_type": "execute_result"
    }
   ],
   "source": [
    "# performance dataframe\n",
    "df_performance = pd.DataFrame([baseline_performance, imb_performance, imb_performance_cv, \n",
    "                               under_performance, under_performance_cv, \n",
    "                               over_performance, over_performance_cv, \n",
    "                               comb_performance, comb_performance_cv])\n",
    "\n",
    "df_performance['cycle'] = '5th_cycle'\n",
    "df_performance['process'] = 'balanced_dataset'\n",
    "df_performance = df_performance[['cycle', 'process', 'model', 'acc', 'balanced_acc', 'kappa_score']]\n",
    "\n",
    "# save 5th cycle to comparison\n",
    "df_performance.to_csv('../Datasets/5th_cycle_performance', index=False)\n",
    "\n",
    "# display performance dataframe\n",
    "df_performance"
   ]
  },
  {
   "cell_type": "markdown",
   "id": "ee164f41",
   "metadata": {},
   "source": [
    "## 11.2. Cycle Comparison"
   ]
  },
  {
   "cell_type": "code",
   "execution_count": 116,
   "id": "46353616",
   "metadata": {
    "ExecuteTime": {
     "end_time": "2022-04-10T20:02:44.971153Z",
     "start_time": "2022-04-10T20:02:44.890006Z"
    },
    "hide_input": true
   },
   "outputs": [
    {
     "data": {
      "text/html": [
       "<div>\n",
       "<style scoped>\n",
       "    .dataframe tbody tr th:only-of-type {\n",
       "        vertical-align: middle;\n",
       "    }\n",
       "\n",
       "    .dataframe tbody tr th {\n",
       "        vertical-align: top;\n",
       "    }\n",
       "\n",
       "    .dataframe thead th {\n",
       "        text-align: right;\n",
       "    }\n",
       "</style>\n",
       "<table border=\"1\" class=\"dataframe\">\n",
       "  <thead>\n",
       "    <tr style=\"text-align: right;\">\n",
       "      <th></th>\n",
       "      <th>cycle</th>\n",
       "      <th>process</th>\n",
       "      <th>model</th>\n",
       "      <th>acc</th>\n",
       "      <th>balanced_acc</th>\n",
       "      <th>kappa_score</th>\n",
       "    </tr>\n",
       "  </thead>\n",
       "  <tbody>\n",
       "    <tr>\n",
       "      <th>0</th>\n",
       "      <td>1st_cycle</td>\n",
       "      <td>validation_pipeline</td>\n",
       "      <td>Neural Network Model</td>\n",
       "      <td>0.70407</td>\n",
       "      <td>0</td>\n",
       "      <td>0</td>\n",
       "    </tr>\n",
       "    <tr>\n",
       "      <th>2</th>\n",
       "      <td>2nd_cycle</td>\n",
       "      <td>baseline_model</td>\n",
       "      <td>Neural Network Model</td>\n",
       "      <td>0.70275</td>\n",
       "      <td>0.091927</td>\n",
       "      <td>0.002145</td>\n",
       "    </tr>\n",
       "    <tr>\n",
       "      <th>3</th>\n",
       "      <td>3rd_cycle</td>\n",
       "      <td>replace_na</td>\n",
       "      <td>Neural Network Model - CV</td>\n",
       "      <td>0.63 +/- 0.0013</td>\n",
       "      <td>0.11 +/- 0.0009</td>\n",
       "      <td>0.24 +/- 0.0063</td>\n",
       "    </tr>\n",
       "    <tr>\n",
       "      <th>4</th>\n",
       "      <td>4th_cycle</td>\n",
       "      <td>feature_engineering</td>\n",
       "      <td>Neural Network Model - CV</td>\n",
       "      <td>0.87 +/- 0.0</td>\n",
       "      <td>0.17 +/- 0.0</td>\n",
       "      <td>0.77 +/- 0.0001</td>\n",
       "    </tr>\n",
       "    <tr>\n",
       "      <th>5</th>\n",
       "      <td>5th_cycle</td>\n",
       "      <td>balanced_dataset</td>\n",
       "      <td>NN Model - Imbalanced Data - CV</td>\n",
       "      <td>0.87 +/- 0.0001</td>\n",
       "      <td>0.17 +/- 0.0</td>\n",
       "      <td>0.77 +/- 0.0002</td>\n",
       "    </tr>\n",
       "  </tbody>\n",
       "</table>\n",
       "</div>"
      ],
      "text/plain": [
       "       cycle              process                            model  \\\n",
       "0  1st_cycle  validation_pipeline             Neural Network Model   \n",
       "2  2nd_cycle       baseline_model             Neural Network Model   \n",
       "3  3rd_cycle           replace_na        Neural Network Model - CV   \n",
       "4  4th_cycle  feature_engineering        Neural Network Model - CV   \n",
       "5  5th_cycle     balanced_dataset  NN Model - Imbalanced Data - CV   \n",
       "\n",
       "               acc     balanced_acc      kappa_score  \n",
       "0          0.70407                0                0  \n",
       "2          0.70275         0.091927         0.002145  \n",
       "3  0.63 +/- 0.0013  0.11 +/- 0.0009  0.24 +/- 0.0063  \n",
       "4     0.87 +/- 0.0     0.17 +/- 0.0  0.77 +/- 0.0001  \n",
       "5  0.87 +/- 0.0001     0.17 +/- 0.0  0.77 +/- 0.0002  "
      ]
     },
     "execution_count": 116,
     "metadata": {},
     "output_type": "execute_result"
    }
   ],
   "source": [
    "# first cycle performance load\n",
    "performance_1st_cycle = pd.read_csv('../Datasets/1st_cycle_performance')\n",
    "\n",
    "# second cycle performance load\n",
    "performance_2nd_cycle = pd.read_csv('../Datasets/2nd_cycle_performance')\n",
    "\n",
    "# third cycle performance load\n",
    "performance_3rd_cycle = pd.read_csv('../Datasets/3rd_cycle_performance')\n",
    "\n",
    "# fourth cycle performance load\n",
    "performance_4th_cycle = pd.read_csv('../Datasets/4th_cycle_performance')\n",
    "\n",
    "# join cycles dataframes\n",
    "performance = pd.concat([performance_1st_cycle, \n",
    "                         performance_2nd_cycle, \n",
    "                         performance_3rd_cycle[performance_3rd_cycle['model'] == 'Neural Network Model - CV'], \n",
    "                         performance_4th_cycle[performance_4th_cycle['model'] == 'Neural Network Model - CV'], \n",
    "                         df_performance[df_performance['model'] == 'NN Model - Imbalanced Data - CV']])\\\n",
    "                        .reset_index(drop=True)\n",
    "\n",
    "# filter baseline model\n",
    "performance = performance[performance['model'] != 'Baseline Model'].fillna(0)\n",
    "\n",
    "# display performance\n",
    "performance"
   ]
  },
  {
   "cell_type": "code",
   "execution_count": 117,
   "id": "3738edb6",
   "metadata": {
    "ExecuteTime": {
     "end_time": "2022-04-10T20:02:49.524539Z",
     "start_time": "2022-04-10T20:02:49.056409Z"
    },
    "hide_input": true,
    "scrolled": false
   },
   "outputs": [
    {
     "data": {
      "image/png": "[encoded data removed]",
      "text/plain": [
       "<Figure size 1080x432 with 1 Axes>"
      ]
     },
     "metadata": {
      "needs_background": "light"
     },
     "output_type": "display_data"
    }
   ],
   "source": [
    "plt.figure(figsize=(15,6))\n",
    "\n",
    "# formated metrics\n",
    "performance['acc'] = performance['acc'].apply(lambda x: str(x)[0:4]).astype(float)\n",
    "\n",
    "performance['balanced_acc'] = performance['balanced_acc'].apply(lambda x: str(x)[0:4]).astype(float)\n",
    "\n",
    "performance['kappa_score'] = performance['kappa_score'].apply(lambda x: str(x)[0:4]).astype(float)\n",
    "\n",
    "\n",
    "# Evolution of Performance over Cycles\n",
    "sns.lineplot(x='cycle', y='acc', data=performance)\n",
    "\n",
    "sns.lineplot(x='cycle', y='balanced_acc', data=performance)\n",
    "\n",
    "sns.lineplot(x='cycle', y='kappa_score', data=performance)\n",
    "\n",
    "# set legend and titles\n",
    "plt.legend(labels=['Accuracy','Balanced Accuracy', 'Kappa Score'])\n",
    "plt.title('Evolution of Performance over Cycle')\n",
    "plt.ylabel('Percentage')\n",
    "plt.xlabel('Cycles');"
   ]
  },
  {
   "cell_type": "code",
   "execution_count": 118,
   "id": "a17bcd68",
   "metadata": {
    "ExecuteTime": {
     "end_time": "2022-04-10T20:02:53.895946Z",
     "start_time": "2022-04-10T20:02:53.867290Z"
    },
    "hide_input": true
   },
   "outputs": [
    {
     "data": {
      "text/html": [
       "<div>\n",
       "<style scoped>\n",
       "    .dataframe tbody tr th:only-of-type {\n",
       "        vertical-align: middle;\n",
       "    }\n",
       "\n",
       "    .dataframe tbody tr th {\n",
       "        vertical-align: top;\n",
       "    }\n",
       "\n",
       "    .dataframe thead th {\n",
       "        text-align: right;\n",
       "    }\n",
       "</style>\n",
       "<table border=\"1\" class=\"dataframe\">\n",
       "  <thead>\n",
       "    <tr style=\"text-align: right;\">\n",
       "      <th></th>\n",
       "      <th>cycle</th>\n",
       "      <th>process</th>\n",
       "      <th>model</th>\n",
       "      <th>acc</th>\n",
       "      <th>balanced_acc</th>\n",
       "      <th>kappa_score</th>\n",
       "    </tr>\n",
       "  </thead>\n",
       "  <tbody>\n",
       "    <tr>\n",
       "      <th>0</th>\n",
       "      <td>1st_cycle</td>\n",
       "      <td>validation_pipeline</td>\n",
       "      <td>Neural Network Model</td>\n",
       "      <td>0.70</td>\n",
       "      <td>0.00</td>\n",
       "      <td>0.00</td>\n",
       "    </tr>\n",
       "    <tr>\n",
       "      <th>2</th>\n",
       "      <td>2nd_cycle</td>\n",
       "      <td>baseline_model</td>\n",
       "      <td>Neural Network Model</td>\n",
       "      <td>0.70</td>\n",
       "      <td>0.09</td>\n",
       "      <td>0.00</td>\n",
       "    </tr>\n",
       "    <tr>\n",
       "      <th>3</th>\n",
       "      <td>3rd_cycle</td>\n",
       "      <td>replace_na</td>\n",
       "      <td>Neural Network Model - CV</td>\n",
       "      <td>0.63</td>\n",
       "      <td>0.11</td>\n",
       "      <td>0.24</td>\n",
       "    </tr>\n",
       "    <tr>\n",
       "      <th>4</th>\n",
       "      <td>4th_cycle</td>\n",
       "      <td>feature_engineering</td>\n",
       "      <td>Neural Network Model - CV</td>\n",
       "      <td>0.87</td>\n",
       "      <td>0.17</td>\n",
       "      <td>0.77</td>\n",
       "    </tr>\n",
       "    <tr>\n",
       "      <th>5</th>\n",
       "      <td>5th_cycle</td>\n",
       "      <td>balanced_dataset</td>\n",
       "      <td>NN Model - Imbalanced Data - CV</td>\n",
       "      <td>0.87</td>\n",
       "      <td>0.17</td>\n",
       "      <td>0.77</td>\n",
       "    </tr>\n",
       "  </tbody>\n",
       "</table>\n",
       "</div>"
      ],
      "text/plain": [
       "       cycle              process                            model   acc  \\\n",
       "0  1st_cycle  validation_pipeline             Neural Network Model  0.70   \n",
       "2  2nd_cycle       baseline_model             Neural Network Model  0.70   \n",
       "3  3rd_cycle           replace_na        Neural Network Model - CV  0.63   \n",
       "4  4th_cycle  feature_engineering        Neural Network Model - CV  0.87   \n",
       "5  5th_cycle     balanced_dataset  NN Model - Imbalanced Data - CV  0.87   \n",
       "\n",
       "   balanced_acc  kappa_score  \n",
       "0          0.00         0.00  \n",
       "2          0.09         0.00  \n",
       "3          0.11         0.24  \n",
       "4          0.17         0.77  \n",
       "5          0.17         0.77  "
      ]
     },
     "execution_count": 118,
     "metadata": {},
     "output_type": "execute_result"
    }
   ],
   "source": [
    "performance"
   ]
  }
 ],
 "metadata": {
  "kernelspec": {
   "display_name": "Python 3 (ipykernel)",
   "language": "python",
   "name": "python3"
  },
  "language_info": {
   "codemirror_mode": {
    "name": "ipython",
    "version": 3
   },
   "file_extension": ".py",
   "mimetype": "text/x-python",
   "name": "python",
   "nbconvert_exporter": "python",
   "pygments_lexer": "ipython3",
   "version": "3.8.12"
  },
  "varInspector": {
   "cols": {
    "lenName": 16,
    "lenType": 16,
    "lenVar": 40
   },
   "kernels_config": {
    "python": {
     "delete_cmd_postfix": "",
     "delete_cmd_prefix": "del ",
     "library": "var_list.py",
     "varRefreshCmd": "print(var_dic_list())"
    },
    "r": {
     "delete_cmd_postfix": ") ",
     "delete_cmd_prefix": "rm(",
     "library": "var_list.r",
     "varRefreshCmd": "cat(var_dic_list()) "
    }
   },
   "types_to_exclude": [
    "module",
    "function",
    "builtin_function_or_method",
    "instance",
    "_Feature"
   ],
   "window_display": false
  }
 },
 "nbformat": 4,
 "nbformat_minor": 5
}
