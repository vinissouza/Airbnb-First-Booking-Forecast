{
 "cells": [
  {
   "cell_type": "markdown",
   "id": "e9da1de2",
   "metadata": {
    "ExecuteTime": {
     "end_time": "2022-02-28T20:43:44.606104Z",
     "start_time": "2022-02-28T20:43:44.598146Z"
    }
   },
   "source": [
    "# 0.0. Imports"
   ]
  },
  {
   "cell_type": "code",
   "execution_count": 1,
   "id": "4a97ff0c",
   "metadata": {
    "ExecuteTime": {
     "end_time": "2022-04-01T00:21:57.194545Z",
     "start_time": "2022-04-01T00:21:43.599018Z"
    }
   },
   "outputs": [],
   "source": [
    "import numpy   as np\n",
    "import pandas  as pd\n",
    "import random\n",
    "import seaborn as sns \n",
    "import warnings\n",
    "\n",
    "import seaborn as sns\n",
    "import matplotlib.pyplot as plt\n",
    "\n",
    "from scipy      import stats           as ss\n",
    "from sklearn    import model_selection as ms\n",
    "from sklearn    import preprocessing   as pp\n",
    "from sklearn    import metrics         as m\n",
    "from scikitplot import metrics         as mt\n",
    "\n",
    "from imblearn import under_sampling as us\n",
    "from imblearn import over_sampling  as osamp\n",
    "from imblearn import combine        as comb\n",
    "\n",
    "from keras import models as ml\n",
    "from keras import layers as l\n",
    "\n",
    "warnings.filterwarnings('ignore')"
   ]
  },
  {
   "cell_type": "markdown",
   "id": "58b2f295",
   "metadata": {},
   "source": [
    "## 0.1. Auxiliar Functions"
   ]
  },
  {
   "cell_type": "code",
   "execution_count": 2,
   "id": "c27e09c1",
   "metadata": {
    "ExecuteTime": {
     "end_time": "2022-04-01T00:21:57.226441Z",
     "start_time": "2022-04-01T00:21:57.198456Z"
    }
   },
   "outputs": [],
   "source": [
    "def cross_validation(num_fold, x_train, y_train, model, verbose=False):\n",
    "    # generate k-fold\n",
    "    num_folds = 5\n",
    "    kfold = ms.StratifiedKFold( n_splits=num_folds, shuffle=True, random_state=32 )\n",
    "\n",
    "    # create empty metrics list\n",
    "    acc_list = []\n",
    "    balanced_acc_list = []\n",
    "    kappa_list = []\n",
    "\n",
    "    # sequence of loop for verbose\n",
    "    i = 1\n",
    "    \n",
    "    # interation to measure performance\n",
    "    for train_index, val_index in kfold.split( x_train, ohe.inverse_transform(y_train) ):\n",
    "        if verbose:\n",
    "            print(f'Fold Number:{i}/{num_folds}')\n",
    "\n",
    "        # split data into training and test set\n",
    "        x_train_cv = x_train.iloc[train_index]\n",
    "        y_train_cv = y_train.iloc[train_index]\n",
    "\n",
    "        x_validation_cv = x_train.iloc[val_index]\n",
    "        y_validation_cv = y_train.iloc[val_index]\n",
    "\n",
    "        # train model\n",
    "        model.fit(x_train_cv, y_train_cv, epochs=100, batch_size=32, verbose=0)\n",
    "\n",
    "        # prediction\n",
    "        pred_cv = model.predict(x_validation_cv)\n",
    "\n",
    "        # invert prediction\n",
    "        yhat_cv = ohe.inverse_transform(pred_cv)\n",
    "\n",
    "        # invert validation response\n",
    "        y_test_cv = ohe.inverse_transform(y_validation_cv)\n",
    "\n",
    "        # performance metrics\n",
    "        # Accuracy\n",
    "        acc_model = m.accuracy_score( y_test_cv, yhat_cv )\n",
    "        acc_list.append(acc_model)\n",
    "        \n",
    "        # Balanced Accuracy\n",
    "        balanced_acc_model = m.balanced_accuracy_score(y_test_cv, yhat_cv)\n",
    "        balanced_acc_list.append(balanced_acc_model)\n",
    "\n",
    "        # Kappa Metrics\n",
    "        kappa_model = m.cohen_kappa_score(y_test_cv, yhat_cv)\n",
    "        kappa_list.append(kappa_model)\n",
    "\n",
    "        i += 1\n",
    "\n",
    "    return acc_list, balanced_acc_list, kappa_list\n",
    "\n",
    "\n",
    "def cramer_v(x, y):\n",
    "    \n",
    "    cm = pd.crosstab(x, y).values\n",
    "    n = cm.sum()\n",
    "    r, k = cm.shape\n",
    "    \n",
    "    rcorr = r - ((r-1)**2)/(n-1)\n",
    "    \n",
    "    kcorr = k - ((k-1)**2)/(n-1)\n",
    "    \n",
    "    chi2 = ss.chi2_contingency(cm)[0]\n",
    "    chi2corr = max(0, chi2 - (k-1)*(r-1)/(n-1))\n",
    "    \n",
    "    return np.sqrt((chi2corr/n)/(min(kcorr-1, rcorr-1)))"
   ]
  },
  {
   "cell_type": "markdown",
   "id": "04bd4aba",
   "metadata": {},
   "source": [
    "## 0.2. Load Data"
   ]
  },
  {
   "cell_type": "code",
   "execution_count": 3,
   "id": "05c73b56",
   "metadata": {
    "ExecuteTime": {
     "end_time": "2022-04-01T00:22:19.680047Z",
     "start_time": "2022-04-01T00:21:57.230449Z"
    }
   },
   "outputs": [],
   "source": [
    "# load training set of user\n",
    "data_users = pd.read_csv('../Datasets/train_users_2.csv', low_memory=False)\n",
    "\n",
    "# load web sessions log for users\n",
    "data_sessions = pd.read_csv('../Datasets/sessions.csv', low_memory=False)"
   ]
  },
  {
   "cell_type": "markdown",
   "id": "1179dcfc",
   "metadata": {},
   "source": [
    "# 1.0. Data Description"
   ]
  },
  {
   "cell_type": "code",
   "execution_count": 4,
   "id": "a59196b7",
   "metadata": {
    "ExecuteTime": {
     "end_time": "2022-04-01T00:22:20.170397Z",
     "start_time": "2022-04-01T00:22:19.741051Z"
    }
   },
   "outputs": [],
   "source": [
    "df01_users = data_users.copy()\n",
    "\n",
    "df01_sessions = data_sessions.copy()"
   ]
  },
  {
   "cell_type": "markdown",
   "id": "1ccddadb",
   "metadata": {},
   "source": [
    "## 1.1. Data Types"
   ]
  },
  {
   "cell_type": "code",
   "execution_count": 5,
   "id": "fe162f91",
   "metadata": {
    "ExecuteTime": {
     "end_time": "2022-04-01T00:22:20.405849Z",
     "start_time": "2022-04-01T00:22:20.188055Z"
    },
    "cell_style": "split"
   },
   "outputs": [
    {
     "data": {
      "text/plain": [
       "id                          object\n",
       "date_account_created        object\n",
       "timestamp_first_active       int64\n",
       "date_first_booking          object\n",
       "gender                      object\n",
       "age                        float64\n",
       "signup_method               object\n",
       "signup_flow                  int64\n",
       "language                    object\n",
       "affiliate_channel           object\n",
       "affiliate_provider          object\n",
       "first_affiliate_tracked     object\n",
       "signup_app                  object\n",
       "first_device_type           object\n",
       "first_browser               object\n",
       "country_destination         object\n",
       "dtype: object"
      ]
     },
     "execution_count": 5,
     "metadata": {},
     "output_type": "execute_result"
    }
   ],
   "source": [
    "df01_users.dtypes"
   ]
  },
  {
   "cell_type": "code",
   "execution_count": 6,
   "id": "859ee10e",
   "metadata": {
    "ExecuteTime": {
     "end_time": "2022-04-01T00:22:20.422103Z",
     "start_time": "2022-04-01T00:22:20.408789Z"
    },
    "cell_style": "split"
   },
   "outputs": [
    {
     "data": {
      "text/plain": [
       "user_id           object\n",
       "action            object\n",
       "action_type       object\n",
       "action_detail     object\n",
       "device_type       object\n",
       "secs_elapsed     float64\n",
       "dtype: object"
      ]
     },
     "execution_count": 6,
     "metadata": {},
     "output_type": "execute_result"
    }
   ],
   "source": [
    "df01_sessions.dtypes"
   ]
  },
  {
   "cell_type": "markdown",
   "id": "297d0bec",
   "metadata": {
    "cell_style": "center"
   },
   "source": [
    "## 1.2. Data Dimensions"
   ]
  },
  {
   "cell_type": "markdown",
   "id": "c617277e",
   "metadata": {},
   "source": [
    "### 1.2.1. Data Users Dimensions "
   ]
  },
  {
   "cell_type": "code",
   "execution_count": 7,
   "id": "6889bc8e",
   "metadata": {
    "ExecuteTime": {
     "end_time": "2022-04-01T00:22:20.453842Z",
     "start_time": "2022-04-01T00:22:20.425788Z"
    }
   },
   "outputs": [
    {
     "name": "stdout",
     "output_type": "stream",
     "text": [
      "Number of rows of users dataset: 213451\n",
      "Number of columnss of users dataset: 16\n"
     ]
    }
   ],
   "source": [
    "print( f'Number of rows of users dataset: {df01_users.shape[0]}')\n",
    "print( f'Number of columnss of users dataset: {df01_users.shape[1]}')"
   ]
  },
  {
   "cell_type": "markdown",
   "id": "152339da",
   "metadata": {},
   "source": [
    "### 1.2.2. Data Sessions Dimensions\n",
    "\n",
    "This dataset will not be used in this first cycle due to the granularity being action and we want to be user_id for now."
   ]
  },
  {
   "cell_type": "code",
   "execution_count": 8,
   "id": "c1459d2d",
   "metadata": {
    "ExecuteTime": {
     "end_time": "2022-04-01T00:22:20.485842Z",
     "start_time": "2022-04-01T00:22:20.463795Z"
    }
   },
   "outputs": [
    {
     "name": "stdout",
     "output_type": "stream",
     "text": [
      "Number of rows of sessions dataset: 10567737\n",
      "Number of columnss of session dataset: 6\n"
     ]
    }
   ],
   "source": [
    "print( f'Number of rows of sessions dataset: {df01_sessions.shape[0]}')\n",
    "print( f'Number of columnss of session dataset: {df01_sessions.shape[1]}')"
   ]
  },
  {
   "cell_type": "markdown",
   "id": "5ed2d4e7",
   "metadata": {},
   "source": [
    "## 1.3. Check NA"
   ]
  },
  {
   "cell_type": "markdown",
   "id": "3b2018f1",
   "metadata": {},
   "source": [
    "### 1.3.1. Check NA - Data Users"
   ]
  },
  {
   "cell_type": "code",
   "execution_count": 9,
   "id": "49097f87",
   "metadata": {
    "ExecuteTime": {
     "end_time": "2022-04-01T00:22:20.722071Z",
     "start_time": "2022-04-01T00:22:20.489789Z"
    },
    "cell_style": "split"
   },
   "outputs": [
    {
     "data": {
      "text/plain": [
       "id                              0\n",
       "date_account_created            0\n",
       "timestamp_first_active          0\n",
       "date_first_booking         124543\n",
       "gender                          0\n",
       "age                         87990\n",
       "signup_method                   0\n",
       "signup_flow                     0\n",
       "language                        0\n",
       "affiliate_channel               0\n",
       "affiliate_provider              0\n",
       "first_affiliate_tracked      6065\n",
       "signup_app                      0\n",
       "first_device_type               0\n",
       "first_browser                   0\n",
       "country_destination             0\n",
       "dtype: int64"
      ]
     },
     "execution_count": 9,
     "metadata": {},
     "output_type": "execute_result"
    }
   ],
   "source": [
    "df01_users.isna().sum()"
   ]
  },
  {
   "cell_type": "code",
   "execution_count": 10,
   "id": "c559b15b",
   "metadata": {
    "ExecuteTime": {
     "end_time": "2022-04-01T00:22:20.928230Z",
     "start_time": "2022-04-01T00:22:20.725033Z"
    },
    "cell_style": "split"
   },
   "outputs": [
    {
     "data": {
      "text/plain": [
       "id                         0.000000\n",
       "date_account_created       0.000000\n",
       "timestamp_first_active     0.000000\n",
       "date_first_booking         0.583473\n",
       "gender                     0.000000\n",
       "age                        0.412226\n",
       "signup_method              0.000000\n",
       "signup_flow                0.000000\n",
       "language                   0.000000\n",
       "affiliate_channel          0.000000\n",
       "affiliate_provider         0.000000\n",
       "first_affiliate_tracked    0.028414\n",
       "signup_app                 0.000000\n",
       "first_device_type          0.000000\n",
       "first_browser              0.000000\n",
       "country_destination        0.000000\n",
       "dtype: float64"
      ]
     },
     "execution_count": 10,
     "metadata": {},
     "output_type": "execute_result"
    }
   ],
   "source": [
    "df01_users.isna().sum()/df01_users.shape[0]"
   ]
  },
  {
   "cell_type": "markdown",
   "id": "2176ca0f",
   "metadata": {},
   "source": [
    "### 1.3.2. Check NA - Data Sessions"
   ]
  },
  {
   "cell_type": "code",
   "execution_count": 11,
   "id": "09c5347b",
   "metadata": {
    "ExecuteTime": {
     "end_time": "2022-04-01T00:22:22.778086Z",
     "start_time": "2022-04-01T00:22:20.932033Z"
    },
    "cell_style": "split"
   },
   "outputs": [
    {
     "data": {
      "text/plain": [
       "user_id            34496\n",
       "action             79626\n",
       "action_type      1126204\n",
       "action_detail    1126204\n",
       "device_type            0\n",
       "secs_elapsed      136031\n",
       "dtype: int64"
      ]
     },
     "execution_count": 11,
     "metadata": {},
     "output_type": "execute_result"
    }
   ],
   "source": [
    "df01_sessions.isna().sum()"
   ]
  },
  {
   "cell_type": "code",
   "execution_count": 12,
   "id": "55751da3",
   "metadata": {
    "ExecuteTime": {
     "end_time": "2022-04-01T00:22:24.599042Z",
     "start_time": "2022-04-01T00:22:22.781054Z"
    },
    "cell_style": "split"
   },
   "outputs": [
    {
     "data": {
      "text/plain": [
       "user_id          0.003264\n",
       "action           0.007535\n",
       "action_type      0.106570\n",
       "action_detail    0.106570\n",
       "device_type      0.000000\n",
       "secs_elapsed     0.012872\n",
       "dtype: float64"
      ]
     },
     "execution_count": 12,
     "metadata": {},
     "output_type": "execute_result"
    }
   ],
   "source": [
    "df01_sessions.isna().sum()/df01_sessions.shape[0]"
   ]
  },
  {
   "cell_type": "markdown",
   "id": "bd581316",
   "metadata": {},
   "source": [
    "## 1.4. Fillout NA"
   ]
  },
  {
   "cell_type": "markdown",
   "id": "02d2f026",
   "metadata": {},
   "source": [
    "### 1.4.1. Fillout NA - Data Users\n",
    "\n",
    "- **date_first_booking:** the maximum date of the dataset is chosen due to future features considered the space between dates.\n",
    "\n",
    "- **age:** variable age has a normal distribution, so replacing it with with a mean value will not bias the dataset.\n",
    "\n",
    "- **first_affiliate_tracked:** due to the high probability of bias the dataset with categorical data substitution and the low amount of NA datas in this variable, the NA lines will be dropped."
   ]
  },
  {
   "cell_type": "code",
   "execution_count": 13,
   "id": "17027a20",
   "metadata": {
    "ExecuteTime": {
     "end_time": "2022-04-01T00:22:24.788384Z",
     "start_time": "2022-04-01T00:22:24.603047Z"
    }
   },
   "outputs": [],
   "source": [
    "# date_first_booking\n",
    "max_date_first_booking = pd.to_datetime(df01_users['date_first_booking']).max().strftime('%Y-%m-%d')\n",
    "df01_users['date_first_booking'] = df01_users['date_first_booking'].fillna(max_date_first_booking)\n",
    "\n",
    "# age\n",
    "avg_age = int(df01_users['age'].mean())\n",
    "df01_users['age'] = df01_users['age'].fillna(avg_age)\n",
    "\n",
    "# first_affiliate_tracked\n",
    "df01_users = df01_users[~df01_users['first_affiliate_tracked'].isna()]"
   ]
  },
  {
   "cell_type": "code",
   "execution_count": 14,
   "id": "1e6bc1db",
   "metadata": {
    "ExecuteTime": {
     "end_time": "2022-04-01T00:22:24.916383Z",
     "start_time": "2022-04-01T00:22:24.796384Z"
    }
   },
   "outputs": [
    {
     "data": {
      "text/plain": [
       "id                         0.0\n",
       "date_account_created       0.0\n",
       "timestamp_first_active     0.0\n",
       "date_first_booking         0.0\n",
       "gender                     0.0\n",
       "age                        0.0\n",
       "signup_method              0.0\n",
       "signup_flow                0.0\n",
       "language                   0.0\n",
       "affiliate_channel          0.0\n",
       "affiliate_provider         0.0\n",
       "first_affiliate_tracked    0.0\n",
       "signup_app                 0.0\n",
       "first_device_type          0.0\n",
       "first_browser              0.0\n",
       "country_destination        0.0\n",
       "dtype: float64"
      ]
     },
     "execution_count": 14,
     "metadata": {},
     "output_type": "execute_result"
    }
   ],
   "source": [
    "df01_users.isna().sum()/df01_users.shape[0]"
   ]
  },
  {
   "cell_type": "markdown",
   "id": "8375bdfd",
   "metadata": {},
   "source": [
    "### 1.4.2. Fillout NA - Data Sessions\n",
    "\n",
    "Due to a massise amount of data, all NA lines will be dropped."
   ]
  },
  {
   "cell_type": "code",
   "execution_count": 15,
   "id": "97e5f525",
   "metadata": {
    "ExecuteTime": {
     "end_time": "2022-04-01T00:22:30.233907Z",
     "start_time": "2022-04-01T00:22:24.920384Z"
    }
   },
   "outputs": [],
   "source": [
    "# user_id  - 0.003264\n",
    "df01_sessions = df01_sessions[~df01_sessions['user_id'].isna()]\n",
    "\n",
    "# action - 0.007535\n",
    "df01_sessions = df01_sessions[~df01_sessions['action'].isna()]\n",
    "\n",
    "# action_type - 0.106570\n",
    "df01_sessions = df01_sessions[~df01_sessions['action_type'].isna()]\n",
    "\n",
    "# action_detail - 0.106570\n",
    "df01_sessions = df01_sessions[~df01_sessions['action_detail'].isna()]\n",
    "\n",
    "# secs_elapsed - 0.012872\n",
    "df01_sessions = df01_sessions[~df01_sessions['secs_elapsed'].isna()]"
   ]
  },
  {
   "cell_type": "code",
   "execution_count": 16,
   "id": "1b4ae28d",
   "metadata": {
    "ExecuteTime": {
     "end_time": "2022-04-01T00:22:32.589905Z",
     "start_time": "2022-04-01T00:22:30.237904Z"
    }
   },
   "outputs": [
    {
     "data": {
      "text/plain": [
       "user_id          0.0\n",
       "action           0.0\n",
       "action_type      0.0\n",
       "action_detail    0.0\n",
       "device_type      0.0\n",
       "secs_elapsed     0.0\n",
       "dtype: float64"
      ]
     },
     "execution_count": 16,
     "metadata": {},
     "output_type": "execute_result"
    }
   ],
   "source": [
    "df01_sessions.isna().sum()/df01_sessions.shape[0]"
   ]
  },
  {
   "cell_type": "markdown",
   "id": "7076ae4e",
   "metadata": {},
   "source": [
    "## 1.5. Change Data Type"
   ]
  },
  {
   "cell_type": "code",
   "execution_count": 17,
   "id": "793c65b7",
   "metadata": {
    "ExecuteTime": {
     "end_time": "2022-04-01T00:22:32.717907Z",
     "start_time": "2022-04-01T00:22:32.594905Z"
    }
   },
   "outputs": [
    {
     "data": {
      "text/html": [
       "<div>\n",
       "<style scoped>\n",
       "    .dataframe tbody tr th:only-of-type {\n",
       "        vertical-align: middle;\n",
       "    }\n",
       "\n",
       "    .dataframe tbody tr th {\n",
       "        vertical-align: top;\n",
       "    }\n",
       "\n",
       "    .dataframe thead th {\n",
       "        text-align: right;\n",
       "    }\n",
       "</style>\n",
       "<table border=\"1\" class=\"dataframe\">\n",
       "  <thead>\n",
       "    <tr style=\"text-align: right;\">\n",
       "      <th></th>\n",
       "      <th>id</th>\n",
       "      <th>date_account_created</th>\n",
       "      <th>timestamp_first_active</th>\n",
       "      <th>date_first_booking</th>\n",
       "      <th>gender</th>\n",
       "      <th>age</th>\n",
       "      <th>signup_method</th>\n",
       "      <th>signup_flow</th>\n",
       "      <th>language</th>\n",
       "      <th>affiliate_channel</th>\n",
       "      <th>affiliate_provider</th>\n",
       "      <th>first_affiliate_tracked</th>\n",
       "      <th>signup_app</th>\n",
       "      <th>first_device_type</th>\n",
       "      <th>first_browser</th>\n",
       "      <th>country_destination</th>\n",
       "    </tr>\n",
       "  </thead>\n",
       "  <tbody>\n",
       "    <tr>\n",
       "      <th>87415</th>\n",
       "      <td>4tie96o5oo</td>\n",
       "      <td>2013-06-29</td>\n",
       "      <td>20130629223150</td>\n",
       "      <td>2015-06-29</td>\n",
       "      <td>-unknown-</td>\n",
       "      <td>49.0</td>\n",
       "      <td>basic</td>\n",
       "      <td>0</td>\n",
       "      <td>en</td>\n",
       "      <td>direct</td>\n",
       "      <td>direct</td>\n",
       "      <td>linked</td>\n",
       "      <td>Web</td>\n",
       "      <td>Windows Desktop</td>\n",
       "      <td>Chrome</td>\n",
       "      <td>NDF</td>\n",
       "    </tr>\n",
       "  </tbody>\n",
       "</table>\n",
       "</div>"
      ],
      "text/plain": [
       "               id date_account_created  timestamp_first_active  \\\n",
       "87415  4tie96o5oo           2013-06-29          20130629223150   \n",
       "\n",
       "      date_first_booking     gender   age signup_method  signup_flow language  \\\n",
       "87415         2015-06-29  -unknown-  49.0         basic            0       en   \n",
       "\n",
       "      affiliate_channel affiliate_provider first_affiliate_tracked signup_app  \\\n",
       "87415            direct             direct                  linked        Web   \n",
       "\n",
       "      first_device_type first_browser country_destination  \n",
       "87415   Windows Desktop        Chrome                 NDF  "
      ]
     },
     "execution_count": 17,
     "metadata": {},
     "output_type": "execute_result"
    }
   ],
   "source": [
    "df01_users.sample(1)"
   ]
  },
  {
   "cell_type": "code",
   "execution_count": 18,
   "id": "d76d383f",
   "metadata": {
    "ExecuteTime": {
     "end_time": "2022-04-01T00:22:34.218927Z",
     "start_time": "2022-04-01T00:22:32.721908Z"
    }
   },
   "outputs": [],
   "source": [
    "# change date type\n",
    "df01_users['date_account_created'] = pd.to_datetime(df01_users['date_account_created'])\n",
    "df01_users['date_first_booking'] = pd.to_datetime(df01_users['date_first_booking'])\n",
    "\n",
    "# change datetime type\n",
    "df01_users['timestamp_first_active'] = pd.to_datetime(df01_users['timestamp_first_active'], format='%Y%m%d%H%M%S')\n",
    "\n",
    "# change age to int\n",
    "df01_users['age'] = df01_users['age'].astype(np.int64)"
   ]
  },
  {
   "cell_type": "code",
   "execution_count": 19,
   "id": "505514d3",
   "metadata": {
    "ExecuteTime": {
     "end_time": "2022-04-01T00:22:34.297907Z",
     "start_time": "2022-04-01T00:22:34.221905Z"
    }
   },
   "outputs": [
    {
     "data": {
      "text/html": [
       "<div>\n",
       "<style scoped>\n",
       "    .dataframe tbody tr th:only-of-type {\n",
       "        vertical-align: middle;\n",
       "    }\n",
       "\n",
       "    .dataframe tbody tr th {\n",
       "        vertical-align: top;\n",
       "    }\n",
       "\n",
       "    .dataframe thead th {\n",
       "        text-align: right;\n",
       "    }\n",
       "</style>\n",
       "<table border=\"1\" class=\"dataframe\">\n",
       "  <thead>\n",
       "    <tr style=\"text-align: right;\">\n",
       "      <th></th>\n",
       "      <th>id</th>\n",
       "      <th>date_account_created</th>\n",
       "      <th>timestamp_first_active</th>\n",
       "      <th>date_first_booking</th>\n",
       "      <th>gender</th>\n",
       "      <th>age</th>\n",
       "      <th>signup_method</th>\n",
       "      <th>signup_flow</th>\n",
       "      <th>language</th>\n",
       "      <th>affiliate_channel</th>\n",
       "      <th>affiliate_provider</th>\n",
       "      <th>first_affiliate_tracked</th>\n",
       "      <th>signup_app</th>\n",
       "      <th>first_device_type</th>\n",
       "      <th>first_browser</th>\n",
       "      <th>country_destination</th>\n",
       "    </tr>\n",
       "  </thead>\n",
       "  <tbody>\n",
       "    <tr>\n",
       "      <th>91120</th>\n",
       "      <td>6hhqyyenjp</td>\n",
       "      <td>2013-07-15</td>\n",
       "      <td>2013-07-15 03:58:38</td>\n",
       "      <td>2013-07-15</td>\n",
       "      <td>MALE</td>\n",
       "      <td>33</td>\n",
       "      <td>basic</td>\n",
       "      <td>0</td>\n",
       "      <td>en</td>\n",
       "      <td>sem-brand</td>\n",
       "      <td>google</td>\n",
       "      <td>untracked</td>\n",
       "      <td>Web</td>\n",
       "      <td>Mac Desktop</td>\n",
       "      <td>Safari</td>\n",
       "      <td>CA</td>\n",
       "    </tr>\n",
       "  </tbody>\n",
       "</table>\n",
       "</div>"
      ],
      "text/plain": [
       "               id date_account_created timestamp_first_active  \\\n",
       "91120  6hhqyyenjp           2013-07-15    2013-07-15 03:58:38   \n",
       "\n",
       "      date_first_booking gender  age signup_method  signup_flow language  \\\n",
       "91120         2013-07-15   MALE   33         basic            0       en   \n",
       "\n",
       "      affiliate_channel affiliate_provider first_affiliate_tracked signup_app  \\\n",
       "91120         sem-brand             google               untracked        Web   \n",
       "\n",
       "      first_device_type first_browser country_destination  \n",
       "91120       Mac Desktop        Safari                  CA  "
      ]
     },
     "execution_count": 19,
     "metadata": {},
     "output_type": "execute_result"
    }
   ],
   "source": [
    "df01_users.sample(1)"
   ]
  },
  {
   "cell_type": "code",
   "execution_count": 20,
   "id": "e7b73c50",
   "metadata": {
    "ExecuteTime": {
     "end_time": "2022-04-01T00:22:34.329905Z",
     "start_time": "2022-04-01T00:22:34.302908Z"
    }
   },
   "outputs": [
    {
     "data": {
      "text/plain": [
       "id                                 object\n",
       "date_account_created       datetime64[ns]\n",
       "timestamp_first_active     datetime64[ns]\n",
       "date_first_booking         datetime64[ns]\n",
       "gender                             object\n",
       "age                                 int64\n",
       "signup_method                      object\n",
       "signup_flow                         int64\n",
       "language                           object\n",
       "affiliate_channel                  object\n",
       "affiliate_provider                 object\n",
       "first_affiliate_tracked            object\n",
       "signup_app                         object\n",
       "first_device_type                  object\n",
       "first_browser                      object\n",
       "country_destination                object\n",
       "dtype: object"
      ]
     },
     "execution_count": 20,
     "metadata": {},
     "output_type": "execute_result"
    }
   ],
   "source": [
    "df01_users.dtypes"
   ]
  },
  {
   "cell_type": "markdown",
   "id": "b4774540",
   "metadata": {},
   "source": [
    "## 1.6. Check Balanced Data\n",
    "\n",
    "Data with an unbalance of 57% for the NDF class and 30% for the US class."
   ]
  },
  {
   "cell_type": "code",
   "execution_count": 21,
   "id": "8f5cdc46",
   "metadata": {
    "ExecuteTime": {
     "end_time": "2022-04-01T00:22:34.392908Z",
     "start_time": "2022-04-01T00:22:34.333905Z"
    }
   },
   "outputs": [
    {
     "data": {
      "text/plain": [
       "NDF      0.579673\n",
       "US       0.294461\n",
       "other    0.048128\n",
       "FR       0.023623\n",
       "IT       0.013458\n",
       "GB       0.011066\n",
       "ES       0.010671\n",
       "CA       0.006707\n",
       "DE       0.005020\n",
       "NL       0.003621\n",
       "AU       0.002541\n",
       "PT       0.001032\n",
       "Name: country_destination, dtype: float64"
      ]
     },
     "execution_count": 21,
     "metadata": {},
     "output_type": "execute_result"
    }
   ],
   "source": [
    "df01_users['country_destination'].value_counts(normalize=True)"
   ]
  },
  {
   "cell_type": "markdown",
   "id": "9e2a67ae",
   "metadata": {},
   "source": [
    "## 1.7. Descriptive Analysis"
   ]
  },
  {
   "cell_type": "code",
   "execution_count": 22,
   "id": "8f66c9c6",
   "metadata": {
    "ExecuteTime": {
     "end_time": "2022-04-01T00:22:35.013016Z",
     "start_time": "2022-04-01T00:22:34.401909Z"
    }
   },
   "outputs": [],
   "source": [
    "# split data users in types dataframes\n",
    "num_attributes_users = df01_users.select_dtypes(include=['int64', 'float64'])\n",
    "cat_attributes_users = df01_users.select_dtypes(exclude=['int64', 'float64', 'datetime64[ns]'])\n",
    "time_attributes_users = df01_users.select_dtypes(include=['datetime64[ns]'])\n",
    "\n",
    "# split data sessions in types dataframes\n",
    "num_attributes_sessions = df01_sessions.select_dtypes(include=['int64', 'float64'])\n",
    "cat_attributes_sessions = df01_sessions.select_dtypes(exclude=['int64', 'float64', 'datetime64[ns]'])\n",
    "time_attributes_sessions = df01_sessions.select_dtypes(include=['datetime64[ns]'])"
   ]
  },
  {
   "cell_type": "markdown",
   "id": "4eb6a6b6",
   "metadata": {},
   "source": [
    "### 1.7.1. Numerical - Data Users"
   ]
  },
  {
   "cell_type": "code",
   "execution_count": 23,
   "id": "ba4046ec",
   "metadata": {
    "ExecuteTime": {
     "end_time": "2022-04-01T00:22:35.818257Z",
     "start_time": "2022-04-01T00:22:35.015905Z"
    }
   },
   "outputs": [
    {
     "data": {
      "text/html": [
       "<div>\n",
       "<style scoped>\n",
       "    .dataframe tbody tr th:only-of-type {\n",
       "        vertical-align: middle;\n",
       "    }\n",
       "\n",
       "    .dataframe tbody tr th {\n",
       "        vertical-align: top;\n",
       "    }\n",
       "\n",
       "    .dataframe thead th {\n",
       "        text-align: right;\n",
       "    }\n",
       "</style>\n",
       "<table border=\"1\" class=\"dataframe\">\n",
       "  <thead>\n",
       "    <tr style=\"text-align: right;\">\n",
       "      <th></th>\n",
       "      <th>attributes</th>\n",
       "      <th>max</th>\n",
       "      <th>min</th>\n",
       "      <th>range</th>\n",
       "      <th>mean</th>\n",
       "      <th>median</th>\n",
       "      <th>std</th>\n",
       "      <th>skew</th>\n",
       "      <th>kurtosis</th>\n",
       "    </tr>\n",
       "  </thead>\n",
       "  <tbody>\n",
       "    <tr>\n",
       "      <th>0</th>\n",
       "      <td>age</td>\n",
       "      <td>2014</td>\n",
       "      <td>1</td>\n",
       "      <td>2013</td>\n",
       "      <td>49.183142</td>\n",
       "      <td>49.0</td>\n",
       "      <td>118.421689</td>\n",
       "      <td>16.333820</td>\n",
       "      <td>267.655434</td>\n",
       "    </tr>\n",
       "    <tr>\n",
       "      <th>1</th>\n",
       "      <td>signup_flow</td>\n",
       "      <td>25</td>\n",
       "      <td>0</td>\n",
       "      <td>25</td>\n",
       "      <td>3.151490</td>\n",
       "      <td>0.0</td>\n",
       "      <td>7.543915</td>\n",
       "      <td>2.287158</td>\n",
       "      <td>3.567794</td>\n",
       "    </tr>\n",
       "  </tbody>\n",
       "</table>\n",
       "</div>"
      ],
      "text/plain": [
       "    attributes   max  min  range       mean  median         std       skew  \\\n",
       "0          age  2014    1   2013  49.183142    49.0  118.421689  16.333820   \n",
       "1  signup_flow    25    0     25   3.151490     0.0    7.543915   2.287158   \n",
       "\n",
       "     kurtosis  \n",
       "0  267.655434  \n",
       "1    3.567794  "
      ]
     },
     "execution_count": 23,
     "metadata": {},
     "output_type": "execute_result"
    }
   ],
   "source": [
    "# tendency central - mean and median\n",
    "mean_users = pd.DataFrame(num_attributes_users.apply(lambda x: np.mean(x)))\n",
    "median_users = pd.DataFrame(num_attributes_users.apply(lambda x: np.median(x)))\n",
    "\n",
    "# dispersions - max, min, range, std, skew and kurtosis\n",
    "max_users = pd.DataFrame(num_attributes_users.apply(lambda x: x.max()))\n",
    "min_users = pd.DataFrame(num_attributes_users.apply(lambda x: x.min()))\n",
    "range_users = pd.DataFrame(num_attributes_users.apply(lambda x: x.max() - x.min()))\n",
    "std_users = pd.DataFrame(num_attributes_users.apply(lambda x: np.std(x)))\n",
    "skew_users = pd.DataFrame(num_attributes_users.apply(lambda x: x.skew()))\n",
    "kurtosis_users = pd.DataFrame(num_attributes_users.apply(lambda x: x.kurtosis()))\n",
    "\n",
    "# join tendency central and dispersion dataframe\n",
    "num_stats_users = pd.concat([max_users, min_users, range_users, mean_users, \n",
    "                             median_users, std_users, skew_users, kurtosis_users], axis=1).reset_index()\n",
    "num_stats_users.columns = ['attributes', 'max', 'min', 'range', 'mean', 'median', 'std', 'skew', 'kurtosis']\n",
    "\n",
    "num_stats_users"
   ]
  },
  {
   "cell_type": "markdown",
   "id": "956e8434",
   "metadata": {},
   "source": [
    "### 1.7.2. Numerical - Data Sessions"
   ]
  },
  {
   "cell_type": "code",
   "execution_count": 24,
   "id": "3c46dd63",
   "metadata": {
    "ExecuteTime": {
     "end_time": "2022-04-01T00:22:36.645257Z",
     "start_time": "2022-04-01T00:22:35.821262Z"
    }
   },
   "outputs": [
    {
     "data": {
      "text/html": [
       "<div>\n",
       "<style scoped>\n",
       "    .dataframe tbody tr th:only-of-type {\n",
       "        vertical-align: middle;\n",
       "    }\n",
       "\n",
       "    .dataframe tbody tr th {\n",
       "        vertical-align: top;\n",
       "    }\n",
       "\n",
       "    .dataframe thead th {\n",
       "        text-align: right;\n",
       "    }\n",
       "</style>\n",
       "<table border=\"1\" class=\"dataframe\">\n",
       "  <thead>\n",
       "    <tr style=\"text-align: right;\">\n",
       "      <th></th>\n",
       "      <th>attributes</th>\n",
       "      <th>max</th>\n",
       "      <th>min</th>\n",
       "      <th>range</th>\n",
       "      <th>mean</th>\n",
       "      <th>median</th>\n",
       "      <th>std</th>\n",
       "      <th>skew</th>\n",
       "      <th>kurtosis</th>\n",
       "    </tr>\n",
       "  </thead>\n",
       "  <tbody>\n",
       "    <tr>\n",
       "      <th>0</th>\n",
       "      <td>secs_elapsed</td>\n",
       "      <td>1799977.0</td>\n",
       "      <td>0.0</td>\n",
       "      <td>1799977.0</td>\n",
       "      <td>19961.8251</td>\n",
       "      <td>1369.0</td>\n",
       "      <td>88849.388449</td>\n",
       "      <td>11.137761</td>\n",
       "      <td>154.84312</td>\n",
       "    </tr>\n",
       "  </tbody>\n",
       "</table>\n",
       "</div>"
      ],
      "text/plain": [
       "     attributes        max  min      range        mean  median           std  \\\n",
       "0  secs_elapsed  1799977.0  0.0  1799977.0  19961.8251  1369.0  88849.388449   \n",
       "\n",
       "        skew   kurtosis  \n",
       "0  11.137761  154.84312  "
      ]
     },
     "execution_count": 24,
     "metadata": {},
     "output_type": "execute_result"
    }
   ],
   "source": [
    "# tendency central - mean and median\n",
    "mean_sessions = pd.DataFrame(num_attributes_sessions.apply(lambda x: np.mean(x)))\n",
    "median_sessions = pd.DataFrame(num_attributes_sessions.apply(lambda x: np.median(x)))\n",
    "\n",
    "# dispersions - max, min, range, std, skew and kurtosis\n",
    "max_sessions = pd.DataFrame(num_attributes_sessions.apply(lambda x: x.max()))\n",
    "min_sessions = pd.DataFrame(num_attributes_sessions.apply(lambda x: x.min()))\n",
    "range_sessions = pd.DataFrame(num_attributes_sessions.apply(lambda x: x.max() - x.min()))\n",
    "std_sessions = pd.DataFrame(num_attributes_sessions.apply(lambda x: np.std(x)))\n",
    "skew_sessions = pd.DataFrame(num_attributes_sessions.apply(lambda x: x.skew()))\n",
    "kurtosis_sessions = pd.DataFrame(num_attributes_sessions.apply(lambda x: x.kurtosis()))\n",
    "\n",
    "# join tendency central and dispersion dataframe\n",
    "num_stats_sessions = pd.concat([max_sessions, min_sessions, range_sessions, mean_sessions, \n",
    "                             median_sessions, std_sessions, skew_sessions, kurtosis_sessions], axis=1).reset_index()\n",
    "num_stats_sessions.columns = ['attributes', 'max', 'min', 'range', 'mean', 'median', 'std', 'skew', 'kurtosis']\n",
    "\n",
    "num_stats_sessions"
   ]
  },
  {
   "cell_type": "markdown",
   "id": "ce2d77df",
   "metadata": {},
   "source": [
    "### 1.7.3. Categorical - Data Users"
   ]
  },
  {
   "cell_type": "code",
   "execution_count": 25,
   "id": "a475bb0a",
   "metadata": {
    "ExecuteTime": {
     "end_time": "2022-04-01T00:22:37.220258Z",
     "start_time": "2022-04-01T00:22:36.649260Z"
    }
   },
   "outputs": [
    {
     "data": {
      "text/html": [
       "<div>\n",
       "<style scoped>\n",
       "    .dataframe tbody tr th:only-of-type {\n",
       "        vertical-align: middle;\n",
       "    }\n",
       "\n",
       "    .dataframe tbody tr th {\n",
       "        vertical-align: top;\n",
       "    }\n",
       "\n",
       "    .dataframe thead th {\n",
       "        text-align: right;\n",
       "    }\n",
       "</style>\n",
       "<table border=\"1\" class=\"dataframe\">\n",
       "  <thead>\n",
       "    <tr style=\"text-align: right;\">\n",
       "      <th></th>\n",
       "      <th>gender</th>\n",
       "      <th>signup_method</th>\n",
       "      <th>language</th>\n",
       "      <th>affiliate_channel</th>\n",
       "      <th>affiliate_provider</th>\n",
       "      <th>first_affiliate_tracked</th>\n",
       "      <th>signup_app</th>\n",
       "      <th>first_device_type</th>\n",
       "      <th>first_browser</th>\n",
       "      <th>country_destination</th>\n",
       "    </tr>\n",
       "  </thead>\n",
       "  <tbody>\n",
       "    <tr>\n",
       "      <th>count</th>\n",
       "      <td>207386</td>\n",
       "      <td>207386</td>\n",
       "      <td>207386</td>\n",
       "      <td>207386</td>\n",
       "      <td>207386</td>\n",
       "      <td>207386</td>\n",
       "      <td>207386</td>\n",
       "      <td>207386</td>\n",
       "      <td>207386</td>\n",
       "      <td>207386</td>\n",
       "    </tr>\n",
       "    <tr>\n",
       "      <th>unique</th>\n",
       "      <td>4</td>\n",
       "      <td>3</td>\n",
       "      <td>25</td>\n",
       "      <td>8</td>\n",
       "      <td>18</td>\n",
       "      <td>7</td>\n",
       "      <td>4</td>\n",
       "      <td>9</td>\n",
       "      <td>52</td>\n",
       "      <td>12</td>\n",
       "    </tr>\n",
       "    <tr>\n",
       "      <th>top</th>\n",
       "      <td>-unknown-</td>\n",
       "      <td>basic</td>\n",
       "      <td>en</td>\n",
       "      <td>direct</td>\n",
       "      <td>direct</td>\n",
       "      <td>untracked</td>\n",
       "      <td>Web</td>\n",
       "      <td>Mac Desktop</td>\n",
       "      <td>Chrome</td>\n",
       "      <td>NDF</td>\n",
       "    </tr>\n",
       "    <tr>\n",
       "      <th>freq</th>\n",
       "      <td>91783</td>\n",
       "      <td>148297</td>\n",
       "      <td>200415</td>\n",
       "      <td>134179</td>\n",
       "      <td>133935</td>\n",
       "      <td>109232</td>\n",
       "      <td>178334</td>\n",
       "      <td>89600</td>\n",
       "      <td>63845</td>\n",
       "      <td>120216</td>\n",
       "    </tr>\n",
       "  </tbody>\n",
       "</table>\n",
       "</div>"
      ],
      "text/plain": [
       "           gender signup_method language affiliate_channel affiliate_provider  \\\n",
       "count      207386        207386   207386            207386             207386   \n",
       "unique          4             3       25                 8                 18   \n",
       "top     -unknown-         basic       en            direct             direct   \n",
       "freq        91783        148297   200415            134179             133935   \n",
       "\n",
       "       first_affiliate_tracked signup_app first_device_type first_browser  \\\n",
       "count                   207386     207386            207386        207386   \n",
       "unique                       7          4                 9            52   \n",
       "top                  untracked        Web       Mac Desktop        Chrome   \n",
       "freq                    109232     178334             89600         63845   \n",
       "\n",
       "       country_destination  \n",
       "count               207386  \n",
       "unique                  12  \n",
       "top                    NDF  \n",
       "freq                120216  "
      ]
     },
     "execution_count": 25,
     "metadata": {},
     "output_type": "execute_result"
    }
   ],
   "source": [
    "cat_attributes_users.drop('id', axis=1).describe()"
   ]
  },
  {
   "cell_type": "markdown",
   "id": "89a04077",
   "metadata": {},
   "source": [
    "#### 1.7.3.1. Correlation Matrix"
   ]
  },
  {
   "cell_type": "code",
   "execution_count": 26,
   "id": "7d49a42d",
   "metadata": {
    "ExecuteTime": {
     "end_time": "2022-04-01T00:22:46.862551Z",
     "start_time": "2022-04-01T00:22:37.225266Z"
    }
   },
   "outputs": [
    {
     "data": {
      "image/png": "[encoded data removed]",
      "text/plain": [
       "<Figure size 432x288 with 2 Axes>"
      ]
     },
     "metadata": {
      "needs_background": "light"
     },
     "output_type": "display_data"
    }
   ],
   "source": [
    "cat_attributes_users_columns = cat_attributes_users.drop('id', axis=1).columns.tolist()\n",
    "\n",
    "corr_dict = {}\n",
    "\n",
    "for main_column in cat_attributes_users_columns:\n",
    "    corr_list = []\n",
    "    \n",
    "    for secondary_column in cat_attributes_users_columns:\n",
    "        # cramer v\n",
    "        cat_corr = cramer_v( cat_attributes_users[main_column], cat_attributes_users[secondary_column] )\n",
    "        \n",
    "        # add to list\n",
    "        corr_list.append(cat_corr)\n",
    "    \n",
    "    # add to dict each attribute correlation \n",
    "    corr_dict[main_column] = corr_list\n",
    "\n",
    "df_corr_users = pd.DataFrame(corr_dict)\n",
    "df_corr_users = df_corr_users.set_index(df_corr_users.columns)\n",
    "sns.heatmap(df_corr_users, annot=True);"
   ]
  },
  {
   "cell_type": "markdown",
   "id": "ef0bfe3a",
   "metadata": {
    "ExecuteTime": {
     "end_time": "2022-03-02T14:41:15.919764Z",
     "start_time": "2022-03-02T14:41:15.909769Z"
    }
   },
   "source": [
    "### 1.7.4. Categorical - Data Sessions"
   ]
  },
  {
   "cell_type": "code",
   "execution_count": 27,
   "id": "cb30c4f7",
   "metadata": {
    "ExecuteTime": {
     "end_time": "2022-04-01T00:22:51.125240Z",
     "start_time": "2022-04-01T00:22:46.865512Z"
    },
    "scrolled": false
   },
   "outputs": [
    {
     "data": {
      "text/html": [
       "<div>\n",
       "<style scoped>\n",
       "    .dataframe tbody tr th:only-of-type {\n",
       "        vertical-align: middle;\n",
       "    }\n",
       "\n",
       "    .dataframe tbody tr th {\n",
       "        vertical-align: top;\n",
       "    }\n",
       "\n",
       "    .dataframe thead th {\n",
       "        text-align: right;\n",
       "    }\n",
       "</style>\n",
       "<table border=\"1\" class=\"dataframe\">\n",
       "  <thead>\n",
       "    <tr style=\"text-align: right;\">\n",
       "      <th></th>\n",
       "      <th>action</th>\n",
       "      <th>action_type</th>\n",
       "      <th>action_detail</th>\n",
       "      <th>device_type</th>\n",
       "    </tr>\n",
       "  </thead>\n",
       "  <tbody>\n",
       "    <tr>\n",
       "      <th>count</th>\n",
       "      <td>9213930</td>\n",
       "      <td>9213930</td>\n",
       "      <td>9213930</td>\n",
       "      <td>9213930</td>\n",
       "    </tr>\n",
       "    <tr>\n",
       "      <th>unique</th>\n",
       "      <td>347</td>\n",
       "      <td>10</td>\n",
       "      <td>155</td>\n",
       "      <td>14</td>\n",
       "    </tr>\n",
       "    <tr>\n",
       "      <th>top</th>\n",
       "      <td>show</td>\n",
       "      <td>view</td>\n",
       "      <td>view_search_results</td>\n",
       "      <td>Mac Desktop</td>\n",
       "    </tr>\n",
       "    <tr>\n",
       "      <th>freq</th>\n",
       "      <td>2178382</td>\n",
       "      <td>3545621</td>\n",
       "      <td>1770931</td>\n",
       "      <td>3019523</td>\n",
       "    </tr>\n",
       "  </tbody>\n",
       "</table>\n",
       "</div>"
      ],
      "text/plain": [
       "         action action_type        action_detail  device_type\n",
       "count   9213930     9213930              9213930      9213930\n",
       "unique      347          10                  155           14\n",
       "top        show        view  view_search_results  Mac Desktop\n",
       "freq    2178382     3545621              1770931      3019523"
      ]
     },
     "execution_count": 27,
     "metadata": {},
     "output_type": "execute_result"
    }
   ],
   "source": [
    "cat_attributes_sessions.drop('user_id', axis=1).describe()"
   ]
  },
  {
   "cell_type": "markdown",
   "id": "13f4914d",
   "metadata": {},
   "source": [
    "#### 1.7.4.1. Correlation Matrix"
   ]
  },
  {
   "cell_type": "code",
   "execution_count": 28,
   "id": "3e1e88ee",
   "metadata": {
    "ExecuteTime": {
     "end_time": "2022-04-01T00:23:29.095316Z",
     "start_time": "2022-04-01T00:22:51.129238Z"
    }
   },
   "outputs": [
    {
     "data": {
      "image/png": "[encoded data removed]",
      "text/plain": [
       "<Figure size 432x288 with 2 Axes>"
      ]
     },
     "metadata": {
      "needs_background": "light"
     },
     "output_type": "display_data"
    }
   ],
   "source": [
    "cat_attributes_sessions_columns = cat_attributes_sessions.drop('user_id', axis=1).columns.tolist()\n",
    "\n",
    "corr_dict = {}\n",
    "\n",
    "for main_column in cat_attributes_sessions_columns:\n",
    "    corr_list = []\n",
    "    \n",
    "    for secondary_column in cat_attributes_sessions_columns:\n",
    "        # cramer v\n",
    "        cat_corr = cramer_v( cat_attributes_sessions[main_column], cat_attributes_sessions[secondary_column] )\n",
    "        \n",
    "        # add to list\n",
    "        corr_list.append(cat_corr)\n",
    "    \n",
    "    # add to dict each attribute correlation \n",
    "    corr_dict[main_column] = corr_list\n",
    "\n",
    "df_corr_sessions = pd.DataFrame(corr_dict)\n",
    "df_corr_sessions = df_corr_sessions.set_index(df_corr_sessions.columns)\n",
    "sns.heatmap(df_corr_sessions, annot=True);"
   ]
  },
  {
   "cell_type": "markdown",
   "id": "bbe57720",
   "metadata": {},
   "source": [
    "# 2.0. Feature Engineering"
   ]
  },
  {
   "cell_type": "code",
   "execution_count": 29,
   "id": "f64c4deb",
   "metadata": {
    "ExecuteTime": {
     "end_time": "2022-04-01T00:23:29.157320Z",
     "start_time": "2022-04-01T00:23:29.109321Z"
    }
   },
   "outputs": [],
   "source": [
    "df02_users = df01_users.copy()"
   ]
  },
  {
   "cell_type": "markdown",
   "id": "4cc87547",
   "metadata": {},
   "source": [
    "## 2.1. Create Gap Between Dates Features"
   ]
  },
  {
   "cell_type": "code",
   "execution_count": 30,
   "id": "bde69aeb",
   "metadata": {
    "ExecuteTime": {
     "end_time": "2022-04-01T00:23:37.620269Z",
     "start_time": "2022-04-01T00:23:29.160322Z"
    }
   },
   "outputs": [],
   "source": [
    "# date of first active\n",
    "df02_users['date_first_active'] = pd.to_datetime(df02_users['timestamp_first_active'].dt.strftime(\"%Y-%m-%d\"))\n",
    "\n",
    "# difference in days between date_account_created and date_first_active\n",
    "df02_users['diff_account_created_first_active'] = (df02_users['date_account_created'] - df02_users['date_first_active']).apply(lambda x: x.days)\n",
    "\n",
    "# difference in days between date_account_created and date_first_booking\n",
    "df02_users['diff_first_booking_account_created'] = (df02_users['date_first_booking'] - df02_users['date_account_created']).apply(lambda x: x.days)\n",
    "\n",
    "# difference in days between date_first_active and date_first_booking\n",
    "df02_users['diff_first_active_first_booking'] = (df02_users['date_first_booking'] - df02_users['date_first_active']).apply(lambda x: x.days)"
   ]
  },
  {
   "cell_type": "markdown",
   "id": "e5f02587",
   "metadata": {
    "ExecuteTime": {
     "end_time": "2022-03-02T15:58:55.212964Z",
     "start_time": "2022-03-02T15:58:55.204965Z"
    }
   },
   "source": [
    "## 2.2. Create Date Features"
   ]
  },
  {
   "cell_type": "markdown",
   "id": "add9d20f",
   "metadata": {},
   "source": [
    "### 2.2.1. Account Created"
   ]
  },
  {
   "cell_type": "code",
   "execution_count": 31,
   "id": "7ada9a20",
   "metadata": {
    "ExecuteTime": {
     "end_time": "2022-04-01T00:23:37.809811Z",
     "start_time": "2022-04-01T00:23:37.623236Z"
    }
   },
   "outputs": [],
   "source": [
    "# year\n",
    "df02_users['year_account_created'] = df02_users['date_account_created'].dt.year\n",
    "\n",
    "# month\n",
    "df02_users['month_account_created'] = df02_users['date_account_created'].dt.month\n",
    "\n",
    "# day\n",
    "df02_users['day_account_created'] = df02_users['date_account_created'].dt.day\n",
    "\n",
    "# day of week\n",
    "df02_users['dayofweek_account_created'] = df02_users['date_account_created'].dt.dayofweek\n",
    "\n",
    "# week of year\n",
    "df02_users['weekofyear_account_created'] = df02_users['date_account_created'].dt.weekofyear"
   ]
  },
  {
   "cell_type": "markdown",
   "id": "db245cbb",
   "metadata": {},
   "source": [
    "### 2.2.2. First Active"
   ]
  },
  {
   "cell_type": "code",
   "execution_count": 32,
   "id": "55143c04",
   "metadata": {
    "ExecuteTime": {
     "end_time": "2022-04-01T00:23:37.936809Z",
     "start_time": "2022-04-01T00:23:37.813815Z"
    }
   },
   "outputs": [],
   "source": [
    "# year\n",
    "df02_users['year_first_active'] = df02_users['date_first_active'].dt.year\n",
    "\n",
    "# month\n",
    "df02_users['month_first_active'] = df02_users['date_first_active'].dt.month\n",
    "\n",
    "# day\n",
    "df02_users['day_first_active'] = df02_users['date_first_active'].dt.day\n",
    "\n",
    "# day of week\n",
    "df02_users['dayofweek_first_active'] = df02_users['date_first_active'].dt.dayofweek\n",
    "\n",
    "# week of year\n",
    "df02_users['weekofyear_first_active'] = df02_users['date_first_active'].dt.weekofyear"
   ]
  },
  {
   "cell_type": "markdown",
   "id": "603026d2",
   "metadata": {},
   "source": [
    "### 2.2.3. First Booking"
   ]
  },
  {
   "cell_type": "code",
   "execution_count": 33,
   "id": "91800913",
   "metadata": {
    "ExecuteTime": {
     "end_time": "2022-04-01T00:23:38.063813Z",
     "start_time": "2022-04-01T00:23:37.938810Z"
    }
   },
   "outputs": [],
   "source": [
    "# year\n",
    "df02_users['year_first_booking'] = df02_users['date_first_booking'].dt.year\n",
    "\n",
    "# month\n",
    "df02_users['month_first_booking'] = df02_users['date_first_booking'].dt.month\n",
    "\n",
    "# day\n",
    "df02_users['day_first_booking'] = df02_users['date_first_booking'].dt.day\n",
    "\n",
    "# day of week\n",
    "df02_users['dayofweek_first_booking'] = df02_users['date_first_booking'].dt.dayofweek\n",
    "\n",
    "# week of year\n",
    "df02_users['weekofyear_first_booking'] = df02_users['date_first_booking'].dt.weekofyear"
   ]
  },
  {
   "cell_type": "markdown",
   "id": "b0f5b037",
   "metadata": {},
   "source": [
    "# 3.0. Data Filtering"
   ]
  },
  {
   "cell_type": "code",
   "execution_count": 34,
   "id": "26b87f66",
   "metadata": {
    "ExecuteTime": {
     "end_time": "2022-04-01T00:23:38.111081Z",
     "start_time": "2022-04-01T00:23:38.066811Z"
    }
   },
   "outputs": [],
   "source": [
    "df03_users = df02_users.copy()"
   ]
  },
  {
   "cell_type": "markdown",
   "id": "80d07e8f",
   "metadata": {},
   "source": [
    "## 3.1. Filtering Rows"
   ]
  },
  {
   "cell_type": "code",
   "execution_count": 35,
   "id": "6221dc16",
   "metadata": {
    "ExecuteTime": {
     "end_time": "2022-04-01T00:23:38.221066Z",
     "start_time": "2022-04-01T00:23:38.114811Z"
    }
   },
   "outputs": [],
   "source": [
    "# age - greater than 15 and lower than 100 - There are few people over 100 years old ( Could be error from system or manual imput - Cleaning noise)\n",
    "df03_users = df03_users[(df03_users['age'] > 15) & (df03_users['age'] < 100)]\n",
    "\n",
    "# secs_elapsed - there is no possible 0 secs elapesed on website\n",
    "#df03_sessions = df03_sessions[df03_sessions['secs_elapsed'] > 0]"
   ]
  },
  {
   "cell_type": "markdown",
   "id": "d9303a1b",
   "metadata": {},
   "source": [
    "## 3.2. Columns Selection"
   ]
  },
  {
   "cell_type": "code",
   "execution_count": 36,
   "id": "1072be5b",
   "metadata": {
    "ExecuteTime": {
     "end_time": "2022-04-01T00:23:38.315810Z",
     "start_time": "2022-04-01T00:23:38.223818Z"
    }
   },
   "outputs": [],
   "source": [
    "# columns id not carry any information\n",
    "df03_users = df03_users.drop(['id'], axis=1)\n",
    "\n",
    "# columns used to feature enginnering\n",
    "cols_date =['timestamp_first_active',\n",
    "            'date_first_active',\n",
    "            'date_account_created',\n",
    "            'date_first_booking']\n",
    "\n",
    "df03_users = df03_users.drop(columns=cols_date)"
   ]
  },
  {
   "cell_type": "markdown",
   "id": "20d1ff53",
   "metadata": {},
   "source": [
    "# 4.0. Data Exploratory Analysis\n",
    "\n",
    "To increase time, the EDA stage will be skipped in this first cycle."
   ]
  },
  {
   "cell_type": "code",
   "execution_count": 37,
   "id": "c5e9da71",
   "metadata": {
    "ExecuteTime": {
     "end_time": "2022-04-01T00:23:38.347857Z",
     "start_time": "2022-04-01T00:23:38.318814Z"
    }
   },
   "outputs": [],
   "source": [
    "df04_users = df03_users.copy()"
   ]
  },
  {
   "cell_type": "markdown",
   "id": "868b4156",
   "metadata": {},
   "source": [
    "# 5.0. Data Preparation"
   ]
  },
  {
   "cell_type": "code",
   "execution_count": 38,
   "id": "5fcd8687",
   "metadata": {
    "ExecuteTime": {
     "end_time": "2022-04-01T00:23:38.379821Z",
     "start_time": "2022-04-01T00:23:38.350814Z"
    }
   },
   "outputs": [],
   "source": [
    "df05_users = df04_users.copy()"
   ]
  },
  {
   "cell_type": "markdown",
   "id": "8968dc7f",
   "metadata": {},
   "source": [
    "## 5.1. Encoding"
   ]
  },
  {
   "cell_type": "code",
   "execution_count": 39,
   "id": "6cc038aa",
   "metadata": {
    "ExecuteTime": {
     "end_time": "2022-04-01T00:23:38.792775Z",
     "start_time": "2022-04-01T00:23:38.383811Z"
    }
   },
   "outputs": [],
   "source": [
    "# dummy variable\n",
    "df05_users_dummy = pd.get_dummies(df05_users.drop(['country_destination'], axis=1))\n",
    "\n",
    "# join id and country destination\n",
    "df05_users = pd.concat( [df05_users['country_destination'], df05_users_dummy], axis=1 )"
   ]
  },
  {
   "cell_type": "markdown",
   "id": "94542b87",
   "metadata": {},
   "source": [
    "## 5.2. Response Variable"
   ]
  },
  {
   "cell_type": "code",
   "execution_count": 40,
   "id": "398c2f63",
   "metadata": {
    "ExecuteTime": {
     "end_time": "2022-04-01T00:23:39.030794Z",
     "start_time": "2022-04-01T00:23:38.795797Z"
    }
   },
   "outputs": [],
   "source": [
    "# create OneHotEncoder instance\n",
    "ohe = pp.OneHotEncoder()\n",
    "\n",
    "# ohe hot encoding response feature\n",
    "df_ohe = pd.DataFrame(ohe.fit_transform(df05_users['country_destination'].values.reshape(-1,1)).toarray(),\n",
    "                      columns=ohe.categories_[0],\n",
    "                      index=df05_users.index)\n",
    "\n",
    "# joining encoded response feature to dataset\n",
    "df05_users = pd.concat([df05_users.drop(columns=['country_destination']), df_ohe], axis=1)"
   ]
  },
  {
   "cell_type": "markdown",
   "id": "8c5eee0e",
   "metadata": {},
   "source": [
    "## 5.3. Balance Dataset"
   ]
  },
  {
   "cell_type": "markdown",
   "id": "62948d90",
   "metadata": {},
   "source": [
    "### 5.3.1. Random Undersampling"
   ]
  },
  {
   "cell_type": "code",
   "execution_count": 59,
   "id": "56dc58a5",
   "metadata": {
    "ExecuteTime": {
     "end_time": "2022-04-01T05:10:02.129817Z",
     "start_time": "2022-04-01T05:10:01.023676Z"
    }
   },
   "outputs": [],
   "source": [
    "# define sampler - random under-sampling\n",
    "undersampling = us.RandomUnderSampler(sampling_strategy='not minority', random_state=32)\n",
    "\n",
    "# resample the dataset\n",
    "X_under, y_under = undersampling.fit_resample(df05_users.drop(columns=ohe.categories_[0]), \n",
    "                                              ohe.inverse_transform(df05_users[ohe.categories_[0]]))"
   ]
  },
  {
   "cell_type": "code",
   "execution_count": 60,
   "id": "b490b906",
   "metadata": {
    "ExecuteTime": {
     "end_time": "2022-04-01T05:10:03.608650Z",
     "start_time": "2022-04-01T05:10:03.529834Z"
    },
    "cell_style": "split"
   },
   "outputs": [
    {
     "data": {
      "text/plain": [
       "NDF      119187\n",
       "US        60129\n",
       "other      9816\n",
       "FR         4840\n",
       "IT         2742\n",
       "GB         2259\n",
       "ES         2183\n",
       "CA         1369\n",
       "DE         1024\n",
       "NL          739\n",
       "AU          519\n",
       "PT          212\n",
       "dtype: int64"
      ]
     },
     "execution_count": 60,
     "metadata": {},
     "output_type": "execute_result"
    }
   ],
   "source": [
    "pd.DataFrame(ohe.inverse_transform(df05_users[ohe.categories_[0]])).value_counts()"
   ]
  },
  {
   "cell_type": "code",
   "execution_count": 61,
   "id": "db2811ae",
   "metadata": {
    "ExecuteTime": {
     "end_time": "2022-04-01T05:10:05.106783Z",
     "start_time": "2022-04-01T05:10:05.075634Z"
    },
    "cell_style": "split"
   },
   "outputs": [
    {
     "data": {
      "text/plain": [
       "AU       212\n",
       "CA       212\n",
       "DE       212\n",
       "ES       212\n",
       "FR       212\n",
       "GB       212\n",
       "IT       212\n",
       "NDF      212\n",
       "NL       212\n",
       "PT       212\n",
       "US       212\n",
       "other    212\n",
       "dtype: int64"
      ]
     },
     "execution_count": 61,
     "metadata": {},
     "output_type": "execute_result"
    }
   ],
   "source": [
    "pd.DataFrame(y_under).value_counts()"
   ]
  },
  {
   "cell_type": "code",
   "execution_count": 62,
   "id": "461705e2",
   "metadata": {
    "ExecuteTime": {
     "end_time": "2022-04-01T05:10:06.860344Z",
     "start_time": "2022-04-01T05:10:06.831336Z"
    }
   },
   "outputs": [],
   "source": [
    "# convert back to encoding representation\n",
    "y_under = pd.DataFrame(ohe.transform(y_under.reshape(-1,1)).toarray(),\n",
    "                       columns=ohe.categories_[0],\n",
    "                       index=X_under.index)\n",
    "\n",
    "# join dataset\n",
    "df05_users_under = pd.concat([X_under, y_under], axis=1)"
   ]
  },
  {
   "cell_type": "markdown",
   "id": "3edbf045",
   "metadata": {},
   "source": [
    "### 5.3.2. Random Oversampling"
   ]
  },
  {
   "cell_type": "code",
   "execution_count": 48,
   "id": "3a93bc26",
   "metadata": {
    "ExecuteTime": {
     "end_time": "2022-04-01T00:28:17.316513Z",
     "start_time": "2022-04-01T00:28:01.052342Z"
    }
   },
   "outputs": [],
   "source": [
    "# define sampler - random over-sampling\n",
    "oversampling = osamp.RandomOverSampler(sampling_strategy='not majority', random_state=32)\n",
    "\n",
    "# resample the dataset\n",
    "X_over, y_over = oversampling.fit_resample(df05_users.drop(columns=ohe.categories_[0]), \n",
    "                                           ohe.inverse_transform(df05_users[ohe.categories_[0]]))"
   ]
  },
  {
   "cell_type": "code",
   "execution_count": 49,
   "id": "e38510e2",
   "metadata": {
    "ExecuteTime": {
     "end_time": "2022-04-01T00:28:19.124515Z",
     "start_time": "2022-04-01T00:28:18.985516Z"
    },
    "cell_style": "split"
   },
   "outputs": [
    {
     "data": {
      "text/plain": [
       "NDF      119187\n",
       "US        60129\n",
       "other      9816\n",
       "FR         4840\n",
       "IT         2742\n",
       "GB         2259\n",
       "ES         2183\n",
       "CA         1369\n",
       "DE         1024\n",
       "NL          739\n",
       "AU          519\n",
       "PT          212\n",
       "dtype: int64"
      ]
     },
     "execution_count": 49,
     "metadata": {},
     "output_type": "execute_result"
    }
   ],
   "source": [
    "pd.DataFrame(ohe.inverse_transform(df05_users[ohe.categories_[0]])).value_counts()"
   ]
  },
  {
   "cell_type": "code",
   "execution_count": 50,
   "id": "a28a016c",
   "metadata": {
    "ExecuteTime": {
     "end_time": "2022-04-01T00:28:20.424519Z",
     "start_time": "2022-04-01T00:28:20.271514Z"
    },
    "cell_style": "split"
   },
   "outputs": [
    {
     "data": {
      "text/plain": [
       "AU       119187\n",
       "CA       119187\n",
       "DE       119187\n",
       "ES       119187\n",
       "FR       119187\n",
       "GB       119187\n",
       "IT       119187\n",
       "NDF      119187\n",
       "NL       119187\n",
       "PT       119187\n",
       "US       119187\n",
       "other    119187\n",
       "dtype: int64"
      ]
     },
     "execution_count": 50,
     "metadata": {},
     "output_type": "execute_result"
    }
   ],
   "source": [
    "pd.DataFrame(y_over).value_counts()"
   ]
  },
  {
   "cell_type": "code",
   "execution_count": 51,
   "id": "e566c2a9",
   "metadata": {
    "ExecuteTime": {
     "end_time": "2022-04-01T00:28:22.601515Z",
     "start_time": "2022-04-01T00:28:21.584514Z"
    }
   },
   "outputs": [],
   "source": [
    "# convert back to encodign representation\n",
    "y_over = pd.DataFrame(ohe.transform(y_over.reshape(-1,1)).toarray(), \n",
    "                      columns=ohe.categories_[0], \n",
    "                      index=X_over.index)\n",
    "\n",
    "# join dataset\n",
    "df05_users_over = pd.concat([X_over, y_over], axis=1)"
   ]
  },
  {
   "cell_type": "markdown",
   "id": "7d9836fb",
   "metadata": {},
   "source": [
    "### 5.3.3. SMOTE + TOMEKLINK"
   ]
  },
  {
   "cell_type": "code",
   "execution_count": 52,
   "id": "28f4bf0c",
   "metadata": {
    "ExecuteTime": {
     "end_time": "2022-04-01T01:57:36.249435Z",
     "start_time": "2022-04-01T00:28:39.579296Z"
    }
   },
   "outputs": [],
   "source": [
    "# define sample - over-sampling using SMOTE and cleaning using Tomek Links\n",
    "combine = comb.SMOTETomek(sampling_strategy='auto', random_state=32, n_jobs=-1)\n",
    "\n",
    "# resample the dataset\n",
    "X_comb, y_comb = combine.fit_resample(df05_users.drop(columns=ohe.categories_[0]), \n",
    "                                      ohe.inverse_transform(df05_users[ohe.categories_[0]]))"
   ]
  },
  {
   "cell_type": "code",
   "execution_count": 53,
   "id": "281e74a3",
   "metadata": {
    "ExecuteTime": {
     "end_time": "2022-04-01T01:57:39.062320Z",
     "start_time": "2022-04-01T01:57:38.942852Z"
    },
    "cell_style": "split"
   },
   "outputs": [
    {
     "data": {
      "text/plain": [
       "NDF      119187\n",
       "US        60129\n",
       "other      9816\n",
       "FR         4840\n",
       "IT         2742\n",
       "GB         2259\n",
       "ES         2183\n",
       "CA         1369\n",
       "DE         1024\n",
       "NL          739\n",
       "AU          519\n",
       "PT          212\n",
       "dtype: int64"
      ]
     },
     "execution_count": 53,
     "metadata": {},
     "output_type": "execute_result"
    }
   ],
   "source": [
    "pd.DataFrame(ohe.inverse_transform(df05_users[ohe.categories_[0]])).value_counts()"
   ]
  },
  {
   "cell_type": "code",
   "execution_count": 54,
   "id": "ae39b3a3",
   "metadata": {
    "ExecuteTime": {
     "end_time": "2022-04-01T01:57:40.175998Z",
     "start_time": "2022-04-01T01:57:40.052889Z"
    },
    "cell_style": "split"
   },
   "outputs": [
    {
     "data": {
      "text/plain": [
       "NDF      119186\n",
       "PT       119178\n",
       "AU       119169\n",
       "NL       119144\n",
       "DE       119134\n",
       "CA       119098\n",
       "ES       119075\n",
       "GB       119065\n",
       "IT       119021\n",
       "FR       118828\n",
       "other    118428\n",
       "US       117914\n",
       "dtype: int64"
      ]
     },
     "execution_count": 54,
     "metadata": {},
     "output_type": "execute_result"
    }
   ],
   "source": [
    "pd.DataFrame(y_comb).value_counts()"
   ]
  },
  {
   "cell_type": "code",
   "execution_count": 55,
   "id": "42394321",
   "metadata": {
    "ExecuteTime": {
     "end_time": "2022-04-01T01:57:41.954872Z",
     "start_time": "2022-04-01T01:57:41.126556Z"
    }
   },
   "outputs": [],
   "source": [
    "# convert back to encoding representation\n",
    "y_comb = pd.DataFrame(ohe.transform(y_comb.reshape(-1,1)).toarray(), \n",
    "                      columns=ohe.categories_[0], \n",
    "                      index=X_comb.index)\n",
    "\n",
    "# join dataset\n",
    "df05_users_comb = pd.concat([X_comb, y_comb], axis=1)"
   ]
  },
  {
   "cell_type": "markdown",
   "id": "56417dc6",
   "metadata": {},
   "source": [
    "# 6.0. Feature Selection"
   ]
  },
  {
   "cell_type": "code",
   "execution_count": 63,
   "id": "bdf41034",
   "metadata": {
    "ExecuteTime": {
     "end_time": "2022-04-01T05:10:11.297984Z",
     "start_time": "2022-04-01T05:10:09.972795Z"
    }
   },
   "outputs": [],
   "source": [
    "df06_users = df05_users.copy()\n",
    "\n",
    "df06_users_under = df05_users_under.copy()\n",
    "df06_users_over = df05_users_over.copy()\n",
    "df06_users_comb = df05_users_comb.copy()"
   ]
  },
  {
   "cell_type": "markdown",
   "id": "5e58fde7",
   "metadata": {},
   "source": [
    "## 6.1. Split Dataframe into Training and Test Dataset"
   ]
  },
  {
   "cell_type": "code",
   "execution_count": 64,
   "id": "924a6eec",
   "metadata": {
    "ExecuteTime": {
     "end_time": "2022-04-01T05:10:15.125229Z",
     "start_time": "2022-04-01T05:10:13.867942Z"
    }
   },
   "outputs": [],
   "source": [
    "# training dataset\n",
    "X = df06_users.drop( columns=ohe.categories_[0] )\n",
    "X_under = df06_users_under.drop( columns=ohe.categories_[0] )\n",
    "X_over = df06_users_over.drop( columns=ohe.categories_[0] )\n",
    "X_comb = df06_users_comb.drop( columns=ohe.categories_[0] )\n",
    "\n",
    "#  training response dataset\n",
    "y = df06_users[ohe.categories_[0]]\n",
    "y_under = df06_users_under[ohe.categories_[0]]\n",
    "y_over = df06_users_over[ohe.categories_[0]]\n",
    "y_comb = df06_users_comb[ohe.categories_[0]]"
   ]
  },
  {
   "cell_type": "code",
   "execution_count": 65,
   "id": "dc808adb",
   "metadata": {
    "ExecuteTime": {
     "end_time": "2022-04-01T05:10:22.703674Z",
     "start_time": "2022-04-01T05:10:17.311477Z"
    }
   },
   "outputs": [],
   "source": [
    "# Split dataset into training and test (validation)\n",
    "X_train, X_test, y_train, y_test = ms.train_test_split(X, y, test_size=0.2, random_state=32)\n",
    "\n",
    "X_train_under, X_test_under, y_train_under, y_test_under = ms.train_test_split(X_under, y_under, test_size=0.2, random_state=32)\n",
    "\n",
    "X_train_over, X_test_over, y_train_over, y_test_over = ms.train_test_split(X_over, y_over, test_size=0.2, random_state=32)\n",
    "\n",
    "X_train_comb, X_test_comb, y_train_comb, y_test_comb = ms.train_test_split(X_comb, y_comb, test_size=0.2, random_state=32)"
   ]
  },
  {
   "cell_type": "markdown",
   "id": "66907bb8",
   "metadata": {
    "heading_collapsed": true
   },
   "source": [
    "## 6.2. Balanced Dataset"
   ]
  },
  {
   "cell_type": "markdown",
   "id": "fd6e27db",
   "metadata": {
    "hidden": true
   },
   "source": [
    "### 6.2.1. Random Undersampling"
   ]
  },
  {
   "cell_type": "code",
   "execution_count": null,
   "id": "6db51f29",
   "metadata": {
    "ExecuteTime": {
     "end_time": "2022-04-01T01:57:43.501492Z",
     "start_time": "2022-04-01T01:57:43.501492Z"
    },
    "hidden": true
   },
   "outputs": [],
   "source": [
    "# # define sampler - random under-sampling\n",
    "# undersampling = us.RandomUnderSampler(sampling_strategy='not minority', random_state=32)\n",
    "\n",
    "# # resample the dataset\n",
    "# X_train_under, y_train_under = undersampling.fit_resample(X_train, ohe.inverse_transform(y_train))"
   ]
  },
  {
   "cell_type": "code",
   "execution_count": null,
   "id": "8a979140",
   "metadata": {
    "ExecuteTime": {
     "end_time": "2022-04-01T00:23:39.989784Z",
     "start_time": "2022-04-01T00:23:39.989784Z"
    },
    "cell_style": "split",
    "hidden": true
   },
   "outputs": [],
   "source": [
    "# pd.DataFrame(ohe.inverse_transform(y_train)).value_counts()"
   ]
  },
  {
   "cell_type": "code",
   "execution_count": null,
   "id": "cc6b64c2",
   "metadata": {
    "ExecuteTime": {
     "end_time": "2022-04-01T00:23:39.993781Z",
     "start_time": "2022-04-01T00:23:39.993781Z"
    },
    "cell_style": "split",
    "hidden": true
   },
   "outputs": [],
   "source": [
    "# pd.DataFrame(y_train_under).value_counts()"
   ]
  },
  {
   "cell_type": "code",
   "execution_count": null,
   "id": "bc68ae16",
   "metadata": {
    "ExecuteTime": {
     "end_time": "2022-04-01T00:23:39.996782Z",
     "start_time": "2022-04-01T00:23:39.996782Z"
    },
    "hidden": true
   },
   "outputs": [],
   "source": [
    "# # convert back to encoding representation\n",
    "# y_train_under = pd.DataFrame(ohe.transform(y_train_under.reshape(-1,1)).toarray(), \n",
    "#                              columns=ohe.categories_[0], \n",
    "#                              index=X_train_under.index)"
   ]
  },
  {
   "cell_type": "markdown",
   "id": "5a38defb",
   "metadata": {
    "hidden": true
   },
   "source": [
    "### 6.2.2. Random Oversampling"
   ]
  },
  {
   "cell_type": "code",
   "execution_count": null,
   "id": "6578d216",
   "metadata": {
    "ExecuteTime": {
     "end_time": "2022-04-01T00:23:40.000787Z",
     "start_time": "2022-04-01T00:23:40.000787Z"
    },
    "hidden": true
   },
   "outputs": [],
   "source": [
    "# # define sampler - random over-sampling\n",
    "# oversampling = osamp.RandomOverSampler(sampling_strategy='not majority', random_state=32)\n",
    "\n",
    "# # resample the dataset\n",
    "# X_train_over, y_train_over = oversampling.fit_resample(X_train, ohe.inverse_transform(y_train))"
   ]
  },
  {
   "cell_type": "code",
   "execution_count": null,
   "id": "2de858e8",
   "metadata": {
    "ExecuteTime": {
     "end_time": "2022-04-01T00:23:40.003786Z",
     "start_time": "2022-04-01T00:23:40.003786Z"
    },
    "cell_style": "split",
    "hidden": true
   },
   "outputs": [],
   "source": [
    "# pd.DataFrame(ohe.inverse_transform(y_train)).value_counts()"
   ]
  },
  {
   "cell_type": "code",
   "execution_count": null,
   "id": "74f243f6",
   "metadata": {
    "ExecuteTime": {
     "end_time": "2022-04-01T00:23:40.006781Z",
     "start_time": "2022-04-01T00:23:40.006781Z"
    },
    "cell_style": "split",
    "hidden": true
   },
   "outputs": [],
   "source": [
    "# pd.DataFrame(y_train_over).value_counts()"
   ]
  },
  {
   "cell_type": "code",
   "execution_count": null,
   "id": "12f404ac",
   "metadata": {
    "ExecuteTime": {
     "end_time": "2022-04-01T00:23:40.009778Z",
     "start_time": "2022-04-01T00:23:40.009778Z"
    },
    "hidden": true
   },
   "outputs": [],
   "source": [
    "# # convert back to encoding representation\n",
    "# y_train_over = pd.DataFrame(ohe.transform(y_train_over.reshape(-1,1)).toarray(), \n",
    "#                             columns=ohe.categories_[0], \n",
    "#                             index=X_train_over.index)"
   ]
  },
  {
   "cell_type": "markdown",
   "id": "458ad28f",
   "metadata": {
    "hidden": true
   },
   "source": [
    "### 6.2.3. SMOTE + TOMEKLINK"
   ]
  },
  {
   "cell_type": "code",
   "execution_count": null,
   "id": "299b6f3c",
   "metadata": {
    "ExecuteTime": {
     "end_time": "2022-04-01T00:23:40.012784Z",
     "start_time": "2022-04-01T00:23:40.012784Z"
    },
    "hidden": true
   },
   "outputs": [],
   "source": [
    "# # define sampler - over-sampling using SMOTE and cleaning using Tomek links\n",
    "# combine = comb.SMOTETomek(sampling_strategy='auto', random_state=32, n_jobs=-1)\n",
    "\n",
    "# # resample the dataset\n",
    "# X_train_comb, y_train_comb = combine.fit_resample(X_train, ohe.inverse_transform(y_train))"
   ]
  },
  {
   "cell_type": "code",
   "execution_count": null,
   "id": "6fa18654",
   "metadata": {
    "ExecuteTime": {
     "end_time": "2022-04-01T00:23:40.015781Z",
     "start_time": "2022-04-01T00:23:40.015781Z"
    },
    "cell_style": "split",
    "hidden": true
   },
   "outputs": [],
   "source": [
    "# pd.DataFrame(ohe.inverse_transform(y_train)).value_counts()"
   ]
  },
  {
   "cell_type": "code",
   "execution_count": null,
   "id": "01785467",
   "metadata": {
    "ExecuteTime": {
     "end_time": "2022-04-01T00:23:40.018783Z",
     "start_time": "2022-04-01T00:23:40.018783Z"
    },
    "cell_style": "split",
    "hidden": true,
    "scrolled": true
   },
   "outputs": [],
   "source": [
    "# pd.DataFrame(y_train_comb).value_counts()"
   ]
  },
  {
   "cell_type": "code",
   "execution_count": null,
   "id": "21ece2e7",
   "metadata": {
    "ExecuteTime": {
     "end_time": "2022-04-01T00:23:40.022791Z",
     "start_time": "2022-04-01T00:23:40.022791Z"
    },
    "hidden": true
   },
   "outputs": [],
   "source": [
    "# # convert back to encoding representation\n",
    "# y_train_comb = pd.DataFrame(ohe.transform(y_train_comb.reshape(-1,1)).toarray(), \n",
    "#                             columns=ohe.categories_[0], \n",
    "#                             index=X_train_comb.index)"
   ]
  },
  {
   "cell_type": "markdown",
   "id": "c9ee0881",
   "metadata": {},
   "source": [
    "# 7.0. Machine Learing Model"
   ]
  },
  {
   "cell_type": "code",
   "execution_count": 66,
   "id": "b9dfd8fe",
   "metadata": {
    "ExecuteTime": {
     "end_time": "2022-04-01T05:10:36.773788Z",
     "start_time": "2022-04-01T05:10:36.737790Z"
    }
   },
   "outputs": [],
   "source": [
    "# imbalanced dataset\n",
    "x_train = X_train\n",
    "x_test = X_test\n",
    "\n",
    "# random undersampling\n",
    "x_train_under = X_train_under\n",
    "x_test_under = X_test_under\n",
    "\n",
    "# random oversampling\n",
    "x_train_over = X_train_over\n",
    "x_test_over = X_test_over\n",
    "\n",
    "# SMOTE + Tomek Links\n",
    "x_train_comb = X_train_comb\n",
    "x_test_comb = X_test_comb"
   ]
  },
  {
   "cell_type": "markdown",
   "id": "b3107f01",
   "metadata": {},
   "source": [
    "## 7.1. Baseline Model - Random"
   ]
  },
  {
   "cell_type": "code",
   "execution_count": 67,
   "id": "c5ee811a",
   "metadata": {
    "ExecuteTime": {
     "end_time": "2022-04-01T05:10:40.173148Z",
     "start_time": "2022-04-01T05:10:39.859661Z"
    }
   },
   "outputs": [],
   "source": [
    "# list of country destination\n",
    "country_list = ohe.categories_[0].tolist()\n",
    "\n",
    "# number of rows\n",
    "k_num = y_test.shape[0]\n",
    "\n",
    "# proportion of country destinations for imbalanced result\n",
    "df_ohe = pd.DataFrame(ohe.inverse_transform(df06_users[ohe.categories_[0]]))\n",
    "country_weights = df_ohe.value_counts(normalize=True).sort_index().tolist()\n",
    "\n",
    "# prediction\n",
    "yhat_random = random.choices(population=country_list,\n",
    "                             weights=country_weights,\n",
    "                             k=k_num)\n",
    "\n",
    "# invert validation response\n",
    "y_test_random = ohe.inverse_transform(y_test)"
   ]
  },
  {
   "cell_type": "markdown",
   "id": "1645a305",
   "metadata": {},
   "source": [
    "### 7.1.1. Baseline Model - Performance"
   ]
  },
  {
   "cell_type": "code",
   "execution_count": 68,
   "id": "d032e4c1",
   "metadata": {
    "ExecuteTime": {
     "end_time": "2022-04-01T05:10:48.082607Z",
     "start_time": "2022-04-01T05:10:45.365650Z"
    }
   },
   "outputs": [
    {
     "name": "stdout",
     "output_type": "stream",
     "text": [
      "Accuracy 0.42893376255975024\n",
      "Balanced Accuracy: 0.0846614183431877\n",
      "Kappa Score: 0.005919577825187261\n",
      "              precision    recall  f1-score   support\n",
      "\n",
      "          AU       0.00      0.00      0.00        98\n",
      "          CA       0.01      0.01      0.01       283\n",
      "          DE       0.01      0.01      0.01       227\n",
      "          ES       0.01      0.01      0.01       433\n",
      "          FR       0.03      0.03      0.03       963\n",
      "          GB       0.01      0.01      0.01       469\n",
      "          IT       0.02      0.02      0.02       539\n",
      "         NDF       0.58      0.59      0.58     23643\n",
      "          NL       0.01      0.01      0.01       156\n",
      "          PT       0.00      0.00      0.00        36\n",
      "          US       0.30      0.29      0.30     12192\n",
      "       other       0.05      0.05      0.05      1965\n",
      "\n",
      "    accuracy                           0.43     41004\n",
      "   macro avg       0.08      0.08      0.08     41004\n",
      "weighted avg       0.43      0.43      0.43     41004\n",
      "\n"
     ]
    },
    {
     "data": {
      "image/png": "[encoded data removed]",
      "text/plain": [
       "<Figure size 864x864 with 2 Axes>"
      ]
     },
     "metadata": {
      "needs_background": "light"
     },
     "output_type": "display_data"
    }
   ],
   "source": [
    "# Accuracy\n",
    "acc_random = m.accuracy_score( y_test_random, yhat_random )\n",
    "print(f'Accuracy {acc_random}')\n",
    "\n",
    "# Balanced Accuracy\n",
    "balanced_acc_random = m.balanced_accuracy_score(y_test_random, yhat_random)\n",
    "print(f'Balanced Accuracy: {balanced_acc_random}')\n",
    "\n",
    "# Kappa Metrics\n",
    "kappa_random = m.cohen_kappa_score(y_test_random, yhat_random)\n",
    "print(f'Kappa Score: {kappa_random}')\n",
    "\n",
    "# Classification report\n",
    "print(m.classification_report(y_test_random, yhat_random))\n",
    "\n",
    "# Confusion Matrix\n",
    "mt.plot_confusion_matrix(y_test_random, yhat_random, normalize=False, figsize=(12,12));\n",
    "\n",
    "# Performance\n",
    "baseline_performance = {'model': 'Baseline Model',\n",
    "                        'acc': acc_random,\n",
    "                        'balanced_acc': balanced_acc_random,\n",
    "                        'kappa_store': kappa_random}"
   ]
  },
  {
   "cell_type": "markdown",
   "id": "74175f4b",
   "metadata": {},
   "source": [
    "## 7.2. Neural Network - MLP"
   ]
  },
  {
   "cell_type": "markdown",
   "id": "e8dc916b",
   "metadata": {},
   "source": [
    "### 7.2.1. Imbalanced Data"
   ]
  },
  {
   "cell_type": "code",
   "execution_count": 69,
   "id": "30d43bed",
   "metadata": {
    "ExecuteTime": {
     "end_time": "2022-04-01T05:26:15.280913Z",
     "start_time": "2022-04-01T05:10:52.093847Z"
    },
    "scrolled": true
   },
   "outputs": [
    {
     "name": "stdout",
     "output_type": "stream",
     "text": [
      "Epoch 1/100\n",
      "5126/5126 [==============================] - 7s 1ms/step - loss: 3.4670 - accuracy: 0.8023\n",
      "Epoch 2/100\n",
      "5126/5126 [==============================] - 7s 1ms/step - loss: 1.2658 - accuracy: 0.8208: 0s - loss: 1.292\n",
      "Epoch 3/100\n",
      "5126/5126 [==============================] - 7s 1ms/step - loss: 0.8217 - accuracy: 0.8402\n",
      "Epoch 4/100\n",
      "5126/5126 [==============================] - 6s 1ms/step - loss: 0.5962 - accuracy: 0.8606\n",
      "Epoch 5/100\n",
      "5126/5126 [==============================] - 7s 1ms/step - loss: 0.5147 - accuracy: 0.8723\n",
      "Epoch 6/100\n",
      "5126/5126 [==============================] - 7s 1ms/step - loss: 0.4990 - accuracy: 0.8732\n",
      "Epoch 7/100\n",
      "5126/5126 [==============================] - 7s 1ms/step - loss: 0.4977 - accuracy: 0.8738\n",
      "Epoch 8/100\n",
      "5126/5126 [==============================] - 6s 1ms/step - loss: 0.4942 - accuracy: 0.8741\n",
      "Epoch 9/100\n",
      "5126/5126 [==============================] - 6s 1ms/step - loss: 0.4943 - accuracy: 0.8741\n",
      "Epoch 10/100\n",
      "5126/5126 [==============================] - 10s 2ms/step - loss: 0.4928 - accuracy: 0.8743\n",
      "Epoch 11/100\n",
      "5126/5126 [==============================] - 12s 2ms/step - loss: 0.4927 - accuracy: 0.8744  - ETA: 1s - - ETA: 0s - loss: 0.4924 - ac\n",
      "Epoch 12/100\n",
      "5126/5126 [==============================] - 10s 2ms/step - loss: 0.4924 - accuracy: 0.8743 0s - loss: 0.492 - ETA: 0s - loss: 0.4932 \n",
      "Epoch 13/100\n",
      "5126/5126 [==============================] - 13s 3ms/step - loss: 0.4922 - accuracy: 0.8744 0s - loss: 0.4918 - ac\n",
      "Epoch 14/100\n",
      "5126/5126 [==============================] - 14s 3ms/step - loss: 0.4919 - accuracy: 0.8744\n",
      "Epoch 15/100\n",
      "5126/5126 [==============================] - 12s 2ms/step - loss: 0.4910 - accuracy: 0.8744 0s - los\n",
      "Epoch 16/100\n",
      "5126/5126 [==============================] - 12s 2ms/step - loss: 0.4910 - accuracy: 0.8744\n",
      "Epoch 17/100\n",
      "5126/5126 [==============================] - 13s 2ms/step - loss: 0.4919 - accuracy: 0.8745\n",
      "Epoch 18/100\n",
      "5126/5126 [==============================] - 11s 2ms/step - loss: 0.4890 - accuracy: 0.8744\n",
      "Epoch 19/100\n",
      "5126/5126 [==============================] - 11s 2ms/step - loss: 0.4884 - accuracy: 0.8745\n",
      "Epoch 20/100\n",
      "5126/5126 [==============================] - 13s 3ms/step - loss: 0.4884 - accuracy: 0.8745\n",
      "Epoch 21/100\n",
      "5126/5126 [==============================] - 12s 2ms/step - loss: 0.4884 - accuracy: 0.8745\n",
      "Epoch 22/100\n",
      "5126/5126 [==============================] - 12s 2ms/step - loss: 0.4881 - accuracy: 0.8746 4s - loss: - ETA: 3s - los - ETA: 3s - loss: 0.4889 - accuracy: 0.87 - ETA: 3s - loss: 0 - ETA: 2s - loss: 0.4 - ETA: 0s - l\n",
      "Epoch 23/100\n",
      "5126/5126 [==============================] - 9s 2ms/step - loss: 0.4885 - accuracy: 0.8745\n",
      "Epoch 24/100\n",
      "5126/5126 [==============================] - 9s 2ms/step - loss: 0.4880 - accuracy: 0.8745\n",
      "Epoch 25/100\n",
      "5126/5126 [==============================] - 8s 2ms/step - loss: 0.4880 - accuracy: 0.8746: 1s - ETA: 0s - loss: 0.4878 - accuracy\n",
      "Epoch 26/100\n",
      "5126/5126 [==============================] - 9s 2ms/step - loss: 0.4880 - accuracy: 0.8744\n",
      "Epoch 27/100\n",
      "5126/5126 [==============================] - 8s 2ms/step - loss: 0.4876 - accuracy: 0.8746\n",
      "Epoch 28/100\n",
      "5126/5126 [==============================] - 9s 2ms/step - loss: 0.4878 - accuracy: 0.8745: 3s - los\n",
      "Epoch 29/100\n",
      "5126/5126 [==============================] - 8s 2ms/step - loss: 0.4879 - accuracy: 0.8745\n",
      "Epoch 30/100\n",
      "5126/5126 [==============================] - 9s 2ms/step - loss: 0.4874 - accuracy: 0.8746\n",
      "Epoch 31/100\n",
      "5126/5126 [==============================] - 9s 2ms/step - loss: 0.4881 - accuracy: 0.8745\n",
      "Epoch 32/100\n",
      "5126/5126 [==============================] - 8s 2ms/step - loss: 0.4882 - accuracy: 0.8746: 0s - loss: 0.4881 - accuracy: 0.\n",
      "Epoch 33/100\n",
      "5126/5126 [==============================] - 8s 2ms/step - loss: 0.4876 - accuracy: 0.8746\n",
      "Epoch 34/100\n",
      "5126/5126 [==============================] - 9s 2ms/step - loss: 0.4886 - accuracy: 0.8745\n",
      "Epoch 35/100\n",
      "5126/5126 [==============================] - 9s 2ms/step - loss: 0.4875 - accuracy: 0.8746\n",
      "Epoch 36/100\n",
      "5126/5126 [==============================] - 8s 2ms/step - loss: 0.4879 - accuracy: 0.8746\n",
      "Epoch 37/100\n",
      "5126/5126 [==============================] - 8s 2ms/step - loss: 0.4878 - accuracy: 0.8745\n",
      "Epoch 38/100\n",
      "5126/5126 [==============================] - 9s 2ms/step - loss: 0.4877 - accuracy: 0.8746: 0s - loss: 0.4883 - \n",
      "Epoch 39/100\n",
      "5126/5126 [==============================] - 9s 2ms/step - loss: 0.4879 - accuracy: 0.8746\n",
      "Epoch 40/100\n",
      "5126/5126 [==============================] - 9s 2ms/step - loss: 0.4876 - accuracy: 0.8746: 0s - loss: 0.4879 - accuracy - ETA: 0s - loss: 0.4876 - accuracy: \n",
      "Epoch 41/100\n",
      "5126/5126 [==============================] - 11s 2ms/step - loss: 0.4877 - accuracy: 0.8746\n",
      "Epoch 42/100\n",
      "5126/5126 [==============================] - 9s 2ms/step - loss: 0.4878 - accuracy: 0.8746\n",
      "Epoch 43/100\n",
      "5126/5126 [==============================] - 8s 2ms/step - loss: 0.4874 - accuracy: 0.8746\n",
      "Epoch 44/100\n",
      "5126/5126 [==============================] - 10s 2ms/step - loss: 0.4875 - accuracy: 0.8746\n",
      "Epoch 45/100\n",
      "5126/5126 [==============================] - 17s 3ms/step - loss: 0.4877 - accuracy: 0.8746 0s - loss: 0.4878 - accuracy: 0.87 - ETA: 0s - loss: 0.4879 - accuracy: 0.\n",
      "Epoch 46/100\n",
      "5126/5126 [==============================] - 13s 2ms/step - loss: 0.4874 - accuracy: 0.8746 1s - loss: 0.4876 - accu - ETA: 0s - loss: 0.488 - ETA: 0s - loss: 0.4880 - accuracy: \n",
      "Epoch 47/100\n",
      "5126/5126 [==============================] - 10s 2ms/step - loss: 0.4879 - accuracy: 0.8745\n",
      "Epoch 48/100\n",
      "5126/5126 [==============================] - 8s 2ms/step - loss: 0.4886 - accuracy: 0.8745\n",
      "Epoch 49/100\n",
      "5126/5126 [==============================] - 8s 2ms/step - loss: 0.4873 - accuracy: 0.8746\n",
      "Epoch 50/100\n",
      "5126/5126 [==============================] - 12s 2ms/step - loss: 0.4873 - accuracy: 0.8747\n",
      "Epoch 51/100\n",
      "5126/5126 [==============================] - 9s 2ms/step - loss: 0.4875 - accuracy: 0.8746\n",
      "Epoch 52/100\n",
      "5126/5126 [==============================] - 7s 1ms/step - loss: 0.4878 - accuracy: 0.8746\n",
      "Epoch 53/100\n",
      "5126/5126 [==============================] - 9s 2ms/step - loss: 0.4874 - accuracy: 0.8746: 0s - loss: 0.4875 - accu\n",
      "Epoch 54/100\n",
      "5126/5126 [==============================] - 9s 2ms/step - loss: 0.4894 - accuracy: 0.8745\n",
      "Epoch 55/100\n",
      "5126/5126 [==============================] - 7s 1ms/step - loss: 0.4875 - accuracy: 0.8746\n",
      "Epoch 56/100\n",
      "5126/5126 [==============================] - 8s 1ms/step - loss: 0.4882 - accuracy: 0.8746\n",
      "Epoch 57/100\n",
      "5126/5126 [==============================] - 9s 2ms/step - loss: 0.4873 - accuracy: 0.8746\n",
      "Epoch 58/100\n",
      "5126/5126 [==============================] - 8s 2ms/step - loss: 0.4877 - accuracy: 0.8747: 0s - loss: 0.4876 - accuracy: 0.\n",
      "Epoch 59/100\n",
      "5126/5126 [==============================] - 8s 2ms/step - loss: 0.4873 - accuracy: 0.8746\n",
      "Epoch 60/100\n",
      "5126/5126 [==============================] - 11s 2ms/step - loss: 0.4878 - accuracy: 0.8746\n",
      "Epoch 61/100\n",
      "5126/5126 [==============================] - 11s 2ms/step - loss: 0.4879 - accuracy: 0.8746\n",
      "Epoch 62/100\n",
      "5126/5126 [==============================] - 11s 2ms/step - loss: 0.4874 - accuracy: 0.8747\n",
      "Epoch 63/100\n",
      "5126/5126 [==============================] - 6s 1ms/step - loss: 0.4877 - accuracy: 0.8747\n",
      "Epoch 64/100\n",
      "5126/5126 [==============================] - 6s 1ms/step - loss: 0.4873 - accuracy: 0.8746\n",
      "Epoch 65/100\n",
      "5126/5126 [==============================] - 5s 1ms/step - loss: 0.4877 - accuracy: 0.8746\n",
      "Epoch 66/100\n",
      "5126/5126 [==============================] - 9s 2ms/step - loss: 0.4877 - accuracy: 0.8746\n",
      "Epoch 67/100\n",
      "5126/5126 [==============================] - 14s 3ms/step - loss: 0.4872 - accuracy: 0.8746 3s - loss:\n",
      "Epoch 68/100\n",
      "5126/5126 [==============================] - ETA: 0s - loss: 0.4873 - accuracy: 0.8747 E - 10s 2ms/step - loss: 0.4873 - accuracy: 0.8746\n",
      "Epoch 69/100\n",
      "5126/5126 [==============================] - 10s 2ms/step - loss: 0.4878 - accuracy: 0.8746 2s - loss: 0.4893 -  - ETA: 0s - loss: 0.4881 - ac\n",
      "Epoch 70/100\n",
      "5126/5126 [==============================] - 14s 3ms/step - loss: 0.4878 - accuracy: 0.8746\n",
      "Epoch 71/100\n",
      "5126/5126 [==============================] - 13s 3ms/step - loss: 0.4879 - accuracy: 0.8746\n",
      "Epoch 72/100\n",
      "5126/5126 [==============================] - 8s 2ms/step - loss: 0.4872 - accuracy: 0.8747\n",
      "Epoch 73/100\n",
      "5126/5126 [==============================] - 16s 3ms/step - loss: 0.4877 - accuracy: 0.8746A: 11s - lo - ETA: 10s - loss: 0.4877 - accuracy - ETA: 10s - loss: 0.4882 - accur - E - E - ETA: 1s - loss:\n",
      "Epoch 74/100\n",
      "5126/5126 [==============================] - 9s 2ms/step - loss: 0.4872 - accuracy: 0.8747\n",
      "Epoch 75/100\n",
      "5126/5126 [==============================] - 7s 1ms/step - loss: 0.4879 - accuracy: 0.8746\n",
      "Epoch 76/100\n",
      "5126/5126 [==============================] - 10s 2ms/step - loss: 0.4873 - accuracy: 0.8747\n",
      "Epoch 77/100\n",
      "5126/5126 [==============================] - 7s 1ms/step - loss: 0.4871 - accuracy: 0.8747\n",
      "Epoch 78/100\n",
      "5126/5126 [==============================] - 8s 2ms/step - loss: 0.4879 - accuracy: 0.8746\n",
      "Epoch 79/100\n",
      "5126/5126 [==============================] - 7s 1ms/step - loss: 0.4873 - accuracy: 0.8747\n",
      "Epoch 80/100\n",
      "5126/5126 [==============================] - 8s 2ms/step - loss: 0.4871 - accuracy: 0.8747\n",
      "Epoch 81/100\n",
      "5126/5126 [==============================] - 9s 2ms/step - loss: 0.4872 - accuracy: 0.8747\n",
      "Epoch 82/100\n",
      "5126/5126 [==============================] - 8s 2ms/step - loss: 0.4873 - accuracy: 0.8746\n",
      "Epoch 83/100\n",
      "5126/5126 [==============================] - 7s 1ms/step - loss: 0.4882 - accuracy: 0.8746\n",
      "Epoch 84/100\n",
      "5126/5126 [==============================] - 8s 2ms/step - loss: 0.4870 - accuracy: 0.8747\n",
      "Epoch 85/100\n",
      "5126/5126 [==============================] - 8s 2ms/step - loss: 0.4889 - accuracy: 0.8745\n",
      "Epoch 86/100\n",
      "5126/5126 [==============================] - 9s 2ms/step - loss: 0.4871 - accuracy: 0.8747\n",
      "Epoch 87/100\n",
      "5126/5126 [==============================] - 7s 1ms/step - loss: 0.4879 - accuracy: 0.8746\n",
      "Epoch 88/100\n",
      "5126/5126 [==============================] - 8s 2ms/step - loss: 0.4872 - accuracy: 0.8746\n",
      "Epoch 89/100\n",
      "5126/5126 [==============================] - 7s 1ms/step - loss: 0.4876 - accuracy: 0.8747\n",
      "Epoch 90/100\n",
      "5126/5126 [==============================] - 8s 2ms/step - loss: 0.4877 - accuracy: 0.8746\n",
      "Epoch 91/100\n",
      "5126/5126 [==============================] - 7s 1ms/step - loss: 0.4872 - accuracy: 0.8747\n",
      "Epoch 92/100\n",
      "5126/5126 [==============================] - 8s 1ms/step - loss: 0.4873 - accuracy: 0.8747\n",
      "Epoch 93/100\n",
      "5126/5126 [==============================] - 8s 1ms/step - loss: 0.4871 - accuracy: 0.8747\n",
      "Epoch 94/100\n",
      "5126/5126 [==============================] - 7s 1ms/step - loss: 0.4876 - accuracy: 0.8746: 0s - los\n",
      "Epoch 95/100\n",
      "5126/5126 [==============================] - 8s 2ms/step - loss: 0.4874 - accuracy: 0.8746\n",
      "Epoch 96/100\n",
      "5126/5126 [==============================] - 7s 1ms/step - loss: 0.4875 - accuracy: 0.8746\n",
      "Epoch 97/100\n",
      "5126/5126 [==============================] - 8s 2ms/step - loss: 0.4887 - accuracy: 0.8745\n",
      "Epoch 98/100\n",
      "5126/5126 [==============================] - 7s 1ms/step - loss: 0.4898 - accuracy: 0.8744\n",
      "Epoch 99/100\n",
      "5126/5126 [==============================] - 8s 2ms/step - loss: 0.4869 - accuracy: 0.8747\n",
      "Epoch 100/100\n",
      "5126/5126 [==============================] - 7s 1ms/step - loss: 0.4874 - accuracy: 0.8747\n"
     ]
    },
    {
     "data": {
      "text/plain": [
       "<tensorflow.python.keras.callbacks.History at 0x138fe6022e0>"
      ]
     },
     "execution_count": 69,
     "metadata": {},
     "output_type": "execute_result"
    }
   ],
   "source": [
    "# model definition\n",
    "model_nn = ml.Sequential()\n",
    "model_nn.add( l.Dense(128, input_dim=x_train.shape[1], activation='relu') )\n",
    "model_nn.add( l.Dense(12, activation='softmax') )\n",
    "\n",
    "# model compile\n",
    "model_nn.compile(loss='categorical_crossentropy', optimizer='adam', metrics=['accuracy'])\n",
    "\n",
    "# train model\n",
    "model_nn.fit(x_train, y_train, epochs=100)"
   ]
  },
  {
   "cell_type": "markdown",
   "id": "237b79dd",
   "metadata": {},
   "source": [
    "#### 7.2.1.1. Imbalanced Data - Perfomance"
   ]
  },
  {
   "cell_type": "code",
   "execution_count": 70,
   "id": "011ae8ef",
   "metadata": {
    "ExecuteTime": {
     "end_time": "2022-04-01T05:26:25.369752Z",
     "start_time": "2022-04-01T05:26:20.185535Z"
    }
   },
   "outputs": [],
   "source": [
    "# prediction\n",
    "pred_nn = model_nn.predict(x_test)\n",
    "\n",
    "# invert prediction\n",
    "yhat_nn = ohe.inverse_transform(pred_nn)\n",
    "\n",
    "# invert validation response\n",
    "y_test_nn = ohe.inverse_transform(y_test)"
   ]
  },
  {
   "cell_type": "code",
   "execution_count": 71,
   "id": "114a32a6",
   "metadata": {
    "ExecuteTime": {
     "end_time": "2022-04-01T05:26:29.256013Z",
     "start_time": "2022-04-01T05:26:29.213014Z"
    },
    "cell_style": "split"
   },
   "outputs": [
    {
     "data": {
      "text/plain": [
       "NDF      0.576602\n",
       "US       0.297337\n",
       "other    0.047922\n",
       "FR       0.023486\n",
       "IT       0.013145\n",
       "GB       0.011438\n",
       "ES       0.010560\n",
       "CA       0.006902\n",
       "DE       0.005536\n",
       "NL       0.003805\n",
       "AU       0.002390\n",
       "PT       0.000878\n",
       "dtype: float64"
      ]
     },
     "execution_count": 71,
     "metadata": {},
     "output_type": "execute_result"
    }
   ],
   "source": [
    "# check the balance of validation\n",
    "pd.DataFrame(y_test_nn).value_counts(normalize=True)"
   ]
  },
  {
   "cell_type": "code",
   "execution_count": 72,
   "id": "0f304732",
   "metadata": {
    "ExecuteTime": {
     "end_time": "2022-04-01T05:26:33.059060Z",
     "start_time": "2022-04-01T05:26:33.031424Z"
    },
    "cell_style": "split"
   },
   "outputs": [
    {
     "data": {
      "text/plain": [
       "NDF    0.576627\n",
       "US     0.423373\n",
       "dtype: float64"
      ]
     },
     "execution_count": 72,
     "metadata": {},
     "output_type": "execute_result"
    }
   ],
   "source": [
    "# check the balance of result\n",
    "pd.DataFrame(yhat_nn).value_counts(normalize=True)"
   ]
  },
  {
   "cell_type": "code",
   "execution_count": 73,
   "id": "f50260d5",
   "metadata": {
    "ExecuteTime": {
     "end_time": "2022-04-01T05:26:41.968305Z",
     "start_time": "2022-04-01T05:26:37.386156Z"
    }
   },
   "outputs": [
    {
     "name": "stdout",
     "output_type": "stream",
     "text": [
      "Accuracy: 0.8739147400253634\n",
      "Balanced Accuracy: 0.16665983158355205\n",
      "Kappa Score: 0.7672119939094182\n",
      "              precision    recall  f1-score   support\n",
      "\n",
      "          AU       0.00      0.00      0.00        98\n",
      "          CA       0.00      0.00      0.00       283\n",
      "          DE       0.00      0.00      0.00       227\n",
      "          ES       0.00      0.00      0.00       433\n",
      "          FR       0.00      0.00      0.00       963\n",
      "          GB       0.00      0.00      0.00       469\n",
      "          IT       0.00      0.00      0.00       539\n",
      "         NDF       1.00      1.00      1.00     23643\n",
      "          NL       0.00      0.00      0.00       156\n",
      "          PT       0.00      0.00      0.00        36\n",
      "          US       0.70      1.00      0.83     12192\n",
      "       other       0.00      0.00      0.00      1965\n",
      "\n",
      "    accuracy                           0.87     41004\n",
      "   macro avg       0.14      0.17      0.15     41004\n",
      "weighted avg       0.79      0.87      0.82     41004\n",
      "\n"
     ]
    },
    {
     "data": {
      "image/png": "[encoded data removed]",
      "text/plain": [
       "<Figure size 864x864 with 2 Axes>"
      ]
     },
     "metadata": {
      "needs_background": "light"
     },
     "output_type": "display_data"
    }
   ],
   "source": [
    "# Accuracy\n",
    "acc_nn = m.accuracy_score( y_test_nn, yhat_nn )\n",
    "print(f'Accuracy: {acc_nn}')\n",
    "\n",
    "# Balanced Accuracy\n",
    "balanced_acc_nn = m.balanced_accuracy_score(y_test_nn, yhat_nn)\n",
    "print(f'Balanced Accuracy: {balanced_acc_nn}')\n",
    "\n",
    "# Kappa Metrics\n",
    "kappa_nn = m.cohen_kappa_score(y_test_nn, yhat_nn)\n",
    "print(f'Kappa Score: {kappa_nn}')\n",
    "\n",
    "# Classification report\n",
    "print(m.classification_report(y_test_nn, yhat_nn))\n",
    "\n",
    "# Confusion Matrix\n",
    "mt.plot_confusion_matrix( y_test_nn, yhat_nn, normalize=False, figsize=(12,12));\n",
    "\n",
    "# Performance\n",
    "imb_performance = {'model': 'NN Model - Imbalanced Data', \n",
    "                   'acc': np.round(acc_nn, 6), \n",
    "                   'balanced_acc': np.round(balanced_acc_nn, 6), \n",
    "                   'kappa_score': np.round(kappa_nn, 6)}"
   ]
  },
  {
   "cell_type": "markdown",
   "id": "83944aa8",
   "metadata": {},
   "source": [
    "#### 7.2.1.2. Imbalanced Data - Cross-Validation"
   ]
  },
  {
   "cell_type": "code",
   "execution_count": 92,
   "id": "34633d91",
   "metadata": {
    "ExecuteTime": {
     "end_time": "2022-04-01T07:56:09.200030Z",
     "start_time": "2022-04-01T07:29:02.082459Z"
    }
   },
   "outputs": [
    {
     "name": "stdout",
     "output_type": "stream",
     "text": [
      "Fold Number:1/5\n",
      "Fold Number:2/5\n",
      "Fold Number:3/5\n",
      "Fold Number:4/5\n",
      "Fold Number:5/5\n"
     ]
    }
   ],
   "source": [
    "# cross validation performance\n",
    "acc_nn, balanced_acc_nn, kappa_nn = cross_validation(num_fold=5, \n",
    "                                                     x_train=x_train, \n",
    "                                                     y_train=y_train, \n",
    "                                                     model=model_nn, \n",
    "                                                     verbose=True)"
   ]
  },
  {
   "cell_type": "code",
   "execution_count": 93,
   "id": "669ceb0f",
   "metadata": {
    "ExecuteTime": {
     "end_time": "2022-04-01T07:56:12.235098Z",
     "start_time": "2022-04-01T07:56:12.209045Z"
    }
   },
   "outputs": [],
   "source": [
    "# Performance\n",
    "imb_performance_cv = {'model': 'NN Model - Imbalanced Data - CV',\n",
    "                        'acc': f'{np.round(np.mean(acc_nn), 2)} +/- {np.round(np.std(acc_nn), 4)}',\n",
    "                        'balanced_acc': f'{np.round(np.mean(balanced_acc_nn), 2)} +/- {np.round(np.std(balanced_acc_nn), 4)}',\n",
    "                        'kappa_score': f'{np.round(np.mean(kappa_nn), 2)} +/- {np.round(np.std(kappa_nn), 4)}'}"
   ]
  },
  {
   "cell_type": "code",
   "execution_count": 94,
   "id": "57ebcef7",
   "metadata": {
    "ExecuteTime": {
     "end_time": "2022-04-01T07:56:15.026098Z",
     "start_time": "2022-04-01T07:56:14.998043Z"
    }
   },
   "outputs": [
    {
     "name": "stdout",
     "output_type": "stream",
     "text": [
      "Avg Accuracy: 0.87 +/- 3e-05\n",
      "Avg Balanced Accuracy: 0.17 +/- 1e-05\n",
      "Avg Kappa Score: 0.77 +/- 0.0001\n"
     ]
    }
   ],
   "source": [
    "print(f'Avg Accuracy: {np.round(np.mean(acc_nn), 2)} +/- {np.round(np.std(acc_nn),5)}')\n",
    "print(f'Avg Balanced Accuracy: {np.round(np.mean(balanced_acc_nn), 2)} +/- {np.round(np.std(balanced_acc_nn),5)}')\n",
    "print(f'Avg Kappa Score: {np.round(np.mean(kappa_nn), 2)} +/- {np.round(np.std(kappa_nn), 4)}')"
   ]
  },
  {
   "cell_type": "markdown",
   "id": "30a8d813",
   "metadata": {},
   "source": [
    "### 7.2.2. Neural Network - Random Undersampling"
   ]
  },
  {
   "cell_type": "code",
   "execution_count": 74,
   "id": "fa3d36ec",
   "metadata": {
    "ExecuteTime": {
     "end_time": "2022-04-01T05:27:00.541885Z",
     "start_time": "2022-04-01T05:26:45.668929Z"
    },
    "scrolled": true
   },
   "outputs": [
    {
     "name": "stdout",
     "output_type": "stream",
     "text": [
      "Epoch 1/100\n",
      "64/64 [==============================] - 0s 1ms/step - loss: 98.3961 - accuracy: 0.1425\n",
      "Epoch 2/100\n",
      "64/64 [==============================] - 0s 2ms/step - loss: 8.9833 - accuracy: 0.1730\n",
      "Epoch 3/100\n",
      "64/64 [==============================] - 0s 6ms/step - loss: 7.0128 - accuracy: 0.1735: 0s - loss: 8.1704 - accura\n",
      "Epoch 4/100\n",
      "64/64 [==============================] - 0s 4ms/step - loss: 7.7028 - accuracy: 0.1690\n",
      "Epoch 5/100\n",
      "64/64 [==============================] - 0s 2ms/step - loss: 9.7772 - accuracy: 0.1597\n",
      "Epoch 6/100\n",
      "64/64 [==============================] - 0s 1ms/step - loss: 6.9671 - accuracy: 0.1661\n",
      "Epoch 7/100\n",
      "64/64 [==============================] - 0s 1ms/step - loss: 9.6437 - accuracy: 0.1617\n",
      "Epoch 8/100\n",
      "64/64 [==============================] - 0s 1ms/step - loss: 6.1327 - accuracy: 0.1749\n",
      "Epoch 9/100\n",
      "64/64 [==============================] - 0s 2ms/step - loss: 7.6518 - accuracy: 0.1700\n",
      "Epoch 10/100\n",
      "64/64 [==============================] - 0s 2ms/step - loss: 7.7232 - accuracy: 0.1617\n",
      "Epoch 11/100\n",
      "64/64 [==============================] - 0s 2ms/step - loss: 6.4231 - accuracy: 0.1813\n",
      "Epoch 12/100\n",
      "64/64 [==============================] - 0s 1ms/step - loss: 6.9524 - accuracy: 0.1705\n",
      "Epoch 13/100\n",
      "64/64 [==============================] - 0s 1ms/step - loss: 9.9918 - accuracy: 0.1582\n",
      "Epoch 14/100\n",
      "64/64 [==============================] - 0s 1ms/step - loss: 7.0526 - accuracy: 0.1744\n",
      "Epoch 15/100\n",
      "64/64 [==============================] - 0s 1ms/step - loss: 5.8912 - accuracy: 0.1779\n",
      "Epoch 16/100\n",
      "64/64 [==============================] - 0s 1ms/step - loss: 6.5484 - accuracy: 0.1803\n",
      "Epoch 17/100\n",
      "64/64 [==============================] - 0s 1ms/step - loss: 7.4203 - accuracy: 0.1715\n",
      "Epoch 18/100\n",
      "64/64 [==============================] - 0s 1ms/step - loss: 5.9852 - accuracy: 0.1799\n",
      "Epoch 19/100\n",
      "64/64 [==============================] - 0s 2ms/step - loss: 5.3098 - accuracy: 0.1774\n",
      "Epoch 20/100\n",
      "64/64 [==============================] - 0s 1ms/step - loss: 6.1287 - accuracy: 0.1833\n",
      "Epoch 21/100\n",
      "64/64 [==============================] - 0s 1ms/step - loss: 8.8128 - accuracy: 0.1690\n",
      "Epoch 22/100\n",
      "64/64 [==============================] - 0s 1ms/step - loss: 5.2652 - accuracy: 0.1784\n",
      "Epoch 23/100\n",
      "64/64 [==============================] - 0s 1ms/step - loss: 5.3068 - accuracy: 0.1867\n",
      "Epoch 24/100\n",
      "64/64 [==============================] - 0s 1ms/step - loss: 4.9570 - accuracy: 0.1892\n",
      "Epoch 25/100\n",
      "64/64 [==============================] - 0s 1ms/step - loss: 6.4520 - accuracy: 0.1862\n",
      "Epoch 26/100\n",
      "64/64 [==============================] - 0s 1ms/step - loss: 7.0558 - accuracy: 0.1749\n",
      "Epoch 27/100\n",
      "64/64 [==============================] - 0s 1ms/step - loss: 7.2062 - accuracy: 0.1759\n",
      "Epoch 28/100\n",
      "64/64 [==============================] - 0s 1ms/step - loss: 5.1600 - accuracy: 0.1862\n",
      "Epoch 29/100\n",
      "64/64 [==============================] - 0s 1ms/step - loss: 7.0205 - accuracy: 0.1720\n",
      "Epoch 30/100\n",
      "64/64 [==============================] - 0s 2ms/step - loss: 7.0535 - accuracy: 0.1749\n",
      "Epoch 31/100\n",
      "64/64 [==============================] - 0s 1ms/step - loss: 6.6650 - accuracy: 0.1764\n",
      "Epoch 32/100\n",
      "64/64 [==============================] - 0s 1ms/step - loss: 4.8937 - accuracy: 0.1818\n",
      "Epoch 33/100\n",
      "64/64 [==============================] - 0s 1ms/step - loss: 5.0042 - accuracy: 0.1951\n",
      "Epoch 34/100\n",
      "64/64 [==============================] - 0s 1ms/step - loss: 4.4502 - accuracy: 0.1828\n",
      "Epoch 35/100\n",
      "64/64 [==============================] - 0s 1ms/step - loss: 5.6750 - accuracy: 0.1892\n",
      "Epoch 36/100\n",
      "64/64 [==============================] - 0s 1ms/step - loss: 4.7991 - accuracy: 0.1838\n",
      "Epoch 37/100\n",
      "64/64 [==============================] - 0s 1ms/step - loss: 5.3879 - accuracy: 0.1872\n",
      "Epoch 38/100\n",
      "64/64 [==============================] - 0s 1ms/step - loss: 5.0385 - accuracy: 0.1936\n",
      "Epoch 39/100\n",
      "64/64 [==============================] - 0s 2ms/step - loss: 5.5146 - accuracy: 0.1799\n",
      "Epoch 40/100\n",
      "64/64 [==============================] - 0s 2ms/step - loss: 6.7005 - accuracy: 0.1749\n",
      "Epoch 41/100\n",
      "64/64 [==============================] - 0s 1ms/step - loss: 4.2068 - accuracy: 0.1921\n",
      "Epoch 42/100\n",
      "64/64 [==============================] - 0s 1ms/step - loss: 4.5184 - accuracy: 0.1892\n",
      "Epoch 43/100\n",
      "64/64 [==============================] - 0s 1ms/step - loss: 5.4582 - accuracy: 0.1892\n",
      "Epoch 44/100\n",
      "64/64 [==============================] - 0s 1ms/step - loss: 4.7468 - accuracy: 0.1877\n",
      "Epoch 45/100\n",
      "64/64 [==============================] - 0s 1ms/step - loss: 5.3106 - accuracy: 0.1764\n",
      "Epoch 46/100\n",
      "64/64 [==============================] - 0s 1ms/step - loss: 6.9235 - accuracy: 0.1784\n",
      "Epoch 47/100\n",
      "64/64 [==============================] - 0s 1ms/step - loss: 4.9356 - accuracy: 0.1887\n",
      "Epoch 48/100\n",
      "64/64 [==============================] - 0s 1ms/step - loss: 4.6652 - accuracy: 0.1887\n",
      "Epoch 49/100\n",
      "64/64 [==============================] - 0s 1ms/step - loss: 4.9208 - accuracy: 0.1902\n",
      "Epoch 50/100\n",
      "64/64 [==============================] - 0s 1ms/step - loss: 5.0191 - accuracy: 0.1622\n",
      "Epoch 51/100\n",
      "64/64 [==============================] - 0s 1ms/step - loss: 4.0325 - accuracy: 0.1843\n",
      "Epoch 52/100\n",
      "64/64 [==============================] - 0s 1ms/step - loss: 3.5650 - accuracy: 0.1990\n",
      "Epoch 53/100\n",
      "64/64 [==============================] - 0s 1ms/step - loss: 4.9474 - accuracy: 0.1916\n",
      "Epoch 54/100\n",
      "64/64 [==============================] - 0s 2ms/step - loss: 4.3529 - accuracy: 0.1843\n",
      "Epoch 55/100\n",
      "64/64 [==============================] - 0s 1ms/step - loss: 3.8535 - accuracy: 0.1946\n",
      "Epoch 56/100\n",
      "64/64 [==============================] - 0s 1ms/step - loss: 5.2017 - accuracy: 0.1853\n",
      "Epoch 57/100\n",
      "64/64 [==============================] - 0s 1ms/step - loss: 4.6528 - accuracy: 0.1754\n",
      "Epoch 58/100\n",
      "64/64 [==============================] - 0s 1ms/step - loss: 6.3323 - accuracy: 0.1784\n",
      "Epoch 59/100\n",
      "64/64 [==============================] - 0s 1ms/step - loss: 6.5144 - accuracy: 0.1912\n",
      "Epoch 60/100\n",
      "64/64 [==============================] - 0s 1ms/step - loss: 4.0976 - accuracy: 0.1872\n",
      "Epoch 61/100\n",
      "64/64 [==============================] - 0s 1ms/step - loss: 3.5872 - accuracy: 0.2079\n",
      "Epoch 62/100\n",
      "64/64 [==============================] - 0s 1ms/step - loss: 5.4464 - accuracy: 0.1779\n",
      "Epoch 63/100\n",
      "64/64 [==============================] - 0s 1ms/step - loss: 3.8800 - accuracy: 0.1823\n",
      "Epoch 64/100\n",
      "64/64 [==============================] - 0s 1ms/step - loss: 5.9188 - accuracy: 0.1774\n",
      "Epoch 65/100\n",
      "64/64 [==============================] - 0s 1ms/step - loss: 3.8834 - accuracy: 0.1946\n",
      "Epoch 66/100\n",
      "64/64 [==============================] - 0s 1ms/step - loss: 3.8468 - accuracy: 0.1956\n",
      "Epoch 67/100\n",
      "64/64 [==============================] - 0s 1ms/step - loss: 4.1947 - accuracy: 0.1926\n",
      "Epoch 68/100\n",
      "64/64 [==============================] - 0s 1ms/step - loss: 3.7689 - accuracy: 0.1867\n",
      "Epoch 69/100\n",
      "64/64 [==============================] - 0s 1ms/step - loss: 3.5634 - accuracy: 0.2010\n",
      "Epoch 70/100\n",
      "64/64 [==============================] - 0s 1ms/step - loss: 4.1075 - accuracy: 0.1941\n",
      "Epoch 71/100\n",
      "64/64 [==============================] - 0s 1ms/step - loss: 4.6150 - accuracy: 0.1838\n",
      "Epoch 72/100\n",
      "64/64 [==============================] - 0s 1ms/step - loss: 4.7957 - accuracy: 0.1862\n",
      "Epoch 73/100\n",
      "64/64 [==============================] - 0s 1ms/step - loss: 4.4097 - accuracy: 0.1995\n",
      "Epoch 74/100\n",
      "64/64 [==============================] - 0s 1ms/step - loss: 4.2652 - accuracy: 0.1897\n",
      "Epoch 75/100\n",
      "64/64 [==============================] - 0s 1ms/step - loss: 4.0804 - accuracy: 0.1789\n",
      "Epoch 76/100\n",
      "64/64 [==============================] - 0s 1ms/step - loss: 4.2502 - accuracy: 0.1848\n",
      "Epoch 77/100\n",
      "64/64 [==============================] - 0s 1ms/step - loss: 4.7159 - accuracy: 0.1735\n",
      "Epoch 78/100\n",
      "64/64 [==============================] - 0s 1ms/step - loss: 6.1474 - accuracy: 0.1872\n",
      "Epoch 79/100\n",
      "64/64 [==============================] - 0s 1ms/step - loss: 4.6638 - accuracy: 0.1892\n",
      "Epoch 80/100\n",
      "64/64 [==============================] - 0s 1ms/step - loss: 3.5565 - accuracy: 0.1941\n",
      "Epoch 81/100\n",
      "64/64 [==============================] - 0s 1ms/step - loss: 3.9118 - accuracy: 0.1803\n",
      "Epoch 82/100\n",
      "64/64 [==============================] - 0s 1ms/step - loss: 4.0687 - accuracy: 0.1985\n",
      "Epoch 83/100\n",
      "64/64 [==============================] - 0s 1ms/step - loss: 3.7710 - accuracy: 0.1971\n",
      "Epoch 84/100\n",
      "64/64 [==============================] - 0s 2ms/step - loss: 3.8567 - accuracy: 0.1887\n",
      "Epoch 85/100\n",
      "64/64 [==============================] - 0s 2ms/step - loss: 4.1517 - accuracy: 0.1916\n",
      "Epoch 86/100\n",
      "64/64 [==============================] - 0s 1ms/step - loss: 3.3784 - accuracy: 0.2044\n",
      "Epoch 87/100\n",
      "64/64 [==============================] - 0s 1ms/step - loss: 3.1468 - accuracy: 0.2034\n",
      "Epoch 88/100\n",
      "64/64 [==============================] - 0s 1ms/step - loss: 3.7156 - accuracy: 0.2034\n",
      "Epoch 89/100\n",
      "64/64 [==============================] - 0s 1ms/step - loss: 3.8378 - accuracy: 0.1966\n",
      "Epoch 90/100\n",
      "64/64 [==============================] - 0s 1ms/step - loss: 4.2920 - accuracy: 0.1887\n",
      "Epoch 91/100\n",
      "64/64 [==============================] - 0s 1ms/step - loss: 4.3073 - accuracy: 0.1833\n",
      "Epoch 92/100\n",
      "64/64 [==============================] - 0s 1ms/step - loss: 3.8123 - accuracy: 0.1975\n",
      "Epoch 93/100\n",
      "64/64 [==============================] - 0s 1ms/step - loss: 3.6636 - accuracy: 0.1794\n",
      "Epoch 94/100\n",
      "64/64 [==============================] - 0s 2ms/step - loss: 3.4683 - accuracy: 0.1966\n",
      "Epoch 95/100\n",
      "64/64 [==============================] - 0s 1ms/step - loss: 4.7564 - accuracy: 0.1887\n",
      "Epoch 96/100\n",
      "64/64 [==============================] - 0s 2ms/step - loss: 3.7017 - accuracy: 0.1926\n",
      "Epoch 97/100\n",
      "64/64 [==============================] - 0s 1ms/step - loss: 3.7473 - accuracy: 0.1995\n",
      "Epoch 98/100\n",
      "64/64 [==============================] - 0s 1ms/step - loss: 3.3525 - accuracy: 0.2020\n",
      "Epoch 99/100\n",
      "64/64 [==============================] - 0s 2ms/step - loss: 3.5400 - accuracy: 0.2029\n",
      "Epoch 100/100\n",
      "64/64 [==============================] - 0s 2ms/step - loss: 3.8566 - accuracy: 0.1980\n"
     ]
    },
    {
     "data": {
      "text/plain": [
       "<tensorflow.python.keras.callbacks.History at 0x138ff8b5a30>"
      ]
     },
     "execution_count": 74,
     "metadata": {},
     "output_type": "execute_result"
    }
   ],
   "source": [
    "# model definition\n",
    "model_under = ml.Sequential()\n",
    "model_under.add( l.Dense(128, input_dim=x_train_under.shape[1], activation='relu') )\n",
    "model_under.add( l.Dense(12, activation='softmax') )\n",
    "\n",
    "# model compile\n",
    "model_under.compile(loss='categorical_crossentropy', optimizer='adam', metrics=['accuracy'])\n",
    "\n",
    "# train model\n",
    "model_under.fit(x_train_under, y_train_under, epochs=100)"
   ]
  },
  {
   "cell_type": "markdown",
   "id": "afa3706d",
   "metadata": {},
   "source": [
    "#### 7.2.2.1. Random Undersampling - Performance"
   ]
  },
  {
   "cell_type": "code",
   "execution_count": 75,
   "id": "921b5fa4",
   "metadata": {
    "ExecuteTime": {
     "end_time": "2022-04-01T05:27:09.934541Z",
     "start_time": "2022-04-01T05:27:04.917436Z"
    }
   },
   "outputs": [],
   "source": [
    "# prediction\n",
    "pred_under_nn = model_under.predict(x_test_under)\n",
    "\n",
    "# invert prediction\n",
    "yhat_under_nn = ohe.inverse_transform(pred_under_nn)\n",
    "\n",
    "# invert validation response\n",
    "y_test_under_nn = ohe.inverse_transform(y_test_under)"
   ]
  },
  {
   "cell_type": "code",
   "execution_count": 76,
   "id": "fc74d3d3",
   "metadata": {
    "ExecuteTime": {
     "end_time": "2022-04-01T05:27:13.641435Z",
     "start_time": "2022-04-01T05:27:13.612390Z"
    },
    "cell_style": "split"
   },
   "outputs": [
    {
     "data": {
      "text/plain": [
       "IT       0.096267\n",
       "ES       0.090373\n",
       "DE       0.088409\n",
       "GB       0.088409\n",
       "NL       0.086444\n",
       "PT       0.086444\n",
       "AU       0.082515\n",
       "CA       0.082515\n",
       "FR       0.078585\n",
       "other    0.074656\n",
       "NDF      0.072692\n",
       "US       0.072692\n",
       "dtype: float64"
      ]
     },
     "execution_count": 76,
     "metadata": {},
     "output_type": "execute_result"
    }
   ],
   "source": [
    "# check the balance of validation\n",
    "pd.DataFrame(y_test_under_nn).value_counts(normalize=True)"
   ]
  },
  {
   "cell_type": "code",
   "execution_count": 77,
   "id": "d71eeada",
   "metadata": {
    "ExecuteTime": {
     "end_time": "2022-04-01T05:27:17.516829Z",
     "start_time": "2022-04-01T05:27:17.487793Z"
    },
    "cell_style": "split"
   },
   "outputs": [
    {
     "data": {
      "text/plain": [
       "GB     0.499018\n",
       "PT     0.422397\n",
       "NDF    0.070727\n",
       "US     0.005894\n",
       "AU     0.001965\n",
       "dtype: float64"
      ]
     },
     "execution_count": 77,
     "metadata": {},
     "output_type": "execute_result"
    }
   ],
   "source": [
    "# check the balance of results\n",
    "pd.DataFrame(yhat_under_nn).value_counts(normalize=True)"
   ]
  },
  {
   "cell_type": "code",
   "execution_count": 78,
   "id": "f247d237",
   "metadata": {
    "ExecuteTime": {
     "end_time": "2022-04-01T05:27:22.587691Z",
     "start_time": "2022-04-01T05:27:21.292436Z"
    }
   },
   "outputs": [
    {
     "name": "stdout",
     "output_type": "stream",
     "text": [
      "Accuracy: 0.15913555992141454\n",
      "Balanced Accuracy: 0.1656986531986532\n",
      "Kappa Score: 0.07965155086901043\n",
      "              precision    recall  f1-score   support\n",
      "\n",
      "          AU       0.00      0.00      0.00        42\n",
      "          CA       0.00      0.00      0.00        42\n",
      "          DE       0.00      0.00      0.00        45\n",
      "          ES       0.00      0.00      0.00        46\n",
      "          FR       0.00      0.00      0.00        40\n",
      "          GB       0.09      0.51      0.15        45\n",
      "          IT       0.00      0.00      0.00        49\n",
      "         NDF       1.00      0.97      0.99        37\n",
      "          NL       0.00      0.00      0.00        44\n",
      "          PT       0.10      0.48      0.16        44\n",
      "          US       0.33      0.03      0.05        37\n",
      "       other       0.00      0.00      0.00        38\n",
      "\n",
      "    accuracy                           0.16       509\n",
      "   macro avg       0.13      0.17      0.11       509\n",
      "weighted avg       0.11      0.16      0.10       509\n",
      "\n"
     ]
    },
    {
     "data": {
      "image/png": "[encoded data removed]",
      "text/plain": [
       "<Figure size 864x864 with 2 Axes>"
      ]
     },
     "metadata": {
      "needs_background": "light"
     },
     "output_type": "display_data"
    }
   ],
   "source": [
    "# Accuracy\n",
    "acc_under_nn = m.accuracy_score( y_test_under_nn, yhat_under_nn )\n",
    "print(f'Accuracy: {acc_under_nn}')\n",
    "\n",
    "# Balanced Accuracy\n",
    "balanced_acc_under_nn = m.balanced_accuracy_score(y_test_under_nn, yhat_under_nn)\n",
    "print(f'Balanced Accuracy: {balanced_acc_under_nn}')\n",
    "\n",
    "# Kappa Metrics\n",
    "kappa_under_nn = m.cohen_kappa_score(y_test_under_nn, yhat_under_nn)\n",
    "print(f'Kappa Score: {kappa_under_nn}')\n",
    "\n",
    "# Classification report\n",
    "print(m.classification_report(y_test_under_nn, yhat_under_nn))\n",
    "\n",
    "# Confusion Matrix\n",
    "mt.plot_confusion_matrix( y_test_under_nn, yhat_under_nn, normalize=False, figsize=(12,12));\n",
    "\n",
    "# Performance\n",
    "under_performance = {'model': 'NN Model - Random Undersampling', \n",
    "                     'acc': np.round(acc_under_nn, 6), \n",
    "                     'balanced_acc': np.round(balanced_acc_under_nn, 6), \n",
    "                     'kappa_score': np.round(kappa_under_nn, 6)}"
   ]
  },
  {
   "cell_type": "markdown",
   "id": "1233cd98",
   "metadata": {},
   "source": [
    "#### 7.2.2.2. Random Undersampling - Cross-Validation"
   ]
  },
  {
   "cell_type": "code",
   "execution_count": 79,
   "id": "6e62891e",
   "metadata": {
    "ExecuteTime": {
     "end_time": "2022-04-01T05:28:38.128611Z",
     "start_time": "2022-04-01T05:27:26.880946Z"
    }
   },
   "outputs": [
    {
     "name": "stdout",
     "output_type": "stream",
     "text": [
      "Fold Number:1/5\n",
      "Fold Number:2/5\n",
      "Fold Number:3/5\n",
      "Fold Number:4/5\n",
      "Fold Number:5/5\n"
     ]
    }
   ],
   "source": [
    "# cross validation performance\n",
    "acc_under, balanced_acc_under, kappa_under = cross_validation(num_fold=5, \n",
    "                                                              x_train=x_train_under, \n",
    "                                                              y_train=y_train_under, \n",
    "                                                              model=model_under, \n",
    "                                                              verbose=True)"
   ]
  },
  {
   "cell_type": "code",
   "execution_count": 80,
   "id": "920db2e6",
   "metadata": {
    "ExecuteTime": {
     "end_time": "2022-04-01T05:28:43.594525Z",
     "start_time": "2022-04-01T05:28:43.582726Z"
    }
   },
   "outputs": [],
   "source": [
    "# Performance\n",
    "under_performance_cv = {'model': 'NN Model - Random Undersampling - CV',\n",
    "                        'acc': f'{np.round(np.mean(acc_under), 2)} +/- {np.round(np.std(acc_under), 4)}',\n",
    "                        'balanced_acc': f'{np.round(np.mean(balanced_acc_under), 2)} +/- {np.round(np.std(balanced_acc_under), 4)}',\n",
    "                        'kappa_score': f'{np.round(np.mean(kappa_under), 2)} +/- {np.round(np.std(kappa_under), 4)}'}"
   ]
  },
  {
   "cell_type": "code",
   "execution_count": 81,
   "id": "f81ed25e",
   "metadata": {
    "ExecuteTime": {
     "end_time": "2022-04-01T05:28:47.668176Z",
     "start_time": "2022-04-01T05:28:47.641179Z"
    }
   },
   "outputs": [
    {
     "name": "stdout",
     "output_type": "stream",
     "text": [
      "Avg Accuracy: 0.17 +/- 0.00241\n",
      "Avg Balanced Accuracy: 0.17 +/- 0.00357\n",
      "Avg Kappa Score: 0.1 +/- 0.0037\n"
     ]
    }
   ],
   "source": [
    "print(f'Avg Accuracy: {np.round(np.mean(acc_under), 2)} +/- {np.round(np.std(acc_under),5)}')\n",
    "print(f'Avg Balanced Accuracy: {np.round(np.mean(balanced_acc_under), 2)} +/- {np.round(np.std(balanced_acc_under),5)}')\n",
    "print(f'Avg Kappa Score: {np.round(np.mean(kappa_under), 2)} +/- {np.round(np.std(kappa_under), 4)}')"
   ]
  },
  {
   "cell_type": "markdown",
   "id": "af2fe3cf",
   "metadata": {},
   "source": [
    "### 7.2.3. Random Oversampling "
   ]
  },
  {
   "cell_type": "code",
   "execution_count": 82,
   "id": "a2a0b26e",
   "metadata": {
    "ExecuteTime": {
     "end_time": "2022-04-01T06:29:41.668335Z",
     "start_time": "2022-04-01T05:28:51.461998Z"
    },
    "scrolled": true
   },
   "outputs": [
    {
     "name": "stdout",
     "output_type": "stream",
     "text": [
      "Epoch 1/100\n",
      "35757/35757 [==============================] - 58s 2ms/step - loss: 3.3698 - accuracy: 0.1725 0s - loss: 3.3727 - accuracy: \n",
      "Epoch 2/100\n",
      "35757/35757 [==============================] - 51s 1ms/step - loss: 2.2010 - accuracy: 0.1664\n",
      "Epoch 3/100\n",
      "35757/35757 [==============================] - 52s 1ms/step - loss: 2.1998 - accuracy: 0.1675\n",
      "Epoch 4/100\n",
      "35757/35757 [==============================] - 54s 2ms/step - loss: 2.1995 - accuracy: 0.1670 1s - loss: 2.1995 - accuracy:  - ETA: 1s - loss: 2.1995 - ac - ETA: 1s - loss: 2.1995 - accuracy\n",
      "Epoch 5/100\n",
      "35757/35757 [==============================] - 54s 2ms/step - loss: 2.1994 - accuracy: 0.1671\n",
      "Epoch 6/100\n",
      "35757/35757 [==============================] - 51s 1ms/step - loss: 2.1992 - accuracy: 0.1668 0s - loss: 2.1\n",
      "Epoch 7/100\n",
      "35757/35757 [==============================] - 55s 2ms/step - loss: 2.1991 - accuracy: 0.1673\n",
      "Epoch 8/100\n",
      "35757/35757 [==============================] - 53s 1ms/step - loss: 2.1990 - accuracy: 0.1677\n",
      "Epoch 9/100\n",
      "35757/35757 [==============================] - 54s 2ms/step - loss: 2.1989 - accuracy: 0.1672 0s - los\n",
      "Epoch 10/100\n",
      "35757/35757 [==============================] - 52s 1ms/step - loss: 2.1988 - accuracy: 0.1677\n",
      "Epoch 11/100\n",
      "35757/35757 [==============================] - 54s 2ms/step - loss: 2.1986 - accuracy: 0.1672\n",
      "Epoch 12/100\n",
      "35757/35757 [==============================] - 58s 2ms/step - loss: 2.1987 - accuracy: 0.1677\n",
      "Epoch 13/100\n",
      "35757/35757 [==============================] - 38s 1ms/step - loss: 2.1987 - accuracy: 0.1676\n",
      "Epoch 14/100\n",
      "35757/35757 [==============================] - 36s 1ms/step - loss: 2.1985 - accuracy: 0.1677\n",
      "Epoch 15/100\n",
      "35757/35757 [==============================] - 33s 933us/step - loss: 2.1985 - accuracy: 0.1680\n",
      "Epoch 16/100\n",
      "35757/35757 [==============================] - 34s 937us/step - loss: 2.1985 - accuracy: 0.1675\n",
      "Epoch 17/100\n",
      "35757/35757 [==============================] - 34s 944us/step - loss: 2.1984 - accuracy: 0.1679\n",
      "Epoch 18/100\n",
      "35757/35757 [==============================] - 34s 959us/step - loss: 2.1985 - accuracy: 0.1677\n",
      "Epoch 19/100\n",
      "35757/35757 [==============================] - 33s 931us/step - loss: 2.1984 - accuracy: 0.1671\n",
      "Epoch 20/100\n",
      "35757/35757 [==============================] - 34s 950us/step - loss: 2.1985 - accuracy: 0.1676\n",
      "Epoch 21/100\n",
      "35757/35757 [==============================] - 34s 940us/step - loss: 2.1984 - accuracy: 0.1674\n",
      "Epoch 22/100\n",
      "35757/35757 [==============================] - 34s 940us/step - loss: 2.1984 - accuracy: 0.1677\n",
      "Epoch 23/100\n",
      "35757/35757 [==============================] - 34s 940us/step - loss: 2.1984 - accuracy: 0.1676\n",
      "Epoch 24/100\n",
      "35757/35757 [==============================] - 33s 928us/step - loss: 2.1983 - accuracy: 0.1679\n",
      "Epoch 25/100\n",
      "35757/35757 [==============================] - 34s 939us/step - loss: 2.1984 - accuracy: 0.1683\n",
      "Epoch 26/100\n",
      "35757/35757 [==============================] - 33s 935us/step - loss: 2.1983 - accuracy: 0.1678\n",
      "Epoch 27/100\n",
      "35757/35757 [==============================] - 34s 950us/step - loss: 2.1983 - accuracy: 0.1676\n",
      "Epoch 28/100\n",
      "35757/35757 [==============================] - 34s 954us/step - loss: 2.1983 - accuracy: 0.1683\n",
      "Epoch 29/100\n",
      "35757/35757 [==============================] - 34s 942us/step - loss: 2.1983 - accuracy: 0.1681\n",
      "Epoch 30/100\n",
      "35757/35757 [==============================] - 36s 1ms/step - loss: 2.1983 - accuracy: 0.1675\n",
      "Epoch 31/100\n",
      "35757/35757 [==============================] - 33s 933us/step - loss: 2.1983 - accuracy: 0.1678\n",
      "Epoch 32/100\n",
      "35757/35757 [==============================] - 34s 943us/step - loss: 2.1983 - accuracy: 0.1682\n",
      "Epoch 33/100\n",
      "35757/35757 [==============================] - 33s 935us/step - loss: 2.1982 - accuracy: 0.1681\n",
      "Epoch 34/100\n",
      "35757/35757 [==============================] - 34s 944us/step - loss: 2.1982 - accuracy: 0.1675\n",
      "Epoch 35/100\n",
      "35757/35757 [==============================] - 33s 934us/step - loss: 2.1983 - accuracy: 0.1677\n",
      "Epoch 36/100\n",
      "35757/35757 [==============================] - 34s 957us/step - loss: 2.1982 - accuracy: 0.1681\n",
      "Epoch 37/100\n",
      "35757/35757 [==============================] - 34s 938us/step - loss: 2.1983 - accuracy: 0.1678\n",
      "Epoch 38/100\n",
      "35757/35757 [==============================] - 34s 941us/step - loss: 2.1982 - accuracy: 0.1680\n",
      "Epoch 39/100\n",
      "35757/35757 [==============================] - 34s 944us/step - loss: 2.1983 - accuracy: 0.1679\n",
      "Epoch 40/100\n",
      "35757/35757 [==============================] - 33s 934us/step - loss: 2.1982 - accuracy: 0.1680\n",
      "Epoch 41/100\n",
      "35757/35757 [==============================] - 34s 944us/step - loss: 2.1983 - accuracy: 0.1679\n",
      "Epoch 42/100\n",
      "35757/35757 [==============================] - 33s 935us/step - loss: 2.1982 - accuracy: 0.1676\n",
      "Epoch 43/100\n",
      "35757/35757 [==============================] - 34s 939us/step - loss: 2.1982 - accuracy: 0.1680\n",
      "Epoch 44/100\n",
      "35757/35757 [==============================] - 33s 936us/step - loss: 2.1982 - accuracy: 0.1677\n",
      "Epoch 45/100\n",
      "35757/35757 [==============================] - 36s 995us/step - loss: 2.1982 - accuracy: 0.1679\n",
      "Epoch 46/100\n",
      "35757/35757 [==============================] - 34s 947us/step - loss: 2.1982 - accuracy: 0.1681\n",
      "Epoch 47/100\n",
      "35757/35757 [==============================] - 34s 962us/step - loss: 2.1981 - accuracy: 0.1684\n",
      "Epoch 48/100\n",
      "35757/35757 [==============================] - 34s 946us/step - loss: 2.1982 - accuracy: 0.1675\n",
      "Epoch 49/100\n",
      "35757/35757 [==============================] - 33s 935us/step - loss: 2.1981 - accuracy: 0.1675\n",
      "Epoch 50/100\n",
      "35757/35757 [==============================] - 34s 941us/step - loss: 2.1982 - accuracy: 0.1677\n",
      "Epoch 51/100\n",
      "35757/35757 [==============================] - 33s 936us/step - loss: 2.1981 - accuracy: 0.1674\n",
      "Epoch 52/100\n",
      "35757/35757 [==============================] - 34s 940us/step - loss: 2.1981 - accuracy: 0.1678\n",
      "Epoch 53/100\n",
      "35757/35757 [==============================] - 33s 934us/step - loss: 2.1982 - accuracy: 0.1681\n",
      "Epoch 54/100\n",
      "35757/35757 [==============================] - 34s 941us/step - loss: 2.1981 - accuracy: 0.1679\n",
      "Epoch 55/100\n",
      "35757/35757 [==============================] - 34s 959us/step - loss: 2.1981 - accuracy: 0.1679\n",
      "Epoch 56/100\n",
      "35757/35757 [==============================] - 34s 948us/step - loss: 2.1982 - accuracy: 0.1683\n",
      "Epoch 57/100\n",
      "35757/35757 [==============================] - 34s 962us/step - loss: 2.1981 - accuracy: 0.1680\n",
      "Epoch 58/100\n",
      "35757/35757 [==============================] - 33s 933us/step - loss: 2.1981 - accuracy: 0.1680\n",
      "Epoch 59/100\n",
      "35757/35757 [==============================] - 34s 937us/step - loss: 2.1981 - accuracy: 0.1680\n",
      "Epoch 60/100\n",
      "35757/35757 [==============================] - 34s 938us/step - loss: 2.1982 - accuracy: 0.1675\n",
      "Epoch 61/100\n",
      "35757/35757 [==============================] - 34s 939us/step - loss: 2.1982 - accuracy: 0.1678\n",
      "Epoch 62/100\n",
      "35757/35757 [==============================] - 34s 937us/step - loss: 2.1981 - accuracy: 0.1678\n",
      "Epoch 63/100\n",
      "35757/35757 [==============================] - 34s 938us/step - loss: 2.1982 - accuracy: 0.1678\n",
      "Epoch 64/100\n",
      "35757/35757 [==============================] - 34s 946us/step - loss: 2.1982 - accuracy: 0.1680\n",
      "Epoch 65/100\n",
      "35757/35757 [==============================] - 34s 959us/step - loss: 2.1981 - accuracy: 0.1678\n",
      "Epoch 66/100\n",
      "35757/35757 [==============================] - 34s 939us/step - loss: 2.1981 - accuracy: 0.1673\n",
      "Epoch 67/100\n",
      "35757/35757 [==============================] - 33s 930us/step - loss: 2.1981 - accuracy: 0.1679\n",
      "Epoch 68/100\n",
      "35757/35757 [==============================] - 34s 938us/step - loss: 2.1981 - accuracy: 0.1679\n",
      "Epoch 69/100\n",
      "35757/35757 [==============================] - 33s 933us/step - loss: 2.1981 - accuracy: 0.1676\n",
      "Epoch 70/100\n",
      "35757/35757 [==============================] - 34s 937us/step - loss: 2.1982 - accuracy: 0.1681\n",
      "Epoch 71/100\n",
      "35757/35757 [==============================] - 34s 957us/step - loss: 2.1981 - accuracy: 0.1677\n",
      "Epoch 72/100\n",
      "35757/35757 [==============================] - 34s 951us/step - loss: 2.1982 - accuracy: 0.1672\n",
      "Epoch 73/100\n",
      "35757/35757 [==============================] - 34s 941us/step - loss: 2.1982 - accuracy: 0.1680\n",
      "Epoch 74/100\n",
      "35757/35757 [==============================] - 34s 938us/step - loss: 2.1982 - accuracy: 0.1676\n",
      "Epoch 75/100\n",
      "35757/35757 [==============================] - 34s 938us/step - loss: 2.1982 - accuracy: 0.1678\n",
      "Epoch 76/100\n",
      "35757/35757 [==============================] - 33s 931us/step - loss: 2.1982 - accuracy: 0.1673\n",
      "Epoch 77/100\n",
      "35757/35757 [==============================] - 33s 935us/step - loss: 2.1981 - accuracy: 0.1683\n",
      "Epoch 78/100\n",
      "35757/35757 [==============================] - 34s 939us/step - loss: 2.1982 - accuracy: 0.1680\n",
      "Epoch 79/100\n",
      "35757/35757 [==============================] - 33s 929us/step - loss: 2.1981 - accuracy: 0.1682\n",
      "Epoch 80/100\n",
      "35757/35757 [==============================] - 34s 963us/step - loss: 2.1981 - accuracy: 0.1673\n",
      "Epoch 81/100\n",
      "35757/35757 [==============================] - 33s 935us/step - loss: 2.1981 - accuracy: 0.1683\n",
      "Epoch 82/100\n",
      "35757/35757 [==============================] - 34s 943us/step - loss: 2.1982 - accuracy: 0.1681\n",
      "Epoch 83/100\n",
      "35757/35757 [==============================] - 38s 1ms/step - loss: 2.1981 - accuracy: 0.1680\n",
      "Epoch 84/100\n",
      "35757/35757 [==============================] - 33s 936us/step - loss: 2.1982 - accuracy: 0.1676\n",
      "Epoch 85/100\n",
      "35757/35757 [==============================] - 33s 929us/step - loss: 2.1981 - accuracy: 0.1679\n",
      "Epoch 86/100\n",
      "35757/35757 [==============================] - 33s 934us/step - loss: 2.1981 - accuracy: 0.1680\n",
      "Epoch 87/100\n",
      "35757/35757 [==============================] - 34s 938us/step - loss: 2.1981 - accuracy: 0.1674\n",
      "Epoch 88/100\n",
      "35757/35757 [==============================] - 33s 926us/step - loss: 2.1981 - accuracy: 0.1677\n",
      "Epoch 89/100\n",
      "35757/35757 [==============================] - 34s 941us/step - loss: 2.1981 - accuracy: 0.1677\n",
      "Epoch 90/100\n",
      "35757/35757 [==============================] - 33s 930us/step - loss: 2.1982 - accuracy: 0.1675\n",
      "Epoch 91/100\n",
      "35757/35757 [==============================] - 34s 939us/step - loss: 2.1981 - accuracy: 0.1683\n",
      "Epoch 92/100\n",
      "35757/35757 [==============================] - 33s 929us/step - loss: 2.1981 - accuracy: 0.1678\n",
      "Epoch 93/100\n",
      "35757/35757 [==============================] - 34s 939us/step - loss: 2.1981 - accuracy: 0.1676\n",
      "Epoch 94/100\n",
      "35757/35757 [==============================] - 33s 934us/step - loss: 2.1981 - accuracy: 0.1681\n",
      "Epoch 95/100\n",
      "35757/35757 [==============================] - 33s 930us/step - loss: 2.1981 - accuracy: 0.1678\n",
      "Epoch 96/100\n",
      "35757/35757 [==============================] - 34s 938us/step - loss: 2.1982 - accuracy: 0.1677\n",
      "Epoch 97/100\n",
      "35757/35757 [==============================] - 33s 929us/step - loss: 2.1981 - accuracy: 0.1678\n",
      "Epoch 98/100\n",
      "35757/35757 [==============================] - 37s 1ms/step - loss: 2.1981 - accuracy: 0.1678\n",
      "Epoch 99/100\n",
      "35757/35757 [==============================] - 41s 1ms/step - loss: 2.1981 - accuracy: 0.1676\n",
      "Epoch 100/100\n",
      "35757/35757 [==============================] - 43s 1ms/step - loss: 2.1981 - accuracy: 0.1679\n"
     ]
    },
    {
     "data": {
      "text/plain": [
       "<tensorflow.python.keras.callbacks.History at 0x138fe05f430>"
      ]
     },
     "execution_count": 82,
     "metadata": {},
     "output_type": "execute_result"
    }
   ],
   "source": [
    "# model definition\n",
    "model_over = ml.Sequential()\n",
    "model_over.add( l.Dense(128, input_dim=x_train_over.shape[1], activation='relu') )\n",
    "model_over.add( l.Dense(12, activation='softmax') )\n",
    "\n",
    "# model compile\n",
    "model_over.compile(loss='categorical_crossentropy', optimizer='adam', metrics=['accuracy'])\n",
    "\n",
    "# train model\n",
    "model_over.fit(x_train_over, y_train_over, epochs=100)"
   ]
  },
  {
   "cell_type": "markdown",
   "id": "d19c6429",
   "metadata": {},
   "source": [
    "#### 7.2.3.1. Random Oversampling - Performance"
   ]
  },
  {
   "cell_type": "code",
   "execution_count": 83,
   "id": "7c775ae4",
   "metadata": {
    "ExecuteTime": {
     "end_time": "2022-04-01T06:30:29.310677Z",
     "start_time": "2022-04-01T06:30:20.884574Z"
    }
   },
   "outputs": [],
   "source": [
    "# prediction\n",
    "pred_over_nn = model_over.predict(x_test_over)\n",
    "\n",
    "# invert prediction\n",
    "yhat_over_nn = ohe.inverse_transform(pred_over_nn)\n",
    "\n",
    "# invert validation response\n",
    "y_test_over_nn = ohe.inverse_transform(y_test_over)"
   ]
  },
  {
   "cell_type": "code",
   "execution_count": 84,
   "id": "37727832",
   "metadata": {
    "ExecuteTime": {
     "end_time": "2022-04-01T06:30:32.262387Z",
     "start_time": "2022-04-01T06:30:32.125348Z"
    },
    "cell_style": "split"
   },
   "outputs": [
    {
     "data": {
      "text/plain": [
       "CA       0.084056\n",
       "NL       0.083702\n",
       "ES       0.083688\n",
       "US       0.083678\n",
       "DE       0.083507\n",
       "NDF      0.083353\n",
       "IT       0.083192\n",
       "AU       0.083094\n",
       "other    0.083059\n",
       "FR       0.082926\n",
       "PT       0.082909\n",
       "GB       0.082835\n",
       "dtype: float64"
      ]
     },
     "execution_count": 84,
     "metadata": {},
     "output_type": "execute_result"
    }
   ],
   "source": [
    "# check the balance of validation\n",
    "pd.DataFrame(y_test_over_nn).value_counts(normalize=True)"
   ]
  },
  {
   "cell_type": "code",
   "execution_count": 85,
   "id": "b4e89b98",
   "metadata": {
    "ExecuteTime": {
     "end_time": "2022-04-01T06:30:34.992000Z",
     "start_time": "2022-04-01T06:30:34.946951Z"
    },
    "cell_style": "split"
   },
   "outputs": [
    {
     "data": {
      "text/plain": [
       "AU     0.914266\n",
       "NDF    0.082860\n",
       "PT     0.002321\n",
       "CA     0.000542\n",
       "IT     0.000007\n",
       "DE     0.000003\n",
       "dtype: float64"
      ]
     },
     "execution_count": 85,
     "metadata": {},
     "output_type": "execute_result"
    }
   ],
   "source": [
    "# check balanced results\n",
    "pd.DataFrame(yhat_over_nn).value_counts(normalize=True)"
   ]
  },
  {
   "cell_type": "code",
   "execution_count": 86,
   "id": "20060d9f",
   "metadata": {
    "ExecuteTime": {
     "end_time": "2022-04-01T06:30:52.442606Z",
     "start_time": "2022-04-01T06:30:37.699951Z"
    }
   },
   "outputs": [
    {
     "name": "stdout",
     "output_type": "stream",
     "text": [
      "Accuracy: 0.16651692542186827\n",
      "Balanced Accuracy: 0.16674021328965924\n",
      "Kappa Score: 0.09096157516393055\n",
      "              precision    recall  f1-score   support\n",
      "\n",
      "          AU       0.09      1.00      0.17     23769\n",
      "          CA       0.00      0.00      0.00     24044\n",
      "          DE       0.00      0.00      0.00     23887\n",
      "          ES       0.00      0.00      0.00     23939\n",
      "          FR       0.00      0.00      0.00     23721\n",
      "          GB       0.00      0.00      0.00     23695\n",
      "          IT       0.00      0.00      0.00     23797\n",
      "         NDF       1.00      0.99      1.00     23843\n",
      "          NL       0.00      0.00      0.00     23943\n",
      "          PT       0.33      0.01      0.02     23716\n",
      "          US       0.00      0.00      0.00     23936\n",
      "       other       0.00      0.00      0.00     23759\n",
      "\n",
      "    accuracy                           0.17    286049\n",
      "   macro avg       0.12      0.17      0.10    286049\n",
      "weighted avg       0.12      0.17      0.10    286049\n",
      "\n"
     ]
    },
    {
     "data": {
      "image/png": "[encoded data removed]",
      "text/plain": [
       "<Figure size 864x864 with 2 Axes>"
      ]
     },
     "metadata": {
      "needs_background": "light"
     },
     "output_type": "display_data"
    }
   ],
   "source": [
    "# Accuracy\n",
    "acc_over_nn = m.accuracy_score( y_test_over_nn, yhat_over_nn )\n",
    "print(f'Accuracy: {acc_over_nn}')\n",
    "\n",
    "# Balanced Accuracy\n",
    "balanced_acc_over_nn = m.balanced_accuracy_score(y_test_over_nn, yhat_over_nn)\n",
    "print(f'Balanced Accuracy: {balanced_acc_over_nn}')\n",
    "\n",
    "# Kappa Metrics\n",
    "kappa_over_nn = m.cohen_kappa_score(y_test_over_nn, yhat_over_nn)\n",
    "print(f'Kappa Score: {kappa_over_nn}')\n",
    "\n",
    "# Classification report\n",
    "print(m.classification_report(y_test_over_nn, yhat_over_nn))\n",
    "\n",
    "# Confusion Matrix\n",
    "mt.plot_confusion_matrix( y_test_over_nn, yhat_over_nn, normalize=False, figsize=(12,12));\n",
    "\n",
    "# Performance\n",
    "over_performance = {'model': 'NN Model - Random Oversampling', \n",
    "                    'acc': np.round(acc_over_nn, 6), \n",
    "                    'balanced_acc': np.round(balanced_acc_over_nn, 6), \n",
    "                    'kappa_score': np.round(kappa_over_nn, 6)}"
   ]
  },
  {
   "cell_type": "markdown",
   "id": "b28f283d",
   "metadata": {},
   "source": [
    "#### 7.2.3.2. Random Oversampling - Cross-Validation"
   ]
  },
  {
   "cell_type": "code",
   "execution_count": 95,
   "id": "3bf9c05d",
   "metadata": {
    "ExecuteTime": {
     "end_time": "2022-04-01T10:59:52.766283Z",
     "start_time": "2022-04-01T07:56:17.628241Z"
    }
   },
   "outputs": [
    {
     "name": "stdout",
     "output_type": "stream",
     "text": [
      "Fold Number:1/5\n",
      "Fold Number:2/5\n",
      "Fold Number:3/5\n",
      "Fold Number:4/5\n",
      "Fold Number:5/5\n"
     ]
    }
   ],
   "source": [
    "# cross validation performance\n",
    "acc_over, balanced_acc_over, kappa_over = cross_validation(num_fold=5, \n",
    "                                                           x_train=x_train_over, \n",
    "                                                           y_train=y_train_over, \n",
    "                                                           model=model_over, \n",
    "                                                           verbose=True)"
   ]
  },
  {
   "cell_type": "code",
   "execution_count": 96,
   "id": "85b8e652",
   "metadata": {
    "ExecuteTime": {
     "end_time": "2022-04-01T10:59:52.902067Z",
     "start_time": "2022-04-01T10:59:52.797420Z"
    }
   },
   "outputs": [],
   "source": [
    "# Performance\n",
    "over_performance_cv = {'model': 'NN Model - Random Oversampling - CV',\n",
    "                        'acc': f'{np.round(np.mean(acc_over), 2)} +/- {np.round(np.std(acc_over), 4)}',\n",
    "                        'balanced_acc': f'{np.round(np.mean(balanced_acc_over), 2)} +/- {np.round(np.std(balanced_acc_over), 4)}',\n",
    "                        'kappa_score': f'{np.round(np.mean(kappa_over), 2)} +/- {np.round(np.std(kappa_over), 4)}'}"
   ]
  },
  {
   "cell_type": "code",
   "execution_count": 97,
   "id": "8d594424",
   "metadata": {
    "ExecuteTime": {
     "end_time": "2022-04-01T11:04:28.629531Z",
     "start_time": "2022-04-01T11:04:28.597991Z"
    }
   },
   "outputs": [
    {
     "name": "stdout",
     "output_type": "stream",
     "text": [
      "Avg Accuracy: 0.17 +/- 0.00083\n",
      "Avg Balanced Accuracy: 0.17 +/- 0.00086\n",
      "Avg Kappa Score: 0.09 +/- 0.0009\n"
     ]
    }
   ],
   "source": [
    "print(f'Avg Accuracy: {np.round(np.mean(acc_over), 2)} +/- {np.round(np.std(acc_over),5)}')\n",
    "print(f'Avg Balanced Accuracy: {np.round(np.mean(balanced_acc_over), 2)} +/- {np.round(np.std(balanced_acc_over),5)}')\n",
    "print(f'Avg Kappa Score: {np.round(np.mean(kappa_over), 2)} +/- {np.round(np.std(kappa_over), 4)}')"
   ]
  },
  {
   "cell_type": "markdown",
   "id": "3b3b7390",
   "metadata": {},
   "source": [
    "### 7.2.4. Neural Network - SMOTE + TOMEKLINK"
   ]
  },
  {
   "cell_type": "code",
   "execution_count": 87,
   "id": "51494560",
   "metadata": {
    "ExecuteTime": {
     "end_time": "2022-04-01T07:26:01.364540Z",
     "start_time": "2022-04-01T06:30:55.033227Z"
    },
    "scrolled": true
   },
   "outputs": [
    {
     "name": "stdout",
     "output_type": "stream",
     "text": [
      "Epoch 1/100\n",
      "35681/35681 [==============================] - 33s 916us/step - loss: 3.3467 - accuracy: 0.1981\n",
      "Epoch 2/100\n",
      "35681/35681 [==============================] - 33s 920us/step - loss: 2.1488 - accuracy: 0.2074\n",
      "Epoch 3/100\n",
      "35681/35681 [==============================] - 34s 951us/step - loss: 2.1422 - accuracy: 0.2082\n",
      "Epoch 4/100\n",
      "35681/35681 [==============================] - 33s 934us/step - loss: 2.1404 - accuracy: 0.2086\n",
      "Epoch 5/100\n",
      "35681/35681 [==============================] - 33s 926us/step - loss: 2.1391 - accuracy: 0.2095\n",
      "Epoch 6/100\n",
      "35681/35681 [==============================] - 34s 964us/step - loss: 2.1382 - accuracy: 0.2101\n",
      "Epoch 7/100\n",
      "35681/35681 [==============================] - 35s 979us/step - loss: 2.1372 - accuracy: 0.2108\n",
      "Epoch 8/100\n",
      "35681/35681 [==============================] - 34s 943us/step - loss: 2.1369 - accuracy: 0.2109\n",
      "Epoch 9/100\n",
      "35681/35681 [==============================] - 33s 934us/step - loss: 2.1362 - accuracy: 0.2110\n",
      "Epoch 10/100\n",
      "35681/35681 [==============================] - 33s 928us/step - loss: 2.1354 - accuracy: 0.2118\n",
      "Epoch 11/100\n",
      "35681/35681 [==============================] - 33s 918us/step - loss: 2.1348 - accuracy: 0.2126\n",
      "Epoch 12/100\n",
      "35681/35681 [==============================] - 33s 912us/step - loss: 2.1343 - accuracy: 0.2128\n",
      "Epoch 13/100\n",
      "35681/35681 [==============================] - 33s 917us/step - loss: 2.1338 - accuracy: 0.2127\n",
      "Epoch 14/100\n",
      "35681/35681 [==============================] - 33s 918us/step - loss: 2.1332 - accuracy: 0.2138\n",
      "Epoch 15/100\n",
      "35681/35681 [==============================] - 33s 932us/step - loss: 2.1333 - accuracy: 0.2135\n",
      "Epoch 16/100\n",
      "35681/35681 [==============================] - 33s 938us/step - loss: 2.1328 - accuracy: 0.2138\n",
      "Epoch 17/100\n",
      "35681/35681 [==============================] - 33s 923us/step - loss: 2.1325 - accuracy: 0.2139\n",
      "Epoch 18/100\n",
      "35681/35681 [==============================] - 33s 915us/step - loss: 2.1319 - accuracy: 0.2147\n",
      "Epoch 19/100\n",
      "35681/35681 [==============================] - 32s 909us/step - loss: 2.1321 - accuracy: 0.2149\n",
      "Epoch 20/100\n",
      "35681/35681 [==============================] - 33s 919us/step - loss: 2.1316 - accuracy: 0.2152\n",
      "Epoch 21/100\n",
      "35681/35681 [==============================] - 32s 909us/step - loss: 2.1315 - accuracy: 0.2149\n",
      "Epoch 22/100\n",
      "35681/35681 [==============================] - 34s 950us/step - loss: 2.1316 - accuracy: 0.2150\n",
      "Epoch 23/100\n",
      "35681/35681 [==============================] - 32s 911us/step - loss: 2.1311 - accuracy: 0.2151\n",
      "Epoch 24/100\n",
      "35681/35681 [==============================] - 33s 919us/step - loss: 2.1313 - accuracy: 0.2152\n",
      "Epoch 25/100\n",
      "35681/35681 [==============================] - 33s 917us/step - loss: 2.1314 - accuracy: 0.2152\n",
      "Epoch 26/100\n",
      "35681/35681 [==============================] - 33s 915us/step - loss: 2.1310 - accuracy: 0.2153\n",
      "Epoch 27/100\n",
      "35681/35681 [==============================] - 33s 914us/step - loss: 2.1309 - accuracy: 0.2154\n",
      "Epoch 28/100\n",
      "35681/35681 [==============================] - 33s 916us/step - loss: 2.1307 - accuracy: 0.2154\n",
      "Epoch 29/100\n",
      "35681/35681 [==============================] - 33s 917us/step - loss: 2.1308 - accuracy: 0.2156\n",
      "Epoch 30/100\n",
      "35681/35681 [==============================] - 32s 910us/step - loss: 2.1308 - accuracy: 0.2154\n",
      "Epoch 31/100\n",
      "35681/35681 [==============================] - 33s 926us/step - loss: 2.1307 - accuracy: 0.2157\n",
      "Epoch 32/100\n",
      "35681/35681 [==============================] - 33s 912us/step - loss: 2.1304 - accuracy: 0.2161\n",
      "Epoch 33/100\n",
      "35681/35681 [==============================] - 33s 923us/step - loss: 2.1307 - accuracy: 0.2156\n",
      "Epoch 34/100\n",
      "35681/35681 [==============================] - 33s 935us/step - loss: 2.1304 - accuracy: 0.2159\n",
      "Epoch 35/100\n",
      "35681/35681 [==============================] - 35s 980us/step - loss: 2.1305 - accuracy: 0.2160\n",
      "Epoch 36/100\n",
      "35681/35681 [==============================] - 33s 916us/step - loss: 2.1306 - accuracy: 0.2162\n",
      "Epoch 37/100\n",
      "35681/35681 [==============================] - 33s 918us/step - loss: 2.1304 - accuracy: 0.2158\n",
      "Epoch 38/100\n",
      "35681/35681 [==============================] - 33s 921us/step - loss: 2.1304 - accuracy: 0.2158\n",
      "Epoch 39/100\n",
      "35681/35681 [==============================] - 33s 912us/step - loss: 2.1303 - accuracy: 0.2163\n",
      "Epoch 40/100\n",
      "35681/35681 [==============================] - 33s 938us/step - loss: 2.1305 - accuracy: 0.2158\n",
      "Epoch 41/100\n",
      "35681/35681 [==============================] - 33s 919us/step - loss: 2.1304 - accuracy: 0.2161\n",
      "Epoch 42/100\n",
      "35681/35681 [==============================] - 33s 921us/step - loss: 2.1305 - accuracy: 0.2158\n",
      "Epoch 43/100\n",
      "35681/35681 [==============================] - 33s 913us/step - loss: 2.1304 - accuracy: 0.2159\n",
      "Epoch 44/100\n",
      "35681/35681 [==============================] - 33s 918us/step - loss: 2.1306 - accuracy: 0.2163\n",
      "Epoch 45/100\n",
      "35681/35681 [==============================] - 33s 911us/step - loss: 2.1304 - accuracy: 0.2160\n",
      "Epoch 46/100\n",
      "35681/35681 [==============================] - 33s 919us/step - loss: 2.1306 - accuracy: 0.2159\n",
      "Epoch 47/100\n",
      "35681/35681 [==============================] - 33s 913us/step - loss: 2.1306 - accuracy: 0.2159\n",
      "Epoch 48/100\n",
      "35681/35681 [==============================] - 33s 918us/step - loss: 2.1304 - accuracy: 0.2160\n",
      "Epoch 49/100\n",
      "35681/35681 [==============================] - 33s 922us/step - loss: 2.1305 - accuracy: 0.2159\n",
      "Epoch 50/100\n",
      "35681/35681 [==============================] - 34s 947us/step - loss: 2.1302 - accuracy: 0.2164\n",
      "Epoch 51/100\n",
      "35681/35681 [==============================] - 33s 925us/step - loss: 2.1302 - accuracy: 0.2163\n",
      "Epoch 52/100\n",
      "35681/35681 [==============================] - 34s 942us/step - loss: 2.1307 - accuracy: 0.2160\n",
      "Epoch 53/100\n",
      "35681/35681 [==============================] - 34s 964us/step - loss: 2.1307 - accuracy: 0.2160\n",
      "Epoch 54/100\n",
      "35681/35681 [==============================] - 32s 909us/step - loss: 2.1308 - accuracy: 0.2159\n",
      "Epoch 55/100\n",
      "35681/35681 [==============================] - 33s 920us/step - loss: 2.1306 - accuracy: 0.2159\n",
      "Epoch 56/100\n",
      "35681/35681 [==============================] - 33s 915us/step - loss: 2.1309 - accuracy: 0.2159\n",
      "Epoch 57/100\n",
      "35681/35681 [==============================] - 33s 918us/step - loss: 2.1312 - accuracy: 0.2157\n",
      "Epoch 58/100\n",
      "35681/35681 [==============================] - 33s 912us/step - loss: 2.1310 - accuracy: 0.2158\n",
      "Epoch 59/100\n",
      "35681/35681 [==============================] - 33s 929us/step - loss: 2.1308 - accuracy: 0.2159\n",
      "Epoch 60/100\n",
      "35681/35681 [==============================] - 33s 919us/step - loss: 2.1310 - accuracy: 0.2158\n",
      "Epoch 61/100\n",
      "35681/35681 [==============================] - 33s 913us/step - loss: 2.1308 - accuracy: 0.2161\n",
      "Epoch 62/100\n",
      "35681/35681 [==============================] - 33s 921us/step - loss: 2.1309 - accuracy: 0.2159\n",
      "Epoch 63/100\n",
      "35681/35681 [==============================] - 34s 947us/step - loss: 2.1311 - accuracy: 0.2155\n",
      "Epoch 64/100\n",
      "35681/35681 [==============================] - 33s 918us/step - loss: 2.1308 - accuracy: 0.2157\n",
      "Epoch 65/100\n",
      "35681/35681 [==============================] - 33s 914us/step - loss: 2.1311 - accuracy: 0.2160\n",
      "Epoch 66/100\n",
      "35681/35681 [==============================] - 33s 919us/step - loss: 2.1307 - accuracy: 0.2160\n",
      "Epoch 67/100\n",
      "35681/35681 [==============================] - 33s 914us/step - loss: 2.1312 - accuracy: 0.2159\n",
      "Epoch 68/100\n",
      "35681/35681 [==============================] - 33s 929us/step - loss: 2.1313 - accuracy: 0.2158\n",
      "Epoch 69/100\n",
      "35681/35681 [==============================] - 33s 933us/step - loss: 2.1311 - accuracy: 0.2161\n",
      "Epoch 70/100\n",
      "35681/35681 [==============================] - 33s 938us/step - loss: 2.1319 - accuracy: 0.2161\n",
      "Epoch 71/100\n",
      "35681/35681 [==============================] - 33s 920us/step - loss: 2.1313 - accuracy: 0.2159\n",
      "Epoch 72/100\n",
      "35681/35681 [==============================] - 33s 911us/step - loss: 2.1310 - accuracy: 0.2161\n",
      "Epoch 73/100\n",
      "35681/35681 [==============================] - 33s 917us/step - loss: 2.1311 - accuracy: 0.2161\n",
      "Epoch 74/100\n",
      "35681/35681 [==============================] - 33s 914us/step - loss: 2.1316 - accuracy: 0.2160\n",
      "Epoch 75/100\n",
      "35681/35681 [==============================] - 33s 920us/step - loss: 2.1312 - accuracy: 0.2162\n",
      "Epoch 76/100\n",
      "35681/35681 [==============================] - 32s 909us/step - loss: 2.1316 - accuracy: 0.2158\n",
      "Epoch 77/100\n",
      "35681/35681 [==============================] - 35s 968us/step - loss: 2.1313 - accuracy: 0.2162\n",
      "Epoch 78/100\n",
      "35681/35681 [==============================] - 33s 916us/step - loss: 2.1311 - accuracy: 0.2163\n",
      "Epoch 79/100\n",
      "35681/35681 [==============================] - 33s 922us/step - loss: 2.1312 - accuracy: 0.2160\n",
      "Epoch 80/100\n",
      "35681/35681 [==============================] - 33s 918us/step - loss: 2.1311 - accuracy: 0.2160\n",
      "Epoch 81/100\n",
      "35681/35681 [==============================] - 33s 911us/step - loss: 2.1313 - accuracy: 0.2159\n",
      "Epoch 82/100\n",
      "35681/35681 [==============================] - 33s 921us/step - loss: 2.1313 - accuracy: 0.2160\n",
      "Epoch 83/100\n",
      "35681/35681 [==============================] - 33s 913us/step - loss: 2.1311 - accuracy: 0.2162\n",
      "Epoch 84/100\n",
      "35681/35681 [==============================] - 33s 918us/step - loss: 2.1315 - accuracy: 0.2157\n",
      "Epoch 85/100\n",
      "35681/35681 [==============================] - 32s 909us/step - loss: 2.1312 - accuracy: 0.2157\n",
      "Epoch 86/100\n",
      "35681/35681 [==============================] - 33s 928us/step - loss: 2.1314 - accuracy: 0.2159\n",
      "Epoch 87/100\n",
      "35681/35681 [==============================] - 33s 917us/step - loss: 2.1312 - accuracy: 0.2164\n",
      "Epoch 88/100\n",
      "35681/35681 [==============================] - 33s 918us/step - loss: 2.1309 - accuracy: 0.2164\n",
      "Epoch 89/100\n",
      "35681/35681 [==============================] - 33s 938us/step - loss: 2.1314 - accuracy: 0.2160\n",
      "Epoch 90/100\n",
      "35681/35681 [==============================] - 34s 951us/step - loss: 2.1312 - accuracy: 0.2159\n",
      "Epoch 91/100\n",
      "35681/35681 [==============================] - 33s 916us/step - loss: 2.1314 - accuracy: 0.2161\n",
      "Epoch 92/100\n",
      "35681/35681 [==============================] - 32s 908us/step - loss: 2.1309 - accuracy: 0.2157\n",
      "Epoch 93/100\n",
      "35681/35681 [==============================] - 33s 920us/step - loss: 2.1313 - accuracy: 0.2159\n",
      "Epoch 94/100\n",
      "35681/35681 [==============================] - 33s 911us/step - loss: 2.1313 - accuracy: 0.2163\n",
      "Epoch 95/100\n",
      "35681/35681 [==============================] - 33s 931us/step - loss: 2.1312 - accuracy: 0.2162\n",
      "Epoch 96/100\n",
      "35681/35681 [==============================] - 32s 910us/step - loss: 2.1312 - accuracy: 0.2161\n",
      "Epoch 97/100\n",
      "35681/35681 [==============================] - 33s 921us/step - loss: 2.1311 - accuracy: 0.2158\n",
      "Epoch 98/100\n",
      "35681/35681 [==============================] - 33s 913us/step - loss: 2.1312 - accuracy: 0.2160\n",
      "Epoch 99/100\n",
      "35681/35681 [==============================] - 33s 917us/step - loss: 2.1309 - accuracy: 0.2165\n",
      "Epoch 100/100\n",
      "35681/35681 [==============================] - 33s 916us/step - loss: 2.1304 - accuracy: 0.2161\n"
     ]
    },
    {
     "data": {
      "text/plain": [
       "<tensorflow.python.keras.callbacks.History at 0x138fd03ed60>"
      ]
     },
     "execution_count": 87,
     "metadata": {},
     "output_type": "execute_result"
    }
   ],
   "source": [
    "# model definition\n",
    "model_comb = ml.Sequential()\n",
    "model_comb.add( l.Dense(128, input_dim=x_train_comb.shape[1], activation='relu') )\n",
    "model_comb.add( l.Dense(12, activation='softmax') )\n",
    "\n",
    "# model compile\n",
    "model_comb.compile(loss='categorical_crossentropy', optimizer='adam', metrics=['accuracy'])\n",
    "\n",
    "# train model\n",
    "model_comb.fit(x_train_comb, y_train_comb, epochs=100)"
   ]
  },
  {
   "cell_type": "markdown",
   "id": "7e2efdd6",
   "metadata": {
    "ExecuteTime": {
     "end_time": "2022-03-09T02:32:36.774772Z",
     "start_time": "2022-03-09T02:32:36.732790Z"
    }
   },
   "source": [
    "#### 7.2.4.1. SMOTE + TOMEKLINK - Performance"
   ]
  },
  {
   "cell_type": "code",
   "execution_count": 88,
   "id": "ae999ad1",
   "metadata": {
    "ExecuteTime": {
     "end_time": "2022-04-01T07:28:36.189027Z",
     "start_time": "2022-04-01T07:28:25.672671Z"
    }
   },
   "outputs": [],
   "source": [
    "# prediction\n",
    "pred_comb_nn = model_comb.predict(x_test_comb)\n",
    "\n",
    "# invert prediction\n",
    "yhat_comb_nn = ohe.inverse_transform(pred_comb_nn)\n",
    "\n",
    "# invert validation response\n",
    "y_test_comb_nn = ohe.inverse_transform(y_test_comb)"
   ]
  },
  {
   "cell_type": "code",
   "execution_count": 89,
   "id": "269b06da",
   "metadata": {
    "ExecuteTime": {
     "end_time": "2022-04-01T07:28:39.220930Z",
     "start_time": "2022-04-01T07:28:39.095140Z"
    },
    "cell_style": "split"
   },
   "outputs": [
    {
     "data": {
      "text/plain": [
       "NL       0.084506\n",
       "CA       0.084078\n",
       "IT       0.083612\n",
       "ES       0.083465\n",
       "AU       0.083458\n",
       "DE       0.083231\n",
       "FR       0.083087\n",
       "NDF      0.083087\n",
       "GB       0.083006\n",
       "other    0.082961\n",
       "PT       0.082842\n",
       "US       0.082667\n",
       "dtype: float64"
      ]
     },
     "execution_count": 89,
     "metadata": {},
     "output_type": "execute_result"
    }
   ],
   "source": [
    "# check the balance of validation\n",
    "pd.DataFrame(y_test_comb_nn).value_counts(normalize=True)"
   ]
  },
  {
   "cell_type": "code",
   "execution_count": 90,
   "id": "c9059ad9",
   "metadata": {
    "ExecuteTime": {
     "end_time": "2022-04-01T07:28:41.888771Z",
     "start_time": "2022-04-01T07:28:41.849718Z"
    },
    "cell_style": "split"
   },
   "outputs": [
    {
     "data": {
      "text/plain": [
       "PT       0.472086\n",
       "other    0.223694\n",
       "US       0.196799\n",
       "NDF      0.083125\n",
       "CA       0.024295\n",
       "dtype: float64"
      ]
     },
     "execution_count": 90,
     "metadata": {},
     "output_type": "execute_result"
    }
   ],
   "source": [
    "# check the balance of result\n",
    "pd.DataFrame(yhat_comb_nn).value_counts(normalize=True)"
   ]
  },
  {
   "cell_type": "code",
   "execution_count": 91,
   "id": "37392137",
   "metadata": {
    "ExecuteTime": {
     "end_time": "2022-04-01T07:28:59.517732Z",
     "start_time": "2022-04-01T07:28:44.560717Z"
    },
    "scrolled": false
   },
   "outputs": [
    {
     "name": "stdout",
     "output_type": "stream",
     "text": [
      "Accuracy: 0.21757027549676297\n",
      "Balanced Accuracy: 0.21866692377245867\n",
      "Kappa Score: 0.14685820638473157\n",
      "              precision    recall  f1-score   support\n",
      "\n",
      "          AU       0.00      0.00      0.00     23823\n",
      "          CA       0.09      0.02      0.04     24000\n",
      "          DE       0.00      0.00      0.00     23758\n",
      "          ES       0.00      0.00      0.00     23825\n",
      "          FR       0.00      0.00      0.00     23717\n",
      "          GB       0.00      0.00      0.00     23694\n",
      "          IT       0.00      0.00      0.00     23867\n",
      "         NDF       1.00      1.00      1.00     23717\n",
      "          NL       0.00      0.00      0.00     24122\n",
      "          PT       0.12      0.68      0.20     23647\n",
      "          US       0.27      0.65      0.39     23597\n",
      "       other       0.10      0.27      0.15     23681\n",
      "\n",
      "    accuracy                           0.22    285448\n",
      "   macro avg       0.13      0.22      0.15    285448\n",
      "weighted avg       0.13      0.22      0.15    285448\n",
      "\n"
     ]
    },
    {
     "data": {
      "image/png": "[encoded data removed]",
      "text/plain": [
       "<Figure size 864x864 with 2 Axes>"
      ]
     },
     "metadata": {
      "needs_background": "light"
     },
     "output_type": "display_data"
    }
   ],
   "source": [
    "# Accuracy\n",
    "acc_comb_nn = m.accuracy_score( y_test_comb_nn, yhat_comb_nn )\n",
    "print(f'Accuracy: {acc_comb_nn}')\n",
    "\n",
    "# Balanced Accuracy\n",
    "balanced_acc_comb_nn = m.balanced_accuracy_score(y_test_comb_nn, yhat_comb_nn)\n",
    "print(f'Balanced Accuracy: {balanced_acc_comb_nn}')\n",
    "\n",
    "# Kappa Metrics\n",
    "kappa_comb_nn = m.cohen_kappa_score(y_test_comb_nn, yhat_comb_nn)\n",
    "print(f'Kappa Score: {kappa_comb_nn}')\n",
    "\n",
    "# Classification report\n",
    "print(m.classification_report(y_test_comb_nn, yhat_comb_nn))\n",
    "\n",
    "# Confusion Matrix\n",
    "mt.plot_confusion_matrix( y_test_comb_nn, yhat_comb_nn, normalize=False, figsize=(12,12));\n",
    "\n",
    "# Performance\n",
    "comb_performance = {'model': 'NN Model - SMOTE + TOMEKLINK', \n",
    "                    'acc': np.round(acc_comb_nn, 6), \n",
    "                    'balanced_acc': np.round(balanced_acc_comb_nn, 6), \n",
    "                    'kappa_score': np.round(kappa_comb_nn, 6)}"
   ]
  },
  {
   "cell_type": "markdown",
   "id": "93f34081",
   "metadata": {},
   "source": [
    "#### 7.2.4.2. SMOTE + TOMEKLINK - Cross-Validation"
   ]
  },
  {
   "cell_type": "code",
   "execution_count": 98,
   "id": "fdd30ed7",
   "metadata": {
    "ExecuteTime": {
     "end_time": "2022-04-01T16:08:03.086751Z",
     "start_time": "2022-04-01T11:04:31.252396Z"
    }
   },
   "outputs": [
    {
     "name": "stdout",
     "output_type": "stream",
     "text": [
      "Fold Number:1/5\n",
      "Fold Number:2/5\n",
      "Fold Number:3/5\n",
      "Fold Number:4/5\n",
      "Fold Number:5/5\n"
     ]
    }
   ],
   "source": [
    "# cross validation performance\n",
    "acc_comb, balanced_acc_comb, kappa_comb = cross_validation(num_fold=5, \n",
    "                                                           x_train=x_train_comb, \n",
    "                                                           y_train=y_train_comb, \n",
    "                                                           model=model_comb, \n",
    "                                                           verbose=True)"
   ]
  },
  {
   "cell_type": "code",
   "execution_count": 99,
   "id": "51afe1d9",
   "metadata": {
    "ExecuteTime": {
     "end_time": "2022-04-01T16:11:47.945855Z",
     "start_time": "2022-04-01T16:11:47.916856Z"
    }
   },
   "outputs": [],
   "source": [
    "# Performance\n",
    "comb_performance_cv = {'model': 'NN Model - SMOTE + TOMEKLINK - CV',\n",
    "                       'acc': f'{np.round(np.mean(acc_comb), 2)} +/- {np.round(np.std(acc_comb), 4)}',\n",
    "                       'balanced_acc': f'{np.round(np.mean(balanced_acc_comb), 2)} +/- {np.round(np.std(balanced_acc_comb), 4)}',\n",
    "                       'kappa_score': f'{np.round(np.mean(kappa_comb), 2)} +/- {np.round(np.std(kappa_comb), 4)}'}"
   ]
  },
  {
   "cell_type": "code",
   "execution_count": 100,
   "id": "6521ca2f",
   "metadata": {
    "ExecuteTime": {
     "end_time": "2022-04-01T16:11:50.565855Z",
     "start_time": "2022-04-01T16:11:50.551855Z"
    }
   },
   "outputs": [
    {
     "name": "stdout",
     "output_type": "stream",
     "text": [
      "Avg Accuracy: 0.22 +/- 0.00403\n",
      "Avg Balanced Accuracy: 0.22 +/- 0.00398\n",
      "Avg Kappa Score: 0.15 +/- 0.0044\n"
     ]
    }
   ],
   "source": [
    "print(f'Avg Accuracy: {np.round(np.mean(acc_comb), 2)} +/- {np.round(np.std(acc_comb),5)}')\n",
    "print(f'Avg Balanced Accuracy: {np.round(np.mean(balanced_acc_comb), 2)} +/- {np.round(np.std(balanced_acc_comb),5)}')\n",
    "print(f'Avg Kappa Score: {np.round(np.mean(kappa_comb), 2)} +/- {np.round(np.std(kappa_comb), 4)}')"
   ]
  },
  {
   "cell_type": "markdown",
   "id": "dec46b91",
   "metadata": {},
   "source": [
    "# 8.0. Hyper Parameter Tuning\n",
    "\n",
    "Hyper Parameter Tuning will not be considered until the most optimal machine learning model is selected, at this first cycle was considered only one model to complete the cycle and go through for all the major phases to validate the feasibility of the project."
   ]
  },
  {
   "cell_type": "code",
   "execution_count": null,
   "id": "2033ffaa",
   "metadata": {},
   "outputs": [],
   "source": []
  },
  {
   "cell_type": "markdown",
   "id": "caddd600",
   "metadata": {},
   "source": [
    "# 9.0. Error Translation and Interpretation"
   ]
  },
  {
   "cell_type": "code",
   "execution_count": null,
   "id": "d2005058",
   "metadata": {},
   "outputs": [],
   "source": []
  },
  {
   "cell_type": "markdown",
   "id": "2d632718",
   "metadata": {},
   "source": [
    "# 10.0. Deploy Model\n",
    "\n",
    "No models will be deployed yet."
   ]
  },
  {
   "cell_type": "markdown",
   "id": "4b36ff4e",
   "metadata": {},
   "source": [
    "# 11.0. Conclusion"
   ]
  },
  {
   "cell_type": "markdown",
   "id": "1a047f32",
   "metadata": {},
   "source": [
    "The use of 3 mechanisms to obtain a balanced distribution of classes was considered, including Random Undersampling, Random Oversampling and a synthetic sampling with data generation (SMOTE + Tomek Links).\n",
    "\n",
    "The last of them was the only one to present any gain of performance, increasing the balanced accuracy to 0.22, 30% more than the previous cycle.\n",
    "\n",
    "All balanced datasets showed similar results of Kappa Score, presenting a drop of 80% (0.77 to 0.15) in the oversamping mechanisms.\n",
    "\n",
    "Another difference observed was in the distribution of classes in the prediction data, with a greater plurality, previously concentrated between the two marjority classes (NDF and US).\n",
    "\n",
    "All the mechanisms will be maintained until the data preparation phase to evaluate the impact on results and verify if the Smote Tomek Links mechanism will continue with the best model's performance metrics."
   ]
  },
  {
   "cell_type": "markdown",
   "id": "ea3626b5",
   "metadata": {},
   "source": [
    "## 11.1. Current Cycle Performance"
   ]
  },
  {
   "cell_type": "code",
   "execution_count": 101,
   "id": "d9f67f74",
   "metadata": {
    "ExecuteTime": {
     "end_time": "2022-04-01T16:11:53.278637Z",
     "start_time": "2022-04-01T16:11:53.139874Z"
    },
    "hide_input": true
   },
   "outputs": [
    {
     "data": {
      "text/html": [
       "<div>\n",
       "<style scoped>\n",
       "    .dataframe tbody tr th:only-of-type {\n",
       "        vertical-align: middle;\n",
       "    }\n",
       "\n",
       "    .dataframe tbody tr th {\n",
       "        vertical-align: top;\n",
       "    }\n",
       "\n",
       "    .dataframe thead th {\n",
       "        text-align: right;\n",
       "    }\n",
       "</style>\n",
       "<table border=\"1\" class=\"dataframe\">\n",
       "  <thead>\n",
       "    <tr style=\"text-align: right;\">\n",
       "      <th></th>\n",
       "      <th>cycle</th>\n",
       "      <th>process</th>\n",
       "      <th>model</th>\n",
       "      <th>acc</th>\n",
       "      <th>balanced_acc</th>\n",
       "      <th>kappa_score</th>\n",
       "    </tr>\n",
       "  </thead>\n",
       "  <tbody>\n",
       "    <tr>\n",
       "      <th>0</th>\n",
       "      <td>5th_cycle</td>\n",
       "      <td>balanced_dataset</td>\n",
       "      <td>Baseline Model</td>\n",
       "      <td>0.428934</td>\n",
       "      <td>0.084661</td>\n",
       "      <td>NaN</td>\n",
       "    </tr>\n",
       "    <tr>\n",
       "      <th>1</th>\n",
       "      <td>5th_cycle</td>\n",
       "      <td>balanced_dataset</td>\n",
       "      <td>NN Model - Imbalanced Data</td>\n",
       "      <td>0.873915</td>\n",
       "      <td>0.16666</td>\n",
       "      <td>0.767212</td>\n",
       "    </tr>\n",
       "    <tr>\n",
       "      <th>2</th>\n",
       "      <td>5th_cycle</td>\n",
       "      <td>balanced_dataset</td>\n",
       "      <td>NN Model - Imbalanced Data - CV</td>\n",
       "      <td>0.87 +/- 0.0</td>\n",
       "      <td>0.17 +/- 0.0</td>\n",
       "      <td>0.77 +/- 0.0001</td>\n",
       "    </tr>\n",
       "    <tr>\n",
       "      <th>3</th>\n",
       "      <td>5th_cycle</td>\n",
       "      <td>balanced_dataset</td>\n",
       "      <td>NN Model - Random Undersampling</td>\n",
       "      <td>0.159136</td>\n",
       "      <td>0.165699</td>\n",
       "      <td>0.079652</td>\n",
       "    </tr>\n",
       "    <tr>\n",
       "      <th>4</th>\n",
       "      <td>5th_cycle</td>\n",
       "      <td>balanced_dataset</td>\n",
       "      <td>NN Model - Random Undersampling - CV</td>\n",
       "      <td>0.17 +/- 0.0024</td>\n",
       "      <td>0.17 +/- 0.0036</td>\n",
       "      <td>0.1 +/- 0.0037</td>\n",
       "    </tr>\n",
       "    <tr>\n",
       "      <th>5</th>\n",
       "      <td>5th_cycle</td>\n",
       "      <td>balanced_dataset</td>\n",
       "      <td>NN Model - Random Oversampling</td>\n",
       "      <td>0.166517</td>\n",
       "      <td>0.16674</td>\n",
       "      <td>0.090962</td>\n",
       "    </tr>\n",
       "    <tr>\n",
       "      <th>6</th>\n",
       "      <td>5th_cycle</td>\n",
       "      <td>balanced_dataset</td>\n",
       "      <td>NN Model - Random Oversampling - CV</td>\n",
       "      <td>0.17 +/- 0.0008</td>\n",
       "      <td>0.17 +/- 0.0009</td>\n",
       "      <td>0.09 +/- 0.0009</td>\n",
       "    </tr>\n",
       "    <tr>\n",
       "      <th>7</th>\n",
       "      <td>5th_cycle</td>\n",
       "      <td>balanced_dataset</td>\n",
       "      <td>NN Model - SMOTE + TOMEKLINK</td>\n",
       "      <td>0.21757</td>\n",
       "      <td>0.218667</td>\n",
       "      <td>0.146858</td>\n",
       "    </tr>\n",
       "    <tr>\n",
       "      <th>8</th>\n",
       "      <td>5th_cycle</td>\n",
       "      <td>balanced_dataset</td>\n",
       "      <td>NN Model - SMOTE + TOMEKLINK - CV</td>\n",
       "      <td>0.22 +/- 0.004</td>\n",
       "      <td>0.22 +/- 0.004</td>\n",
       "      <td>0.15 +/- 0.0044</td>\n",
       "    </tr>\n",
       "  </tbody>\n",
       "</table>\n",
       "</div>"
      ],
      "text/plain": [
       "       cycle           process                                 model  \\\n",
       "0  5th_cycle  balanced_dataset                        Baseline Model   \n",
       "1  5th_cycle  balanced_dataset            NN Model - Imbalanced Data   \n",
       "2  5th_cycle  balanced_dataset       NN Model - Imbalanced Data - CV   \n",
       "3  5th_cycle  balanced_dataset       NN Model - Random Undersampling   \n",
       "4  5th_cycle  balanced_dataset  NN Model - Random Undersampling - CV   \n",
       "5  5th_cycle  balanced_dataset        NN Model - Random Oversampling   \n",
       "6  5th_cycle  balanced_dataset   NN Model - Random Oversampling - CV   \n",
       "7  5th_cycle  balanced_dataset          NN Model - SMOTE + TOMEKLINK   \n",
       "8  5th_cycle  balanced_dataset     NN Model - SMOTE + TOMEKLINK - CV   \n",
       "\n",
       "               acc     balanced_acc      kappa_score  \n",
       "0         0.428934         0.084661              NaN  \n",
       "1         0.873915          0.16666         0.767212  \n",
       "2     0.87 +/- 0.0     0.17 +/- 0.0  0.77 +/- 0.0001  \n",
       "3         0.159136         0.165699         0.079652  \n",
       "4  0.17 +/- 0.0024  0.17 +/- 0.0036   0.1 +/- 0.0037  \n",
       "5         0.166517          0.16674         0.090962  \n",
       "6  0.17 +/- 0.0008  0.17 +/- 0.0009  0.09 +/- 0.0009  \n",
       "7          0.21757         0.218667         0.146858  \n",
       "8   0.22 +/- 0.004   0.22 +/- 0.004  0.15 +/- 0.0044  "
      ]
     },
     "execution_count": 101,
     "metadata": {},
     "output_type": "execute_result"
    }
   ],
   "source": [
    "# performance dataframe\n",
    "df_performance = pd.DataFrame([baseline_performance, imb_performance, imb_performance_cv, \n",
    "                               under_performance, under_performance_cv, \n",
    "                               over_performance, over_performance_cv, \n",
    "                               comb_performance, comb_performance_cv])\n",
    "\n",
    "df_performance['cycle'] = '5th_cycle'\n",
    "df_performance['process'] = 'balanced_dataset'\n",
    "df_performance = df_performance[['cycle', 'process', 'model', 'acc', 'balanced_acc', 'kappa_score']]\n",
    "\n",
    "# save 5th cycle to comparison\n",
    "df_performance.to_csv('../Datasets/5th_cycle_performance', index=False)\n",
    "\n",
    "# display performance dataframe\n",
    "df_performance"
   ]
  },
  {
   "cell_type": "markdown",
   "id": "ee164f41",
   "metadata": {},
   "source": [
    "## 11.2. Cycle Comparison"
   ]
  },
  {
   "cell_type": "code",
   "execution_count": 102,
   "id": "46353616",
   "metadata": {
    "ExecuteTime": {
     "end_time": "2022-04-01T16:11:56.292579Z",
     "start_time": "2022-04-01T16:11:56.183397Z"
    },
    "hide_input": true
   },
   "outputs": [
    {
     "data": {
      "text/html": [
       "<div>\n",
       "<style scoped>\n",
       "    .dataframe tbody tr th:only-of-type {\n",
       "        vertical-align: middle;\n",
       "    }\n",
       "\n",
       "    .dataframe tbody tr th {\n",
       "        vertical-align: top;\n",
       "    }\n",
       "\n",
       "    .dataframe thead th {\n",
       "        text-align: right;\n",
       "    }\n",
       "</style>\n",
       "<table border=\"1\" class=\"dataframe\">\n",
       "  <thead>\n",
       "    <tr style=\"text-align: right;\">\n",
       "      <th></th>\n",
       "      <th>cycle</th>\n",
       "      <th>process</th>\n",
       "      <th>model</th>\n",
       "      <th>acc</th>\n",
       "      <th>balanced_acc</th>\n",
       "      <th>kappa_score</th>\n",
       "    </tr>\n",
       "  </thead>\n",
       "  <tbody>\n",
       "    <tr>\n",
       "      <th>0</th>\n",
       "      <td>1st_cycle</td>\n",
       "      <td>validation_pipeline</td>\n",
       "      <td>Neural Network Model</td>\n",
       "      <td>0.70407</td>\n",
       "      <td>0</td>\n",
       "      <td>0</td>\n",
       "    </tr>\n",
       "    <tr>\n",
       "      <th>2</th>\n",
       "      <td>2nd_cycle</td>\n",
       "      <td>baseline_model</td>\n",
       "      <td>Neural Network Model</td>\n",
       "      <td>0.70275</td>\n",
       "      <td>0.091927</td>\n",
       "      <td>0.002145</td>\n",
       "    </tr>\n",
       "    <tr>\n",
       "      <th>4</th>\n",
       "      <td>3rd_cycle</td>\n",
       "      <td>replace_na</td>\n",
       "      <td>Neural Network Model</td>\n",
       "      <td>0.628333</td>\n",
       "      <td>0.107554</td>\n",
       "      <td>0.240606</td>\n",
       "    </tr>\n",
       "    <tr>\n",
       "      <th>5</th>\n",
       "      <td>3rd_cycle</td>\n",
       "      <td>replace_na</td>\n",
       "      <td>Neural Network Model - CV</td>\n",
       "      <td>0.63 +/- 0.0013</td>\n",
       "      <td>0.11 +/- 0.0009</td>\n",
       "      <td>0.24 +/- 0.0063</td>\n",
       "    </tr>\n",
       "    <tr>\n",
       "      <th>7</th>\n",
       "      <td>4th_cycle</td>\n",
       "      <td>feature_engineering</td>\n",
       "      <td>Neural Network Model</td>\n",
       "      <td>0.867452</td>\n",
       "      <td>0.165729</td>\n",
       "      <td>0.756099</td>\n",
       "    </tr>\n",
       "    <tr>\n",
       "      <th>8</th>\n",
       "      <td>4th_cycle</td>\n",
       "      <td>feature_engineering</td>\n",
       "      <td>Neural Network Model - CV</td>\n",
       "      <td>0.87 +/- 0.0</td>\n",
       "      <td>0.17 +/- 0.0</td>\n",
       "      <td>0.77 +/- 0.0001</td>\n",
       "    </tr>\n",
       "    <tr>\n",
       "      <th>10</th>\n",
       "      <td>5th_cycle</td>\n",
       "      <td>balanced_dataset</td>\n",
       "      <td>NN Model - Imbalanced Data</td>\n",
       "      <td>0.873915</td>\n",
       "      <td>0.16666</td>\n",
       "      <td>0.767212</td>\n",
       "    </tr>\n",
       "    <tr>\n",
       "      <th>11</th>\n",
       "      <td>5th_cycle</td>\n",
       "      <td>balanced_dataset</td>\n",
       "      <td>NN Model - Imbalanced Data - CV</td>\n",
       "      <td>0.87 +/- 0.0</td>\n",
       "      <td>0.17 +/- 0.0</td>\n",
       "      <td>0.77 +/- 0.0001</td>\n",
       "    </tr>\n",
       "    <tr>\n",
       "      <th>12</th>\n",
       "      <td>5th_cycle</td>\n",
       "      <td>balanced_dataset</td>\n",
       "      <td>NN Model - Random Undersampling</td>\n",
       "      <td>0.159136</td>\n",
       "      <td>0.165699</td>\n",
       "      <td>0.079652</td>\n",
       "    </tr>\n",
       "    <tr>\n",
       "      <th>13</th>\n",
       "      <td>5th_cycle</td>\n",
       "      <td>balanced_dataset</td>\n",
       "      <td>NN Model - Random Undersampling - CV</td>\n",
       "      <td>0.17 +/- 0.0024</td>\n",
       "      <td>0.17 +/- 0.0036</td>\n",
       "      <td>0.1 +/- 0.0037</td>\n",
       "    </tr>\n",
       "    <tr>\n",
       "      <th>14</th>\n",
       "      <td>5th_cycle</td>\n",
       "      <td>balanced_dataset</td>\n",
       "      <td>NN Model - Random Oversampling</td>\n",
       "      <td>0.166517</td>\n",
       "      <td>0.16674</td>\n",
       "      <td>0.090962</td>\n",
       "    </tr>\n",
       "    <tr>\n",
       "      <th>15</th>\n",
       "      <td>5th_cycle</td>\n",
       "      <td>balanced_dataset</td>\n",
       "      <td>NN Model - Random Oversampling - CV</td>\n",
       "      <td>0.17 +/- 0.0008</td>\n",
       "      <td>0.17 +/- 0.0009</td>\n",
       "      <td>0.09 +/- 0.0009</td>\n",
       "    </tr>\n",
       "    <tr>\n",
       "      <th>16</th>\n",
       "      <td>5th_cycle</td>\n",
       "      <td>balanced_dataset</td>\n",
       "      <td>NN Model - SMOTE + TOMEKLINK</td>\n",
       "      <td>0.21757</td>\n",
       "      <td>0.218667</td>\n",
       "      <td>0.146858</td>\n",
       "    </tr>\n",
       "    <tr>\n",
       "      <th>17</th>\n",
       "      <td>5th_cycle</td>\n",
       "      <td>balanced_dataset</td>\n",
       "      <td>NN Model - SMOTE + TOMEKLINK - CV</td>\n",
       "      <td>0.22 +/- 0.004</td>\n",
       "      <td>0.22 +/- 0.004</td>\n",
       "      <td>0.15 +/- 0.0044</td>\n",
       "    </tr>\n",
       "  </tbody>\n",
       "</table>\n",
       "</div>"
      ],
      "text/plain": [
       "        cycle              process                                 model  \\\n",
       "0   1st_cycle  validation_pipeline                  Neural Network Model   \n",
       "2   2nd_cycle       baseline_model                  Neural Network Model   \n",
       "4   3rd_cycle           replace_na                  Neural Network Model   \n",
       "5   3rd_cycle           replace_na             Neural Network Model - CV   \n",
       "7   4th_cycle  feature_engineering                  Neural Network Model   \n",
       "8   4th_cycle  feature_engineering             Neural Network Model - CV   \n",
       "10  5th_cycle     balanced_dataset            NN Model - Imbalanced Data   \n",
       "11  5th_cycle     balanced_dataset       NN Model - Imbalanced Data - CV   \n",
       "12  5th_cycle     balanced_dataset       NN Model - Random Undersampling   \n",
       "13  5th_cycle     balanced_dataset  NN Model - Random Undersampling - CV   \n",
       "14  5th_cycle     balanced_dataset        NN Model - Random Oversampling   \n",
       "15  5th_cycle     balanced_dataset   NN Model - Random Oversampling - CV   \n",
       "16  5th_cycle     balanced_dataset          NN Model - SMOTE + TOMEKLINK   \n",
       "17  5th_cycle     balanced_dataset     NN Model - SMOTE + TOMEKLINK - CV   \n",
       "\n",
       "                acc     balanced_acc      kappa_score  \n",
       "0           0.70407                0                0  \n",
       "2           0.70275         0.091927         0.002145  \n",
       "4          0.628333         0.107554         0.240606  \n",
       "5   0.63 +/- 0.0013  0.11 +/- 0.0009  0.24 +/- 0.0063  \n",
       "7          0.867452         0.165729         0.756099  \n",
       "8      0.87 +/- 0.0     0.17 +/- 0.0  0.77 +/- 0.0001  \n",
       "10         0.873915          0.16666         0.767212  \n",
       "11     0.87 +/- 0.0     0.17 +/- 0.0  0.77 +/- 0.0001  \n",
       "12         0.159136         0.165699         0.079652  \n",
       "13  0.17 +/- 0.0024  0.17 +/- 0.0036   0.1 +/- 0.0037  \n",
       "14         0.166517          0.16674         0.090962  \n",
       "15  0.17 +/- 0.0008  0.17 +/- 0.0009  0.09 +/- 0.0009  \n",
       "16          0.21757         0.218667         0.146858  \n",
       "17   0.22 +/- 0.004   0.22 +/- 0.004  0.15 +/- 0.0044  "
      ]
     },
     "execution_count": 102,
     "metadata": {},
     "output_type": "execute_result"
    }
   ],
   "source": [
    "# first cycle performance load\n",
    "performance_1st_cycle = pd.read_csv('../Datasets/1st_cycle_performance')\n",
    "\n",
    "# second cycle performance load\n",
    "performance_2nd_cycle = pd.read_csv('../Datasets/2nd_cycle_performance')\n",
    "\n",
    "# third cycle performance load\n",
    "performance_3rd_cycle = pd.read_csv('../Datasets/3rd_cycle_performance')\n",
    "\n",
    "# fourth cycle performance load\n",
    "performance_4th_cycle = pd.read_csv('../Datasets/4th_cycle_performance')\n",
    "\n",
    "# join cycles dataframes\n",
    "performance = pd.concat([performance_1st_cycle, \n",
    "                         performance_2nd_cycle, \n",
    "                         performance_3rd_cycle, \n",
    "                         performance_4th_cycle, \n",
    "                         df_performance]).reset_index(drop=True)\n",
    "\n",
    "# filter baseline model\n",
    "performance = performance[performance['model'] != 'Baseline Model'].fillna(0)\n",
    "\n",
    "# display performance\n",
    "performance"
   ]
  },
  {
   "cell_type": "code",
   "execution_count": 103,
   "id": "3738edb6",
   "metadata": {
    "ExecuteTime": {
     "end_time": "2022-04-01T16:11:59.918387Z",
     "start_time": "2022-04-01T16:11:58.951569Z"
    },
    "hide_input": true
   },
   "outputs": [
    {
     "data": {
      "image/png": "[encoded data removed]",
      "text/plain": [
       "<Figure size 1080x432 with 1 Axes>"
      ]
     },
     "metadata": {
      "needs_background": "light"
     },
     "output_type": "display_data"
    }
   ],
   "source": [
    "plt.figure(figsize=(15,6))\n",
    "\n",
    "# formated metrics\n",
    "performance['acc'] = performance['acc'].apply(lambda x: str(x)[0:4]).astype(float)\n",
    "\n",
    "performance['balanced_acc'] = performance['balanced_acc'].apply(lambda x: str(x)[0:4]).astype(float)\n",
    "\n",
    "performance['kappa_score'] = performance['kappa_score'].apply(lambda x: str(x)[0:4]).astype(float)\n",
    "\n",
    "\n",
    "# Evolution of Performance over Cycles\n",
    "sns.lineplot(x='cycle', y='acc', data=performance)\n",
    "\n",
    "sns.lineplot(x='cycle', y='balanced_acc', data=performance)\n",
    "\n",
    "sns.lineplot(x='cycle', y='kappa_score', data=performance)\n",
    "\n",
    "# set legend and titles\n",
    "plt.legend(labels=['Accuracy','Balanced Accuracy', 'Kappa Score'])\n",
    "plt.title('Evolution of Performance over Cycle')\n",
    "plt.ylabel('Percentage')\n",
    "plt.xlabel('Cycles');"
   ]
  },
  {
   "cell_type": "code",
   "execution_count": 104,
   "id": "a17bcd68",
   "metadata": {
    "ExecuteTime": {
     "end_time": "2022-04-01T16:12:02.504764Z",
     "start_time": "2022-04-01T16:12:02.476726Z"
    },
    "hide_input": true
   },
   "outputs": [
    {
     "data": {
      "text/html": [
       "<div>\n",
       "<style scoped>\n",
       "    .dataframe tbody tr th:only-of-type {\n",
       "        vertical-align: middle;\n",
       "    }\n",
       "\n",
       "    .dataframe tbody tr th {\n",
       "        vertical-align: top;\n",
       "    }\n",
       "\n",
       "    .dataframe thead th {\n",
       "        text-align: right;\n",
       "    }\n",
       "</style>\n",
       "<table border=\"1\" class=\"dataframe\">\n",
       "  <thead>\n",
       "    <tr style=\"text-align: right;\">\n",
       "      <th></th>\n",
       "      <th>cycle</th>\n",
       "      <th>process</th>\n",
       "      <th>model</th>\n",
       "      <th>acc</th>\n",
       "      <th>balanced_acc</th>\n",
       "      <th>kappa_score</th>\n",
       "    </tr>\n",
       "  </thead>\n",
       "  <tbody>\n",
       "    <tr>\n",
       "      <th>0</th>\n",
       "      <td>1st_cycle</td>\n",
       "      <td>validation_pipeline</td>\n",
       "      <td>Neural Network Model</td>\n",
       "      <td>0.70</td>\n",
       "      <td>0.00</td>\n",
       "      <td>0.00</td>\n",
       "    </tr>\n",
       "    <tr>\n",
       "      <th>2</th>\n",
       "      <td>2nd_cycle</td>\n",
       "      <td>baseline_model</td>\n",
       "      <td>Neural Network Model</td>\n",
       "      <td>0.70</td>\n",
       "      <td>0.09</td>\n",
       "      <td>0.00</td>\n",
       "    </tr>\n",
       "    <tr>\n",
       "      <th>4</th>\n",
       "      <td>3rd_cycle</td>\n",
       "      <td>replace_na</td>\n",
       "      <td>Neural Network Model</td>\n",
       "      <td>0.62</td>\n",
       "      <td>0.10</td>\n",
       "      <td>0.24</td>\n",
       "    </tr>\n",
       "    <tr>\n",
       "      <th>5</th>\n",
       "      <td>3rd_cycle</td>\n",
       "      <td>replace_na</td>\n",
       "      <td>Neural Network Model - CV</td>\n",
       "      <td>0.63</td>\n",
       "      <td>0.11</td>\n",
       "      <td>0.24</td>\n",
       "    </tr>\n",
       "    <tr>\n",
       "      <th>7</th>\n",
       "      <td>4th_cycle</td>\n",
       "      <td>feature_engineering</td>\n",
       "      <td>Neural Network Model</td>\n",
       "      <td>0.86</td>\n",
       "      <td>0.16</td>\n",
       "      <td>0.75</td>\n",
       "    </tr>\n",
       "    <tr>\n",
       "      <th>8</th>\n",
       "      <td>4th_cycle</td>\n",
       "      <td>feature_engineering</td>\n",
       "      <td>Neural Network Model - CV</td>\n",
       "      <td>0.87</td>\n",
       "      <td>0.17</td>\n",
       "      <td>0.77</td>\n",
       "    </tr>\n",
       "    <tr>\n",
       "      <th>10</th>\n",
       "      <td>5th_cycle</td>\n",
       "      <td>balanced_dataset</td>\n",
       "      <td>NN Model - Imbalanced Data</td>\n",
       "      <td>0.87</td>\n",
       "      <td>0.16</td>\n",
       "      <td>0.76</td>\n",
       "    </tr>\n",
       "    <tr>\n",
       "      <th>11</th>\n",
       "      <td>5th_cycle</td>\n",
       "      <td>balanced_dataset</td>\n",
       "      <td>NN Model - Imbalanced Data - CV</td>\n",
       "      <td>0.87</td>\n",
       "      <td>0.17</td>\n",
       "      <td>0.77</td>\n",
       "    </tr>\n",
       "    <tr>\n",
       "      <th>12</th>\n",
       "      <td>5th_cycle</td>\n",
       "      <td>balanced_dataset</td>\n",
       "      <td>NN Model - Random Undersampling</td>\n",
       "      <td>0.15</td>\n",
       "      <td>0.16</td>\n",
       "      <td>0.07</td>\n",
       "    </tr>\n",
       "    <tr>\n",
       "      <th>13</th>\n",
       "      <td>5th_cycle</td>\n",
       "      <td>balanced_dataset</td>\n",
       "      <td>NN Model - Random Undersampling - CV</td>\n",
       "      <td>0.17</td>\n",
       "      <td>0.17</td>\n",
       "      <td>0.10</td>\n",
       "    </tr>\n",
       "    <tr>\n",
       "      <th>14</th>\n",
       "      <td>5th_cycle</td>\n",
       "      <td>balanced_dataset</td>\n",
       "      <td>NN Model - Random Oversampling</td>\n",
       "      <td>0.16</td>\n",
       "      <td>0.16</td>\n",
       "      <td>0.09</td>\n",
       "    </tr>\n",
       "    <tr>\n",
       "      <th>15</th>\n",
       "      <td>5th_cycle</td>\n",
       "      <td>balanced_dataset</td>\n",
       "      <td>NN Model - Random Oversampling - CV</td>\n",
       "      <td>0.17</td>\n",
       "      <td>0.17</td>\n",
       "      <td>0.09</td>\n",
       "    </tr>\n",
       "    <tr>\n",
       "      <th>16</th>\n",
       "      <td>5th_cycle</td>\n",
       "      <td>balanced_dataset</td>\n",
       "      <td>NN Model - SMOTE + TOMEKLINK</td>\n",
       "      <td>0.21</td>\n",
       "      <td>0.21</td>\n",
       "      <td>0.14</td>\n",
       "    </tr>\n",
       "    <tr>\n",
       "      <th>17</th>\n",
       "      <td>5th_cycle</td>\n",
       "      <td>balanced_dataset</td>\n",
       "      <td>NN Model - SMOTE + TOMEKLINK - CV</td>\n",
       "      <td>0.22</td>\n",
       "      <td>0.22</td>\n",
       "      <td>0.15</td>\n",
       "    </tr>\n",
       "  </tbody>\n",
       "</table>\n",
       "</div>"
      ],
      "text/plain": [
       "        cycle              process                                 model  \\\n",
       "0   1st_cycle  validation_pipeline                  Neural Network Model   \n",
       "2   2nd_cycle       baseline_model                  Neural Network Model   \n",
       "4   3rd_cycle           replace_na                  Neural Network Model   \n",
       "5   3rd_cycle           replace_na             Neural Network Model - CV   \n",
       "7   4th_cycle  feature_engineering                  Neural Network Model   \n",
       "8   4th_cycle  feature_engineering             Neural Network Model - CV   \n",
       "10  5th_cycle     balanced_dataset            NN Model - Imbalanced Data   \n",
       "11  5th_cycle     balanced_dataset       NN Model - Imbalanced Data - CV   \n",
       "12  5th_cycle     balanced_dataset       NN Model - Random Undersampling   \n",
       "13  5th_cycle     balanced_dataset  NN Model - Random Undersampling - CV   \n",
       "14  5th_cycle     balanced_dataset        NN Model - Random Oversampling   \n",
       "15  5th_cycle     balanced_dataset   NN Model - Random Oversampling - CV   \n",
       "16  5th_cycle     balanced_dataset          NN Model - SMOTE + TOMEKLINK   \n",
       "17  5th_cycle     balanced_dataset     NN Model - SMOTE + TOMEKLINK - CV   \n",
       "\n",
       "     acc  balanced_acc  kappa_score  \n",
       "0   0.70          0.00         0.00  \n",
       "2   0.70          0.09         0.00  \n",
       "4   0.62          0.10         0.24  \n",
       "5   0.63          0.11         0.24  \n",
       "7   0.86          0.16         0.75  \n",
       "8   0.87          0.17         0.77  \n",
       "10  0.87          0.16         0.76  \n",
       "11  0.87          0.17         0.77  \n",
       "12  0.15          0.16         0.07  \n",
       "13  0.17          0.17         0.10  \n",
       "14  0.16          0.16         0.09  \n",
       "15  0.17          0.17         0.09  \n",
       "16  0.21          0.21         0.14  \n",
       "17  0.22          0.22         0.15  "
      ]
     },
     "execution_count": 104,
     "metadata": {},
     "output_type": "execute_result"
    }
   ],
   "source": [
    "performance"
   ]
  }
 ],
 "metadata": {
  "kernelspec": {
   "display_name": "Python 3 (ipykernel)",
   "language": "python",
   "name": "python3"
  },
  "language_info": {
   "codemirror_mode": {
    "name": "ipython",
    "version": 3
   },
   "file_extension": ".py",
   "mimetype": "text/x-python",
   "name": "python",
   "nbconvert_exporter": "python",
   "pygments_lexer": "ipython3",
   "version": "3.8.12"
  },
  "varInspector": {
   "cols": {
    "lenName": 16,
    "lenType": 16,
    "lenVar": 40
   },
   "kernels_config": {
    "python": {
     "delete_cmd_postfix": "",
     "delete_cmd_prefix": "del ",
     "library": "var_list.py",
     "varRefreshCmd": "print(var_dic_list())"
    },
    "r": {
     "delete_cmd_postfix": ") ",
     "delete_cmd_prefix": "rm(",
     "library": "var_list.r",
     "varRefreshCmd": "cat(var_dic_list()) "
    }
   },
   "types_to_exclude": [
    "module",
    "function",
    "builtin_function_or_method",
    "instance",
    "_Feature"
   ],
   "window_display": false
  }
 },
 "nbformat": 4,
 "nbformat_minor": 5
}
