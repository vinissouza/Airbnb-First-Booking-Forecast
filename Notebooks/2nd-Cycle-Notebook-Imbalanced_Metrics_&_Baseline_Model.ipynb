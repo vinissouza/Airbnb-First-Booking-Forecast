{
 "cells": [
  {
   "cell_type": "markdown",
   "id": "e9da1de2",
   "metadata": {
    "ExecuteTime": {
     "end_time": "2022-02-28T20:43:44.606104Z",
     "start_time": "2022-02-28T20:43:44.598146Z"
    }
   },
   "source": [
    "# 0.0. Imports"
   ]
  },
  {
   "cell_type": "code",
   "execution_count": 1,
   "id": "4a97ff0c",
   "metadata": {
    "ExecuteTime": {
     "end_time": "2022-03-30T14:53:58.028665Z",
     "start_time": "2022-03-30T14:53:50.265204Z"
    }
   },
   "outputs": [],
   "source": [
    "import random\n",
    "import pandas as pd\n",
    "import numpy  as np\n",
    "import warnings\n",
    "\n",
    "from sklearn    import model_selection as ms\n",
    "from sklearn    import preprocessing   as pp\n",
    "from sklearn    import metrics         as m\n",
    "from scikitplot import metrics         as mt\n",
    "\n",
    "from keras import models as ml\n",
    "from keras import layers as l\n",
    "\n",
    "warnings.filterwarnings('ignore')"
   ]
  },
  {
   "cell_type": "markdown",
   "id": "58b2f295",
   "metadata": {},
   "source": [
    "## 0.1. Auxiliar Functions"
   ]
  },
  {
   "cell_type": "code",
   "execution_count": null,
   "id": "c27e09c1",
   "metadata": {},
   "outputs": [],
   "source": []
  },
  {
   "cell_type": "markdown",
   "id": "04bd4aba",
   "metadata": {},
   "source": [
    "## 0.2. Load Data"
   ]
  },
  {
   "cell_type": "code",
   "execution_count": 2,
   "id": "05c73b56",
   "metadata": {
    "ExecuteTime": {
     "end_time": "2022-03-30T14:54:54.229572Z",
     "start_time": "2022-03-30T14:53:58.033670Z"
    }
   },
   "outputs": [],
   "source": [
    "# load training set of user\n",
    "data_users = pd.read_csv('../Datasets/train_users_2.csv', low_memory=False)\n",
    "\n",
    "# load web sessions log for users\n",
    "data_sessions = pd.read_csv('../Datasets/sessions.csv', low_memory=False)"
   ]
  },
  {
   "cell_type": "markdown",
   "id": "1179dcfc",
   "metadata": {},
   "source": [
    "# 1.0. Data Description"
   ]
  },
  {
   "cell_type": "code",
   "execution_count": 3,
   "id": "a59196b7",
   "metadata": {
    "ExecuteTime": {
     "end_time": "2022-03-30T14:54:54.910824Z",
     "start_time": "2022-03-30T14:54:54.321512Z"
    }
   },
   "outputs": [],
   "source": [
    "df01_users = data_users.copy()\n",
    "\n",
    "df01_sessions = data_sessions.copy()"
   ]
  },
  {
   "cell_type": "markdown",
   "id": "1ccddadb",
   "metadata": {},
   "source": [
    "## 1.1. Data Types"
   ]
  },
  {
   "cell_type": "code",
   "execution_count": 4,
   "id": "fe162f91",
   "metadata": {
    "ExecuteTime": {
     "end_time": "2022-03-30T14:54:55.270414Z",
     "start_time": "2022-03-30T14:54:54.927559Z"
    },
    "cell_style": "split"
   },
   "outputs": [
    {
     "data": {
      "text/plain": [
       "id                          object\n",
       "date_account_created        object\n",
       "timestamp_first_active       int64\n",
       "date_first_booking          object\n",
       "gender                      object\n",
       "age                        float64\n",
       "signup_method               object\n",
       "signup_flow                  int64\n",
       "language                    object\n",
       "affiliate_channel           object\n",
       "affiliate_provider          object\n",
       "first_affiliate_tracked     object\n",
       "signup_app                  object\n",
       "first_device_type           object\n",
       "first_browser               object\n",
       "country_destination         object\n",
       "dtype: object"
      ]
     },
     "execution_count": 4,
     "metadata": {},
     "output_type": "execute_result"
    }
   ],
   "source": [
    "df01_users.dtypes"
   ]
  },
  {
   "cell_type": "code",
   "execution_count": 5,
   "id": "859ee10e",
   "metadata": {
    "ExecuteTime": {
     "end_time": "2022-03-30T14:54:55.301373Z",
     "start_time": "2022-03-30T14:54:55.276374Z"
    },
    "cell_style": "split"
   },
   "outputs": [
    {
     "data": {
      "text/plain": [
       "user_id           object\n",
       "action            object\n",
       "action_type       object\n",
       "action_detail     object\n",
       "device_type       object\n",
       "secs_elapsed     float64\n",
       "dtype: object"
      ]
     },
     "execution_count": 5,
     "metadata": {},
     "output_type": "execute_result"
    }
   ],
   "source": [
    "df01_sessions.dtypes"
   ]
  },
  {
   "cell_type": "markdown",
   "id": "297d0bec",
   "metadata": {
    "cell_style": "center"
   },
   "source": [
    "## 1.2. Data Dimensions"
   ]
  },
  {
   "cell_type": "markdown",
   "id": "c617277e",
   "metadata": {},
   "source": [
    "### 1.2.1. Data Users Dimensions "
   ]
  },
  {
   "cell_type": "code",
   "execution_count": 6,
   "id": "6889bc8e",
   "metadata": {
    "ExecuteTime": {
     "end_time": "2022-03-30T14:54:55.363660Z",
     "start_time": "2022-03-30T14:54:55.307383Z"
    }
   },
   "outputs": [
    {
     "name": "stdout",
     "output_type": "stream",
     "text": [
      "Number of rows of users dataset: 213451\n",
      "Number of columnss of users dataset: 16\n"
     ]
    }
   ],
   "source": [
    "print( f'Number of rows of users dataset: {df01_users.shape[0]}')\n",
    "print( f'Number of columnss of users dataset: {df01_users.shape[1]}')"
   ]
  },
  {
   "cell_type": "markdown",
   "id": "152339da",
   "metadata": {},
   "source": [
    "### 1.2.2. Data Sessions Dimensions\n",
    "\n",
    "This dataset will not be used in this first cycle due to the granularity being action and we want to be user_id for now."
   ]
  },
  {
   "cell_type": "code",
   "execution_count": 7,
   "id": "c1459d2d",
   "metadata": {
    "ExecuteTime": {
     "end_time": "2022-03-30T14:54:55.395370Z",
     "start_time": "2022-03-30T14:54:55.370374Z"
    }
   },
   "outputs": [
    {
     "name": "stdout",
     "output_type": "stream",
     "text": [
      "Number of rows of sessions dataset: 10567737\n",
      "Number of columnss of session dataset: 6\n"
     ]
    }
   ],
   "source": [
    "print( f'Number of rows of sessions dataset: {df01_sessions.shape[0]}')\n",
    "print( f'Number of columnss of session dataset: {df01_sessions.shape[1]}')"
   ]
  },
  {
   "cell_type": "markdown",
   "id": "5ed2d4e7",
   "metadata": {},
   "source": [
    "## 1.3. Check NA"
   ]
  },
  {
   "cell_type": "code",
   "execution_count": 8,
   "id": "49097f87",
   "metadata": {
    "ExecuteTime": {
     "end_time": "2022-03-30T14:54:55.570373Z",
     "start_time": "2022-03-30T14:54:55.401376Z"
    },
    "cell_style": "split"
   },
   "outputs": [
    {
     "data": {
      "text/plain": [
       "id                              0\n",
       "date_account_created            0\n",
       "timestamp_first_active          0\n",
       "date_first_booking         124543\n",
       "gender                          0\n",
       "age                         87990\n",
       "signup_method                   0\n",
       "signup_flow                     0\n",
       "language                        0\n",
       "affiliate_channel               0\n",
       "affiliate_provider              0\n",
       "first_affiliate_tracked      6065\n",
       "signup_app                      0\n",
       "first_device_type               0\n",
       "first_browser                   0\n",
       "country_destination             0\n",
       "dtype: int64"
      ]
     },
     "execution_count": 8,
     "metadata": {},
     "output_type": "execute_result"
    }
   ],
   "source": [
    "df01_users.isna().sum()"
   ]
  },
  {
   "cell_type": "code",
   "execution_count": 9,
   "id": "c559b15b",
   "metadata": {
    "ExecuteTime": {
     "end_time": "2022-03-30T14:54:55.840671Z",
     "start_time": "2022-03-30T14:54:55.575375Z"
    },
    "cell_style": "split"
   },
   "outputs": [
    {
     "data": {
      "text/plain": [
       "id                         0.000000\n",
       "date_account_created       0.000000\n",
       "timestamp_first_active     0.000000\n",
       "date_first_booking         0.583473\n",
       "gender                     0.000000\n",
       "age                        0.412226\n",
       "signup_method              0.000000\n",
       "signup_flow                0.000000\n",
       "language                   0.000000\n",
       "affiliate_channel          0.000000\n",
       "affiliate_provider         0.000000\n",
       "first_affiliate_tracked    0.028414\n",
       "signup_app                 0.000000\n",
       "first_device_type          0.000000\n",
       "first_browser              0.000000\n",
       "country_destination        0.000000\n",
       "dtype: float64"
      ]
     },
     "execution_count": 9,
     "metadata": {},
     "output_type": "execute_result"
    }
   ],
   "source": [
    "df01_users.isna().sum()/df01_users.shape[0]"
   ]
  },
  {
   "cell_type": "markdown",
   "id": "bd581316",
   "metadata": {},
   "source": [
    "## 1.4. Fill NA\n",
    "\n",
    "To increase time, in this first cycle, the NA data will not be threatened and will just drop, even if important information is lost, such as an entire NDF response class."
   ]
  },
  {
   "cell_type": "code",
   "execution_count": 10,
   "id": "17027a20",
   "metadata": {
    "ExecuteTime": {
     "end_time": "2022-03-30T14:54:56.029639Z",
     "start_time": "2022-03-30T14:54:55.848365Z"
    }
   },
   "outputs": [],
   "source": [
    "df01_users = df01_users.dropna()"
   ]
  },
  {
   "cell_type": "markdown",
   "id": "7076ae4e",
   "metadata": {},
   "source": [
    "## 1.5. Change Data Type"
   ]
  },
  {
   "cell_type": "code",
   "execution_count": 11,
   "id": "793c65b7",
   "metadata": {
    "ExecuteTime": {
     "end_time": "2022-03-30T14:54:56.138319Z",
     "start_time": "2022-03-30T14:54:56.031650Z"
    }
   },
   "outputs": [
    {
     "data": {
      "text/html": [
       "<div>\n",
       "<style scoped>\n",
       "    .dataframe tbody tr th:only-of-type {\n",
       "        vertical-align: middle;\n",
       "    }\n",
       "\n",
       "    .dataframe tbody tr th {\n",
       "        vertical-align: top;\n",
       "    }\n",
       "\n",
       "    .dataframe thead th {\n",
       "        text-align: right;\n",
       "    }\n",
       "</style>\n",
       "<table border=\"1\" class=\"dataframe\">\n",
       "  <thead>\n",
       "    <tr style=\"text-align: right;\">\n",
       "      <th></th>\n",
       "      <th>id</th>\n",
       "      <th>date_account_created</th>\n",
       "      <th>timestamp_first_active</th>\n",
       "      <th>date_first_booking</th>\n",
       "      <th>gender</th>\n",
       "      <th>age</th>\n",
       "      <th>signup_method</th>\n",
       "      <th>signup_flow</th>\n",
       "      <th>language</th>\n",
       "      <th>affiliate_channel</th>\n",
       "      <th>affiliate_provider</th>\n",
       "      <th>first_affiliate_tracked</th>\n",
       "      <th>signup_app</th>\n",
       "      <th>first_device_type</th>\n",
       "      <th>first_browser</th>\n",
       "      <th>country_destination</th>\n",
       "    </tr>\n",
       "  </thead>\n",
       "  <tbody>\n",
       "    <tr>\n",
       "      <th>149036</th>\n",
       "      <td>ix24m4ua4l</td>\n",
       "      <td>2014-02-04</td>\n",
       "      <td>20140204015509</td>\n",
       "      <td>2014-02-04</td>\n",
       "      <td>MALE</td>\n",
       "      <td>40.0</td>\n",
       "      <td>basic</td>\n",
       "      <td>0</td>\n",
       "      <td>en</td>\n",
       "      <td>direct</td>\n",
       "      <td>direct</td>\n",
       "      <td>untracked</td>\n",
       "      <td>Web</td>\n",
       "      <td>Mac Desktop</td>\n",
       "      <td>Firefox</td>\n",
       "      <td>DE</td>\n",
       "    </tr>\n",
       "  </tbody>\n",
       "</table>\n",
       "</div>"
      ],
      "text/plain": [
       "                id date_account_created  timestamp_first_active  \\\n",
       "149036  ix24m4ua4l           2014-02-04          20140204015509   \n",
       "\n",
       "       date_first_booking gender   age signup_method  signup_flow language  \\\n",
       "149036         2014-02-04   MALE  40.0         basic            0       en   \n",
       "\n",
       "       affiliate_channel affiliate_provider first_affiliate_tracked  \\\n",
       "149036            direct             direct               untracked   \n",
       "\n",
       "       signup_app first_device_type first_browser country_destination  \n",
       "149036        Web       Mac Desktop       Firefox                  DE  "
      ]
     },
     "execution_count": 11,
     "metadata": {},
     "output_type": "execute_result"
    }
   ],
   "source": [
    "df01_users.sample(1)"
   ]
  },
  {
   "cell_type": "code",
   "execution_count": 12,
   "id": "d76d383f",
   "metadata": {
    "ExecuteTime": {
     "end_time": "2022-03-30T14:54:56.534614Z",
     "start_time": "2022-03-30T14:54:56.142256Z"
    }
   },
   "outputs": [],
   "source": [
    "# change date type\n",
    "df01_users['date_account_created'] = pd.to_datetime(df01_users['date_account_created'])\n",
    "df01_users['date_first_booking'] = pd.to_datetime(df01_users['date_first_booking'])\n",
    "\n",
    "# change datetime type\n",
    "df01_users['timestamp_first_active'] = pd.to_datetime(df01_users['timestamp_first_active'], format='%Y%m%d%H%M%S')\n",
    "\n",
    "# change age to int\n",
    "df01_users['age'] = df01_users['age'].astype(np.int64)"
   ]
  },
  {
   "cell_type": "code",
   "execution_count": 13,
   "id": "505514d3",
   "metadata": {
    "ExecuteTime": {
     "end_time": "2022-03-30T14:54:56.582613Z",
     "start_time": "2022-03-30T14:54:56.537616Z"
    }
   },
   "outputs": [
    {
     "data": {
      "text/html": [
       "<div>\n",
       "<style scoped>\n",
       "    .dataframe tbody tr th:only-of-type {\n",
       "        vertical-align: middle;\n",
       "    }\n",
       "\n",
       "    .dataframe tbody tr th {\n",
       "        vertical-align: top;\n",
       "    }\n",
       "\n",
       "    .dataframe thead th {\n",
       "        text-align: right;\n",
       "    }\n",
       "</style>\n",
       "<table border=\"1\" class=\"dataframe\">\n",
       "  <thead>\n",
       "    <tr style=\"text-align: right;\">\n",
       "      <th></th>\n",
       "      <th>id</th>\n",
       "      <th>date_account_created</th>\n",
       "      <th>timestamp_first_active</th>\n",
       "      <th>date_first_booking</th>\n",
       "      <th>gender</th>\n",
       "      <th>age</th>\n",
       "      <th>signup_method</th>\n",
       "      <th>signup_flow</th>\n",
       "      <th>language</th>\n",
       "      <th>affiliate_channel</th>\n",
       "      <th>affiliate_provider</th>\n",
       "      <th>first_affiliate_tracked</th>\n",
       "      <th>signup_app</th>\n",
       "      <th>first_device_type</th>\n",
       "      <th>first_browser</th>\n",
       "      <th>country_destination</th>\n",
       "    </tr>\n",
       "  </thead>\n",
       "  <tbody>\n",
       "    <tr>\n",
       "      <th>143809</th>\n",
       "      <td>nkfhgap1hj</td>\n",
       "      <td>2014-01-20</td>\n",
       "      <td>2014-01-20 02:25:00</td>\n",
       "      <td>2014-05-29</td>\n",
       "      <td>FEMALE</td>\n",
       "      <td>36</td>\n",
       "      <td>facebook</td>\n",
       "      <td>0</td>\n",
       "      <td>en</td>\n",
       "      <td>sem-brand</td>\n",
       "      <td>google</td>\n",
       "      <td>omg</td>\n",
       "      <td>Web</td>\n",
       "      <td>Mac Desktop</td>\n",
       "      <td>Firefox</td>\n",
       "      <td>other</td>\n",
       "    </tr>\n",
       "  </tbody>\n",
       "</table>\n",
       "</div>"
      ],
      "text/plain": [
       "                id date_account_created timestamp_first_active  \\\n",
       "143809  nkfhgap1hj           2014-01-20    2014-01-20 02:25:00   \n",
       "\n",
       "       date_first_booking  gender  age signup_method  signup_flow language  \\\n",
       "143809         2014-05-29  FEMALE   36      facebook            0       en   \n",
       "\n",
       "       affiliate_channel affiliate_provider first_affiliate_tracked  \\\n",
       "143809         sem-brand             google                     omg   \n",
       "\n",
       "       signup_app first_device_type first_browser country_destination  \n",
       "143809        Web       Mac Desktop       Firefox               other  "
      ]
     },
     "execution_count": 13,
     "metadata": {},
     "output_type": "execute_result"
    }
   ],
   "source": [
    "df01_users.sample(1)"
   ]
  },
  {
   "cell_type": "code",
   "execution_count": 14,
   "id": "e7b73c50",
   "metadata": {
    "ExecuteTime": {
     "end_time": "2022-03-30T14:54:56.614613Z",
     "start_time": "2022-03-30T14:54:56.586616Z"
    }
   },
   "outputs": [
    {
     "data": {
      "text/plain": [
       "id                                 object\n",
       "date_account_created       datetime64[ns]\n",
       "timestamp_first_active     datetime64[ns]\n",
       "date_first_booking         datetime64[ns]\n",
       "gender                             object\n",
       "age                                 int64\n",
       "signup_method                      object\n",
       "signup_flow                         int64\n",
       "language                           object\n",
       "affiliate_channel                  object\n",
       "affiliate_provider                 object\n",
       "first_affiliate_tracked            object\n",
       "signup_app                         object\n",
       "first_device_type                  object\n",
       "first_browser                      object\n",
       "country_destination                object\n",
       "dtype: object"
      ]
     },
     "execution_count": 14,
     "metadata": {},
     "output_type": "execute_result"
    }
   ],
   "source": [
    "df01_users.dtypes"
   ]
  },
  {
   "cell_type": "markdown",
   "id": "b4774540",
   "metadata": {},
   "source": [
    "## 1.6. Check Balanced Data\n",
    "\n",
    "Data with an unbalance of 70% for the US class."
   ]
  },
  {
   "cell_type": "code",
   "execution_count": 15,
   "id": "8f5cdc46",
   "metadata": {
    "ExecuteTime": {
     "end_time": "2022-03-30T14:54:56.646613Z",
     "start_time": "2022-03-30T14:54:56.617615Z"
    }
   },
   "outputs": [
    {
     "data": {
      "text/plain": [
       "US       0.708864\n",
       "other    0.110854\n",
       "FR       0.054085\n",
       "IT       0.029763\n",
       "GB       0.025935\n",
       "ES       0.024864\n",
       "CA       0.015696\n",
       "DE       0.012454\n",
       "NL       0.008801\n",
       "AU       0.006366\n",
       "PT       0.002318\n",
       "Name: country_destination, dtype: float64"
      ]
     },
     "execution_count": 15,
     "metadata": {},
     "output_type": "execute_result"
    }
   ],
   "source": [
    "df01_users['country_destination'].value_counts(normalize=True)"
   ]
  },
  {
   "cell_type": "markdown",
   "id": "bbe57720",
   "metadata": {},
   "source": [
    "# 2.0. Feature Engineering\n",
    "\n",
    "To increase time, no feature engineering will be done for this first cycle."
   ]
  },
  {
   "cell_type": "code",
   "execution_count": 16,
   "id": "f64c4deb",
   "metadata": {
    "ExecuteTime": {
     "end_time": "2022-03-30T14:54:56.678623Z",
     "start_time": "2022-03-30T14:54:56.649615Z"
    }
   },
   "outputs": [],
   "source": [
    "df02_users = df01_users.copy()"
   ]
  },
  {
   "cell_type": "markdown",
   "id": "b0f5b037",
   "metadata": {},
   "source": [
    "# 3.0. Data Filtering\n",
    "\n",
    "To increase time, the Data Filtering stage will be skipped in this first cycle."
   ]
  },
  {
   "cell_type": "code",
   "execution_count": 17,
   "id": "26b87f66",
   "metadata": {
    "ExecuteTime": {
     "end_time": "2022-03-30T14:54:56.710624Z",
     "start_time": "2022-03-30T14:54:56.682615Z"
    }
   },
   "outputs": [],
   "source": [
    "df03_users = df02_users.copy()"
   ]
  },
  {
   "cell_type": "markdown",
   "id": "80d07e8f",
   "metadata": {
    "heading_collapsed": true
   },
   "source": [
    "## 3.1. Filtering Rows"
   ]
  },
  {
   "cell_type": "markdown",
   "id": "d9303a1b",
   "metadata": {},
   "source": [
    "## 3.2. Columns Selection"
   ]
  },
  {
   "cell_type": "code",
   "execution_count": 18,
   "id": "9a9e9038",
   "metadata": {
    "ExecuteTime": {
     "end_time": "2022-03-30T14:54:56.742628Z",
     "start_time": "2022-03-30T14:54:56.713616Z"
    }
   },
   "outputs": [],
   "source": [
    "df03_users = df03_users.drop(['id'], axis=1)"
   ]
  },
  {
   "cell_type": "markdown",
   "id": "20d1ff53",
   "metadata": {},
   "source": [
    "# 4.0. Data Exploratory Analysis\n",
    "\n",
    "To increase time, the EDA stage will be skipped in this first cycle."
   ]
  },
  {
   "cell_type": "code",
   "execution_count": 19,
   "id": "c5e9da71",
   "metadata": {
    "ExecuteTime": {
     "end_time": "2022-03-30T14:54:56.758618Z",
     "start_time": "2022-03-30T14:54:56.745613Z"
    }
   },
   "outputs": [],
   "source": [
    "df04_users = df03_users.copy()"
   ]
  },
  {
   "cell_type": "markdown",
   "id": "868b4156",
   "metadata": {},
   "source": [
    "# 5.0. Data Preparation"
   ]
  },
  {
   "cell_type": "code",
   "execution_count": 20,
   "id": "5fcd8687",
   "metadata": {
    "ExecuteTime": {
     "end_time": "2022-03-30T14:54:56.789642Z",
     "start_time": "2022-03-30T14:54:56.762614Z"
    }
   },
   "outputs": [],
   "source": [
    "df05_users = df04_users.copy()"
   ]
  },
  {
   "cell_type": "markdown",
   "id": "d972eb81",
   "metadata": {},
   "source": [
    "## 5.1. Encoding"
   ]
  },
  {
   "cell_type": "code",
   "execution_count": 21,
   "id": "53e5ef72",
   "metadata": {
    "ExecuteTime": {
     "end_time": "2022-03-30T14:54:57.120557Z",
     "start_time": "2022-03-30T14:54:56.791613Z"
    }
   },
   "outputs": [],
   "source": [
    "# dummy variable\n",
    "df05_users_dummy = pd.get_dummies(df05_users.drop(['country_destination'], axis=1))\n",
    "\n",
    "# join id and country destination\n",
    "df05_users = pd.concat( [df05_users['country_destination'], df05_users_dummy], axis=1 )"
   ]
  },
  {
   "cell_type": "markdown",
   "id": "234d92f2",
   "metadata": {},
   "source": [
    "## 5.2. Response Variable"
   ]
  },
  {
   "cell_type": "code",
   "execution_count": 22,
   "id": "6184cebd",
   "metadata": {
    "ExecuteTime": {
     "end_time": "2022-03-30T14:54:57.247442Z",
     "start_time": "2022-03-30T14:54:57.123591Z"
    }
   },
   "outputs": [],
   "source": [
    "# create OneHotEncoder instance\n",
    "ohe = pp.OneHotEncoder()\n",
    "\n",
    "# ohe hot encoding response feature\n",
    "df_ohe = pd.DataFrame(ohe.fit_transform(df05_users['country_destination'].values.reshape(-1,1)).toarray(),\n",
    "                      columns=ohe.categories_[0],\n",
    "                      index=df05_users.index)\n",
    "\n",
    "# joining encoded response feature to dataset\n",
    "df05_users = pd.concat([df05_users.drop(columns=['country_destination']), df_ohe], axis=1)"
   ]
  },
  {
   "cell_type": "markdown",
   "id": "56417dc6",
   "metadata": {},
   "source": [
    "# 6.0. Feature Selection\n",
    "\n",
    "Original date will be discarded in this first cycle because data must first be derived from them, like years and months."
   ]
  },
  {
   "cell_type": "code",
   "execution_count": 23,
   "id": "924a6eec",
   "metadata": {
    "ExecuteTime": {
     "end_time": "2022-03-30T14:54:57.278727Z",
     "start_time": "2022-03-30T14:54:57.250465Z"
    }
   },
   "outputs": [],
   "source": [
    "df06_users = df05_users.copy()"
   ]
  },
  {
   "cell_type": "code",
   "execution_count": 24,
   "id": "3aa224e1",
   "metadata": {
    "ExecuteTime": {
     "end_time": "2022-03-30T14:54:57.310557Z",
     "start_time": "2022-03-30T14:54:57.282456Z"
    }
   },
   "outputs": [],
   "source": [
    "# droping original dates \n",
    "cols_drop = ['date_account_created', 'timestamp_first_active', 'date_first_booking']\n",
    "df06_users = df06_users.drop(cols_drop, axis=1)"
   ]
  },
  {
   "cell_type": "markdown",
   "id": "d4e1c131",
   "metadata": {},
   "source": [
    "## 6.1. Split Dataframe into Training and Test Dataset"
   ]
  },
  {
   "cell_type": "code",
   "execution_count": 25,
   "id": "c4bc27ff",
   "metadata": {
    "ExecuteTime": {
     "end_time": "2022-03-30T14:54:57.357544Z",
     "start_time": "2022-03-30T14:54:57.313454Z"
    }
   },
   "outputs": [],
   "source": [
    "# separate features dataset\n",
    "X = df06_users.drop(columns=ohe.categories_[0])\n",
    "\n",
    "# separate response dataset\n",
    "y = df06_users[ohe.categories_[0]]"
   ]
  },
  {
   "cell_type": "code",
   "execution_count": 26,
   "id": "2526e910",
   "metadata": {
    "ExecuteTime": {
     "end_time": "2022-03-30T14:54:57.404471Z",
     "start_time": "2022-03-30T14:54:57.360456Z"
    }
   },
   "outputs": [],
   "source": [
    "# Split dataset into training and test (validation)\n",
    "X_train, X_test, y_train, y_test = ms.train_test_split(X, y, test_size=0.2, random_state=32)"
   ]
  },
  {
   "cell_type": "markdown",
   "id": "c9ee0881",
   "metadata": {},
   "source": [
    "# 7.0. Machine Learing Model"
   ]
  },
  {
   "cell_type": "code",
   "execution_count": 27,
   "id": "b9dfd8fe",
   "metadata": {
    "ExecuteTime": {
     "end_time": "2022-03-30T14:54:57.420544Z",
     "start_time": "2022-03-30T14:54:57.408455Z"
    }
   },
   "outputs": [],
   "source": [
    "# training dataset and validation dataset\n",
    "x_train = X_train\n",
    "x_test = X_test"
   ]
  },
  {
   "cell_type": "markdown",
   "id": "b3107f01",
   "metadata": {},
   "source": [
    "## 7.1. Baseline Model - Random"
   ]
  },
  {
   "cell_type": "code",
   "execution_count": 28,
   "id": "c5ee811a",
   "metadata": {
    "ExecuteTime": {
     "end_time": "2022-03-30T14:54:57.500554Z",
     "start_time": "2022-03-30T14:54:57.435458Z"
    }
   },
   "outputs": [],
   "source": [
    "# list of country destination\n",
    "country_list = ohe.categories_[0].tolist()\n",
    "\n",
    "# number of rows\n",
    "k_num = y_test.shape[0]\n",
    "\n",
    "# proportion of country destinations for imbalanced result\n",
    "df_ohe = pd.DataFrame(ohe.inverse_transform(df06_users[ohe.categories_[0]]))\n",
    "country_weights = df_ohe.value_counts(normalize=True).sort_index().tolist()\n",
    "\n",
    "# prediction\n",
    "yhat_random = random.choices(population=country_list,\n",
    "                             weights=country_weights,\n",
    "                             k=k_num)\n",
    "\n",
    "# invert validation response\n",
    "y_test_random = ohe.inverse_transform(y_test)"
   ]
  },
  {
   "cell_type": "markdown",
   "id": "ed89c1cb",
   "metadata": {},
   "source": [
    "### 7.1.1. Baseline Model - Performance"
   ]
  },
  {
   "cell_type": "code",
   "execution_count": 29,
   "id": "6c0dee68",
   "metadata": {
    "ExecuteTime": {
     "end_time": "2022-03-30T14:55:00.030413Z",
     "start_time": "2022-03-30T14:54:57.503456Z"
    }
   },
   "outputs": [
    {
     "name": "stdout",
     "output_type": "stream",
     "text": [
      "Accuracy 0.5135313531353135\n",
      "Balanced Accuracy: 0.09030840320411301\n",
      "Kappa Score: -0.004768991672081668\n",
      "              precision    recall  f1-score   support\n",
      "\n",
      "          AU       0.00      0.00      0.00       101\n",
      "          CA       0.02      0.02      0.02       214\n",
      "          DE       0.01      0.01      0.01       170\n",
      "          ES       0.03      0.03      0.03       345\n",
      "          FR       0.05      0.05      0.05       710\n",
      "          GB       0.02      0.02      0.02       344\n",
      "          IT       0.03      0.03      0.03       423\n",
      "          NL       0.02      0.02      0.02       128\n",
      "          PT       0.00      0.00      0.00        36\n",
      "          US       0.70      0.70      0.70      9624\n",
      "       other       0.10      0.11      0.10      1540\n",
      "\n",
      "    accuracy                           0.51     13635\n",
      "   macro avg       0.09      0.09      0.09     13635\n",
      "weighted avg       0.51      0.51      0.51     13635\n",
      "\n"
     ]
    },
    {
     "data": {
      "image/png": "[encoded data removed]",
      "text/plain": [
       "<Figure size 864x864 with 2 Axes>"
      ]
     },
     "metadata": {
      "needs_background": "light"
     },
     "output_type": "display_data"
    }
   ],
   "source": [
    "# Accuracy\n",
    "acc_random = m.accuracy_score( y_test_random, yhat_random )\n",
    "print(f'Accuracy {acc_random}')\n",
    "\n",
    "# Balanced Accuracy\n",
    "balanced_acc_random = m.balanced_accuracy_score(y_test_random, yhat_random)\n",
    "print(f'Balanced Accuracy: {balanced_acc_random}')\n",
    "\n",
    "# Kappa Metrics\n",
    "kappa_random = m.cohen_kappa_score(y_test_random, yhat_random)\n",
    "print(f'Kappa Score: {kappa_random}')\n",
    "\n",
    "# Classification report\n",
    "print(m.classification_report(y_test_random, yhat_random))\n",
    "\n",
    "# Confusion Matrix\n",
    "mt.plot_confusion_matrix(y_test_random, yhat_random, normalize=False, figsize=(12,12));\n",
    "\n",
    "# Performance\n",
    "baseline_performance = {'model': 'Baseline Model', \n",
    "                        'acc': acc_random, \n",
    "                        'balanced_acc': balanced_acc_random, \n",
    "                        'kappa_score': kappa_random}"
   ]
  },
  {
   "cell_type": "markdown",
   "id": "74175f4b",
   "metadata": {},
   "source": [
    "## 7.2. Neural Network - MLP"
   ]
  },
  {
   "cell_type": "code",
   "execution_count": 30,
   "id": "fa3d36ec",
   "metadata": {
    "ExecuteTime": {
     "end_time": "2022-03-30T14:58:41.202645Z",
     "start_time": "2022-03-30T14:55:00.034414Z"
    },
    "scrolled": true
   },
   "outputs": [
    {
     "name": "stdout",
     "output_type": "stream",
     "text": [
      "Epoch 1/100\n",
      "1705/1705 [==============================] - 2s 1ms/step - loss: 1.3543 - accuracy: 0.7009\n",
      "Epoch 2/100\n",
      "1705/1705 [==============================] - 2s 1ms/step - loss: 1.2682 - accuracy: 0.7069\n",
      "Epoch 3/100\n",
      "1705/1705 [==============================] - 2s 992us/step - loss: 1.2472 - accuracy: 0.7077\n",
      "Epoch 4/100\n",
      "1705/1705 [==============================] - 2s 999us/step - loss: 1.2204 - accuracy: 0.7084\n",
      "Epoch 5/100\n",
      "1705/1705 [==============================] - 2s 1ms/step - loss: 1.2086 - accuracy: 0.7083\n",
      "Epoch 6/100\n",
      "1705/1705 [==============================] - 2s 995us/step - loss: 1.1878 - accuracy: 0.7086\n",
      "Epoch 7/100\n",
      "1705/1705 [==============================] - 2s 995us/step - loss: 1.1774 - accuracy: 0.7085\n",
      "Epoch 8/100\n",
      "1705/1705 [==============================] - 2s 992us/step - loss: 1.1631 - accuracy: 0.7087\n",
      "Epoch 9/100\n",
      "1705/1705 [==============================] - 2s 1ms/step - loss: 1.1496 - accuracy: 0.7087\n",
      "Epoch 10/100\n",
      "1705/1705 [==============================] - 2s 1000us/step - loss: 1.1426 - accuracy: 0.7088\n",
      "Epoch 11/100\n",
      "1705/1705 [==============================] - 2s 985us/step - loss: 1.1363 - accuracy: 0.7090\n",
      "Epoch 12/100\n",
      "1705/1705 [==============================] - 2s 975us/step - loss: 1.1334 - accuracy: 0.7093\n",
      "Epoch 13/100\n",
      "1705/1705 [==============================] - 2s 996us/step - loss: 1.1308 - accuracy: 0.7095\n",
      "Epoch 14/100\n",
      "1705/1705 [==============================] - 2s 989us/step - loss: 1.1300 - accuracy: 0.7096\n",
      "Epoch 15/100\n",
      "1705/1705 [==============================] - 2s 986us/step - loss: 1.1284 - accuracy: 0.7096\n",
      "Epoch 16/100\n",
      "1705/1705 [==============================] - 2s 982us/step - loss: 1.1275 - accuracy: 0.7097\n",
      "Epoch 17/100\n",
      "1705/1705 [==============================] - 2s 996us/step - loss: 1.1270 - accuracy: 0.7096\n",
      "Epoch 18/100\n",
      "1705/1705 [==============================] - 2s 1ms/step - loss: 1.1260 - accuracy: 0.7097: 0s - loss: 1.1246 - accuracy:  - ETA: 0s - loss: 1.1\n",
      "Epoch 19/100\n",
      "1705/1705 [==============================] - 2s 1ms/step - loss: 1.1249 - accuracy: 0.7097\n",
      "Epoch 20/100\n",
      "1705/1705 [==============================] - 2s 1ms/step - loss: 1.1248 - accuracy: 0.7097\n",
      "Epoch 21/100\n",
      "1705/1705 [==============================] - 2s 1ms/step - loss: 1.1230 - accuracy: 0.7098\n",
      "Epoch 22/100\n",
      "1705/1705 [==============================] - 2s 1ms/step - loss: 1.1232 - accuracy: 0.7098\n",
      "Epoch 23/100\n",
      "1705/1705 [==============================] - 2s 1ms/step - loss: 1.1220 - accuracy: 0.7099\n",
      "Epoch 24/100\n",
      "1705/1705 [==============================] - 2s 1ms/step - loss: 1.1211 - accuracy: 0.7097\n",
      "Epoch 25/100\n",
      "1705/1705 [==============================] - 2s 995us/step - loss: 1.1205 - accuracy: 0.7100\n",
      "Epoch 26/100\n",
      "1705/1705 [==============================] - 2s 1ms/step - loss: 1.1198 - accuracy: 0.7099\n",
      "Epoch 27/100\n",
      "1705/1705 [==============================] - 2s 1ms/step - loss: 1.1196 - accuracy: 0.7099\n",
      "Epoch 28/100\n",
      "1705/1705 [==============================] - 2s 996us/step - loss: 1.1184 - accuracy: 0.7100\n",
      "Epoch 29/100\n",
      "1705/1705 [==============================] - 2s 1ms/step - loss: 1.1170 - accuracy: 0.7100\n",
      "Epoch 30/100\n",
      "1705/1705 [==============================] - 2s 987us/step - loss: 1.1175 - accuracy: 0.7101\n",
      "Epoch 31/100\n",
      "1705/1705 [==============================] - 2s 989us/step - loss: 1.1163 - accuracy: 0.7101\n",
      "Epoch 32/100\n",
      "1705/1705 [==============================] - 2s 995us/step - loss: 1.1159 - accuracy: 0.7103\n",
      "Epoch 33/100\n",
      "1705/1705 [==============================] - 2s 1ms/step - loss: 1.1151 - accuracy: 0.7103\n",
      "Epoch 34/100\n",
      "1705/1705 [==============================] - 2s 1ms/step - loss: 1.1145 - accuracy: 0.7102\n",
      "Epoch 35/100\n",
      "1705/1705 [==============================] - 2s 1ms/step - loss: 1.1143 - accuracy: 0.7103\n",
      "Epoch 36/100\n",
      "1705/1705 [==============================] - 2s 1ms/step - loss: 1.1132 - accuracy: 0.7103\n",
      "Epoch 37/100\n",
      "1705/1705 [==============================] - 2s 994us/step - loss: 1.1131 - accuracy: 0.7104\n",
      "Epoch 38/100\n",
      "1705/1705 [==============================] - 2s 989us/step - loss: 1.1118 - accuracy: 0.7104\n",
      "Epoch 39/100\n",
      "1705/1705 [==============================] - 2s 1ms/step - loss: 1.1119 - accuracy: 0.7103\n",
      "Epoch 40/100\n",
      "1705/1705 [==============================] - 2s 989us/step - loss: 1.1111 - accuracy: 0.7104\n",
      "Epoch 41/100\n",
      "1705/1705 [==============================] - 2s 992us/step - loss: 1.1109 - accuracy: 0.7105\n",
      "Epoch 42/100\n",
      "1705/1705 [==============================] - 2s 1ms/step - loss: 1.1105 - accuracy: 0.7106\n",
      "Epoch 43/100\n",
      "1705/1705 [==============================] - 2s 1ms/step - loss: 1.1107 - accuracy: 0.7104\n",
      "Epoch 44/100\n",
      "1705/1705 [==============================] - 2s 988us/step - loss: 1.1088 - accuracy: 0.7106\n",
      "Epoch 45/100\n",
      "1705/1705 [==============================] - 3s 2ms/step - loss: 1.1088 - accuracy: 0.7106\n",
      "Epoch 46/100\n",
      "1705/1705 [==============================] - 3s 2ms/step - loss: 1.1087 - accuracy: 0.7106\n",
      "Epoch 47/100\n",
      "1705/1705 [==============================] - 2s 1ms/step - loss: 1.1078 - accuracy: 0.7104\n",
      "Epoch 48/100\n",
      "1705/1705 [==============================] - 3s 2ms/step - loss: 1.1069 - accuracy: 0.7108\n",
      "Epoch 49/100\n",
      "1705/1705 [==============================] - 4s 2ms/step - loss: 1.1072 - accuracy: 0.7109: 0s - loss: 1.1075 - accuracy: 0.71\n",
      "Epoch 50/100\n",
      "1705/1705 [==============================] - 3s 2ms/step - loss: 1.1066 - accuracy: 0.7111: 2s - loss: 1.1036 - ac - ETA -\n",
      "Epoch 51/100\n",
      "1705/1705 [==============================] - 2s 1ms/step - loss: 1.1061 - accuracy: 0.7109\n",
      "Epoch 52/100\n",
      "1705/1705 [==============================] - 3s 2ms/step - loss: 1.1059 - accuracy: 0.7111\n",
      "Epoch 53/100\n",
      "1705/1705 [==============================] - 3s 2ms/step - loss: 1.1061 - accuracy: 0.7111\n",
      "Epoch 54/100\n",
      "1705/1705 [==============================] - 3s 1ms/step - loss: 1.1059 - accuracy: 0.7112\n",
      "Epoch 55/100\n",
      "1705/1705 [==============================] - 3s 2ms/step - loss: 1.1048 - accuracy: 0.7111\n",
      "Epoch 56/100\n",
      "1705/1705 [==============================] - 4s 2ms/step - loss: 1.1050 - accuracy: 0.7111: 0s -\n",
      "Epoch 57/100\n",
      "1705/1705 [==============================] - 2s 1ms/step - loss: 1.1046 - accuracy: 0.7113: 1s - loss: - ETA: 0s - loss: 1.1058 - accuracy: \n",
      "Epoch 58/100\n",
      "1705/1705 [==============================] - 3s 2ms/step - loss: 1.1038 - accuracy: 0.7111: 11s - lo - ETA: 5s - l - ETA - ETA: 0s - loss: 1.1033 \n",
      "Epoch 59/100\n",
      "1705/1705 [==============================] - 2s 965us/step - loss: 1.1036 - accuracy: 0.7113\n",
      "Epoch 60/100\n",
      "1705/1705 [==============================] - 2s 1ms/step - loss: 1.1031 - accuracy: 0.7114\n",
      "Epoch 61/100\n",
      "1705/1705 [==============================] - 4s 2ms/step - loss: 1.1026 - accuracy: 0.7116\n",
      "Epoch 62/100\n",
      "1705/1705 [==============================] - 4s 2ms/step - loss: 1.1028 - accuracy: 0.7113\n",
      "Epoch 63/100\n",
      "1705/1705 [==============================] - 3s 2ms/step - loss: 1.1023 - accuracy: 0.7114\n",
      "Epoch 64/100\n",
      "1705/1705 [==============================] - 3s 2ms/step - loss: 1.1013 - accuracy: 0.7115: 1s - loss: 1\n",
      "Epoch 65/100\n",
      "1705/1705 [==============================] - 3s 2ms/step - loss: 1.1018 - accuracy: 0.7116\n",
      "Epoch 66/100\n",
      "1705/1705 [==============================] - 2s 1ms/step - loss: 1.1011 - accuracy: 0.7115\n",
      "Epoch 67/100\n",
      "1705/1705 [==============================] - 2s 1ms/step - loss: 1.1009 - accuracy: 0.7115\n",
      "Epoch 68/100\n",
      "1705/1705 [==============================] - 2s 974us/step - loss: 1.1005 - accuracy: 0.7115\n",
      "Epoch 69/100\n",
      "1705/1705 [==============================] - 2s 1ms/step - loss: 1.1002 - accuracy: 0.7115\n",
      "Epoch 70/100\n",
      "1705/1705 [==============================] - 2s 1ms/step - loss: 1.0999 - accuracy: 0.7118\n",
      "Epoch 71/100\n",
      "1705/1705 [==============================] - 2s 1ms/step - loss: 1.0997 - accuracy: 0.7114\n",
      "Epoch 72/100\n",
      "1705/1705 [==============================] - 2s 988us/step - loss: 1.1000 - accuracy: 0.7116\n",
      "Epoch 73/100\n",
      "1705/1705 [==============================] - 2s 1ms/step - loss: 1.1006 - accuracy: 0.7118\n",
      "Epoch 74/100\n",
      "1705/1705 [==============================] - 2s 931us/step - loss: 1.0997 - accuracy: 0.7115\n",
      "Epoch 75/100\n",
      "1705/1705 [==============================] - 2s 1ms/step - loss: 1.0991 - accuracy: 0.7119\n",
      "Epoch 76/100\n"
     ]
    },
    {
     "name": "stdout",
     "output_type": "stream",
     "text": [
      "1705/1705 [==============================] - 2s 1ms/step - loss: 1.0990 - accuracy: 0.7118\n",
      "Epoch 77/100\n",
      "1705/1705 [==============================] - 2s 987us/step - loss: 1.0981 - accuracy: 0.7121\n",
      "Epoch 78/100\n",
      "1705/1705 [==============================] - 4s 2ms/step - loss: 1.0983 - accuracy: 0.7119\n",
      "Epoch 79/100\n",
      "1705/1705 [==============================] - 3s 2ms/step - loss: 1.0979 - accuracy: 0.7120\n",
      "Epoch 80/100\n",
      "1705/1705 [==============================] - 2s 1ms/step - loss: 1.0975 - accuracy: 0.7122\n",
      "Epoch 81/100\n",
      "1705/1705 [==============================] - 2s 1ms/step - loss: 1.0977 - accuracy: 0.7121\n",
      "Epoch 82/100\n",
      "1705/1705 [==============================] - 4s 2ms/step - loss: 1.0971 - accuracy: 0.7121\n",
      "Epoch 83/100\n",
      "1705/1705 [==============================] - 3s 2ms/step - loss: 1.0970 - accuracy: 0.7121\n",
      "Epoch 84/100\n",
      "1705/1705 [==============================] - 3s 2ms/step - loss: 1.0964 - accuracy: 0.7118\n",
      "Epoch 85/100\n",
      "1705/1705 [==============================] - 3s 2ms/step - loss: 1.0968 - accuracy: 0.7120\n",
      "Epoch 86/100\n",
      "1705/1705 [==============================] - 2s 1ms/step - loss: 1.0968 - accuracy: 0.7122\n",
      "Epoch 87/100\n",
      "1705/1705 [==============================] - 3s 1ms/step - loss: 1.0968 - accuracy: 0.7119\n",
      "Epoch 88/100\n",
      "1705/1705 [==============================] - 2s 1ms/step - loss: 1.0961 - accuracy: 0.7123\n",
      "Epoch 89/100\n",
      "1705/1705 [==============================] - 2s 1ms/step - loss: 1.0962 - accuracy: 0.7122: 0s - loss: 1\n",
      "Epoch 90/100\n",
      "1705/1705 [==============================] - 2s 1ms/step - loss: 1.0958 - accuracy: 0.7120\n",
      "Epoch 91/100\n",
      "1705/1705 [==============================] - 2s 1ms/step - loss: 1.0954 - accuracy: 0.7121\n",
      "Epoch 92/100\n",
      "1705/1705 [==============================] - 2s 1ms/step - loss: 1.0949 - accuracy: 0.7122\n",
      "Epoch 93/100\n",
      "1705/1705 [==============================] - 2s 1ms/step - loss: 1.0955 - accuracy: 0.7124\n",
      "Epoch 94/100\n",
      "1705/1705 [==============================] - 2s 1ms/step - loss: 1.0954 - accuracy: 0.7123\n",
      "Epoch 95/100\n",
      "1705/1705 [==============================] - 2s 1ms/step - loss: 1.0943 - accuracy: 0.7124: 0s - loss: 1.0935 - accuracy: 0.71\n",
      "Epoch 96/100\n",
      "1705/1705 [==============================] - 2s 1ms/step - loss: 1.0940 - accuracy: 0.7123\n",
      "Epoch 97/100\n",
      "1705/1705 [==============================] - 2s 1ms/step - loss: 1.0945 - accuracy: 0.7120\n",
      "Epoch 98/100\n",
      "1705/1705 [==============================] - 2s 1ms/step - loss: 1.0935 - accuracy: 0.7127\n",
      "Epoch 99/100\n",
      "1705/1705 [==============================] - 2s 1ms/step - loss: 1.0942 - accuracy: 0.7126\n",
      "Epoch 100/100\n",
      "1705/1705 [==============================] - 2s 1ms/step - loss: 1.0935 - accuracy: 0.7127\n"
     ]
    },
    {
     "data": {
      "text/plain": [
       "<tensorflow.python.keras.callbacks.History at 0x1b805b69460>"
      ]
     },
     "execution_count": 30,
     "metadata": {},
     "output_type": "execute_result"
    }
   ],
   "source": [
    "# model definition\n",
    "model = ml.Sequential()\n",
    "model.add( l.Dense(128, input_dim=x_train.shape[1], activation='relu') )\n",
    "model.add( l.Dense(11, activation='softmax') )\n",
    "\n",
    "# model compile\n",
    "model.compile(loss='categorical_crossentropy', optimizer='adam', metrics=['accuracy'])\n",
    "\n",
    "# train model\n",
    "model.fit(x_train, y_train, epochs=100)"
   ]
  },
  {
   "cell_type": "markdown",
   "id": "4eb0ffe6",
   "metadata": {
    "ExecuteTime": {
     "end_time": "2022-03-08T22:07:26.026368Z",
     "start_time": "2022-03-08T22:07:26.012364Z"
    }
   },
   "source": [
    "### 7.2.1. Neural Network - Performance"
   ]
  },
  {
   "cell_type": "code",
   "execution_count": 31,
   "id": "2d9372bc",
   "metadata": {
    "ExecuteTime": {
     "end_time": "2022-03-30T14:58:41.865194Z",
     "start_time": "2022-03-30T14:58:41.204647Z"
    }
   },
   "outputs": [],
   "source": [
    "# prediction\n",
    "pred_nn = model.predict(x_test)\n",
    "\n",
    "# invert prediction\n",
    "yhat_nn = ohe.inverse_transform(pred_nn)\n",
    "\n",
    "# invert validation response\n",
    "y_test_nn = ohe.inverse_transform(y_test)"
   ]
  },
  {
   "cell_type": "code",
   "execution_count": 32,
   "id": "5913dfcb",
   "metadata": {
    "ExecuteTime": {
     "end_time": "2022-03-30T14:58:41.896913Z",
     "start_time": "2022-03-30T14:58:41.868919Z"
    },
    "cell_style": "split"
   },
   "outputs": [
    {
     "data": {
      "text/plain": [
       "US       0.705831\n",
       "other    0.112945\n",
       "FR       0.052072\n",
       "IT       0.031023\n",
       "ES       0.025303\n",
       "GB       0.025229\n",
       "CA       0.015695\n",
       "DE       0.012468\n",
       "NL       0.009388\n",
       "AU       0.007407\n",
       "PT       0.002640\n",
       "dtype: float64"
      ]
     },
     "execution_count": 32,
     "metadata": {},
     "output_type": "execute_result"
    }
   ],
   "source": [
    "# check the balance of validation\n",
    "pd.DataFrame(y_test_nn).value_counts(normalize=True)"
   ]
  },
  {
   "cell_type": "code",
   "execution_count": 33,
   "id": "d689958c",
   "metadata": {
    "ExecuteTime": {
     "end_time": "2022-03-30T14:58:41.927915Z",
     "start_time": "2022-03-30T14:58:41.900927Z"
    },
    "cell_style": "split"
   },
   "outputs": [
    {
     "data": {
      "text/plain": [
       "US       0.994133\n",
       "other    0.003227\n",
       "ES       0.001320\n",
       "FR       0.000513\n",
       "IT       0.000513\n",
       "CA       0.000073\n",
       "DE       0.000073\n",
       "GB       0.000073\n",
       "NL       0.000073\n",
       "dtype: float64"
      ]
     },
     "execution_count": 33,
     "metadata": {},
     "output_type": "execute_result"
    }
   ],
   "source": [
    "# check the balance of result\n",
    "pd.DataFrame(yhat_nn).value_counts(normalize=True)"
   ]
  },
  {
   "cell_type": "code",
   "execution_count": 34,
   "id": "80d55381",
   "metadata": {
    "ExecuteTime": {
     "end_time": "2022-03-30T14:58:44.062917Z",
     "start_time": "2022-03-30T14:58:41.931917Z"
    }
   },
   "outputs": [
    {
     "name": "stdout",
     "output_type": "stream",
     "text": [
      "Accuracy: 0.7026769343601027\n",
      "Balanced Accuracy: 0.0911536542863364\n",
      "Kappa Score: 0.0018212927830808523\n",
      "              precision    recall  f1-score   support\n",
      "\n",
      "          AU       0.00      0.00      0.00       101\n",
      "          CA       0.00      0.00      0.00       214\n",
      "          DE       0.00      0.00      0.00       170\n",
      "          ES       0.06      0.00      0.01       345\n",
      "          FR       0.00      0.00      0.00       710\n",
      "          GB       0.00      0.00      0.00       344\n",
      "          IT       0.00      0.00      0.00       423\n",
      "          NL       0.00      0.00      0.00       128\n",
      "          PT       0.00      0.00      0.00        36\n",
      "          US       0.71      0.99      0.83      9624\n",
      "       other       0.18      0.01      0.01      1540\n",
      "\n",
      "    accuracy                           0.70     13635\n",
      "   macro avg       0.09      0.09      0.08     13635\n",
      "weighted avg       0.52      0.70      0.58     13635\n",
      "\n"
     ]
    },
    {
     "data": {
      "image/png": "[encoded data removed]",
      "text/plain": [
       "<Figure size 864x864 with 2 Axes>"
      ]
     },
     "metadata": {
      "needs_background": "light"
     },
     "output_type": "display_data"
    }
   ],
   "source": [
    "# Accuracy\n",
    "acc_nn = m.accuracy_score( y_test_nn, yhat_nn )\n",
    "print(f'Accuracy: {acc_nn}')\n",
    "\n",
    "# Balanced Accuracy\n",
    "balanced_acc_nn = m.balanced_accuracy_score(y_test_nn, yhat_nn)\n",
    "print(f'Balanced Accuracy: {balanced_acc_nn}')\n",
    "\n",
    "# Kappa Metrics\n",
    "kappa_nn = m.cohen_kappa_score(y_test_nn, yhat_nn)\n",
    "print(f'Kappa Score: {kappa_nn}')\n",
    "\n",
    "# Classification report\n",
    "print(m.classification_report(y_test_nn, yhat_nn))\n",
    "\n",
    "# Confusion Matrix\n",
    "mt.plot_confusion_matrix( y_test_nn, yhat_nn, normalize=False, figsize=(12,12));\n",
    "\n",
    "# Performance\n",
    "nn_performance = {'model': 'Neural Network Model', \n",
    "                  'acc': acc_nn, \n",
    "                  'balanced_acc': balanced_acc_nn, \n",
    "                  'kappa_score': kappa_nn}"
   ]
  },
  {
   "cell_type": "markdown",
   "id": "dec46b91",
   "metadata": {},
   "source": [
    "# 8.0. Hyper Parameter Tuning\n",
    "\n",
    "Hyper Parameter Tuning will not be considered until the most optimal machine learning model is selected, at this first cycle was considered only one model to complete the cycle and go through for all the major phases to validate the feasibility of the project."
   ]
  },
  {
   "cell_type": "code",
   "execution_count": null,
   "id": "6af5d649",
   "metadata": {},
   "outputs": [],
   "source": []
  },
  {
   "cell_type": "markdown",
   "id": "caddd600",
   "metadata": {},
   "source": [
    "# 9.0. Error Translation and Interpretation"
   ]
  },
  {
   "cell_type": "code",
   "execution_count": null,
   "id": "9644ada5",
   "metadata": {},
   "outputs": [],
   "source": []
  },
  {
   "cell_type": "markdown",
   "id": "2d632718",
   "metadata": {},
   "source": [
    "# 10.0. Deploy Model\n",
    "\n",
    "No models will be deployed yet."
   ]
  },
  {
   "cell_type": "code",
   "execution_count": null,
   "id": "a610263d",
   "metadata": {},
   "outputs": [],
   "source": []
  },
  {
   "cell_type": "markdown",
   "id": "ec223cac",
   "metadata": {},
   "source": [
    "# 11.0. Conclusion"
   ]
  },
  {
   "cell_type": "markdown",
   "id": "5b79f617",
   "metadata": {},
   "source": [
    "Using the appropriate metrics for imbalanced datasets, the real efficiency of the model can be assessed by analyzing its performance for minority classes.\n",
    "\n",
    "Through Balanced Accuracy and Kappa Score metrics, it is possible to develop a model that better fits the type of problem (multiclass and imbalanced data) and measure the impact of improvements done during the cycles.\n",
    "\n",
    "From the results obtained, the model performance is still very low (less than 10% accuracy), with values close to the reference model, which randomly chooses classes according to the frequency of their respective presence in the training datasets."
   ]
  },
  {
   "cell_type": "markdown",
   "id": "d6d2495b",
   "metadata": {},
   "source": [
    "## 11.1. Current Cycle Performance"
   ]
  },
  {
   "cell_type": "code",
   "execution_count": 35,
   "id": "ea817ce3",
   "metadata": {
    "ExecuteTime": {
     "end_time": "2022-03-30T14:58:44.126916Z",
     "start_time": "2022-03-30T14:58:44.069918Z"
    },
    "hide_input": false
   },
   "outputs": [
    {
     "data": {
      "text/html": [
       "<div>\n",
       "<style scoped>\n",
       "    .dataframe tbody tr th:only-of-type {\n",
       "        vertical-align: middle;\n",
       "    }\n",
       "\n",
       "    .dataframe tbody tr th {\n",
       "        vertical-align: top;\n",
       "    }\n",
       "\n",
       "    .dataframe thead th {\n",
       "        text-align: right;\n",
       "    }\n",
       "</style>\n",
       "<table border=\"1\" class=\"dataframe\">\n",
       "  <thead>\n",
       "    <tr style=\"text-align: right;\">\n",
       "      <th></th>\n",
       "      <th>cycle</th>\n",
       "      <th>process</th>\n",
       "      <th>model</th>\n",
       "      <th>acc</th>\n",
       "      <th>balanced_acc</th>\n",
       "      <th>kappa_score</th>\n",
       "    </tr>\n",
       "  </thead>\n",
       "  <tbody>\n",
       "    <tr>\n",
       "      <th>0</th>\n",
       "      <td>2nd_cycle</td>\n",
       "      <td>baseline_model</td>\n",
       "      <td>Baseline Model</td>\n",
       "      <td>0.513531</td>\n",
       "      <td>0.090308</td>\n",
       "      <td>-0.004769</td>\n",
       "    </tr>\n",
       "    <tr>\n",
       "      <th>1</th>\n",
       "      <td>2nd_cycle</td>\n",
       "      <td>baseline_model</td>\n",
       "      <td>Neural Network Model</td>\n",
       "      <td>0.702677</td>\n",
       "      <td>0.091154</td>\n",
       "      <td>0.001821</td>\n",
       "    </tr>\n",
       "  </tbody>\n",
       "</table>\n",
       "</div>"
      ],
      "text/plain": [
       "       cycle         process                 model       acc  balanced_acc  \\\n",
       "0  2nd_cycle  baseline_model        Baseline Model  0.513531      0.090308   \n",
       "1  2nd_cycle  baseline_model  Neural Network Model  0.702677      0.091154   \n",
       "\n",
       "   kappa_score  \n",
       "0    -0.004769  \n",
       "1     0.001821  "
      ]
     },
     "execution_count": 35,
     "metadata": {},
     "output_type": "execute_result"
    }
   ],
   "source": [
    "# performance dataframe\n",
    "df_performance = pd.DataFrame([baseline_performance, nn_performance])\n",
    "df_performance['cycle'] = '2nd_cycle'\n",
    "df_performance['process'] = 'baseline_model'\n",
    "df_performance = df_performance[['cycle', 'process', 'model', 'acc', 'balanced_acc', 'kappa_score']]\n",
    "\n",
    "# save 2nd cycle to comparison\n",
    "df_performance.to_csv('../Datasets/2nd_cycle_performance', index=False)\n",
    "\n",
    "# display performance dataframe\n",
    "df_performance"
   ]
  },
  {
   "cell_type": "markdown",
   "id": "cf6e0dbc",
   "metadata": {},
   "source": [
    "## 11.2. Cycle Comparison"
   ]
  },
  {
   "cell_type": "code",
   "execution_count": 36,
   "id": "5f0c8435",
   "metadata": {
    "ExecuteTime": {
     "end_time": "2022-03-30T14:58:44.189917Z",
     "start_time": "2022-03-30T14:58:44.133966Z"
    },
    "hide_input": false,
    "scrolled": false
   },
   "outputs": [
    {
     "data": {
      "text/html": [
       "<div>\n",
       "<style scoped>\n",
       "    .dataframe tbody tr th:only-of-type {\n",
       "        vertical-align: middle;\n",
       "    }\n",
       "\n",
       "    .dataframe tbody tr th {\n",
       "        vertical-align: top;\n",
       "    }\n",
       "\n",
       "    .dataframe thead th {\n",
       "        text-align: right;\n",
       "    }\n",
       "</style>\n",
       "<table border=\"1\" class=\"dataframe\">\n",
       "  <thead>\n",
       "    <tr style=\"text-align: right;\">\n",
       "      <th></th>\n",
       "      <th>cycle</th>\n",
       "      <th>process</th>\n",
       "      <th>model</th>\n",
       "      <th>acc</th>\n",
       "      <th>balanced_acc</th>\n",
       "      <th>kappa_score</th>\n",
       "    </tr>\n",
       "  </thead>\n",
       "  <tbody>\n",
       "    <tr>\n",
       "      <th>0</th>\n",
       "      <td>1st_cycle</td>\n",
       "      <td>validation_pipeline</td>\n",
       "      <td>Neural Network Model</td>\n",
       "      <td>0.703484</td>\n",
       "      <td>NaN</td>\n",
       "      <td>NaN</td>\n",
       "    </tr>\n",
       "    <tr>\n",
       "      <th>0</th>\n",
       "      <td>2nd_cycle</td>\n",
       "      <td>baseline_model</td>\n",
       "      <td>Baseline Model</td>\n",
       "      <td>0.513531</td>\n",
       "      <td>0.090308</td>\n",
       "      <td>-0.004769</td>\n",
       "    </tr>\n",
       "    <tr>\n",
       "      <th>1</th>\n",
       "      <td>2nd_cycle</td>\n",
       "      <td>baseline_model</td>\n",
       "      <td>Neural Network Model</td>\n",
       "      <td>0.702677</td>\n",
       "      <td>0.091154</td>\n",
       "      <td>0.001821</td>\n",
       "    </tr>\n",
       "  </tbody>\n",
       "</table>\n",
       "</div>"
      ],
      "text/plain": [
       "       cycle              process                 model       acc  \\\n",
       "0  1st_cycle  validation_pipeline  Neural Network Model  0.703484   \n",
       "0  2nd_cycle       baseline_model        Baseline Model  0.513531   \n",
       "1  2nd_cycle       baseline_model  Neural Network Model  0.702677   \n",
       "\n",
       "   balanced_acc  kappa_score  \n",
       "0           NaN          NaN  \n",
       "0      0.090308    -0.004769  \n",
       "1      0.091154     0.001821  "
      ]
     },
     "execution_count": 36,
     "metadata": {},
     "output_type": "execute_result"
    }
   ],
   "source": [
    "# second cycle performance load\n",
    "performance_1st_cycle = pd.read_csv('../Datasets/1st_cycle_performance')\n",
    "\n",
    "# join cycles dataframes\n",
    "performance = pd.concat([performance_1st_cycle, df_performance])\n",
    "\n",
    "# display performance\n",
    "performance"
   ]
  }
 ],
 "metadata": {
  "kernelspec": {
   "display_name": "Python 3 (ipykernel)",
   "language": "python",
   "name": "python3"
  },
  "language_info": {
   "codemirror_mode": {
    "name": "ipython",
    "version": 3
   },
   "file_extension": ".py",
   "mimetype": "text/x-python",
   "name": "python",
   "nbconvert_exporter": "python",
   "pygments_lexer": "ipython3",
   "version": "3.8.12"
  },
  "varInspector": {
   "cols": {
    "lenName": 16,
    "lenType": 16,
    "lenVar": 40
   },
   "kernels_config": {
    "python": {
     "delete_cmd_postfix": "",
     "delete_cmd_prefix": "del ",
     "library": "var_list.py",
     "varRefreshCmd": "print(var_dic_list())"
    },
    "r": {
     "delete_cmd_postfix": ") ",
     "delete_cmd_prefix": "rm(",
     "library": "var_list.r",
     "varRefreshCmd": "cat(var_dic_list()) "
    }
   },
   "types_to_exclude": [
    "module",
    "function",
    "builtin_function_or_method",
    "instance",
    "_Feature"
   ],
   "window_display": false
  }
 },
 "nbformat": 4,
 "nbformat_minor": 5
}
