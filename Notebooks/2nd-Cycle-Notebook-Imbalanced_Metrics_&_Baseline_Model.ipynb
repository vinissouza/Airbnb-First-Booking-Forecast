{
 "cells": [
  {
   "cell_type": "markdown",
   "id": "e9da1de2",
   "metadata": {
    "ExecuteTime": {
     "end_time": "2022-02-28T20:43:44.606104Z",
     "start_time": "2022-02-28T20:43:44.598146Z"
    }
   },
   "source": [
    "# 0.0. Imports"
   ]
  },
  {
   "cell_type": "code",
   "execution_count": 54,
   "id": "4a97ff0c",
   "metadata": {
    "ExecuteTime": {
     "end_time": "2022-03-01T20:41:21.154531Z",
     "start_time": "2022-03-01T20:41:21.134518Z"
    }
   },
   "outputs": [],
   "source": [
    "import random\n",
    "import pandas as pd\n",
    "import numpy  as np\n",
    "import warnings\n",
    "\n",
    "from sklearn    import model_selection as ms\n",
    "from sklearn    import preprocessing   as pp\n",
    "from sklearn    import metrics         as m\n",
    "from scikitplot import metrics         as mt\n",
    "\n",
    "from keras import models as ml\n",
    "from keras import layers as l\n",
    "\n",
    "warnings.filterwarnings('ignore')"
   ]
  },
  {
   "cell_type": "markdown",
   "id": "58b2f295",
   "metadata": {},
   "source": [
    "## 0.1. Auxiliar Functions"
   ]
  },
  {
   "cell_type": "code",
   "execution_count": null,
   "id": "c27e09c1",
   "metadata": {},
   "outputs": [],
   "source": []
  },
  {
   "cell_type": "markdown",
   "id": "04bd4aba",
   "metadata": {},
   "source": [
    "## 0.2. Load Data"
   ]
  },
  {
   "cell_type": "code",
   "execution_count": 3,
   "id": "05c73b56",
   "metadata": {
    "ExecuteTime": {
     "end_time": "2022-03-01T19:11:05.685726Z",
     "start_time": "2022-03-01T19:10:49.850065Z"
    }
   },
   "outputs": [],
   "source": [
    "# load training set of user\n",
    "data_users = pd.read_csv('../Datasets/train_users_2.csv', low_memory=False)\n",
    "\n",
    "# load web sessions log for users\n",
    "data_sessions = pd.read_csv('../Datasets/sessions.csv', low_memory=False)"
   ]
  },
  {
   "cell_type": "markdown",
   "id": "1179dcfc",
   "metadata": {},
   "source": [
    "# 1.0. Data Description"
   ]
  },
  {
   "cell_type": "code",
   "execution_count": 4,
   "id": "a59196b7",
   "metadata": {
    "ExecuteTime": {
     "end_time": "2022-03-01T19:11:06.065725Z",
     "start_time": "2022-03-01T19:11:05.699728Z"
    }
   },
   "outputs": [],
   "source": [
    "df01_users = data_users.copy()\n",
    "\n",
    "df01_sessions = data_sessions.copy()"
   ]
  },
  {
   "cell_type": "markdown",
   "id": "1ccddadb",
   "metadata": {},
   "source": [
    "## 1.1. Data Types"
   ]
  },
  {
   "cell_type": "code",
   "execution_count": 5,
   "id": "fe162f91",
   "metadata": {
    "ExecuteTime": {
     "end_time": "2022-03-01T19:11:06.285669Z",
     "start_time": "2022-03-01T19:11:06.188686Z"
    },
    "cell_style": "split"
   },
   "outputs": [
    {
     "data": {
      "text/plain": [
       "id                          object\n",
       "date_account_created        object\n",
       "timestamp_first_active       int64\n",
       "date_first_booking          object\n",
       "gender                      object\n",
       "age                        float64\n",
       "signup_method               object\n",
       "signup_flow                  int64\n",
       "language                    object\n",
       "affiliate_channel           object\n",
       "affiliate_provider          object\n",
       "first_affiliate_tracked     object\n",
       "signup_app                  object\n",
       "first_device_type           object\n",
       "first_browser               object\n",
       "country_destination         object\n",
       "dtype: object"
      ]
     },
     "execution_count": 5,
     "metadata": {},
     "output_type": "execute_result"
    }
   ],
   "source": [
    "df01_users.dtypes"
   ]
  },
  {
   "cell_type": "code",
   "execution_count": 6,
   "id": "859ee10e",
   "metadata": {
    "ExecuteTime": {
     "end_time": "2022-03-01T19:11:06.317070Z",
     "start_time": "2022-03-01T19:11:06.289627Z"
    },
    "cell_style": "split"
   },
   "outputs": [
    {
     "data": {
      "text/plain": [
       "user_id           object\n",
       "action            object\n",
       "action_type       object\n",
       "action_detail     object\n",
       "device_type       object\n",
       "secs_elapsed     float64\n",
       "dtype: object"
      ]
     },
     "execution_count": 6,
     "metadata": {},
     "output_type": "execute_result"
    }
   ],
   "source": [
    "df01_sessions.dtypes"
   ]
  },
  {
   "cell_type": "markdown",
   "id": "297d0bec",
   "metadata": {
    "cell_style": "center"
   },
   "source": [
    "## 1.2. Data Dimensions"
   ]
  },
  {
   "cell_type": "markdown",
   "id": "c617277e",
   "metadata": {},
   "source": [
    "### 1.2.1. Data Users Dimensions "
   ]
  },
  {
   "cell_type": "code",
   "execution_count": 7,
   "id": "6889bc8e",
   "metadata": {
    "ExecuteTime": {
     "end_time": "2022-03-01T19:11:06.332090Z",
     "start_time": "2022-03-01T19:11:06.322072Z"
    }
   },
   "outputs": [
    {
     "name": "stdout",
     "output_type": "stream",
     "text": [
      "Number of rows of users dataset: 213451\n",
      "Number of columnss of users dataset: 16\n"
     ]
    }
   ],
   "source": [
    "print( f'Number of rows of users dataset: {df01_users.shape[0]}')\n",
    "print( f'Number of columnss of users dataset: {df01_users.shape[1]}')"
   ]
  },
  {
   "cell_type": "markdown",
   "id": "152339da",
   "metadata": {},
   "source": [
    "### 1.2.2. Data Sessions Dimensions\n",
    "\n",
    "This dataset will not be used in this first cycle due to the granularity being action and we want to be user_id for now."
   ]
  },
  {
   "cell_type": "code",
   "execution_count": 8,
   "id": "c1459d2d",
   "metadata": {
    "ExecuteTime": {
     "end_time": "2022-03-01T19:11:06.348137Z",
     "start_time": "2022-03-01T19:11:06.338074Z"
    }
   },
   "outputs": [
    {
     "name": "stdout",
     "output_type": "stream",
     "text": [
      "Number of rows of sessions dataset: 10567737\n",
      "Number of columnss of session dataset: 6\n"
     ]
    }
   ],
   "source": [
    "print( f'Number of rows of sessions dataset: {df01_sessions.shape[0]}')\n",
    "print( f'Number of columnss of session dataset: {df01_sessions.shape[1]}')"
   ]
  },
  {
   "cell_type": "markdown",
   "id": "5ed2d4e7",
   "metadata": {},
   "source": [
    "## 1.3. Check NA"
   ]
  },
  {
   "cell_type": "code",
   "execution_count": 9,
   "id": "49097f87",
   "metadata": {
    "ExecuteTime": {
     "end_time": "2022-03-01T19:11:06.913043Z",
     "start_time": "2022-03-01T19:11:06.354072Z"
    },
    "cell_style": "split"
   },
   "outputs": [
    {
     "data": {
      "text/plain": [
       "id                              0\n",
       "date_account_created            0\n",
       "timestamp_first_active          0\n",
       "date_first_booking         124543\n",
       "gender                          0\n",
       "age                         87990\n",
       "signup_method                   0\n",
       "signup_flow                     0\n",
       "language                        0\n",
       "affiliate_channel               0\n",
       "affiliate_provider              0\n",
       "first_affiliate_tracked      6065\n",
       "signup_app                      0\n",
       "first_device_type               0\n",
       "first_browser                   0\n",
       "country_destination             0\n",
       "dtype: int64"
      ]
     },
     "execution_count": 9,
     "metadata": {},
     "output_type": "execute_result"
    }
   ],
   "source": [
    "df01_users.isna().sum()"
   ]
  },
  {
   "cell_type": "code",
   "execution_count": 10,
   "id": "c559b15b",
   "metadata": {
    "ExecuteTime": {
     "end_time": "2022-03-01T19:11:07.482272Z",
     "start_time": "2022-03-01T19:11:06.917046Z"
    },
    "cell_style": "split"
   },
   "outputs": [
    {
     "data": {
      "text/plain": [
       "id                         0.000000\n",
       "date_account_created       0.000000\n",
       "timestamp_first_active     0.000000\n",
       "date_first_booking         0.583473\n",
       "gender                     0.000000\n",
       "age                        0.412226\n",
       "signup_method              0.000000\n",
       "signup_flow                0.000000\n",
       "language                   0.000000\n",
       "affiliate_channel          0.000000\n",
       "affiliate_provider         0.000000\n",
       "first_affiliate_tracked    0.028414\n",
       "signup_app                 0.000000\n",
       "first_device_type          0.000000\n",
       "first_browser              0.000000\n",
       "country_destination        0.000000\n",
       "dtype: float64"
      ]
     },
     "execution_count": 10,
     "metadata": {},
     "output_type": "execute_result"
    }
   ],
   "source": [
    "df01_users.isna().sum()/df01_users.shape[0]"
   ]
  },
  {
   "cell_type": "markdown",
   "id": "bd581316",
   "metadata": {},
   "source": [
    "## 1.4. Fill NA\n",
    "\n",
    "To increase time, in this first cycle, the NA data will not be threatened and will just drop, even if important information is lost, such as an entire NDF response class."
   ]
  },
  {
   "cell_type": "code",
   "execution_count": 11,
   "id": "17027a20",
   "metadata": {
    "ExecuteTime": {
     "end_time": "2022-03-01T19:11:08.037907Z",
     "start_time": "2022-03-01T19:11:07.490243Z"
    }
   },
   "outputs": [],
   "source": [
    "df01_users = df01_users.dropna()"
   ]
  },
  {
   "cell_type": "markdown",
   "id": "7076ae4e",
   "metadata": {},
   "source": [
    "## 1.5. Change Data Type"
   ]
  },
  {
   "cell_type": "code",
   "execution_count": 12,
   "id": "793c65b7",
   "metadata": {
    "ExecuteTime": {
     "end_time": "2022-03-01T19:11:08.101592Z",
     "start_time": "2022-03-01T19:11:08.037907Z"
    }
   },
   "outputs": [
    {
     "data": {
      "text/html": [
       "<div>\n",
       "<style scoped>\n",
       "    .dataframe tbody tr th:only-of-type {\n",
       "        vertical-align: middle;\n",
       "    }\n",
       "\n",
       "    .dataframe tbody tr th {\n",
       "        vertical-align: top;\n",
       "    }\n",
       "\n",
       "    .dataframe thead th {\n",
       "        text-align: right;\n",
       "    }\n",
       "</style>\n",
       "<table border=\"1\" class=\"dataframe\">\n",
       "  <thead>\n",
       "    <tr style=\"text-align: right;\">\n",
       "      <th></th>\n",
       "      <th>id</th>\n",
       "      <th>date_account_created</th>\n",
       "      <th>timestamp_first_active</th>\n",
       "      <th>date_first_booking</th>\n",
       "      <th>gender</th>\n",
       "      <th>age</th>\n",
       "      <th>signup_method</th>\n",
       "      <th>signup_flow</th>\n",
       "      <th>language</th>\n",
       "      <th>affiliate_channel</th>\n",
       "      <th>affiliate_provider</th>\n",
       "      <th>first_affiliate_tracked</th>\n",
       "      <th>signup_app</th>\n",
       "      <th>first_device_type</th>\n",
       "      <th>first_browser</th>\n",
       "      <th>country_destination</th>\n",
       "    </tr>\n",
       "  </thead>\n",
       "  <tbody>\n",
       "    <tr>\n",
       "      <th>25692</th>\n",
       "      <td>0jav842ium</td>\n",
       "      <td>2012-05-28</td>\n",
       "      <td>20120528224832</td>\n",
       "      <td>2012-05-29</td>\n",
       "      <td>MALE</td>\n",
       "      <td>36.0</td>\n",
       "      <td>facebook</td>\n",
       "      <td>0</td>\n",
       "      <td>zh</td>\n",
       "      <td>direct</td>\n",
       "      <td>direct</td>\n",
       "      <td>linked</td>\n",
       "      <td>Web</td>\n",
       "      <td>iPad</td>\n",
       "      <td>Mobile Safari</td>\n",
       "      <td>US</td>\n",
       "    </tr>\n",
       "  </tbody>\n",
       "</table>\n",
       "</div>"
      ],
      "text/plain": [
       "               id date_account_created  timestamp_first_active  \\\n",
       "25692  0jav842ium           2012-05-28          20120528224832   \n",
       "\n",
       "      date_first_booking gender   age signup_method  signup_flow language  \\\n",
       "25692         2012-05-29   MALE  36.0      facebook            0       zh   \n",
       "\n",
       "      affiliate_channel affiliate_provider first_affiliate_tracked signup_app  \\\n",
       "25692            direct             direct                  linked        Web   \n",
       "\n",
       "      first_device_type  first_browser country_destination  \n",
       "25692              iPad  Mobile Safari                  US  "
      ]
     },
     "execution_count": 12,
     "metadata": {},
     "output_type": "execute_result"
    }
   ],
   "source": [
    "df01_users.sample(1)"
   ]
  },
  {
   "cell_type": "code",
   "execution_count": 13,
   "id": "d76d383f",
   "metadata": {
    "ExecuteTime": {
     "end_time": "2022-03-01T19:11:08.544582Z",
     "start_time": "2022-03-01T19:11:08.107588Z"
    }
   },
   "outputs": [],
   "source": [
    "# change date type\n",
    "df01_users['date_account_created'] = pd.to_datetime(df01_users['date_account_created'])\n",
    "df01_users['date_first_booking'] = pd.to_datetime(df01_users['date_first_booking'])\n",
    "\n",
    "# change datetime type\n",
    "df01_users['timestamp_first_active'] = pd.to_datetime(df01_users['timestamp_first_active'], format='%Y%m%d%H%M%S')\n",
    "\n",
    "# change age to int\n",
    "df01_users['age'] = df01_users['age'].astype(np.int64)"
   ]
  },
  {
   "cell_type": "code",
   "execution_count": 14,
   "id": "505514d3",
   "metadata": {
    "ExecuteTime": {
     "end_time": "2022-03-01T19:11:08.592586Z",
     "start_time": "2022-03-01T19:11:08.547590Z"
    }
   },
   "outputs": [
    {
     "data": {
      "text/html": [
       "<div>\n",
       "<style scoped>\n",
       "    .dataframe tbody tr th:only-of-type {\n",
       "        vertical-align: middle;\n",
       "    }\n",
       "\n",
       "    .dataframe tbody tr th {\n",
       "        vertical-align: top;\n",
       "    }\n",
       "\n",
       "    .dataframe thead th {\n",
       "        text-align: right;\n",
       "    }\n",
       "</style>\n",
       "<table border=\"1\" class=\"dataframe\">\n",
       "  <thead>\n",
       "    <tr style=\"text-align: right;\">\n",
       "      <th></th>\n",
       "      <th>id</th>\n",
       "      <th>date_account_created</th>\n",
       "      <th>timestamp_first_active</th>\n",
       "      <th>date_first_booking</th>\n",
       "      <th>gender</th>\n",
       "      <th>age</th>\n",
       "      <th>signup_method</th>\n",
       "      <th>signup_flow</th>\n",
       "      <th>language</th>\n",
       "      <th>affiliate_channel</th>\n",
       "      <th>affiliate_provider</th>\n",
       "      <th>first_affiliate_tracked</th>\n",
       "      <th>signup_app</th>\n",
       "      <th>first_device_type</th>\n",
       "      <th>first_browser</th>\n",
       "      <th>country_destination</th>\n",
       "    </tr>\n",
       "  </thead>\n",
       "  <tbody>\n",
       "    <tr>\n",
       "      <th>54002</th>\n",
       "      <td>f1oowtmhmx</td>\n",
       "      <td>2012-12-31</td>\n",
       "      <td>2012-12-31 06:04:48</td>\n",
       "      <td>2013-07-21</td>\n",
       "      <td>FEMALE</td>\n",
       "      <td>29</td>\n",
       "      <td>facebook</td>\n",
       "      <td>0</td>\n",
       "      <td>en</td>\n",
       "      <td>direct</td>\n",
       "      <td>direct</td>\n",
       "      <td>linked</td>\n",
       "      <td>Web</td>\n",
       "      <td>Mac Desktop</td>\n",
       "      <td>Chrome</td>\n",
       "      <td>US</td>\n",
       "    </tr>\n",
       "  </tbody>\n",
       "</table>\n",
       "</div>"
      ],
      "text/plain": [
       "               id date_account_created timestamp_first_active  \\\n",
       "54002  f1oowtmhmx           2012-12-31    2012-12-31 06:04:48   \n",
       "\n",
       "      date_first_booking  gender  age signup_method  signup_flow language  \\\n",
       "54002         2013-07-21  FEMALE   29      facebook            0       en   \n",
       "\n",
       "      affiliate_channel affiliate_provider first_affiliate_tracked signup_app  \\\n",
       "54002            direct             direct                  linked        Web   \n",
       "\n",
       "      first_device_type first_browser country_destination  \n",
       "54002       Mac Desktop        Chrome                  US  "
      ]
     },
     "execution_count": 14,
     "metadata": {},
     "output_type": "execute_result"
    }
   ],
   "source": [
    "df01_users.sample(1)"
   ]
  },
  {
   "cell_type": "code",
   "execution_count": 15,
   "id": "e7b73c50",
   "metadata": {
    "ExecuteTime": {
     "end_time": "2022-03-01T19:11:08.625588Z",
     "start_time": "2022-03-01T19:11:08.598591Z"
    }
   },
   "outputs": [
    {
     "data": {
      "text/plain": [
       "id                                 object\n",
       "date_account_created       datetime64[ns]\n",
       "timestamp_first_active     datetime64[ns]\n",
       "date_first_booking         datetime64[ns]\n",
       "gender                             object\n",
       "age                                 int64\n",
       "signup_method                      object\n",
       "signup_flow                         int64\n",
       "language                           object\n",
       "affiliate_channel                  object\n",
       "affiliate_provider                 object\n",
       "first_affiliate_tracked            object\n",
       "signup_app                         object\n",
       "first_device_type                  object\n",
       "first_browser                      object\n",
       "country_destination                object\n",
       "dtype: object"
      ]
     },
     "execution_count": 15,
     "metadata": {},
     "output_type": "execute_result"
    }
   ],
   "source": [
    "df01_users.dtypes"
   ]
  },
  {
   "cell_type": "markdown",
   "id": "b4774540",
   "metadata": {},
   "source": [
    "## 1.6. Check Balanced Data\n",
    "\n",
    "Data with an unbalance of 70% for the US class."
   ]
  },
  {
   "cell_type": "code",
   "execution_count": 16,
   "id": "8f5cdc46",
   "metadata": {
    "ExecuteTime": {
     "end_time": "2022-03-01T19:11:08.658585Z",
     "start_time": "2022-03-01T19:11:08.632602Z"
    }
   },
   "outputs": [
    {
     "data": {
      "text/plain": [
       "US       0.708864\n",
       "other    0.110854\n",
       "FR       0.054085\n",
       "IT       0.029763\n",
       "GB       0.025935\n",
       "ES       0.024864\n",
       "CA       0.015696\n",
       "DE       0.012454\n",
       "NL       0.008801\n",
       "AU       0.006366\n",
       "PT       0.002318\n",
       "Name: country_destination, dtype: float64"
      ]
     },
     "execution_count": 16,
     "metadata": {},
     "output_type": "execute_result"
    }
   ],
   "source": [
    "df01_users['country_destination'].value_counts(normalize=True)"
   ]
  },
  {
   "cell_type": "markdown",
   "id": "bbe57720",
   "metadata": {},
   "source": [
    "# 2.0. Feature Engineering\n",
    "\n",
    "To increase time, no feature engineering will be done for this first cycle."
   ]
  },
  {
   "cell_type": "code",
   "execution_count": 17,
   "id": "f64c4deb",
   "metadata": {
    "ExecuteTime": {
     "end_time": "2022-03-01T19:11:08.688589Z",
     "start_time": "2022-03-01T19:11:08.668588Z"
    }
   },
   "outputs": [],
   "source": [
    "df02_users = df01_users.copy()"
   ]
  },
  {
   "cell_type": "markdown",
   "id": "b0f5b037",
   "metadata": {},
   "source": [
    "# 3.0. Data Filtering\n",
    "\n",
    "To increase time, the Data Filtering stage will be skipped in this first cycle."
   ]
  },
  {
   "cell_type": "code",
   "execution_count": 18,
   "id": "26b87f66",
   "metadata": {
    "ExecuteTime": {
     "end_time": "2022-03-01T19:11:08.720588Z",
     "start_time": "2022-03-01T19:11:08.695587Z"
    }
   },
   "outputs": [],
   "source": [
    "df03_users = df02_users.copy()"
   ]
  },
  {
   "cell_type": "markdown",
   "id": "80d07e8f",
   "metadata": {
    "heading_collapsed": true
   },
   "source": [
    "## 3.1. Filtering Rows"
   ]
  },
  {
   "cell_type": "markdown",
   "id": "d9303a1b",
   "metadata": {
    "heading_collapsed": true
   },
   "source": [
    "## 3.2. Columns Selection"
   ]
  },
  {
   "cell_type": "markdown",
   "id": "20d1ff53",
   "metadata": {},
   "source": [
    "# 4.0. Data Exploratory Analysis\n",
    "\n",
    "To increase time, the EDA stage will be skipped in this first cycle."
   ]
  },
  {
   "cell_type": "code",
   "execution_count": 19,
   "id": "c5e9da71",
   "metadata": {
    "ExecuteTime": {
     "end_time": "2022-03-01T19:11:08.752592Z",
     "start_time": "2022-03-01T19:11:08.723588Z"
    }
   },
   "outputs": [],
   "source": [
    "df04_users = df03_users.copy()"
   ]
  },
  {
   "cell_type": "markdown",
   "id": "868b4156",
   "metadata": {},
   "source": [
    "# 5.0. Data Preparation"
   ]
  },
  {
   "cell_type": "code",
   "execution_count": 20,
   "id": "5fcd8687",
   "metadata": {
    "ExecuteTime": {
     "end_time": "2022-03-01T19:11:08.784585Z",
     "start_time": "2022-03-01T19:11:08.756588Z"
    }
   },
   "outputs": [],
   "source": [
    "df05_users = df04_users.copy()"
   ]
  },
  {
   "cell_type": "code",
   "execution_count": 21,
   "id": "53e5ef72",
   "metadata": {
    "ExecuteTime": {
     "end_time": "2022-03-01T19:11:08.960582Z",
     "start_time": "2022-03-01T19:11:08.787586Z"
    }
   },
   "outputs": [],
   "source": [
    "# dummy variable\n",
    "df05_users_dummy = pd.get_dummies(df05_users.drop(['id', 'country_destination'], axis=1))\n",
    "\n",
    "# join id and country destination\n",
    "df05_users = pd.concat( [df05_users[['id', 'country_destination']], df05_users_dummy], axis=1 )"
   ]
  },
  {
   "cell_type": "markdown",
   "id": "56417dc6",
   "metadata": {},
   "source": [
    "# 6.0. Feature Selection\n",
    "\n",
    "Original date will be discarded in this first cycle because data must first be derived from them, like years and months."
   ]
  },
  {
   "cell_type": "code",
   "execution_count": 22,
   "id": "924a6eec",
   "metadata": {
    "ExecuteTime": {
     "end_time": "2022-03-01T19:11:08.992591Z",
     "start_time": "2022-03-01T19:11:08.964590Z"
    }
   },
   "outputs": [],
   "source": [
    "df06_users = df05_users.copy()"
   ]
  },
  {
   "cell_type": "code",
   "execution_count": 23,
   "id": "3aa224e1",
   "metadata": {
    "ExecuteTime": {
     "end_time": "2022-03-01T19:11:09.134928Z",
     "start_time": "2022-03-01T19:11:08.996588Z"
    }
   },
   "outputs": [],
   "source": [
    "cols_drop = ['date_account_created', 'timestamp_first_active', 'date_first_booking'] # original dates\n",
    "df06_users = df06_users.drop(cols_drop, axis=1)"
   ]
  },
  {
   "cell_type": "code",
   "execution_count": 24,
   "id": "c4bc27ff",
   "metadata": {
    "ExecuteTime": {
     "end_time": "2022-03-01T19:11:09.165845Z",
     "start_time": "2022-03-01T19:11:09.137553Z"
    }
   },
   "outputs": [],
   "source": [
    "# training dataset\n",
    "X = df06_users.drop( 'country_destination', axis=1 )\n",
    "\n",
    "#  training response dataset\n",
    "y = df06_users['country_destination']"
   ]
  },
  {
   "cell_type": "code",
   "execution_count": 25,
   "id": "2526e910",
   "metadata": {
    "ExecuteTime": {
     "end_time": "2022-03-01T19:11:09.244741Z",
     "start_time": "2022-03-01T19:11:09.169037Z"
    }
   },
   "outputs": [],
   "source": [
    "# Split dataset into training and test (validation)\n",
    "X_train, X_test, y_train, y_test = ms.train_test_split(X, y, test_size=0.2, random_state=32)"
   ]
  },
  {
   "cell_type": "markdown",
   "id": "c9ee0881",
   "metadata": {},
   "source": [
    "# 7.0. Machine Learing Model"
   ]
  },
  {
   "cell_type": "code",
   "execution_count": 26,
   "id": "b9dfd8fe",
   "metadata": {
    "ExecuteTime": {
     "end_time": "2022-03-01T19:11:09.275109Z",
     "start_time": "2022-03-01T19:11:09.248835Z"
    }
   },
   "outputs": [],
   "source": [
    "x_train = X_train.drop('id', axis=1)\n",
    "x_test = X_test.drop('id', axis=1)"
   ]
  },
  {
   "cell_type": "markdown",
   "id": "b3107f01",
   "metadata": {},
   "source": [
    "## 7.1. Baseline Model - Random"
   ]
  },
  {
   "cell_type": "code",
   "execution_count": 42,
   "id": "c5ee811a",
   "metadata": {
    "ExecuteTime": {
     "end_time": "2022-03-01T20:06:30.709546Z",
     "start_time": "2022-03-01T20:06:30.681500Z"
    }
   },
   "outputs": [
    {
     "data": {
      "text/plain": [
       "13635"
      ]
     },
     "execution_count": 42,
     "metadata": {},
     "output_type": "execute_result"
    }
   ],
   "source": [
    "country_list = df06_users['country_destination'].drop_duplicates().sort_values().tolist()\n",
    "\n",
    "k_num = y_test.shape[0]\n",
    "\n",
    "country_weights = df06_users['country_destination'].value_counts(normalize=True).sort_index().tolist()\n",
    "\n",
    "yhat_random = random.choices(population=country_list,\n",
    "                             weights=country_weights,\n",
    "                             k=k_num)\n",
    "\n",
    "len(yhat_random)"
   ]
  },
  {
   "cell_type": "markdown",
   "id": "c6243d2f",
   "metadata": {},
   "source": [
    "### 7.1.2. Baseline Model Performance"
   ]
  },
  {
   "cell_type": "code",
   "execution_count": 47,
   "id": "50728288",
   "metadata": {
    "ExecuteTime": {
     "end_time": "2022-03-01T20:26:07.116929Z",
     "start_time": "2022-03-01T20:26:05.890527Z"
    },
    "scrolled": false
   },
   "outputs": [
    {
     "name": "stdout",
     "output_type": "stream",
     "text": [
      "Accuracy 0.5182984965163183\n",
      "Balanced Accuracy: 0.09267713127118976\n",
      "Kappa Score: 0.004380773601849186\n",
      "              precision    recall  f1-score   support\n",
      "\n",
      "          AU       0.02      0.02      0.02       101\n",
      "          CA       0.01      0.01      0.01       214\n",
      "          DE       0.01      0.01      0.01       170\n",
      "          ES       0.03      0.03      0.03       345\n",
      "          FR       0.05      0.05      0.05       710\n",
      "          GB       0.04      0.04      0.04       344\n",
      "          IT       0.05      0.04      0.05       423\n",
      "          NL       0.01      0.01      0.01       128\n",
      "          PT       0.00      0.00      0.00        36\n",
      "          US       0.71      0.71      0.71      9624\n",
      "       other       0.11      0.11      0.11      1540\n",
      "\n",
      "    accuracy                           0.52     13635\n",
      "   macro avg       0.09      0.09      0.09     13635\n",
      "weighted avg       0.52      0.52      0.52     13635\n",
      "\n"
     ]
    },
    {
     "data": {
      "image/png": "[encoded data removed]",
      "text/plain": [
       "<Figure size 864x864 with 2 Axes>"
      ]
     },
     "metadata": {
      "needs_background": "light"
     },
     "output_type": "display_data"
    }
   ],
   "source": [
    "# Accuracy\n",
    "acc_random = m.accuracy_score( y_test, yhat_random )\n",
    "print(f'Accuracy {acc_random}')\n",
    "\n",
    "# Balanced Accuracy\n",
    "balanced_acc_random = m.balanced_accuracy_score(y_test, yhat_random)\n",
    "print(f'Balanced Accuracy: {balanced_acc_random}')\n",
    "\n",
    "# Kappa Metrics\n",
    "kappa_random = m.cohen_kappa_score(y_test, yhat_random)\n",
    "print(f'Kappa Score: {kappa_random}')\n",
    "\n",
    "# Classification report\n",
    "print(m.classification_report(y_test, yhat_random))\n",
    "\n",
    "# Confusion Matrix\n",
    "mt.plot_confusion_matrix(y_test, yhat_random, normalize=False, figsize=(12,12));"
   ]
  },
  {
   "cell_type": "markdown",
   "id": "74175f4b",
   "metadata": {},
   "source": [
    "## 7.2. Neural Network - MLP"
   ]
  },
  {
   "cell_type": "code",
   "execution_count": 27,
   "id": "c837ddfc",
   "metadata": {
    "ExecuteTime": {
     "end_time": "2022-03-01T19:11:09.432743Z",
     "start_time": "2022-03-01T19:11:09.277833Z"
    }
   },
   "outputs": [],
   "source": [
    "ohe = pp.OneHotEncoder()\n",
    "\n",
    "y_train_nn = ohe.fit_transform(y_train.values.reshape(-1, 1)).toarray()"
   ]
  },
  {
   "cell_type": "code",
   "execution_count": 28,
   "id": "fa3d36ec",
   "metadata": {
    "ExecuteTime": {
     "end_time": "2022-03-01T19:14:19.099313Z",
     "start_time": "2022-03-01T19:11:09.435705Z"
    },
    "scrolled": true
   },
   "outputs": [
    {
     "name": "stdout",
     "output_type": "stream",
     "text": [
      "Epoch 1/100\n",
      "1705/1705 [==============================] - 2s 1ms/step - loss: 1.3962 - accuracy: 0.6994\n",
      "Epoch 2/100\n",
      "1705/1705 [==============================] - 2s 1ms/step - loss: 1.2812 - accuracy: 0.7082\n",
      "Epoch 3/100\n",
      "1705/1705 [==============================] - 2s 1ms/step - loss: 1.2361 - accuracy: 0.7084\n",
      "Epoch 4/100\n",
      "1705/1705 [==============================] - 2s 1ms/step - loss: 1.2252 - accuracy: 0.7083\n",
      "Epoch 5/100\n",
      "1705/1705 [==============================] - 2s 1ms/step - loss: 1.2045 - accuracy: 0.7084\n",
      "Epoch 6/100\n",
      "1705/1705 [==============================] - 2s 1ms/step - loss: 1.1852 - accuracy: 0.7086\n",
      "Epoch 7/100\n",
      "1705/1705 [==============================] - 2s 1ms/step - loss: 1.1710 - accuracy: 0.7084\n",
      "Epoch 8/100\n",
      "1705/1705 [==============================] - 2s 1ms/step - loss: 1.1663 - accuracy: 0.7086\n",
      "Epoch 9/100\n",
      "1705/1705 [==============================] - 2s 1ms/step - loss: 1.1507 - accuracy: 0.7087\n",
      "Epoch 10/100\n",
      "1705/1705 [==============================] - 2s 1ms/step - loss: 1.1444 - accuracy: 0.7088\n",
      "Epoch 11/100\n",
      "1705/1705 [==============================] - 2s 1ms/step - loss: 1.1391 - accuracy: 0.7089\n",
      "Epoch 12/100\n",
      "1705/1705 [==============================] - 2s 1ms/step - loss: 1.1348 - accuracy: 0.7090\n",
      "Epoch 13/100\n",
      "1705/1705 [==============================] - 2s 1ms/step - loss: 1.1333 - accuracy: 0.7094\n",
      "Epoch 14/100\n",
      "1705/1705 [==============================] - 2s 1ms/step - loss: 1.1312 - accuracy: 0.7095\n",
      "Epoch 15/100\n",
      "1705/1705 [==============================] - 2s 1ms/step - loss: 1.1313 - accuracy: 0.7095\n",
      "Epoch 16/100\n",
      "1705/1705 [==============================] - 2s 1ms/step - loss: 1.1299 - accuracy: 0.7095\n",
      "Epoch 17/100\n",
      "1705/1705 [==============================] - 2s 1ms/step - loss: 1.1301 - accuracy: 0.7095\n",
      "Epoch 18/100\n",
      "1705/1705 [==============================] - 2s 1ms/step - loss: 1.1281 - accuracy: 0.7097\n",
      "Epoch 19/100\n",
      "1705/1705 [==============================] - 2s 1ms/step - loss: 1.1267 - accuracy: 0.7097\n",
      "Epoch 20/100\n",
      "1705/1705 [==============================] - 2s 1ms/step - loss: 1.1259 - accuracy: 0.7098\n",
      "Epoch 21/100\n",
      "1705/1705 [==============================] - 2s 1ms/step - loss: 1.1253 - accuracy: 0.7098\n",
      "Epoch 22/100\n",
      "1705/1705 [==============================] - 2s 1ms/step - loss: 1.1246 - accuracy: 0.7097\n",
      "Epoch 23/100\n",
      "1705/1705 [==============================] - 2s 1ms/step - loss: 1.1230 - accuracy: 0.7098\n",
      "Epoch 24/100\n",
      "1705/1705 [==============================] - 2s 1ms/step - loss: 1.1230 - accuracy: 0.7098\n",
      "Epoch 25/100\n",
      "1705/1705 [==============================] - 2s 988us/step - loss: 1.1219 - accuracy: 0.7098\n",
      "Epoch 26/100\n",
      "1705/1705 [==============================] - 2s 996us/step - loss: 1.1213 - accuracy: 0.7099\n",
      "Epoch 27/100\n",
      "1705/1705 [==============================] - 2s 989us/step - loss: 1.1208 - accuracy: 0.7099\n",
      "Epoch 28/100\n",
      "1705/1705 [==============================] - 2s 980us/step - loss: 1.1222 - accuracy: 0.7099\n",
      "Epoch 29/100\n",
      "1705/1705 [==============================] - 2s 1ms/step - loss: 1.1201 - accuracy: 0.7099\n",
      "Epoch 30/100\n",
      "1705/1705 [==============================] - 2s 1ms/step - loss: 1.1192 - accuracy: 0.7100\n",
      "Epoch 31/100\n",
      "1705/1705 [==============================] - 2s 997us/step - loss: 1.1176 - accuracy: 0.7099\n",
      "Epoch 32/100\n",
      "1705/1705 [==============================] - 2s 1ms/step - loss: 1.1173 - accuracy: 0.7099\n",
      "Epoch 33/100\n",
      "1705/1705 [==============================] - 2s 1000us/step - loss: 1.1172 - accuracy: 0.7100\n",
      "Epoch 34/100\n",
      "1705/1705 [==============================] - 2s 996us/step - loss: 1.1166 - accuracy: 0.7102\n",
      "Epoch 35/100\n",
      "1705/1705 [==============================] - 2s 992us/step - loss: 1.1164 - accuracy: 0.7101\n",
      "Epoch 36/100\n",
      "1705/1705 [==============================] - 2s 1ms/step - loss: 1.1154 - accuracy: 0.7101\n",
      "Epoch 37/100\n",
      "1705/1705 [==============================] - 2s 991us/step - loss: 1.1147 - accuracy: 0.7101\n",
      "Epoch 38/100\n",
      "1705/1705 [==============================] - 2s 1ms/step - loss: 1.1145 - accuracy: 0.7103: 1s - loss: 1.1\n",
      "Epoch 39/100\n",
      "1705/1705 [==============================] - 2s 1ms/step - loss: 1.1133 - accuracy: 0.7102\n",
      "Epoch 40/100\n",
      "1705/1705 [==============================] - 2s 992us/step - loss: 1.1134 - accuracy: 0.7104\n",
      "Epoch 41/100\n",
      "1705/1705 [==============================] - 2s 987us/step - loss: 1.1123 - accuracy: 0.7103\n",
      "Epoch 42/100\n",
      "1705/1705 [==============================] - 2s 1ms/step - loss: 1.1121 - accuracy: 0.7104\n",
      "Epoch 43/100\n",
      "1705/1705 [==============================] - 2s 1ms/step - loss: 1.1119 - accuracy: 0.7102\n",
      "Epoch 44/100\n",
      "1705/1705 [==============================] - 2s 1ms/step - loss: 1.1117 - accuracy: 0.7105\n",
      "Epoch 45/100\n",
      "1705/1705 [==============================] - 2s 985us/step - loss: 1.1103 - accuracy: 0.7105\n",
      "Epoch 46/100\n",
      "1705/1705 [==============================] - 2s 1ms/step - loss: 1.1106 - accuracy: 0.7104\n",
      "Epoch 47/100\n",
      "1705/1705 [==============================] - 2s 1ms/step - loss: 1.1096 - accuracy: 0.7103\n",
      "Epoch 48/100\n",
      "1705/1705 [==============================] - 2s 1ms/step - loss: 1.1096 - accuracy: 0.7105\n",
      "Epoch 49/100\n",
      "1705/1705 [==============================] - 2s 1ms/step - loss: 1.1091 - accuracy: 0.7107\n",
      "Epoch 50/100\n",
      "1705/1705 [==============================] - 2s 1000us/step - loss: 1.1091 - accuracy: 0.7106\n",
      "Epoch 51/100\n",
      "1705/1705 [==============================] - 2s 1ms/step - loss: 1.1084 - accuracy: 0.7106\n",
      "Epoch 52/100\n",
      "1705/1705 [==============================] - 2s 996us/step - loss: 1.1083 - accuracy: 0.7107\n",
      "Epoch 53/100\n",
      "1705/1705 [==============================] - 2s 994us/step - loss: 1.1072 - accuracy: 0.7109\n",
      "Epoch 54/100\n",
      "1705/1705 [==============================] - 2s 989us/step - loss: 1.1074 - accuracy: 0.7107\n",
      "Epoch 55/100\n",
      "1705/1705 [==============================] - 2s 991us/step - loss: 1.1067 - accuracy: 0.7108\n",
      "Epoch 56/100\n",
      "1705/1705 [==============================] - 2s 1ms/step - loss: 1.1067 - accuracy: 0.7106\n",
      "Epoch 57/100\n",
      "1705/1705 [==============================] - 2s 1ms/step - loss: 1.1072 - accuracy: 0.7108\n",
      "Epoch 58/100\n",
      "1705/1705 [==============================] - 2s 1ms/step - loss: 1.1073 - accuracy: 0.7111\n",
      "Epoch 59/100\n",
      "1705/1705 [==============================] - 2s 1ms/step - loss: 1.1063 - accuracy: 0.7109\n",
      "Epoch 60/100\n",
      "1705/1705 [==============================] - 2s 1ms/step - loss: 1.1058 - accuracy: 0.7108\n",
      "Epoch 61/100\n",
      "1705/1705 [==============================] - 2s 1ms/step - loss: 1.1050 - accuracy: 0.7108\n",
      "Epoch 62/100\n",
      "1705/1705 [==============================] - 2s 1ms/step - loss: 1.1052 - accuracy: 0.7110\n",
      "Epoch 63/100\n",
      "1705/1705 [==============================] - 2s 1ms/step - loss: 1.1049 - accuracy: 0.7110\n",
      "Epoch 64/100\n",
      "1705/1705 [==============================] - 2s 1ms/step - loss: 1.1044 - accuracy: 0.7109\n",
      "Epoch 65/100\n",
      "1705/1705 [==============================] - 2s 1ms/step - loss: 1.1043 - accuracy: 0.7110\n",
      "Epoch 66/100\n",
      "1705/1705 [==============================] - 2s 1ms/step - loss: 1.1036 - accuracy: 0.7111: 0s - loss:\n",
      "Epoch 67/100\n",
      "1705/1705 [==============================] - 2s 1ms/step - loss: 1.1041 - accuracy: 0.7111\n",
      "Epoch 68/100\n",
      "1705/1705 [==============================] - 2s 1ms/step - loss: 1.1037 - accuracy: 0.7112\n",
      "Epoch 69/100\n",
      "1705/1705 [==============================] - 2s 1ms/step - loss: 1.1037 - accuracy: 0.7115\n",
      "Epoch 70/100\n",
      "1705/1705 [==============================] - 2s 1ms/step - loss: 1.1033 - accuracy: 0.7109\n",
      "Epoch 71/100\n",
      "1705/1705 [==============================] - 2s 1ms/step - loss: 1.1030 - accuracy: 0.7111\n",
      "Epoch 72/100\n",
      "1705/1705 [==============================] - 2s 1ms/step - loss: 1.1017 - accuracy: 0.7113\n",
      "Epoch 73/100\n",
      "1705/1705 [==============================] - 2s 1ms/step - loss: 1.1027 - accuracy: 0.7113\n",
      "Epoch 74/100\n",
      "1705/1705 [==============================] - 2s 1ms/step - loss: 1.1025 - accuracy: 0.7111\n",
      "Epoch 75/100\n",
      "1705/1705 [==============================] - 2s 1ms/step - loss: 1.1019 - accuracy: 0.7116: \n",
      "Epoch 76/100\n",
      "1705/1705 [==============================] - 2s 1ms/step - loss: 1.1014 - accuracy: 0.7114\n",
      "Epoch 77/100\n",
      "1705/1705 [==============================] - 2s 1ms/step - loss: 1.1011 - accuracy: 0.7114\n",
      "Epoch 78/100\n",
      "1705/1705 [==============================] - 2s 1ms/step - loss: 1.1006 - accuracy: 0.7116\n",
      "Epoch 79/100\n"
     ]
    },
    {
     "name": "stdout",
     "output_type": "stream",
     "text": [
      "1705/1705 [==============================] - 2s 1ms/step - loss: 1.1010 - accuracy: 0.7115\n",
      "Epoch 80/100\n",
      "1705/1705 [==============================] - 2s 994us/step - loss: 1.1010 - accuracy: 0.7115\n",
      "Epoch 81/100\n",
      "1705/1705 [==============================] - 2s 991us/step - loss: 1.1004 - accuracy: 0.7115\n",
      "Epoch 82/100\n",
      "1705/1705 [==============================] - 2s 1ms/step - loss: 1.1004 - accuracy: 0.7118\n",
      "Epoch 83/100\n",
      "1705/1705 [==============================] - 2s 1ms/step - loss: 1.0999 - accuracy: 0.7118\n",
      "Epoch 84/100\n",
      "1705/1705 [==============================] - 2s 977us/step - loss: 1.0999 - accuracy: 0.7116\n",
      "Epoch 85/100\n",
      "1705/1705 [==============================] - 2s 1ms/step - loss: 1.0996 - accuracy: 0.7119\n",
      "Epoch 86/100\n",
      "1705/1705 [==============================] - 2s 996us/step - loss: 1.0993 - accuracy: 0.7119\n",
      "Epoch 87/100\n",
      "1705/1705 [==============================] - 2s 991us/step - loss: 1.0988 - accuracy: 0.7118\n",
      "Epoch 88/100\n",
      "1705/1705 [==============================] - 2s 990us/step - loss: 1.0991 - accuracy: 0.7117\n",
      "Epoch 89/100\n",
      "1705/1705 [==============================] - 2s 1ms/step - loss: 1.0994 - accuracy: 0.7119\n",
      "Epoch 90/100\n",
      "1705/1705 [==============================] - 2s 993us/step - loss: 1.0984 - accuracy: 0.7121\n",
      "Epoch 91/100\n",
      "1705/1705 [==============================] - 2s 1ms/step - loss: 1.0988 - accuracy: 0.7120\n",
      "Epoch 92/100\n",
      "1705/1705 [==============================] - 2s 1ms/step - loss: 1.0986 - accuracy: 0.7120\n",
      "Epoch 93/100\n",
      "1705/1705 [==============================] - 2s 999us/step - loss: 1.0984 - accuracy: 0.7120\n",
      "Epoch 94/100\n",
      "1705/1705 [==============================] - 2s 992us/step - loss: 1.0976 - accuracy: 0.7121\n",
      "Epoch 95/100\n",
      "1705/1705 [==============================] - 2s 997us/step - loss: 1.0976 - accuracy: 0.7121\n",
      "Epoch 96/100\n",
      "1705/1705 [==============================] - 2s 999us/step - loss: 1.0976 - accuracy: 0.7122\n",
      "Epoch 97/100\n",
      "1705/1705 [==============================] - 2s 1ms/step - loss: 1.0975 - accuracy: 0.7123\n",
      "Epoch 98/100\n",
      "1705/1705 [==============================] - 2s 1ms/step - loss: 1.0978 - accuracy: 0.7123\n",
      "Epoch 99/100\n",
      "1705/1705 [==============================] - 2s 1ms/step - loss: 1.0977 - accuracy: 0.7120\n",
      "Epoch 100/100\n",
      "1705/1705 [==============================] - 2s 1ms/step - loss: 1.0975 - accuracy: 0.7122\n"
     ]
    },
    {
     "data": {
      "text/plain": [
       "<tensorflow.python.keras.callbacks.History at 0x23a1f290310>"
      ]
     },
     "execution_count": 28,
     "metadata": {},
     "output_type": "execute_result"
    }
   ],
   "source": [
    "# model definition\n",
    "model = ml.Sequential()\n",
    "model.add( l.Dense(128, input_dim=x_train.shape[1], activation='relu') )\n",
    "model.add( l.Dense(11, activation='softmax') )\n",
    "\n",
    "# model compile\n",
    "model.compile(loss='categorical_crossentropy', optimizer='adam', metrics=['accuracy'])\n",
    "\n",
    "# train model\n",
    "model.fit(x_train, y_train_nn, epochs=100)"
   ]
  },
  {
   "cell_type": "markdown",
   "id": "db25633d",
   "metadata": {},
   "source": [
    "### 7.2.2. NN Performance"
   ]
  },
  {
   "cell_type": "code",
   "execution_count": 29,
   "id": "7ebdadb7",
   "metadata": {
    "ExecuteTime": {
     "end_time": "2022-03-01T19:14:23.228920Z",
     "start_time": "2022-03-01T19:14:19.120311Z"
    }
   },
   "outputs": [],
   "source": [
    "# prediction\n",
    "pred_nn = model.predict(x_test)\n",
    "\n",
    "# invert prediction\n",
    "yhat_nn = ohe.inverse_transform(pred_nn)\n",
    "\n",
    "# test dataset prepare with real results\n",
    "y_test_nn = y_test.to_numpy()\n",
    "yhat_nn = yhat_nn.reshape(1, -1)[0]"
   ]
  },
  {
   "cell_type": "code",
   "execution_count": 53,
   "id": "93807f04",
   "metadata": {
    "ExecuteTime": {
     "end_time": "2022-03-01T20:40:52.631144Z",
     "start_time": "2022-03-01T20:40:49.840152Z"
    }
   },
   "outputs": [
    {
     "name": "stdout",
     "output_type": "stream",
     "text": [
      "Accuracy: 0.7026769343601027\n",
      "Balanced Accuracy: 0.09129557494739854\n",
      "Kappa Score: -0.0006580927128863046\n",
      "              precision    recall  f1-score   support\n",
      "\n",
      "          AU       0.00      0.00      0.00       101\n",
      "          CA       0.00      0.00      0.00       214\n",
      "          DE       0.20      0.01      0.01       170\n",
      "          ES       0.00      0.00      0.00       345\n",
      "          FR       0.25      0.00      0.00       710\n",
      "          GB       0.00      0.00      0.00       344\n",
      "          IT       0.00      0.00      0.00       423\n",
      "          NL       0.00      0.00      0.00       128\n",
      "          PT       0.00      0.00      0.00        36\n",
      "          US       0.71      1.00      0.83      9624\n",
      "       other       0.10      0.00      0.00      1540\n",
      "\n",
      "    accuracy                           0.70     13635\n",
      "   macro avg       0.11      0.09      0.08     13635\n",
      "weighted avg       0.52      0.70      0.58     13635\n",
      "\n"
     ]
    },
    {
     "data": {
      "image/png": "[encoded data removed]",
      "text/plain": [
       "<Figure size 864x864 with 2 Axes>"
      ]
     },
     "metadata": {
      "needs_background": "light"
     },
     "output_type": "display_data"
    }
   ],
   "source": [
    "# Accuracy\n",
    "acc_nn = m.accuracy_score( y_test_nn, yhat_nn )\n",
    "print(f'Accuracy: {acc_nn}')\n",
    "\n",
    "# Balanced Accuracy\n",
    "balanced_acc_nn = m.balanced_accuracy_score(y_test_nn, yhat_nn)\n",
    "print(f'Balanced Accuracy: {balanced_acc_nn}')\n",
    "\n",
    "# Kappa Metrics\n",
    "kappa_nn = m.cohen_kappa_score(y_test_nn, yhat_nn)\n",
    "print(f'Kappa Score: {kappa_nn}')\n",
    "\n",
    "# Classification report\n",
    "print(m.classification_report(y_test_nn, yhat_nn))\n",
    "\n",
    "\n",
    "# Confusion Matrix\n",
    "mt.plot_confusion_matrix( y_test_nn, yhat_nn, normalize=False, figsize=(12,12));"
   ]
  },
  {
   "cell_type": "code",
   "execution_count": 31,
   "id": "1013c767",
   "metadata": {
    "ExecuteTime": {
     "end_time": "2022-03-01T19:14:24.752698Z",
     "start_time": "2022-03-01T19:14:24.723699Z"
    }
   },
   "outputs": [
    {
     "data": {
      "text/plain": [
       "US       0.995380\n",
       "other    0.002200\n",
       "ES       0.000513\n",
       "DE       0.000367\n",
       "IT       0.000367\n",
       "PT       0.000367\n",
       "FR       0.000293\n",
       "GB       0.000293\n",
       "NL       0.000220\n",
       "dtype: float64"
      ]
     },
     "execution_count": 31,
     "metadata": {},
     "output_type": "execute_result"
    }
   ],
   "source": [
    "# check balanced results\n",
    "pd.DataFrame(yhat_nn).value_counts(normalize=True)"
   ]
  },
  {
   "cell_type": "markdown",
   "id": "51b4d146",
   "metadata": {},
   "source": [
    "**Result**\n",
    "\n",
    "Although the model presents a reasonable result with 70% accuracy, the model is highly biased by unbalanced data, which is natural due how a Neural Network works.\n",
    "\n",
    "In the next ciclys will look at some of the following metrics to check for unbalanced data:\n",
    "\n",
    "    - Balanced Accuracy\n",
    "    - F-Score Balanced\n",
    "    - Recall-Precison\n",
    "    - ROC\n",
    "    - Kappa Metrics\n",
    "    - Matthew Metrics"
   ]
  },
  {
   "cell_type": "markdown",
   "id": "dec46b91",
   "metadata": {},
   "source": [
    "# 8.0. Hyper Parameter Tuning\n",
    "\n",
    "Hyper Parameter Tuning will not be considered until the most optimal machine learning model is selected, at this first cycle was considered only one model to complete the cycle and go through for all the major phases to validate the feasibility of the project."
   ]
  },
  {
   "cell_type": "code",
   "execution_count": null,
   "id": "2033ffaa",
   "metadata": {},
   "outputs": [],
   "source": []
  },
  {
   "cell_type": "markdown",
   "id": "caddd600",
   "metadata": {},
   "source": [
    "# 9.0. Error Translation and Interpretation"
   ]
  },
  {
   "cell_type": "markdown",
   "id": "2d632718",
   "metadata": {},
   "source": [
    "# 10.0. Deploy Model\n",
    "\n",
    "No models will be deployed yet."
   ]
  },
  {
   "cell_type": "code",
   "execution_count": null,
   "id": "a610263d",
   "metadata": {},
   "outputs": [],
   "source": []
  }
 ],
 "metadata": {
  "kernelspec": {
   "display_name": "Python 3 (ipykernel)",
   "language": "python",
   "name": "python3"
  },
  "language_info": {
   "codemirror_mode": {
    "name": "ipython",
    "version": 3
   },
   "file_extension": ".py",
   "mimetype": "text/x-python",
   "name": "python",
   "nbconvert_exporter": "python",
   "pygments_lexer": "ipython3",
   "version": "3.8.12"
  },
  "varInspector": {
   "cols": {
    "lenName": 16,
    "lenType": 16,
    "lenVar": 40
   },
   "kernels_config": {
    "python": {
     "delete_cmd_postfix": "",
     "delete_cmd_prefix": "del ",
     "library": "var_list.py",
     "varRefreshCmd": "print(var_dic_list())"
    },
    "r": {
     "delete_cmd_postfix": ") ",
     "delete_cmd_prefix": "rm(",
     "library": "var_list.r",
     "varRefreshCmd": "cat(var_dic_list()) "
    }
   },
   "types_to_exclude": [
    "module",
    "function",
    "builtin_function_or_method",
    "instance",
    "_Feature"
   ],
   "window_display": false
  }
 },
 "nbformat": 4,
 "nbformat_minor": 5
}
