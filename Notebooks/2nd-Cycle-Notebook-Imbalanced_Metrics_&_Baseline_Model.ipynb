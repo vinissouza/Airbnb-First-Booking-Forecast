{
 "cells": [
  {
   "cell_type": "markdown",
   "id": "e9da1de2",
   "metadata": {
    "ExecuteTime": {
     "end_time": "2022-02-28T20:43:44.606104Z",
     "start_time": "2022-02-28T20:43:44.598146Z"
    }
   },
   "source": [
    "# 0.0. Imports"
   ]
  },
  {
   "cell_type": "code",
   "execution_count": 1,
   "id": "4a97ff0c",
   "metadata": {
    "ExecuteTime": {
     "end_time": "2022-03-08T22:59:34.917092Z",
     "start_time": "2022-03-08T22:59:24.368735Z"
    }
   },
   "outputs": [],
   "source": [
    "import random\n",
    "import pandas as pd\n",
    "import numpy  as np\n",
    "import warnings\n",
    "\n",
    "from sklearn    import model_selection as ms\n",
    "from sklearn    import preprocessing   as pp\n",
    "from sklearn    import metrics         as m\n",
    "from scikitplot import metrics         as mt\n",
    "\n",
    "from keras import models as ml\n",
    "from keras import layers as l\n",
    "\n",
    "warnings.filterwarnings('ignore')"
   ]
  },
  {
   "cell_type": "markdown",
   "id": "58b2f295",
   "metadata": {},
   "source": [
    "## 0.1. Auxiliar Functions"
   ]
  },
  {
   "cell_type": "code",
   "execution_count": null,
   "id": "c27e09c1",
   "metadata": {},
   "outputs": [],
   "source": []
  },
  {
   "cell_type": "markdown",
   "id": "04bd4aba",
   "metadata": {},
   "source": [
    "## 0.2. Load Data"
   ]
  },
  {
   "cell_type": "code",
   "execution_count": 2,
   "id": "05c73b56",
   "metadata": {
    "ExecuteTime": {
     "end_time": "2022-03-08T22:59:58.503951Z",
     "start_time": "2022-03-08T22:59:34.917092Z"
    }
   },
   "outputs": [],
   "source": [
    "# load training set of user\n",
    "data_users = pd.read_csv('../Datasets/train_users_2.csv', low_memory=False)\n",
    "\n",
    "# load web sessions log for users\n",
    "data_sessions = pd.read_csv('../Datasets/sessions.csv', low_memory=False)"
   ]
  },
  {
   "cell_type": "markdown",
   "id": "1179dcfc",
   "metadata": {},
   "source": [
    "# 1.0. Data Description"
   ]
  },
  {
   "cell_type": "code",
   "execution_count": 3,
   "id": "a59196b7",
   "metadata": {
    "ExecuteTime": {
     "end_time": "2022-03-08T22:59:58.879197Z",
     "start_time": "2022-03-08T22:59:58.527197Z"
    }
   },
   "outputs": [],
   "source": [
    "df01_users = data_users.copy()\n",
    "\n",
    "df01_sessions = data_sessions.copy()"
   ]
  },
  {
   "cell_type": "markdown",
   "id": "1ccddadb",
   "metadata": {},
   "source": [
    "## 1.1. Data Types"
   ]
  },
  {
   "cell_type": "code",
   "execution_count": 4,
   "id": "fe162f91",
   "metadata": {
    "ExecuteTime": {
     "end_time": "2022-03-08T22:59:58.973194Z",
     "start_time": "2022-03-08T22:59:58.884193Z"
    },
    "cell_style": "split"
   },
   "outputs": [
    {
     "data": {
      "text/plain": [
       "id                          object\n",
       "date_account_created        object\n",
       "timestamp_first_active       int64\n",
       "date_first_booking          object\n",
       "gender                      object\n",
       "age                        float64\n",
       "signup_method               object\n",
       "signup_flow                  int64\n",
       "language                    object\n",
       "affiliate_channel           object\n",
       "affiliate_provider          object\n",
       "first_affiliate_tracked     object\n",
       "signup_app                  object\n",
       "first_device_type           object\n",
       "first_browser               object\n",
       "country_destination         object\n",
       "dtype: object"
      ]
     },
     "execution_count": 4,
     "metadata": {},
     "output_type": "execute_result"
    }
   ],
   "source": [
    "df01_users.dtypes"
   ]
  },
  {
   "cell_type": "code",
   "execution_count": 5,
   "id": "859ee10e",
   "metadata": {
    "ExecuteTime": {
     "end_time": "2022-03-08T22:59:59.004195Z",
     "start_time": "2022-03-08T22:59:58.979205Z"
    },
    "cell_style": "split"
   },
   "outputs": [
    {
     "data": {
      "text/plain": [
       "user_id           object\n",
       "action            object\n",
       "action_type       object\n",
       "action_detail     object\n",
       "device_type       object\n",
       "secs_elapsed     float64\n",
       "dtype: object"
      ]
     },
     "execution_count": 5,
     "metadata": {},
     "output_type": "execute_result"
    }
   ],
   "source": [
    "df01_sessions.dtypes"
   ]
  },
  {
   "cell_type": "markdown",
   "id": "297d0bec",
   "metadata": {
    "cell_style": "center"
   },
   "source": [
    "## 1.2. Data Dimensions"
   ]
  },
  {
   "cell_type": "markdown",
   "id": "c617277e",
   "metadata": {},
   "source": [
    "### 1.2.1. Data Users Dimensions "
   ]
  },
  {
   "cell_type": "code",
   "execution_count": 6,
   "id": "6889bc8e",
   "metadata": {
    "ExecuteTime": {
     "end_time": "2022-03-08T22:59:59.051220Z",
     "start_time": "2022-03-08T22:59:59.012198Z"
    }
   },
   "outputs": [
    {
     "name": "stdout",
     "output_type": "stream",
     "text": [
      "Number of rows of users dataset: 213451\n",
      "Number of columnss of users dataset: 16\n"
     ]
    }
   ],
   "source": [
    "print( f'Number of rows of users dataset: {df01_users.shape[0]}')\n",
    "print( f'Number of columnss of users dataset: {df01_users.shape[1]}')"
   ]
  },
  {
   "cell_type": "markdown",
   "id": "152339da",
   "metadata": {},
   "source": [
    "### 1.2.2. Data Sessions Dimensions\n",
    "\n",
    "This dataset will not be used in this first cycle due to the granularity being action and we want to be user_id for now."
   ]
  },
  {
   "cell_type": "code",
   "execution_count": 7,
   "id": "c1459d2d",
   "metadata": {
    "ExecuteTime": {
     "end_time": "2022-03-08T22:59:59.082221Z",
     "start_time": "2022-03-08T22:59:59.058201Z"
    }
   },
   "outputs": [
    {
     "name": "stdout",
     "output_type": "stream",
     "text": [
      "Number of rows of sessions dataset: 10567737\n",
      "Number of columnss of session dataset: 6\n"
     ]
    }
   ],
   "source": [
    "print( f'Number of rows of sessions dataset: {df01_sessions.shape[0]}')\n",
    "print( f'Number of columnss of session dataset: {df01_sessions.shape[1]}')"
   ]
  },
  {
   "cell_type": "markdown",
   "id": "5ed2d4e7",
   "metadata": {},
   "source": [
    "## 1.3. Check NA"
   ]
  },
  {
   "cell_type": "code",
   "execution_count": 8,
   "id": "49097f87",
   "metadata": {
    "ExecuteTime": {
     "end_time": "2022-03-08T22:59:59.270194Z",
     "start_time": "2022-03-08T22:59:59.089194Z"
    },
    "cell_style": "split"
   },
   "outputs": [
    {
     "data": {
      "text/plain": [
       "id                              0\n",
       "date_account_created            0\n",
       "timestamp_first_active          0\n",
       "date_first_booking         124543\n",
       "gender                          0\n",
       "age                         87990\n",
       "signup_method                   0\n",
       "signup_flow                     0\n",
       "language                        0\n",
       "affiliate_channel               0\n",
       "affiliate_provider              0\n",
       "first_affiliate_tracked      6065\n",
       "signup_app                      0\n",
       "first_device_type               0\n",
       "first_browser                   0\n",
       "country_destination             0\n",
       "dtype: int64"
      ]
     },
     "execution_count": 8,
     "metadata": {},
     "output_type": "execute_result"
    }
   ],
   "source": [
    "df01_users.isna().sum()"
   ]
  },
  {
   "cell_type": "code",
   "execution_count": 9,
   "id": "c559b15b",
   "metadata": {
    "ExecuteTime": {
     "end_time": "2022-03-08T22:59:59.427199Z",
     "start_time": "2022-03-08T22:59:59.278202Z"
    },
    "cell_style": "split"
   },
   "outputs": [
    {
     "data": {
      "text/plain": [
       "id                         0.000000\n",
       "date_account_created       0.000000\n",
       "timestamp_first_active     0.000000\n",
       "date_first_booking         0.583473\n",
       "gender                     0.000000\n",
       "age                        0.412226\n",
       "signup_method              0.000000\n",
       "signup_flow                0.000000\n",
       "language                   0.000000\n",
       "affiliate_channel          0.000000\n",
       "affiliate_provider         0.000000\n",
       "first_affiliate_tracked    0.028414\n",
       "signup_app                 0.000000\n",
       "first_device_type          0.000000\n",
       "first_browser              0.000000\n",
       "country_destination        0.000000\n",
       "dtype: float64"
      ]
     },
     "execution_count": 9,
     "metadata": {},
     "output_type": "execute_result"
    }
   ],
   "source": [
    "df01_users.isna().sum()/df01_users.shape[0]"
   ]
  },
  {
   "cell_type": "markdown",
   "id": "bd581316",
   "metadata": {},
   "source": [
    "## 1.4. Fill NA\n",
    "\n",
    "To increase time, in this first cycle, the NA data will not be threatened and will just drop, even if important information is lost, such as an entire NDF response class."
   ]
  },
  {
   "cell_type": "code",
   "execution_count": 10,
   "id": "17027a20",
   "metadata": {
    "ExecuteTime": {
     "end_time": "2022-03-08T22:59:59.598200Z",
     "start_time": "2022-03-08T22:59:59.431199Z"
    }
   },
   "outputs": [],
   "source": [
    "df01_users = df01_users.dropna()"
   ]
  },
  {
   "cell_type": "markdown",
   "id": "7076ae4e",
   "metadata": {},
   "source": [
    "## 1.5. Change Data Type"
   ]
  },
  {
   "cell_type": "code",
   "execution_count": 11,
   "id": "793c65b7",
   "metadata": {
    "ExecuteTime": {
     "end_time": "2022-03-08T22:59:59.645192Z",
     "start_time": "2022-03-08T22:59:59.600192Z"
    }
   },
   "outputs": [
    {
     "data": {
      "text/html": [
       "<div>\n",
       "<style scoped>\n",
       "    .dataframe tbody tr th:only-of-type {\n",
       "        vertical-align: middle;\n",
       "    }\n",
       "\n",
       "    .dataframe tbody tr th {\n",
       "        vertical-align: top;\n",
       "    }\n",
       "\n",
       "    .dataframe thead th {\n",
       "        text-align: right;\n",
       "    }\n",
       "</style>\n",
       "<table border=\"1\" class=\"dataframe\">\n",
       "  <thead>\n",
       "    <tr style=\"text-align: right;\">\n",
       "      <th></th>\n",
       "      <th>id</th>\n",
       "      <th>date_account_created</th>\n",
       "      <th>timestamp_first_active</th>\n",
       "      <th>date_first_booking</th>\n",
       "      <th>gender</th>\n",
       "      <th>age</th>\n",
       "      <th>signup_method</th>\n",
       "      <th>signup_flow</th>\n",
       "      <th>language</th>\n",
       "      <th>affiliate_channel</th>\n",
       "      <th>affiliate_provider</th>\n",
       "      <th>first_affiliate_tracked</th>\n",
       "      <th>signup_app</th>\n",
       "      <th>first_device_type</th>\n",
       "      <th>first_browser</th>\n",
       "      <th>country_destination</th>\n",
       "    </tr>\n",
       "  </thead>\n",
       "  <tbody>\n",
       "    <tr>\n",
       "      <th>125561</th>\n",
       "      <td>ae359qyxbe</td>\n",
       "      <td>2013-11-18</td>\n",
       "      <td>20131118171853</td>\n",
       "      <td>2014-09-09</td>\n",
       "      <td>FEMALE</td>\n",
       "      <td>28.0</td>\n",
       "      <td>basic</td>\n",
       "      <td>0</td>\n",
       "      <td>en</td>\n",
       "      <td>direct</td>\n",
       "      <td>direct</td>\n",
       "      <td>untracked</td>\n",
       "      <td>Web</td>\n",
       "      <td>Mac Desktop</td>\n",
       "      <td>Safari</td>\n",
       "      <td>US</td>\n",
       "    </tr>\n",
       "  </tbody>\n",
       "</table>\n",
       "</div>"
      ],
      "text/plain": [
       "                id date_account_created  timestamp_first_active  \\\n",
       "125561  ae359qyxbe           2013-11-18          20131118171853   \n",
       "\n",
       "       date_first_booking  gender   age signup_method  signup_flow language  \\\n",
       "125561         2014-09-09  FEMALE  28.0         basic            0       en   \n",
       "\n",
       "       affiliate_channel affiliate_provider first_affiliate_tracked  \\\n",
       "125561            direct             direct               untracked   \n",
       "\n",
       "       signup_app first_device_type first_browser country_destination  \n",
       "125561        Web       Mac Desktop        Safari                  US  "
      ]
     },
     "execution_count": 11,
     "metadata": {},
     "output_type": "execute_result"
    }
   ],
   "source": [
    "df01_users.sample(1)"
   ]
  },
  {
   "cell_type": "code",
   "execution_count": 12,
   "id": "d76d383f",
   "metadata": {
    "ExecuteTime": {
     "end_time": "2022-03-08T23:00:00.003468Z",
     "start_time": "2022-03-08T22:59:59.649195Z"
    }
   },
   "outputs": [],
   "source": [
    "# change date type\n",
    "df01_users['date_account_created'] = pd.to_datetime(df01_users['date_account_created'])\n",
    "df01_users['date_first_booking'] = pd.to_datetime(df01_users['date_first_booking'])\n",
    "\n",
    "# change datetime type\n",
    "df01_users['timestamp_first_active'] = pd.to_datetime(df01_users['timestamp_first_active'], format='%Y%m%d%H%M%S')\n",
    "\n",
    "# change age to int\n",
    "df01_users['age'] = df01_users['age'].astype(np.int64)"
   ]
  },
  {
   "cell_type": "code",
   "execution_count": 13,
   "id": "505514d3",
   "metadata": {
    "ExecuteTime": {
     "end_time": "2022-03-08T23:00:00.065191Z",
     "start_time": "2022-03-08T23:00:00.009228Z"
    }
   },
   "outputs": [
    {
     "data": {
      "text/html": [
       "<div>\n",
       "<style scoped>\n",
       "    .dataframe tbody tr th:only-of-type {\n",
       "        vertical-align: middle;\n",
       "    }\n",
       "\n",
       "    .dataframe tbody tr th {\n",
       "        vertical-align: top;\n",
       "    }\n",
       "\n",
       "    .dataframe thead th {\n",
       "        text-align: right;\n",
       "    }\n",
       "</style>\n",
       "<table border=\"1\" class=\"dataframe\">\n",
       "  <thead>\n",
       "    <tr style=\"text-align: right;\">\n",
       "      <th></th>\n",
       "      <th>id</th>\n",
       "      <th>date_account_created</th>\n",
       "      <th>timestamp_first_active</th>\n",
       "      <th>date_first_booking</th>\n",
       "      <th>gender</th>\n",
       "      <th>age</th>\n",
       "      <th>signup_method</th>\n",
       "      <th>signup_flow</th>\n",
       "      <th>language</th>\n",
       "      <th>affiliate_channel</th>\n",
       "      <th>affiliate_provider</th>\n",
       "      <th>first_affiliate_tracked</th>\n",
       "      <th>signup_app</th>\n",
       "      <th>first_device_type</th>\n",
       "      <th>first_browser</th>\n",
       "      <th>country_destination</th>\n",
       "    </tr>\n",
       "  </thead>\n",
       "  <tbody>\n",
       "    <tr>\n",
       "      <th>83077</th>\n",
       "      <td>yuixuwzo1e</td>\n",
       "      <td>2013-06-11</td>\n",
       "      <td>2013-06-11 03:53:58</td>\n",
       "      <td>2013-06-21</td>\n",
       "      <td>FEMALE</td>\n",
       "      <td>44</td>\n",
       "      <td>basic</td>\n",
       "      <td>0</td>\n",
       "      <td>en</td>\n",
       "      <td>sem-brand</td>\n",
       "      <td>google</td>\n",
       "      <td>omg</td>\n",
       "      <td>Web</td>\n",
       "      <td>Mac Desktop</td>\n",
       "      <td>Safari</td>\n",
       "      <td>US</td>\n",
       "    </tr>\n",
       "  </tbody>\n",
       "</table>\n",
       "</div>"
      ],
      "text/plain": [
       "               id date_account_created timestamp_first_active  \\\n",
       "83077  yuixuwzo1e           2013-06-11    2013-06-11 03:53:58   \n",
       "\n",
       "      date_first_booking  gender  age signup_method  signup_flow language  \\\n",
       "83077         2013-06-21  FEMALE   44         basic            0       en   \n",
       "\n",
       "      affiliate_channel affiliate_provider first_affiliate_tracked signup_app  \\\n",
       "83077         sem-brand             google                     omg        Web   \n",
       "\n",
       "      first_device_type first_browser country_destination  \n",
       "83077       Mac Desktop        Safari                  US  "
      ]
     },
     "execution_count": 13,
     "metadata": {},
     "output_type": "execute_result"
    }
   ],
   "source": [
    "df01_users.sample(1)"
   ]
  },
  {
   "cell_type": "code",
   "execution_count": 14,
   "id": "e7b73c50",
   "metadata": {
    "ExecuteTime": {
     "end_time": "2022-03-08T23:00:00.096233Z",
     "start_time": "2022-03-08T23:00:00.069197Z"
    }
   },
   "outputs": [
    {
     "data": {
      "text/plain": [
       "id                                 object\n",
       "date_account_created       datetime64[ns]\n",
       "timestamp_first_active     datetime64[ns]\n",
       "date_first_booking         datetime64[ns]\n",
       "gender                             object\n",
       "age                                 int64\n",
       "signup_method                      object\n",
       "signup_flow                         int64\n",
       "language                           object\n",
       "affiliate_channel                  object\n",
       "affiliate_provider                 object\n",
       "first_affiliate_tracked            object\n",
       "signup_app                         object\n",
       "first_device_type                  object\n",
       "first_browser                      object\n",
       "country_destination                object\n",
       "dtype: object"
      ]
     },
     "execution_count": 14,
     "metadata": {},
     "output_type": "execute_result"
    }
   ],
   "source": [
    "df01_users.dtypes"
   ]
  },
  {
   "cell_type": "markdown",
   "id": "b4774540",
   "metadata": {},
   "source": [
    "## 1.6. Check Balanced Data\n",
    "\n",
    "Data with an unbalance of 70% for the US class."
   ]
  },
  {
   "cell_type": "code",
   "execution_count": 15,
   "id": "8f5cdc46",
   "metadata": {
    "ExecuteTime": {
     "end_time": "2022-03-08T23:00:00.128214Z",
     "start_time": "2022-03-08T23:00:00.099197Z"
    }
   },
   "outputs": [
    {
     "data": {
      "text/plain": [
       "US       0.708864\n",
       "other    0.110854\n",
       "FR       0.054085\n",
       "IT       0.029763\n",
       "GB       0.025935\n",
       "ES       0.024864\n",
       "CA       0.015696\n",
       "DE       0.012454\n",
       "NL       0.008801\n",
       "AU       0.006366\n",
       "PT       0.002318\n",
       "Name: country_destination, dtype: float64"
      ]
     },
     "execution_count": 15,
     "metadata": {},
     "output_type": "execute_result"
    }
   ],
   "source": [
    "df01_users['country_destination'].value_counts(normalize=True)"
   ]
  },
  {
   "cell_type": "markdown",
   "id": "bbe57720",
   "metadata": {},
   "source": [
    "# 2.0. Feature Engineering\n",
    "\n",
    "To increase time, no feature engineering will be done for this first cycle."
   ]
  },
  {
   "cell_type": "code",
   "execution_count": 16,
   "id": "f64c4deb",
   "metadata": {
    "ExecuteTime": {
     "end_time": "2022-03-08T23:00:00.160195Z",
     "start_time": "2022-03-08T23:00:00.133196Z"
    }
   },
   "outputs": [],
   "source": [
    "df02_users = df01_users.copy()"
   ]
  },
  {
   "cell_type": "markdown",
   "id": "b0f5b037",
   "metadata": {},
   "source": [
    "# 3.0. Data Filtering\n",
    "\n",
    "To increase time, the Data Filtering stage will be skipped in this first cycle."
   ]
  },
  {
   "cell_type": "code",
   "execution_count": 17,
   "id": "26b87f66",
   "metadata": {
    "ExecuteTime": {
     "end_time": "2022-03-08T23:00:00.176215Z",
     "start_time": "2022-03-08T23:00:00.166200Z"
    }
   },
   "outputs": [],
   "source": [
    "df03_users = df02_users.copy()"
   ]
  },
  {
   "cell_type": "markdown",
   "id": "80d07e8f",
   "metadata": {
    "heading_collapsed": true
   },
   "source": [
    "## 3.1. Filtering Rows"
   ]
  },
  {
   "cell_type": "markdown",
   "id": "d9303a1b",
   "metadata": {
    "heading_collapsed": true
   },
   "source": [
    "## 3.2. Columns Selection"
   ]
  },
  {
   "cell_type": "markdown",
   "id": "20d1ff53",
   "metadata": {},
   "source": [
    "# 4.0. Data Exploratory Analysis\n",
    "\n",
    "To increase time, the EDA stage will be skipped in this first cycle."
   ]
  },
  {
   "cell_type": "code",
   "execution_count": 18,
   "id": "c5e9da71",
   "metadata": {
    "ExecuteTime": {
     "end_time": "2022-03-08T23:00:00.207215Z",
     "start_time": "2022-03-08T23:00:00.181196Z"
    }
   },
   "outputs": [],
   "source": [
    "df04_users = df03_users.copy()"
   ]
  },
  {
   "cell_type": "markdown",
   "id": "868b4156",
   "metadata": {},
   "source": [
    "# 5.0. Data Preparation"
   ]
  },
  {
   "cell_type": "code",
   "execution_count": 19,
   "id": "5fcd8687",
   "metadata": {
    "ExecuteTime": {
     "end_time": "2022-03-08T23:00:00.238201Z",
     "start_time": "2022-03-08T23:00:00.212230Z"
    }
   },
   "outputs": [],
   "source": [
    "df05_users = df04_users.copy()"
   ]
  },
  {
   "cell_type": "code",
   "execution_count": 20,
   "id": "53e5ef72",
   "metadata": {
    "ExecuteTime": {
     "end_time": "2022-03-08T23:00:00.397200Z",
     "start_time": "2022-03-08T23:00:00.241195Z"
    }
   },
   "outputs": [],
   "source": [
    "# dummy variable\n",
    "df05_users_dummy = pd.get_dummies(df05_users.drop(['id', 'country_destination'], axis=1))\n",
    "\n",
    "# join id and country destination\n",
    "df05_users = pd.concat( [df05_users[['id', 'country_destination']], df05_users_dummy], axis=1 )"
   ]
  },
  {
   "cell_type": "markdown",
   "id": "56417dc6",
   "metadata": {},
   "source": [
    "# 6.0. Feature Selection\n",
    "\n",
    "Original date will be discarded in this first cycle because data must first be derived from them, like years and months."
   ]
  },
  {
   "cell_type": "code",
   "execution_count": 21,
   "id": "924a6eec",
   "metadata": {
    "ExecuteTime": {
     "end_time": "2022-03-08T23:00:00.428166Z",
     "start_time": "2022-03-08T23:00:00.401195Z"
    }
   },
   "outputs": [],
   "source": [
    "df06_users = df05_users.copy()"
   ]
  },
  {
   "cell_type": "code",
   "execution_count": 22,
   "id": "3aa224e1",
   "metadata": {
    "ExecuteTime": {
     "end_time": "2022-03-08T23:00:00.460164Z",
     "start_time": "2022-03-08T23:00:00.431170Z"
    }
   },
   "outputs": [],
   "source": [
    "cols_drop = ['date_account_created', 'timestamp_first_active', 'date_first_booking'] # original dates\n",
    "df06_users = df06_users.drop(cols_drop, axis=1)"
   ]
  },
  {
   "cell_type": "code",
   "execution_count": 23,
   "id": "c4bc27ff",
   "metadata": {
    "ExecuteTime": {
     "end_time": "2022-03-08T23:00:00.492267Z",
     "start_time": "2022-03-08T23:00:00.463169Z"
    }
   },
   "outputs": [],
   "source": [
    "# training dataset\n",
    "X = df06_users.drop( 'country_destination', axis=1 )\n",
    "\n",
    "#  training response dataset\n",
    "y = df06_users['country_destination']"
   ]
  },
  {
   "cell_type": "code",
   "execution_count": 24,
   "id": "2526e910",
   "metadata": {
    "ExecuteTime": {
     "end_time": "2022-03-08T23:00:00.556267Z",
     "start_time": "2022-03-08T23:00:00.496165Z"
    }
   },
   "outputs": [],
   "source": [
    "# Split dataset into training and test (validation)\n",
    "X_train, X_test, y_train, y_test = ms.train_test_split(X, y, test_size=0.2, random_state=32)"
   ]
  },
  {
   "cell_type": "markdown",
   "id": "c9ee0881",
   "metadata": {},
   "source": [
    "# 7.0. Machine Learing Model"
   ]
  },
  {
   "cell_type": "code",
   "execution_count": 25,
   "id": "b9dfd8fe",
   "metadata": {
    "ExecuteTime": {
     "end_time": "2022-03-08T23:00:00.588267Z",
     "start_time": "2022-03-08T23:00:00.559168Z"
    }
   },
   "outputs": [],
   "source": [
    "x_train = X_train.drop('id', axis=1)\n",
    "x_test = X_test.drop('id', axis=1)"
   ]
  },
  {
   "cell_type": "markdown",
   "id": "b3107f01",
   "metadata": {},
   "source": [
    "## 7.1. Baseline Model - Random"
   ]
  },
  {
   "cell_type": "code",
   "execution_count": 26,
   "id": "c5ee811a",
   "metadata": {
    "ExecuteTime": {
     "end_time": "2022-03-08T23:00:00.635271Z",
     "start_time": "2022-03-08T23:00:00.591170Z"
    }
   },
   "outputs": [],
   "source": [
    "country_list = df06_users['country_destination'].drop_duplicates().sort_values().tolist()\n",
    "\n",
    "k_num = y_test.shape[0]\n",
    "\n",
    "country_weights = df06_users['country_destination'].value_counts(normalize=True).sort_index().tolist()\n",
    "\n",
    "yhat_random = random.choices(population=country_list,\n",
    "                             weights=country_weights,\n",
    "                             k=k_num)"
   ]
  },
  {
   "cell_type": "markdown",
   "id": "74175f4b",
   "metadata": {},
   "source": [
    "## 7.2. Neural Network - MLP"
   ]
  },
  {
   "cell_type": "code",
   "execution_count": 27,
   "id": "c837ddfc",
   "metadata": {
    "ExecuteTime": {
     "end_time": "2022-03-08T23:00:00.682167Z",
     "start_time": "2022-03-08T23:00:00.646173Z"
    }
   },
   "outputs": [],
   "source": [
    "ohe = pp.OneHotEncoder()\n",
    "\n",
    "y_train_nn = ohe.fit_transform(y_train.values.reshape(-1, 1)).toarray()"
   ]
  },
  {
   "cell_type": "code",
   "execution_count": 28,
   "id": "fa3d36ec",
   "metadata": {
    "ExecuteTime": {
     "end_time": "2022-03-08T23:03:18.819265Z",
     "start_time": "2022-03-08T23:00:00.685169Z"
    },
    "scrolled": true
   },
   "outputs": [
    {
     "name": "stdout",
     "output_type": "stream",
     "text": [
      "Epoch 1/100\n",
      "1705/1705 [==============================] - 3s 2ms/step - loss: 1.3044 - accuracy: 0.7047: 0s - loss: 1.3035 - accuracy: 0.\n",
      "Epoch 2/100\n",
      "1705/1705 [==============================] - 2s 1ms/step - loss: 1.2641 - accuracy: 0.7078\n",
      "Epoch 3/100\n",
      "1705/1705 [==============================] - 2s 1ms/step - loss: 1.2212 - accuracy: 0.7081\n",
      "Epoch 4/100\n",
      "1705/1705 [==============================] - 2s 996us/step - loss: 1.2066 - accuracy: 0.7086\n",
      "Epoch 5/100\n",
      "1705/1705 [==============================] - 2s 1ms/step - loss: 1.1939 - accuracy: 0.7084\n",
      "Epoch 6/100\n",
      "1705/1705 [==============================] - 2s 999us/step - loss: 1.1708 - accuracy: 0.7085\n",
      "Epoch 7/100\n",
      "1705/1705 [==============================] - 2s 1ms/step - loss: 1.1591 - accuracy: 0.7086: 1s -\n",
      "Epoch 8/100\n",
      "1705/1705 [==============================] - 2s 1ms/step - loss: 1.1480 - accuracy: 0.7088\n",
      "Epoch 9/100\n",
      "1705/1705 [==============================] - 3s 2ms/step - loss: 1.1425 - accuracy: 0.7089\n",
      "Epoch 10/100\n",
      "1705/1705 [==============================] - 2s 898us/step - loss: 1.1359 - accuracy: 0.7092\n",
      "Epoch 11/100\n",
      "1705/1705 [==============================] - 2s 894us/step - loss: 1.1337 - accuracy: 0.7094\n",
      "Epoch 12/100\n",
      "1705/1705 [==============================] - 2s 892us/step - loss: 1.1323 - accuracy: 0.7095\n",
      "Epoch 13/100\n",
      "1705/1705 [==============================] - 1s 879us/step - loss: 1.1318 - accuracy: 0.7094\n",
      "Epoch 14/100\n",
      "1705/1705 [==============================] - 1s 872us/step - loss: 1.1311 - accuracy: 0.7095\n",
      "Epoch 15/100\n",
      "1705/1705 [==============================] - 1s 873us/step - loss: 1.1299 - accuracy: 0.7095\n",
      "Epoch 16/100\n",
      "1705/1705 [==============================] - 1s 878us/step - loss: 1.1286 - accuracy: 0.7096\n",
      "Epoch 17/100\n",
      "1705/1705 [==============================] - 2s 881us/step - loss: 1.1288 - accuracy: 0.7096\n",
      "Epoch 18/100\n",
      "1705/1705 [==============================] - 2s 1ms/step - loss: 1.1279 - accuracy: 0.7095\n",
      "Epoch 19/100\n",
      "1705/1705 [==============================] - 2s 1ms/step - loss: 1.1266 - accuracy: 0.7096\n",
      "Epoch 20/100\n",
      "1705/1705 [==============================] - 2s 884us/step - loss: 1.1262 - accuracy: 0.7095\n",
      "Epoch 21/100\n",
      "1705/1705 [==============================] - 1s 873us/step - loss: 1.1251 - accuracy: 0.7097\n",
      "Epoch 22/100\n",
      "1705/1705 [==============================] - 1s 873us/step - loss: 1.1243 - accuracy: 0.7097\n",
      "Epoch 23/100\n",
      "1705/1705 [==============================] - 2s 881us/step - loss: 1.1236 - accuracy: 0.7097\n",
      "Epoch 24/100\n",
      "1705/1705 [==============================] - 1s 876us/step - loss: 1.1226 - accuracy: 0.7098\n",
      "Epoch 25/100\n",
      "1705/1705 [==============================] - 2s 882us/step - loss: 1.1219 - accuracy: 0.7098\n",
      "Epoch 26/100\n",
      "1705/1705 [==============================] - 2s 906us/step - loss: 1.1221 - accuracy: 0.7098\n",
      "Epoch 27/100\n",
      "1705/1705 [==============================] - 2s 956us/step - loss: 1.1206 - accuracy: 0.7098\n",
      "Epoch 28/100\n",
      "1705/1705 [==============================] - 2s 1ms/step - loss: 1.1200 - accuracy: 0.7098\n",
      "Epoch 29/100\n",
      "1705/1705 [==============================] - 2s 933us/step - loss: 1.1195 - accuracy: 0.7099\n",
      "Epoch 30/100\n",
      "1705/1705 [==============================] - 1s 872us/step - loss: 1.1197 - accuracy: 0.7099\n",
      "Epoch 31/100\n",
      "1705/1705 [==============================] - 2s 892us/step - loss: 1.1188 - accuracy: 0.7099\n",
      "Epoch 32/100\n",
      "1705/1705 [==============================] - 2s 942us/step - loss: 1.1174 - accuracy: 0.7099\n",
      "Epoch 33/100\n",
      "1705/1705 [==============================] - 2s 901us/step - loss: 1.1183 - accuracy: 0.7099\n",
      "Epoch 34/100\n",
      "1705/1705 [==============================] - 2s 939us/step - loss: 1.1174 - accuracy: 0.7099\n",
      "Epoch 35/100\n",
      "1705/1705 [==============================] - 1s 873us/step - loss: 1.1163 - accuracy: 0.7100\n",
      "Epoch 36/100\n",
      "1705/1705 [==============================] - 2s 890us/step - loss: 1.1167 - accuracy: 0.7100\n",
      "Epoch 37/100\n",
      "1705/1705 [==============================] - 1s 879us/step - loss: 1.1154 - accuracy: 0.7100\n",
      "Epoch 38/100\n",
      "1705/1705 [==============================] - 2s 1ms/step - loss: 1.1152 - accuracy: 0.7101\n",
      "Epoch 39/100\n",
      "1705/1705 [==============================] - 2s 993us/step - loss: 1.1141 - accuracy: 0.7103\n",
      "Epoch 40/100\n",
      "1705/1705 [==============================] - 2s 998us/step - loss: 1.1137 - accuracy: 0.7103\n",
      "Epoch 41/100\n",
      "1705/1705 [==============================] - 2s 967us/step - loss: 1.1135 - accuracy: 0.7104\n",
      "Epoch 42/100\n",
      "1705/1705 [==============================] - 2s 884us/step - loss: 1.1129 - accuracy: 0.7103\n",
      "Epoch 43/100\n",
      "1705/1705 [==============================] - 2s 893us/step - loss: 1.1128 - accuracy: 0.7102\n",
      "Epoch 44/100\n",
      "1705/1705 [==============================] - 2s 948us/step - loss: 1.1121 - accuracy: 0.7105\n",
      "Epoch 45/100\n",
      "1705/1705 [==============================] - 1s 880us/step - loss: 1.1118 - accuracy: 0.7105\n",
      "Epoch 46/100\n",
      "1705/1705 [==============================] - 2s 896us/step - loss: 1.1115 - accuracy: 0.7104\n",
      "Epoch 47/100\n",
      "1705/1705 [==============================] - 2s 911us/step - loss: 1.1115 - accuracy: 0.7104\n",
      "Epoch 48/100\n",
      "1705/1705 [==============================] - 2s 1ms/step - loss: 1.1109 - accuracy: 0.7105\n",
      "Epoch 49/100\n",
      "1705/1705 [==============================] - 2s 969us/step - loss: 1.1101 - accuracy: 0.7105\n",
      "Epoch 50/100\n",
      "1705/1705 [==============================] - 2s 884us/step - loss: 1.1109 - accuracy: 0.7106\n",
      "Epoch 51/100\n",
      "1705/1705 [==============================] - 1s 871us/step - loss: 1.1117 - accuracy: 0.7106\n",
      "Epoch 52/100\n",
      "1705/1705 [==============================] - 1s 874us/step - loss: 1.1093 - accuracy: 0.7110\n",
      "Epoch 53/100\n",
      "1705/1705 [==============================] - 2s 903us/step - loss: 1.1092 - accuracy: 0.7110\n",
      "Epoch 54/100\n",
      "1705/1705 [==============================] - 2s 932us/step - loss: 1.1080 - accuracy: 0.7108\n",
      "Epoch 55/100\n",
      "1705/1705 [==============================] - 2s 1ms/step - loss: 1.1082 - accuracy: 0.7110\n",
      "Epoch 56/100\n",
      "1705/1705 [==============================] - 3s 2ms/step - loss: 1.1075 - accuracy: 0.7109\n",
      "Epoch 57/100\n",
      "1705/1705 [==============================] - 2s 1ms/step - loss: 1.1071 - accuracy: 0.7110: 0s - loss: 1.1051 - ac\n",
      "Epoch 58/100\n",
      "1705/1705 [==============================] - 2s 1ms/step - loss: 1.1068 - accuracy: 0.7113\n",
      "Epoch 59/100\n",
      "1705/1705 [==============================] - 2s 1ms/step - loss: 1.1073 - accuracy: 0.7112\n",
      "Epoch 60/100\n",
      "1705/1705 [==============================] - 2s 1ms/step - loss: 1.1065 - accuracy: 0.7111\n",
      "Epoch 61/100\n",
      "1705/1705 [==============================] - 2s 1ms/step - loss: 1.1070 - accuracy: 0.7113\n",
      "Epoch 62/100\n",
      "1705/1705 [==============================] - 2s 1ms/step - loss: 1.1060 - accuracy: 0.7112\n",
      "Epoch 63/100\n",
      "1705/1705 [==============================] - 2s 1ms/step - loss: 1.1054 - accuracy: 0.7112\n",
      "Epoch 64/100\n",
      "1705/1705 [==============================] - 2s 1ms/step - loss: 1.1050 - accuracy: 0.7118\n",
      "Epoch 65/100\n",
      "1705/1705 [==============================] - 3s 1ms/step - loss: 1.1050 - accuracy: 0.7113\n",
      "Epoch 66/100\n",
      "1705/1705 [==============================] - 2s 1ms/step - loss: 1.1054 - accuracy: 0.7114\n",
      "Epoch 67/100\n",
      "1705/1705 [==============================] - 2s 1ms/step - loss: 1.1051 - accuracy: 0.7114\n",
      "Epoch 68/100\n",
      "1705/1705 [==============================] - 2s 1ms/step - loss: 1.1048 - accuracy: 0.7116\n",
      "Epoch 69/100\n",
      "1705/1705 [==============================] - 2s 1ms/step - loss: 1.1046 - accuracy: 0.7112\n",
      "Epoch 70/100\n",
      "1705/1705 [==============================] - 2s 1ms/step - loss: 1.1045 - accuracy: 0.7115\n",
      "Epoch 71/100\n",
      "1705/1705 [==============================] - 2s 1ms/step - loss: 1.1030 - accuracy: 0.7115\n",
      "Epoch 72/100\n",
      "1705/1705 [==============================] - 3s 1ms/step - loss: 1.1044 - accuracy: 0.7114\n",
      "Epoch 73/100\n",
      "1705/1705 [==============================] - 2s 1ms/step - loss: 1.1041 - accuracy: 0.7114\n",
      "Epoch 74/100\n",
      "1705/1705 [==============================] - 2s 1ms/step - loss: 1.1032 - accuracy: 0.7117\n",
      "Epoch 75/100\n",
      "1705/1705 [==============================] - 2s 1ms/step - loss: 1.1030 - accuracy: 0.7116\n",
      "Epoch 76/100\n",
      "1705/1705 [==============================] - 2s 1ms/step - loss: 1.1034 - accuracy: 0.7117\n",
      "Epoch 77/100\n",
      "1705/1705 [==============================] - 2s 1ms/step - loss: 1.1029 - accuracy: 0.7117\n",
      "Epoch 78/100\n"
     ]
    },
    {
     "name": "stdout",
     "output_type": "stream",
     "text": [
      "1705/1705 [==============================] - 2s 1ms/step - loss: 1.1022 - accuracy: 0.7120\n",
      "Epoch 79/100\n",
      "1705/1705 [==============================] - 2s 1ms/step - loss: 1.1021 - accuracy: 0.7117\n",
      "Epoch 80/100\n",
      "1705/1705 [==============================] - 2s 1ms/step - loss: 1.1020 - accuracy: 0.7116\n",
      "Epoch 81/100\n",
      "1705/1705 [==============================] - 3s 2ms/step - loss: 1.1018 - accuracy: 0.7118: 0s - los\n",
      "Epoch 82/100\n",
      "1705/1705 [==============================] - 3s 2ms/step - loss: 1.1021 - accuracy: 0.7118\n",
      "Epoch 83/100\n",
      "1705/1705 [==============================] - 3s 2ms/step - loss: 1.1017 - accuracy: 0.7118\n",
      "Epoch 84/100\n",
      "1705/1705 [==============================] - 2s 1ms/step - loss: 1.1016 - accuracy: 0.7119\n",
      "Epoch 85/100\n",
      "1705/1705 [==============================] - 3s 2ms/step - loss: 1.1008 - accuracy: 0.7118\n",
      "Epoch 86/100\n",
      "1705/1705 [==============================] - 2s 1ms/step - loss: 1.1009 - accuracy: 0.7118\n",
      "Epoch 87/100\n",
      "1705/1705 [==============================] - 2s 1ms/step - loss: 1.1008 - accuracy: 0.7118\n",
      "Epoch 88/100\n",
      "1705/1705 [==============================] - 2s 1ms/step - loss: 1.1005 - accuracy: 0.7119\n",
      "Epoch 89/100\n",
      "1705/1705 [==============================] - 2s 1ms/step - loss: 1.1005 - accuracy: 0.7122\n",
      "Epoch 90/100\n",
      "1705/1705 [==============================] - 2s 992us/step - loss: 1.0996 - accuracy: 0.7119\n",
      "Epoch 91/100\n",
      "1705/1705 [==============================] - 2s 1ms/step - loss: 1.0994 - accuracy: 0.7120\n",
      "Epoch 92/100\n",
      "1705/1705 [==============================] - 3s 2ms/step - loss: 1.1000 - accuracy: 0.7121\n",
      "Epoch 93/100\n",
      "1705/1705 [==============================] - 3s 2ms/step - loss: 1.1003 - accuracy: 0.7121\n",
      "Epoch 94/100\n",
      "1705/1705 [==============================] - 3s 2ms/step - loss: 1.1001 - accuracy: 0.7120\n",
      "Epoch 95/100\n",
      "1705/1705 [==============================] - 2s 1ms/step - loss: 1.0992 - accuracy: 0.7120\n",
      "Epoch 96/100\n",
      "1705/1705 [==============================] - 2s 882us/step - loss: 1.0992 - accuracy: 0.7124\n",
      "Epoch 97/100\n",
      "1705/1705 [==============================] - 2s 903us/step - loss: 1.0987 - accuracy: 0.7122\n",
      "Epoch 98/100\n",
      "1705/1705 [==============================] - 2s 884us/step - loss: 1.0990 - accuracy: 0.7123\n",
      "Epoch 99/100\n",
      "1705/1705 [==============================] - 2s 882us/step - loss: 1.0993 - accuracy: 0.7122\n",
      "Epoch 100/100\n",
      "1705/1705 [==============================] - 1s 879us/step - loss: 1.0989 - accuracy: 0.7121\n"
     ]
    },
    {
     "data": {
      "text/plain": [
       "<tensorflow.python.keras.callbacks.History at 0x2405e2f1700>"
      ]
     },
     "execution_count": 28,
     "metadata": {},
     "output_type": "execute_result"
    }
   ],
   "source": [
    "# model definition\n",
    "model = ml.Sequential()\n",
    "model.add( l.Dense(128, input_dim=x_train.shape[1], activation='relu') )\n",
    "model.add( l.Dense(11, activation='softmax') )\n",
    "\n",
    "# model compile\n",
    "model.compile(loss='categorical_crossentropy', optimizer='adam', metrics=['accuracy'])\n",
    "\n",
    "# train model\n",
    "model.fit(x_train, y_train_nn, epochs=100)"
   ]
  },
  {
   "cell_type": "markdown",
   "id": "dec46b91",
   "metadata": {},
   "source": [
    "# 8.0. Hyper Parameter Tuning\n",
    "\n",
    "Hyper Parameter Tuning will not be considered until the most optimal machine learning model is selected, at this first cycle was considered only one model to complete the cycle and go through for all the major phases to validate the feasibility of the project."
   ]
  },
  {
   "cell_type": "code",
   "execution_count": null,
   "id": "6af5d649",
   "metadata": {},
   "outputs": [],
   "source": []
  },
  {
   "cell_type": "markdown",
   "id": "caddd600",
   "metadata": {},
   "source": [
    "# 9.0. Error Translation and Interpretation"
   ]
  },
  {
   "cell_type": "markdown",
   "id": "ed89c1cb",
   "metadata": {},
   "source": [
    "## 9.1. Baseline Model Performance"
   ]
  },
  {
   "cell_type": "code",
   "execution_count": 29,
   "id": "6c0dee68",
   "metadata": {
    "ExecuteTime": {
     "end_time": "2022-03-08T23:03:20.368850Z",
     "start_time": "2022-03-08T23:03:18.819655Z"
    }
   },
   "outputs": [
    {
     "name": "stdout",
     "output_type": "stream",
     "text": [
      "Accuracy 0.5122845617895123\n",
      "Balanced Accuracy: 0.08827650628709\n",
      "Kappa Score: -0.005629234581874032\n",
      "              precision    recall  f1-score   support\n",
      "\n",
      "          AU       0.01      0.01      0.01       101\n",
      "          CA       0.00      0.00      0.00       214\n",
      "          DE       0.02      0.02      0.02       170\n",
      "          ES       0.02      0.02      0.02       345\n",
      "          FR       0.06      0.06      0.06       710\n",
      "          GB       0.02      0.02      0.02       344\n",
      "          IT       0.03      0.03      0.03       423\n",
      "          NL       0.00      0.00      0.00       128\n",
      "          PT       0.00      0.00      0.00        36\n",
      "          US       0.70      0.70      0.70      9624\n",
      "       other       0.11      0.10      0.11      1540\n",
      "\n",
      "    accuracy                           0.51     13635\n",
      "   macro avg       0.09      0.09      0.09     13635\n",
      "weighted avg       0.51      0.51      0.51     13635\n",
      "\n"
     ]
    },
    {
     "data": {
      "image/png": "[encoded data removed]",
      "text/plain": [
       "<Figure size 864x864 with 2 Axes>"
      ]
     },
     "metadata": {
      "needs_background": "light"
     },
     "output_type": "display_data"
    }
   ],
   "source": [
    "# Accuracy\n",
    "acc_random = m.accuracy_score( y_test, yhat_random )\n",
    "print(f'Accuracy {acc_random}')\n",
    "\n",
    "# Balanced Accuracy\n",
    "balanced_acc_random = m.balanced_accuracy_score(y_test, yhat_random)\n",
    "print(f'Balanced Accuracy: {balanced_acc_random}')\n",
    "\n",
    "# Kappa Metrics\n",
    "kappa_random = m.cohen_kappa_score(y_test, yhat_random)\n",
    "print(f'Kappa Score: {kappa_random}')\n",
    "\n",
    "# Classification report\n",
    "print(m.classification_report(y_test, yhat_random))\n",
    "\n",
    "# Confusion Matrix\n",
    "mt.plot_confusion_matrix(y_test, yhat_random, normalize=False, figsize=(12,12));"
   ]
  },
  {
   "cell_type": "markdown",
   "id": "4eb0ffe6",
   "metadata": {
    "ExecuteTime": {
     "end_time": "2022-03-08T22:07:26.026368Z",
     "start_time": "2022-03-08T22:07:26.012364Z"
    }
   },
   "source": [
    "## 9.2. Neural Network Performance"
   ]
  },
  {
   "cell_type": "code",
   "execution_count": 30,
   "id": "2d9372bc",
   "metadata": {
    "ExecuteTime": {
     "end_time": "2022-03-08T23:03:20.790992Z",
     "start_time": "2022-03-08T23:03:20.368850Z"
    }
   },
   "outputs": [],
   "source": [
    "# prediction\n",
    "pred_nn = model.predict(x_test)\n",
    "\n",
    "# invert prediction\n",
    "yhat_nn = ohe.inverse_transform(pred_nn)\n",
    "\n",
    "# test dataset prepare with real results\n",
    "y_test_nn = y_test.to_numpy()\n",
    "yhat_nn = yhat_nn.reshape(1, -1)[0]"
   ]
  },
  {
   "cell_type": "code",
   "execution_count": 32,
   "id": "d689958c",
   "metadata": {
    "ExecuteTime": {
     "end_time": "2022-03-08T23:15:23.132376Z",
     "start_time": "2022-03-08T23:15:23.104382Z"
    }
   },
   "outputs": [
    {
     "data": {
      "text/plain": [
       "US       0.996846\n",
       "other    0.001320\n",
       "ES       0.000513\n",
       "FR       0.000440\n",
       "IT       0.000440\n",
       "DE       0.000220\n",
       "GB       0.000073\n",
       "NL       0.000073\n",
       "PT       0.000073\n",
       "dtype: float64"
      ]
     },
     "execution_count": 32,
     "metadata": {},
     "output_type": "execute_result"
    }
   ],
   "source": [
    "# check balanced results\n",
    "pd.DataFrame(yhat_nn).value_counts(normalize=True)"
   ]
  },
  {
   "cell_type": "code",
   "execution_count": 31,
   "id": "80d55381",
   "metadata": {
    "ExecuteTime": {
     "end_time": "2022-03-08T23:03:22.152033Z",
     "start_time": "2022-03-08T23:03:20.790992Z"
    }
   },
   "outputs": [
    {
     "name": "stdout",
     "output_type": "stream",
     "text": [
      "Accuracy: 0.7042904290429043\n",
      "Balanced Accuracy: 0.0915723978421325\n",
      "Kappa Score: 0.0016261616588396643\n",
      "              precision    recall  f1-score   support\n",
      "\n",
      "          AU       0.00      0.00      0.00       101\n",
      "          CA       0.00      0.00      0.00       214\n",
      "          DE       0.33      0.01      0.01       170\n",
      "          ES       0.00      0.00      0.00       345\n",
      "          FR       0.33      0.00      0.01       710\n",
      "          GB       0.00      0.00      0.00       344\n",
      "          IT       0.00      0.00      0.00       423\n",
      "          NL       0.00      0.00      0.00       128\n",
      "          PT       0.00      0.00      0.00        36\n",
      "          US       0.71      1.00      0.83      9624\n",
      "       other       0.11      0.00      0.00      1540\n",
      "\n",
      "    accuracy                           0.70     13635\n",
      "   macro avg       0.13      0.09      0.08     13635\n",
      "weighted avg       0.53      0.70      0.58     13635\n",
      "\n"
     ]
    },
    {
     "data": {
      "image/png": "[encoded data removed]",
      "text/plain": [
       "<Figure size 864x864 with 2 Axes>"
      ]
     },
     "metadata": {
      "needs_background": "light"
     },
     "output_type": "display_data"
    }
   ],
   "source": [
    "# Accuracy\n",
    "acc_nn = m.accuracy_score( y_test_nn, yhat_nn )\n",
    "print(f'Accuracy: {acc_nn}')\n",
    "\n",
    "# Balanced Accuracy\n",
    "balanced_acc_nn = m.balanced_accuracy_score(y_test_nn, yhat_nn)\n",
    "print(f'Balanced Accuracy: {balanced_acc_nn}')\n",
    "\n",
    "# Kappa Metrics\n",
    "kappa_nn = m.cohen_kappa_score(y_test_nn, yhat_nn)\n",
    "print(f'Kappa Score: {kappa_nn}')\n",
    "\n",
    "# Classification report\n",
    "print(m.classification_report(y_test_nn, yhat_nn))\n",
    "\n",
    "\n",
    "# Confusion Matrix\n",
    "mt.plot_confusion_matrix( y_test_nn, yhat_nn, normalize=False, figsize=(12,12));"
   ]
  },
  {
   "cell_type": "markdown",
   "id": "5b79f617",
   "metadata": {},
   "source": [
    "**Result**\n",
    "\n",
    "Using the appropriate metrics for imbalanced datasets, the real efficiency of the model can be assessed by analyzing its performance for minority classes.\n",
    "\n",
    "Through Balanced Accuracy and F1-Score metrics, it is possible to develop a model that better fits the type of problem (multiclass and imbalanced data) and measure the impact of improvements done during the cycles.\n",
    "\n",
    "From the results obtained, the model performance is still very low (less than 10% accuracy), with values close to the reference model, which randomly chooses classes according to the frequency of their respective presence in the training datasets."
   ]
  },
  {
   "cell_type": "markdown",
   "id": "2d632718",
   "metadata": {},
   "source": [
    "# 10.0. Deploy Model\n",
    "\n",
    "No models will be deployed yet."
   ]
  },
  {
   "cell_type": "code",
   "execution_count": null,
   "id": "a610263d",
   "metadata": {},
   "outputs": [],
   "source": []
  }
 ],
 "metadata": {
  "kernelspec": {
   "display_name": "Python 3 (ipykernel)",
   "language": "python",
   "name": "python3"
  },
  "language_info": {
   "codemirror_mode": {
    "name": "ipython",
    "version": 3
   },
   "file_extension": ".py",
   "mimetype": "text/x-python",
   "name": "python",
   "nbconvert_exporter": "python",
   "pygments_lexer": "ipython3",
   "version": "3.8.12"
  },
  "varInspector": {
   "cols": {
    "lenName": 16,
    "lenType": 16,
    "lenVar": 40
   },
   "kernels_config": {
    "python": {
     "delete_cmd_postfix": "",
     "delete_cmd_prefix": "del ",
     "library": "var_list.py",
     "varRefreshCmd": "print(var_dic_list())"
    },
    "r": {
     "delete_cmd_postfix": ") ",
     "delete_cmd_prefix": "rm(",
     "library": "var_list.r",
     "varRefreshCmd": "cat(var_dic_list()) "
    }
   },
   "types_to_exclude": [
    "module",
    "function",
    "builtin_function_or_method",
    "instance",
    "_Feature"
   ],
   "window_display": false
  }
 },
 "nbformat": 4,
 "nbformat_minor": 5
}
