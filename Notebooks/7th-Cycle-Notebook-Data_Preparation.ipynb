{
 "cells": [
  {
   "cell_type": "markdown",
   "id": "e9da1de2",
   "metadata": {
    "ExecuteTime": {
     "end_time": "2022-02-28T20:43:44.606104Z",
     "start_time": "2022-02-28T20:43:44.598146Z"
    }
   },
   "source": [
    "# 0.0. Imports"
   ]
  },
  {
   "cell_type": "code",
   "execution_count": 1,
   "id": "4a97ff0c",
   "metadata": {
    "ExecuteTime": {
     "end_time": "2022-04-02T19:16:48.497758Z",
     "start_time": "2022-04-02T19:16:19.587306Z"
    }
   },
   "outputs": [],
   "source": [
    "import numpy   as np\n",
    "import pandas  as pd\n",
    "import random\n",
    "import seaborn as sns \n",
    "import warnings\n",
    "\n",
    "from matplotlib import pyplot as plt\n",
    "\n",
    "from scipy      import stats           as ss\n",
    "from sklearn    import model_selection as ms\n",
    "from sklearn    import preprocessing   as pp\n",
    "from sklearn    import metrics         as m\n",
    "from scikitplot import metrics         as mt\n",
    "\n",
    "from sklearn.ensemble      import RandomForestRegressor\n",
    "\n",
    "from imblearn import under_sampling as us\n",
    "from imblearn import over_sampling  as osamp\n",
    "from imblearn import combine        as comb\n",
    "\n",
    "from category_encoders import TargetEncoder\n",
    "\n",
    "# from pandas_profiling import ProfileReport\n",
    "\n",
    "from keras import models as ml\n",
    "from keras import layers as l\n",
    "\n",
    "warnings.filterwarnings('ignore')"
   ]
  },
  {
   "cell_type": "markdown",
   "id": "58b2f295",
   "metadata": {},
   "source": [
    "## 0.1. Auxiliar Functions"
   ]
  },
  {
   "cell_type": "code",
   "execution_count": 2,
   "id": "c27e09c1",
   "metadata": {
    "ExecuteTime": {
     "end_time": "2022-04-02T19:16:48.689155Z",
     "start_time": "2022-04-02T19:16:48.518554Z"
    }
   },
   "outputs": [],
   "source": [
    "def cross_validation(num_fold, x_train, y_train, model, verbose=False):\n",
    "    # generate k-fold\n",
    "    num_folds = 5\n",
    "    kfold = ms.StratifiedKFold( n_splits=num_folds, shuffle=True, random_state=32 )\n",
    "\n",
    "    # create empty metrics list\n",
    "    acc_list = []\n",
    "    balanced_acc_list = []\n",
    "    kappa_list = []\n",
    "\n",
    "    # sequence of loop for verbose\n",
    "    i = 1\n",
    "    \n",
    "    # interation to measure performance\n",
    "    for train_index, val_index in kfold.split( x_train, ohe.inverse_transform(y_train) ):\n",
    "        if verbose:\n",
    "            print(f'Fold Number:{i}/{num_folds}')\n",
    "\n",
    "        # split data into training and test set\n",
    "        x_train_cv = x_train.iloc[train_index]\n",
    "        y_train_cv = y_train.iloc[train_index]\n",
    "\n",
    "        x_validation_cv = x_train.iloc[val_index]\n",
    "        y_validation_cv = y_train.iloc[val_index]\n",
    "\n",
    "        # train model\n",
    "        model.fit(x_train_cv, y_train_cv, epochs=100, batch_size=32, verbose=0)\n",
    "\n",
    "        # prediction\n",
    "        pred_cv = model.predict(x_validation_cv)\n",
    "\n",
    "        # invert prediction\n",
    "        yhat_cv = ohe.inverse_transform(pred_cv)\n",
    "\n",
    "        # invert validation response\n",
    "        y_test_cv = ohe.inverse_transform(y_validation_cv)\n",
    "\n",
    "        # performance metrics\n",
    "        # Accuracy\n",
    "        acc_model = m.accuracy_score( y_test_cv, yhat_cv )\n",
    "        acc_list.append(acc_model)\n",
    "        \n",
    "        # Balanced Accuracy\n",
    "        balanced_acc_model = m.balanced_accuracy_score(y_test_cv, yhat_cv)\n",
    "        balanced_acc_list.append(balanced_acc_model)\n",
    "\n",
    "        # Kappa Metrics\n",
    "        kappa_model = m.cohen_kappa_score(y_test_cv, yhat_cv)\n",
    "        kappa_list.append(kappa_model)\n",
    "\n",
    "        i += 1\n",
    "\n",
    "    return acc_list, balanced_acc_list, kappa_list\n",
    "\n",
    "\n",
    "def cramer_v(x, y):\n",
    "    \n",
    "    cm = pd.crosstab(x, y).values\n",
    "    n = cm.sum()\n",
    "    r, k = cm.shape\n",
    "    \n",
    "    rcorr = r - ((r-1)**2)/(n-1)\n",
    "    \n",
    "    kcorr = k - ((k-1)**2)/(n-1)\n",
    "    \n",
    "    chi2 = ss.chi2_contingency(cm)[0]\n",
    "    chi2corr = max(0, chi2 - (k-1)*(r-1)/(n-1))\n",
    "    \n",
    "    return np.sqrt((chi2corr/n)/(min(kcorr-1, rcorr-1)))"
   ]
  },
  {
   "cell_type": "markdown",
   "id": "04bd4aba",
   "metadata": {},
   "source": [
    "## 0.2. Load Data"
   ]
  },
  {
   "cell_type": "code",
   "execution_count": 3,
   "id": "05c73b56",
   "metadata": {
    "ExecuteTime": {
     "end_time": "2022-04-02T19:17:14.586955Z",
     "start_time": "2022-04-02T19:16:48.708158Z"
    }
   },
   "outputs": [],
   "source": [
    "# load training set of user\n",
    "data_users = pd.read_csv('../Datasets/train_users_2.csv', low_memory=False)\n",
    "\n",
    "# load web sessions log for users\n",
    "data_sessions = pd.read_csv('../Datasets/sessions.csv', low_memory=False)"
   ]
  },
  {
   "cell_type": "markdown",
   "id": "1179dcfc",
   "metadata": {},
   "source": [
    "# 1.0. Data Description"
   ]
  },
  {
   "cell_type": "code",
   "execution_count": 4,
   "id": "a59196b7",
   "metadata": {
    "ExecuteTime": {
     "end_time": "2022-04-02T19:17:55.142019Z",
     "start_time": "2022-04-02T19:17:54.771997Z"
    }
   },
   "outputs": [],
   "source": [
    "df01_users = data_users.copy()\n",
    "\n",
    "df01_sessions = data_sessions.copy()"
   ]
  },
  {
   "cell_type": "markdown",
   "id": "1ccddadb",
   "metadata": {},
   "source": [
    "## 1.1. Data Types"
   ]
  },
  {
   "cell_type": "code",
   "execution_count": 5,
   "id": "fe162f91",
   "metadata": {
    "ExecuteTime": {
     "end_time": "2022-04-02T19:17:56.749422Z",
     "start_time": "2022-04-02T19:17:56.710889Z"
    },
    "cell_style": "split"
   },
   "outputs": [
    {
     "data": {
      "text/plain": [
       "id                          object\n",
       "date_account_created        object\n",
       "timestamp_first_active       int64\n",
       "date_first_booking          object\n",
       "gender                      object\n",
       "age                        float64\n",
       "signup_method               object\n",
       "signup_flow                  int64\n",
       "language                    object\n",
       "affiliate_channel           object\n",
       "affiliate_provider          object\n",
       "first_affiliate_tracked     object\n",
       "signup_app                  object\n",
       "first_device_type           object\n",
       "first_browser               object\n",
       "country_destination         object\n",
       "dtype: object"
      ]
     },
     "execution_count": 5,
     "metadata": {},
     "output_type": "execute_result"
    }
   ],
   "source": [
    "df01_users.dtypes"
   ]
  },
  {
   "cell_type": "code",
   "execution_count": 6,
   "id": "859ee10e",
   "metadata": {
    "ExecuteTime": {
     "end_time": "2022-04-02T19:17:57.174913Z",
     "start_time": "2022-04-02T19:17:57.162911Z"
    },
    "cell_style": "split"
   },
   "outputs": [
    {
     "data": {
      "text/plain": [
       "user_id           object\n",
       "action            object\n",
       "action_type       object\n",
       "action_detail     object\n",
       "device_type       object\n",
       "secs_elapsed     float64\n",
       "dtype: object"
      ]
     },
     "execution_count": 6,
     "metadata": {},
     "output_type": "execute_result"
    }
   ],
   "source": [
    "df01_sessions.dtypes"
   ]
  },
  {
   "cell_type": "markdown",
   "id": "297d0bec",
   "metadata": {
    "cell_style": "center"
   },
   "source": [
    "## 1.2. Data Dimensions"
   ]
  },
  {
   "cell_type": "markdown",
   "id": "c617277e",
   "metadata": {},
   "source": [
    "### 1.2.1. Data Users Dimensions "
   ]
  },
  {
   "cell_type": "code",
   "execution_count": 7,
   "id": "6889bc8e",
   "metadata": {
    "ExecuteTime": {
     "end_time": "2022-04-02T19:17:58.568377Z",
     "start_time": "2022-04-02T19:17:58.561381Z"
    }
   },
   "outputs": [
    {
     "name": "stdout",
     "output_type": "stream",
     "text": [
      "Number of rows of users dataset: 213451\n",
      "Number of columnss of users dataset: 16\n"
     ]
    }
   ],
   "source": [
    "print( f'Number of rows of users dataset: {df01_users.shape[0]}')\n",
    "print( f'Number of columnss of users dataset: {df01_users.shape[1]}')"
   ]
  },
  {
   "cell_type": "markdown",
   "id": "152339da",
   "metadata": {},
   "source": [
    "### 1.2.2. Data Sessions Dimensions\n",
    "\n",
    "This dataset will not be used in this first cycle due to the granularity being action and we want to be user_id for now."
   ]
  },
  {
   "cell_type": "code",
   "execution_count": 8,
   "id": "c1459d2d",
   "metadata": {
    "ExecuteTime": {
     "end_time": "2022-04-02T19:17:59.489379Z",
     "start_time": "2022-04-02T19:17:59.472379Z"
    }
   },
   "outputs": [
    {
     "name": "stdout",
     "output_type": "stream",
     "text": [
      "Number of rows of sessions dataset: 10567737\n",
      "Number of columnss of session dataset: 6\n"
     ]
    }
   ],
   "source": [
    "print( f'Number of rows of sessions dataset: {df01_sessions.shape[0]}')\n",
    "print( f'Number of columnss of session dataset: {df01_sessions.shape[1]}')"
   ]
  },
  {
   "cell_type": "markdown",
   "id": "5ed2d4e7",
   "metadata": {},
   "source": [
    "## 1.3. Check NA"
   ]
  },
  {
   "cell_type": "markdown",
   "id": "3b2018f1",
   "metadata": {},
   "source": [
    "### 1.3.1. Check NA - Data Users"
   ]
  },
  {
   "cell_type": "code",
   "execution_count": 9,
   "id": "49097f87",
   "metadata": {
    "ExecuteTime": {
     "end_time": "2022-04-02T19:18:00.833373Z",
     "start_time": "2022-04-02T19:18:00.650376Z"
    },
    "cell_style": "split"
   },
   "outputs": [
    {
     "data": {
      "text/plain": [
       "id                              0\n",
       "date_account_created            0\n",
       "timestamp_first_active          0\n",
       "date_first_booking         124543\n",
       "gender                          0\n",
       "age                         87990\n",
       "signup_method                   0\n",
       "signup_flow                     0\n",
       "language                        0\n",
       "affiliate_channel               0\n",
       "affiliate_provider              0\n",
       "first_affiliate_tracked      6065\n",
       "signup_app                      0\n",
       "first_device_type               0\n",
       "first_browser                   0\n",
       "country_destination             0\n",
       "dtype: int64"
      ]
     },
     "execution_count": 9,
     "metadata": {},
     "output_type": "execute_result"
    }
   ],
   "source": [
    "df01_users.isna().sum()"
   ]
  },
  {
   "cell_type": "code",
   "execution_count": 10,
   "id": "c559b15b",
   "metadata": {
    "ExecuteTime": {
     "end_time": "2022-04-02T19:18:01.459375Z",
     "start_time": "2022-04-02T19:18:01.233373Z"
    },
    "cell_style": "split"
   },
   "outputs": [
    {
     "data": {
      "text/plain": [
       "id                         0.000000\n",
       "date_account_created       0.000000\n",
       "timestamp_first_active     0.000000\n",
       "date_first_booking         0.583473\n",
       "gender                     0.000000\n",
       "age                        0.412226\n",
       "signup_method              0.000000\n",
       "signup_flow                0.000000\n",
       "language                   0.000000\n",
       "affiliate_channel          0.000000\n",
       "affiliate_provider         0.000000\n",
       "first_affiliate_tracked    0.028414\n",
       "signup_app                 0.000000\n",
       "first_device_type          0.000000\n",
       "first_browser              0.000000\n",
       "country_destination        0.000000\n",
       "dtype: float64"
      ]
     },
     "execution_count": 10,
     "metadata": {},
     "output_type": "execute_result"
    }
   ],
   "source": [
    "df01_users.isna().sum()/df01_users.shape[0]"
   ]
  },
  {
   "cell_type": "markdown",
   "id": "2176ca0f",
   "metadata": {},
   "source": [
    "### 1.3.2. Check NA - Data Sessions"
   ]
  },
  {
   "cell_type": "code",
   "execution_count": 11,
   "id": "09c5347b",
   "metadata": {
    "ExecuteTime": {
     "end_time": "2022-04-02T19:18:05.520511Z",
     "start_time": "2022-04-02T19:18:02.481898Z"
    },
    "cell_style": "split"
   },
   "outputs": [
    {
     "data": {
      "text/plain": [
       "user_id            34496\n",
       "action             79626\n",
       "action_type      1126204\n",
       "action_detail    1126204\n",
       "device_type            0\n",
       "secs_elapsed      136031\n",
       "dtype: int64"
      ]
     },
     "execution_count": 11,
     "metadata": {},
     "output_type": "execute_result"
    }
   ],
   "source": [
    "df01_sessions.isna().sum()"
   ]
  },
  {
   "cell_type": "code",
   "execution_count": 12,
   "id": "55751da3",
   "metadata": {
    "ExecuteTime": {
     "end_time": "2022-04-02T19:18:08.522547Z",
     "start_time": "2022-04-02T19:18:05.636513Z"
    },
    "cell_style": "split"
   },
   "outputs": [
    {
     "data": {
      "text/plain": [
       "user_id          0.003264\n",
       "action           0.007535\n",
       "action_type      0.106570\n",
       "action_detail    0.106570\n",
       "device_type      0.000000\n",
       "secs_elapsed     0.012872\n",
       "dtype: float64"
      ]
     },
     "execution_count": 12,
     "metadata": {},
     "output_type": "execute_result"
    }
   ],
   "source": [
    "df01_sessions.isna().sum()/df01_sessions.shape[0]"
   ]
  },
  {
   "cell_type": "markdown",
   "id": "bd581316",
   "metadata": {},
   "source": [
    "## 1.4. Fillout NA"
   ]
  },
  {
   "cell_type": "markdown",
   "id": "02d2f026",
   "metadata": {},
   "source": [
    "### 1.4.1. Fillout NA - Data Users\n",
    "\n",
    "- **date_first_booking:** the maximum date of the dataset is chosen due to future features considered the space between dates.\n",
    "\n",
    "- **age:** variable age has a normal distribution, so replacing it with with a mean value will not bias the dataset.\n",
    "\n",
    "- **first_affiliate_tracked:** due to the high probability of bias the dataset with categorical data substitution and the low amount of NA datas in this variable, the NA lines will be dropped."
   ]
  },
  {
   "cell_type": "code",
   "execution_count": 13,
   "id": "17027a20",
   "metadata": {
    "ExecuteTime": {
     "end_time": "2022-04-02T19:18:08.887548Z",
     "start_time": "2022-04-02T19:18:08.639549Z"
    }
   },
   "outputs": [],
   "source": [
    "# date_first_booking\n",
    "max_date_first_booking = pd.to_datetime(df01_users['date_first_booking']).max().strftime('%Y-%m-%d')\n",
    "df01_users['date_first_booking'] = df01_users['date_first_booking'].fillna(max_date_first_booking)\n",
    "\n",
    "# age\n",
    "avg_age = int(df01_users['age'].mean())\n",
    "df01_users['age'] = df01_users['age'].fillna(avg_age)\n",
    "\n",
    "# first_affiliate_tracked\n",
    "df01_users = df01_users[~df01_users['first_affiliate_tracked'].isna()]"
   ]
  },
  {
   "cell_type": "code",
   "execution_count": 14,
   "id": "1e6bc1db",
   "metadata": {
    "ExecuteTime": {
     "end_time": "2022-04-02T19:18:09.220547Z",
     "start_time": "2022-04-02T19:18:09.019548Z"
    }
   },
   "outputs": [
    {
     "data": {
      "text/plain": [
       "id                         0.0\n",
       "date_account_created       0.0\n",
       "timestamp_first_active     0.0\n",
       "date_first_booking         0.0\n",
       "gender                     0.0\n",
       "age                        0.0\n",
       "signup_method              0.0\n",
       "signup_flow                0.0\n",
       "language                   0.0\n",
       "affiliate_channel          0.0\n",
       "affiliate_provider         0.0\n",
       "first_affiliate_tracked    0.0\n",
       "signup_app                 0.0\n",
       "first_device_type          0.0\n",
       "first_browser              0.0\n",
       "country_destination        0.0\n",
       "dtype: float64"
      ]
     },
     "execution_count": 14,
     "metadata": {},
     "output_type": "execute_result"
    }
   ],
   "source": [
    "df01_users.isna().sum()/df01_users.shape[0]"
   ]
  },
  {
   "cell_type": "markdown",
   "id": "8375bdfd",
   "metadata": {},
   "source": [
    "### 1.4.2. Fillout NA - Data Sessions\n",
    "\n",
    "Due to a massise amount of data, all NA lines will be dropped."
   ]
  },
  {
   "cell_type": "code",
   "execution_count": 15,
   "id": "97e5f525",
   "metadata": {
    "ExecuteTime": {
     "end_time": "2022-04-02T19:18:15.736162Z",
     "start_time": "2022-04-02T19:18:09.290082Z"
    }
   },
   "outputs": [],
   "source": [
    "# user_id  - 0.003264\n",
    "df01_sessions = df01_sessions[~df01_sessions['user_id'].isna()]\n",
    "\n",
    "# action - 0.007535\n",
    "df01_sessions = df01_sessions[~df01_sessions['action'].isna()]\n",
    "\n",
    "# action_type - 0.106570\n",
    "df01_sessions = df01_sessions[~df01_sessions['action_type'].isna()]\n",
    "\n",
    "# action_detail - 0.106570\n",
    "df01_sessions = df01_sessions[~df01_sessions['action_detail'].isna()]\n",
    "\n",
    "# secs_elapsed - 0.012872\n",
    "df01_sessions = df01_sessions[~df01_sessions['secs_elapsed'].isna()]"
   ]
  },
  {
   "cell_type": "code",
   "execution_count": 16,
   "id": "1b4ae28d",
   "metadata": {
    "ExecuteTime": {
     "end_time": "2022-04-02T19:18:17.918693Z",
     "start_time": "2022-04-02T19:18:15.834218Z"
    }
   },
   "outputs": [
    {
     "data": {
      "text/plain": [
       "user_id          0.0\n",
       "action           0.0\n",
       "action_type      0.0\n",
       "action_detail    0.0\n",
       "device_type      0.0\n",
       "secs_elapsed     0.0\n",
       "dtype: float64"
      ]
     },
     "execution_count": 16,
     "metadata": {},
     "output_type": "execute_result"
    }
   ],
   "source": [
    "df01_sessions.isna().sum()/df01_sessions.shape[0]"
   ]
  },
  {
   "cell_type": "markdown",
   "id": "7076ae4e",
   "metadata": {},
   "source": [
    "## 1.5. Change Data Type"
   ]
  },
  {
   "cell_type": "code",
   "execution_count": 17,
   "id": "793c65b7",
   "metadata": {
    "ExecuteTime": {
     "end_time": "2022-04-02T19:18:18.140692Z",
     "start_time": "2022-04-02T19:18:18.066696Z"
    }
   },
   "outputs": [
    {
     "data": {
      "text/html": [
       "<div>\n",
       "<style scoped>\n",
       "    .dataframe tbody tr th:only-of-type {\n",
       "        vertical-align: middle;\n",
       "    }\n",
       "\n",
       "    .dataframe tbody tr th {\n",
       "        vertical-align: top;\n",
       "    }\n",
       "\n",
       "    .dataframe thead th {\n",
       "        text-align: right;\n",
       "    }\n",
       "</style>\n",
       "<table border=\"1\" class=\"dataframe\">\n",
       "  <thead>\n",
       "    <tr style=\"text-align: right;\">\n",
       "      <th></th>\n",
       "      <th>id</th>\n",
       "      <th>date_account_created</th>\n",
       "      <th>timestamp_first_active</th>\n",
       "      <th>date_first_booking</th>\n",
       "      <th>gender</th>\n",
       "      <th>age</th>\n",
       "      <th>signup_method</th>\n",
       "      <th>signup_flow</th>\n",
       "      <th>language</th>\n",
       "      <th>affiliate_channel</th>\n",
       "      <th>affiliate_provider</th>\n",
       "      <th>first_affiliate_tracked</th>\n",
       "      <th>signup_app</th>\n",
       "      <th>first_device_type</th>\n",
       "      <th>first_browser</th>\n",
       "      <th>country_destination</th>\n",
       "    </tr>\n",
       "  </thead>\n",
       "  <tbody>\n",
       "    <tr>\n",
       "      <th>53670</th>\n",
       "      <td>noh6qp13fe</td>\n",
       "      <td>2012-12-28</td>\n",
       "      <td>20121228044410</td>\n",
       "      <td>2015-06-29</td>\n",
       "      <td>-unknown-</td>\n",
       "      <td>49.0</td>\n",
       "      <td>basic</td>\n",
       "      <td>0</td>\n",
       "      <td>en</td>\n",
       "      <td>content</td>\n",
       "      <td>facebook</td>\n",
       "      <td>omg</td>\n",
       "      <td>Web</td>\n",
       "      <td>Windows Desktop</td>\n",
       "      <td>IE</td>\n",
       "      <td>NDF</td>\n",
       "    </tr>\n",
       "  </tbody>\n",
       "</table>\n",
       "</div>"
      ],
      "text/plain": [
       "               id date_account_created  timestamp_first_active  \\\n",
       "53670  noh6qp13fe           2012-12-28          20121228044410   \n",
       "\n",
       "      date_first_booking     gender   age signup_method  signup_flow language  \\\n",
       "53670         2015-06-29  -unknown-  49.0         basic            0       en   \n",
       "\n",
       "      affiliate_channel affiliate_provider first_affiliate_tracked signup_app  \\\n",
       "53670           content           facebook                     omg        Web   \n",
       "\n",
       "      first_device_type first_browser country_destination  \n",
       "53670   Windows Desktop            IE                 NDF  "
      ]
     },
     "execution_count": 17,
     "metadata": {},
     "output_type": "execute_result"
    }
   ],
   "source": [
    "df01_users.sample(1)"
   ]
  },
  {
   "cell_type": "code",
   "execution_count": 18,
   "id": "d76d383f",
   "metadata": {
    "ExecuteTime": {
     "end_time": "2022-04-02T19:18:19.861703Z",
     "start_time": "2022-04-02T19:18:18.237693Z"
    }
   },
   "outputs": [],
   "source": [
    "# change date type\n",
    "df01_users['date_account_created'] = pd.to_datetime(df01_users['date_account_created'])\n",
    "df01_users['date_first_booking'] = pd.to_datetime(df01_users['date_first_booking'])\n",
    "\n",
    "# change datetime type\n",
    "df01_users['timestamp_first_active'] = pd.to_datetime(df01_users['timestamp_first_active'], format='%Y%m%d%H%M%S')\n",
    "\n",
    "# change age to int\n",
    "df01_users['age'] = df01_users['age'].astype(np.int64)"
   ]
  },
  {
   "cell_type": "code",
   "execution_count": 19,
   "id": "505514d3",
   "metadata": {
    "ExecuteTime": {
     "end_time": "2022-04-02T19:18:20.067122Z",
     "start_time": "2022-04-02T19:18:20.022708Z"
    }
   },
   "outputs": [
    {
     "data": {
      "text/html": [
       "<div>\n",
       "<style scoped>\n",
       "    .dataframe tbody tr th:only-of-type {\n",
       "        vertical-align: middle;\n",
       "    }\n",
       "\n",
       "    .dataframe tbody tr th {\n",
       "        vertical-align: top;\n",
       "    }\n",
       "\n",
       "    .dataframe thead th {\n",
       "        text-align: right;\n",
       "    }\n",
       "</style>\n",
       "<table border=\"1\" class=\"dataframe\">\n",
       "  <thead>\n",
       "    <tr style=\"text-align: right;\">\n",
       "      <th></th>\n",
       "      <th>id</th>\n",
       "      <th>date_account_created</th>\n",
       "      <th>timestamp_first_active</th>\n",
       "      <th>date_first_booking</th>\n",
       "      <th>gender</th>\n",
       "      <th>age</th>\n",
       "      <th>signup_method</th>\n",
       "      <th>signup_flow</th>\n",
       "      <th>language</th>\n",
       "      <th>affiliate_channel</th>\n",
       "      <th>affiliate_provider</th>\n",
       "      <th>first_affiliate_tracked</th>\n",
       "      <th>signup_app</th>\n",
       "      <th>first_device_type</th>\n",
       "      <th>first_browser</th>\n",
       "      <th>country_destination</th>\n",
       "    </tr>\n",
       "  </thead>\n",
       "  <tbody>\n",
       "    <tr>\n",
       "      <th>185116</th>\n",
       "      <td>3h3khg8jsa</td>\n",
       "      <td>2014-05-06</td>\n",
       "      <td>2014-05-06 03:26:17</td>\n",
       "      <td>2015-06-29</td>\n",
       "      <td>FEMALE</td>\n",
       "      <td>28</td>\n",
       "      <td>basic</td>\n",
       "      <td>0</td>\n",
       "      <td>en</td>\n",
       "      <td>sem-brand</td>\n",
       "      <td>google</td>\n",
       "      <td>linked</td>\n",
       "      <td>Web</td>\n",
       "      <td>Mac Desktop</td>\n",
       "      <td>Safari</td>\n",
       "      <td>NDF</td>\n",
       "    </tr>\n",
       "  </tbody>\n",
       "</table>\n",
       "</div>"
      ],
      "text/plain": [
       "                id date_account_created timestamp_first_active  \\\n",
       "185116  3h3khg8jsa           2014-05-06    2014-05-06 03:26:17   \n",
       "\n",
       "       date_first_booking  gender  age signup_method  signup_flow language  \\\n",
       "185116         2015-06-29  FEMALE   28         basic            0       en   \n",
       "\n",
       "       affiliate_channel affiliate_provider first_affiliate_tracked  \\\n",
       "185116         sem-brand             google                  linked   \n",
       "\n",
       "       signup_app first_device_type first_browser country_destination  \n",
       "185116        Web       Mac Desktop        Safari                 NDF  "
      ]
     },
     "execution_count": 19,
     "metadata": {},
     "output_type": "execute_result"
    }
   ],
   "source": [
    "df01_users.sample(1)"
   ]
  },
  {
   "cell_type": "code",
   "execution_count": 20,
   "id": "e7b73c50",
   "metadata": {
    "ExecuteTime": {
     "end_time": "2022-04-02T19:18:20.177703Z",
     "start_time": "2022-04-02T19:18:20.152707Z"
    }
   },
   "outputs": [
    {
     "data": {
      "text/plain": [
       "id                                 object\n",
       "date_account_created       datetime64[ns]\n",
       "timestamp_first_active     datetime64[ns]\n",
       "date_first_booking         datetime64[ns]\n",
       "gender                             object\n",
       "age                                 int64\n",
       "signup_method                      object\n",
       "signup_flow                         int64\n",
       "language                           object\n",
       "affiliate_channel                  object\n",
       "affiliate_provider                 object\n",
       "first_affiliate_tracked            object\n",
       "signup_app                         object\n",
       "first_device_type                  object\n",
       "first_browser                      object\n",
       "country_destination                object\n",
       "dtype: object"
      ]
     },
     "execution_count": 20,
     "metadata": {},
     "output_type": "execute_result"
    }
   ],
   "source": [
    "df01_users.dtypes"
   ]
  },
  {
   "cell_type": "markdown",
   "id": "b4774540",
   "metadata": {},
   "source": [
    "## 1.6. Check Balanced Data\n",
    "\n",
    "Data with an unbalance of 57% for the NDF class and 30% for the US class."
   ]
  },
  {
   "cell_type": "code",
   "execution_count": 21,
   "id": "8f5cdc46",
   "metadata": {
    "ExecuteTime": {
     "end_time": "2022-04-02T19:18:20.350728Z",
     "start_time": "2022-04-02T19:18:20.310705Z"
    }
   },
   "outputs": [
    {
     "data": {
      "text/plain": [
       "NDF      0.579673\n",
       "US       0.294461\n",
       "other    0.048128\n",
       "FR       0.023623\n",
       "IT       0.013458\n",
       "GB       0.011066\n",
       "ES       0.010671\n",
       "CA       0.006707\n",
       "DE       0.005020\n",
       "NL       0.003621\n",
       "AU       0.002541\n",
       "PT       0.001032\n",
       "Name: country_destination, dtype: float64"
      ]
     },
     "execution_count": 21,
     "metadata": {},
     "output_type": "execute_result"
    }
   ],
   "source": [
    "df01_users['country_destination'].value_counts(normalize=True)"
   ]
  },
  {
   "cell_type": "markdown",
   "id": "9e2a67ae",
   "metadata": {},
   "source": [
    "## 1.7. Descriptive Analysis"
   ]
  },
  {
   "cell_type": "code",
   "execution_count": 22,
   "id": "8f66c9c6",
   "metadata": {
    "ExecuteTime": {
     "end_time": "2022-04-02T19:18:21.045219Z",
     "start_time": "2022-04-02T19:18:20.446761Z"
    }
   },
   "outputs": [],
   "source": [
    "# split data users in types dataframes\n",
    "num_attributes_users = df01_users.select_dtypes(include=['int64', 'float64'])\n",
    "cat_attributes_users = df01_users.select_dtypes(exclude=['int64', 'float64', 'datetime64[ns]'])\n",
    "time_attributes_users = df01_users.select_dtypes(include=['datetime64[ns]'])\n",
    "\n",
    "# split data sessions in types dataframes\n",
    "num_attributes_sessions = df01_sessions.select_dtypes(include=['int64', 'float64'])\n",
    "cat_attributes_sessions = df01_sessions.select_dtypes(exclude=['int64', 'float64', 'datetime64[ns]'])\n",
    "time_attributes_sessions = df01_sessions.select_dtypes(include=['datetime64[ns]'])"
   ]
  },
  {
   "cell_type": "markdown",
   "id": "4eb6a6b6",
   "metadata": {},
   "source": [
    "### 1.7.1. Numerical - Data Users"
   ]
  },
  {
   "cell_type": "code",
   "execution_count": 23,
   "id": "ba4046ec",
   "metadata": {
    "ExecuteTime": {
     "end_time": "2022-04-02T19:18:21.298877Z",
     "start_time": "2022-04-02T19:18:21.193323Z"
    }
   },
   "outputs": [
    {
     "data": {
      "text/html": [
       "<div>\n",
       "<style scoped>\n",
       "    .dataframe tbody tr th:only-of-type {\n",
       "        vertical-align: middle;\n",
       "    }\n",
       "\n",
       "    .dataframe tbody tr th {\n",
       "        vertical-align: top;\n",
       "    }\n",
       "\n",
       "    .dataframe thead th {\n",
       "        text-align: right;\n",
       "    }\n",
       "</style>\n",
       "<table border=\"1\" class=\"dataframe\">\n",
       "  <thead>\n",
       "    <tr style=\"text-align: right;\">\n",
       "      <th></th>\n",
       "      <th>attributes</th>\n",
       "      <th>max</th>\n",
       "      <th>min</th>\n",
       "      <th>range</th>\n",
       "      <th>mean</th>\n",
       "      <th>median</th>\n",
       "      <th>std</th>\n",
       "      <th>skew</th>\n",
       "      <th>kurtosis</th>\n",
       "    </tr>\n",
       "  </thead>\n",
       "  <tbody>\n",
       "    <tr>\n",
       "      <th>0</th>\n",
       "      <td>age</td>\n",
       "      <td>2014</td>\n",
       "      <td>1</td>\n",
       "      <td>2013</td>\n",
       "      <td>49.183142</td>\n",
       "      <td>49.0</td>\n",
       "      <td>118.421689</td>\n",
       "      <td>16.333820</td>\n",
       "      <td>267.655434</td>\n",
       "    </tr>\n",
       "    <tr>\n",
       "      <th>1</th>\n",
       "      <td>signup_flow</td>\n",
       "      <td>25</td>\n",
       "      <td>0</td>\n",
       "      <td>25</td>\n",
       "      <td>3.151490</td>\n",
       "      <td>0.0</td>\n",
       "      <td>7.543915</td>\n",
       "      <td>2.287158</td>\n",
       "      <td>3.567794</td>\n",
       "    </tr>\n",
       "  </tbody>\n",
       "</table>\n",
       "</div>"
      ],
      "text/plain": [
       "    attributes   max  min  range       mean  median         std       skew  \\\n",
       "0          age  2014    1   2013  49.183142    49.0  118.421689  16.333820   \n",
       "1  signup_flow    25    0     25   3.151490     0.0    7.543915   2.287158   \n",
       "\n",
       "     kurtosis  \n",
       "0  267.655434  \n",
       "1    3.567794  "
      ]
     },
     "execution_count": 23,
     "metadata": {},
     "output_type": "execute_result"
    }
   ],
   "source": [
    "# tendency central - mean and median\n",
    "mean_users = pd.DataFrame(num_attributes_users.apply(lambda x: np.mean(x)))\n",
    "median_users = pd.DataFrame(num_attributes_users.apply(lambda x: np.median(x)))\n",
    "\n",
    "# dispersions - max, min, range, std, skew and kurtosis\n",
    "max_users = pd.DataFrame(num_attributes_users.apply(lambda x: x.max()))\n",
    "min_users = pd.DataFrame(num_attributes_users.apply(lambda x: x.min()))\n",
    "range_users = pd.DataFrame(num_attributes_users.apply(lambda x: x.max() - x.min()))\n",
    "std_users = pd.DataFrame(num_attributes_users.apply(lambda x: np.std(x)))\n",
    "skew_users = pd.DataFrame(num_attributes_users.apply(lambda x: x.skew()))\n",
    "kurtosis_users = pd.DataFrame(num_attributes_users.apply(lambda x: x.kurtosis()))\n",
    "\n",
    "# join tendency central and dispersion dataframe\n",
    "num_stats_users = pd.concat([max_users, min_users, range_users, mean_users, \n",
    "                             median_users, std_users, skew_users, kurtosis_users], axis=1).reset_index()\n",
    "num_stats_users.columns = ['attributes', 'max', 'min', 'range', 'mean', 'median', 'std', 'skew', 'kurtosis']\n",
    "\n",
    "num_stats_users"
   ]
  },
  {
   "cell_type": "markdown",
   "id": "956e8434",
   "metadata": {},
   "source": [
    "### 1.7.2. Numerical - Data Sessions"
   ]
  },
  {
   "cell_type": "code",
   "execution_count": 24,
   "id": "3c46dd63",
   "metadata": {
    "ExecuteTime": {
     "end_time": "2022-04-02T19:18:22.735473Z",
     "start_time": "2022-04-02T19:18:21.461388Z"
    }
   },
   "outputs": [
    {
     "data": {
      "text/html": [
       "<div>\n",
       "<style scoped>\n",
       "    .dataframe tbody tr th:only-of-type {\n",
       "        vertical-align: middle;\n",
       "    }\n",
       "\n",
       "    .dataframe tbody tr th {\n",
       "        vertical-align: top;\n",
       "    }\n",
       "\n",
       "    .dataframe thead th {\n",
       "        text-align: right;\n",
       "    }\n",
       "</style>\n",
       "<table border=\"1\" class=\"dataframe\">\n",
       "  <thead>\n",
       "    <tr style=\"text-align: right;\">\n",
       "      <th></th>\n",
       "      <th>attributes</th>\n",
       "      <th>max</th>\n",
       "      <th>min</th>\n",
       "      <th>range</th>\n",
       "      <th>mean</th>\n",
       "      <th>median</th>\n",
       "      <th>std</th>\n",
       "      <th>skew</th>\n",
       "      <th>kurtosis</th>\n",
       "    </tr>\n",
       "  </thead>\n",
       "  <tbody>\n",
       "    <tr>\n",
       "      <th>0</th>\n",
       "      <td>secs_elapsed</td>\n",
       "      <td>1799977.0</td>\n",
       "      <td>0.0</td>\n",
       "      <td>1799977.0</td>\n",
       "      <td>19961.8251</td>\n",
       "      <td>1369.0</td>\n",
       "      <td>88849.388449</td>\n",
       "      <td>11.137761</td>\n",
       "      <td>154.84312</td>\n",
       "    </tr>\n",
       "  </tbody>\n",
       "</table>\n",
       "</div>"
      ],
      "text/plain": [
       "     attributes        max  min      range        mean  median           std  \\\n",
       "0  secs_elapsed  1799977.0  0.0  1799977.0  19961.8251  1369.0  88849.388449   \n",
       "\n",
       "        skew   kurtosis  \n",
       "0  11.137761  154.84312  "
      ]
     },
     "execution_count": 24,
     "metadata": {},
     "output_type": "execute_result"
    }
   ],
   "source": [
    "# tendency central - mean and median\n",
    "mean_sessions = pd.DataFrame(num_attributes_sessions.apply(lambda x: np.mean(x)))\n",
    "median_sessions = pd.DataFrame(num_attributes_sessions.apply(lambda x: np.median(x)))\n",
    "\n",
    "# dispersions - max, min, range, std, skew and kurtosis\n",
    "max_sessions = pd.DataFrame(num_attributes_sessions.apply(lambda x: x.max()))\n",
    "min_sessions = pd.DataFrame(num_attributes_sessions.apply(lambda x: x.min()))\n",
    "range_sessions = pd.DataFrame(num_attributes_sessions.apply(lambda x: x.max() - x.min()))\n",
    "std_sessions = pd.DataFrame(num_attributes_sessions.apply(lambda x: np.std(x)))\n",
    "skew_sessions = pd.DataFrame(num_attributes_sessions.apply(lambda x: x.skew()))\n",
    "kurtosis_sessions = pd.DataFrame(num_attributes_sessions.apply(lambda x: x.kurtosis()))\n",
    "\n",
    "# join tendency central and dispersion dataframe\n",
    "num_stats_sessions = pd.concat([max_sessions, min_sessions, range_sessions, mean_sessions, \n",
    "                             median_sessions, std_sessions, skew_sessions, kurtosis_sessions], axis=1).reset_index()\n",
    "num_stats_sessions.columns = ['attributes', 'max', 'min', 'range', 'mean', 'median', 'std', 'skew', 'kurtosis']\n",
    "\n",
    "num_stats_sessions"
   ]
  },
  {
   "cell_type": "markdown",
   "id": "ce2d77df",
   "metadata": {},
   "source": [
    "### 1.7.3. Categorical - Data Users"
   ]
  },
  {
   "cell_type": "code",
   "execution_count": 25,
   "id": "a475bb0a",
   "metadata": {
    "ExecuteTime": {
     "end_time": "2022-04-02T19:18:23.292355Z",
     "start_time": "2022-04-02T19:18:22.946462Z"
    }
   },
   "outputs": [
    {
     "data": {
      "text/html": [
       "<div>\n",
       "<style scoped>\n",
       "    .dataframe tbody tr th:only-of-type {\n",
       "        vertical-align: middle;\n",
       "    }\n",
       "\n",
       "    .dataframe tbody tr th {\n",
       "        vertical-align: top;\n",
       "    }\n",
       "\n",
       "    .dataframe thead th {\n",
       "        text-align: right;\n",
       "    }\n",
       "</style>\n",
       "<table border=\"1\" class=\"dataframe\">\n",
       "  <thead>\n",
       "    <tr style=\"text-align: right;\">\n",
       "      <th></th>\n",
       "      <th>gender</th>\n",
       "      <th>signup_method</th>\n",
       "      <th>language</th>\n",
       "      <th>affiliate_channel</th>\n",
       "      <th>affiliate_provider</th>\n",
       "      <th>first_affiliate_tracked</th>\n",
       "      <th>signup_app</th>\n",
       "      <th>first_device_type</th>\n",
       "      <th>first_browser</th>\n",
       "      <th>country_destination</th>\n",
       "    </tr>\n",
       "  </thead>\n",
       "  <tbody>\n",
       "    <tr>\n",
       "      <th>count</th>\n",
       "      <td>207386</td>\n",
       "      <td>207386</td>\n",
       "      <td>207386</td>\n",
       "      <td>207386</td>\n",
       "      <td>207386</td>\n",
       "      <td>207386</td>\n",
       "      <td>207386</td>\n",
       "      <td>207386</td>\n",
       "      <td>207386</td>\n",
       "      <td>207386</td>\n",
       "    </tr>\n",
       "    <tr>\n",
       "      <th>unique</th>\n",
       "      <td>4</td>\n",
       "      <td>3</td>\n",
       "      <td>25</td>\n",
       "      <td>8</td>\n",
       "      <td>18</td>\n",
       "      <td>7</td>\n",
       "      <td>4</td>\n",
       "      <td>9</td>\n",
       "      <td>52</td>\n",
       "      <td>12</td>\n",
       "    </tr>\n",
       "    <tr>\n",
       "      <th>top</th>\n",
       "      <td>-unknown-</td>\n",
       "      <td>basic</td>\n",
       "      <td>en</td>\n",
       "      <td>direct</td>\n",
       "      <td>direct</td>\n",
       "      <td>untracked</td>\n",
       "      <td>Web</td>\n",
       "      <td>Mac Desktop</td>\n",
       "      <td>Chrome</td>\n",
       "      <td>NDF</td>\n",
       "    </tr>\n",
       "    <tr>\n",
       "      <th>freq</th>\n",
       "      <td>91783</td>\n",
       "      <td>148297</td>\n",
       "      <td>200415</td>\n",
       "      <td>134179</td>\n",
       "      <td>133935</td>\n",
       "      <td>109232</td>\n",
       "      <td>178334</td>\n",
       "      <td>89600</td>\n",
       "      <td>63845</td>\n",
       "      <td>120216</td>\n",
       "    </tr>\n",
       "  </tbody>\n",
       "</table>\n",
       "</div>"
      ],
      "text/plain": [
       "           gender signup_method language affiliate_channel affiliate_provider  \\\n",
       "count      207386        207386   207386            207386             207386   \n",
       "unique          4             3       25                 8                 18   \n",
       "top     -unknown-         basic       en            direct             direct   \n",
       "freq        91783        148297   200415            134179             133935   \n",
       "\n",
       "       first_affiliate_tracked signup_app first_device_type first_browser  \\\n",
       "count                   207386     207386            207386        207386   \n",
       "unique                       7          4                 9            52   \n",
       "top                  untracked        Web       Mac Desktop        Chrome   \n",
       "freq                    109232     178334             89600         63845   \n",
       "\n",
       "       country_destination  \n",
       "count               207386  \n",
       "unique                  12  \n",
       "top                    NDF  \n",
       "freq                120216  "
      ]
     },
     "execution_count": 25,
     "metadata": {},
     "output_type": "execute_result"
    }
   ],
   "source": [
    "cat_attributes_users.drop('id', axis=1).describe()"
   ]
  },
  {
   "cell_type": "markdown",
   "id": "89a04077",
   "metadata": {},
   "source": [
    "#### 1.7.3.1. Correlation Matrix"
   ]
  },
  {
   "cell_type": "code",
   "execution_count": 26,
   "id": "7d49a42d",
   "metadata": {
    "ExecuteTime": {
     "end_time": "2022-04-02T19:18:32.427268Z",
     "start_time": "2022-04-02T19:18:23.484007Z"
    }
   },
   "outputs": [
    {
     "data": {
      "image/png": "[encoded data removed]",
      "text/plain": [
       "<Figure size 432x288 with 2 Axes>"
      ]
     },
     "metadata": {
      "needs_background": "light"
     },
     "output_type": "display_data"
    }
   ],
   "source": [
    "cat_attributes_users_columns = cat_attributes_users.drop('id', axis=1).columns.tolist()\n",
    "\n",
    "corr_dict = {}\n",
    "\n",
    "for main_column in cat_attributes_users_columns:\n",
    "    corr_list = []\n",
    "    \n",
    "    for secondary_column in cat_attributes_users_columns:\n",
    "        # cramer v\n",
    "        cat_corr = cramer_v( cat_attributes_users[main_column], cat_attributes_users[secondary_column] )\n",
    "        \n",
    "        # add to list\n",
    "        corr_list.append(cat_corr)\n",
    "    \n",
    "    # add to dict each attribute correlation \n",
    "    corr_dict[main_column] = corr_list\n",
    "\n",
    "df_corr_users = pd.DataFrame(corr_dict)\n",
    "df_corr_users = df_corr_users.set_index(df_corr_users.columns)\n",
    "sns.heatmap(df_corr_users, annot=True);"
   ]
  },
  {
   "cell_type": "markdown",
   "id": "ef0bfe3a",
   "metadata": {
    "ExecuteTime": {
     "end_time": "2022-03-02T14:41:15.919764Z",
     "start_time": "2022-03-02T14:41:15.909769Z"
    }
   },
   "source": [
    "### 1.7.4. Categorical - Data Sessions"
   ]
  },
  {
   "cell_type": "code",
   "execution_count": 27,
   "id": "cb30c4f7",
   "metadata": {
    "ExecuteTime": {
     "end_time": "2022-04-02T19:18:37.915551Z",
     "start_time": "2022-04-02T19:18:32.763267Z"
    },
    "scrolled": false
   },
   "outputs": [
    {
     "data": {
      "text/html": [
       "<div>\n",
       "<style scoped>\n",
       "    .dataframe tbody tr th:only-of-type {\n",
       "        vertical-align: middle;\n",
       "    }\n",
       "\n",
       "    .dataframe tbody tr th {\n",
       "        vertical-align: top;\n",
       "    }\n",
       "\n",
       "    .dataframe thead th {\n",
       "        text-align: right;\n",
       "    }\n",
       "</style>\n",
       "<table border=\"1\" class=\"dataframe\">\n",
       "  <thead>\n",
       "    <tr style=\"text-align: right;\">\n",
       "      <th></th>\n",
       "      <th>action</th>\n",
       "      <th>action_type</th>\n",
       "      <th>action_detail</th>\n",
       "      <th>device_type</th>\n",
       "    </tr>\n",
       "  </thead>\n",
       "  <tbody>\n",
       "    <tr>\n",
       "      <th>count</th>\n",
       "      <td>9213930</td>\n",
       "      <td>9213930</td>\n",
       "      <td>9213930</td>\n",
       "      <td>9213930</td>\n",
       "    </tr>\n",
       "    <tr>\n",
       "      <th>unique</th>\n",
       "      <td>347</td>\n",
       "      <td>10</td>\n",
       "      <td>155</td>\n",
       "      <td>14</td>\n",
       "    </tr>\n",
       "    <tr>\n",
       "      <th>top</th>\n",
       "      <td>show</td>\n",
       "      <td>view</td>\n",
       "      <td>view_search_results</td>\n",
       "      <td>Mac Desktop</td>\n",
       "    </tr>\n",
       "    <tr>\n",
       "      <th>freq</th>\n",
       "      <td>2178382</td>\n",
       "      <td>3545621</td>\n",
       "      <td>1770931</td>\n",
       "      <td>3019523</td>\n",
       "    </tr>\n",
       "  </tbody>\n",
       "</table>\n",
       "</div>"
      ],
      "text/plain": [
       "         action action_type        action_detail  device_type\n",
       "count   9213930     9213930              9213930      9213930\n",
       "unique      347          10                  155           14\n",
       "top        show        view  view_search_results  Mac Desktop\n",
       "freq    2178382     3545621              1770931      3019523"
      ]
     },
     "execution_count": 27,
     "metadata": {},
     "output_type": "execute_result"
    }
   ],
   "source": [
    "cat_attributes_sessions.drop('user_id', axis=1).describe()"
   ]
  },
  {
   "cell_type": "markdown",
   "id": "13f4914d",
   "metadata": {},
   "source": [
    "#### 1.7.4.1. Correlation Matrix"
   ]
  },
  {
   "cell_type": "code",
   "execution_count": 28,
   "id": "3e1e88ee",
   "metadata": {
    "ExecuteTime": {
     "end_time": "2022-04-02T19:19:23.831114Z",
     "start_time": "2022-04-02T19:18:38.140567Z"
    }
   },
   "outputs": [
    {
     "data": {
      "image/png": "[encoded data removed]",
      "text/plain": [
       "<Figure size 432x288 with 2 Axes>"
      ]
     },
     "metadata": {
      "needs_background": "light"
     },
     "output_type": "display_data"
    }
   ],
   "source": [
    "cat_attributes_sessions_columns = cat_attributes_sessions.drop('user_id', axis=1).columns.tolist()\n",
    "\n",
    "corr_dict = {}\n",
    "\n",
    "for main_column in cat_attributes_sessions_columns:\n",
    "    corr_list = []\n",
    "    \n",
    "    for secondary_column in cat_attributes_sessions_columns:\n",
    "        # cramer v\n",
    "        cat_corr = cramer_v( cat_attributes_sessions[main_column], cat_attributes_sessions[secondary_column] )\n",
    "        \n",
    "        # add to list\n",
    "        corr_list.append(cat_corr)\n",
    "    \n",
    "    # add to dict each attribute correlation \n",
    "    corr_dict[main_column] = corr_list\n",
    "\n",
    "df_corr_sessions = pd.DataFrame(corr_dict)\n",
    "df_corr_sessions = df_corr_sessions.set_index(df_corr_sessions.columns)\n",
    "sns.heatmap(df_corr_sessions, annot=True);"
   ]
  },
  {
   "cell_type": "markdown",
   "id": "bbe57720",
   "metadata": {},
   "source": [
    "# 2.0. Feature Engineering"
   ]
  },
  {
   "cell_type": "code",
   "execution_count": 29,
   "id": "f64c4deb",
   "metadata": {
    "ExecuteTime": {
     "end_time": "2022-04-02T19:19:24.140103Z",
     "start_time": "2022-04-02T19:19:24.112088Z"
    }
   },
   "outputs": [],
   "source": [
    "df02_users = df01_users.copy()"
   ]
  },
  {
   "cell_type": "markdown",
   "id": "4cc87547",
   "metadata": {},
   "source": [
    "## 2.1. Create Gap Between Dates Features"
   ]
  },
  {
   "cell_type": "code",
   "execution_count": 30,
   "id": "bde69aeb",
   "metadata": {
    "ExecuteTime": {
     "end_time": "2022-04-02T19:19:35.243476Z",
     "start_time": "2022-04-02T19:19:24.441091Z"
    }
   },
   "outputs": [],
   "source": [
    "# date of first active\n",
    "df02_users['date_first_active'] = pd.to_datetime(df02_users['timestamp_first_active'].dt.strftime(\"%Y-%m-%d\"))\n",
    "\n",
    "# difference in days between date_account_created and date_first_active\n",
    "df02_users['diff_account_created_first_active'] = (df02_users['date_account_created'] - df02_users['date_first_active']).apply(lambda x: x.days)\n",
    "\n",
    "# difference in days between date_account_created and date_first_booking\n",
    "df02_users['diff_first_booking_account_created'] = (df02_users['date_first_booking'] - df02_users['date_account_created']).apply(lambda x: x.days)\n",
    "\n",
    "# difference in days between date_first_active and date_first_booking\n",
    "df02_users['diff_first_active_first_booking'] = (df02_users['date_first_booking'] - df02_users['date_first_active']).apply(lambda x: x.days)"
   ]
  },
  {
   "cell_type": "markdown",
   "id": "e5f02587",
   "metadata": {
    "ExecuteTime": {
     "end_time": "2022-03-02T15:58:55.212964Z",
     "start_time": "2022-03-02T15:58:55.204965Z"
    }
   },
   "source": [
    "## 2.2. Create Date Features"
   ]
  },
  {
   "cell_type": "markdown",
   "id": "add9d20f",
   "metadata": {},
   "source": [
    "### 2.2.1. Account Created"
   ]
  },
  {
   "cell_type": "code",
   "execution_count": 31,
   "id": "7ada9a20",
   "metadata": {
    "ExecuteTime": {
     "end_time": "2022-04-02T19:19:35.737006Z",
     "start_time": "2022-04-02T19:19:35.572013Z"
    }
   },
   "outputs": [],
   "source": [
    "# year\n",
    "df02_users['year_account_created'] = df02_users['date_account_created'].dt.year\n",
    "\n",
    "# month\n",
    "df02_users['month_account_created'] = df02_users['date_account_created'].dt.month\n",
    "\n",
    "# day\n",
    "df02_users['day_account_created'] = df02_users['date_account_created'].dt.day\n",
    "\n",
    "# day of week\n",
    "df02_users['dayofweek_account_created'] = df02_users['date_account_created'].dt.dayofweek\n",
    "\n",
    "# week of year\n",
    "df02_users['weekofyear_account_created'] = df02_users['date_account_created'].dt.weekofyear"
   ]
  },
  {
   "cell_type": "markdown",
   "id": "db245cbb",
   "metadata": {},
   "source": [
    "### 2.2.2. First Active"
   ]
  },
  {
   "cell_type": "code",
   "execution_count": 32,
   "id": "55143c04",
   "metadata": {
    "ExecuteTime": {
     "end_time": "2022-04-02T19:19:36.234026Z",
     "start_time": "2022-04-02T19:19:36.065008Z"
    }
   },
   "outputs": [],
   "source": [
    "# year\n",
    "df02_users['year_first_active'] = df02_users['date_first_active'].dt.year\n",
    "\n",
    "# month\n",
    "df02_users['month_first_active'] = df02_users['date_first_active'].dt.month\n",
    "\n",
    "# day\n",
    "df02_users['day_first_active'] = df02_users['date_first_active'].dt.day\n",
    "\n",
    "# day of week\n",
    "df02_users['dayofweek_first_active'] = df02_users['date_first_active'].dt.dayofweek\n",
    "\n",
    "# week of year\n",
    "df02_users['weekofyear_first_active'] = df02_users['date_first_active'].dt.weekofyear"
   ]
  },
  {
   "cell_type": "markdown",
   "id": "603026d2",
   "metadata": {},
   "source": [
    "### 2.2.3. First Booking"
   ]
  },
  {
   "cell_type": "code",
   "execution_count": 33,
   "id": "91800913",
   "metadata": {
    "ExecuteTime": {
     "end_time": "2022-04-02T19:19:36.706601Z",
     "start_time": "2022-04-02T19:19:36.554305Z"
    }
   },
   "outputs": [],
   "source": [
    "# year\n",
    "df02_users['year_first_booking'] = df02_users['date_first_booking'].dt.year\n",
    "\n",
    "# month\n",
    "df02_users['month_first_booking'] = df02_users['date_first_booking'].dt.month\n",
    "\n",
    "# day\n",
    "df02_users['day_first_booking'] = df02_users['date_first_booking'].dt.day\n",
    "\n",
    "# day of week\n",
    "df02_users['dayofweek_first_booking'] = df02_users['date_first_booking'].dt.dayofweek\n",
    "\n",
    "# week of year\n",
    "df02_users['weekofyear_first_booking'] = df02_users['date_first_booking'].dt.weekofyear"
   ]
  },
  {
   "cell_type": "markdown",
   "id": "b0f5b037",
   "metadata": {},
   "source": [
    "# 3.0. Data Filtering"
   ]
  },
  {
   "cell_type": "code",
   "execution_count": 34,
   "id": "26b87f66",
   "metadata": {
    "ExecuteTime": {
     "end_time": "2022-04-02T19:19:37.225675Z",
     "start_time": "2022-04-02T19:19:37.164135Z"
    }
   },
   "outputs": [],
   "source": [
    "df03_users = df02_users.copy()"
   ]
  },
  {
   "cell_type": "markdown",
   "id": "80d07e8f",
   "metadata": {},
   "source": [
    "## 3.1. Filtering Rows"
   ]
  },
  {
   "cell_type": "code",
   "execution_count": 35,
   "id": "6221dc16",
   "metadata": {
    "ExecuteTime": {
     "end_time": "2022-04-02T19:19:38.044371Z",
     "start_time": "2022-04-02T19:19:37.878369Z"
    }
   },
   "outputs": [],
   "source": [
    "# age - greater than 15 and lower than 100 - There are few people over 100 years old ( Could be error from system or manual imput - Cleaning noise)\n",
    "df03_users = df03_users[(df03_users['age'] > 15) & (df03_users['age'] < 100)]\n",
    "\n",
    "# secs_elapsed - there is no possible 0 secs elapesed on website\n",
    "#df03_sessions = df03_sessions[df03_sessions['secs_elapsed'] > 0]"
   ]
  },
  {
   "cell_type": "markdown",
   "id": "d9303a1b",
   "metadata": {},
   "source": [
    "## 3.2. Columns Selection"
   ]
  },
  {
   "cell_type": "code",
   "execution_count": 36,
   "id": "1072be5b",
   "metadata": {
    "ExecuteTime": {
     "end_time": "2022-04-02T19:19:38.777994Z",
     "start_time": "2022-04-02T19:19:38.627434Z"
    },
    "code_folding": []
   },
   "outputs": [],
   "source": [
    "# columns id not carry any information\n",
    "df03_users = df03_users.drop(['id'], axis=1)\n",
    "\n",
    "# columns used to feature enginnering\n",
    "cols_date =['timestamp_first_active',\n",
    "            'date_first_active',\n",
    "            'date_account_created',\n",
    "            'date_first_booking']\n",
    "\n",
    "df03_users = df03_users.drop(columns=cols_date)"
   ]
  },
  {
   "cell_type": "markdown",
   "id": "20d1ff53",
   "metadata": {},
   "source": [
    "# 4.0. Data Exploratory Analysis"
   ]
  },
  {
   "cell_type": "code",
   "execution_count": 37,
   "id": "c5e9da71",
   "metadata": {
    "ExecuteTime": {
     "end_time": "2022-04-02T19:19:39.642113Z",
     "start_time": "2022-04-02T19:19:39.601128Z"
    }
   },
   "outputs": [],
   "source": [
    "df04_users = df03_users.copy()"
   ]
  },
  {
   "cell_type": "markdown",
   "id": "08aaa120",
   "metadata": {
    "heading_collapsed": true
   },
   "source": [
    "## 4.1. Univariate Analysis"
   ]
  },
  {
   "cell_type": "code",
   "execution_count": 39,
   "id": "5b859078",
   "metadata": {
    "ExecuteTime": {
     "end_time": "2022-03-12T16:24:20.957339Z",
     "start_time": "2022-03-12T16:24:20.932337Z"
    },
    "hidden": true
   },
   "outputs": [],
   "source": [
    "# profile = ProfileReport(df04_users)\n",
    "\n",
    "# profile.to_file(output_file='airbnb_booking_statistics.html')"
   ]
  },
  {
   "cell_type": "markdown",
   "id": "07beed36",
   "metadata": {
    "heading_collapsed": true
   },
   "source": [
    "## 4.2. Bivariate Analysis"
   ]
  },
  {
   "cell_type": "markdown",
   "id": "381f4323",
   "metadata": {
    "hidden": true
   },
   "source": [
    "### H1. Across all destinations, it takes users an average of 15 days to make their first Airbnb booking since their first activation.\n",
    "**False:** Users take up to 3 days on median to register on the site all destinations."
   ]
  },
  {
   "cell_type": "code",
   "execution_count": 40,
   "id": "91288f22",
   "metadata": {
    "ExecuteTime": {
     "end_time": "2022-03-12T16:24:23.762467Z",
     "start_time": "2022-03-12T16:24:20.971338Z"
    },
    "hidden": true,
    "hide_input": true
   },
   "outputs": [
    {
     "data": {
      "image/png": "[encoded data removed]",
      "text/plain": [
       "<Figure size 1440x432 with 2 Axes>"
      ]
     },
     "metadata": {
      "needs_background": "light"
     },
     "output_type": "display_data"
    }
   ],
   "source": [
    "plt.subplots(figsize=(20,6))\n",
    "\n",
    "# select data with destination\n",
    "aux = df04_users[df04_users['country_destination'] != 'NDF']\n",
    "\n",
    "# average number of days from the first active day on website to the first booking for each destination\n",
    "plt.subplot(1, 2, 1)\n",
    "aux1 = aux[['diff_first_active_first_booking', 'country_destination']].groupby('country_destination').mean().reset_index()\n",
    "sns.barplot(x='country_destination', \n",
    "            y='diff_first_active_first_booking', \n",
    "            data=aux1.sort_values('diff_first_active_first_booking'))\n",
    "plt.axhline(aux['diff_first_active_first_booking'].mean(), linestyle='--');\n",
    "plt.title('Average Days until Booking');\n",
    "\n",
    "# median number of days from the first active day on website to the first booking for each destination\n",
    "plt.subplot(1, 2, 2)\n",
    "aux2 = aux[['diff_first_active_first_booking', 'country_destination']].groupby('country_destination').median().reset_index()\n",
    "sns.barplot(x='country_destination', \n",
    "            y='diff_first_active_first_booking',\n",
    "            data=aux2.sort_values('diff_first_active_first_booking'))\n",
    "plt.axhline(aux['diff_first_active_first_booking'].median(), linestyle='--');\n",
    "plt.title('Median Days until Booking');"
   ]
  },
  {
   "cell_type": "markdown",
   "id": "39bc0f13",
   "metadata": {
    "hidden": true
   },
   "source": [
    "### H2. In all destinations, it takes users an average of 3 days to register on the site.\n",
    "**True:** Users register the same day they first visit, on average."
   ]
  },
  {
   "cell_type": "code",
   "execution_count": 41,
   "id": "cbe836d7",
   "metadata": {
    "ExecuteTime": {
     "end_time": "2022-03-12T16:24:24.097455Z",
     "start_time": "2022-03-12T16:24:23.765457Z"
    },
    "hidden": true,
    "hide_input": true
   },
   "outputs": [
    {
     "data": {
      "image/png": "[encoded data removed]",
      "text/plain": [
       "<Figure size 1440x432 with 1 Axes>"
      ]
     },
     "metadata": {
      "needs_background": "light"
     },
     "output_type": "display_data"
    }
   ],
   "source": [
    "plt.subplots(figsize=(20,6))\n",
    "\n",
    "# average number of days from the first active day on website to the first booking for each destination\n",
    "plt.subplot(1, 2, 1)\n",
    "aux1 = df04_users[['diff_account_created_first_active', 'country_destination']].groupby('country_destination').mean().reset_index()\n",
    "\n",
    "sns.barplot(x='country_destination', \n",
    "            y='diff_account_created_first_active',\n",
    "            data=aux1.sort_values('diff_account_created_first_active'))\n",
    "plt.axhline(df04_users['diff_account_created_first_active'].mean(), linestyle='--');"
   ]
  },
  {
   "cell_type": "markdown",
   "id": "35242e84",
   "metadata": {
    "hidden": true
   },
   "source": [
    "### H3. The annual volume of bookings made during the summer increased by 20% or more for destinations within the USA.\n",
    "**True:**  Bookings made during the summer for the USA grow by 80% a year on average."
   ]
  },
  {
   "cell_type": "code",
   "execution_count": 42,
   "id": "32087ca0",
   "metadata": {
    "ExecuteTime": {
     "end_time": "2022-03-12T16:24:25.111433Z",
     "start_time": "2022-03-12T16:24:24.100454Z"
    },
    "hidden": true,
    "hide_input": true
   },
   "outputs": [
    {
     "data": {
      "image/png": "[encoded data removed]",
      "text/plain": [
       "<Figure size 1440x432 with 2 Axes>"
      ]
     },
     "metadata": {
      "needs_background": "light"
     },
     "output_type": "display_data"
    }
   ],
   "source": [
    "plt.figure(figsize=(20,6))\n",
    "\n",
    "# number of booking for year, month of firsrt booking and destination by number of rows\n",
    "aux1 = df04_users[['year_first_booking', 'month_first_booking', 'country_destination']].groupby(\n",
    "    ['year_first_booking', 'month_first_booking', 'country_destination']\n",
    ").size().reset_index().rename(columns={0: 'booking_count'})\n",
    "\n",
    "# seasons for northern hemisphere\n",
    "season_map = {1: 'Winter', 2: 'Winter', 3: 'Spring', 4: 'Spring', 5: 'Spring', 6: 'Summer',\n",
    "              7: 'Summer', 8: 'Summer', 9: 'Autumn', 10: 'Autumn', 11: 'Autumn', 12: 'Winter'}\n",
    "\n",
    "# seasons for each month of first booking\n",
    "aux1['season'] = aux1['month_first_booking'].map(season_map)\n",
    "\n",
    "# select data targeting the USA and the summer season \n",
    "aux2 = aux1[(aux1['country_destination'] == 'US') & (aux1['season'] == 'Summer') & (aux1['year_first_booking'] != 2015)]\n",
    "\n",
    "# number of bookings for first booking year\n",
    "aux3 = aux2[['year_first_booking', 'booking_count']].groupby('year_first_booking').sum().reset_index()\n",
    "\n",
    "plt.subplot(1, 2, 1)\n",
    "sns.lineplot(x='year_first_booking', y='booking_count', data=aux3)\n",
    "plt.title('Booking for US during the Summer');\n",
    "\n",
    "# porcentage of growth to each first booking year\n",
    "aux3['yearly_growth'] = aux3['booking_count'].pct_change().fillna(0)\n",
    "\n",
    "# yearly growth of first booking for US during the summer\n",
    "plt.subplot(1, 2, 2)\n",
    "ax = sns.barplot(x='year_first_booking', y='yearly_growth', data=aux3);\n",
    "ax.bar_label(ax.containers[0]);\n",
    "plt.title('Yearly Growth of Booking for US during the Summer ');\n",
    "\n"
   ]
  },
  {
   "cell_type": "markdown",
   "id": "45f7c976",
   "metadata": {
    "hidden": true
   },
   "source": [
    "### H4. Female users make 10% more reservations for countries outside the USA.\n",
    "**False:** Female users make more than 15% more reservations than male users."
   ]
  },
  {
   "cell_type": "code",
   "execution_count": 43,
   "id": "7a34313a",
   "metadata": {
    "ExecuteTime": {
     "end_time": "2022-03-12T16:24:25.460423Z",
     "start_time": "2022-03-12T16:24:25.121427Z"
    },
    "hidden": true,
    "hide_input": true
   },
   "outputs": [
    {
     "data": {
      "image/png": "[encoded data removed]",
      "text/plain": [
       "<Figure size 864x432 with 1 Axes>"
      ]
     },
     "metadata": {
      "needs_background": "light"
     },
     "output_type": "display_data"
    }
   ],
   "source": [
    "plt.figure(figsize=(12, 6))\n",
    "\n",
    "# number of booking for gender and destination\n",
    "aux1 = df04_users[['gender', 'country_destination']].groupby(\n",
    "    ['gender', 'country_destination']\n",
    ").size().reset_index().rename(columns={0: 'booking_count'})\n",
    "\n",
    "# select data for US and droped unknow rows\n",
    "aux2 = aux1[(aux1['country_destination'] == 'US') & (aux1['gender'] != '-unknown-')]\n",
    "\n",
    "# percentage of bookings for each gender\n",
    "aux2['pct_booking'] = round(100*(aux2['booking_count']/aux2['booking_count'].sum()), 2)\n",
    "\n",
    "# percentage of bookings for each gender for US destination\n",
    "ax = sns.barplot(x='pct_booking', y='gender', data=aux2);\n",
    "ax.bar_label(ax.containers[0]);\n",
    "plt.title('Percentage of Booking by Gender for US');"
   ]
  },
  {
   "cell_type": "markdown",
   "id": "a420e8eb",
   "metadata": {
    "hidden": true
   },
   "source": [
    "### H5. The Google Marketing channel accounts for more than 40% of bookings to countries outside the USA.\n",
    "**True:** Considering only paid channel, Marketing Google represents 76% of bookings."
   ]
  },
  {
   "cell_type": "code",
   "execution_count": 44,
   "id": "11545499",
   "metadata": {
    "ExecuteTime": {
     "end_time": "2022-03-12T16:24:26.018427Z",
     "start_time": "2022-03-12T16:24:25.464427Z"
    },
    "hidden": true,
    "hide_input": true
   },
   "outputs": [
    {
     "data": {
      "image/png": "[encoded data removed]",
      "text/plain": [
       "<Figure size 1440x432 with 2 Axes>"
      ]
     },
     "metadata": {
      "needs_background": "light"
     },
     "output_type": "display_data"
    }
   ],
   "source": [
    "plt.figure(figsize=(20, 6))\n",
    "\n",
    "# select data with destination and without US\n",
    "aux = df04_users[(df04_users['country_destination'] != 'US') & (df04_users['country_destination'] != 'NDF')]\n",
    "\n",
    "# number of booking por each affiliate\n",
    "aux1 = aux[['affiliate_provider']].groupby('affiliate_provider').size().reset_index().rename(columns={0: 'booking_count'})\n",
    "\n",
    "# porcentage of booking for each affiliate\n",
    "aux1['pct_booking'] = round(100*aux1['booking_count']/aux1['booking_count'].sum(), 2)\n",
    "\n",
    "# group values smaller than 10\n",
    "aux2 = aux1['pct_booking'].groupby(\n",
    "    np.where(aux1['pct_booking'] >=10, aux1['affiliate_provider'], 'others')\n",
    ").sum().reset_index().rename(columns={'index': 'affiliate_provider'})\n",
    "\n",
    "# percentage of booking for each channel\n",
    "plt.subplot(1, 2, 1)\n",
    "ax = sns.barplot(x='affiliate_provider', y='pct_booking', data=aux2)\n",
    "ax.bar_label(ax.containers[0]);\n",
    "plt.title('Porcentage of Booking for each Channel');\n",
    "\n",
    "#not include organic channels\n",
    "aux3 = aux[aux['affiliate_provider'] != 'direct']\n",
    "\n",
    "# number of booking por each affiliate\n",
    "aux4 = aux3[['affiliate_provider']].groupby('affiliate_provider').size().reset_index().rename(columns={0: 'booking_count'})\n",
    "\n",
    "# porcentage of booking for each affiliate\n",
    "aux4['pct_booking'] = round(100*aux4['booking_count']/aux4['booking_count'].sum(), 2)\n",
    "\n",
    "# group values smaller than 10\n",
    "aux5 = aux4['pct_booking'].groupby(\n",
    "    np.where(aux4['pct_booking'] > 1, aux4['affiliate_provider'], 'others')\n",
    ").sum().reset_index().rename(columns={'index': 'affiliate_provider'}).sort_values('pct_booking', ascending=False)\n",
    "\n",
    "# percentage of booking for each channel\n",
    "plt.subplot(1, 2, 2)\n",
    "ax = sns.barplot(x='affiliate_provider', y='pct_booking', data=aux5)\n",
    "ax.bar_label(ax.containers[0]);\n",
    "plt.title('Porcentage of Booking for each Channel, except Direct');"
   ]
  },
  {
   "cell_type": "markdown",
   "id": "2168020e",
   "metadata": {
    "hidden": true
   },
   "source": [
    "### H6. The USA destination represents more than 20% in all channels.\n",
    "**True:** USA represents 69% of bookings on average in all channels."
   ]
  },
  {
   "cell_type": "code",
   "execution_count": 45,
   "id": "b9ac1168",
   "metadata": {
    "ExecuteTime": {
     "end_time": "2022-03-12T16:24:26.481426Z",
     "start_time": "2022-03-12T16:24:26.024425Z"
    },
    "hidden": true,
    "hide_input": true
   },
   "outputs": [
    {
     "data": {
      "image/png": "[encoded data removed]",
      "text/plain": [
       "<Figure size 864x432 with 1 Axes>"
      ]
     },
     "metadata": {
      "needs_background": "light"
     },
     "output_type": "display_data"
    }
   ],
   "source": [
    "plt.figure(figsize=(12, 6))\n",
    "\n",
    "# select data with distination\n",
    "aux = df04_users[df04_users['country_destination'] != 'NDF']\n",
    "\n",
    "# number of booking for each destination and affiliate channel\n",
    "aux1 = aux[['country_destination', 'affiliate_channel']].groupby(\n",
    "    ['country_destination', 'affiliate_channel']\n",
    ").size().reset_index().rename(columns={0: 'booking_count'})\n",
    "\n",
    "# create column for porcentage of booking for each channel\n",
    "aux1['pct_booking_channel'] = np.nan\n",
    "\n",
    "# porcentage individual for each affiliate channel\n",
    "for channel in aux1['affiliate_channel'].unique().tolist():\n",
    "    ref_channel = aux1['affiliate_channel'] == channel\n",
    "    aux1.loc[ref_channel, 'pct_booking_channel'] = np.round(\n",
    "        100 * aux1.loc[ref_channel, 'booking_count'] / aux1.loc[ref_channel, 'booking_count'].sum(), 2\n",
    ")\n",
    "\n",
    "# select destination for US\n",
    "aux2 = aux1[aux1['country_destination'] == 'US']\n",
    "\n",
    "# percentage of bookings for channels for US destination \n",
    "ax = sns.barplot(x='affiliate_channel', y='pct_booking_channel', data=aux2)\n",
    "ax.bar_label(ax.containers[0]);\n",
    "plt.axhline(aux2['pct_booking_channel'].mean(), linestyle='--')\n",
    "plt.title('Porcentage of Booking to USA for each Channel');"
   ]
  },
  {
   "cell_type": "markdown",
   "id": "766ed40d",
   "metadata": {
    "hidden": true
   },
   "source": [
    "### H7. The average age of people is 35 in all destinations.\n",
    "**False:** Average age for all destinations is 40 years old."
   ]
  },
  {
   "cell_type": "code",
   "execution_count": 46,
   "id": "6d4f31b0",
   "metadata": {
    "ExecuteTime": {
     "end_time": "2022-03-12T16:24:26.972637Z",
     "start_time": "2022-03-12T16:24:26.488430Z"
    },
    "hidden": true,
    "hide_input": true
   },
   "outputs": [
    {
     "data": {
      "image/png": "[encoded data removed]",
      "text/plain": [
       "<Figure size 864x432 with 1 Axes>"
      ]
     },
     "metadata": {
      "needs_background": "light"
     },
     "output_type": "display_data"
    }
   ],
   "source": [
    "plt.figure(figsize=(12, 6))\n",
    "\n",
    "# grouped country destination\n",
    "aux1 = df04_users[['age', 'country_destination']].groupby('country_destination').mean().astype(int).reset_index()\n",
    "\n",
    "# average age for each destination\n",
    "ax = sns.barplot(x='country_destination', y='age', data=aux1);\n",
    "ax.bar_label(ax.containers[0]);\n",
    "plt.axhline(aux1['age'].mean());\n",
    "plt.title('Average Age for each Destination');"
   ]
  },
  {
   "cell_type": "markdown",
   "id": "9ef2f8d7",
   "metadata": {
    "hidden": true
   },
   "source": [
    "### H8. The percentage of users who use the English language site to book accommodations at any destination is over 90%.\n",
    "**True:** English is dominant among users, accounting for 97%.  "
   ]
  },
  {
   "cell_type": "code",
   "execution_count": 47,
   "id": "86c47a9d",
   "metadata": {
    "ExecuteTime": {
     "end_time": "2022-03-12T16:24:29.928443Z",
     "start_time": "2022-03-12T16:24:26.980640Z"
    },
    "hidden": true,
    "hide_input": true
   },
   "outputs": [
    {
     "data": {
      "image/png": "[encoded data removed]",
      "text/plain": [
       "<Figure size 1440x432 with 2 Axes>"
      ]
     },
     "metadata": {
      "needs_background": "light"
     },
     "output_type": "display_data"
    }
   ],
   "source": [
    "plt.figure(figsize=(20,6))\n",
    "\n",
    "# number of booking for each language\n",
    "aux1 = df04_users[['language']].groupby('language').size().reset_index().rename(columns={0: 'booking_count'})\n",
    "\n",
    "# porcentage of bookings for each language\n",
    "aux1['pct_booking'] = 100*aux1['booking_count']/aux1['booking_count'].sum()\n",
    "\n",
    "# grouped values smaller than 1%\n",
    "aux2 =aux1[['pct_booking']].groupby(\n",
    "    np.where(aux1['pct_booking'] >= 1, aux1['language'], 'others')\n",
    ").sum().reset_index().rename(columns={'index': 'language'}).sort_values('pct_booking', ascending=False)\n",
    "\n",
    "# porcentage of booking for language\n",
    "plt.subplot(1, 2, 1)\n",
    "ax = sns.barplot(x='language', y='pct_booking', data=aux2)\n",
    "ax.bar_label(ax.containers[0]);\n",
    "plt.title('Porcentage of Language Users');\n",
    "\n",
    "# select data with destination and without english language\n",
    "aux = df04_users[(df04_users['language'] == 'en') & (df04_users['country_destination'] != 'NDF')]\n",
    "\n",
    "# number of language users for each destination\n",
    "aux3 = aux[['country_destination', 'language']].groupby('country_destination').count().reset_index().sort_values('language')\n",
    "\n",
    "# porcentage of language users for destination\n",
    "aux3['pct_language'] = 100 * aux3['language'] / aux3['language'].sum()\n",
    "\n",
    "# porcentage of language users without english for each destination\n",
    "plt.subplot(1, 2, 2)\n",
    "sns.barplot(x='country_destination', y='pct_language', data=aux3);\n",
    "plt.title('Porcentage of Language Users for each Destination');"
   ]
  },
  {
   "cell_type": "markdown",
   "id": "219e8c33",
   "metadata": {
    "hidden": true
   },
   "source": [
    "### H9. Is the number of Airbnb bookings decreasing over the years.\n",
    "**False:** The number of Airbnb bookings is growing, but the growth rate has been slowing down over the years."
   ]
  },
  {
   "cell_type": "code",
   "execution_count": 48,
   "id": "6ffbb6fa",
   "metadata": {
    "ExecuteTime": {
     "end_time": "2022-03-12T16:24:31.151448Z",
     "start_time": "2022-03-12T16:24:29.936448Z"
    },
    "hidden": true,
    "hide_input": true
   },
   "outputs": [
    {
     "data": {
      "image/png": "[encoded data removed]",
      "text/plain": [
       "<Figure size 1440x432 with 2 Axes>"
      ]
     },
     "metadata": {
      "needs_background": "light"
     },
     "output_type": "display_data"
    }
   ],
   "source": [
    "plt.figure(figsize=(20,6))\n",
    "\n",
    "# select data with complete years and with booking\n",
    "aux = df04_users[(df04_users['country_destination'] != 'NDF') & \n",
    "                  (df04_users['year_first_booking'] < df04_users['year_first_booking'].max())]\n",
    "\n",
    "# number of booking for each year\n",
    "aux1 = aux[['year_first_booking']].groupby('year_first_booking').size().reset_index().rename(columns={0: 'booking_count'})\n",
    "\n",
    "# growth of booking over the years\n",
    "aux1[['booking_growth']] = aux1[['booking_count']].pct_change().fillna(0)\n",
    "\n",
    "# number of booking over years\n",
    "plt.subplot(1, 2, 1)\n",
    "ax = sns.barplot(x='year_first_booking', y='booking_count', data=aux1 );\n",
    "ax.bar_label(ax.containers[0]);\n",
    "plt.title('Booking over the Years');\n",
    "\n",
    "# growth of booking over the year\n",
    "plt.subplot(1, 2, 2)\n",
    "ax = sns.barplot(x='year_first_booking', y='booking_growth', data=aux1);\n",
    "ax.bar_label(ax.containers[0]);\n",
    "plt.title('Growth of Booking over the Years');"
   ]
  },
  {
   "cell_type": "markdown",
   "id": "21102193",
   "metadata": {
    "hidden": true
   },
   "source": [
    "### H10. Airbnb's booking growth for USA is higher than for other destinations over the years.\n",
    "**True:** The number of bookings for USA is the highest among all destinations over the years."
   ]
  },
  {
   "cell_type": "code",
   "execution_count": 49,
   "id": "2aa25407",
   "metadata": {
    "ExecuteTime": {
     "end_time": "2022-03-12T16:24:32.897536Z",
     "start_time": "2022-03-12T16:24:31.158472Z"
    },
    "hidden": true,
    "hide_input": true
   },
   "outputs": [
    {
     "data": {
      "image/png": "[encoded data removed]",
      "text/plain": [
       "<Figure size 1440x432 with 1 Axes>"
      ]
     },
     "metadata": {
      "needs_background": "light"
     },
     "output_type": "display_data"
    },
    {
     "data": {
      "image/png": "[encoded data removed]",
      "text/plain": [
       "<Figure size 1440x432 with 1 Axes>"
      ]
     },
     "metadata": {
      "needs_background": "light"
     },
     "output_type": "display_data"
    }
   ],
   "source": [
    "# complete years and with booking\n",
    "aux = df04_users[(df04_users['country_destination'] != 'NDF') & \n",
    "                  (df04_users['year_first_booking'] < df04_users['year_first_booking'].max())]\n",
    "\n",
    "# number of booking through the year and for each destination\n",
    "aux1 = aux[['year_first_booking', 'country_destination']].groupby(\n",
    "    ['year_first_booking', 'country_destination']\n",
    ").size().reset_index().rename(columns={0: 'booking_count'})\n",
    "\n",
    "# select data for marjority destinations\n",
    "aux2 = aux1[(aux1['country_destination'] == 'US') | (aux1['country_destination'] == 'other') ]\n",
    "\n",
    "aux2.pivot_table(values='booking_count', \n",
    "                 index='year_first_booking', \n",
    "                 columns='country_destination',\n",
    "                 aggfunc='sum', \n",
    "                 fill_value=0).plot(figsize=(20,6), title='Evolution of Bookings Over the Years (US and Others)');\n",
    "\n",
    "aux3 = aux1[(aux1['country_destination'] != 'US') & (aux1['country_destination'] != 'other') ]\n",
    "\n",
    "aux3.pivot_table(values='booking_count', \n",
    "                 index='year_first_booking', \n",
    "                 columns='country_destination',\n",
    "                 aggfunc='sum', \n",
    "                 fill_value=0).plot(figsize=(20,6), title='Evolution of Bookings Over the Years');"
   ]
  },
  {
   "cell_type": "markdown",
   "id": "95ba753d",
   "metadata": {},
   "source": [
    "## 4.3. Multivariate Analysis"
   ]
  },
  {
   "cell_type": "markdown",
   "id": "4edaea33",
   "metadata": {},
   "source": [
    "### 4.3.1. High Correlation Attributes"
   ]
  },
  {
   "cell_type": "markdown",
   "id": "5af60a65",
   "metadata": {
    "ExecuteTime": {
     "end_time": "2022-03-10T23:06:57.033435Z",
     "start_time": "2022-03-10T23:06:57.018438Z"
    }
   },
   "source": [
    "**Numerical Variables**\n",
    "\n",
    "diff_first_booking_account_created x diff_first_active_first_booking\n",
    "    \n",
    "    remove: diff_first_active_first_booking\n",
    "    \n",
    "year_account_created x year_first_active\n",
    "\n",
    "    remove: year_first_active\n",
    "        \n",
    "month_account_created x weekofyear_account_created\n",
    "\n",
    "    remove: weekofyear_account_created\n",
    "    \n",
    "month_account_created x month_first_active\n",
    "\n",
    "    remove: month_first_active\n",
    "\n",
    "month_account_created x weekofyear_first_active\n",
    "\n",
    "    remove: weekofyear_first_active\n",
    "    \n",
    "day_account_created x day_first_active\n",
    "\n",
    "    remove: day_first_active\n",
    "    \n",
    "dayofweek_account_created x dayofweek_first_active\n",
    "\n",
    "    remove: dayofweek_first_active\n",
    "    \n",
    "weekofyear_account_created x month_first_active\n",
    "    \n",
    "    remove: month_first_active\n",
    "\n",
    "weekofyear_account_created x weekofyear_first_active\n",
    "\n",
    "    remove: weekofyear_first_active\n",
    "    \n",
    "month_first_active x weekofyear_first_active\n",
    "\n",
    "    remove: weekofyear_first_active\n",
    "    \n",
    "month_first_booking x weekofyear_first_booking\n",
    "\n",
    "    remove: weekofyear_first_booking"
   ]
  },
  {
   "cell_type": "markdown",
   "id": "444b2eec",
   "metadata": {
    "ExecuteTime": {
     "end_time": "2022-03-10T23:06:40.953013Z",
     "start_time": "2022-03-10T23:06:40.945011Z"
    }
   },
   "source": [
    "**Categorical Variables**\n",
    "\n",
    "affiliate_channel x affiliate_provider\n",
    "\n",
    "    remove: affiliate_provider\n",
    "\n",
    "signup_app x first_device_type\n",
    "\n",
    "    remove: first_device_type\n",
    "\n",
    "first_device_type x first_browser\n",
    "\n",
    "    remove: first_browser"
   ]
  },
  {
   "cell_type": "markdown",
   "id": "13e25982",
   "metadata": {},
   "source": [
    "### 4.3.2. Manual Attributes Selection"
   ]
  },
  {
   "cell_type": "code",
   "execution_count": 97,
   "id": "db072579",
   "metadata": {
    "ExecuteTime": {
     "end_time": "2022-04-02T19:39:07.830180Z",
     "start_time": "2022-04-02T19:39:07.810179Z"
    }
   },
   "outputs": [],
   "source": [
    "# high correlation columns\n",
    "cols_correlation = ['diff_first_active_first_booking',\n",
    "                    'year_first_active',\n",
    "                    'weekofyear_account_created',\n",
    "                    'month_first_active',\n",
    "                    'day_first_active',\n",
    "                    'dayofweek_first_active',\n",
    "                    'weekofyear_first_active',\n",
    "                    'weekofyear_first_booking',\n",
    "                    'affiliate_provider',\n",
    "                    'first_device_type',\n",
    "                    'first_browser']\n",
    "\n",
    "# columns with a unique value (>95%)\n",
    "cols_unique_values = ['language']\n",
    "\n",
    "# columns to be manual droped\n",
    "cols_manual_select = cols_correlation + cols_unique_values"
   ]
  },
  {
   "cell_type": "markdown",
   "id": "868b4156",
   "metadata": {},
   "source": [
    "# 5.0. Data Preparation"
   ]
  },
  {
   "cell_type": "code",
   "execution_count": 123,
   "id": "5fcd8687",
   "metadata": {
    "ExecuteTime": {
     "end_time": "2022-04-02T19:58:40.144721Z",
     "start_time": "2022-04-02T19:58:39.961717Z"
    }
   },
   "outputs": [],
   "source": [
    "df05_users = df04_users.copy()"
   ]
  },
  {
   "cell_type": "markdown",
   "id": "04c973ad",
   "metadata": {},
   "source": [
    "## 5.1. Encoding"
   ]
  },
  {
   "cell_type": "code",
   "execution_count": 124,
   "id": "de4d23a4",
   "metadata": {
    "ExecuteTime": {
     "end_time": "2022-04-02T19:58:40.208717Z",
     "start_time": "2022-04-02T19:58:40.150718Z"
    }
   },
   "outputs": [
    {
     "data": {
      "text/plain": [
       "gender                     object\n",
       "signup_method              object\n",
       "language                   object\n",
       "affiliate_channel          object\n",
       "affiliate_provider         object\n",
       "first_affiliate_tracked    object\n",
       "signup_app                 object\n",
       "first_device_type          object\n",
       "first_browser              object\n",
       "country_destination        object\n",
       "dtype: object"
      ]
     },
     "execution_count": 124,
     "metadata": {},
     "output_type": "execute_result"
    }
   ],
   "source": [
    "df05_users.select_dtypes(exclude=['int64', 'float64']).dtypes"
   ]
  },
  {
   "cell_type": "code",
   "execution_count": 125,
   "id": "3b3a65f5",
   "metadata": {
    "ExecuteTime": {
     "end_time": "2022-04-02T19:58:40.224719Z",
     "start_time": "2022-04-02T19:58:40.213719Z"
    }
   },
   "outputs": [],
   "source": [
    "te = TargetEncoder()\n",
    "\n",
    "c = {'NDF': 0, 'US': 1, 'other': 2, 'CA': 3, 'FR': 4, 'ES': 5, 'GB': 6, 'IT': 7, 'PT': 8, 'NL': 9, 'DE':10, 'AU': 11}"
   ]
  },
  {
   "cell_type": "markdown",
   "id": "e7c2aefe",
   "metadata": {},
   "source": [
    "### 5.2.1. Imbalanced Data"
   ]
  },
  {
   "cell_type": "code",
   "execution_count": 126,
   "id": "4d2c6abd",
   "metadata": {
    "ExecuteTime": {
     "end_time": "2022-04-02T19:58:41.532666Z",
     "start_time": "2022-04-02T19:58:40.231717Z"
    }
   },
   "outputs": [],
   "source": [
    "# gender - One Hot Encoder\n",
    "df05_users = pd.get_dummies(df05_users, prefix=['gender'], columns=['gender'])\n",
    "\n",
    "# signup_method - One Hot Enconder\n",
    "df05_users = pd.get_dummies(df05_users, prefix=['signup_method'], columns=['signup_method'])\n",
    "\n",
    "# signup_app - One Hot Encoder\n",
    "df05_users = pd.get_dummies(df05_users, prefix=['signup_app'], columns=['signup_app'])\n",
    "\n",
    "# affiliate_channel - Target Encoder\n",
    "df05_users['affiliate_channel'] = te.fit_transform(df05_users[['affiliate_channel']].values, \n",
    "                                                   df05_users['country_destination'].map(c))\n",
    "\n",
    "# first_affiliate_tracked - Target Encoder\n",
    "df05_users['first_affiliate_tracked'] = te.fit_transform(df05_users[['first_affiliate_tracked']].values, \n",
    "                                                         df05_users['country_destination'].map(c))"
   ]
  },
  {
   "cell_type": "code",
   "execution_count": 127,
   "id": "74af9ee8",
   "metadata": {
    "ExecuteTime": {
     "end_time": "2022-04-02T19:58:42.806371Z",
     "start_time": "2022-04-02T19:58:41.532666Z"
    }
   },
   "outputs": [],
   "source": [
    "# language - Target Encoder\n",
    "df05_users['language'] = te.fit_transform(df05_users[['language']].values, \n",
    "                                          df05_users['country_destination'].map(c))\n",
    "\n",
    "# affiliate_provider - Target Encoder\n",
    "df05_users['affiliate_provider'] = te.fit_transform(df05_users[['affiliate_provider']].values, \n",
    "                                                    df05_users['country_destination'].map(c))\n",
    "\n",
    "# first_device_type - Target Encoder\n",
    "df05_users['first_device_type'] = te.fit_transform(df05_users[['first_device_type']].values, \n",
    "                                                   df05_users['country_destination'].map(c))\n",
    "\n",
    "# first_browser - Target Encoder\n",
    "df05_users['first_browser'] = te.fit_transform(df05_users[['first_browser']].values, \n",
    "                                               df05_users['country_destination'].map(c))"
   ]
  },
  {
   "cell_type": "markdown",
   "id": "213337d6",
   "metadata": {},
   "source": [
    "## 5.2. Rescaling"
   ]
  },
  {
   "cell_type": "code",
   "execution_count": 128,
   "id": "510dde52",
   "metadata": {
    "ExecuteTime": {
     "end_time": "2022-04-02T19:58:42.886320Z",
     "start_time": "2022-04-02T19:58:42.809320Z"
    }
   },
   "outputs": [
    {
     "data": {
      "text/plain": [
       "age                                     int64\n",
       "signup_flow                             int64\n",
       "language                              float64\n",
       "affiliate_channel                     float64\n",
       "affiliate_provider                    float64\n",
       "first_affiliate_tracked               float64\n",
       "first_device_type                     float64\n",
       "first_browser                         float64\n",
       "diff_account_created_first_active       int64\n",
       "diff_first_booking_account_created      int64\n",
       "diff_first_active_first_booking         int64\n",
       "year_account_created                    int64\n",
       "month_account_created                   int64\n",
       "day_account_created                     int64\n",
       "dayofweek_account_created               int64\n",
       "weekofyear_account_created              int64\n",
       "year_first_active                       int64\n",
       "month_first_active                      int64\n",
       "day_first_active                        int64\n",
       "dayofweek_first_active                  int64\n",
       "weekofyear_first_active                 int64\n",
       "year_first_booking                      int64\n",
       "month_first_booking                     int64\n",
       "day_first_booking                       int64\n",
       "dayofweek_first_booking                 int64\n",
       "weekofyear_first_booking                int64\n",
       "dtype: object"
      ]
     },
     "execution_count": 128,
     "metadata": {},
     "output_type": "execute_result"
    }
   ],
   "source": [
    "df05_users.select_dtypes(include=['int64', 'float64']).dtypes"
   ]
  },
  {
   "cell_type": "code",
   "execution_count": 129,
   "id": "9bc7b72e",
   "metadata": {
    "ExecuteTime": {
     "end_time": "2022-04-02T19:58:42.902318Z",
     "start_time": "2022-04-02T19:58:42.890321Z"
    }
   },
   "outputs": [],
   "source": [
    "ss = pp.StandardScaler()\n",
    "\n",
    "rs = pp.RobustScaler()\n",
    "\n",
    "mms = pp.MinMaxScaler()"
   ]
  },
  {
   "cell_type": "markdown",
   "id": "fe66d51f",
   "metadata": {},
   "source": [
    "### 5.3.1. Imbalanced Data"
   ]
  },
  {
   "cell_type": "code",
   "execution_count": 130,
   "id": "3b40432a",
   "metadata": {
    "ExecuteTime": {
     "end_time": "2022-04-02T19:58:43.157418Z",
     "start_time": "2022-04-02T19:58:42.906319Z"
    }
   },
   "outputs": [],
   "source": [
    "# age - Standardization\n",
    "df05_users['age'] = ss.fit_transform(df05_users[['age']].values)\n",
    "\n",
    "# signup_flow - Robust Scaler\n",
    "df05_users['signup_flow'] = rs.fit_transform(df05_users[['signup_flow']].values)\n",
    "\n",
    "# diff_account_created_first_active - Robust Scaler\n",
    "df05_users['diff_account_created_first_active'] = rs.fit_transform(df05_users[['diff_account_created_first_active']].values)\n",
    "\n",
    "# diff_first_booking_account_created -Robust Scaler\n",
    "df05_users['diff_first_booking_account_created'] = rs.fit_transform(df05_users[['diff_first_booking_account_created']].values)\n",
    "\n",
    "# year_account_created - Min-Max-Scaler\n",
    "df05_users['year_account_created'] = mms.fit_transform(df05_users[['year_account_created']].values)\n",
    "\n",
    "# year_first_booking\n",
    "df05_users['year_first_booking'] = mms.fit_transform(df05_users[['year_first_booking']].values)"
   ]
  },
  {
   "cell_type": "code",
   "execution_count": 131,
   "id": "b968b378",
   "metadata": {
    "ExecuteTime": {
     "end_time": "2022-04-02T19:58:43.269432Z",
     "start_time": "2022-04-02T19:58:43.161318Z"
    }
   },
   "outputs": [],
   "source": [
    "# diff_first_active_first_booking - Robust Scaler\n",
    "df05_users['diff_first_active_first_booking'] = rs.fit_transform(df05_users[['diff_first_active_first_booking']].values)\n",
    "\n",
    "# year_first_active - Min-Max-Scaler\n",
    "df05_users['year_first_active'] = mms.fit_transform(df05_users[['year_first_active']].values)"
   ]
  },
  {
   "cell_type": "markdown",
   "id": "f2b386f7",
   "metadata": {},
   "source": [
    "## 5.3. Transformation"
   ]
  },
  {
   "cell_type": "code",
   "execution_count": 132,
   "id": "373566c8",
   "metadata": {
    "ExecuteTime": {
     "end_time": "2022-04-02T19:58:43.349318Z",
     "start_time": "2022-04-02T19:58:43.275321Z"
    }
   },
   "outputs": [
    {
     "data": {
      "text/plain": [
       "age                                   float64\n",
       "signup_flow                           float64\n",
       "language                              float64\n",
       "affiliate_channel                     float64\n",
       "affiliate_provider                    float64\n",
       "first_affiliate_tracked               float64\n",
       "first_device_type                     float64\n",
       "first_browser                         float64\n",
       "diff_account_created_first_active     float64\n",
       "diff_first_booking_account_created    float64\n",
       "diff_first_active_first_booking       float64\n",
       "year_account_created                  float64\n",
       "month_account_created                   int64\n",
       "day_account_created                     int64\n",
       "dayofweek_account_created               int64\n",
       "weekofyear_account_created              int64\n",
       "year_first_active                     float64\n",
       "month_first_active                      int64\n",
       "day_first_active                        int64\n",
       "dayofweek_first_active                  int64\n",
       "weekofyear_first_active                 int64\n",
       "year_first_booking                    float64\n",
       "month_first_booking                     int64\n",
       "day_first_booking                       int64\n",
       "dayofweek_first_booking                 int64\n",
       "weekofyear_first_booking                int64\n",
       "dtype: object"
      ]
     },
     "execution_count": 132,
     "metadata": {},
     "output_type": "execute_result"
    }
   ],
   "source": [
    "df05_users.select_dtypes(include=['int64', 'float64']).dtypes"
   ]
  },
  {
   "cell_type": "markdown",
   "id": "8145af8c",
   "metadata": {},
   "source": [
    "### 5.4.1. Imbalanced Data"
   ]
  },
  {
   "cell_type": "code",
   "execution_count": 133,
   "id": "017adcfc",
   "metadata": {
    "ExecuteTime": {
     "end_time": "2022-04-02T19:58:47.630367Z",
     "start_time": "2022-04-02T19:58:43.352318Z"
    }
   },
   "outputs": [],
   "source": [
    "# month_account_created\n",
    "df05_users['month_account_created_sin'] = df05_users['month_account_created'].apply(lambda x: np.sin(x*(2*np.pi/52)))\n",
    "df05_users['month_account_created_cos'] = df05_users['month_account_created'].apply(lambda x: np.cos(x*(2*np.pi/52)))\n",
    "\n",
    "# day_account_created\n",
    "df05_users['day_account_created_sin'] = df05_users['day_account_created'].apply(lambda x: np.sin(x*(2*np.pi/31)))\n",
    "df05_users['day_account_created_cos'] = df05_users['day_account_created'].apply(lambda x: np.cos(x*(2*np.pi/31)))\n",
    "\n",
    "# dayofweek_account_created\n",
    "df05_users['dayofweek_account_created_sin'] = df05_users['dayofweek_account_created'].apply(lambda x: np.sin(x*(2*np.pi/7)))\n",
    "df05_users['dayofweek_account_created_cos'] = df05_users['dayofweek_account_created'].apply(lambda x: np.cos(x*(2*np.pi/7)))\n",
    "\n",
    "# month_first_booking\n",
    "df05_users['month_first_booking_sin'] = df05_users['month_first_booking'].apply(lambda x: np.sin(x*(2*np.pi/12)))\n",
    "df05_users['month_first_booking_cos'] = df05_users['month_first_booking'].apply(lambda x: np.cos(x*(2*np.pi/12)))\n",
    "\n",
    "# day_first_booking\n",
    "df05_users['day_first_booking_sin'] = df05_users['day_first_booking'].apply(lambda x: np.sin(x*(2*np.pi/31)))\n",
    "df05_users['day_first_booking_cos'] = df05_users['day_first_booking'].apply(lambda x: np.cos(x*(2*np.pi/31)))\n",
    "\n",
    "# dayofweek_first_booking\n",
    "df05_users['dayofweek_first_booking_sin'] = df05_users['dayofweek_first_booking'].apply(lambda x: np.sin(x*(2*np.pi/7)))\n",
    "df05_users['dayofweek_first_booking_cos'] = df05_users['dayofweek_first_booking'].apply(lambda x: np.cos(x*(2*np.pi/7)))"
   ]
  },
  {
   "cell_type": "code",
   "execution_count": 134,
   "id": "9ef822ae",
   "metadata": {
    "ExecuteTime": {
     "end_time": "2022-04-02T19:58:53.355676Z",
     "start_time": "2022-04-02T19:58:47.634360Z"
    }
   },
   "outputs": [],
   "source": [
    "# weekofyear_account_created\n",
    "df05_users['weekofyear_account_created_sin'] = df05_users['weekofyear_account_created'].apply(lambda x: np.sin(x*(2*np.pi/52))) \n",
    "df05_users['weekofyear_account_created_sin'] = df05_users['weekofyear_account_created'].apply(lambda x: np.cos(x*(2*np.pi/52))) \n",
    "\n",
    "# month_first_active\n",
    "df05_users['month_first_active_sin'] = df05_users['month_first_active'].apply(lambda x: np.sin(x*(2*np.pi/12)))\n",
    "df05_users['month_first_active_cos'] = df05_users['month_first_active'].apply(lambda x: np.cos(x*(2*np.pi/12)))\n",
    "\n",
    "# day_first_active\n",
    "df05_users['day_first_active_sin'] = df05_users['day_first_active'].apply(lambda x: np.sin(x*(2*np.pi/31)))\n",
    "df05_users['day_first_active_cos'] = df05_users['day_first_active'].apply(lambda x: np.cos(x*(2*np.pi/31)))\n",
    "\n",
    "# dayofweek_first_active\n",
    "df05_users['dayofweek_first_active_sin'] = df05_users['dayofweek_first_active'].apply(lambda x: np.sin(x*(2*np.pi/7)))\n",
    "df05_users['dayofweek_first_active_cos'] = df05_users['dayofweek_first_active'].apply(lambda x: np.cos(x*(2*np.pi/7)))\n",
    "\n",
    "# weekofyear_first_active\n",
    "df05_users['weekofyear_first_active_sin'] = df05_users['weekofyear_first_active'].apply(lambda x: np.sin(x*(2*np.pi/52)))\n",
    "df05_users['weekofyear_first_active_cos'] = df05_users['weekofyear_first_active'].apply(lambda x: np.cos(x*(2*np.pi/52)))\n",
    "\n",
    "# weekofyear_first_booking\n",
    "df05_users['weekofyear_first_booking_sin'] = df05_users['weekofyear_first_booking'].apply(lambda x: np.sin(x*(2*np.pi/52)))\n",
    "df05_users['weekofyear_first_booking_cos'] = df05_users['weekofyear_first_booking'].apply(lambda x: np.cos(x*(2*np.pi/52)))"
   ]
  },
  {
   "cell_type": "code",
   "execution_count": 135,
   "id": "3e637bcf",
   "metadata": {
    "ExecuteTime": {
     "end_time": "2022-04-02T19:58:53.512995Z",
     "start_time": "2022-04-02T19:58:53.355676Z"
    }
   },
   "outputs": [],
   "source": [
    "cols_transform = ['month_account_created', 'day_account_created', 'dayofweek_account_created', \n",
    "                  'month_first_booking', 'day_first_booking', 'dayofweek_first_booking', 'weekofyear_account_created', \n",
    "                  'month_first_active', 'day_first_active', 'dayofweek_first_active', 'weekofyear_first_active', \n",
    "                  'weekofyear_first_booking']\n",
    "\n",
    "df05_users = df05_users.drop(columns=cols_transform)"
   ]
  },
  {
   "cell_type": "markdown",
   "id": "31c3435c",
   "metadata": {},
   "source": [
    "## 5.4. Response Variable"
   ]
  },
  {
   "cell_type": "code",
   "execution_count": 136,
   "id": "5b95d5a5",
   "metadata": {
    "ExecuteTime": {
     "end_time": "2022-04-02T19:58:53.672743Z",
     "start_time": "2022-04-02T19:58:53.516744Z"
    }
   },
   "outputs": [],
   "source": [
    "# create OneHotEncoder instance\n",
    "ohe = pp.OneHotEncoder()\n",
    "\n",
    "# ohe hot encoding response feature\n",
    "df_ohe = pd.DataFrame(ohe.fit_transform(df05_users['country_destination'].values.reshape(-1,1)).toarray(),\n",
    "                      columns=ohe.categories_[0],\n",
    "                      index=df05_users.index)\n",
    "\n",
    "# joining encoded response feature to dataset\n",
    "df05_users = pd.concat([df05_users.drop(columns=['country_destination']), df_ohe], axis=1)"
   ]
  },
  {
   "cell_type": "markdown",
   "id": "0d8f6c52",
   "metadata": {
    "ExecuteTime": {
     "end_time": "2022-04-02T14:36:16.578019Z",
     "start_time": "2022-04-02T14:36:16.559024Z"
    }
   },
   "source": [
    "## 5.5. Balanced Dataset"
   ]
  },
  {
   "cell_type": "markdown",
   "id": "beb4dc99",
   "metadata": {},
   "source": [
    "### 5.5.1. Random Undersampling"
   ]
  },
  {
   "cell_type": "code",
   "execution_count": 137,
   "id": "78d9a2e3",
   "metadata": {
    "ExecuteTime": {
     "end_time": "2022-04-02T19:58:54.713644Z",
     "start_time": "2022-04-02T19:58:53.675753Z"
    }
   },
   "outputs": [],
   "source": [
    "# define sampler - random under-sampling\n",
    "undersampling = us.RandomUnderSampler(sampling_strategy='not minority', random_state=32)\n",
    "\n",
    "# resample the dataset\n",
    "X_under, y_under = undersampling.fit_resample(df05_users.drop(columns=ohe.categories_[0]), \n",
    "                                              ohe.inverse_transform(df05_users[ohe.categories_[0]]))"
   ]
  },
  {
   "cell_type": "code",
   "execution_count": 138,
   "id": "e08f332d",
   "metadata": {
    "ExecuteTime": {
     "end_time": "2022-04-02T19:58:54.808633Z",
     "start_time": "2022-04-02T19:58:54.716638Z"
    },
    "cell_style": "split"
   },
   "outputs": [
    {
     "data": {
      "text/plain": [
       "NDF      119187\n",
       "US        60129\n",
       "other      9816\n",
       "FR         4840\n",
       "IT         2742\n",
       "GB         2259\n",
       "ES         2183\n",
       "CA         1369\n",
       "DE         1024\n",
       "NL          739\n",
       "AU          519\n",
       "PT          212\n",
       "dtype: int64"
      ]
     },
     "execution_count": 138,
     "metadata": {},
     "output_type": "execute_result"
    }
   ],
   "source": [
    "pd.DataFrame(ohe.inverse_transform(df05_users[ohe.categories_[0]])).value_counts()"
   ]
  },
  {
   "cell_type": "code",
   "execution_count": 139,
   "id": "c3c99793",
   "metadata": {
    "ExecuteTime": {
     "end_time": "2022-04-02T19:58:54.840643Z",
     "start_time": "2022-04-02T19:58:54.812638Z"
    },
    "cell_style": "split"
   },
   "outputs": [
    {
     "data": {
      "text/plain": [
       "AU       212\n",
       "CA       212\n",
       "DE       212\n",
       "ES       212\n",
       "FR       212\n",
       "GB       212\n",
       "IT       212\n",
       "NDF      212\n",
       "NL       212\n",
       "PT       212\n",
       "US       212\n",
       "other    212\n",
       "dtype: int64"
      ]
     },
     "execution_count": 139,
     "metadata": {},
     "output_type": "execute_result"
    }
   ],
   "source": [
    "pd.DataFrame(y_under).value_counts()"
   ]
  },
  {
   "cell_type": "code",
   "execution_count": 140,
   "id": "5189bbdc",
   "metadata": {
    "ExecuteTime": {
     "end_time": "2022-04-02T19:58:54.872637Z",
     "start_time": "2022-04-02T19:58:54.847639Z"
    }
   },
   "outputs": [],
   "source": [
    "# convert back to encoding representation\n",
    "y_under = pd.DataFrame(ohe.transform(y_under.reshape(-1,1)).toarray(),\n",
    "                       columns=ohe.categories_[0],\n",
    "                       index=X_under.index)\n",
    "\n",
    "# join dataset\n",
    "df05_users_under = pd.concat([X_under, y_under], axis=1)"
   ]
  },
  {
   "cell_type": "markdown",
   "id": "b2a63ee2",
   "metadata": {},
   "source": [
    "### 5.5.2. Random Oversampling"
   ]
  },
  {
   "cell_type": "code",
   "execution_count": 141,
   "id": "961b30a3",
   "metadata": {
    "ExecuteTime": {
     "end_time": "2022-04-02T19:58:58.317988Z",
     "start_time": "2022-04-02T19:58:54.875637Z"
    }
   },
   "outputs": [],
   "source": [
    "# define sampler - random over-sampling\n",
    "oversampling = osamp.RandomOverSampler(sampling_strategy='not majority', random_state=32)\n",
    "\n",
    "# resample the dataset\n",
    "X_over, y_over = oversampling.fit_resample(df05_users.drop(columns=ohe.categories_[0]), \n",
    "                                           ohe.inverse_transform(df05_users[ohe.categories_[0]]))"
   ]
  },
  {
   "cell_type": "code",
   "execution_count": 142,
   "id": "7b5ed6c5",
   "metadata": {
    "ExecuteTime": {
     "end_time": "2022-04-02T19:58:58.429244Z",
     "start_time": "2022-04-02T19:58:58.317988Z"
    },
    "cell_style": "split"
   },
   "outputs": [
    {
     "data": {
      "text/plain": [
       "NDF      119187\n",
       "US        60129\n",
       "other      9816\n",
       "FR         4840\n",
       "IT         2742\n",
       "GB         2259\n",
       "ES         2183\n",
       "CA         1369\n",
       "DE         1024\n",
       "NL          739\n",
       "AU          519\n",
       "PT          212\n",
       "dtype: int64"
      ]
     },
     "execution_count": 142,
     "metadata": {},
     "output_type": "execute_result"
    }
   ],
   "source": [
    "pd.DataFrame(ohe.inverse_transform(df05_users[ohe.categories_[0]])).value_counts()"
   ]
  },
  {
   "cell_type": "code",
   "execution_count": 143,
   "id": "f9882692",
   "metadata": {
    "ExecuteTime": {
     "end_time": "2022-04-02T19:58:58.588245Z",
     "start_time": "2022-04-02T19:58:58.433247Z"
    },
    "cell_style": "split"
   },
   "outputs": [
    {
     "data": {
      "text/plain": [
       "AU       119187\n",
       "CA       119187\n",
       "DE       119187\n",
       "ES       119187\n",
       "FR       119187\n",
       "GB       119187\n",
       "IT       119187\n",
       "NDF      119187\n",
       "NL       119187\n",
       "PT       119187\n",
       "US       119187\n",
       "other    119187\n",
       "dtype: int64"
      ]
     },
     "execution_count": 143,
     "metadata": {},
     "output_type": "execute_result"
    }
   ],
   "source": [
    "pd.DataFrame(y_over).value_counts()"
   ]
  },
  {
   "cell_type": "code",
   "execution_count": 144,
   "id": "3e2fe9c2",
   "metadata": {
    "ExecuteTime": {
     "end_time": "2022-04-02T19:58:59.400547Z",
     "start_time": "2022-04-02T19:58:58.592251Z"
    }
   },
   "outputs": [],
   "source": [
    "# convert back to encodign representation\n",
    "y_over = pd.DataFrame(ohe.transform(y_over.reshape(-1,1)).toarray(), \n",
    "                      columns=ohe.categories_[0], \n",
    "                      index=X_over.index)\n",
    "\n",
    "# join dataset\n",
    "df05_users_over = pd.concat([X_over, y_over], axis=1)"
   ]
  },
  {
   "cell_type": "markdown",
   "id": "f7e2a928",
   "metadata": {},
   "source": [
    "### 5.5.3. SMOTE + TOMEKLINK"
   ]
  },
  {
   "cell_type": "code",
   "execution_count": 145,
   "id": "5c0e8991",
   "metadata": {
    "ExecuteTime": {
     "end_time": "2022-04-03T02:31:07.062646Z",
     "start_time": "2022-04-02T19:58:59.400547Z"
    }
   },
   "outputs": [],
   "source": [
    "# define sample - over-sampling using SMOTE and cleaning using Tomek Links\n",
    "combine = comb.SMOTETomek(sampling_strategy='auto', random_state=32, n_jobs=-1)\n",
    "\n",
    "# resample the dataset\n",
    "X_comb, y_comb = combine.fit_resample(df05_users.drop(columns=ohe.categories_[0]), \n",
    "                                      ohe.inverse_transform(df05_users[ohe.categories_[0]]))"
   ]
  },
  {
   "cell_type": "code",
   "execution_count": 146,
   "id": "1c50e982",
   "metadata": {
    "ExecuteTime": {
     "end_time": "2022-04-03T02:31:21.028007Z",
     "start_time": "2022-04-03T02:31:07.078269Z"
    },
    "cell_style": "split"
   },
   "outputs": [
    {
     "data": {
      "text/plain": [
       "NDF      119187\n",
       "US        60129\n",
       "other      9816\n",
       "FR         4840\n",
       "IT         2742\n",
       "GB         2259\n",
       "ES         2183\n",
       "CA         1369\n",
       "DE         1024\n",
       "NL          739\n",
       "AU          519\n",
       "PT          212\n",
       "dtype: int64"
      ]
     },
     "execution_count": 146,
     "metadata": {},
     "output_type": "execute_result"
    }
   ],
   "source": [
    "pd.DataFrame(ohe.inverse_transform(df05_users[ohe.categories_[0]])).value_counts()"
   ]
  },
  {
   "cell_type": "code",
   "execution_count": 147,
   "id": "d5b90c42",
   "metadata": {
    "ExecuteTime": {
     "end_time": "2022-04-03T02:31:21.187336Z",
     "start_time": "2022-04-03T02:31:21.028007Z"
    },
    "cell_style": "split"
   },
   "outputs": [
    {
     "data": {
      "text/plain": [
       "AU       119183\n",
       "NL       119179\n",
       "NDF      119174\n",
       "PT       119174\n",
       "DE       119170\n",
       "CA       119148\n",
       "ES       119111\n",
       "GB       119091\n",
       "IT       119086\n",
       "FR       118991\n",
       "other    118706\n",
       "US       118681\n",
       "dtype: int64"
      ]
     },
     "execution_count": 147,
     "metadata": {},
     "output_type": "execute_result"
    }
   ],
   "source": [
    "pd.DataFrame(y_comb).value_counts()"
   ]
  },
  {
   "cell_type": "code",
   "execution_count": 148,
   "id": "be99cd2d",
   "metadata": {
    "ExecuteTime": {
     "end_time": "2022-04-03T02:31:22.263057Z",
     "start_time": "2022-04-03T02:31:21.193321Z"
    }
   },
   "outputs": [],
   "source": [
    "# convert back to encoding representation\n",
    "y_comb = pd.DataFrame(ohe.transform(y_comb.reshape(-1,1)).toarray(), \n",
    "                      columns=ohe.categories_[0], \n",
    "                      index=X_comb.index)\n",
    "\n",
    "# join dataset\n",
    "df05_users_comb = pd.concat([X_comb, y_comb], axis=1)"
   ]
  },
  {
   "cell_type": "markdown",
   "id": "56417dc6",
   "metadata": {},
   "source": [
    "# 6.0. Feature Selection"
   ]
  },
  {
   "cell_type": "code",
   "execution_count": 149,
   "id": "924a6eec",
   "metadata": {
    "ExecuteTime": {
     "end_time": "2022-04-03T02:32:05.421231Z",
     "start_time": "2022-04-03T02:31:22.263057Z"
    }
   },
   "outputs": [],
   "source": [
    "df06_users = df05_users.copy()\n",
    "\n",
    "df06_users_under = df05_users_under.copy()\n",
    "df06_users_over = df05_users_over.copy()\n",
    "df06_users_comb = df05_users_comb.copy()"
   ]
  },
  {
   "cell_type": "markdown",
   "id": "eddfceb2",
   "metadata": {},
   "source": [
    "## 6.1. Split Dataframe into Training and Test Dataset"
   ]
  },
  {
   "cell_type": "code",
   "execution_count": 150,
   "id": "c4bc27ff",
   "metadata": {
    "ExecuteTime": {
     "end_time": "2022-04-03T02:32:16.671546Z",
     "start_time": "2022-04-03T02:32:05.468107Z"
    }
   },
   "outputs": [],
   "source": [
    "# training dataset\n",
    "X = df06_users.drop( columns=ohe.categories_[0] )\n",
    "X_under = df06_users_under.drop( columns=ohe.categories_[0] )\n",
    "X_over = df06_users_over.drop( columns=ohe.categories_[0] )\n",
    "X_comb = df06_users_comb.drop( columns=ohe.categories_[0] )\n",
    "\n",
    "#  training response dataset\n",
    "y = df06_users[ohe.categories_[0]]\n",
    "y_under = df06_users_under[ohe.categories_[0]]\n",
    "y_over = df06_users_over[ohe.categories_[0]]\n",
    "y_comb = df06_users_comb[ohe.categories_[0]]"
   ]
  },
  {
   "cell_type": "code",
   "execution_count": 151,
   "id": "2526e910",
   "metadata": {
    "ExecuteTime": {
     "end_time": "2022-04-03T02:32:20.889111Z",
     "start_time": "2022-04-03T02:32:16.686530Z"
    }
   },
   "outputs": [],
   "source": [
    "# Split dataset into training and test (validation)\n",
    "X_train, X_test, y_train, y_test = ms.train_test_split(X, y, test_size=0.2, random_state=32)\n",
    "\n",
    "X_train_under, X_test_under, y_train_under, y_test_under = ms.train_test_split(X_under, y_under, test_size=0.2, random_state=32)\n",
    "\n",
    "X_train_over, X_test_over, y_train_over, y_test_over = ms.train_test_split(X_over, y_over, test_size=0.2, random_state=32)\n",
    "\n",
    "X_train_comb, X_test_comb, y_train_comb, y_test_comb = ms.train_test_split(X_comb, y_comb, test_size=0.2, random_state=32)"
   ]
  },
  {
   "cell_type": "markdown",
   "id": "2e130f38",
   "metadata": {},
   "source": [
    "## 6.2. Manual Selection - Exploratory Data Analysis"
   ]
  },
  {
   "cell_type": "code",
   "execution_count": 152,
   "id": "9f3034da",
   "metadata": {
    "ExecuteTime": {
     "end_time": "2022-04-03T02:32:21.027125Z",
     "start_time": "2022-04-03T02:32:20.967561Z"
    },
    "code_folding": []
   },
   "outputs": [],
   "source": [
    "# transform columns name in new format after transformation\n",
    "cols_manual_select_transform = cols_manual_select.copy()\n",
    "\n",
    "# list of attributes transform im section 5.3.\n",
    "cols_transform = ['weekofyear_account_created_sin', 'weekofyear_account_created_sin',\n",
    "                  'month_first_active_sin', 'month_first_active_cos',\n",
    "                  'day_first_active_sin', 'day_first_active_cos',\n",
    "                  'dayofweek_first_active_sin', 'dayofweek_first_active_cos', \n",
    "                  'weekofyear_first_active_sin', 'weekofyear_first_active_cos',\n",
    "                  'weekofyear_first_booking_sin', 'weekofyear_first_booking_cos']\n",
    "\n",
    "# add atributes transform\n",
    "for attributes in cols_transform:\n",
    "    cols_manual_select_transform.append(attributes)\n",
    "\n",
    "# attributes select to be discard in EDA\n",
    "cols_discard = ['weekofyear_first_active', 'day_first_active', 'dayofweek_first_active', \n",
    "                'weekofyear_first_booking', 'weekofyear_account_created', 'month_first_active']\n",
    "\n",
    "# remove atributes select in EDA\n",
    "for attributes in cols_discard:\n",
    "    cols_manual_select_transform.remove(attributes)"
   ]
  },
  {
   "cell_type": "code",
   "execution_count": 153,
   "id": "a759e77d",
   "metadata": {
    "ExecuteTime": {
     "end_time": "2022-04-03T02:32:21.906018Z",
     "start_time": "2022-04-03T02:32:21.035099Z"
    }
   },
   "outputs": [],
   "source": [
    "# imbalanced dataset\n",
    "X_train_manual_select = X_train.drop(columns=cols_manual_select_transform)\n",
    "X_test_manual_select = X_test.drop(columns=cols_manual_select_transform)\n",
    "\n",
    "# random undersampling\n",
    "X_train_under_manual_select = X_train_under.drop(columns=cols_manual_select_transform)\n",
    "X_test_under_manual_select = X_test_under.drop(columns=cols_manual_select_transform)\n",
    "\n",
    "# random oversampling\n",
    "X_train_over_manual_select = X_train_over.drop(columns=cols_manual_select_transform)\n",
    "X_test_over_manual_select = X_test_over.drop(columns=cols_manual_select_transform)\n",
    "\n",
    "# SMOTE + Tomek Links\n",
    "X_train_comb_manual_select = X_train_comb.drop(columns=cols_manual_select_transform)\n",
    "X_test_comb_manual_select = X_test_comb.drop(columns=cols_manual_select_transform)"
   ]
  },
  {
   "cell_type": "markdown",
   "id": "c9ee0881",
   "metadata": {},
   "source": [
    "# 7.0. Machine Learing Model"
   ]
  },
  {
   "cell_type": "code",
   "execution_count": 154,
   "id": "b9dfd8fe",
   "metadata": {
    "ExecuteTime": {
     "end_time": "2022-04-03T02:32:21.979248Z",
     "start_time": "2022-04-03T02:32:21.916530Z"
    }
   },
   "outputs": [],
   "source": [
    "x_train = X_train\n",
    "x_test = X_test\n",
    "\n",
    "x_train_under = X_train_under\n",
    "x_test_under = X_test_under\n",
    "\n",
    "x_train_over = X_train_over\n",
    "x_test_over = X_test_over\n",
    "\n",
    "x_train_comb = X_train_comb\n",
    "x_test_comb = X_test_comb"
   ]
  },
  {
   "cell_type": "markdown",
   "id": "b3107f01",
   "metadata": {},
   "source": [
    "## 7.1. Baseline Model - Random"
   ]
  },
  {
   "cell_type": "code",
   "execution_count": 155,
   "id": "c5ee811a",
   "metadata": {
    "ExecuteTime": {
     "end_time": "2022-04-03T02:32:22.474266Z",
     "start_time": "2022-04-03T02:32:22.052383Z"
    }
   },
   "outputs": [],
   "source": [
    "# list of country destination\n",
    "country_list = ohe.categories_[0].tolist()\n",
    "\n",
    "# number of rows\n",
    "k_num = y_test.shape[0]\n",
    "\n",
    "# proportion of country destinations for imbalanced result\n",
    "df_ohe = pd.DataFrame(ohe.inverse_transform(df06_users[ohe.categories_[0]]))\n",
    "country_weights = df_ohe.value_counts(normalize=True).sort_index().tolist()\n",
    "\n",
    "# prediction\n",
    "yhat_random = random.choices(population=country_list,\n",
    "                             weights=country_weights,\n",
    "                             k=k_num)\n",
    "\n",
    "# invert validation response\n",
    "y_test_random = ohe.inverse_transform(y_test)"
   ]
  },
  {
   "cell_type": "markdown",
   "id": "1645a305",
   "metadata": {},
   "source": [
    "### 7.1.1. Baseline Model - Performance"
   ]
  },
  {
   "cell_type": "code",
   "execution_count": 156,
   "id": "d032e4c1",
   "metadata": {
    "ExecuteTime": {
     "end_time": "2022-04-03T02:32:25.418457Z",
     "start_time": "2022-04-03T02:32:22.474266Z"
    }
   },
   "outputs": [
    {
     "name": "stdout",
     "output_type": "stream",
     "text": [
      "Accuracy 0.4245683347966052\n",
      "Balanced Accuracy: 0.08239785949787269\n",
      "Kappa Score: -0.002413874332821919\n",
      "              precision    recall  f1-score   support\n",
      "\n",
      "          AU       0.00      0.00      0.00        98\n",
      "          CA       0.00      0.00      0.00       283\n",
      "          DE       0.00      0.00      0.00       227\n",
      "          ES       0.01      0.01      0.01       433\n",
      "          FR       0.03      0.02      0.03       963\n",
      "          GB       0.01      0.01      0.01       469\n",
      "          IT       0.01      0.01      0.01       539\n",
      "         NDF       0.57      0.58      0.58     23643\n",
      "          NL       0.00      0.00      0.00       156\n",
      "          PT       0.00      0.00      0.00        36\n",
      "          US       0.30      0.29      0.29     12192\n",
      "       other       0.05      0.05      0.05      1965\n",
      "\n",
      "    accuracy                           0.42     41004\n",
      "   macro avg       0.08      0.08      0.08     41004\n",
      "weighted avg       0.42      0.42      0.42     41004\n",
      "\n"
     ]
    },
    {
     "data": {
      "image/png": "[encoded data removed]",
      "text/plain": [
       "<Figure size 864x864 with 2 Axes>"
      ]
     },
     "metadata": {
      "needs_background": "light"
     },
     "output_type": "display_data"
    }
   ],
   "source": [
    "# Accuracy\n",
    "acc_random = m.accuracy_score( y_test_random, yhat_random )\n",
    "print(f'Accuracy {acc_random}')\n",
    "\n",
    "# Balanced Accuracy\n",
    "balanced_acc_random = m.balanced_accuracy_score(y_test_random, yhat_random)\n",
    "print(f'Balanced Accuracy: {balanced_acc_random}')\n",
    "\n",
    "# Kappa Metrics\n",
    "kappa_random = m.cohen_kappa_score(y_test_random, yhat_random)\n",
    "print(f'Kappa Score: {kappa_random}')\n",
    "\n",
    "# Classification report\n",
    "print(m.classification_report(y_test_random, yhat_random))\n",
    "\n",
    "# Confusion Matrix\n",
    "mt.plot_confusion_matrix(y_test_random, yhat_random, normalize=False, figsize=(12,12));\n",
    "\n",
    "# Performance\n",
    "baseline_performance = {'model': 'Baseline Model', \n",
    "                        'acc': acc_random, \n",
    "                        'balanced_acc': balanced_acc_random, \n",
    "                        'kappa_store': kappa_random}"
   ]
  },
  {
   "cell_type": "markdown",
   "id": "74175f4b",
   "metadata": {},
   "source": [
    "## 7.2. Neural Network - MLP"
   ]
  },
  {
   "cell_type": "markdown",
   "id": "ff93f528",
   "metadata": {},
   "source": [
    "### 7.2.1. Neural Network - Imbalanced Data"
   ]
  },
  {
   "cell_type": "code",
   "execution_count": 157,
   "id": "ffbcef93",
   "metadata": {
    "ExecuteTime": {
     "end_time": "2022-04-03T02:40:05.291739Z",
     "start_time": "2022-04-03T02:32:25.418457Z"
    },
    "scrolled": true
   },
   "outputs": [
    {
     "name": "stdout",
     "output_type": "stream",
     "text": [
      "Epoch 1/100\n",
      "   1/5126 [..............................] - ETA: 0s - loss: 2.7884 - accuracy: 0.0000e+00WARNING:tensorflow:Callbacks method `on_train_batch_end` is slow compared to the batch time (batch time: 0.0000s vs `on_train_batch_end` time: 0.0067s). Check your callbacks.\n",
      "5126/5126 [==============================] - 5s 898us/step - loss: 0.5197 - accuracy: 0.8711\n",
      "Epoch 2/100\n",
      "5126/5126 [==============================] - 4s 819us/step - loss: 0.4985 - accuracy: 0.8745\n",
      "Epoch 3/100\n",
      "5126/5126 [==============================] - 5s 948us/step - loss: 0.4933 - accuracy: 0.8745\n",
      "Epoch 4/100\n",
      "5126/5126 [==============================] - 5s 967us/step - loss: 0.4893 - accuracy: 0.8745\n",
      "Epoch 5/100\n",
      "5126/5126 [==============================] - 6s 1ms/step - loss: 0.4869 - accuracy: 0.8746\n",
      "Epoch 6/100\n",
      "5126/5126 [==============================] - 5s 999us/step - loss: 0.4850 - accuracy: 0.8746\n",
      "Epoch 7/100\n",
      "5126/5126 [==============================] - 5s 939us/step - loss: 0.4842 - accuracy: 0.8747\n",
      "Epoch 8/100\n",
      "5126/5126 [==============================] - 4s 844us/step - loss: 0.4820 - accuracy: 0.8747\n",
      "Epoch 9/100\n",
      "5126/5126 [==============================] - 4s 829us/step - loss: 0.4836 - accuracy: 0.8747\n",
      "Epoch 10/100\n",
      "5126/5126 [==============================] - 5s 931us/step - loss: 0.4825 - accuracy: 0.8746\n",
      "Epoch 11/100\n",
      "5126/5126 [==============================] - 4s 875us/step - loss: 0.4807 - accuracy: 0.8747\n",
      "Epoch 12/100\n",
      "5126/5126 [==============================] - 4s 828us/step - loss: 0.4822 - accuracy: 0.8746\n",
      "Epoch 13/100\n",
      "5126/5126 [==============================] - 5s 908us/step - loss: 0.4800 - accuracy: 0.8747\n",
      "Epoch 14/100\n",
      "5126/5126 [==============================] - 4s 831us/step - loss: 0.4790 - accuracy: 0.8747\n",
      "Epoch 15/100\n",
      "5126/5126 [==============================] - 4s 823us/step - loss: 0.4782 - accuracy: 0.8747\n",
      "Epoch 16/100\n",
      "5126/5126 [==============================] - 4s 852us/step - loss: 0.4776 - accuracy: 0.8747\n",
      "Epoch 17/100\n",
      "5126/5126 [==============================] - 5s 923us/step - loss: 0.4767 - accuracy: 0.8747\n",
      "Epoch 18/100\n",
      "5126/5126 [==============================] - 4s 834us/step - loss: 0.4774 - accuracy: 0.8747\n",
      "Epoch 19/100\n",
      "5126/5126 [==============================] - 4s 828us/step - loss: 0.4782 - accuracy: 0.8747\n",
      "Epoch 20/100\n",
      "5126/5126 [==============================] - 5s 908us/step - loss: 0.4762 - accuracy: 0.8747\n",
      "Epoch 21/100\n",
      "5126/5126 [==============================] - 5s 888us/step - loss: 0.4750 - accuracy: 0.8747\n",
      "Epoch 22/100\n",
      "5126/5126 [==============================] - 4s 847us/step - loss: 0.4784 - accuracy: 0.8747\n",
      "Epoch 23/100\n",
      "5126/5126 [==============================] - 4s 842us/step - loss: 0.4768 - accuracy: 0.8747\n",
      "Epoch 24/100\n",
      "5126/5126 [==============================] - 5s 912us/step - loss: 0.4764 - accuracy: 0.8748\n",
      "Epoch 25/100\n",
      "5126/5126 [==============================] - 4s 837us/step - loss: 0.4742 - accuracy: 0.8747\n",
      "Epoch 26/100\n",
      "5126/5126 [==============================] - 4s 835us/step - loss: 0.4740 - accuracy: 0.8747\n",
      "Epoch 27/100\n",
      "5126/5126 [==============================] - 4s 831us/step - loss: 0.4742 - accuracy: 0.8747\n",
      "Epoch 28/100\n",
      "5126/5126 [==============================] - 5s 938us/step - loss: 0.4762 - accuracy: 0.8747\n",
      "Epoch 29/100\n",
      "5126/5126 [==============================] - 4s 836us/step - loss: 0.4757 - accuracy: 0.8747\n",
      "Epoch 30/100\n",
      "5126/5126 [==============================] - 4s 838us/step - loss: 0.4740 - accuracy: 0.8747\n",
      "Epoch 31/100\n",
      "5126/5126 [==============================] - 5s 890us/step - loss: 0.4754 - accuracy: 0.8747\n",
      "Epoch 32/100\n",
      "5126/5126 [==============================] - 5s 948us/step - loss: 0.4764 - accuracy: 0.8747\n",
      "Epoch 33/100\n",
      "5126/5126 [==============================] - 4s 874us/step - loss: 0.4738 - accuracy: 0.8747\n",
      "Epoch 34/100\n",
      "5126/5126 [==============================] - 4s 851us/step - loss: 0.4739 - accuracy: 0.8747\n",
      "Epoch 35/100\n",
      "5126/5126 [==============================] - 5s 921us/step - loss: 0.4737 - accuracy: 0.8747\n",
      "Epoch 36/100\n",
      "5126/5126 [==============================] - 4s 836us/step - loss: 0.4743 - accuracy: 0.8748\n",
      "Epoch 37/100\n",
      "5126/5126 [==============================] - 4s 834us/step - loss: 0.4793 - accuracy: 0.8747\n",
      "Epoch 38/100\n",
      "5126/5126 [==============================] - 4s 869us/step - loss: 0.4744 - accuracy: 0.8748\n",
      "Epoch 39/100\n",
      "5126/5126 [==============================] - 5s 887us/step - loss: 0.4737 - accuracy: 0.8748\n",
      "Epoch 40/100\n",
      "5126/5126 [==============================] - 4s 850us/step - loss: 0.4719 - accuracy: 0.8748\n",
      "Epoch 41/100\n",
      "5126/5126 [==============================] - 4s 838us/step - loss: 0.4739 - accuracy: 0.8747\n",
      "Epoch 42/100\n",
      "5126/5126 [==============================] - 5s 942us/step - loss: 0.4734 - accuracy: 0.8748\n",
      "Epoch 43/100\n",
      "5126/5126 [==============================] - 4s 836us/step - loss: 0.4706 - accuracy: 0.8748\n",
      "Epoch 44/100\n",
      "5126/5126 [==============================] - 4s 836us/step - loss: 0.4735 - accuracy: 0.8747\n",
      "Epoch 45/100\n",
      "5126/5126 [==============================] - 4s 833us/step - loss: 0.4740 - accuracy: 0.8748\n",
      "Epoch 46/100\n",
      "5126/5126 [==============================] - 5s 923us/step - loss: 0.4767 - accuracy: 0.8747\n",
      "Epoch 47/100\n",
      "5126/5126 [==============================] - 5s 896us/step - loss: 0.4723 - accuracy: 0.8748\n",
      "Epoch 48/100\n",
      "5126/5126 [==============================] - 4s 836us/step - loss: 0.4730 - accuracy: 0.8747\n",
      "Epoch 49/100\n",
      "5126/5126 [==============================] - 5s 917us/step - loss: 0.4714 - accuracy: 0.8748\n",
      "Epoch 50/100\n",
      "5126/5126 [==============================] - 4s 835us/step - loss: 0.4715 - accuracy: 0.8748\n",
      "Epoch 51/100\n",
      "5126/5126 [==============================] - 4s 834us/step - loss: 0.4733 - accuracy: 0.8748\n",
      "Epoch 52/100\n",
      "5126/5126 [==============================] - 4s 839us/step - loss: 0.4725 - accuracy: 0.8748\n",
      "Epoch 53/100\n",
      "5126/5126 [==============================] - 5s 922us/step - loss: 0.4726 - accuracy: 0.8748\n",
      "Epoch 54/100\n",
      "5126/5126 [==============================] - 4s 838us/step - loss: 0.4705 - accuracy: 0.8748\n",
      "Epoch 55/100\n",
      "5126/5126 [==============================] - 4s 860us/step - loss: 0.4689 - accuracy: 0.8748\n",
      "Epoch 56/100\n",
      "5126/5126 [==============================] - 4s 865us/step - loss: 0.4732 - accuracy: 0.8747\n",
      "Epoch 57/100\n",
      "5126/5126 [==============================] - 5s 1ms/step - loss: 0.4739 - accuracy: 0.8749\n",
      "Epoch 58/100\n",
      "5126/5126 [==============================] - 4s 841us/step - loss: 0.4710 - accuracy: 0.8748\n",
      "Epoch 59/100\n",
      "5126/5126 [==============================] - 4s 847us/step - loss: 0.4713 - accuracy: 0.8748\n",
      "Epoch 60/100\n",
      "5126/5126 [==============================] - 5s 978us/step - loss: 0.4718 - accuracy: 0.8748\n",
      "Epoch 61/100\n",
      "5126/5126 [==============================] - 4s 837us/step - loss: 0.4726 - accuracy: 0.8748\n",
      "Epoch 62/100\n",
      "5126/5126 [==============================] - 4s 841us/step - loss: 0.4713 - accuracy: 0.8749\n",
      "Epoch 63/100\n",
      "5126/5126 [==============================] - 6s 1ms/step - loss: 0.4706 - accuracy: 0.8748\n",
      "Epoch 64/100\n",
      "5126/5126 [==============================] - 4s 870us/step - loss: 0.4686 - accuracy: 0.8749\n",
      "Epoch 65/100\n",
      "5126/5126 [==============================] - 4s 843us/step - loss: 0.4714 - accuracy: 0.8749\n",
      "Epoch 66/100\n",
      "5126/5126 [==============================] - 4s 841us/step - loss: 0.4707 - accuracy: 0.8748\n",
      "Epoch 67/100\n",
      "5126/5126 [==============================] - 5s 977us/step - loss: 0.4699 - accuracy: 0.8748\n",
      "Epoch 68/100\n",
      "5126/5126 [==============================] - 4s 862us/step - loss: 0.4714 - accuracy: 0.8748\n",
      "Epoch 69/100\n",
      "5126/5126 [==============================] - 4s 859us/step - loss: 0.4704 - accuracy: 0.8748\n",
      "Epoch 70/100\n",
      "5126/5126 [==============================] - 5s 935us/step - loss: 0.4694 - accuracy: 0.8749\n",
      "Epoch 71/100\n",
      "5126/5126 [==============================] - 4s 841us/step - loss: 0.4701 - accuracy: 0.8748\n",
      "Epoch 72/100\n",
      "5126/5126 [==============================] - 4s 839us/step - loss: 0.4705 - accuracy: 0.8748\n",
      "Epoch 73/100\n",
      "5126/5126 [==============================] - 5s 894us/step - loss: 0.4690 - accuracy: 0.8749\n",
      "Epoch 74/100\n",
      "5126/5126 [==============================] - 5s 1ms/step - loss: 0.4701 - accuracy: 0.8749\n",
      "Epoch 75/100\n",
      "5126/5126 [==============================] - 4s 859us/step - loss: 0.4702 - accuracy: 0.8748\n"
     ]
    },
    {
     "name": "stdout",
     "output_type": "stream",
     "text": [
      "Epoch 76/100\n",
      "5126/5126 [==============================] - 4s 853us/step - loss: 0.4694 - accuracy: 0.8749\n",
      "Epoch 77/100\n",
      "5126/5126 [==============================] - 5s 931us/step - loss: 0.4709 - accuracy: 0.8748\n",
      "Epoch 78/100\n",
      "5126/5126 [==============================] - 5s 891us/step - loss: 0.4706 - accuracy: 0.8749\n",
      "Epoch 79/100\n",
      "5126/5126 [==============================] - 4s 846us/step - loss: 0.4699 - accuracy: 0.8748\n",
      "Epoch 80/100\n",
      "5126/5126 [==============================] - 4s 850us/step - loss: 0.4683 - accuracy: 0.8749\n",
      "Epoch 81/100\n",
      "5126/5126 [==============================] - 5s 934us/step - loss: 0.4683 - accuracy: 0.8749\n",
      "Epoch 82/100\n",
      "5126/5126 [==============================] - 4s 836us/step - loss: 0.4680 - accuracy: 0.8749\n",
      "Epoch 83/100\n",
      "5126/5126 [==============================] - 4s 850us/step - loss: 0.4695 - accuracy: 0.8749\n",
      "Epoch 84/100\n",
      "5126/5126 [==============================] - 5s 923us/step - loss: 0.4715 - accuracy: 0.8749\n",
      "Epoch 85/100\n",
      "5126/5126 [==============================] - 4s 841us/step - loss: 0.4677 - accuracy: 0.8749\n",
      "Epoch 86/100\n",
      "5126/5126 [==============================] - 5s 910us/step - loss: 0.4702 - accuracy: 0.8749\n",
      "Epoch 87/100\n",
      "5126/5126 [==============================] - 4s 842us/step - loss: 0.4678 - accuracy: 0.8749\n",
      "Epoch 88/100\n",
      "5126/5126 [==============================] - 5s 926us/step - loss: 0.4673 - accuracy: 0.8749\n",
      "Epoch 89/100\n",
      "5126/5126 [==============================] - 4s 841us/step - loss: 0.4690 - accuracy: 0.8748\n",
      "Epoch 90/100\n",
      "5126/5126 [==============================] - 4s 836us/step - loss: 0.4677 - accuracy: 0.8749\n",
      "Epoch 91/100\n",
      "5126/5126 [==============================] - 5s 904us/step - loss: 0.4721 - accuracy: 0.8749\n",
      "Epoch 92/100\n",
      "5126/5126 [==============================] - 4s 866us/step - loss: 0.4681 - accuracy: 0.8749\n",
      "Epoch 93/100\n",
      "5126/5126 [==============================] - 4s 843us/step - loss: 0.4673 - accuracy: 0.8749\n",
      "Epoch 94/100\n",
      "5126/5126 [==============================] - 4s 845us/step - loss: 0.4666 - accuracy: 0.8749\n",
      "Epoch 95/100\n",
      "5126/5126 [==============================] - 5s 976us/step - loss: 0.4683 - accuracy: 0.8748\n",
      "Epoch 96/100\n",
      "5126/5126 [==============================] - 4s 846us/step - loss: 0.4680 - accuracy: 0.8748\n",
      "Epoch 97/100\n",
      "5126/5126 [==============================] - 4s 853us/step - loss: 0.4677 - accuracy: 0.8749\n",
      "Epoch 98/100\n",
      "5126/5126 [==============================] - 5s 900us/step - loss: 0.4684 - accuracy: 0.8749\n",
      "Epoch 99/100\n",
      "5126/5126 [==============================] - 4s 875us/step - loss: 0.4663 - accuracy: 0.8749\n",
      "Epoch 100/100\n",
      "5126/5126 [==============================] - 5s 893us/step - loss: 0.4696 - accuracy: 0.8749\n"
     ]
    },
    {
     "data": {
      "text/plain": [
       "<tensorflow.python.keras.callbacks.History at 0x1fbb0b9ffa0>"
      ]
     },
     "execution_count": 157,
     "metadata": {},
     "output_type": "execute_result"
    }
   ],
   "source": [
    "# model definition\n",
    "model_nn = ml.Sequential()\n",
    "model_nn.add( l.Dense(128, input_dim=x_train.shape[1], activation='relu') )\n",
    "model_nn.add( l.Dense(12, activation='softmax') )\n",
    "\n",
    "# model compile\n",
    "model_nn.compile(loss='categorical_crossentropy', optimizer='adam', metrics=['accuracy'])\n",
    "\n",
    "# train model\n",
    "model_nn.fit(x_train, y_train, epochs=100)"
   ]
  },
  {
   "cell_type": "markdown",
   "id": "ef2f813d",
   "metadata": {},
   "source": [
    "#### 7.2.1.1 Imbalanced Data - Performance"
   ]
  },
  {
   "cell_type": "code",
   "execution_count": 158,
   "id": "ff13f804",
   "metadata": {
    "ExecuteTime": {
     "end_time": "2022-04-03T02:40:09.309796Z",
     "start_time": "2022-04-03T02:40:05.291739Z"
    }
   },
   "outputs": [],
   "source": [
    "# prediction\n",
    "pred_nn = model_nn.predict(x_test)\n",
    "\n",
    "# invert prediction\n",
    "yhat_nn = ohe.inverse_transform(pred_nn)\n",
    "\n",
    "# invert validation response\n",
    "y_test_nn = ohe.inverse_transform(y_test)"
   ]
  },
  {
   "cell_type": "code",
   "execution_count": 159,
   "id": "21ae1bb8",
   "metadata": {
    "ExecuteTime": {
     "end_time": "2022-04-03T02:40:09.356672Z",
     "start_time": "2022-04-03T02:40:09.309796Z"
    },
    "cell_style": "split"
   },
   "outputs": [
    {
     "data": {
      "text/plain": [
       "NDF      0.576602\n",
       "US       0.297337\n",
       "other    0.047922\n",
       "FR       0.023486\n",
       "IT       0.013145\n",
       "GB       0.011438\n",
       "ES       0.010560\n",
       "CA       0.006902\n",
       "DE       0.005536\n",
       "NL       0.003805\n",
       "AU       0.002390\n",
       "PT       0.000878\n",
       "dtype: float64"
      ]
     },
     "execution_count": 159,
     "metadata": {},
     "output_type": "execute_result"
    }
   ],
   "source": [
    "# check the balance of validation\n",
    "pd.DataFrame(y_test_nn).value_counts(normalize=True)"
   ]
  },
  {
   "cell_type": "code",
   "execution_count": 160,
   "id": "62ccb1e9",
   "metadata": {
    "ExecuteTime": {
     "end_time": "2022-04-03T02:40:09.387924Z",
     "start_time": "2022-04-03T02:40:09.356672Z"
    },
    "cell_style": "split"
   },
   "outputs": [
    {
     "data": {
      "text/plain": [
       "NDF      0.576651\n",
       "US       0.422276\n",
       "other    0.000756\n",
       "FR       0.000122\n",
       "DE       0.000073\n",
       "ES       0.000049\n",
       "IT       0.000049\n",
       "AU       0.000024\n",
       "dtype: float64"
      ]
     },
     "execution_count": 160,
     "metadata": {},
     "output_type": "execute_result"
    }
   ],
   "source": [
    "# check the balance of result\n",
    "pd.DataFrame(yhat_nn).value_counts(normalize=True)"
   ]
  },
  {
   "cell_type": "code",
   "execution_count": 161,
   "id": "29f2d40c",
   "metadata": {
    "ExecuteTime": {
     "end_time": "2022-04-03T02:40:12.640113Z",
     "start_time": "2022-04-03T02:40:09.387924Z"
    }
   },
   "outputs": [
    {
     "name": "stdout",
     "output_type": "stream",
     "text": [
      "Accuracy: 0.8732562676812018\n",
      "Balanced Accuracy: 0.16668872676697855\n",
      "Kappa Score: 0.7661135282362423\n",
      "              precision    recall  f1-score   support\n",
      "\n",
      "          AU       0.00      0.00      0.00        98\n",
      "          CA       0.00      0.00      0.00       283\n",
      "          DE       0.00      0.00      0.00       227\n",
      "          ES       0.00      0.00      0.00       433\n",
      "          FR       0.00      0.00      0.00       963\n",
      "          GB       0.00      0.00      0.00       469\n",
      "          IT       0.00      0.00      0.00       539\n",
      "         NDF       1.00      1.00      1.00     23643\n",
      "          NL       0.00      0.00      0.00       156\n",
      "          PT       0.00      0.00      0.00        36\n",
      "          US       0.70      1.00      0.82     12192\n",
      "       other       0.19      0.00      0.01      1965\n",
      "\n",
      "    accuracy                           0.87     41004\n",
      "   macro avg       0.16      0.17      0.15     41004\n",
      "weighted avg       0.79      0.87      0.82     41004\n",
      "\n"
     ]
    },
    {
     "data": {
      "image/png": "[encoded data removed]",
      "text/plain": [
       "<Figure size 864x864 with 2 Axes>"
      ]
     },
     "metadata": {
      "needs_background": "light"
     },
     "output_type": "display_data"
    }
   ],
   "source": [
    "# Accuracy\n",
    "acc_nn = m.accuracy_score( y_test_nn, yhat_nn )\n",
    "print(f'Accuracy: {acc_nn}')\n",
    "\n",
    "# Balanced Accuracy\n",
    "balanced_acc_nn = m.balanced_accuracy_score(y_test_nn, yhat_nn)\n",
    "print(f'Balanced Accuracy: {balanced_acc_nn}')\n",
    "\n",
    "# Kappa Metrics\n",
    "kappa_nn = m.cohen_kappa_score(y_test_nn, yhat_nn)\n",
    "print(f'Kappa Score: {kappa_nn}')\n",
    "\n",
    "# Classification report\n",
    "print(m.classification_report(y_test_nn, yhat_nn))\n",
    "\n",
    "# Confusion Matrix\n",
    "mt.plot_confusion_matrix( y_test_nn, yhat_nn, normalize=False, figsize=(12,12));\n",
    "\n",
    "# Performance\n",
    "imb_performance = {'model': 'NN Model - Imbalanced Data',\n",
    "                   'acc': np.round(acc_nn, 6), \n",
    "                   'balanced_acc': np.round(balanced_acc_nn, 6), \n",
    "                   'kappa_score': np.round(kappa_nn, 6)}"
   ]
  },
  {
   "cell_type": "markdown",
   "id": "9ad0b0a8",
   "metadata": {},
   "source": [
    "#### 7.2.1.2. Imbalanced Data - Cross-Validation"
   ]
  },
  {
   "cell_type": "code",
   "execution_count": 162,
   "id": "752267fb",
   "metadata": {
    "ExecuteTime": {
     "end_time": "2022-04-03T03:04:53.321223Z",
     "start_time": "2022-04-03T02:40:12.702612Z"
    }
   },
   "outputs": [
    {
     "name": "stdout",
     "output_type": "stream",
     "text": [
      "Fold Number:1/5\n",
      "Fold Number:2/5\n",
      "Fold Number:3/5\n",
      "Fold Number:4/5\n",
      "Fold Number:5/5\n"
     ]
    }
   ],
   "source": [
    "# cross validation performance\n",
    "acc_nn, balanced_acc_nn, kappa_nn = cross_validation(num_fold=5, \n",
    "                                                     x_train=x_train, \n",
    "                                                     y_train=y_train, \n",
    "                                                     model=model_nn, \n",
    "                                                     verbose=True)"
   ]
  },
  {
   "cell_type": "code",
   "execution_count": 163,
   "id": "1e7d6ff9",
   "metadata": {
    "ExecuteTime": {
     "end_time": "2022-04-03T03:04:53.336759Z",
     "start_time": "2022-04-03T03:04:53.321223Z"
    }
   },
   "outputs": [],
   "source": [
    "# Performance\n",
    "imb_performance_cv = {'model': 'NN Model - Imbalanced Data - CV',\n",
    "                      'acc': f'{np.round(np.mean(acc_nn), 2)} +/- {np.round(np.std(acc_nn), 4)}',\n",
    "                      'balanced_acc': f'{np.round(np.mean(balanced_acc_nn), 2)} +/- {np.round(np.std(balanced_acc_nn), 4)}',\n",
    "                      'kappa_score': f'{np.round(np.mean(kappa_nn), 2)} +/- {np.round(np.std(kappa_nn), 4)}'}"
   ]
  },
  {
   "cell_type": "code",
   "execution_count": 164,
   "id": "595d5e15",
   "metadata": {
    "ExecuteTime": {
     "end_time": "2022-04-03T03:04:53.352384Z",
     "start_time": "2022-04-03T03:04:53.336759Z"
    }
   },
   "outputs": [
    {
     "name": "stdout",
     "output_type": "stream",
     "text": [
      "Avg Accuracy: 0.87 +/- 0.00017\n",
      "Avg Balanced Accuracy: 0.17 +/- 0.00151\n",
      "Avg Kappa Score: 0.77 +/- 0.0002\n"
     ]
    }
   ],
   "source": [
    "print(f'Avg Accuracy: {np.round(np.mean(acc_nn), 2)} +/- {np.round(np.std(acc_nn),5)}')\n",
    "print(f'Avg Balanced Accuracy: {np.round(np.mean(balanced_acc_nn), 2)} +/- {np.round(np.std(balanced_acc_nn),5)}')\n",
    "print(f'Avg Kappa Score: {np.round(np.mean(kappa_nn), 2)} +/- {np.round(np.std(kappa_nn), 4)}')"
   ]
  },
  {
   "cell_type": "markdown",
   "id": "30a8d813",
   "metadata": {},
   "source": [
    "### 7.2.2. Neural Network - Random Undersampling"
   ]
  },
  {
   "cell_type": "code",
   "execution_count": 165,
   "id": "fa3d36ec",
   "metadata": {
    "ExecuteTime": {
     "end_time": "2022-04-03T03:05:03.815262Z",
     "start_time": "2022-04-03T03:04:53.352384Z"
    },
    "scrolled": true
   },
   "outputs": [
    {
     "name": "stdout",
     "output_type": "stream",
     "text": [
      "Epoch 1/100\n",
      "64/64 [==============================] - 0s 942us/step - loss: 2.5548 - accuracy: 0.1391\n",
      "Epoch 2/100\n",
      "64/64 [==============================] - 0s 1ms/step - loss: 2.3289 - accuracy: 0.2029\n",
      "Epoch 3/100\n",
      "64/64 [==============================] - 0s 1ms/step - loss: 2.2216 - accuracy: 0.2251\n",
      "Epoch 4/100\n",
      "64/64 [==============================] - 0s 1ms/step - loss: 2.1868 - accuracy: 0.2314\n",
      "Epoch 5/100\n",
      "64/64 [==============================] - 0s 962us/step - loss: 2.1571 - accuracy: 0.2364\n",
      "Epoch 6/100\n",
      "64/64 [==============================] - 0s 968us/step - loss: 2.1366 - accuracy: 0.2457\n",
      "Epoch 7/100\n",
      "64/64 [==============================] - 0s 769us/step - loss: 2.1255 - accuracy: 0.2555\n",
      "Epoch 8/100\n",
      "64/64 [==============================] - 0s 670us/step - loss: 2.1103 - accuracy: 0.2614\n",
      "Epoch 9/100\n",
      "64/64 [==============================] - 0s 711us/step - loss: 2.0959 - accuracy: 0.2644\n",
      "Epoch 10/100\n",
      "64/64 [==============================] - 0s 1ms/step - loss: 2.0909 - accuracy: 0.2609\n",
      "Epoch 11/100\n",
      "64/64 [==============================] - 0s 997us/step - loss: 2.0854 - accuracy: 0.2771\n",
      "Epoch 12/100\n",
      "64/64 [==============================] - 0s 599us/step - loss: 2.0701 - accuracy: 0.2776\n",
      "Epoch 13/100\n",
      "64/64 [==============================] - 0s 654us/step - loss: 2.0645 - accuracy: 0.2747\n",
      "Epoch 14/100\n",
      "64/64 [==============================] - 0s 881us/step - loss: 2.0496 - accuracy: 0.2899\n",
      "Epoch 15/100\n",
      "64/64 [==============================] - 0s 638us/step - loss: 2.0408 - accuracy: 0.2816\n",
      "Epoch 16/100\n",
      "64/64 [==============================] - 0s 642us/step - loss: 2.0346 - accuracy: 0.2934\n",
      "Epoch 17/100\n",
      "64/64 [==============================] - 0s 640us/step - loss: 2.0200 - accuracy: 0.2919\n",
      "Epoch 18/100\n",
      "64/64 [==============================] - 0s 645us/step - loss: 2.0152 - accuracy: 0.2919\n",
      "Epoch 19/100\n",
      "64/64 [==============================] - 0s 638us/step - loss: 2.0070 - accuracy: 0.2963\n",
      "Epoch 20/100\n",
      "64/64 [==============================] - 0s 654us/step - loss: 1.9978 - accuracy: 0.3002\n",
      "Epoch 21/100\n",
      "64/64 [==============================] - 0s 656us/step - loss: 1.9908 - accuracy: 0.3076\n",
      "Epoch 22/100\n",
      "64/64 [==============================] - 0s 601us/step - loss: 1.9825 - accuracy: 0.3032\n",
      "Epoch 23/100\n",
      "64/64 [==============================] - 0s 662us/step - loss: 1.9756 - accuracy: 0.3081\n",
      "Epoch 24/100\n",
      "64/64 [==============================] - 0s 644us/step - loss: 1.9697 - accuracy: 0.3145\n",
      "Epoch 25/100\n",
      "64/64 [==============================] - 0s 646us/step - loss: 1.9599 - accuracy: 0.3155\n",
      "Epoch 26/100\n",
      "64/64 [==============================] - 0s 887us/step - loss: 1.9564 - accuracy: 0.3120\n",
      "Epoch 27/100\n",
      "64/64 [==============================] - 0s 636us/step - loss: 1.9460 - accuracy: 0.3224\n",
      "Epoch 28/100\n",
      "64/64 [==============================] - 0s 618us/step - loss: 1.9397 - accuracy: 0.3219\n",
      "Epoch 29/100\n",
      "64/64 [==============================] - 0s 824us/step - loss: 1.9290 - accuracy: 0.3258\n",
      "Epoch 30/100\n",
      "64/64 [==============================] - 0s 621us/step - loss: 1.9266 - accuracy: 0.3371\n",
      "Epoch 31/100\n",
      "64/64 [==============================] - 0s 650us/step - loss: 1.9167 - accuracy: 0.3332\n",
      "Epoch 32/100\n",
      "64/64 [==============================] - 0s 1ms/step - loss: 1.9083 - accuracy: 0.3400\n",
      "Epoch 33/100\n",
      "64/64 [==============================] - 0s 1ms/step - loss: 1.9005 - accuracy: 0.3366\n",
      "Epoch 34/100\n",
      "64/64 [==============================] - 0s 1ms/step - loss: 1.8950 - accuracy: 0.3430\n",
      "Epoch 35/100\n",
      "64/64 [==============================] - 0s 1ms/step - loss: 1.8895 - accuracy: 0.3464\n",
      "Epoch 36/100\n",
      "64/64 [==============================] - 0s 1ms/step - loss: 1.8828 - accuracy: 0.3484\n",
      "Epoch 37/100\n",
      "64/64 [==============================] - 0s 1ms/step - loss: 1.8771 - accuracy: 0.3563\n",
      "Epoch 38/100\n",
      "64/64 [==============================] - 0s 1ms/step - loss: 1.8688 - accuracy: 0.3543\n",
      "Epoch 39/100\n",
      "64/64 [==============================] - 0s 1ms/step - loss: 1.8574 - accuracy: 0.3553\n",
      "Epoch 40/100\n",
      "64/64 [==============================] - 0s 2ms/step - loss: 1.8535 - accuracy: 0.3602\n",
      "Epoch 41/100\n",
      "64/64 [==============================] - 0s 1ms/step - loss: 1.8489 - accuracy: 0.3631\n",
      "Epoch 42/100\n",
      "64/64 [==============================] - 0s 2ms/step - loss: 1.8362 - accuracy: 0.3789\n",
      "Epoch 43/100\n",
      "64/64 [==============================] - 0s 2ms/step - loss: 1.8320 - accuracy: 0.3715\n",
      "Epoch 44/100\n",
      "64/64 [==============================] - 0s 1ms/step - loss: 1.8290 - accuracy: 0.3666\n",
      "Epoch 45/100\n",
      "64/64 [==============================] - 0s 1ms/step - loss: 1.8197 - accuracy: 0.3710\n",
      "Epoch 46/100\n",
      "64/64 [==============================] - 0s 1ms/step - loss: 1.8165 - accuracy: 0.3695\n",
      "Epoch 47/100\n",
      "64/64 [==============================] - 0s 1ms/step - loss: 1.8112 - accuracy: 0.3897\n",
      "Epoch 48/100\n",
      "64/64 [==============================] - 0s 1ms/step - loss: 1.8011 - accuracy: 0.3759\n",
      "Epoch 49/100\n",
      "64/64 [==============================] - 0s 1ms/step - loss: 1.7960 - accuracy: 0.3784\n",
      "Epoch 50/100\n",
      "64/64 [==============================] - 0s 1ms/step - loss: 1.8032 - accuracy: 0.3808\n",
      "Epoch 51/100\n",
      "64/64 [==============================] - 0s 1ms/step - loss: 1.7927 - accuracy: 0.3862\n",
      "Epoch 52/100\n",
      "64/64 [==============================] - 0s 1ms/step - loss: 1.7806 - accuracy: 0.3931\n",
      "Epoch 53/100\n",
      "64/64 [==============================] - 0s 1ms/step - loss: 1.7681 - accuracy: 0.3862\n",
      "Epoch 54/100\n",
      "64/64 [==============================] - 0s 1ms/step - loss: 1.7647 - accuracy: 0.3912\n",
      "Epoch 55/100\n",
      "64/64 [==============================] - 0s 1ms/step - loss: 1.7592 - accuracy: 0.3936\n",
      "Epoch 56/100\n",
      "64/64 [==============================] - 0s 1ms/step - loss: 1.7537 - accuracy: 0.3931\n",
      "Epoch 57/100\n",
      "64/64 [==============================] - 0s 972us/step - loss: 1.7424 - accuracy: 0.4025\n",
      "Epoch 58/100\n",
      "64/64 [==============================] - 0s 1ms/step - loss: 1.7463 - accuracy: 0.4000\n",
      "Epoch 59/100\n",
      "64/64 [==============================] - 0s 1ms/step - loss: 1.7362 - accuracy: 0.4118\n",
      "Epoch 60/100\n",
      "64/64 [==============================] - 0s 1ms/step - loss: 1.7320 - accuracy: 0.4079\n",
      "Epoch 61/100\n",
      "64/64 [==============================] - 0s 1ms/step - loss: 1.7220 - accuracy: 0.4138\n",
      "Epoch 62/100\n",
      "64/64 [==============================] - 0s 1ms/step - loss: 1.7226 - accuracy: 0.4059\n",
      "Epoch 63/100\n",
      "64/64 [==============================] - 0s 1ms/step - loss: 1.7136 - accuracy: 0.4197\n",
      "Epoch 64/100\n",
      "64/64 [==============================] - 0s 989us/step - loss: 1.7094 - accuracy: 0.4143\n",
      "Epoch 65/100\n",
      "64/64 [==============================] - 0s 1ms/step - loss: 1.7035 - accuracy: 0.4152\n",
      "Epoch 66/100\n",
      "64/64 [==============================] - 0s 1ms/step - loss: 1.6940 - accuracy: 0.4201\n",
      "Epoch 67/100\n",
      "64/64 [==============================] - 0s 1ms/step - loss: 1.6903 - accuracy: 0.4246\n",
      "Epoch 68/100\n",
      "64/64 [==============================] - 0s 1ms/step - loss: 1.6834 - accuracy: 0.4364\n",
      "Epoch 69/100\n",
      "64/64 [==============================] - 0s 1ms/step - loss: 1.6817 - accuracy: 0.4329\n",
      "Epoch 70/100\n",
      "64/64 [==============================] - 0s 1ms/step - loss: 1.6751 - accuracy: 0.4251\n",
      "Epoch 71/100\n",
      "64/64 [==============================] - 0s 1ms/step - loss: 1.6708 - accuracy: 0.4388\n",
      "Epoch 72/100\n",
      "64/64 [==============================] - 0s 994us/step - loss: 1.6654 - accuracy: 0.4408\n",
      "Epoch 73/100\n",
      "64/64 [==============================] - 0s 925us/step - loss: 1.6619 - accuracy: 0.4334\n",
      "Epoch 74/100\n",
      "64/64 [==============================] - 0s 856us/step - loss: 1.6567 - accuracy: 0.4310\n",
      "Epoch 75/100\n",
      "64/64 [==============================] - 0s 1ms/step - loss: 1.6523 - accuracy: 0.4364\n",
      "Epoch 76/100\n",
      "64/64 [==============================] - 0s 1ms/step - loss: 1.6446 - accuracy: 0.4344\n",
      "Epoch 77/100\n",
      "64/64 [==============================] - 0s 905us/step - loss: 1.6436 - accuracy: 0.4373\n",
      "Epoch 78/100\n",
      "64/64 [==============================] - 0s 609us/step - loss: 1.6361 - accuracy: 0.4408\n",
      "Epoch 79/100\n",
      "64/64 [==============================] - 0s 676us/step - loss: 1.6307 - accuracy: 0.4423\n",
      "Epoch 80/100\n",
      "64/64 [==============================] - 0s 644us/step - loss: 1.6222 - accuracy: 0.4501\n",
      "Epoch 81/100\n",
      "64/64 [==============================] - 0s 639us/step - loss: 1.6133 - accuracy: 0.4609\n",
      "Epoch 82/100\n"
     ]
    },
    {
     "name": "stdout",
     "output_type": "stream",
     "text": [
      "64/64 [==============================] - 0s 655us/step - loss: 1.6135 - accuracy: 0.4506\n",
      "Epoch 83/100\n",
      "64/64 [==============================] - 0s 644us/step - loss: 1.6067 - accuracy: 0.4644\n",
      "Epoch 84/100\n",
      "64/64 [==============================] - 0s 647us/step - loss: 1.6070 - accuracy: 0.4600\n",
      "Epoch 85/100\n",
      "64/64 [==============================] - 0s 659us/step - loss: 1.6033 - accuracy: 0.4486\n",
      "Epoch 86/100\n",
      "64/64 [==============================] - 0s 625us/step - loss: 1.5971 - accuracy: 0.4600\n",
      "Epoch 87/100\n",
      "64/64 [==============================] - 0s 633us/step - loss: 1.5937 - accuracy: 0.4644\n",
      "Epoch 88/100\n",
      "64/64 [==============================] - 0s 638us/step - loss: 1.5899 - accuracy: 0.4668\n",
      "Epoch 89/100\n",
      "64/64 [==============================] - 0s 635us/step - loss: 1.5822 - accuracy: 0.4624\n",
      "Epoch 90/100\n",
      "64/64 [==============================] - 0s 636us/step - loss: 1.5839 - accuracy: 0.4629\n",
      "Epoch 91/100\n",
      "64/64 [==============================] - 0s 637us/step - loss: 1.5695 - accuracy: 0.4688\n",
      "Epoch 92/100\n",
      "64/64 [==============================] - 0s 641us/step - loss: 1.5708 - accuracy: 0.4742\n",
      "Epoch 93/100\n",
      "64/64 [==============================] - 0s 884us/step - loss: 1.5690 - accuracy: 0.4717\n",
      "Epoch 94/100\n",
      "64/64 [==============================] - 0s 747us/step - loss: 1.5629 - accuracy: 0.4742\n",
      "Epoch 95/100\n",
      "64/64 [==============================] - 0s 601us/step - loss: 1.5577 - accuracy: 0.4732\n",
      "Epoch 96/100\n",
      "64/64 [==============================] - 0s 662us/step - loss: 1.5533 - accuracy: 0.4830\n",
      "Epoch 97/100\n",
      "64/64 [==============================] - 0s 660us/step - loss: 1.5461 - accuracy: 0.4801\n",
      "Epoch 98/100\n",
      "64/64 [==============================] - 0s 643us/step - loss: 1.5491 - accuracy: 0.4826\n",
      "Epoch 99/100\n",
      "64/64 [==============================] - 0s 651us/step - loss: 1.5344 - accuracy: 0.4894\n",
      "Epoch 100/100\n",
      "64/64 [==============================] - 0s 652us/step - loss: 1.5356 - accuracy: 0.4904\n"
     ]
    },
    {
     "data": {
      "text/plain": [
       "<tensorflow.python.keras.callbacks.History at 0x1fb9c77f6d0>"
      ]
     },
     "execution_count": 165,
     "metadata": {},
     "output_type": "execute_result"
    }
   ],
   "source": [
    "# model definition\n",
    "model_under = ml.Sequential()\n",
    "model_under.add( l.Dense(128, input_dim=x_train_under.shape[1], activation='relu') )\n",
    "model_under.add( l.Dense(12, activation='softmax') )\n",
    "\n",
    "# model compile\n",
    "model_under.compile(loss='categorical_crossentropy', optimizer='adam', metrics=['accuracy'])\n",
    "\n",
    "# train model\n",
    "model_under.fit(x_train_under, y_train_under, epochs=100)"
   ]
  },
  {
   "cell_type": "markdown",
   "id": "afa3706d",
   "metadata": {},
   "source": [
    "#### 7.2.2.1. Random Undersampling - Performance"
   ]
  },
  {
   "cell_type": "code",
   "execution_count": 166,
   "id": "921b5fa4",
   "metadata": {
    "ExecuteTime": {
     "end_time": "2022-04-03T03:05:07.086058Z",
     "start_time": "2022-04-03T03:05:03.815262Z"
    }
   },
   "outputs": [],
   "source": [
    "# prediction\n",
    "pred_under_nn = model_under.predict(x_test_under)\n",
    "\n",
    "# invert prediction\n",
    "yhat_under_nn = ohe.inverse_transform(pred_under_nn)\n",
    "\n",
    "# invert validation response\n",
    "y_test_under_nn = ohe.inverse_transform(y_test_under)"
   ]
  },
  {
   "cell_type": "code",
   "execution_count": 167,
   "id": "a2a231bd",
   "metadata": {
    "ExecuteTime": {
     "end_time": "2022-04-03T03:05:07.117248Z",
     "start_time": "2022-04-03T03:05:07.086058Z"
    },
    "cell_style": "split"
   },
   "outputs": [
    {
     "data": {
      "text/plain": [
       "IT       0.096267\n",
       "ES       0.090373\n",
       "DE       0.088409\n",
       "GB       0.088409\n",
       "NL       0.086444\n",
       "PT       0.086444\n",
       "AU       0.082515\n",
       "CA       0.082515\n",
       "FR       0.078585\n",
       "other    0.074656\n",
       "NDF      0.072692\n",
       "US       0.072692\n",
       "dtype: float64"
      ]
     },
     "execution_count": 167,
     "metadata": {},
     "output_type": "execute_result"
    }
   ],
   "source": [
    "# check the balance of validation\n",
    "pd.DataFrame(y_test_under_nn).value_counts(normalize=True)"
   ]
  },
  {
   "cell_type": "code",
   "execution_count": 168,
   "id": "d71eeada",
   "metadata": {
    "ExecuteTime": {
     "end_time": "2022-04-03T03:05:07.148969Z",
     "start_time": "2022-04-03T03:05:07.120972Z"
    },
    "cell_style": "split"
   },
   "outputs": [
    {
     "data": {
      "text/plain": [
       "IT       0.096267\n",
       "ES       0.090373\n",
       "DE       0.088409\n",
       "GB       0.088409\n",
       "NL       0.086444\n",
       "PT       0.086444\n",
       "AU       0.082515\n",
       "CA       0.082515\n",
       "FR       0.078585\n",
       "other    0.074656\n",
       "NDF      0.072692\n",
       "US       0.072692\n",
       "dtype: float64"
      ]
     },
     "execution_count": 168,
     "metadata": {},
     "output_type": "execute_result"
    }
   ],
   "source": [
    "# check the balance of validation\n",
    "pd.DataFrame(y_test_under_nn).value_counts(normalize=True)"
   ]
  },
  {
   "cell_type": "code",
   "execution_count": 169,
   "id": "f247d237",
   "metadata": {
    "ExecuteTime": {
     "end_time": "2022-04-03T03:05:07.960786Z",
     "start_time": "2022-04-03T03:05:07.154970Z"
    }
   },
   "outputs": [
    {
     "name": "stdout",
     "output_type": "stream",
     "text": [
      "Accuracy: 0.17092337917485265\n",
      "Balanced Accuracy: 0.18021029657593893\n",
      "Kappa Score: 0.09546168520257559\n",
      "              precision    recall  f1-score   support\n",
      "\n",
      "          AU       0.12      0.12      0.12        42\n",
      "          CA       0.15      0.14      0.14        42\n",
      "          DE       0.08      0.07      0.07        45\n",
      "          ES       0.07      0.07      0.07        46\n",
      "          FR       0.15      0.20      0.17        40\n",
      "          GB       0.12      0.09      0.10        45\n",
      "          IT       0.14      0.12      0.13        49\n",
      "         NDF       1.00      1.00      1.00        37\n",
      "          NL       0.12      0.16      0.13        44\n",
      "          PT       0.10      0.09      0.09        44\n",
      "          US       0.06      0.08      0.07        37\n",
      "       other       0.04      0.03      0.03        38\n",
      "\n",
      "    accuracy                           0.17       509\n",
      "   macro avg       0.18      0.18      0.18       509\n",
      "weighted avg       0.17      0.17      0.17       509\n",
      "\n"
     ]
    },
    {
     "data": {
      "image/png": "[encoded data removed]",
      "text/plain": [
       "<Figure size 864x864 with 2 Axes>"
      ]
     },
     "metadata": {
      "needs_background": "light"
     },
     "output_type": "display_data"
    }
   ],
   "source": [
    "# Accuracy\n",
    "acc_under_nn = m.accuracy_score( y_test_under_nn, yhat_under_nn )\n",
    "print(f'Accuracy: {acc_under_nn}')\n",
    "\n",
    "# Balanced Accuracy\n",
    "balanced_acc_under_nn = m.balanced_accuracy_score(y_test_under_nn, yhat_under_nn)\n",
    "print(f'Balanced Accuracy: {balanced_acc_under_nn}')\n",
    "\n",
    "# Kappa Metrics\n",
    "kappa_under_nn = m.cohen_kappa_score(y_test_under_nn, yhat_under_nn)\n",
    "print(f'Kappa Score: {kappa_under_nn}')\n",
    "\n",
    "# Classification report\n",
    "print(m.classification_report(y_test_under_nn, yhat_under_nn))\n",
    "\n",
    "# Confusion Matrix\n",
    "mt.plot_confusion_matrix( y_test_under_nn, yhat_under_nn, normalize=False, figsize=(12,12));\n",
    "\n",
    "# Performance\n",
    "under_performance = {'model': 'NN Model - Random Undersampling',\n",
    "                     'acc': np.round(acc_under_nn, 6),\n",
    "                     'balanced_acc': np.round(balanced_acc_under_nn, 6),\n",
    "                     'kappa_score': np.round(kappa_under_nn, 6)}"
   ]
  },
  {
   "cell_type": "markdown",
   "id": "365aee53",
   "metadata": {},
   "source": [
    "#### 7.2.2.2. Random Undersampling - Cross-Validation"
   ]
  },
  {
   "cell_type": "code",
   "execution_count": 170,
   "id": "2b2f4c91",
   "metadata": {
    "ExecuteTime": {
     "end_time": "2022-04-03T03:05:52.159514Z",
     "start_time": "2022-04-03T03:05:07.960786Z"
    }
   },
   "outputs": [
    {
     "name": "stdout",
     "output_type": "stream",
     "text": [
      "Fold Number:1/5\n",
      "Fold Number:2/5\n",
      "Fold Number:3/5\n",
      "Fold Number:4/5\n",
      "Fold Number:5/5\n"
     ]
    }
   ],
   "source": [
    "# cross validation performance\n",
    "acc_under, balanced_acc_under, kappa_under = cross_validation(num_fold=5, \n",
    "                                                              x_train=x_train_under, \n",
    "                                                              y_train=y_train_under, \n",
    "                                                              model=model_under, \n",
    "                                                              verbose=True)"
   ]
  },
  {
   "cell_type": "code",
   "execution_count": 171,
   "id": "f7e160b1",
   "metadata": {
    "ExecuteTime": {
     "end_time": "2022-04-03T03:05:52.184266Z",
     "start_time": "2022-04-03T03:05:52.159514Z"
    }
   },
   "outputs": [],
   "source": [
    "# Performance\n",
    "under_performance_cv = {'model': 'NN Model - Random Undersampling - CV',\n",
    "                        'acc': f'{np.round(np.mean(acc_under), 2)} +/- {np.round(np.std(acc_under), 4)}',\n",
    "                        'balanced_acc': f'{np.round(np.mean(balanced_acc_under), 2)} +/- {np.round(np.std(balanced_acc_under), 4)}',\n",
    "                        'kappa_score': f'{np.round(np.mean(kappa_under), 2)} +/- {np.round(np.std(kappa_under), 4)}'}"
   ]
  },
  {
   "cell_type": "code",
   "execution_count": 172,
   "id": "99fd6d06",
   "metadata": {
    "ExecuteTime": {
     "end_time": "2022-04-03T03:05:52.199750Z",
     "start_time": "2022-04-03T03:05:52.187263Z"
    }
   },
   "outputs": [
    {
     "name": "stdout",
     "output_type": "stream",
     "text": [
      "Avg Accuracy: 0.36 +/- 0.05925\n",
      "Avg Balanced Accuracy: 0.36 +/- 0.05937\n",
      "Avg Kappa Score: 0.3 +/- 0.0646\n"
     ]
    }
   ],
   "source": [
    "print(f'Avg Accuracy: {np.round(np.mean(acc_under), 2)} +/- {np.round(np.std(acc_under),5)}')\n",
    "print(f'Avg Balanced Accuracy: {np.round(np.mean(balanced_acc_under), 2)} +/- {np.round(np.std(balanced_acc_under),5)}')\n",
    "print(f'Avg Kappa Score: {np.round(np.mean(kappa_under), 2)} +/- {np.round(np.std(kappa_under), 4)}')"
   ]
  },
  {
   "cell_type": "markdown",
   "id": "af2fe3cf",
   "metadata": {},
   "source": [
    "### 7.2.3. Neural Network - Random Oversampling"
   ]
  },
  {
   "cell_type": "code",
   "execution_count": 173,
   "id": "a2a0b26e",
   "metadata": {
    "ExecuteTime": {
     "end_time": "2022-04-03T03:59:24.119688Z",
     "start_time": "2022-04-03T03:05:52.206750Z"
    }
   },
   "outputs": [
    {
     "name": "stdout",
     "output_type": "stream",
     "text": [
      "Epoch 1/100\n",
      "35757/35757 [==============================] - 33s 921us/step - loss: 1.9573 - accuracy: 0.3097\n",
      "Epoch 2/100\n",
      "35757/35757 [==============================] - 34s 939us/step - loss: 1.7881 - accuracy: 0.3673\n",
      "Epoch 3/100\n",
      "35757/35757 [==============================] - 34s 948us/step - loss: 1.7353 - accuracy: 0.3843\n",
      "Epoch 4/100\n",
      "35757/35757 [==============================] - 35s 983us/step - loss: 1.7055 - accuracy: 0.3943\n",
      "Epoch 5/100\n",
      "35757/35757 [==============================] - 33s 928us/step - loss: 1.6866 - accuracy: 0.4008s - loss: 1.6866 - accuracy: 0.\n",
      "Epoch 6/100\n",
      "35757/35757 [==============================] - 33s 933us/step - loss: 1.6743 - accuracy: 0.4046\n",
      "Epoch 7/100\n",
      "35757/35757 [==============================] - 33s 929us/step - loss: 1.6635 - accuracy: 0.4078\n",
      "Epoch 8/100\n",
      "35757/35757 [==============================] - 34s 958us/step - loss: 1.6538 - accuracy: 0.4097\n",
      "Epoch 9/100\n",
      "35757/35757 [==============================] - 33s 929us/step - loss: 1.6465 - accuracy: 0.4123\n",
      "Epoch 10/100\n",
      "35757/35757 [==============================] - 33s 931us/step - loss: 1.6400 - accuracy: 0.4143\n",
      "Epoch 11/100\n",
      "35757/35757 [==============================] - 33s 935us/step - loss: 1.6339 - accuracy: 0.4159\n",
      "Epoch 12/100\n",
      "35757/35757 [==============================] - 35s 987us/step - loss: 1.6294 - accuracy: 0.4178\n",
      "Epoch 13/100\n",
      "35757/35757 [==============================] - 34s 959us/step - loss: 1.6246 - accuracy: 0.4189\n",
      "Epoch 14/100\n",
      "35757/35757 [==============================] - 33s 926us/step - loss: 1.6211 - accuracy: 0.4203\n",
      "Epoch 15/100\n",
      "35757/35757 [==============================] - 33s 933us/step - loss: 1.6171 - accuracy: 0.4211\n",
      "Epoch 16/100\n",
      "35757/35757 [==============================] - 33s 927us/step - loss: 1.6150 - accuracy: 0.4220\n",
      "Epoch 17/100\n",
      "35757/35757 [==============================] - 34s 937us/step - loss: 1.6125 - accuracy: 0.4230\n",
      "Epoch 18/100\n",
      "35757/35757 [==============================] - 35s 975us/step - loss: 1.6099 - accuracy: 0.4238\n",
      "Epoch 19/100\n",
      "35757/35757 [==============================] - 33s 931us/step - loss: 1.6072 - accuracy: 0.4242\n",
      "Epoch 20/100\n",
      "35757/35757 [==============================] - 34s 940us/step - loss: 1.6051 - accuracy: 0.4248\n",
      "Epoch 21/100\n",
      "35757/35757 [==============================] - 35s 967us/step - loss: 1.6041 - accuracy: 0.4255\n",
      "Epoch 22/100\n",
      "35757/35757 [==============================] - 33s 919us/step - loss: 1.6020 - accuracy: 0.4255\n",
      "Epoch 23/100\n",
      "35757/35757 [==============================] - 32s 884us/step - loss: 1.6005 - accuracy: 0.4257\n",
      "Epoch 24/100\n",
      "35757/35757 [==============================] - 32s 890us/step - loss: 1.5988 - accuracy: 0.4259\n",
      "Epoch 25/100\n",
      "35757/35757 [==============================] - 32s 889us/step - loss: 1.5972 - accuracy: 0.4266\n",
      "Epoch 26/100\n",
      "35757/35757 [==============================] - 33s 911us/step - loss: 1.5953 - accuracy: 0.4270\n",
      "Epoch 27/100\n",
      "35757/35757 [==============================] - 32s 886us/step - loss: 1.5938 - accuracy: 0.4276\n",
      "Epoch 28/100\n",
      "35757/35757 [==============================] - 32s 885us/step - loss: 1.5931 - accuracy: 0.4278\n",
      "Epoch 29/100\n",
      "35757/35757 [==============================] - 32s 903us/step - loss: 1.5919 - accuracy: 0.4283\n",
      "Epoch 30/100\n",
      "35757/35757 [==============================] - 32s 909us/step - loss: 1.5904 - accuracy: 0.4283\n",
      "Epoch 31/100\n",
      "35757/35757 [==============================] - 32s 904us/step - loss: 1.5898 - accuracy: 0.4283\n",
      "Epoch 32/100\n",
      "35757/35757 [==============================] - 31s 880us/step - loss: 1.5876 - accuracy: 0.4287\n",
      "Epoch 33/100\n",
      "35757/35757 [==============================] - 32s 897us/step - loss: 1.5858 - accuracy: 0.4296\n",
      "Epoch 34/100\n",
      "35757/35757 [==============================] - 32s 894us/step - loss: 1.5848 - accuracy: 0.4295\n",
      "Epoch 35/100\n",
      "35757/35757 [==============================] - 32s 888us/step - loss: 1.5827 - accuracy: 0.4303\n",
      "Epoch 36/100\n",
      "35757/35757 [==============================] - 31s 880us/step - loss: 1.5826 - accuracy: 0.4303\n",
      "Epoch 37/100\n",
      "35757/35757 [==============================] - 32s 891us/step - loss: 1.5806 - accuracy: 0.4306\n",
      "Epoch 38/100\n",
      "35757/35757 [==============================] - 32s 881us/step - loss: 1.5808 - accuracy: 0.4303\n",
      "Epoch 39/100\n",
      "35757/35757 [==============================] - 32s 901us/step - loss: 1.5801 - accuracy: 0.4315\n",
      "Epoch 40/100\n",
      "35757/35757 [==============================] - 32s 908us/step - loss: 1.5781 - accuracy: 0.4317\n",
      "Epoch 41/100\n",
      "35757/35757 [==============================] - 33s 923us/step - loss: 1.5777 - accuracy: 0.4320\n",
      "Epoch 42/100\n",
      "35757/35757 [==============================] - 32s 885us/step - loss: 1.5765 - accuracy: 0.4321\n",
      "Epoch 43/100\n",
      "35757/35757 [==============================] - 32s 897us/step - loss: 1.5764 - accuracy: 0.4324\n",
      "Epoch 44/100\n",
      "35757/35757 [==============================] - 32s 899us/step - loss: 1.5760 - accuracy: 0.4332\n",
      "Epoch 45/100\n",
      "35757/35757 [==============================] - 33s 924us/step - loss: 1.5753 - accuracy: 0.4328\n",
      "Epoch 46/100\n",
      "35757/35757 [==============================] - 33s 910us/step - loss: 1.5726 - accuracy: 0.4330\n",
      "Epoch 47/100\n",
      "35757/35757 [==============================] - 31s 876us/step - loss: 1.5722 - accuracy: 0.4337\n",
      "Epoch 48/100\n",
      "35757/35757 [==============================] - 34s 962us/step - loss: 1.5706 - accuracy: 0.4338\n",
      "Epoch 49/100\n",
      "35757/35757 [==============================] - 32s 889us/step - loss: 1.5716 - accuracy: 0.4339\n",
      "Epoch 50/100\n",
      "35757/35757 [==============================] - 38s 1ms/step - loss: 1.5708 - accuracy: 0.4342\n",
      "Epoch 51/100\n",
      "35757/35757 [==============================] - 32s 887us/step - loss: 1.5716 - accuracy: 0.4342\n",
      "Epoch 52/100\n",
      "35757/35757 [==============================] - 32s 885us/step - loss: 1.5722 - accuracy: 0.4345\n",
      "Epoch 53/100\n",
      "35757/35757 [==============================] - 31s 860us/step - loss: 1.5706 - accuracy: 0.4349\n",
      "Epoch 54/100\n",
      "35757/35757 [==============================] - 31s 868us/step - loss: 1.5681 - accuracy: 0.4350\n",
      "Epoch 55/100\n",
      "35757/35757 [==============================] - 31s 859us/step - loss: 1.5680 - accuracy: 0.4349\n",
      "Epoch 56/100\n",
      "35757/35757 [==============================] - 31s 864us/step - loss: 1.5663 - accuracy: 0.4351\n",
      "Epoch 57/100\n",
      "35757/35757 [==============================] - 31s 868us/step - loss: 1.5657 - accuracy: 0.4352\n",
      "Epoch 58/100\n",
      "35757/35757 [==============================] - 32s 886us/step - loss: 1.5654 - accuracy: 0.4356\n",
      "Epoch 59/100\n",
      "35757/35757 [==============================] - 31s 865us/step - loss: 1.5674 - accuracy: 0.4353\n",
      "Epoch 60/100\n",
      "35757/35757 [==============================] - 33s 928us/step - loss: 1.5653 - accuracy: 0.4358\n",
      "Epoch 61/100\n",
      "35757/35757 [==============================] - 31s 861us/step - loss: 1.5641 - accuracy: 0.4359\n",
      "Epoch 62/100\n",
      "35757/35757 [==============================] - 31s 853us/step - loss: 1.5633 - accuracy: 0.4359\n",
      "Epoch 63/100\n",
      "35757/35757 [==============================] - 31s 873us/step - loss: 1.5635 - accuracy: 0.4361\n",
      "Epoch 64/100\n",
      "35757/35757 [==============================] - 32s 890us/step - loss: 1.5623 - accuracy: 0.4364\n",
      "Epoch 65/100\n",
      "35757/35757 [==============================] - ETA: 0s - loss: 1.5632 - accuracy: 0.43 - 31s 868us/step - loss: 1.5633 - accuracy: 0.4365\n",
      "Epoch 66/100\n",
      "35757/35757 [==============================] - 31s 859us/step - loss: 1.5617 - accuracy: 0.4364\n",
      "Epoch 67/100\n",
      "35757/35757 [==============================] - 31s 869us/step - loss: 1.5614 - accuracy: 0.4365\n",
      "Epoch 68/100\n",
      "35757/35757 [==============================] - 33s 918us/step - loss: 1.5620 - accuracy: 0.4369\n",
      "Epoch 69/100\n",
      "35757/35757 [==============================] - 31s 875us/step - loss: 1.5609 - accuracy: 0.4370\n",
      "Epoch 70/100\n",
      "35757/35757 [==============================] - 31s 860us/step - loss: 1.5604 - accuracy: 0.4369\n",
      "Epoch 71/100\n",
      "35757/35757 [==============================] - 31s 867us/step - loss: 1.5613 - accuracy: 0.4369\n",
      "Epoch 72/100\n",
      "35757/35757 [==============================] - 31s 861us/step - loss: 1.5607 - accuracy: 0.4374\n",
      "Epoch 73/100\n",
      "35757/35757 [==============================] - 31s 869us/step - loss: 1.5606 - accuracy: 0.4367\n",
      "Epoch 74/100\n",
      "35757/35757 [==============================] - 31s 868us/step - loss: 1.5597 - accuracy: 0.4372\n",
      "Epoch 75/100\n"
     ]
    },
    {
     "name": "stdout",
     "output_type": "stream",
     "text": [
      "35757/35757 [==============================] - 31s 866us/step - loss: 1.5594 - accuracy: 0.4374\n",
      "Epoch 76/100\n",
      "35757/35757 [==============================] - 31s 861us/step - loss: 1.5593 - accuracy: 0.4376\n",
      "Epoch 77/100\n",
      "35757/35757 [==============================] - 31s 869us/step - loss: 1.5571 - accuracy: 0.4380\n",
      "Epoch 78/100\n",
      "35757/35757 [==============================] - 32s 886us/step - loss: 1.5576 - accuracy: 0.4378\n",
      "Epoch 79/100\n",
      "35757/35757 [==============================] - 32s 900us/step - loss: 1.5574 - accuracy: 0.4379\n",
      "Epoch 80/100\n",
      "35757/35757 [==============================] - 31s 866us/step - loss: 1.5567 - accuracy: 0.4381\n",
      "Epoch 81/100\n",
      "35757/35757 [==============================] - 30s 850us/step - loss: 1.5570 - accuracy: 0.4385\n",
      "Epoch 82/100\n",
      "35757/35757 [==============================] - 31s 877us/step - loss: 1.5585 - accuracy: 0.4387\n",
      "Epoch 83/100\n",
      "35757/35757 [==============================] - 32s 886us/step - loss: 1.5564 - accuracy: 0.4382\n",
      "Epoch 84/100\n",
      "35757/35757 [==============================] - 31s 871us/step - loss: 1.5551 - accuracy: 0.4385\n",
      "Epoch 85/100\n",
      "35757/35757 [==============================] - 31s 859us/step - loss: 1.5554 - accuracy: 0.4386\n",
      "Epoch 86/100\n",
      "35757/35757 [==============================] - 32s 885us/step - loss: 1.5553 - accuracy: 0.4387\n",
      "Epoch 87/100\n",
      "35757/35757 [==============================] - 32s 889us/step - loss: 1.5548 - accuracy: 0.4392\n",
      "Epoch 88/100\n",
      "35757/35757 [==============================] - 32s 888us/step - loss: 1.5535 - accuracy: 0.4390\n",
      "Epoch 89/100\n",
      "35757/35757 [==============================] - 31s 863us/step - loss: 1.5537 - accuracy: 0.4395\n",
      "Epoch 90/100\n",
      "35757/35757 [==============================] - 31s 867us/step - loss: 1.5550 - accuracy: 0.4389\n",
      "Epoch 91/100\n",
      "35757/35757 [==============================] - 31s 863us/step - loss: 1.5534 - accuracy: 0.4392\n",
      "Epoch 92/100\n",
      "35757/35757 [==============================] - 31s 868us/step - loss: 1.5525 - accuracy: 0.4394\n",
      "Epoch 93/100\n",
      "35757/35757 [==============================] - 31s 859us/step - loss: 1.5528 - accuracy: 0.4395\n",
      "Epoch 94/100\n",
      "35757/35757 [==============================] - 31s 866us/step - loss: 1.5546 - accuracy: 0.4395\n",
      "Epoch 95/100\n",
      "35757/35757 [==============================] - 31s 861us/step - loss: 1.5519 - accuracy: 0.4399\n",
      "Epoch 96/100\n",
      "35757/35757 [==============================] - 31s 866us/step - loss: 1.5527 - accuracy: 0.4398\n",
      "Epoch 97/100\n",
      "35757/35757 [==============================] - 32s 898us/step - loss: 1.5506 - accuracy: 0.4397\n",
      "Epoch 98/100\n",
      "35757/35757 [==============================] - 31s 878us/step - loss: 1.5497 - accuracy: 0.4398\n",
      "Epoch 99/100\n",
      "35757/35757 [==============================] - 31s 857us/step - loss: 1.5501 - accuracy: 0.4398\n",
      "Epoch 100/100\n",
      "35757/35757 [==============================] - 31s 861us/step - loss: 1.5516 - accuracy: 0.4404\n"
     ]
    },
    {
     "data": {
      "text/plain": [
       "<tensorflow.python.keras.callbacks.History at 0x1fb9c69aeb0>"
      ]
     },
     "execution_count": 173,
     "metadata": {},
     "output_type": "execute_result"
    }
   ],
   "source": [
    "# model definition\n",
    "model_over = ml.Sequential()\n",
    "model_over.add( l.Dense(128, input_dim=x_train_over.shape[1], activation='relu') )\n",
    "model_over.add( l.Dense(12, activation='softmax') )\n",
    "\n",
    "# model compile\n",
    "model_over.compile(loss='categorical_crossentropy', optimizer='adam', metrics=['accuracy'])\n",
    "\n",
    "# train model\n",
    "model_over.fit(x_train_over, y_train_over, epochs=100)"
   ]
  },
  {
   "cell_type": "markdown",
   "id": "d19c6429",
   "metadata": {},
   "source": [
    "#### 7.2.3.1. Random Oversampling - Performance"
   ]
  },
  {
   "cell_type": "code",
   "execution_count": 174,
   "id": "7c775ae4",
   "metadata": {
    "ExecuteTime": {
     "end_time": "2022-04-03T03:59:32.255459Z",
     "start_time": "2022-04-03T03:59:24.119688Z"
    }
   },
   "outputs": [],
   "source": [
    "# prediction\n",
    "pred_over_nn = model_over.predict(x_test_over)\n",
    "\n",
    "# invert prediction\n",
    "yhat_over_nn = ohe.inverse_transform(pred_over_nn)\n",
    "\n",
    "# invert validation response\n",
    "y_test_over_nn = ohe.inverse_transform(y_test_over)"
   ]
  },
  {
   "cell_type": "code",
   "execution_count": 175,
   "id": "ecc59636",
   "metadata": {
    "ExecuteTime": {
     "end_time": "2022-04-03T03:59:32.301877Z",
     "start_time": "2022-04-03T03:59:32.255459Z"
    },
    "cell_style": "split"
   },
   "outputs": [
    {
     "data": {
      "text/plain": [
       "CA       0.084056\n",
       "NL       0.083702\n",
       "ES       0.083688\n",
       "US       0.083678\n",
       "DE       0.083507\n",
       "NDF      0.083353\n",
       "IT       0.083192\n",
       "AU       0.083094\n",
       "other    0.083059\n",
       "FR       0.082926\n",
       "PT       0.082909\n",
       "GB       0.082835\n",
       "dtype: float64"
      ]
     },
     "execution_count": 175,
     "metadata": {},
     "output_type": "execute_result"
    }
   ],
   "source": [
    "# check the balance of validation\n",
    "pd.DataFrame(y_test_over_nn).value_counts(normalize=True)"
   ]
  },
  {
   "cell_type": "code",
   "execution_count": 176,
   "id": "b4e89b98",
   "metadata": {
    "ExecuteTime": {
     "end_time": "2022-04-03T03:59:32.351426Z",
     "start_time": "2022-04-03T03:59:32.306792Z"
    },
    "cell_style": "split"
   },
   "outputs": [
    {
     "data": {
      "text/plain": [
       "NL       0.149887\n",
       "IT       0.149796\n",
       "DE       0.112215\n",
       "AU       0.101776\n",
       "PT       0.086936\n",
       "NDF      0.083328\n",
       "FR       0.079263\n",
       "GB       0.065006\n",
       "CA       0.050226\n",
       "ES       0.049645\n",
       "US       0.047988\n",
       "other    0.023933\n",
       "dtype: float64"
      ]
     },
     "execution_count": 176,
     "metadata": {},
     "output_type": "execute_result"
    }
   ],
   "source": [
    "# check the balance of results\n",
    "pd.DataFrame(yhat_over_nn).value_counts(normalize=True)"
   ]
  },
  {
   "cell_type": "code",
   "execution_count": 177,
   "id": "20060d9f",
   "metadata": {
    "ExecuteTime": {
     "end_time": "2022-04-03T03:59:47.805180Z",
     "start_time": "2022-04-03T03:59:32.351426Z"
    }
   },
   "outputs": [
    {
     "name": "stdout",
     "output_type": "stream",
     "text": [
      "Accuracy: 0.4404245426482875\n",
      "Balanced Accuracy: 0.44067562294915724\n",
      "Kappa Score: 0.389558541048049\n",
      "              precision    recall  f1-score   support\n",
      "\n",
      "          AU       0.81      0.99      0.89     23769\n",
      "          CA       0.30      0.18      0.23     24044\n",
      "          DE       0.31      0.42      0.36     23887\n",
      "          ES       0.22      0.13      0.16     23939\n",
      "          FR       0.17      0.16      0.17     23721\n",
      "          GB       0.19      0.15      0.17     23695\n",
      "          IT       0.17      0.30      0.22     23797\n",
      "         NDF       1.00      1.00      1.00     23843\n",
      "          NL       0.45      0.81      0.58     23943\n",
      "          PT       0.94      0.99      0.97     23716\n",
      "          US       0.17      0.10      0.12     23936\n",
      "       other       0.19      0.06      0.09     23759\n",
      "\n",
      "    accuracy                           0.44    286049\n",
      "   macro avg       0.41      0.44      0.41    286049\n",
      "weighted avg       0.41      0.44      0.41    286049\n",
      "\n"
     ]
    },
    {
     "data": {
      "image/png": "[encoded data removed]",
      "text/plain": [
       "<Figure size 864x864 with 2 Axes>"
      ]
     },
     "metadata": {
      "needs_background": "light"
     },
     "output_type": "display_data"
    }
   ],
   "source": [
    "# Accuracy\n",
    "acc_over_nn = m.accuracy_score( y_test_over_nn, yhat_over_nn )\n",
    "print(f'Accuracy: {acc_over_nn}')\n",
    "\n",
    "# Balanced Accuracy\n",
    "balanced_acc_over_nn = m.balanced_accuracy_score(y_test_over_nn, yhat_over_nn)\n",
    "print(f'Balanced Accuracy: {balanced_acc_over_nn}')\n",
    "\n",
    "# Kappa Metrics\n",
    "kappa_over_nn = m.cohen_kappa_score(y_test_over_nn, yhat_over_nn)\n",
    "print(f'Kappa Score: {kappa_over_nn}')\n",
    "\n",
    "# Classification report\n",
    "print(m.classification_report(y_test_over_nn, yhat_over_nn))\n",
    "\n",
    "# Confusion Matrix\n",
    "mt.plot_confusion_matrix( y_test_over_nn, yhat_over_nn, normalize=False, figsize=(12,12));\n",
    "\n",
    "# Performance\n",
    "over_performance = {'model': 'NN Model - Random Oversampling', \n",
    "                    'acc': np.round(acc_over_nn, 6), \n",
    "                    'balanced_acc': np.round(balanced_acc_over_nn, 6), \n",
    "                    'kappa_score': np.round(kappa_over_nn, 6)}"
   ]
  },
  {
   "cell_type": "markdown",
   "id": "0e6d2008",
   "metadata": {},
   "source": [
    "#### 7.2.3.2. Random Oversampling - Cross-Validation"
   ]
  },
  {
   "cell_type": "code",
   "execution_count": 178,
   "id": "ebe9cebe",
   "metadata": {
    "ExecuteTime": {
     "end_time": "2022-04-03T06:45:40.336938Z",
     "start_time": "2022-04-03T03:59:47.805180Z"
    }
   },
   "outputs": [
    {
     "name": "stdout",
     "output_type": "stream",
     "text": [
      "Fold Number:1/5\n",
      "Fold Number:2/5\n",
      "Fold Number:3/5\n",
      "Fold Number:4/5\n",
      "Fold Number:5/5\n"
     ]
    }
   ],
   "source": [
    "# cross validation performance\n",
    "acc_over, balanced_acc_over, kappa_over = cross_validation(num_fold=5, \n",
    "                                                           x_train=x_train_over, \n",
    "                                                           y_train=y_train_over, \n",
    "                                                           model=model_over, \n",
    "                                                           verbose=True)"
   ]
  },
  {
   "cell_type": "code",
   "execution_count": 194,
   "id": "3a0c5e2e",
   "metadata": {
    "ExecuteTime": {
     "end_time": "2022-04-03T18:02:38.273165Z",
     "start_time": "2022-04-03T18:02:38.260212Z"
    }
   },
   "outputs": [],
   "source": [
    "# Performance\n",
    "over_performance_cv = {'model': 'NN Model - Random Oversampling - CV',\n",
    "                       'acc': f'{np.round(np.mean(acc_over), 2)} +/- {np.round(np.std(acc_over), 4)}',\n",
    "                       'balanced_acc': f'{np.round(np.mean(balanced_acc_over), 2)} +/- {np.round(np.std(balanced_acc_over), 4)}',\n",
    "                       'kappa_score': f'{np.round(np.mean(kappa_over), 2)} +/- {np.round(np.std(kappa_over), 4)}'}"
   ]
  },
  {
   "cell_type": "code",
   "execution_count": 195,
   "id": "0b0ec5cf",
   "metadata": {
    "ExecuteTime": {
     "end_time": "2022-04-03T18:02:43.131491Z",
     "start_time": "2022-04-03T18:02:43.103492Z"
    }
   },
   "outputs": [
    {
     "name": "stdout",
     "output_type": "stream",
     "text": [
      "Avg Accuracy: 0.46 +/- 0.00411\n",
      "Avg Balanced Accuracy: 0.46 +/- 0.00412\n",
      "Avg Kappa Score: 0.41 +/- 0.0045\n"
     ]
    }
   ],
   "source": [
    "print(f'Avg Accuracy: {np.round(np.mean(acc_over), 2)} +/- {np.round(np.std(acc_over),5)}')\n",
    "print(f'Avg Balanced Accuracy: {np.round(np.mean(balanced_acc_over), 2)} +/- {np.round(np.std(balanced_acc_over),5)}')\n",
    "print(f'Avg Kappa Score: {np.round(np.mean(kappa_over), 2)} +/- {np.round(np.std(kappa_over), 4)}')"
   ]
  },
  {
   "cell_type": "markdown",
   "id": "3b3b7390",
   "metadata": {},
   "source": [
    "### 7.2.4. Neural Network - SMOTE + TOMEKLINK"
   ]
  },
  {
   "cell_type": "code",
   "execution_count": 181,
   "id": "51494560",
   "metadata": {
    "ExecuteTime": {
     "end_time": "2022-04-03T10:27:37.241949Z",
     "start_time": "2022-04-03T09:34:29.384264Z"
    },
    "scrolled": true
   },
   "outputs": [
    {
     "name": "stdout",
     "output_type": "stream",
     "text": [
      "Epoch 1/100\n",
      "35718/35718 [==============================] - 31s 865us/step - loss: 1.8826 - accuracy: 0.3395\n",
      "Epoch 2/100\n",
      "35718/35718 [==============================] - 31s 867us/step - loss: 1.7120 - accuracy: 0.3991\n",
      "Epoch 3/100\n",
      "35718/35718 [==============================] - 31s 875us/step - loss: 1.6674 - accuracy: 0.4140\n",
      "Epoch 4/100\n",
      "35718/35718 [==============================] - 31s 872us/step - loss: 1.6440 - accuracy: 0.4214\n",
      "Epoch 5/100\n",
      "35718/35718 [==============================] - 31s 878us/step - loss: 1.6291 - accuracy: 0.4266\n",
      "Epoch 6/100\n",
      "35718/35718 [==============================] - 32s 906us/step - loss: 1.6178 - accuracy: 0.4302\n",
      "Epoch 7/100\n",
      "35718/35718 [==============================] - 32s 886us/step - loss: 1.6100 - accuracy: 0.4331\n",
      "Epoch 8/100\n",
      "35718/35718 [==============================] - 32s 890us/step - loss: 1.6019 - accuracy: 0.4359\n",
      "Epoch 9/100\n",
      "35718/35718 [==============================] - 31s 873us/step - loss: 1.5968 - accuracy: 0.4375\n",
      "Epoch 10/100\n",
      "35718/35718 [==============================] - 32s 890us/step - loss: 1.5915 - accuracy: 0.4389\n",
      "Epoch 11/100\n",
      "35718/35718 [==============================] - 32s 890us/step - loss: 1.5872 - accuracy: 0.4400\n",
      "Epoch 12/100\n",
      "35718/35718 [==============================] - 31s 864us/step - loss: 1.5842 - accuracy: 0.4410\n",
      "Epoch 13/100\n",
      "35718/35718 [==============================] - 31s 857us/step - loss: 1.5799 - accuracy: 0.4425\n",
      "Epoch 14/100\n",
      "35718/35718 [==============================] - 31s 867us/step - loss: 1.5770 - accuracy: 0.4436\n",
      "Epoch 15/100\n",
      "35718/35718 [==============================] - 31s 863us/step - loss: 1.5739 - accuracy: 0.4445\n",
      "Epoch 16/100\n",
      "35718/35718 [==============================] - 33s 930us/step - loss: 1.5716 - accuracy: 0.4456\n",
      "Epoch 17/100\n",
      "35718/35718 [==============================] - 31s 862us/step - loss: 1.5689 - accuracy: 0.4466\n",
      "Epoch 18/100\n",
      "35718/35718 [==============================] - 31s 871us/step - loss: 1.5664 - accuracy: 0.4470\n",
      "Epoch 19/100\n",
      "35718/35718 [==============================] - 31s 865us/step - loss: 1.5655 - accuracy: 0.4476\n",
      "Epoch 20/100\n",
      "35718/35718 [==============================] - 31s 868us/step - loss: 1.5627 - accuracy: 0.4484\n",
      "Epoch 21/100\n",
      "35718/35718 [==============================] - 31s 863us/step - loss: 1.5605 - accuracy: 0.4488\n",
      "Epoch 22/100\n",
      "35718/35718 [==============================] - 32s 906us/step - loss: 1.5598 - accuracy: 0.4490\n",
      "Epoch 23/100\n",
      "35718/35718 [==============================] - 31s 871us/step - loss: 1.5579 - accuracy: 0.4498\n",
      "Epoch 24/100\n",
      "35718/35718 [==============================] - 31s 863us/step - loss: 1.5561 - accuracy: 0.4504\n",
      "Epoch 25/100\n",
      "35718/35718 [==============================] - 32s 903us/step - loss: 1.5553 - accuracy: 0.4509\n",
      "Epoch 26/100\n",
      "35718/35718 [==============================] - 35s 972us/step - loss: 1.5548 - accuracy: 0.4510\n",
      "Epoch 27/100\n",
      "35718/35718 [==============================] - 33s 916us/step - loss: 1.5531 - accuracy: 0.4516\n",
      "Epoch 28/100\n",
      "35718/35718 [==============================] - 32s 902us/step - loss: 1.5518 - accuracy: 0.4519\n",
      "Epoch 29/100\n",
      "35718/35718 [==============================] - 33s 919us/step - loss: 1.5504 - accuracy: 0.4520\n",
      "Epoch 30/100\n",
      "35718/35718 [==============================] - 33s 935us/step - loss: 1.5497 - accuracy: 0.4525\n",
      "Epoch 31/100\n",
      "35718/35718 [==============================] - 33s 910us/step - loss: 1.5497 - accuracy: 0.4527\n",
      "Epoch 32/100\n",
      "35718/35718 [==============================] - 32s 900us/step - loss: 1.5477 - accuracy: 0.4531\n",
      "Epoch 33/100\n",
      "35718/35718 [==============================] - 33s 928us/step - loss: 1.5469 - accuracy: 0.4533\n",
      "Epoch 34/100\n",
      "35718/35718 [==============================] - 32s 907us/step - loss: 1.5460 - accuracy: 0.4537\n",
      "Epoch 35/100\n",
      "35718/35718 [==============================] - 34s 960us/step - loss: 1.5454 - accuracy: 0.4539\n",
      "Epoch 36/100\n",
      "35718/35718 [==============================] - 33s 915us/step - loss: 1.5449 - accuracy: 0.4543\n",
      "Epoch 37/100\n",
      "35718/35718 [==============================] - 32s 902us/step - loss: 1.5441 - accuracy: 0.4541\n",
      "Epoch 38/100\n",
      "35718/35718 [==============================] - 33s 920us/step - loss: 1.5427 - accuracy: 0.4544\n",
      "Epoch 39/100\n",
      "35718/35718 [==============================] - 32s 905us/step - loss: 1.5427 - accuracy: 0.4551\n",
      "Epoch 40/100\n",
      "35718/35718 [==============================] - 33s 911us/step - loss: 1.5417 - accuracy: 0.4552\n",
      "Epoch 41/100\n",
      "35718/35718 [==============================] - 32s 906us/step - loss: 1.5405 - accuracy: 0.4557\n",
      "Epoch 42/100\n",
      "35718/35718 [==============================] - 33s 915us/step - loss: 1.5406 - accuracy: 0.4556\n",
      "Epoch 43/100\n",
      "35718/35718 [==============================] - 32s 902us/step - loss: 1.5403 - accuracy: 0.4561\n",
      "Epoch 44/100\n",
      "35718/35718 [==============================] - 33s 918us/step - loss: 1.5399 - accuracy: 0.4559\n",
      "Epoch 45/100\n",
      "35718/35718 [==============================] - 32s 905us/step - loss: 1.5381 - accuracy: 0.4561\n",
      "Epoch 46/100\n",
      "35718/35718 [==============================] - 32s 910us/step - loss: 1.5372 - accuracy: 0.4567\n",
      "Epoch 47/100\n",
      "35718/35718 [==============================] - 33s 933us/step - loss: 1.5370 - accuracy: 0.4567\n",
      "Epoch 48/100\n",
      "35718/35718 [==============================] - 34s 939us/step - loss: 1.5365 - accuracy: 0.4570\n",
      "Epoch 49/100\n",
      "35718/35718 [==============================] - 33s 920us/step - loss: 1.5353 - accuracy: 0.4572\n",
      "Epoch 50/100\n",
      "35718/35718 [==============================] - 33s 934us/step - loss: 1.5347 - accuracy: 0.4570\n",
      "Epoch 51/100\n",
      "35718/35718 [==============================] - 33s 923us/step - loss: 1.5341 - accuracy: 0.4576\n",
      "Epoch 52/100\n",
      "35718/35718 [==============================] - 32s 902us/step - loss: 1.5346 - accuracy: 0.4570\n",
      "Epoch 53/100\n",
      "35718/35718 [==============================] - 34s 948us/step - loss: 1.5334 - accuracy: 0.4579\n",
      "Epoch 54/100\n",
      "35718/35718 [==============================] - 31s 861us/step - loss: 1.5326 - accuracy: 0.4580\n",
      "Epoch 55/100\n",
      "35718/35718 [==============================] - 31s 863us/step - loss: 1.5319 - accuracy: 0.4582\n",
      "Epoch 56/100\n",
      "35718/35718 [==============================] - 31s 860us/step - loss: 1.5315 - accuracy: 0.4588\n",
      "Epoch 57/100\n",
      "35718/35718 [==============================] - 31s 865us/step - loss: 1.5310 - accuracy: 0.4588\n",
      "Epoch 58/100\n",
      "35718/35718 [==============================] - 31s 856us/step - loss: 1.5306 - accuracy: 0.4585\n",
      "Epoch 59/100\n",
      "35718/35718 [==============================] - 31s 855us/step - loss: 1.5314 - accuracy: 0.4591\n",
      "Epoch 60/100\n",
      "35718/35718 [==============================] - 31s 854us/step - loss: 1.5314 - accuracy: 0.4585\n",
      "Epoch 61/100\n",
      "35718/35718 [==============================] - 31s 862us/step - loss: 1.5291 - accuracy: 0.4587\n",
      "Epoch 62/100\n",
      "35718/35718 [==============================] - 31s 856us/step - loss: 1.5295 - accuracy: 0.4591\n",
      "Epoch 63/100\n",
      "35718/35718 [==============================] - 32s 905us/step - loss: 1.5281 - accuracy: 0.4594\n",
      "Epoch 64/100\n",
      "35718/35718 [==============================] - 31s 863us/step - loss: 1.5285 - accuracy: 0.4593\n",
      "Epoch 65/100\n",
      "35718/35718 [==============================] - 31s 863us/step - loss: 1.5281 - accuracy: 0.4593\n",
      "Epoch 66/100\n",
      "35718/35718 [==============================] - 31s 864us/step - loss: 1.5282 - accuracy: 0.4598\n",
      "Epoch 67/100\n",
      "35718/35718 [==============================] - 32s 894us/step - loss: 1.5275 - accuracy: 0.4599\n",
      "Epoch 68/100\n",
      "35718/35718 [==============================] - 31s 868us/step - loss: 1.5273 - accuracy: 0.4597\n",
      "Epoch 69/100\n",
      "35718/35718 [==============================] - 31s 855us/step - loss: 1.5267 - accuracy: 0.4598\n",
      "Epoch 70/100\n",
      "35718/35718 [==============================] - 31s 865us/step - loss: 1.5266 - accuracy: 0.4602\n",
      "Epoch 71/100\n",
      "35718/35718 [==============================] - 31s 857us/step - loss: 1.5247 - accuracy: 0.4605\n",
      "Epoch 72/100\n",
      "35718/35718 [==============================] - 31s 880us/step - loss: 1.5240 - accuracy: 0.4610\n",
      "Epoch 73/100\n",
      "35718/35718 [==============================] - 31s 862us/step - loss: 1.5243 - accuracy: 0.4607\n",
      "Epoch 74/100\n",
      "35718/35718 [==============================] - 32s 892us/step - loss: 1.5243 - accuracy: 0.4609\n",
      "Epoch 75/100\n",
      "35718/35718 [==============================] - 31s 855us/step - loss: 1.5239 - accuracy: 0.4612\n",
      "Epoch 76/100\n"
     ]
    },
    {
     "name": "stdout",
     "output_type": "stream",
     "text": [
      "35718/35718 [==============================] - 31s 860us/step - loss: 1.5248 - accuracy: 0.4612\n",
      "Epoch 77/100\n",
      "35718/35718 [==============================] - 31s 858us/step - loss: 1.5225 - accuracy: 0.4614\n",
      "Epoch 78/100\n",
      "35718/35718 [==============================] - 31s 865us/step - loss: 1.5227 - accuracy: 0.4608\n",
      "Epoch 79/100\n",
      "35718/35718 [==============================] - 32s 902us/step - loss: 1.5222 - accuracy: 0.4613\n",
      "Epoch 80/100\n",
      "35718/35718 [==============================] - 31s 875us/step - loss: 1.5216 - accuracy: 0.4619\n",
      "Epoch 81/100\n",
      "35718/35718 [==============================] - 32s 889us/step - loss: 1.5207 - accuracy: 0.4614\n",
      "Epoch 82/100\n",
      "35718/35718 [==============================] - 32s 899us/step - loss: 1.5210 - accuracy: 0.4613\n",
      "Epoch 83/100\n",
      "35718/35718 [==============================] - 31s 859us/step - loss: 1.5204 - accuracy: 0.4619\n",
      "Epoch 84/100\n",
      "35718/35718 [==============================] - 31s 864us/step - loss: 1.5200 - accuracy: 0.4619\n",
      "Epoch 85/100\n",
      "35718/35718 [==============================] - 31s 863us/step - loss: 1.5190 - accuracy: 0.4621\n",
      "Epoch 86/100\n",
      "35718/35718 [==============================] - 31s 864us/step - loss: 1.5208 - accuracy: 0.4624\n",
      "Epoch 87/100\n",
      "35718/35718 [==============================] - 32s 888us/step - loss: 1.5205 - accuracy: 0.4620\n",
      "Epoch 88/100\n",
      "35718/35718 [==============================] - 31s 880us/step - loss: 1.5194 - accuracy: 0.4623\n",
      "Epoch 89/100\n",
      "35718/35718 [==============================] - 31s 858us/step - loss: 1.5184 - accuracy: 0.4624\n",
      "Epoch 90/100\n",
      "35718/35718 [==============================] - 31s 866us/step - loss: 1.5175 - accuracy: 0.4628\n",
      "Epoch 91/100\n",
      "35718/35718 [==============================] - 31s 861us/step - loss: 1.5182 - accuracy: 0.4627\n",
      "Epoch 92/100\n",
      "35718/35718 [==============================] - 33s 925us/step - loss: 1.5179 - accuracy: 0.4627\n",
      "Epoch 93/100\n",
      "35718/35718 [==============================] - 31s 867us/step - loss: 1.5168 - accuracy: 0.4631\n",
      "Epoch 94/100\n",
      "35718/35718 [==============================] - 31s 860us/step - loss: 1.5165 - accuracy: 0.4631\n",
      "Epoch 95/100\n",
      "35718/35718 [==============================] - 32s 889us/step - loss: 1.5172 - accuracy: 0.4629\n",
      "Epoch 96/100\n",
      "35718/35718 [==============================] - 30s 844us/step - loss: 1.5166 - accuracy: 0.4633\n",
      "Epoch 97/100\n",
      "35718/35718 [==============================] - 31s 865us/step - loss: 1.5154 - accuracy: 0.4633\n",
      "Epoch 98/100\n",
      "35718/35718 [==============================] - 31s 859us/step - loss: 1.5155 - accuracy: 0.4633\n",
      "Epoch 99/100\n",
      "35718/35718 [==============================] - 31s 866us/step - loss: 1.5163 - accuracy: 0.4633\n",
      "Epoch 100/100\n",
      "35718/35718 [==============================] - 31s 857us/step - loss: 1.5164 - accuracy: 0.4638\n"
     ]
    },
    {
     "data": {
      "text/plain": [
       "<tensorflow.python.keras.callbacks.History at 0x1fb8b7315b0>"
      ]
     },
     "execution_count": 181,
     "metadata": {},
     "output_type": "execute_result"
    }
   ],
   "source": [
    "# model definition\n",
    "model_comb = ml.Sequential()\n",
    "model_comb.add( l.Dense(128, input_dim=x_train_comb.shape[1], activation='relu') )\n",
    "model_comb.add( l.Dense(12, activation='softmax') )\n",
    "\n",
    "# model compile\n",
    "model_comb.compile(loss='categorical_crossentropy', optimizer='adam', metrics=['accuracy'])\n",
    "\n",
    "# train model\n",
    "model_comb.fit(x_train_comb, y_train_comb, epochs=100)"
   ]
  },
  {
   "cell_type": "markdown",
   "id": "7e2efdd6",
   "metadata": {
    "ExecuteTime": {
     "end_time": "2022-03-09T02:32:36.774772Z",
     "start_time": "2022-03-09T02:32:36.732790Z"
    }
   },
   "source": [
    "#### 7.2.4.1. SMOTE + TOMEKLINK - Performance"
   ]
  },
  {
   "cell_type": "code",
   "execution_count": 182,
   "id": "ae999ad1",
   "metadata": {
    "ExecuteTime": {
     "end_time": "2022-04-03T10:27:48.923067Z",
     "start_time": "2022-04-03T10:27:37.241949Z"
    }
   },
   "outputs": [],
   "source": [
    "# prediction\n",
    "pred_comb_nn = model_comb.predict(x_test_comb)\n",
    "\n",
    "# invert prediction\n",
    "yhat_comb_nn = ohe.inverse_transform(pred_comb_nn)\n",
    "\n",
    "# invert validation response\n",
    "y_test_comb_nn = ohe.inverse_transform(y_test_comb)"
   ]
  },
  {
   "cell_type": "code",
   "execution_count": 183,
   "id": "1d78485e",
   "metadata": {
    "ExecuteTime": {
     "end_time": "2022-04-03T10:27:49.050032Z",
     "start_time": "2022-04-03T10:27:48.923067Z"
    },
    "cell_style": "split"
   },
   "outputs": [
    {
     "data": {
      "text/plain": [
       "NL       0.084532\n",
       "CA       0.083972\n",
       "ES       0.083653\n",
       "other    0.083478\n",
       "AU       0.083335\n",
       "PT       0.083247\n",
       "DE       0.083240\n",
       "IT       0.083212\n",
       "NDF      0.083142\n",
       "FR       0.082999\n",
       "US       0.082848\n",
       "GB       0.082341\n",
       "dtype: float64"
      ]
     },
     "execution_count": 183,
     "metadata": {},
     "output_type": "execute_result"
    }
   ],
   "source": [
    "# check the balance of validation\n",
    "pd.DataFrame(y_test_comb_nn).value_counts(normalize=True)"
   ]
  },
  {
   "cell_type": "code",
   "execution_count": 184,
   "id": "c9059ad9",
   "metadata": {
    "ExecuteTime": {
     "end_time": "2022-04-03T10:27:49.108872Z",
     "start_time": "2022-04-03T10:27:49.061176Z"
    },
    "cell_style": "split"
   },
   "outputs": [
    {
     "data": {
      "text/plain": [
       "US       0.181277\n",
       "NL       0.115543\n",
       "DE       0.102804\n",
       "AU       0.097736\n",
       "ES       0.095640\n",
       "CA       0.092588\n",
       "NDF      0.083177\n",
       "PT       0.080808\n",
       "IT       0.070858\n",
       "FR       0.043988\n",
       "other    0.018429\n",
       "GB       0.017152\n",
       "dtype: float64"
      ]
     },
     "execution_count": 184,
     "metadata": {},
     "output_type": "execute_result"
    }
   ],
   "source": [
    "# check the balance of result\n",
    "pd.DataFrame(yhat_comb_nn).value_counts(normalize=True)"
   ]
  },
  {
   "cell_type": "code",
   "execution_count": 185,
   "id": "37392137",
   "metadata": {
    "ExecuteTime": {
     "end_time": "2022-04-03T10:28:04.725033Z",
     "start_time": "2022-04-03T10:27:49.108872Z"
    }
   },
   "outputs": [
    {
     "name": "stdout",
     "output_type": "stream",
     "text": [
      "Accuracy: 0.4629644535747658\n",
      "Balanced Accuracy: 0.46256336018480754\n",
      "Kappa Score: 0.4140980792737514\n",
      "              precision    recall  f1-score   support\n",
      "\n",
      "          AU       0.71      0.84      0.77     23812\n",
      "          CA       0.32      0.35      0.33     23994\n",
      "          DE       0.39      0.48      0.43     23785\n",
      "          ES       0.24      0.28      0.26     23903\n",
      "          FR       0.23      0.12      0.16     23716\n",
      "          GB       0.27      0.06      0.09     23528\n",
      "          IT       0.20      0.17      0.19     23777\n",
      "         NDF       1.00      1.00      1.00     23757\n",
      "          NL       0.50      0.68      0.57     24154\n",
      "          PT       0.92      0.89      0.91     23787\n",
      "          US       0.29      0.62      0.39     23673\n",
      "       other       0.26      0.06      0.09     23853\n",
      "\n",
      "    accuracy                           0.46    285739\n",
      "   macro avg       0.44      0.46      0.43    285739\n",
      "weighted avg       0.44      0.46      0.43    285739\n",
      "\n"
     ]
    },
    {
     "data": {
      "image/png": "[encoded data removed]",
      "text/plain": [
       "<Figure size 864x864 with 2 Axes>"
      ]
     },
     "metadata": {
      "needs_background": "light"
     },
     "output_type": "display_data"
    }
   ],
   "source": [
    "# Accuracy\n",
    "acc_comb_nn = m.accuracy_score( y_test_comb_nn, yhat_comb_nn )\n",
    "print(f'Accuracy: {acc_comb_nn}')\n",
    "\n",
    "# Balanced Accuracy\n",
    "balanced_acc_comb_nn = m.balanced_accuracy_score(y_test_comb_nn, yhat_comb_nn)\n",
    "print(f'Balanced Accuracy: {balanced_acc_comb_nn}')\n",
    "\n",
    "# Kappa Metrics\n",
    "kappa_comb_nn = m.cohen_kappa_score(y_test_comb_nn, yhat_comb_nn)\n",
    "print(f'Kappa Score: {kappa_comb_nn}')\n",
    "\n",
    "# Classification report\n",
    "print(m.classification_report(y_test_comb_nn, yhat_comb_nn))\n",
    "\n",
    "# Confusion Matrix\n",
    "mt.plot_confusion_matrix( y_test_comb_nn, yhat_comb_nn, normalize=False, figsize=(12,12));\n",
    "\n",
    "# Performance\n",
    "comb_performance = {'model': 'NN Model - SMOTE + TOMEKLINK', \n",
    "                    'acc': np.round(acc_comb_nn, 6), \n",
    "                    'balanced_acc': np.round(balanced_acc_comb_nn, 6), \n",
    "                    'kappa_score': np.round(kappa_comb_nn, 6)}"
   ]
  },
  {
   "cell_type": "markdown",
   "id": "e0c2cca9",
   "metadata": {},
   "source": [
    "#### 7.2.4.2. SMOTE + TOMEKLINK - Cross-Validation"
   ]
  },
  {
   "cell_type": "code",
   "execution_count": 190,
   "id": "b3f2691e",
   "metadata": {
    "ExecuteTime": {
     "end_time": "2022-04-03T17:42:42.872388Z",
     "start_time": "2022-04-03T14:24:21.402191Z"
    }
   },
   "outputs": [
    {
     "name": "stdout",
     "output_type": "stream",
     "text": [
      "Fold Number:1/5\n",
      "Fold Number:2/5\n",
      "Fold Number:3/5\n",
      "Fold Number:4/5\n",
      "Fold Number:5/5\n"
     ]
    }
   ],
   "source": [
    "# cross validation performance\n",
    "acc_comb, balanced_acc_comb, kappa_comb = cross_validation(num_fold=5, \n",
    "                                                           x_train=x_train_comb, \n",
    "                                                           y_train=y_train_comb, \n",
    "                                                           model=model_comb, \n",
    "                                                           verbose=True)"
   ]
  },
  {
   "cell_type": "code",
   "execution_count": 191,
   "id": "2fbaaa42",
   "metadata": {
    "ExecuteTime": {
     "end_time": "2022-04-03T18:00:13.912320Z",
     "start_time": "2022-04-03T18:00:13.871320Z"
    }
   },
   "outputs": [],
   "source": [
    "# Performance\n",
    "comb_performance_cv = {'model': 'NN Model - SMOTE + TOMEKLINK - CV',\n",
    "                       'acc': f'{np.round(np.mean(acc_comb), 2)} +/- {np.round(np.std(acc_comb), 4)}',\n",
    "                       'balanced_acc': f'{np.round(np.mean(balanced_acc_comb), 2)} +/- {np.round(np.std(balanced_acc_comb), 4)}',\n",
    "                       'kappa_score': f'{np.round(np.mean(kappa_comb), 2)} +/- {np.round(np.std(kappa_comb), 4)}'}"
   ]
  },
  {
   "cell_type": "code",
   "execution_count": 192,
   "id": "9cd40bbf",
   "metadata": {
    "ExecuteTime": {
     "end_time": "2022-04-03T18:00:21.371692Z",
     "start_time": "2022-04-03T18:00:21.347694Z"
    }
   },
   "outputs": [
    {
     "name": "stdout",
     "output_type": "stream",
     "text": [
      "Avg Accuracy: 0.48 +/- 0.00205\n",
      "Avg Balanced Accuracy: 0.48 +/- 0.00205\n",
      "Avg Kappa Score: 0.43 +/- 0.0022\n"
     ]
    }
   ],
   "source": [
    "print(f'Avg Accuracy: {np.round(np.mean(acc_comb), 2)} +/- {np.round(np.std(acc_comb),5)}')\n",
    "print(f'Avg Balanced Accuracy: {np.round(np.mean(balanced_acc_comb), 2)} +/- {np.round(np.std(balanced_acc_comb),5)}')\n",
    "print(f'Avg Kappa Score: {np.round(np.mean(kappa_comb), 2)} +/- {np.round(np.std(kappa_comb), 4)}')"
   ]
  },
  {
   "cell_type": "markdown",
   "id": "dec46b91",
   "metadata": {},
   "source": [
    "# 8.0. Hyper Parameter Tuning\n",
    "\n",
    "Hyper Parameter Tuning will not be considered until the most optimal machine learning model is selected, at this first cycle was considered only one model to complete the cycle and go through for all the major phases to validate the feasibility of the project."
   ]
  },
  {
   "cell_type": "code",
   "execution_count": null,
   "id": "2033ffaa",
   "metadata": {},
   "outputs": [],
   "source": []
  },
  {
   "cell_type": "markdown",
   "id": "caddd600",
   "metadata": {},
   "source": [
    "# 9.0. Error Translation and Interpretation"
   ]
  },
  {
   "cell_type": "markdown",
   "id": "cc98a2dd",
   "metadata": {},
   "source": [
    "## 9.2. Neural Network Performance"
   ]
  },
  {
   "cell_type": "code",
   "execution_count": null,
   "id": "d2005058",
   "metadata": {},
   "outputs": [],
   "source": []
  },
  {
   "cell_type": "markdown",
   "id": "2d632718",
   "metadata": {},
   "source": [
    "# 10.0. Deploy Model\n",
    "\n",
    "No models will be deployed yet."
   ]
  },
  {
   "cell_type": "code",
   "execution_count": null,
   "id": "a610263d",
   "metadata": {},
   "outputs": [],
   "source": []
  },
  {
   "cell_type": "markdown",
   "id": "f1f2c1d6",
   "metadata": {},
   "source": [
    "# 11.0. Conclusion"
   ]
  },
  {
   "cell_type": "markdown",
   "id": "23c9304e",
   "metadata": {
    "ExecuteTime": {
     "end_time": "2022-04-03T22:01:35.899259Z",
     "start_time": "2022-04-03T22:01:35.709752Z"
    }
   },
   "source": [
    "Data preparation provided an increase in all metrics of at least 100%, with the best performance for Kappa Score and the balance between Accuracy and Balanced Accuracy metrics.\n",
    "\n",
    "The improvement was expected due to the functioning of the Neural Network, which is very sensitive to the lack of scale between attributes.\n",
    "\n",
    "After this phase the discrepancy between the mechanisms became evident, with a better performance for Oversampling mechanisms, with a small advantage for SMOTE Tomek Link.\n",
    "\n",
    "A disadvantage was an increase in processing time due to the SMOTE Tomek Link balancing mechanism with the new dataset."
   ]
  },
  {
   "cell_type": "markdown",
   "id": "fd380d77",
   "metadata": {},
   "source": [
    "## 11.1. Current Cycle Performance"
   ]
  },
  {
   "cell_type": "code",
   "execution_count": 252,
   "id": "a801e6ba",
   "metadata": {
    "ExecuteTime": {
     "end_time": "2022-04-03T18:57:57.315167Z",
     "start_time": "2022-04-03T18:57:57.194152Z"
    },
    "hide_input": true,
    "scrolled": true
   },
   "outputs": [
    {
     "data": {
      "text/html": [
       "<div>\n",
       "<style scoped>\n",
       "    .dataframe tbody tr th:only-of-type {\n",
       "        vertical-align: middle;\n",
       "    }\n",
       "\n",
       "    .dataframe tbody tr th {\n",
       "        vertical-align: top;\n",
       "    }\n",
       "\n",
       "    .dataframe thead th {\n",
       "        text-align: right;\n",
       "    }\n",
       "</style>\n",
       "<table border=\"1\" class=\"dataframe\">\n",
       "  <thead>\n",
       "    <tr style=\"text-align: right;\">\n",
       "      <th></th>\n",
       "      <th>cycle</th>\n",
       "      <th>process</th>\n",
       "      <th>model</th>\n",
       "      <th>acc</th>\n",
       "      <th>balanced_acc</th>\n",
       "      <th>kappa_score</th>\n",
       "    </tr>\n",
       "  </thead>\n",
       "  <tbody>\n",
       "    <tr>\n",
       "      <th>0</th>\n",
       "      <td>7th_cycle</td>\n",
       "      <td>data_preparation</td>\n",
       "      <td>Baseline Model</td>\n",
       "      <td>0.424568</td>\n",
       "      <td>0.082398</td>\n",
       "      <td>NaN</td>\n",
       "    </tr>\n",
       "    <tr>\n",
       "      <th>1</th>\n",
       "      <td>7th_cycle</td>\n",
       "      <td>data_preparation</td>\n",
       "      <td>NN Model - Imbalanced Data</td>\n",
       "      <td>0.873256</td>\n",
       "      <td>0.166689</td>\n",
       "      <td>0.766114</td>\n",
       "    </tr>\n",
       "    <tr>\n",
       "      <th>2</th>\n",
       "      <td>7th_cycle</td>\n",
       "      <td>data_preparation</td>\n",
       "      <td>NN Model - Imbalanced Data - CV</td>\n",
       "      <td>0.87 +/- 0.0002</td>\n",
       "      <td>0.17 +/- 0.0015</td>\n",
       "      <td>0.77 +/- 0.0002</td>\n",
       "    </tr>\n",
       "    <tr>\n",
       "      <th>3</th>\n",
       "      <td>7th_cycle</td>\n",
       "      <td>data_preparation</td>\n",
       "      <td>NN Model - Random Undersampling</td>\n",
       "      <td>0.170923</td>\n",
       "      <td>0.18021</td>\n",
       "      <td>0.095462</td>\n",
       "    </tr>\n",
       "    <tr>\n",
       "      <th>4</th>\n",
       "      <td>7th_cycle</td>\n",
       "      <td>data_preparation</td>\n",
       "      <td>NN Model - Random Undersampling - CV</td>\n",
       "      <td>0.36 +/- 0.0592</td>\n",
       "      <td>0.36 +/- 0.0594</td>\n",
       "      <td>0.3 +/- 0.0646</td>\n",
       "    </tr>\n",
       "    <tr>\n",
       "      <th>5</th>\n",
       "      <td>7th_cycle</td>\n",
       "      <td>data_preparation</td>\n",
       "      <td>NN Model - Random Oversampling</td>\n",
       "      <td>0.440425</td>\n",
       "      <td>0.440676</td>\n",
       "      <td>0.389559</td>\n",
       "    </tr>\n",
       "    <tr>\n",
       "      <th>6</th>\n",
       "      <td>7th_cycle</td>\n",
       "      <td>data_preparation</td>\n",
       "      <td>NN Model - Random Oversampling - CV</td>\n",
       "      <td>0.46 +/- 0.0041</td>\n",
       "      <td>0.46 +/- 0.0041</td>\n",
       "      <td>0.41 +/- 0.0045</td>\n",
       "    </tr>\n",
       "    <tr>\n",
       "      <th>7</th>\n",
       "      <td>7th_cycle</td>\n",
       "      <td>data_preparation</td>\n",
       "      <td>NN Model - SMOTE + TOMEKLINK</td>\n",
       "      <td>0.462964</td>\n",
       "      <td>0.462563</td>\n",
       "      <td>0.414098</td>\n",
       "    </tr>\n",
       "    <tr>\n",
       "      <th>8</th>\n",
       "      <td>7th_cycle</td>\n",
       "      <td>data_preparation</td>\n",
       "      <td>NN Model - SMOTE + TOMEKLINK - CV</td>\n",
       "      <td>0.48 +/- 0.0021</td>\n",
       "      <td>0.48 +/- 0.0021</td>\n",
       "      <td>0.43 +/- 0.0022</td>\n",
       "    </tr>\n",
       "  </tbody>\n",
       "</table>\n",
       "</div>"
      ],
      "text/plain": [
       "       cycle           process                                 model  \\\n",
       "0  7th_cycle  data_preparation                        Baseline Model   \n",
       "1  7th_cycle  data_preparation            NN Model - Imbalanced Data   \n",
       "2  7th_cycle  data_preparation       NN Model - Imbalanced Data - CV   \n",
       "3  7th_cycle  data_preparation       NN Model - Random Undersampling   \n",
       "4  7th_cycle  data_preparation  NN Model - Random Undersampling - CV   \n",
       "5  7th_cycle  data_preparation        NN Model - Random Oversampling   \n",
       "6  7th_cycle  data_preparation   NN Model - Random Oversampling - CV   \n",
       "7  7th_cycle  data_preparation          NN Model - SMOTE + TOMEKLINK   \n",
       "8  7th_cycle  data_preparation     NN Model - SMOTE + TOMEKLINK - CV   \n",
       "\n",
       "               acc     balanced_acc      kappa_score  \n",
       "0         0.424568         0.082398              NaN  \n",
       "1         0.873256         0.166689         0.766114  \n",
       "2  0.87 +/- 0.0002  0.17 +/- 0.0015  0.77 +/- 0.0002  \n",
       "3         0.170923          0.18021         0.095462  \n",
       "4  0.36 +/- 0.0592  0.36 +/- 0.0594   0.3 +/- 0.0646  \n",
       "5         0.440425         0.440676         0.389559  \n",
       "6  0.46 +/- 0.0041  0.46 +/- 0.0041  0.41 +/- 0.0045  \n",
       "7         0.462964         0.462563         0.414098  \n",
       "8  0.48 +/- 0.0021  0.48 +/- 0.0021  0.43 +/- 0.0022  "
      ]
     },
     "execution_count": 252,
     "metadata": {},
     "output_type": "execute_result"
    }
   ],
   "source": [
    "# performance dataframe\n",
    "df_performance = pd.DataFrame([baseline_performance, imb_performance, imb_performance_cv, \n",
    "                               under_performance, under_performance_cv, \n",
    "                               over_performance, over_performance_cv, \n",
    "                               comb_performance, comb_performance_cv])\n",
    "\n",
    "df_performance['cycle'] = '7th_cycle'\n",
    "df_performance['process'] = 'data_preparation'\n",
    "df_performance = df_performance[['cycle', 'process', 'model', 'acc', 'balanced_acc', 'kappa_score']]\n",
    "\n",
    "# save 7th cycle to comparison\n",
    "df_performance.to_csv('../Datasets/7th_cycle_performance', index=False)\n",
    "\n",
    "# display performance dataframe\n",
    "df_performance"
   ]
  },
  {
   "cell_type": "markdown",
   "id": "a77ac3d6",
   "metadata": {},
   "source": [
    "## 11.2. Cycle Comparison"
   ]
  },
  {
   "cell_type": "code",
   "execution_count": 253,
   "id": "e2b819d5",
   "metadata": {
    "ExecuteTime": {
     "end_time": "2022-04-03T18:58:02.255126Z",
     "start_time": "2022-04-03T18:58:02.163087Z"
    },
    "hide_input": true,
    "scrolled": true
   },
   "outputs": [
    {
     "data": {
      "text/html": [
       "<div>\n",
       "<style scoped>\n",
       "    .dataframe tbody tr th:only-of-type {\n",
       "        vertical-align: middle;\n",
       "    }\n",
       "\n",
       "    .dataframe tbody tr th {\n",
       "        vertical-align: top;\n",
       "    }\n",
       "\n",
       "    .dataframe thead th {\n",
       "        text-align: right;\n",
       "    }\n",
       "</style>\n",
       "<table border=\"1\" class=\"dataframe\">\n",
       "  <thead>\n",
       "    <tr style=\"text-align: right;\">\n",
       "      <th></th>\n",
       "      <th>cycle</th>\n",
       "      <th>process</th>\n",
       "      <th>model</th>\n",
       "      <th>acc</th>\n",
       "      <th>balanced_acc</th>\n",
       "      <th>kappa_score</th>\n",
       "    </tr>\n",
       "  </thead>\n",
       "  <tbody>\n",
       "    <tr>\n",
       "      <th>0</th>\n",
       "      <td>1st_cycle</td>\n",
       "      <td>validation_pipeline</td>\n",
       "      <td>Neural Network Model</td>\n",
       "      <td>0.70407</td>\n",
       "      <td>0</td>\n",
       "      <td>0</td>\n",
       "    </tr>\n",
       "    <tr>\n",
       "      <th>2</th>\n",
       "      <td>2nd_cycle</td>\n",
       "      <td>baseline_model</td>\n",
       "      <td>Neural Network Model</td>\n",
       "      <td>0.70275</td>\n",
       "      <td>0.091927</td>\n",
       "      <td>0.002145</td>\n",
       "    </tr>\n",
       "    <tr>\n",
       "      <th>4</th>\n",
       "      <td>3rd_cycle</td>\n",
       "      <td>replace_na</td>\n",
       "      <td>Neural Network Model</td>\n",
       "      <td>0.628333</td>\n",
       "      <td>0.107554</td>\n",
       "      <td>0.240606</td>\n",
       "    </tr>\n",
       "    <tr>\n",
       "      <th>5</th>\n",
       "      <td>3rd_cycle</td>\n",
       "      <td>replace_na</td>\n",
       "      <td>Neural Network Model - CV</td>\n",
       "      <td>0.63 +/- 0.0013</td>\n",
       "      <td>0.11 +/- 0.0009</td>\n",
       "      <td>0.24 +/- 0.0063</td>\n",
       "    </tr>\n",
       "    <tr>\n",
       "      <th>7</th>\n",
       "      <td>4th_cycle</td>\n",
       "      <td>feature_engineering</td>\n",
       "      <td>Neural Network Model</td>\n",
       "      <td>0.867452</td>\n",
       "      <td>0.165729</td>\n",
       "      <td>0.756099</td>\n",
       "    </tr>\n",
       "    <tr>\n",
       "      <th>8</th>\n",
       "      <td>4th_cycle</td>\n",
       "      <td>feature_engineering</td>\n",
       "      <td>Neural Network Model - CV</td>\n",
       "      <td>0.87 +/- 0.0</td>\n",
       "      <td>0.17 +/- 0.0</td>\n",
       "      <td>0.77 +/- 0.0001</td>\n",
       "    </tr>\n",
       "    <tr>\n",
       "      <th>17</th>\n",
       "      <td>5th_cycle</td>\n",
       "      <td>balanced_dataset</td>\n",
       "      <td>NN Model - SMOTE + TOMEKLINK - CV</td>\n",
       "      <td>0.22 +/- 0.004</td>\n",
       "      <td>0.22 +/- 0.004</td>\n",
       "      <td>0.15 +/- 0.0044</td>\n",
       "    </tr>\n",
       "    <tr>\n",
       "      <th>26</th>\n",
       "      <td>6th_cycle</td>\n",
       "      <td>exploratory_data_analysis</td>\n",
       "      <td>NN Model - SMOTE + TOMEKLINK - CV</td>\n",
       "      <td>0.22 +/- 0.001</td>\n",
       "      <td>0.22 +/- 0.001</td>\n",
       "      <td>0.14 +/- 0.0011</td>\n",
       "    </tr>\n",
       "    <tr>\n",
       "      <th>35</th>\n",
       "      <td>7th_cycle</td>\n",
       "      <td>data_preparation</td>\n",
       "      <td>NN Model - SMOTE + TOMEKLINK - CV</td>\n",
       "      <td>0.48 +/- 0.0021</td>\n",
       "      <td>0.48 +/- 0.0021</td>\n",
       "      <td>0.43 +/- 0.0022</td>\n",
       "    </tr>\n",
       "  </tbody>\n",
       "</table>\n",
       "</div>"
      ],
      "text/plain": [
       "        cycle                    process                              model  \\\n",
       "0   1st_cycle        validation_pipeline               Neural Network Model   \n",
       "2   2nd_cycle             baseline_model               Neural Network Model   \n",
       "4   3rd_cycle                 replace_na               Neural Network Model   \n",
       "5   3rd_cycle                 replace_na          Neural Network Model - CV   \n",
       "7   4th_cycle        feature_engineering               Neural Network Model   \n",
       "8   4th_cycle        feature_engineering          Neural Network Model - CV   \n",
       "17  5th_cycle           balanced_dataset  NN Model - SMOTE + TOMEKLINK - CV   \n",
       "26  6th_cycle  exploratory_data_analysis  NN Model - SMOTE + TOMEKLINK - CV   \n",
       "35  7th_cycle           data_preparation  NN Model - SMOTE + TOMEKLINK - CV   \n",
       "\n",
       "                acc     balanced_acc      kappa_score  \n",
       "0           0.70407                0                0  \n",
       "2           0.70275         0.091927         0.002145  \n",
       "4          0.628333         0.107554         0.240606  \n",
       "5   0.63 +/- 0.0013  0.11 +/- 0.0009  0.24 +/- 0.0063  \n",
       "7          0.867452         0.165729         0.756099  \n",
       "8      0.87 +/- 0.0     0.17 +/- 0.0  0.77 +/- 0.0001  \n",
       "17   0.22 +/- 0.004   0.22 +/- 0.004  0.15 +/- 0.0044  \n",
       "26   0.22 +/- 0.001   0.22 +/- 0.001  0.14 +/- 0.0011  \n",
       "35  0.48 +/- 0.0021  0.48 +/- 0.0021  0.43 +/- 0.0022  "
      ]
     },
     "execution_count": 253,
     "metadata": {},
     "output_type": "execute_result"
    }
   ],
   "source": [
    "# first cycle performance load\n",
    "performance_1st_cycle = pd.read_csv('../Datasets/1st_cycle_performance')\n",
    "\n",
    "# second cycle performance load\n",
    "performance_2nd_cycle = pd.read_csv('../Datasets/2nd_cycle_performance')\n",
    "\n",
    "# third cycle performance laod\n",
    "performance_3rd_cycle = pd.read_csv('../Datasets/3rd_cycle_performance')\n",
    "\n",
    "# fourth cycle performance load\n",
    "performance_4th_cycle = pd.read_csv('../Datasets/4th_cycle_performance')\n",
    "\n",
    "# fifth cycle performance load\n",
    "performance_5th_cycle = pd.read_csv('../Datasets/5th_cycle_performance')\n",
    "\n",
    "# sixth cycle performance load\n",
    "performance_6th_cycle = pd.read_csv('../Datasets/6th_cycle_performance')\n",
    "\n",
    "# join cycles dataframes\n",
    "performance = pd.concat([performance_1st_cycle, \n",
    "                         performance_2nd_cycle, \n",
    "                         performance_3rd_cycle, \n",
    "                         performance_4th_cycle, \n",
    "                         performance_5th_cycle, \n",
    "                         performance_6th_cycle, \n",
    "                         df_performance]).reset_index(drop=True)\n",
    "\n",
    "# select the models desired\n",
    "performance = performance[(performance['model'] != 'Baseline Model') & \n",
    "                          (performance['model'] != 'NN Model - SMOTE + TOMEKLINK') &\n",
    "                          (~performance['model'].str.contains('Imbalanced Data')) & \n",
    "                          (~performance['model'].str.contains('Random Undersampling')) & \n",
    "                          (~performance['model'].str.contains('Random Oversampling'))].fillna(0)\n",
    "\n",
    "# display performance\n",
    "performance"
   ]
  },
  {
   "cell_type": "code",
   "execution_count": 255,
   "id": "fc50f5a9",
   "metadata": {
    "ExecuteTime": {
     "end_time": "2022-04-03T18:58:15.837341Z",
     "start_time": "2022-04-03T18:58:14.752333Z"
    },
    "hide_input": true,
    "scrolled": false
   },
   "outputs": [
    {
     "data": {
      "image/png": "[encoded data removed]",
      "text/plain": [
       "<Figure size 1080x432 with 1 Axes>"
      ]
     },
     "metadata": {
      "needs_background": "light"
     },
     "output_type": "display_data"
    }
   ],
   "source": [
    "plt.figure(figsize=(15,6))\n",
    "\n",
    "# extract only number for cross validation metrics\n",
    "performance['acc'] = performance['acc'].apply(lambda x: str(x)[0:4])\n",
    "performance['balanced_acc'] = performance['balanced_acc'].apply(lambda x: str(x)[0:4])\n",
    "performance['kappa_score'] = performance['kappa_score'].apply(lambda x: str(x)[0:4])\n",
    "\n",
    "# formating data in float to futere operation\n",
    "performance['acc'] = performance['acc'].astype(float)\n",
    "performance['balanced_acc'] = performance['balanced_acc'].astype(float)\n",
    "performance['kappa_score'] = performance['kappa_score'].astype(float)\n",
    "\n",
    "# grouping data for cycle\n",
    "performance_group = performance[['cycle', 'process', 'model', 'acc', 'balanced_acc', 'kappa_score']]\\\n",
    "                    .groupby('cycle').max().reset_index()\n",
    "\n",
    "# Evolution of Performance over Cycles\n",
    "sns.lineplot(x='cycle', y='acc', data=performance_group)\n",
    "\n",
    "sns.lineplot(x='cycle', y='balanced_acc', data=performance_group)\n",
    "\n",
    "sns.lineplot(x='cycle', y='kappa_score', data=performance_group)\n",
    "\n",
    "# set legend and titles\n",
    "plt.legend(labels=['Accuracy','Balanced Accuracy', 'Kappa Score'])\n",
    "plt.title('Evolution of Performance over Cycle')\n",
    "plt.ylabel('Percentage')\n",
    "plt.xlabel('Cycles')\n",
    "plt.grid();"
   ]
  },
  {
   "cell_type": "code",
   "execution_count": 256,
   "id": "fede1e5d",
   "metadata": {
    "ExecuteTime": {
     "end_time": "2022-04-03T18:58:21.660337Z",
     "start_time": "2022-04-03T18:58:21.607336Z"
    },
    "hide_input": true
   },
   "outputs": [
    {
     "data": {
      "text/html": [
       "<div>\n",
       "<style scoped>\n",
       "    .dataframe tbody tr th:only-of-type {\n",
       "        vertical-align: middle;\n",
       "    }\n",
       "\n",
       "    .dataframe tbody tr th {\n",
       "        vertical-align: top;\n",
       "    }\n",
       "\n",
       "    .dataframe thead th {\n",
       "        text-align: right;\n",
       "    }\n",
       "</style>\n",
       "<table border=\"1\" class=\"dataframe\">\n",
       "  <thead>\n",
       "    <tr style=\"text-align: right;\">\n",
       "      <th></th>\n",
       "      <th>cycle</th>\n",
       "      <th>process</th>\n",
       "      <th>model</th>\n",
       "      <th>acc</th>\n",
       "      <th>pct_acc</th>\n",
       "      <th>balanced_acc</th>\n",
       "      <th>pct_bal_acc</th>\n",
       "      <th>kappa_score</th>\n",
       "      <th>pct_kappa_score</th>\n",
       "    </tr>\n",
       "  </thead>\n",
       "  <tbody>\n",
       "    <tr>\n",
       "      <th>0</th>\n",
       "      <td>1st_cycle</td>\n",
       "      <td>validation_pipeline</td>\n",
       "      <td>Neural Network Model</td>\n",
       "      <td>0.70</td>\n",
       "      <td>NaN</td>\n",
       "      <td>0.00</td>\n",
       "      <td>NaN</td>\n",
       "      <td>0.00</td>\n",
       "      <td>NaN</td>\n",
       "    </tr>\n",
       "    <tr>\n",
       "      <th>1</th>\n",
       "      <td>2nd_cycle</td>\n",
       "      <td>baseline_model</td>\n",
       "      <td>Neural Network Model</td>\n",
       "      <td>0.70</td>\n",
       "      <td>0.00</td>\n",
       "      <td>0.09</td>\n",
       "      <td>inf</td>\n",
       "      <td>0.00</td>\n",
       "      <td>NaN</td>\n",
       "    </tr>\n",
       "    <tr>\n",
       "      <th>2</th>\n",
       "      <td>3rd_cycle</td>\n",
       "      <td>replace_na</td>\n",
       "      <td>Neural Network Model - CV</td>\n",
       "      <td>0.63</td>\n",
       "      <td>-0.10</td>\n",
       "      <td>0.11</td>\n",
       "      <td>0.22</td>\n",
       "      <td>0.24</td>\n",
       "      <td>inf</td>\n",
       "    </tr>\n",
       "    <tr>\n",
       "      <th>3</th>\n",
       "      <td>4th_cycle</td>\n",
       "      <td>feature_engineering</td>\n",
       "      <td>Neural Network Model - CV</td>\n",
       "      <td>0.87</td>\n",
       "      <td>0.38</td>\n",
       "      <td>0.17</td>\n",
       "      <td>0.55</td>\n",
       "      <td>0.77</td>\n",
       "      <td>2.21</td>\n",
       "    </tr>\n",
       "    <tr>\n",
       "      <th>4</th>\n",
       "      <td>5th_cycle</td>\n",
       "      <td>balanced_dataset</td>\n",
       "      <td>NN Model - SMOTE + TOMEKLINK - CV</td>\n",
       "      <td>0.22</td>\n",
       "      <td>-0.75</td>\n",
       "      <td>0.22</td>\n",
       "      <td>0.29</td>\n",
       "      <td>0.15</td>\n",
       "      <td>-0.81</td>\n",
       "    </tr>\n",
       "    <tr>\n",
       "      <th>5</th>\n",
       "      <td>6th_cycle</td>\n",
       "      <td>exploratory_data_analysis</td>\n",
       "      <td>NN Model - SMOTE + TOMEKLINK - CV</td>\n",
       "      <td>0.22</td>\n",
       "      <td>0.00</td>\n",
       "      <td>0.22</td>\n",
       "      <td>0.00</td>\n",
       "      <td>0.14</td>\n",
       "      <td>-0.07</td>\n",
       "    </tr>\n",
       "    <tr>\n",
       "      <th>6</th>\n",
       "      <td>7th_cycle</td>\n",
       "      <td>data_preparation</td>\n",
       "      <td>NN Model - SMOTE + TOMEKLINK - CV</td>\n",
       "      <td>0.48</td>\n",
       "      <td>1.18</td>\n",
       "      <td>0.48</td>\n",
       "      <td>1.18</td>\n",
       "      <td>0.43</td>\n",
       "      <td>2.07</td>\n",
       "    </tr>\n",
       "  </tbody>\n",
       "</table>\n",
       "</div>"
      ],
      "text/plain": [
       "       cycle                    process                              model  \\\n",
       "0  1st_cycle        validation_pipeline               Neural Network Model   \n",
       "1  2nd_cycle             baseline_model               Neural Network Model   \n",
       "2  3rd_cycle                 replace_na          Neural Network Model - CV   \n",
       "3  4th_cycle        feature_engineering          Neural Network Model - CV   \n",
       "4  5th_cycle           balanced_dataset  NN Model - SMOTE + TOMEKLINK - CV   \n",
       "5  6th_cycle  exploratory_data_analysis  NN Model - SMOTE + TOMEKLINK - CV   \n",
       "6  7th_cycle           data_preparation  NN Model - SMOTE + TOMEKLINK - CV   \n",
       "\n",
       "    acc  pct_acc  balanced_acc  pct_bal_acc  kappa_score  pct_kappa_score  \n",
       "0  0.70      NaN          0.00          NaN         0.00              NaN  \n",
       "1  0.70     0.00          0.09          inf         0.00              NaN  \n",
       "2  0.63    -0.10          0.11         0.22         0.24              inf  \n",
       "3  0.87     0.38          0.17         0.55         0.77             2.21  \n",
       "4  0.22    -0.75          0.22         0.29         0.15            -0.81  \n",
       "5  0.22     0.00          0.22         0.00         0.14            -0.07  \n",
       "6  0.48     1.18          0.48         1.18         0.43             2.07  "
      ]
     },
     "execution_count": 256,
     "metadata": {},
     "output_type": "execute_result"
    }
   ],
   "source": [
    "performance_group['pct_acc'] = np.round(performance_group['acc'].pct_change(), 2)\n",
    "\n",
    "performance_group['pct_bal_acc'] = np.round(performance_group['balanced_acc'].pct_change(), 2)\n",
    "\n",
    "performance_group['pct_kappa_score'] = np.round(performance_group['kappa_score'].pct_change(), 2)\n",
    "\n",
    "performance_group[['cycle', 'process', 'model', 'acc', 'pct_acc', \n",
    "                   'balanced_acc', 'pct_bal_acc', 'kappa_score', 'pct_kappa_score']]"
   ]
  }
 ],
 "metadata": {
  "kernelspec": {
   "display_name": "Python 3 (ipykernel)",
   "language": "python",
   "name": "python3"
  },
  "language_info": {
   "codemirror_mode": {
    "name": "ipython",
    "version": 3
   },
   "file_extension": ".py",
   "mimetype": "text/x-python",
   "name": "python",
   "nbconvert_exporter": "python",
   "pygments_lexer": "ipython3",
   "version": "3.8.12"
  },
  "varInspector": {
   "cols": {
    "lenName": 16,
    "lenType": 16,
    "lenVar": 40
   },
   "kernels_config": {
    "python": {
     "delete_cmd_postfix": "",
     "delete_cmd_prefix": "del ",
     "library": "var_list.py",
     "varRefreshCmd": "print(var_dic_list())"
    },
    "r": {
     "delete_cmd_postfix": ") ",
     "delete_cmd_prefix": "rm(",
     "library": "var_list.r",
     "varRefreshCmd": "cat(var_dic_list()) "
    }
   },
   "types_to_exclude": [
    "module",
    "function",
    "builtin_function_or_method",
    "instance",
    "_Feature"
   ],
   "window_display": false
  }
 },
 "nbformat": 4,
 "nbformat_minor": 5
}
