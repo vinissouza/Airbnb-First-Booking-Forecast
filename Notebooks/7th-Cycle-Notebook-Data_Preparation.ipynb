{
 "cells": [
  {
   "cell_type": "markdown",
   "id": "e9da1de2",
   "metadata": {
    "ExecuteTime": {
     "end_time": "2022-02-28T20:43:44.606104Z",
     "start_time": "2022-02-28T20:43:44.598146Z"
    }
   },
   "source": [
    "# 0.0. Imports"
   ]
  },
  {
   "cell_type": "code",
   "execution_count": 1,
   "id": "4a97ff0c",
   "metadata": {
    "ExecuteTime": {
     "end_time": "2022-04-11T14:01:18.481801Z",
     "start_time": "2022-04-11T14:00:48.682900Z"
    }
   },
   "outputs": [],
   "source": [
    "import numpy   as np\n",
    "import pandas  as pd\n",
    "import random\n",
    "import seaborn as sns \n",
    "import warnings\n",
    "\n",
    "from matplotlib import pyplot as plt\n",
    "\n",
    "from scipy      import stats           as ss\n",
    "from sklearn    import model_selection as ms\n",
    "from sklearn    import preprocessing   as pp\n",
    "from sklearn    import metrics         as m\n",
    "from scikitplot import metrics         as mt\n",
    "\n",
    "from sklearn.ensemble      import RandomForestRegressor\n",
    "\n",
    "from imblearn import under_sampling as us\n",
    "from imblearn import over_sampling  as osamp\n",
    "from imblearn import combine        as comb\n",
    "\n",
    "from category_encoders import TargetEncoder\n",
    "\n",
    "# from pandas_profiling import ProfileReport\n",
    "\n",
    "from keras import models as ml\n",
    "from keras import layers as l\n",
    "\n",
    "warnings.filterwarnings('ignore')"
   ]
  },
  {
   "cell_type": "markdown",
   "id": "58b2f295",
   "metadata": {},
   "source": [
    "## 0.1. Auxiliar Functions"
   ]
  },
  {
   "cell_type": "code",
   "execution_count": 2,
   "id": "c27e09c1",
   "metadata": {
    "ExecuteTime": {
     "end_time": "2022-04-11T14:01:32.759923Z",
     "start_time": "2022-04-11T14:01:32.635968Z"
    }
   },
   "outputs": [],
   "source": [
    "def cross_validation(num_fold, x_train, y_train, model, response_encoder, balance_model=False, verbose=False):\n",
    "    # generate k-fold\n",
    "    num_folds = 5\n",
    "    kfold = ms.StratifiedKFold( n_splits=num_folds, shuffle=True, random_state=32 )\n",
    "\n",
    "    # create empty metrics list\n",
    "    acc_list = []\n",
    "    balanced_acc_list = []\n",
    "    kappa_list = []\n",
    "\n",
    "    # sequence of loop for verbose\n",
    "    i = 1\n",
    "    \n",
    "    # interation to measure performance\n",
    "    for train_index, val_index in kfold.split( x_train, response_encoder.inverse_transform(y_train) ):\n",
    "        if verbose:\n",
    "            print(f'Fold Number:{i}/{num_folds}')\n",
    "\n",
    "        # split data into training and test set\n",
    "        x_train_cv = x_train.iloc[train_index]\n",
    "        y_train_cv = y_train.iloc[train_index]\n",
    "\n",
    "        x_validation_cv = x_train.iloc[val_index]\n",
    "        y_validation_cv = y_train.iloc[val_index]\n",
    "        \n",
    "        # balance of dataset\n",
    "        if balance_model != False:\n",
    "            # resample the dataset\n",
    "            x_train_cv, y_train_cv = balance_model.fit_resample(x_train_cv, response_encoder.inverse_transform(y_train_cv))\n",
    "            \n",
    "            # convert back to encoding representation\n",
    "            y_train_cv = pd.DataFrame(response_encoder.transform(y_train_cv.reshape(-1,1)).toarray(), \n",
    "                                      columns=response_encoder.categories_[0], \n",
    "                                      index=x_train_cv.index)\n",
    "\n",
    "        # train model\n",
    "        model.fit(x_train_cv, y_train_cv, epochs=100, batch_size=32, verbose=0)\n",
    "\n",
    "        # prediction\n",
    "        pred_cv = model.predict(x_validation_cv)\n",
    "\n",
    "        # invert prediction\n",
    "        yhat_cv = response_encoder.inverse_transform(pred_cv)\n",
    "\n",
    "        # invert validation response\n",
    "        y_test_cv = response_encoder.inverse_transform(y_validation_cv)\n",
    "\n",
    "        # performance metrics\n",
    "        # Accuracy\n",
    "        acc_model = m.accuracy_score( y_test_cv, yhat_cv )\n",
    "        acc_list.append(acc_model)\n",
    "        \n",
    "        # Balanced Accuracy\n",
    "        balanced_acc_model = m.balanced_accuracy_score(y_test_cv, yhat_cv)\n",
    "        balanced_acc_list.append(balanced_acc_model)\n",
    "\n",
    "        # Kappa Metrics\n",
    "        kappa_model = m.cohen_kappa_score(y_test_cv, yhat_cv)\n",
    "        kappa_list.append(kappa_model)\n",
    "\n",
    "        i += 1\n",
    "\n",
    "    return acc_list, balanced_acc_list, kappa_list\n",
    "\n",
    "\n",
    "def cramer_v(x, y):\n",
    "    \n",
    "    cm = pd.crosstab(x, y).values\n",
    "    n = cm.sum()\n",
    "    r, k = cm.shape\n",
    "    \n",
    "    rcorr = r - ((r-1)**2)/(n-1)\n",
    "    \n",
    "    kcorr = k - ((k-1)**2)/(n-1)\n",
    "    \n",
    "    chi2 = ss.chi2_contingency(cm)[0]\n",
    "    chi2corr = max(0, chi2 - (k-1)*(r-1)/(n-1))\n",
    "    \n",
    "    return np.sqrt((chi2corr/n)/(min(kcorr-1, rcorr-1)))"
   ]
  },
  {
   "cell_type": "markdown",
   "id": "04bd4aba",
   "metadata": {},
   "source": [
    "## 0.2. Load Data"
   ]
  },
  {
   "cell_type": "code",
   "execution_count": 3,
   "id": "05c73b56",
   "metadata": {
    "ExecuteTime": {
     "end_time": "2022-04-11T14:01:51.165541Z",
     "start_time": "2022-04-11T14:01:34.809969Z"
    }
   },
   "outputs": [],
   "source": [
    "# load training set of user\n",
    "data_users = pd.read_csv('../Datasets/train_users_2.csv', low_memory=False)\n",
    "\n",
    "# load web sessions log for users\n",
    "data_sessions = pd.read_csv('../Datasets/sessions.csv', low_memory=False)"
   ]
  },
  {
   "cell_type": "markdown",
   "id": "1179dcfc",
   "metadata": {},
   "source": [
    "# 1.0. Data Description"
   ]
  },
  {
   "cell_type": "code",
   "execution_count": 4,
   "id": "a59196b7",
   "metadata": {
    "ExecuteTime": {
     "end_time": "2022-04-11T14:01:59.567729Z",
     "start_time": "2022-04-11T14:01:59.233603Z"
    }
   },
   "outputs": [],
   "source": [
    "df01_users = data_users.copy()\n",
    "\n",
    "df01_sessions = data_sessions.copy()"
   ]
  },
  {
   "cell_type": "markdown",
   "id": "1ccddadb",
   "metadata": {},
   "source": [
    "## 1.1. Data Types"
   ]
  },
  {
   "cell_type": "code",
   "execution_count": 5,
   "id": "fe162f91",
   "metadata": {
    "ExecuteTime": {
     "end_time": "2022-04-11T14:01:59.853723Z",
     "start_time": "2022-04-11T14:01:59.796726Z"
    },
    "cell_style": "split"
   },
   "outputs": [
    {
     "data": {
      "text/plain": [
       "id                          object\n",
       "date_account_created        object\n",
       "timestamp_first_active       int64\n",
       "date_first_booking          object\n",
       "gender                      object\n",
       "age                        float64\n",
       "signup_method               object\n",
       "signup_flow                  int64\n",
       "language                    object\n",
       "affiliate_channel           object\n",
       "affiliate_provider          object\n",
       "first_affiliate_tracked     object\n",
       "signup_app                  object\n",
       "first_device_type           object\n",
       "first_browser               object\n",
       "country_destination         object\n",
       "dtype: object"
      ]
     },
     "execution_count": 5,
     "metadata": {},
     "output_type": "execute_result"
    }
   ],
   "source": [
    "df01_users.dtypes"
   ]
  },
  {
   "cell_type": "code",
   "execution_count": 6,
   "id": "859ee10e",
   "metadata": {
    "ExecuteTime": {
     "end_time": "2022-04-11T14:02:00.330533Z",
     "start_time": "2022-04-11T14:02:00.254535Z"
    },
    "cell_style": "split"
   },
   "outputs": [
    {
     "data": {
      "text/plain": [
       "user_id           object\n",
       "action            object\n",
       "action_type       object\n",
       "action_detail     object\n",
       "device_type       object\n",
       "secs_elapsed     float64\n",
       "dtype: object"
      ]
     },
     "execution_count": 6,
     "metadata": {},
     "output_type": "execute_result"
    }
   ],
   "source": [
    "df01_sessions.dtypes"
   ]
  },
  {
   "cell_type": "markdown",
   "id": "297d0bec",
   "metadata": {
    "cell_style": "center"
   },
   "source": [
    "## 1.2. Data Dimensions"
   ]
  },
  {
   "cell_type": "markdown",
   "id": "c617277e",
   "metadata": {},
   "source": [
    "### 1.2.1. Data Users Dimensions "
   ]
  },
  {
   "cell_type": "code",
   "execution_count": 7,
   "id": "6889bc8e",
   "metadata": {
    "ExecuteTime": {
     "end_time": "2022-04-11T14:02:01.244350Z",
     "start_time": "2022-04-11T14:02:01.227293Z"
    }
   },
   "outputs": [
    {
     "name": "stdout",
     "output_type": "stream",
     "text": [
      "Number of rows of users dataset: 213451\n",
      "Number of columnss of users dataset: 16\n"
     ]
    }
   ],
   "source": [
    "print( f'Number of rows of users dataset: {df01_users.shape[0]}')\n",
    "print( f'Number of columnss of users dataset: {df01_users.shape[1]}')"
   ]
  },
  {
   "cell_type": "markdown",
   "id": "152339da",
   "metadata": {},
   "source": [
    "### 1.2.2. Data Sessions Dimensions\n",
    "\n",
    "This dataset will not be used in this first cycle due to the granularity being action and we want to be user_id for now."
   ]
  },
  {
   "cell_type": "code",
   "execution_count": 8,
   "id": "c1459d2d",
   "metadata": {
    "ExecuteTime": {
     "end_time": "2022-04-11T14:02:01.640288Z",
     "start_time": "2022-04-11T14:02:01.631292Z"
    }
   },
   "outputs": [
    {
     "name": "stdout",
     "output_type": "stream",
     "text": [
      "Number of rows of sessions dataset: 10567737\n",
      "Number of columnss of session dataset: 6\n"
     ]
    }
   ],
   "source": [
    "print( f'Number of rows of sessions dataset: {df01_sessions.shape[0]}')\n",
    "print( f'Number of columnss of session dataset: {df01_sessions.shape[1]}')"
   ]
  },
  {
   "cell_type": "markdown",
   "id": "5ed2d4e7",
   "metadata": {},
   "source": [
    "## 1.3. Check NA"
   ]
  },
  {
   "cell_type": "markdown",
   "id": "3b2018f1",
   "metadata": {},
   "source": [
    "### 1.3.1. Check NA - Data Users"
   ]
  },
  {
   "cell_type": "code",
   "execution_count": 9,
   "id": "49097f87",
   "metadata": {
    "ExecuteTime": {
     "end_time": "2022-04-11T14:02:02.616695Z",
     "start_time": "2022-04-11T14:02:02.417640Z"
    },
    "cell_style": "split"
   },
   "outputs": [
    {
     "data": {
      "text/plain": [
       "id                              0\n",
       "date_account_created            0\n",
       "timestamp_first_active          0\n",
       "date_first_booking         124543\n",
       "gender                          0\n",
       "age                         87990\n",
       "signup_method                   0\n",
       "signup_flow                     0\n",
       "language                        0\n",
       "affiliate_channel               0\n",
       "affiliate_provider              0\n",
       "first_affiliate_tracked      6065\n",
       "signup_app                      0\n",
       "first_device_type               0\n",
       "first_browser                   0\n",
       "country_destination             0\n",
       "dtype: int64"
      ]
     },
     "execution_count": 9,
     "metadata": {},
     "output_type": "execute_result"
    }
   ],
   "source": [
    "df01_users.isna().sum()"
   ]
  },
  {
   "cell_type": "code",
   "execution_count": 10,
   "id": "c559b15b",
   "metadata": {
    "ExecuteTime": {
     "end_time": "2022-04-11T14:02:02.951637Z",
     "start_time": "2022-04-11T14:02:02.766639Z"
    },
    "cell_style": "split"
   },
   "outputs": [
    {
     "data": {
      "text/plain": [
       "id                         0.000000\n",
       "date_account_created       0.000000\n",
       "timestamp_first_active     0.000000\n",
       "date_first_booking         0.583473\n",
       "gender                     0.000000\n",
       "age                        0.412226\n",
       "signup_method              0.000000\n",
       "signup_flow                0.000000\n",
       "language                   0.000000\n",
       "affiliate_channel          0.000000\n",
       "affiliate_provider         0.000000\n",
       "first_affiliate_tracked    0.028414\n",
       "signup_app                 0.000000\n",
       "first_device_type          0.000000\n",
       "first_browser              0.000000\n",
       "country_destination        0.000000\n",
       "dtype: float64"
      ]
     },
     "execution_count": 10,
     "metadata": {},
     "output_type": "execute_result"
    }
   ],
   "source": [
    "df01_users.isna().sum()/df01_users.shape[0]"
   ]
  },
  {
   "cell_type": "markdown",
   "id": "2176ca0f",
   "metadata": {},
   "source": [
    "### 1.3.2. Check NA - Data Sessions"
   ]
  },
  {
   "cell_type": "code",
   "execution_count": 11,
   "id": "09c5347b",
   "metadata": {
    "ExecuteTime": {
     "end_time": "2022-04-11T14:02:05.123637Z",
     "start_time": "2022-04-11T14:02:03.096643Z"
    },
    "cell_style": "split"
   },
   "outputs": [
    {
     "data": {
      "text/plain": [
       "user_id            34496\n",
       "action             79626\n",
       "action_type      1126204\n",
       "action_detail    1126204\n",
       "device_type            0\n",
       "secs_elapsed      136031\n",
       "dtype: int64"
      ]
     },
     "execution_count": 11,
     "metadata": {},
     "output_type": "execute_result"
    }
   ],
   "source": [
    "df01_sessions.isna().sum()"
   ]
  },
  {
   "cell_type": "code",
   "execution_count": 12,
   "id": "55751da3",
   "metadata": {
    "ExecuteTime": {
     "end_time": "2022-04-11T14:02:07.451636Z",
     "start_time": "2022-04-11T14:02:05.335635Z"
    },
    "cell_style": "split"
   },
   "outputs": [
    {
     "data": {
      "text/plain": [
       "user_id          0.003264\n",
       "action           0.007535\n",
       "action_type      0.106570\n",
       "action_detail    0.106570\n",
       "device_type      0.000000\n",
       "secs_elapsed     0.012872\n",
       "dtype: float64"
      ]
     },
     "execution_count": 12,
     "metadata": {},
     "output_type": "execute_result"
    }
   ],
   "source": [
    "df01_sessions.isna().sum()/df01_sessions.shape[0]"
   ]
  },
  {
   "cell_type": "markdown",
   "id": "bd581316",
   "metadata": {},
   "source": [
    "## 1.4. Fillout NA"
   ]
  },
  {
   "cell_type": "markdown",
   "id": "02d2f026",
   "metadata": {},
   "source": [
    "### 1.4.1. Fillout NA - Data Users\n",
    "\n",
    "- **date_first_booking:** the maximum date of the dataset is chosen due to future features considered the space between dates.\n",
    "\n",
    "- **age:** variable age has a normal distribution, so replacing it with with a mean value will not bias the dataset.\n",
    "\n",
    "- **first_affiliate_tracked:** due to the high probability of bias the dataset with categorical data substitution and the low amount of NA datas in this variable, the NA lines will be dropped."
   ]
  },
  {
   "cell_type": "code",
   "execution_count": 13,
   "id": "17027a20",
   "metadata": {
    "ExecuteTime": {
     "end_time": "2022-04-11T14:02:07.893635Z",
     "start_time": "2022-04-11T14:02:07.646639Z"
    }
   },
   "outputs": [],
   "source": [
    "# date_first_booking\n",
    "max_date_first_booking = pd.to_datetime(df01_users['date_first_booking']).max().strftime('%Y-%m-%d')\n",
    "df01_users['date_first_booking'] = df01_users['date_first_booking'].fillna(max_date_first_booking)\n",
    "\n",
    "# age\n",
    "avg_age = int(df01_users['age'].mean())\n",
    "df01_users['age'] = df01_users['age'].fillna(avg_age)\n",
    "\n",
    "# first_affiliate_tracked\n",
    "df01_users = df01_users[~df01_users['first_affiliate_tracked'].isna()]"
   ]
  },
  {
   "cell_type": "code",
   "execution_count": 14,
   "id": "1e6bc1db",
   "metadata": {
    "ExecuteTime": {
     "end_time": "2022-04-11T14:02:08.226642Z",
     "start_time": "2022-04-11T14:02:08.104651Z"
    }
   },
   "outputs": [
    {
     "data": {
      "text/plain": [
       "id                         0.0\n",
       "date_account_created       0.0\n",
       "timestamp_first_active     0.0\n",
       "date_first_booking         0.0\n",
       "gender                     0.0\n",
       "age                        0.0\n",
       "signup_method              0.0\n",
       "signup_flow                0.0\n",
       "language                   0.0\n",
       "affiliate_channel          0.0\n",
       "affiliate_provider         0.0\n",
       "first_affiliate_tracked    0.0\n",
       "signup_app                 0.0\n",
       "first_device_type          0.0\n",
       "first_browser              0.0\n",
       "country_destination        0.0\n",
       "dtype: float64"
      ]
     },
     "execution_count": 14,
     "metadata": {},
     "output_type": "execute_result"
    }
   ],
   "source": [
    "df01_users.isna().sum()/df01_users.shape[0]"
   ]
  },
  {
   "cell_type": "markdown",
   "id": "8375bdfd",
   "metadata": {},
   "source": [
    "### 1.4.2. Fillout NA - Data Sessions\n",
    "\n",
    "Due to a massise amount of data, all NA lines will be dropped."
   ]
  },
  {
   "cell_type": "code",
   "execution_count": 15,
   "id": "97e5f525",
   "metadata": {
    "ExecuteTime": {
     "end_time": "2022-04-11T14:02:13.685654Z",
     "start_time": "2022-04-11T14:02:08.373642Z"
    }
   },
   "outputs": [],
   "source": [
    "# user_id  - 0.003264\n",
    "df01_sessions = df01_sessions[~df01_sessions['user_id'].isna()]\n",
    "\n",
    "# action - 0.007535\n",
    "df01_sessions = df01_sessions[~df01_sessions['action'].isna()]\n",
    "\n",
    "# action_type - 0.106570\n",
    "df01_sessions = df01_sessions[~df01_sessions['action_type'].isna()]\n",
    "\n",
    "# action_detail - 0.106570\n",
    "df01_sessions = df01_sessions[~df01_sessions['action_detail'].isna()]\n",
    "\n",
    "# secs_elapsed - 0.012872\n",
    "df01_sessions = df01_sessions[~df01_sessions['secs_elapsed'].isna()]"
   ]
  },
  {
   "cell_type": "code",
   "execution_count": 16,
   "id": "1b4ae28d",
   "metadata": {
    "ExecuteTime": {
     "end_time": "2022-04-11T14:02:15.665633Z",
     "start_time": "2022-04-11T14:02:13.862638Z"
    }
   },
   "outputs": [
    {
     "data": {
      "text/plain": [
       "user_id          0.0\n",
       "action           0.0\n",
       "action_type      0.0\n",
       "action_detail    0.0\n",
       "device_type      0.0\n",
       "secs_elapsed     0.0\n",
       "dtype: float64"
      ]
     },
     "execution_count": 16,
     "metadata": {},
     "output_type": "execute_result"
    }
   ],
   "source": [
    "df01_sessions.isna().sum()/df01_sessions.shape[0]"
   ]
  },
  {
   "cell_type": "markdown",
   "id": "7076ae4e",
   "metadata": {},
   "source": [
    "## 1.5. Change Data Type"
   ]
  },
  {
   "cell_type": "code",
   "execution_count": 17,
   "id": "793c65b7",
   "metadata": {
    "ExecuteTime": {
     "end_time": "2022-04-11T14:02:15.871644Z",
     "start_time": "2022-04-11T14:02:15.810634Z"
    }
   },
   "outputs": [
    {
     "data": {
      "text/html": [
       "<div>\n",
       "<style scoped>\n",
       "    .dataframe tbody tr th:only-of-type {\n",
       "        vertical-align: middle;\n",
       "    }\n",
       "\n",
       "    .dataframe tbody tr th {\n",
       "        vertical-align: top;\n",
       "    }\n",
       "\n",
       "    .dataframe thead th {\n",
       "        text-align: right;\n",
       "    }\n",
       "</style>\n",
       "<table border=\"1\" class=\"dataframe\">\n",
       "  <thead>\n",
       "    <tr style=\"text-align: right;\">\n",
       "      <th></th>\n",
       "      <th>id</th>\n",
       "      <th>date_account_created</th>\n",
       "      <th>timestamp_first_active</th>\n",
       "      <th>date_first_booking</th>\n",
       "      <th>gender</th>\n",
       "      <th>age</th>\n",
       "      <th>signup_method</th>\n",
       "      <th>signup_flow</th>\n",
       "      <th>language</th>\n",
       "      <th>affiliate_channel</th>\n",
       "      <th>affiliate_provider</th>\n",
       "      <th>first_affiliate_tracked</th>\n",
       "      <th>signup_app</th>\n",
       "      <th>first_device_type</th>\n",
       "      <th>first_browser</th>\n",
       "      <th>country_destination</th>\n",
       "    </tr>\n",
       "  </thead>\n",
       "  <tbody>\n",
       "    <tr>\n",
       "      <th>171635</th>\n",
       "      <td>e5yctyx5mn</td>\n",
       "      <td>2014-04-04</td>\n",
       "      <td>20140404124156</td>\n",
       "      <td>2015-06-29</td>\n",
       "      <td>-unknown-</td>\n",
       "      <td>49.0</td>\n",
       "      <td>basic</td>\n",
       "      <td>24</td>\n",
       "      <td>en</td>\n",
       "      <td>other</td>\n",
       "      <td>meetup</td>\n",
       "      <td>tracked-other</td>\n",
       "      <td>Moweb</td>\n",
       "      <td>Android Phone</td>\n",
       "      <td>Android Browser</td>\n",
       "      <td>NDF</td>\n",
       "    </tr>\n",
       "  </tbody>\n",
       "</table>\n",
       "</div>"
      ],
      "text/plain": [
       "                id date_account_created  timestamp_first_active  \\\n",
       "171635  e5yctyx5mn           2014-04-04          20140404124156   \n",
       "\n",
       "       date_first_booking     gender   age signup_method  signup_flow  \\\n",
       "171635         2015-06-29  -unknown-  49.0         basic           24   \n",
       "\n",
       "       language affiliate_channel affiliate_provider first_affiliate_tracked  \\\n",
       "171635       en             other             meetup           tracked-other   \n",
       "\n",
       "       signup_app first_device_type    first_browser country_destination  \n",
       "171635      Moweb     Android Phone  Android Browser                 NDF  "
      ]
     },
     "execution_count": 17,
     "metadata": {},
     "output_type": "execute_result"
    }
   ],
   "source": [
    "df01_users.sample(1)"
   ]
  },
  {
   "cell_type": "code",
   "execution_count": 18,
   "id": "d76d383f",
   "metadata": {
    "ExecuteTime": {
     "end_time": "2022-04-11T14:02:17.000912Z",
     "start_time": "2022-04-11T14:02:16.018639Z"
    }
   },
   "outputs": [],
   "source": [
    "# change date type\n",
    "df01_users['date_account_created'] = pd.to_datetime(df01_users['date_account_created'])\n",
    "df01_users['date_first_booking'] = pd.to_datetime(df01_users['date_first_booking'])\n",
    "\n",
    "# change datetime type\n",
    "df01_users['timestamp_first_active'] = pd.to_datetime(df01_users['timestamp_first_active'], format='%Y%m%d%H%M%S')\n",
    "\n",
    "# change age to int\n",
    "df01_users['age'] = df01_users['age'].astype(np.int64)"
   ]
  },
  {
   "cell_type": "code",
   "execution_count": 19,
   "id": "505514d3",
   "metadata": {
    "ExecuteTime": {
     "end_time": "2022-04-11T14:02:17.221896Z",
     "start_time": "2022-04-11T14:02:17.176843Z"
    }
   },
   "outputs": [
    {
     "data": {
      "text/html": [
       "<div>\n",
       "<style scoped>\n",
       "    .dataframe tbody tr th:only-of-type {\n",
       "        vertical-align: middle;\n",
       "    }\n",
       "\n",
       "    .dataframe tbody tr th {\n",
       "        vertical-align: top;\n",
       "    }\n",
       "\n",
       "    .dataframe thead th {\n",
       "        text-align: right;\n",
       "    }\n",
       "</style>\n",
       "<table border=\"1\" class=\"dataframe\">\n",
       "  <thead>\n",
       "    <tr style=\"text-align: right;\">\n",
       "      <th></th>\n",
       "      <th>id</th>\n",
       "      <th>date_account_created</th>\n",
       "      <th>timestamp_first_active</th>\n",
       "      <th>date_first_booking</th>\n",
       "      <th>gender</th>\n",
       "      <th>age</th>\n",
       "      <th>signup_method</th>\n",
       "      <th>signup_flow</th>\n",
       "      <th>language</th>\n",
       "      <th>affiliate_channel</th>\n",
       "      <th>affiliate_provider</th>\n",
       "      <th>first_affiliate_tracked</th>\n",
       "      <th>signup_app</th>\n",
       "      <th>first_device_type</th>\n",
       "      <th>first_browser</th>\n",
       "      <th>country_destination</th>\n",
       "    </tr>\n",
       "  </thead>\n",
       "  <tbody>\n",
       "    <tr>\n",
       "      <th>187079</th>\n",
       "      <td>c1jj9b7udl</td>\n",
       "      <td>2014-05-10</td>\n",
       "      <td>2014-05-10 06:55:20</td>\n",
       "      <td>2015-06-29</td>\n",
       "      <td>-unknown-</td>\n",
       "      <td>46</td>\n",
       "      <td>basic</td>\n",
       "      <td>0</td>\n",
       "      <td>en</td>\n",
       "      <td>sem-brand</td>\n",
       "      <td>google</td>\n",
       "      <td>omg</td>\n",
       "      <td>Web</td>\n",
       "      <td>Windows Desktop</td>\n",
       "      <td>Firefox</td>\n",
       "      <td>NDF</td>\n",
       "    </tr>\n",
       "  </tbody>\n",
       "</table>\n",
       "</div>"
      ],
      "text/plain": [
       "                id date_account_created timestamp_first_active  \\\n",
       "187079  c1jj9b7udl           2014-05-10    2014-05-10 06:55:20   \n",
       "\n",
       "       date_first_booking     gender  age signup_method  signup_flow language  \\\n",
       "187079         2015-06-29  -unknown-   46         basic            0       en   \n",
       "\n",
       "       affiliate_channel affiliate_provider first_affiliate_tracked  \\\n",
       "187079         sem-brand             google                     omg   \n",
       "\n",
       "       signup_app first_device_type first_browser country_destination  \n",
       "187079        Web   Windows Desktop       Firefox                 NDF  "
      ]
     },
     "execution_count": 19,
     "metadata": {},
     "output_type": "execute_result"
    }
   ],
   "source": [
    "df01_users.sample(1)"
   ]
  },
  {
   "cell_type": "code",
   "execution_count": 20,
   "id": "e7b73c50",
   "metadata": {
    "ExecuteTime": {
     "end_time": "2022-04-11T14:02:17.427838Z",
     "start_time": "2022-04-11T14:02:17.405839Z"
    }
   },
   "outputs": [
    {
     "data": {
      "text/plain": [
       "id                                 object\n",
       "date_account_created       datetime64[ns]\n",
       "timestamp_first_active     datetime64[ns]\n",
       "date_first_booking         datetime64[ns]\n",
       "gender                             object\n",
       "age                                 int64\n",
       "signup_method                      object\n",
       "signup_flow                         int64\n",
       "language                           object\n",
       "affiliate_channel                  object\n",
       "affiliate_provider                 object\n",
       "first_affiliate_tracked            object\n",
       "signup_app                         object\n",
       "first_device_type                  object\n",
       "first_browser                      object\n",
       "country_destination                object\n",
       "dtype: object"
      ]
     },
     "execution_count": 20,
     "metadata": {},
     "output_type": "execute_result"
    }
   ],
   "source": [
    "df01_users.dtypes"
   ]
  },
  {
   "cell_type": "markdown",
   "id": "b4774540",
   "metadata": {},
   "source": [
    "## 1.6. Check Balanced Data\n",
    "\n",
    "Data with an unbalance of 57% for the NDF class and 30% for the US class."
   ]
  },
  {
   "cell_type": "code",
   "execution_count": 21,
   "id": "8f5cdc46",
   "metadata": {
    "ExecuteTime": {
     "end_time": "2022-04-11T14:02:17.602601Z",
     "start_time": "2022-04-11T14:02:17.558599Z"
    }
   },
   "outputs": [
    {
     "data": {
      "text/plain": [
       "NDF      0.579673\n",
       "US       0.294461\n",
       "other    0.048128\n",
       "FR       0.023623\n",
       "IT       0.013458\n",
       "GB       0.011066\n",
       "ES       0.010671\n",
       "CA       0.006707\n",
       "DE       0.005020\n",
       "NL       0.003621\n",
       "AU       0.002541\n",
       "PT       0.001032\n",
       "Name: country_destination, dtype: float64"
      ]
     },
     "execution_count": 21,
     "metadata": {},
     "output_type": "execute_result"
    }
   ],
   "source": [
    "df01_users['country_destination'].value_counts(normalize=True)"
   ]
  },
  {
   "cell_type": "markdown",
   "id": "9e2a67ae",
   "metadata": {},
   "source": [
    "## 1.7. Descriptive Analysis"
   ]
  },
  {
   "cell_type": "code",
   "execution_count": 22,
   "id": "8f66c9c6",
   "metadata": {
    "ExecuteTime": {
     "end_time": "2022-04-11T14:02:18.428607Z",
     "start_time": "2022-04-11T14:02:17.796602Z"
    }
   },
   "outputs": [],
   "source": [
    "# split data users in types dataframes\n",
    "num_attributes_users = df01_users.select_dtypes(include=['int64', 'float64'])\n",
    "cat_attributes_users = df01_users.select_dtypes(exclude=['int64', 'float64', 'datetime64[ns]'])\n",
    "time_attributes_users = df01_users.select_dtypes(include=['datetime64[ns]'])\n",
    "\n",
    "# split data sessions in types dataframes\n",
    "num_attributes_sessions = df01_sessions.select_dtypes(include=['int64', 'float64'])\n",
    "cat_attributes_sessions = df01_sessions.select_dtypes(exclude=['int64', 'float64', 'datetime64[ns]'])\n",
    "time_attributes_sessions = df01_sessions.select_dtypes(include=['datetime64[ns]'])"
   ]
  },
  {
   "cell_type": "markdown",
   "id": "4eb6a6b6",
   "metadata": {},
   "source": [
    "### 1.7.1. Numerical - Data Users"
   ]
  },
  {
   "cell_type": "code",
   "execution_count": 23,
   "id": "ba4046ec",
   "metadata": {
    "ExecuteTime": {
     "end_time": "2022-04-11T14:02:18.839840Z",
     "start_time": "2022-04-11T14:02:18.707850Z"
    }
   },
   "outputs": [
    {
     "data": {
      "text/html": [
       "<div>\n",
       "<style scoped>\n",
       "    .dataframe tbody tr th:only-of-type {\n",
       "        vertical-align: middle;\n",
       "    }\n",
       "\n",
       "    .dataframe tbody tr th {\n",
       "        vertical-align: top;\n",
       "    }\n",
       "\n",
       "    .dataframe thead th {\n",
       "        text-align: right;\n",
       "    }\n",
       "</style>\n",
       "<table border=\"1\" class=\"dataframe\">\n",
       "  <thead>\n",
       "    <tr style=\"text-align: right;\">\n",
       "      <th></th>\n",
       "      <th>attributes</th>\n",
       "      <th>max</th>\n",
       "      <th>min</th>\n",
       "      <th>range</th>\n",
       "      <th>mean</th>\n",
       "      <th>median</th>\n",
       "      <th>std</th>\n",
       "      <th>skew</th>\n",
       "      <th>kurtosis</th>\n",
       "    </tr>\n",
       "  </thead>\n",
       "  <tbody>\n",
       "    <tr>\n",
       "      <th>0</th>\n",
       "      <td>age</td>\n",
       "      <td>2014</td>\n",
       "      <td>1</td>\n",
       "      <td>2013</td>\n",
       "      <td>49.183142</td>\n",
       "      <td>49.0</td>\n",
       "      <td>118.421689</td>\n",
       "      <td>16.333820</td>\n",
       "      <td>267.655434</td>\n",
       "    </tr>\n",
       "    <tr>\n",
       "      <th>1</th>\n",
       "      <td>signup_flow</td>\n",
       "      <td>25</td>\n",
       "      <td>0</td>\n",
       "      <td>25</td>\n",
       "      <td>3.151490</td>\n",
       "      <td>0.0</td>\n",
       "      <td>7.543915</td>\n",
       "      <td>2.287158</td>\n",
       "      <td>3.567794</td>\n",
       "    </tr>\n",
       "  </tbody>\n",
       "</table>\n",
       "</div>"
      ],
      "text/plain": [
       "    attributes   max  min  range       mean  median         std       skew  \\\n",
       "0          age  2014    1   2013  49.183142    49.0  118.421689  16.333820   \n",
       "1  signup_flow    25    0     25   3.151490     0.0    7.543915   2.287158   \n",
       "\n",
       "     kurtosis  \n",
       "0  267.655434  \n",
       "1    3.567794  "
      ]
     },
     "execution_count": 23,
     "metadata": {},
     "output_type": "execute_result"
    }
   ],
   "source": [
    "# tendency central - mean and median\n",
    "mean_users = pd.DataFrame(num_attributes_users.apply(lambda x: np.mean(x)))\n",
    "median_users = pd.DataFrame(num_attributes_users.apply(lambda x: np.median(x)))\n",
    "\n",
    "# dispersions - max, min, range, std, skew and kurtosis\n",
    "max_users = pd.DataFrame(num_attributes_users.apply(lambda x: x.max()))\n",
    "min_users = pd.DataFrame(num_attributes_users.apply(lambda x: x.min()))\n",
    "range_users = pd.DataFrame(num_attributes_users.apply(lambda x: x.max() - x.min()))\n",
    "std_users = pd.DataFrame(num_attributes_users.apply(lambda x: np.std(x)))\n",
    "skew_users = pd.DataFrame(num_attributes_users.apply(lambda x: x.skew()))\n",
    "kurtosis_users = pd.DataFrame(num_attributes_users.apply(lambda x: x.kurtosis()))\n",
    "\n",
    "# join tendency central and dispersion dataframe\n",
    "num_stats_users = pd.concat([max_users, min_users, range_users, mean_users, \n",
    "                             median_users, std_users, skew_users, kurtosis_users], axis=1).reset_index()\n",
    "num_stats_users.columns = ['attributes', 'max', 'min', 'range', 'mean', 'median', 'std', 'skew', 'kurtosis']\n",
    "\n",
    "num_stats_users"
   ]
  },
  {
   "cell_type": "markdown",
   "id": "956e8434",
   "metadata": {},
   "source": [
    "### 1.7.2. Numerical - Data Sessions"
   ]
  },
  {
   "cell_type": "code",
   "execution_count": 24,
   "id": "3c46dd63",
   "metadata": {
    "ExecuteTime": {
     "end_time": "2022-04-11T14:02:20.016275Z",
     "start_time": "2022-04-11T14:02:19.081955Z"
    }
   },
   "outputs": [
    {
     "data": {
      "text/html": [
       "<div>\n",
       "<style scoped>\n",
       "    .dataframe tbody tr th:only-of-type {\n",
       "        vertical-align: middle;\n",
       "    }\n",
       "\n",
       "    .dataframe tbody tr th {\n",
       "        vertical-align: top;\n",
       "    }\n",
       "\n",
       "    .dataframe thead th {\n",
       "        text-align: right;\n",
       "    }\n",
       "</style>\n",
       "<table border=\"1\" class=\"dataframe\">\n",
       "  <thead>\n",
       "    <tr style=\"text-align: right;\">\n",
       "      <th></th>\n",
       "      <th>attributes</th>\n",
       "      <th>max</th>\n",
       "      <th>min</th>\n",
       "      <th>range</th>\n",
       "      <th>mean</th>\n",
       "      <th>median</th>\n",
       "      <th>std</th>\n",
       "      <th>skew</th>\n",
       "      <th>kurtosis</th>\n",
       "    </tr>\n",
       "  </thead>\n",
       "  <tbody>\n",
       "    <tr>\n",
       "      <th>0</th>\n",
       "      <td>secs_elapsed</td>\n",
       "      <td>1799977.0</td>\n",
       "      <td>0.0</td>\n",
       "      <td>1799977.0</td>\n",
       "      <td>19961.8251</td>\n",
       "      <td>1369.0</td>\n",
       "      <td>88849.388449</td>\n",
       "      <td>11.137761</td>\n",
       "      <td>154.84312</td>\n",
       "    </tr>\n",
       "  </tbody>\n",
       "</table>\n",
       "</div>"
      ],
      "text/plain": [
       "     attributes        max  min      range        mean  median           std  \\\n",
       "0  secs_elapsed  1799977.0  0.0  1799977.0  19961.8251  1369.0  88849.388449   \n",
       "\n",
       "        skew   kurtosis  \n",
       "0  11.137761  154.84312  "
      ]
     },
     "execution_count": 24,
     "metadata": {},
     "output_type": "execute_result"
    }
   ],
   "source": [
    "# tendency central - mean and median\n",
    "mean_sessions = pd.DataFrame(num_attributes_sessions.apply(lambda x: np.mean(x)))\n",
    "median_sessions = pd.DataFrame(num_attributes_sessions.apply(lambda x: np.median(x)))\n",
    "\n",
    "# dispersions - max, min, range, std, skew and kurtosis\n",
    "max_sessions = pd.DataFrame(num_attributes_sessions.apply(lambda x: x.max()))\n",
    "min_sessions = pd.DataFrame(num_attributes_sessions.apply(lambda x: x.min()))\n",
    "range_sessions = pd.DataFrame(num_attributes_sessions.apply(lambda x: x.max() - x.min()))\n",
    "std_sessions = pd.DataFrame(num_attributes_sessions.apply(lambda x: np.std(x)))\n",
    "skew_sessions = pd.DataFrame(num_attributes_sessions.apply(lambda x: x.skew()))\n",
    "kurtosis_sessions = pd.DataFrame(num_attributes_sessions.apply(lambda x: x.kurtosis()))\n",
    "\n",
    "# join tendency central and dispersion dataframe\n",
    "num_stats_sessions = pd.concat([max_sessions, min_sessions, range_sessions, mean_sessions, \n",
    "                             median_sessions, std_sessions, skew_sessions, kurtosis_sessions], axis=1).reset_index()\n",
    "num_stats_sessions.columns = ['attributes', 'max', 'min', 'range', 'mean', 'median', 'std', 'skew', 'kurtosis']\n",
    "\n",
    "num_stats_sessions"
   ]
  },
  {
   "cell_type": "markdown",
   "id": "ce2d77df",
   "metadata": {},
   "source": [
    "### 1.7.3. Categorical - Data Users"
   ]
  },
  {
   "cell_type": "code",
   "execution_count": 25,
   "id": "a475bb0a",
   "metadata": {
    "ExecuteTime": {
     "end_time": "2022-04-11T14:02:20.915205Z",
     "start_time": "2022-04-11T14:02:20.521180Z"
    }
   },
   "outputs": [
    {
     "data": {
      "text/html": [
       "<div>\n",
       "<style scoped>\n",
       "    .dataframe tbody tr th:only-of-type {\n",
       "        vertical-align: middle;\n",
       "    }\n",
       "\n",
       "    .dataframe tbody tr th {\n",
       "        vertical-align: top;\n",
       "    }\n",
       "\n",
       "    .dataframe thead th {\n",
       "        text-align: right;\n",
       "    }\n",
       "</style>\n",
       "<table border=\"1\" class=\"dataframe\">\n",
       "  <thead>\n",
       "    <tr style=\"text-align: right;\">\n",
       "      <th></th>\n",
       "      <th>gender</th>\n",
       "      <th>signup_method</th>\n",
       "      <th>language</th>\n",
       "      <th>affiliate_channel</th>\n",
       "      <th>affiliate_provider</th>\n",
       "      <th>first_affiliate_tracked</th>\n",
       "      <th>signup_app</th>\n",
       "      <th>first_device_type</th>\n",
       "      <th>first_browser</th>\n",
       "      <th>country_destination</th>\n",
       "    </tr>\n",
       "  </thead>\n",
       "  <tbody>\n",
       "    <tr>\n",
       "      <th>count</th>\n",
       "      <td>207386</td>\n",
       "      <td>207386</td>\n",
       "      <td>207386</td>\n",
       "      <td>207386</td>\n",
       "      <td>207386</td>\n",
       "      <td>207386</td>\n",
       "      <td>207386</td>\n",
       "      <td>207386</td>\n",
       "      <td>207386</td>\n",
       "      <td>207386</td>\n",
       "    </tr>\n",
       "    <tr>\n",
       "      <th>unique</th>\n",
       "      <td>4</td>\n",
       "      <td>3</td>\n",
       "      <td>25</td>\n",
       "      <td>8</td>\n",
       "      <td>18</td>\n",
       "      <td>7</td>\n",
       "      <td>4</td>\n",
       "      <td>9</td>\n",
       "      <td>52</td>\n",
       "      <td>12</td>\n",
       "    </tr>\n",
       "    <tr>\n",
       "      <th>top</th>\n",
       "      <td>-unknown-</td>\n",
       "      <td>basic</td>\n",
       "      <td>en</td>\n",
       "      <td>direct</td>\n",
       "      <td>direct</td>\n",
       "      <td>untracked</td>\n",
       "      <td>Web</td>\n",
       "      <td>Mac Desktop</td>\n",
       "      <td>Chrome</td>\n",
       "      <td>NDF</td>\n",
       "    </tr>\n",
       "    <tr>\n",
       "      <th>freq</th>\n",
       "      <td>91783</td>\n",
       "      <td>148297</td>\n",
       "      <td>200415</td>\n",
       "      <td>134179</td>\n",
       "      <td>133935</td>\n",
       "      <td>109232</td>\n",
       "      <td>178334</td>\n",
       "      <td>89600</td>\n",
       "      <td>63845</td>\n",
       "      <td>120216</td>\n",
       "    </tr>\n",
       "  </tbody>\n",
       "</table>\n",
       "</div>"
      ],
      "text/plain": [
       "           gender signup_method language affiliate_channel affiliate_provider  \\\n",
       "count      207386        207386   207386            207386             207386   \n",
       "unique          4             3       25                 8                 18   \n",
       "top     -unknown-         basic       en            direct             direct   \n",
       "freq        91783        148297   200415            134179             133935   \n",
       "\n",
       "       first_affiliate_tracked signup_app first_device_type first_browser  \\\n",
       "count                   207386     207386            207386        207386   \n",
       "unique                       7          4                 9            52   \n",
       "top                  untracked        Web       Mac Desktop        Chrome   \n",
       "freq                    109232     178334             89600         63845   \n",
       "\n",
       "       country_destination  \n",
       "count               207386  \n",
       "unique                  12  \n",
       "top                    NDF  \n",
       "freq                120216  "
      ]
     },
     "execution_count": 25,
     "metadata": {},
     "output_type": "execute_result"
    }
   ],
   "source": [
    "cat_attributes_users.drop('id', axis=1).describe()"
   ]
  },
  {
   "cell_type": "markdown",
   "id": "89a04077",
   "metadata": {},
   "source": [
    "#### 1.7.3.1. Correlation Matrix"
   ]
  },
  {
   "cell_type": "code",
   "execution_count": 26,
   "id": "7d49a42d",
   "metadata": {
    "ExecuteTime": {
     "end_time": "2022-04-11T14:02:30.998448Z",
     "start_time": "2022-04-11T14:02:21.253211Z"
    }
   },
   "outputs": [
    {
     "data": {
      "image/png": "[encoded data removed]",
      "text/plain": [
       "<Figure size 432x288 with 2 Axes>"
      ]
     },
     "metadata": {
      "needs_background": "light"
     },
     "output_type": "display_data"
    }
   ],
   "source": [
    "cat_attributes_users_columns = cat_attributes_users.drop('id', axis=1).columns.tolist()\n",
    "\n",
    "corr_dict = {}\n",
    "\n",
    "for main_column in cat_attributes_users_columns:\n",
    "    corr_list = []\n",
    "    \n",
    "    for secondary_column in cat_attributes_users_columns:\n",
    "        # cramer v\n",
    "        cat_corr = cramer_v( cat_attributes_users[main_column], cat_attributes_users[secondary_column] )\n",
    "        \n",
    "        # add to list\n",
    "        corr_list.append(cat_corr)\n",
    "    \n",
    "    # add to dict each attribute correlation \n",
    "    corr_dict[main_column] = corr_list\n",
    "\n",
    "df_corr_users = pd.DataFrame(corr_dict)\n",
    "df_corr_users = df_corr_users.set_index(df_corr_users.columns)\n",
    "sns.heatmap(df_corr_users, annot=True);"
   ]
  },
  {
   "cell_type": "markdown",
   "id": "ef0bfe3a",
   "metadata": {
    "ExecuteTime": {
     "end_time": "2022-03-02T14:41:15.919764Z",
     "start_time": "2022-03-02T14:41:15.909769Z"
    }
   },
   "source": [
    "### 1.7.4. Categorical - Data Sessions"
   ]
  },
  {
   "cell_type": "code",
   "execution_count": 27,
   "id": "cb30c4f7",
   "metadata": {
    "ExecuteTime": {
     "end_time": "2022-04-11T14:02:36.118465Z",
     "start_time": "2022-04-11T14:02:31.539434Z"
    },
    "scrolled": false
   },
   "outputs": [
    {
     "data": {
      "text/html": [
       "<div>\n",
       "<style scoped>\n",
       "    .dataframe tbody tr th:only-of-type {\n",
       "        vertical-align: middle;\n",
       "    }\n",
       "\n",
       "    .dataframe tbody tr th {\n",
       "        vertical-align: top;\n",
       "    }\n",
       "\n",
       "    .dataframe thead th {\n",
       "        text-align: right;\n",
       "    }\n",
       "</style>\n",
       "<table border=\"1\" class=\"dataframe\">\n",
       "  <thead>\n",
       "    <tr style=\"text-align: right;\">\n",
       "      <th></th>\n",
       "      <th>action</th>\n",
       "      <th>action_type</th>\n",
       "      <th>action_detail</th>\n",
       "      <th>device_type</th>\n",
       "    </tr>\n",
       "  </thead>\n",
       "  <tbody>\n",
       "    <tr>\n",
       "      <th>count</th>\n",
       "      <td>9213930</td>\n",
       "      <td>9213930</td>\n",
       "      <td>9213930</td>\n",
       "      <td>9213930</td>\n",
       "    </tr>\n",
       "    <tr>\n",
       "      <th>unique</th>\n",
       "      <td>347</td>\n",
       "      <td>10</td>\n",
       "      <td>155</td>\n",
       "      <td>14</td>\n",
       "    </tr>\n",
       "    <tr>\n",
       "      <th>top</th>\n",
       "      <td>show</td>\n",
       "      <td>view</td>\n",
       "      <td>view_search_results</td>\n",
       "      <td>Mac Desktop</td>\n",
       "    </tr>\n",
       "    <tr>\n",
       "      <th>freq</th>\n",
       "      <td>2178382</td>\n",
       "      <td>3545621</td>\n",
       "      <td>1770931</td>\n",
       "      <td>3019523</td>\n",
       "    </tr>\n",
       "  </tbody>\n",
       "</table>\n",
       "</div>"
      ],
      "text/plain": [
       "         action action_type        action_detail  device_type\n",
       "count   9213930     9213930              9213930      9213930\n",
       "unique      347          10                  155           14\n",
       "top        show        view  view_search_results  Mac Desktop\n",
       "freq    2178382     3545621              1770931      3019523"
      ]
     },
     "execution_count": 27,
     "metadata": {},
     "output_type": "execute_result"
    }
   ],
   "source": [
    "cat_attributes_sessions.drop('user_id', axis=1).describe()"
   ]
  },
  {
   "cell_type": "markdown",
   "id": "13f4914d",
   "metadata": {},
   "source": [
    "#### 1.7.4.1. Correlation Matrix"
   ]
  },
  {
   "cell_type": "code",
   "execution_count": 28,
   "id": "3e1e88ee",
   "metadata": {
    "ExecuteTime": {
     "end_time": "2022-04-11T14:03:24.500578Z",
     "start_time": "2022-04-11T14:02:36.486436Z"
    }
   },
   "outputs": [
    {
     "data": {
      "image/png": "[encoded data removed]",
      "text/plain": [
       "<Figure size 432x288 with 2 Axes>"
      ]
     },
     "metadata": {
      "needs_background": "light"
     },
     "output_type": "display_data"
    }
   ],
   "source": [
    "cat_attributes_sessions_columns = cat_attributes_sessions.drop('user_id', axis=1).columns.tolist()\n",
    "\n",
    "corr_dict = {}\n",
    "\n",
    "for main_column in cat_attributes_sessions_columns:\n",
    "    corr_list = []\n",
    "    \n",
    "    for secondary_column in cat_attributes_sessions_columns:\n",
    "        # cramer v\n",
    "        cat_corr = cramer_v( cat_attributes_sessions[main_column], cat_attributes_sessions[secondary_column] )\n",
    "        \n",
    "        # add to list\n",
    "        corr_list.append(cat_corr)\n",
    "    \n",
    "    # add to dict each attribute correlation \n",
    "    corr_dict[main_column] = corr_list\n",
    "\n",
    "df_corr_sessions = pd.DataFrame(corr_dict)\n",
    "df_corr_sessions = df_corr_sessions.set_index(df_corr_sessions.columns)\n",
    "sns.heatmap(df_corr_sessions, annot=True);"
   ]
  },
  {
   "cell_type": "markdown",
   "id": "bbe57720",
   "metadata": {},
   "source": [
    "# 2.0. Feature Engineering"
   ]
  },
  {
   "cell_type": "code",
   "execution_count": 29,
   "id": "f64c4deb",
   "metadata": {
    "ExecuteTime": {
     "end_time": "2022-04-11T14:03:25.070580Z",
     "start_time": "2022-04-11T14:03:25.047587Z"
    }
   },
   "outputs": [],
   "source": [
    "df02_users = df01_users.copy()"
   ]
  },
  {
   "cell_type": "markdown",
   "id": "4cc87547",
   "metadata": {},
   "source": [
    "## 2.1. Create Gap Between Dates Features"
   ]
  },
  {
   "cell_type": "code",
   "execution_count": 30,
   "id": "bde69aeb",
   "metadata": {
    "ExecuteTime": {
     "end_time": "2022-04-11T14:03:37.191108Z",
     "start_time": "2022-04-11T14:03:25.547580Z"
    }
   },
   "outputs": [],
   "source": [
    "# date of first active\n",
    "df02_users['date_first_active'] = pd.to_datetime(df02_users['timestamp_first_active'].dt.strftime(\"%Y-%m-%d\"))\n",
    "\n",
    "# difference in days between date_account_created and date_first_active\n",
    "df02_users['diff_account_created_first_active'] = (df02_users['date_account_created'] - df02_users['date_first_active']).apply(lambda x: x.days)\n",
    "\n",
    "# difference in days between date_account_created and date_first_booking\n",
    "df02_users['diff_first_booking_account_created'] = (df02_users['date_first_booking'] - df02_users['date_account_created']).apply(lambda x: x.days)\n",
    "\n",
    "# difference in days between date_first_active and date_first_booking\n",
    "df02_users['diff_first_active_first_booking'] = (df02_users['date_first_booking'] - df02_users['date_first_active']).apply(lambda x: x.days)"
   ]
  },
  {
   "cell_type": "markdown",
   "id": "e5f02587",
   "metadata": {
    "ExecuteTime": {
     "end_time": "2022-03-02T15:58:55.212964Z",
     "start_time": "2022-03-02T15:58:55.204965Z"
    }
   },
   "source": [
    "## 2.2. Create Date Features"
   ]
  },
  {
   "cell_type": "markdown",
   "id": "add9d20f",
   "metadata": {},
   "source": [
    "### 2.2.1. Account Created"
   ]
  },
  {
   "cell_type": "code",
   "execution_count": 31,
   "id": "7ada9a20",
   "metadata": {
    "ExecuteTime": {
     "end_time": "2022-04-11T14:03:37.795100Z",
     "start_time": "2022-04-11T14:03:37.672102Z"
    }
   },
   "outputs": [],
   "source": [
    "# year\n",
    "df02_users['year_account_created'] = df02_users['date_account_created'].dt.year\n",
    "\n",
    "# month\n",
    "df02_users['month_account_created'] = df02_users['date_account_created'].dt.month\n",
    "\n",
    "# day\n",
    "df02_users['day_account_created'] = df02_users['date_account_created'].dt.day\n",
    "\n",
    "# day of week\n",
    "df02_users['dayofweek_account_created'] = df02_users['date_account_created'].dt.dayofweek\n",
    "\n",
    "# week of year\n",
    "df02_users['weekofyear_account_created'] = df02_users['date_account_created'].dt.weekofyear"
   ]
  },
  {
   "cell_type": "markdown",
   "id": "db245cbb",
   "metadata": {},
   "source": [
    "### 2.2.2. First Active"
   ]
  },
  {
   "cell_type": "code",
   "execution_count": 32,
   "id": "55143c04",
   "metadata": {
    "ExecuteTime": {
     "end_time": "2022-04-11T14:03:38.637109Z",
     "start_time": "2022-04-11T14:03:38.419116Z"
    }
   },
   "outputs": [],
   "source": [
    "# year\n",
    "df02_users['year_first_active'] = df02_users['date_first_active'].dt.year\n",
    "\n",
    "# month\n",
    "df02_users['month_first_active'] = df02_users['date_first_active'].dt.month\n",
    "\n",
    "# day\n",
    "df02_users['day_first_active'] = df02_users['date_first_active'].dt.day\n",
    "\n",
    "# day of week\n",
    "df02_users['dayofweek_first_active'] = df02_users['date_first_active'].dt.dayofweek\n",
    "\n",
    "# week of year\n",
    "df02_users['weekofyear_first_active'] = df02_users['date_first_active'].dt.weekofyear"
   ]
  },
  {
   "cell_type": "markdown",
   "id": "603026d2",
   "metadata": {},
   "source": [
    "### 2.2.3. First Booking"
   ]
  },
  {
   "cell_type": "code",
   "execution_count": 33,
   "id": "91800913",
   "metadata": {
    "ExecuteTime": {
     "end_time": "2022-04-11T14:03:39.227375Z",
     "start_time": "2022-04-11T14:03:39.102276Z"
    }
   },
   "outputs": [],
   "source": [
    "# year\n",
    "df02_users['year_first_booking'] = df02_users['date_first_booking'].dt.year\n",
    "\n",
    "# month\n",
    "df02_users['month_first_booking'] = df02_users['date_first_booking'].dt.month\n",
    "\n",
    "# day\n",
    "df02_users['day_first_booking'] = df02_users['date_first_booking'].dt.day\n",
    "\n",
    "# day of week\n",
    "df02_users['dayofweek_first_booking'] = df02_users['date_first_booking'].dt.dayofweek\n",
    "\n",
    "# week of year\n",
    "df02_users['weekofyear_first_booking'] = df02_users['date_first_booking'].dt.weekofyear"
   ]
  },
  {
   "cell_type": "markdown",
   "id": "b0f5b037",
   "metadata": {},
   "source": [
    "# 3.0. Data Filtering"
   ]
  },
  {
   "cell_type": "code",
   "execution_count": 34,
   "id": "26b87f66",
   "metadata": {
    "ExecuteTime": {
     "end_time": "2022-04-11T14:03:40.145271Z",
     "start_time": "2022-04-11T14:03:40.038276Z"
    }
   },
   "outputs": [],
   "source": [
    "df03_users = df02_users.copy()"
   ]
  },
  {
   "cell_type": "markdown",
   "id": "80d07e8f",
   "metadata": {},
   "source": [
    "## 3.1. Filtering Rows"
   ]
  },
  {
   "cell_type": "code",
   "execution_count": 35,
   "id": "6221dc16",
   "metadata": {
    "ExecuteTime": {
     "end_time": "2022-04-11T14:03:42.067274Z",
     "start_time": "2022-04-11T14:03:41.869276Z"
    }
   },
   "outputs": [],
   "source": [
    "# age - greater than 15 and lower than 100 - There are few people over 100 years old ( Could be error from system or manual imput - Cleaning noise)\n",
    "df03_users = df03_users[(df03_users['age'] > 15) & (df03_users['age'] < 100)]\n",
    "\n",
    "# secs_elapsed - there is no possible 0 secs elapesed on website\n",
    "#df03_sessions = df03_sessions[df03_sessions['secs_elapsed'] > 0]"
   ]
  },
  {
   "cell_type": "markdown",
   "id": "d9303a1b",
   "metadata": {},
   "source": [
    "## 3.2. Columns Selection"
   ]
  },
  {
   "cell_type": "code",
   "execution_count": 36,
   "id": "1072be5b",
   "metadata": {
    "ExecuteTime": {
     "end_time": "2022-04-11T14:03:44.567534Z",
     "start_time": "2022-04-11T14:03:44.328536Z"
    },
    "code_folding": []
   },
   "outputs": [],
   "source": [
    "# columns id not carry any information\n",
    "df03_users = df03_users.drop(['id'], axis=1)\n",
    "\n",
    "# columns used to feature engineering\n",
    "cols_date =['timestamp_first_active',\n",
    "            'date_first_active',\n",
    "            'date_account_created',\n",
    "            'date_first_booking']\n",
    "\n",
    "df03_users = df03_users.drop(columns=cols_date)"
   ]
  },
  {
   "cell_type": "markdown",
   "id": "20d1ff53",
   "metadata": {},
   "source": [
    "# 4.0. Data Exploratory Analysis"
   ]
  },
  {
   "cell_type": "code",
   "execution_count": 37,
   "id": "c5e9da71",
   "metadata": {
    "ExecuteTime": {
     "end_time": "2022-04-11T14:03:46.329795Z",
     "start_time": "2022-04-11T14:03:46.269792Z"
    }
   },
   "outputs": [],
   "source": [
    "df04_users = df03_users.copy()"
   ]
  },
  {
   "cell_type": "markdown",
   "id": "08aaa120",
   "metadata": {
    "heading_collapsed": true
   },
   "source": [
    "## 4.1. Univariate Analysis"
   ]
  },
  {
   "cell_type": "code",
   "execution_count": 39,
   "id": "5b859078",
   "metadata": {
    "ExecuteTime": {
     "end_time": "2022-03-12T16:24:20.957339Z",
     "start_time": "2022-03-12T16:24:20.932337Z"
    },
    "hidden": true
   },
   "outputs": [],
   "source": [
    "# profile = ProfileReport(df04_users)\n",
    "\n",
    "# profile.to_file(output_file='airbnb_booking_statistics.html')"
   ]
  },
  {
   "cell_type": "markdown",
   "id": "07beed36",
   "metadata": {},
   "source": [
    "## 4.2. Bivariate Analysis"
   ]
  },
  {
   "cell_type": "markdown",
   "id": "381f4323",
   "metadata": {},
   "source": [
    "### H1. Across all destinations, it takes users an average of 15 days to make their first Airbnb booking since their first activation.\n",
    "**False:** Users take up to 3 days on median to register on the site all destinations."
   ]
  },
  {
   "cell_type": "code",
   "execution_count": 40,
   "id": "91288f22",
   "metadata": {
    "ExecuteTime": {
     "end_time": "2022-03-12T16:24:23.762467Z",
     "start_time": "2022-03-12T16:24:20.971338Z"
    },
    "hide_input": true,
    "scrolled": true
   },
   "outputs": [
    {
     "data": {
      "image/png": "[encoded data removed]",
      "text/plain": [
       "<Figure size 1440x432 with 2 Axes>"
      ]
     },
     "metadata": {
      "needs_background": "light"
     },
     "output_type": "display_data"
    }
   ],
   "source": [
    "plt.subplots(figsize=(20,6))\n",
    "\n",
    "# select data with destination\n",
    "aux = df04_users[df04_users['country_destination'] != 'NDF']\n",
    "\n",
    "# average number of days from the first active day on website to the first booking for each destination\n",
    "plt.subplot(1, 2, 1)\n",
    "aux1 = aux[['diff_first_active_first_booking', 'country_destination']].groupby('country_destination').mean().reset_index()\n",
    "sns.barplot(x='country_destination', \n",
    "            y='diff_first_active_first_booking', \n",
    "            data=aux1.sort_values('diff_first_active_first_booking'))\n",
    "plt.axhline(aux['diff_first_active_first_booking'].mean(), linestyle='--');\n",
    "plt.title('Average Days until Booking');\n",
    "\n",
    "# median number of days from the first active day on website to the first booking for each destination\n",
    "plt.subplot(1, 2, 2)\n",
    "aux2 = aux[['diff_first_active_first_booking', 'country_destination']].groupby('country_destination').median().reset_index()\n",
    "sns.barplot(x='country_destination', \n",
    "            y='diff_first_active_first_booking',\n",
    "            data=aux2.sort_values('diff_first_active_first_booking'))\n",
    "plt.axhline(aux['diff_first_active_first_booking'].median(), linestyle='--');\n",
    "plt.title('Median Days until Booking');"
   ]
  },
  {
   "cell_type": "markdown",
   "id": "39bc0f13",
   "metadata": {},
   "source": [
    "### H2. In all destinations, it takes users an average of 3 days to register on the site.\n",
    "**True:** Users register the same day they first visit, on average."
   ]
  },
  {
   "cell_type": "code",
   "execution_count": 41,
   "id": "cbe836d7",
   "metadata": {
    "ExecuteTime": {
     "end_time": "2022-03-12T16:24:24.097455Z",
     "start_time": "2022-03-12T16:24:23.765457Z"
    },
    "hide_input": true
   },
   "outputs": [
    {
     "data": {
      "image/png": "[encoded data removed]",
      "text/plain": [
       "<Figure size 1440x432 with 1 Axes>"
      ]
     },
     "metadata": {
      "needs_background": "light"
     },
     "output_type": "display_data"
    }
   ],
   "source": [
    "plt.subplots(figsize=(20,6))\n",
    "\n",
    "# average number of days from the first active day on website to the first booking for each destination\n",
    "plt.subplot(1, 2, 1)\n",
    "aux1 = df04_users[['diff_account_created_first_active', 'country_destination']].groupby('country_destination').mean().reset_index()\n",
    "\n",
    "sns.barplot(x='country_destination', \n",
    "            y='diff_account_created_first_active',\n",
    "            data=aux1.sort_values('diff_account_created_first_active'))\n",
    "plt.axhline(df04_users['diff_account_created_first_active'].mean(), linestyle='--');"
   ]
  },
  {
   "cell_type": "markdown",
   "id": "35242e84",
   "metadata": {},
   "source": [
    "### H3. The annual volume of bookings made during the summer increased by 20% or more for destinations within the USA.\n",
    "**True:**  Bookings made during the summer for the USA grow by 80% a year on average."
   ]
  },
  {
   "cell_type": "code",
   "execution_count": 42,
   "id": "32087ca0",
   "metadata": {
    "ExecuteTime": {
     "end_time": "2022-03-12T16:24:25.111433Z",
     "start_time": "2022-03-12T16:24:24.100454Z"
    },
    "hide_input": true
   },
   "outputs": [
    {
     "data": {
      "image/png": "[encoded data removed]",
      "text/plain": [
       "<Figure size 1440x432 with 2 Axes>"
      ]
     },
     "metadata": {
      "needs_background": "light"
     },
     "output_type": "display_data"
    }
   ],
   "source": [
    "plt.figure(figsize=(20,6))\n",
    "\n",
    "# number of booking for year, month of firsrt booking and destination by number of rows\n",
    "aux1 = df04_users[['year_first_booking', 'month_first_booking', 'country_destination']].groupby(\n",
    "    ['year_first_booking', 'month_first_booking', 'country_destination']\n",
    ").size().reset_index().rename(columns={0: 'booking_count'})\n",
    "\n",
    "# seasons for northern hemisphere\n",
    "season_map = {1: 'Winter', 2: 'Winter', 3: 'Spring', 4: 'Spring', 5: 'Spring', 6: 'Summer',\n",
    "              7: 'Summer', 8: 'Summer', 9: 'Autumn', 10: 'Autumn', 11: 'Autumn', 12: 'Winter'}\n",
    "\n",
    "# seasons for each month of first booking\n",
    "aux1['season'] = aux1['month_first_booking'].map(season_map)\n",
    "\n",
    "# select data targeting the USA and the summer season \n",
    "aux2 = aux1[(aux1['country_destination'] == 'US') & (aux1['season'] == 'Summer') & (aux1['year_first_booking'] != 2015)]\n",
    "\n",
    "# number of bookings for first booking year\n",
    "aux3 = aux2[['year_first_booking', 'booking_count']].groupby('year_first_booking').sum().reset_index()\n",
    "\n",
    "plt.subplot(1, 2, 1)\n",
    "sns.lineplot(x='year_first_booking', y='booking_count', data=aux3)\n",
    "plt.title('Booking for US during the Summer');\n",
    "\n",
    "# porcentage of growth to each first booking year\n",
    "aux3['yearly_growth'] = aux3['booking_count'].pct_change().fillna(0)\n",
    "\n",
    "# yearly growth of first booking for US during the summer\n",
    "plt.subplot(1, 2, 2)\n",
    "ax = sns.barplot(x='year_first_booking', y='yearly_growth', data=aux3);\n",
    "ax.bar_label(ax.containers[0]);\n",
    "plt.title('Yearly Growth of Booking for US during the Summer ');\n",
    "\n"
   ]
  },
  {
   "cell_type": "markdown",
   "id": "45f7c976",
   "metadata": {},
   "source": [
    "### H4. Female users make 10% more reservations for countries outside the USA.\n",
    "**False:** Female users make more than 15% more reservations than male users."
   ]
  },
  {
   "cell_type": "code",
   "execution_count": 43,
   "id": "7a34313a",
   "metadata": {
    "ExecuteTime": {
     "end_time": "2022-03-12T16:24:25.460423Z",
     "start_time": "2022-03-12T16:24:25.121427Z"
    },
    "hide_input": true
   },
   "outputs": [
    {
     "data": {
      "image/png": "[encoded data removed]",
      "text/plain": [
       "<Figure size 864x432 with 1 Axes>"
      ]
     },
     "metadata": {
      "needs_background": "light"
     },
     "output_type": "display_data"
    }
   ],
   "source": [
    "plt.figure(figsize=(12, 6))\n",
    "\n",
    "# number of booking for gender and destination\n",
    "aux1 = df04_users[['gender', 'country_destination']].groupby(\n",
    "    ['gender', 'country_destination']\n",
    ").size().reset_index().rename(columns={0: 'booking_count'})\n",
    "\n",
    "# select data for US and droped unknow rows\n",
    "aux2 = aux1[(aux1['country_destination'] == 'US') & (aux1['gender'] != '-unknown-')]\n",
    "\n",
    "# percentage of bookings for each gender\n",
    "aux2['pct_booking'] = round(100*(aux2['booking_count']/aux2['booking_count'].sum()), 2)\n",
    "\n",
    "# percentage of bookings for each gender for US destination\n",
    "ax = sns.barplot(x='pct_booking', y='gender', data=aux2);\n",
    "ax.bar_label(ax.containers[0]);\n",
    "plt.title('Percentage of Booking by Gender for US');"
   ]
  },
  {
   "cell_type": "markdown",
   "id": "a420e8eb",
   "metadata": {},
   "source": [
    "### H5. The Google Marketing channel accounts for more than 40% of bookings to countries outside the USA.\n",
    "**True:** Considering only paid channel, Marketing Google represents 76% of bookings."
   ]
  },
  {
   "cell_type": "code",
   "execution_count": 44,
   "id": "11545499",
   "metadata": {
    "ExecuteTime": {
     "end_time": "2022-03-12T16:24:26.018427Z",
     "start_time": "2022-03-12T16:24:25.464427Z"
    },
    "hide_input": true
   },
   "outputs": [
    {
     "data": {
      "image/png": "[encoded data removed]",
      "text/plain": [
       "<Figure size 1440x432 with 2 Axes>"
      ]
     },
     "metadata": {
      "needs_background": "light"
     },
     "output_type": "display_data"
    }
   ],
   "source": [
    "plt.figure(figsize=(20, 6))\n",
    "\n",
    "# select data with destination and without US\n",
    "aux = df04_users[(df04_users['country_destination'] != 'US') & (df04_users['country_destination'] != 'NDF')]\n",
    "\n",
    "# number of booking por each affiliate\n",
    "aux1 = aux[['affiliate_provider']].groupby('affiliate_provider').size().reset_index().rename(columns={0: 'booking_count'})\n",
    "\n",
    "# porcentage of booking for each affiliate\n",
    "aux1['pct_booking'] = round(100*aux1['booking_count']/aux1['booking_count'].sum(), 2)\n",
    "\n",
    "# group values smaller than 10\n",
    "aux2 = aux1['pct_booking'].groupby(\n",
    "    np.where(aux1['pct_booking'] >=10, aux1['affiliate_provider'], 'others')\n",
    ").sum().reset_index().rename(columns={'index': 'affiliate_provider'})\n",
    "\n",
    "# percentage of booking for each channel\n",
    "plt.subplot(1, 2, 1)\n",
    "ax = sns.barplot(x='affiliate_provider', y='pct_booking', data=aux2)\n",
    "ax.bar_label(ax.containers[0]);\n",
    "plt.title('Porcentage of Booking for each Channel');\n",
    "\n",
    "#not include organic channels\n",
    "aux3 = aux[aux['affiliate_provider'] != 'direct']\n",
    "\n",
    "# number of booking por each affiliate\n",
    "aux4 = aux3[['affiliate_provider']].groupby('affiliate_provider').size().reset_index().rename(columns={0: 'booking_count'})\n",
    "\n",
    "# porcentage of booking for each affiliate\n",
    "aux4['pct_booking'] = round(100*aux4['booking_count']/aux4['booking_count'].sum(), 2)\n",
    "\n",
    "# group values smaller than 10\n",
    "aux5 = aux4['pct_booking'].groupby(\n",
    "    np.where(aux4['pct_booking'] > 1, aux4['affiliate_provider'], 'others')\n",
    ").sum().reset_index().rename(columns={'index': 'affiliate_provider'}).sort_values('pct_booking', ascending=False)\n",
    "\n",
    "# percentage of booking for each channel\n",
    "plt.subplot(1, 2, 2)\n",
    "ax = sns.barplot(x='affiliate_provider', y='pct_booking', data=aux5)\n",
    "ax.bar_label(ax.containers[0]);\n",
    "plt.title('Porcentage of Booking for each Channel, except Direct');"
   ]
  },
  {
   "cell_type": "markdown",
   "id": "2168020e",
   "metadata": {},
   "source": [
    "### H6. The USA destination represents more than 20% in all channels.\n",
    "**True:** USA represents 69% of bookings on average in all channels."
   ]
  },
  {
   "cell_type": "code",
   "execution_count": 45,
   "id": "b9ac1168",
   "metadata": {
    "ExecuteTime": {
     "end_time": "2022-03-12T16:24:26.481426Z",
     "start_time": "2022-03-12T16:24:26.024425Z"
    },
    "hide_input": true
   },
   "outputs": [
    {
     "data": {
      "image/png": "[encoded data removed]",
      "text/plain": [
       "<Figure size 864x432 with 1 Axes>"
      ]
     },
     "metadata": {
      "needs_background": "light"
     },
     "output_type": "display_data"
    }
   ],
   "source": [
    "plt.figure(figsize=(12, 6))\n",
    "\n",
    "# select data with distination\n",
    "aux = df04_users[df04_users['country_destination'] != 'NDF']\n",
    "\n",
    "# number of booking for each destination and affiliate channel\n",
    "aux1 = aux[['country_destination', 'affiliate_channel']].groupby(\n",
    "    ['country_destination', 'affiliate_channel']\n",
    ").size().reset_index().rename(columns={0: 'booking_count'})\n",
    "\n",
    "# create column for porcentage of booking for each channel\n",
    "aux1['pct_booking_channel'] = np.nan\n",
    "\n",
    "# porcentage individual for each affiliate channel\n",
    "for channel in aux1['affiliate_channel'].unique().tolist():\n",
    "    ref_channel = aux1['affiliate_channel'] == channel\n",
    "    aux1.loc[ref_channel, 'pct_booking_channel'] = np.round(\n",
    "        100 * aux1.loc[ref_channel, 'booking_count'] / aux1.loc[ref_channel, 'booking_count'].sum(), 2\n",
    ")\n",
    "\n",
    "# select destination for US\n",
    "aux2 = aux1[aux1['country_destination'] == 'US']\n",
    "\n",
    "# percentage of bookings for channels for US destination \n",
    "ax = sns.barplot(x='affiliate_channel', y='pct_booking_channel', data=aux2)\n",
    "ax.bar_label(ax.containers[0]);\n",
    "plt.axhline(aux2['pct_booking_channel'].mean(), linestyle='--')\n",
    "plt.title('Porcentage of Booking to USA for each Channel');"
   ]
  },
  {
   "cell_type": "markdown",
   "id": "766ed40d",
   "metadata": {},
   "source": [
    "### H7. The average age of people is 35 in all destinations.\n",
    "**False:** Average age for all destinations is 40 years old."
   ]
  },
  {
   "cell_type": "code",
   "execution_count": 46,
   "id": "6d4f31b0",
   "metadata": {
    "ExecuteTime": {
     "end_time": "2022-03-12T16:24:26.972637Z",
     "start_time": "2022-03-12T16:24:26.488430Z"
    },
    "hide_input": true
   },
   "outputs": [
    {
     "data": {
      "image/png": "[encoded data removed]",
      "text/plain": [
       "<Figure size 864x432 with 1 Axes>"
      ]
     },
     "metadata": {
      "needs_background": "light"
     },
     "output_type": "display_data"
    }
   ],
   "source": [
    "plt.figure(figsize=(12, 6))\n",
    "\n",
    "# grouped country destination\n",
    "aux1 = df04_users[['age', 'country_destination']].groupby('country_destination').mean().astype(int).reset_index()\n",
    "\n",
    "# average age for each destination\n",
    "ax = sns.barplot(x='country_destination', y='age', data=aux1);\n",
    "ax.bar_label(ax.containers[0]);\n",
    "plt.axhline(aux1['age'].mean());\n",
    "plt.title('Average Age for each Destination');"
   ]
  },
  {
   "cell_type": "markdown",
   "id": "9ef2f8d7",
   "metadata": {},
   "source": [
    "### H8. The percentage of users who use the English language site to book accommodations at any destination is over 90%.\n",
    "**True:** English is dominant among users, accounting for 97%.  "
   ]
  },
  {
   "cell_type": "code",
   "execution_count": 47,
   "id": "86c47a9d",
   "metadata": {
    "ExecuteTime": {
     "end_time": "2022-03-12T16:24:29.928443Z",
     "start_time": "2022-03-12T16:24:26.980640Z"
    },
    "hide_input": true
   },
   "outputs": [
    {
     "data": {
      "image/png": "[encoded data removed]",
      "text/plain": [
       "<Figure size 1440x432 with 2 Axes>"
      ]
     },
     "metadata": {
      "needs_background": "light"
     },
     "output_type": "display_data"
    }
   ],
   "source": [
    "plt.figure(figsize=(20,6))\n",
    "\n",
    "# number of booking for each language\n",
    "aux1 = df04_users[['language']].groupby('language').size().reset_index().rename(columns={0: 'booking_count'})\n",
    "\n",
    "# porcentage of bookings for each language\n",
    "aux1['pct_booking'] = 100*aux1['booking_count']/aux1['booking_count'].sum()\n",
    "\n",
    "# grouped values smaller than 1%\n",
    "aux2 =aux1[['pct_booking']].groupby(\n",
    "    np.where(aux1['pct_booking'] >= 1, aux1['language'], 'others')\n",
    ").sum().reset_index().rename(columns={'index': 'language'}).sort_values('pct_booking', ascending=False)\n",
    "\n",
    "# porcentage of booking for language\n",
    "plt.subplot(1, 2, 1)\n",
    "ax = sns.barplot(x='language', y='pct_booking', data=aux2)\n",
    "ax.bar_label(ax.containers[0]);\n",
    "plt.title('Porcentage of Language Users');\n",
    "\n",
    "# select data with destination and without english language\n",
    "aux = df04_users[(df04_users['language'] == 'en') & (df04_users['country_destination'] != 'NDF')]\n",
    "\n",
    "# number of language users for each destination\n",
    "aux3 = aux[['country_destination', 'language']].groupby('country_destination').count().reset_index().sort_values('language')\n",
    "\n",
    "# porcentage of language users for destination\n",
    "aux3['pct_language'] = 100 * aux3['language'] / aux3['language'].sum()\n",
    "\n",
    "# porcentage of language users without english for each destination\n",
    "plt.subplot(1, 2, 2)\n",
    "sns.barplot(x='country_destination', y='pct_language', data=aux3);\n",
    "plt.title('Porcentage of Language Users for each Destination');"
   ]
  },
  {
   "cell_type": "markdown",
   "id": "219e8c33",
   "metadata": {},
   "source": [
    "### H9. Is the number of Airbnb bookings decreasing over the years.\n",
    "**False:** The number of Airbnb bookings is growing, but the growth rate has been slowing down over the years."
   ]
  },
  {
   "cell_type": "code",
   "execution_count": 48,
   "id": "6ffbb6fa",
   "metadata": {
    "ExecuteTime": {
     "end_time": "2022-03-12T16:24:31.151448Z",
     "start_time": "2022-03-12T16:24:29.936448Z"
    },
    "hide_input": true
   },
   "outputs": [
    {
     "data": {
      "image/png": "[encoded data removed]",
      "text/plain": [
       "<Figure size 1440x432 with 2 Axes>"
      ]
     },
     "metadata": {
      "needs_background": "light"
     },
     "output_type": "display_data"
    }
   ],
   "source": [
    "plt.figure(figsize=(20,6))\n",
    "\n",
    "# select data with complete years and with booking\n",
    "aux = df04_users[(df04_users['country_destination'] != 'NDF') & \n",
    "                  (df04_users['year_first_booking'] < df04_users['year_first_booking'].max())]\n",
    "\n",
    "# number of booking for each year\n",
    "aux1 = aux[['year_first_booking']].groupby('year_first_booking').size().reset_index().rename(columns={0: 'booking_count'})\n",
    "\n",
    "# growth of booking over the years\n",
    "aux1[['booking_growth']] = aux1[['booking_count']].pct_change().fillna(0)\n",
    "\n",
    "# number of booking over years\n",
    "plt.subplot(1, 2, 1)\n",
    "ax = sns.barplot(x='year_first_booking', y='booking_count', data=aux1 );\n",
    "ax.bar_label(ax.containers[0]);\n",
    "plt.title('Booking over the Years');\n",
    "\n",
    "# growth of booking over the year\n",
    "plt.subplot(1, 2, 2)\n",
    "ax = sns.barplot(x='year_first_booking', y='booking_growth', data=aux1);\n",
    "ax.bar_label(ax.containers[0]);\n",
    "plt.title('Growth of Booking over the Years');"
   ]
  },
  {
   "cell_type": "markdown",
   "id": "21102193",
   "metadata": {},
   "source": [
    "### H10. Airbnb's booking growth for USA is higher than for other destinations over the years.\n",
    "**True:** The number of bookings for USA is the highest among all destinations over the years."
   ]
  },
  {
   "cell_type": "code",
   "execution_count": 49,
   "id": "2aa25407",
   "metadata": {
    "ExecuteTime": {
     "end_time": "2022-03-12T16:24:32.897536Z",
     "start_time": "2022-03-12T16:24:31.158472Z"
    },
    "hide_input": true
   },
   "outputs": [
    {
     "data": {
      "image/png": "[encoded data removed]",
      "text/plain": [
       "<Figure size 1440x432 with 1 Axes>"
      ]
     },
     "metadata": {
      "needs_background": "light"
     },
     "output_type": "display_data"
    },
    {
     "data": {
      "image/png": "[encoded data removed]",
      "text/plain": [
       "<Figure size 1440x432 with 1 Axes>"
      ]
     },
     "metadata": {
      "needs_background": "light"
     },
     "output_type": "display_data"
    }
   ],
   "source": [
    "# complete years and with booking\n",
    "aux = df04_users[(df04_users['country_destination'] != 'NDF') & \n",
    "                  (df04_users['year_first_booking'] < df04_users['year_first_booking'].max())]\n",
    "\n",
    "# number of booking through the year and for each destination\n",
    "aux1 = aux[['year_first_booking', 'country_destination']].groupby(\n",
    "    ['year_first_booking', 'country_destination']\n",
    ").size().reset_index().rename(columns={0: 'booking_count'})\n",
    "\n",
    "# select data for marjority destinations\n",
    "aux2 = aux1[(aux1['country_destination'] == 'US') | (aux1['country_destination'] == 'other') ]\n",
    "\n",
    "aux2.pivot_table(values='booking_count', \n",
    "                 index='year_first_booking', \n",
    "                 columns='country_destination',\n",
    "                 aggfunc='sum', \n",
    "                 fill_value=0).plot(figsize=(20,6), title='Evolution of Bookings Over the Years (US and Others)');\n",
    "\n",
    "aux3 = aux1[(aux1['country_destination'] != 'US') & (aux1['country_destination'] != 'other') ]\n",
    "\n",
    "aux3.pivot_table(values='booking_count', \n",
    "                 index='year_first_booking', \n",
    "                 columns='country_destination',\n",
    "                 aggfunc='sum', \n",
    "                 fill_value=0).plot(figsize=(20,6), title='Evolution of Bookings Over the Years');"
   ]
  },
  {
   "cell_type": "markdown",
   "id": "95ba753d",
   "metadata": {},
   "source": [
    "## 4.3. Multivariate Analysis"
   ]
  },
  {
   "cell_type": "markdown",
   "id": "4edaea33",
   "metadata": {},
   "source": [
    "### 4.3.1. High Correlation Attributes"
   ]
  },
  {
   "cell_type": "markdown",
   "id": "5af60a65",
   "metadata": {
    "ExecuteTime": {
     "end_time": "2022-03-10T23:06:57.033435Z",
     "start_time": "2022-03-10T23:06:57.018438Z"
    }
   },
   "source": [
    "**Numerical Variables**\n",
    "\n",
    "diff_first_booking_account_created x diff_first_active_first_booking\n",
    "    \n",
    "    remove: diff_first_active_first_booking\n",
    "    \n",
    "year_account_created x year_first_active\n",
    "\n",
    "    remove: year_first_active\n",
    "        \n",
    "month_account_created x weekofyear_account_created\n",
    "\n",
    "    remove: weekofyear_account_created\n",
    "    \n",
    "month_account_created x month_first_active\n",
    "\n",
    "    remove: month_first_active\n",
    "\n",
    "month_account_created x weekofyear_first_active\n",
    "\n",
    "    remove: weekofyear_first_active\n",
    "    \n",
    "day_account_created x day_first_active\n",
    "\n",
    "    remove: day_first_active\n",
    "    \n",
    "dayofweek_account_created x dayofweek_first_active\n",
    "\n",
    "    remove: dayofweek_first_active\n",
    "    \n",
    "weekofyear_account_created x month_first_active\n",
    "    \n",
    "    remove: month_first_active\n",
    "\n",
    "weekofyear_account_created x weekofyear_first_active\n",
    "\n",
    "    remove: weekofyear_first_active\n",
    "    \n",
    "month_first_active x weekofyear_first_active\n",
    "\n",
    "    remove: weekofyear_first_active\n",
    "    \n",
    "month_first_booking x weekofyear_first_booking\n",
    "\n",
    "    remove: weekofyear_first_booking"
   ]
  },
  {
   "cell_type": "markdown",
   "id": "444b2eec",
   "metadata": {
    "ExecuteTime": {
     "end_time": "2022-03-10T23:06:40.953013Z",
     "start_time": "2022-03-10T23:06:40.945011Z"
    }
   },
   "source": [
    "**Categorical Variables**\n",
    "\n",
    "affiliate_channel x affiliate_provider\n",
    "\n",
    "    remove: affiliate_provider\n",
    "\n",
    "signup_app x first_device_type\n",
    "\n",
    "    remove: first_device_type\n",
    "\n",
    "first_device_type x first_browser\n",
    "\n",
    "    remove: first_browser"
   ]
  },
  {
   "cell_type": "markdown",
   "id": "13e25982",
   "metadata": {},
   "source": [
    "### 4.3.2. Manual Attributes Selection"
   ]
  },
  {
   "cell_type": "code",
   "execution_count": 38,
   "id": "db072579",
   "metadata": {
    "ExecuteTime": {
     "end_time": "2022-04-11T14:03:47.894835Z",
     "start_time": "2022-04-11T14:03:47.870837Z"
    }
   },
   "outputs": [],
   "source": [
    "# high correlation columns\n",
    "cols_correlation = ['diff_first_active_first_booking',\n",
    "                    'year_first_active',\n",
    "                    'weekofyear_account_created',\n",
    "                    'month_first_active',\n",
    "                    'day_first_active',\n",
    "                    'dayofweek_first_active',\n",
    "                    'weekofyear_first_active',\n",
    "                    'weekofyear_first_booking',\n",
    "                    'affiliate_provider',\n",
    "                    'first_device_type',\n",
    "                    'first_browser']\n",
    "\n",
    "# columns with a unique value (>95%)\n",
    "cols_unique_values = ['language']\n",
    "\n",
    "# columns to be manual droped\n",
    "cols_manual_select = cols_correlation + cols_unique_values"
   ]
  },
  {
   "cell_type": "markdown",
   "id": "868b4156",
   "metadata": {},
   "source": [
    "# 5.0. Data Preparation"
   ]
  },
  {
   "cell_type": "code",
   "execution_count": 39,
   "id": "5fcd8687",
   "metadata": {
    "ExecuteTime": {
     "end_time": "2022-04-11T14:04:00.406802Z",
     "start_time": "2022-04-11T14:04:00.290804Z"
    }
   },
   "outputs": [],
   "source": [
    "df05_users = df04_users.copy()"
   ]
  },
  {
   "cell_type": "markdown",
   "id": "04c973ad",
   "metadata": {},
   "source": [
    "## 5.1. Encoding"
   ]
  },
  {
   "cell_type": "code",
   "execution_count": 40,
   "id": "de4d23a4",
   "metadata": {
    "ExecuteTime": {
     "end_time": "2022-04-11T14:04:01.638865Z",
     "start_time": "2022-04-11T14:04:01.596805Z"
    }
   },
   "outputs": [
    {
     "data": {
      "text/plain": [
       "gender                     object\n",
       "signup_method              object\n",
       "language                   object\n",
       "affiliate_channel          object\n",
       "affiliate_provider         object\n",
       "first_affiliate_tracked    object\n",
       "signup_app                 object\n",
       "first_device_type          object\n",
       "first_browser              object\n",
       "country_destination        object\n",
       "dtype: object"
      ]
     },
     "execution_count": 40,
     "metadata": {},
     "output_type": "execute_result"
    }
   ],
   "source": [
    "df05_users.select_dtypes(exclude=['int64', 'float64']).dtypes"
   ]
  },
  {
   "cell_type": "code",
   "execution_count": 41,
   "id": "3b3a65f5",
   "metadata": {
    "ExecuteTime": {
     "end_time": "2022-04-11T14:04:02.907800Z",
     "start_time": "2022-04-11T14:04:02.897822Z"
    }
   },
   "outputs": [],
   "source": [
    "te = TargetEncoder()\n",
    "\n",
    "c = {'NDF': 0, 'US': 1, 'other': 2, 'CA': 3, 'FR': 4, 'ES': 5, 'GB': 6, 'IT': 7, 'PT': 8, 'NL': 9, 'DE':10, 'AU': 11}"
   ]
  },
  {
   "cell_type": "code",
   "execution_count": 42,
   "id": "4d2c6abd",
   "metadata": {
    "ExecuteTime": {
     "end_time": "2022-04-11T14:04:05.679847Z",
     "start_time": "2022-04-11T14:04:04.195427Z"
    }
   },
   "outputs": [],
   "source": [
    "# gender - One Hot Encoder\n",
    "df05_users = pd.get_dummies(df05_users, prefix=['gender'], columns=['gender'])\n",
    "\n",
    "# signup_method - One Hot Enconder\n",
    "df05_users = pd.get_dummies(df05_users, prefix=['signup_method'], columns=['signup_method'])\n",
    "\n",
    "# signup_app - One Hot Encoder\n",
    "df05_users = pd.get_dummies(df05_users, prefix=['signup_app'], columns=['signup_app'])\n",
    "\n",
    "# affiliate_channel - Target Encoder\n",
    "df05_users['affiliate_channel'] = te.fit_transform(df05_users[['affiliate_channel']].values, \n",
    "                                                   df05_users['country_destination'].map(c))\n",
    "\n",
    "# first_affiliate_tracked - Target Encoder\n",
    "df05_users['first_affiliate_tracked'] = te.fit_transform(df05_users[['first_affiliate_tracked']].values, \n",
    "                                                         df05_users['country_destination'].map(c))"
   ]
  },
  {
   "cell_type": "code",
   "execution_count": 43,
   "id": "74af9ee8",
   "metadata": {
    "ExecuteTime": {
     "end_time": "2022-04-11T14:04:08.359849Z",
     "start_time": "2022-04-11T14:04:06.856847Z"
    }
   },
   "outputs": [],
   "source": [
    "# language - Target Encoder\n",
    "df05_users['language'] = te.fit_transform(df05_users[['language']].values, \n",
    "                                          df05_users['country_destination'].map(c))\n",
    "\n",
    "# affiliate_provider - Target Encoder\n",
    "df05_users['affiliate_provider'] = te.fit_transform(df05_users[['affiliate_provider']].values, \n",
    "                                                    df05_users['country_destination'].map(c))\n",
    "\n",
    "# first_device_type - Target Encoder\n",
    "df05_users['first_device_type'] = te.fit_transform(df05_users[['first_device_type']].values, \n",
    "                                                   df05_users['country_destination'].map(c))\n",
    "\n",
    "# first_browser - Target Encoder\n",
    "df05_users['first_browser'] = te.fit_transform(df05_users[['first_browser']].values, \n",
    "                                               df05_users['country_destination'].map(c))"
   ]
  },
  {
   "cell_type": "markdown",
   "id": "213337d6",
   "metadata": {},
   "source": [
    "## 5.2. Rescaling"
   ]
  },
  {
   "cell_type": "code",
   "execution_count": 44,
   "id": "510dde52",
   "metadata": {
    "ExecuteTime": {
     "end_time": "2022-04-11T14:04:09.458857Z",
     "start_time": "2022-04-11T14:04:09.398856Z"
    }
   },
   "outputs": [
    {
     "data": {
      "text/plain": [
       "age                                     int64\n",
       "signup_flow                             int64\n",
       "language                              float64\n",
       "affiliate_channel                     float64\n",
       "affiliate_provider                    float64\n",
       "first_affiliate_tracked               float64\n",
       "first_device_type                     float64\n",
       "first_browser                         float64\n",
       "diff_account_created_first_active       int64\n",
       "diff_first_booking_account_created      int64\n",
       "diff_first_active_first_booking         int64\n",
       "year_account_created                    int64\n",
       "month_account_created                   int64\n",
       "day_account_created                     int64\n",
       "dayofweek_account_created               int64\n",
       "weekofyear_account_created              int64\n",
       "year_first_active                       int64\n",
       "month_first_active                      int64\n",
       "day_first_active                        int64\n",
       "dayofweek_first_active                  int64\n",
       "weekofyear_first_active                 int64\n",
       "year_first_booking                      int64\n",
       "month_first_booking                     int64\n",
       "day_first_booking                       int64\n",
       "dayofweek_first_booking                 int64\n",
       "weekofyear_first_booking                int64\n",
       "dtype: object"
      ]
     },
     "execution_count": 44,
     "metadata": {},
     "output_type": "execute_result"
    }
   ],
   "source": [
    "df05_users.select_dtypes(include=['int64', 'float64']).dtypes"
   ]
  },
  {
   "cell_type": "code",
   "execution_count": 45,
   "id": "9bc7b72e",
   "metadata": {
    "ExecuteTime": {
     "end_time": "2022-04-11T14:04:10.804847Z",
     "start_time": "2022-04-11T14:04:10.791848Z"
    }
   },
   "outputs": [],
   "source": [
    "ss = pp.StandardScaler()\n",
    "\n",
    "rs = pp.RobustScaler()\n",
    "\n",
    "mms = pp.MinMaxScaler()"
   ]
  },
  {
   "cell_type": "code",
   "execution_count": 46,
   "id": "3b40432a",
   "metadata": {
    "ExecuteTime": {
     "end_time": "2022-04-11T14:04:12.594849Z",
     "start_time": "2022-04-11T14:04:12.123849Z"
    }
   },
   "outputs": [],
   "source": [
    "# age - Standardization\n",
    "df05_users['age'] = ss.fit_transform(df05_users[['age']].values)\n",
    "\n",
    "# signup_flow - Robust Scaler\n",
    "df05_users['signup_flow'] = rs.fit_transform(df05_users[['signup_flow']].values)\n",
    "\n",
    "# diff_account_created_first_active - Robust Scaler\n",
    "df05_users['diff_account_created_first_active'] = rs.fit_transform(df05_users[['diff_account_created_first_active']].values)\n",
    "\n",
    "# diff_first_booking_account_created -Robust Scaler\n",
    "df05_users['diff_first_booking_account_created'] = rs.fit_transform(df05_users[['diff_first_booking_account_created']].values)\n",
    "\n",
    "# year_account_created - Min-Max-Scaler\n",
    "df05_users['year_account_created'] = mms.fit_transform(df05_users[['year_account_created']].values)\n",
    "\n",
    "# year_first_booking\n",
    "df05_users['year_first_booking'] = mms.fit_transform(df05_users[['year_first_booking']].values)"
   ]
  },
  {
   "cell_type": "code",
   "execution_count": 47,
   "id": "b968b378",
   "metadata": {
    "ExecuteTime": {
     "end_time": "2022-04-11T14:04:13.750903Z",
     "start_time": "2022-04-11T14:04:13.630848Z"
    }
   },
   "outputs": [],
   "source": [
    "# diff_first_active_first_booking - Robust Scaler\n",
    "df05_users['diff_first_active_first_booking'] = rs.fit_transform(df05_users[['diff_first_active_first_booking']].values)\n",
    "\n",
    "# year_first_active - Min-Max-Scaler\n",
    "df05_users['year_first_active'] = mms.fit_transform(df05_users[['year_first_active']].values)"
   ]
  },
  {
   "cell_type": "markdown",
   "id": "f2b386f7",
   "metadata": {},
   "source": [
    "## 5.3. Transformation"
   ]
  },
  {
   "cell_type": "code",
   "execution_count": 48,
   "id": "373566c8",
   "metadata": {
    "ExecuteTime": {
     "end_time": "2022-04-11T14:04:14.837868Z",
     "start_time": "2022-04-11T14:04:14.731849Z"
    }
   },
   "outputs": [
    {
     "data": {
      "text/plain": [
       "age                                   float64\n",
       "signup_flow                           float64\n",
       "language                              float64\n",
       "affiliate_channel                     float64\n",
       "affiliate_provider                    float64\n",
       "first_affiliate_tracked               float64\n",
       "first_device_type                     float64\n",
       "first_browser                         float64\n",
       "diff_account_created_first_active     float64\n",
       "diff_first_booking_account_created    float64\n",
       "diff_first_active_first_booking       float64\n",
       "year_account_created                  float64\n",
       "month_account_created                   int64\n",
       "day_account_created                     int64\n",
       "dayofweek_account_created               int64\n",
       "weekofyear_account_created              int64\n",
       "year_first_active                     float64\n",
       "month_first_active                      int64\n",
       "day_first_active                        int64\n",
       "dayofweek_first_active                  int64\n",
       "weekofyear_first_active                 int64\n",
       "year_first_booking                    float64\n",
       "month_first_booking                     int64\n",
       "day_first_booking                       int64\n",
       "dayofweek_first_booking                 int64\n",
       "weekofyear_first_booking                int64\n",
       "dtype: object"
      ]
     },
     "execution_count": 48,
     "metadata": {},
     "output_type": "execute_result"
    }
   ],
   "source": [
    "df05_users.select_dtypes(include=['int64', 'float64']).dtypes"
   ]
  },
  {
   "cell_type": "code",
   "execution_count": 49,
   "id": "017adcfc",
   "metadata": {
    "ExecuteTime": {
     "end_time": "2022-04-11T14:04:20.337849Z",
     "start_time": "2022-04-11T14:04:16.201854Z"
    }
   },
   "outputs": [],
   "source": [
    "# month_account_created\n",
    "df05_users['month_account_created_sin'] = df05_users['month_account_created'].apply(lambda x: np.sin(x*(2*np.pi/52)))\n",
    "df05_users['month_account_created_cos'] = df05_users['month_account_created'].apply(lambda x: np.cos(x*(2*np.pi/52)))\n",
    "\n",
    "# day_account_created\n",
    "df05_users['day_account_created_sin'] = df05_users['day_account_created'].apply(lambda x: np.sin(x*(2*np.pi/31)))\n",
    "df05_users['day_account_created_cos'] = df05_users['day_account_created'].apply(lambda x: np.cos(x*(2*np.pi/31)))\n",
    "\n",
    "# dayofweek_account_created\n",
    "df05_users['dayofweek_account_created_sin'] = df05_users['dayofweek_account_created'].apply(lambda x: np.sin(x*(2*np.pi/7)))\n",
    "df05_users['dayofweek_account_created_cos'] = df05_users['dayofweek_account_created'].apply(lambda x: np.cos(x*(2*np.pi/7)))\n",
    "\n",
    "# month_first_booking\n",
    "df05_users['month_first_booking_sin'] = df05_users['month_first_booking'].apply(lambda x: np.sin(x*(2*np.pi/12)))\n",
    "df05_users['month_first_booking_cos'] = df05_users['month_first_booking'].apply(lambda x: np.cos(x*(2*np.pi/12)))\n",
    "\n",
    "# day_first_booking\n",
    "df05_users['day_first_booking_sin'] = df05_users['day_first_booking'].apply(lambda x: np.sin(x*(2*np.pi/31)))\n",
    "df05_users['day_first_booking_cos'] = df05_users['day_first_booking'].apply(lambda x: np.cos(x*(2*np.pi/31)))\n",
    "\n",
    "# dayofweek_first_booking\n",
    "df05_users['dayofweek_first_booking_sin'] = df05_users['dayofweek_first_booking'].apply(lambda x: np.sin(x*(2*np.pi/7)))\n",
    "df05_users['dayofweek_first_booking_cos'] = df05_users['dayofweek_first_booking'].apply(lambda x: np.cos(x*(2*np.pi/7)))"
   ]
  },
  {
   "cell_type": "code",
   "execution_count": 50,
   "id": "9ef822ae",
   "metadata": {
    "ExecuteTime": {
     "end_time": "2022-04-11T14:04:26.392849Z",
     "start_time": "2022-04-11T14:04:22.132847Z"
    }
   },
   "outputs": [],
   "source": [
    "# weekofyear_account_created\n",
    "df05_users['weekofyear_account_created_sin'] = df05_users['weekofyear_account_created'].apply(lambda x: np.sin(x*(2*np.pi/52))) \n",
    "df05_users['weekofyear_account_created_sin'] = df05_users['weekofyear_account_created'].apply(lambda x: np.cos(x*(2*np.pi/52))) \n",
    "\n",
    "# month_first_active\n",
    "df05_users['month_first_active_sin'] = df05_users['month_first_active'].apply(lambda x: np.sin(x*(2*np.pi/12)))\n",
    "df05_users['month_first_active_cos'] = df05_users['month_first_active'].apply(lambda x: np.cos(x*(2*np.pi/12)))\n",
    "\n",
    "# day_first_active\n",
    "df05_users['day_first_active_sin'] = df05_users['day_first_active'].apply(lambda x: np.sin(x*(2*np.pi/31)))\n",
    "df05_users['day_first_active_cos'] = df05_users['day_first_active'].apply(lambda x: np.cos(x*(2*np.pi/31)))\n",
    "\n",
    "# dayofweek_first_active\n",
    "df05_users['dayofweek_first_active_sin'] = df05_users['dayofweek_first_active'].apply(lambda x: np.sin(x*(2*np.pi/7)))\n",
    "df05_users['dayofweek_first_active_cos'] = df05_users['dayofweek_first_active'].apply(lambda x: np.cos(x*(2*np.pi/7)))\n",
    "\n",
    "# weekofyear_first_active\n",
    "df05_users['weekofyear_first_active_sin'] = df05_users['weekofyear_first_active'].apply(lambda x: np.sin(x*(2*np.pi/52)))\n",
    "df05_users['weekofyear_first_active_cos'] = df05_users['weekofyear_first_active'].apply(lambda x: np.cos(x*(2*np.pi/52)))\n",
    "\n",
    "# weekofyear_first_booking\n",
    "df05_users['weekofyear_first_booking_sin'] = df05_users['weekofyear_first_booking'].apply(lambda x: np.sin(x*(2*np.pi/52)))\n",
    "df05_users['weekofyear_first_booking_cos'] = df05_users['weekofyear_first_booking'].apply(lambda x: np.cos(x*(2*np.pi/52)))"
   ]
  },
  {
   "cell_type": "code",
   "execution_count": 51,
   "id": "3e637bcf",
   "metadata": {
    "ExecuteTime": {
     "end_time": "2022-04-11T14:04:27.641740Z",
     "start_time": "2022-04-11T14:04:27.501740Z"
    }
   },
   "outputs": [],
   "source": [
    "cols_transform = ['month_account_created', 'day_account_created', 'dayofweek_account_created', \n",
    "                  'month_first_booking', 'day_first_booking', 'dayofweek_first_booking', 'weekofyear_account_created', \n",
    "                  'month_first_active', 'day_first_active', 'dayofweek_first_active', 'weekofyear_first_active', \n",
    "                  'weekofyear_first_booking']\n",
    "\n",
    "df05_users = df05_users.drop(columns=cols_transform)"
   ]
  },
  {
   "cell_type": "markdown",
   "id": "31c3435c",
   "metadata": {},
   "source": [
    "## 5.4. Response Variable"
   ]
  },
  {
   "cell_type": "code",
   "execution_count": 52,
   "id": "5b95d5a5",
   "metadata": {
    "ExecuteTime": {
     "end_time": "2022-04-11T14:04:29.192199Z",
     "start_time": "2022-04-11T14:04:28.944743Z"
    }
   },
   "outputs": [],
   "source": [
    "# create OneHotEncoder instance\n",
    "ohe = pp.OneHotEncoder()\n",
    "\n",
    "# ohe hot encoding response feature\n",
    "df_ohe = pd.DataFrame(ohe.fit_transform(df05_users['country_destination'].values.reshape(-1,1)).toarray(),\n",
    "                      columns=ohe.categories_[0],\n",
    "                      index=df05_users.index)\n",
    "\n",
    "# joining encoded response feature to dataset\n",
    "df05_users = pd.concat([df05_users.drop(columns=['country_destination']), df_ohe], axis=1)"
   ]
  },
  {
   "cell_type": "markdown",
   "id": "56417dc6",
   "metadata": {},
   "source": [
    "# 6.0. Feature Selection"
   ]
  },
  {
   "cell_type": "code",
   "execution_count": 61,
   "id": "924a6eec",
   "metadata": {
    "ExecuteTime": {
     "end_time": "2022-04-11T14:04:53.609004Z",
     "start_time": "2022-04-11T14:04:53.549999Z"
    }
   },
   "outputs": [],
   "source": [
    "df06_users = df05_users.copy()"
   ]
  },
  {
   "cell_type": "markdown",
   "id": "eddfceb2",
   "metadata": {},
   "source": [
    "## 6.1. Split Dataframe into Training and Test Dataset"
   ]
  },
  {
   "cell_type": "code",
   "execution_count": 62,
   "id": "c4bc27ff",
   "metadata": {
    "ExecuteTime": {
     "end_time": "2022-04-11T14:04:55.686917Z",
     "start_time": "2022-04-11T14:04:55.546900Z"
    }
   },
   "outputs": [],
   "source": [
    "# training dataset\n",
    "X = df06_users.drop( columns=ohe.categories_[0] )\n",
    "\n",
    "#  training response dataset\n",
    "y = df06_users[ohe.categories_[0]]"
   ]
  },
  {
   "cell_type": "code",
   "execution_count": 63,
   "id": "2526e910",
   "metadata": {
    "ExecuteTime": {
     "end_time": "2022-04-11T14:04:57.603895Z",
     "start_time": "2022-04-11T14:04:57.319904Z"
    }
   },
   "outputs": [],
   "source": [
    "# Split dataset into training and test (validation)\n",
    "X_train, X_test, y_train, y_test = ms.train_test_split(X, y, test_size=0.2, random_state=32)"
   ]
  },
  {
   "cell_type": "markdown",
   "id": "34d3e09a",
   "metadata": {},
   "source": [
    "## 6.2. Balanced Dataset"
   ]
  },
  {
   "cell_type": "markdown",
   "id": "ca0771b1",
   "metadata": {},
   "source": [
    "### 6.2.1. Random Undersampling"
   ]
  },
  {
   "cell_type": "code",
   "execution_count": 64,
   "id": "99a0d42c",
   "metadata": {
    "ExecuteTime": {
     "end_time": "2022-04-11T14:05:00.109897Z",
     "start_time": "2022-04-11T14:04:59.372900Z"
    }
   },
   "outputs": [],
   "source": [
    "# define sampler - random under-sampling\n",
    "undersampling = us.RandomUnderSampler(sampling_strategy='not minority', random_state=32)\n",
    "\n",
    "# resample the dataset\n",
    "X_train_under, y_train_under = undersampling.fit_resample(X_train, ohe.inverse_transform(y_train))"
   ]
  },
  {
   "cell_type": "code",
   "execution_count": 65,
   "id": "cb6bbee4",
   "metadata": {
    "ExecuteTime": {
     "end_time": "2022-04-11T14:05:01.924899Z",
     "start_time": "2022-04-11T14:05:01.866898Z"
    },
    "cell_style": "split"
   },
   "outputs": [
    {
     "data": {
      "text/plain": [
       "NDF      95544\n",
       "US       47937\n",
       "other     7851\n",
       "FR        3877\n",
       "IT        2203\n",
       "GB        1790\n",
       "ES        1750\n",
       "CA        1086\n",
       "DE         797\n",
       "NL         583\n",
       "AU         421\n",
       "PT         176\n",
       "dtype: int64"
      ]
     },
     "execution_count": 65,
     "metadata": {},
     "output_type": "execute_result"
    }
   ],
   "source": [
    "pd.DataFrame(ohe.inverse_transform(y_train)).value_counts()"
   ]
  },
  {
   "cell_type": "code",
   "execution_count": 66,
   "id": "4c44dd51",
   "metadata": {
    "ExecuteTime": {
     "end_time": "2022-04-11T14:05:03.705901Z",
     "start_time": "2022-04-11T14:05:03.678899Z"
    },
    "cell_style": "split"
   },
   "outputs": [
    {
     "data": {
      "text/plain": [
       "AU       176\n",
       "CA       176\n",
       "DE       176\n",
       "ES       176\n",
       "FR       176\n",
       "GB       176\n",
       "IT       176\n",
       "NDF      176\n",
       "NL       176\n",
       "PT       176\n",
       "US       176\n",
       "other    176\n",
       "dtype: int64"
      ]
     },
     "execution_count": 66,
     "metadata": {},
     "output_type": "execute_result"
    }
   ],
   "source": [
    "pd.DataFrame(y_train_under).value_counts()"
   ]
  },
  {
   "cell_type": "code",
   "execution_count": 67,
   "id": "ef5297b6",
   "metadata": {
    "ExecuteTime": {
     "end_time": "2022-04-11T14:05:05.751897Z",
     "start_time": "2022-04-11T14:05:05.739899Z"
    }
   },
   "outputs": [],
   "source": [
    "# convert back to encoding representation\n",
    "y_train_under = pd.DataFrame(ohe.transform(y_train_under.reshape(-1,1)).toarray(), \n",
    "                             columns=ohe.categories_[0], \n",
    "                             index=X_train_under.index)"
   ]
  },
  {
   "cell_type": "markdown",
   "id": "50bad0a9",
   "metadata": {},
   "source": [
    "### 6.2.2. Random Oversampling"
   ]
  },
  {
   "cell_type": "code",
   "execution_count": 68,
   "id": "1250abf5",
   "metadata": {
    "ExecuteTime": {
     "end_time": "2022-04-11T14:05:12.226527Z",
     "start_time": "2022-04-11T14:05:07.315525Z"
    }
   },
   "outputs": [],
   "source": [
    "# define sampler - random over-sampling\n",
    "oversampling = osamp.RandomOverSampler(sampling_strategy='not majority', random_state=32)\n",
    "\n",
    "# resample the dataset\n",
    "X_train_over, y_train_over = oversampling.fit_resample(X_train, ohe.inverse_transform(y_train))"
   ]
  },
  {
   "cell_type": "code",
   "execution_count": 69,
   "id": "61432030",
   "metadata": {
    "ExecuteTime": {
     "end_time": "2022-04-11T14:05:15.111529Z",
     "start_time": "2022-04-11T14:05:15.020525Z"
    },
    "cell_style": "split"
   },
   "outputs": [
    {
     "data": {
      "text/plain": [
       "NDF      95544\n",
       "US       47937\n",
       "other     7851\n",
       "FR        3877\n",
       "IT        2203\n",
       "GB        1790\n",
       "ES        1750\n",
       "CA        1086\n",
       "DE         797\n",
       "NL         583\n",
       "AU         421\n",
       "PT         176\n",
       "dtype: int64"
      ]
     },
     "execution_count": 69,
     "metadata": {},
     "output_type": "execute_result"
    }
   ],
   "source": [
    "pd.DataFrame(ohe.inverse_transform(y_train)).value_counts()"
   ]
  },
  {
   "cell_type": "code",
   "execution_count": 70,
   "id": "b775fc7c",
   "metadata": {
    "ExecuteTime": {
     "end_time": "2022-04-11T14:05:18.150527Z",
     "start_time": "2022-04-11T14:05:18.044525Z"
    },
    "cell_style": "split"
   },
   "outputs": [
    {
     "data": {
      "text/plain": [
       "AU       95544\n",
       "CA       95544\n",
       "DE       95544\n",
       "ES       95544\n",
       "FR       95544\n",
       "GB       95544\n",
       "IT       95544\n",
       "NDF      95544\n",
       "NL       95544\n",
       "PT       95544\n",
       "US       95544\n",
       "other    95544\n",
       "dtype: int64"
      ]
     },
     "execution_count": 70,
     "metadata": {},
     "output_type": "execute_result"
    }
   ],
   "source": [
    "pd.DataFrame(y_train_over).value_counts()"
   ]
  },
  {
   "cell_type": "code",
   "execution_count": 71,
   "id": "f4f406ec",
   "metadata": {
    "ExecuteTime": {
     "end_time": "2022-04-11T14:05:21.138526Z",
     "start_time": "2022-04-11T14:05:20.661531Z"
    }
   },
   "outputs": [],
   "source": [
    "# convert back to encoding representation\n",
    "y_train_over = pd.DataFrame(ohe.transform(y_train_over.reshape(-1,1)).toarray(), \n",
    "                            columns=ohe.categories_[0], \n",
    "                            index=X_train_over.index)"
   ]
  },
  {
   "cell_type": "markdown",
   "id": "904e7859",
   "metadata": {},
   "source": [
    "### 6.2.3. SMOTE + TOMEKLINK"
   ]
  },
  {
   "cell_type": "code",
   "execution_count": 72,
   "id": "cae4d879",
   "metadata": {
    "ExecuteTime": {
     "end_time": "2022-04-11T19:28:31.550402Z",
     "start_time": "2022-04-11T14:05:24.088528Z"
    }
   },
   "outputs": [],
   "source": [
    "# define sampler - over-sampling using SMOTE and cleaning using Tomek links\n",
    "combine = comb.SMOTETomek(sampling_strategy='auto', random_state=32, n_jobs=-1)\n",
    "\n",
    "# resample the dataset\n",
    "X_train_comb, y_train_comb = combine.fit_resample(X_train, ohe.inverse_transform(y_train))"
   ]
  },
  {
   "cell_type": "code",
   "execution_count": 73,
   "id": "f8330d28",
   "metadata": {
    "ExecuteTime": {
     "end_time": "2022-04-11T19:28:36.692869Z",
     "start_time": "2022-04-11T19:28:36.430881Z"
    },
    "cell_style": "split"
   },
   "outputs": [
    {
     "data": {
      "text/plain": [
       "NDF      95544\n",
       "US       47937\n",
       "other     7851\n",
       "FR        3877\n",
       "IT        2203\n",
       "GB        1790\n",
       "ES        1750\n",
       "CA        1086\n",
       "DE         797\n",
       "NL         583\n",
       "AU         421\n",
       "PT         176\n",
       "dtype: int64"
      ]
     },
     "execution_count": 73,
     "metadata": {},
     "output_type": "execute_result"
    }
   ],
   "source": [
    "pd.DataFrame(ohe.inverse_transform(y_train)).value_counts()"
   ]
  },
  {
   "cell_type": "code",
   "execution_count": 74,
   "id": "a86056e3",
   "metadata": {
    "ExecuteTime": {
     "end_time": "2022-04-11T19:28:39.532341Z",
     "start_time": "2022-04-11T19:28:39.396342Z"
    },
    "cell_style": "split"
   },
   "outputs": [
    {
     "data": {
      "text/plain": [
       "AU       95543\n",
       "NL       95541\n",
       "NDF      95535\n",
       "DE       95532\n",
       "PT       95532\n",
       "CA       95529\n",
       "ES       95496\n",
       "GB       95477\n",
       "IT       95477\n",
       "FR       95409\n",
       "other    95203\n",
       "US       95166\n",
       "dtype: int64"
      ]
     },
     "execution_count": 74,
     "metadata": {},
     "output_type": "execute_result"
    }
   ],
   "source": [
    "pd.DataFrame(y_train_comb).value_counts()"
   ]
  },
  {
   "cell_type": "code",
   "execution_count": 75,
   "id": "e705db8d",
   "metadata": {
    "ExecuteTime": {
     "end_time": "2022-04-11T19:28:44.178455Z",
     "start_time": "2022-04-11T19:28:43.456462Z"
    }
   },
   "outputs": [],
   "source": [
    "# convert back to encoding representation\n",
    "y_train_comb = pd.DataFrame(ohe.transform(y_train_comb.reshape(-1,1)).toarray(), \n",
    "                            columns=ohe.categories_[0], \n",
    "                            index=X_train_comb.index)"
   ]
  },
  {
   "cell_type": "markdown",
   "id": "2e130f38",
   "metadata": {},
   "source": [
    "## 6.3. Manual Selection - Exploratory Data Analysis"
   ]
  },
  {
   "cell_type": "code",
   "execution_count": 76,
   "id": "9f3034da",
   "metadata": {
    "ExecuteTime": {
     "end_time": "2022-04-11T19:28:47.126381Z",
     "start_time": "2022-04-11T19:28:47.094658Z"
    },
    "code_folding": []
   },
   "outputs": [],
   "source": [
    "# transform columns name in new format after transformation\n",
    "cols_manual_select_transform = cols_manual_select.copy()\n",
    "\n",
    "# list of attributes transform im section 5.3.\n",
    "cols_transform = ['weekofyear_account_created_sin', 'weekofyear_account_created_sin',\n",
    "                  'month_first_active_sin', 'month_first_active_cos',\n",
    "                  'day_first_active_sin', 'day_first_active_cos',\n",
    "                  'dayofweek_first_active_sin', 'dayofweek_first_active_cos', \n",
    "                  'weekofyear_first_active_sin', 'weekofyear_first_active_cos',\n",
    "                  'weekofyear_first_booking_sin', 'weekofyear_first_booking_cos']\n",
    "\n",
    "# add atributes transform\n",
    "for attributes in cols_transform:\n",
    "    cols_manual_select_transform.append(attributes)\n",
    "\n",
    "# attributes select to be discard in EDA\n",
    "cols_discard = ['weekofyear_first_active', 'day_first_active', 'dayofweek_first_active', \n",
    "                'weekofyear_first_booking', 'weekofyear_account_created', 'month_first_active']\n",
    "\n",
    "# remove atributes select in EDA\n",
    "for attributes in cols_discard:\n",
    "    cols_manual_select_transform.remove(attributes)"
   ]
  },
  {
   "cell_type": "code",
   "execution_count": 77,
   "id": "a759e77d",
   "metadata": {
    "ExecuteTime": {
     "end_time": "2022-04-11T19:28:51.998167Z",
     "start_time": "2022-04-11T19:28:50.175171Z"
    }
   },
   "outputs": [],
   "source": [
    "# imbalanced dataset\n",
    "X_train_manual_select = X_train.drop(columns=cols_manual_select_transform)\n",
    "X_test_manual_select = X_test.drop(columns=cols_manual_select_transform)\n",
    "\n",
    "# random undersampling\n",
    "X_train_under_manual_select = X_train_under.drop(columns=cols_manual_select_transform)\n",
    "\n",
    "# random oversampling\n",
    "X_train_over_manual_select = X_train_over.drop(columns=cols_manual_select_transform)\n",
    "\n",
    "# SMOTE + Tomek Links\n",
    "X_train_comb_manual_select = X_train_comb.drop(columns=cols_manual_select_transform)"
   ]
  },
  {
   "cell_type": "markdown",
   "id": "c9ee0881",
   "metadata": {},
   "source": [
    "# 7.0. Machine Learning Model"
   ]
  },
  {
   "cell_type": "code",
   "execution_count": 78,
   "id": "b9dfd8fe",
   "metadata": {
    "ExecuteTime": {
     "end_time": "2022-04-11T19:28:57.728581Z",
     "start_time": "2022-04-11T19:28:57.700280Z"
    }
   },
   "outputs": [],
   "source": [
    "# imbalanced dataset\n",
    "x_train = X_train\n",
    "x_test = X_test\n",
    "\n",
    "# random uindersampling\n",
    "x_train_under = X_train_under\n",
    "\n",
    "# random oversampling\n",
    "x_train_over = X_train_over\n",
    "\n",
    "# SMOTE + TOMEK Links\n",
    "x_train_comb = X_train_comb"
   ]
  },
  {
   "cell_type": "markdown",
   "id": "b3107f01",
   "metadata": {},
   "source": [
    "## 7.1. Baseline Model - Random"
   ]
  },
  {
   "cell_type": "code",
   "execution_count": 79,
   "id": "c5ee811a",
   "metadata": {
    "ExecuteTime": {
     "end_time": "2022-04-11T19:34:55.842824Z",
     "start_time": "2022-04-11T19:34:55.565826Z"
    }
   },
   "outputs": [],
   "source": [
    "# list of country destination\n",
    "country_list = ohe.categories_[0].tolist()\n",
    "\n",
    "# number of rows\n",
    "k_num = y_test.shape[0]\n",
    "\n",
    "# proportion of country destinations for imbalanced result\n",
    "df_ohe = pd.DataFrame(ohe.inverse_transform(df06_users[ohe.categories_[0]]))\n",
    "country_weights = df_ohe.value_counts(normalize=True).sort_index().tolist()\n",
    "\n",
    "# prediction\n",
    "yhat_random = random.choices(population=country_list,\n",
    "                             weights=country_weights,\n",
    "                             k=k_num)\n",
    "\n",
    "# invert validation response\n",
    "y_test_random = ohe.inverse_transform(y_test)"
   ]
  },
  {
   "cell_type": "markdown",
   "id": "1645a305",
   "metadata": {},
   "source": [
    "### 7.1.1. Baseline Model - Performance"
   ]
  },
  {
   "cell_type": "code",
   "execution_count": 80,
   "id": "d032e4c1",
   "metadata": {
    "ExecuteTime": {
     "end_time": "2022-04-11T19:35:03.473291Z",
     "start_time": "2022-04-11T19:35:00.752834Z"
    }
   },
   "outputs": [
    {
     "name": "stdout",
     "output_type": "stream",
     "text": [
      "Accuracy 0.4248609891717881\n",
      "Balanced Accuracy: 0.08206407724189317\n",
      "Kappa Score: -0.002191498299420891\n",
      "              precision    recall  f1-score   support\n",
      "\n",
      "          AU       0.00      0.00      0.00        98\n",
      "          CA       0.01      0.01      0.01       283\n",
      "          DE       0.00      0.00      0.00       227\n",
      "          ES       0.01      0.01      0.01       433\n",
      "          FR       0.02      0.02      0.02       963\n",
      "          GB       0.01      0.01      0.01       469\n",
      "          IT       0.01      0.01      0.01       539\n",
      "         NDF       0.57      0.58      0.58     23643\n",
      "          NL       0.00      0.00      0.00       156\n",
      "          PT       0.00      0.00      0.00        36\n",
      "          US       0.30      0.30      0.30     12192\n",
      "       other       0.05      0.05      0.05      1965\n",
      "\n",
      "    accuracy                           0.42     41004\n",
      "   macro avg       0.08      0.08      0.08     41004\n",
      "weighted avg       0.42      0.42      0.42     41004\n",
      "\n"
     ]
    },
    {
     "data": {
      "image/png": "[encoded data removed]",
      "text/plain": [
       "<Figure size 864x864 with 2 Axes>"
      ]
     },
     "metadata": {
      "needs_background": "light"
     },
     "output_type": "display_data"
    }
   ],
   "source": [
    "# Accuracy\n",
    "acc_random = m.accuracy_score( y_test_random, yhat_random )\n",
    "print(f'Accuracy {acc_random}')\n",
    "\n",
    "# Balanced Accuracy\n",
    "balanced_acc_random = m.balanced_accuracy_score(y_test_random, yhat_random)\n",
    "print(f'Balanced Accuracy: {balanced_acc_random}')\n",
    "\n",
    "# Kappa Metrics\n",
    "kappa_random = m.cohen_kappa_score(y_test_random, yhat_random)\n",
    "print(f'Kappa Score: {kappa_random}')\n",
    "\n",
    "# Classification report\n",
    "print(m.classification_report(y_test_random, yhat_random))\n",
    "\n",
    "# Confusion Matrix\n",
    "mt.plot_confusion_matrix(y_test_random, yhat_random, normalize=False, figsize=(12,12));\n",
    "\n",
    "# Performance\n",
    "baseline_performance = {'model': 'Baseline Model', \n",
    "                        'acc': acc_random, \n",
    "                        'balanced_acc': balanced_acc_random, \n",
    "                        'kappa_store': kappa_random}"
   ]
  },
  {
   "cell_type": "markdown",
   "id": "74175f4b",
   "metadata": {},
   "source": [
    "## 7.2. Neural Network - MLP"
   ]
  },
  {
   "cell_type": "markdown",
   "id": "ff93f528",
   "metadata": {},
   "source": [
    "### 7.2.1. Neural Network - Imbalanced Data"
   ]
  },
  {
   "cell_type": "code",
   "execution_count": 81,
   "id": "ffbcef93",
   "metadata": {
    "ExecuteTime": {
     "end_time": "2022-04-11T19:48:50.068229Z",
     "start_time": "2022-04-11T19:35:07.583295Z"
    },
    "scrolled": true
   },
   "outputs": [
    {
     "name": "stdout",
     "output_type": "stream",
     "text": [
      "Epoch 1/100\n",
      "5126/5126 [==============================] - 9s 2ms/step - loss: 0.5214 - accuracy: 0.8712\n",
      "Epoch 2/100\n",
      "5126/5126 [==============================] - 7s 1ms/step - loss: 0.5004 - accuracy: 0.8744\n",
      "Epoch 3/100\n",
      "5126/5126 [==============================] - 7s 1ms/step - loss: 0.4945 - accuracy: 0.8745: 0s - loss:\n",
      "Epoch 4/100\n",
      "5126/5126 [==============================] - 9s 2ms/step - loss: 0.4874 - accuracy: 0.8746: 0s - loss: 0.4878 - accura\n",
      "Epoch 5/100\n",
      "5126/5126 [==============================] - 8s 2ms/step - loss: 0.4855 - accuracy: 0.8746: 0s - loss: 0\n",
      "Epoch 6/100\n",
      "5126/5126 [==============================] - 9s 2ms/step - loss: 0.4844 - accuracy: 0.8746\n",
      "Epoch 7/100\n",
      "5126/5126 [==============================] - 9s 2ms/step - loss: 0.4833 - accuracy: 0.8747\n",
      "Epoch 8/100\n",
      "5126/5126 [==============================] - 7s 1ms/step - loss: 0.4818 - accuracy: 0.8747\n",
      "Epoch 9/100\n",
      "5126/5126 [==============================] - 8s 2ms/step - loss: 0.4813 - accuracy: 0.8747\n",
      "Epoch 10/100\n",
      "5126/5126 [==============================] - 6s 1ms/step - loss: 0.4806 - accuracy: 0.8747\n",
      "Epoch 11/100\n",
      "5126/5126 [==============================] - 8s 2ms/step - loss: 0.4807 - accuracy: 0.8747\n",
      "Epoch 12/100\n",
      "5126/5126 [==============================] - 8s 2ms/step - loss: 0.4799 - accuracy: 0.8747\n",
      "Epoch 13/100\n",
      "5126/5126 [==============================] - 9s 2ms/step - loss: 0.4814 - accuracy: 0.8747\n",
      "Epoch 14/100\n",
      "5126/5126 [==============================] - 6s 1ms/step - loss: 0.4791 - accuracy: 0.8747\n",
      "Epoch 15/100\n",
      "5126/5126 [==============================] - 8s 2ms/step - loss: 0.4792 - accuracy: 0.8747\n",
      "Epoch 16/100\n",
      "5126/5126 [==============================] - 7s 1ms/step - loss: 0.4786 - accuracy: 0.8747\n",
      "Epoch 17/100\n",
      "5126/5126 [==============================] - 7s 1ms/step - loss: 0.4784 - accuracy: 0.8747\n",
      "Epoch 18/100\n",
      "5126/5126 [==============================] - 7s 1ms/step - loss: 0.4776 - accuracy: 0.8747\n",
      "Epoch 19/100\n",
      "5126/5126 [==============================] - 7s 1ms/step - loss: 0.4760 - accuracy: 0.8747\n",
      "Epoch 20/100\n",
      "5126/5126 [==============================] - 7s 1ms/step - loss: 0.4761 - accuracy: 0.8747: 0s - loss: 0.4\n",
      "Epoch 21/100\n",
      "5126/5126 [==============================] - 6s 1ms/step - loss: 0.4758 - accuracy: 0.8747\n",
      "Epoch 22/100\n",
      "5126/5126 [==============================] - 7s 1ms/step - loss: 0.4747 - accuracy: 0.8747: 0s - loss: 0.4746 - accuracy: 0.87\n",
      "Epoch 23/100\n",
      "5126/5126 [==============================] - 6s 1ms/step - loss: 0.4752 - accuracy: 0.8747\n",
      "Epoch 24/100\n",
      "5126/5126 [==============================] - 8s 2ms/step - loss: 0.4736 - accuracy: 0.8748\n",
      "Epoch 25/100\n",
      "5126/5126 [==============================] - 7s 1ms/step - loss: 0.4762 - accuracy: 0.8747\n",
      "Epoch 26/100\n",
      "5126/5126 [==============================] - 6s 1ms/step - loss: 0.4755 - accuracy: 0.8747\n",
      "Epoch 27/100\n",
      "5126/5126 [==============================] - 7s 1ms/step - loss: 0.4745 - accuracy: 0.8747\n",
      "Epoch 28/100\n",
      "5126/5126 [==============================] - 10s 2ms/step - loss: 0.4735 - accuracy: 0.8747\n",
      "Epoch 29/100\n",
      "5126/5126 [==============================] - 9s 2ms/step - loss: 0.4723 - accuracy: 0.8748\n",
      "Epoch 30/100\n",
      "5126/5126 [==============================] - 6s 1ms/step - loss: 0.4716 - accuracy: 0.8748: 0s - loss: 0.4717 - accuracy\n",
      "Epoch 31/100\n",
      "5126/5126 [==============================] - 7s 1ms/step - loss: 0.4749 - accuracy: 0.8747: 0s - loss: 0.4739 - ac\n",
      "Epoch 32/100\n",
      "5126/5126 [==============================] - 8s 2ms/step - loss: 0.4739 - accuracy: 0.8747\n",
      "Epoch 33/100\n",
      "5126/5126 [==============================] - 7s 1ms/step - loss: 0.4739 - accuracy: 0.8748\n",
      "Epoch 34/100\n",
      "5126/5126 [==============================] - 7s 1ms/step - loss: 0.4724 - accuracy: 0.8747\n",
      "Epoch 35/100\n",
      "5126/5126 [==============================] - 7s 1ms/step - loss: 0.4722 - accuracy: 0.8747\n",
      "Epoch 36/100\n",
      "5126/5126 [==============================] - 6s 1ms/step - loss: 0.4728 - accuracy: 0.8747\n",
      "Epoch 37/100\n",
      "5126/5126 [==============================] - 7s 1ms/step - loss: 0.4740 - accuracy: 0.8747\n",
      "Epoch 38/100\n",
      "5126/5126 [==============================] - 7s 1ms/step - loss: 0.4731 - accuracy: 0.8748\n",
      "Epoch 39/100\n",
      "5126/5126 [==============================] - 6s 1ms/step - loss: 0.4730 - accuracy: 0.8748\n",
      "Epoch 40/100\n",
      "5126/5126 [==============================] - 7s 1ms/step - loss: 0.4737 - accuracy: 0.8748\n",
      "Epoch 41/100\n",
      "5126/5126 [==============================] - 7s 1ms/step - loss: 0.4724 - accuracy: 0.8747: 0s - loss:\n",
      "Epoch 42/100\n",
      "5126/5126 [==============================] - 7s 1ms/step - loss: 0.4734 - accuracy: 0.8747\n",
      "Epoch 43/100\n",
      "5126/5126 [==============================] - 8s 1ms/step - loss: 0.4718 - accuracy: 0.8748\n",
      "Epoch 44/100\n",
      "5126/5126 [==============================] - 7s 1ms/step - loss: 0.4727 - accuracy: 0.8747\n",
      "Epoch 45/100\n",
      "5126/5126 [==============================] - 7s 1ms/step - loss: 0.4733 - accuracy: 0.8747\n",
      "Epoch 46/100\n",
      "5126/5126 [==============================] - 8s 2ms/step - loss: 0.4720 - accuracy: 0.8747\n",
      "Epoch 47/100\n",
      "5126/5126 [==============================] - 9s 2ms/step - loss: 0.4707 - accuracy: 0.8748\n",
      "Epoch 48/100\n",
      "5126/5126 [==============================] - 7s 1ms/step - loss: 0.4714 - accuracy: 0.8748\n",
      "Epoch 49/100\n",
      "5126/5126 [==============================] - 9s 2ms/step - loss: 0.4696 - accuracy: 0.8748\n",
      "Epoch 50/100\n",
      "5126/5126 [==============================] - 10s 2ms/step - loss: 0.4711 - accuracy: 0.8747\n",
      "Epoch 51/100\n",
      "5126/5126 [==============================] - 8s 2ms/step - loss: 0.4717 - accuracy: 0.8748\n",
      "Epoch 52/100\n",
      "5126/5126 [==============================] - 11s 2ms/step - loss: 0.4736 - accuracy: 0.8748\n",
      "Epoch 53/100\n",
      "5126/5126 [==============================] - 9s 2ms/step - loss: 0.4705 - accuracy: 0.8749\n",
      "Epoch 54/100\n",
      "5126/5126 [==============================] - 10s 2ms/step - loss: 0.4731 - accuracy: 0.8748\n",
      "Epoch 55/100\n",
      "5126/5126 [==============================] - 8s 2ms/step - loss: 0.4709 - accuracy: 0.8748\n",
      "Epoch 56/100\n",
      "5126/5126 [==============================] - 8s 2ms/step - loss: 0.4701 - accuracy: 0.8748\n",
      "Epoch 57/100\n",
      "5126/5126 [==============================] - 9s 2ms/step - loss: 0.4696 - accuracy: 0.8748\n",
      "Epoch 58/100\n",
      "5126/5126 [==============================] - 8s 2ms/step - loss: 0.4730 - accuracy: 0.8747\n",
      "Epoch 59/100\n",
      "5126/5126 [==============================] - 9s 2ms/step - loss: 0.4725 - accuracy: 0.8748\n",
      "Epoch 60/100\n",
      "5126/5126 [==============================] - 9s 2ms/step - loss: 0.4722 - accuracy: 0.8748\n",
      "Epoch 61/100\n",
      "5126/5126 [==============================] - 8s 2ms/step - loss: 0.4705 - accuracy: 0.8749\n",
      "Epoch 62/100\n",
      "5126/5126 [==============================] - 9s 2ms/step - loss: 0.4710 - accuracy: 0.8748\n",
      "Epoch 63/100\n",
      "5126/5126 [==============================] - 10s 2ms/step - loss: 0.4699 - accuracy: 0.8748\n",
      "Epoch 64/100\n",
      "5126/5126 [==============================] - 11s 2ms/step - loss: 0.4689 - accuracy: 0.8749 0s - loss: 0.469\n",
      "Epoch 65/100\n",
      "5126/5126 [==============================] - 9s 2ms/step - loss: 0.4716 - accuracy: 0.8749\n",
      "Epoch 66/100\n",
      "5126/5126 [==============================] - 9s 2ms/step - loss: 0.4684 - accuracy: 0.8749\n",
      "Epoch 67/100\n",
      "5126/5126 [==============================] - 8s 2ms/step - loss: 0.4705 - accuracy: 0.8749\n",
      "Epoch 68/100\n",
      "5126/5126 [==============================] - 7s 1ms/step - loss: 0.4780 - accuracy: 0.8748\n",
      "Epoch 69/100\n",
      "5126/5126 [==============================] - 6s 1ms/step - loss: 0.4680 - accuracy: 0.8748\n",
      "Epoch 70/100\n",
      "5126/5126 [==============================] - 6s 1ms/step - loss: 0.4693 - accuracy: 0.8749\n",
      "Epoch 71/100\n",
      "5126/5126 [==============================] - 6s 1ms/step - loss: 0.4699 - accuracy: 0.8749\n",
      "Epoch 72/100\n",
      "5126/5126 [==============================] - 9s 2ms/step - loss: 0.4697 - accuracy: 0.8750\n",
      "Epoch 73/100\n",
      "5126/5126 [==============================] - 8s 2ms/step - loss: 0.4687 - accuracy: 0.8750\n",
      "Epoch 74/100\n",
      "5126/5126 [==============================] - 7s 1ms/step - loss: 0.4689 - accuracy: 0.8749\n",
      "Epoch 75/100\n",
      "5126/5126 [==============================] - 7s 1ms/step - loss: 0.4696 - accuracy: 0.8748\n",
      "Epoch 76/100\n",
      "5126/5126 [==============================] - 7s 1ms/step - loss: 0.4683 - accuracy: 0.8749\n",
      "Epoch 77/100\n"
     ]
    },
    {
     "name": "stdout",
     "output_type": "stream",
     "text": [
      "5126/5126 [==============================] - 8s 1ms/step - loss: 0.4696 - accuracy: 0.8749: 1s - loss: 0.4709 - ac\n",
      "Epoch 78/100\n",
      "5126/5126 [==============================] - 6s 1ms/step - loss: 0.4692 - accuracy: 0.8750\n",
      "Epoch 79/100\n",
      "5126/5126 [==============================] - 9s 2ms/step - loss: 0.4734 - accuracy: 0.8749: 0s - loss: 0.4736 - accu\n",
      "Epoch 80/100\n",
      "5126/5126 [==============================] - 6s 1ms/step - loss: 0.4688 - accuracy: 0.8749\n",
      "Epoch 81/100\n",
      "5126/5126 [==============================] - 7s 1ms/step - loss: 0.4700 - accuracy: 0.8748\n",
      "Epoch 82/100\n",
      "5126/5126 [==============================] - 7s 1ms/step - loss: 0.4713 - accuracy: 0.8749\n",
      "Epoch 83/100\n",
      "5126/5126 [==============================] - 6s 1ms/step - loss: 0.4701 - accuracy: 0.8748\n",
      "Epoch 84/100\n",
      "5126/5126 [==============================] - 7s 1ms/step - loss: 0.4681 - accuracy: 0.8748\n",
      "Epoch 85/100\n",
      "5126/5126 [==============================] - 8s 2ms/step - loss: 0.4691 - accuracy: 0.8749\n",
      "Epoch 86/100\n",
      "5126/5126 [==============================] - 11s 2ms/step - loss: 0.4710 - accuracy: 0.8749\n",
      "Epoch 87/100\n",
      "5126/5126 [==============================] - 10s 2ms/step - loss: 0.4694 - accuracy: 0.8749 0s - loss: 0.468\n",
      "Epoch 88/100\n",
      "5126/5126 [==============================] - 10s 2ms/step - loss: 0.4686 - accuracy: 0.8749\n",
      "Epoch 89/100\n",
      "5126/5126 [==============================] - 10s 2ms/step - loss: 0.4683 - accuracy: 0.8749 3s\n",
      "Epoch 90/100\n",
      "5126/5126 [==============================] - 10s 2ms/step - loss: 0.4709 - accuracy: 0.8748\n",
      "Epoch 91/100\n",
      "5126/5126 [==============================] - 9s 2ms/step - loss: 0.4692 - accuracy: 0.8748: 0s - l\n",
      "Epoch 92/100\n",
      "5126/5126 [==============================] - 11s 2ms/step - loss: 0.4698 - accuracy: 0.8749\n",
      "Epoch 93/100\n",
      "5126/5126 [==============================] - 9s 2ms/step - loss: 0.4711 - accuracy: 0.8749\n",
      "Epoch 94/100\n",
      "5126/5126 [==============================] - 10s 2ms/step - loss: 0.4705 - accuracy: 0.8750\n",
      "Epoch 95/100\n",
      "5126/5126 [==============================] - 11s 2ms/step - loss: 0.4706 - accuracy: 0.8749\n",
      "Epoch 96/100\n",
      "5126/5126 [==============================] - 10s 2ms/step - loss: 0.4667 - accuracy: 0.8749\n",
      "Epoch 97/100\n",
      "5126/5126 [==============================] - 10s 2ms/step - loss: 0.4699 - accuracy: 0.8748\n",
      "Epoch 98/100\n",
      "5126/5126 [==============================] - 8s 1ms/step - loss: 0.4721 - accuracy: 0.8749\n",
      "Epoch 99/100\n",
      "5126/5126 [==============================] - 9s 2ms/step - loss: 0.4703 - accuracy: 0.8750: 0s - loss: 0.4702 - accuracy: \n",
      "Epoch 100/100\n",
      "5126/5126 [==============================] - 7s 1ms/step - loss: 0.4706 - accuracy: 0.8749\n"
     ]
    },
    {
     "data": {
      "text/plain": [
       "<tensorflow.python.keras.callbacks.History at 0x14ba37af1c0>"
      ]
     },
     "execution_count": 81,
     "metadata": {},
     "output_type": "execute_result"
    }
   ],
   "source": [
    "# model definition\n",
    "model_nn = ml.Sequential()\n",
    "model_nn.add( l.Dense(128, input_dim=x_train.shape[1], activation='relu') )\n",
    "model_nn.add( l.Dense(12, activation='softmax') )\n",
    "\n",
    "# model compile\n",
    "model_nn.compile(loss='categorical_crossentropy', optimizer='adam', metrics=['accuracy'])\n",
    "\n",
    "# train model\n",
    "model_nn.fit(x_train, y_train, epochs=100)"
   ]
  },
  {
   "cell_type": "markdown",
   "id": "ef2f813d",
   "metadata": {},
   "source": [
    "#### 7.2.1.1 Imbalanced Data - Performance"
   ]
  },
  {
   "cell_type": "code",
   "execution_count": 82,
   "id": "ff13f804",
   "metadata": {
    "ExecuteTime": {
     "end_time": "2022-04-11T19:48:59.678714Z",
     "start_time": "2022-04-11T19:48:55.221063Z"
    }
   },
   "outputs": [],
   "source": [
    "# prediction\n",
    "pred_nn = model_nn.predict(x_test)\n",
    "\n",
    "# invert prediction\n",
    "yhat_nn = ohe.inverse_transform(pred_nn)\n",
    "\n",
    "# invert validation response\n",
    "y_test_nn = ohe.inverse_transform(y_test)"
   ]
  },
  {
   "cell_type": "code",
   "execution_count": 83,
   "id": "21ae1bb8",
   "metadata": {
    "ExecuteTime": {
     "end_time": "2022-04-11T19:49:04.458379Z",
     "start_time": "2022-04-11T19:49:04.415378Z"
    },
    "cell_style": "split"
   },
   "outputs": [
    {
     "data": {
      "text/plain": [
       "NDF      0.576602\n",
       "US       0.297337\n",
       "other    0.047922\n",
       "FR       0.023486\n",
       "IT       0.013145\n",
       "GB       0.011438\n",
       "ES       0.010560\n",
       "CA       0.006902\n",
       "DE       0.005536\n",
       "NL       0.003805\n",
       "AU       0.002390\n",
       "PT       0.000878\n",
       "dtype: float64"
      ]
     },
     "execution_count": 83,
     "metadata": {},
     "output_type": "execute_result"
    }
   ],
   "source": [
    "# check the balance of validation\n",
    "pd.DataFrame(y_test_nn).value_counts(normalize=True)"
   ]
  },
  {
   "cell_type": "code",
   "execution_count": 84,
   "id": "62ccb1e9",
   "metadata": {
    "ExecuteTime": {
     "end_time": "2022-04-11T19:49:09.703651Z",
     "start_time": "2022-04-11T19:49:09.675522Z"
    },
    "cell_style": "split"
   },
   "outputs": [
    {
     "data": {
      "text/plain": [
       "NDF      0.576871\n",
       "US       0.422081\n",
       "other    0.000366\n",
       "GB       0.000317\n",
       "DE       0.000122\n",
       "AU       0.000073\n",
       "CA       0.000073\n",
       "IT       0.000049\n",
       "ES       0.000024\n",
       "FR       0.000024\n",
       "dtype: float64"
      ]
     },
     "execution_count": 84,
     "metadata": {},
     "output_type": "execute_result"
    }
   ],
   "source": [
    "# check the balance of result\n",
    "pd.DataFrame(yhat_nn).value_counts(normalize=True)"
   ]
  },
  {
   "cell_type": "code",
   "execution_count": 86,
   "id": "29f2d40c",
   "metadata": {
    "ExecuteTime": {
     "end_time": "2022-04-11T19:49:26.525434Z",
     "start_time": "2022-04-11T19:49:23.553804Z"
    }
   },
   "outputs": [
    {
     "name": "stdout",
     "output_type": "stream",
     "text": [
      "Accuracy: 0.873012389035216\n",
      "Balanced Accuracy: 0.16674862936909007\n",
      "Kappa Score: 0.765641077249041\n",
      "              precision    recall  f1-score   support\n",
      "\n",
      "          AU       0.00      0.00      0.00        98\n",
      "          CA       0.00      0.00      0.00       283\n",
      "          DE       0.00      0.00      0.00       227\n",
      "          ES       0.00      0.00      0.00       433\n",
      "          FR       0.00      0.00      0.00       963\n",
      "          GB       0.15      0.00      0.01       469\n",
      "          IT       0.00      0.00      0.00       539\n",
      "         NDF       1.00      1.00      1.00     23643\n",
      "          NL       0.00      0.00      0.00       156\n",
      "          PT       0.00      0.00      0.00        36\n",
      "          US       0.70      1.00      0.82     12192\n",
      "       other       0.00      0.00      0.00      1965\n",
      "\n",
      "    accuracy                           0.87     41004\n",
      "   macro avg       0.15      0.17      0.15     41004\n",
      "weighted avg       0.79      0.87      0.82     41004\n",
      "\n"
     ]
    },
    {
     "data": {
      "image/png": "[encoded data removed]",
      "text/plain": [
       "<Figure size 864x864 with 2 Axes>"
      ]
     },
     "metadata": {
      "needs_background": "light"
     },
     "output_type": "display_data"
    }
   ],
   "source": [
    "# Accuracy\n",
    "acc_nn = m.accuracy_score( y_test_nn, yhat_nn )\n",
    "print(f'Accuracy: {acc_nn}')\n",
    "\n",
    "# Balanced Accuracy\n",
    "balanced_acc_nn = m.balanced_accuracy_score(y_test_nn, yhat_nn)\n",
    "print(f'Balanced Accuracy: {balanced_acc_nn}')\n",
    "\n",
    "# Kappa Metrics\n",
    "kappa_nn = m.cohen_kappa_score(y_test_nn, yhat_nn)\n",
    "print(f'Kappa Score: {kappa_nn}')\n",
    "\n",
    "# Classification report\n",
    "print(m.classification_report(y_test_nn, yhat_nn))\n",
    "\n",
    "# Confusion Matrix\n",
    "mt.plot_confusion_matrix( y_test_nn, yhat_nn, normalize=False, figsize=(12,12));\n",
    "\n",
    "# Performance\n",
    "imb_performance = {'model': 'NN Model - Imbalanced Data',\n",
    "                   'acc': np.round(acc_nn, 6), \n",
    "                   'balanced_acc': np.round(balanced_acc_nn, 6), \n",
    "                   'kappa_score': np.round(kappa_nn, 6)}"
   ]
  },
  {
   "cell_type": "markdown",
   "id": "9ad0b0a8",
   "metadata": {},
   "source": [
    "#### 7.2.1.2. Imbalanced Data - Cross-Validation"
   ]
  },
  {
   "cell_type": "code",
   "execution_count": 87,
   "id": "752267fb",
   "metadata": {
    "ExecuteTime": {
     "end_time": "2022-04-11T20:21:49.754405Z",
     "start_time": "2022-04-11T19:49:32.389049Z"
    }
   },
   "outputs": [
    {
     "name": "stdout",
     "output_type": "stream",
     "text": [
      "Fold Number:1/5\n",
      "Fold Number:2/5\n",
      "Fold Number:3/5\n",
      "Fold Number:4/5\n",
      "Fold Number:5/5\n"
     ]
    }
   ],
   "source": [
    "# cross validation performance\n",
    "acc_nn, balanced_acc_nn, kappa_nn = cross_validation(num_fold = 5, \n",
    "                                                     x_train = x_train, \n",
    "                                                     y_train = y_train, \n",
    "                                                     model = model_nn, \n",
    "                                                     response_encoder = ohe, \n",
    "                                                     balance_model = False, \n",
    "                                                     verbose = True)"
   ]
  },
  {
   "cell_type": "code",
   "execution_count": 88,
   "id": "1e7d6ff9",
   "metadata": {
    "ExecuteTime": {
     "end_time": "2022-04-11T20:21:54.444133Z",
     "start_time": "2022-04-11T20:21:54.416135Z"
    }
   },
   "outputs": [],
   "source": [
    "# Performance\n",
    "imb_performance_cv = {'model': 'NN Model - Imbalanced Data - CV',\n",
    "                      'acc': f'{np.round(np.mean(acc_nn), 2)} +/- {np.round(np.std(acc_nn), 4)}',\n",
    "                      'balanced_acc': f'{np.round(np.mean(balanced_acc_nn), 2)} +/- {np.round(np.std(balanced_acc_nn), 4)}',\n",
    "                      'kappa_score': f'{np.round(np.mean(kappa_nn), 2)} +/- {np.round(np.std(kappa_nn), 4)}'}"
   ]
  },
  {
   "cell_type": "code",
   "execution_count": 89,
   "id": "595d5e15",
   "metadata": {
    "ExecuteTime": {
     "end_time": "2022-04-11T20:21:58.798290Z",
     "start_time": "2022-04-11T20:21:58.785293Z"
    }
   },
   "outputs": [
    {
     "name": "stdout",
     "output_type": "stream",
     "text": [
      "Avg Accuracy: 0.87 +/- 0.00031\n",
      "Avg Balanced Accuracy: 0.17 +/- 0.00046\n",
      "Avg Kappa Score: 0.77 +/- 0.0005\n"
     ]
    }
   ],
   "source": [
    "print(f'Avg Accuracy: {np.round(np.mean(acc_nn), 2)} +/- {np.round(np.std(acc_nn),5)}')\n",
    "print(f'Avg Balanced Accuracy: {np.round(np.mean(balanced_acc_nn), 2)} +/- {np.round(np.std(balanced_acc_nn),5)}')\n",
    "print(f'Avg Kappa Score: {np.round(np.mean(kappa_nn), 2)} +/- {np.round(np.std(kappa_nn), 4)}')"
   ]
  },
  {
   "cell_type": "markdown",
   "id": "30a8d813",
   "metadata": {},
   "source": [
    "### 7.2.2. Neural Network - Random Undersampling"
   ]
  },
  {
   "cell_type": "code",
   "execution_count": 90,
   "id": "fa3d36ec",
   "metadata": {
    "ExecuteTime": {
     "end_time": "2022-04-11T20:22:16.109965Z",
     "start_time": "2022-04-11T20:22:02.821246Z"
    },
    "scrolled": true
   },
   "outputs": [
    {
     "name": "stdout",
     "output_type": "stream",
     "text": [
      "Epoch 1/100\n",
      "66/66 [==============================] - 0s 1ms/step - loss: 2.5576 - accuracy: 0.1468\n",
      "Epoch 2/100\n",
      "66/66 [==============================] - 0s 1ms/step - loss: 2.3372 - accuracy: 0.1903\n",
      "Epoch 3/100\n",
      "66/66 [==============================] - 0s 1ms/step - loss: 2.2721 - accuracy: 0.2055\n",
      "Epoch 4/100\n",
      "66/66 [==============================] - 0s 1ms/step - loss: 2.2245 - accuracy: 0.2173\n",
      "Epoch 5/100\n",
      "66/66 [==============================] - 0s 1ms/step - loss: 2.1904 - accuracy: 0.2263\n",
      "Epoch 6/100\n",
      "66/66 [==============================] - 0s 1ms/step - loss: 2.1651 - accuracy: 0.2344\n",
      "Epoch 7/100\n",
      "66/66 [==============================] - 0s 1ms/step - loss: 2.1625 - accuracy: 0.2344\n",
      "Epoch 8/100\n",
      "66/66 [==============================] - 0s 1ms/step - loss: 2.1505 - accuracy: 0.2543\n",
      "Epoch 9/100\n",
      "66/66 [==============================] - 0s 1ms/step - loss: 2.1261 - accuracy: 0.2533\n",
      "Epoch 10/100\n",
      "66/66 [==============================] - 0s 1ms/step - loss: 2.1150 - accuracy: 0.2604\n",
      "Epoch 11/100\n",
      "66/66 [==============================] - 0s 1ms/step - loss: 2.1481 - accuracy: 0.2689\n",
      "Epoch 12/100\n",
      "66/66 [==============================] - 0s 1ms/step - loss: 2.1207 - accuracy: 0.2652\n",
      "Epoch 13/100\n",
      "66/66 [==============================] - 0s 1ms/step - loss: 2.0710 - accuracy: 0.2713\n",
      "Epoch 14/100\n",
      "66/66 [==============================] - 0s 1ms/step - loss: 2.0877 - accuracy: 0.2794\n",
      "Epoch 15/100\n",
      "66/66 [==============================] - 0s 1ms/step - loss: 2.0788 - accuracy: 0.2869\n",
      "Epoch 16/100\n",
      "66/66 [==============================] - 0s 1ms/step - loss: 2.0628 - accuracy: 0.2860\n",
      "Epoch 17/100\n",
      "66/66 [==============================] - 0s 1ms/step - loss: 2.0575 - accuracy: 0.2950\n",
      "Epoch 18/100\n",
      "66/66 [==============================] - 0s 1ms/step - loss: 2.0266 - accuracy: 0.2850\n",
      "Epoch 19/100\n",
      "66/66 [==============================] - 0s 1ms/step - loss: 2.0612 - accuracy: 0.2978\n",
      "Epoch 20/100\n",
      "66/66 [==============================] - 0s 1ms/step - loss: 2.0151 - accuracy: 0.3011\n",
      "Epoch 21/100\n",
      "66/66 [==============================] - 0s 1ms/step - loss: 2.0159 - accuracy: 0.3111\n",
      "Epoch 22/100\n",
      "66/66 [==============================] - 0s 2ms/step - loss: 2.0111 - accuracy: 0.3153\n",
      "Epoch 23/100\n",
      "66/66 [==============================] - 0s 1ms/step - loss: 2.0058 - accuracy: 0.3163\n",
      "Epoch 24/100\n",
      "66/66 [==============================] - 0s 1ms/step - loss: 1.9910 - accuracy: 0.3101\n",
      "Epoch 25/100\n",
      "66/66 [==============================] - 0s 2ms/step - loss: 1.9903 - accuracy: 0.3177\n",
      "Epoch 26/100\n",
      "66/66 [==============================] - 0s 1ms/step - loss: 1.9681 - accuracy: 0.3277\n",
      "Epoch 27/100\n",
      "66/66 [==============================] - 0s 1ms/step - loss: 1.9604 - accuracy: 0.3116\n",
      "Epoch 28/100\n",
      "66/66 [==============================] - 0s 1ms/step - loss: 1.9596 - accuracy: 0.3272\n",
      "Epoch 29/100\n",
      "66/66 [==============================] - 0s 1ms/step - loss: 1.9580 - accuracy: 0.3348\n",
      "Epoch 30/100\n",
      "66/66 [==============================] - 0s 1ms/step - loss: 1.9382 - accuracy: 0.3267\n",
      "Epoch 31/100\n",
      "66/66 [==============================] - 0s 1ms/step - loss: 1.9504 - accuracy: 0.3366\n",
      "Epoch 32/100\n",
      "66/66 [==============================] - 0s 1ms/step - loss: 1.9220 - accuracy: 0.3404\n",
      "Epoch 33/100\n",
      "66/66 [==============================] - 0s 1ms/step - loss: 1.9352 - accuracy: 0.3366\n",
      "Epoch 34/100\n",
      "66/66 [==============================] - 0s 1ms/step - loss: 1.9034 - accuracy: 0.3542\n",
      "Epoch 35/100\n",
      "66/66 [==============================] - 0s 1ms/step - loss: 1.9046 - accuracy: 0.3466\n",
      "Epoch 36/100\n",
      "66/66 [==============================] - 0s 1ms/step - loss: 1.9196 - accuracy: 0.3532\n",
      "Epoch 37/100\n",
      "66/66 [==============================] - 0s 1ms/step - loss: 1.8906 - accuracy: 0.3622\n",
      "Epoch 38/100\n",
      "66/66 [==============================] - 0s 1ms/step - loss: 1.8897 - accuracy: 0.3546\n",
      "Epoch 39/100\n",
      "66/66 [==============================] - 0s 1ms/step - loss: 1.8739 - accuracy: 0.3613\n",
      "Epoch 40/100\n",
      "66/66 [==============================] - 0s 1ms/step - loss: 1.8867 - accuracy: 0.3651\n",
      "Epoch 41/100\n",
      "66/66 [==============================] - 0s 1ms/step - loss: 1.8732 - accuracy: 0.3684\n",
      "Epoch 42/100\n",
      "66/66 [==============================] - 0s 1ms/step - loss: 1.8555 - accuracy: 0.3722\n",
      "Epoch 43/100\n",
      "66/66 [==============================] - 0s 1ms/step - loss: 1.8484 - accuracy: 0.3722\n",
      "Epoch 44/100\n",
      "66/66 [==============================] - 0s 1ms/step - loss: 1.8453 - accuracy: 0.3774\n",
      "Epoch 45/100\n",
      "66/66 [==============================] - 0s 1ms/step - loss: 1.8510 - accuracy: 0.3807\n",
      "Epoch 46/100\n",
      "66/66 [==============================] - 0s 1ms/step - loss: 1.8192 - accuracy: 0.3835\n",
      "Epoch 47/100\n",
      "66/66 [==============================] - 0s 1ms/step - loss: 1.8260 - accuracy: 0.3840\n",
      "Epoch 48/100\n",
      "66/66 [==============================] - 0s 1ms/step - loss: 1.8112 - accuracy: 0.3783\n",
      "Epoch 49/100\n",
      "66/66 [==============================] - 0s 2ms/step - loss: 1.8073 - accuracy: 0.3859\n",
      "Epoch 50/100\n",
      "66/66 [==============================] - 0s 2ms/step - loss: 1.8025 - accuracy: 0.3930\n",
      "Epoch 51/100\n",
      "66/66 [==============================] - 0s 2ms/step - loss: 1.8123 - accuracy: 0.3868\n",
      "Epoch 52/100\n",
      "66/66 [==============================] - 0s 2ms/step - loss: 1.8070 - accuracy: 0.3963\n",
      "Epoch 53/100\n",
      "66/66 [==============================] - 0s 2ms/step - loss: 1.7798 - accuracy: 0.4048\n",
      "Epoch 54/100\n",
      "66/66 [==============================] - 0s 2ms/step - loss: 1.8012 - accuracy: 0.4001\n",
      "Epoch 55/100\n",
      "66/66 [==============================] - 0s 2ms/step - loss: 1.7630 - accuracy: 0.4015\n",
      "Epoch 56/100\n",
      "66/66 [==============================] - 0s 1ms/step - loss: 1.7815 - accuracy: 0.4072\n",
      "Epoch 57/100\n",
      "66/66 [==============================] - 0s 2ms/step - loss: 1.7948 - accuracy: 0.4091\n",
      "Epoch 58/100\n",
      "66/66 [==============================] - 0s 1ms/step - loss: 1.7708 - accuracy: 0.4081\n",
      "Epoch 59/100\n",
      "66/66 [==============================] - 0s 2ms/step - loss: 1.7540 - accuracy: 0.4209\n",
      "Epoch 60/100\n",
      "66/66 [==============================] - 0s 2ms/step - loss: 1.7363 - accuracy: 0.4171\n",
      "Epoch 61/100\n",
      "66/66 [==============================] - 0s 1ms/step - loss: 1.7502 - accuracy: 0.4134\n",
      "Epoch 62/100\n",
      "66/66 [==============================] - 0s 2ms/step - loss: 1.7227 - accuracy: 0.4247\n",
      "Epoch 63/100\n",
      "66/66 [==============================] - 0s 2ms/step - loss: 1.7241 - accuracy: 0.4247\n",
      "Epoch 64/100\n",
      "66/66 [==============================] - 0s 2ms/step - loss: 1.7464 - accuracy: 0.4238\n",
      "Epoch 65/100\n",
      "66/66 [==============================] - 0s 2ms/step - loss: 1.7338 - accuracy: 0.4219\n",
      "Epoch 66/100\n",
      "66/66 [==============================] - 0s 1ms/step - loss: 1.7287 - accuracy: 0.4323\n",
      "Epoch 67/100\n",
      "66/66 [==============================] - 0s 2ms/step - loss: 1.7169 - accuracy: 0.4238\n",
      "Epoch 68/100\n",
      "66/66 [==============================] - 0s 2ms/step - loss: 1.7161 - accuracy: 0.4266\n",
      "Epoch 69/100\n",
      "66/66 [==============================] - 0s 1ms/step - loss: 1.7028 - accuracy: 0.4223\n",
      "Epoch 70/100\n",
      "66/66 [==============================] - 0s 1ms/step - loss: 1.7120 - accuracy: 0.4266\n",
      "Epoch 71/100\n",
      "66/66 [==============================] - 0s 1ms/step - loss: 1.6753 - accuracy: 0.4403\n",
      "Epoch 72/100\n",
      "66/66 [==============================] - 0s 2ms/step - loss: 1.6966 - accuracy: 0.4356\n",
      "Epoch 73/100\n",
      "66/66 [==============================] - 0s 1ms/step - loss: 1.6930 - accuracy: 0.4342\n",
      "Epoch 74/100\n",
      "66/66 [==============================] - 0s 1ms/step - loss: 1.6621 - accuracy: 0.4399\n",
      "Epoch 75/100\n",
      "66/66 [==============================] - 0s 1ms/step - loss: 1.6932 - accuracy: 0.4380\n",
      "Epoch 76/100\n",
      "66/66 [==============================] - 0s 1ms/step - loss: 1.6931 - accuracy: 0.4427\n",
      "Epoch 77/100\n",
      "66/66 [==============================] - 0s 1ms/step - loss: 1.6683 - accuracy: 0.4427\n",
      "Epoch 78/100\n",
      "66/66 [==============================] - 0s 1ms/step - loss: 1.6491 - accuracy: 0.4399\n",
      "Epoch 79/100\n",
      "66/66 [==============================] - 0s 1ms/step - loss: 1.6614 - accuracy: 0.4389\n",
      "Epoch 80/100\n",
      "66/66 [==============================] - 0s 1ms/step - loss: 1.6330 - accuracy: 0.4484\n",
      "Epoch 81/100\n",
      "66/66 [==============================] - 0s 2ms/step - loss: 1.6572 - accuracy: 0.4503\n",
      "Epoch 82/100\n",
      "66/66 [==============================] - 0s 1ms/step - loss: 1.6365 - accuracy: 0.4555\n",
      "Epoch 83/100\n"
     ]
    },
    {
     "name": "stdout",
     "output_type": "stream",
     "text": [
      "66/66 [==============================] - 0s 2ms/step - loss: 1.6220 - accuracy: 0.4517\n",
      "Epoch 84/100\n",
      "66/66 [==============================] - 0s 1ms/step - loss: 1.6348 - accuracy: 0.4612\n",
      "Epoch 85/100\n",
      "66/66 [==============================] - 0s 1ms/step - loss: 1.6379 - accuracy: 0.4474\n",
      "Epoch 86/100\n",
      "66/66 [==============================] - 0s 1ms/step - loss: 1.6280 - accuracy: 0.4545\n",
      "Epoch 87/100\n",
      "66/66 [==============================] - 0s 1ms/step - loss: 1.6140 - accuracy: 0.4621\n",
      "Epoch 88/100\n",
      "66/66 [==============================] - 0s 2ms/step - loss: 1.6240 - accuracy: 0.4645\n",
      "Epoch 89/100\n",
      "66/66 [==============================] - 0s 2ms/step - loss: 1.6206 - accuracy: 0.4744\n",
      "Epoch 90/100\n",
      "66/66 [==============================] - 0s 1ms/step - loss: 1.5988 - accuracy: 0.4664\n",
      "Epoch 91/100\n",
      "66/66 [==============================] - 0s 1ms/step - loss: 1.6087 - accuracy: 0.4673\n",
      "Epoch 92/100\n",
      "66/66 [==============================] - 0s 1ms/step - loss: 1.5985 - accuracy: 0.4744\n",
      "Epoch 93/100\n",
      "66/66 [==============================] - 0s 1ms/step - loss: 1.6012 - accuracy: 0.4669\n",
      "Epoch 94/100\n",
      "66/66 [==============================] - 0s 1ms/step - loss: 1.5951 - accuracy: 0.4820\n",
      "Epoch 95/100\n",
      "66/66 [==============================] - 0s 1ms/step - loss: 1.5990 - accuracy: 0.4721\n",
      "Epoch 96/100\n",
      "66/66 [==============================] - 0s 1ms/step - loss: 1.5834 - accuracy: 0.4801\n",
      "Epoch 97/100\n",
      "66/66 [==============================] - 0s 1ms/step - loss: 1.5715 - accuracy: 0.4782\n",
      "Epoch 98/100\n",
      "66/66 [==============================] - 0s 1ms/step - loss: 1.5823 - accuracy: 0.4801\n",
      "Epoch 99/100\n",
      "66/66 [==============================] - 0s 1ms/step - loss: 1.5592 - accuracy: 0.4825\n",
      "Epoch 100/100\n",
      "66/66 [==============================] - 0s 1ms/step - loss: 1.5807 - accuracy: 0.4792\n"
     ]
    },
    {
     "data": {
      "text/plain": [
       "<tensorflow.python.keras.callbacks.History at 0x14ba3ba17f0>"
      ]
     },
     "execution_count": 90,
     "metadata": {},
     "output_type": "execute_result"
    }
   ],
   "source": [
    "# model definition\n",
    "model_under = ml.Sequential()\n",
    "model_under.add( l.Dense(128, input_dim=x_train_under.shape[1], activation='relu') )\n",
    "model_under.add( l.Dense(12, activation='softmax') )\n",
    "\n",
    "# model compile\n",
    "model_under.compile(loss='categorical_crossentropy', optimizer='adam', metrics=['accuracy'])\n",
    "\n",
    "# train model\n",
    "model_under.fit(x_train_under, y_train_under, epochs=100)"
   ]
  },
  {
   "cell_type": "markdown",
   "id": "afa3706d",
   "metadata": {},
   "source": [
    "#### 7.2.2.1. Random Undersampling - Performance"
   ]
  },
  {
   "cell_type": "code",
   "execution_count": 91,
   "id": "921b5fa4",
   "metadata": {
    "ExecuteTime": {
     "end_time": "2022-04-11T20:22:24.368304Z",
     "start_time": "2022-04-11T20:22:20.514003Z"
    }
   },
   "outputs": [],
   "source": [
    "# prediction\n",
    "pred_under_nn = model_under.predict(x_test)\n",
    "\n",
    "# invert prediction\n",
    "yhat_under_nn = ohe.inverse_transform(pred_under_nn)\n",
    "\n",
    "# invert validation response\n",
    "y_test_under_nn = ohe.inverse_transform(y_test)"
   ]
  },
  {
   "cell_type": "code",
   "execution_count": 92,
   "id": "a2a231bd",
   "metadata": {
    "ExecuteTime": {
     "end_time": "2022-04-11T20:22:28.696597Z",
     "start_time": "2022-04-11T20:22:28.667611Z"
    },
    "cell_style": "split"
   },
   "outputs": [
    {
     "data": {
      "text/plain": [
       "NDF      0.576602\n",
       "US       0.297337\n",
       "other    0.047922\n",
       "FR       0.023486\n",
       "IT       0.013145\n",
       "GB       0.011438\n",
       "ES       0.010560\n",
       "CA       0.006902\n",
       "DE       0.005536\n",
       "NL       0.003805\n",
       "AU       0.002390\n",
       "PT       0.000878\n",
       "dtype: float64"
      ]
     },
     "execution_count": 92,
     "metadata": {},
     "output_type": "execute_result"
    }
   ],
   "source": [
    "# check the balance of validation\n",
    "pd.DataFrame(y_test_under_nn).value_counts(normalize=True)"
   ]
  },
  {
   "cell_type": "code",
   "execution_count": 93,
   "id": "d71eeada",
   "metadata": {
    "ExecuteTime": {
     "end_time": "2022-04-11T20:22:32.746771Z",
     "start_time": "2022-04-11T20:22:32.719760Z"
    },
    "cell_style": "split"
   },
   "outputs": [
    {
     "data": {
      "text/plain": [
       "NDF      0.576749\n",
       "AU       0.049971\n",
       "FR       0.048434\n",
       "NL       0.047971\n",
       "DE       0.045532\n",
       "ES       0.042093\n",
       "US       0.040118\n",
       "GB       0.035679\n",
       "PT       0.035143\n",
       "IT       0.032241\n",
       "CA       0.025168\n",
       "other    0.020900\n",
       "dtype: float64"
      ]
     },
     "execution_count": 93,
     "metadata": {},
     "output_type": "execute_result"
    }
   ],
   "source": [
    "# check the balance of validation\n",
    "pd.DataFrame(yhat_under_nn).value_counts(normalize=True)"
   ]
  },
  {
   "cell_type": "code",
   "execution_count": 95,
   "id": "f247d237",
   "metadata": {
    "ExecuteTime": {
     "end_time": "2022-04-11T20:22:47.887271Z",
     "start_time": "2022-04-11T20:22:44.869271Z"
    }
   },
   "outputs": [
    {
     "name": "stdout",
     "output_type": "stream",
     "text": [
      "Accuracy: 0.6155497024680519\n",
      "Balanced Accuracy: 0.1775594044128359\n",
      "Kappa Score: 0.40975734909003036\n",
      "              precision    recall  f1-score   support\n",
      "\n",
      "          AU       0.01      0.15      0.01        98\n",
      "          CA       0.02      0.08      0.03       283\n",
      "          DE       0.02      0.16      0.04       227\n",
      "          ES       0.03      0.11      0.04       433\n",
      "          FR       0.06      0.12      0.08       963\n",
      "          GB       0.03      0.10      0.05       469\n",
      "          IT       0.04      0.09      0.05       539\n",
      "         NDF       1.00      1.00      1.00     23643\n",
      "          NL       0.01      0.09      0.01       156\n",
      "          PT       0.00      0.08      0.00        36\n",
      "          US       0.71      0.10      0.17     12192\n",
      "       other       0.12      0.05      0.07      1965\n",
      "\n",
      "    accuracy                           0.62     41004\n",
      "   macro avg       0.17      0.18      0.13     41004\n",
      "weighted avg       0.79      0.62      0.63     41004\n",
      "\n"
     ]
    },
    {
     "data": {
      "image/png": "[encoded data removed]",
      "text/plain": [
       "<Figure size 864x864 with 2 Axes>"
      ]
     },
     "metadata": {
      "needs_background": "light"
     },
     "output_type": "display_data"
    }
   ],
   "source": [
    "# Accuracy\n",
    "acc_under_nn = m.accuracy_score( y_test_under_nn, yhat_under_nn )\n",
    "print(f'Accuracy: {acc_under_nn}')\n",
    "\n",
    "# Balanced Accuracy\n",
    "balanced_acc_under_nn = m.balanced_accuracy_score(y_test_under_nn, yhat_under_nn)\n",
    "print(f'Balanced Accuracy: {balanced_acc_under_nn}')\n",
    "\n",
    "# Kappa Metrics\n",
    "kappa_under_nn = m.cohen_kappa_score(y_test_under_nn, yhat_under_nn)\n",
    "print(f'Kappa Score: {kappa_under_nn}')\n",
    "\n",
    "# Classification report\n",
    "print(m.classification_report(y_test_under_nn, yhat_under_nn))\n",
    "\n",
    "# Confusion Matrix\n",
    "mt.plot_confusion_matrix( y_test_under_nn, yhat_under_nn, normalize=False, figsize=(12,12));\n",
    "\n",
    "# Performance\n",
    "under_performance = {'model': 'NN Model - Random Undersampling',\n",
    "                     'acc': np.round(acc_under_nn, 6),\n",
    "                     'balanced_acc': np.round(balanced_acc_under_nn, 6),\n",
    "                     'kappa_score': np.round(kappa_under_nn, 6)}"
   ]
  },
  {
   "cell_type": "markdown",
   "id": "365aee53",
   "metadata": {},
   "source": [
    "#### 7.2.2.2. Random Undersampling - Cross-Validation"
   ]
  },
  {
   "cell_type": "code",
   "execution_count": 96,
   "id": "2b2f4c91",
   "metadata": {
    "ExecuteTime": {
     "end_time": "2022-04-11T20:24:08.056307Z",
     "start_time": "2022-04-11T20:22:51.798245Z"
    }
   },
   "outputs": [
    {
     "name": "stdout",
     "output_type": "stream",
     "text": [
      "Fold Number:1/5\n",
      "Fold Number:2/5\n",
      "Fold Number:3/5\n",
      "Fold Number:4/5\n",
      "Fold Number:5/5\n"
     ]
    }
   ],
   "source": [
    "# cross validation performance\n",
    "acc_under, balanced_acc_under, kappa_under = cross_validation(num_fold = 5, \n",
    "                                                              x_train = x_train, \n",
    "                                                              y_train = y_train, \n",
    "                                                              model = model_under, \n",
    "                                                              response_encoder = ohe, \n",
    "                                                              balance_model = undersampling, \n",
    "                                                              verbose = True)"
   ]
  },
  {
   "cell_type": "code",
   "execution_count": 97,
   "id": "f7e160b1",
   "metadata": {
    "ExecuteTime": {
     "end_time": "2022-04-11T20:24:12.578981Z",
     "start_time": "2022-04-11T20:24:12.566981Z"
    }
   },
   "outputs": [],
   "source": [
    "# Performance\n",
    "under_performance_cv = {'model': 'NN Model - Random Undersampling - CV',\n",
    "                        'acc': f'{np.round(np.mean(acc_under), 2)} +/- {np.round(np.std(acc_under), 4)}',\n",
    "                        'balanced_acc': f'{np.round(np.mean(balanced_acc_under), 2)} +/- {np.round(np.std(balanced_acc_under), 4)}',\n",
    "                        'kappa_score': f'{np.round(np.mean(kappa_under), 2)} +/- {np.round(np.std(kappa_under), 4)}'}"
   ]
  },
  {
   "cell_type": "code",
   "execution_count": 98,
   "id": "99fd6d06",
   "metadata": {
    "ExecuteTime": {
     "end_time": "2022-04-11T20:24:17.133445Z",
     "start_time": "2022-04-11T20:24:17.121443Z"
    }
   },
   "outputs": [
    {
     "name": "stdout",
     "output_type": "stream",
     "text": [
      "Avg Accuracy: 0.63 +/- 0.00392\n",
      "Avg Balanced Accuracy: 0.21 +/- 0.01381\n",
      "Avg Kappa Score: 0.42 +/- 0.0046\n"
     ]
    }
   ],
   "source": [
    "print(f'Avg Accuracy: {np.round(np.mean(acc_under), 2)} +/- {np.round(np.std(acc_under),5)}')\n",
    "print(f'Avg Balanced Accuracy: {np.round(np.mean(balanced_acc_under), 2)} +/- {np.round(np.std(balanced_acc_under),5)}')\n",
    "print(f'Avg Kappa Score: {np.round(np.mean(kappa_under), 2)} +/- {np.round(np.std(kappa_under), 4)}')"
   ]
  },
  {
   "cell_type": "markdown",
   "id": "af2fe3cf",
   "metadata": {},
   "source": [
    "### 7.2.3. Neural Network - Random Oversampling"
   ]
  },
  {
   "cell_type": "code",
   "execution_count": 99,
   "id": "a2a0b26e",
   "metadata": {
    "ExecuteTime": {
     "end_time": "2022-04-11T21:35:44.143115Z",
     "start_time": "2022-04-11T20:24:21.594450Z"
    }
   },
   "outputs": [
    {
     "name": "stdout",
     "output_type": "stream",
     "text": [
      "Epoch 1/100\n",
      "35829/35829 [==============================] - 86s 2ms/step - loss: 1.9186 - accuracy: 0.3261\n",
      "Epoch 2/100\n",
      "35829/35829 [==============================] - 40s 1ms/step - loss: 1.7362 - accuracy: 0.3882\n",
      "Epoch 3/100\n",
      "35829/35829 [==============================] - 34s 945us/step - loss: 1.6733 - accuracy: 0.4096\n",
      "Epoch 4/100\n",
      "35829/35829 [==============================] - 33s 923us/step - loss: 1.6406 - accuracy: 0.4208\n",
      "Epoch 5/100\n",
      "35829/35829 [==============================] - 32s 895us/step - loss: 1.6193 - accuracy: 0.4284\n",
      "Epoch 6/100\n",
      "35829/35829 [==============================] - 32s 898us/step - loss: 1.6043 - accuracy: 0.4329\n",
      "Epoch 7/100\n",
      "35829/35829 [==============================] - 32s 893us/step - loss: 1.5929 - accuracy: 0.4361\n",
      "Epoch 8/100\n",
      "35829/35829 [==============================] - 32s 893us/step - loss: 1.5821 - accuracy: 0.4390\n",
      "Epoch 9/100\n",
      "35829/35829 [==============================] - 32s 896us/step - loss: 1.5736 - accuracy: 0.4411\n",
      "Epoch 10/100\n",
      "35829/35829 [==============================] - 33s 934us/step - loss: 1.5666 - accuracy: 0.4430\n",
      "Epoch 11/100\n",
      "35829/35829 [==============================] - 33s 911us/step - loss: 1.5596 - accuracy: 0.4445\n",
      "Epoch 12/100\n",
      "35829/35829 [==============================] - 34s 954us/step - loss: 1.5543 - accuracy: 0.4460\n",
      "Epoch 13/100\n",
      "35829/35829 [==============================] - 32s 893us/step - loss: 1.5504 - accuracy: 0.4470\n",
      "Epoch 14/100\n",
      "35829/35829 [==============================] - 32s 905us/step - loss: 1.5459 - accuracy: 0.4485\n",
      "Epoch 15/100\n",
      "35829/35829 [==============================] - 32s 892us/step - loss: 1.5413 - accuracy: 0.4494\n",
      "Epoch 16/100\n",
      "35829/35829 [==============================] - 32s 893us/step - loss: 1.5378 - accuracy: 0.4509\n",
      "Epoch 17/100\n",
      "35829/35829 [==============================] - 32s 897us/step - loss: 1.5340 - accuracy: 0.4515\n",
      "Epoch 18/100\n",
      "35829/35829 [==============================] - 32s 899us/step - loss: 1.5311 - accuracy: 0.4526\n",
      "Epoch 19/100\n",
      "35829/35829 [==============================] - 32s 904us/step - loss: 1.5286 - accuracy: 0.4525\n",
      "Epoch 20/100\n",
      "35829/35829 [==============================] - 33s 913us/step - loss: 1.5257 - accuracy: 0.4533\n",
      "Epoch 21/100\n",
      "35829/35829 [==============================] - 33s 921us/step - loss: 1.5235 - accuracy: 0.4545\n",
      "Epoch 22/100\n",
      "35829/35829 [==============================] - 32s 892us/step - loss: 1.5200 - accuracy: 0.4550\n",
      "Epoch 23/100\n",
      "35829/35829 [==============================] - 32s 895us/step - loss: 1.5185 - accuracy: 0.4554\n",
      "Epoch 24/100\n",
      "35829/35829 [==============================] - 32s 899us/step - loss: 1.5165 - accuracy: 0.4562\n",
      "Epoch 25/100\n",
      "35829/35829 [==============================] - 32s 900us/step - loss: 1.5139 - accuracy: 0.4565\n",
      "Epoch 26/100\n",
      "35829/35829 [==============================] - 32s 901us/step - loss: 1.5127 - accuracy: 0.4568\n",
      "Epoch 27/100\n",
      "35829/35829 [==============================] - 35s 967us/step - loss: 1.5106 - accuracy: 0.4573\n",
      "Epoch 28/100\n",
      "35829/35829 [==============================] - 35s 973us/step - loss: 1.5090 - accuracy: 0.4575\n",
      "Epoch 29/100\n",
      "35829/35829 [==============================] - 32s 899us/step - loss: 1.5085 - accuracy: 0.4582\n",
      "Epoch 30/100\n",
      "35829/35829 [==============================] - 34s 941us/step - loss: 1.5076 - accuracy: 0.4585\n",
      "Epoch 31/100\n",
      "35829/35829 [==============================] - 32s 880us/step - loss: 1.5055 - accuracy: 0.4584\n",
      "Epoch 32/100\n",
      "35829/35829 [==============================] - 31s 868us/step - loss: 1.5042 - accuracy: 0.4591\n",
      "Epoch 33/100\n",
      "35829/35829 [==============================] - 31s 863us/step - loss: 1.5028 - accuracy: 0.4593\n",
      "Epoch 34/100\n",
      "35829/35829 [==============================] - 31s 858us/step - loss: 1.5008 - accuracy: 0.4602\n",
      "Epoch 35/100\n",
      "35829/35829 [==============================] - 31s 862us/step - loss: 1.4999 - accuracy: 0.4603\n",
      "Epoch 36/100\n",
      "35829/35829 [==============================] - 31s 863us/step - loss: 1.4988 - accuracy: 0.4603\n",
      "Epoch 37/100\n",
      "35829/35829 [==============================] - 31s 874us/step - loss: 1.4984 - accuracy: 0.4611\n",
      "Epoch 38/100\n",
      "35829/35829 [==============================] - 30s 842us/step - loss: 1.4977 - accuracy: 0.4610\n",
      "Epoch 39/100\n",
      "35829/35829 [==============================] - 32s 904us/step - loss: 1.4965 - accuracy: 0.4616\n",
      "Epoch 40/100\n",
      "35829/35829 [==============================] - 31s 870us/step - loss: 1.4959 - accuracy: 0.4620\n",
      "Epoch 41/100\n",
      "35829/35829 [==============================] - 31s 869us/step - loss: 1.4947 - accuracy: 0.4620\n",
      "Epoch 42/100\n",
      "35829/35829 [==============================] - 31s 861us/step - loss: 1.4942 - accuracy: 0.4628\n",
      "Epoch 43/100\n",
      "35829/35829 [==============================] - 31s 857us/step - loss: 1.4944 - accuracy: 0.4628\n",
      "Epoch 44/100\n",
      "35829/35829 [==============================] - 31s 876us/step - loss: 1.4918 - accuracy: 0.4630\n",
      "Epoch 45/100\n",
      "35829/35829 [==============================] - 43s 1ms/step - loss: 1.4909 - accuracy: 0.4634\n",
      "Epoch 46/100\n",
      "35829/35829 [==============================] - 41s 1ms/step - loss: 1.4901 - accuracy: 0.4639\n",
      "Epoch 47/100\n",
      "35829/35829 [==============================] - 65s 2ms/step - loss: 1.4875 - accuracy: 0.4641\n",
      "Epoch 48/100\n",
      "35829/35829 [==============================] - 43s 1ms/step - loss: 1.4874 - accuracy: 0.4644\n",
      "Epoch 49/100\n",
      "35829/35829 [==============================] - 48s 1ms/step - loss: 1.4868 - accuracy: 0.4644\n",
      "Epoch 50/100\n",
      "35829/35829 [==============================] - 49s 1ms/step - loss: 1.4858 - accuracy: 0.4642\n",
      "Epoch 51/100\n",
      "35829/35829 [==============================] - 74s 2ms/step - loss: 1.4844 - accuracy: 0.4648\n",
      "Epoch 52/100\n",
      "35829/35829 [==============================] - 47s 1ms/step - loss: 1.4834 - accuracy: 0.4654\n",
      "Epoch 53/100\n",
      "35829/35829 [==============================] - 48s 1ms/step - loss: 1.4828 - accuracy: 0.4652\n",
      "Epoch 54/100\n",
      "35829/35829 [==============================] - 35s 977us/step - loss: 1.4820 - accuracy: 0.4655\n",
      "Epoch 55/100\n",
      "35829/35829 [==============================] - 35s 963us/step - loss: 1.4809 - accuracy: 0.4663\n",
      "Epoch 56/100\n",
      "35829/35829 [==============================] - 49s 1ms/step - loss: 1.4791 - accuracy: 0.4662\n",
      "Epoch 57/100\n",
      "35829/35829 [==============================] - 40s 1ms/step - loss: 1.4795 - accuracy: 0.4661\n",
      "Epoch 58/100\n",
      "35829/35829 [==============================] - 49s 1ms/step - loss: 1.4789 - accuracy: 0.4664\n",
      "Epoch 59/100\n",
      "35829/35829 [==============================] - 51s 1ms/step - loss: 1.4778 - accuracy: 0.4666\n",
      "Epoch 60/100\n",
      "35829/35829 [==============================] - 38s 1ms/step - loss: 1.4767 - accuracy: 0.4666\n",
      "Epoch 61/100\n",
      "35829/35829 [==============================] - 46s 1ms/step - loss: 1.4776 - accuracy: 0.4666\n",
      "Epoch 62/100\n",
      "35829/35829 [==============================] - 35s 965us/step - loss: 1.4778 - accuracy: 0.4673\n",
      "Epoch 63/100\n",
      "35829/35829 [==============================] - 35s 969us/step - loss: 1.4766 - accuracy: 0.4670\n",
      "Epoch 64/100\n",
      "35829/35829 [==============================] - 34s 951us/step - loss: 1.4769 - accuracy: 0.4671\n",
      "Epoch 65/100\n",
      "35829/35829 [==============================] - 38s 1ms/step - loss: 1.4757 - accuracy: 0.4672\n",
      "Epoch 66/100\n",
      "35829/35829 [==============================] - 50s 1ms/step - loss: 1.4745 - accuracy: 0.4679\n",
      "Epoch 67/100\n",
      "35829/35829 [==============================] - 32s 906us/step - loss: 1.4738 - accuracy: 0.4673\n",
      "Epoch 68/100\n",
      "35829/35829 [==============================] - 33s 933us/step - loss: 1.4734 - accuracy: 0.4681\n",
      "Epoch 69/100\n",
      "35829/35829 [==============================] - 32s 900us/step - loss: 1.4730 - accuracy: 0.4679\n",
      "Epoch 70/100\n",
      "35829/35829 [==============================] - 32s 900us/step - loss: 1.4728 - accuracy: 0.4681\n",
      "Epoch 71/100\n",
      "35829/35829 [==============================] - 36s 1ms/step - loss: 1.4715 - accuracy: 0.4686\n",
      "Epoch 72/100\n",
      "35829/35829 [==============================] - 32s 904us/step - loss: 1.4710 - accuracy: 0.4686\n",
      "Epoch 73/100\n",
      "35829/35829 [==============================] - 32s 901us/step - loss: 1.4704 - accuracy: 0.4686\n",
      "Epoch 74/100\n",
      "35829/35829 [==============================] - 51s 1ms/step - loss: 1.4718 - accuracy: 0.4688 1s - loss: 1.4719 - accuracy - ETA: 1s - loss: 1.471\n",
      "Epoch 75/100\n"
     ]
    },
    {
     "name": "stdout",
     "output_type": "stream",
     "text": [
      "35829/35829 [==============================] - 53s 1ms/step - loss: 1.4708 - accuracy: 0.4685\n",
      "Epoch 76/100\n",
      "35829/35829 [==============================] - 47s 1ms/step - loss: 1.4697 - accuracy: 0.4689\n",
      "Epoch 77/100\n",
      "35829/35829 [==============================] - 38s 1ms/step - loss: 1.4690 - accuracy: 0.4693\n",
      "Epoch 78/100\n",
      "35829/35829 [==============================] - 37s 1ms/step - loss: 1.4698 - accuracy: 0.4693\n",
      "Epoch 79/100\n",
      "35829/35829 [==============================] - 54s 2ms/step - loss: 1.4697 - accuracy: 0.4694\n",
      "Epoch 80/100\n",
      "35829/35829 [==============================] - 70s 2ms/step - loss: 1.4688 - accuracy: 0.4696\n",
      "Epoch 81/100\n",
      "35829/35829 [==============================] - 57s 2ms/step - loss: 1.4682 - accuracy: 0.4693\n",
      "Epoch 82/100\n",
      "35829/35829 [==============================] - 46s 1ms/step - loss: 1.4674 - accuracy: 0.4697\n",
      "Epoch 83/100\n",
      "35829/35829 [==============================] - 45s 1ms/step - loss: 1.4657 - accuracy: 0.4700 \n",
      "Epoch 84/100\n",
      "35829/35829 [==============================] - 48s 1ms/step - loss: 1.4643 - accuracy: 0.4706\n",
      "Epoch 85/100\n",
      "35829/35829 [==============================] - 52s 1ms/step - loss: 1.4647 - accuracy: 0.4702\n",
      "Epoch 86/100\n",
      "35829/35829 [==============================] - 54s 2ms/step - loss: 1.4639 - accuracy: 0.4702\n",
      "Epoch 87/100\n",
      "35829/35829 [==============================] - 54s 2ms/step - loss: 1.4646 - accuracy: 0.4706\n",
      "Epoch 88/100\n",
      "35829/35829 [==============================] - 62s 2ms/step - loss: 1.4637 - accuracy: 0.4705\n",
      "Epoch 89/100\n",
      "35829/35829 [==============================] - 71s 2ms/step - loss: 1.4654 - accuracy: 0.4706 0s\n",
      "Epoch 90/100\n",
      "35829/35829 [==============================] - 70s 2ms/step - loss: 1.4621 - accuracy: 0.4711\n",
      "Epoch 91/100\n",
      "35829/35829 [==============================] - 76s 2ms/step - loss: 1.4621 - accuracy: 0.4709\n",
      "Epoch 92/100\n",
      "35829/35829 [==============================] - 72s 2ms/step - loss: 1.4613 - accuracy: 0.4714\n",
      "Epoch 93/100\n",
      "35829/35829 [==============================] - 68s 2ms/step - loss: 1.4617 - accuracy: 0.4712\n",
      "Epoch 94/100\n",
      "35829/35829 [==============================] - 74s 2ms/step - loss: 1.4613 - accuracy: 0.4713\n",
      "Epoch 95/100\n",
      "35829/35829 [==============================] - 69s 2ms/step - loss: 1.4604 - accuracy: 0.4710\n",
      "Epoch 96/100\n",
      "35829/35829 [==============================] - 69s 2ms/step - loss: 1.4609 - accuracy: 0.4717\n",
      "Epoch 97/100\n",
      "35829/35829 [==============================] - 70s 2ms/step - loss: 1.4608 - accuracy: 0.4715 0s - loss: 1.4607 - accuracy: \n",
      "Epoch 98/100\n",
      "35829/35829 [==============================] - 55s 2ms/step - loss: 1.4598 - accuracy: 0.4713\n",
      "Epoch 99/100\n",
      "35829/35829 [==============================] - 46s 1ms/step - loss: 1.4587 - accuracy: 0.4720\n",
      "Epoch 100/100\n",
      "35829/35829 [==============================] - 66s 2ms/step - loss: 1.4602 - accuracy: 0.4716 0s - loss: 1.4602 - accuracy: 0. - ETA: 0s - loss: 1.4602 - accu\n"
     ]
    },
    {
     "data": {
      "text/plain": [
       "<tensorflow.python.keras.callbacks.History at 0x14ba3479100>"
      ]
     },
     "execution_count": 99,
     "metadata": {},
     "output_type": "execute_result"
    }
   ],
   "source": [
    "# model definition\n",
    "model_over = ml.Sequential()\n",
    "model_over.add( l.Dense(128, input_dim=x_train_over.shape[1], activation='relu') )\n",
    "model_over.add( l.Dense(12, activation='softmax') )\n",
    "\n",
    "# model compile\n",
    "model_over.compile(loss='categorical_crossentropy', optimizer='adam', metrics=['accuracy'])\n",
    "\n",
    "# train model\n",
    "model_over.fit(x_train_over, y_train_over, epochs=100)"
   ]
  },
  {
   "cell_type": "markdown",
   "id": "d19c6429",
   "metadata": {},
   "source": [
    "#### 7.2.3.1. Random Oversampling - Performance"
   ]
  },
  {
   "cell_type": "code",
   "execution_count": 100,
   "id": "7c775ae4",
   "metadata": {
    "ExecuteTime": {
     "end_time": "2022-04-11T21:35:56.412125Z",
     "start_time": "2022-04-11T21:35:51.519124Z"
    }
   },
   "outputs": [],
   "source": [
    "# prediction\n",
    "pred_over_nn = model_over.predict(x_test)\n",
    "\n",
    "# invert prediction\n",
    "yhat_over_nn = ohe.inverse_transform(pred_over_nn)\n",
    "\n",
    "# invert validation response\n",
    "y_test_over_nn = ohe.inverse_transform(y_test)"
   ]
  },
  {
   "cell_type": "code",
   "execution_count": 101,
   "id": "ecc59636",
   "metadata": {
    "ExecuteTime": {
     "end_time": "2022-04-11T21:36:02.023140Z",
     "start_time": "2022-04-11T21:36:01.982117Z"
    },
    "cell_style": "split"
   },
   "outputs": [
    {
     "data": {
      "text/plain": [
       "NDF      0.576602\n",
       "US       0.297337\n",
       "other    0.047922\n",
       "FR       0.023486\n",
       "IT       0.013145\n",
       "GB       0.011438\n",
       "ES       0.010560\n",
       "CA       0.006902\n",
       "DE       0.005536\n",
       "NL       0.003805\n",
       "AU       0.002390\n",
       "PT       0.000878\n",
       "dtype: float64"
      ]
     },
     "execution_count": 101,
     "metadata": {},
     "output_type": "execute_result"
    }
   ],
   "source": [
    "# check the balance of validation\n",
    "pd.DataFrame(y_test_over_nn).value_counts(normalize=True)"
   ]
  },
  {
   "cell_type": "code",
   "execution_count": 102,
   "id": "b4e89b98",
   "metadata": {
    "ExecuteTime": {
     "end_time": "2022-04-11T21:36:08.076365Z",
     "start_time": "2022-04-11T21:36:08.048372Z"
    },
    "cell_style": "split"
   },
   "outputs": [
    {
     "data": {
      "text/plain": [
       "NDF      0.576871\n",
       "FR       0.074920\n",
       "ES       0.067164\n",
       "CA       0.065847\n",
       "DE       0.060287\n",
       "NL       0.049361\n",
       "other    0.029973\n",
       "IT       0.024339\n",
       "AU       0.021510\n",
       "GB       0.013389\n",
       "US       0.009121\n",
       "PT       0.007219\n",
       "dtype: float64"
      ]
     },
     "execution_count": 102,
     "metadata": {},
     "output_type": "execute_result"
    }
   ],
   "source": [
    "# check the balance of results\n",
    "pd.DataFrame(yhat_over_nn).value_counts(normalize=True)"
   ]
  },
  {
   "cell_type": "code",
   "execution_count": 104,
   "id": "20060d9f",
   "metadata": {
    "ExecuteTime": {
     "end_time": "2022-04-11T21:36:29.227861Z",
     "start_time": "2022-04-11T21:36:25.635090Z"
    }
   },
   "outputs": [
    {
     "name": "stdout",
     "output_type": "stream",
     "text": [
      "Accuracy: 0.5975270705297044\n",
      "Balanced Accuracy: 0.17306745249295796\n",
      "Kappa Score: 0.3894998292159614\n",
      "              precision    recall  f1-score   support\n",
      "\n",
      "          AU       0.01      0.07      0.01        98\n",
      "          CA       0.02      0.18      0.03       283\n",
      "          DE       0.01      0.15      0.03       227\n",
      "          ES       0.03      0.17      0.05       433\n",
      "          FR       0.06      0.19      0.09       963\n",
      "          GB       0.03      0.04      0.04       469\n",
      "          IT       0.03      0.06      0.04       539\n",
      "         NDF       1.00      1.00      1.00     23643\n",
      "          NL       0.01      0.12      0.02       156\n",
      "          PT       0.00      0.00      0.00        36\n",
      "          US       0.78      0.02      0.05     12192\n",
      "       other       0.13      0.08      0.10      1965\n",
      "\n",
      "    accuracy                           0.60     41004\n",
      "   macro avg       0.18      0.17      0.12     41004\n",
      "weighted avg       0.82      0.60      0.60     41004\n",
      "\n"
     ]
    },
    {
     "data": {
      "image/png": "[encoded data removed]",
      "text/plain": [
       "<Figure size 864x864 with 2 Axes>"
      ]
     },
     "metadata": {
      "needs_background": "light"
     },
     "output_type": "display_data"
    }
   ],
   "source": [
    "# Accuracy\n",
    "acc_over_nn = m.accuracy_score( y_test_over_nn, yhat_over_nn )\n",
    "print(f'Accuracy: {acc_over_nn}')\n",
    "\n",
    "# Balanced Accuracy\n",
    "balanced_acc_over_nn = m.balanced_accuracy_score(y_test_over_nn, yhat_over_nn)\n",
    "print(f'Balanced Accuracy: {balanced_acc_over_nn}')\n",
    "\n",
    "# Kappa Metrics\n",
    "kappa_over_nn = m.cohen_kappa_score(y_test_over_nn, yhat_over_nn)\n",
    "print(f'Kappa Score: {kappa_over_nn}')\n",
    "\n",
    "# Classification report\n",
    "print(m.classification_report(y_test_over_nn, yhat_over_nn))\n",
    "\n",
    "# Confusion Matrix\n",
    "mt.plot_confusion_matrix( y_test_over_nn, yhat_over_nn, normalize=False, figsize=(12,12));\n",
    "\n",
    "# Performance\n",
    "over_performance = {'model': 'NN Model - Random Oversampling', \n",
    "                    'acc': np.round(acc_over_nn, 6), \n",
    "                    'balanced_acc': np.round(balanced_acc_over_nn, 6), \n",
    "                    'kappa_score': np.round(kappa_over_nn, 6)}    "
   ]
  },
  {
   "cell_type": "markdown",
   "id": "0e6d2008",
   "metadata": {},
   "source": [
    "#### 7.2.3.2. Random Oversampling - Cross-Validation"
   ]
  },
  {
   "cell_type": "code",
   "execution_count": 105,
   "id": "ebe9cebe",
   "metadata": {
    "ExecuteTime": {
     "end_time": "2022-04-12T03:32:23.246570Z",
     "start_time": "2022-04-11T21:36:34.810859Z"
    }
   },
   "outputs": [
    {
     "name": "stdout",
     "output_type": "stream",
     "text": [
      "Fold Number:1/5\n",
      "Fold Number:2/5\n",
      "Fold Number:3/5\n",
      "Fold Number:4/5\n",
      "Fold Number:5/5\n"
     ]
    }
   ],
   "source": [
    "# cross validation performance\n",
    "acc_over, balanced_acc_over, kappa_over = cross_validation(num_fold = 5, \n",
    "                                                           x_train = x_train, \n",
    "                                                           y_train = y_train, \n",
    "                                                           model = model_over, \n",
    "                                                           response_encoder = ohe, \n",
    "                                                           balance_model = oversampling, \n",
    "                                                           verbose = True)"
   ]
  },
  {
   "cell_type": "code",
   "execution_count": 106,
   "id": "3a0c5e2e",
   "metadata": {
    "ExecuteTime": {
     "end_time": "2022-04-12T03:33:17.396909Z",
     "start_time": "2022-04-12T03:33:17.358914Z"
    }
   },
   "outputs": [],
   "source": [
    "# Performance\n",
    "over_performance_cv = {'model': 'NN Model - Random Oversampling - CV',\n",
    "                        'acc': f'{np.round(np.mean(acc_over), 2)} +/- {np.round(np.std(acc_over), 4)}',\n",
    "                        'balanced_acc': f'{np.round(np.mean(balanced_acc_over), 2)} +/- {np.round(np.std(balanced_acc_over), 4)}',\n",
    "                        'kappa_score': f'{np.round(np.mean(kappa_over), 2)} +/- {np.round(np.std(kappa_over), 4)}'}"
   ]
  },
  {
   "cell_type": "code",
   "execution_count": 107,
   "id": "0b0ec5cf",
   "metadata": {
    "ExecuteTime": {
     "end_time": "2022-04-12T03:33:22.781887Z",
     "start_time": "2022-04-12T03:33:22.756890Z"
    }
   },
   "outputs": [
    {
     "name": "stdout",
     "output_type": "stream",
     "text": [
      "Avg Accuracy: 0.63 +/- 0.00977\n",
      "Avg Balanced Accuracy: 0.22 +/- 0.01163\n",
      "Avg Kappa Score: 0.42 +/- 0.0117\n"
     ]
    }
   ],
   "source": [
    "print(f'Avg Accuracy: {np.round(np.mean(acc_over), 2)} +/- {np.round(np.std(acc_over),5)}')\n",
    "print(f'Avg Balanced Accuracy: {np.round(np.mean(balanced_acc_over), 2)} +/- {np.round(np.std(balanced_acc_over),5)}')\n",
    "print(f'Avg Kappa Score: {np.round(np.mean(kappa_over), 2)} +/- {np.round(np.std(kappa_over), 4)}')"
   ]
  },
  {
   "cell_type": "markdown",
   "id": "3b3b7390",
   "metadata": {},
   "source": [
    "### 7.2.4. Neural Network - SMOTE + TOMEKLINK"
   ]
  },
  {
   "cell_type": "code",
   "execution_count": 108,
   "id": "51494560",
   "metadata": {
    "ExecuteTime": {
     "end_time": "2022-04-12T04:30:03.975003Z",
     "start_time": "2022-04-12T03:33:28.130891Z"
    },
    "scrolled": true
   },
   "outputs": [
    {
     "name": "stdout",
     "output_type": "stream",
     "text": [
      "Epoch 1/100\n",
      "35795/35795 [==============================] - 68s 2ms/step - loss: 1.8434 - accuracy: 0.3544\n",
      "Epoch 2/100\n",
      "35795/35795 [==============================] - 63s 2ms/step - loss: 1.6580 - accuracy: 0.4198\n",
      "Epoch 3/100\n",
      "35795/35795 [==============================] - 68s 2ms/step - loss: 1.6056 - accuracy: 0.4365\n",
      "Epoch 4/100\n",
      "35795/35795 [==============================] - 51s 1ms/step - loss: 1.5787 - accuracy: 0.4454\n",
      "Epoch 5/100\n",
      "35795/35795 [==============================] - 52s 1ms/step - loss: 1.5629 - accuracy: 0.4511 0s - loss: 1.5629 - accuracy: 0.\n",
      "Epoch 6/100\n",
      "35795/35795 [==============================] - 53s 1ms/step - loss: 1.5506 - accuracy: 0.4555 0s - loss: 1\n",
      "Epoch 7/100\n",
      "35795/35795 [==============================] - 64s 2ms/step - loss: 1.5400 - accuracy: 0.4585\n",
      "Epoch 8/100\n",
      "35795/35795 [==============================] - 60s 2ms/step - loss: 1.5323 - accuracy: 0.4615\n",
      "Epoch 9/100\n",
      "35795/35795 [==============================] - 57s 2ms/step - loss: 1.5253 - accuracy: 0.4640\n",
      "Epoch 10/100\n",
      "35795/35795 [==============================] - 55s 2ms/step - loss: 1.5189 - accuracy: 0.4661\n",
      "Epoch 11/100\n",
      "35795/35795 [==============================] - 59s 2ms/step - loss: 1.5143 - accuracy: 0.4673\n",
      "Epoch 12/100\n",
      "35795/35795 [==============================] - 57s 2ms/step - loss: 1.5089 - accuracy: 0.4691\n",
      "Epoch 13/100\n",
      "35795/35795 [==============================] - 44s 1ms/step - loss: 1.5042 - accuracy: 0.4707\n",
      "Epoch 14/100\n",
      "35795/35795 [==============================] - 45s 1ms/step - loss: 1.5006 - accuracy: 0.4714\n",
      "Epoch 15/100\n",
      "35795/35795 [==============================] - 52s 1ms/step - loss: 1.4963 - accuracy: 0.4725\n",
      "Epoch 16/100\n",
      "35795/35795 [==============================] - 41s 1ms/step - loss: 1.4927 - accuracy: 0.4737\n",
      "Epoch 17/100\n",
      "35795/35795 [==============================] - 31s 871us/step - loss: 1.4901 - accuracy: 0.4749\n",
      "Epoch 18/100\n",
      "35795/35795 [==============================] - 33s 918us/step - loss: 1.4869 - accuracy: 0.4752\n",
      "Epoch 19/100\n",
      "35795/35795 [==============================] - 29s 818us/step - loss: 1.4863 - accuracy: 0.4758\n",
      "Epoch 20/100\n",
      "35795/35795 [==============================] - 29s 821us/step - loss: 1.4832 - accuracy: 0.4768\n",
      "Epoch 21/100\n",
      "35795/35795 [==============================] - 29s 823us/step - loss: 1.4811 - accuracy: 0.4776\n",
      "Epoch 22/100\n",
      "35795/35795 [==============================] - ETA: 0s - loss: 1.4796 - accuracy: 0.47 - 29s 808us/step - loss: 1.4796 - accuracy: 0.4778\n",
      "Epoch 23/100\n",
      "35795/35795 [==============================] - 29s 814us/step - loss: 1.4767 - accuracy: 0.4788\n",
      "Epoch 24/100\n",
      "35795/35795 [==============================] - 29s 811us/step - loss: 1.4753 - accuracy: 0.4792\n",
      "Epoch 25/100\n",
      "35795/35795 [==============================] - 29s 812us/step - loss: 1.4740 - accuracy: 0.4798\n",
      "Epoch 26/100\n",
      "35795/35795 [==============================] - 29s 817us/step - loss: 1.4727 - accuracy: 0.4803\n",
      "Epoch 27/100\n",
      "35795/35795 [==============================] - 29s 808us/step - loss: 1.4715 - accuracy: 0.4805\n",
      "Epoch 28/100\n",
      "35795/35795 [==============================] - 29s 814us/step - loss: 1.4712 - accuracy: 0.4810\n",
      "Epoch 29/100\n",
      "35795/35795 [==============================] - 29s 817us/step - loss: 1.4677 - accuracy: 0.4816\n",
      "Epoch 30/100\n",
      "35795/35795 [==============================] - 29s 823us/step - loss: 1.4670 - accuracy: 0.4817\n",
      "Epoch 31/100\n",
      "35795/35795 [==============================] - 29s 819us/step - loss: 1.4657 - accuracy: 0.4817\n",
      "Epoch 32/100\n",
      "35795/35795 [==============================] - 30s 851us/step - loss: 1.4647 - accuracy: 0.4828\n",
      "Epoch 33/100\n",
      "35795/35795 [==============================] - 29s 811us/step - loss: 1.4629 - accuracy: 0.4832\n",
      "Epoch 34/100\n",
      "35795/35795 [==============================] - 29s 818us/step - loss: 1.4621 - accuracy: 0.4836\n",
      "Epoch 35/100\n",
      "35795/35795 [==============================] - 29s 822us/step - loss: 1.4605 - accuracy: 0.4841\n",
      "Epoch 36/100\n",
      "35795/35795 [==============================] - 29s 816us/step - loss: 1.4592 - accuracy: 0.4843\n",
      "Epoch 37/100\n",
      "35795/35795 [==============================] - 30s 845us/step - loss: 1.4578 - accuracy: 0.4848\n",
      "Epoch 38/100\n",
      "35795/35795 [==============================] - 30s 829us/step - loss: 1.4570 - accuracy: 0.4848\n",
      "Epoch 39/100\n",
      "35795/35795 [==============================] - 30s 847us/step - loss: 1.4551 - accuracy: 0.4849\n",
      "Epoch 40/100\n",
      "35795/35795 [==============================] - 30s 832us/step - loss: 1.4557 - accuracy: 0.4860\n",
      "Epoch 41/100\n",
      "35795/35795 [==============================] - 30s 827us/step - loss: 1.4540 - accuracy: 0.4860\n",
      "Epoch 42/100\n",
      "35795/35795 [==============================] - 30s 830us/step - loss: 1.4545 - accuracy: 0.4861\n",
      "Epoch 43/100\n",
      "35795/35795 [==============================] - 29s 821us/step - loss: 1.4539 - accuracy: 0.4862\n",
      "Epoch 44/100\n",
      "35795/35795 [==============================] - 30s 829us/step - loss: 1.4526 - accuracy: 0.4871\n",
      "Epoch 45/100\n",
      "35795/35795 [==============================] - 30s 826us/step - loss: 1.4527 - accuracy: 0.4869\n",
      "Epoch 46/100\n",
      "35795/35795 [==============================] - 30s 829us/step - loss: 1.4524 - accuracy: 0.4868\n",
      "Epoch 47/100\n",
      "35795/35795 [==============================] - 29s 822us/step - loss: 1.4522 - accuracy: 0.4874\n",
      "Epoch 48/100\n",
      "35795/35795 [==============================] - 30s 828us/step - loss: 1.4510 - accuracy: 0.4875\n",
      "Epoch 49/100\n",
      "35795/35795 [==============================] - 30s 827us/step - loss: 1.4494 - accuracy: 0.4878\n",
      "Epoch 50/100\n",
      "35795/35795 [==============================] - 30s 834us/step - loss: 1.4476 - accuracy: 0.4882\n",
      "Epoch 51/100\n",
      "35795/35795 [==============================] - 30s 832us/step - loss: 1.4475 - accuracy: 0.4885\n",
      "Epoch 52/100\n",
      "35795/35795 [==============================] - 30s 841us/step - loss: 1.4469 - accuracy: 0.4886\n",
      "Epoch 53/100\n",
      "35795/35795 [==============================] - 30s 842us/step - loss: 1.4464 - accuracy: 0.4888\n",
      "Epoch 54/100\n",
      "35795/35795 [==============================] - 30s 839us/step - loss: 1.4468 - accuracy: 0.4890\n",
      "Epoch 55/100\n",
      "35795/35795 [==============================] - 29s 821us/step - loss: 1.4457 - accuracy: 0.4895\n",
      "Epoch 56/100\n",
      "35795/35795 [==============================] - 30s 827us/step - loss: 1.4446 - accuracy: 0.4899\n",
      "Epoch 57/100\n",
      "35795/35795 [==============================] - 29s 823us/step - loss: 1.4429 - accuracy: 0.4898\n",
      "Epoch 58/100\n",
      "35795/35795 [==============================] - 30s 828us/step - loss: 1.4435 - accuracy: 0.4898\n",
      "Epoch 59/100\n",
      "35795/35795 [==============================] - 29s 822us/step - loss: 1.4423 - accuracy: 0.4904\n",
      "Epoch 60/100\n",
      "35795/35795 [==============================] - 30s 828us/step - loss: 1.4416 - accuracy: 0.4907\n",
      "Epoch 61/100\n",
      "35795/35795 [==============================] - 30s 825us/step - loss: 1.4413 - accuracy: 0.4910\n",
      "Epoch 62/100\n",
      "35795/35795 [==============================] - 30s 829us/step - loss: 1.4397 - accuracy: 0.4917\n",
      "Epoch 63/100\n",
      "35795/35795 [==============================] - ETA: 0s - loss: 1.4393 - accuracy: 0.49 - 29s 821us/step - loss: 1.4393 - accuracy: 0.4914\n",
      "Epoch 64/100\n",
      "35795/35795 [==============================] - 30s 826us/step - loss: 1.4397 - accuracy: 0.4918\n",
      "Epoch 65/100\n",
      "35795/35795 [==============================] - 29s 823us/step - loss: 1.4393 - accuracy: 0.4923\n",
      "Epoch 66/100\n",
      "35795/35795 [==============================] - 30s 829us/step - loss: 1.4378 - accuracy: 0.4927\n",
      "Epoch 67/100\n",
      "35795/35795 [==============================] - 29s 821us/step - loss: 1.4379 - accuracy: 0.4923\n",
      "Epoch 68/100\n",
      "35795/35795 [==============================] - 30s 839us/step - loss: 1.4360 - accuracy: 0.4930\n",
      "Epoch 69/100\n",
      "35795/35795 [==============================] - 31s 855us/step - loss: 1.4348 - accuracy: 0.4929\n",
      "Epoch 70/100\n",
      "35795/35795 [==============================] - 30s 826us/step - loss: 1.4347 - accuracy: 0.4930\n",
      "Epoch 71/100\n",
      "35795/35795 [==============================] - 30s 832us/step - loss: 1.4334 - accuracy: 0.4929\n",
      "Epoch 72/100\n",
      "35795/35795 [==============================] - 30s 828us/step - loss: 1.4337 - accuracy: 0.4934\n",
      "Epoch 73/100\n",
      "35795/35795 [==============================] - 31s 855us/step - loss: 1.4321 - accuracy: 0.4935\n",
      "Epoch 74/100\n",
      "35795/35795 [==============================] - 30s 827us/step - loss: 1.4325 - accuracy: 0.4941\n",
      "Epoch 75/100\n"
     ]
    },
    {
     "name": "stdout",
     "output_type": "stream",
     "text": [
      "35795/35795 [==============================] - 29s 820us/step - loss: 1.4311 - accuracy: 0.4943\n",
      "Epoch 76/100\n",
      "35795/35795 [==============================] - 30s 828us/step - loss: 1.4301 - accuracy: 0.4945\n",
      "Epoch 77/100\n",
      "35795/35795 [==============================] - 29s 824us/step - loss: 1.4307 - accuracy: 0.4942\n",
      "Epoch 78/100\n",
      "35795/35795 [==============================] - 30s 831us/step - loss: 1.4303 - accuracy: 0.4947\n",
      "Epoch 79/100\n",
      "35795/35795 [==============================] - 29s 821us/step - loss: 1.4293 - accuracy: 0.4948\n",
      "Epoch 80/100\n",
      "35795/35795 [==============================] - 30s 829us/step - loss: 1.4284 - accuracy: 0.4945\n",
      "Epoch 81/100\n",
      "35795/35795 [==============================] - 30s 825us/step - loss: 1.4296 - accuracy: 0.4950\n",
      "Epoch 82/100\n",
      "35795/35795 [==============================] - 30s 832us/step - loss: 1.4291 - accuracy: 0.4948\n",
      "Epoch 83/100\n",
      "35795/35795 [==============================] - 30s 825us/step - loss: 1.4292 - accuracy: 0.4951\n",
      "Epoch 84/100\n",
      "35795/35795 [==============================] - 30s 828us/step - loss: 1.4279 - accuracy: 0.4960\n",
      "Epoch 85/100\n",
      "35795/35795 [==============================] - 29s 824us/step - loss: 1.4280 - accuracy: 0.4959\n",
      "Epoch 86/100\n",
      "35795/35795 [==============================] - 30s 833us/step - loss: 1.4262 - accuracy: 0.4961\n",
      "Epoch 87/100\n",
      "35795/35795 [==============================] - 29s 820us/step - loss: 1.4261 - accuracy: 0.4960\n",
      "Epoch 88/100\n",
      "35795/35795 [==============================] - 30s 828us/step - loss: 1.4263 - accuracy: 0.4957\n",
      "Epoch 89/100\n",
      "35795/35795 [==============================] - 30s 824us/step - loss: 1.4253 - accuracy: 0.4958\n",
      "Epoch 90/100\n",
      "35795/35795 [==============================] - 30s 830us/step - loss: 1.4261 - accuracy: 0.4962\n",
      "Epoch 91/100\n",
      "35795/35795 [==============================] - 30s 828us/step - loss: 1.4260 - accuracy: 0.4962\n",
      "Epoch 92/100\n",
      "35795/35795 [==============================] - 30s 831us/step - loss: 1.4246 - accuracy: 0.4963\n",
      "Epoch 93/100\n",
      "35795/35795 [==============================] - 30s 848us/step - loss: 1.4247 - accuracy: 0.4965\n",
      "Epoch 94/100\n",
      "35795/35795 [==============================] - 30s 834us/step - loss: 1.4236 - accuracy: 0.4968\n",
      "Epoch 95/100\n",
      "35795/35795 [==============================] - 29s 820us/step - loss: 1.4231 - accuracy: 0.4966\n",
      "Epoch 96/100\n",
      "35795/35795 [==============================] - 30s 828us/step - loss: 1.4234 - accuracy: 0.4969\n",
      "Epoch 97/100\n",
      "35795/35795 [==============================] - 29s 820us/step - loss: 1.4226 - accuracy: 0.4970\n",
      "Epoch 98/100\n",
      "35795/35795 [==============================] - 30s 835us/step - loss: 1.4221 - accuracy: 0.4974\n",
      "Epoch 99/100\n",
      "35795/35795 [==============================] - 30s 839us/step - loss: 1.4229 - accuracy: 0.4972\n",
      "Epoch 100/100\n",
      "35795/35795 [==============================] - 30s 830us/step - loss: 1.4207 - accuracy: 0.4974\n"
     ]
    },
    {
     "data": {
      "text/plain": [
       "<tensorflow.python.keras.callbacks.History at 0x14b3bfeed60>"
      ]
     },
     "execution_count": 108,
     "metadata": {},
     "output_type": "execute_result"
    }
   ],
   "source": [
    "# model definition\n",
    "model_comb = ml.Sequential()\n",
    "model_comb.add( l.Dense(128, input_dim=x_train_comb.shape[1], activation='relu') )\n",
    "model_comb.add( l.Dense(12, activation='softmax') )\n",
    "\n",
    "# model compile\n",
    "model_comb.compile(loss='categorical_crossentropy', optimizer='adam', metrics=['accuracy'])\n",
    "\n",
    "# train model\n",
    "model_comb.fit(x_train_comb, y_train_comb, epochs=100)"
   ]
  },
  {
   "cell_type": "markdown",
   "id": "7e2efdd6",
   "metadata": {
    "ExecuteTime": {
     "end_time": "2022-03-09T02:32:36.774772Z",
     "start_time": "2022-03-09T02:32:36.732790Z"
    }
   },
   "source": [
    "#### 7.2.4.1. SMOTE + TOMEKLINK - Performance"
   ]
  },
  {
   "cell_type": "code",
   "execution_count": 109,
   "id": "ae999ad1",
   "metadata": {
    "ExecuteTime": {
     "end_time": "2022-04-12T04:30:11.512744Z",
     "start_time": "2022-04-12T04:30:07.928287Z"
    }
   },
   "outputs": [],
   "source": [
    "# prediction\n",
    "pred_comb_nn = model_comb.predict(x_test)\n",
    "\n",
    "# invert prediction\n",
    "yhat_comb_nn = ohe.inverse_transform(pred_comb_nn)\n",
    "\n",
    "# invert validation response\n",
    "y_test_comb_nn = ohe.inverse_transform(y_test)"
   ]
  },
  {
   "cell_type": "code",
   "execution_count": 110,
   "id": "1d78485e",
   "metadata": {
    "ExecuteTime": {
     "end_time": "2022-04-12T04:30:15.404870Z",
     "start_time": "2022-04-12T04:30:15.306188Z"
    },
    "cell_style": "split"
   },
   "outputs": [
    {
     "data": {
      "text/plain": [
       "NDF      0.576602\n",
       "US       0.297337\n",
       "other    0.047922\n",
       "FR       0.023486\n",
       "IT       0.013145\n",
       "GB       0.011438\n",
       "ES       0.010560\n",
       "CA       0.006902\n",
       "DE       0.005536\n",
       "NL       0.003805\n",
       "AU       0.002390\n",
       "PT       0.000878\n",
       "dtype: float64"
      ]
     },
     "execution_count": 110,
     "metadata": {},
     "output_type": "execute_result"
    }
   ],
   "source": [
    "# check the balance of validation\n",
    "pd.DataFrame(y_test_comb_nn).value_counts(normalize=True)"
   ]
  },
  {
   "cell_type": "code",
   "execution_count": 111,
   "id": "c9059ad9",
   "metadata": {
    "ExecuteTime": {
     "end_time": "2022-04-12T04:30:19.203833Z",
     "start_time": "2022-04-12T04:30:19.172581Z"
    },
    "cell_style": "split"
   },
   "outputs": [
    {
     "data": {
      "text/plain": [
       "NDF      0.576749\n",
       "US       0.194103\n",
       "IT       0.057994\n",
       "ES       0.037752\n",
       "FR       0.031363\n",
       "other    0.029582\n",
       "CA       0.020583\n",
       "DE       0.017681\n",
       "GB       0.013048\n",
       "NL       0.011194\n",
       "AU       0.006390\n",
       "PT       0.003561\n",
       "dtype: float64"
      ]
     },
     "execution_count": 111,
     "metadata": {},
     "output_type": "execute_result"
    }
   ],
   "source": [
    "# check the balance of result\n",
    "pd.DataFrame(yhat_comb_nn).value_counts(normalize=True)"
   ]
  },
  {
   "cell_type": "code",
   "execution_count": 113,
   "id": "37392137",
   "metadata": {
    "ExecuteTime": {
     "end_time": "2022-04-12T04:30:32.734011Z",
     "start_time": "2022-04-12T04:30:29.962305Z"
    }
   },
   "outputs": [
    {
     "name": "stdout",
     "output_type": "stream",
     "text": [
      "Accuracy: 0.7277826553506975\n",
      "Balanced Accuracy: 0.18455422732444626\n",
      "Kappa Score: 0.5507713014567643\n",
      "              precision    recall  f1-score   support\n",
      "\n",
      "          AU       0.02      0.04      0.02        98\n",
      "          CA       0.02      0.06      0.03       283\n",
      "          DE       0.02      0.07      0.04       227\n",
      "          ES       0.03      0.11      0.05       433\n",
      "          FR       0.07      0.10      0.08       963\n",
      "          GB       0.04      0.04      0.04       469\n",
      "          IT       0.04      0.18      0.07       539\n",
      "         NDF       1.00      1.00      1.00     23643\n",
      "          NL       0.02      0.06      0.03       156\n",
      "          PT       0.00      0.00      0.00        36\n",
      "          US       0.72      0.47      0.57     12192\n",
      "       other       0.13      0.08      0.10      1965\n",
      "\n",
      "    accuracy                           0.73     41004\n",
      "   macro avg       0.18      0.18      0.17     41004\n",
      "weighted avg       0.80      0.73      0.75     41004\n",
      "\n"
     ]
    },
    {
     "data": {
      "image/png": "[encoded data removed]",
      "text/plain": [
       "<Figure size 864x864 with 2 Axes>"
      ]
     },
     "metadata": {
      "needs_background": "light"
     },
     "output_type": "display_data"
    }
   ],
   "source": [
    "# Accuracy\n",
    "acc_comb_nn = m.accuracy_score( y_test_comb_nn, yhat_comb_nn )\n",
    "print(f'Accuracy: {acc_comb_nn}')\n",
    "\n",
    "# Balanced Accuracy\n",
    "balanced_acc_comb_nn = m.balanced_accuracy_score(y_test_comb_nn, yhat_comb_nn)\n",
    "print(f'Balanced Accuracy: {balanced_acc_comb_nn}')\n",
    "\n",
    "# Kappa Metrics\n",
    "kappa_comb_nn = m.cohen_kappa_score(y_test_comb_nn, yhat_comb_nn)\n",
    "print(f'Kappa Score: {kappa_comb_nn}')\n",
    "\n",
    "# Classification report\n",
    "print(m.classification_report(y_test_comb_nn, yhat_comb_nn))\n",
    "\n",
    "# Confusion Matrix\n",
    "mt.plot_confusion_matrix( y_test_comb_nn, yhat_comb_nn, normalize=False, figsize=(12,12));\n",
    "\n",
    "# Performance\n",
    "comb_performance = {'model': 'NN Model - SMOTE + TOMEKLINK', \n",
    "                    'acc': np.round(acc_comb_nn, 6), \n",
    "                    'balanced_acc': np.round(balanced_acc_comb_nn, 6), \n",
    "                    'kappa_score': np.round(kappa_comb_nn, 6)}"
   ]
  },
  {
   "cell_type": "markdown",
   "id": "e0c2cca9",
   "metadata": {},
   "source": [
    "#### 7.2.4.2. SMOTE + TOMEKLINK - Cross-Validation"
   ]
  },
  {
   "cell_type": "code",
   "execution_count": 114,
   "id": "b3f2691e",
   "metadata": {
    "ExecuteTime": {
     "end_time": "2022-04-13T00:16:01.143104Z",
     "start_time": "2022-04-12T04:30:36.616013Z"
    }
   },
   "outputs": [
    {
     "name": "stdout",
     "output_type": "stream",
     "text": [
      "Fold Number:1/5\n",
      "Fold Number:2/5\n",
      "Fold Number:3/5\n",
      "Fold Number:4/5\n",
      "Fold Number:5/5\n"
     ]
    }
   ],
   "source": [
    "# cross validation performance\n",
    "acc_comb, balanced_acc_comb, kappa_comb = cross_validation(num_fold = 5, \n",
    "                                                           x_train = x_train, \n",
    "                                                           y_train = y_train, \n",
    "                                                           model = model_comb, \n",
    "                                                           response_encoder = ohe, \n",
    "                                                           balance_model = combine, \n",
    "                                                           verbose = True)"
   ]
  },
  {
   "cell_type": "code",
   "execution_count": 115,
   "id": "2fbaaa42",
   "metadata": {
    "ExecuteTime": {
     "end_time": "2022-04-13T00:17:09.289826Z",
     "start_time": "2022-04-13T00:17:09.249823Z"
    }
   },
   "outputs": [],
   "source": [
    "# Performance\n",
    "comb_performance_cv = {'model': 'NN Model - SMOTE + TOMEKLINK - CV',\n",
    "                       'acc': f'{np.round(np.mean(acc_over), 2)} +/- {np.round(np.std(acc_over), 4)}',\n",
    "                       'balanced_acc': f'{np.round(np.mean(balanced_acc_over), 2)} +/- {np.round(np.std(balanced_acc_over), 4)}',\n",
    "                       'kappa_score': f'{np.round(np.mean(kappa_over), 2)} +/- {np.round(np.std(kappa_over), 4)}'}"
   ]
  },
  {
   "cell_type": "code",
   "execution_count": 116,
   "id": "9cd40bbf",
   "metadata": {
    "ExecuteTime": {
     "end_time": "2022-04-13T00:17:14.742456Z",
     "start_time": "2022-04-13T00:17:14.730471Z"
    }
   },
   "outputs": [
    {
     "name": "stdout",
     "output_type": "stream",
     "text": [
      "Avg Accuracy: 0.75 +/- 0.03393\n",
      "Avg Balanced Accuracy: 0.19 +/- 0.00469\n",
      "Avg Kappa Score: 0.58 +/- 0.0476\n"
     ]
    }
   ],
   "source": [
    "print(f'Avg Accuracy: {np.round(np.mean(acc_comb), 2)} +/- {np.round(np.std(acc_comb),5)}')\n",
    "print(f'Avg Balanced Accuracy: {np.round(np.mean(balanced_acc_comb), 2)} +/- {np.round(np.std(balanced_acc_comb),5)}')\n",
    "print(f'Avg Kappa Score: {np.round(np.mean(kappa_comb), 2)} +/- {np.round(np.std(kappa_comb), 4)}')"
   ]
  },
  {
   "cell_type": "markdown",
   "id": "dec46b91",
   "metadata": {},
   "source": [
    "# 8.0. Hyper Parameter Tuning\n",
    "\n",
    "Hyper Parameter Tuning will not be considered until the most optimal machine learning model is selected, at this first cycle was considered only one model to complete the cycle and go through for all the major phases to validate the feasibility of the project."
   ]
  },
  {
   "cell_type": "code",
   "execution_count": null,
   "id": "2033ffaa",
   "metadata": {},
   "outputs": [],
   "source": []
  },
  {
   "cell_type": "markdown",
   "id": "caddd600",
   "metadata": {},
   "source": [
    "# 9.0. Error Translation and Interpretation"
   ]
  },
  {
   "cell_type": "code",
   "execution_count": null,
   "id": "d2005058",
   "metadata": {},
   "outputs": [],
   "source": []
  },
  {
   "cell_type": "markdown",
   "id": "2d632718",
   "metadata": {},
   "source": [
    "# 10.0. Deploy Model\n",
    "\n",
    "No models will be deployed yet."
   ]
  },
  {
   "cell_type": "code",
   "execution_count": null,
   "id": "a610263d",
   "metadata": {},
   "outputs": [],
   "source": []
  },
  {
   "cell_type": "markdown",
   "id": "f1f2c1d6",
   "metadata": {},
   "source": [
    "# 11.0. Conclusion"
   ]
  },
  {
   "cell_type": "markdown",
   "id": "23c9304e",
   "metadata": {
    "ExecuteTime": {
     "end_time": "2022-04-03T22:01:35.899259Z",
     "start_time": "2022-04-03T22:01:35.709752Z"
    }
   },
   "source": [
    "Data preparation provided an increase in Balanced Accuracy of 30% for the oversampling mechanisms, but a decrease of 28% for Overall Accuracy and 45% for Kappa Score.\n",
    "\n",
    "The improvement was expected due to the functioning of the Neural Network, which is very sensitive to the lack of scale between attributes.\n",
    "\n",
    "After this phase the discrepancy between the mechanisms became evident, with a better performance for oversampling mechanisms, with a small advantage for SMOTE Tomek Link.\n",
    "\n",
    "A disadvantage was an increase in processing time due to the SMOTE Tomek Link balancing mechanism with the new dataset."
   ]
  },
  {
   "cell_type": "markdown",
   "id": "fd380d77",
   "metadata": {},
   "source": [
    "## 11.1. Current Cycle Performance"
   ]
  },
  {
   "cell_type": "code",
   "execution_count": 123,
   "id": "a801e6ba",
   "metadata": {
    "ExecuteTime": {
     "end_time": "2022-04-13T00:33:39.120507Z",
     "start_time": "2022-04-13T00:33:39.005474Z"
    },
    "hide_input": false,
    "scrolled": true
   },
   "outputs": [
    {
     "data": {
      "text/html": [
       "<div>\n",
       "<style scoped>\n",
       "    .dataframe tbody tr th:only-of-type {\n",
       "        vertical-align: middle;\n",
       "    }\n",
       "\n",
       "    .dataframe tbody tr th {\n",
       "        vertical-align: top;\n",
       "    }\n",
       "\n",
       "    .dataframe thead th {\n",
       "        text-align: right;\n",
       "    }\n",
       "</style>\n",
       "<table border=\"1\" class=\"dataframe\">\n",
       "  <thead>\n",
       "    <tr style=\"text-align: right;\">\n",
       "      <th></th>\n",
       "      <th>cycle</th>\n",
       "      <th>process</th>\n",
       "      <th>model</th>\n",
       "      <th>acc</th>\n",
       "      <th>balanced_acc</th>\n",
       "      <th>kappa_score</th>\n",
       "    </tr>\n",
       "  </thead>\n",
       "  <tbody>\n",
       "    <tr>\n",
       "      <th>0</th>\n",
       "      <td>7th_cycle</td>\n",
       "      <td>data_preparation</td>\n",
       "      <td>Baseline Model</td>\n",
       "      <td>0.424861</td>\n",
       "      <td>0.082064</td>\n",
       "      <td>NaN</td>\n",
       "    </tr>\n",
       "    <tr>\n",
       "      <th>1</th>\n",
       "      <td>7th_cycle</td>\n",
       "      <td>data_preparation</td>\n",
       "      <td>NN Model - Imbalanced Data</td>\n",
       "      <td>0.873012</td>\n",
       "      <td>0.166749</td>\n",
       "      <td>0.765641</td>\n",
       "    </tr>\n",
       "    <tr>\n",
       "      <th>2</th>\n",
       "      <td>7th_cycle</td>\n",
       "      <td>data_preparation</td>\n",
       "      <td>NN Model - Imbalanced Data - CV</td>\n",
       "      <td>0.87 +/- 0.0003</td>\n",
       "      <td>0.17 +/- 0.0005</td>\n",
       "      <td>0.77 +/- 0.0005</td>\n",
       "    </tr>\n",
       "    <tr>\n",
       "      <th>3</th>\n",
       "      <td>7th_cycle</td>\n",
       "      <td>data_preparation</td>\n",
       "      <td>NN Model - Random Undersampling</td>\n",
       "      <td>0.61555</td>\n",
       "      <td>0.177559</td>\n",
       "      <td>0.409757</td>\n",
       "    </tr>\n",
       "    <tr>\n",
       "      <th>4</th>\n",
       "      <td>7th_cycle</td>\n",
       "      <td>data_preparation</td>\n",
       "      <td>NN Model - Random Undersampling - CV</td>\n",
       "      <td>0.63 +/- 0.0039</td>\n",
       "      <td>0.21 +/- 0.0138</td>\n",
       "      <td>0.42 +/- 0.0046</td>\n",
       "    </tr>\n",
       "    <tr>\n",
       "      <th>5</th>\n",
       "      <td>7th_cycle</td>\n",
       "      <td>data_preparation</td>\n",
       "      <td>NN Model - Random Oversampling</td>\n",
       "      <td>0.597527</td>\n",
       "      <td>0.173067</td>\n",
       "      <td>0.3895</td>\n",
       "    </tr>\n",
       "    <tr>\n",
       "      <th>6</th>\n",
       "      <td>7th_cycle</td>\n",
       "      <td>data_preparation</td>\n",
       "      <td>NN Model - Random Oversampling - CV</td>\n",
       "      <td>0.63 +/- 0.0098</td>\n",
       "      <td>0.22 +/- 0.0116</td>\n",
       "      <td>0.42 +/- 0.0117</td>\n",
       "    </tr>\n",
       "    <tr>\n",
       "      <th>7</th>\n",
       "      <td>7th_cycle</td>\n",
       "      <td>data_preparation</td>\n",
       "      <td>NN Model - SMOTE + TOMEKLINK</td>\n",
       "      <td>0.727783</td>\n",
       "      <td>0.184554</td>\n",
       "      <td>0.550771</td>\n",
       "    </tr>\n",
       "    <tr>\n",
       "      <th>8</th>\n",
       "      <td>7th_cycle</td>\n",
       "      <td>data_preparation</td>\n",
       "      <td>NN Model - SMOTE + TOMEKLINK - CV</td>\n",
       "      <td>0.63 +/- 0.0098</td>\n",
       "      <td>0.22 +/- 0.0116</td>\n",
       "      <td>0.42 +/- 0.0117</td>\n",
       "    </tr>\n",
       "  </tbody>\n",
       "</table>\n",
       "</div>"
      ],
      "text/plain": [
       "       cycle           process                                 model  \\\n",
       "0  7th_cycle  data_preparation                        Baseline Model   \n",
       "1  7th_cycle  data_preparation            NN Model - Imbalanced Data   \n",
       "2  7th_cycle  data_preparation       NN Model - Imbalanced Data - CV   \n",
       "3  7th_cycle  data_preparation       NN Model - Random Undersampling   \n",
       "4  7th_cycle  data_preparation  NN Model - Random Undersampling - CV   \n",
       "5  7th_cycle  data_preparation        NN Model - Random Oversampling   \n",
       "6  7th_cycle  data_preparation   NN Model - Random Oversampling - CV   \n",
       "7  7th_cycle  data_preparation          NN Model - SMOTE + TOMEKLINK   \n",
       "8  7th_cycle  data_preparation     NN Model - SMOTE + TOMEKLINK - CV   \n",
       "\n",
       "               acc     balanced_acc      kappa_score  \n",
       "0         0.424861         0.082064              NaN  \n",
       "1         0.873012         0.166749         0.765641  \n",
       "2  0.87 +/- 0.0003  0.17 +/- 0.0005  0.77 +/- 0.0005  \n",
       "3          0.61555         0.177559         0.409757  \n",
       "4  0.63 +/- 0.0039  0.21 +/- 0.0138  0.42 +/- 0.0046  \n",
       "5         0.597527         0.173067           0.3895  \n",
       "6  0.63 +/- 0.0098  0.22 +/- 0.0116  0.42 +/- 0.0117  \n",
       "7         0.727783         0.184554         0.550771  \n",
       "8  0.63 +/- 0.0098  0.22 +/- 0.0116  0.42 +/- 0.0117  "
      ]
     },
     "execution_count": 123,
     "metadata": {},
     "output_type": "execute_result"
    }
   ],
   "source": [
    "# performance dataframe\n",
    "df_performance = pd.DataFrame([baseline_performance, imb_performance, imb_performance_cv, \n",
    "                               under_performance, under_performance_cv, \n",
    "                               over_performance, over_performance_cv, \n",
    "                               comb_performance, comb_performance_cv])\n",
    "\n",
    "df_performance['cycle'] = '7th_cycle'\n",
    "df_performance['process'] = 'data_preparation'\n",
    "df_performance = df_performance[['cycle', 'process', 'model', 'acc', 'balanced_acc', 'kappa_score']]\n",
    "\n",
    "# save 7th cycle to comparison\n",
    "df_performance.to_csv('../Datasets/7th_cycle_performance', index=False)\n",
    "\n",
    "# display performance dataframe\n",
    "df_performance"
   ]
  },
  {
   "cell_type": "markdown",
   "id": "a77ac3d6",
   "metadata": {},
   "source": [
    "## 11.2. Cycle Comparison"
   ]
  },
  {
   "cell_type": "code",
   "execution_count": 128,
   "id": "e2b819d5",
   "metadata": {
    "ExecuteTime": {
     "end_time": "2022-04-13T00:57:41.500509Z",
     "start_time": "2022-04-13T00:57:41.421510Z"
    },
    "hide_input": false,
    "scrolled": true
   },
   "outputs": [
    {
     "data": {
      "text/html": [
       "<div>\n",
       "<style scoped>\n",
       "    .dataframe tbody tr th:only-of-type {\n",
       "        vertical-align: middle;\n",
       "    }\n",
       "\n",
       "    .dataframe tbody tr th {\n",
       "        vertical-align: top;\n",
       "    }\n",
       "\n",
       "    .dataframe thead th {\n",
       "        text-align: right;\n",
       "    }\n",
       "</style>\n",
       "<table border=\"1\" class=\"dataframe\">\n",
       "  <thead>\n",
       "    <tr style=\"text-align: right;\">\n",
       "      <th></th>\n",
       "      <th>cycle</th>\n",
       "      <th>process</th>\n",
       "      <th>model</th>\n",
       "      <th>acc</th>\n",
       "      <th>balanced_acc</th>\n",
       "      <th>kappa_score</th>\n",
       "    </tr>\n",
       "  </thead>\n",
       "  <tbody>\n",
       "    <tr>\n",
       "      <th>0</th>\n",
       "      <td>1st_cycle</td>\n",
       "      <td>validation_pipeline</td>\n",
       "      <td>Neural Network Model</td>\n",
       "      <td>0.70407</td>\n",
       "      <td>0</td>\n",
       "      <td>0</td>\n",
       "    </tr>\n",
       "    <tr>\n",
       "      <th>2</th>\n",
       "      <td>2nd_cycle</td>\n",
       "      <td>baseline_model</td>\n",
       "      <td>Neural Network Model</td>\n",
       "      <td>0.70275</td>\n",
       "      <td>0.091927</td>\n",
       "      <td>0.002145</td>\n",
       "    </tr>\n",
       "    <tr>\n",
       "      <th>3</th>\n",
       "      <td>3rd_cycle</td>\n",
       "      <td>replace_na</td>\n",
       "      <td>Neural Network Model - CV</td>\n",
       "      <td>0.63 +/- 0.0013</td>\n",
       "      <td>0.11 +/- 0.0009</td>\n",
       "      <td>0.24 +/- 0.0063</td>\n",
       "    </tr>\n",
       "    <tr>\n",
       "      <th>4</th>\n",
       "      <td>4th_cycle</td>\n",
       "      <td>feature_engineering</td>\n",
       "      <td>Neural Network Model - CV</td>\n",
       "      <td>0.87 +/- 0.0</td>\n",
       "      <td>0.17 +/- 0.0</td>\n",
       "      <td>0.77 +/- 0.0001</td>\n",
       "    </tr>\n",
       "    <tr>\n",
       "      <th>5</th>\n",
       "      <td>5th_cycle</td>\n",
       "      <td>balanced_dataset</td>\n",
       "      <td>NN Model - Imbalanced Data - CV</td>\n",
       "      <td>0.87 +/- 0.0001</td>\n",
       "      <td>0.17 +/- 0.0</td>\n",
       "      <td>0.77 +/- 0.0002</td>\n",
       "    </tr>\n",
       "    <tr>\n",
       "      <th>6</th>\n",
       "      <td>6th_cycle</td>\n",
       "      <td>exploratory_data_analysis</td>\n",
       "      <td>NN Model - Imbalanced Data - CV</td>\n",
       "      <td>0.87 +/- 0.0001</td>\n",
       "      <td>0.17 +/- 0.0</td>\n",
       "      <td>0.77 +/- 0.0002</td>\n",
       "    </tr>\n",
       "    <tr>\n",
       "      <th>7</th>\n",
       "      <td>7th_cycle</td>\n",
       "      <td>data_preparation</td>\n",
       "      <td>NN Model - SMOTE + TOMEKLINK - CV</td>\n",
       "      <td>0.63 +/- 0.0098</td>\n",
       "      <td>0.22 +/- 0.0116</td>\n",
       "      <td>0.42 +/- 0.0117</td>\n",
       "    </tr>\n",
       "  </tbody>\n",
       "</table>\n",
       "</div>"
      ],
      "text/plain": [
       "       cycle                    process                              model  \\\n",
       "0  1st_cycle        validation_pipeline               Neural Network Model   \n",
       "2  2nd_cycle             baseline_model               Neural Network Model   \n",
       "3  3rd_cycle                 replace_na          Neural Network Model - CV   \n",
       "4  4th_cycle        feature_engineering          Neural Network Model - CV   \n",
       "5  5th_cycle           balanced_dataset    NN Model - Imbalanced Data - CV   \n",
       "6  6th_cycle  exploratory_data_analysis    NN Model - Imbalanced Data - CV   \n",
       "7  7th_cycle           data_preparation  NN Model - SMOTE + TOMEKLINK - CV   \n",
       "\n",
       "               acc     balanced_acc      kappa_score  \n",
       "0          0.70407                0                0  \n",
       "2          0.70275         0.091927         0.002145  \n",
       "3  0.63 +/- 0.0013  0.11 +/- 0.0009  0.24 +/- 0.0063  \n",
       "4     0.87 +/- 0.0     0.17 +/- 0.0  0.77 +/- 0.0001  \n",
       "5  0.87 +/- 0.0001     0.17 +/- 0.0  0.77 +/- 0.0002  \n",
       "6  0.87 +/- 0.0001     0.17 +/- 0.0  0.77 +/- 0.0002  \n",
       "7  0.63 +/- 0.0098  0.22 +/- 0.0116  0.42 +/- 0.0117  "
      ]
     },
     "execution_count": 128,
     "metadata": {},
     "output_type": "execute_result"
    }
   ],
   "source": [
    "# first cycle performance load\n",
    "performance_1st_cycle = pd.read_csv('../Datasets/1st_cycle_performance')\n",
    "\n",
    "# second cycle performance load\n",
    "performance_2nd_cycle = pd.read_csv('../Datasets/2nd_cycle_performance')\n",
    "\n",
    "# third cycle performance laod\n",
    "performance_3rd_cycle = pd.read_csv('../Datasets/3rd_cycle_performance')\n",
    "\n",
    "# fourth cycle performance load\n",
    "performance_4th_cycle = pd.read_csv('../Datasets/4th_cycle_performance')\n",
    "\n",
    "# fifth cycle performance load\n",
    "performance_5th_cycle = pd.read_csv('../Datasets/5th_cycle_performance')\n",
    "\n",
    "# sixth cycle performance load\n",
    "performance_6th_cycle = pd.read_csv('../Datasets/6th_cycle_performance')\n",
    "\n",
    "# join cycles dataframes\n",
    "performance = pd.concat([performance_1st_cycle, \n",
    "                         performance_2nd_cycle, \n",
    "                         performance_3rd_cycle[performance_3rd_cycle['model'] == 'Neural Network Model - CV'], \n",
    "                         performance_4th_cycle[performance_4th_cycle['model'] == 'Neural Network Model - CV'], \n",
    "                         performance_5th_cycle[performance_5th_cycle['model'] == 'NN Model - Imbalanced Data - CV'], \n",
    "                         performance_6th_cycle[performance_6th_cycle['model'] == 'NN Model - Imbalanced Data - CV'], \n",
    "                         df_performance[df_performance['model'] == 'NN Model - SMOTE + TOMEKLINK - CV']])\\\n",
    "                        .reset_index(drop=True)\n",
    "\n",
    "# select the models desired\n",
    "performance = performance[performance['model'] != 'Baseline Model'].fillna(0)\n",
    "\n",
    "# display performance\n",
    "performance"
   ]
  },
  {
   "cell_type": "code",
   "execution_count": 125,
   "id": "fc50f5a9",
   "metadata": {
    "ExecuteTime": {
     "end_time": "2022-04-13T00:33:49.821496Z",
     "start_time": "2022-04-13T00:33:49.398856Z"
    },
    "hide_input": false,
    "scrolled": false
   },
   "outputs": [
    {
     "data": {
      "image/png": "[encoded data removed]",
      "text/plain": [
       "<Figure size 1080x432 with 1 Axes>"
      ]
     },
     "metadata": {
      "needs_background": "light"
     },
     "output_type": "display_data"
    }
   ],
   "source": [
    "plt.figure(figsize=(15,6))\n",
    "\n",
    "# formated metrics\n",
    "performance['acc'] = performance['acc'].apply(lambda x: str(x)[0:4]).astype(float)\n",
    "\n",
    "performance['balanced_acc'] = performance['balanced_acc'].apply(lambda x: str(x)[0:4]).astype(float)\n",
    "\n",
    "performance['kappa_score'] = performance['kappa_score'].apply(lambda x: str(x)[0:4]).astype(float)\n",
    "\n",
    "# Evolution of Performance over Cycles\n",
    "sns.lineplot(x='cycle', y='acc', data=performance)\n",
    "\n",
    "sns.lineplot(x='cycle', y='balanced_acc', data=performance)\n",
    "\n",
    "sns.lineplot(x='cycle', y='kappa_score', data=performance)\n",
    "\n",
    "# set legend and titles\n",
    "plt.legend(labels=['Accuracy','Balanced Accuracy', 'Kappa Score'])\n",
    "plt.title('Evolution of Performance over Cycle')\n",
    "plt.ylabel('Percentage')\n",
    "plt.xlabel('Cycles')\n",
    "plt.grid();"
   ]
  },
  {
   "cell_type": "code",
   "execution_count": 126,
   "id": "fede1e5d",
   "metadata": {
    "ExecuteTime": {
     "end_time": "2022-04-13T00:33:54.516497Z",
     "start_time": "2022-04-13T00:33:54.440515Z"
    },
    "hide_input": false,
    "scrolled": true
   },
   "outputs": [
    {
     "data": {
      "text/html": [
       "<div>\n",
       "<style scoped>\n",
       "    .dataframe tbody tr th:only-of-type {\n",
       "        vertical-align: middle;\n",
       "    }\n",
       "\n",
       "    .dataframe tbody tr th {\n",
       "        vertical-align: top;\n",
       "    }\n",
       "\n",
       "    .dataframe thead th {\n",
       "        text-align: right;\n",
       "    }\n",
       "</style>\n",
       "<table border=\"1\" class=\"dataframe\">\n",
       "  <thead>\n",
       "    <tr style=\"text-align: right;\">\n",
       "      <th></th>\n",
       "      <th>cycle</th>\n",
       "      <th>process</th>\n",
       "      <th>model</th>\n",
       "      <th>acc</th>\n",
       "      <th>pct_acc</th>\n",
       "      <th>balanced_acc</th>\n",
       "      <th>pct_bal_acc</th>\n",
       "      <th>kappa_score</th>\n",
       "      <th>pct_kappa_score</th>\n",
       "    </tr>\n",
       "  </thead>\n",
       "  <tbody>\n",
       "    <tr>\n",
       "      <th>0</th>\n",
       "      <td>1st_cycle</td>\n",
       "      <td>validation_pipeline</td>\n",
       "      <td>Neural Network Model</td>\n",
       "      <td>0.70</td>\n",
       "      <td>NaN</td>\n",
       "      <td>0.00</td>\n",
       "      <td>NaN</td>\n",
       "      <td>0.00</td>\n",
       "      <td>NaN</td>\n",
       "    </tr>\n",
       "    <tr>\n",
       "      <th>2</th>\n",
       "      <td>2nd_cycle</td>\n",
       "      <td>baseline_model</td>\n",
       "      <td>Neural Network Model</td>\n",
       "      <td>0.70</td>\n",
       "      <td>0.00</td>\n",
       "      <td>0.09</td>\n",
       "      <td>inf</td>\n",
       "      <td>0.00</td>\n",
       "      <td>NaN</td>\n",
       "    </tr>\n",
       "    <tr>\n",
       "      <th>3</th>\n",
       "      <td>3rd_cycle</td>\n",
       "      <td>replace_na</td>\n",
       "      <td>Neural Network Model - CV</td>\n",
       "      <td>0.63</td>\n",
       "      <td>-0.10</td>\n",
       "      <td>0.11</td>\n",
       "      <td>0.22</td>\n",
       "      <td>0.24</td>\n",
       "      <td>inf</td>\n",
       "    </tr>\n",
       "    <tr>\n",
       "      <th>4</th>\n",
       "      <td>4th_cycle</td>\n",
       "      <td>feature_engineering</td>\n",
       "      <td>Neural Network Model - CV</td>\n",
       "      <td>0.87</td>\n",
       "      <td>0.38</td>\n",
       "      <td>0.17</td>\n",
       "      <td>0.55</td>\n",
       "      <td>0.77</td>\n",
       "      <td>2.21</td>\n",
       "    </tr>\n",
       "    <tr>\n",
       "      <th>5</th>\n",
       "      <td>5th_cycle</td>\n",
       "      <td>balanced_dataset</td>\n",
       "      <td>NN Model - Imbalanced Data - CV</td>\n",
       "      <td>0.87</td>\n",
       "      <td>0.00</td>\n",
       "      <td>0.17</td>\n",
       "      <td>0.00</td>\n",
       "      <td>0.77</td>\n",
       "      <td>0.00</td>\n",
       "    </tr>\n",
       "    <tr>\n",
       "      <th>6</th>\n",
       "      <td>6th_cycle</td>\n",
       "      <td>exploratory_data_analysis</td>\n",
       "      <td>NN Model - Imbalanced Data - CV</td>\n",
       "      <td>0.87</td>\n",
       "      <td>0.00</td>\n",
       "      <td>0.17</td>\n",
       "      <td>0.00</td>\n",
       "      <td>0.77</td>\n",
       "      <td>0.00</td>\n",
       "    </tr>\n",
       "    <tr>\n",
       "      <th>7</th>\n",
       "      <td>7th_cycle</td>\n",
       "      <td>data_preparation</td>\n",
       "      <td>NN Model - SMOTE + TOMEKLINK - CV</td>\n",
       "      <td>0.63</td>\n",
       "      <td>-0.28</td>\n",
       "      <td>0.22</td>\n",
       "      <td>0.29</td>\n",
       "      <td>0.42</td>\n",
       "      <td>-0.45</td>\n",
       "    </tr>\n",
       "  </tbody>\n",
       "</table>\n",
       "</div>"
      ],
      "text/plain": [
       "       cycle                    process                              model  \\\n",
       "0  1st_cycle        validation_pipeline               Neural Network Model   \n",
       "2  2nd_cycle             baseline_model               Neural Network Model   \n",
       "3  3rd_cycle                 replace_na          Neural Network Model - CV   \n",
       "4  4th_cycle        feature_engineering          Neural Network Model - CV   \n",
       "5  5th_cycle           balanced_dataset    NN Model - Imbalanced Data - CV   \n",
       "6  6th_cycle  exploratory_data_analysis    NN Model - Imbalanced Data - CV   \n",
       "7  7th_cycle           data_preparation  NN Model - SMOTE + TOMEKLINK - CV   \n",
       "\n",
       "    acc  pct_acc  balanced_acc  pct_bal_acc  kappa_score  pct_kappa_score  \n",
       "0  0.70      NaN          0.00          NaN         0.00              NaN  \n",
       "2  0.70     0.00          0.09          inf         0.00              NaN  \n",
       "3  0.63    -0.10          0.11         0.22         0.24              inf  \n",
       "4  0.87     0.38          0.17         0.55         0.77             2.21  \n",
       "5  0.87     0.00          0.17         0.00         0.77             0.00  \n",
       "6  0.87     0.00          0.17         0.00         0.77             0.00  \n",
       "7  0.63    -0.28          0.22         0.29         0.42            -0.45  "
      ]
     },
     "execution_count": 126,
     "metadata": {},
     "output_type": "execute_result"
    }
   ],
   "source": [
    "performance['pct_acc'] = np.round(performance['acc'].pct_change(), 2)\n",
    "\n",
    "performance['pct_bal_acc'] = np.round(performance['balanced_acc'].pct_change(), 2)\n",
    "\n",
    "performance['pct_kappa_score'] = np.round(performance['kappa_score'].pct_change(), 2)\n",
    "\n",
    "performance[['cycle', 'process', 'model', 'acc', 'pct_acc', \n",
    "             'balanced_acc', 'pct_bal_acc', 'kappa_score', 'pct_kappa_score']]"
   ]
  }
 ],
 "metadata": {
  "kernelspec": {
   "display_name": "Python 3 (ipykernel)",
   "language": "python",
   "name": "python3"
  },
  "language_info": {
   "codemirror_mode": {
    "name": "ipython",
    "version": 3
   },
   "file_extension": ".py",
   "mimetype": "text/x-python",
   "name": "python",
   "nbconvert_exporter": "python",
   "pygments_lexer": "ipython3",
   "version": "3.8.12"
  },
  "varInspector": {
   "cols": {
    "lenName": 16,
    "lenType": 16,
    "lenVar": 40
   },
   "kernels_config": {
    "python": {
     "delete_cmd_postfix": "",
     "delete_cmd_prefix": "del ",
     "library": "var_list.py",
     "varRefreshCmd": "print(var_dic_list())"
    },
    "r": {
     "delete_cmd_postfix": ") ",
     "delete_cmd_prefix": "rm(",
     "library": "var_list.r",
     "varRefreshCmd": "cat(var_dic_list()) "
    }
   },
   "types_to_exclude": [
    "module",
    "function",
    "builtin_function_or_method",
    "instance",
    "_Feature"
   ],
   "window_display": false
  }
 },
 "nbformat": 4,
 "nbformat_minor": 5
}
