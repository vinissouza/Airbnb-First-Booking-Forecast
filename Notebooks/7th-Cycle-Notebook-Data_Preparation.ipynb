{
 "cells": [
  {
   "cell_type": "markdown",
   "id": "e9da1de2",
   "metadata": {
    "ExecuteTime": {
     "end_time": "2022-02-28T20:43:44.606104Z",
     "start_time": "2022-02-28T20:43:44.598146Z"
    }
   },
   "source": [
    "# 0.0. Imports"
   ]
  },
  {
   "cell_type": "code",
   "execution_count": 1,
   "id": "4a97ff0c",
   "metadata": {
    "ExecuteTime": {
     "end_time": "2022-03-16T13:10:09.626396Z",
     "start_time": "2022-03-16T13:09:45.490304Z"
    }
   },
   "outputs": [],
   "source": [
    "import numpy   as np\n",
    "import pandas  as pd\n",
    "import random\n",
    "import seaborn as sns \n",
    "import warnings\n",
    "\n",
    "from matplotlib import pyplot as plt\n",
    "\n",
    "from scipy      import stats           as ss\n",
    "from sklearn    import model_selection as ms\n",
    "from sklearn    import preprocessing   as pp\n",
    "from sklearn    import metrics         as m\n",
    "from scikitplot import metrics         as mt\n",
    "\n",
    "from sklearn.ensemble      import RandomForestRegressor\n",
    "\n",
    "from imblearn import under_sampling as us\n",
    "from imblearn import over_sampling  as osamp\n",
    "from imblearn import combine        as comb\n",
    "\n",
    "from category_encoders import TargetEncoder\n",
    "\n",
    "# from pandas_profiling import ProfileReport\n",
    "\n",
    "from keras import models as ml\n",
    "from keras import layers as l\n",
    "\n",
    "warnings.filterwarnings('ignore')"
   ]
  },
  {
   "cell_type": "markdown",
   "id": "58b2f295",
   "metadata": {},
   "source": [
    "## 0.1. Auxiliar Functions"
   ]
  },
  {
   "cell_type": "code",
   "execution_count": 2,
   "id": "c27e09c1",
   "metadata": {
    "ExecuteTime": {
     "end_time": "2022-03-16T13:10:14.922191Z",
     "start_time": "2022-03-16T13:10:14.803477Z"
    }
   },
   "outputs": [],
   "source": [
    "def cramer_v(x, y):\n",
    "    \n",
    "    cm = pd.crosstab(x, y).values\n",
    "    n = cm.sum()\n",
    "    r, k = cm.shape\n",
    "    \n",
    "    rcorr = r - ((r-1)**2)/(n-1)\n",
    "    \n",
    "    kcorr = k - ((k-1)**2)/(n-1)\n",
    "    \n",
    "    chi2 = ss.chi2_contingency(cm)[0]\n",
    "    chi2corr = max(0, chi2 - (k-1)*(r-1)/(n-1))\n",
    "    \n",
    "    return np.sqrt((chi2corr/n)/(min(kcorr-1, rcorr-1)))"
   ]
  },
  {
   "cell_type": "markdown",
   "id": "04bd4aba",
   "metadata": {},
   "source": [
    "## 0.2. Load Data"
   ]
  },
  {
   "cell_type": "code",
   "execution_count": 3,
   "id": "05c73b56",
   "metadata": {
    "ExecuteTime": {
     "end_time": "2022-03-16T13:10:32.253671Z",
     "start_time": "2022-03-16T13:10:16.073622Z"
    }
   },
   "outputs": [],
   "source": [
    "# load training set of user\n",
    "data_users = pd.read_csv('../Datasets/train_users_2.csv', low_memory=False)\n",
    "\n",
    "# load web sessions log for users\n",
    "data_sessions = pd.read_csv('../Datasets/sessions.csv', low_memory=False)"
   ]
  },
  {
   "cell_type": "markdown",
   "id": "1179dcfc",
   "metadata": {},
   "source": [
    "# 1.0. Data Description"
   ]
  },
  {
   "cell_type": "code",
   "execution_count": 4,
   "id": "a59196b7",
   "metadata": {
    "ExecuteTime": {
     "end_time": "2022-03-16T13:10:32.713021Z",
     "start_time": "2022-03-16T13:10:32.400506Z"
    }
   },
   "outputs": [],
   "source": [
    "df01_users = data_users.copy()\n",
    "\n",
    "df01_sessions = data_sessions.copy()"
   ]
  },
  {
   "cell_type": "markdown",
   "id": "1ccddadb",
   "metadata": {},
   "source": [
    "## 1.1. Data Types"
   ]
  },
  {
   "cell_type": "code",
   "execution_count": 5,
   "id": "fe162f91",
   "metadata": {
    "ExecuteTime": {
     "end_time": "2022-03-16T13:10:32.904025Z",
     "start_time": "2022-03-16T13:10:32.875028Z"
    },
    "cell_style": "split"
   },
   "outputs": [
    {
     "data": {
      "text/plain": [
       "id                          object\n",
       "date_account_created        object\n",
       "timestamp_first_active       int64\n",
       "date_first_booking          object\n",
       "gender                      object\n",
       "age                        float64\n",
       "signup_method               object\n",
       "signup_flow                  int64\n",
       "language                    object\n",
       "affiliate_channel           object\n",
       "affiliate_provider          object\n",
       "first_affiliate_tracked     object\n",
       "signup_app                  object\n",
       "first_device_type           object\n",
       "first_browser               object\n",
       "country_destination         object\n",
       "dtype: object"
      ]
     },
     "execution_count": 5,
     "metadata": {},
     "output_type": "execute_result"
    }
   ],
   "source": [
    "df01_users.dtypes"
   ]
  },
  {
   "cell_type": "code",
   "execution_count": 6,
   "id": "859ee10e",
   "metadata": {
    "ExecuteTime": {
     "end_time": "2022-03-16T13:10:33.109022Z",
     "start_time": "2022-03-16T13:10:33.087027Z"
    },
    "cell_style": "split"
   },
   "outputs": [
    {
     "data": {
      "text/plain": [
       "user_id           object\n",
       "action            object\n",
       "action_type       object\n",
       "action_detail     object\n",
       "device_type       object\n",
       "secs_elapsed     float64\n",
       "dtype: object"
      ]
     },
     "execution_count": 6,
     "metadata": {},
     "output_type": "execute_result"
    }
   ],
   "source": [
    "df01_sessions.dtypes"
   ]
  },
  {
   "cell_type": "markdown",
   "id": "297d0bec",
   "metadata": {
    "cell_style": "center"
   },
   "source": [
    "## 1.2. Data Dimensions"
   ]
  },
  {
   "cell_type": "markdown",
   "id": "c617277e",
   "metadata": {},
   "source": [
    "### 1.2.1. Data Users Dimensions "
   ]
  },
  {
   "cell_type": "code",
   "execution_count": 7,
   "id": "6889bc8e",
   "metadata": {
    "ExecuteTime": {
     "end_time": "2022-03-16T13:10:35.869568Z",
     "start_time": "2022-03-16T13:10:35.849524Z"
    }
   },
   "outputs": [
    {
     "name": "stdout",
     "output_type": "stream",
     "text": [
      "Number of rows of users dataset: 213451\n",
      "Number of columnss of users dataset: 16\n"
     ]
    }
   ],
   "source": [
    "print( f'Number of rows of users dataset: {df01_users.shape[0]}')\n",
    "print( f'Number of columnss of users dataset: {df01_users.shape[1]}')"
   ]
  },
  {
   "cell_type": "markdown",
   "id": "152339da",
   "metadata": {},
   "source": [
    "### 1.2.2. Data Sessions Dimensions\n",
    "\n",
    "This dataset will not be used in this first cycle due to the granularity being action and we want to be user_id for now."
   ]
  },
  {
   "cell_type": "code",
   "execution_count": 8,
   "id": "c1459d2d",
   "metadata": {
    "ExecuteTime": {
     "end_time": "2022-03-16T13:10:36.532615Z",
     "start_time": "2022-03-16T13:10:36.522618Z"
    }
   },
   "outputs": [
    {
     "name": "stdout",
     "output_type": "stream",
     "text": [
      "Number of rows of sessions dataset: 10567737\n",
      "Number of columnss of session dataset: 6\n"
     ]
    }
   ],
   "source": [
    "print( f'Number of rows of sessions dataset: {df01_sessions.shape[0]}')\n",
    "print( f'Number of columnss of session dataset: {df01_sessions.shape[1]}')"
   ]
  },
  {
   "cell_type": "markdown",
   "id": "5ed2d4e7",
   "metadata": {},
   "source": [
    "## 1.3. Check NA"
   ]
  },
  {
   "cell_type": "markdown",
   "id": "3b2018f1",
   "metadata": {},
   "source": [
    "### 1.3.1. Check NA - Data Users"
   ]
  },
  {
   "cell_type": "code",
   "execution_count": 9,
   "id": "49097f87",
   "metadata": {
    "ExecuteTime": {
     "end_time": "2022-03-16T13:10:38.300075Z",
     "start_time": "2022-03-16T13:10:37.948434Z"
    },
    "cell_style": "split"
   },
   "outputs": [
    {
     "data": {
      "text/plain": [
       "id                              0\n",
       "date_account_created            0\n",
       "timestamp_first_active          0\n",
       "date_first_booking         124543\n",
       "gender                          0\n",
       "age                         87990\n",
       "signup_method                   0\n",
       "signup_flow                     0\n",
       "language                        0\n",
       "affiliate_channel               0\n",
       "affiliate_provider              0\n",
       "first_affiliate_tracked      6065\n",
       "signup_app                      0\n",
       "first_device_type               0\n",
       "first_browser                   0\n",
       "country_destination             0\n",
       "dtype: int64"
      ]
     },
     "execution_count": 9,
     "metadata": {},
     "output_type": "execute_result"
    }
   ],
   "source": [
    "df01_users.isna().sum()"
   ]
  },
  {
   "cell_type": "code",
   "execution_count": 10,
   "id": "c559b15b",
   "metadata": {
    "ExecuteTime": {
     "end_time": "2022-03-16T13:10:38.617608Z",
     "start_time": "2022-03-16T13:10:38.445609Z"
    },
    "cell_style": "split"
   },
   "outputs": [
    {
     "data": {
      "text/plain": [
       "id                         0.000000\n",
       "date_account_created       0.000000\n",
       "timestamp_first_active     0.000000\n",
       "date_first_booking         0.583473\n",
       "gender                     0.000000\n",
       "age                        0.412226\n",
       "signup_method              0.000000\n",
       "signup_flow                0.000000\n",
       "language                   0.000000\n",
       "affiliate_channel          0.000000\n",
       "affiliate_provider         0.000000\n",
       "first_affiliate_tracked    0.028414\n",
       "signup_app                 0.000000\n",
       "first_device_type          0.000000\n",
       "first_browser              0.000000\n",
       "country_destination        0.000000\n",
       "dtype: float64"
      ]
     },
     "execution_count": 10,
     "metadata": {},
     "output_type": "execute_result"
    }
   ],
   "source": [
    "df01_users.isna().sum()/df01_users.shape[0]"
   ]
  },
  {
   "cell_type": "markdown",
   "id": "2176ca0f",
   "metadata": {},
   "source": [
    "### 1.3.2. Check NA - Data Sessions"
   ]
  },
  {
   "cell_type": "code",
   "execution_count": 11,
   "id": "09c5347b",
   "metadata": {
    "ExecuteTime": {
     "end_time": "2022-03-16T13:10:41.434594Z",
     "start_time": "2022-03-16T13:10:39.425702Z"
    },
    "cell_style": "split"
   },
   "outputs": [
    {
     "data": {
      "text/plain": [
       "user_id            34496\n",
       "action             79626\n",
       "action_type      1126204\n",
       "action_detail    1126204\n",
       "device_type            0\n",
       "secs_elapsed      136031\n",
       "dtype: int64"
      ]
     },
     "execution_count": 11,
     "metadata": {},
     "output_type": "execute_result"
    }
   ],
   "source": [
    "df01_sessions.isna().sum()"
   ]
  },
  {
   "cell_type": "code",
   "execution_count": 12,
   "id": "55751da3",
   "metadata": {
    "ExecuteTime": {
     "end_time": "2022-03-16T13:10:43.500414Z",
     "start_time": "2022-03-16T13:10:41.600720Z"
    },
    "cell_style": "split"
   },
   "outputs": [
    {
     "data": {
      "text/plain": [
       "user_id          0.003264\n",
       "action           0.007535\n",
       "action_type      0.106570\n",
       "action_detail    0.106570\n",
       "device_type      0.000000\n",
       "secs_elapsed     0.012872\n",
       "dtype: float64"
      ]
     },
     "execution_count": 12,
     "metadata": {},
     "output_type": "execute_result"
    }
   ],
   "source": [
    "df01_sessions.isna().sum()/df01_sessions.shape[0]"
   ]
  },
  {
   "cell_type": "markdown",
   "id": "bd581316",
   "metadata": {},
   "source": [
    "## 1.4. Fillout NA"
   ]
  },
  {
   "cell_type": "markdown",
   "id": "02d2f026",
   "metadata": {},
   "source": [
    "### 1.4.1. Fillout NA - Data Users\n",
    "\n",
    "- **date_first_booking:** the maximum date of the dataset is chosen due to future features considered the space between dates.\n",
    "\n",
    "- **age:** variable age has a normal distribution, so replacing it with with a mean value will not bias the dataset.\n",
    "\n",
    "- **first_affiliate_tracked:** due to the high probability of bias the dataset with categorical data substitution and the low amount of NA datas in this variable, the NA lines will be dropped."
   ]
  },
  {
   "cell_type": "code",
   "execution_count": 13,
   "id": "17027a20",
   "metadata": {
    "ExecuteTime": {
     "end_time": "2022-03-16T13:10:44.825829Z",
     "start_time": "2022-03-16T13:10:44.666140Z"
    }
   },
   "outputs": [],
   "source": [
    "# date_first_booking\n",
    "max_date_first_booking = pd.to_datetime(df01_users['date_first_booking']).max().strftime('%Y-%m-%d')\n",
    "df01_users['date_first_booking'] = df01_users['date_first_booking'].fillna(max_date_first_booking)\n",
    "\n",
    "# age\n",
    "avg_age = int(df01_users['age'].mean())\n",
    "df01_users['age'] = df01_users['age'].fillna(avg_age)\n",
    "\n",
    "# first_affiliate_tracked\n",
    "df01_users = df01_users[~df01_users['first_affiliate_tracked'].isna()]"
   ]
  },
  {
   "cell_type": "code",
   "execution_count": 14,
   "id": "1e6bc1db",
   "metadata": {
    "ExecuteTime": {
     "end_time": "2022-03-16T13:10:45.128823Z",
     "start_time": "2022-03-16T13:10:44.986822Z"
    }
   },
   "outputs": [
    {
     "data": {
      "text/plain": [
       "id                         0.0\n",
       "date_account_created       0.0\n",
       "timestamp_first_active     0.0\n",
       "date_first_booking         0.0\n",
       "gender                     0.0\n",
       "age                        0.0\n",
       "signup_method              0.0\n",
       "signup_flow                0.0\n",
       "language                   0.0\n",
       "affiliate_channel          0.0\n",
       "affiliate_provider         0.0\n",
       "first_affiliate_tracked    0.0\n",
       "signup_app                 0.0\n",
       "first_device_type          0.0\n",
       "first_browser              0.0\n",
       "country_destination        0.0\n",
       "dtype: float64"
      ]
     },
     "execution_count": 14,
     "metadata": {},
     "output_type": "execute_result"
    }
   ],
   "source": [
    "df01_users.isna().sum()/df01_users.shape[0]"
   ]
  },
  {
   "cell_type": "markdown",
   "id": "8375bdfd",
   "metadata": {},
   "source": [
    "### 1.4.2. Fillout NA - Data Sessions\n",
    "\n",
    "Due to a massise amount of data, all NA lines will be dropped."
   ]
  },
  {
   "cell_type": "code",
   "execution_count": 15,
   "id": "97e5f525",
   "metadata": {
    "ExecuteTime": {
     "end_time": "2022-03-16T13:10:50.867852Z",
     "start_time": "2022-03-16T13:10:45.514090Z"
    }
   },
   "outputs": [],
   "source": [
    "# user_id  - 0.003264\n",
    "df01_sessions = df01_sessions[~df01_sessions['user_id'].isna()]\n",
    "\n",
    "# action - 0.007535\n",
    "df01_sessions = df01_sessions[~df01_sessions['action'].isna()]\n",
    "\n",
    "# action_type - 0.106570\n",
    "df01_sessions = df01_sessions[~df01_sessions['action_type'].isna()]\n",
    "\n",
    "# action_detail - 0.106570\n",
    "df01_sessions = df01_sessions[~df01_sessions['action_detail'].isna()]\n",
    "\n",
    "# secs_elapsed - 0.012872\n",
    "df01_sessions = df01_sessions[~df01_sessions['secs_elapsed'].isna()]"
   ]
  },
  {
   "cell_type": "code",
   "execution_count": 16,
   "id": "1b4ae28d",
   "metadata": {
    "ExecuteTime": {
     "end_time": "2022-03-16T13:10:52.805606Z",
     "start_time": "2022-03-16T13:10:51.047922Z"
    }
   },
   "outputs": [
    {
     "data": {
      "text/plain": [
       "user_id          0.0\n",
       "action           0.0\n",
       "action_type      0.0\n",
       "action_detail    0.0\n",
       "device_type      0.0\n",
       "secs_elapsed     0.0\n",
       "dtype: float64"
      ]
     },
     "execution_count": 16,
     "metadata": {},
     "output_type": "execute_result"
    }
   ],
   "source": [
    "df01_sessions.isna().sum()/df01_sessions.shape[0]"
   ]
  },
  {
   "cell_type": "markdown",
   "id": "7076ae4e",
   "metadata": {},
   "source": [
    "## 1.5. Change Data Type"
   ]
  },
  {
   "cell_type": "code",
   "execution_count": 17,
   "id": "793c65b7",
   "metadata": {
    "ExecuteTime": {
     "end_time": "2022-03-16T13:10:53.043583Z",
     "start_time": "2022-03-16T13:10:52.969603Z"
    }
   },
   "outputs": [
    {
     "data": {
      "text/html": [
       "<div>\n",
       "<style scoped>\n",
       "    .dataframe tbody tr th:only-of-type {\n",
       "        vertical-align: middle;\n",
       "    }\n",
       "\n",
       "    .dataframe tbody tr th {\n",
       "        vertical-align: top;\n",
       "    }\n",
       "\n",
       "    .dataframe thead th {\n",
       "        text-align: right;\n",
       "    }\n",
       "</style>\n",
       "<table border=\"1\" class=\"dataframe\">\n",
       "  <thead>\n",
       "    <tr style=\"text-align: right;\">\n",
       "      <th></th>\n",
       "      <th>id</th>\n",
       "      <th>date_account_created</th>\n",
       "      <th>timestamp_first_active</th>\n",
       "      <th>date_first_booking</th>\n",
       "      <th>gender</th>\n",
       "      <th>age</th>\n",
       "      <th>signup_method</th>\n",
       "      <th>signup_flow</th>\n",
       "      <th>language</th>\n",
       "      <th>affiliate_channel</th>\n",
       "      <th>affiliate_provider</th>\n",
       "      <th>first_affiliate_tracked</th>\n",
       "      <th>signup_app</th>\n",
       "      <th>first_device_type</th>\n",
       "      <th>first_browser</th>\n",
       "      <th>country_destination</th>\n",
       "    </tr>\n",
       "  </thead>\n",
       "  <tbody>\n",
       "    <tr>\n",
       "      <th>112453</th>\n",
       "      <td>s5sfn0h3a1</td>\n",
       "      <td>2013-09-29</td>\n",
       "      <td>20130929165140</td>\n",
       "      <td>2013-10-02</td>\n",
       "      <td>-unknown-</td>\n",
       "      <td>49.0</td>\n",
       "      <td>basic</td>\n",
       "      <td>0</td>\n",
       "      <td>en</td>\n",
       "      <td>direct</td>\n",
       "      <td>direct</td>\n",
       "      <td>untracked</td>\n",
       "      <td>Web</td>\n",
       "      <td>Mac Desktop</td>\n",
       "      <td>Safari</td>\n",
       "      <td>other</td>\n",
       "    </tr>\n",
       "  </tbody>\n",
       "</table>\n",
       "</div>"
      ],
      "text/plain": [
       "                id date_account_created  timestamp_first_active  \\\n",
       "112453  s5sfn0h3a1           2013-09-29          20130929165140   \n",
       "\n",
       "       date_first_booking     gender   age signup_method  signup_flow  \\\n",
       "112453         2013-10-02  -unknown-  49.0         basic            0   \n",
       "\n",
       "       language affiliate_channel affiliate_provider first_affiliate_tracked  \\\n",
       "112453       en            direct             direct               untracked   \n",
       "\n",
       "       signup_app first_device_type first_browser country_destination  \n",
       "112453        Web       Mac Desktop        Safari               other  "
      ]
     },
     "execution_count": 17,
     "metadata": {},
     "output_type": "execute_result"
    }
   ],
   "source": [
    "df01_users.sample(1)"
   ]
  },
  {
   "cell_type": "code",
   "execution_count": 18,
   "id": "d76d383f",
   "metadata": {
    "ExecuteTime": {
     "end_time": "2022-03-16T13:10:54.389719Z",
     "start_time": "2022-03-16T13:10:53.176096Z"
    }
   },
   "outputs": [],
   "source": [
    "# change date type\n",
    "df01_users['date_account_created'] = pd.to_datetime(df01_users['date_account_created'])\n",
    "df01_users['date_first_booking'] = pd.to_datetime(df01_users['date_first_booking'])\n",
    "\n",
    "# change datetime type\n",
    "df01_users['timestamp_first_active'] = pd.to_datetime(df01_users['timestamp_first_active'], format='%Y%m%d%H%M%S')\n",
    "\n",
    "# change age to int\n",
    "df01_users['age'] = df01_users['age'].astype(np.int64)"
   ]
  },
  {
   "cell_type": "code",
   "execution_count": 19,
   "id": "505514d3",
   "metadata": {
    "ExecuteTime": {
     "end_time": "2022-03-16T13:10:54.801308Z",
     "start_time": "2022-03-16T13:10:54.721321Z"
    }
   },
   "outputs": [
    {
     "data": {
      "text/html": [
       "<div>\n",
       "<style scoped>\n",
       "    .dataframe tbody tr th:only-of-type {\n",
       "        vertical-align: middle;\n",
       "    }\n",
       "\n",
       "    .dataframe tbody tr th {\n",
       "        vertical-align: top;\n",
       "    }\n",
       "\n",
       "    .dataframe thead th {\n",
       "        text-align: right;\n",
       "    }\n",
       "</style>\n",
       "<table border=\"1\" class=\"dataframe\">\n",
       "  <thead>\n",
       "    <tr style=\"text-align: right;\">\n",
       "      <th></th>\n",
       "      <th>id</th>\n",
       "      <th>date_account_created</th>\n",
       "      <th>timestamp_first_active</th>\n",
       "      <th>date_first_booking</th>\n",
       "      <th>gender</th>\n",
       "      <th>age</th>\n",
       "      <th>signup_method</th>\n",
       "      <th>signup_flow</th>\n",
       "      <th>language</th>\n",
       "      <th>affiliate_channel</th>\n",
       "      <th>affiliate_provider</th>\n",
       "      <th>first_affiliate_tracked</th>\n",
       "      <th>signup_app</th>\n",
       "      <th>first_device_type</th>\n",
       "      <th>first_browser</th>\n",
       "      <th>country_destination</th>\n",
       "    </tr>\n",
       "  </thead>\n",
       "  <tbody>\n",
       "    <tr>\n",
       "      <th>44001</th>\n",
       "      <td>jxwyeznnrf</td>\n",
       "      <td>2012-10-08</td>\n",
       "      <td>2012-10-08 15:23:16</td>\n",
       "      <td>2012-10-09</td>\n",
       "      <td>-unknown-</td>\n",
       "      <td>49</td>\n",
       "      <td>basic</td>\n",
       "      <td>0</td>\n",
       "      <td>en</td>\n",
       "      <td>sem-brand</td>\n",
       "      <td>google</td>\n",
       "      <td>untracked</td>\n",
       "      <td>Web</td>\n",
       "      <td>Mac Desktop</td>\n",
       "      <td>Safari</td>\n",
       "      <td>other</td>\n",
       "    </tr>\n",
       "  </tbody>\n",
       "</table>\n",
       "</div>"
      ],
      "text/plain": [
       "               id date_account_created timestamp_first_active  \\\n",
       "44001  jxwyeznnrf           2012-10-08    2012-10-08 15:23:16   \n",
       "\n",
       "      date_first_booking     gender  age signup_method  signup_flow language  \\\n",
       "44001         2012-10-09  -unknown-   49         basic            0       en   \n",
       "\n",
       "      affiliate_channel affiliate_provider first_affiliate_tracked signup_app  \\\n",
       "44001         sem-brand             google               untracked        Web   \n",
       "\n",
       "      first_device_type first_browser country_destination  \n",
       "44001       Mac Desktop        Safari               other  "
      ]
     },
     "execution_count": 19,
     "metadata": {},
     "output_type": "execute_result"
    }
   ],
   "source": [
    "df01_users.sample(1)"
   ]
  },
  {
   "cell_type": "code",
   "execution_count": 20,
   "id": "e7b73c50",
   "metadata": {
    "ExecuteTime": {
     "end_time": "2022-03-16T13:10:55.023307Z",
     "start_time": "2022-03-16T13:10:55.011304Z"
    }
   },
   "outputs": [
    {
     "data": {
      "text/plain": [
       "id                                 object\n",
       "date_account_created       datetime64[ns]\n",
       "timestamp_first_active     datetime64[ns]\n",
       "date_first_booking         datetime64[ns]\n",
       "gender                             object\n",
       "age                                 int64\n",
       "signup_method                      object\n",
       "signup_flow                         int64\n",
       "language                           object\n",
       "affiliate_channel                  object\n",
       "affiliate_provider                 object\n",
       "first_affiliate_tracked            object\n",
       "signup_app                         object\n",
       "first_device_type                  object\n",
       "first_browser                      object\n",
       "country_destination                object\n",
       "dtype: object"
      ]
     },
     "execution_count": 20,
     "metadata": {},
     "output_type": "execute_result"
    }
   ],
   "source": [
    "df01_users.dtypes"
   ]
  },
  {
   "cell_type": "markdown",
   "id": "b4774540",
   "metadata": {},
   "source": [
    "## 1.6. Check Balanced Data\n",
    "\n",
    "Data with an unbalance of 57% for the NDF class and 30% for the US class."
   ]
  },
  {
   "cell_type": "code",
   "execution_count": 21,
   "id": "8f5cdc46",
   "metadata": {
    "ExecuteTime": {
     "end_time": "2022-03-16T13:10:55.259315Z",
     "start_time": "2022-03-16T13:10:55.216308Z"
    }
   },
   "outputs": [
    {
     "data": {
      "text/plain": [
       "NDF      0.579673\n",
       "US       0.294461\n",
       "other    0.048128\n",
       "FR       0.023623\n",
       "IT       0.013458\n",
       "GB       0.011066\n",
       "ES       0.010671\n",
       "CA       0.006707\n",
       "DE       0.005020\n",
       "NL       0.003621\n",
       "AU       0.002541\n",
       "PT       0.001032\n",
       "Name: country_destination, dtype: float64"
      ]
     },
     "execution_count": 21,
     "metadata": {},
     "output_type": "execute_result"
    }
   ],
   "source": [
    "df01_users['country_destination'].value_counts(normalize=True)"
   ]
  },
  {
   "cell_type": "markdown",
   "id": "9e2a67ae",
   "metadata": {},
   "source": [
    "## 1.7. Descriptive Analysis"
   ]
  },
  {
   "cell_type": "code",
   "execution_count": 22,
   "id": "8f66c9c6",
   "metadata": {
    "ExecuteTime": {
     "end_time": "2022-03-16T13:10:56.101024Z",
     "start_time": "2022-03-16T13:10:55.455312Z"
    }
   },
   "outputs": [],
   "source": [
    "# split data users in types dataframes\n",
    "num_attributes_users = df01_users.select_dtypes(include=['int64', 'float64'])\n",
    "cat_attributes_users = df01_users.select_dtypes(exclude=['int64', 'float64', 'datetime64[ns]'])\n",
    "time_attributes_users = df01_users.select_dtypes(include=['datetime64[ns]'])\n",
    "\n",
    "# split data sessions in types dataframes\n",
    "num_attributes_sessions = df01_sessions.select_dtypes(include=['int64', 'float64'])\n",
    "cat_attributes_sessions = df01_sessions.select_dtypes(exclude=['int64', 'float64', 'datetime64[ns]'])\n",
    "time_attributes_sessions = df01_sessions.select_dtypes(include=['datetime64[ns]'])"
   ]
  },
  {
   "cell_type": "markdown",
   "id": "4eb6a6b6",
   "metadata": {},
   "source": [
    "### 1.7.1. Numerical - Data Users"
   ]
  },
  {
   "cell_type": "code",
   "execution_count": 23,
   "id": "ba4046ec",
   "metadata": {
    "ExecuteTime": {
     "end_time": "2022-03-16T13:10:56.577516Z",
     "start_time": "2022-03-16T13:10:56.359023Z"
    }
   },
   "outputs": [
    {
     "data": {
      "text/html": [
       "<div>\n",
       "<style scoped>\n",
       "    .dataframe tbody tr th:only-of-type {\n",
       "        vertical-align: middle;\n",
       "    }\n",
       "\n",
       "    .dataframe tbody tr th {\n",
       "        vertical-align: top;\n",
       "    }\n",
       "\n",
       "    .dataframe thead th {\n",
       "        text-align: right;\n",
       "    }\n",
       "</style>\n",
       "<table border=\"1\" class=\"dataframe\">\n",
       "  <thead>\n",
       "    <tr style=\"text-align: right;\">\n",
       "      <th></th>\n",
       "      <th>attributes</th>\n",
       "      <th>max</th>\n",
       "      <th>min</th>\n",
       "      <th>range</th>\n",
       "      <th>mean</th>\n",
       "      <th>median</th>\n",
       "      <th>std</th>\n",
       "      <th>skew</th>\n",
       "      <th>kurtosis</th>\n",
       "    </tr>\n",
       "  </thead>\n",
       "  <tbody>\n",
       "    <tr>\n",
       "      <th>0</th>\n",
       "      <td>age</td>\n",
       "      <td>2014</td>\n",
       "      <td>1</td>\n",
       "      <td>2013</td>\n",
       "      <td>49.183142</td>\n",
       "      <td>49.0</td>\n",
       "      <td>118.421689</td>\n",
       "      <td>16.333820</td>\n",
       "      <td>267.655434</td>\n",
       "    </tr>\n",
       "    <tr>\n",
       "      <th>1</th>\n",
       "      <td>signup_flow</td>\n",
       "      <td>25</td>\n",
       "      <td>0</td>\n",
       "      <td>25</td>\n",
       "      <td>3.151490</td>\n",
       "      <td>0.0</td>\n",
       "      <td>7.543915</td>\n",
       "      <td>2.287158</td>\n",
       "      <td>3.567794</td>\n",
       "    </tr>\n",
       "  </tbody>\n",
       "</table>\n",
       "</div>"
      ],
      "text/plain": [
       "    attributes   max  min  range       mean  median         std       skew  \\\n",
       "0          age  2014    1   2013  49.183142    49.0  118.421689  16.333820   \n",
       "1  signup_flow    25    0     25   3.151490     0.0    7.543915   2.287158   \n",
       "\n",
       "     kurtosis  \n",
       "0  267.655434  \n",
       "1    3.567794  "
      ]
     },
     "execution_count": 23,
     "metadata": {},
     "output_type": "execute_result"
    }
   ],
   "source": [
    "# tendency central - mean and median\n",
    "mean_users = pd.DataFrame(num_attributes_users.apply(lambda x: np.mean(x)))\n",
    "median_users = pd.DataFrame(num_attributes_users.apply(lambda x: np.median(x)))\n",
    "\n",
    "# dispersions - max, min, range, std, skew and kurtosis\n",
    "max_users = pd.DataFrame(num_attributes_users.apply(lambda x: x.max()))\n",
    "min_users = pd.DataFrame(num_attributes_users.apply(lambda x: x.min()))\n",
    "range_users = pd.DataFrame(num_attributes_users.apply(lambda x: x.max() - x.min()))\n",
    "std_users = pd.DataFrame(num_attributes_users.apply(lambda x: np.std(x)))\n",
    "skew_users = pd.DataFrame(num_attributes_users.apply(lambda x: x.skew()))\n",
    "kurtosis_users = pd.DataFrame(num_attributes_users.apply(lambda x: x.kurtosis()))\n",
    "\n",
    "# join tendency central and dispersion dataframe\n",
    "num_stats_users = pd.concat([max_users, min_users, range_users, mean_users, \n",
    "                             median_users, std_users, skew_users, kurtosis_users], axis=1).reset_index()\n",
    "num_stats_users.columns = ['attributes', 'max', 'min', 'range', 'mean', 'median', 'std', 'skew', 'kurtosis']\n",
    "\n",
    "num_stats_users"
   ]
  },
  {
   "cell_type": "markdown",
   "id": "956e8434",
   "metadata": {},
   "source": [
    "### 1.7.2. Numerical - Data Sessions"
   ]
  },
  {
   "cell_type": "code",
   "execution_count": 24,
   "id": "3c46dd63",
   "metadata": {
    "ExecuteTime": {
     "end_time": "2022-03-16T13:10:57.606960Z",
     "start_time": "2022-03-16T13:10:56.901171Z"
    }
   },
   "outputs": [
    {
     "data": {
      "text/html": [
       "<div>\n",
       "<style scoped>\n",
       "    .dataframe tbody tr th:only-of-type {\n",
       "        vertical-align: middle;\n",
       "    }\n",
       "\n",
       "    .dataframe tbody tr th {\n",
       "        vertical-align: top;\n",
       "    }\n",
       "\n",
       "    .dataframe thead th {\n",
       "        text-align: right;\n",
       "    }\n",
       "</style>\n",
       "<table border=\"1\" class=\"dataframe\">\n",
       "  <thead>\n",
       "    <tr style=\"text-align: right;\">\n",
       "      <th></th>\n",
       "      <th>attributes</th>\n",
       "      <th>max</th>\n",
       "      <th>min</th>\n",
       "      <th>range</th>\n",
       "      <th>mean</th>\n",
       "      <th>median</th>\n",
       "      <th>std</th>\n",
       "      <th>skew</th>\n",
       "      <th>kurtosis</th>\n",
       "    </tr>\n",
       "  </thead>\n",
       "  <tbody>\n",
       "    <tr>\n",
       "      <th>0</th>\n",
       "      <td>secs_elapsed</td>\n",
       "      <td>1799977.0</td>\n",
       "      <td>0.0</td>\n",
       "      <td>1799977.0</td>\n",
       "      <td>19961.8251</td>\n",
       "      <td>1369.0</td>\n",
       "      <td>88849.388449</td>\n",
       "      <td>11.137761</td>\n",
       "      <td>154.84312</td>\n",
       "    </tr>\n",
       "  </tbody>\n",
       "</table>\n",
       "</div>"
      ],
      "text/plain": [
       "     attributes        max  min      range        mean  median           std  \\\n",
       "0  secs_elapsed  1799977.0  0.0  1799977.0  19961.8251  1369.0  88849.388449   \n",
       "\n",
       "        skew   kurtosis  \n",
       "0  11.137761  154.84312  "
      ]
     },
     "execution_count": 24,
     "metadata": {},
     "output_type": "execute_result"
    }
   ],
   "source": [
    "# tendency central - mean and median\n",
    "mean_sessions = pd.DataFrame(num_attributes_sessions.apply(lambda x: np.mean(x)))\n",
    "median_sessions = pd.DataFrame(num_attributes_sessions.apply(lambda x: np.median(x)))\n",
    "\n",
    "# dispersions - max, min, range, std, skew and kurtosis\n",
    "max_sessions = pd.DataFrame(num_attributes_sessions.apply(lambda x: x.max()))\n",
    "min_sessions = pd.DataFrame(num_attributes_sessions.apply(lambda x: x.min()))\n",
    "range_sessions = pd.DataFrame(num_attributes_sessions.apply(lambda x: x.max() - x.min()))\n",
    "std_sessions = pd.DataFrame(num_attributes_sessions.apply(lambda x: np.std(x)))\n",
    "skew_sessions = pd.DataFrame(num_attributes_sessions.apply(lambda x: x.skew()))\n",
    "kurtosis_sessions = pd.DataFrame(num_attributes_sessions.apply(lambda x: x.kurtosis()))\n",
    "\n",
    "# join tendency central and dispersion dataframe\n",
    "num_stats_sessions = pd.concat([max_sessions, min_sessions, range_sessions, mean_sessions, \n",
    "                             median_sessions, std_sessions, skew_sessions, kurtosis_sessions], axis=1).reset_index()\n",
    "num_stats_sessions.columns = ['attributes', 'max', 'min', 'range', 'mean', 'median', 'std', 'skew', 'kurtosis']\n",
    "\n",
    "num_stats_sessions"
   ]
  },
  {
   "cell_type": "markdown",
   "id": "ce2d77df",
   "metadata": {},
   "source": [
    "### 1.7.3. Categorical - Data Users"
   ]
  },
  {
   "cell_type": "code",
   "execution_count": 25,
   "id": "a475bb0a",
   "metadata": {
    "ExecuteTime": {
     "end_time": "2022-03-16T13:10:58.289244Z",
     "start_time": "2022-03-16T13:10:57.911081Z"
    }
   },
   "outputs": [
    {
     "data": {
      "text/html": [
       "<div>\n",
       "<style scoped>\n",
       "    .dataframe tbody tr th:only-of-type {\n",
       "        vertical-align: middle;\n",
       "    }\n",
       "\n",
       "    .dataframe tbody tr th {\n",
       "        vertical-align: top;\n",
       "    }\n",
       "\n",
       "    .dataframe thead th {\n",
       "        text-align: right;\n",
       "    }\n",
       "</style>\n",
       "<table border=\"1\" class=\"dataframe\">\n",
       "  <thead>\n",
       "    <tr style=\"text-align: right;\">\n",
       "      <th></th>\n",
       "      <th>gender</th>\n",
       "      <th>signup_method</th>\n",
       "      <th>language</th>\n",
       "      <th>affiliate_channel</th>\n",
       "      <th>affiliate_provider</th>\n",
       "      <th>first_affiliate_tracked</th>\n",
       "      <th>signup_app</th>\n",
       "      <th>first_device_type</th>\n",
       "      <th>first_browser</th>\n",
       "      <th>country_destination</th>\n",
       "    </tr>\n",
       "  </thead>\n",
       "  <tbody>\n",
       "    <tr>\n",
       "      <th>count</th>\n",
       "      <td>207386</td>\n",
       "      <td>207386</td>\n",
       "      <td>207386</td>\n",
       "      <td>207386</td>\n",
       "      <td>207386</td>\n",
       "      <td>207386</td>\n",
       "      <td>207386</td>\n",
       "      <td>207386</td>\n",
       "      <td>207386</td>\n",
       "      <td>207386</td>\n",
       "    </tr>\n",
       "    <tr>\n",
       "      <th>unique</th>\n",
       "      <td>4</td>\n",
       "      <td>3</td>\n",
       "      <td>25</td>\n",
       "      <td>8</td>\n",
       "      <td>18</td>\n",
       "      <td>7</td>\n",
       "      <td>4</td>\n",
       "      <td>9</td>\n",
       "      <td>52</td>\n",
       "      <td>12</td>\n",
       "    </tr>\n",
       "    <tr>\n",
       "      <th>top</th>\n",
       "      <td>-unknown-</td>\n",
       "      <td>basic</td>\n",
       "      <td>en</td>\n",
       "      <td>direct</td>\n",
       "      <td>direct</td>\n",
       "      <td>untracked</td>\n",
       "      <td>Web</td>\n",
       "      <td>Mac Desktop</td>\n",
       "      <td>Chrome</td>\n",
       "      <td>NDF</td>\n",
       "    </tr>\n",
       "    <tr>\n",
       "      <th>freq</th>\n",
       "      <td>91783</td>\n",
       "      <td>148297</td>\n",
       "      <td>200415</td>\n",
       "      <td>134179</td>\n",
       "      <td>133935</td>\n",
       "      <td>109232</td>\n",
       "      <td>178334</td>\n",
       "      <td>89600</td>\n",
       "      <td>63845</td>\n",
       "      <td>120216</td>\n",
       "    </tr>\n",
       "  </tbody>\n",
       "</table>\n",
       "</div>"
      ],
      "text/plain": [
       "           gender signup_method language affiliate_channel affiliate_provider  \\\n",
       "count      207386        207386   207386            207386             207386   \n",
       "unique          4             3       25                 8                 18   \n",
       "top     -unknown-         basic       en            direct             direct   \n",
       "freq        91783        148297   200415            134179             133935   \n",
       "\n",
       "       first_affiliate_tracked signup_app first_device_type first_browser  \\\n",
       "count                   207386     207386            207386        207386   \n",
       "unique                       7          4                 9            52   \n",
       "top                  untracked        Web       Mac Desktop        Chrome   \n",
       "freq                    109232     178334             89600         63845   \n",
       "\n",
       "       country_destination  \n",
       "count               207386  \n",
       "unique                  12  \n",
       "top                    NDF  \n",
       "freq                120216  "
      ]
     },
     "execution_count": 25,
     "metadata": {},
     "output_type": "execute_result"
    }
   ],
   "source": [
    "cat_attributes_users.drop('id', axis=1).describe()"
   ]
  },
  {
   "cell_type": "markdown",
   "id": "89a04077",
   "metadata": {},
   "source": [
    "#### 1.7.3.1. Correlation Matrix"
   ]
  },
  {
   "cell_type": "code",
   "execution_count": 26,
   "id": "7d49a42d",
   "metadata": {
    "ExecuteTime": {
     "end_time": "2022-03-16T13:11:07.963253Z",
     "start_time": "2022-03-16T13:10:58.577678Z"
    }
   },
   "outputs": [
    {
     "data": {
      "image/png": "[encoded data removed]",
      "text/plain": [
       "<Figure size 432x288 with 2 Axes>"
      ]
     },
     "metadata": {
      "needs_background": "light"
     },
     "output_type": "display_data"
    }
   ],
   "source": [
    "cat_attributes_users_columns = cat_attributes_users.drop('id', axis=1).columns.tolist()\n",
    "\n",
    "corr_dict = {}\n",
    "\n",
    "for main_column in cat_attributes_users_columns:\n",
    "    corr_list = []\n",
    "    \n",
    "    for secondary_column in cat_attributes_users_columns:\n",
    "        # cramer v\n",
    "        cat_corr = cramer_v( cat_attributes_users[main_column], cat_attributes_users[secondary_column] )\n",
    "        \n",
    "        # add to list\n",
    "        corr_list.append(cat_corr)\n",
    "    \n",
    "    # add to dict each attribute correlation \n",
    "    corr_dict[main_column] = corr_list\n",
    "\n",
    "df_corr_users = pd.DataFrame(corr_dict)\n",
    "df_corr_users = df_corr_users.set_index(df_corr_users.columns)\n",
    "sns.heatmap(df_corr_users, annot=True);"
   ]
  },
  {
   "cell_type": "markdown",
   "id": "ef0bfe3a",
   "metadata": {
    "ExecuteTime": {
     "end_time": "2022-03-02T14:41:15.919764Z",
     "start_time": "2022-03-02T14:41:15.909769Z"
    }
   },
   "source": [
    "### 1.7.4. Categorical - Data Sessions"
   ]
  },
  {
   "cell_type": "code",
   "execution_count": 27,
   "id": "cb30c4f7",
   "metadata": {
    "ExecuteTime": {
     "end_time": "2022-03-16T13:11:13.890387Z",
     "start_time": "2022-03-16T13:11:08.417209Z"
    },
    "scrolled": false
   },
   "outputs": [
    {
     "data": {
      "text/html": [
       "<div>\n",
       "<style scoped>\n",
       "    .dataframe tbody tr th:only-of-type {\n",
       "        vertical-align: middle;\n",
       "    }\n",
       "\n",
       "    .dataframe tbody tr th {\n",
       "        vertical-align: top;\n",
       "    }\n",
       "\n",
       "    .dataframe thead th {\n",
       "        text-align: right;\n",
       "    }\n",
       "</style>\n",
       "<table border=\"1\" class=\"dataframe\">\n",
       "  <thead>\n",
       "    <tr style=\"text-align: right;\">\n",
       "      <th></th>\n",
       "      <th>action</th>\n",
       "      <th>action_type</th>\n",
       "      <th>action_detail</th>\n",
       "      <th>device_type</th>\n",
       "    </tr>\n",
       "  </thead>\n",
       "  <tbody>\n",
       "    <tr>\n",
       "      <th>count</th>\n",
       "      <td>9213930</td>\n",
       "      <td>9213930</td>\n",
       "      <td>9213930</td>\n",
       "      <td>9213930</td>\n",
       "    </tr>\n",
       "    <tr>\n",
       "      <th>unique</th>\n",
       "      <td>347</td>\n",
       "      <td>10</td>\n",
       "      <td>155</td>\n",
       "      <td>14</td>\n",
       "    </tr>\n",
       "    <tr>\n",
       "      <th>top</th>\n",
       "      <td>show</td>\n",
       "      <td>view</td>\n",
       "      <td>view_search_results</td>\n",
       "      <td>Mac Desktop</td>\n",
       "    </tr>\n",
       "    <tr>\n",
       "      <th>freq</th>\n",
       "      <td>2178382</td>\n",
       "      <td>3545621</td>\n",
       "      <td>1770931</td>\n",
       "      <td>3019523</td>\n",
       "    </tr>\n",
       "  </tbody>\n",
       "</table>\n",
       "</div>"
      ],
      "text/plain": [
       "         action action_type        action_detail  device_type\n",
       "count   9213930     9213930              9213930      9213930\n",
       "unique      347          10                  155           14\n",
       "top        show        view  view_search_results  Mac Desktop\n",
       "freq    2178382     3545621              1770931      3019523"
      ]
     },
     "execution_count": 27,
     "metadata": {},
     "output_type": "execute_result"
    }
   ],
   "source": [
    "cat_attributes_sessions.drop('user_id', axis=1).describe()"
   ]
  },
  {
   "cell_type": "markdown",
   "id": "13f4914d",
   "metadata": {},
   "source": [
    "#### 1.7.4.1. Correlation Matrix"
   ]
  },
  {
   "cell_type": "code",
   "execution_count": 28,
   "id": "3e1e88ee",
   "metadata": {
    "ExecuteTime": {
     "end_time": "2022-03-16T13:11:54.142652Z",
     "start_time": "2022-03-16T13:11:14.323389Z"
    }
   },
   "outputs": [
    {
     "data": {
      "image/png": "[encoded data removed]",
      "text/plain": [
       "<Figure size 432x288 with 2 Axes>"
      ]
     },
     "metadata": {
      "needs_background": "light"
     },
     "output_type": "display_data"
    }
   ],
   "source": [
    "cat_attributes_sessions_columns = cat_attributes_sessions.drop('user_id', axis=1).columns.tolist()\n",
    "\n",
    "corr_dict = {}\n",
    "\n",
    "for main_column in cat_attributes_sessions_columns:\n",
    "    corr_list = []\n",
    "    \n",
    "    for secondary_column in cat_attributes_sessions_columns:\n",
    "        # cramer v\n",
    "        cat_corr = cramer_v( cat_attributes_sessions[main_column], cat_attributes_sessions[secondary_column] )\n",
    "        \n",
    "        # add to list\n",
    "        corr_list.append(cat_corr)\n",
    "    \n",
    "    # add to dict each attribute correlation \n",
    "    corr_dict[main_column] = corr_list\n",
    "\n",
    "df_corr_sessions = pd.DataFrame(corr_dict)\n",
    "df_corr_sessions = df_corr_sessions.set_index(df_corr_sessions.columns)\n",
    "sns.heatmap(df_corr_sessions, annot=True);"
   ]
  },
  {
   "cell_type": "markdown",
   "id": "bbe57720",
   "metadata": {},
   "source": [
    "# 2.0. Feature Engineering"
   ]
  },
  {
   "cell_type": "code",
   "execution_count": 29,
   "id": "f64c4deb",
   "metadata": {
    "ExecuteTime": {
     "end_time": "2022-03-16T13:11:54.762657Z",
     "start_time": "2022-03-16T13:11:54.718650Z"
    }
   },
   "outputs": [],
   "source": [
    "df02_users = df01_users.copy()"
   ]
  },
  {
   "cell_type": "code",
   "execution_count": 30,
   "id": "7c1b558c",
   "metadata": {
    "ExecuteTime": {
     "end_time": "2022-03-16T13:11:55.332651Z",
     "start_time": "2022-03-16T13:11:55.320650Z"
    }
   },
   "outputs": [
    {
     "data": {
      "text/plain": [
       "(207386, 16)"
      ]
     },
     "execution_count": 30,
     "metadata": {},
     "output_type": "execute_result"
    }
   ],
   "source": [
    "df02_users.shape"
   ]
  },
  {
   "cell_type": "markdown",
   "id": "4cc87547",
   "metadata": {},
   "source": [
    "## 2.1. Create Gap Between Dates Features"
   ]
  },
  {
   "cell_type": "code",
   "execution_count": 31,
   "id": "bde69aeb",
   "metadata": {
    "ExecuteTime": {
     "end_time": "2022-03-16T13:12:07.770919Z",
     "start_time": "2022-03-16T13:11:55.722654Z"
    }
   },
   "outputs": [],
   "source": [
    "# date of first active\n",
    "df02_users['date_first_active'] = pd.to_datetime(df02_users['timestamp_first_active'].dt.strftime(\"%Y-%m-%d\"))\n",
    "\n",
    "# difference in days between date_account_created and date_first_active\n",
    "df02_users['diff_account_created_first_active'] = (df02_users['date_account_created'] - df02_users['date_first_active']).apply(lambda x: x.days)\n",
    "\n",
    "# difference in days between date_account_created and date_first_booking\n",
    "df02_users['diff_first_booking_account_created'] = (df02_users['date_first_booking'] - df02_users['date_account_created']).apply(lambda x: x.days)\n",
    "\n",
    "# difference in days between date_first_active and date_first_booking\n",
    "df02_users['diff_first_active_first_booking'] = (df02_users['date_first_booking'] - df02_users['date_first_active']).apply(lambda x: x.days)"
   ]
  },
  {
   "cell_type": "markdown",
   "id": "e5f02587",
   "metadata": {
    "ExecuteTime": {
     "end_time": "2022-03-02T15:58:55.212964Z",
     "start_time": "2022-03-02T15:58:55.204965Z"
    }
   },
   "source": [
    "## 2.2. Create Date Features"
   ]
  },
  {
   "cell_type": "markdown",
   "id": "add9d20f",
   "metadata": {},
   "source": [
    "### 2.2.1. Account Created"
   ]
  },
  {
   "cell_type": "code",
   "execution_count": 32,
   "id": "7ada9a20",
   "metadata": {
    "ExecuteTime": {
     "end_time": "2022-03-16T13:12:08.264107Z",
     "start_time": "2022-03-16T13:12:08.108162Z"
    }
   },
   "outputs": [],
   "source": [
    "# year\n",
    "df02_users['year_account_created'] = df02_users['date_account_created'].dt.year\n",
    "\n",
    "# month\n",
    "df02_users['month_account_created'] = df02_users['date_account_created'].dt.month\n",
    "\n",
    "# day\n",
    "df02_users['day_account_created'] = df02_users['date_account_created'].dt.day\n",
    "\n",
    "# day of week\n",
    "df02_users['dayofweek_account_created'] = df02_users['date_account_created'].dt.dayofweek\n",
    "\n",
    "# week of year\n",
    "df02_users['weekofyear_account_created'] = df02_users['date_account_created'].dt.weekofyear"
   ]
  },
  {
   "cell_type": "markdown",
   "id": "db245cbb",
   "metadata": {},
   "source": [
    "### 2.2.2. First Active"
   ]
  },
  {
   "cell_type": "code",
   "execution_count": 33,
   "id": "55143c04",
   "metadata": {
    "ExecuteTime": {
     "end_time": "2022-03-16T13:12:08.878492Z",
     "start_time": "2022-03-16T13:12:08.753946Z"
    }
   },
   "outputs": [],
   "source": [
    "# year\n",
    "df02_users['year_first_active'] = df02_users['date_first_active'].dt.year\n",
    "\n",
    "# month\n",
    "df02_users['month_first_active'] = df02_users['date_first_active'].dt.month\n",
    "\n",
    "# day\n",
    "df02_users['day_first_active'] = df02_users['date_first_active'].dt.day\n",
    "\n",
    "# day of week\n",
    "df02_users['dayofweek_first_active'] = df02_users['date_first_active'].dt.dayofweek\n",
    "\n",
    "# week of year\n",
    "df02_users['weekofyear_first_active'] = df02_users['date_first_active'].dt.weekofyear"
   ]
  },
  {
   "cell_type": "markdown",
   "id": "603026d2",
   "metadata": {},
   "source": [
    "### 2.2.3. First Booking"
   ]
  },
  {
   "cell_type": "code",
   "execution_count": 34,
   "id": "91800913",
   "metadata": {
    "ExecuteTime": {
     "end_time": "2022-03-16T13:12:09.672740Z",
     "start_time": "2022-03-16T13:12:09.519463Z"
    }
   },
   "outputs": [],
   "source": [
    "# year\n",
    "df02_users['year_first_booking'] = df02_users['date_first_booking'].dt.year\n",
    "\n",
    "# month\n",
    "df02_users['month_first_booking'] = df02_users['date_first_booking'].dt.month\n",
    "\n",
    "# day\n",
    "df02_users['day_first_booking'] = df02_users['date_first_booking'].dt.day\n",
    "\n",
    "# day of week\n",
    "df02_users['dayofweek_first_booking'] = df02_users['date_first_booking'].dt.dayofweek\n",
    "\n",
    "# week of year\n",
    "df02_users['weekofyear_first_booking'] = df02_users['date_first_booking'].dt.weekofyear"
   ]
  },
  {
   "cell_type": "markdown",
   "id": "b0f5b037",
   "metadata": {},
   "source": [
    "# 3.0. Data Filtering"
   ]
  },
  {
   "cell_type": "code",
   "execution_count": 35,
   "id": "26b87f66",
   "metadata": {
    "ExecuteTime": {
     "end_time": "2022-03-16T13:12:10.354817Z",
     "start_time": "2022-03-16T13:12:10.324825Z"
    }
   },
   "outputs": [],
   "source": [
    "df03_users = df02_users.copy()"
   ]
  },
  {
   "cell_type": "markdown",
   "id": "80d07e8f",
   "metadata": {},
   "source": [
    "## 3.1. Filtering Rows"
   ]
  },
  {
   "cell_type": "code",
   "execution_count": 36,
   "id": "6221dc16",
   "metadata": {
    "ExecuteTime": {
     "end_time": "2022-03-16T13:12:11.211613Z",
     "start_time": "2022-03-16T13:12:11.073181Z"
    }
   },
   "outputs": [],
   "source": [
    "# age - greater than 15 and lower than 120 - There are few people over 120 years old ( Could be error from system or manual imput - Cleaning noise)\n",
    "df03_users = df03_users[(df03_users['age'] > 15) & (df03_users['age'] < 120)]\n",
    "\n",
    "# secs_elapsed - there is no possible 0 secs elapesed on website\n",
    "#df03_sessions = df03_sessions[df03_sessions['secs_elapsed'] > 0]"
   ]
  },
  {
   "cell_type": "markdown",
   "id": "d9303a1b",
   "metadata": {},
   "source": [
    "## 3.2. Columns Selection"
   ]
  },
  {
   "cell_type": "code",
   "execution_count": 37,
   "id": "1072be5b",
   "metadata": {
    "ExecuteTime": {
     "end_time": "2022-03-16T13:12:11.905985Z",
     "start_time": "2022-03-16T13:12:11.846661Z"
    }
   },
   "outputs": [],
   "source": [
    "# columns used to feature enginnering\n",
    "cols_date =['timestamp_first_active',\n",
    "            'date_first_active',\n",
    "            'date_account_created',\n",
    "            'date_first_booking']\n",
    "\n",
    "df03_users = df03_users.drop(columns=cols_date)"
   ]
  },
  {
   "cell_type": "markdown",
   "id": "20d1ff53",
   "metadata": {},
   "source": [
    "# 4.0. Data Exploratory Analysis"
   ]
  },
  {
   "cell_type": "code",
   "execution_count": 38,
   "id": "c5e9da71",
   "metadata": {
    "ExecuteTime": {
     "end_time": "2022-03-16T13:12:12.839433Z",
     "start_time": "2022-03-16T13:12:12.785434Z"
    }
   },
   "outputs": [],
   "source": [
    "df04_users = df03_users.copy()"
   ]
  },
  {
   "cell_type": "markdown",
   "id": "08aaa120",
   "metadata": {
    "heading_collapsed": true
   },
   "source": [
    "## 4.1. Univariate Analysis"
   ]
  },
  {
   "cell_type": "code",
   "execution_count": 39,
   "id": "5b859078",
   "metadata": {
    "ExecuteTime": {
     "end_time": "2022-03-12T16:24:20.957339Z",
     "start_time": "2022-03-12T16:24:20.932337Z"
    },
    "hidden": true
   },
   "outputs": [],
   "source": [
    "# profile = ProfileReport(df04_users)\n",
    "\n",
    "# profile.to_file(output_file='airbnb_booking_statistics.html')"
   ]
  },
  {
   "cell_type": "markdown",
   "id": "07beed36",
   "metadata": {
    "heading_collapsed": true
   },
   "source": [
    "## 4.2. Bivariate Analysis"
   ]
  },
  {
   "cell_type": "markdown",
   "id": "381f4323",
   "metadata": {
    "hidden": true
   },
   "source": [
    "### H1. Across all destinations, it takes users an average of 15 days to make their first Airbnb booking since their first activation.\n",
    "**False:** Users take up to 3 days on median to register on the site all destinations."
   ]
  },
  {
   "cell_type": "code",
   "execution_count": 40,
   "id": "91288f22",
   "metadata": {
    "ExecuteTime": {
     "end_time": "2022-03-12T16:24:23.762467Z",
     "start_time": "2022-03-12T16:24:20.971338Z"
    },
    "hidden": true,
    "hide_input": true
   },
   "outputs": [
    {
     "data": {
      "image/png": "[encoded data removed]",
      "text/plain": [
       "<Figure size 1440x432 with 2 Axes>"
      ]
     },
     "metadata": {
      "needs_background": "light"
     },
     "output_type": "display_data"
    }
   ],
   "source": [
    "plt.subplots(figsize=(20,6))\n",
    "\n",
    "# select data with destination\n",
    "aux = df04_users[df04_users['country_destination'] != 'NDF']\n",
    "\n",
    "# average number of days from the first active day on website to the first booking for each destination\n",
    "plt.subplot(1, 2, 1)\n",
    "aux1 = aux[['diff_first_active_first_booking', 'country_destination']].groupby('country_destination').mean().reset_index()\n",
    "sns.barplot(x='country_destination', \n",
    "            y='diff_first_active_first_booking', \n",
    "            data=aux1.sort_values('diff_first_active_first_booking'))\n",
    "plt.axhline(aux['diff_first_active_first_booking'].mean(), linestyle='--');\n",
    "plt.title('Average Days until Booking');\n",
    "\n",
    "# median number of days from the first active day on website to the first booking for each destination\n",
    "plt.subplot(1, 2, 2)\n",
    "aux2 = aux[['diff_first_active_first_booking', 'country_destination']].groupby('country_destination').median().reset_index()\n",
    "sns.barplot(x='country_destination', \n",
    "            y='diff_first_active_first_booking',\n",
    "            data=aux2.sort_values('diff_first_active_first_booking'))\n",
    "plt.axhline(aux['diff_first_active_first_booking'].median(), linestyle='--');\n",
    "plt.title('Median Days until Booking');"
   ]
  },
  {
   "cell_type": "markdown",
   "id": "39bc0f13",
   "metadata": {
    "hidden": true
   },
   "source": [
    "### H2. In all destinations, it takes users an average of 3 days to register on the site.\n",
    "**True:** Users register the same day they first visit, on average."
   ]
  },
  {
   "cell_type": "code",
   "execution_count": 41,
   "id": "cbe836d7",
   "metadata": {
    "ExecuteTime": {
     "end_time": "2022-03-12T16:24:24.097455Z",
     "start_time": "2022-03-12T16:24:23.765457Z"
    },
    "hidden": true,
    "hide_input": true
   },
   "outputs": [
    {
     "data": {
      "image/png": "[encoded data removed]",
      "text/plain": [
       "<Figure size 1440x432 with 1 Axes>"
      ]
     },
     "metadata": {
      "needs_background": "light"
     },
     "output_type": "display_data"
    }
   ],
   "source": [
    "plt.subplots(figsize=(20,6))\n",
    "\n",
    "# average number of days from the first active day on website to the first booking for each destination\n",
    "plt.subplot(1, 2, 1)\n",
    "aux1 = df04_users[['diff_account_created_first_active', 'country_destination']].groupby('country_destination').mean().reset_index()\n",
    "\n",
    "sns.barplot(x='country_destination', \n",
    "            y='diff_account_created_first_active',\n",
    "            data=aux1.sort_values('diff_account_created_first_active'))\n",
    "plt.axhline(df04_users['diff_account_created_first_active'].mean(), linestyle='--');"
   ]
  },
  {
   "cell_type": "markdown",
   "id": "35242e84",
   "metadata": {
    "hidden": true
   },
   "source": [
    "### H3. The annual volume of bookings made during the summer increased by 20% or more for destinations within the USA.\n",
    "**True:**  Bookings made during the summer for the USA grow by 80% a year on average."
   ]
  },
  {
   "cell_type": "code",
   "execution_count": 42,
   "id": "32087ca0",
   "metadata": {
    "ExecuteTime": {
     "end_time": "2022-03-12T16:24:25.111433Z",
     "start_time": "2022-03-12T16:24:24.100454Z"
    },
    "hidden": true,
    "hide_input": true
   },
   "outputs": [
    {
     "data": {
      "image/png": "[encoded data removed]",
      "text/plain": [
       "<Figure size 1440x432 with 2 Axes>"
      ]
     },
     "metadata": {
      "needs_background": "light"
     },
     "output_type": "display_data"
    }
   ],
   "source": [
    "plt.figure(figsize=(20,6))\n",
    "\n",
    "# number of booking for year, month of firsrt booking and destination by number of rows\n",
    "aux1 = df04_users[['year_first_booking', 'month_first_booking', 'country_destination']].groupby(\n",
    "    ['year_first_booking', 'month_first_booking', 'country_destination']\n",
    ").size().reset_index().rename(columns={0: 'booking_count'})\n",
    "\n",
    "# seasons for northern hemisphere\n",
    "season_map = {1: 'Winter', 2: 'Winter', 3: 'Spring', 4: 'Spring', 5: 'Spring', 6: 'Summer',\n",
    "              7: 'Summer', 8: 'Summer', 9: 'Autumn', 10: 'Autumn', 11: 'Autumn', 12: 'Winter'}\n",
    "\n",
    "# seasons for each month of first booking\n",
    "aux1['season'] = aux1['month_first_booking'].map(season_map)\n",
    "\n",
    "# select data targeting the USA and the summer season \n",
    "aux2 = aux1[(aux1['country_destination'] == 'US') & (aux1['season'] == 'Summer') & (aux1['year_first_booking'] != 2015)]\n",
    "\n",
    "# number of bookings for first booking year\n",
    "aux3 = aux2[['year_first_booking', 'booking_count']].groupby('year_first_booking').sum().reset_index()\n",
    "\n",
    "plt.subplot(1, 2, 1)\n",
    "sns.lineplot(x='year_first_booking', y='booking_count', data=aux3)\n",
    "plt.title('Booking for US during the Summer');\n",
    "\n",
    "# porcentage of growth to each first booking year\n",
    "aux3['yearly_growth'] = aux3['booking_count'].pct_change().fillna(0)\n",
    "\n",
    "# yearly growth of first booking for US during the summer\n",
    "plt.subplot(1, 2, 2)\n",
    "ax = sns.barplot(x='year_first_booking', y='yearly_growth', data=aux3);\n",
    "ax.bar_label(ax.containers[0]);\n",
    "plt.title('Yearly Growth of Booking for US during the Summer ');\n",
    "\n"
   ]
  },
  {
   "cell_type": "markdown",
   "id": "45f7c976",
   "metadata": {
    "hidden": true
   },
   "source": [
    "### H4. Female users make 10% more reservations for countries outside the USA.\n",
    "**False:** Female users make more than 15% more reservations than male users."
   ]
  },
  {
   "cell_type": "code",
   "execution_count": 43,
   "id": "7a34313a",
   "metadata": {
    "ExecuteTime": {
     "end_time": "2022-03-12T16:24:25.460423Z",
     "start_time": "2022-03-12T16:24:25.121427Z"
    },
    "hidden": true,
    "hide_input": true
   },
   "outputs": [
    {
     "data": {
      "image/png": "[encoded data removed]",
      "text/plain": [
       "<Figure size 864x432 with 1 Axes>"
      ]
     },
     "metadata": {
      "needs_background": "light"
     },
     "output_type": "display_data"
    }
   ],
   "source": [
    "plt.figure(figsize=(12, 6))\n",
    "\n",
    "# number of booking for gender and destination\n",
    "aux1 = df04_users[['gender', 'country_destination']].groupby(\n",
    "    ['gender', 'country_destination']\n",
    ").size().reset_index().rename(columns={0: 'booking_count'})\n",
    "\n",
    "# select data for US and droped unknow rows\n",
    "aux2 = aux1[(aux1['country_destination'] == 'US') & (aux1['gender'] != '-unknown-')]\n",
    "\n",
    "# percentage of bookings for each gender\n",
    "aux2['pct_booking'] = round(100*(aux2['booking_count']/aux2['booking_count'].sum()), 2)\n",
    "\n",
    "# percentage of bookings for each gender for US destination\n",
    "ax = sns.barplot(x='pct_booking', y='gender', data=aux2);\n",
    "ax.bar_label(ax.containers[0]);\n",
    "plt.title('Percentage of Booking by Gender for US');"
   ]
  },
  {
   "cell_type": "markdown",
   "id": "a420e8eb",
   "metadata": {
    "hidden": true
   },
   "source": [
    "### H5. The Google Marketing channel accounts for more than 40% of bookings to countries outside the USA.\n",
    "**True:** Considering only paid channel, Marketing Google represents 76% of bookings."
   ]
  },
  {
   "cell_type": "code",
   "execution_count": 44,
   "id": "11545499",
   "metadata": {
    "ExecuteTime": {
     "end_time": "2022-03-12T16:24:26.018427Z",
     "start_time": "2022-03-12T16:24:25.464427Z"
    },
    "hidden": true,
    "hide_input": true
   },
   "outputs": [
    {
     "data": {
      "image/png": "[encoded data removed]",
      "text/plain": [
       "<Figure size 1440x432 with 2 Axes>"
      ]
     },
     "metadata": {
      "needs_background": "light"
     },
     "output_type": "display_data"
    }
   ],
   "source": [
    "plt.figure(figsize=(20, 6))\n",
    "\n",
    "# select data with destination and without US\n",
    "aux = df04_users[(df04_users['country_destination'] != 'US') & (df04_users['country_destination'] != 'NDF')]\n",
    "\n",
    "# number of booking por each affiliate\n",
    "aux1 = aux[['affiliate_provider']].groupby('affiliate_provider').size().reset_index().rename(columns={0: 'booking_count'})\n",
    "\n",
    "# porcentage of booking for each affiliate\n",
    "aux1['pct_booking'] = round(100*aux1['booking_count']/aux1['booking_count'].sum(), 2)\n",
    "\n",
    "# group values smaller than 10\n",
    "aux2 = aux1['pct_booking'].groupby(\n",
    "    np.where(aux1['pct_booking'] >=10, aux1['affiliate_provider'], 'others')\n",
    ").sum().reset_index().rename(columns={'index': 'affiliate_provider'})\n",
    "\n",
    "# percentage of booking for each channel\n",
    "plt.subplot(1, 2, 1)\n",
    "ax = sns.barplot(x='affiliate_provider', y='pct_booking', data=aux2)\n",
    "ax.bar_label(ax.containers[0]);\n",
    "plt.title('Porcentage of Booking for each Channel');\n",
    "\n",
    "#not include organic channels\n",
    "aux3 = aux[aux['affiliate_provider'] != 'direct']\n",
    "\n",
    "# number of booking por each affiliate\n",
    "aux4 = aux3[['affiliate_provider']].groupby('affiliate_provider').size().reset_index().rename(columns={0: 'booking_count'})\n",
    "\n",
    "# porcentage of booking for each affiliate\n",
    "aux4['pct_booking'] = round(100*aux4['booking_count']/aux4['booking_count'].sum(), 2)\n",
    "\n",
    "# group values smaller than 10\n",
    "aux5 = aux4['pct_booking'].groupby(\n",
    "    np.where(aux4['pct_booking'] > 1, aux4['affiliate_provider'], 'others')\n",
    ").sum().reset_index().rename(columns={'index': 'affiliate_provider'}).sort_values('pct_booking', ascending=False)\n",
    "\n",
    "# percentage of booking for each channel\n",
    "plt.subplot(1, 2, 2)\n",
    "ax = sns.barplot(x='affiliate_provider', y='pct_booking', data=aux5)\n",
    "ax.bar_label(ax.containers[0]);\n",
    "plt.title('Porcentage of Booking for each Channel, except Direct');"
   ]
  },
  {
   "cell_type": "markdown",
   "id": "2168020e",
   "metadata": {
    "hidden": true
   },
   "source": [
    "### H6. The USA destination represents more than 20% in all channels.\n",
    "**True:** USA represents 69% of bookings on average in all channels."
   ]
  },
  {
   "cell_type": "code",
   "execution_count": 45,
   "id": "b9ac1168",
   "metadata": {
    "ExecuteTime": {
     "end_time": "2022-03-12T16:24:26.481426Z",
     "start_time": "2022-03-12T16:24:26.024425Z"
    },
    "hidden": true,
    "hide_input": true
   },
   "outputs": [
    {
     "data": {
      "image/png": "[encoded data removed]",
      "text/plain": [
       "<Figure size 864x432 with 1 Axes>"
      ]
     },
     "metadata": {
      "needs_background": "light"
     },
     "output_type": "display_data"
    }
   ],
   "source": [
    "plt.figure(figsize=(12, 6))\n",
    "\n",
    "# select data with distination\n",
    "aux = df04_users[df04_users['country_destination'] != 'NDF']\n",
    "\n",
    "# number of booking for each destination and affiliate channel\n",
    "aux1 = aux[['country_destination', 'affiliate_channel']].groupby(\n",
    "    ['country_destination', 'affiliate_channel']\n",
    ").size().reset_index().rename(columns={0: 'booking_count'})\n",
    "\n",
    "# create column for porcentage of booking for each channel\n",
    "aux1['pct_booking_channel'] = np.nan\n",
    "\n",
    "# porcentage individual for each affiliate channel\n",
    "for channel in aux1['affiliate_channel'].unique().tolist():\n",
    "    ref_channel = aux1['affiliate_channel'] == channel\n",
    "    aux1.loc[ref_channel, 'pct_booking_channel'] = np.round(\n",
    "        100 * aux1.loc[ref_channel, 'booking_count'] / aux1.loc[ref_channel, 'booking_count'].sum(), 2\n",
    ")\n",
    "\n",
    "# select destination for US\n",
    "aux2 = aux1[aux1['country_destination'] == 'US']\n",
    "\n",
    "# percentage of bookings for channels for US destination \n",
    "ax = sns.barplot(x='affiliate_channel', y='pct_booking_channel', data=aux2)\n",
    "ax.bar_label(ax.containers[0]);\n",
    "plt.axhline(aux2['pct_booking_channel'].mean(), linestyle='--')\n",
    "plt.title('Porcentage of Booking to USA for each Channel');"
   ]
  },
  {
   "cell_type": "markdown",
   "id": "766ed40d",
   "metadata": {
    "hidden": true
   },
   "source": [
    "### H7. The average age of people is 35 in all destinations.\n",
    "**False:** Average age for all destinations is 40 years old."
   ]
  },
  {
   "cell_type": "code",
   "execution_count": 46,
   "id": "6d4f31b0",
   "metadata": {
    "ExecuteTime": {
     "end_time": "2022-03-12T16:24:26.972637Z",
     "start_time": "2022-03-12T16:24:26.488430Z"
    },
    "hidden": true,
    "hide_input": true
   },
   "outputs": [
    {
     "data": {
      "image/png": "[encoded data removed]",
      "text/plain": [
       "<Figure size 864x432 with 1 Axes>"
      ]
     },
     "metadata": {
      "needs_background": "light"
     },
     "output_type": "display_data"
    }
   ],
   "source": [
    "plt.figure(figsize=(12, 6))\n",
    "\n",
    "# grouped country destination\n",
    "aux1 = df04_users[['age', 'country_destination']].groupby('country_destination').mean().astype(int).reset_index()\n",
    "\n",
    "# average age for each destination\n",
    "ax = sns.barplot(x='country_destination', y='age', data=aux1);\n",
    "ax.bar_label(ax.containers[0]);\n",
    "plt.axhline(aux1['age'].mean());\n",
    "plt.title('Average Age for each Destination');"
   ]
  },
  {
   "cell_type": "markdown",
   "id": "9ef2f8d7",
   "metadata": {
    "hidden": true
   },
   "source": [
    "### H8. The percentage of users who use the English language site to book accommodations at any destination is over 90%.\n",
    "**True:** English is dominant among users, accounting for 97%.  "
   ]
  },
  {
   "cell_type": "code",
   "execution_count": 47,
   "id": "86c47a9d",
   "metadata": {
    "ExecuteTime": {
     "end_time": "2022-03-12T16:24:29.928443Z",
     "start_time": "2022-03-12T16:24:26.980640Z"
    },
    "hidden": true,
    "hide_input": true
   },
   "outputs": [
    {
     "data": {
      "image/png": "[encoded data removed]",
      "text/plain": [
       "<Figure size 1440x432 with 2 Axes>"
      ]
     },
     "metadata": {
      "needs_background": "light"
     },
     "output_type": "display_data"
    }
   ],
   "source": [
    "plt.figure(figsize=(20,6))\n",
    "\n",
    "# number of booking for each language\n",
    "aux1 = df04_users[['language']].groupby('language').size().reset_index().rename(columns={0: 'booking_count'})\n",
    "\n",
    "# porcentage of bookings for each language\n",
    "aux1['pct_booking'] = 100*aux1['booking_count']/aux1['booking_count'].sum()\n",
    "\n",
    "# grouped values smaller than 1%\n",
    "aux2 =aux1[['pct_booking']].groupby(\n",
    "    np.where(aux1['pct_booking'] >= 1, aux1['language'], 'others')\n",
    ").sum().reset_index().rename(columns={'index': 'language'}).sort_values('pct_booking', ascending=False)\n",
    "\n",
    "# porcentage of booking for language\n",
    "plt.subplot(1, 2, 1)\n",
    "ax = sns.barplot(x='language', y='pct_booking', data=aux2)\n",
    "ax.bar_label(ax.containers[0]);\n",
    "plt.title('Porcentage of Language Users');\n",
    "\n",
    "# select data with destination and without english language\n",
    "aux = df04_users[(df04_users['language'] == 'en') & (df04_users['country_destination'] != 'NDF')]\n",
    "\n",
    "# number of language users for each destination\n",
    "aux3 = aux[['country_destination', 'language']].groupby('country_destination').count().reset_index().sort_values('language')\n",
    "\n",
    "# porcentage of language users for destination\n",
    "aux3['pct_language'] = 100 * aux3['language'] / aux3['language'].sum()\n",
    "\n",
    "# porcentage of language users without english for each destination\n",
    "plt.subplot(1, 2, 2)\n",
    "sns.barplot(x='country_destination', y='pct_language', data=aux3);\n",
    "plt.title('Porcentage of Language Users for each Destination');"
   ]
  },
  {
   "cell_type": "markdown",
   "id": "219e8c33",
   "metadata": {
    "hidden": true
   },
   "source": [
    "### H9. Is the number of Airbnb bookings decreasing over the years.\n",
    "**False:** The number of Airbnb bookings is growing, but the growth rate has been slowing down over the years."
   ]
  },
  {
   "cell_type": "code",
   "execution_count": 48,
   "id": "6ffbb6fa",
   "metadata": {
    "ExecuteTime": {
     "end_time": "2022-03-12T16:24:31.151448Z",
     "start_time": "2022-03-12T16:24:29.936448Z"
    },
    "hidden": true,
    "hide_input": true
   },
   "outputs": [
    {
     "data": {
      "image/png": "[encoded data removed]",
      "text/plain": [
       "<Figure size 1440x432 with 2 Axes>"
      ]
     },
     "metadata": {
      "needs_background": "light"
     },
     "output_type": "display_data"
    }
   ],
   "source": [
    "plt.figure(figsize=(20,6))\n",
    "\n",
    "# select data with complete years and with booking\n",
    "aux = df04_users[(df04_users['country_destination'] != 'NDF') & \n",
    "                  (df04_users['year_first_booking'] < df04_users['year_first_booking'].max())]\n",
    "\n",
    "# number of booking for each year\n",
    "aux1 = aux[['year_first_booking']].groupby('year_first_booking').size().reset_index().rename(columns={0: 'booking_count'})\n",
    "\n",
    "# growth of booking over the years\n",
    "aux1[['booking_growth']] = aux1[['booking_count']].pct_change().fillna(0)\n",
    "\n",
    "# number of booking over years\n",
    "plt.subplot(1, 2, 1)\n",
    "ax = sns.barplot(x='year_first_booking', y='booking_count', data=aux1 );\n",
    "ax.bar_label(ax.containers[0]);\n",
    "plt.title('Booking over the Years');\n",
    "\n",
    "# growth of booking over the year\n",
    "plt.subplot(1, 2, 2)\n",
    "ax = sns.barplot(x='year_first_booking', y='booking_growth', data=aux1);\n",
    "ax.bar_label(ax.containers[0]);\n",
    "plt.title('Growth of Booking over the Years');"
   ]
  },
  {
   "cell_type": "markdown",
   "id": "21102193",
   "metadata": {
    "hidden": true
   },
   "source": [
    "### H10. Airbnb's booking growth for USA is higher than for other destinations over the years.\n",
    "**True:** The number of bookings for USA is the highest among all destinations over the years."
   ]
  },
  {
   "cell_type": "code",
   "execution_count": 49,
   "id": "2aa25407",
   "metadata": {
    "ExecuteTime": {
     "end_time": "2022-03-12T16:24:32.897536Z",
     "start_time": "2022-03-12T16:24:31.158472Z"
    },
    "hidden": true,
    "hide_input": true
   },
   "outputs": [
    {
     "data": {
      "image/png": "[encoded data removed]",
      "text/plain": [
       "<Figure size 1440x432 with 1 Axes>"
      ]
     },
     "metadata": {
      "needs_background": "light"
     },
     "output_type": "display_data"
    },
    {
     "data": {
      "image/png": "[encoded data removed]",
      "text/plain": [
       "<Figure size 1440x432 with 1 Axes>"
      ]
     },
     "metadata": {
      "needs_background": "light"
     },
     "output_type": "display_data"
    }
   ],
   "source": [
    "# complete years and with booking\n",
    "aux = df04_users[(df04_users['country_destination'] != 'NDF') & \n",
    "                  (df04_users['year_first_booking'] < df04_users['year_first_booking'].max())]\n",
    "\n",
    "# number of booking through the year and for each destination\n",
    "aux1 = aux[['year_first_booking', 'country_destination']].groupby(\n",
    "    ['year_first_booking', 'country_destination']\n",
    ").size().reset_index().rename(columns={0: 'booking_count'})\n",
    "\n",
    "# select data for marjority destinations\n",
    "aux2 = aux1[(aux1['country_destination'] == 'US') | (aux1['country_destination'] == 'other') ]\n",
    "\n",
    "aux2.pivot_table(values='booking_count', \n",
    "                 index='year_first_booking', \n",
    "                 columns='country_destination',\n",
    "                 aggfunc='sum', \n",
    "                 fill_value=0).plot(figsize=(20,6), title='Evolution of Bookings Over the Years (US and Others)');\n",
    "\n",
    "aux3 = aux1[(aux1['country_destination'] != 'US') & (aux1['country_destination'] != 'other') ]\n",
    "\n",
    "aux3.pivot_table(values='booking_count', \n",
    "                 index='year_first_booking', \n",
    "                 columns='country_destination',\n",
    "                 aggfunc='sum', \n",
    "                 fill_value=0).plot(figsize=(20,6), title='Evolution of Bookings Over the Years');"
   ]
  },
  {
   "cell_type": "markdown",
   "id": "95ba753d",
   "metadata": {},
   "source": [
    "## 4.3. Multivariate Analysis"
   ]
  },
  {
   "cell_type": "markdown",
   "id": "4edaea33",
   "metadata": {},
   "source": [
    "### 4.3.1. High Correlation Attributes"
   ]
  },
  {
   "cell_type": "markdown",
   "id": "5af60a65",
   "metadata": {
    "ExecuteTime": {
     "end_time": "2022-03-10T23:06:57.033435Z",
     "start_time": "2022-03-10T23:06:57.018438Z"
    }
   },
   "source": [
    "**Numerical Variables**\n",
    "\n",
    "diff_first_booking_account_created x diff_first_active_first_booking\n",
    "    \n",
    "    remove: diff_first_active_first_booking\n",
    "    \n",
    "year_account_created x year_first_active\n",
    "\n",
    "    remove: year_first_active\n",
    "        \n",
    "month_account_created x weekofyear_account_created\n",
    "\n",
    "    remove: weekofyear_account_created\n",
    "    \n",
    "month_account_created x month_first_active\n",
    "\n",
    "    remove: month_first_active\n",
    "\n",
    "month_account_created x weekofyear_first_active\n",
    "\n",
    "    remove: weekofyear_first_active\n",
    "    \n",
    "day_account_created x day_first_active\n",
    "\n",
    "    remove: day_first_active\n",
    "    \n",
    "dayofweek_account_created x dayofweek_first_active\n",
    "\n",
    "    remove: dayofweek_first_active\n",
    "    \n",
    "weekofyear_account_created x month_first_active\n",
    "    \n",
    "    remove: month_first_active\n",
    "\n",
    "weekofyear_account_created x weekofyear_first_active\n",
    "\n",
    "    remove: weekofyear_first_active\n",
    "    \n",
    "month_first_active x weekofyear_first_active\n",
    "\n",
    "    remove: weekofyear_first_active\n",
    "    \n",
    "month_first_booking x weekofyear_first_booking\n",
    "\n",
    "    remove: weekofyear_first_booking"
   ]
  },
  {
   "cell_type": "markdown",
   "id": "444b2eec",
   "metadata": {
    "ExecuteTime": {
     "end_time": "2022-03-10T23:06:40.953013Z",
     "start_time": "2022-03-10T23:06:40.945011Z"
    }
   },
   "source": [
    "**Categorical Variables**\n",
    "\n",
    "affiliate_channel x affiliate_provider\n",
    "\n",
    "    remove: affiliate_provider\n",
    "\n",
    "signup_app x first_device_type\n",
    "\n",
    "    remove: first_device_type\n",
    "\n",
    "first_device_type x first_browser\n",
    "\n",
    "    remove: first_browser"
   ]
  },
  {
   "cell_type": "markdown",
   "id": "13e25982",
   "metadata": {},
   "source": [
    "### 4.3.2. Manual Attributes Selection"
   ]
  },
  {
   "cell_type": "code",
   "execution_count": 39,
   "id": "db072579",
   "metadata": {
    "ExecuteTime": {
     "end_time": "2022-03-16T13:12:14.112058Z",
     "start_time": "2022-03-16T13:12:14.051990Z"
    }
   },
   "outputs": [],
   "source": [
    "# high correlation columns\n",
    "cols_correlation = ['diff_first_active_first_booking',\n",
    "                    'year_first_active',\n",
    "                    'weekofyear_account_created',\n",
    "                    'month_first_active',\n",
    "                    'weekofyear_first_active',\n",
    "                    'day_first_active',\n",
    "                    'dayofweek_first_active',\n",
    "                    'weekofyear_first_active',\n",
    "                    'weekofyear_first_booking',\n",
    "                    'affiliate_provider',\n",
    "                    'first_device_type',\n",
    "                    'first_browser']\n",
    "\n",
    "# columns with a unique value (>95%)\n",
    "cols_unique_values = ['language']\n",
    "\n",
    "# columns to be manual droped\n",
    "cols_manual_select = cols_correlation + cols_unique_values\n",
    "\n",
    "# manual select dataset\n",
    "df04_users = df04_users.drop(columns=cols_manual_select)"
   ]
  },
  {
   "cell_type": "markdown",
   "id": "868b4156",
   "metadata": {},
   "source": [
    "# 5.0. Data Preparation"
   ]
  },
  {
   "cell_type": "code",
   "execution_count": 40,
   "id": "5fcd8687",
   "metadata": {
    "ExecuteTime": {
     "end_time": "2022-03-16T13:12:15.504977Z",
     "start_time": "2022-03-16T13:12:15.476990Z"
    }
   },
   "outputs": [],
   "source": [
    "df05_users = df04_users.copy()"
   ]
  },
  {
   "cell_type": "markdown",
   "id": "f93fb59a",
   "metadata": {},
   "source": [
    "## 5.1. Balanced Dataset"
   ]
  },
  {
   "cell_type": "markdown",
   "id": "9d1a3bcf",
   "metadata": {},
   "source": [
    "### 5.1.1. Encode Categorical Features "
   ]
  },
  {
   "cell_type": "code",
   "execution_count": 41,
   "id": "beb32360",
   "metadata": {
    "ExecuteTime": {
     "end_time": "2022-03-16T13:12:16.204521Z",
     "start_time": "2022-03-16T13:12:15.507977Z"
    }
   },
   "outputs": [],
   "source": [
    "# Enconder Categorical Variables\n",
    "ohe = pp.OneHotEncoder()\n",
    "\n",
    "# Numerical\n",
    "cols_num = df05_users.select_dtypes(include=['int64', 'float64']).columns.tolist()\n",
    "\n",
    "# Categorical\n",
    "cols_cat = df05_users.select_dtypes(exclude=['int64', 'float64', 'datetime64[ns]']).drop(['id', 'country_destination'], axis=1).columns.tolist()\n",
    "\n",
    "# Datetime - not used\n",
    "cols_date = df05_users.select_dtypes(include=['datetime64[ns]']).columns.tolist()\n",
    "\n",
    "# Encoding\n",
    "df05_users_dummy =  pd.DataFrame(ohe.fit_transform(df05_users[cols_cat]).toarray(), index=df05_users.index)\n",
    "\n",
    "# Join numerical and categorical\n",
    "df05_users_encoder = pd.concat([df05_users[cols_num], df05_users_dummy], axis=1)"
   ]
  },
  {
   "cell_type": "markdown",
   "id": "96891ddf",
   "metadata": {
    "ExecuteTime": {
     "end_time": "2022-03-02T21:06:24.905759Z",
     "start_time": "2022-03-02T21:06:24.683764Z"
    }
   },
   "source": [
    "### 5.1.2. Random Undersampling"
   ]
  },
  {
   "cell_type": "code",
   "execution_count": 42,
   "id": "4a84a177",
   "metadata": {
    "ExecuteTime": {
     "end_time": "2022-03-16T13:12:17.478541Z",
     "start_time": "2022-03-16T13:12:16.210509Z"
    }
   },
   "outputs": [],
   "source": [
    "# define sampler - random under-sampling\n",
    "undersampling = us.RandomUnderSampler(sampling_strategy='not minority', random_state=32)\n",
    "\n",
    "# resample the dataset\n",
    "X_under, y_under = undersampling.fit_resample(df05_users_encoder, df05_users['country_destination'])"
   ]
  },
  {
   "cell_type": "code",
   "execution_count": 43,
   "id": "5019c1e2",
   "metadata": {
    "ExecuteTime": {
     "end_time": "2022-03-16T13:12:17.541461Z",
     "start_time": "2022-03-16T13:12:17.481539Z"
    },
    "cell_style": "split"
   },
   "outputs": [
    {
     "data": {
      "text/plain": [
       "NDF      119810\n",
       "US        60800\n",
       "other      9935\n",
       "FR         4881\n",
       "IT         2776\n",
       "GB         2285\n",
       "ES         2203\n",
       "CA         1385\n",
       "DE         1033\n",
       "NL          746\n",
       "AU          526\n",
       "PT          213\n",
       "Name: country_destination, dtype: int64"
      ]
     },
     "execution_count": 43,
     "metadata": {},
     "output_type": "execute_result"
    }
   ],
   "source": [
    "df05_users['country_destination'].value_counts()"
   ]
  },
  {
   "cell_type": "code",
   "execution_count": 44,
   "id": "4b24d374",
   "metadata": {
    "ExecuteTime": {
     "end_time": "2022-03-16T13:12:17.588997Z",
     "start_time": "2022-03-16T13:12:17.547467Z"
    },
    "cell_style": "split"
   },
   "outputs": [
    {
     "data": {
      "text/plain": [
       "NDF      213\n",
       "FR       213\n",
       "CA       213\n",
       "ES       213\n",
       "NL       213\n",
       "GB       213\n",
       "AU       213\n",
       "US       213\n",
       "other    213\n",
       "PT       213\n",
       "DE       213\n",
       "IT       213\n",
       "Name: country_destination, dtype: int64"
      ]
     },
     "execution_count": 44,
     "metadata": {},
     "output_type": "execute_result"
    }
   ],
   "source": [
    "y_under.value_counts()"
   ]
  },
  {
   "cell_type": "code",
   "execution_count": 45,
   "id": "a29c4571",
   "metadata": {
    "ExecuteTime": {
     "end_time": "2022-03-16T13:12:17.619990Z",
     "start_time": "2022-03-16T13:12:17.594014Z"
    }
   },
   "outputs": [],
   "source": [
    "# Convert Back to Original Representation\n",
    "# Numerical\n",
    "X_under_num = X_under[cols_num]\n",
    "\n",
    "# inverse transform categorical dataset \n",
    "X_under_cat = pd.DataFrame(\n",
    "    ohe.inverse_transform(X_under.drop(columns=cols_num)), columns=cols_cat, index=X_under.index\n",
    ")\n",
    "\n",
    "# join data - without id and datetime features\n",
    "df05_users_under = pd.concat([X_under_num, X_under_cat], axis=1)\n",
    "\n",
    "df05_users_under['country_destination'] = y_under"
   ]
  },
  {
   "cell_type": "code",
   "execution_count": 46,
   "id": "b7cd5ddc",
   "metadata": {
    "ExecuteTime": {
     "end_time": "2022-03-16T13:12:17.635994Z",
     "start_time": "2022-03-16T13:12:17.622995Z"
    }
   },
   "outputs": [],
   "source": [
    "# # dummy variable\n",
    "# df05_users_under_dummy = pd.get_dummies(df05_users_under.drop(['country_destination'], axis=1))\n",
    "\n",
    "# # join id and country destination\n",
    "# df05_users_under = pd.concat( [df05_users_under['country_destination'], df05_users_under_dummy], axis=1 )"
   ]
  },
  {
   "cell_type": "markdown",
   "id": "53e4a538",
   "metadata": {},
   "source": [
    "### 5.1.3. Random Oversampling"
   ]
  },
  {
   "cell_type": "code",
   "execution_count": 47,
   "id": "44993ebc",
   "metadata": {
    "ExecuteTime": {
     "end_time": "2022-03-16T13:12:24.478852Z",
     "start_time": "2022-03-16T13:12:17.639994Z"
    }
   },
   "outputs": [],
   "source": [
    "# define sampler - random over-sampling\n",
    "oversampling = osamp.RandomOverSampler(sampling_strategy='not majority', random_state=32)\n",
    "\n",
    "# resample the dataset\n",
    "X_over, y_over = oversampling.fit_resample(df05_users_encoder, df05_users['country_destination'])"
   ]
  },
  {
   "cell_type": "code",
   "execution_count": 48,
   "id": "41cda28d",
   "metadata": {
    "ExecuteTime": {
     "end_time": "2022-03-16T13:12:24.573862Z",
     "start_time": "2022-03-16T13:12:24.486857Z"
    },
    "cell_style": "split"
   },
   "outputs": [
    {
     "data": {
      "text/plain": [
       "NDF      119810\n",
       "US        60800\n",
       "other      9935\n",
       "FR         4881\n",
       "IT         2776\n",
       "GB         2285\n",
       "ES         2203\n",
       "CA         1385\n",
       "DE         1033\n",
       "NL          746\n",
       "AU          526\n",
       "PT          213\n",
       "Name: country_destination, dtype: int64"
      ]
     },
     "execution_count": 48,
     "metadata": {},
     "output_type": "execute_result"
    }
   ],
   "source": [
    "df05_users['country_destination'].value_counts()"
   ]
  },
  {
   "cell_type": "code",
   "execution_count": 49,
   "id": "536f160c",
   "metadata": {
    "ExecuteTime": {
     "end_time": "2022-03-16T13:12:24.780858Z",
     "start_time": "2022-03-16T13:12:24.578857Z"
    },
    "cell_style": "split"
   },
   "outputs": [
    {
     "data": {
      "text/plain": [
       "NDF      119810\n",
       "DE       119810\n",
       "NL       119810\n",
       "AU       119810\n",
       "FR       119810\n",
       "GB       119810\n",
       "US       119810\n",
       "CA       119810\n",
       "PT       119810\n",
       "other    119810\n",
       "IT       119810\n",
       "ES       119810\n",
       "Name: country_destination, dtype: int64"
      ]
     },
     "execution_count": 49,
     "metadata": {},
     "output_type": "execute_result"
    }
   ],
   "source": [
    "y_over.value_counts()"
   ]
  },
  {
   "cell_type": "code",
   "execution_count": 50,
   "id": "eccc971f",
   "metadata": {
    "ExecuteTime": {
     "end_time": "2022-03-16T13:12:26.125575Z",
     "start_time": "2022-03-16T13:12:24.786857Z"
    }
   },
   "outputs": [],
   "source": [
    "# Convert Back to Original Representation\n",
    "# Numerical\n",
    "X_over_num = X_over[cols_num]\n",
    "\n",
    "# inverse transform categorical dataset \n",
    "X_over_cat = pd.DataFrame(\n",
    "    ohe.inverse_transform(X_over.drop(columns=cols_num)), columns=cols_cat, index=X_over.index\n",
    ")\n",
    "\n",
    "# join data - without id and datetime features\n",
    "df05_users_over = pd.concat([X_over_num, X_over_cat], axis=1)\n",
    "\n",
    "df05_users_over['country_destination'] = y_over"
   ]
  },
  {
   "cell_type": "code",
   "execution_count": 51,
   "id": "8e95e227",
   "metadata": {
    "ExecuteTime": {
     "end_time": "2022-03-16T13:12:26.141518Z",
     "start_time": "2022-03-16T13:12:26.128524Z"
    }
   },
   "outputs": [],
   "source": [
    "# # dummy variable\n",
    "# df05_users_over_dummy = pd.get_dummies(df05_users_over.drop(['country_destination'], axis=1))\n",
    "\n",
    "# # join id and country destination\n",
    "# df05_users_over = pd.concat( [df05_users_over['country_destination'], df05_users_over_dummy], axis=1 )"
   ]
  },
  {
   "cell_type": "markdown",
   "id": "8b8c3999",
   "metadata": {},
   "source": [
    "### 5.1.4. SMOTE + TOMEKLINK"
   ]
  },
  {
   "cell_type": "code",
   "execution_count": 52,
   "id": "fe150684",
   "metadata": {
    "ExecuteTime": {
     "end_time": "2022-03-16T13:12:26.157578Z",
     "start_time": "2022-03-16T13:12:26.146521Z"
    }
   },
   "outputs": [],
   "source": [
    "# # define sampler - over-sampling using SMOTE and cleaning using Tomek links\n",
    "# combine = comb.SMOTETomek(sampling_strategy='auto', random_state=32, n_jobs=-1)\n",
    "\n",
    "# # resample the dataset\n",
    "# X_comb, y_comb = combine.fit_resample(df05_users_encoder, df05_users['country_destination'])"
   ]
  },
  {
   "cell_type": "code",
   "execution_count": 53,
   "id": "9bd88b60",
   "metadata": {
    "ExecuteTime": {
     "end_time": "2022-03-16T13:12:26.172584Z",
     "start_time": "2022-03-16T13:12:26.163524Z"
    },
    "cell_style": "split"
   },
   "outputs": [],
   "source": [
    "# df05_users['country_destination'].value_counts()"
   ]
  },
  {
   "cell_type": "code",
   "execution_count": 54,
   "id": "66b7509e",
   "metadata": {
    "ExecuteTime": {
     "end_time": "2022-03-16T13:12:26.188527Z",
     "start_time": "2022-03-16T13:12:26.177523Z"
    },
    "cell_style": "split"
   },
   "outputs": [],
   "source": [
    "# y_comb.value_counts()"
   ]
  },
  {
   "cell_type": "code",
   "execution_count": 55,
   "id": "abbeca83",
   "metadata": {
    "ExecuteTime": {
     "end_time": "2022-03-16T13:12:26.204518Z",
     "start_time": "2022-03-16T13:12:26.193549Z"
    }
   },
   "outputs": [],
   "source": [
    "# # Convert Back to Original Representation\n",
    "# # Numerical\n",
    "# X_comb_num = X_comb[cols_num]\n",
    "\n",
    "# # inverse transform categorical dataset \n",
    "# X_comb_cat = pd.DataFrame(\n",
    "#     ohe.inverse_transform(X_comb.drop(columns=cols_num)), columns=cols_cat, index=X_comb.index\n",
    "# )\n",
    "\n",
    "# # join data - without id and datetime features\n",
    "# df05_users_comb = pd.concat([X_comb_num, X_comb_cat], axis=1)\n",
    "\n",
    "# df05_users_comb['country_destination'] = y_comb"
   ]
  },
  {
   "cell_type": "code",
   "execution_count": 56,
   "id": "1618d508",
   "metadata": {
    "ExecuteTime": {
     "end_time": "2022-03-16T13:12:26.220519Z",
     "start_time": "2022-03-16T13:12:26.208527Z"
    }
   },
   "outputs": [],
   "source": [
    "# df05_users_comb.to_csv('../Datasets/data_balanced_smote_tomek.csv', index=False)"
   ]
  },
  {
   "cell_type": "code",
   "execution_count": 57,
   "id": "53e5ef72",
   "metadata": {
    "ExecuteTime": {
     "end_time": "2022-03-16T13:12:26.236518Z",
     "start_time": "2022-03-16T13:12:26.224539Z"
    }
   },
   "outputs": [],
   "source": [
    "# # dummy variable\n",
    "# df05_users_comb_dummy = pd.get_dummies(df05_users_comb.drop(['country_destination'], axis=1))\n",
    "\n",
    "# # join id and country destination\n",
    "# df05_users_comb = pd.concat( [df05_users_comb['country_destination'], df05_users_comb_dummy], axis=1 )"
   ]
  },
  {
   "cell_type": "code",
   "execution_count": 58,
   "id": "cf91442e",
   "metadata": {
    "ExecuteTime": {
     "end_time": "2022-03-16T13:12:31.161794Z",
     "start_time": "2022-03-16T13:12:26.240520Z"
    }
   },
   "outputs": [],
   "source": [
    "df05_users_comb = pd.read_csv('../Datasets/data_balanced_smote_tomek.csv')"
   ]
  },
  {
   "cell_type": "code",
   "execution_count": 59,
   "id": "1fb78bd0",
   "metadata": {
    "ExecuteTime": {
     "end_time": "2022-03-16T13:12:31.465797Z",
     "start_time": "2022-03-16T13:12:31.164798Z"
    }
   },
   "outputs": [],
   "source": [
    "df05_users_comb = df05_users_comb.drop(columns=cols_manual_select)"
   ]
  },
  {
   "cell_type": "markdown",
   "id": "04c973ad",
   "metadata": {},
   "source": [
    "## 5.2. Encoding"
   ]
  },
  {
   "cell_type": "code",
   "execution_count": 60,
   "id": "de4d23a4",
   "metadata": {
    "ExecuteTime": {
     "end_time": "2022-03-16T13:12:31.687229Z",
     "start_time": "2022-03-16T13:12:31.469800Z"
    }
   },
   "outputs": [
    {
     "data": {
      "text/plain": [
       "id                         object\n",
       "gender                     object\n",
       "signup_method              object\n",
       "affiliate_channel          object\n",
       "first_affiliate_tracked    object\n",
       "signup_app                 object\n",
       "country_destination        object\n",
       "dtype: object"
      ]
     },
     "execution_count": 60,
     "metadata": {},
     "output_type": "execute_result"
    }
   ],
   "source": [
    "df05_users.select_dtypes(exclude=['int64', 'float64']).dtypes"
   ]
  },
  {
   "cell_type": "code",
   "execution_count": 61,
   "id": "3b3a65f5",
   "metadata": {
    "ExecuteTime": {
     "end_time": "2022-03-16T13:12:31.703228Z",
     "start_time": "2022-03-16T13:12:31.691232Z"
    }
   },
   "outputs": [],
   "source": [
    "te = TargetEncoder()"
   ]
  },
  {
   "cell_type": "markdown",
   "id": "e7c2aefe",
   "metadata": {},
   "source": [
    "### 5.2.1. Imbalanced Data"
   ]
  },
  {
   "cell_type": "code",
   "execution_count": 62,
   "id": "4d2c6abd",
   "metadata": {
    "ExecuteTime": {
     "end_time": "2022-03-16T13:12:33.084104Z",
     "start_time": "2022-03-16T13:12:31.709233Z"
    }
   },
   "outputs": [],
   "source": [
    "# gender - One Hot Encoder\n",
    "df05_users = pd.get_dummies(df05_users, prefix=['gender'], columns=['gender'])\n",
    "\n",
    "# signup_method - One Hot Enconder\n",
    "df05_users = pd.get_dummies(df05_users, prefix=['signup_method'], columns=['signup_method'])\n",
    "\n",
    "# signup_app - One Hot Encoder\n",
    "df05_users = pd.get_dummies(df05_users, prefix=['signup_app'], columns=['signup_app'])\n",
    "\n",
    "# affiliate_channel - Target Encoder\n",
    "c = {'NDF': 0, 'US': 1, 'other': 2, 'CA': 3, 'FR': 4, 'ES': 5, 'GB': 6, 'IT': 7, 'PT': 8, 'NL': 9, 'DE':10, 'AU': 11}\n",
    "df05_users['affiliate_channel'] = te.fit_transform(df05_users[['affiliate_channel']].values, \n",
    "                                                   df05_users['country_destination'].map(c))\n",
    "\n",
    "# first_affiliate_tracked - Target Encoder\n",
    "df05_users['first_affiliate_tracked'] = te.fit_transform(df05_users[['first_affiliate_tracked']].values, \n",
    "                                                         df05_users['country_destination'].map(c))"
   ]
  },
  {
   "cell_type": "code",
   "execution_count": 63,
   "id": "74af9ee8",
   "metadata": {
    "ExecuteTime": {
     "end_time": "2022-03-16T13:12:33.100105Z",
     "start_time": "2022-03-16T13:12:33.087108Z"
    }
   },
   "outputs": [],
   "source": [
    "# # language\n",
    "# df05_users['first_affiliate_tracked'] = te.fit_transform(df05_users[['first_affiliate_tracked']].values, \n",
    "#                                                          df05_users['country_destination'].map(c))\n",
    "\n",
    "# # affiliate_provider\n",
    "\n",
    "\n",
    "# # first_device_type\n",
    "\n",
    "\n",
    "# # first_browser\n",
    "\n"
   ]
  },
  {
   "cell_type": "markdown",
   "id": "47c6d110",
   "metadata": {},
   "source": [
    "### 5.2.2. Random Undersampling"
   ]
  },
  {
   "cell_type": "code",
   "execution_count": 64,
   "id": "7cda738b",
   "metadata": {
    "ExecuteTime": {
     "end_time": "2022-03-16T13:12:33.321084Z",
     "start_time": "2022-03-16T13:12:33.104105Z"
    }
   },
   "outputs": [],
   "source": [
    "# gender - One Hot Encoder\n",
    "df05_users_under = pd.get_dummies(df05_users_under, prefix=['gender'], columns=['gender'])\n",
    "\n",
    "# signup_method - One Hot Enconder\n",
    "df05_users_under = pd.get_dummies(df05_users_under, prefix=['signup_method'], columns=['signup_method'])\n",
    "\n",
    "# signup_app - One Hot Encoder\n",
    "df05_users_under = pd.get_dummies(df05_users_under, prefix=['signup_app'], columns=['signup_app'])\n",
    "\n",
    "# affiliate_channel - Target Encoder\n",
    "c = {'NDF': 0, 'US': 1, 'other': 2, 'CA': 3, 'FR': 4, 'ES': 5, 'GB': 6, 'IT': 7, 'PT': 8, 'NL': 9, 'DE':10, 'AU': 11}\n",
    "df05_users_under['affiliate_channel'] = te.fit_transform(df05_users_under[['affiliate_channel']].values, \n",
    "                                                         df05_users_under['country_destination'].map(c))\n",
    "\n",
    "# first_affiliate_tracked - Target Encoder\n",
    "df05_users_under['first_affiliate_tracked'] = te.fit_transform(df05_users_under[['first_affiliate_tracked']].values, \n",
    "                                                               df05_users_under['country_destination'].map(c))"
   ]
  },
  {
   "cell_type": "markdown",
   "id": "8fb1ad2a",
   "metadata": {},
   "source": [
    "### 5.2.3. Random Oversampling"
   ]
  },
  {
   "cell_type": "code",
   "execution_count": 65,
   "id": "15c09120",
   "metadata": {
    "ExecuteTime": {
     "end_time": "2022-03-16T13:12:39.404213Z",
     "start_time": "2022-03-16T13:12:33.323083Z"
    }
   },
   "outputs": [],
   "source": [
    "# gender - One Hot Encoder\n",
    "df05_users_over = pd.get_dummies(df05_users_over, prefix=['gender'], columns=['gender'])\n",
    "\n",
    "# signup_method - One Hot Enconder\n",
    "df05_users_over = pd.get_dummies(df05_users_over, prefix=['signup_method'], columns=['signup_method'])\n",
    "\n",
    "# signup_app - One Hot Encoder\n",
    "df05_users_over = pd.get_dummies(df05_users_over, prefix=['signup_app'], columns=['signup_app'])\n",
    "\n",
    "# affiliate_channel - Target Encoder\n",
    "c = {'NDF': 0, 'US': 1, 'other': 2, 'CA': 3, 'FR': 4, 'ES': 5, 'GB': 6, 'IT': 7, 'PT': 8, 'NL': 9, 'DE':10, 'AU': 11}\n",
    "df05_users_over['affiliate_channel'] = te.fit_transform(df05_users_over[['affiliate_channel']].values, \n",
    "                                                        df05_users_over['country_destination'].map(c))\n",
    "\n",
    "# first_affiliate_tracked - Target Encoder\n",
    "df05_users_over['first_affiliate_tracked'] = te.fit_transform(df05_users_over[['first_affiliate_tracked']].values, \n",
    "                                                              df05_users_over['country_destination'].map(c))"
   ]
  },
  {
   "cell_type": "markdown",
   "id": "ba5db8ed",
   "metadata": {},
   "source": [
    "### 5.2.4. SMOTE + TOMEKLINK"
   ]
  },
  {
   "cell_type": "code",
   "execution_count": 66,
   "id": "3bcd4851",
   "metadata": {
    "ExecuteTime": {
     "end_time": "2022-03-16T13:12:44.939928Z",
     "start_time": "2022-03-16T13:12:39.406891Z"
    }
   },
   "outputs": [],
   "source": [
    "# gender - One Hot Encoder\n",
    "df05_users_comb = pd.get_dummies(df05_users_comb, prefix=['gender'], columns=['gender'])\n",
    "\n",
    "# signup_method - One Hot Enconder\n",
    "df05_users_comb = pd.get_dummies(df05_users_comb, prefix=['signup_method'], columns=['signup_method'])\n",
    "\n",
    "# signup_app - One Hot Encoder\n",
    "df05_users_comb = pd.get_dummies(df05_users_comb, prefix=['signup_app'], columns=['signup_app'])\n",
    "\n",
    "# affiliate_channel - Target Encoder\n",
    "c = {'NDF': 0, 'US': 1, 'other': 2, 'CA': 3, 'FR': 4, 'ES': 5, 'GB': 6, 'IT': 7, 'PT': 8, 'NL': 9, 'DE':10, 'AU': 11}\n",
    "df05_users_comb['affiliate_channel'] = te.fit_transform(df05_users_comb[['affiliate_channel']].values, \n",
    "                                                        df05_users_comb['country_destination'].map(c))\n",
    "\n",
    "# first_affiliate_tracked - Target Encoder\n",
    "df05_users_comb['first_affiliate_tracked'] = te.fit_transform(df05_users_comb[['first_affiliate_tracked']].values, \n",
    "                                                              df05_users_comb['country_destination'].map(c))"
   ]
  },
  {
   "cell_type": "markdown",
   "id": "213337d6",
   "metadata": {},
   "source": [
    "## 5.3. Rescaling"
   ]
  },
  {
   "cell_type": "code",
   "execution_count": 67,
   "id": "510dde52",
   "metadata": {
    "ExecuteTime": {
     "end_time": "2022-03-16T13:12:44.986058Z",
     "start_time": "2022-03-16T13:12:44.943884Z"
    }
   },
   "outputs": [
    {
     "data": {
      "text/plain": [
       "age                                     int64\n",
       "signup_flow                             int64\n",
       "affiliate_channel                     float64\n",
       "first_affiliate_tracked               float64\n",
       "diff_account_created_first_active       int64\n",
       "diff_first_booking_account_created      int64\n",
       "year_account_created                    int64\n",
       "month_account_created                   int64\n",
       "day_account_created                     int64\n",
       "dayofweek_account_created               int64\n",
       "year_first_booking                      int64\n",
       "month_first_booking                     int64\n",
       "day_first_booking                       int64\n",
       "dayofweek_first_booking                 int64\n",
       "dtype: object"
      ]
     },
     "execution_count": 67,
     "metadata": {},
     "output_type": "execute_result"
    }
   ],
   "source": [
    "df05_users.select_dtypes(include=['int64', 'float64']).dtypes"
   ]
  },
  {
   "cell_type": "code",
   "execution_count": 68,
   "id": "9bc7b72e",
   "metadata": {
    "ExecuteTime": {
     "end_time": "2022-03-16T13:12:45.050018Z",
     "start_time": "2022-03-16T13:12:44.989018Z"
    }
   },
   "outputs": [],
   "source": [
    "ss = pp.StandardScaler()\n",
    "\n",
    "rs = pp.RobustScaler()\n",
    "\n",
    "mms = pp.MinMaxScaler()"
   ]
  },
  {
   "cell_type": "markdown",
   "id": "fe66d51f",
   "metadata": {},
   "source": [
    "### 5.3.1. Imbalanced Data"
   ]
  },
  {
   "cell_type": "code",
   "execution_count": 69,
   "id": "3b40432a",
   "metadata": {
    "ExecuteTime": {
     "end_time": "2022-03-16T13:12:45.382022Z",
     "start_time": "2022-03-16T13:12:45.086022Z"
    }
   },
   "outputs": [],
   "source": [
    "# age - Standardization\n",
    "df05_users['age'] = ss.fit_transform(df05_users[['age']].values)\n",
    "\n",
    "# signup_flow - Robust Scaler\n",
    "df05_users['signup_flow'] = rs.fit_transform(df05_users[['signup_flow']].values)\n",
    "\n",
    "# diff_account_created_first_active - Robust Scaler\n",
    "df05_users['diff_account_created_first_active'] = rs.fit_transform(df05_users[['diff_account_created_first_active']].values)\n",
    "\n",
    "# diff_first_booking_account_created -Robust Scaler\n",
    "df05_users['diff_first_booking_account_created'] = rs.fit_transform(df05_users[['diff_first_booking_account_created']].values)\n",
    "\n",
    "# year_account_created - Min-Max-Scaler\n",
    "df05_users['year_account_created'] = mms.fit_transform(df05_users[['year_account_created']].values)\n",
    "\n",
    "# year_first_booking\n",
    "df05_users['year_first_booking'] = mms.fit_transform(df05_users[['year_first_booking']].values)"
   ]
  },
  {
   "cell_type": "markdown",
   "id": "bd64f0eb",
   "metadata": {},
   "source": [
    "### 5.3.2. Random Undersampling"
   ]
  },
  {
   "cell_type": "code",
   "execution_count": 70,
   "id": "4e228695",
   "metadata": {
    "ExecuteTime": {
     "end_time": "2022-03-16T13:12:45.430022Z",
     "start_time": "2022-03-16T13:12:45.386029Z"
    }
   },
   "outputs": [],
   "source": [
    "# age - Standardization\n",
    "df05_users_under['age'] = ss.fit_transform(df05_users_under[['age']].values)\n",
    "\n",
    "# signup_flow - Robust Scaler\n",
    "df05_users_under['signup_flow'] = rs.fit_transform(df05_users_under[['signup_flow']].values)\n",
    "\n",
    "# diff_account_created_first_active - Robust Scaler\n",
    "df05_users_under['diff_account_created_first_active'] = rs.fit_transform(df05_users_under[['diff_account_created_first_active']].values)\n",
    "\n",
    "# diff_first_booking_account_created -Robust Scaler\n",
    "df05_users_under['diff_first_booking_account_created'] = rs.fit_transform(df05_users_under[['diff_first_booking_account_created']].values)\n",
    "\n",
    "# year_account_created - Min-Max-Scaler\n",
    "df05_users_under['year_account_created'] = mms.fit_transform(df05_users_under[['year_account_created']].values)\n",
    "\n",
    "# year_first_booking\n",
    "df05_users_under['year_first_booking'] = mms.fit_transform(df05_users_under[['year_first_booking']].values)"
   ]
  },
  {
   "cell_type": "markdown",
   "id": "73c69dc8",
   "metadata": {},
   "source": [
    "### 5.3.3. Random Oversampling"
   ]
  },
  {
   "cell_type": "code",
   "execution_count": 71,
   "id": "49f8e06b",
   "metadata": {
    "ExecuteTime": {
     "end_time": "2022-03-16T13:12:46.425953Z",
     "start_time": "2022-03-16T13:12:45.435020Z"
    }
   },
   "outputs": [],
   "source": [
    "# age - Standardization\n",
    "df05_users_over['age'] = ss.fit_transform(df05_users_over[['age']].values)\n",
    "\n",
    "# signup_flow - Robust Scaler\n",
    "df05_users_over['signup_flow'] = rs.fit_transform(df05_users_over[['signup_flow']].values)\n",
    "\n",
    "# diff_account_created_first_active - Robust Scaler\n",
    "df05_users_over['diff_account_created_first_active'] = rs.fit_transform(df05_users_over[['diff_account_created_first_active']].values)\n",
    "\n",
    "# diff_first_booking_account_created -Robust Scaler\n",
    "df05_users_over['diff_first_booking_account_created'] = rs.fit_transform(df05_users_over[['diff_first_booking_account_created']].values)\n",
    "\n",
    "# year_account_created - Min-Max-Scaler\n",
    "df05_users_over['year_account_created'] = mms.fit_transform(df05_users_over[['year_account_created']].values)\n",
    "\n",
    "# year_first_booking\n",
    "df05_users_over['year_first_booking'] = mms.fit_transform(df05_users_over[['year_first_booking']].values)"
   ]
  },
  {
   "cell_type": "markdown",
   "id": "2480f5c2",
   "metadata": {},
   "source": [
    "### 5.3.4. SMOTE + TOMEKLINK"
   ]
  },
  {
   "cell_type": "code",
   "execution_count": 72,
   "id": "cd0c7f51",
   "metadata": {
    "ExecuteTime": {
     "end_time": "2022-03-16T13:12:47.550885Z",
     "start_time": "2022-03-16T13:12:46.428702Z"
    }
   },
   "outputs": [],
   "source": [
    "# age - Standardization\n",
    "df05_users_comb['age'] = ss.fit_transform(df05_users_comb[['age']].values)\n",
    "\n",
    "# signup_flow - Robust Scaler\n",
    "df05_users_comb['signup_flow'] = rs.fit_transform(df05_users_comb[['signup_flow']].values)\n",
    "\n",
    "# diff_account_created_first_active - Robust Scaler\n",
    "df05_users_comb['diff_account_created_first_active'] = rs.fit_transform(df05_users_comb[['diff_account_created_first_active']].values)\n",
    "\n",
    "# diff_first_booking_account_created -Robust Scaler\n",
    "df05_users_comb['diff_first_booking_account_created'] = rs.fit_transform(df05_users_comb[['diff_first_booking_account_created']].values)\n",
    "\n",
    "# year_account_created - Min-Max-Scaler\n",
    "df05_users_comb['year_account_created'] = mms.fit_transform(df05_users_comb[['year_account_created']].values)\n",
    "\n",
    "# year_first_booking\n",
    "df05_users_comb['year_first_booking'] = mms.fit_transform(df05_users_comb[['year_first_booking']].values)"
   ]
  },
  {
   "cell_type": "markdown",
   "id": "f2b386f7",
   "metadata": {},
   "source": [
    "## 5.4. Transformation"
   ]
  },
  {
   "cell_type": "markdown",
   "id": "8145af8c",
   "metadata": {},
   "source": [
    "### 5.4.1. Imbalanced Data"
   ]
  },
  {
   "cell_type": "code",
   "execution_count": 73,
   "id": "017adcfc",
   "metadata": {
    "ExecuteTime": {
     "end_time": "2022-03-16T13:12:51.223354Z",
     "start_time": "2022-03-16T13:12:47.562642Z"
    }
   },
   "outputs": [],
   "source": [
    "# month_account_created\n",
    "df05_users['month_account_created_sin'] = df05_users['month_account_created'].apply(lambda x: np.sin(x*(2*np.pi/52)))\n",
    "df05_users['month_account_created_cos'] = df05_users['month_account_created'].apply(lambda x: np.sin(x*(2*np.pi/52)))\n",
    "\n",
    "# day_account_created\n",
    "df05_users['day_account_created_sin'] = df05_users['day_account_created'].apply(lambda x: np.sin(x*(2*np.pi/31)))\n",
    "df05_users['day_account_created_cos'] = df05_users['day_account_created'].apply(lambda x: np.sin(x*(2*np.pi/31)))\n",
    "\n",
    "# dayofweek_account_created\n",
    "df05_users['dayofweek_account_created_sin'] = df05_users['dayofweek_account_created'].apply(lambda x: np.sin(x*(2*np.pi/7)))\n",
    "df05_users['dayofweek_account_created_cos'] = df05_users['dayofweek_account_created'].apply(lambda x: np.sin(x*(2*np.pi/7)))\n",
    "\n",
    "# month_first_booking\n",
    "df05_users['month_first_booking_sin'] = df05_users['month_first_booking'].apply(lambda x: np.sin(x*(2*np.pi/12)))\n",
    "df05_users['month_first_booking_cos'] = df05_users['month_first_booking'].apply(lambda x: np.sin(x*(2*np.pi/12)))\n",
    "\n",
    "# day_first_booking\n",
    "df05_users['day_first_booking_sin'] = df05_users['day_first_booking'].apply(lambda x: np.sin(x*(2*np.pi/31)))\n",
    "df05_users['day_first_booking_cos'] = df05_users['day_first_booking'].apply(lambda x: np.sin(x*(2*np.pi/31)))\n",
    "\n",
    "# dayofweek_first_booking\n",
    "df05_users['dayofweek_first_booking_sin'] = df05_users['dayofweek_first_booking'].apply(lambda x: np.sin(x*(2*np.pi/7)))\n",
    "df05_users['dayofweek_first_booking_cos'] = df05_users['dayofweek_first_booking'].apply(lambda x: np.sin(x*(2*np.pi/7)))"
   ]
  },
  {
   "cell_type": "code",
   "execution_count": 74,
   "id": "3e637bcf",
   "metadata": {
    "ExecuteTime": {
     "end_time": "2022-03-16T13:12:51.318685Z",
     "start_time": "2022-03-16T13:12:51.227364Z"
    }
   },
   "outputs": [],
   "source": [
    "cols_transform = ['month_account_created', 'day_account_created', 'dayofweek_account_created', \n",
    "                  'month_first_booking', 'day_first_booking', 'dayofweek_first_booking']\n",
    "\n",
    "df05_users = df05_users.drop(columns=cols_transform)"
   ]
  },
  {
   "cell_type": "markdown",
   "id": "e2734aba",
   "metadata": {},
   "source": [
    "### 5.4.2. Random Undersampling"
   ]
  },
  {
   "cell_type": "code",
   "execution_count": 75,
   "id": "55a8cc4f",
   "metadata": {
    "ExecuteTime": {
     "end_time": "2022-03-16T13:12:51.428999Z",
     "start_time": "2022-03-16T13:12:51.322408Z"
    }
   },
   "outputs": [],
   "source": [
    "# month_account_created\n",
    "df05_users_under['month_account_created_sin'] = df05_users_under['month_account_created'].apply(lambda x: np.sin(x*(2*np.pi/52)))\n",
    "df05_users_under['month_account_created_cos'] = df05_users_under['month_account_created'].apply(lambda x: np.sin(x*(2*np.pi/52)))\n",
    "\n",
    "# day_account_created\n",
    "df05_users_under['day_account_created_sin'] = df05_users_under['day_account_created'].apply(lambda x: np.sin(x*(2*np.pi/31)))\n",
    "df05_users_under['day_account_created_cos'] = df05_users_under['day_account_created'].apply(lambda x: np.sin(x*(2*np.pi/31)))\n",
    "\n",
    "# dayofweek_account_created\n",
    "df05_users_under['dayofweek_account_created_sin'] = df05_users_under['dayofweek_account_created'].apply(lambda x: np.sin(x*(2*np.pi/7)))\n",
    "df05_users_under['dayofweek_account_created_cos'] = df05_users_under['dayofweek_account_created'].apply(lambda x: np.sin(x*(2*np.pi/7)))\n",
    "\n",
    "# month_first_booking\n",
    "df05_users_under['month_first_booking_sin'] = df05_users_under['month_first_booking'].apply(lambda x: np.sin(x*(2*np.pi/12)))\n",
    "df05_users_under['month_first_booking_cos'] = df05_users_under['month_first_booking'].apply(lambda x: np.sin(x*(2*np.pi/12)))\n",
    "\n",
    "# day_first_booking\n",
    "df05_users_under['day_first_booking_sin'] = df05_users_under['day_first_booking'].apply(lambda x: np.sin(x*(2*np.pi/31)))\n",
    "df05_users_under['day_first_booking_cos'] = df05_users_under['day_first_booking'].apply(lambda x: np.sin(x*(2*np.pi/31)))\n",
    "\n",
    "# dayofweek_first_booking\n",
    "df05_users_under['dayofweek_first_booking_sin'] = df05_users_under['dayofweek_first_booking'].apply(lambda x: np.sin(x*(2*np.pi/7)))\n",
    "df05_users_under['dayofweek_first_booking_cos'] = df05_users_under['dayofweek_first_booking'].apply(lambda x: np.sin(x*(2*np.pi/7)))"
   ]
  },
  {
   "cell_type": "code",
   "execution_count": 76,
   "id": "66eadfab",
   "metadata": {
    "ExecuteTime": {
     "end_time": "2022-03-16T13:12:51.445080Z",
     "start_time": "2022-03-16T13:12:51.433021Z"
    }
   },
   "outputs": [],
   "source": [
    "cols_transform = ['month_account_created', 'day_account_created', 'dayofweek_account_created', \n",
    "                  'month_first_booking', 'day_first_booking', 'dayofweek_first_booking']\n",
    "\n",
    "df05_users_under = df05_users_under.drop(columns=cols_transform)"
   ]
  },
  {
   "cell_type": "markdown",
   "id": "e6293ec1",
   "metadata": {},
   "source": [
    "### 5.4.3. Random Oversampling"
   ]
  },
  {
   "cell_type": "code",
   "execution_count": 77,
   "id": "ff93f18c",
   "metadata": {
    "ExecuteTime": {
     "end_time": "2022-03-16T13:13:19.098647Z",
     "start_time": "2022-03-16T13:12:51.448080Z"
    }
   },
   "outputs": [],
   "source": [
    "# month_account_created\n",
    "df05_users_over['month_account_created_sin'] = df05_users_over['month_account_created'].apply(lambda x: np.sin(x*(2*np.pi/52)))\n",
    "df05_users_over['month_account_created_cos'] = df05_users_over['month_account_created'].apply(lambda x: np.sin(x*(2*np.pi/52)))\n",
    "\n",
    "# day_account_created\n",
    "df05_users_over['day_account_created_sin'] = df05_users_over['day_account_created'].apply(lambda x: np.sin(x*(2*np.pi/31)))\n",
    "df05_users_over['day_account_created_cos'] = df05_users_over['day_account_created'].apply(lambda x: np.sin(x*(2*np.pi/31)))\n",
    "\n",
    "# dayofweek_account_created\n",
    "df05_users_over['dayofweek_account_created_sin'] = df05_users_over['dayofweek_account_created'].apply(lambda x: np.sin(x*(2*np.pi/7)))\n",
    "df05_users_over['dayofweek_account_created_cos'] = df05_users_over['dayofweek_account_created'].apply(lambda x: np.sin(x*(2*np.pi/7)))\n",
    "\n",
    "# month_first_booking\n",
    "df05_users_over['month_first_booking_sin'] = df05_users_over['month_first_booking'].apply(lambda x: np.sin(x*(2*np.pi/12)))\n",
    "df05_users_over['month_first_booking_cos'] = df05_users_over['month_first_booking'].apply(lambda x: np.sin(x*(2*np.pi/12)))\n",
    "\n",
    "# day_first_booking\n",
    "df05_users_over['day_first_booking_sin'] = df05_users_over['day_first_booking'].apply(lambda x: np.sin(x*(2*np.pi/31)))\n",
    "df05_users_over['day_first_booking_cos'] = df05_users_over['day_first_booking'].apply(lambda x: np.sin(x*(2*np.pi/31)))\n",
    "\n",
    "# dayofweek_first_booking\n",
    "df05_users_over['dayofweek_first_booking_sin'] = df05_users_over['dayofweek_first_booking'].apply(lambda x: np.sin(x*(2*np.pi/7)))\n",
    "df05_users_over['dayofweek_first_booking_cos'] = df05_users_over['dayofweek_first_booking'].apply(lambda x: np.sin(x*(2*np.pi/7)))"
   ]
  },
  {
   "cell_type": "code",
   "execution_count": 78,
   "id": "fe655e23",
   "metadata": {
    "ExecuteTime": {
     "end_time": "2022-03-16T13:13:19.654647Z",
     "start_time": "2022-03-16T13:13:19.102651Z"
    }
   },
   "outputs": [],
   "source": [
    "cols_transform = ['month_account_created', 'day_account_created', 'dayofweek_account_created', \n",
    "                  'month_first_booking', 'day_first_booking', 'dayofweek_first_booking']\n",
    "\n",
    "df05_users_over = df05_users_over.drop(columns=cols_transform)"
   ]
  },
  {
   "cell_type": "markdown",
   "id": "857c8edd",
   "metadata": {},
   "source": [
    "### 5.4.4. SMOTE + TOMEKLINK"
   ]
  },
  {
   "cell_type": "code",
   "execution_count": 79,
   "id": "d17f9c68",
   "metadata": {
    "ExecuteTime": {
     "end_time": "2022-03-16T13:13:44.925320Z",
     "start_time": "2022-03-16T13:13:19.658650Z"
    }
   },
   "outputs": [],
   "source": [
    "# month_account_created\n",
    "df05_users_comb['month_account_created_sin'] = df05_users_comb['month_account_created'].apply(lambda x: np.sin(x*(2*np.pi/52)))\n",
    "df05_users_comb['month_account_created_cos'] = df05_users_comb['month_account_created'].apply(lambda x: np.sin(x*(2*np.pi/52)))\n",
    "\n",
    "# day_account_created\n",
    "df05_users_comb['day_account_created_sin'] = df05_users_comb['day_account_created'].apply(lambda x: np.sin(x*(2*np.pi/31)))\n",
    "df05_users_comb['day_account_created_cos'] = df05_users_comb['day_account_created'].apply(lambda x: np.sin(x*(2*np.pi/31)))\n",
    "\n",
    "# dayofweek_account_created\n",
    "df05_users_comb['dayofweek_account_created_sin'] = df05_users_comb['dayofweek_account_created'].apply(lambda x: np.sin(x*(2*np.pi/7)))\n",
    "df05_users_comb['dayofweek_account_created_cos'] = df05_users_comb['dayofweek_account_created'].apply(lambda x: np.sin(x*(2*np.pi/7)))\n",
    "\n",
    "# month_first_booking\n",
    "df05_users_comb['month_first_booking_sin'] = df05_users_comb['month_first_booking'].apply(lambda x: np.sin(x*(2*np.pi/12)))\n",
    "df05_users_comb['month_first_booking_cos'] = df05_users_comb['month_first_booking'].apply(lambda x: np.sin(x*(2*np.pi/12)))\n",
    "\n",
    "# day_first_booking\n",
    "df05_users_comb['day_first_booking_sin'] = df05_users_comb['day_first_booking'].apply(lambda x: np.sin(x*(2*np.pi/31)))\n",
    "df05_users_comb['day_first_booking_cos'] = df05_users_comb['day_first_booking'].apply(lambda x: np.sin(x*(2*np.pi/31)))\n",
    "\n",
    "# dayofweek_first_booking\n",
    "df05_users_comb['dayofweek_first_booking_sin'] = df05_users_comb['dayofweek_first_booking'].apply(lambda x: np.sin(x*(2*np.pi/7)))\n",
    "df05_users_comb['dayofweek_first_booking_cos'] = df05_users_comb['dayofweek_first_booking'].apply(lambda x: np.sin(x*(2*np.pi/7)))"
   ]
  },
  {
   "cell_type": "code",
   "execution_count": 80,
   "id": "e4edd80a",
   "metadata": {
    "ExecuteTime": {
     "end_time": "2022-03-16T13:13:45.400952Z",
     "start_time": "2022-03-16T13:13:44.928329Z"
    }
   },
   "outputs": [],
   "source": [
    "cols_transform = ['month_account_created', 'day_account_created', 'dayofweek_account_created', \n",
    "                  'month_first_booking', 'day_first_booking', 'dayofweek_first_booking']\n",
    "\n",
    "df05_users_comb = df05_users_comb.drop(columns=cols_transform)"
   ]
  },
  {
   "cell_type": "markdown",
   "id": "56417dc6",
   "metadata": {},
   "source": [
    "# 6.0. Feature Selection"
   ]
  },
  {
   "cell_type": "code",
   "execution_count": 81,
   "id": "924a6eec",
   "metadata": {
    "ExecuteTime": {
     "end_time": "2022-03-16T13:13:45.686956Z",
     "start_time": "2022-03-16T13:13:45.402793Z"
    }
   },
   "outputs": [],
   "source": [
    "df06_users = df05_users.copy()\n",
    "\n",
    "df06_users_under = df05_users_under.copy()\n",
    "df06_users_over = df05_users_over.copy()\n",
    "df06_users_comb = df05_users_comb.copy()"
   ]
  },
  {
   "cell_type": "code",
   "execution_count": null,
   "id": "f6cdfe83",
   "metadata": {},
   "outputs": [],
   "source": [
    "# 6.1. Manual Select - Exploratory Data Anaysis"
   ]
  },
  {
   "cell_type": "markdown",
   "id": "eddfceb2",
   "metadata": {},
   "source": [
    "## 6.1. Split Dataframe into Training and Test Dataset"
   ]
  },
  {
   "cell_type": "code",
   "execution_count": 82,
   "id": "c4bc27ff",
   "metadata": {
    "ExecuteTime": {
     "end_time": "2022-03-16T13:13:46.068311Z",
     "start_time": "2022-03-16T13:13:45.690386Z"
    }
   },
   "outputs": [],
   "source": [
    "# training dataset\n",
    "X = df06_users.drop(['id', 'country_destination'], axis=1 )\n",
    "X_under = df06_users_under.drop( 'country_destination', axis=1 )\n",
    "X_over = df06_users_over.drop( 'country_destination', axis=1 )\n",
    "X_comb = df06_users_comb.drop( 'country_destination', axis=1 )\n",
    "\n",
    "#  training response dataset\n",
    "y = df06_users['country_destination']\n",
    "y_under = df06_users_under['country_destination']\n",
    "y_over = df06_users_over['country_destination']\n",
    "y_comb = df06_users_comb['country_destination']"
   ]
  },
  {
   "cell_type": "code",
   "execution_count": 83,
   "id": "2526e910",
   "metadata": {
    "ExecuteTime": {
     "end_time": "2022-03-16T13:13:48.621879Z",
     "start_time": "2022-03-16T13:13:46.072316Z"
    }
   },
   "outputs": [],
   "source": [
    "# Split dataset into training and test (validation)\n",
    "X_train, X_test, y_train, y_test = ms.train_test_split(X, y, test_size=0.2, random_state=32)\n",
    "\n",
    "X_train_under, X_test_under, y_train_under, y_test_under = ms.train_test_split(X_under, y_under, test_size=0.2, random_state=32)\n",
    "\n",
    "X_train_over, X_test_over, y_train_over, y_test_over = ms.train_test_split(X_over, y_over, test_size=0.2, random_state=32)\n",
    "\n",
    "X_train_comb, X_test_comb, y_train_comb, y_test_comb = ms.train_test_split(X_comb, y_comb, test_size=0.2, random_state=32)"
   ]
  },
  {
   "cell_type": "markdown",
   "id": "887bfbd3",
   "metadata": {},
   "source": [
    "## 6.2. Boruta as Feature Selector"
   ]
  },
  {
   "cell_type": "code",
   "execution_count": 84,
   "id": "1d4cef84",
   "metadata": {
    "ExecuteTime": {
     "end_time": "2022-03-16T13:13:48.717882Z",
     "start_time": "2022-03-16T13:13:48.697886Z"
    }
   },
   "outputs": [],
   "source": [
    "# from boruta import BorutaPy"
   ]
  },
  {
   "cell_type": "code",
   "execution_count": 85,
   "id": "0ad01a49",
   "metadata": {
    "ExecuteTime": {
     "end_time": "2022-03-16T13:13:48.829591Z",
     "start_time": "2022-03-16T13:13:48.722884Z"
    }
   },
   "outputs": [],
   "source": [
    "# # prepare dataset for Boruta\n",
    "# X_train_n = X_train.values\n",
    "# y_train_n = y_train.values.ravel()\n",
    "\n",
    "# # define Random Forest Regressor\n",
    "# rf = RandomForestRegressor( n_jobs=-1 )\n",
    "\n",
    "# # define Boruta\n",
    "# boruta = BorutaPy(rf, n_estimators='auto', verbose=2, random_state=42).fit(X_train_n, y_train_n)"
   ]
  },
  {
   "cell_type": "markdown",
   "id": "975647a2",
   "metadata": {},
   "source": [
    "### 6.2.1. Best Feature from Boruta"
   ]
  },
  {
   "cell_type": "code",
   "execution_count": 86,
   "id": "a7c56b1d",
   "metadata": {
    "ExecuteTime": {
     "end_time": "2022-03-16T13:13:48.845397Z",
     "start_time": "2022-03-16T13:13:48.833338Z"
    }
   },
   "outputs": [],
   "source": [
    "# cols_selected = boruta.support_.tolist()\n",
    "\n",
    "# # best features\n",
    "# cols_selected_boruta = X_train.iloc[:, cols_selected].columns.to_list()\n",
    "\n",
    "# # check weak features\n",
    "# cols_selected_weak = boruta.support_weak_.tolist()\n",
    "\n",
    "# # not selected features\n",
    "# cols_not_selected_boruta = list(np.setdiff1d(X_train.columns, cols_selected_boruta))"
   ]
  },
  {
   "cell_type": "code",
   "execution_count": 87,
   "id": "40c800c9",
   "metadata": {
    "ExecuteTime": {
     "end_time": "2022-03-16T13:13:48.861397Z",
     "start_time": "2022-03-16T13:13:48.850499Z"
    }
   },
   "outputs": [],
   "source": [
    "# cols_selected_boruta"
   ]
  },
  {
   "cell_type": "code",
   "execution_count": 88,
   "id": "9656adf5",
   "metadata": {
    "ExecuteTime": {
     "end_time": "2022-03-16T13:13:48.877398Z",
     "start_time": "2022-03-16T13:13:48.865398Z"
    }
   },
   "outputs": [],
   "source": [
    "# cols_selected_weak"
   ]
  },
  {
   "cell_type": "code",
   "execution_count": 89,
   "id": "ce0cfa38",
   "metadata": {
    "ExecuteTime": {
     "end_time": "2022-03-16T13:13:48.892927Z",
     "start_time": "2022-03-16T13:13:48.881951Z"
    }
   },
   "outputs": [],
   "source": [
    "# cols_not_selected_boruta"
   ]
  },
  {
   "cell_type": "markdown",
   "id": "484d5b9b",
   "metadata": {},
   "source": [
    "### 6.2.2. Attributes Selection as Boruta"
   ]
  },
  {
   "cell_type": "code",
   "execution_count": 90,
   "id": "488b21b3",
   "metadata": {
    "ExecuteTime": {
     "end_time": "2022-03-16T13:13:48.907923Z",
     "start_time": "2022-03-16T13:13:48.896925Z"
    }
   },
   "outputs": [],
   "source": [
    "# # training dataset\n",
    "# X_train = X_train[cols_selected_boruta].copy()\n",
    "# X_test = X_test[cols_selected_boruta].copy()\n",
    "\n",
    "# X_train_under = X_train_under[cols_selected_boruta].copy()\n",
    "# X_test_under = X_test_under[cols_selected_boruta].copy()\n",
    "\n",
    "# X_train_over = X_train_over[cols_selected_boruta].copy()\n",
    "# X_test_over = X_test_over[cols_selected_boruta].copy()\n",
    "\n",
    "# X_train_comb = X_train_comb[cols_selected_boruta].copy()\n",
    "# X_test_comb = X_test_comb[cols_selected_boruta].copy()"
   ]
  },
  {
   "cell_type": "markdown",
   "id": "ae5ea57c",
   "metadata": {},
   "source": [
    "### 6.2.3. Split Dataframe into Training and Test Dataset"
   ]
  },
  {
   "cell_type": "code",
   "execution_count": null,
   "id": "31026401",
   "metadata": {},
   "outputs": [],
   "source": []
  },
  {
   "cell_type": "code",
   "execution_count": null,
   "id": "0275b3a0",
   "metadata": {},
   "outputs": [],
   "source": [
    "## 6.3. Split Dataframe into Training and Test Dataset"
   ]
  },
  {
   "cell_type": "markdown",
   "id": "c9ee0881",
   "metadata": {},
   "source": [
    "# 7.0. Machine Learing Model"
   ]
  },
  {
   "cell_type": "code",
   "execution_count": 91,
   "id": "b9dfd8fe",
   "metadata": {
    "ExecuteTime": {
     "end_time": "2022-03-16T13:13:48.939928Z",
     "start_time": "2022-03-16T13:13:48.913925Z"
    }
   },
   "outputs": [],
   "source": [
    "x_train = X_train\n",
    "x_test = X_test\n",
    "\n",
    "x_train_under = X_train_under\n",
    "x_test_under = X_test_under\n",
    "\n",
    "x_train_over = X_train_over\n",
    "x_test_over = X_test_over\n",
    "\n",
    "x_train_comb = X_train_comb\n",
    "x_test_comb = X_test_comb"
   ]
  },
  {
   "cell_type": "markdown",
   "id": "b3107f01",
   "metadata": {},
   "source": [
    "## 7.1. Baseline Model - Random"
   ]
  },
  {
   "cell_type": "code",
   "execution_count": 92,
   "id": "c5ee811a",
   "metadata": {
    "ExecuteTime": {
     "end_time": "2022-03-16T13:13:49.019932Z",
     "start_time": "2022-03-16T13:13:48.942925Z"
    }
   },
   "outputs": [],
   "source": [
    "country_list = df06_users['country_destination'].drop_duplicates().sort_values().tolist()\n",
    "\n",
    "k_num = y_test.shape[0]\n",
    "\n",
    "country_weights = df06_users['country_destination'].value_counts(normalize=True).sort_index().tolist()\n",
    "\n",
    "yhat_random = random.choices(population=country_list,\n",
    "                             weights=country_weights,\n",
    "                             k=k_num)"
   ]
  },
  {
   "cell_type": "markdown",
   "id": "1645a305",
   "metadata": {},
   "source": [
    "### 7.1.1. Baseline Model - Performance"
   ]
  },
  {
   "cell_type": "code",
   "execution_count": 101,
   "id": "d032e4c1",
   "metadata": {
    "ExecuteTime": {
     "end_time": "2022-03-16T15:41:39.478803Z",
     "start_time": "2022-03-16T15:41:36.848113Z"
    }
   },
   "outputs": [
    {
     "name": "stdout",
     "output_type": "stream",
     "text": [
      "Accuracy 0.4278419129214163\n",
      "Balanced Accuracy: 0.08409503404413103\n",
      "Kappa Score: 0.0012361871666447533\n",
      "              precision    recall  f1-score   support\n",
      "\n",
      "          AU       0.00      0.00      0.00       101\n",
      "          CA       0.01      0.01      0.01       265\n",
      "          DE       0.01      0.01      0.01       234\n",
      "          ES       0.01      0.01      0.01       385\n",
      "          FR       0.02      0.02      0.02       971\n",
      "          GB       0.02      0.02      0.02       457\n",
      "          IT       0.01      0.01      0.01       553\n",
      "         NDF       0.58      0.58      0.58     23927\n",
      "          NL       0.00      0.00      0.00       143\n",
      "          PT       0.00      0.00      0.00        54\n",
      "          US       0.30      0.30      0.30     12249\n",
      "       other       0.06      0.05      0.06      1980\n",
      "\n",
      "    accuracy                           0.43     41319\n",
      "   macro avg       0.08      0.08      0.08     41319\n",
      "weighted avg       0.43      0.43      0.43     41319\n",
      "\n"
     ]
    },
    {
     "data": {
      "image/png": "[encoded data removed]",
      "text/plain": [
       "<Figure size 864x864 with 2 Axes>"
      ]
     },
     "metadata": {
      "needs_background": "light"
     },
     "output_type": "display_data"
    }
   ],
   "source": [
    "# Accuracy\n",
    "acc_random = m.accuracy_score( y_test, yhat_random )\n",
    "print(f'Accuracy {acc_random}')\n",
    "\n",
    "# Balanced Accuracy\n",
    "balanced_acc_random = m.balanced_accuracy_score(y_test, yhat_random)\n",
    "print(f'Balanced Accuracy: {balanced_acc_random}')\n",
    "\n",
    "# Kappa Metrics\n",
    "kappa_random = m.cohen_kappa_score(y_test, yhat_random)\n",
    "print(f'Kappa Score: {kappa_random}')\n",
    "\n",
    "# Classification report\n",
    "print(m.classification_report(y_test, yhat_random))\n",
    "\n",
    "# Confusion Matrix\n",
    "mt.plot_confusion_matrix(y_test, yhat_random, normalize=False, figsize=(12,12));"
   ]
  },
  {
   "cell_type": "markdown",
   "id": "74175f4b",
   "metadata": {},
   "source": [
    "## 7.2. Neural Network - MLP"
   ]
  },
  {
   "cell_type": "markdown",
   "id": "ff93f528",
   "metadata": {},
   "source": [
    "### 7.2.1. Neural Network - Imbalanced Data"
   ]
  },
  {
   "cell_type": "code",
   "execution_count": 93,
   "id": "32ea2c9d",
   "metadata": {
    "ExecuteTime": {
     "end_time": "2022-03-16T13:13:49.099852Z",
     "start_time": "2022-03-16T13:13:49.024929Z"
    }
   },
   "outputs": [],
   "source": [
    "ohe = pp.OneHotEncoder()\n",
    "\n",
    "y_train_nn = ohe.fit_transform(y_train.values.reshape(-1, 1)).toarray()"
   ]
  },
  {
   "cell_type": "code",
   "execution_count": 94,
   "id": "ffbcef93",
   "metadata": {
    "ExecuteTime": {
     "end_time": "2022-03-16T13:25:28.067071Z",
     "start_time": "2022-03-16T13:13:49.103378Z"
    }
   },
   "outputs": [
    {
     "name": "stdout",
     "output_type": "stream",
     "text": [
      "Epoch 1/100\n",
      "5165/5165 [==============================] - 8s 2ms/step - loss: 0.5448 - accuracy: 0.8665\n",
      "Epoch 2/100\n",
      "5165/5165 [==============================] - 7s 1ms/step - loss: 0.5108 - accuracy: 0.8734\n",
      "Epoch 3/100\n",
      "5165/5165 [==============================] - 7s 1ms/step - loss: 0.5053 - accuracy: 0.8735\n",
      "Epoch 4/100\n",
      "5165/5165 [==============================] - 6s 1ms/step - loss: 0.5001 - accuracy: 0.8736\n",
      "Epoch 5/100\n",
      "5165/5165 [==============================] - 8s 2ms/step - loss: 0.5011 - accuracy: 0.8736\n",
      "Epoch 6/100\n",
      "5165/5165 [==============================] - 7s 1ms/step - loss: 0.4989 - accuracy: 0.8737\n",
      "Epoch 7/100\n",
      "5165/5165 [==============================] - 7s 1ms/step - loss: 0.4992 - accuracy: 0.8736\n",
      "Epoch 8/100\n",
      "5165/5165 [==============================] - 6s 1ms/step - loss: 0.4974 - accuracy: 0.8736\n",
      "Epoch 9/100\n",
      "5165/5165 [==============================] - 8s 2ms/step - loss: 0.4954 - accuracy: 0.8737\n",
      "Epoch 10/100\n",
      "5165/5165 [==============================] - 7s 1ms/step - loss: 0.4956 - accuracy: 0.8737\n",
      "Epoch 11/100\n",
      "5165/5165 [==============================] - 7s 1ms/step - loss: 0.4967 - accuracy: 0.8737\n",
      "Epoch 12/100\n",
      "5165/5165 [==============================] - 8s 2ms/step - loss: 0.4928 - accuracy: 0.8737\n",
      "Epoch 13/100\n",
      "5165/5165 [==============================] - 8s 2ms/step - loss: 0.4955 - accuracy: 0.8737\n",
      "Epoch 14/100\n",
      "5165/5165 [==============================] - 8s 2ms/step - loss: 0.4912 - accuracy: 0.8737\n",
      "Epoch 15/100\n",
      "5165/5165 [==============================] - 8s 2ms/step - loss: 0.4911 - accuracy: 0.8737\n",
      "Epoch 16/100\n",
      "5165/5165 [==============================] - 9s 2ms/step - loss: 0.4910 - accuracy: 0.8737\n",
      "Epoch 17/100\n",
      "5165/5165 [==============================] - 7s 1ms/step - loss: 0.4916 - accuracy: 0.8737\n",
      "Epoch 18/100\n",
      "5165/5165 [==============================] - 7s 1ms/step - loss: 0.4898 - accuracy: 0.8737\n",
      "Epoch 19/100\n",
      "5165/5165 [==============================] - 8s 2ms/step - loss: 0.4886 - accuracy: 0.8737\n",
      "Epoch 20/100\n",
      "5165/5165 [==============================] - 8s 2ms/step - loss: 0.4925 - accuracy: 0.8737\n",
      "Epoch 21/100\n",
      "5165/5165 [==============================] - 8s 1ms/step - loss: 0.4967 - accuracy: 0.8737: 1s - loss: 0.4961 - accura - - ETA: 0s - los\n",
      "Epoch 22/100\n",
      "5165/5165 [==============================] - 7s 1ms/step - loss: 0.4893 - accuracy: 0.8737\n",
      "Epoch 23/100\n",
      "5165/5165 [==============================] - 6s 1ms/step - loss: 0.4906 - accuracy: 0.8737\n",
      "Epoch 24/100\n",
      "5165/5165 [==============================] - 7s 1ms/step - loss: 0.4890 - accuracy: 0.8738\n",
      "Epoch 25/100\n",
      "5165/5165 [==============================] - 9s 2ms/step - loss: 0.4871 - accuracy: 0.8738\n",
      "Epoch 26/100\n",
      "5165/5165 [==============================] - 9s 2ms/step - loss: 0.4932 - accuracy: 0.8737\n",
      "Epoch 27/100\n",
      "5165/5165 [==============================] - 8s 1ms/step - loss: 0.4881 - accuracy: 0.8738\n",
      "Epoch 28/100\n",
      "5165/5165 [==============================] - 7s 1ms/step - loss: 0.4842 - accuracy: 0.8737\n",
      "Epoch 29/100\n",
      "5165/5165 [==============================] - 6s 1ms/step - loss: 0.4871 - accuracy: 0.8737\n",
      "Epoch 30/100\n",
      "5165/5165 [==============================] - 8s 2ms/step - loss: 0.4850 - accuracy: 0.8737: 1s - - ETA: 0s - loss:\n",
      "Epoch 31/100\n",
      "5165/5165 [==============================] - 7s 1ms/step - loss: 0.4895 - accuracy: 0.8737\n",
      "Epoch 32/100\n",
      "5165/5165 [==============================] - 9s 2ms/step - loss: 0.4896 - accuracy: 0.8737: 0s - loss: 0.4907 \n",
      "Epoch 33/100\n",
      "5165/5165 [==============================] - 8s 1ms/step - loss: 0.4902 - accuracy: 0.8738\n",
      "Epoch 34/100\n",
      "5165/5165 [==============================] - 7s 1ms/step - loss: 0.4867 - accuracy: 0.8738: 0s - loss: 0.485 - ETA: 0s - loss:\n",
      "Epoch 35/100\n",
      "5165/5165 [==============================] - 6s 1ms/step - loss: 0.4920 - accuracy: 0.8737\n",
      "Epoch 36/100\n",
      "5165/5165 [==============================] - 8s 1ms/step - loss: 0.4873 - accuracy: 0.8737\n",
      "Epoch 37/100\n",
      "5165/5165 [==============================] - 8s 2ms/step - loss: 0.4877 - accuracy: 0.8737\n",
      "Epoch 38/100\n",
      "5165/5165 [==============================] - 7s 1ms/step - loss: 0.4891 - accuracy: 0.8737\n",
      "Epoch 39/100\n",
      "5165/5165 [==============================] - 7s 1ms/step - loss: 0.4875 - accuracy: 0.8738\n",
      "Epoch 40/100\n",
      "5165/5165 [==============================] - 7s 1ms/step - loss: 0.4911 - accuracy: 0.8737\n",
      "Epoch 41/100\n",
      "5165/5165 [==============================] - 6s 1ms/step - loss: 0.4867 - accuracy: 0.8737\n",
      "Epoch 42/100\n",
      "5165/5165 [==============================] - 8s 1ms/step - loss: 0.4873 - accuracy: 0.8738\n",
      "Epoch 43/100\n",
      "5165/5165 [==============================] - 9s 2ms/step - loss: 0.4850 - accuracy: 0.8738\n",
      "Epoch 44/100\n",
      "5165/5165 [==============================] - 8s 1ms/step - loss: 0.4883 - accuracy: 0.8737\n",
      "Epoch 45/100\n",
      "5165/5165 [==============================] - 8s 2ms/step - loss: 0.4849 - accuracy: 0.8737\n",
      "Epoch 46/100\n",
      "5165/5165 [==============================] - 7s 1ms/step - loss: 0.4889 - accuracy: 0.8737\n",
      "Epoch 47/100\n",
      "5165/5165 [==============================] - 7s 1ms/step - loss: 0.4826 - accuracy: 0.8738\n",
      "Epoch 48/100\n",
      "5165/5165 [==============================] - 9s 2ms/step - loss: 0.4855 - accuracy: 0.8737\n",
      "Epoch 49/100\n",
      "5165/5165 [==============================] - 9s 2ms/step - loss: 0.4868 - accuracy: 0.8738\n",
      "Epoch 50/100\n",
      "5165/5165 [==============================] - 7s 1ms/step - loss: 0.4858 - accuracy: 0.8737: 0s - loss: 0.4856 - \n",
      "Epoch 51/100\n",
      "5165/5165 [==============================] - 10s 2ms/step - loss: 0.4870 - accuracy: 0.8737\n",
      "Epoch 52/100\n",
      "5165/5165 [==============================] - 9s 2ms/step - loss: 0.4828 - accuracy: 0.8737\n",
      "Epoch 53/100\n",
      "5165/5165 [==============================] - 7s 1ms/step - loss: 0.4852 - accuracy: 0.8737: 2s - los\n",
      "Epoch 54/100\n",
      "5165/5165 [==============================] - 6s 1ms/step - loss: 0.4857 - accuracy: 0.8738\n",
      "Epoch 55/100\n",
      "5165/5165 [==============================] - 6s 1ms/step - loss: 0.4845 - accuracy: 0.8738\n",
      "Epoch 56/100\n",
      "5165/5165 [==============================] - 6s 1ms/step - loss: 0.4846 - accuracy: 0.8738\n",
      "Epoch 57/100\n",
      "5165/5165 [==============================] - 8s 1ms/step - loss: 0.4798 - accuracy: 0.8738\n",
      "Epoch 58/100\n",
      "5165/5165 [==============================] - 6s 1ms/step - loss: 0.4832 - accuracy: 0.8737\n",
      "Epoch 59/100\n",
      "5165/5165 [==============================] - ETA: 0s - loss: 0.4845 - accuracy: 0.8738 ETA: 0s - loss: 0.4849 - ac - 6s 1ms/step - loss: 0.4846 - accuracy: 0.8737\n",
      "Epoch 60/100\n",
      "5165/5165 [==============================] - 5s 973us/step - loss: 0.4840 - accuracy: 0.8738\n",
      "Epoch 61/100\n",
      "5165/5165 [==============================] - 9s 2ms/step - loss: 0.4862 - accuracy: 0.8737\n",
      "Epoch 62/100\n",
      "5165/5165 [==============================] - 8s 1ms/step - loss: 0.4824 - accuracy: 0.8738: 0s - loss: 0.4 - ETA: 0s - loss: 0.4825 - accuracy\n",
      "Epoch 63/100\n",
      "5165/5165 [==============================] - 8s 2ms/step - loss: 0.4801 - accuracy: 0.8738: 1s -\n",
      "Epoch 64/100\n",
      "5165/5165 [==============================] - 6s 1ms/step - loss: 0.4831 - accuracy: 0.8738\n",
      "Epoch 65/100\n",
      "5165/5165 [==============================] - 5s 1ms/step - loss: 0.4796 - accuracy: 0.8738\n",
      "Epoch 66/100\n",
      "5165/5165 [==============================] - 5s 984us/step - loss: 0.4848 - accuracy: 0.8738\n",
      "Epoch 67/100\n",
      "5165/5165 [==============================] - 5s 920us/step - loss: 0.4832 - accuracy: 0.8738\n",
      "Epoch 68/100\n",
      "5165/5165 [==============================] - 5s 921us/step - loss: 0.4812 - accuracy: 0.8737\n",
      "Epoch 69/100\n",
      "5165/5165 [==============================] - 5s 1ms/step - loss: 0.4868 - accuracy: 0.8737: \n",
      "Epoch 70/100\n",
      "5165/5165 [==============================] - 5s 923us/step - loss: 0.4836 - accuracy: 0.8738\n",
      "Epoch 71/100\n",
      "5165/5165 [==============================] - 5s 940us/step - loss: 0.4847 - accuracy: 0.8737\n",
      "Epoch 72/100\n",
      "5165/5165 [==============================] - 6s 1ms/step - loss: 0.4890 - accuracy: 0.8738\n",
      "Epoch 73/100\n",
      "5165/5165 [==============================] - 7s 1ms/step - loss: 0.4837 - accuracy: 0.8738\n",
      "Epoch 74/100\n",
      "5165/5165 [==============================] - 6s 1ms/step - loss: 0.4897 - accuracy: 0.8738\n",
      "Epoch 75/100\n",
      "5165/5165 [==============================] - 6s 1ms/step - loss: 0.4874 - accuracy: 0.8739: 0s - loss: 0.4883 - accuracy: 0. - ETA: 0s - loss: 0.4881 - \n",
      "Epoch 76/100\n"
     ]
    },
    {
     "name": "stdout",
     "output_type": "stream",
     "text": [
      "5165/5165 [==============================] - 6s 1ms/step - loss: 0.4854 - accuracy: 0.8738\n",
      "Epoch 77/100\n",
      "5165/5165 [==============================] - 7s 1ms/step - loss: 0.4845 - accuracy: 0.8738\n",
      "Epoch 78/100\n",
      "5165/5165 [==============================] - 5s 942us/step - loss: 0.4933 - accuracy: 0.8738\n",
      "Epoch 79/100\n",
      "5165/5165 [==============================] - 5s 911us/step - loss: 0.4835 - accuracy: 0.8738\n",
      "Epoch 80/100\n",
      "5165/5165 [==============================] - 5s 1ms/step - loss: 0.4852 - accuracy: 0.8738\n",
      "Epoch 81/100\n",
      "5165/5165 [==============================] - 5s 1ms/step - loss: 0.4794 - accuracy: 0.8738\n",
      "Epoch 82/100\n",
      "5165/5165 [==============================] - 5s 923us/step - loss: 0.4899 - accuracy: 0.8738\n",
      "Epoch 83/100\n",
      "5165/5165 [==============================] - 5s 992us/step - loss: 0.4814 - accuracy: 0.8738\n",
      "Epoch 84/100\n",
      "5165/5165 [==============================] - 5s 949us/step - loss: 0.4867 - accuracy: 0.8738\n",
      "Epoch 85/100\n",
      "5165/5165 [==============================] - 5s 1ms/step - loss: 0.4916 - accuracy: 0.8738\n",
      "Epoch 86/100\n",
      "5165/5165 [==============================] - 5s 1ms/step - loss: 0.4840 - accuracy: 0.8737\n",
      "Epoch 87/100\n",
      "5165/5165 [==============================] - 8s 2ms/step - loss: 0.4811 - accuracy: 0.8738\n",
      "Epoch 88/100\n",
      "5165/5165 [==============================] - 7s 1ms/step - loss: 0.4807 - accuracy: 0.8738\n",
      "Epoch 89/100\n",
      "5165/5165 [==============================] - 6s 1ms/step - loss: 0.4830 - accuracy: 0.8738: 0s - los\n",
      "Epoch 90/100\n",
      "5165/5165 [==============================] - 6s 1ms/step - loss: 0.4802 - accuracy: 0.8738\n",
      "Epoch 91/100\n",
      "5165/5165 [==============================] - 6s 1ms/step - loss: 0.4806 - accuracy: 0.8738\n",
      "Epoch 92/100\n",
      "5165/5165 [==============================] - 6s 1ms/step - loss: 0.4837 - accuracy: 0.8738\n",
      "Epoch 93/100\n",
      "5165/5165 [==============================] - 6s 1ms/step - loss: 0.4831 - accuracy: 0.8738\n",
      "Epoch 94/100\n",
      "5165/5165 [==============================] - 6s 1ms/step - loss: 0.4823 - accuracy: 0.8738\n",
      "Epoch 95/100\n",
      "5165/5165 [==============================] - 6s 1ms/step - loss: 0.4858 - accuracy: 0.8738\n",
      "Epoch 96/100\n",
      "5165/5165 [==============================] - 6s 1ms/step - loss: 0.4831 - accuracy: 0.8739\n",
      "Epoch 97/100\n",
      "5165/5165 [==============================] - 6s 1ms/step - loss: 0.4830 - accuracy: 0.8738\n",
      "Epoch 98/100\n",
      "5165/5165 [==============================] - 5s 1ms/step - loss: 0.4853 - accuracy: 0.8738\n",
      "Epoch 99/100\n",
      "5165/5165 [==============================] - 6s 1ms/step - loss: 0.4873 - accuracy: 0.8737\n",
      "Epoch 100/100\n",
      "5165/5165 [==============================] - 6s 1ms/step - loss: 0.4825 - accuracy: 0.8738\n"
     ]
    },
    {
     "data": {
      "text/plain": [
       "<tensorflow.python.keras.callbacks.History at 0x15c08231070>"
      ]
     },
     "execution_count": 94,
     "metadata": {},
     "output_type": "execute_result"
    }
   ],
   "source": [
    "# model definition\n",
    "model = ml.Sequential()\n",
    "model.add( l.Dense(128, input_dim=x_train.shape[1], activation='relu') )\n",
    "model.add( l.Dense(12, activation='softmax') )\n",
    "\n",
    "# model compile\n",
    "model.compile(loss='categorical_crossentropy', optimizer='adam', metrics=['accuracy'])\n",
    "\n",
    "# train model\n",
    "model.fit(x_train, y_train_nn, epochs=100)"
   ]
  },
  {
   "cell_type": "markdown",
   "id": "ef2f813d",
   "metadata": {},
   "source": [
    "#### 7.2.1.1 Imbalanced Data - Performance"
   ]
  },
  {
   "cell_type": "code",
   "execution_count": 102,
   "id": "ff13f804",
   "metadata": {
    "ExecuteTime": {
     "end_time": "2022-03-16T15:41:44.019902Z",
     "start_time": "2022-03-16T15:41:39.482803Z"
    }
   },
   "outputs": [],
   "source": [
    "# prediction\n",
    "pred_nn = model.predict(x_test)\n",
    "\n",
    "# invert prediction\n",
    "yhat_nn = ohe.inverse_transform(pred_nn)\n",
    "\n",
    "# test dataset prepare with real results\n",
    "y_test_nn = y_test.to_numpy()\n",
    "yhat_nn = yhat_nn.reshape(1, -1)[0]"
   ]
  },
  {
   "cell_type": "code",
   "execution_count": 103,
   "id": "62ccb1e9",
   "metadata": {
    "ExecuteTime": {
     "end_time": "2022-03-16T15:41:44.099869Z",
     "start_time": "2022-03-16T15:41:44.022898Z"
    }
   },
   "outputs": [
    {
     "data": {
      "text/plain": [
       "NDF      0.579104\n",
       "US       0.420606\n",
       "other    0.000169\n",
       "IT       0.000097\n",
       "NL       0.000024\n",
       "dtype: float64"
      ]
     },
     "execution_count": 103,
     "metadata": {},
     "output_type": "execute_result"
    }
   ],
   "source": [
    "# check balanced results\n",
    "pd.DataFrame(yhat_nn).value_counts(normalize=True)"
   ]
  },
  {
   "cell_type": "code",
   "execution_count": 104,
   "id": "29f2d40c",
   "metadata": {
    "ExecuteTime": {
     "end_time": "2022-03-16T15:41:46.605475Z",
     "start_time": "2022-03-16T15:41:44.102525Z"
    }
   },
   "outputs": [
    {
     "name": "stdout",
     "output_type": "stream",
     "text": [
      "Accuracy: 0.8751179844623539\n",
      "Balanced Accuracy: 0.16656097234889475\n",
      "Kappa Score: 0.7687176029607274\n",
      "              precision    recall  f1-score   support\n",
      "\n",
      "          AU       0.00      0.00      0.00       101\n",
      "          CA       0.00      0.00      0.00       265\n",
      "          DE       0.00      0.00      0.00       234\n",
      "          ES       0.00      0.00      0.00       385\n",
      "          FR       0.00      0.00      0.00       971\n",
      "          GB       0.00      0.00      0.00       457\n",
      "          IT       0.00      0.00      0.00       553\n",
      "         NDF       1.00      1.00      1.00     23927\n",
      "          NL       0.00      0.00      0.00       143\n",
      "          PT       0.00      0.00      0.00        54\n",
      "          US       0.70      1.00      0.83     12249\n",
      "       other       0.00      0.00      0.00      1980\n",
      "\n",
      "    accuracy                           0.88     41319\n",
      "   macro avg       0.14      0.17      0.15     41319\n",
      "weighted avg       0.79      0.88      0.82     41319\n",
      "\n"
     ]
    },
    {
     "data": {
      "image/png": "[encoded data removed]",
      "text/plain": [
       "<Figure size 864x864 with 2 Axes>"
      ]
     },
     "metadata": {
      "needs_background": "light"
     },
     "output_type": "display_data"
    }
   ],
   "source": [
    "# Accuracy\n",
    "acc_nn = m.accuracy_score( y_test_nn, yhat_nn )\n",
    "print(f'Accuracy: {acc_nn}')\n",
    "\n",
    "# Balanced Accuracy\n",
    "balanced_acc_nn = m.balanced_accuracy_score(y_test_nn, yhat_nn)\n",
    "print(f'Balanced Accuracy: {balanced_acc_nn}')\n",
    "\n",
    "# Kappa Metrics\n",
    "kappa_nn = m.cohen_kappa_score(y_test_nn, yhat_nn)\n",
    "print(f'Kappa Score: {kappa_nn}')\n",
    "\n",
    "# Classification report\n",
    "print(m.classification_report(y_test_nn, yhat_nn))\n",
    "\n",
    "# Confusion Matrix\n",
    "mt.plot_confusion_matrix( y_test_nn, yhat_nn, normalize=False, figsize=(12,12));"
   ]
  },
  {
   "cell_type": "markdown",
   "id": "30a8d813",
   "metadata": {},
   "source": [
    "### 7.2.2. Neural Network - Random Undersampling"
   ]
  },
  {
   "cell_type": "code",
   "execution_count": 95,
   "id": "c837ddfc",
   "metadata": {
    "ExecuteTime": {
     "end_time": "2022-03-16T13:25:28.083037Z",
     "start_time": "2022-03-16T13:25:28.073036Z"
    }
   },
   "outputs": [],
   "source": [
    "ohe_under = pp.OneHotEncoder()\n",
    "\n",
    "y_train_under_nn = ohe_under.fit_transform(y_train_under.values.reshape(-1, 1)).toarray()"
   ]
  },
  {
   "cell_type": "code",
   "execution_count": 96,
   "id": "fa3d36ec",
   "metadata": {
    "ExecuteTime": {
     "end_time": "2022-03-16T13:25:40.847746Z",
     "start_time": "2022-03-16T13:25:28.086036Z"
    },
    "scrolled": true
   },
   "outputs": [
    {
     "name": "stdout",
     "output_type": "stream",
     "text": [
      "Epoch 1/100\n",
      "64/64 [==============================] - 0s 1ms/step - loss: 2.4758 - accuracy: 0.1380\n",
      "Epoch 2/100\n",
      "64/64 [==============================] - 0s 1ms/step - loss: 2.2638 - accuracy: 0.1844\n",
      "Epoch 3/100\n",
      "64/64 [==============================] - 0s 2ms/step - loss: 2.2352 - accuracy: 0.1791\n",
      "Epoch 4/100\n",
      "64/64 [==============================] - 0s 2ms/step - loss: 2.2185 - accuracy: 0.1981\n",
      "Epoch 5/100\n",
      "64/64 [==============================] - 0s 1ms/step - loss: 2.2081 - accuracy: 0.1825\n",
      "Epoch 6/100\n",
      "64/64 [==============================] - 0s 1ms/step - loss: 2.1984 - accuracy: 0.1825\n",
      "Epoch 7/100\n",
      "64/64 [==============================] - 0s 2ms/step - loss: 2.1839 - accuracy: 0.1947\n",
      "Epoch 8/100\n",
      "64/64 [==============================] - 0s 1ms/step - loss: 2.1785 - accuracy: 0.2089\n",
      "Epoch 9/100\n",
      "64/64 [==============================] - 0s 1ms/step - loss: 2.1748 - accuracy: 0.2109\n",
      "Epoch 10/100\n",
      "64/64 [==============================] - 0s 1ms/step - loss: 2.1660 - accuracy: 0.2153\n",
      "Epoch 11/100\n",
      "64/64 [==============================] - 0s 1ms/step - loss: 2.1585 - accuracy: 0.2285\n",
      "Epoch 12/100\n",
      "64/64 [==============================] - 0s 1ms/step - loss: 2.1526 - accuracy: 0.2309\n",
      "Epoch 13/100\n",
      "64/64 [==============================] - 0s 1ms/step - loss: 2.1445 - accuracy: 0.2231\n",
      "Epoch 14/100\n",
      "64/64 [==============================] - 0s 1ms/step - loss: 2.1382 - accuracy: 0.2343\n",
      "Epoch 15/100\n",
      "64/64 [==============================] - 0s 1ms/step - loss: 2.1334 - accuracy: 0.2343\n",
      "Epoch 16/100\n",
      "64/64 [==============================] - 0s 1ms/step - loss: 2.1277 - accuracy: 0.2402\n",
      "Epoch 17/100\n",
      "64/64 [==============================] - 0s 1ms/step - loss: 2.1187 - accuracy: 0.2544\n",
      "Epoch 18/100\n",
      "64/64 [==============================] - 0s 1ms/step - loss: 2.1211 - accuracy: 0.2339\n",
      "Epoch 19/100\n",
      "64/64 [==============================] - 0s 1ms/step - loss: 2.1153 - accuracy: 0.2441\n",
      "Epoch 20/100\n",
      "64/64 [==============================] - 0s 1ms/step - loss: 2.1049 - accuracy: 0.2495\n",
      "Epoch 21/100\n",
      "64/64 [==============================] - 0s 1ms/step - loss: 2.1028 - accuracy: 0.2432\n",
      "Epoch 22/100\n",
      "64/64 [==============================] - 0s 1ms/step - loss: 2.0921 - accuracy: 0.2608\n",
      "Epoch 23/100\n",
      "64/64 [==============================] - 0s 1ms/step - loss: 2.0917 - accuracy: 0.2593\n",
      "Epoch 24/100\n",
      "64/64 [==============================] - 0s 1ms/step - loss: 2.0886 - accuracy: 0.2666\n",
      "Epoch 25/100\n",
      "64/64 [==============================] - 0s 1ms/step - loss: 2.0838 - accuracy: 0.2676\n",
      "Epoch 26/100\n",
      "64/64 [==============================] - 0s 1ms/step - loss: 2.0746 - accuracy: 0.2715\n",
      "Epoch 27/100\n",
      "64/64 [==============================] - 0s 1ms/step - loss: 2.0688 - accuracy: 0.2686\n",
      "Epoch 28/100\n",
      "64/64 [==============================] - 0s 1ms/step - loss: 2.0640 - accuracy: 0.2735\n",
      "Epoch 29/100\n",
      "64/64 [==============================] - 0s 1ms/step - loss: 2.0606 - accuracy: 0.2730\n",
      "Epoch 30/100\n",
      "64/64 [==============================] - 0s 1ms/step - loss: 2.0567 - accuracy: 0.2803\n",
      "Epoch 31/100\n",
      "64/64 [==============================] - 0s 1ms/step - loss: 2.0477 - accuracy: 0.2764\n",
      "Epoch 32/100\n",
      "64/64 [==============================] - 0s 2ms/step - loss: 2.0443 - accuracy: 0.2891\n",
      "Epoch 33/100\n",
      "64/64 [==============================] - 0s 1ms/step - loss: 2.0391 - accuracy: 0.2842\n",
      "Epoch 34/100\n",
      "64/64 [==============================] - 0s 1ms/step - loss: 2.0375 - accuracy: 0.2764\n",
      "Epoch 35/100\n",
      "64/64 [==============================] - 0s 1ms/step - loss: 2.0268 - accuracy: 0.2867\n",
      "Epoch 36/100\n",
      "64/64 [==============================] - 0s 1ms/step - loss: 2.0282 - accuracy: 0.2750\n",
      "Epoch 37/100\n",
      "64/64 [==============================] - 0s 2ms/step - loss: 2.0213 - accuracy: 0.3014\n",
      "Epoch 38/100\n",
      "64/64 [==============================] - 0s 1ms/step - loss: 2.0134 - accuracy: 0.2852\n",
      "Epoch 39/100\n",
      "64/64 [==============================] - 0s 2ms/step - loss: 2.0140 - accuracy: 0.3023\n",
      "Epoch 40/100\n",
      "64/64 [==============================] - 0s 1ms/step - loss: 2.0093 - accuracy: 0.2965\n",
      "Epoch 41/100\n",
      "64/64 [==============================] - 0s 1ms/step - loss: 2.0030 - accuracy: 0.2882\n",
      "Epoch 42/100\n",
      "64/64 [==============================] - 0s 2ms/step - loss: 2.0034 - accuracy: 0.2955\n",
      "Epoch 43/100\n",
      "64/64 [==============================] - 0s 2ms/step - loss: 1.9991 - accuracy: 0.3014: 0s - loss: 2.0038 - accuracy: 0.29\n",
      "Epoch 44/100\n",
      "64/64 [==============================] - 0s 1ms/step - loss: 1.9981 - accuracy: 0.2955\n",
      "Epoch 45/100\n",
      "64/64 [==============================] - 0s 1ms/step - loss: 1.9894 - accuracy: 0.3087\n",
      "Epoch 46/100\n",
      "64/64 [==============================] - 0s 1ms/step - loss: 1.9892 - accuracy: 0.2906\n",
      "Epoch 47/100\n",
      "64/64 [==============================] - 0s 1ms/step - loss: 1.9853 - accuracy: 0.3048\n",
      "Epoch 48/100\n",
      "64/64 [==============================] - 0s 1ms/step - loss: 1.9829 - accuracy: 0.3058\n",
      "Epoch 49/100\n",
      "64/64 [==============================] - 0s 1ms/step - loss: 1.9799 - accuracy: 0.3102\n",
      "Epoch 50/100\n",
      "64/64 [==============================] - 0s 1ms/step - loss: 1.9786 - accuracy: 0.3136\n",
      "Epoch 51/100\n",
      "64/64 [==============================] - 0s 2ms/step - loss: 1.9703 - accuracy: 0.3209\n",
      "Epoch 52/100\n",
      "64/64 [==============================] - 0s 1ms/step - loss: 1.9720 - accuracy: 0.3048\n",
      "Epoch 53/100\n",
      "64/64 [==============================] - 0s 1ms/step - loss: 1.9681 - accuracy: 0.3077\n",
      "Epoch 54/100\n",
      "64/64 [==============================] - 0s 1ms/step - loss: 1.9650 - accuracy: 0.3195\n",
      "Epoch 55/100\n",
      "64/64 [==============================] - 0s 1ms/step - loss: 1.9631 - accuracy: 0.3082\n",
      "Epoch 56/100\n",
      "64/64 [==============================] - 0s 1ms/step - loss: 1.9591 - accuracy: 0.3112\n",
      "Epoch 57/100\n",
      "64/64 [==============================] - 0s 1ms/step - loss: 1.9582 - accuracy: 0.3175\n",
      "Epoch 58/100\n",
      "64/64 [==============================] - 0s 1ms/step - loss: 1.9472 - accuracy: 0.3234\n",
      "Epoch 59/100\n",
      "64/64 [==============================] - 0s 1ms/step - loss: 1.9497 - accuracy: 0.3209\n",
      "Epoch 60/100\n",
      "64/64 [==============================] - 0s 1ms/step - loss: 1.9464 - accuracy: 0.3258\n",
      "Epoch 61/100\n",
      "64/64 [==============================] - 0s 2ms/step - loss: 1.9390 - accuracy: 0.3244\n",
      "Epoch 62/100\n",
      "64/64 [==============================] - 0s 1ms/step - loss: 1.9383 - accuracy: 0.3175\n",
      "Epoch 63/100\n",
      "64/64 [==============================] - 0s 1ms/step - loss: 1.9355 - accuracy: 0.3253\n",
      "Epoch 64/100\n",
      "64/64 [==============================] - 0s 1ms/step - loss: 1.9305 - accuracy: 0.3288\n",
      "Epoch 65/100\n",
      "64/64 [==============================] - 0s 1ms/step - loss: 1.9281 - accuracy: 0.3293\n",
      "Epoch 66/100\n",
      "64/64 [==============================] - 0s 1ms/step - loss: 1.9298 - accuracy: 0.3244\n",
      "Epoch 67/100\n",
      "64/64 [==============================] - 0s 1ms/step - loss: 1.9290 - accuracy: 0.3366\n",
      "Epoch 68/100\n",
      "64/64 [==============================] - 0s 1ms/step - loss: 1.9196 - accuracy: 0.3263\n",
      "Epoch 69/100\n",
      "64/64 [==============================] - 0s 1ms/step - loss: 1.9167 - accuracy: 0.3312\n",
      "Epoch 70/100\n",
      "64/64 [==============================] - 0s 2ms/step - loss: 1.9146 - accuracy: 0.3322\n",
      "Epoch 71/100\n",
      "64/64 [==============================] - 0s 1ms/step - loss: 1.9168 - accuracy: 0.3356\n",
      "Epoch 72/100\n",
      "64/64 [==============================] - 0s 1ms/step - loss: 1.9086 - accuracy: 0.3302\n",
      "Epoch 73/100\n",
      "64/64 [==============================] - 0s 1ms/step - loss: 1.9064 - accuracy: 0.3351\n",
      "Epoch 74/100\n",
      "64/64 [==============================] - 0s 1ms/step - loss: 1.9090 - accuracy: 0.3361\n",
      "Epoch 75/100\n",
      "64/64 [==============================] - 0s 1ms/step - loss: 1.9076 - accuracy: 0.3341\n",
      "Epoch 76/100\n",
      "64/64 [==============================] - 0s 1ms/step - loss: 1.9057 - accuracy: 0.3322\n",
      "Epoch 77/100\n",
      "64/64 [==============================] - 0s 1ms/step - loss: 1.8963 - accuracy: 0.3439\n",
      "Epoch 78/100\n",
      "64/64 [==============================] - 0s 1ms/step - loss: 1.8925 - accuracy: 0.3376\n",
      "Epoch 79/100\n",
      "64/64 [==============================] - 0s 1ms/step - loss: 1.8934 - accuracy: 0.3376\n",
      "Epoch 80/100\n",
      "64/64 [==============================] - 0s 1ms/step - loss: 1.8900 - accuracy: 0.3454\n",
      "Epoch 81/100\n",
      "64/64 [==============================] - 0s 1ms/step - loss: 1.8880 - accuracy: 0.3351\n",
      "Epoch 82/100\n"
     ]
    },
    {
     "name": "stdout",
     "output_type": "stream",
     "text": [
      "64/64 [==============================] - 0s 1ms/step - loss: 1.8848 - accuracy: 0.3488\n",
      "Epoch 83/100\n",
      "64/64 [==============================] - 0s 1ms/step - loss: 1.8868 - accuracy: 0.3478\n",
      "Epoch 84/100\n",
      "64/64 [==============================] - 0s 1ms/step - loss: 1.8834 - accuracy: 0.3464\n",
      "Epoch 85/100\n",
      "64/64 [==============================] - 0s 1ms/step - loss: 1.8815 - accuracy: 0.3386\n",
      "Epoch 86/100\n",
      "64/64 [==============================] - 0s 1ms/step - loss: 1.8774 - accuracy: 0.3425\n",
      "Epoch 87/100\n",
      "64/64 [==============================] - 0s 1ms/step - loss: 1.8798 - accuracy: 0.3488\n",
      "Epoch 88/100\n",
      "64/64 [==============================] - 0s 1ms/step - loss: 1.8701 - accuracy: 0.3469\n",
      "Epoch 89/100\n",
      "64/64 [==============================] - 0s 1ms/step - loss: 1.8693 - accuracy: 0.3469\n",
      "Epoch 90/100\n",
      "64/64 [==============================] - 0s 1ms/step - loss: 1.8730 - accuracy: 0.3439\n",
      "Epoch 91/100\n",
      "64/64 [==============================] - 0s 1ms/step - loss: 1.8764 - accuracy: 0.3483\n",
      "Epoch 92/100\n",
      "64/64 [==============================] - 0s 1ms/step - loss: 1.8613 - accuracy: 0.3425\n",
      "Epoch 93/100\n",
      "64/64 [==============================] - 0s 1ms/step - loss: 1.8617 - accuracy: 0.3469\n",
      "Epoch 94/100\n",
      "64/64 [==============================] - 0s 1ms/step - loss: 1.8569 - accuracy: 0.3542\n",
      "Epoch 95/100\n",
      "64/64 [==============================] - 0s 1ms/step - loss: 1.8578 - accuracy: 0.3581\n",
      "Epoch 96/100\n",
      "64/64 [==============================] - 0s 1ms/step - loss: 1.8559 - accuracy: 0.3405\n",
      "Epoch 97/100\n",
      "64/64 [==============================] - 0s 1ms/step - loss: 1.8587 - accuracy: 0.3488\n",
      "Epoch 98/100\n",
      "64/64 [==============================] - 0s 1ms/step - loss: 1.8522 - accuracy: 0.3567\n",
      "Epoch 99/100\n",
      "64/64 [==============================] - 0s 1ms/step - loss: 1.8526 - accuracy: 0.3567\n",
      "Epoch 100/100\n",
      "64/64 [==============================] - 0s 1ms/step - loss: 1.8433 - accuracy: 0.3557\n"
     ]
    },
    {
     "data": {
      "text/plain": [
       "<tensorflow.python.keras.callbacks.History at 0x15c0c7f38e0>"
      ]
     },
     "execution_count": 96,
     "metadata": {},
     "output_type": "execute_result"
    }
   ],
   "source": [
    "# model definition\n",
    "model_under = ml.Sequential()\n",
    "model_under.add( l.Dense(128, input_dim=x_train_under.shape[1], activation='relu') )\n",
    "model_under.add( l.Dense(12, activation='softmax') )\n",
    "\n",
    "# model compile\n",
    "model_under.compile(loss='categorical_crossentropy', optimizer='adam', metrics=['accuracy'])\n",
    "\n",
    "# train model\n",
    "model_under.fit(x_train_under, y_train_under_nn, epochs=100)"
   ]
  },
  {
   "cell_type": "markdown",
   "id": "afa3706d",
   "metadata": {},
   "source": [
    "#### 7.2.2.1. Random Undersampling - Performance"
   ]
  },
  {
   "cell_type": "code",
   "execution_count": 105,
   "id": "921b5fa4",
   "metadata": {
    "ExecuteTime": {
     "end_time": "2022-03-16T15:41:49.480000Z",
     "start_time": "2022-03-16T15:41:46.608472Z"
    }
   },
   "outputs": [],
   "source": [
    "# prediction\n",
    "pred_under_nn = model_under.predict(x_test_under)\n",
    "\n",
    "# invert prediction\n",
    "yhat_under_nn = ohe_under.inverse_transform(pred_under_nn)\n",
    "\n",
    "# test dataset prepare with real results\n",
    "y_test_under_nn = y_test_under.to_numpy()\n",
    "yhat_under_nn = yhat_under_nn.reshape(1, -1)[0]"
   ]
  },
  {
   "cell_type": "code",
   "execution_count": 106,
   "id": "d71eeada",
   "metadata": {
    "ExecuteTime": {
     "end_time": "2022-03-16T15:41:49.511056Z",
     "start_time": "2022-03-16T15:41:49.484000Z"
    }
   },
   "outputs": [
    {
     "data": {
      "text/plain": [
       "CA       0.144531\n",
       "AU       0.125000\n",
       "NL       0.105469\n",
       "ES       0.091797\n",
       "NDF      0.091797\n",
       "DE       0.083984\n",
       "FR       0.083984\n",
       "US       0.072266\n",
       "IT       0.056641\n",
       "PT       0.050781\n",
       "other    0.050781\n",
       "GB       0.042969\n",
       "dtype: float64"
      ]
     },
     "execution_count": 106,
     "metadata": {},
     "output_type": "execute_result"
    }
   ],
   "source": [
    "# check balanced results\n",
    "pd.DataFrame(yhat_under_nn).value_counts(normalize=True)"
   ]
  },
  {
   "cell_type": "code",
   "execution_count": 107,
   "id": "f247d237",
   "metadata": {
    "ExecuteTime": {
     "end_time": "2022-03-16T15:41:50.309155Z",
     "start_time": "2022-03-16T15:41:49.515059Z"
    }
   },
   "outputs": [
    {
     "name": "stdout",
     "output_type": "stream",
     "text": [
      "Accuracy: 0.173828125\n",
      "Balanced Accuracy: 0.17115431351773344\n",
      "Kappa Score: 0.09979050975958503\n",
      "              precision    recall  f1-score   support\n",
      "\n",
      "          AU       0.08      0.12      0.09        43\n",
      "          CA       0.08      0.14      0.10        43\n",
      "          DE       0.16      0.16      0.16        45\n",
      "          ES       0.06      0.07      0.06        46\n",
      "          FR       0.09      0.11      0.10        35\n",
      "          GB       0.18      0.08      0.11        50\n",
      "          IT       0.14      0.07      0.10        55\n",
      "         NDF       0.96      1.00      0.98        45\n",
      "          NL       0.04      0.06      0.05        32\n",
      "          PT       0.04      0.02      0.03        47\n",
      "          US       0.11      0.11      0.11        38\n",
      "       other       0.15      0.12      0.14        33\n",
      "\n",
      "    accuracy                           0.17       512\n",
      "   macro avg       0.17      0.17      0.17       512\n",
      "weighted avg       0.18      0.17      0.17       512\n",
      "\n"
     ]
    },
    {
     "data": {
      "image/png": "[encoded data removed]",
      "text/plain": [
       "<Figure size 864x864 with 2 Axes>"
      ]
     },
     "metadata": {
      "needs_background": "light"
     },
     "output_type": "display_data"
    }
   ],
   "source": [
    "# Accuracy\n",
    "acc_under_nn = m.accuracy_score( y_test_under_nn, yhat_under_nn )\n",
    "print(f'Accuracy: {acc_under_nn}')\n",
    "\n",
    "# Balanced Accuracy\n",
    "balanced_acc_under_nn = m.balanced_accuracy_score(y_test_under_nn, yhat_under_nn)\n",
    "print(f'Balanced Accuracy: {balanced_acc_under_nn}')\n",
    "\n",
    "# Kappa Metrics\n",
    "kappa_under_nn = m.cohen_kappa_score(y_test_under_nn, yhat_under_nn)\n",
    "print(f'Kappa Score: {kappa_under_nn}')\n",
    "\n",
    "# Classification report\n",
    "print(m.classification_report(y_test_under_nn, yhat_under_nn))\n",
    "\n",
    "# Confusion Matrix\n",
    "mt.plot_confusion_matrix( y_test_under_nn, yhat_under_nn, normalize=False, figsize=(12,12));"
   ]
  },
  {
   "cell_type": "markdown",
   "id": "af2fe3cf",
   "metadata": {},
   "source": [
    "### 7.2.3. Neural Network - Random Oversampling"
   ]
  },
  {
   "cell_type": "code",
   "execution_count": 97,
   "id": "51e0f31c",
   "metadata": {
    "ExecuteTime": {
     "end_time": "2022-03-16T13:25:41.419920Z",
     "start_time": "2022-03-16T13:25:40.850752Z"
    }
   },
   "outputs": [],
   "source": [
    "ohe_over = pp.OneHotEncoder()\n",
    "\n",
    "y_train_over_nn = ohe_over.fit_transform(y_train_over.values.reshape(-1, 1)).toarray()"
   ]
  },
  {
   "cell_type": "code",
   "execution_count": 98,
   "id": "a2a0b26e",
   "metadata": {
    "ExecuteTime": {
     "end_time": "2022-03-16T14:34:32.074094Z",
     "start_time": "2022-03-16T13:25:41.422896Z"
    }
   },
   "outputs": [
    {
     "name": "stdout",
     "output_type": "stream",
     "text": [
      "Epoch 1/100\n",
      "35943/35943 [==============================] - 48s 1ms/step - loss: 2.0777 - accuracy: 0.2619\n",
      "Epoch 2/100\n",
      "35943/35943 [==============================] - 43s 1ms/step - loss: 1.9337 - accuracy: 0.3174\n",
      "Epoch 3/100\n",
      "35943/35943 [==============================] - 46s 1ms/step - loss: 1.8860 - accuracy: 0.3313 0s - loss: 1.8860 \n",
      "Epoch 4/100\n",
      "35943/35943 [==============================] - 43s 1ms/step - loss: 1.8617 - accuracy: 0.3385\n",
      "Epoch 5/100\n",
      "35943/35943 [==============================] - 34s 951us/step - loss: 1.8466 - accuracy: 0.3434\n",
      "Epoch 6/100\n",
      "35943/35943 [==============================] - 46s 1ms/step - loss: 1.8351 - accuracy: 0.3466\n",
      "Epoch 7/100\n",
      "35943/35943 [==============================] - 39s 1ms/step - loss: 1.8277 - accuracy: 0.3485\n",
      "Epoch 8/100\n",
      "35943/35943 [==============================] - 38s 1ms/step - loss: 1.8221 - accuracy: 0.3502\n",
      "Epoch 9/100\n",
      "35943/35943 [==============================] - 43s 1ms/step - loss: 1.8175 - accuracy: 0.3511\n",
      "Epoch 10/100\n",
      "35943/35943 [==============================] - 43s 1ms/step - loss: 1.8140 - accuracy: 0.3525\n",
      "Epoch 11/100\n",
      "35943/35943 [==============================] - 38s 1ms/step - loss: 1.8119 - accuracy: 0.3532\n",
      "Epoch 12/100\n",
      "35943/35943 [==============================] - 40s 1ms/step - loss: 1.8085 - accuracy: 0.3538\n",
      "Epoch 13/100\n",
      "35943/35943 [==============================] - 42s 1ms/step - loss: 1.8060 - accuracy: 0.3544\n",
      "Epoch 14/100\n",
      "35943/35943 [==============================] - 40s 1ms/step - loss: 1.8032 - accuracy: 0.3551\n",
      "Epoch 15/100\n",
      "35943/35943 [==============================] - 39s 1ms/step - loss: 1.8023 - accuracy: 0.3563\n",
      "Epoch 16/100\n",
      "35943/35943 [==============================] - 67s 2ms/step - loss: 1.8003 - accuracy: 0.3568\n",
      "Epoch 17/100\n",
      "35943/35943 [==============================] - 46s 1ms/step - loss: 1.7994 - accuracy: 0.3568\n",
      "Epoch 18/100\n",
      "35943/35943 [==============================] - 48s 1ms/step - loss: 1.7976 - accuracy: 0.3576\n",
      "Epoch 19/100\n",
      "35943/35943 [==============================] - 48s 1ms/step - loss: 1.7968 - accuracy: 0.3576\n",
      "Epoch 20/100\n",
      "35943/35943 [==============================] - 42s 1ms/step - loss: 1.7945 - accuracy: 0.3587\n",
      "Epoch 21/100\n",
      "35943/35943 [==============================] - 41s 1ms/step - loss: 1.7938 - accuracy: 0.3591\n",
      "Epoch 22/100\n",
      "35943/35943 [==============================] - 41s 1ms/step - loss: 1.7932 - accuracy: 0.3587\n",
      "Epoch 23/100\n",
      "35943/35943 [==============================] - 44s 1ms/step - loss: 1.7919 - accuracy: 0.3592\n",
      "Epoch 24/100\n",
      "35943/35943 [==============================] - 37s 1ms/step - loss: 1.7906 - accuracy: 0.3593\n",
      "Epoch 25/100\n",
      "35943/35943 [==============================] - 68s 2ms/step - loss: 1.7903 - accuracy: 0.3593 0s - loss: 1.7902 - accura\n",
      "Epoch 26/100\n",
      "35943/35943 [==============================] - 76s 2ms/step - loss: 1.7897 - accuracy: 0.3600 1s - loss: 1.7\n",
      "Epoch 27/100\n",
      "35943/35943 [==============================] - 42s 1ms/step - loss: 1.7885 - accuracy: 0.3601\n",
      "Epoch 28/100\n",
      "35943/35943 [==============================] - 58s 2ms/step - loss: 1.7880 - accuracy: 0.3601\n",
      "Epoch 29/100\n",
      "35943/35943 [==============================] - 41s 1ms/step - loss: 1.7870 - accuracy: 0.3602\n",
      "Epoch 30/100\n",
      "35943/35943 [==============================] - 39s 1ms/step - loss: 1.7860 - accuracy: 0.3603\n",
      "Epoch 31/100\n",
      "35943/35943 [==============================] - 38s 1ms/step - loss: 1.7861 - accuracy: 0.3603\n",
      "Epoch 32/100\n",
      "35943/35943 [==============================] - 39s 1ms/step - loss: 1.7848 - accuracy: 0.3609\n",
      "Epoch 33/100\n",
      "35943/35943 [==============================] - 39s 1ms/step - loss: 1.7846 - accuracy: 0.3614\n",
      "Epoch 34/100\n",
      "35943/35943 [==============================] - 44s 1ms/step - loss: 1.7850 - accuracy: 0.3607\n",
      "Epoch 35/100\n",
      "35943/35943 [==============================] - 65s 2ms/step - loss: 1.7848 - accuracy: 0.3607\n",
      "Epoch 36/100\n",
      "35943/35943 [==============================] - 51s 1ms/step - loss: 1.7838 - accuracy: 0.3617\n",
      "Epoch 37/100\n",
      "35943/35943 [==============================] - 41s 1ms/step - loss: 1.7838 - accuracy: 0.3613\n",
      "Epoch 38/100\n",
      "35943/35943 [==============================] - 44s 1ms/step - loss: 1.7827 - accuracy: 0.3618\n",
      "Epoch 39/100\n",
      "35943/35943 [==============================] - 42s 1ms/step - loss: 1.7828 - accuracy: 0.3620\n",
      "Epoch 40/100\n",
      "35943/35943 [==============================] - 36s 1ms/step - loss: 1.7824 - accuracy: 0.3622\n",
      "Epoch 41/100\n",
      "35943/35943 [==============================] - 35s 964us/step - loss: 1.7821 - accuracy: 0.3621\n",
      "Epoch 42/100\n",
      "35943/35943 [==============================] - 36s 994us/step - loss: 1.7818 - accuracy: 0.3623\n",
      "Epoch 43/100\n",
      "35943/35943 [==============================] - 38s 1ms/step - loss: 1.7804 - accuracy: 0.3624\n",
      "Epoch 44/100\n",
      "35943/35943 [==============================] - 34s 947us/step - loss: 1.7819 - accuracy: 0.3621\n",
      "Epoch 45/100\n",
      "35943/35943 [==============================] - 38s 1ms/step - loss: 1.7803 - accuracy: 0.3631\n",
      "Epoch 46/100\n",
      "35943/35943 [==============================] - 36s 1ms/step - loss: 1.7794 - accuracy: 0.3629\n",
      "Epoch 47/100\n",
      "35943/35943 [==============================] - 36s 1ms/step - loss: 1.7795 - accuracy: 0.3632\n",
      "Epoch 48/100\n",
      "35943/35943 [==============================] - 36s 1ms/step - loss: 1.7794 - accuracy: 0.3635\n",
      "Epoch 49/100\n",
      "35943/35943 [==============================] - 34s 944us/step - loss: 1.7792 - accuracy: 0.3633\n",
      "Epoch 50/100\n",
      "35943/35943 [==============================] - 35s 962us/step - loss: 1.7801 - accuracy: 0.3641\n",
      "Epoch 51/100\n",
      "35943/35943 [==============================] - 36s 1ms/step - loss: 1.7784 - accuracy: 0.3636\n",
      "Epoch 52/100\n",
      "35943/35943 [==============================] - 40s 1ms/step - loss: 1.7785 - accuracy: 0.3636\n",
      "Epoch 53/100\n",
      "35943/35943 [==============================] - 34s 946us/step - loss: 1.7779 - accuracy: 0.3638\n",
      "Epoch 54/100\n",
      "35943/35943 [==============================] - 46s 1ms/step - loss: 1.7776 - accuracy: 0.3639\n",
      "Epoch 55/100\n",
      "35943/35943 [==============================] - 42s 1ms/step - loss: 1.7784 - accuracy: 0.3635\n",
      "Epoch 56/100\n",
      "35943/35943 [==============================] - 41s 1ms/step - loss: 1.7783 - accuracy: 0.3639 0s - loss: 1\n",
      "Epoch 57/100\n",
      "35943/35943 [==============================] - 34s 952us/step - loss: 1.7779 - accuracy: 0.3642\n",
      "Epoch 58/100\n",
      "35943/35943 [==============================] - 52s 1ms/step - loss: 1.7773 - accuracy: 0.3645\n",
      "Epoch 59/100\n",
      "35943/35943 [==============================] - 55s 2ms/step - loss: 1.7764 - accuracy: 0.3644 0s - loss: 1.7764 - accuracy: \n",
      "Epoch 60/100\n",
      "35943/35943 [==============================] - 61s 2ms/step - loss: 1.7758 - accuracy: 0.3646\n",
      "Epoch 61/100\n",
      "35943/35943 [==============================] - 68s 2ms/step - loss: 1.7763 - accuracy: 0.3646A: 39s - loss: 1.7759 - ac - ETA: 41s - loss: 1.7764 - acc - ETA: 41s - loss: 1.7773 - accur - ETA: 41s - loss: 1.7776 - accuracy - ETA: 42s - loss: 1.7782 - accuracy - ETA: 42s - loss - ETA: 43s - loss: 1.7769 - accuracy: 0. - ET - ETA:  - - ETA: 24s - loss: 1.77 - ETA: 25s - l - ETA: 13s - lo - ETA: 9s - ETA: 6s - los - E - ETA: 0s - loss: 1.7763 - accuracy\n",
      "Epoch 62/100\n",
      "35943/35943 [==============================] - 56s 2ms/step - loss: 1.7768 - accuracy: 0.3646\n",
      "Epoch 63/100\n",
      "35943/35943 [==============================] - 37s 1ms/step - loss: 1.7763 - accuracy: 0.3646\n",
      "Epoch 64/100\n",
      "35943/35943 [==============================] - 34s 951us/step - loss: 1.7756 - accuracy: 0.3648\n",
      "Epoch 65/100\n",
      "35943/35943 [==============================] - 36s 1ms/step - loss: 1.7757 - accuracy: 0.3643\n",
      "Epoch 66/100\n",
      "35943/35943 [==============================] - 34s 933us/step - loss: 1.7757 - accuracy: 0.3647\n",
      "Epoch 67/100\n",
      "35943/35943 [==============================] - 38s 1ms/step - loss: 1.7755 - accuracy: 0.3646\n",
      "Epoch 68/100\n",
      "35943/35943 [==============================] - 33s 928us/step - loss: 1.7750 - accuracy: 0.3652\n",
      "Epoch 69/100\n",
      "35943/35943 [==============================] - 32s 901us/step - loss: 1.7756 - accuracy: 0.3652\n",
      "Epoch 70/100\n",
      "35943/35943 [==============================] - 32s 891us/step - loss: 1.7751 - accuracy: 0.3658\n",
      "Epoch 71/100\n",
      "35943/35943 [==============================] - 32s 888us/step - loss: 1.7748 - accuracy: 0.3653\n",
      "Epoch 72/100\n"
     ]
    },
    {
     "name": "stdout",
     "output_type": "stream",
     "text": [
      "35943/35943 [==============================] - 39s 1ms/step - loss: 1.7743 - accuracy: 0.3654\n",
      "Epoch 73/100\n",
      "35943/35943 [==============================] - 38s 1ms/step - loss: 1.7739 - accuracy: 0.3654\n",
      "Epoch 74/100\n",
      "35943/35943 [==============================] - 38s 1ms/step - loss: 1.7738 - accuracy: 0.3653\n",
      "Epoch 75/100\n",
      "35943/35943 [==============================] - 45s 1ms/step - loss: 1.7738 - accuracy: 0.3651\n",
      "Epoch 76/100\n",
      "35943/35943 [==============================] - 34s 936us/step - loss: 1.7744 - accuracy: 0.3649\n",
      "Epoch 77/100\n",
      "35943/35943 [==============================] - 35s 963us/step - loss: 1.7738 - accuracy: 0.3653\n",
      "Epoch 78/100\n",
      "35943/35943 [==============================] - 33s 926us/step - loss: 1.7741 - accuracy: 0.3655\n",
      "Epoch 79/100\n",
      "35943/35943 [==============================] - 34s 934us/step - loss: 1.7738 - accuracy: 0.3654\n",
      "Epoch 80/100\n",
      "35943/35943 [==============================] - 34s 938us/step - loss: 1.7732 - accuracy: 0.3656\n",
      "Epoch 81/100\n",
      "35943/35943 [==============================] - 36s 1ms/step - loss: 1.7729 - accuracy: 0.3662\n",
      "Epoch 82/100\n",
      "35943/35943 [==============================] - 33s 921us/step - loss: 1.7728 - accuracy: 0.3660\n",
      "Epoch 83/100\n",
      "35943/35943 [==============================] - 38s 1ms/step - loss: 1.7733 - accuracy: 0.3654 0s - loss: 1.7\n",
      "Epoch 84/100\n",
      "35943/35943 [==============================] - 35s 960us/step - loss: 1.7723 - accuracy: 0.3661\n",
      "Epoch 85/100\n",
      "35943/35943 [==============================] - 38s 1ms/step - loss: 1.7723 - accuracy: 0.3663\n",
      "Epoch 86/100\n",
      "35943/35943 [==============================] - 36s 1ms/step - loss: 1.7728 - accuracy: 0.3661\n",
      "Epoch 87/100\n",
      "35943/35943 [==============================] - 33s 924us/step - loss: 1.7726 - accuracy: 0.3661\n",
      "Epoch 88/100\n",
      "35943/35943 [==============================] - 37s 1ms/step - loss: 1.7726 - accuracy: 0.3658\n",
      "Epoch 89/100\n",
      "35943/35943 [==============================] - 39s 1ms/step - loss: 1.7720 - accuracy: 0.3662\n",
      "Epoch 90/100\n",
      "35943/35943 [==============================] - 37s 1ms/step - loss: 1.7717 - accuracy: 0.3663\n",
      "Epoch 91/100\n",
      "35943/35943 [==============================] - 38s 1ms/step - loss: 1.7721 - accuracy: 0.3659\n",
      "Epoch 92/100\n",
      "35943/35943 [==============================] - 41s 1ms/step - loss: 1.7719 - accuracy: 0.3661\n",
      "Epoch 93/100\n",
      "35943/35943 [==============================] - 32s 879us/step - loss: 1.7717 - accuracy: 0.3664\n",
      "Epoch 94/100\n",
      "35943/35943 [==============================] - 33s 912us/step - loss: 1.7718 - accuracy: 0.3664\n",
      "Epoch 95/100\n",
      "35943/35943 [==============================] - 39s 1ms/step - loss: 1.7713 - accuracy: 0.3662\n",
      "Epoch 96/100\n",
      "35943/35943 [==============================] - 40s 1ms/step - loss: 1.7716 - accuracy: 0.3667\n",
      "Epoch 97/100\n",
      "35943/35943 [==============================] - 33s 915us/step - loss: 1.7713 - accuracy: 0.3662\n",
      "Epoch 98/100\n",
      "35943/35943 [==============================] - 34s 933us/step - loss: 1.7710 - accuracy: 0.3669\n",
      "Epoch 99/100\n",
      "35943/35943 [==============================] - 54s 2ms/step - loss: 1.7709 - accuracy: 0.3666\n",
      "Epoch 100/100\n",
      "35943/35943 [==============================] - 57s 2ms/step - loss: 1.7715 - accuracy: 0.3664\n"
     ]
    },
    {
     "data": {
      "text/plain": [
       "<tensorflow.python.keras.callbacks.History at 0x15c0c8cddc0>"
      ]
     },
     "execution_count": 98,
     "metadata": {},
     "output_type": "execute_result"
    }
   ],
   "source": [
    "# model definition\n",
    "model_over = ml.Sequential()\n",
    "model_over.add( l.Dense(128, input_dim=x_train_over.shape[1], activation='relu') )\n",
    "model_over.add( l.Dense(12, activation='softmax') )\n",
    "\n",
    "# model compile\n",
    "model_over.compile(loss='categorical_crossentropy', optimizer='adam', metrics=['accuracy'])\n",
    "\n",
    "# train model\n",
    "model_over.fit(x_train_over, y_train_over_nn, epochs=100)"
   ]
  },
  {
   "cell_type": "markdown",
   "id": "d19c6429",
   "metadata": {},
   "source": [
    "#### 7.2.3.1. Random Oversampling - Performance"
   ]
  },
  {
   "cell_type": "code",
   "execution_count": 108,
   "id": "7c775ae4",
   "metadata": {
    "ExecuteTime": {
     "end_time": "2022-03-16T15:42:00.796139Z",
     "start_time": "2022-03-16T15:41:50.312055Z"
    }
   },
   "outputs": [],
   "source": [
    "# prediction\n",
    "pred_over_nn = model_over.predict(x_test_over)\n",
    "\n",
    "# invert prediction\n",
    "yhat_over_nn = ohe_over.inverse_transform(pred_over_nn)\n",
    "\n",
    "# test dataset prepare with real results\n",
    "y_test_over_nn = y_test_over.to_numpy()\n",
    "yhat_over_nn = yhat_over_nn.reshape(1, -1)[0]"
   ]
  },
  {
   "cell_type": "code",
   "execution_count": 109,
   "id": "b4e89b98",
   "metadata": {
    "ExecuteTime": {
     "end_time": "2022-03-16T15:42:00.843125Z",
     "start_time": "2022-03-16T15:42:00.801126Z"
    }
   },
   "outputs": [
    {
     "data": {
      "text/plain": [
       "NL       0.213988\n",
       "AU       0.147946\n",
       "CA       0.132877\n",
       "DE       0.098708\n",
       "PT       0.086641\n",
       "NDF      0.083646\n",
       "ES       0.076986\n",
       "other    0.044421\n",
       "US       0.038147\n",
       "IT       0.030712\n",
       "GB       0.028142\n",
       "FR       0.017785\n",
       "dtype: float64"
      ]
     },
     "execution_count": 109,
     "metadata": {},
     "output_type": "execute_result"
    }
   ],
   "source": [
    "# check balanced results\n",
    "pd.DataFrame(yhat_over_nn).value_counts(normalize=True)"
   ]
  },
  {
   "cell_type": "code",
   "execution_count": 110,
   "id": "20060d9f",
   "metadata": {
    "ExecuteTime": {
     "end_time": "2022-03-16T15:42:19.520520Z",
     "start_time": "2022-03-16T15:42:00.849125Z"
    }
   },
   "outputs": [
    {
     "name": "stdout",
     "output_type": "stream",
     "text": [
      "Accuracy: 0.3692547923100465\n",
      "Balanced Accuracy: 0.3690339933077116\n",
      "Kappa Score: 0.31180525397696646\n",
      "              precision    recall  f1-score   support\n",
      "\n",
      "          AU       0.43      0.77      0.55     23979\n",
      "          CA       0.20      0.32      0.25     24024\n",
      "          DE       0.24      0.29      0.26     24042\n",
      "          ES       0.17      0.16      0.16     23971\n",
      "          FR       0.19      0.04      0.07     24083\n",
      "          GB       0.19      0.06      0.10     23936\n",
      "          IT       0.18      0.07      0.10     23859\n",
      "         NDF       1.00      1.00      1.00     24038\n",
      "          NL       0.24      0.60      0.34     24168\n",
      "          PT       0.92      0.96      0.94     23785\n",
      "          US       0.15      0.07      0.10     23828\n",
      "       other       0.16      0.08      0.11     23831\n",
      "\n",
      "    accuracy                           0.37    287544\n",
      "   macro avg       0.34      0.37      0.33    287544\n",
      "weighted avg       0.34      0.37      0.33    287544\n",
      "\n"
     ]
    },
    {
     "data": {
      "image/png": "[encoded data removed]",
      "text/plain": [
       "<Figure size 864x864 with 2 Axes>"
      ]
     },
     "metadata": {
      "needs_background": "light"
     },
     "output_type": "display_data"
    }
   ],
   "source": [
    "# Accuracy\n",
    "acc_over_nn = m.accuracy_score( y_test_over_nn, yhat_over_nn )\n",
    "print(f'Accuracy: {acc_over_nn}')\n",
    "\n",
    "# Balanced Accuracy\n",
    "balanced_acc_over_nn = m.balanced_accuracy_score(y_test_over_nn, yhat_over_nn)\n",
    "print(f'Balanced Accuracy: {balanced_acc_over_nn}')\n",
    "\n",
    "# Kappa Metrics\n",
    "kappa_over_nn = m.cohen_kappa_score(y_test_over_nn, yhat_over_nn)\n",
    "print(f'Kappa Score: {kappa_over_nn}')\n",
    "\n",
    "# Classification report\n",
    "print(m.classification_report(y_test_over_nn, yhat_over_nn))\n",
    "\n",
    "# Confusion Matrix\n",
    "mt.plot_confusion_matrix( y_test_over_nn, yhat_over_nn, normalize=False, figsize=(12,12));"
   ]
  },
  {
   "cell_type": "markdown",
   "id": "3b3b7390",
   "metadata": {},
   "source": [
    "### 7.2.4. Neural Network - SMOTE + TOMEKLINK"
   ]
  },
  {
   "cell_type": "code",
   "execution_count": 99,
   "id": "78c00487",
   "metadata": {
    "ExecuteTime": {
     "end_time": "2022-03-16T14:34:32.516250Z",
     "start_time": "2022-03-16T14:34:32.085087Z"
    }
   },
   "outputs": [],
   "source": [
    "ohe_comb = pp.OneHotEncoder()\n",
    "\n",
    "y_train_comb_nn = ohe_comb.fit_transform(y_train_comb.values.reshape(-1, 1)).toarray()"
   ]
  },
  {
   "cell_type": "code",
   "execution_count": 100,
   "id": "51494560",
   "metadata": {
    "ExecuteTime": {
     "end_time": "2022-03-16T15:41:36.818115Z",
     "start_time": "2022-03-16T14:34:32.524881Z"
    }
   },
   "outputs": [
    {
     "name": "stdout",
     "output_type": "stream",
     "text": [
      "Epoch 1/100\n",
      "35932/35932 [==============================] - 35s 982us/step - loss: 2.0892 - accuracy: 0.2559\n",
      "Epoch 2/100\n",
      "35932/35932 [==============================] - 36s 993us/step - loss: 1.9944 - accuracy: 0.2971\n",
      "Epoch 3/100\n",
      "35932/35932 [==============================] - 36s 1ms/step - loss: 1.9646 - accuracy: 0.3093\n",
      "Epoch 4/100\n",
      "35932/35932 [==============================] - 49s 1ms/step - loss: 1.9489 - accuracy: 0.3162\n",
      "Epoch 5/100\n",
      "35932/35932 [==============================] - 62s 2ms/step - loss: 1.9396 - accuracy: 0.3207 0s - loss: 1.9396 - accuracy: 0.\n",
      "Epoch 6/100\n",
      "35932/35932 [==============================] - 57s 2ms/step - loss: 1.9318 - accuracy: 0.3234 2s - loss: 1.9320 - accuracy - ETA: 2s - loss: 1\n",
      "Epoch 7/100\n",
      "35932/35932 [==============================] - 39s 1ms/step - loss: 1.9264 - accuracy: 0.3254\n",
      "Epoch 8/100\n",
      "35932/35932 [==============================] - 57s 2ms/step - loss: 1.9223 - accuracy: 0.3271\n",
      "Epoch 9/100\n",
      "35932/35932 [==============================] - 50s 1ms/step - loss: 1.9203 - accuracy: 0.3278\n",
      "Epoch 10/100\n",
      "35932/35932 [==============================] - 39s 1ms/step - loss: 1.9178 - accuracy: 0.3284\n",
      "Epoch 11/100\n",
      "35932/35932 [==============================] - 55s 2ms/step - loss: 1.9148 - accuracy: 0.3293\n",
      "Epoch 12/100\n",
      "35932/35932 [==============================] - 44s 1ms/step - loss: 1.9125 - accuracy: 0.3298 0s - loss: 1.9125 - accuracy: 0.32\n",
      "Epoch 13/100\n",
      "35932/35932 [==============================] - 46s 1ms/step - loss: 1.9106 - accuracy: 0.3306\n",
      "Epoch 14/100\n",
      "35932/35932 [==============================] - 50s 1ms/step - loss: 1.9084 - accuracy: 0.3312\n",
      "Epoch 15/100\n",
      "35932/35932 [==============================] - 56s 2ms/step - loss: 1.9070 - accuracy: 0.3322\n",
      "Epoch 16/100\n",
      "35932/35932 [==============================] - 52s 1ms/step - loss: 1.9067 - accuracy: 0.3325 0s - los\n",
      "Epoch 17/100\n",
      "35932/35932 [==============================] - 50s 1ms/step - loss: 1.9051 - accuracy: 0.3331\n",
      "Epoch 18/100\n",
      "35932/35932 [==============================] - 51s 1ms/step - loss: 1.9034 - accuracy: 0.3333 0s - loss: 1.9034 - accuracy - ETA: 0s - loss: 1.9035 \n",
      "Epoch 19/100\n",
      "35932/35932 [==============================] - 38s 1ms/step - loss: 1.9024 - accuracy: 0.3338\n",
      "Epoch 20/100\n",
      "35932/35932 [==============================] - 48s 1ms/step - loss: 1.9018 - accuracy: 0.3336\n",
      "Epoch 21/100\n",
      "35932/35932 [==============================] - 43s 1ms/step - loss: 1.8997 - accuracy: 0.3346\n",
      "Epoch 22/100\n",
      "35932/35932 [==============================] - 37s 1ms/step - loss: 1.8999 - accuracy: 0.3344 0s - loss: 1.899\n",
      "Epoch 23/100\n",
      "35932/35932 [==============================] - 40s 1ms/step - loss: 1.9010 - accuracy: 0.3342\n",
      "Epoch 24/100\n",
      "35932/35932 [==============================] - 37s 1ms/step - loss: 1.8988 - accuracy: 0.3343\n",
      "Epoch 25/100\n",
      "35932/35932 [==============================] - 36s 991us/step - loss: 1.8980 - accuracy: 0.3348\n",
      "Epoch 26/100\n",
      "35932/35932 [==============================] - 36s 989us/step - loss: 1.8980 - accuracy: 0.3352\n",
      "Epoch 27/100\n",
      "35932/35932 [==============================] - 35s 968us/step - loss: 1.8963 - accuracy: 0.3354\n",
      "Epoch 28/100\n",
      "35932/35932 [==============================] - 36s 1ms/step - loss: 1.8963 - accuracy: 0.3351\n",
      "Epoch 29/100\n",
      "35932/35932 [==============================] - 35s 962us/step - loss: 1.8956 - accuracy: 0.3352\n",
      "Epoch 30/100\n",
      "35932/35932 [==============================] - 34s 955us/step - loss: 1.8966 - accuracy: 0.3356\n",
      "Epoch 31/100\n",
      "35932/35932 [==============================] - 38s 1ms/step - loss: 1.8975 - accuracy: 0.3357\n",
      "Epoch 32/100\n",
      "35932/35932 [==============================] - 42s 1ms/step - loss: 1.8946 - accuracy: 0.3357\n",
      "Epoch 33/100\n",
      "35932/35932 [==============================] - 39s 1ms/step - loss: 1.8951 - accuracy: 0.3361\n",
      "Epoch 34/100\n",
      "35932/35932 [==============================] - 40s 1ms/step - loss: 1.8942 - accuracy: 0.3365\n",
      "Epoch 35/100\n",
      "35932/35932 [==============================] - 35s 979us/step - loss: 1.8947 - accuracy: 0.3363\n",
      "Epoch 36/100\n",
      "35932/35932 [==============================] - 42s 1ms/step - loss: 1.8948 - accuracy: 0.3369\n",
      "Epoch 37/100\n",
      "35932/35932 [==============================] - 35s 968us/step - loss: 1.8937 - accuracy: 0.3370\n",
      "Epoch 38/100\n",
      "35932/35932 [==============================] - 35s 970us/step - loss: 1.8924 - accuracy: 0.3370\n",
      "Epoch 39/100\n",
      "35932/35932 [==============================] - 35s 987us/step - loss: 1.8926 - accuracy: 0.3369\n",
      "Epoch 40/100\n",
      "35932/35932 [==============================] - 37s 1ms/step - loss: 1.8920 - accuracy: 0.3372\n",
      "Epoch 41/100\n",
      "35932/35932 [==============================] - 41s 1ms/step - loss: 1.8907 - accuracy: 0.3368\n",
      "Epoch 42/100\n",
      "35932/35932 [==============================] - 45s 1ms/step - loss: 1.8909 - accuracy: 0.3375\n",
      "Epoch 43/100\n",
      "35932/35932 [==============================] - 39s 1ms/step - loss: 1.8902 - accuracy: 0.3374\n",
      "Epoch 44/100\n",
      "35932/35932 [==============================] - 37s 1ms/step - loss: 1.8898 - accuracy: 0.3375\n",
      "Epoch 45/100\n",
      "35932/35932 [==============================] - 38s 1ms/step - loss: 1.8891 - accuracy: 0.3381\n",
      "Epoch 46/100\n",
      "35932/35932 [==============================] - 36s 991us/step - loss: 1.8885 - accuracy: 0.3381\n",
      "Epoch 47/100\n",
      "35932/35932 [==============================] - 39s 1ms/step - loss: 1.8883 - accuracy: 0.3379\n",
      "Epoch 48/100\n",
      "35932/35932 [==============================] - 38s 1ms/step - loss: 1.8884 - accuracy: 0.3382\n",
      "Epoch 49/100\n",
      "35932/35932 [==============================] - 40s 1ms/step - loss: 1.8882 - accuracy: 0.3376\n",
      "Epoch 50/100\n",
      "35932/35932 [==============================] - 45s 1ms/step - loss: 1.8875 - accuracy: 0.3389\n",
      "Epoch 51/100\n",
      "35932/35932 [==============================] - 40s 1ms/step - loss: 1.8873 - accuracy: 0.3383\n",
      "Epoch 52/100\n",
      "35932/35932 [==============================] - 33s 909us/step - loss: 1.8876 - accuracy: 0.3382\n",
      "Epoch 53/100\n",
      "35932/35932 [==============================] - 33s 916us/step - loss: 1.8871 - accuracy: 0.3386\n",
      "Epoch 54/100\n",
      "35932/35932 [==============================] - 33s 928us/step - loss: 1.8869 - accuracy: 0.3388\n",
      "Epoch 55/100\n",
      "35932/35932 [==============================] - 34s 943us/step - loss: 1.8866 - accuracy: 0.3388\n",
      "Epoch 56/100\n",
      "35932/35932 [==============================] - 35s 978us/step - loss: 1.8875 - accuracy: 0.3390\n",
      "Epoch 57/100\n",
      "35932/35932 [==============================] - 34s 941us/step - loss: 1.8862 - accuracy: 0.3386\n",
      "Epoch 58/100\n",
      "35932/35932 [==============================] - 34s 956us/step - loss: 1.8859 - accuracy: 0.3386\n",
      "Epoch 59/100\n",
      "35932/35932 [==============================] - 35s 982us/step - loss: 1.8853 - accuracy: 0.3386\n",
      "Epoch 60/100\n",
      "35932/35932 [==============================] - 33s 919us/step - loss: 1.8853 - accuracy: 0.3394\n",
      "Epoch 61/100\n",
      "35932/35932 [==============================] - 33s 927us/step - loss: 1.8856 - accuracy: 0.3388\n",
      "Epoch 62/100\n",
      "35932/35932 [==============================] - 37s 1ms/step - loss: 1.8847 - accuracy: 0.3392\n",
      "Epoch 63/100\n",
      "35932/35932 [==============================] - 35s 981us/step - loss: 1.8846 - accuracy: 0.3393\n",
      "Epoch 64/100\n",
      "35932/35932 [==============================] - 39s 1ms/step - loss: 1.8839 - accuracy: 0.3394\n",
      "Epoch 65/100\n",
      "35932/35932 [==============================] - 43s 1ms/step - loss: 1.8840 - accuracy: 0.3395\n",
      "Epoch 66/100\n",
      "35932/35932 [==============================] - 36s 1ms/step - loss: 1.8831 - accuracy: 0.3398\n",
      "Epoch 67/100\n",
      "35932/35932 [==============================] - 40s 1ms/step - loss: 1.8835 - accuracy: 0.3395 0s - loss:\n",
      "Epoch 68/100\n",
      "35932/35932 [==============================] - 37s 1ms/step - loss: 1.8838 - accuracy: 0.3396\n",
      "Epoch 69/100\n",
      "35932/35932 [==============================] - 36s 1ms/step - loss: 1.8828 - accuracy: 0.3401\n",
      "Epoch 70/100\n",
      "35932/35932 [==============================] - 34s 952us/step - loss: 1.8825 - accuracy: 0.3401\n",
      "Epoch 71/100\n",
      "35932/35932 [==============================] - 39s 1ms/step - loss: 1.8827 - accuracy: 0.3398\n",
      "Epoch 72/100\n",
      "35932/35932 [==============================] - 40s 1ms/step - loss: 1.8827 - accuracy: 0.3400\n",
      "Epoch 73/100\n",
      "35932/35932 [==============================] - 34s 945us/step - loss: 1.8845 - accuracy: 0.3395\n",
      "Epoch 74/100\n"
     ]
    },
    {
     "name": "stdout",
     "output_type": "stream",
     "text": [
      "35932/35932 [==============================] - 36s 1ms/step - loss: 1.8849 - accuracy: 0.3399 0s - loss:\n",
      "Epoch 75/100\n",
      "35932/35932 [==============================] - 33s 927us/step - loss: 1.8821 - accuracy: 0.3402\n",
      "Epoch 76/100\n",
      "35932/35932 [==============================] - 33s 909us/step - loss: 1.8814 - accuracy: 0.3404\n",
      "Epoch 77/100\n",
      "35932/35932 [==============================] - 34s 955us/step - loss: 1.8817 - accuracy: 0.3404\n",
      "Epoch 78/100\n",
      "35932/35932 [==============================] - 33s 930us/step - loss: 1.8812 - accuracy: 0.3401\n",
      "Epoch 79/100\n",
      "35932/35932 [==============================] - 38s 1ms/step - loss: 1.8813 - accuracy: 0.3406\n",
      "Epoch 80/100\n",
      "35932/35932 [==============================] - 40s 1ms/step - loss: 1.8815 - accuracy: 0.3400\n",
      "Epoch 81/100\n",
      "35932/35932 [==============================] - 56s 2ms/step - loss: 1.8820 - accuracy: 0.3404\n",
      "Epoch 82/100\n",
      "35932/35932 [==============================] - 58s 2ms/step - loss: 1.8808 - accuracy: 0.3401\n",
      "Epoch 83/100\n",
      "35932/35932 [==============================] - 49s 1ms/step - loss: 1.8809 - accuracy: 0.3404\n",
      "Epoch 84/100\n",
      "35932/35932 [==============================] - 45s 1ms/step - loss: 1.8819 - accuracy: 0.3402\n",
      "Epoch 85/100\n",
      "35932/35932 [==============================] - 33s 913us/step - loss: 1.8800 - accuracy: 0.3405\n",
      "Epoch 86/100\n",
      "35932/35932 [==============================] - 38s 1ms/step - loss: 1.8806 - accuracy: 0.3407\n",
      "Epoch 87/100\n",
      "35932/35932 [==============================] - 33s 923us/step - loss: 1.8800 - accuracy: 0.3407\n",
      "Epoch 88/100\n",
      "35932/35932 [==============================] - 33s 917us/step - loss: 1.8804 - accuracy: 0.3406\n",
      "Epoch 89/100\n",
      "35932/35932 [==============================] - 33s 910us/step - loss: 1.8811 - accuracy: 0.3407\n",
      "Epoch 90/100\n",
      "35932/35932 [==============================] - 35s 962us/step - loss: 1.8803 - accuracy: 0.3407\n",
      "Epoch 91/100\n",
      "35932/35932 [==============================] - 34s 933us/step - loss: 1.8810 - accuracy: 0.3407\n",
      "Epoch 92/100\n",
      "35932/35932 [==============================] - 55s 2ms/step - loss: 1.8795 - accuracy: 0.3408\n",
      "Epoch 93/100\n",
      "35932/35932 [==============================] - 58s 2ms/step - loss: 1.8813 - accuracy: 0.3412\n",
      "Epoch 94/100\n",
      "35932/35932 [==============================] - 45s 1ms/step - loss: 1.8795 - accuracy: 0.3410\n",
      "Epoch 95/100\n",
      "35932/35932 [==============================] - 39s 1ms/step - loss: 1.8796 - accuracy: 0.3411\n",
      "Epoch 96/100\n",
      "35932/35932 [==============================] - 42s 1ms/step - loss: 1.8797 - accuracy: 0.3413 0s - loss: 1.8800 - accura - ETA: 0s - loss:\n",
      "Epoch 97/100\n",
      "35932/35932 [==============================] - 37s 1ms/step - loss: 1.8793 - accuracy: 0.3411\n",
      "Epoch 98/100\n",
      "35932/35932 [==============================] - 38s 1ms/step - loss: 1.8791 - accuracy: 0.3407\n",
      "Epoch 99/100\n",
      "35932/35932 [==============================] - 41s 1ms/step - loss: 1.8792 - accuracy: 0.3412\n",
      "Epoch 100/100\n",
      "35932/35932 [==============================] - 41s 1ms/step - loss: 1.8788 - accuracy: 0.3412\n"
     ]
    },
    {
     "data": {
      "text/plain": [
       "<tensorflow.python.keras.callbacks.History at 0x15c18951490>"
      ]
     },
     "execution_count": 100,
     "metadata": {},
     "output_type": "execute_result"
    }
   ],
   "source": [
    "# model definition\n",
    "model_comb = ml.Sequential()\n",
    "model_comb.add( l.Dense(128, input_dim=x_train_comb.shape[1], activation='relu') )\n",
    "model_comb.add( l.Dense(12, activation='softmax') )\n",
    "\n",
    "# model compile\n",
    "model_comb.compile(loss='categorical_crossentropy', optimizer='adam', metrics=['accuracy'])\n",
    "\n",
    "# train model\n",
    "model_comb.fit(x_train_comb, y_train_comb_nn, epochs=100)"
   ]
  },
  {
   "cell_type": "markdown",
   "id": "7e2efdd6",
   "metadata": {
    "ExecuteTime": {
     "end_time": "2022-03-09T02:32:36.774772Z",
     "start_time": "2022-03-09T02:32:36.732790Z"
    }
   },
   "source": [
    "#### 7.2.4.1. SMOTE + TOMEKLINK - Performance"
   ]
  },
  {
   "cell_type": "code",
   "execution_count": 111,
   "id": "ae999ad1",
   "metadata": {
    "ExecuteTime": {
     "end_time": "2022-03-16T15:42:29.937498Z",
     "start_time": "2022-03-16T15:42:19.524248Z"
    }
   },
   "outputs": [],
   "source": [
    "# prediction\n",
    "pred_comb_nn = model_comb.predict(x_test_comb)\n",
    "\n",
    "# invert prediction\n",
    "yhat_comb_nn = ohe_comb.inverse_transform(pred_comb_nn)\n",
    "\n",
    "# test dataset prepare with real results\n",
    "y_test_comb_nn = y_test_comb.to_numpy()\n",
    "yhat_comb_nn = yhat_comb_nn.reshape(1, -1)[0]"
   ]
  },
  {
   "cell_type": "code",
   "execution_count": 112,
   "id": "c9059ad9",
   "metadata": {
    "ExecuteTime": {
     "end_time": "2022-03-16T15:42:30.000497Z",
     "start_time": "2022-03-16T15:42:29.941505Z"
    }
   },
   "outputs": [
    {
     "data": {
      "text/plain": [
       "PT       0.127015\n",
       "AU       0.120725\n",
       "DE       0.120263\n",
       "NL       0.110195\n",
       "CA       0.103940\n",
       "IT       0.094704\n",
       "NDF      0.083401\n",
       "US       0.066971\n",
       "other    0.065266\n",
       "ES       0.049465\n",
       "GB       0.035310\n",
       "FR       0.022745\n",
       "dtype: float64"
      ]
     },
     "execution_count": 112,
     "metadata": {},
     "output_type": "execute_result"
    }
   ],
   "source": [
    "# check balanced results\n",
    "pd.DataFrame(yhat_comb_nn).value_counts(normalize=True)"
   ]
  },
  {
   "cell_type": "code",
   "execution_count": 113,
   "id": "37392137",
   "metadata": {
    "ExecuteTime": {
     "end_time": "2022-03-16T15:42:51.189508Z",
     "start_time": "2022-03-16T15:42:30.004502Z"
    }
   },
   "outputs": [
    {
     "name": "stdout",
     "output_type": "stream",
     "text": [
      "Accuracy: 0.3398213279342086\n",
      "Balanced Accuracy: 0.3400674801304327\n",
      "Kappa Score: 0.27979382744064274\n",
      "              precision    recall  f1-score   support\n",
      "\n",
      "          AU       0.38      0.55      0.45     23982\n",
      "          CA       0.21      0.26      0.23     24029\n",
      "          DE       0.24      0.34      0.28     23884\n",
      "          ES       0.18      0.11      0.14     24022\n",
      "          FR       0.18      0.05      0.08     23859\n",
      "          GB       0.17      0.07      0.10     24079\n",
      "          IT       0.16      0.18      0.17     23973\n",
      "         NDF       1.00      1.00      1.00     23911\n",
      "          NL       0.29      0.38      0.33     24285\n",
      "          PT       0.55      0.84      0.66     23794\n",
      "          US       0.21      0.17      0.19     23738\n",
      "       other       0.16      0.13      0.14     23898\n",
      "\n",
      "    accuracy                           0.34    287454\n",
      "   macro avg       0.31      0.34      0.31    287454\n",
      "weighted avg       0.31      0.34      0.31    287454\n",
      "\n"
     ]
    },
    {
     "data": {
      "image/png": "[encoded data removed]",
      "text/plain": [
       "<Figure size 864x864 with 2 Axes>"
      ]
     },
     "metadata": {
      "needs_background": "light"
     },
     "output_type": "display_data"
    }
   ],
   "source": [
    "# Accuracy\n",
    "acc_comb_nn = m.accuracy_score( y_test_comb_nn, yhat_comb_nn )\n",
    "print(f'Accuracy: {acc_comb_nn}')\n",
    "\n",
    "# Balanced Accuracy\n",
    "balanced_acc_comb_nn = m.balanced_accuracy_score(y_test_comb_nn, yhat_comb_nn)\n",
    "print(f'Balanced Accuracy: {balanced_acc_comb_nn}')\n",
    "\n",
    "# Kappa Metrics\n",
    "kappa_comb_nn = m.cohen_kappa_score(y_test_comb_nn, yhat_comb_nn)\n",
    "print(f'Kappa Score: {kappa_comb_nn}')\n",
    "\n",
    "# Classification report\n",
    "print(m.classification_report(y_test_comb_nn, yhat_comb_nn))\n",
    "\n",
    "# Confusion Matrix\n",
    "mt.plot_confusion_matrix( y_test_comb_nn, yhat_comb_nn, normalize=False, figsize=(12,12));"
   ]
  },
  {
   "cell_type": "markdown",
   "id": "91711a09",
   "metadata": {},
   "source": [
    "## 7.3. Neural Network Performance - Cross-Validation"
   ]
  },
  {
   "cell_type": "code",
   "execution_count": 114,
   "id": "8f35f3e2",
   "metadata": {
    "ExecuteTime": {
     "end_time": "2022-03-16T15:42:51.221522Z",
     "start_time": "2022-03-16T15:42:51.198504Z"
    }
   },
   "outputs": [],
   "source": [
    "# # generate k-fold\n",
    "# num_folds = 5\n",
    "# kfold = ms.StratifiedKFold( n_splits=num_folds, shuffle=True, random_state=32 )\n",
    "\n",
    "# balanced_acc_list = []\n",
    "\n",
    "# kappa_list = []\n",
    "\n",
    "# i = 1\n",
    "\n",
    "# for train_index, val_index in kfold.split( x_train, y_train ):\n",
    "#     print(f'Fold Number:{i}/{num_folds}')\n",
    "    \n",
    "#     # split data into training and test set\n",
    "#     x_train_cv = x_train.iloc[train_index]\n",
    "#     y_train_cv = y_train.iloc[train_index]\n",
    "    \n",
    "#     x_validation_cv = x_train.iloc[val_index]\n",
    "#     y_validation_cv = y_train.iloc[val_index]\n",
    "    \n",
    "#     # encoding response variable\n",
    "#     ohe = pp.OneHotEncoder()\n",
    "\n",
    "#     y_train_cv_nn = ohe.fit_transform(y_train_cv.values.reshape(-1, 1)).toarray()\n",
    "\n",
    "#     # model definition\n",
    "#     model = ml.Sequential()\n",
    "#     model.add( l.Dense(128, input_dim=x_train_cv.shape[1], activation='relu') )\n",
    "#     model.add( l.Dense(12, activation='softmax') )\n",
    "\n",
    "#     # model compile\n",
    "#     model.compile(loss='categorical_crossentropy', optimizer='adam', metrics=['accuracy'])\n",
    "\n",
    "#     # train model\n",
    "#     model.fit(x_train_cv, y_train_cv_nn, epochs=100, batch_size=32, verbose=0)\n",
    "\n",
    "#     # prediction\n",
    "#     pred_cv_nn = model.predict(x_validation_cv)\n",
    "\n",
    "#     # invert prediction\n",
    "#     yhat_cv_nn = ohe.inverse_transform(pred_cv_nn)\n",
    "\n",
    "#     # test dataset prepare with real results\n",
    "#     y_test_cv_nn = y_validation_cv.to_numpy()\n",
    "#     yhat_cv_nn = yhat_cv_nn.reshape(1, -1)[0]\n",
    "    \n",
    "#     # performance metrics \n",
    "#     # Balanced Accuracy\n",
    "#     balanced_acc_nn = m.balanced_accuracy_score(y_test_cv_nn, yhat_cv_nn)\n",
    "#     balanced_acc_list.append(balanced_acc_nn)\n",
    "\n",
    "#     # Kappa Metrics\n",
    "#     kappa_nn = m.cohen_kappa_score(y_test_cv_nn, yhat_cv_nn)\n",
    "#     kappa_list.append(kappa_nn)\n",
    "    \n",
    "#     i += 1"
   ]
  },
  {
   "cell_type": "code",
   "execution_count": 115,
   "id": "da7a4455",
   "metadata": {
    "ExecuteTime": {
     "end_time": "2022-03-16T15:42:51.237511Z",
     "start_time": "2022-03-16T15:42:51.223500Z"
    }
   },
   "outputs": [],
   "source": [
    "# print(f'Avg Balanced Accuracy: {np.round(np.mean(balanced_acc_list), 2)} +/- {np.round(np.std(balanced_acc_list),5)}')\n",
    "# print(f'Avg Kappa Score: {np.round(np.mean(kappa_list), 2)} +/- {np.round(np.std(kappa_list), 4)}')"
   ]
  },
  {
   "cell_type": "markdown",
   "id": "dec46b91",
   "metadata": {},
   "source": [
    "# 8.0. Hyper Parameter Tuning\n",
    "\n",
    "Hyper Parameter Tuning will not be considered until the most optimal machine learning model is selected, at this first cycle was considered only one model to complete the cycle and go through for all the major phases to validate the feasibility of the project."
   ]
  },
  {
   "cell_type": "code",
   "execution_count": null,
   "id": "2033ffaa",
   "metadata": {},
   "outputs": [],
   "source": []
  },
  {
   "cell_type": "markdown",
   "id": "caddd600",
   "metadata": {},
   "source": [
    "# 9.0. Error Translation and Interpretation"
   ]
  },
  {
   "cell_type": "markdown",
   "id": "cc98a2dd",
   "metadata": {},
   "source": [
    "## 9.2. Neural Network Performance"
   ]
  },
  {
   "cell_type": "code",
   "execution_count": null,
   "id": "d2005058",
   "metadata": {},
   "outputs": [],
   "source": []
  },
  {
   "cell_type": "markdown",
   "id": "2d632718",
   "metadata": {},
   "source": [
    "# 10.0. Deploy Model\n",
    "\n",
    "No models will be deployed yet."
   ]
  },
  {
   "cell_type": "code",
   "execution_count": null,
   "id": "a610263d",
   "metadata": {},
   "outputs": [],
   "source": []
  },
  {
   "cell_type": "markdown",
   "id": "f1f2c1d6",
   "metadata": {},
   "source": [
    "# Result"
   ]
  },
  {
   "cell_type": "markdown",
   "id": "1a047f32",
   "metadata": {},
   "source": [
    "The use of sampling methods to handle the imbalanced dataset did not yield positive results in the model's performance metrics.\n",
    "\n",
    "The use of 3 mechanisms to obtain a balanced distribution of classes was considered, including Random Undersampling, Random Oversampling and a synthetic sampling with data generation (SMOTE + Tomek links).\n",
    "\n",
    "The balanced datasets showed similar results to each other and little difference to the previous cycle, with only the Kappa Score much lower(0.70 to 0.09).\n",
    "\n",
    "The only difference observed was in the distribution of classes in the prediction data, with a greater plurality, previously concentrated between the two marjority classes (NDF and US)."
   ]
  }
 ],
 "metadata": {
  "kernelspec": {
   "display_name": "Python 3 (ipykernel)",
   "language": "python",
   "name": "python3"
  },
  "language_info": {
   "codemirror_mode": {
    "name": "ipython",
    "version": 3
   },
   "file_extension": ".py",
   "mimetype": "text/x-python",
   "name": "python",
   "nbconvert_exporter": "python",
   "pygments_lexer": "ipython3",
   "version": "3.8.12"
  },
  "varInspector": {
   "cols": {
    "lenName": 16,
    "lenType": 16,
    "lenVar": 40
   },
   "kernels_config": {
    "python": {
     "delete_cmd_postfix": "",
     "delete_cmd_prefix": "del ",
     "library": "var_list.py",
     "varRefreshCmd": "print(var_dic_list())"
    },
    "r": {
     "delete_cmd_postfix": ") ",
     "delete_cmd_prefix": "rm(",
     "library": "var_list.r",
     "varRefreshCmd": "cat(var_dic_list()) "
    }
   },
   "types_to_exclude": [
    "module",
    "function",
    "builtin_function_or_method",
    "instance",
    "_Feature"
   ],
   "window_display": false
  }
 },
 "nbformat": 4,
 "nbformat_minor": 5
}
